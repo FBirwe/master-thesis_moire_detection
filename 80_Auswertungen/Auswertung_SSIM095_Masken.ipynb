{
 "cells": [
  {
   "cell_type": "code",
   "execution_count": 1,
   "id": "0aa4b79b-89f5-460e-8a63-bb74ab43e8ab",
   "metadata": {},
   "outputs": [],
   "source": [
    "import sys\n",
    "sys.path.append('../30_data_tools/')"
   ]
  },
  {
   "cell_type": "code",
   "execution_count": 2,
   "id": "e2d8599b-02d0-490f-a652-c9076568f535",
   "metadata": {},
   "outputs": [],
   "source": [
    "from helper import load_dotenv\n",
    "from get_labelstudio_data import get_results_of_project\n",
    "import sqlite3\n",
    "import pandas as pd"
   ]
  },
  {
   "cell_type": "code",
   "execution_count": 3,
   "id": "6b206868-8027-4ef1-9fda-3d9a332b04b0",
   "metadata": {},
   "outputs": [],
   "source": [
    "dotenv = load_dotenv()"
   ]
  },
  {
   "cell_type": "code",
   "execution_count": 4,
   "id": "b5436a01-642e-4f99-a4d0-1ab6d5bb97b6",
   "metadata": {},
   "outputs": [],
   "source": [
    "with sqlite3.connect( dotenv['DB_PATH'] ) as con:\n",
    "    data = pd.merge(\n",
    "        pd.read_sql(\n",
    "            '''\n",
    "                SELECT * FROM mask\n",
    "                WHERE ssim > 0.95\n",
    "            ''',\n",
    "            con\n",
    "        ),\n",
    "        pd.DataFrame(\n",
    "            [(r['id'],r['labels'][0]) for r in get_results_of_project(2) if 'id' in r]\n",
    "        ).rename(columns={0:'mask_id',1:'label'}),\n",
    "        how=\"left\",\n",
    "        on=['mask_id']\n",
    "    )"
   ]
  },
  {
   "cell_type": "code",
   "execution_count": 5,
   "id": "9f57166f-d0e3-425c-82a2-90691dde1b86",
   "metadata": {},
   "outputs": [
    {
     "data": {
      "text/plain": [
       "checked_no_moire    96\n",
       "Name: label, dtype: int64"
      ]
     },
     "execution_count": 5,
     "metadata": {},
     "output_type": "execute_result"
    }
   ],
   "source": [
    "data.loc[\n",
    "    pd.isna(data.label) == False\n",
    "].label.value_counts()"
   ]
  },
  {
   "cell_type": "markdown",
   "id": "5043453f-fb14-4847-ae53-53524675611b",
   "metadata": {},
   "source": [
    "Es konnte exemplarisch gezeigt werden, dass 100% der Masken mit einer SSIM > 0.95 keine Moirés enthalten."
   ]
  }
 ],
 "metadata": {
  "kernelspec": {
   "display_name": "Python 3 (ipykernel)",
   "language": "python",
   "name": "python3"
  },
  "language_info": {
   "codemirror_mode": {
    "name": "ipython",
    "version": 3
   },
   "file_extension": ".py",
   "mimetype": "text/x-python",
   "name": "python",
   "nbconvert_exporter": "python",
   "pygments_lexer": "ipython3",
   "version": "3.10.11"
  }
 },
 "nbformat": 4,
 "nbformat_minor": 5
}
