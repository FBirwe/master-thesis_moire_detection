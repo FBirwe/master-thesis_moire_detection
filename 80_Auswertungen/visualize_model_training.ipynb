{
 "cells": [
  {
   "cell_type": "code",
   "execution_count": 1,
   "id": "6fb6cf6a-7c72-464f-88e7-5b7feb7df005",
   "metadata": {},
   "outputs": [],
   "source": [
    "import sys\n",
    "sys.path.append('../30_data_tools/')"
   ]
  },
  {
   "cell_type": "code",
   "execution_count": 2,
   "id": "fb5d2960-06d8-40ea-a3ea-c91905eb63af",
   "metadata": {},
   "outputs": [],
   "source": [
    "import plotly.express as px\n",
    "import json\n",
    "from datetime import datetime\n",
    "import pandas as pd"
   ]
  },
  {
   "cell_type": "code",
   "execution_count": 3,
   "id": "8ef31940-5c6d-4fb8-9c6e-b3f636178f97",
   "metadata": {},
   "outputs": [],
   "source": [
    "from file_interaction import download_blob, get_blobs\n",
    "import plotly.graph_objects as go"
   ]
  },
  {
   "cell_type": "code",
   "execution_count": 4,
   "id": "8689f847-cb99-4113-a579-9d309154108c",
   "metadata": {},
   "outputs": [
    {
     "data": {
      "text/plain": [
       "['train_logs/2024-04-02_resnet50.json',\n",
       " 'train_logs/2024-04-02_resnet50_001.json',\n",
       " 'train_logs/2024-04-02_resnet50_002.json',\n",
       " 'train_logs/2024-04-03_resnet50_001.json',\n",
       " 'train_logs/2024-04-03_resnet50_002.json',\n",
       " 'train_logs/2024-04-03_resnet50_003.json',\n",
       " 'train_logs/2024-04-03_resnet50_004.json',\n",
       " 'train_logs/2024-04-03_resnet50_005.json',\n",
       " 'train_logs/2024-04-03_resnet50_006.json',\n",
       " 'train_logs/2024-04-03_resnet50_007.json',\n",
       " 'train_logs/2024-04-11_resnet50_001.json',\n",
       " 'train_logs/2024-04-11_resnet50_002.json',\n",
       " 'train_logs/2024-04-11_resnet50_003.json',\n",
       " 'train_logs/2024-04-12_resnet50_001.json',\n",
       " 'train_logs/2024-04-12_resnet50_002.json',\n",
       " 'train_logs/2024-04-12_resnet50_003.json',\n",
       " 'train_logs/2024-04-12_resnet50_004.json',\n",
       " 'train_logs/2024-04-12_resnet50_005.json',\n",
       " 'train_logs/2024-04-12_resnet50_006.json',\n",
       " 'train_logs/2024-04-12_resnet50_007.json',\n",
       " 'train_logs/2024-04-12_resnet50_008.json',\n",
       " 'train_logs/2024-04-12_resnet50_009.json',\n",
       " 'train_logs/2024-04-12_resnet50_010.json',\n",
       " 'train_logs/2024-04-12_resnet50_011.json',\n",
       " 'train_logs/2024-04-12_resnet50_012.json',\n",
       " 'train_logs/2024-04-12_resnet50_013.json',\n",
       " 'train_logs/2024-04-12_resnet50_014.json',\n",
       " 'train_logs/2024-04-12_resnet50_015.json',\n",
       " 'train_logs/2024-04-13_FFCRestnet50_001.json',\n",
       " 'train_logs/2024-04-13_FFCRestnet50_002.json',\n",
       " 'train_logs/2024-04-13_FFCRestnet50_003.json',\n",
       " 'train_logs/2024-04-13_FFCRestnet50_004.json',\n",
       " 'train_logs/2024-04-13_FFCRestnet50_005.json',\n",
       " 'train_logs/2024-04-13_FFCRestnet50_006.json',\n",
       " 'train_logs/2024-04-13_FFCRestnet50_007.json',\n",
       " 'train_logs/2024-04-13_FFCRestnet50_008.json',\n",
       " 'train_logs/2024-04-13_FFCRestnet50_009.json',\n",
       " 'train_logs/2024-04-13_FFCRestnet50_010.json',\n",
       " 'train_logs/2024-04-13_FFCRestnet50_011.json',\n",
       " 'train_logs/2024-04-13_FFCRestnet50_012.json',\n",
       " 'train_logs/2024-04-13_FFCRestnet50_013.json',\n",
       " 'train_logs/2024-04-13_FFCRestnet50_014.json',\n",
       " 'train_logs/2024-04-13_FFCRestnet50_015.json',\n",
       " 'train_logs/2024-04-13_FFCRestnet50_016.json',\n",
       " 'train_logs/2024-04-13_FFCRestnet50_017.json',\n",
       " 'train_logs/2024-04-13_FFCRestnet50_018.json',\n",
       " 'train_logs/2024-04-13_FFCRestnet50_019.json',\n",
       " 'train_logs/2024-04-13_FFCRestnet50_020.json',\n",
       " 'train_logs/2024-04-13_FFCRestnet50_021.json',\n",
       " 'train_logs/2024-04-13_FFCRestnet50_022.json',\n",
       " 'train_logs/2024-04-13_MobileNetV3_001.json',\n",
       " 'train_logs/2024-04-13_MobileNetV3_002.json',\n",
       " 'train_logs/2024-04-13_MobileNetV3_003.json',\n",
       " 'train_logs/2024-04-25_Resnet50_001.json']"
      ]
     },
     "execution_count": 4,
     "metadata": {},
     "output_type": "execute_result"
    }
   ],
   "source": [
    "available_experiments = get_blobs(filter='train_logs/')\n",
    "available_experiments"
   ]
  },
  {
   "cell_type": "code",
   "execution_count": 5,
   "id": "d6372375-5e56-4afb-9bf5-6f50969ef2d2",
   "metadata": {},
   "outputs": [],
   "source": [
    "def load_experiment( experiment_name ):\n",
    "    json_buffer = download_blob( f'train_logs/{ experiment_name }.json' )\n",
    "    data = json.loads( json_buffer.getvalue() )\n",
    "    data['start_timestamp'] = datetime.fromisoformat(data['start_timestamp'])\n",
    "\n",
    "    if 'end_timestamp' in data:\n",
    "        data['end_timestamp'] = datetime.fromisoformat(data['end_timestamp'])\n",
    "\n",
    "    for t in data['tracked_metrics']:\n",
    "        t['timestamp'] = datetime.fromisoformat(t['timestamp'])\n",
    "        t['value'] = float(t['value'])\n",
    "    \n",
    "    return data"
   ]
  },
  {
   "cell_type": "code",
   "execution_count": 6,
   "id": "3eaa8289-3bb4-4e1b-85e7-07fd7f0d0163",
   "metadata": {},
   "outputs": [],
   "source": [
    "def get_figure( data, metric_name, mode ):\n",
    "    fig = px.line(\n",
    "        x=data.loc[(data.metric_name == metric_name) &  (data['mode'] == mode)].step,\n",
    "        y=data.loc[(data.metric_name == metric_name) &  (data['mode'] == mode)].value,\n",
    "        color=data.loc[(data.metric_name == metric_name) &  (data['mode'] == mode)].epoch\n",
    "    )\n",
    "    #fig.update_layout(yaxis_range=[0,1])\n",
    "    \n",
    "    return fig"
   ]
  },
  {
   "cell_type": "code",
   "execution_count": 7,
   "id": "012f67fc-33bb-40d3-ac09-2664ce292540",
   "metadata": {},
   "outputs": [],
   "source": [
    "experiment_name = '2024-04-25_Resnet50_001'\n",
    "experiment_data = load_experiment( experiment_name )\n",
    "data = pd.DataFrame.from_dict(experiment_data['tracked_metrics'])"
   ]
  },
  {
   "cell_type": "code",
   "execution_count": 8,
   "id": "2eaf9a8c-1358-434a-834a-98b4a6eaf9de",
   "metadata": {},
   "outputs": [
    {
     "data": {
      "text/plain": [
       "{'epochs': 25,\n",
       " 'learning_rate': 0.005,\n",
       " 'batch_size': 64,\n",
       " 'loss_function': 'CrossEntropyLoss',\n",
       " 'metric_functions': ['MulticlassAccuracy',\n",
       "  'MulticlassRecall',\n",
       "  'MulticlassPrecision'],\n",
       " 'optimizer': 'SGD',\n",
       " 'device': 'cuda'}"
      ]
     },
     "execution_count": 8,
     "metadata": {},
     "output_type": "execute_result"
    }
   ],
   "source": [
    "experiment_data['hyper_parameters']"
   ]
  },
  {
   "cell_type": "code",
   "execution_count": null,
   "id": "9e471a92-c637-4219-8d35-fd713e616ed0",
   "metadata": {},
   "outputs": [],
   "source": [
    "rel_data_train = data.loc[data['mode'] == 'train'].copy()\n",
    "rel_data_train.loc[:,'step_total'] = (rel_data_train.epoch - 1) * rel_data_train.step.max() + rel_data_train.step\n",
    "\n",
    "grouped_train = rel_data_train.loc[\n",
    "    :,\n",
    "    ['metric_name','step_total','value']\n",
    "].groupby(['metric_name','step_total']).first().unstack('metric_name')\n",
    "\n",
    "grouped_train.columns = [c[1] for c in grouped_train.columns]"
   ]
  },
  {
   "cell_type": "code",
   "execution_count": null,
   "id": "544038b3-10af-49df-93d9-05fb67a8545b",
   "metadata": {},
   "outputs": [],
   "source": [
    "px.line(\n",
    "    grouped_train\n",
    ")"
   ]
  },
  {
   "cell_type": "code",
   "execution_count": null,
   "id": "7b10165e-aef7-4ccd-bf40-0f0e83017000",
   "metadata": {},
   "outputs": [],
   "source": [
    "rel_data_val = data.loc[data['mode'] == 'val'].copy()\n",
    "rel_data_val.loc[:,'step_total'] = (rel_data_val.epoch - 1) * rel_data_val.step.max() + rel_data_val.step\n",
    "\n",
    "grouped_val = rel_data_val.loc[\n",
    "    :,\n",
    "    ['metric_name','step_total','value']\n",
    "].groupby(['metric_name','step_total']).first().unstack('metric_name')\n",
    "\n",
    "grouped_val.columns = [c[1] for c in grouped_val.columns]"
   ]
  },
  {
   "cell_type": "code",
   "execution_count": null,
   "id": "84227919-fec3-4342-9a05-98d25be29baf",
   "metadata": {},
   "outputs": [],
   "source": [
    "(grouped_val.loss.iloc[-1] - grouped_val.loss.iloc[0]) / grouped_val.shape[0]"
   ]
  },
  {
   "cell_type": "code",
   "execution_count": null,
   "id": "ac29c1b0-eda2-491e-8d76-5d2b3a0c8039",
   "metadata": {},
   "outputs": [],
   "source": [
    "px.line(\n",
    "    grouped_val\n",
    ")"
   ]
  },
  {
   "cell_type": "code",
   "execution_count": null,
   "id": "4180575b-fad5-4b9d-9d4c-548953ff9f04",
   "metadata": {},
   "outputs": [],
   "source": [
    "get_figure(\n",
    "    data,\n",
    "    'loss',\n",
    "    'train'\n",
    ")"
   ]
  },
  {
   "cell_type": "code",
   "execution_count": null,
   "id": "f3174ca8-8e00-4718-af1e-9fd1b564a800",
   "metadata": {},
   "outputs": [],
   "source": [
    "get_figure(\n",
    "    data,\n",
    "    'loss',\n",
    "    'val'\n",
    ")"
   ]
  },
  {
   "cell_type": "code",
   "execution_count": null,
   "id": "71f262b3-304c-4811-956f-fdf6960a665c",
   "metadata": {},
   "outputs": [],
   "source": [
    "get_figure(\n",
    "    data,\n",
    "    'accuracy',\n",
    "    'val'\n",
    ")"
   ]
  },
  {
   "cell_type": "code",
   "execution_count": null,
   "id": "803362e1-2bce-418c-8d4d-a1de0d74b9f4",
   "metadata": {},
   "outputs": [],
   "source": [
    "get_figure(\n",
    "    data,\n",
    "    'recall',\n",
    "    'val'\n",
    ")"
   ]
  },
  {
   "cell_type": "code",
   "execution_count": null,
   "id": "dfc3e751-738d-4b78-96fe-02a8fe047835",
   "metadata": {},
   "outputs": [],
   "source": [
    "get_figure(\n",
    "    data,\n",
    "    'precision',\n",
    "    'val'\n",
    ")"
   ]
  }
 ],
 "metadata": {
  "kernelspec": {
   "display_name": "Python 3 (ipykernel)",
   "language": "python",
   "name": "python3"
  },
  "language_info": {
   "codemirror_mode": {
    "name": "ipython",
    "version": 3
   },
   "file_extension": ".py",
   "mimetype": "text/x-python",
   "name": "python",
   "nbconvert_exporter": "python",
   "pygments_lexer": "ipython3",
   "version": "3.10.11"
  }
 },
 "nbformat": 4,
 "nbformat_minor": 5
}
