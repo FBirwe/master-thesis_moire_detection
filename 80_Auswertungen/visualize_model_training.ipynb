{
 "cells": [
  {
   "cell_type": "code",
   "execution_count": 1,
   "id": "6fb6cf6a-7c72-464f-88e7-5b7feb7df005",
   "metadata": {},
   "outputs": [],
   "source": [
    "import sys\n",
    "sys.path.append('../30_data_tools/')"
   ]
  },
  {
   "cell_type": "code",
   "execution_count": 2,
   "id": "fb5d2960-06d8-40ea-a3ea-c91905eb63af",
   "metadata": {},
   "outputs": [],
   "source": [
    "import plotly.express as px\n",
    "import json\n",
    "from datetime import datetime\n",
    "import pandas as pd"
   ]
  },
  {
   "cell_type": "code",
   "execution_count": 3,
   "id": "8ef31940-5c6d-4fb8-9c6e-b3f636178f97",
   "metadata": {},
   "outputs": [],
   "source": [
    "from file_interaction import download_blob, get_blobs\n",
    "import plotly.graph_objects as go"
   ]
  },
  {
   "cell_type": "code",
   "execution_count": 102,
   "id": "8689f847-cb99-4113-a579-9d309154108c",
   "metadata": {},
   "outputs": [
    {
     "data": {
      "text/plain": [
       "['train_logs/2024-05-10_Resnet50_001.json',\n",
       " 'train_logs/2024-05-10_Resnet50_002.json',\n",
       " 'train_logs/2024-05-10_Resnet50_003.json',\n",
       " 'train_logs/2024-05-10_Resnet50_004.json',\n",
       " 'train_logs/2024-05-10_Resnet50_005.json',\n",
       " 'train_logs/2024-05-10_Resnet50_006.json',\n",
       " 'train_logs/2024-05-12_MobileNetV3_001.json',\n",
       " 'train_logs/2024-05-12_MobileNetV3_002.json',\n",
       " 'train_logs/2024-05-12_MobileNetV3_003.json',\n",
       " 'train_logs/2024-05-13_MobileNetV3_001.json']"
      ]
     },
     "execution_count": 102,
     "metadata": {},
     "output_type": "execute_result"
    }
   ],
   "source": [
    "available_experiments = get_blobs(filter='train_logs/')\n",
    "available_experiments[-10:]"
   ]
  },
  {
   "cell_type": "code",
   "execution_count": 5,
   "id": "d6372375-5e56-4afb-9bf5-6f50969ef2d2",
   "metadata": {
    "jupyter": {
     "source_hidden": true
    }
   },
   "outputs": [],
   "source": [
    "def load_experiment( experiment_name ):\n",
    "    json_buffer = download_blob( f'train_logs/{ experiment_name }.json' )\n",
    "    data = json.loads( json_buffer.getvalue() )\n",
    "    data['start_timestamp'] = datetime.fromisoformat(data['start_timestamp'])\n",
    "\n",
    "    if 'end_timestamp' in data:\n",
    "        data['end_timestamp'] = datetime.fromisoformat(data['end_timestamp'])\n",
    "\n",
    "    for t in data['tracked_metrics']:\n",
    "        t['timestamp'] = datetime.fromisoformat(t['timestamp'])\n",
    "        t['value'] = float(t['value'])\n",
    "    \n",
    "    return data"
   ]
  },
  {
   "cell_type": "code",
   "execution_count": 6,
   "id": "3d2dc533-393b-4426-81da-0a69a837b882",
   "metadata": {},
   "outputs": [],
   "source": [
    "def get_metric_figure( data, metric_name='loss' ):\n",
    "    fig = go.Figure()\n",
    "    max_step = data.loc[data.metric_name == metric_name].step.max()\n",
    "\n",
    "    for dataset in data.dataset.unique():\n",
    "        selection = data.loc[\n",
    "            (data.metric_name == metric_name) &\n",
    "            (data.dataset == dataset)\n",
    "        ]\n",
    "        step_size = max_step / selection.step.max()\n",
    "        \n",
    "        keys = round(selection.step * step_size + (selection.epoch - 1) * step_size * selection.step.max()).to_numpy()\n",
    "        \n",
    "        values = data.loc[\n",
    "            (data.metric_name == metric_name) &\n",
    "            (data.dataset == dataset)\n",
    "        ].value.to_numpy()\n",
    "\n",
    "        fig.add_trace(go.Scatter(\n",
    "            x=keys, #[i for i in range(values.shape[0])],\n",
    "            y=values,\n",
    "            mode=\"lines\",\n",
    "            name=dataset\n",
    "        ))\n",
    "    \n",
    "    fig.update_layout(yaxis_range=[0,1])\n",
    "    fig.update_layout(legend={'orientation':'h'})\n",
    "\n",
    "    return fig"
   ]
  },
  {
   "cell_type": "code",
   "execution_count": 7,
   "id": "3eaa8289-3bb4-4e1b-85e7-07fd7f0d0163",
   "metadata": {
    "jupyter": {
     "source_hidden": true
    }
   },
   "outputs": [],
   "source": [
    "def get_figure( data, metric_name, mode ):\n",
    "    fig = px.line(\n",
    "        x=data.loc[(data.metric_name == metric_name) &  (data['mode'] == mode)].step,\n",
    "        y=data.loc[(data.metric_name == metric_name) &  (data['mode'] == mode)].value,\n",
    "        color=data.loc[(data.metric_name == metric_name) &  (data['mode'] == mode)].epoch\n",
    "    )\n",
    "    #fig.update_layout(yaxis_range=[0,1])\n",
    "    \n",
    "    return fig"
   ]
  },
  {
   "cell_type": "code",
   "execution_count": null,
   "id": "56c6718b-3e79-4627-99cb-ccce7d110f52",
   "metadata": {},
   "outputs": [],
   "source": [
    "get_metric_figure( data )"
   ]
  },
  {
   "cell_type": "code",
   "execution_count": 100,
   "id": "012f67fc-33bb-40d3-ac09-2664ce292540",
   "metadata": {},
   "outputs": [
    {
     "data": {
      "text/plain": [
       "{'dataset_name': '24-05-09_001_tile_dataset',\n",
       " 'data_type': 'frequency',\n",
       " 'epochs': 10,\n",
       " 'learning_rate': 0.001,\n",
       " 'batch_size': 64,\n",
       " 'loss_function': 'CrossEntropyLoss',\n",
       " 'metric_functions': ['MulticlassAccuracy',\n",
       "  'MulticlassRecall',\n",
       "  'MulticlassPrecision'],\n",
       " 'optimizer': 'adam',\n",
       " 'device': 'cuda'}"
      ]
     },
     "execution_count": 100,
     "metadata": {},
     "output_type": "execute_result"
    }
   ],
   "source": [
    "experiment_name = '2024-05-10_Resnet50_006'\n",
    "experiment_data = load_experiment( experiment_name )\n",
    "data = pd.DataFrame.from_dict(experiment_data['tracked_metrics'])\n",
    "\n",
    "experiment_data['hyper_parameters']"
   ]
  },
  {
   "cell_type": "code",
   "execution_count": 101,
   "id": "65884cb8-bd09-43d6-ad53-ac441b91df84",
   "metadata": {},
   "outputs": [
    {
     "name": "stderr",
     "output_type": "stream",
     "text": [
      "/var/folders/ns/b_3z05zx1bz71dzh3qcvtpyh0000gq/T/ipykernel_92144/3992092918.py:6: FutureWarning:\n",
      "\n",
      "The default value of numeric_only in DataFrameGroupBy.mean is deprecated. In a future version, numeric_only will default to False. Either specify numeric_only or select only columns which should be valid for the function.\n",
      "\n"
     ]
    },
    {
     "data": {
      "text/html": [
       "<div>\n",
       "<style scoped>\n",
       "    .dataframe tbody tr th:only-of-type {\n",
       "        vertical-align: middle;\n",
       "    }\n",
       "\n",
       "    .dataframe tbody tr th {\n",
       "        vertical-align: top;\n",
       "    }\n",
       "\n",
       "    .dataframe thead th {\n",
       "        text-align: right;\n",
       "    }\n",
       "</style>\n",
       "<table border=\"1\" class=\"dataframe\">\n",
       "  <thead>\n",
       "    <tr style=\"text-align: right;\">\n",
       "      <th></th>\n",
       "      <th></th>\n",
       "      <th>value</th>\n",
       "      <th>step</th>\n",
       "    </tr>\n",
       "    <tr>\n",
       "      <th>dataset</th>\n",
       "      <th>epoch</th>\n",
       "      <th></th>\n",
       "      <th></th>\n",
       "    </tr>\n",
       "  </thead>\n",
       "  <tbody>\n",
       "    <tr>\n",
       "      <th rowspan=\"5\" valign=\"top\">real_val</th>\n",
       "      <th>1</th>\n",
       "      <td>0.654986</td>\n",
       "      <td>5.416667</td>\n",
       "    </tr>\n",
       "    <tr>\n",
       "      <th>2</th>\n",
       "      <td>0.687671</td>\n",
       "      <td>5.416667</td>\n",
       "    </tr>\n",
       "    <tr>\n",
       "      <th>3</th>\n",
       "      <td>0.665458</td>\n",
       "      <td>5.416667</td>\n",
       "    </tr>\n",
       "    <tr>\n",
       "      <th>4</th>\n",
       "      <td>0.630879</td>\n",
       "      <td>5.416667</td>\n",
       "    </tr>\n",
       "    <tr>\n",
       "      <th>5</th>\n",
       "      <td>0.677044</td>\n",
       "      <td>5.416667</td>\n",
       "    </tr>\n",
       "    <tr>\n",
       "      <th rowspan=\"6\" valign=\"top\">train</th>\n",
       "      <th>1</th>\n",
       "      <td>0.489236</td>\n",
       "      <td>101.995122</td>\n",
       "    </tr>\n",
       "    <tr>\n",
       "      <th>2</th>\n",
       "      <td>0.454814</td>\n",
       "      <td>101.995122</td>\n",
       "    </tr>\n",
       "    <tr>\n",
       "      <th>3</th>\n",
       "      <td>0.451715</td>\n",
       "      <td>101.995122</td>\n",
       "    </tr>\n",
       "    <tr>\n",
       "      <th>4</th>\n",
       "      <td>0.436119</td>\n",
       "      <td>101.995122</td>\n",
       "    </tr>\n",
       "    <tr>\n",
       "      <th>5</th>\n",
       "      <td>0.433104</td>\n",
       "      <td>101.995122</td>\n",
       "    </tr>\n",
       "    <tr>\n",
       "      <th>6</th>\n",
       "      <td>0.426651</td>\n",
       "      <td>41.000000</td>\n",
       "    </tr>\n",
       "    <tr>\n",
       "      <th rowspan=\"5\" valign=\"top\">val</th>\n",
       "      <th>1</th>\n",
       "      <td>0.491306</td>\n",
       "      <td>11.458333</td>\n",
       "    </tr>\n",
       "    <tr>\n",
       "      <th>2</th>\n",
       "      <td>0.482045</td>\n",
       "      <td>11.458333</td>\n",
       "    </tr>\n",
       "    <tr>\n",
       "      <th>3</th>\n",
       "      <td>0.485596</td>\n",
       "      <td>11.458333</td>\n",
       "    </tr>\n",
       "    <tr>\n",
       "      <th>4</th>\n",
       "      <td>0.469757</td>\n",
       "      <td>11.458333</td>\n",
       "    </tr>\n",
       "    <tr>\n",
       "      <th>5</th>\n",
       "      <td>0.467917</td>\n",
       "      <td>11.458333</td>\n",
       "    </tr>\n",
       "  </tbody>\n",
       "</table>\n",
       "</div>"
      ],
      "text/plain": [
       "                   value        step\n",
       "dataset  epoch                      \n",
       "real_val 1      0.654986    5.416667\n",
       "         2      0.687671    5.416667\n",
       "         3      0.665458    5.416667\n",
       "         4      0.630879    5.416667\n",
       "         5      0.677044    5.416667\n",
       "train    1      0.489236  101.995122\n",
       "         2      0.454814  101.995122\n",
       "         3      0.451715  101.995122\n",
       "         4      0.436119  101.995122\n",
       "         5      0.433104  101.995122\n",
       "         6      0.426651   41.000000\n",
       "val      1      0.491306   11.458333\n",
       "         2      0.482045   11.458333\n",
       "         3      0.485596   11.458333\n",
       "         4      0.469757   11.458333\n",
       "         5      0.467917   11.458333"
      ]
     },
     "execution_count": 101,
     "metadata": {},
     "output_type": "execute_result"
    }
   ],
   "source": [
    "data.loc[\n",
    "    data.metric_name == 'loss'\n",
    "].groupby([\n",
    "    'dataset',\n",
    "    'epoch'\n",
    "]).mean()"
   ]
  },
  {
   "cell_type": "code",
   "execution_count": 95,
   "id": "8286a073-c1a4-4478-b1a8-1f64ae7f5d44",
   "metadata": {},
   "outputs": [
    {
     "data": {
      "application/vnd.plotly.v1+json": {
       "config": {
        "plotlyServerURL": "https://plot.ly"
       },
       "data": [
        {
         "mode": "lines",
         "name": "train",
         "type": "scatter",
         "x": [
          0,
          1,
          2,
          3,
          4,
          5,
          6,
          7,
          8,
          9,
          10,
          11,
          12,
          13,
          14,
          15,
          16,
          17,
          18,
          19,
          20,
          21,
          22,
          23,
          24,
          25,
          26,
          27,
          28,
          29,
          30,
          31,
          32,
          33,
          34,
          35,
          36,
          37,
          38,
          39,
          40,
          41,
          42,
          43,
          44,
          45,
          46,
          47,
          48,
          49,
          50,
          51,
          52,
          53,
          54,
          55,
          56,
          57,
          58,
          59,
          60,
          61,
          62,
          63,
          64,
          65,
          66,
          67,
          68,
          69,
          70,
          71,
          72,
          73,
          74,
          75,
          76,
          77,
          78,
          79,
          80,
          81,
          82,
          83,
          84,
          85,
          86,
          87,
          88,
          89,
          90,
          91,
          92,
          93,
          94,
          95,
          96,
          97,
          98,
          99,
          100,
          101,
          102,
          103,
          104,
          105,
          106,
          107,
          108,
          109,
          110,
          111,
          112,
          113,
          114,
          115,
          116,
          117,
          118,
          119,
          120,
          121,
          122,
          123,
          124,
          125,
          126,
          127,
          128,
          129,
          130,
          131,
          132,
          133,
          134,
          135,
          136,
          137,
          138,
          139,
          140,
          141,
          142,
          143,
          144,
          145,
          146,
          147,
          148,
          149,
          150,
          151,
          152,
          153,
          154,
          155,
          156,
          157,
          158,
          159,
          160,
          161,
          162,
          163,
          164,
          165,
          166,
          167,
          168,
          169,
          170,
          171,
          172,
          173,
          174,
          175,
          176,
          177,
          178,
          179,
          180,
          181,
          182,
          183,
          184,
          185,
          186,
          187,
          188,
          189,
          190,
          191,
          192,
          193,
          194,
          195,
          196,
          197,
          198,
          199,
          200,
          201,
          202,
          203,
          203,
          203,
          204,
          205,
          206,
          207,
          208,
          209,
          210,
          211,
          212,
          213,
          214,
          215,
          216,
          217,
          218,
          219,
          220,
          221,
          222,
          223,
          224,
          225,
          226,
          227,
          228,
          229,
          230,
          231,
          232,
          233,
          234,
          235,
          236,
          237,
          238,
          239,
          240,
          241,
          242,
          243,
          244,
          245,
          246,
          247,
          248,
          249,
          250,
          251,
          252,
          253,
          254,
          255,
          256,
          257,
          258,
          259,
          260,
          261,
          262,
          263,
          264,
          265,
          266,
          267,
          268,
          269,
          270,
          271,
          272,
          273,
          274,
          275,
          276,
          277,
          278,
          279,
          280,
          281,
          282,
          283,
          284,
          285,
          286,
          287,
          288,
          289,
          290,
          291,
          292,
          293,
          294,
          295,
          296,
          297,
          298,
          299,
          300,
          301,
          302,
          303,
          304,
          305,
          306,
          307,
          308,
          309,
          310,
          311,
          312,
          313,
          314,
          315,
          316,
          317,
          318,
          319,
          320,
          321,
          322,
          323,
          324,
          325,
          326,
          327,
          328,
          329,
          330,
          331,
          332,
          333,
          334,
          335,
          336,
          337,
          338,
          339,
          340,
          341,
          342,
          343,
          344,
          345,
          346,
          347,
          348,
          349,
          350,
          351,
          352,
          353,
          354,
          355,
          356,
          357,
          358,
          359,
          360,
          361,
          362,
          363,
          364,
          365,
          366,
          367,
          368,
          369,
          370,
          371,
          372,
          373,
          374,
          375,
          376,
          377,
          378,
          379,
          380,
          381,
          382,
          383,
          384,
          385,
          386,
          387,
          388,
          389,
          390,
          391,
          392,
          393,
          394,
          395,
          396,
          397,
          398,
          399,
          400,
          401,
          402,
          403,
          404,
          405,
          406,
          406
         ],
         "y": [
          0.318823,
          0.395943,
          0.398612,
          0.371852,
          0.363889,
          0.371119,
          0.423415,
          0.39098,
          0.428891,
          0.363484,
          0.347122,
          0.365717,
          0.329421,
          0.371405,
          0.348134,
          0.414211,
          0.421598,
          0.38987,
          0.391204,
          0.360485,
          0.39756,
          0.358725,
          0.422591,
          0.350132,
          0.348145,
          0.379043,
          0.378142,
          0.376958,
          0.345527,
          0.404699,
          0.390489,
          0.387047,
          0.386157,
          0.371472,
          0.355218,
          0.385336,
          0.399258,
          0.350996,
          0.368793,
          0.397891,
          0.351278,
          0.379981,
          0.361177,
          0.415971,
          0.417438,
          0.39365,
          0.413071,
          0.372901,
          0.338772,
          0.418761,
          0.393981,
          0.386971,
          0.395173,
          0.381134,
          0.367803,
          0.417895,
          0.423454,
          0.38254,
          0.387387,
          0.386396,
          0.373058,
          0.382138,
          0.385962,
          0.362902,
          0.348354,
          0.442486,
          0.405973,
          0.342775,
          0.366803,
          0.42743,
          0.40503,
          0.393875,
          0.436705,
          0.385621,
          0.378333,
          0.387377,
          0.4126,
          0.362562,
          0.359736,
          0.423285,
          0.380491,
          0.463192,
          0.349479,
          0.354295,
          0.375958,
          0.332025,
          0.432372,
          0.381635,
          0.365142,
          0.367516,
          0.425633,
          0.361546,
          0.346355,
          0.378132,
          0.327426,
          0.372309,
          0.35736,
          0.35082,
          0.418332,
          0.353726,
          0.331633,
          0.392594,
          0.424237,
          0.378063,
          0.34009,
          0.429403,
          0.366049,
          0.359694,
          0.357056,
          0.40674,
          0.370005,
          0.357958,
          0.388764,
          0.351133,
          0.468022,
          0.392593,
          0.376526,
          0.360081,
          0.448535,
          0.438058,
          0.378032,
          0.391274,
          0.354453,
          0.420361,
          0.395726,
          0.364072,
          0.367085,
          0.433501,
          0.401658,
          0.41561,
          0.360865,
          0.355094,
          0.419275,
          0.414396,
          0.350074,
          0.357759,
          0.38395,
          0.35794,
          0.354254,
          0.3554,
          0.422171,
          0.370066,
          0.347505,
          0.366744,
          0.363717,
          0.379548,
          0.396113,
          0.397294,
          0.473409,
          0.375717,
          0.392879,
          0.408642,
          0.33017,
          0.330233,
          0.403648,
          0.395061,
          0.420667,
          0.408111,
          0.358295,
          0.432926,
          0.355871,
          0.355839,
          0.380993,
          0.356385,
          0.376834,
          0.418643,
          0.372918,
          0.363464,
          0.346345,
          0.351897,
          0.339711,
          0.386568,
          0.402482,
          0.364664,
          0.379259,
          0.364444,
          0.392814,
          0.393799,
          0.34652,
          0.398415,
          0.427816,
          0.390338,
          0.37771,
          0.356857,
          0.392508,
          0.350244,
          0.335645,
          0.412752,
          0.384155,
          0.425774,
          0.362574,
          0.36876,
          0.396058,
          0.368901,
          0.364597,
          0.370901,
          0.379063,
          0.398713,
          0.380511,
          0.371883,
          0.438145,
          0.37854,
          0.439816,
          0.407145,
          0.313263,
          0.359565,
          0.376662,
          0.376311,
          0.395588,
          0.349033,
          0.347412,
          0.438412,
          0.350331,
          0.374377,
          0.368325,
          0.381213,
          0.428246,
          0.34564,
          0.391207,
          0.360754,
          0.375969,
          0.389918,
          0.38025,
          0.368518,
          0.397054,
          0.384011,
          0.345593,
          0.376633,
          0.342574,
          0.401677,
          0.401289,
          0.352043,
          0.34655,
          0.389792,
          0.379338,
          0.373602,
          0.409928,
          0.388478,
          0.37393,
          0.383466,
          0.395734,
          0.371941,
          0.371631,
          0.345913,
          0.43582,
          0.356825,
          0.422577,
          0.31713,
          0.416249,
          0.349889,
          0.369896,
          0.399062,
          0.358721,
          0.357784,
          0.358149,
          0.368154,
          0.391653,
          0.368576,
          0.353198,
          0.375951,
          0.379791,
          0.42643,
          0.372551,
          0.320687,
          0.352589,
          0.350482,
          0.397248,
          0.366724,
          0.371172,
          0.363963,
          0.389746,
          0.36707,
          0.412474,
          0.379834,
          0.385351,
          0.44809,
          0.444003,
          0.384994,
          0.427705,
          0.339418,
          0.439922,
          0.374665,
          0.443325,
          0.362803,
          0.389,
          0.38477,
          0.360617,
          0.391346,
          0.323977,
          0.377771,
          0.411624,
          0.389988,
          0.403202,
          0.354279,
          0.405238,
          0.393103,
          0.377202,
          0.424534,
          0.331508,
          0.35687,
          0.370302,
          0.348359,
          0.387969,
          0.384612,
          0.396178,
          0.397647,
          0.330654,
          0.356052,
          0.362941,
          0.392211,
          0.401344,
          0.363824,
          0.362455,
          0.410028,
          0.386085,
          0.353196,
          0.389465,
          0.336114,
          0.38094,
          0.381464,
          0.321301,
          0.397373,
          0.388624,
          0.398779,
          0.351108,
          0.365089,
          0.368342,
          0.37104,
          0.425038,
          0.411405,
          0.418677,
          0.368948,
          0.370019,
          0.361225,
          0.377323,
          0.416822,
          0.385525,
          0.388333,
          0.345143,
          0.40108,
          0.371771,
          0.358152,
          0.376966,
          0.376143,
          0.390458,
          0.382947,
          0.363402,
          0.384636,
          0.383689,
          0.409107,
          0.3834,
          0.35028,
          0.351994,
          0.390044,
          0.351162,
          0.350592,
          0.394933,
          0.342857,
          0.422045,
          0.351644,
          0.413414,
          0.39431,
          0.422587,
          0.362184,
          0.439664,
          0.329914,
          0.341019,
          0.375666,
          0.352851,
          0.376719,
          0.366248,
          0.394007,
          0.389277,
          0.423868,
          0.373659,
          0.387406,
          0.339528,
          0.379417,
          0.32555,
          0.370622,
          0.366021,
          0.396772,
          0.356257,
          0.406619,
          0.41359,
          0.374063,
          0.433276,
          0.437896,
          0.341804,
          0.360895,
          0.369019,
          0.370631,
          0.358143,
          0.396154,
          0.367087,
          0.374072,
          0.418088,
          0.386986,
          0.384916,
          0.382135,
          0.381275,
          0.338917,
          0.382864,
          0.362581,
          0.352818,
          0.392783,
          0.416119,
          0.372637,
          0.3517,
          0.313323
         ]
        },
        {
         "mode": "lines",
         "name": "val",
         "type": "scatter",
         "x": [
          0,
          9,
          18,
          28,
          37,
          46,
          55,
          65,
          74,
          83,
          92,
          102,
          111,
          120,
          129,
          138,
          148,
          157,
          166,
          175,
          185,
          194,
          203,
          203,
          203,
          212,
          221,
          231,
          240,
          249,
          258,
          268,
          277,
          286,
          295,
          304,
          314,
          323,
          332,
          341,
          351,
          360,
          369,
          378,
          388,
          397,
          406,
          406
         ],
         "y": [
          0.39334,
          0.378024,
          0.425398,
          0.476266,
          0.418519,
          0.431754,
          0.499091,
          0.37935,
          0.506315,
          0.38569,
          0.435113,
          0.507855,
          0.480018,
          0.455953,
          0.480024,
          0.438629,
          0.518163,
          0.466613,
          0.486644,
          0.483665,
          0.462099,
          0.462734,
          0.495345,
          0.445814,
          0.426651,
          0.407663,
          0.391834,
          0.391122,
          0.403048,
          0.407658,
          0.417434,
          0.413876,
          0.435656,
          0.40228,
          0.440586,
          0.394326,
          0.381001,
          0.426646,
          0.390117,
          0.382698,
          0.418738,
          0.362137,
          0.353627,
          0.383692,
          0.442853,
          0.373907,
          0.509872,
          0.403153
         ]
        },
        {
         "mode": "lines",
         "name": "real_val",
         "type": "scatter",
         "x": [
          0,
          20,
          41,
          61,
          81,
          102,
          122,
          142,
          162,
          183,
          203,
          203,
          203,
          223,
          244,
          264,
          284,
          304,
          325,
          345,
          365,
          386,
          406,
          406
         ],
         "y": [
          0.501735,
          0.725173,
          0.482695,
          0.539706,
          0.531577,
          0.574713,
          0.616539,
          0.612099,
          0.585095,
          0.523022,
          0.615991,
          0.560248,
          0.636565,
          0.734181,
          0.707327,
          0.654288,
          0.810597,
          0.674245,
          0.689417,
          0.578295,
          0.815662,
          0.644758,
          0.66314,
          0.451185
         ]
        }
       ],
       "layout": {
        "autosize": true,
        "legend": {
         "orientation": "h"
        },
        "template": {
         "data": {
          "bar": [
           {
            "error_x": {
             "color": "#2a3f5f"
            },
            "error_y": {
             "color": "#2a3f5f"
            },
            "marker": {
             "line": {
              "color": "#E5ECF6",
              "width": 0.5
             },
             "pattern": {
              "fillmode": "overlay",
              "size": 10,
              "solidity": 0.2
             }
            },
            "type": "bar"
           }
          ],
          "barpolar": [
           {
            "marker": {
             "line": {
              "color": "#E5ECF6",
              "width": 0.5
             },
             "pattern": {
              "fillmode": "overlay",
              "size": 10,
              "solidity": 0.2
             }
            },
            "type": "barpolar"
           }
          ],
          "carpet": [
           {
            "aaxis": {
             "endlinecolor": "#2a3f5f",
             "gridcolor": "white",
             "linecolor": "white",
             "minorgridcolor": "white",
             "startlinecolor": "#2a3f5f"
            },
            "baxis": {
             "endlinecolor": "#2a3f5f",
             "gridcolor": "white",
             "linecolor": "white",
             "minorgridcolor": "white",
             "startlinecolor": "#2a3f5f"
            },
            "type": "carpet"
           }
          ],
          "choropleth": [
           {
            "colorbar": {
             "outlinewidth": 0,
             "ticks": ""
            },
            "type": "choropleth"
           }
          ],
          "contour": [
           {
            "colorbar": {
             "outlinewidth": 0,
             "ticks": ""
            },
            "colorscale": [
             [
              0,
              "#0d0887"
             ],
             [
              0.1111111111111111,
              "#46039f"
             ],
             [
              0.2222222222222222,
              "#7201a8"
             ],
             [
              0.3333333333333333,
              "#9c179e"
             ],
             [
              0.4444444444444444,
              "#bd3786"
             ],
             [
              0.5555555555555556,
              "#d8576b"
             ],
             [
              0.6666666666666666,
              "#ed7953"
             ],
             [
              0.7777777777777778,
              "#fb9f3a"
             ],
             [
              0.8888888888888888,
              "#fdca26"
             ],
             [
              1,
              "#f0f921"
             ]
            ],
            "type": "contour"
           }
          ],
          "contourcarpet": [
           {
            "colorbar": {
             "outlinewidth": 0,
             "ticks": ""
            },
            "type": "contourcarpet"
           }
          ],
          "heatmap": [
           {
            "colorbar": {
             "outlinewidth": 0,
             "ticks": ""
            },
            "colorscale": [
             [
              0,
              "#0d0887"
             ],
             [
              0.1111111111111111,
              "#46039f"
             ],
             [
              0.2222222222222222,
              "#7201a8"
             ],
             [
              0.3333333333333333,
              "#9c179e"
             ],
             [
              0.4444444444444444,
              "#bd3786"
             ],
             [
              0.5555555555555556,
              "#d8576b"
             ],
             [
              0.6666666666666666,
              "#ed7953"
             ],
             [
              0.7777777777777778,
              "#fb9f3a"
             ],
             [
              0.8888888888888888,
              "#fdca26"
             ],
             [
              1,
              "#f0f921"
             ]
            ],
            "type": "heatmap"
           }
          ],
          "heatmapgl": [
           {
            "colorbar": {
             "outlinewidth": 0,
             "ticks": ""
            },
            "colorscale": [
             [
              0,
              "#0d0887"
             ],
             [
              0.1111111111111111,
              "#46039f"
             ],
             [
              0.2222222222222222,
              "#7201a8"
             ],
             [
              0.3333333333333333,
              "#9c179e"
             ],
             [
              0.4444444444444444,
              "#bd3786"
             ],
             [
              0.5555555555555556,
              "#d8576b"
             ],
             [
              0.6666666666666666,
              "#ed7953"
             ],
             [
              0.7777777777777778,
              "#fb9f3a"
             ],
             [
              0.8888888888888888,
              "#fdca26"
             ],
             [
              1,
              "#f0f921"
             ]
            ],
            "type": "heatmapgl"
           }
          ],
          "histogram": [
           {
            "marker": {
             "pattern": {
              "fillmode": "overlay",
              "size": 10,
              "solidity": 0.2
             }
            },
            "type": "histogram"
           }
          ],
          "histogram2d": [
           {
            "colorbar": {
             "outlinewidth": 0,
             "ticks": ""
            },
            "colorscale": [
             [
              0,
              "#0d0887"
             ],
             [
              0.1111111111111111,
              "#46039f"
             ],
             [
              0.2222222222222222,
              "#7201a8"
             ],
             [
              0.3333333333333333,
              "#9c179e"
             ],
             [
              0.4444444444444444,
              "#bd3786"
             ],
             [
              0.5555555555555556,
              "#d8576b"
             ],
             [
              0.6666666666666666,
              "#ed7953"
             ],
             [
              0.7777777777777778,
              "#fb9f3a"
             ],
             [
              0.8888888888888888,
              "#fdca26"
             ],
             [
              1,
              "#f0f921"
             ]
            ],
            "type": "histogram2d"
           }
          ],
          "histogram2dcontour": [
           {
            "colorbar": {
             "outlinewidth": 0,
             "ticks": ""
            },
            "colorscale": [
             [
              0,
              "#0d0887"
             ],
             [
              0.1111111111111111,
              "#46039f"
             ],
             [
              0.2222222222222222,
              "#7201a8"
             ],
             [
              0.3333333333333333,
              "#9c179e"
             ],
             [
              0.4444444444444444,
              "#bd3786"
             ],
             [
              0.5555555555555556,
              "#d8576b"
             ],
             [
              0.6666666666666666,
              "#ed7953"
             ],
             [
              0.7777777777777778,
              "#fb9f3a"
             ],
             [
              0.8888888888888888,
              "#fdca26"
             ],
             [
              1,
              "#f0f921"
             ]
            ],
            "type": "histogram2dcontour"
           }
          ],
          "mesh3d": [
           {
            "colorbar": {
             "outlinewidth": 0,
             "ticks": ""
            },
            "type": "mesh3d"
           }
          ],
          "parcoords": [
           {
            "line": {
             "colorbar": {
              "outlinewidth": 0,
              "ticks": ""
             }
            },
            "type": "parcoords"
           }
          ],
          "pie": [
           {
            "automargin": true,
            "type": "pie"
           }
          ],
          "scatter": [
           {
            "fillpattern": {
             "fillmode": "overlay",
             "size": 10,
             "solidity": 0.2
            },
            "type": "scatter"
           }
          ],
          "scatter3d": [
           {
            "line": {
             "colorbar": {
              "outlinewidth": 0,
              "ticks": ""
             }
            },
            "marker": {
             "colorbar": {
              "outlinewidth": 0,
              "ticks": ""
             }
            },
            "type": "scatter3d"
           }
          ],
          "scattercarpet": [
           {
            "marker": {
             "colorbar": {
              "outlinewidth": 0,
              "ticks": ""
             }
            },
            "type": "scattercarpet"
           }
          ],
          "scattergeo": [
           {
            "marker": {
             "colorbar": {
              "outlinewidth": 0,
              "ticks": ""
             }
            },
            "type": "scattergeo"
           }
          ],
          "scattergl": [
           {
            "marker": {
             "colorbar": {
              "outlinewidth": 0,
              "ticks": ""
             }
            },
            "type": "scattergl"
           }
          ],
          "scattermapbox": [
           {
            "marker": {
             "colorbar": {
              "outlinewidth": 0,
              "ticks": ""
             }
            },
            "type": "scattermapbox"
           }
          ],
          "scatterpolar": [
           {
            "marker": {
             "colorbar": {
              "outlinewidth": 0,
              "ticks": ""
             }
            },
            "type": "scatterpolar"
           }
          ],
          "scatterpolargl": [
           {
            "marker": {
             "colorbar": {
              "outlinewidth": 0,
              "ticks": ""
             }
            },
            "type": "scatterpolargl"
           }
          ],
          "scatterternary": [
           {
            "marker": {
             "colorbar": {
              "outlinewidth": 0,
              "ticks": ""
             }
            },
            "type": "scatterternary"
           }
          ],
          "surface": [
           {
            "colorbar": {
             "outlinewidth": 0,
             "ticks": ""
            },
            "colorscale": [
             [
              0,
              "#0d0887"
             ],
             [
              0.1111111111111111,
              "#46039f"
             ],
             [
              0.2222222222222222,
              "#7201a8"
             ],
             [
              0.3333333333333333,
              "#9c179e"
             ],
             [
              0.4444444444444444,
              "#bd3786"
             ],
             [
              0.5555555555555556,
              "#d8576b"
             ],
             [
              0.6666666666666666,
              "#ed7953"
             ],
             [
              0.7777777777777778,
              "#fb9f3a"
             ],
             [
              0.8888888888888888,
              "#fdca26"
             ],
             [
              1,
              "#f0f921"
             ]
            ],
            "type": "surface"
           }
          ],
          "table": [
           {
            "cells": {
             "fill": {
              "color": "#EBF0F8"
             },
             "line": {
              "color": "white"
             }
            },
            "header": {
             "fill": {
              "color": "#C8D4E3"
             },
             "line": {
              "color": "white"
             }
            },
            "type": "table"
           }
          ]
         },
         "layout": {
          "annotationdefaults": {
           "arrowcolor": "#2a3f5f",
           "arrowhead": 0,
           "arrowwidth": 1
          },
          "autotypenumbers": "strict",
          "coloraxis": {
           "colorbar": {
            "outlinewidth": 0,
            "ticks": ""
           }
          },
          "colorscale": {
           "diverging": [
            [
             0,
             "#8e0152"
            ],
            [
             0.1,
             "#c51b7d"
            ],
            [
             0.2,
             "#de77ae"
            ],
            [
             0.3,
             "#f1b6da"
            ],
            [
             0.4,
             "#fde0ef"
            ],
            [
             0.5,
             "#f7f7f7"
            ],
            [
             0.6,
             "#e6f5d0"
            ],
            [
             0.7,
             "#b8e186"
            ],
            [
             0.8,
             "#7fbc41"
            ],
            [
             0.9,
             "#4d9221"
            ],
            [
             1,
             "#276419"
            ]
           ],
           "sequential": [
            [
             0,
             "#0d0887"
            ],
            [
             0.1111111111111111,
             "#46039f"
            ],
            [
             0.2222222222222222,
             "#7201a8"
            ],
            [
             0.3333333333333333,
             "#9c179e"
            ],
            [
             0.4444444444444444,
             "#bd3786"
            ],
            [
             0.5555555555555556,
             "#d8576b"
            ],
            [
             0.6666666666666666,
             "#ed7953"
            ],
            [
             0.7777777777777778,
             "#fb9f3a"
            ],
            [
             0.8888888888888888,
             "#fdca26"
            ],
            [
             1,
             "#f0f921"
            ]
           ],
           "sequentialminus": [
            [
             0,
             "#0d0887"
            ],
            [
             0.1111111111111111,
             "#46039f"
            ],
            [
             0.2222222222222222,
             "#7201a8"
            ],
            [
             0.3333333333333333,
             "#9c179e"
            ],
            [
             0.4444444444444444,
             "#bd3786"
            ],
            [
             0.5555555555555556,
             "#d8576b"
            ],
            [
             0.6666666666666666,
             "#ed7953"
            ],
            [
             0.7777777777777778,
             "#fb9f3a"
            ],
            [
             0.8888888888888888,
             "#fdca26"
            ],
            [
             1,
             "#f0f921"
            ]
           ]
          },
          "colorway": [
           "#636efa",
           "#EF553B",
           "#00cc96",
           "#ab63fa",
           "#FFA15A",
           "#19d3f3",
           "#FF6692",
           "#B6E880",
           "#FF97FF",
           "#FECB52"
          ],
          "font": {
           "color": "#2a3f5f"
          },
          "geo": {
           "bgcolor": "white",
           "lakecolor": "white",
           "landcolor": "#E5ECF6",
           "showlakes": true,
           "showland": true,
           "subunitcolor": "white"
          },
          "hoverlabel": {
           "align": "left"
          },
          "hovermode": "closest",
          "mapbox": {
           "style": "light"
          },
          "paper_bgcolor": "white",
          "plot_bgcolor": "#E5ECF6",
          "polar": {
           "angularaxis": {
            "gridcolor": "white",
            "linecolor": "white",
            "ticks": ""
           },
           "bgcolor": "#E5ECF6",
           "radialaxis": {
            "gridcolor": "white",
            "linecolor": "white",
            "ticks": ""
           }
          },
          "scene": {
           "xaxis": {
            "backgroundcolor": "#E5ECF6",
            "gridcolor": "white",
            "gridwidth": 2,
            "linecolor": "white",
            "showbackground": true,
            "ticks": "",
            "zerolinecolor": "white"
           },
           "yaxis": {
            "backgroundcolor": "#E5ECF6",
            "gridcolor": "white",
            "gridwidth": 2,
            "linecolor": "white",
            "showbackground": true,
            "ticks": "",
            "zerolinecolor": "white"
           },
           "zaxis": {
            "backgroundcolor": "#E5ECF6",
            "gridcolor": "white",
            "gridwidth": 2,
            "linecolor": "white",
            "showbackground": true,
            "ticks": "",
            "zerolinecolor": "white"
           }
          },
          "shapedefaults": {
           "line": {
            "color": "#2a3f5f"
           }
          },
          "ternary": {
           "aaxis": {
            "gridcolor": "white",
            "linecolor": "white",
            "ticks": ""
           },
           "baxis": {
            "gridcolor": "white",
            "linecolor": "white",
            "ticks": ""
           },
           "bgcolor": "#E5ECF6",
           "caxis": {
            "gridcolor": "white",
            "linecolor": "white",
            "ticks": ""
           }
          },
          "title": {
           "x": 0.05
          },
          "xaxis": {
           "automargin": true,
           "gridcolor": "white",
           "linecolor": "white",
           "ticks": "",
           "title": {
            "standoff": 15
           },
           "zerolinecolor": "white",
           "zerolinewidth": 2
          },
          "yaxis": {
           "automargin": true,
           "gridcolor": "white",
           "linecolor": "white",
           "ticks": "",
           "title": {
            "standoff": 15
           },
           "zerolinecolor": "white",
           "zerolinewidth": 2
          }
         }
        },
        "xaxis": {
         "autorange": true,
         "range": [
          0,
          406
         ],
         "type": "linear"
        },
        "yaxis": {
         "range": [
          0,
          1
         ],
         "type": "linear"
        }
       }
      },
      "image/png": "[encoded data removed]",
      "text/html": [
       "<div>                            <div id=\"973c5f1a-2c82-482a-aca5-059bb1d163e6\" class=\"plotly-graph-div\" style=\"height:525px; width:100%;\"></div>            <script type=\"text/javascript\">                require([\"plotly\"], function(Plotly) {                    window.PLOTLYENV=window.PLOTLYENV || {};                                    if (document.getElementById(\"973c5f1a-2c82-482a-aca5-059bb1d163e6\")) {                    Plotly.newPlot(                        \"973c5f1a-2c82-482a-aca5-059bb1d163e6\",                        [{\"mode\":\"lines\",\"name\":\"train\",\"x\":[0.0,1.0,2.0,3.0,4.0,5.0,6.0,7.0,8.0,9.0,10.0,11.0,12.0,13.0,14.0,15.0,16.0,17.0,18.0,19.0,20.0,21.0,22.0,23.0,24.0,25.0,26.0,27.0,28.0,29.0,30.0,31.0,32.0,33.0,34.0,35.0,36.0,37.0,38.0,39.0,40.0,41.0,42.0,43.0,44.0,45.0,46.0,47.0,48.0,49.0,50.0,51.0,52.0,53.0,54.0,55.0,56.0,57.0,58.0,59.0,60.0,61.0,62.0,63.0,64.0,65.0,66.0,67.0,68.0,69.0,70.0,71.0,72.0,73.0,74.0,75.0,76.0,77.0,78.0,79.0,80.0,81.0,82.0,83.0,84.0,85.0,86.0,87.0,88.0,89.0,90.0,91.0,92.0,93.0,94.0,95.0,96.0,97.0,98.0,99.0,100.0,101.0,102.0,103.0,104.0,105.0,106.0,107.0,108.0,109.0,110.0,111.0,112.0,113.0,114.0,115.0,116.0,117.0,118.0,119.0,120.0,121.0,122.0,123.0,124.0,125.0,126.0,127.0,128.0,129.0,130.0,131.0,132.0,133.0,134.0,135.0,136.0,137.0,138.0,139.0,140.0,141.0,142.0,143.0,144.0,145.0,146.0,147.0,148.0,149.0,150.0,151.0,152.0,153.0,154.0,155.0,156.0,157.0,158.0,159.0,160.0,161.0,162.0,163.0,164.0,165.0,166.0,167.0,168.0,169.0,170.0,171.0,172.0,173.0,174.0,175.0,176.0,177.0,178.0,179.0,180.0,181.0,182.0,183.0,184.0,185.0,186.0,187.0,188.0,189.0,190.0,191.0,192.0,193.0,194.0,195.0,196.0,197.0,198.0,199.0,200.0,201.0,202.0,203.0,203.0,203.0,204.0,205.0,206.0,207.0,208.0,209.0,210.0,211.0,212.0,213.0,214.0,215.0,216.0,217.0,218.0,219.0,220.0,221.0,222.0,223.0,224.0,225.0,226.0,227.0,228.0,229.0,230.0,231.0,232.0,233.0,234.0,235.0,236.0,237.0,238.0,239.0,240.0,241.0,242.0,243.0,244.0,245.0,246.0,247.0,248.0,249.0,250.0,251.0,252.0,253.0,254.0,255.0,256.0,257.0,258.0,259.0,260.0,261.0,262.0,263.0,264.0,265.0,266.0,267.0,268.0,269.0,270.0,271.0,272.0,273.0,274.0,275.0,276.0,277.0,278.0,279.0,280.0,281.0,282.0,283.0,284.0,285.0,286.0,287.0,288.0,289.0,290.0,291.0,292.0,293.0,294.0,295.0,296.0,297.0,298.0,299.0,300.0,301.0,302.0,303.0,304.0,305.0,306.0,307.0,308.0,309.0,310.0,311.0,312.0,313.0,314.0,315.0,316.0,317.0,318.0,319.0,320.0,321.0,322.0,323.0,324.0,325.0,326.0,327.0,328.0,329.0,330.0,331.0,332.0,333.0,334.0,335.0,336.0,337.0,338.0,339.0,340.0,341.0,342.0,343.0,344.0,345.0,346.0,347.0,348.0,349.0,350.0,351.0,352.0,353.0,354.0,355.0,356.0,357.0,358.0,359.0,360.0,361.0,362.0,363.0,364.0,365.0,366.0,367.0,368.0,369.0,370.0,371.0,372.0,373.0,374.0,375.0,376.0,377.0,378.0,379.0,380.0,381.0,382.0,383.0,384.0,385.0,386.0,387.0,388.0,389.0,390.0,391.0,392.0,393.0,394.0,395.0,396.0,397.0,398.0,399.0,400.0,401.0,402.0,403.0,404.0,405.0,406.0,406.0],\"y\":[0.318823,0.395943,0.398612,0.371852,0.363889,0.371119,0.423415,0.39098,0.428891,0.363484,0.347122,0.365717,0.329421,0.371405,0.348134,0.414211,0.421598,0.38987,0.391204,0.360485,0.39756,0.358725,0.422591,0.350132,0.348145,0.379043,0.378142,0.376958,0.345527,0.404699,0.390489,0.387047,0.386157,0.371472,0.355218,0.385336,0.399258,0.350996,0.368793,0.397891,0.351278,0.379981,0.361177,0.415971,0.417438,0.39365,0.413071,0.372901,0.338772,0.418761,0.393981,0.386971,0.395173,0.381134,0.367803,0.417895,0.423454,0.38254,0.387387,0.386396,0.373058,0.382138,0.385962,0.362902,0.348354,0.442486,0.405973,0.342775,0.366803,0.42743,0.40503,0.393875,0.436705,0.385621,0.378333,0.387377,0.4126,0.362562,0.359736,0.423285,0.380491,0.463192,0.349479,0.354295,0.375958,0.332025,0.432372,0.381635,0.365142,0.367516,0.425633,0.361546,0.346355,0.378132,0.327426,0.372309,0.35736,0.35082,0.418332,0.353726,0.331633,0.392594,0.424237,0.378063,0.34009,0.429403,0.366049,0.359694,0.357056,0.40674,0.370005,0.357958,0.388764,0.351133,0.468022,0.392593,0.376526,0.360081,0.448535,0.438058,0.378032,0.391274,0.354453,0.420361,0.395726,0.364072,0.367085,0.433501,0.401658,0.41561,0.360865,0.355094,0.419275,0.414396,0.350074,0.357759,0.38395,0.35794,0.354254,0.3554,0.422171,0.370066,0.347505,0.366744,0.363717,0.379548,0.396113,0.397294,0.473409,0.375717,0.392879,0.408642,0.33017,0.330233,0.403648,0.395061,0.420667,0.408111,0.358295,0.432926,0.355871,0.355839,0.380993,0.356385,0.376834,0.418643,0.372918,0.363464,0.346345,0.351897,0.339711,0.386568,0.402482,0.364664,0.379259,0.364444,0.392814,0.393799,0.34652,0.398415,0.427816,0.390338,0.37771,0.356857,0.392508,0.350244,0.335645,0.412752,0.384155,0.425774,0.362574,0.36876,0.396058,0.368901,0.364597,0.370901,0.379063,0.398713,0.380511,0.371883,0.438145,0.37854,0.439816,0.407145,0.313263,0.359565,0.376662,0.376311,0.395588,0.349033,0.347412,0.438412,0.350331,0.374377,0.368325,0.381213,0.428246,0.34564,0.391207,0.360754,0.375969,0.389918,0.38025,0.368518,0.397054,0.384011,0.345593,0.376633,0.342574,0.401677,0.401289,0.352043,0.34655,0.389792,0.379338,0.373602,0.409928,0.388478,0.37393,0.383466,0.395734,0.371941,0.371631,0.345913,0.43582,0.356825,0.422577,0.31713,0.416249,0.349889,0.369896,0.399062,0.358721,0.357784,0.358149,0.368154,0.391653,0.368576,0.353198,0.375951,0.379791,0.42643,0.372551,0.320687,0.352589,0.350482,0.397248,0.366724,0.371172,0.363963,0.389746,0.36707,0.412474,0.379834,0.385351,0.44809,0.444003,0.384994,0.427705,0.339418,0.439922,0.374665,0.443325,0.362803,0.389,0.38477,0.360617,0.391346,0.323977,0.377771,0.411624,0.389988,0.403202,0.354279,0.405238,0.393103,0.377202,0.424534,0.331508,0.35687,0.370302,0.348359,0.387969,0.384612,0.396178,0.397647,0.330654,0.356052,0.362941,0.392211,0.401344,0.363824,0.362455,0.410028,0.386085,0.353196,0.389465,0.336114,0.38094,0.381464,0.321301,0.397373,0.388624,0.398779,0.351108,0.365089,0.368342,0.37104,0.425038,0.411405,0.418677,0.368948,0.370019,0.361225,0.377323,0.416822,0.385525,0.388333,0.345143,0.40108,0.371771,0.358152,0.376966,0.376143,0.390458,0.382947,0.363402,0.384636,0.383689,0.409107,0.3834,0.35028,0.351994,0.390044,0.351162,0.350592,0.394933,0.342857,0.422045,0.351644,0.413414,0.39431,0.422587,0.362184,0.439664,0.329914,0.341019,0.375666,0.352851,0.376719,0.366248,0.394007,0.389277,0.423868,0.373659,0.387406,0.339528,0.379417,0.32555,0.370622,0.366021,0.396772,0.356257,0.406619,0.41359,0.374063,0.433276,0.437896,0.341804,0.360895,0.369019,0.370631,0.358143,0.396154,0.367087,0.374072,0.418088,0.386986,0.384916,0.382135,0.381275,0.338917,0.382864,0.362581,0.352818,0.392783,0.416119,0.372637,0.3517,0.313323],\"type\":\"scatter\"},{\"mode\":\"lines\",\"name\":\"val\",\"x\":[0.0,9.0,18.0,28.0,37.0,46.0,55.0,65.0,74.0,83.0,92.0,102.0,111.0,120.0,129.0,138.0,148.0,157.0,166.0,175.0,185.0,194.0,203.0,203.0,203.0,212.0,221.0,231.0,240.0,249.0,258.0,268.0,277.0,286.0,295.0,304.0,314.0,323.0,332.0,341.0,351.0,360.0,369.0,378.0,388.0,397.0,406.0,406.0],\"y\":[0.39334,0.378024,0.425398,0.476266,0.418519,0.431754,0.499091,0.37935,0.506315,0.38569,0.435113,0.507855,0.480018,0.455953,0.480024,0.438629,0.518163,0.466613,0.486644,0.483665,0.462099,0.462734,0.495345,0.445814,0.426651,0.407663,0.391834,0.391122,0.403048,0.407658,0.417434,0.413876,0.435656,0.40228,0.440586,0.394326,0.381001,0.426646,0.390117,0.382698,0.418738,0.362137,0.353627,0.383692,0.442853,0.373907,0.509872,0.403153],\"type\":\"scatter\"},{\"mode\":\"lines\",\"name\":\"real_val\",\"x\":[0.0,20.0,41.0,61.0,81.0,102.0,122.0,142.0,162.0,183.0,203.0,203.0,203.0,223.0,244.0,264.0,284.0,304.0,325.0,345.0,365.0,386.0,406.0,406.0],\"y\":[0.501735,0.725173,0.482695,0.539706,0.531577,0.574713,0.616539,0.612099,0.585095,0.523022,0.615991,0.560248,0.636565,0.734181,0.707327,0.654288,0.810597,0.674245,0.689417,0.578295,0.815662,0.644758,0.66314,0.451185],\"type\":\"scatter\"}],                        {\"template\":{\"data\":{\"histogram2dcontour\":[{\"type\":\"histogram2dcontour\",\"colorbar\":{\"outlinewidth\":0,\"ticks\":\"\"},\"colorscale\":[[0.0,\"#0d0887\"],[0.1111111111111111,\"#46039f\"],[0.2222222222222222,\"#7201a8\"],[0.3333333333333333,\"#9c179e\"],[0.4444444444444444,\"#bd3786\"],[0.5555555555555556,\"#d8576b\"],[0.6666666666666666,\"#ed7953\"],[0.7777777777777778,\"#fb9f3a\"],[0.8888888888888888,\"#fdca26\"],[1.0,\"#f0f921\"]]}],\"choropleth\":[{\"type\":\"choropleth\",\"colorbar\":{\"outlinewidth\":0,\"ticks\":\"\"}}],\"histogram2d\":[{\"type\":\"histogram2d\",\"colorbar\":{\"outlinewidth\":0,\"ticks\":\"\"},\"colorscale\":[[0.0,\"#0d0887\"],[0.1111111111111111,\"#46039f\"],[0.2222222222222222,\"#7201a8\"],[0.3333333333333333,\"#9c179e\"],[0.4444444444444444,\"#bd3786\"],[0.5555555555555556,\"#d8576b\"],[0.6666666666666666,\"#ed7953\"],[0.7777777777777778,\"#fb9f3a\"],[0.8888888888888888,\"#fdca26\"],[1.0,\"#f0f921\"]]}],\"heatmap\":[{\"type\":\"heatmap\",\"colorbar\":{\"outlinewidth\":0,\"ticks\":\"\"},\"colorscale\":[[0.0,\"#0d0887\"],[0.1111111111111111,\"#46039f\"],[0.2222222222222222,\"#7201a8\"],[0.3333333333333333,\"#9c179e\"],[0.4444444444444444,\"#bd3786\"],[0.5555555555555556,\"#d8576b\"],[0.6666666666666666,\"#ed7953\"],[0.7777777777777778,\"#fb9f3a\"],[0.8888888888888888,\"#fdca26\"],[1.0,\"#f0f921\"]]}],\"heatmapgl\":[{\"type\":\"heatmapgl\",\"colorbar\":{\"outlinewidth\":0,\"ticks\":\"\"},\"colorscale\":[[0.0,\"#0d0887\"],[0.1111111111111111,\"#46039f\"],[0.2222222222222222,\"#7201a8\"],[0.3333333333333333,\"#9c179e\"],[0.4444444444444444,\"#bd3786\"],[0.5555555555555556,\"#d8576b\"],[0.6666666666666666,\"#ed7953\"],[0.7777777777777778,\"#fb9f3a\"],[0.8888888888888888,\"#fdca26\"],[1.0,\"#f0f921\"]]}],\"contourcarpet\":[{\"type\":\"contourcarpet\",\"colorbar\":{\"outlinewidth\":0,\"ticks\":\"\"}}],\"contour\":[{\"type\":\"contour\",\"colorbar\":{\"outlinewidth\":0,\"ticks\":\"\"},\"colorscale\":[[0.0,\"#0d0887\"],[0.1111111111111111,\"#46039f\"],[0.2222222222222222,\"#7201a8\"],[0.3333333333333333,\"#9c179e\"],[0.4444444444444444,\"#bd3786\"],[0.5555555555555556,\"#d8576b\"],[0.6666666666666666,\"#ed7953\"],[0.7777777777777778,\"#fb9f3a\"],[0.8888888888888888,\"#fdca26\"],[1.0,\"#f0f921\"]]}],\"surface\":[{\"type\":\"surface\",\"colorbar\":{\"outlinewidth\":0,\"ticks\":\"\"},\"colorscale\":[[0.0,\"#0d0887\"],[0.1111111111111111,\"#46039f\"],[0.2222222222222222,\"#7201a8\"],[0.3333333333333333,\"#9c179e\"],[0.4444444444444444,\"#bd3786\"],[0.5555555555555556,\"#d8576b\"],[0.6666666666666666,\"#ed7953\"],[0.7777777777777778,\"#fb9f3a\"],[0.8888888888888888,\"#fdca26\"],[1.0,\"#f0f921\"]]}],\"mesh3d\":[{\"type\":\"mesh3d\",\"colorbar\":{\"outlinewidth\":0,\"ticks\":\"\"}}],\"scatter\":[{\"fillpattern\":{\"fillmode\":\"overlay\",\"size\":10,\"solidity\":0.2},\"type\":\"scatter\"}],\"parcoords\":[{\"type\":\"parcoords\",\"line\":{\"colorbar\":{\"outlinewidth\":0,\"ticks\":\"\"}}}],\"scatterpolargl\":[{\"type\":\"scatterpolargl\",\"marker\":{\"colorbar\":{\"outlinewidth\":0,\"ticks\":\"\"}}}],\"bar\":[{\"error_x\":{\"color\":\"#2a3f5f\"},\"error_y\":{\"color\":\"#2a3f5f\"},\"marker\":{\"line\":{\"color\":\"#E5ECF6\",\"width\":0.5},\"pattern\":{\"fillmode\":\"overlay\",\"size\":10,\"solidity\":0.2}},\"type\":\"bar\"}],\"scattergeo\":[{\"type\":\"scattergeo\",\"marker\":{\"colorbar\":{\"outlinewidth\":0,\"ticks\":\"\"}}}],\"scatterpolar\":[{\"type\":\"scatterpolar\",\"marker\":{\"colorbar\":{\"outlinewidth\":0,\"ticks\":\"\"}}}],\"histogram\":[{\"marker\":{\"pattern\":{\"fillmode\":\"overlay\",\"size\":10,\"solidity\":0.2}},\"type\":\"histogram\"}],\"scattergl\":[{\"type\":\"scattergl\",\"marker\":{\"colorbar\":{\"outlinewidth\":0,\"ticks\":\"\"}}}],\"scatter3d\":[{\"type\":\"scatter3d\",\"line\":{\"colorbar\":{\"outlinewidth\":0,\"ticks\":\"\"}},\"marker\":{\"colorbar\":{\"outlinewidth\":0,\"ticks\":\"\"}}}],\"scattermapbox\":[{\"type\":\"scattermapbox\",\"marker\":{\"colorbar\":{\"outlinewidth\":0,\"ticks\":\"\"}}}],\"scatterternary\":[{\"type\":\"scatterternary\",\"marker\":{\"colorbar\":{\"outlinewidth\":0,\"ticks\":\"\"}}}],\"scattercarpet\":[{\"type\":\"scattercarpet\",\"marker\":{\"colorbar\":{\"outlinewidth\":0,\"ticks\":\"\"}}}],\"carpet\":[{\"aaxis\":{\"endlinecolor\":\"#2a3f5f\",\"gridcolor\":\"white\",\"linecolor\":\"white\",\"minorgridcolor\":\"white\",\"startlinecolor\":\"#2a3f5f\"},\"baxis\":{\"endlinecolor\":\"#2a3f5f\",\"gridcolor\":\"white\",\"linecolor\":\"white\",\"minorgridcolor\":\"white\",\"startlinecolor\":\"#2a3f5f\"},\"type\":\"carpet\"}],\"table\":[{\"cells\":{\"fill\":{\"color\":\"#EBF0F8\"},\"line\":{\"color\":\"white\"}},\"header\":{\"fill\":{\"color\":\"#C8D4E3\"},\"line\":{\"color\":\"white\"}},\"type\":\"table\"}],\"barpolar\":[{\"marker\":{\"line\":{\"color\":\"#E5ECF6\",\"width\":0.5},\"pattern\":{\"fillmode\":\"overlay\",\"size\":10,\"solidity\":0.2}},\"type\":\"barpolar\"}],\"pie\":[{\"automargin\":true,\"type\":\"pie\"}]},\"layout\":{\"autotypenumbers\":\"strict\",\"colorway\":[\"#636efa\",\"#EF553B\",\"#00cc96\",\"#ab63fa\",\"#FFA15A\",\"#19d3f3\",\"#FF6692\",\"#B6E880\",\"#FF97FF\",\"#FECB52\"],\"font\":{\"color\":\"#2a3f5f\"},\"hovermode\":\"closest\",\"hoverlabel\":{\"align\":\"left\"},\"paper_bgcolor\":\"white\",\"plot_bgcolor\":\"#E5ECF6\",\"polar\":{\"bgcolor\":\"#E5ECF6\",\"angularaxis\":{\"gridcolor\":\"white\",\"linecolor\":\"white\",\"ticks\":\"\"},\"radialaxis\":{\"gridcolor\":\"white\",\"linecolor\":\"white\",\"ticks\":\"\"}},\"ternary\":{\"bgcolor\":\"#E5ECF6\",\"aaxis\":{\"gridcolor\":\"white\",\"linecolor\":\"white\",\"ticks\":\"\"},\"baxis\":{\"gridcolor\":\"white\",\"linecolor\":\"white\",\"ticks\":\"\"},\"caxis\":{\"gridcolor\":\"white\",\"linecolor\":\"white\",\"ticks\":\"\"}},\"coloraxis\":{\"colorbar\":{\"outlinewidth\":0,\"ticks\":\"\"}},\"colorscale\":{\"sequential\":[[0.0,\"#0d0887\"],[0.1111111111111111,\"#46039f\"],[0.2222222222222222,\"#7201a8\"],[0.3333333333333333,\"#9c179e\"],[0.4444444444444444,\"#bd3786\"],[0.5555555555555556,\"#d8576b\"],[0.6666666666666666,\"#ed7953\"],[0.7777777777777778,\"#fb9f3a\"],[0.8888888888888888,\"#fdca26\"],[1.0,\"#f0f921\"]],\"sequentialminus\":[[0.0,\"#0d0887\"],[0.1111111111111111,\"#46039f\"],[0.2222222222222222,\"#7201a8\"],[0.3333333333333333,\"#9c179e\"],[0.4444444444444444,\"#bd3786\"],[0.5555555555555556,\"#d8576b\"],[0.6666666666666666,\"#ed7953\"],[0.7777777777777778,\"#fb9f3a\"],[0.8888888888888888,\"#fdca26\"],[1.0,\"#f0f921\"]],\"diverging\":[[0,\"#8e0152\"],[0.1,\"#c51b7d\"],[0.2,\"#de77ae\"],[0.3,\"#f1b6da\"],[0.4,\"#fde0ef\"],[0.5,\"#f7f7f7\"],[0.6,\"#e6f5d0\"],[0.7,\"#b8e186\"],[0.8,\"#7fbc41\"],[0.9,\"#4d9221\"],[1,\"#276419\"]]},\"xaxis\":{\"gridcolor\":\"white\",\"linecolor\":\"white\",\"ticks\":\"\",\"title\":{\"standoff\":15},\"zerolinecolor\":\"white\",\"automargin\":true,\"zerolinewidth\":2},\"yaxis\":{\"gridcolor\":\"white\",\"linecolor\":\"white\",\"ticks\":\"\",\"title\":{\"standoff\":15},\"zerolinecolor\":\"white\",\"automargin\":true,\"zerolinewidth\":2},\"scene\":{\"xaxis\":{\"backgroundcolor\":\"#E5ECF6\",\"gridcolor\":\"white\",\"linecolor\":\"white\",\"showbackground\":true,\"ticks\":\"\",\"zerolinecolor\":\"white\",\"gridwidth\":2},\"yaxis\":{\"backgroundcolor\":\"#E5ECF6\",\"gridcolor\":\"white\",\"linecolor\":\"white\",\"showbackground\":true,\"ticks\":\"\",\"zerolinecolor\":\"white\",\"gridwidth\":2},\"zaxis\":{\"backgroundcolor\":\"#E5ECF6\",\"gridcolor\":\"white\",\"linecolor\":\"white\",\"showbackground\":true,\"ticks\":\"\",\"zerolinecolor\":\"white\",\"gridwidth\":2}},\"shapedefaults\":{\"line\":{\"color\":\"#2a3f5f\"}},\"annotationdefaults\":{\"arrowcolor\":\"#2a3f5f\",\"arrowhead\":0,\"arrowwidth\":1},\"geo\":{\"bgcolor\":\"white\",\"landcolor\":\"#E5ECF6\",\"subunitcolor\":\"white\",\"showland\":true,\"showlakes\":true,\"lakecolor\":\"white\"},\"title\":{\"x\":0.05},\"mapbox\":{\"style\":\"light\"}}},\"yaxis\":{\"range\":[0,1]},\"legend\":{\"orientation\":\"h\"}},                        {\"responsive\": true}                    ).then(function(){\n",
       "                            \n",
       "var gd = document.getElementById('973c5f1a-2c82-482a-aca5-059bb1d163e6');\n",
       "var x = new MutationObserver(function (mutations, observer) {{\n",
       "        var display = window.getComputedStyle(gd).display;\n",
       "        if (!display || display === 'none') {{\n",
       "            console.log([gd, 'removed!']);\n",
       "            Plotly.purge(gd);\n",
       "            observer.disconnect();\n",
       "        }}\n",
       "}});\n",
       "\n",
       "// Listen for the removal of the full notebook cells\n",
       "var notebookContainer = gd.closest('#notebook-container');\n",
       "if (notebookContainer) {{\n",
       "    x.observe(notebookContainer, {childList: true});\n",
       "}}\n",
       "\n",
       "// Listen for the clearing of the current output cell\n",
       "var outputEl = gd.closest('.output');\n",
       "if (outputEl) {{\n",
       "    x.observe(outputEl, {childList: true});\n",
       "}}\n",
       "\n",
       "                        })                };                });            </script>        </div>"
      ]
     },
     "metadata": {},
     "output_type": "display_data"
    }
   ],
   "source": [
    "get_metric_figure( data )"
   ]
  },
  {
   "cell_type": "code",
   "execution_count": 96,
   "id": "4faf9147-5ae2-40ac-8a2f-ed3d4ed698a9",
   "metadata": {},
   "outputs": [
    {
     "data": {
      "application/vnd.plotly.v1+json": {
       "config": {
        "plotlyServerURL": "https://plot.ly"
       },
       "data": [
        {
         "mode": "lines",
         "name": "train",
         "type": "scatter",
         "x": [
          0,
          1,
          2,
          3,
          4,
          5,
          6,
          7,
          8,
          9,
          10,
          11,
          12,
          13,
          14,
          15,
          16,
          17,
          18,
          19,
          20,
          21,
          22,
          23,
          24,
          25,
          26,
          27,
          28,
          29,
          30,
          31,
          32,
          33,
          34,
          35,
          36,
          37,
          38,
          39,
          40,
          41,
          42,
          43,
          44,
          45,
          46,
          47,
          48,
          49,
          50,
          51,
          52,
          53,
          54,
          55,
          56,
          57,
          58,
          59,
          60,
          61,
          62,
          63,
          64,
          65,
          66,
          67,
          68,
          69,
          70,
          71,
          72,
          73,
          74,
          75,
          76,
          77,
          78,
          79,
          80,
          81,
          82,
          83,
          84,
          85,
          86,
          87,
          88,
          89,
          90,
          91,
          92,
          93,
          94,
          95,
          96,
          97,
          98,
          99,
          100,
          101,
          102,
          103,
          104,
          105,
          106,
          107,
          108,
          109,
          110,
          111,
          112,
          113,
          114,
          115,
          116,
          117,
          118,
          119,
          120,
          121,
          122,
          123,
          124,
          125,
          126,
          127,
          128,
          129,
          130,
          131,
          132,
          133,
          134,
          135,
          136,
          137,
          138,
          139,
          140,
          141,
          142,
          143,
          144,
          145,
          146,
          147,
          148,
          149,
          150,
          151,
          152,
          153,
          154,
          155,
          156,
          157,
          158,
          159,
          160,
          161,
          162,
          163,
          164,
          165,
          166,
          167,
          168,
          169,
          170,
          171,
          172,
          173,
          174,
          175,
          176,
          177,
          178,
          179,
          180,
          181,
          182,
          183,
          184,
          185,
          186,
          187,
          188,
          189,
          190,
          191,
          192,
          193,
          194,
          195,
          196,
          197,
          198,
          199,
          200,
          201,
          202,
          203,
          203,
          203,
          204,
          205,
          206,
          207,
          208,
          209,
          210,
          211,
          212,
          213,
          214,
          215,
          216,
          217,
          218,
          219,
          220,
          221,
          222,
          223,
          224,
          225,
          226,
          227,
          228,
          229,
          230,
          231,
          232,
          233,
          234,
          235,
          236,
          237,
          238,
          239,
          240,
          241,
          242,
          243,
          244,
          245,
          246,
          247,
          248,
          249,
          250,
          251,
          252,
          253,
          254,
          255,
          256,
          257,
          258,
          259,
          260,
          261,
          262,
          263,
          264,
          265,
          266,
          267,
          268,
          269,
          270,
          271,
          272,
          273,
          274,
          275,
          276,
          277,
          278,
          279,
          280,
          281,
          282,
          283,
          284,
          285,
          286,
          287,
          288,
          289,
          290,
          291,
          292,
          293,
          294,
          295,
          296,
          297,
          298,
          299,
          300,
          301,
          302,
          303,
          304,
          305,
          306,
          307,
          308,
          309,
          310,
          311,
          312,
          313,
          314,
          315,
          316,
          317,
          318,
          319,
          320,
          321,
          322,
          323,
          324,
          325,
          326,
          327,
          328,
          329,
          330,
          331,
          332,
          333,
          334,
          335,
          336,
          337,
          338,
          339,
          340,
          341,
          342,
          343,
          344,
          345,
          346,
          347,
          348,
          349,
          350,
          351,
          352,
          353,
          354,
          355,
          356,
          357,
          358,
          359,
          360,
          361,
          362,
          363,
          364,
          365,
          366,
          367,
          368,
          369,
          370,
          371,
          372,
          373,
          374,
          375,
          376,
          377,
          378,
          379,
          380,
          381,
          382,
          383,
          384,
          385,
          386,
          387,
          388,
          389,
          390,
          391,
          392,
          393,
          394,
          395,
          396,
          397,
          398,
          399,
          400,
          401,
          402,
          403,
          404,
          405,
          406,
          406
         ],
         "y": [
          1,
          0.926136,
          0.921875,
          0.921875,
          0.91997,
          0.922181,
          0.923156,
          0.924736,
          0.92689,
          0.927198,
          0.92961,
          0.931025,
          0.931947,
          0.933325,
          0.933954,
          0.932844,
          0.930318,
          0.92955,
          0.930767,
          0.930301,
          0.931126,
          0.930613,
          0.930218,
          0.929992,
          0.92972,
          0.929968,
          0.930316,
          0.930178,
          0.930772,
          0.930949,
          0.931115,
          0.931119,
          0.931464,
          0.931174,
          0.931497,
          0.931847,
          0.9317,
          0.93173,
          0.931635,
          0.931386,
          0.931577,
          0.931493,
          0.931784,
          0.931627,
          0.931796,
          0.931749,
          0.931467,
          0.931263,
          0.931231,
          0.930817,
          0.930795,
          0.930865,
          0.930722,
          0.93082,
          0.930771,
          0.930864,
          0.930509,
          0.930577,
          0.930615,
          0.930547,
          0.930714,
          0.930595,
          0.930304,
          0.930319,
          0.930309,
          0.929988,
          0.929959,
          0.930211,
          0.930341,
          0.930287,
          0.930211,
          0.930226,
          0.930197,
          0.930275,
          0.93012,
          0.929989,
          0.930149,
          0.930083,
          0.930118,
          0.930013,
          0.92999,
          0.930025,
          0.930116,
          0.930092,
          0.930106,
          0.930248,
          0.930223,
          0.930091,
          0.930299,
          0.93031,
          0.930286,
          0.930193,
          0.930069,
          0.930166,
          0.93026,
          0.930287,
          0.930281,
          0.930371,
          0.930173,
          0.930216,
          0.930195,
          0.930174,
          0.930185,
          0.930074,
          0.930025,
          0.929873,
          0.929886,
          0.929812,
          0.92981,
          0.929752,
          0.929723,
          0.929596,
          0.929625,
          0.929542,
          0.929571,
          0.929572,
          0.929452,
          0.929614,
          0.929734,
          0.929668,
          0.929655,
          0.929642,
          0.929656,
          0.929453,
          0.929593,
          0.929544,
          0.929607,
          0.929522,
          0.929498,
          0.929488,
          0.929441,
          0.929181,
          0.929173,
          0.92913,
          0.929192,
          0.929184,
          0.929291,
          0.929351,
          0.929422,
          0.929424,
          0.929403,
          0.929494,
          0.929616,
          0.929649,
          0.929552,
          0.929671,
          0.929789,
          0.929778,
          0.929682,
          0.929598,
          0.929703,
          0.929641,
          0.929641,
          0.929601,
          0.92952,
          0.929501,
          0.929552,
          0.929513,
          0.929554,
          0.929486,
          0.929468,
          0.92944,
          0.929413,
          0.929539,
          0.929559,
          0.929493,
          0.929532,
          0.92958,
          0.929599,
          0.929627,
          0.92971,
          0.929601,
          0.929592,
          0.929502,
          0.929432,
          0.929362,
          0.929337,
          0.929224,
          0.929306,
          0.929308,
          0.929232,
          0.92926,
          0.929246,
          0.929316,
          0.929386,
          0.929481,
          0.929549,
          0.929508,
          0.929442,
          0.92946,
          0.929453,
          0.929373,
          0.929399,
          0.929425,
          0.929386,
          0.929467,
          0.929588,
          0.929612,
          0.929636,
          0.929707,
          0.929816,
          0.929754,
          0.929738,
          0.929699,
          0.929734,
          0.9375,
          0.919034,
          0.915923,
          0.917339,
          0.921875,
          0.93076,
          0.929559,
          0.930458,
          0.930556,
          0.932005,
          0.933014,
          0.933559,
          0.932593,
          0.931298,
          0.931073,
          0.930567,
          0.931289,
          0.930921,
          0.930249,
          0.930792,
          0.931203,
          0.93165,
          0.931844,
          0.931953,
          0.932378,
          0.93252,
          0.932471,
          0.932887,
          0.932774,
          0.933204,
          0.933243,
          0.933531,
          0.933995,
          0.934101,
          0.934247,
          0.934295,
          0.934254,
          0.934426,
          0.934506,
          0.934223,
          0.934383,
          0.934116,
          0.933714,
          0.933476,
          0.933603,
          0.933793,
          0.933941,
          0.933917,
          0.933829,
          0.933586,
          0.933695,
          0.933372,
          0.933601,
          0.93341,
          0.933312,
          0.933161,
          0.932821,
          0.93304,
          0.933251,
          0.933481,
          0.93373,
          0.933511,
          0.933449,
          0.933513,
          0.933673,
          0.933396,
          0.933269,
          0.933262,
          0.933255,
          0.933452,
          0.93322,
          0.933193,
          0.933079,
          0.932926,
          0.932945,
          0.932694,
          0.932593,
          0.932596,
          0.932738,
          0.932799,
          0.932877,
          0.932876,
          0.932932,
          0.933044,
          0.932892,
          0.933075,
          0.933235,
          0.933141,
          0.933261,
          0.933046,
          0.933182,
          0.933144,
          0.933208,
          0.933321,
          0.933482,
          0.933557,
          0.933614,
          0.933638,
          0.933789,
          0.933747,
          0.933738,
          0.933404,
          0.933582,
          0.93362,
          0.933673,
          0.933724,
          0.933612,
          0.933532,
          0.933568,
          0.933447,
          0.93347,
          0.933464,
          0.933472,
          0.933425,
          0.933378,
          0.933522,
          0.933772,
          0.933857,
          0.933809,
          0.933748,
          0.933818,
          0.933797,
          0.93384,
          0.933832,
          0.933748,
          0.933728,
          0.933795,
          0.9338,
          0.933853,
          0.933881,
          0.933897,
          0.933722,
          0.933833,
          0.933732,
          0.93369,
          0.933649,
          0.933597,
          0.933534,
          0.933585,
          0.933524,
          0.933496,
          0.933569,
          0.933629,
          0.933624,
          0.933683,
          0.933699,
          0.933661,
          0.933655,
          0.933649,
          0.93378,
          0.933742,
          0.933695,
          0.933658,
          0.933581,
          0.933546,
          0.933581,
          0.933476,
          0.933392,
          0.933399,
          0.933395,
          0.933303,
          0.933349,
          0.933403,
          0.933409,
          0.933301,
          0.933222,
          0.93321,
          0.933161,
          0.933094,
          0.933037,
          0.933054,
          0.933098,
          0.933206,
          0.933167,
          0.933255,
          0.933288,
          0.933232,
          0.933221,
          0.933131,
          0.933007,
          0.933075,
          0.933022,
          0.933021,
          0.93302,
          0.932951,
          0.932883,
          0.932815,
          0.932848,
          0.932865,
          0.932865,
          0.932749,
          0.932635,
          0.932628,
          0.932556,
          0.932469,
          0.932487,
          0.932504,
          0.932545,
          0.932594,
          0.932611,
          0.932581,
          0.932512,
          0.932567,
          0.932661,
          0.932694
         ]
        },
        {
         "mode": "lines",
         "name": "val",
         "type": "scatter",
         "x": [
          0,
          9,
          18,
          28,
          37,
          46,
          55,
          65,
          74,
          83,
          92,
          102,
          111,
          120,
          129,
          138,
          148,
          157,
          166,
          175,
          185,
          194,
          203,
          203,
          203,
          212,
          221,
          231,
          240,
          249,
          258,
          268,
          277,
          286,
          295,
          304,
          314,
          323,
          332,
          341,
          351,
          360,
          369,
          378,
          388,
          397,
          406,
          406
         ],
         "y": [
          0.90625,
          0.879261,
          0.877232,
          0.876512,
          0.879573,
          0.876838,
          0.877305,
          0.87368,
          0.872106,
          0.871051,
          0.871287,
          0.871622,
          0.870351,
          0.869633,
          0.869127,
          0.868584,
          0.869274,
          0.868147,
          0.867231,
          0.867801,
          0.869325,
          0.86915,
          0.868425,
          0.868664,
          0.890625,
          0.892045,
          0.903274,
          0.904738,
          0.904345,
          0.908395,
          0.905738,
          0.90713,
          0.905478,
          0.905391,
          0.90362,
          0.904702,
          0.906121,
          0.905415,
          0.905031,
          0.904491,
          0.906056,
          0.90561,
          0.905473,
          0.905514,
          0.904851,
          0.905287,
          0.904977,
          0.903767
         ]
        },
        {
         "mode": "lines",
         "name": "real_val",
         "type": "scatter",
         "x": [
          0,
          20,
          41,
          61,
          81,
          102,
          122,
          142,
          162,
          183,
          203,
          203,
          203,
          223,
          244,
          264,
          284,
          304,
          325,
          345,
          365,
          386,
          406,
          406
         ],
         "y": [
          0.8125,
          0.704545,
          0.720238,
          0.724294,
          0.712271,
          0.710478,
          0.71209,
          0.710167,
          0.712191,
          0.715659,
          0.714264,
          0.715475,
          0.65625,
          0.596591,
          0.582589,
          0.59123,
          0.594512,
          0.592218,
          0.592725,
          0.596611,
          0.590664,
          0.587054,
          0.589109,
          0.593089
         ]
        }
       ],
       "layout": {
        "autosize": true,
        "legend": {
         "orientation": "h"
        },
        "template": {
         "data": {
          "bar": [
           {
            "error_x": {
             "color": "#2a3f5f"
            },
            "error_y": {
             "color": "#2a3f5f"
            },
            "marker": {
             "line": {
              "color": "#E5ECF6",
              "width": 0.5
             },
             "pattern": {
              "fillmode": "overlay",
              "size": 10,
              "solidity": 0.2
             }
            },
            "type": "bar"
           }
          ],
          "barpolar": [
           {
            "marker": {
             "line": {
              "color": "#E5ECF6",
              "width": 0.5
             },
             "pattern": {
              "fillmode": "overlay",
              "size": 10,
              "solidity": 0.2
             }
            },
            "type": "barpolar"
           }
          ],
          "carpet": [
           {
            "aaxis": {
             "endlinecolor": "#2a3f5f",
             "gridcolor": "white",
             "linecolor": "white",
             "minorgridcolor": "white",
             "startlinecolor": "#2a3f5f"
            },
            "baxis": {
             "endlinecolor": "#2a3f5f",
             "gridcolor": "white",
             "linecolor": "white",
             "minorgridcolor": "white",
             "startlinecolor": "#2a3f5f"
            },
            "type": "carpet"
           }
          ],
          "choropleth": [
           {
            "colorbar": {
             "outlinewidth": 0,
             "ticks": ""
            },
            "type": "choropleth"
           }
          ],
          "contour": [
           {
            "colorbar": {
             "outlinewidth": 0,
             "ticks": ""
            },
            "colorscale": [
             [
              0,
              "#0d0887"
             ],
             [
              0.1111111111111111,
              "#46039f"
             ],
             [
              0.2222222222222222,
              "#7201a8"
             ],
             [
              0.3333333333333333,
              "#9c179e"
             ],
             [
              0.4444444444444444,
              "#bd3786"
             ],
             [
              0.5555555555555556,
              "#d8576b"
             ],
             [
              0.6666666666666666,
              "#ed7953"
             ],
             [
              0.7777777777777778,
              "#fb9f3a"
             ],
             [
              0.8888888888888888,
              "#fdca26"
             ],
             [
              1,
              "#f0f921"
             ]
            ],
            "type": "contour"
           }
          ],
          "contourcarpet": [
           {
            "colorbar": {
             "outlinewidth": 0,
             "ticks": ""
            },
            "type": "contourcarpet"
           }
          ],
          "heatmap": [
           {
            "colorbar": {
             "outlinewidth": 0,
             "ticks": ""
            },
            "colorscale": [
             [
              0,
              "#0d0887"
             ],
             [
              0.1111111111111111,
              "#46039f"
             ],
             [
              0.2222222222222222,
              "#7201a8"
             ],
             [
              0.3333333333333333,
              "#9c179e"
             ],
             [
              0.4444444444444444,
              "#bd3786"
             ],
             [
              0.5555555555555556,
              "#d8576b"
             ],
             [
              0.6666666666666666,
              "#ed7953"
             ],
             [
              0.7777777777777778,
              "#fb9f3a"
             ],
             [
              0.8888888888888888,
              "#fdca26"
             ],
             [
              1,
              "#f0f921"
             ]
            ],
            "type": "heatmap"
           }
          ],
          "heatmapgl": [
           {
            "colorbar": {
             "outlinewidth": 0,
             "ticks": ""
            },
            "colorscale": [
             [
              0,
              "#0d0887"
             ],
             [
              0.1111111111111111,
              "#46039f"
             ],
             [
              0.2222222222222222,
              "#7201a8"
             ],
             [
              0.3333333333333333,
              "#9c179e"
             ],
             [
              0.4444444444444444,
              "#bd3786"
             ],
             [
              0.5555555555555556,
              "#d8576b"
             ],
             [
              0.6666666666666666,
              "#ed7953"
             ],
             [
              0.7777777777777778,
              "#fb9f3a"
             ],
             [
              0.8888888888888888,
              "#fdca26"
             ],
             [
              1,
              "#f0f921"
             ]
            ],
            "type": "heatmapgl"
           }
          ],
          "histogram": [
           {
            "marker": {
             "pattern": {
              "fillmode": "overlay",
              "size": 10,
              "solidity": 0.2
             }
            },
            "type": "histogram"
           }
          ],
          "histogram2d": [
           {
            "colorbar": {
             "outlinewidth": 0,
             "ticks": ""
            },
            "colorscale": [
             [
              0,
              "#0d0887"
             ],
             [
              0.1111111111111111,
              "#46039f"
             ],
             [
              0.2222222222222222,
              "#7201a8"
             ],
             [
              0.3333333333333333,
              "#9c179e"
             ],
             [
              0.4444444444444444,
              "#bd3786"
             ],
             [
              0.5555555555555556,
              "#d8576b"
             ],
             [
              0.6666666666666666,
              "#ed7953"
             ],
             [
              0.7777777777777778,
              "#fb9f3a"
             ],
             [
              0.8888888888888888,
              "#fdca26"
             ],
             [
              1,
              "#f0f921"
             ]
            ],
            "type": "histogram2d"
           }
          ],
          "histogram2dcontour": [
           {
            "colorbar": {
             "outlinewidth": 0,
             "ticks": ""
            },
            "colorscale": [
             [
              0,
              "#0d0887"
             ],
             [
              0.1111111111111111,
              "#46039f"
             ],
             [
              0.2222222222222222,
              "#7201a8"
             ],
             [
              0.3333333333333333,
              "#9c179e"
             ],
             [
              0.4444444444444444,
              "#bd3786"
             ],
             [
              0.5555555555555556,
              "#d8576b"
             ],
             [
              0.6666666666666666,
              "#ed7953"
             ],
             [
              0.7777777777777778,
              "#fb9f3a"
             ],
             [
              0.8888888888888888,
              "#fdca26"
             ],
             [
              1,
              "#f0f921"
             ]
            ],
            "type": "histogram2dcontour"
           }
          ],
          "mesh3d": [
           {
            "colorbar": {
             "outlinewidth": 0,
             "ticks": ""
            },
            "type": "mesh3d"
           }
          ],
          "parcoords": [
           {
            "line": {
             "colorbar": {
              "outlinewidth": 0,
              "ticks": ""
             }
            },
            "type": "parcoords"
           }
          ],
          "pie": [
           {
            "automargin": true,
            "type": "pie"
           }
          ],
          "scatter": [
           {
            "fillpattern": {
             "fillmode": "overlay",
             "size": 10,
             "solidity": 0.2
            },
            "type": "scatter"
           }
          ],
          "scatter3d": [
           {
            "line": {
             "colorbar": {
              "outlinewidth": 0,
              "ticks": ""
             }
            },
            "marker": {
             "colorbar": {
              "outlinewidth": 0,
              "ticks": ""
             }
            },
            "type": "scatter3d"
           }
          ],
          "scattercarpet": [
           {
            "marker": {
             "colorbar": {
              "outlinewidth": 0,
              "ticks": ""
             }
            },
            "type": "scattercarpet"
           }
          ],
          "scattergeo": [
           {
            "marker": {
             "colorbar": {
              "outlinewidth": 0,
              "ticks": ""
             }
            },
            "type": "scattergeo"
           }
          ],
          "scattergl": [
           {
            "marker": {
             "colorbar": {
              "outlinewidth": 0,
              "ticks": ""
             }
            },
            "type": "scattergl"
           }
          ],
          "scattermapbox": [
           {
            "marker": {
             "colorbar": {
              "outlinewidth": 0,
              "ticks": ""
             }
            },
            "type": "scattermapbox"
           }
          ],
          "scatterpolar": [
           {
            "marker": {
             "colorbar": {
              "outlinewidth": 0,
              "ticks": ""
             }
            },
            "type": "scatterpolar"
           }
          ],
          "scatterpolargl": [
           {
            "marker": {
             "colorbar": {
              "outlinewidth": 0,
              "ticks": ""
             }
            },
            "type": "scatterpolargl"
           }
          ],
          "scatterternary": [
           {
            "marker": {
             "colorbar": {
              "outlinewidth": 0,
              "ticks": ""
             }
            },
            "type": "scatterternary"
           }
          ],
          "surface": [
           {
            "colorbar": {
             "outlinewidth": 0,
             "ticks": ""
            },
            "colorscale": [
             [
              0,
              "#0d0887"
             ],
             [
              0.1111111111111111,
              "#46039f"
             ],
             [
              0.2222222222222222,
              "#7201a8"
             ],
             [
              0.3333333333333333,
              "#9c179e"
             ],
             [
              0.4444444444444444,
              "#bd3786"
             ],
             [
              0.5555555555555556,
              "#d8576b"
             ],
             [
              0.6666666666666666,
              "#ed7953"
             ],
             [
              0.7777777777777778,
              "#fb9f3a"
             ],
             [
              0.8888888888888888,
              "#fdca26"
             ],
             [
              1,
              "#f0f921"
             ]
            ],
            "type": "surface"
           }
          ],
          "table": [
           {
            "cells": {
             "fill": {
              "color": "#EBF0F8"
             },
             "line": {
              "color": "white"
             }
            },
            "header": {
             "fill": {
              "color": "#C8D4E3"
             },
             "line": {
              "color": "white"
             }
            },
            "type": "table"
           }
          ]
         },
         "layout": {
          "annotationdefaults": {
           "arrowcolor": "#2a3f5f",
           "arrowhead": 0,
           "arrowwidth": 1
          },
          "autotypenumbers": "strict",
          "coloraxis": {
           "colorbar": {
            "outlinewidth": 0,
            "ticks": ""
           }
          },
          "colorscale": {
           "diverging": [
            [
             0,
             "#8e0152"
            ],
            [
             0.1,
             "#c51b7d"
            ],
            [
             0.2,
             "#de77ae"
            ],
            [
             0.3,
             "#f1b6da"
            ],
            [
             0.4,
             "#fde0ef"
            ],
            [
             0.5,
             "#f7f7f7"
            ],
            [
             0.6,
             "#e6f5d0"
            ],
            [
             0.7,
             "#b8e186"
            ],
            [
             0.8,
             "#7fbc41"
            ],
            [
             0.9,
             "#4d9221"
            ],
            [
             1,
             "#276419"
            ]
           ],
           "sequential": [
            [
             0,
             "#0d0887"
            ],
            [
             0.1111111111111111,
             "#46039f"
            ],
            [
             0.2222222222222222,
             "#7201a8"
            ],
            [
             0.3333333333333333,
             "#9c179e"
            ],
            [
             0.4444444444444444,
             "#bd3786"
            ],
            [
             0.5555555555555556,
             "#d8576b"
            ],
            [
             0.6666666666666666,
             "#ed7953"
            ],
            [
             0.7777777777777778,
             "#fb9f3a"
            ],
            [
             0.8888888888888888,
             "#fdca26"
            ],
            [
             1,
             "#f0f921"
            ]
           ],
           "sequentialminus": [
            [
             0,
             "#0d0887"
            ],
            [
             0.1111111111111111,
             "#46039f"
            ],
            [
             0.2222222222222222,
             "#7201a8"
            ],
            [
             0.3333333333333333,
             "#9c179e"
            ],
            [
             0.4444444444444444,
             "#bd3786"
            ],
            [
             0.5555555555555556,
             "#d8576b"
            ],
            [
             0.6666666666666666,
             "#ed7953"
            ],
            [
             0.7777777777777778,
             "#fb9f3a"
            ],
            [
             0.8888888888888888,
             "#fdca26"
            ],
            [
             1,
             "#f0f921"
            ]
           ]
          },
          "colorway": [
           "#636efa",
           "#EF553B",
           "#00cc96",
           "#ab63fa",
           "#FFA15A",
           "#19d3f3",
           "#FF6692",
           "#B6E880",
           "#FF97FF",
           "#FECB52"
          ],
          "font": {
           "color": "#2a3f5f"
          },
          "geo": {
           "bgcolor": "white",
           "lakecolor": "white",
           "landcolor": "#E5ECF6",
           "showlakes": true,
           "showland": true,
           "subunitcolor": "white"
          },
          "hoverlabel": {
           "align": "left"
          },
          "hovermode": "closest",
          "mapbox": {
           "style": "light"
          },
          "paper_bgcolor": "white",
          "plot_bgcolor": "#E5ECF6",
          "polar": {
           "angularaxis": {
            "gridcolor": "white",
            "linecolor": "white",
            "ticks": ""
           },
           "bgcolor": "#E5ECF6",
           "radialaxis": {
            "gridcolor": "white",
            "linecolor": "white",
            "ticks": ""
           }
          },
          "scene": {
           "xaxis": {
            "backgroundcolor": "#E5ECF6",
            "gridcolor": "white",
            "gridwidth": 2,
            "linecolor": "white",
            "showbackground": true,
            "ticks": "",
            "zerolinecolor": "white"
           },
           "yaxis": {
            "backgroundcolor": "#E5ECF6",
            "gridcolor": "white",
            "gridwidth": 2,
            "linecolor": "white",
            "showbackground": true,
            "ticks": "",
            "zerolinecolor": "white"
           },
           "zaxis": {
            "backgroundcolor": "#E5ECF6",
            "gridcolor": "white",
            "gridwidth": 2,
            "linecolor": "white",
            "showbackground": true,
            "ticks": "",
            "zerolinecolor": "white"
           }
          },
          "shapedefaults": {
           "line": {
            "color": "#2a3f5f"
           }
          },
          "ternary": {
           "aaxis": {
            "gridcolor": "white",
            "linecolor": "white",
            "ticks": ""
           },
           "baxis": {
            "gridcolor": "white",
            "linecolor": "white",
            "ticks": ""
           },
           "bgcolor": "#E5ECF6",
           "caxis": {
            "gridcolor": "white",
            "linecolor": "white",
            "ticks": ""
           }
          },
          "title": {
           "x": 0.05
          },
          "xaxis": {
           "automargin": true,
           "gridcolor": "white",
           "linecolor": "white",
           "ticks": "",
           "title": {
            "standoff": 15
           },
           "zerolinecolor": "white",
           "zerolinewidth": 2
          },
          "yaxis": {
           "automargin": true,
           "gridcolor": "white",
           "linecolor": "white",
           "ticks": "",
           "title": {
            "standoff": 15
           },
           "zerolinecolor": "white",
           "zerolinewidth": 2
          }
         }
        },
        "xaxis": {
         "autorange": true,
         "range": [
          0,
          406
         ],
         "type": "linear"
        },
        "yaxis": {
         "range": [
          0,
          1
         ],
         "type": "linear"
        }
       }
      },
      "image/png": "[encoded data removed]",
      "text/html": [
       "<div>                            <div id=\"40c1078d-d3ab-466b-b2c6-6ea1373facbf\" class=\"plotly-graph-div\" style=\"height:525px; width:100%;\"></div>            <script type=\"text/javascript\">                require([\"plotly\"], function(Plotly) {                    window.PLOTLYENV=window.PLOTLYENV || {};                                    if (document.getElementById(\"40c1078d-d3ab-466b-b2c6-6ea1373facbf\")) {                    Plotly.newPlot(                        \"40c1078d-d3ab-466b-b2c6-6ea1373facbf\",                        [{\"mode\":\"lines\",\"name\":\"train\",\"x\":[0.0,1.0,2.0,3.0,4.0,5.0,6.0,7.0,8.0,9.0,10.0,11.0,12.0,13.0,14.0,15.0,16.0,17.0,18.0,19.0,20.0,21.0,22.0,23.0,24.0,25.0,26.0,27.0,28.0,29.0,30.0,31.0,32.0,33.0,34.0,35.0,36.0,37.0,38.0,39.0,40.0,41.0,42.0,43.0,44.0,45.0,46.0,47.0,48.0,49.0,50.0,51.0,52.0,53.0,54.0,55.0,56.0,57.0,58.0,59.0,60.0,61.0,62.0,63.0,64.0,65.0,66.0,67.0,68.0,69.0,70.0,71.0,72.0,73.0,74.0,75.0,76.0,77.0,78.0,79.0,80.0,81.0,82.0,83.0,84.0,85.0,86.0,87.0,88.0,89.0,90.0,91.0,92.0,93.0,94.0,95.0,96.0,97.0,98.0,99.0,100.0,101.0,102.0,103.0,104.0,105.0,106.0,107.0,108.0,109.0,110.0,111.0,112.0,113.0,114.0,115.0,116.0,117.0,118.0,119.0,120.0,121.0,122.0,123.0,124.0,125.0,126.0,127.0,128.0,129.0,130.0,131.0,132.0,133.0,134.0,135.0,136.0,137.0,138.0,139.0,140.0,141.0,142.0,143.0,144.0,145.0,146.0,147.0,148.0,149.0,150.0,151.0,152.0,153.0,154.0,155.0,156.0,157.0,158.0,159.0,160.0,161.0,162.0,163.0,164.0,165.0,166.0,167.0,168.0,169.0,170.0,171.0,172.0,173.0,174.0,175.0,176.0,177.0,178.0,179.0,180.0,181.0,182.0,183.0,184.0,185.0,186.0,187.0,188.0,189.0,190.0,191.0,192.0,193.0,194.0,195.0,196.0,197.0,198.0,199.0,200.0,201.0,202.0,203.0,203.0,203.0,204.0,205.0,206.0,207.0,208.0,209.0,210.0,211.0,212.0,213.0,214.0,215.0,216.0,217.0,218.0,219.0,220.0,221.0,222.0,223.0,224.0,225.0,226.0,227.0,228.0,229.0,230.0,231.0,232.0,233.0,234.0,235.0,236.0,237.0,238.0,239.0,240.0,241.0,242.0,243.0,244.0,245.0,246.0,247.0,248.0,249.0,250.0,251.0,252.0,253.0,254.0,255.0,256.0,257.0,258.0,259.0,260.0,261.0,262.0,263.0,264.0,265.0,266.0,267.0,268.0,269.0,270.0,271.0,272.0,273.0,274.0,275.0,276.0,277.0,278.0,279.0,280.0,281.0,282.0,283.0,284.0,285.0,286.0,287.0,288.0,289.0,290.0,291.0,292.0,293.0,294.0,295.0,296.0,297.0,298.0,299.0,300.0,301.0,302.0,303.0,304.0,305.0,306.0,307.0,308.0,309.0,310.0,311.0,312.0,313.0,314.0,315.0,316.0,317.0,318.0,319.0,320.0,321.0,322.0,323.0,324.0,325.0,326.0,327.0,328.0,329.0,330.0,331.0,332.0,333.0,334.0,335.0,336.0,337.0,338.0,339.0,340.0,341.0,342.0,343.0,344.0,345.0,346.0,347.0,348.0,349.0,350.0,351.0,352.0,353.0,354.0,355.0,356.0,357.0,358.0,359.0,360.0,361.0,362.0,363.0,364.0,365.0,366.0,367.0,368.0,369.0,370.0,371.0,372.0,373.0,374.0,375.0,376.0,377.0,378.0,379.0,380.0,381.0,382.0,383.0,384.0,385.0,386.0,387.0,388.0,389.0,390.0,391.0,392.0,393.0,394.0,395.0,396.0,397.0,398.0,399.0,400.0,401.0,402.0,403.0,404.0,405.0,406.0,406.0],\"y\":[1.0,0.926136,0.921875,0.921875,0.91997,0.922181,0.923156,0.924736,0.92689,0.927198,0.92961,0.931025,0.931947,0.933325,0.933954,0.932844,0.930318,0.92955,0.930767,0.930301,0.931126,0.930613,0.930218,0.929992,0.92972,0.929968,0.930316,0.930178,0.930772,0.930949,0.931115,0.931119,0.931464,0.931174,0.931497,0.931847,0.9317,0.93173,0.931635,0.931386,0.931577,0.931493,0.931784,0.931627,0.931796,0.931749,0.931467,0.931263,0.931231,0.930817,0.930795,0.930865,0.930722,0.93082,0.930771,0.930864,0.930509,0.930577,0.930615,0.930547,0.930714,0.930595,0.930304,0.930319,0.930309,0.929988,0.929959,0.930211,0.930341,0.930287,0.930211,0.930226,0.930197,0.930275,0.93012,0.929989,0.930149,0.930083,0.930118,0.930013,0.92999,0.930025,0.930116,0.930092,0.930106,0.930248,0.930223,0.930091,0.930299,0.93031,0.930286,0.930193,0.930069,0.930166,0.93026,0.930287,0.930281,0.930371,0.930173,0.930216,0.930195,0.930174,0.930185,0.930074,0.930025,0.929873,0.929886,0.929812,0.92981,0.929752,0.929723,0.929596,0.929625,0.929542,0.929571,0.929572,0.929452,0.929614,0.929734,0.929668,0.929655,0.929642,0.929656,0.929453,0.929593,0.929544,0.929607,0.929522,0.929498,0.929488,0.929441,0.929181,0.929173,0.92913,0.929192,0.929184,0.929291,0.929351,0.929422,0.929424,0.929403,0.929494,0.929616,0.929649,0.929552,0.929671,0.929789,0.929778,0.929682,0.929598,0.929703,0.929641,0.929641,0.929601,0.92952,0.929501,0.929552,0.929513,0.929554,0.929486,0.929468,0.92944,0.929413,0.929539,0.929559,0.929493,0.929532,0.92958,0.929599,0.929627,0.92971,0.929601,0.929592,0.929502,0.929432,0.929362,0.929337,0.929224,0.929306,0.929308,0.929232,0.92926,0.929246,0.929316,0.929386,0.929481,0.929549,0.929508,0.929442,0.92946,0.929453,0.929373,0.929399,0.929425,0.929386,0.929467,0.929588,0.929612,0.929636,0.929707,0.929816,0.929754,0.929738,0.929699,0.929734,0.9375,0.919034,0.915923,0.917339,0.921875,0.93076,0.929559,0.930458,0.930556,0.932005,0.933014,0.933559,0.932593,0.931298,0.931073,0.930567,0.931289,0.930921,0.930249,0.930792,0.931203,0.93165,0.931844,0.931953,0.932378,0.93252,0.932471,0.932887,0.932774,0.933204,0.933243,0.933531,0.933995,0.934101,0.934247,0.934295,0.934254,0.934426,0.934506,0.934223,0.934383,0.934116,0.933714,0.933476,0.933603,0.933793,0.933941,0.933917,0.933829,0.933586,0.933695,0.933372,0.933601,0.93341,0.933312,0.933161,0.932821,0.93304,0.933251,0.933481,0.93373,0.933511,0.933449,0.933513,0.933673,0.933396,0.933269,0.933262,0.933255,0.933452,0.93322,0.933193,0.933079,0.932926,0.932945,0.932694,0.932593,0.932596,0.932738,0.932799,0.932877,0.932876,0.932932,0.933044,0.932892,0.933075,0.933235,0.933141,0.933261,0.933046,0.933182,0.933144,0.933208,0.933321,0.933482,0.933557,0.933614,0.933638,0.933789,0.933747,0.933738,0.933404,0.933582,0.93362,0.933673,0.933724,0.933612,0.933532,0.933568,0.933447,0.93347,0.933464,0.933472,0.933425,0.933378,0.933522,0.933772,0.933857,0.933809,0.933748,0.933818,0.933797,0.93384,0.933832,0.933748,0.933728,0.933795,0.9338,0.933853,0.933881,0.933897,0.933722,0.933833,0.933732,0.93369,0.933649,0.933597,0.933534,0.933585,0.933524,0.933496,0.933569,0.933629,0.933624,0.933683,0.933699,0.933661,0.933655,0.933649,0.93378,0.933742,0.933695,0.933658,0.933581,0.933546,0.933581,0.933476,0.933392,0.933399,0.933395,0.933303,0.933349,0.933403,0.933409,0.933301,0.933222,0.93321,0.933161,0.933094,0.933037,0.933054,0.933098,0.933206,0.933167,0.933255,0.933288,0.933232,0.933221,0.933131,0.933007,0.933075,0.933022,0.933021,0.93302,0.932951,0.932883,0.932815,0.932848,0.932865,0.932865,0.932749,0.932635,0.932628,0.932556,0.932469,0.932487,0.932504,0.932545,0.932594,0.932611,0.932581,0.932512,0.932567,0.932661,0.932694],\"type\":\"scatter\"},{\"mode\":\"lines\",\"name\":\"val\",\"x\":[0.0,9.0,18.0,28.0,37.0,46.0,55.0,65.0,74.0,83.0,92.0,102.0,111.0,120.0,129.0,138.0,148.0,157.0,166.0,175.0,185.0,194.0,203.0,203.0,203.0,212.0,221.0,231.0,240.0,249.0,258.0,268.0,277.0,286.0,295.0,304.0,314.0,323.0,332.0,341.0,351.0,360.0,369.0,378.0,388.0,397.0,406.0,406.0],\"y\":[0.90625,0.879261,0.877232,0.876512,0.879573,0.876838,0.877305,0.87368,0.872106,0.871051,0.871287,0.871622,0.870351,0.869633,0.869127,0.868584,0.869274,0.868147,0.867231,0.867801,0.869325,0.86915,0.868425,0.868664,0.890625,0.892045,0.903274,0.904738,0.904345,0.908395,0.905738,0.90713,0.905478,0.905391,0.90362,0.904702,0.906121,0.905415,0.905031,0.904491,0.906056,0.90561,0.905473,0.905514,0.904851,0.905287,0.904977,0.903767],\"type\":\"scatter\"},{\"mode\":\"lines\",\"name\":\"real_val\",\"x\":[0.0,20.0,41.0,61.0,81.0,102.0,122.0,142.0,162.0,183.0,203.0,203.0,203.0,223.0,244.0,264.0,284.0,304.0,325.0,345.0,365.0,386.0,406.0,406.0],\"y\":[0.8125,0.704545,0.720238,0.724294,0.712271,0.710478,0.71209,0.710167,0.712191,0.715659,0.714264,0.715475,0.65625,0.596591,0.582589,0.59123,0.594512,0.592218,0.592725,0.596611,0.590664,0.587054,0.589109,0.593089],\"type\":\"scatter\"}],                        {\"template\":{\"data\":{\"histogram2dcontour\":[{\"type\":\"histogram2dcontour\",\"colorbar\":{\"outlinewidth\":0,\"ticks\":\"\"},\"colorscale\":[[0.0,\"#0d0887\"],[0.1111111111111111,\"#46039f\"],[0.2222222222222222,\"#7201a8\"],[0.3333333333333333,\"#9c179e\"],[0.4444444444444444,\"#bd3786\"],[0.5555555555555556,\"#d8576b\"],[0.6666666666666666,\"#ed7953\"],[0.7777777777777778,\"#fb9f3a\"],[0.8888888888888888,\"#fdca26\"],[1.0,\"#f0f921\"]]}],\"choropleth\":[{\"type\":\"choropleth\",\"colorbar\":{\"outlinewidth\":0,\"ticks\":\"\"}}],\"histogram2d\":[{\"type\":\"histogram2d\",\"colorbar\":{\"outlinewidth\":0,\"ticks\":\"\"},\"colorscale\":[[0.0,\"#0d0887\"],[0.1111111111111111,\"#46039f\"],[0.2222222222222222,\"#7201a8\"],[0.3333333333333333,\"#9c179e\"],[0.4444444444444444,\"#bd3786\"],[0.5555555555555556,\"#d8576b\"],[0.6666666666666666,\"#ed7953\"],[0.7777777777777778,\"#fb9f3a\"],[0.8888888888888888,\"#fdca26\"],[1.0,\"#f0f921\"]]}],\"heatmap\":[{\"type\":\"heatmap\",\"colorbar\":{\"outlinewidth\":0,\"ticks\":\"\"},\"colorscale\":[[0.0,\"#0d0887\"],[0.1111111111111111,\"#46039f\"],[0.2222222222222222,\"#7201a8\"],[0.3333333333333333,\"#9c179e\"],[0.4444444444444444,\"#bd3786\"],[0.5555555555555556,\"#d8576b\"],[0.6666666666666666,\"#ed7953\"],[0.7777777777777778,\"#fb9f3a\"],[0.8888888888888888,\"#fdca26\"],[1.0,\"#f0f921\"]]}],\"heatmapgl\":[{\"type\":\"heatmapgl\",\"colorbar\":{\"outlinewidth\":0,\"ticks\":\"\"},\"colorscale\":[[0.0,\"#0d0887\"],[0.1111111111111111,\"#46039f\"],[0.2222222222222222,\"#7201a8\"],[0.3333333333333333,\"#9c179e\"],[0.4444444444444444,\"#bd3786\"],[0.5555555555555556,\"#d8576b\"],[0.6666666666666666,\"#ed7953\"],[0.7777777777777778,\"#fb9f3a\"],[0.8888888888888888,\"#fdca26\"],[1.0,\"#f0f921\"]]}],\"contourcarpet\":[{\"type\":\"contourcarpet\",\"colorbar\":{\"outlinewidth\":0,\"ticks\":\"\"}}],\"contour\":[{\"type\":\"contour\",\"colorbar\":{\"outlinewidth\":0,\"ticks\":\"\"},\"colorscale\":[[0.0,\"#0d0887\"],[0.1111111111111111,\"#46039f\"],[0.2222222222222222,\"#7201a8\"],[0.3333333333333333,\"#9c179e\"],[0.4444444444444444,\"#bd3786\"],[0.5555555555555556,\"#d8576b\"],[0.6666666666666666,\"#ed7953\"],[0.7777777777777778,\"#fb9f3a\"],[0.8888888888888888,\"#fdca26\"],[1.0,\"#f0f921\"]]}],\"surface\":[{\"type\":\"surface\",\"colorbar\":{\"outlinewidth\":0,\"ticks\":\"\"},\"colorscale\":[[0.0,\"#0d0887\"],[0.1111111111111111,\"#46039f\"],[0.2222222222222222,\"#7201a8\"],[0.3333333333333333,\"#9c179e\"],[0.4444444444444444,\"#bd3786\"],[0.5555555555555556,\"#d8576b\"],[0.6666666666666666,\"#ed7953\"],[0.7777777777777778,\"#fb9f3a\"],[0.8888888888888888,\"#fdca26\"],[1.0,\"#f0f921\"]]}],\"mesh3d\":[{\"type\":\"mesh3d\",\"colorbar\":{\"outlinewidth\":0,\"ticks\":\"\"}}],\"scatter\":[{\"fillpattern\":{\"fillmode\":\"overlay\",\"size\":10,\"solidity\":0.2},\"type\":\"scatter\"}],\"parcoords\":[{\"type\":\"parcoords\",\"line\":{\"colorbar\":{\"outlinewidth\":0,\"ticks\":\"\"}}}],\"scatterpolargl\":[{\"type\":\"scatterpolargl\",\"marker\":{\"colorbar\":{\"outlinewidth\":0,\"ticks\":\"\"}}}],\"bar\":[{\"error_x\":{\"color\":\"#2a3f5f\"},\"error_y\":{\"color\":\"#2a3f5f\"},\"marker\":{\"line\":{\"color\":\"#E5ECF6\",\"width\":0.5},\"pattern\":{\"fillmode\":\"overlay\",\"size\":10,\"solidity\":0.2}},\"type\":\"bar\"}],\"scattergeo\":[{\"type\":\"scattergeo\",\"marker\":{\"colorbar\":{\"outlinewidth\":0,\"ticks\":\"\"}}}],\"scatterpolar\":[{\"type\":\"scatterpolar\",\"marker\":{\"colorbar\":{\"outlinewidth\":0,\"ticks\":\"\"}}}],\"histogram\":[{\"marker\":{\"pattern\":{\"fillmode\":\"overlay\",\"size\":10,\"solidity\":0.2}},\"type\":\"histogram\"}],\"scattergl\":[{\"type\":\"scattergl\",\"marker\":{\"colorbar\":{\"outlinewidth\":0,\"ticks\":\"\"}}}],\"scatter3d\":[{\"type\":\"scatter3d\",\"line\":{\"colorbar\":{\"outlinewidth\":0,\"ticks\":\"\"}},\"marker\":{\"colorbar\":{\"outlinewidth\":0,\"ticks\":\"\"}}}],\"scattermapbox\":[{\"type\":\"scattermapbox\",\"marker\":{\"colorbar\":{\"outlinewidth\":0,\"ticks\":\"\"}}}],\"scatterternary\":[{\"type\":\"scatterternary\",\"marker\":{\"colorbar\":{\"outlinewidth\":0,\"ticks\":\"\"}}}],\"scattercarpet\":[{\"type\":\"scattercarpet\",\"marker\":{\"colorbar\":{\"outlinewidth\":0,\"ticks\":\"\"}}}],\"carpet\":[{\"aaxis\":{\"endlinecolor\":\"#2a3f5f\",\"gridcolor\":\"white\",\"linecolor\":\"white\",\"minorgridcolor\":\"white\",\"startlinecolor\":\"#2a3f5f\"},\"baxis\":{\"endlinecolor\":\"#2a3f5f\",\"gridcolor\":\"white\",\"linecolor\":\"white\",\"minorgridcolor\":\"white\",\"startlinecolor\":\"#2a3f5f\"},\"type\":\"carpet\"}],\"table\":[{\"cells\":{\"fill\":{\"color\":\"#EBF0F8\"},\"line\":{\"color\":\"white\"}},\"header\":{\"fill\":{\"color\":\"#C8D4E3\"},\"line\":{\"color\":\"white\"}},\"type\":\"table\"}],\"barpolar\":[{\"marker\":{\"line\":{\"color\":\"#E5ECF6\",\"width\":0.5},\"pattern\":{\"fillmode\":\"overlay\",\"size\":10,\"solidity\":0.2}},\"type\":\"barpolar\"}],\"pie\":[{\"automargin\":true,\"type\":\"pie\"}]},\"layout\":{\"autotypenumbers\":\"strict\",\"colorway\":[\"#636efa\",\"#EF553B\",\"#00cc96\",\"#ab63fa\",\"#FFA15A\",\"#19d3f3\",\"#FF6692\",\"#B6E880\",\"#FF97FF\",\"#FECB52\"],\"font\":{\"color\":\"#2a3f5f\"},\"hovermode\":\"closest\",\"hoverlabel\":{\"align\":\"left\"},\"paper_bgcolor\":\"white\",\"plot_bgcolor\":\"#E5ECF6\",\"polar\":{\"bgcolor\":\"#E5ECF6\",\"angularaxis\":{\"gridcolor\":\"white\",\"linecolor\":\"white\",\"ticks\":\"\"},\"radialaxis\":{\"gridcolor\":\"white\",\"linecolor\":\"white\",\"ticks\":\"\"}},\"ternary\":{\"bgcolor\":\"#E5ECF6\",\"aaxis\":{\"gridcolor\":\"white\",\"linecolor\":\"white\",\"ticks\":\"\"},\"baxis\":{\"gridcolor\":\"white\",\"linecolor\":\"white\",\"ticks\":\"\"},\"caxis\":{\"gridcolor\":\"white\",\"linecolor\":\"white\",\"ticks\":\"\"}},\"coloraxis\":{\"colorbar\":{\"outlinewidth\":0,\"ticks\":\"\"}},\"colorscale\":{\"sequential\":[[0.0,\"#0d0887\"],[0.1111111111111111,\"#46039f\"],[0.2222222222222222,\"#7201a8\"],[0.3333333333333333,\"#9c179e\"],[0.4444444444444444,\"#bd3786\"],[0.5555555555555556,\"#d8576b\"],[0.6666666666666666,\"#ed7953\"],[0.7777777777777778,\"#fb9f3a\"],[0.8888888888888888,\"#fdca26\"],[1.0,\"#f0f921\"]],\"sequentialminus\":[[0.0,\"#0d0887\"],[0.1111111111111111,\"#46039f\"],[0.2222222222222222,\"#7201a8\"],[0.3333333333333333,\"#9c179e\"],[0.4444444444444444,\"#bd3786\"],[0.5555555555555556,\"#d8576b\"],[0.6666666666666666,\"#ed7953\"],[0.7777777777777778,\"#fb9f3a\"],[0.8888888888888888,\"#fdca26\"],[1.0,\"#f0f921\"]],\"diverging\":[[0,\"#8e0152\"],[0.1,\"#c51b7d\"],[0.2,\"#de77ae\"],[0.3,\"#f1b6da\"],[0.4,\"#fde0ef\"],[0.5,\"#f7f7f7\"],[0.6,\"#e6f5d0\"],[0.7,\"#b8e186\"],[0.8,\"#7fbc41\"],[0.9,\"#4d9221\"],[1,\"#276419\"]]},\"xaxis\":{\"gridcolor\":\"white\",\"linecolor\":\"white\",\"ticks\":\"\",\"title\":{\"standoff\":15},\"zerolinecolor\":\"white\",\"automargin\":true,\"zerolinewidth\":2},\"yaxis\":{\"gridcolor\":\"white\",\"linecolor\":\"white\",\"ticks\":\"\",\"title\":{\"standoff\":15},\"zerolinecolor\":\"white\",\"automargin\":true,\"zerolinewidth\":2},\"scene\":{\"xaxis\":{\"backgroundcolor\":\"#E5ECF6\",\"gridcolor\":\"white\",\"linecolor\":\"white\",\"showbackground\":true,\"ticks\":\"\",\"zerolinecolor\":\"white\",\"gridwidth\":2},\"yaxis\":{\"backgroundcolor\":\"#E5ECF6\",\"gridcolor\":\"white\",\"linecolor\":\"white\",\"showbackground\":true,\"ticks\":\"\",\"zerolinecolor\":\"white\",\"gridwidth\":2},\"zaxis\":{\"backgroundcolor\":\"#E5ECF6\",\"gridcolor\":\"white\",\"linecolor\":\"white\",\"showbackground\":true,\"ticks\":\"\",\"zerolinecolor\":\"white\",\"gridwidth\":2}},\"shapedefaults\":{\"line\":{\"color\":\"#2a3f5f\"}},\"annotationdefaults\":{\"arrowcolor\":\"#2a3f5f\",\"arrowhead\":0,\"arrowwidth\":1},\"geo\":{\"bgcolor\":\"white\",\"landcolor\":\"#E5ECF6\",\"subunitcolor\":\"white\",\"showland\":true,\"showlakes\":true,\"lakecolor\":\"white\"},\"title\":{\"x\":0.05},\"mapbox\":{\"style\":\"light\"}}},\"yaxis\":{\"range\":[0,1]},\"legend\":{\"orientation\":\"h\"}},                        {\"responsive\": true}                    ).then(function(){\n",
       "                            \n",
       "var gd = document.getElementById('40c1078d-d3ab-466b-b2c6-6ea1373facbf');\n",
       "var x = new MutationObserver(function (mutations, observer) {{\n",
       "        var display = window.getComputedStyle(gd).display;\n",
       "        if (!display || display === 'none') {{\n",
       "            console.log([gd, 'removed!']);\n",
       "            Plotly.purge(gd);\n",
       "            observer.disconnect();\n",
       "        }}\n",
       "}});\n",
       "\n",
       "// Listen for the removal of the full notebook cells\n",
       "var notebookContainer = gd.closest('#notebook-container');\n",
       "if (notebookContainer) {{\n",
       "    x.observe(notebookContainer, {childList: true});\n",
       "}}\n",
       "\n",
       "// Listen for the clearing of the current output cell\n",
       "var outputEl = gd.closest('.output');\n",
       "if (outputEl) {{\n",
       "    x.observe(outputEl, {childList: true});\n",
       "}}\n",
       "\n",
       "                        })                };                });            </script>        </div>"
      ]
     },
     "metadata": {},
     "output_type": "display_data"
    }
   ],
   "source": [
    "get_metric_figure( data, metric_name='accuracy' )"
   ]
  },
  {
   "cell_type": "code",
   "execution_count": 97,
   "id": "c107fa96-c61d-478f-a2b9-feac8ef74300",
   "metadata": {},
   "outputs": [
    {
     "data": {
      "application/vnd.plotly.v1+json": {
       "config": {
        "plotlyServerURL": "https://plot.ly"
       },
       "data": [
        {
         "mode": "lines",
         "name": "train",
         "type": "scatter",
         "x": [
          0,
          1,
          2,
          3,
          4,
          5,
          6,
          7,
          8,
          9,
          10,
          11,
          12,
          13,
          14,
          15,
          16,
          17,
          18,
          19,
          20,
          21,
          22,
          23,
          24,
          25,
          26,
          27,
          28,
          29,
          30,
          31,
          32,
          33,
          34,
          35,
          36,
          37,
          38,
          39,
          40,
          41,
          42,
          43,
          44,
          45,
          46,
          47,
          48,
          49,
          50,
          51,
          52,
          53,
          54,
          55,
          56,
          57,
          58,
          59,
          60,
          61,
          62,
          63,
          64,
          65,
          66,
          67,
          68,
          69,
          70,
          71,
          72,
          73,
          74,
          75,
          76,
          77,
          78,
          79,
          80,
          81,
          82,
          83,
          84,
          85,
          86,
          87,
          88,
          89,
          90,
          91,
          92,
          93,
          94,
          95,
          96,
          97,
          98,
          99,
          100,
          101,
          102,
          103,
          104,
          105,
          106,
          107,
          108,
          109,
          110,
          111,
          112,
          113,
          114,
          115,
          116,
          117,
          118,
          119,
          120,
          121,
          122,
          123,
          124,
          125,
          126,
          127,
          128,
          129,
          130,
          131,
          132,
          133,
          134,
          135,
          136,
          137,
          138,
          139,
          140,
          141,
          142,
          143,
          144,
          145,
          146,
          147,
          148,
          149,
          150,
          151,
          152,
          153,
          154,
          155,
          156,
          157,
          158,
          159,
          160,
          161,
          162,
          163,
          164,
          165,
          166,
          167,
          168,
          169,
          170,
          171,
          172,
          173,
          174,
          175,
          176,
          177,
          178,
          179,
          180,
          181,
          182,
          183,
          184,
          185,
          186,
          187,
          188,
          189,
          190,
          191,
          192,
          193,
          194,
          195,
          196,
          197,
          198,
          199,
          200,
          201,
          202,
          203,
          203,
          203,
          204,
          205,
          206,
          207,
          208,
          209,
          210,
          211,
          212,
          213,
          214,
          215,
          216,
          217,
          218,
          219,
          220,
          221,
          222,
          223,
          224,
          225,
          226,
          227,
          228,
          229,
          230,
          231,
          232,
          233,
          234,
          235,
          236,
          237,
          238,
          239,
          240,
          241,
          242,
          243,
          244,
          245,
          246,
          247,
          248,
          249,
          250,
          251,
          252,
          253,
          254,
          255,
          256,
          257,
          258,
          259,
          260,
          261,
          262,
          263,
          264,
          265,
          266,
          267,
          268,
          269,
          270,
          271,
          272,
          273,
          274,
          275,
          276,
          277,
          278,
          279,
          280,
          281,
          282,
          283,
          284,
          285,
          286,
          287,
          288,
          289,
          290,
          291,
          292,
          293,
          294,
          295,
          296,
          297,
          298,
          299,
          300,
          301,
          302,
          303,
          304,
          305,
          306,
          307,
          308,
          309,
          310,
          311,
          312,
          313,
          314,
          315,
          316,
          317,
          318,
          319,
          320,
          321,
          322,
          323,
          324,
          325,
          326,
          327,
          328,
          329,
          330,
          331,
          332,
          333,
          334,
          335,
          336,
          337,
          338,
          339,
          340,
          341,
          342,
          343,
          344,
          345,
          346,
          347,
          348,
          349,
          350,
          351,
          352,
          353,
          354,
          355,
          356,
          357,
          358,
          359,
          360,
          361,
          362,
          363,
          364,
          365,
          366,
          367,
          368,
          369,
          370,
          371,
          372,
          373,
          374,
          375,
          376,
          377,
          378,
          379,
          380,
          381,
          382,
          383,
          384,
          385,
          386,
          387,
          388,
          389,
          390,
          391,
          392,
          393,
          394,
          395,
          396,
          397,
          398,
          399,
          400,
          401,
          402,
          403,
          404,
          405,
          406,
          406
         ],
         "y": [
          1,
          0.917066,
          0.911871,
          0.910524,
          0.908633,
          0.912997,
          0.913925,
          0.915422,
          0.918184,
          0.918659,
          0.921356,
          0.922827,
          0.923922,
          0.925309,
          0.925793,
          0.924688,
          0.921887,
          0.920554,
          0.922297,
          0.921532,
          0.922022,
          0.921795,
          0.921346,
          0.921239,
          0.921016,
          0.921263,
          0.92154,
          0.92124,
          0.921919,
          0.922163,
          0.922498,
          0.922479,
          0.922955,
          0.922798,
          0.923129,
          0.923577,
          0.923423,
          0.92341,
          0.923512,
          0.923265,
          0.9235,
          0.923387,
          0.923895,
          0.92382,
          0.92393,
          0.923821,
          0.923634,
          0.923334,
          0.923239,
          0.922908,
          0.923038,
          0.923036,
          0.922743,
          0.922745,
          0.92275,
          0.922932,
          0.922442,
          0.922477,
          0.922562,
          0.922491,
          0.922726,
          0.922618,
          0.922386,
          0.922285,
          0.92213,
          0.921594,
          0.921509,
          0.921737,
          0.921893,
          0.921875,
          0.921756,
          0.921816,
          0.92186,
          0.921925,
          0.921766,
          0.921694,
          0.921914,
          0.921771,
          0.921839,
          0.921694,
          0.921633,
          0.921695,
          0.921786,
          0.921774,
          0.9217,
          0.921874,
          0.921885,
          0.921768,
          0.922057,
          0.922101,
          0.922115,
          0.92208,
          0.922037,
          0.92213,
          0.922151,
          0.922134,
          0.922242,
          0.922324,
          0.922022,
          0.922073,
          0.921994,
          0.921971,
          0.922004,
          0.921948,
          0.921913,
          0.921753,
          0.921793,
          0.921692,
          0.921713,
          0.921607,
          0.921478,
          0.921369,
          0.921407,
          0.92134,
          0.921378,
          0.921376,
          0.921308,
          0.921487,
          0.921613,
          0.921537,
          0.921566,
          0.921551,
          0.921523,
          0.92128,
          0.921481,
          0.921439,
          0.921517,
          0.921404,
          0.921324,
          0.921326,
          0.921271,
          0.920945,
          0.920943,
          0.920892,
          0.920955,
          0.92093,
          0.921077,
          0.921163,
          0.92123,
          0.921207,
          0.921148,
          0.921228,
          0.921373,
          0.921387,
          0.921255,
          0.921376,
          0.921521,
          0.921583,
          0.921494,
          0.92146,
          0.921577,
          0.921527,
          0.92155,
          0.921508,
          0.921375,
          0.921348,
          0.921395,
          0.921339,
          0.921365,
          0.921253,
          0.921237,
          0.92121,
          0.921181,
          0.921312,
          0.921313,
          0.921219,
          0.921244,
          0.921294,
          0.921336,
          0.921373,
          0.921436,
          0.921252,
          0.921209,
          0.921133,
          0.921078,
          0.920927,
          0.920893,
          0.920763,
          0.920866,
          0.920836,
          0.920768,
          0.92082,
          0.920805,
          0.920889,
          0.920959,
          0.921083,
          0.921131,
          0.921076,
          0.920992,
          0.921022,
          0.921025,
          0.920933,
          0.920956,
          0.920979,
          0.920944,
          0.921035,
          0.921144,
          0.921188,
          0.921238,
          0.921345,
          0.921474,
          0.9214,
          0.92141,
          0.921392,
          0.921431,
          0.931034,
          0.910378,
          0.906084,
          0.907337,
          0.913327,
          0.923233,
          0.92163,
          0.923135,
          0.922654,
          0.924357,
          0.926312,
          0.926839,
          0.925455,
          0.924625,
          0.924457,
          0.924181,
          0.924856,
          0.923862,
          0.922822,
          0.923188,
          0.924207,
          0.924837,
          0.925029,
          0.924743,
          0.925261,
          0.925295,
          0.925292,
          0.925792,
          0.925666,
          0.925836,
          0.926038,
          0.926442,
          0.926988,
          0.927153,
          0.927288,
          0.92725,
          0.927083,
          0.927429,
          0.927518,
          0.927224,
          0.927377,
          0.927054,
          0.926496,
          0.926133,
          0.926291,
          0.926445,
          0.926555,
          0.926588,
          0.92653,
          0.926366,
          0.926563,
          0.926278,
          0.926408,
          0.926116,
          0.92595,
          0.925803,
          0.925609,
          0.925954,
          0.926222,
          0.926466,
          0.9267,
          0.926552,
          0.926489,
          0.926533,
          0.926651,
          0.926353,
          0.926227,
          0.926303,
          0.926241,
          0.926387,
          0.926201,
          0.926178,
          0.92606,
          0.925871,
          0.925878,
          0.925496,
          0.925369,
          0.925411,
          0.925578,
          0.925664,
          0.925752,
          0.925746,
          0.92577,
          0.925887,
          0.925826,
          0.925997,
          0.926144,
          0.925977,
          0.926063,
          0.925772,
          0.925925,
          0.92579,
          0.92587,
          0.925985,
          0.926221,
          0.926308,
          0.926397,
          0.926346,
          0.926507,
          0.926472,
          0.92646,
          0.926021,
          0.926228,
          0.926256,
          0.926278,
          0.926344,
          0.92624,
          0.926139,
          0.926161,
          0.925926,
          0.925887,
          0.925889,
          0.92596,
          0.925863,
          0.925763,
          0.925892,
          0.926132,
          0.9262,
          0.926098,
          0.926083,
          0.926155,
          0.926056,
          0.926054,
          0.926014,
          0.925955,
          0.925979,
          0.926005,
          0.925969,
          0.926047,
          0.92611,
          0.926122,
          0.925882,
          0.925988,
          0.925855,
          0.925825,
          0.925786,
          0.925753,
          0.92572,
          0.925748,
          0.925719,
          0.925703,
          0.925734,
          0.925767,
          0.925737,
          0.925818,
          0.925886,
          0.925813,
          0.92577,
          0.925736,
          0.925908,
          0.925942,
          0.925903,
          0.92588,
          0.925838,
          0.925819,
          0.925839,
          0.925661,
          0.925573,
          0.925533,
          0.925521,
          0.925417,
          0.925499,
          0.92556,
          0.925561,
          0.925445,
          0.92532,
          0.925303,
          0.925268,
          0.925213,
          0.925154,
          0.925157,
          0.925185,
          0.925322,
          0.925281,
          0.925379,
          0.925382,
          0.925301,
          0.925285,
          0.925202,
          0.925093,
          0.925192,
          0.925173,
          0.92518,
          0.92518,
          0.925086,
          0.925021,
          0.924907,
          0.924945,
          0.924975,
          0.924957,
          0.92482,
          0.924696,
          0.924662,
          0.924561,
          0.924498,
          0.924502,
          0.924529,
          0.924598,
          0.924645,
          0.924687,
          0.924663,
          0.924626,
          0.924649,
          0.924749,
          0.924786
         ]
        },
        {
         "mode": "lines",
         "name": "val",
         "type": "scatter",
         "x": [
          0,
          9,
          18,
          28,
          37,
          46,
          55,
          65,
          74,
          83,
          92,
          102,
          111,
          120,
          129,
          138,
          148,
          157,
          166,
          175,
          185,
          194,
          203,
          203,
          203,
          212,
          221,
          231,
          240,
          249,
          258,
          268,
          277,
          286,
          295,
          304,
          314,
          323,
          332,
          341,
          351,
          360,
          369,
          378,
          388,
          397,
          406,
          406
         ],
         "y": [
          0.890909,
          0.860825,
          0.858108,
          0.857903,
          0.859073,
          0.857689,
          0.857487,
          0.856236,
          0.85471,
          0.852863,
          0.852834,
          0.853446,
          0.851807,
          0.851007,
          0.850675,
          0.850354,
          0.850743,
          0.849806,
          0.848628,
          0.84909,
          0.850905,
          0.850789,
          0.849849,
          0.849914,
          0.878571,
          0.871274,
          0.886289,
          0.890638,
          0.888275,
          0.891156,
          0.888634,
          0.890428,
          0.888519,
          0.888172,
          0.88641,
          0.887628,
          0.889409,
          0.888505,
          0.88802,
          0.887769,
          0.889508,
          0.889452,
          0.888947,
          0.888948,
          0.888681,
          0.889275,
          0.888767,
          0.887385
         ]
        },
        {
         "mode": "lines",
         "name": "real_val",
         "type": "scatter",
         "x": [
          0,
          20,
          41,
          61,
          81,
          102,
          122,
          142,
          162,
          183,
          203,
          203,
          203,
          223,
          244,
          264,
          284,
          304,
          325,
          345,
          365,
          386,
          406,
          406
         ],
         "y": [
          0.816227,
          0.735098,
          0.746167,
          0.750644,
          0.740182,
          0.739864,
          0.74092,
          0.737998,
          0.739664,
          0.743473,
          0.742015,
          0.742785,
          0.673892,
          0.637729,
          0.629208,
          0.635325,
          0.635725,
          0.631722,
          0.63535,
          0.637369,
          0.634269,
          0.629516,
          0.632113,
          0.635384
         ]
        }
       ],
       "layout": {
        "autosize": true,
        "legend": {
         "orientation": "h"
        },
        "template": {
         "data": {
          "bar": [
           {
            "error_x": {
             "color": "#2a3f5f"
            },
            "error_y": {
             "color": "#2a3f5f"
            },
            "marker": {
             "line": {
              "color": "#E5ECF6",
              "width": 0.5
             },
             "pattern": {
              "fillmode": "overlay",
              "size": 10,
              "solidity": 0.2
             }
            },
            "type": "bar"
           }
          ],
          "barpolar": [
           {
            "marker": {
             "line": {
              "color": "#E5ECF6",
              "width": 0.5
             },
             "pattern": {
              "fillmode": "overlay",
              "size": 10,
              "solidity": 0.2
             }
            },
            "type": "barpolar"
           }
          ],
          "carpet": [
           {
            "aaxis": {
             "endlinecolor": "#2a3f5f",
             "gridcolor": "white",
             "linecolor": "white",
             "minorgridcolor": "white",
             "startlinecolor": "#2a3f5f"
            },
            "baxis": {
             "endlinecolor": "#2a3f5f",
             "gridcolor": "white",
             "linecolor": "white",
             "minorgridcolor": "white",
             "startlinecolor": "#2a3f5f"
            },
            "type": "carpet"
           }
          ],
          "choropleth": [
           {
            "colorbar": {
             "outlinewidth": 0,
             "ticks": ""
            },
            "type": "choropleth"
           }
          ],
          "contour": [
           {
            "colorbar": {
             "outlinewidth": 0,
             "ticks": ""
            },
            "colorscale": [
             [
              0,
              "#0d0887"
             ],
             [
              0.1111111111111111,
              "#46039f"
             ],
             [
              0.2222222222222222,
              "#7201a8"
             ],
             [
              0.3333333333333333,
              "#9c179e"
             ],
             [
              0.4444444444444444,
              "#bd3786"
             ],
             [
              0.5555555555555556,
              "#d8576b"
             ],
             [
              0.6666666666666666,
              "#ed7953"
             ],
             [
              0.7777777777777778,
              "#fb9f3a"
             ],
             [
              0.8888888888888888,
              "#fdca26"
             ],
             [
              1,
              "#f0f921"
             ]
            ],
            "type": "contour"
           }
          ],
          "contourcarpet": [
           {
            "colorbar": {
             "outlinewidth": 0,
             "ticks": ""
            },
            "type": "contourcarpet"
           }
          ],
          "heatmap": [
           {
            "colorbar": {
             "outlinewidth": 0,
             "ticks": ""
            },
            "colorscale": [
             [
              0,
              "#0d0887"
             ],
             [
              0.1111111111111111,
              "#46039f"
             ],
             [
              0.2222222222222222,
              "#7201a8"
             ],
             [
              0.3333333333333333,
              "#9c179e"
             ],
             [
              0.4444444444444444,
              "#bd3786"
             ],
             [
              0.5555555555555556,
              "#d8576b"
             ],
             [
              0.6666666666666666,
              "#ed7953"
             ],
             [
              0.7777777777777778,
              "#fb9f3a"
             ],
             [
              0.8888888888888888,
              "#fdca26"
             ],
             [
              1,
              "#f0f921"
             ]
            ],
            "type": "heatmap"
           }
          ],
          "heatmapgl": [
           {
            "colorbar": {
             "outlinewidth": 0,
             "ticks": ""
            },
            "colorscale": [
             [
              0,
              "#0d0887"
             ],
             [
              0.1111111111111111,
              "#46039f"
             ],
             [
              0.2222222222222222,
              "#7201a8"
             ],
             [
              0.3333333333333333,
              "#9c179e"
             ],
             [
              0.4444444444444444,
              "#bd3786"
             ],
             [
              0.5555555555555556,
              "#d8576b"
             ],
             [
              0.6666666666666666,
              "#ed7953"
             ],
             [
              0.7777777777777778,
              "#fb9f3a"
             ],
             [
              0.8888888888888888,
              "#fdca26"
             ],
             [
              1,
              "#f0f921"
             ]
            ],
            "type": "heatmapgl"
           }
          ],
          "histogram": [
           {
            "marker": {
             "pattern": {
              "fillmode": "overlay",
              "size": 10,
              "solidity": 0.2
             }
            },
            "type": "histogram"
           }
          ],
          "histogram2d": [
           {
            "colorbar": {
             "outlinewidth": 0,
             "ticks": ""
            },
            "colorscale": [
             [
              0,
              "#0d0887"
             ],
             [
              0.1111111111111111,
              "#46039f"
             ],
             [
              0.2222222222222222,
              "#7201a8"
             ],
             [
              0.3333333333333333,
              "#9c179e"
             ],
             [
              0.4444444444444444,
              "#bd3786"
             ],
             [
              0.5555555555555556,
              "#d8576b"
             ],
             [
              0.6666666666666666,
              "#ed7953"
             ],
             [
              0.7777777777777778,
              "#fb9f3a"
             ],
             [
              0.8888888888888888,
              "#fdca26"
             ],
             [
              1,
              "#f0f921"
             ]
            ],
            "type": "histogram2d"
           }
          ],
          "histogram2dcontour": [
           {
            "colorbar": {
             "outlinewidth": 0,
             "ticks": ""
            },
            "colorscale": [
             [
              0,
              "#0d0887"
             ],
             [
              0.1111111111111111,
              "#46039f"
             ],
             [
              0.2222222222222222,
              "#7201a8"
             ],
             [
              0.3333333333333333,
              "#9c179e"
             ],
             [
              0.4444444444444444,
              "#bd3786"
             ],
             [
              0.5555555555555556,
              "#d8576b"
             ],
             [
              0.6666666666666666,
              "#ed7953"
             ],
             [
              0.7777777777777778,
              "#fb9f3a"
             ],
             [
              0.8888888888888888,
              "#fdca26"
             ],
             [
              1,
              "#f0f921"
             ]
            ],
            "type": "histogram2dcontour"
           }
          ],
          "mesh3d": [
           {
            "colorbar": {
             "outlinewidth": 0,
             "ticks": ""
            },
            "type": "mesh3d"
           }
          ],
          "parcoords": [
           {
            "line": {
             "colorbar": {
              "outlinewidth": 0,
              "ticks": ""
             }
            },
            "type": "parcoords"
           }
          ],
          "pie": [
           {
            "automargin": true,
            "type": "pie"
           }
          ],
          "scatter": [
           {
            "fillpattern": {
             "fillmode": "overlay",
             "size": 10,
             "solidity": 0.2
            },
            "type": "scatter"
           }
          ],
          "scatter3d": [
           {
            "line": {
             "colorbar": {
              "outlinewidth": 0,
              "ticks": ""
             }
            },
            "marker": {
             "colorbar": {
              "outlinewidth": 0,
              "ticks": ""
             }
            },
            "type": "scatter3d"
           }
          ],
          "scattercarpet": [
           {
            "marker": {
             "colorbar": {
              "outlinewidth": 0,
              "ticks": ""
             }
            },
            "type": "scattercarpet"
           }
          ],
          "scattergeo": [
           {
            "marker": {
             "colorbar": {
              "outlinewidth": 0,
              "ticks": ""
             }
            },
            "type": "scattergeo"
           }
          ],
          "scattergl": [
           {
            "marker": {
             "colorbar": {
              "outlinewidth": 0,
              "ticks": ""
             }
            },
            "type": "scattergl"
           }
          ],
          "scattermapbox": [
           {
            "marker": {
             "colorbar": {
              "outlinewidth": 0,
              "ticks": ""
             }
            },
            "type": "scattermapbox"
           }
          ],
          "scatterpolar": [
           {
            "marker": {
             "colorbar": {
              "outlinewidth": 0,
              "ticks": ""
             }
            },
            "type": "scatterpolar"
           }
          ],
          "scatterpolargl": [
           {
            "marker": {
             "colorbar": {
              "outlinewidth": 0,
              "ticks": ""
             }
            },
            "type": "scatterpolargl"
           }
          ],
          "scatterternary": [
           {
            "marker": {
             "colorbar": {
              "outlinewidth": 0,
              "ticks": ""
             }
            },
            "type": "scatterternary"
           }
          ],
          "surface": [
           {
            "colorbar": {
             "outlinewidth": 0,
             "ticks": ""
            },
            "colorscale": [
             [
              0,
              "#0d0887"
             ],
             [
              0.1111111111111111,
              "#46039f"
             ],
             [
              0.2222222222222222,
              "#7201a8"
             ],
             [
              0.3333333333333333,
              "#9c179e"
             ],
             [
              0.4444444444444444,
              "#bd3786"
             ],
             [
              0.5555555555555556,
              "#d8576b"
             ],
             [
              0.6666666666666666,
              "#ed7953"
             ],
             [
              0.7777777777777778,
              "#fb9f3a"
             ],
             [
              0.8888888888888888,
              "#fdca26"
             ],
             [
              1,
              "#f0f921"
             ]
            ],
            "type": "surface"
           }
          ],
          "table": [
           {
            "cells": {
             "fill": {
              "color": "#EBF0F8"
             },
             "line": {
              "color": "white"
             }
            },
            "header": {
             "fill": {
              "color": "#C8D4E3"
             },
             "line": {
              "color": "white"
             }
            },
            "type": "table"
           }
          ]
         },
         "layout": {
          "annotationdefaults": {
           "arrowcolor": "#2a3f5f",
           "arrowhead": 0,
           "arrowwidth": 1
          },
          "autotypenumbers": "strict",
          "coloraxis": {
           "colorbar": {
            "outlinewidth": 0,
            "ticks": ""
           }
          },
          "colorscale": {
           "diverging": [
            [
             0,
             "#8e0152"
            ],
            [
             0.1,
             "#c51b7d"
            ],
            [
             0.2,
             "#de77ae"
            ],
            [
             0.3,
             "#f1b6da"
            ],
            [
             0.4,
             "#fde0ef"
            ],
            [
             0.5,
             "#f7f7f7"
            ],
            [
             0.6,
             "#e6f5d0"
            ],
            [
             0.7,
             "#b8e186"
            ],
            [
             0.8,
             "#7fbc41"
            ],
            [
             0.9,
             "#4d9221"
            ],
            [
             1,
             "#276419"
            ]
           ],
           "sequential": [
            [
             0,
             "#0d0887"
            ],
            [
             0.1111111111111111,
             "#46039f"
            ],
            [
             0.2222222222222222,
             "#7201a8"
            ],
            [
             0.3333333333333333,
             "#9c179e"
            ],
            [
             0.4444444444444444,
             "#bd3786"
            ],
            [
             0.5555555555555556,
             "#d8576b"
            ],
            [
             0.6666666666666666,
             "#ed7953"
            ],
            [
             0.7777777777777778,
             "#fb9f3a"
            ],
            [
             0.8888888888888888,
             "#fdca26"
            ],
            [
             1,
             "#f0f921"
            ]
           ],
           "sequentialminus": [
            [
             0,
             "#0d0887"
            ],
            [
             0.1111111111111111,
             "#46039f"
            ],
            [
             0.2222222222222222,
             "#7201a8"
            ],
            [
             0.3333333333333333,
             "#9c179e"
            ],
            [
             0.4444444444444444,
             "#bd3786"
            ],
            [
             0.5555555555555556,
             "#d8576b"
            ],
            [
             0.6666666666666666,
             "#ed7953"
            ],
            [
             0.7777777777777778,
             "#fb9f3a"
            ],
            [
             0.8888888888888888,
             "#fdca26"
            ],
            [
             1,
             "#f0f921"
            ]
           ]
          },
          "colorway": [
           "#636efa",
           "#EF553B",
           "#00cc96",
           "#ab63fa",
           "#FFA15A",
           "#19d3f3",
           "#FF6692",
           "#B6E880",
           "#FF97FF",
           "#FECB52"
          ],
          "font": {
           "color": "#2a3f5f"
          },
          "geo": {
           "bgcolor": "white",
           "lakecolor": "white",
           "landcolor": "#E5ECF6",
           "showlakes": true,
           "showland": true,
           "subunitcolor": "white"
          },
          "hoverlabel": {
           "align": "left"
          },
          "hovermode": "closest",
          "mapbox": {
           "style": "light"
          },
          "paper_bgcolor": "white",
          "plot_bgcolor": "#E5ECF6",
          "polar": {
           "angularaxis": {
            "gridcolor": "white",
            "linecolor": "white",
            "ticks": ""
           },
           "bgcolor": "#E5ECF6",
           "radialaxis": {
            "gridcolor": "white",
            "linecolor": "white",
            "ticks": ""
           }
          },
          "scene": {
           "xaxis": {
            "backgroundcolor": "#E5ECF6",
            "gridcolor": "white",
            "gridwidth": 2,
            "linecolor": "white",
            "showbackground": true,
            "ticks": "",
            "zerolinecolor": "white"
           },
           "yaxis": {
            "backgroundcolor": "#E5ECF6",
            "gridcolor": "white",
            "gridwidth": 2,
            "linecolor": "white",
            "showbackground": true,
            "ticks": "",
            "zerolinecolor": "white"
           },
           "zaxis": {
            "backgroundcolor": "#E5ECF6",
            "gridcolor": "white",
            "gridwidth": 2,
            "linecolor": "white",
            "showbackground": true,
            "ticks": "",
            "zerolinecolor": "white"
           }
          },
          "shapedefaults": {
           "line": {
            "color": "#2a3f5f"
           }
          },
          "ternary": {
           "aaxis": {
            "gridcolor": "white",
            "linecolor": "white",
            "ticks": ""
           },
           "baxis": {
            "gridcolor": "white",
            "linecolor": "white",
            "ticks": ""
           },
           "bgcolor": "#E5ECF6",
           "caxis": {
            "gridcolor": "white",
            "linecolor": "white",
            "ticks": ""
           }
          },
          "title": {
           "x": 0.05
          },
          "xaxis": {
           "automargin": true,
           "gridcolor": "white",
           "linecolor": "white",
           "ticks": "",
           "title": {
            "standoff": 15
           },
           "zerolinecolor": "white",
           "zerolinewidth": 2
          },
          "yaxis": {
           "automargin": true,
           "gridcolor": "white",
           "linecolor": "white",
           "ticks": "",
           "title": {
            "standoff": 15
           },
           "zerolinecolor": "white",
           "zerolinewidth": 2
          }
         }
        },
        "xaxis": {
         "autorange": true,
         "range": [
          0,
          406
         ],
         "type": "linear"
        },
        "yaxis": {
         "range": [
          0,
          1
         ],
         "type": "linear"
        }
       }
      },
      "image/png": "[encoded data removed]",
      "text/html": [
       "<div>                            <div id=\"eea99984-43c3-45d7-abc5-40411b8c28c5\" class=\"plotly-graph-div\" style=\"height:525px; width:100%;\"></div>            <script type=\"text/javascript\">                require([\"plotly\"], function(Plotly) {                    window.PLOTLYENV=window.PLOTLYENV || {};                                    if (document.getElementById(\"eea99984-43c3-45d7-abc5-40411b8c28c5\")) {                    Plotly.newPlot(                        \"eea99984-43c3-45d7-abc5-40411b8c28c5\",                        [{\"mode\":\"lines\",\"name\":\"train\",\"x\":[0.0,1.0,2.0,3.0,4.0,5.0,6.0,7.0,8.0,9.0,10.0,11.0,12.0,13.0,14.0,15.0,16.0,17.0,18.0,19.0,20.0,21.0,22.0,23.0,24.0,25.0,26.0,27.0,28.0,29.0,30.0,31.0,32.0,33.0,34.0,35.0,36.0,37.0,38.0,39.0,40.0,41.0,42.0,43.0,44.0,45.0,46.0,47.0,48.0,49.0,50.0,51.0,52.0,53.0,54.0,55.0,56.0,57.0,58.0,59.0,60.0,61.0,62.0,63.0,64.0,65.0,66.0,67.0,68.0,69.0,70.0,71.0,72.0,73.0,74.0,75.0,76.0,77.0,78.0,79.0,80.0,81.0,82.0,83.0,84.0,85.0,86.0,87.0,88.0,89.0,90.0,91.0,92.0,93.0,94.0,95.0,96.0,97.0,98.0,99.0,100.0,101.0,102.0,103.0,104.0,105.0,106.0,107.0,108.0,109.0,110.0,111.0,112.0,113.0,114.0,115.0,116.0,117.0,118.0,119.0,120.0,121.0,122.0,123.0,124.0,125.0,126.0,127.0,128.0,129.0,130.0,131.0,132.0,133.0,134.0,135.0,136.0,137.0,138.0,139.0,140.0,141.0,142.0,143.0,144.0,145.0,146.0,147.0,148.0,149.0,150.0,151.0,152.0,153.0,154.0,155.0,156.0,157.0,158.0,159.0,160.0,161.0,162.0,163.0,164.0,165.0,166.0,167.0,168.0,169.0,170.0,171.0,172.0,173.0,174.0,175.0,176.0,177.0,178.0,179.0,180.0,181.0,182.0,183.0,184.0,185.0,186.0,187.0,188.0,189.0,190.0,191.0,192.0,193.0,194.0,195.0,196.0,197.0,198.0,199.0,200.0,201.0,202.0,203.0,203.0,203.0,204.0,205.0,206.0,207.0,208.0,209.0,210.0,211.0,212.0,213.0,214.0,215.0,216.0,217.0,218.0,219.0,220.0,221.0,222.0,223.0,224.0,225.0,226.0,227.0,228.0,229.0,230.0,231.0,232.0,233.0,234.0,235.0,236.0,237.0,238.0,239.0,240.0,241.0,242.0,243.0,244.0,245.0,246.0,247.0,248.0,249.0,250.0,251.0,252.0,253.0,254.0,255.0,256.0,257.0,258.0,259.0,260.0,261.0,262.0,263.0,264.0,265.0,266.0,267.0,268.0,269.0,270.0,271.0,272.0,273.0,274.0,275.0,276.0,277.0,278.0,279.0,280.0,281.0,282.0,283.0,284.0,285.0,286.0,287.0,288.0,289.0,290.0,291.0,292.0,293.0,294.0,295.0,296.0,297.0,298.0,299.0,300.0,301.0,302.0,303.0,304.0,305.0,306.0,307.0,308.0,309.0,310.0,311.0,312.0,313.0,314.0,315.0,316.0,317.0,318.0,319.0,320.0,321.0,322.0,323.0,324.0,325.0,326.0,327.0,328.0,329.0,330.0,331.0,332.0,333.0,334.0,335.0,336.0,337.0,338.0,339.0,340.0,341.0,342.0,343.0,344.0,345.0,346.0,347.0,348.0,349.0,350.0,351.0,352.0,353.0,354.0,355.0,356.0,357.0,358.0,359.0,360.0,361.0,362.0,363.0,364.0,365.0,366.0,367.0,368.0,369.0,370.0,371.0,372.0,373.0,374.0,375.0,376.0,377.0,378.0,379.0,380.0,381.0,382.0,383.0,384.0,385.0,386.0,387.0,388.0,389.0,390.0,391.0,392.0,393.0,394.0,395.0,396.0,397.0,398.0,399.0,400.0,401.0,402.0,403.0,404.0,405.0,406.0,406.0],\"y\":[1.0,0.917066,0.911871,0.910524,0.908633,0.912997,0.913925,0.915422,0.918184,0.918659,0.921356,0.922827,0.923922,0.925309,0.925793,0.924688,0.921887,0.920554,0.922297,0.921532,0.922022,0.921795,0.921346,0.921239,0.921016,0.921263,0.92154,0.92124,0.921919,0.922163,0.922498,0.922479,0.922955,0.922798,0.923129,0.923577,0.923423,0.92341,0.923512,0.923265,0.9235,0.923387,0.923895,0.92382,0.92393,0.923821,0.923634,0.923334,0.923239,0.922908,0.923038,0.923036,0.922743,0.922745,0.92275,0.922932,0.922442,0.922477,0.922562,0.922491,0.922726,0.922618,0.922386,0.922285,0.92213,0.921594,0.921509,0.921737,0.921893,0.921875,0.921756,0.921816,0.92186,0.921925,0.921766,0.921694,0.921914,0.921771,0.921839,0.921694,0.921633,0.921695,0.921786,0.921774,0.9217,0.921874,0.921885,0.921768,0.922057,0.922101,0.922115,0.92208,0.922037,0.92213,0.922151,0.922134,0.922242,0.922324,0.922022,0.922073,0.921994,0.921971,0.922004,0.921948,0.921913,0.921753,0.921793,0.921692,0.921713,0.921607,0.921478,0.921369,0.921407,0.92134,0.921378,0.921376,0.921308,0.921487,0.921613,0.921537,0.921566,0.921551,0.921523,0.92128,0.921481,0.921439,0.921517,0.921404,0.921324,0.921326,0.921271,0.920945,0.920943,0.920892,0.920955,0.92093,0.921077,0.921163,0.92123,0.921207,0.921148,0.921228,0.921373,0.921387,0.921255,0.921376,0.921521,0.921583,0.921494,0.92146,0.921577,0.921527,0.92155,0.921508,0.921375,0.921348,0.921395,0.921339,0.921365,0.921253,0.921237,0.92121,0.921181,0.921312,0.921313,0.921219,0.921244,0.921294,0.921336,0.921373,0.921436,0.921252,0.921209,0.921133,0.921078,0.920927,0.920893,0.920763,0.920866,0.920836,0.920768,0.92082,0.920805,0.920889,0.920959,0.921083,0.921131,0.921076,0.920992,0.921022,0.921025,0.920933,0.920956,0.920979,0.920944,0.921035,0.921144,0.921188,0.921238,0.921345,0.921474,0.9214,0.92141,0.921392,0.921431,0.931034,0.910378,0.906084,0.907337,0.913327,0.923233,0.92163,0.923135,0.922654,0.924357,0.926312,0.926839,0.925455,0.924625,0.924457,0.924181,0.924856,0.923862,0.922822,0.923188,0.924207,0.924837,0.925029,0.924743,0.925261,0.925295,0.925292,0.925792,0.925666,0.925836,0.926038,0.926442,0.926988,0.927153,0.927288,0.92725,0.927083,0.927429,0.927518,0.927224,0.927377,0.927054,0.926496,0.926133,0.926291,0.926445,0.926555,0.926588,0.92653,0.926366,0.926563,0.926278,0.926408,0.926116,0.92595,0.925803,0.925609,0.925954,0.926222,0.926466,0.9267,0.926552,0.926489,0.926533,0.926651,0.926353,0.926227,0.926303,0.926241,0.926387,0.926201,0.926178,0.92606,0.925871,0.925878,0.925496,0.925369,0.925411,0.925578,0.925664,0.925752,0.925746,0.92577,0.925887,0.925826,0.925997,0.926144,0.925977,0.926063,0.925772,0.925925,0.92579,0.92587,0.925985,0.926221,0.926308,0.926397,0.926346,0.926507,0.926472,0.92646,0.926021,0.926228,0.926256,0.926278,0.926344,0.92624,0.926139,0.926161,0.925926,0.925887,0.925889,0.92596,0.925863,0.925763,0.925892,0.926132,0.9262,0.926098,0.926083,0.926155,0.926056,0.926054,0.926014,0.925955,0.925979,0.926005,0.925969,0.926047,0.92611,0.926122,0.925882,0.925988,0.925855,0.925825,0.925786,0.925753,0.92572,0.925748,0.925719,0.925703,0.925734,0.925767,0.925737,0.925818,0.925886,0.925813,0.92577,0.925736,0.925908,0.925942,0.925903,0.92588,0.925838,0.925819,0.925839,0.925661,0.925573,0.925533,0.925521,0.925417,0.925499,0.92556,0.925561,0.925445,0.92532,0.925303,0.925268,0.925213,0.925154,0.925157,0.925185,0.925322,0.925281,0.925379,0.925382,0.925301,0.925285,0.925202,0.925093,0.925192,0.925173,0.92518,0.92518,0.925086,0.925021,0.924907,0.924945,0.924975,0.924957,0.92482,0.924696,0.924662,0.924561,0.924498,0.924502,0.924529,0.924598,0.924645,0.924687,0.924663,0.924626,0.924649,0.924749,0.924786],\"type\":\"scatter\"},{\"mode\":\"lines\",\"name\":\"val\",\"x\":[0.0,9.0,18.0,28.0,37.0,46.0,55.0,65.0,74.0,83.0,92.0,102.0,111.0,120.0,129.0,138.0,148.0,157.0,166.0,175.0,185.0,194.0,203.0,203.0,203.0,212.0,221.0,231.0,240.0,249.0,258.0,268.0,277.0,286.0,295.0,304.0,314.0,323.0,332.0,341.0,351.0,360.0,369.0,378.0,388.0,397.0,406.0,406.0],\"y\":[0.890909,0.860825,0.858108,0.857903,0.859073,0.857689,0.857487,0.856236,0.85471,0.852863,0.852834,0.853446,0.851807,0.851007,0.850675,0.850354,0.850743,0.849806,0.848628,0.84909,0.850905,0.850789,0.849849,0.849914,0.878571,0.871274,0.886289,0.890638,0.888275,0.891156,0.888634,0.890428,0.888519,0.888172,0.88641,0.887628,0.889409,0.888505,0.88802,0.887769,0.889508,0.889452,0.888947,0.888948,0.888681,0.889275,0.888767,0.887385],\"type\":\"scatter\"},{\"mode\":\"lines\",\"name\":\"real_val\",\"x\":[0.0,20.0,41.0,61.0,81.0,102.0,122.0,142.0,162.0,183.0,203.0,203.0,203.0,223.0,244.0,264.0,284.0,304.0,325.0,345.0,365.0,386.0,406.0,406.0],\"y\":[0.816227,0.735098,0.746167,0.750644,0.740182,0.739864,0.74092,0.737998,0.739664,0.743473,0.742015,0.742785,0.673892,0.637729,0.629208,0.635325,0.635725,0.631722,0.63535,0.637369,0.634269,0.629516,0.632113,0.635384],\"type\":\"scatter\"}],                        {\"template\":{\"data\":{\"histogram2dcontour\":[{\"type\":\"histogram2dcontour\",\"colorbar\":{\"outlinewidth\":0,\"ticks\":\"\"},\"colorscale\":[[0.0,\"#0d0887\"],[0.1111111111111111,\"#46039f\"],[0.2222222222222222,\"#7201a8\"],[0.3333333333333333,\"#9c179e\"],[0.4444444444444444,\"#bd3786\"],[0.5555555555555556,\"#d8576b\"],[0.6666666666666666,\"#ed7953\"],[0.7777777777777778,\"#fb9f3a\"],[0.8888888888888888,\"#fdca26\"],[1.0,\"#f0f921\"]]}],\"choropleth\":[{\"type\":\"choropleth\",\"colorbar\":{\"outlinewidth\":0,\"ticks\":\"\"}}],\"histogram2d\":[{\"type\":\"histogram2d\",\"colorbar\":{\"outlinewidth\":0,\"ticks\":\"\"},\"colorscale\":[[0.0,\"#0d0887\"],[0.1111111111111111,\"#46039f\"],[0.2222222222222222,\"#7201a8\"],[0.3333333333333333,\"#9c179e\"],[0.4444444444444444,\"#bd3786\"],[0.5555555555555556,\"#d8576b\"],[0.6666666666666666,\"#ed7953\"],[0.7777777777777778,\"#fb9f3a\"],[0.8888888888888888,\"#fdca26\"],[1.0,\"#f0f921\"]]}],\"heatmap\":[{\"type\":\"heatmap\",\"colorbar\":{\"outlinewidth\":0,\"ticks\":\"\"},\"colorscale\":[[0.0,\"#0d0887\"],[0.1111111111111111,\"#46039f\"],[0.2222222222222222,\"#7201a8\"],[0.3333333333333333,\"#9c179e\"],[0.4444444444444444,\"#bd3786\"],[0.5555555555555556,\"#d8576b\"],[0.6666666666666666,\"#ed7953\"],[0.7777777777777778,\"#fb9f3a\"],[0.8888888888888888,\"#fdca26\"],[1.0,\"#f0f921\"]]}],\"heatmapgl\":[{\"type\":\"heatmapgl\",\"colorbar\":{\"outlinewidth\":0,\"ticks\":\"\"},\"colorscale\":[[0.0,\"#0d0887\"],[0.1111111111111111,\"#46039f\"],[0.2222222222222222,\"#7201a8\"],[0.3333333333333333,\"#9c179e\"],[0.4444444444444444,\"#bd3786\"],[0.5555555555555556,\"#d8576b\"],[0.6666666666666666,\"#ed7953\"],[0.7777777777777778,\"#fb9f3a\"],[0.8888888888888888,\"#fdca26\"],[1.0,\"#f0f921\"]]}],\"contourcarpet\":[{\"type\":\"contourcarpet\",\"colorbar\":{\"outlinewidth\":0,\"ticks\":\"\"}}],\"contour\":[{\"type\":\"contour\",\"colorbar\":{\"outlinewidth\":0,\"ticks\":\"\"},\"colorscale\":[[0.0,\"#0d0887\"],[0.1111111111111111,\"#46039f\"],[0.2222222222222222,\"#7201a8\"],[0.3333333333333333,\"#9c179e\"],[0.4444444444444444,\"#bd3786\"],[0.5555555555555556,\"#d8576b\"],[0.6666666666666666,\"#ed7953\"],[0.7777777777777778,\"#fb9f3a\"],[0.8888888888888888,\"#fdca26\"],[1.0,\"#f0f921\"]]}],\"surface\":[{\"type\":\"surface\",\"colorbar\":{\"outlinewidth\":0,\"ticks\":\"\"},\"colorscale\":[[0.0,\"#0d0887\"],[0.1111111111111111,\"#46039f\"],[0.2222222222222222,\"#7201a8\"],[0.3333333333333333,\"#9c179e\"],[0.4444444444444444,\"#bd3786\"],[0.5555555555555556,\"#d8576b\"],[0.6666666666666666,\"#ed7953\"],[0.7777777777777778,\"#fb9f3a\"],[0.8888888888888888,\"#fdca26\"],[1.0,\"#f0f921\"]]}],\"mesh3d\":[{\"type\":\"mesh3d\",\"colorbar\":{\"outlinewidth\":0,\"ticks\":\"\"}}],\"scatter\":[{\"fillpattern\":{\"fillmode\":\"overlay\",\"size\":10,\"solidity\":0.2},\"type\":\"scatter\"}],\"parcoords\":[{\"type\":\"parcoords\",\"line\":{\"colorbar\":{\"outlinewidth\":0,\"ticks\":\"\"}}}],\"scatterpolargl\":[{\"type\":\"scatterpolargl\",\"marker\":{\"colorbar\":{\"outlinewidth\":0,\"ticks\":\"\"}}}],\"bar\":[{\"error_x\":{\"color\":\"#2a3f5f\"},\"error_y\":{\"color\":\"#2a3f5f\"},\"marker\":{\"line\":{\"color\":\"#E5ECF6\",\"width\":0.5},\"pattern\":{\"fillmode\":\"overlay\",\"size\":10,\"solidity\":0.2}},\"type\":\"bar\"}],\"scattergeo\":[{\"type\":\"scattergeo\",\"marker\":{\"colorbar\":{\"outlinewidth\":0,\"ticks\":\"\"}}}],\"scatterpolar\":[{\"type\":\"scatterpolar\",\"marker\":{\"colorbar\":{\"outlinewidth\":0,\"ticks\":\"\"}}}],\"histogram\":[{\"marker\":{\"pattern\":{\"fillmode\":\"overlay\",\"size\":10,\"solidity\":0.2}},\"type\":\"histogram\"}],\"scattergl\":[{\"type\":\"scattergl\",\"marker\":{\"colorbar\":{\"outlinewidth\":0,\"ticks\":\"\"}}}],\"scatter3d\":[{\"type\":\"scatter3d\",\"line\":{\"colorbar\":{\"outlinewidth\":0,\"ticks\":\"\"}},\"marker\":{\"colorbar\":{\"outlinewidth\":0,\"ticks\":\"\"}}}],\"scattermapbox\":[{\"type\":\"scattermapbox\",\"marker\":{\"colorbar\":{\"outlinewidth\":0,\"ticks\":\"\"}}}],\"scatterternary\":[{\"type\":\"scatterternary\",\"marker\":{\"colorbar\":{\"outlinewidth\":0,\"ticks\":\"\"}}}],\"scattercarpet\":[{\"type\":\"scattercarpet\",\"marker\":{\"colorbar\":{\"outlinewidth\":0,\"ticks\":\"\"}}}],\"carpet\":[{\"aaxis\":{\"endlinecolor\":\"#2a3f5f\",\"gridcolor\":\"white\",\"linecolor\":\"white\",\"minorgridcolor\":\"white\",\"startlinecolor\":\"#2a3f5f\"},\"baxis\":{\"endlinecolor\":\"#2a3f5f\",\"gridcolor\":\"white\",\"linecolor\":\"white\",\"minorgridcolor\":\"white\",\"startlinecolor\":\"#2a3f5f\"},\"type\":\"carpet\"}],\"table\":[{\"cells\":{\"fill\":{\"color\":\"#EBF0F8\"},\"line\":{\"color\":\"white\"}},\"header\":{\"fill\":{\"color\":\"#C8D4E3\"},\"line\":{\"color\":\"white\"}},\"type\":\"table\"}],\"barpolar\":[{\"marker\":{\"line\":{\"color\":\"#E5ECF6\",\"width\":0.5},\"pattern\":{\"fillmode\":\"overlay\",\"size\":10,\"solidity\":0.2}},\"type\":\"barpolar\"}],\"pie\":[{\"automargin\":true,\"type\":\"pie\"}]},\"layout\":{\"autotypenumbers\":\"strict\",\"colorway\":[\"#636efa\",\"#EF553B\",\"#00cc96\",\"#ab63fa\",\"#FFA15A\",\"#19d3f3\",\"#FF6692\",\"#B6E880\",\"#FF97FF\",\"#FECB52\"],\"font\":{\"color\":\"#2a3f5f\"},\"hovermode\":\"closest\",\"hoverlabel\":{\"align\":\"left\"},\"paper_bgcolor\":\"white\",\"plot_bgcolor\":\"#E5ECF6\",\"polar\":{\"bgcolor\":\"#E5ECF6\",\"angularaxis\":{\"gridcolor\":\"white\",\"linecolor\":\"white\",\"ticks\":\"\"},\"radialaxis\":{\"gridcolor\":\"white\",\"linecolor\":\"white\",\"ticks\":\"\"}},\"ternary\":{\"bgcolor\":\"#E5ECF6\",\"aaxis\":{\"gridcolor\":\"white\",\"linecolor\":\"white\",\"ticks\":\"\"},\"baxis\":{\"gridcolor\":\"white\",\"linecolor\":\"white\",\"ticks\":\"\"},\"caxis\":{\"gridcolor\":\"white\",\"linecolor\":\"white\",\"ticks\":\"\"}},\"coloraxis\":{\"colorbar\":{\"outlinewidth\":0,\"ticks\":\"\"}},\"colorscale\":{\"sequential\":[[0.0,\"#0d0887\"],[0.1111111111111111,\"#46039f\"],[0.2222222222222222,\"#7201a8\"],[0.3333333333333333,\"#9c179e\"],[0.4444444444444444,\"#bd3786\"],[0.5555555555555556,\"#d8576b\"],[0.6666666666666666,\"#ed7953\"],[0.7777777777777778,\"#fb9f3a\"],[0.8888888888888888,\"#fdca26\"],[1.0,\"#f0f921\"]],\"sequentialminus\":[[0.0,\"#0d0887\"],[0.1111111111111111,\"#46039f\"],[0.2222222222222222,\"#7201a8\"],[0.3333333333333333,\"#9c179e\"],[0.4444444444444444,\"#bd3786\"],[0.5555555555555556,\"#d8576b\"],[0.6666666666666666,\"#ed7953\"],[0.7777777777777778,\"#fb9f3a\"],[0.8888888888888888,\"#fdca26\"],[1.0,\"#f0f921\"]],\"diverging\":[[0,\"#8e0152\"],[0.1,\"#c51b7d\"],[0.2,\"#de77ae\"],[0.3,\"#f1b6da\"],[0.4,\"#fde0ef\"],[0.5,\"#f7f7f7\"],[0.6,\"#e6f5d0\"],[0.7,\"#b8e186\"],[0.8,\"#7fbc41\"],[0.9,\"#4d9221\"],[1,\"#276419\"]]},\"xaxis\":{\"gridcolor\":\"white\",\"linecolor\":\"white\",\"ticks\":\"\",\"title\":{\"standoff\":15},\"zerolinecolor\":\"white\",\"automargin\":true,\"zerolinewidth\":2},\"yaxis\":{\"gridcolor\":\"white\",\"linecolor\":\"white\",\"ticks\":\"\",\"title\":{\"standoff\":15},\"zerolinecolor\":\"white\",\"automargin\":true,\"zerolinewidth\":2},\"scene\":{\"xaxis\":{\"backgroundcolor\":\"#E5ECF6\",\"gridcolor\":\"white\",\"linecolor\":\"white\",\"showbackground\":true,\"ticks\":\"\",\"zerolinecolor\":\"white\",\"gridwidth\":2},\"yaxis\":{\"backgroundcolor\":\"#E5ECF6\",\"gridcolor\":\"white\",\"linecolor\":\"white\",\"showbackground\":true,\"ticks\":\"\",\"zerolinecolor\":\"white\",\"gridwidth\":2},\"zaxis\":{\"backgroundcolor\":\"#E5ECF6\",\"gridcolor\":\"white\",\"linecolor\":\"white\",\"showbackground\":true,\"ticks\":\"\",\"zerolinecolor\":\"white\",\"gridwidth\":2}},\"shapedefaults\":{\"line\":{\"color\":\"#2a3f5f\"}},\"annotationdefaults\":{\"arrowcolor\":\"#2a3f5f\",\"arrowhead\":0,\"arrowwidth\":1},\"geo\":{\"bgcolor\":\"white\",\"landcolor\":\"#E5ECF6\",\"subunitcolor\":\"white\",\"showland\":true,\"showlakes\":true,\"lakecolor\":\"white\"},\"title\":{\"x\":0.05},\"mapbox\":{\"style\":\"light\"}}},\"yaxis\":{\"range\":[0,1]},\"legend\":{\"orientation\":\"h\"}},                        {\"responsive\": true}                    ).then(function(){\n",
       "                            \n",
       "var gd = document.getElementById('eea99984-43c3-45d7-abc5-40411b8c28c5');\n",
       "var x = new MutationObserver(function (mutations, observer) {{\n",
       "        var display = window.getComputedStyle(gd).display;\n",
       "        if (!display || display === 'none') {{\n",
       "            console.log([gd, 'removed!']);\n",
       "            Plotly.purge(gd);\n",
       "            observer.disconnect();\n",
       "        }}\n",
       "}});\n",
       "\n",
       "// Listen for the removal of the full notebook cells\n",
       "var notebookContainer = gd.closest('#notebook-container');\n",
       "if (notebookContainer) {{\n",
       "    x.observe(notebookContainer, {childList: true});\n",
       "}}\n",
       "\n",
       "// Listen for the clearing of the current output cell\n",
       "var outputEl = gd.closest('.output');\n",
       "if (outputEl) {{\n",
       "    x.observe(outputEl, {childList: true});\n",
       "}}\n",
       "\n",
       "                        })                };                });            </script>        </div>"
      ]
     },
     "metadata": {},
     "output_type": "display_data"
    }
   ],
   "source": [
    "get_metric_figure( data, metric_name='recall' )"
   ]
  },
  {
   "cell_type": "code",
   "execution_count": 98,
   "id": "5072b340-042a-4970-8bc4-4cef7b7a4bdf",
   "metadata": {},
   "outputs": [
    {
     "data": {
      "application/vnd.plotly.v1+json": {
       "config": {
        "plotlyServerURL": "https://plot.ly"
       },
       "data": [
        {
         "mode": "lines",
         "name": "train",
         "type": "scatter",
         "x": [
          0,
          1,
          2,
          3,
          4,
          5,
          6,
          7,
          8,
          9,
          10,
          11,
          12,
          13,
          14,
          15,
          16,
          17,
          18,
          19,
          20,
          21,
          22,
          23,
          24,
          25,
          26,
          27,
          28,
          29,
          30,
          31,
          32,
          33,
          34,
          35,
          36,
          37,
          38,
          39,
          40,
          41,
          42,
          43,
          44,
          45,
          46,
          47,
          48,
          49,
          50,
          51,
          52,
          53,
          54,
          55,
          56,
          57,
          58,
          59,
          60,
          61,
          62,
          63,
          64,
          65,
          66,
          67,
          68,
          69,
          70,
          71,
          72,
          73,
          74,
          75,
          76,
          77,
          78,
          79,
          80,
          81,
          82,
          83,
          84,
          85,
          86,
          87,
          88,
          89,
          90,
          91,
          92,
          93,
          94,
          95,
          96,
          97,
          98,
          99,
          100,
          101,
          102,
          103,
          104,
          105,
          106,
          107,
          108,
          109,
          110,
          111,
          112,
          113,
          114,
          115,
          116,
          117,
          118,
          119,
          120,
          121,
          122,
          123,
          124,
          125,
          126,
          127,
          128,
          129,
          130,
          131,
          132,
          133,
          134,
          135,
          136,
          137,
          138,
          139,
          140,
          141,
          142,
          143,
          144,
          145,
          146,
          147,
          148,
          149,
          150,
          151,
          152,
          153,
          154,
          155,
          156,
          157,
          158,
          159,
          160,
          161,
          162,
          163,
          164,
          165,
          166,
          167,
          168,
          169,
          170,
          171,
          172,
          173,
          174,
          175,
          176,
          177,
          178,
          179,
          180,
          181,
          182,
          183,
          184,
          185,
          186,
          187,
          188,
          189,
          190,
          191,
          192,
          193,
          194,
          195,
          196,
          197,
          198,
          199,
          200,
          201,
          202,
          203,
          203,
          203,
          204,
          205,
          206,
          207,
          208,
          209,
          210,
          211,
          212,
          213,
          214,
          215,
          216,
          217,
          218,
          219,
          220,
          221,
          222,
          223,
          224,
          225,
          226,
          227,
          228,
          229,
          230,
          231,
          232,
          233,
          234,
          235,
          236,
          237,
          238,
          239,
          240,
          241,
          242,
          243,
          244,
          245,
          246,
          247,
          248,
          249,
          250,
          251,
          252,
          253,
          254,
          255,
          256,
          257,
          258,
          259,
          260,
          261,
          262,
          263,
          264,
          265,
          266,
          267,
          268,
          269,
          270,
          271,
          272,
          273,
          274,
          275,
          276,
          277,
          278,
          279,
          280,
          281,
          282,
          283,
          284,
          285,
          286,
          287,
          288,
          289,
          290,
          291,
          292,
          293,
          294,
          295,
          296,
          297,
          298,
          299,
          300,
          301,
          302,
          303,
          304,
          305,
          306,
          307,
          308,
          309,
          310,
          311,
          312,
          313,
          314,
          315,
          316,
          317,
          318,
          319,
          320,
          321,
          322,
          323,
          324,
          325,
          326,
          327,
          328,
          329,
          330,
          331,
          332,
          333,
          334,
          335,
          336,
          337,
          338,
          339,
          340,
          341,
          342,
          343,
          344,
          345,
          346,
          347,
          348,
          349,
          350,
          351,
          352,
          353,
          354,
          355,
          356,
          357,
          358,
          359,
          360,
          361,
          362,
          363,
          364,
          365,
          366,
          367,
          368,
          369,
          370,
          371,
          372,
          373,
          374,
          375,
          376,
          377,
          378,
          379,
          380,
          381,
          382,
          383,
          384,
          385,
          386,
          387,
          388,
          389,
          390,
          391,
          392,
          393,
          394,
          395,
          396,
          397,
          398,
          399,
          400,
          401,
          402,
          403,
          404,
          405,
          406,
          406
         ],
         "y": [
          1,
          0.921367,
          0.916161,
          0.919625,
          0.917736,
          0.918823,
          0.919275,
          0.921333,
          0.923465,
          0.924819,
          0.926971,
          0.928604,
          0.929837,
          0.931187,
          0.932032,
          0.931175,
          0.929285,
          0.928459,
          0.929278,
          0.928779,
          0.929899,
          0.929138,
          0.928364,
          0.92819,
          0.928088,
          0.928402,
          0.928749,
          0.928743,
          0.929277,
          0.929393,
          0.9295,
          0.929578,
          0.929933,
          0.929691,
          0.930103,
          0.930384,
          0.930169,
          0.930264,
          0.929966,
          0.929782,
          0.929887,
          0.92974,
          0.929942,
          0.929726,
          0.930034,
          0.930046,
          0.929533,
          0.929398,
          0.929477,
          0.92909,
          0.928991,
          0.929087,
          0.929016,
          0.92928,
          0.929191,
          0.929308,
          0.929033,
          0.929103,
          0.92909,
          0.928977,
          0.929076,
          0.929028,
          0.928684,
          0.928667,
          0.928818,
          0.928584,
          0.928587,
          0.928883,
          0.928943,
          0.928885,
          0.928811,
          0.92875,
          0.928714,
          0.928775,
          0.92861,
          0.928425,
          0.92857,
          0.928593,
          0.928477,
          0.928429,
          0.928451,
          0.928454,
          0.928518,
          0.928458,
          0.92858,
          0.928674,
          0.928654,
          0.928558,
          0.92874,
          0.928674,
          0.928716,
          0.928653,
          0.928419,
          0.928507,
          0.92866,
          0.928699,
          0.928594,
          0.928668,
          0.928557,
          0.928588,
          0.928558,
          0.928532,
          0.928533,
          0.928392,
          0.92832,
          0.928112,
          0.928084,
          0.928055,
          0.928054,
          0.927941,
          0.928008,
          0.927828,
          0.927834,
          0.927727,
          0.927735,
          0.927763,
          0.927602,
          0.927764,
          0.927928,
          0.927925,
          0.927903,
          0.927898,
          0.927859,
          0.927677,
          0.927807,
          0.927755,
          0.927825,
          0.927724,
          0.927683,
          0.927653,
          0.92763,
          0.92746,
          0.927427,
          0.927389,
          0.927501,
          0.927485,
          0.927575,
          0.927641,
          0.927719,
          0.927728,
          0.927745,
          0.927884,
          0.92803,
          0.928031,
          0.927994,
          0.92814,
          0.928256,
          0.928187,
          0.928075,
          0.927948,
          0.928074,
          0.928002,
          0.92801,
          0.927977,
          0.927918,
          0.927899,
          0.927951,
          0.927929,
          0.927921,
          0.927842,
          0.927811,
          0.927797,
          0.927743,
          0.927857,
          0.927861,
          0.927777,
          0.927799,
          0.927851,
          0.927857,
          0.92788,
          0.927966,
          0.927827,
          0.927854,
          0.927791,
          0.927704,
          0.927653,
          0.927597,
          0.927552,
          0.927625,
          0.927698,
          0.927631,
          0.927641,
          0.92764,
          0.927678,
          0.927768,
          0.927857,
          0.927909,
          0.92783,
          0.927783,
          0.927806,
          0.92779,
          0.927739,
          0.927755,
          0.927794,
          0.927774,
          0.927837,
          0.927995,
          0.928039,
          0.928026,
          0.92807,
          0.928163,
          0.928094,
          0.9281,
          0.928019,
          0.928054,
          0.948718,
          0.921098,
          0.921318,
          0.921969,
          0.924305,
          0.932153,
          0.929831,
          0.929896,
          0.930515,
          0.931922,
          0.932081,
          0.932756,
          0.932205,
          0.929557,
          0.929739,
          0.92908,
          0.929577,
          0.929386,
          0.929,
          0.929648,
          0.929597,
          0.930013,
          0.930154,
          0.930089,
          0.930507,
          0.930823,
          0.930702,
          0.930956,
          0.930749,
          0.931398,
          0.931215,
          0.931491,
          0.931994,
          0.932122,
          0.932287,
          0.932349,
          0.932269,
          0.932334,
          0.932563,
          0.932333,
          0.932508,
          0.932147,
          0.931933,
          0.931768,
          0.931958,
          0.932229,
          0.932385,
          0.932394,
          0.932422,
          0.932156,
          0.932142,
          0.931722,
          0.931959,
          0.93182,
          0.93182,
          0.931766,
          0.931324,
          0.931525,
          0.931728,
          0.931944,
          0.932239,
          0.931929,
          0.931858,
          0.931951,
          0.932113,
          0.931791,
          0.931764,
          0.931687,
          0.931711,
          0.931917,
          0.931705,
          0.931654,
          0.931522,
          0.931375,
          0.931337,
          0.931242,
          0.931109,
          0.931052,
          0.931185,
          0.931192,
          0.931317,
          0.931351,
          0.931458,
          0.93156,
          0.931293,
          0.931472,
          0.931673,
          0.931561,
          0.931712,
          0.931606,
          0.931703,
          0.931719,
          0.931776,
          0.93194,
          0.932054,
          0.932124,
          0.932115,
          0.932245,
          0.932413,
          0.932356,
          0.932336,
          0.931971,
          0.932147,
          0.932146,
          0.93221,
          0.932272,
          0.932215,
          0.932088,
          0.932146,
          0.932111,
          0.932186,
          0.932169,
          0.932142,
          0.932092,
          0.932095,
          0.93224,
          0.932512,
          0.932569,
          0.932545,
          0.932453,
          0.932504,
          0.932517,
          0.932572,
          0.932574,
          0.93244,
          0.932361,
          0.932424,
          0.932438,
          0.932476,
          0.93246,
          0.932489,
          0.932343,
          0.932481,
          0.932408,
          0.932335,
          0.932306,
          0.932202,
          0.932109,
          0.932171,
          0.932081,
          0.932035,
          0.932123,
          0.9322,
          0.932234,
          0.932325,
          0.932278,
          0.932285,
          0.932301,
          0.932342,
          0.932476,
          0.932426,
          0.932372,
          0.932333,
          0.932225,
          0.932145,
          0.932209,
          0.932147,
          0.932058,
          0.932095,
          0.932089,
          0.931993,
          0.931998,
          0.93204,
          0.932029,
          0.931949,
          0.931902,
          0.931909,
          0.931864,
          0.93175,
          0.93169,
          0.931723,
          0.931774,
          0.931888,
          0.931831,
          0.931886,
          0.931927,
          0.931898,
          0.931879,
          0.931788,
          0.931633,
          0.931683,
          0.931607,
          0.931609,
          0.93162,
          0.931561,
          0.931505,
          0.931445,
          0.931524,
          0.931508,
          0.931492,
          0.931356,
          0.931194,
          0.931181,
          0.931144,
          0.931054,
          0.931089,
          0.931117,
          0.931135,
          0.931183,
          0.931186,
          0.931171,
          0.931037,
          0.931121,
          0.931226,
          0.93126
         ]
        },
        {
         "mode": "lines",
         "name": "val",
         "type": "scatter",
         "x": [
          0,
          9,
          18,
          28,
          37,
          46,
          55,
          65,
          74,
          83,
          92,
          102,
          111,
          120,
          129,
          138,
          148,
          157,
          166,
          175,
          185,
          194,
          203,
          203,
          203,
          212,
          221,
          231,
          240,
          249,
          258,
          268,
          277,
          286,
          295,
          304,
          314,
          323,
          332,
          341,
          351,
          360,
          369,
          378,
          388,
          397,
          406,
          406
         ],
         "y": [
          0.890909,
          0.86517,
          0.85984,
          0.857646,
          0.861879,
          0.859924,
          0.859581,
          0.856755,
          0.855278,
          0.854149,
          0.854193,
          0.854448,
          0.853519,
          0.853198,
          0.852574,
          0.851474,
          0.852931,
          0.851867,
          0.850444,
          0.851938,
          0.853414,
          0.853503,
          0.852699,
          0.852764,
          0.831665,
          0.875671,
          0.887343,
          0.889951,
          0.892735,
          0.897726,
          0.89457,
          0.896621,
          0.894228,
          0.894648,
          0.893092,
          0.894696,
          0.896448,
          0.895283,
          0.895149,
          0.894681,
          0.896776,
          0.895998,
          0.895974,
          0.896204,
          0.895496,
          0.896107,
          0.895873,
          0.894299
         ]
        },
        {
         "mode": "lines",
         "name": "real_val",
         "type": "scatter",
         "x": [
          0,
          20,
          41,
          61,
          81,
          102,
          122,
          142,
          162,
          183,
          203,
          203,
          203,
          223,
          244,
          264,
          284,
          304,
          325,
          345,
          365,
          386,
          406,
          406
         ],
         "y": [
          0.831795,
          0.742191,
          0.758277,
          0.758505,
          0.746544,
          0.7465,
          0.748183,
          0.745904,
          0.746576,
          0.749327,
          0.748308,
          0.748828,
          0.69546,
          0.673077,
          0.66286,
          0.668236,
          0.669995,
          0.665631,
          0.666696,
          0.668009,
          0.663071,
          0.658224,
          0.660222,
          0.663271
         ]
        }
       ],
       "layout": {
        "autosize": true,
        "legend": {
         "orientation": "h"
        },
        "template": {
         "data": {
          "bar": [
           {
            "error_x": {
             "color": "#2a3f5f"
            },
            "error_y": {
             "color": "#2a3f5f"
            },
            "marker": {
             "line": {
              "color": "#E5ECF6",
              "width": 0.5
             },
             "pattern": {
              "fillmode": "overlay",
              "size": 10,
              "solidity": 0.2
             }
            },
            "type": "bar"
           }
          ],
          "barpolar": [
           {
            "marker": {
             "line": {
              "color": "#E5ECF6",
              "width": 0.5
             },
             "pattern": {
              "fillmode": "overlay",
              "size": 10,
              "solidity": 0.2
             }
            },
            "type": "barpolar"
           }
          ],
          "carpet": [
           {
            "aaxis": {
             "endlinecolor": "#2a3f5f",
             "gridcolor": "white",
             "linecolor": "white",
             "minorgridcolor": "white",
             "startlinecolor": "#2a3f5f"
            },
            "baxis": {
             "endlinecolor": "#2a3f5f",
             "gridcolor": "white",
             "linecolor": "white",
             "minorgridcolor": "white",
             "startlinecolor": "#2a3f5f"
            },
            "type": "carpet"
           }
          ],
          "choropleth": [
           {
            "colorbar": {
             "outlinewidth": 0,
             "ticks": ""
            },
            "type": "choropleth"
           }
          ],
          "contour": [
           {
            "colorbar": {
             "outlinewidth": 0,
             "ticks": ""
            },
            "colorscale": [
             [
              0,
              "#0d0887"
             ],
             [
              0.1111111111111111,
              "#46039f"
             ],
             [
              0.2222222222222222,
              "#7201a8"
             ],
             [
              0.3333333333333333,
              "#9c179e"
             ],
             [
              0.4444444444444444,
              "#bd3786"
             ],
             [
              0.5555555555555556,
              "#d8576b"
             ],
             [
              0.6666666666666666,
              "#ed7953"
             ],
             [
              0.7777777777777778,
              "#fb9f3a"
             ],
             [
              0.8888888888888888,
              "#fdca26"
             ],
             [
              1,
              "#f0f921"
             ]
            ],
            "type": "contour"
           }
          ],
          "contourcarpet": [
           {
            "colorbar": {
             "outlinewidth": 0,
             "ticks": ""
            },
            "type": "contourcarpet"
           }
          ],
          "heatmap": [
           {
            "colorbar": {
             "outlinewidth": 0,
             "ticks": ""
            },
            "colorscale": [
             [
              0,
              "#0d0887"
             ],
             [
              0.1111111111111111,
              "#46039f"
             ],
             [
              0.2222222222222222,
              "#7201a8"
             ],
             [
              0.3333333333333333,
              "#9c179e"
             ],
             [
              0.4444444444444444,
              "#bd3786"
             ],
             [
              0.5555555555555556,
              "#d8576b"
             ],
             [
              0.6666666666666666,
              "#ed7953"
             ],
             [
              0.7777777777777778,
              "#fb9f3a"
             ],
             [
              0.8888888888888888,
              "#fdca26"
             ],
             [
              1,
              "#f0f921"
             ]
            ],
            "type": "heatmap"
           }
          ],
          "heatmapgl": [
           {
            "colorbar": {
             "outlinewidth": 0,
             "ticks": ""
            },
            "colorscale": [
             [
              0,
              "#0d0887"
             ],
             [
              0.1111111111111111,
              "#46039f"
             ],
             [
              0.2222222222222222,
              "#7201a8"
             ],
             [
              0.3333333333333333,
              "#9c179e"
             ],
             [
              0.4444444444444444,
              "#bd3786"
             ],
             [
              0.5555555555555556,
              "#d8576b"
             ],
             [
              0.6666666666666666,
              "#ed7953"
             ],
             [
              0.7777777777777778,
              "#fb9f3a"
             ],
             [
              0.8888888888888888,
              "#fdca26"
             ],
             [
              1,
              "#f0f921"
             ]
            ],
            "type": "heatmapgl"
           }
          ],
          "histogram": [
           {
            "marker": {
             "pattern": {
              "fillmode": "overlay",
              "size": 10,
              "solidity": 0.2
             }
            },
            "type": "histogram"
           }
          ],
          "histogram2d": [
           {
            "colorbar": {
             "outlinewidth": 0,
             "ticks": ""
            },
            "colorscale": [
             [
              0,
              "#0d0887"
             ],
             [
              0.1111111111111111,
              "#46039f"
             ],
             [
              0.2222222222222222,
              "#7201a8"
             ],
             [
              0.3333333333333333,
              "#9c179e"
             ],
             [
              0.4444444444444444,
              "#bd3786"
             ],
             [
              0.5555555555555556,
              "#d8576b"
             ],
             [
              0.6666666666666666,
              "#ed7953"
             ],
             [
              0.7777777777777778,
              "#fb9f3a"
             ],
             [
              0.8888888888888888,
              "#fdca26"
             ],
             [
              1,
              "#f0f921"
             ]
            ],
            "type": "histogram2d"
           }
          ],
          "histogram2dcontour": [
           {
            "colorbar": {
             "outlinewidth": 0,
             "ticks": ""
            },
            "colorscale": [
             [
              0,
              "#0d0887"
             ],
             [
              0.1111111111111111,
              "#46039f"
             ],
             [
              0.2222222222222222,
              "#7201a8"
             ],
             [
              0.3333333333333333,
              "#9c179e"
             ],
             [
              0.4444444444444444,
              "#bd3786"
             ],
             [
              0.5555555555555556,
              "#d8576b"
             ],
             [
              0.6666666666666666,
              "#ed7953"
             ],
             [
              0.7777777777777778,
              "#fb9f3a"
             ],
             [
              0.8888888888888888,
              "#fdca26"
             ],
             [
              1,
              "#f0f921"
             ]
            ],
            "type": "histogram2dcontour"
           }
          ],
          "mesh3d": [
           {
            "colorbar": {
             "outlinewidth": 0,
             "ticks": ""
            },
            "type": "mesh3d"
           }
          ],
          "parcoords": [
           {
            "line": {
             "colorbar": {
              "outlinewidth": 0,
              "ticks": ""
             }
            },
            "type": "parcoords"
           }
          ],
          "pie": [
           {
            "automargin": true,
            "type": "pie"
           }
          ],
          "scatter": [
           {
            "fillpattern": {
             "fillmode": "overlay",
             "size": 10,
             "solidity": 0.2
            },
            "type": "scatter"
           }
          ],
          "scatter3d": [
           {
            "line": {
             "colorbar": {
              "outlinewidth": 0,
              "ticks": ""
             }
            },
            "marker": {
             "colorbar": {
              "outlinewidth": 0,
              "ticks": ""
             }
            },
            "type": "scatter3d"
           }
          ],
          "scattercarpet": [
           {
            "marker": {
             "colorbar": {
              "outlinewidth": 0,
              "ticks": ""
             }
            },
            "type": "scattercarpet"
           }
          ],
          "scattergeo": [
           {
            "marker": {
             "colorbar": {
              "outlinewidth": 0,
              "ticks": ""
             }
            },
            "type": "scattergeo"
           }
          ],
          "scattergl": [
           {
            "marker": {
             "colorbar": {
              "outlinewidth": 0,
              "ticks": ""
             }
            },
            "type": "scattergl"
           }
          ],
          "scattermapbox": [
           {
            "marker": {
             "colorbar": {
              "outlinewidth": 0,
              "ticks": ""
             }
            },
            "type": "scattermapbox"
           }
          ],
          "scatterpolar": [
           {
            "marker": {
             "colorbar": {
              "outlinewidth": 0,
              "ticks": ""
             }
            },
            "type": "scatterpolar"
           }
          ],
          "scatterpolargl": [
           {
            "marker": {
             "colorbar": {
              "outlinewidth": 0,
              "ticks": ""
             }
            },
            "type": "scatterpolargl"
           }
          ],
          "scatterternary": [
           {
            "marker": {
             "colorbar": {
              "outlinewidth": 0,
              "ticks": ""
             }
            },
            "type": "scatterternary"
           }
          ],
          "surface": [
           {
            "colorbar": {
             "outlinewidth": 0,
             "ticks": ""
            },
            "colorscale": [
             [
              0,
              "#0d0887"
             ],
             [
              0.1111111111111111,
              "#46039f"
             ],
             [
              0.2222222222222222,
              "#7201a8"
             ],
             [
              0.3333333333333333,
              "#9c179e"
             ],
             [
              0.4444444444444444,
              "#bd3786"
             ],
             [
              0.5555555555555556,
              "#d8576b"
             ],
             [
              0.6666666666666666,
              "#ed7953"
             ],
             [
              0.7777777777777778,
              "#fb9f3a"
             ],
             [
              0.8888888888888888,
              "#fdca26"
             ],
             [
              1,
              "#f0f921"
             ]
            ],
            "type": "surface"
           }
          ],
          "table": [
           {
            "cells": {
             "fill": {
              "color": "#EBF0F8"
             },
             "line": {
              "color": "white"
             }
            },
            "header": {
             "fill": {
              "color": "#C8D4E3"
             },
             "line": {
              "color": "white"
             }
            },
            "type": "table"
           }
          ]
         },
         "layout": {
          "annotationdefaults": {
           "arrowcolor": "#2a3f5f",
           "arrowhead": 0,
           "arrowwidth": 1
          },
          "autotypenumbers": "strict",
          "coloraxis": {
           "colorbar": {
            "outlinewidth": 0,
            "ticks": ""
           }
          },
          "colorscale": {
           "diverging": [
            [
             0,
             "#8e0152"
            ],
            [
             0.1,
             "#c51b7d"
            ],
            [
             0.2,
             "#de77ae"
            ],
            [
             0.3,
             "#f1b6da"
            ],
            [
             0.4,
             "#fde0ef"
            ],
            [
             0.5,
             "#f7f7f7"
            ],
            [
             0.6,
             "#e6f5d0"
            ],
            [
             0.7,
             "#b8e186"
            ],
            [
             0.8,
             "#7fbc41"
            ],
            [
             0.9,
             "#4d9221"
            ],
            [
             1,
             "#276419"
            ]
           ],
           "sequential": [
            [
             0,
             "#0d0887"
            ],
            [
             0.1111111111111111,
             "#46039f"
            ],
            [
             0.2222222222222222,
             "#7201a8"
            ],
            [
             0.3333333333333333,
             "#9c179e"
            ],
            [
             0.4444444444444444,
             "#bd3786"
            ],
            [
             0.5555555555555556,
             "#d8576b"
            ],
            [
             0.6666666666666666,
             "#ed7953"
            ],
            [
             0.7777777777777778,
             "#fb9f3a"
            ],
            [
             0.8888888888888888,
             "#fdca26"
            ],
            [
             1,
             "#f0f921"
            ]
           ],
           "sequentialminus": [
            [
             0,
             "#0d0887"
            ],
            [
             0.1111111111111111,
             "#46039f"
            ],
            [
             0.2222222222222222,
             "#7201a8"
            ],
            [
             0.3333333333333333,
             "#9c179e"
            ],
            [
             0.4444444444444444,
             "#bd3786"
            ],
            [
             0.5555555555555556,
             "#d8576b"
            ],
            [
             0.6666666666666666,
             "#ed7953"
            ],
            [
             0.7777777777777778,
             "#fb9f3a"
            ],
            [
             0.8888888888888888,
             "#fdca26"
            ],
            [
             1,
             "#f0f921"
            ]
           ]
          },
          "colorway": [
           "#636efa",
           "#EF553B",
           "#00cc96",
           "#ab63fa",
           "#FFA15A",
           "#19d3f3",
           "#FF6692",
           "#B6E880",
           "#FF97FF",
           "#FECB52"
          ],
          "font": {
           "color": "#2a3f5f"
          },
          "geo": {
           "bgcolor": "white",
           "lakecolor": "white",
           "landcolor": "#E5ECF6",
           "showlakes": true,
           "showland": true,
           "subunitcolor": "white"
          },
          "hoverlabel": {
           "align": "left"
          },
          "hovermode": "closest",
          "mapbox": {
           "style": "light"
          },
          "paper_bgcolor": "white",
          "plot_bgcolor": "#E5ECF6",
          "polar": {
           "angularaxis": {
            "gridcolor": "white",
            "linecolor": "white",
            "ticks": ""
           },
           "bgcolor": "#E5ECF6",
           "radialaxis": {
            "gridcolor": "white",
            "linecolor": "white",
            "ticks": ""
           }
          },
          "scene": {
           "xaxis": {
            "backgroundcolor": "#E5ECF6",
            "gridcolor": "white",
            "gridwidth": 2,
            "linecolor": "white",
            "showbackground": true,
            "ticks": "",
            "zerolinecolor": "white"
           },
           "yaxis": {
            "backgroundcolor": "#E5ECF6",
            "gridcolor": "white",
            "gridwidth": 2,
            "linecolor": "white",
            "showbackground": true,
            "ticks": "",
            "zerolinecolor": "white"
           },
           "zaxis": {
            "backgroundcolor": "#E5ECF6",
            "gridcolor": "white",
            "gridwidth": 2,
            "linecolor": "white",
            "showbackground": true,
            "ticks": "",
            "zerolinecolor": "white"
           }
          },
          "shapedefaults": {
           "line": {
            "color": "#2a3f5f"
           }
          },
          "ternary": {
           "aaxis": {
            "gridcolor": "white",
            "linecolor": "white",
            "ticks": ""
           },
           "baxis": {
            "gridcolor": "white",
            "linecolor": "white",
            "ticks": ""
           },
           "bgcolor": "#E5ECF6",
           "caxis": {
            "gridcolor": "white",
            "linecolor": "white",
            "ticks": ""
           }
          },
          "title": {
           "x": 0.05
          },
          "xaxis": {
           "automargin": true,
           "gridcolor": "white",
           "linecolor": "white",
           "ticks": "",
           "title": {
            "standoff": 15
           },
           "zerolinecolor": "white",
           "zerolinewidth": 2
          },
          "yaxis": {
           "automargin": true,
           "gridcolor": "white",
           "linecolor": "white",
           "ticks": "",
           "title": {
            "standoff": 15
           },
           "zerolinecolor": "white",
           "zerolinewidth": 2
          }
         }
        },
        "xaxis": {
         "autorange": true,
         "range": [
          0,
          406
         ],
         "type": "linear"
        },
        "yaxis": {
         "range": [
          0,
          1
         ],
         "type": "linear"
        }
       }
      },
      "image/png": "[encoded data removed]",
      "text/html": [
       "<div>                            <div id=\"a3c6edfa-1995-4ca1-8d5a-5e6411f678a2\" class=\"plotly-graph-div\" style=\"height:525px; width:100%;\"></div>            <script type=\"text/javascript\">                require([\"plotly\"], function(Plotly) {                    window.PLOTLYENV=window.PLOTLYENV || {};                                    if (document.getElementById(\"a3c6edfa-1995-4ca1-8d5a-5e6411f678a2\")) {                    Plotly.newPlot(                        \"a3c6edfa-1995-4ca1-8d5a-5e6411f678a2\",                        [{\"mode\":\"lines\",\"name\":\"train\",\"x\":[0.0,1.0,2.0,3.0,4.0,5.0,6.0,7.0,8.0,9.0,10.0,11.0,12.0,13.0,14.0,15.0,16.0,17.0,18.0,19.0,20.0,21.0,22.0,23.0,24.0,25.0,26.0,27.0,28.0,29.0,30.0,31.0,32.0,33.0,34.0,35.0,36.0,37.0,38.0,39.0,40.0,41.0,42.0,43.0,44.0,45.0,46.0,47.0,48.0,49.0,50.0,51.0,52.0,53.0,54.0,55.0,56.0,57.0,58.0,59.0,60.0,61.0,62.0,63.0,64.0,65.0,66.0,67.0,68.0,69.0,70.0,71.0,72.0,73.0,74.0,75.0,76.0,77.0,78.0,79.0,80.0,81.0,82.0,83.0,84.0,85.0,86.0,87.0,88.0,89.0,90.0,91.0,92.0,93.0,94.0,95.0,96.0,97.0,98.0,99.0,100.0,101.0,102.0,103.0,104.0,105.0,106.0,107.0,108.0,109.0,110.0,111.0,112.0,113.0,114.0,115.0,116.0,117.0,118.0,119.0,120.0,121.0,122.0,123.0,124.0,125.0,126.0,127.0,128.0,129.0,130.0,131.0,132.0,133.0,134.0,135.0,136.0,137.0,138.0,139.0,140.0,141.0,142.0,143.0,144.0,145.0,146.0,147.0,148.0,149.0,150.0,151.0,152.0,153.0,154.0,155.0,156.0,157.0,158.0,159.0,160.0,161.0,162.0,163.0,164.0,165.0,166.0,167.0,168.0,169.0,170.0,171.0,172.0,173.0,174.0,175.0,176.0,177.0,178.0,179.0,180.0,181.0,182.0,183.0,184.0,185.0,186.0,187.0,188.0,189.0,190.0,191.0,192.0,193.0,194.0,195.0,196.0,197.0,198.0,199.0,200.0,201.0,202.0,203.0,203.0,203.0,204.0,205.0,206.0,207.0,208.0,209.0,210.0,211.0,212.0,213.0,214.0,215.0,216.0,217.0,218.0,219.0,220.0,221.0,222.0,223.0,224.0,225.0,226.0,227.0,228.0,229.0,230.0,231.0,232.0,233.0,234.0,235.0,236.0,237.0,238.0,239.0,240.0,241.0,242.0,243.0,244.0,245.0,246.0,247.0,248.0,249.0,250.0,251.0,252.0,253.0,254.0,255.0,256.0,257.0,258.0,259.0,260.0,261.0,262.0,263.0,264.0,265.0,266.0,267.0,268.0,269.0,270.0,271.0,272.0,273.0,274.0,275.0,276.0,277.0,278.0,279.0,280.0,281.0,282.0,283.0,284.0,285.0,286.0,287.0,288.0,289.0,290.0,291.0,292.0,293.0,294.0,295.0,296.0,297.0,298.0,299.0,300.0,301.0,302.0,303.0,304.0,305.0,306.0,307.0,308.0,309.0,310.0,311.0,312.0,313.0,314.0,315.0,316.0,317.0,318.0,319.0,320.0,321.0,322.0,323.0,324.0,325.0,326.0,327.0,328.0,329.0,330.0,331.0,332.0,333.0,334.0,335.0,336.0,337.0,338.0,339.0,340.0,341.0,342.0,343.0,344.0,345.0,346.0,347.0,348.0,349.0,350.0,351.0,352.0,353.0,354.0,355.0,356.0,357.0,358.0,359.0,360.0,361.0,362.0,363.0,364.0,365.0,366.0,367.0,368.0,369.0,370.0,371.0,372.0,373.0,374.0,375.0,376.0,377.0,378.0,379.0,380.0,381.0,382.0,383.0,384.0,385.0,386.0,387.0,388.0,389.0,390.0,391.0,392.0,393.0,394.0,395.0,396.0,397.0,398.0,399.0,400.0,401.0,402.0,403.0,404.0,405.0,406.0,406.0],\"y\":[1.0,0.921367,0.916161,0.919625,0.917736,0.918823,0.919275,0.921333,0.923465,0.924819,0.926971,0.928604,0.929837,0.931187,0.932032,0.931175,0.929285,0.928459,0.929278,0.928779,0.929899,0.929138,0.928364,0.92819,0.928088,0.928402,0.928749,0.928743,0.929277,0.929393,0.9295,0.929578,0.929933,0.929691,0.930103,0.930384,0.930169,0.930264,0.929966,0.929782,0.929887,0.92974,0.929942,0.929726,0.930034,0.930046,0.929533,0.929398,0.929477,0.92909,0.928991,0.929087,0.929016,0.92928,0.929191,0.929308,0.929033,0.929103,0.92909,0.928977,0.929076,0.929028,0.928684,0.928667,0.928818,0.928584,0.928587,0.928883,0.928943,0.928885,0.928811,0.92875,0.928714,0.928775,0.92861,0.928425,0.92857,0.928593,0.928477,0.928429,0.928451,0.928454,0.928518,0.928458,0.92858,0.928674,0.928654,0.928558,0.92874,0.928674,0.928716,0.928653,0.928419,0.928507,0.92866,0.928699,0.928594,0.928668,0.928557,0.928588,0.928558,0.928532,0.928533,0.928392,0.92832,0.928112,0.928084,0.928055,0.928054,0.927941,0.928008,0.927828,0.927834,0.927727,0.927735,0.927763,0.927602,0.927764,0.927928,0.927925,0.927903,0.927898,0.927859,0.927677,0.927807,0.927755,0.927825,0.927724,0.927683,0.927653,0.92763,0.92746,0.927427,0.927389,0.927501,0.927485,0.927575,0.927641,0.927719,0.927728,0.927745,0.927884,0.92803,0.928031,0.927994,0.92814,0.928256,0.928187,0.928075,0.927948,0.928074,0.928002,0.92801,0.927977,0.927918,0.927899,0.927951,0.927929,0.927921,0.927842,0.927811,0.927797,0.927743,0.927857,0.927861,0.927777,0.927799,0.927851,0.927857,0.92788,0.927966,0.927827,0.927854,0.927791,0.927704,0.927653,0.927597,0.927552,0.927625,0.927698,0.927631,0.927641,0.92764,0.927678,0.927768,0.927857,0.927909,0.92783,0.927783,0.927806,0.92779,0.927739,0.927755,0.927794,0.927774,0.927837,0.927995,0.928039,0.928026,0.92807,0.928163,0.928094,0.9281,0.928019,0.928054,0.948718,0.921098,0.921318,0.921969,0.924305,0.932153,0.929831,0.929896,0.930515,0.931922,0.932081,0.932756,0.932205,0.929557,0.929739,0.92908,0.929577,0.929386,0.929,0.929648,0.929597,0.930013,0.930154,0.930089,0.930507,0.930823,0.930702,0.930956,0.930749,0.931398,0.931215,0.931491,0.931994,0.932122,0.932287,0.932349,0.932269,0.932334,0.932563,0.932333,0.932508,0.932147,0.931933,0.931768,0.931958,0.932229,0.932385,0.932394,0.932422,0.932156,0.932142,0.931722,0.931959,0.93182,0.93182,0.931766,0.931324,0.931525,0.931728,0.931944,0.932239,0.931929,0.931858,0.931951,0.932113,0.931791,0.931764,0.931687,0.931711,0.931917,0.931705,0.931654,0.931522,0.931375,0.931337,0.931242,0.931109,0.931052,0.931185,0.931192,0.931317,0.931351,0.931458,0.93156,0.931293,0.931472,0.931673,0.931561,0.931712,0.931606,0.931703,0.931719,0.931776,0.93194,0.932054,0.932124,0.932115,0.932245,0.932413,0.932356,0.932336,0.931971,0.932147,0.932146,0.93221,0.932272,0.932215,0.932088,0.932146,0.932111,0.932186,0.932169,0.932142,0.932092,0.932095,0.93224,0.932512,0.932569,0.932545,0.932453,0.932504,0.932517,0.932572,0.932574,0.93244,0.932361,0.932424,0.932438,0.932476,0.93246,0.932489,0.932343,0.932481,0.932408,0.932335,0.932306,0.932202,0.932109,0.932171,0.932081,0.932035,0.932123,0.9322,0.932234,0.932325,0.932278,0.932285,0.932301,0.932342,0.932476,0.932426,0.932372,0.932333,0.932225,0.932145,0.932209,0.932147,0.932058,0.932095,0.932089,0.931993,0.931998,0.93204,0.932029,0.931949,0.931902,0.931909,0.931864,0.93175,0.93169,0.931723,0.931774,0.931888,0.931831,0.931886,0.931927,0.931898,0.931879,0.931788,0.931633,0.931683,0.931607,0.931609,0.93162,0.931561,0.931505,0.931445,0.931524,0.931508,0.931492,0.931356,0.931194,0.931181,0.931144,0.931054,0.931089,0.931117,0.931135,0.931183,0.931186,0.931171,0.931037,0.931121,0.931226,0.93126],\"type\":\"scatter\"},{\"mode\":\"lines\",\"name\":\"val\",\"x\":[0.0,9.0,18.0,28.0,37.0,46.0,55.0,65.0,74.0,83.0,92.0,102.0,111.0,120.0,129.0,138.0,148.0,157.0,166.0,175.0,185.0,194.0,203.0,203.0,203.0,212.0,221.0,231.0,240.0,249.0,258.0,268.0,277.0,286.0,295.0,304.0,314.0,323.0,332.0,341.0,351.0,360.0,369.0,378.0,388.0,397.0,406.0,406.0],\"y\":[0.890909,0.86517,0.85984,0.857646,0.861879,0.859924,0.859581,0.856755,0.855278,0.854149,0.854193,0.854448,0.853519,0.853198,0.852574,0.851474,0.852931,0.851867,0.850444,0.851938,0.853414,0.853503,0.852699,0.852764,0.831665,0.875671,0.887343,0.889951,0.892735,0.897726,0.89457,0.896621,0.894228,0.894648,0.893092,0.894696,0.896448,0.895283,0.895149,0.894681,0.896776,0.895998,0.895974,0.896204,0.895496,0.896107,0.895873,0.894299],\"type\":\"scatter\"},{\"mode\":\"lines\",\"name\":\"real_val\",\"x\":[0.0,20.0,41.0,61.0,81.0,102.0,122.0,142.0,162.0,183.0,203.0,203.0,203.0,223.0,244.0,264.0,284.0,304.0,325.0,345.0,365.0,386.0,406.0,406.0],\"y\":[0.831795,0.742191,0.758277,0.758505,0.746544,0.7465,0.748183,0.745904,0.746576,0.749327,0.748308,0.748828,0.69546,0.673077,0.66286,0.668236,0.669995,0.665631,0.666696,0.668009,0.663071,0.658224,0.660222,0.663271],\"type\":\"scatter\"}],                        {\"template\":{\"data\":{\"histogram2dcontour\":[{\"type\":\"histogram2dcontour\",\"colorbar\":{\"outlinewidth\":0,\"ticks\":\"\"},\"colorscale\":[[0.0,\"#0d0887\"],[0.1111111111111111,\"#46039f\"],[0.2222222222222222,\"#7201a8\"],[0.3333333333333333,\"#9c179e\"],[0.4444444444444444,\"#bd3786\"],[0.5555555555555556,\"#d8576b\"],[0.6666666666666666,\"#ed7953\"],[0.7777777777777778,\"#fb9f3a\"],[0.8888888888888888,\"#fdca26\"],[1.0,\"#f0f921\"]]}],\"choropleth\":[{\"type\":\"choropleth\",\"colorbar\":{\"outlinewidth\":0,\"ticks\":\"\"}}],\"histogram2d\":[{\"type\":\"histogram2d\",\"colorbar\":{\"outlinewidth\":0,\"ticks\":\"\"},\"colorscale\":[[0.0,\"#0d0887\"],[0.1111111111111111,\"#46039f\"],[0.2222222222222222,\"#7201a8\"],[0.3333333333333333,\"#9c179e\"],[0.4444444444444444,\"#bd3786\"],[0.5555555555555556,\"#d8576b\"],[0.6666666666666666,\"#ed7953\"],[0.7777777777777778,\"#fb9f3a\"],[0.8888888888888888,\"#fdca26\"],[1.0,\"#f0f921\"]]}],\"heatmap\":[{\"type\":\"heatmap\",\"colorbar\":{\"outlinewidth\":0,\"ticks\":\"\"},\"colorscale\":[[0.0,\"#0d0887\"],[0.1111111111111111,\"#46039f\"],[0.2222222222222222,\"#7201a8\"],[0.3333333333333333,\"#9c179e\"],[0.4444444444444444,\"#bd3786\"],[0.5555555555555556,\"#d8576b\"],[0.6666666666666666,\"#ed7953\"],[0.7777777777777778,\"#fb9f3a\"],[0.8888888888888888,\"#fdca26\"],[1.0,\"#f0f921\"]]}],\"heatmapgl\":[{\"type\":\"heatmapgl\",\"colorbar\":{\"outlinewidth\":0,\"ticks\":\"\"},\"colorscale\":[[0.0,\"#0d0887\"],[0.1111111111111111,\"#46039f\"],[0.2222222222222222,\"#7201a8\"],[0.3333333333333333,\"#9c179e\"],[0.4444444444444444,\"#bd3786\"],[0.5555555555555556,\"#d8576b\"],[0.6666666666666666,\"#ed7953\"],[0.7777777777777778,\"#fb9f3a\"],[0.8888888888888888,\"#fdca26\"],[1.0,\"#f0f921\"]]}],\"contourcarpet\":[{\"type\":\"contourcarpet\",\"colorbar\":{\"outlinewidth\":0,\"ticks\":\"\"}}],\"contour\":[{\"type\":\"contour\",\"colorbar\":{\"outlinewidth\":0,\"ticks\":\"\"},\"colorscale\":[[0.0,\"#0d0887\"],[0.1111111111111111,\"#46039f\"],[0.2222222222222222,\"#7201a8\"],[0.3333333333333333,\"#9c179e\"],[0.4444444444444444,\"#bd3786\"],[0.5555555555555556,\"#d8576b\"],[0.6666666666666666,\"#ed7953\"],[0.7777777777777778,\"#fb9f3a\"],[0.8888888888888888,\"#fdca26\"],[1.0,\"#f0f921\"]]}],\"surface\":[{\"type\":\"surface\",\"colorbar\":{\"outlinewidth\":0,\"ticks\":\"\"},\"colorscale\":[[0.0,\"#0d0887\"],[0.1111111111111111,\"#46039f\"],[0.2222222222222222,\"#7201a8\"],[0.3333333333333333,\"#9c179e\"],[0.4444444444444444,\"#bd3786\"],[0.5555555555555556,\"#d8576b\"],[0.6666666666666666,\"#ed7953\"],[0.7777777777777778,\"#fb9f3a\"],[0.8888888888888888,\"#fdca26\"],[1.0,\"#f0f921\"]]}],\"mesh3d\":[{\"type\":\"mesh3d\",\"colorbar\":{\"outlinewidth\":0,\"ticks\":\"\"}}],\"scatter\":[{\"fillpattern\":{\"fillmode\":\"overlay\",\"size\":10,\"solidity\":0.2},\"type\":\"scatter\"}],\"parcoords\":[{\"type\":\"parcoords\",\"line\":{\"colorbar\":{\"outlinewidth\":0,\"ticks\":\"\"}}}],\"scatterpolargl\":[{\"type\":\"scatterpolargl\",\"marker\":{\"colorbar\":{\"outlinewidth\":0,\"ticks\":\"\"}}}],\"bar\":[{\"error_x\":{\"color\":\"#2a3f5f\"},\"error_y\":{\"color\":\"#2a3f5f\"},\"marker\":{\"line\":{\"color\":\"#E5ECF6\",\"width\":0.5},\"pattern\":{\"fillmode\":\"overlay\",\"size\":10,\"solidity\":0.2}},\"type\":\"bar\"}],\"scattergeo\":[{\"type\":\"scattergeo\",\"marker\":{\"colorbar\":{\"outlinewidth\":0,\"ticks\":\"\"}}}],\"scatterpolar\":[{\"type\":\"scatterpolar\",\"marker\":{\"colorbar\":{\"outlinewidth\":0,\"ticks\":\"\"}}}],\"histogram\":[{\"marker\":{\"pattern\":{\"fillmode\":\"overlay\",\"size\":10,\"solidity\":0.2}},\"type\":\"histogram\"}],\"scattergl\":[{\"type\":\"scattergl\",\"marker\":{\"colorbar\":{\"outlinewidth\":0,\"ticks\":\"\"}}}],\"scatter3d\":[{\"type\":\"scatter3d\",\"line\":{\"colorbar\":{\"outlinewidth\":0,\"ticks\":\"\"}},\"marker\":{\"colorbar\":{\"outlinewidth\":0,\"ticks\":\"\"}}}],\"scattermapbox\":[{\"type\":\"scattermapbox\",\"marker\":{\"colorbar\":{\"outlinewidth\":0,\"ticks\":\"\"}}}],\"scatterternary\":[{\"type\":\"scatterternary\",\"marker\":{\"colorbar\":{\"outlinewidth\":0,\"ticks\":\"\"}}}],\"scattercarpet\":[{\"type\":\"scattercarpet\",\"marker\":{\"colorbar\":{\"outlinewidth\":0,\"ticks\":\"\"}}}],\"carpet\":[{\"aaxis\":{\"endlinecolor\":\"#2a3f5f\",\"gridcolor\":\"white\",\"linecolor\":\"white\",\"minorgridcolor\":\"white\",\"startlinecolor\":\"#2a3f5f\"},\"baxis\":{\"endlinecolor\":\"#2a3f5f\",\"gridcolor\":\"white\",\"linecolor\":\"white\",\"minorgridcolor\":\"white\",\"startlinecolor\":\"#2a3f5f\"},\"type\":\"carpet\"}],\"table\":[{\"cells\":{\"fill\":{\"color\":\"#EBF0F8\"},\"line\":{\"color\":\"white\"}},\"header\":{\"fill\":{\"color\":\"#C8D4E3\"},\"line\":{\"color\":\"white\"}},\"type\":\"table\"}],\"barpolar\":[{\"marker\":{\"line\":{\"color\":\"#E5ECF6\",\"width\":0.5},\"pattern\":{\"fillmode\":\"overlay\",\"size\":10,\"solidity\":0.2}},\"type\":\"barpolar\"}],\"pie\":[{\"automargin\":true,\"type\":\"pie\"}]},\"layout\":{\"autotypenumbers\":\"strict\",\"colorway\":[\"#636efa\",\"#EF553B\",\"#00cc96\",\"#ab63fa\",\"#FFA15A\",\"#19d3f3\",\"#FF6692\",\"#B6E880\",\"#FF97FF\",\"#FECB52\"],\"font\":{\"color\":\"#2a3f5f\"},\"hovermode\":\"closest\",\"hoverlabel\":{\"align\":\"left\"},\"paper_bgcolor\":\"white\",\"plot_bgcolor\":\"#E5ECF6\",\"polar\":{\"bgcolor\":\"#E5ECF6\",\"angularaxis\":{\"gridcolor\":\"white\",\"linecolor\":\"white\",\"ticks\":\"\"},\"radialaxis\":{\"gridcolor\":\"white\",\"linecolor\":\"white\",\"ticks\":\"\"}},\"ternary\":{\"bgcolor\":\"#E5ECF6\",\"aaxis\":{\"gridcolor\":\"white\",\"linecolor\":\"white\",\"ticks\":\"\"},\"baxis\":{\"gridcolor\":\"white\",\"linecolor\":\"white\",\"ticks\":\"\"},\"caxis\":{\"gridcolor\":\"white\",\"linecolor\":\"white\",\"ticks\":\"\"}},\"coloraxis\":{\"colorbar\":{\"outlinewidth\":0,\"ticks\":\"\"}},\"colorscale\":{\"sequential\":[[0.0,\"#0d0887\"],[0.1111111111111111,\"#46039f\"],[0.2222222222222222,\"#7201a8\"],[0.3333333333333333,\"#9c179e\"],[0.4444444444444444,\"#bd3786\"],[0.5555555555555556,\"#d8576b\"],[0.6666666666666666,\"#ed7953\"],[0.7777777777777778,\"#fb9f3a\"],[0.8888888888888888,\"#fdca26\"],[1.0,\"#f0f921\"]],\"sequentialminus\":[[0.0,\"#0d0887\"],[0.1111111111111111,\"#46039f\"],[0.2222222222222222,\"#7201a8\"],[0.3333333333333333,\"#9c179e\"],[0.4444444444444444,\"#bd3786\"],[0.5555555555555556,\"#d8576b\"],[0.6666666666666666,\"#ed7953\"],[0.7777777777777778,\"#fb9f3a\"],[0.8888888888888888,\"#fdca26\"],[1.0,\"#f0f921\"]],\"diverging\":[[0,\"#8e0152\"],[0.1,\"#c51b7d\"],[0.2,\"#de77ae\"],[0.3,\"#f1b6da\"],[0.4,\"#fde0ef\"],[0.5,\"#f7f7f7\"],[0.6,\"#e6f5d0\"],[0.7,\"#b8e186\"],[0.8,\"#7fbc41\"],[0.9,\"#4d9221\"],[1,\"#276419\"]]},\"xaxis\":{\"gridcolor\":\"white\",\"linecolor\":\"white\",\"ticks\":\"\",\"title\":{\"standoff\":15},\"zerolinecolor\":\"white\",\"automargin\":true,\"zerolinewidth\":2},\"yaxis\":{\"gridcolor\":\"white\",\"linecolor\":\"white\",\"ticks\":\"\",\"title\":{\"standoff\":15},\"zerolinecolor\":\"white\",\"automargin\":true,\"zerolinewidth\":2},\"scene\":{\"xaxis\":{\"backgroundcolor\":\"#E5ECF6\",\"gridcolor\":\"white\",\"linecolor\":\"white\",\"showbackground\":true,\"ticks\":\"\",\"zerolinecolor\":\"white\",\"gridwidth\":2},\"yaxis\":{\"backgroundcolor\":\"#E5ECF6\",\"gridcolor\":\"white\",\"linecolor\":\"white\",\"showbackground\":true,\"ticks\":\"\",\"zerolinecolor\":\"white\",\"gridwidth\":2},\"zaxis\":{\"backgroundcolor\":\"#E5ECF6\",\"gridcolor\":\"white\",\"linecolor\":\"white\",\"showbackground\":true,\"ticks\":\"\",\"zerolinecolor\":\"white\",\"gridwidth\":2}},\"shapedefaults\":{\"line\":{\"color\":\"#2a3f5f\"}},\"annotationdefaults\":{\"arrowcolor\":\"#2a3f5f\",\"arrowhead\":0,\"arrowwidth\":1},\"geo\":{\"bgcolor\":\"white\",\"landcolor\":\"#E5ECF6\",\"subunitcolor\":\"white\",\"showland\":true,\"showlakes\":true,\"lakecolor\":\"white\"},\"title\":{\"x\":0.05},\"mapbox\":{\"style\":\"light\"}}},\"yaxis\":{\"range\":[0,1]},\"legend\":{\"orientation\":\"h\"}},                        {\"responsive\": true}                    ).then(function(){\n",
       "                            \n",
       "var gd = document.getElementById('a3c6edfa-1995-4ca1-8d5a-5e6411f678a2');\n",
       "var x = new MutationObserver(function (mutations, observer) {{\n",
       "        var display = window.getComputedStyle(gd).display;\n",
       "        if (!display || display === 'none') {{\n",
       "            console.log([gd, 'removed!']);\n",
       "            Plotly.purge(gd);\n",
       "            observer.disconnect();\n",
       "        }}\n",
       "}});\n",
       "\n",
       "// Listen for the removal of the full notebook cells\n",
       "var notebookContainer = gd.closest('#notebook-container');\n",
       "if (notebookContainer) {{\n",
       "    x.observe(notebookContainer, {childList: true});\n",
       "}}\n",
       "\n",
       "// Listen for the clearing of the current output cell\n",
       "var outputEl = gd.closest('.output');\n",
       "if (outputEl) {{\n",
       "    x.observe(outputEl, {childList: true});\n",
       "}}\n",
       "\n",
       "                        })                };                });            </script>        </div>"
      ]
     },
     "metadata": {},
     "output_type": "display_data"
    }
   ],
   "source": [
    "get_metric_figure( data, metric_name='precision' )"
   ]
  },
  {
   "cell_type": "code",
   "execution_count": null,
   "id": "21f82252-43af-49d6-86bc-c596d2435017",
   "metadata": {},
   "outputs": [],
   "source": [
    "px.scatter(\n",
    "    x=[(i+1) for i in range(data.loc[(data.dataset == 'real_val') & (data.metric_name == 'loss')].shape[0])],\n",
    "    y=data.loc[(data.dataset == 'real_val') & (data.metric_name == 'loss')].value,\n",
    "    trendline=\"ols\",\n",
    "    #trendline_options=dict(log_x=True)\n",
    ")"
   ]
  },
  {
   "cell_type": "code",
   "execution_count": null,
   "id": "9e471a92-c637-4219-8d35-fd713e616ed0",
   "metadata": {},
   "outputs": [],
   "source": [
    "rel_data_train = data.loc[data['mode'] == 'train'].copy()\n",
    "rel_data_train.loc[:,'step_total'] = (rel_data_train.epoch - 1) * rel_data_train.step.max() + rel_data_train.step\n",
    "\n",
    "grouped_train = rel_data_train.loc[\n",
    "    :,\n",
    "    ['metric_name','step_total','value']\n",
    "].groupby(['metric_name','step_total']).first().unstack('metric_name')\n",
    "\n",
    "grouped_train.columns = [c[1] for c in grouped_train.columns]"
   ]
  },
  {
   "cell_type": "code",
   "execution_count": null,
   "id": "544038b3-10af-49df-93d9-05fb67a8545b",
   "metadata": {},
   "outputs": [],
   "source": [
    "px.line(\n",
    "    grouped_train\n",
    ")"
   ]
  },
  {
   "cell_type": "code",
   "execution_count": null,
   "id": "7b10165e-aef7-4ccd-bf40-0f0e83017000",
   "metadata": {},
   "outputs": [],
   "source": [
    "rel_data_val = data.loc[data['mode'] == 'val'].copy()\n",
    "rel_data_val.loc[:,'step_total'] = (rel_data_val.epoch - 1) * rel_data_val.step.max() + rel_data_val.step\n",
    "\n",
    "grouped_val = rel_data_val.loc[\n",
    "    :,\n",
    "    ['metric_name','step_total','value']\n",
    "].groupby(['metric_name','step_total']).first().unstack('metric_name')\n",
    "\n",
    "grouped_val.columns = [c[1] for c in grouped_val.columns]"
   ]
  },
  {
   "cell_type": "code",
   "execution_count": null,
   "id": "84227919-fec3-4342-9a05-98d25be29baf",
   "metadata": {},
   "outputs": [],
   "source": [
    "(grouped_val.loss.iloc[-1] - grouped_val.loss.iloc[0]) / grouped_val.shape[0]"
   ]
  },
  {
   "cell_type": "code",
   "execution_count": null,
   "id": "ac29c1b0-eda2-491e-8d76-5d2b3a0c8039",
   "metadata": {},
   "outputs": [],
   "source": [
    "px.line(\n",
    "    grouped_val\n",
    ")"
   ]
  },
  {
   "cell_type": "code",
   "execution_count": null,
   "id": "4180575b-fad5-4b9d-9d4c-548953ff9f04",
   "metadata": {},
   "outputs": [],
   "source": [
    "get_figure(\n",
    "    data,\n",
    "    'loss',\n",
    "    'train'\n",
    ")"
   ]
  },
  {
   "cell_type": "code",
   "execution_count": null,
   "id": "f3174ca8-8e00-4718-af1e-9fd1b564a800",
   "metadata": {},
   "outputs": [],
   "source": [
    "get_figure(\n",
    "    data,\n",
    "    'loss',\n",
    "    'val'\n",
    ")"
   ]
  },
  {
   "cell_type": "code",
   "execution_count": null,
   "id": "71f262b3-304c-4811-956f-fdf6960a665c",
   "metadata": {},
   "outputs": [],
   "source": [
    "get_figure(\n",
    "    data,\n",
    "    'accuracy',\n",
    "    'val'\n",
    ")"
   ]
  },
  {
   "cell_type": "code",
   "execution_count": null,
   "id": "803362e1-2bce-418c-8d4d-a1de0d74b9f4",
   "metadata": {},
   "outputs": [],
   "source": [
    "get_figure(\n",
    "    data,\n",
    "    'recall',\n",
    "    'val'\n",
    ")"
   ]
  },
  {
   "cell_type": "code",
   "execution_count": null,
   "id": "dfc3e751-738d-4b78-96fe-02a8fe047835",
   "metadata": {},
   "outputs": [],
   "source": [
    "get_figure(\n",
    "    data,\n",
    "    'precision',\n",
    "    'val'\n",
    ")"
   ]
  }
 ],
 "metadata": {
  "kernelspec": {
   "display_name": "Python 3 (ipykernel)",
   "language": "python",
   "name": "python3"
  },
  "language_info": {
   "codemirror_mode": {
    "name": "ipython",
    "version": 3
   },
   "file_extension": ".py",
   "mimetype": "text/x-python",
   "name": "python",
   "nbconvert_exporter": "python",
   "pygments_lexer": "ipython3",
   "version": "3.10.11"
  }
 },
 "nbformat": 4,
 "nbformat_minor": 5
}
