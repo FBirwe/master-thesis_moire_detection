{
 "cells": [
  {
   "cell_type": "code",
   "execution_count": 2,
   "id": "6fb6cf6a-7c72-464f-88e7-5b7feb7df005",
   "metadata": {},
   "outputs": [],
   "source": [
    "import sys\n",
    "sys.path.append('../30_data_tools/')"
   ]
  },
  {
   "cell_type": "code",
   "execution_count": 1,
   "id": "fb5d2960-06d8-40ea-a3ea-c91905eb63af",
   "metadata": {},
   "outputs": [],
   "source": [
    "import plotly.express as px\n",
    "import json\n",
    "from datetime import datetime\n",
    "import pandas as pd"
   ]
  },
  {
   "cell_type": "code",
   "execution_count": 3,
   "id": "8ef31940-5c6d-4fb8-9c6e-b3f636178f97",
   "metadata": {},
   "outputs": [],
   "source": [
    "from file_interaction import download_blob, get_blobs\n",
    "import plotly.graph_objects as go"
   ]
  },
  {
   "cell_type": "code",
   "execution_count": 4,
   "id": "8689f847-cb99-4113-a579-9d309154108c",
   "metadata": {},
   "outputs": [
    {
     "data": {
      "text/plain": [
       "['train_logs/2024-04-13_MobileNetV3_003.json',\n",
       " 'train_logs/2024-04-25_Resnet50_001.json',\n",
       " 'train_logs/2024-05-01_Resnet50_001.json',\n",
       " 'train_logs/2024-05-01_Resnet50_002.json',\n",
       " 'train_logs/2024-05-01_Resnet50_003.json',\n",
       " 'train_logs/2024-05-01_Resnet50_004.json',\n",
       " 'train_logs/2024-05-02_Resnet50_001.json',\n",
       " 'train_logs/2024-05-02_Resnet50_002.json',\n",
       " 'train_logs/2024-05-04_MobileNetV3_001.json',\n",
       " 'train_logs/2024-05-04_Resnet50_001.json']"
      ]
     },
     "execution_count": 4,
     "metadata": {},
     "output_type": "execute_result"
    }
   ],
   "source": [
    "available_experiments = get_blobs(filter='train_logs/')\n",
    "available_experiments[-10:]"
   ]
  },
  {
   "cell_type": "code",
   "execution_count": 5,
   "id": "d6372375-5e56-4afb-9bf5-6f50969ef2d2",
   "metadata": {},
   "outputs": [],
   "source": [
    "def load_experiment( experiment_name ):\n",
    "    json_buffer = download_blob( f'train_logs/{ experiment_name }.json' )\n",
    "    data = json.loads( json_buffer.getvalue() )\n",
    "    data['start_timestamp'] = datetime.fromisoformat(data['start_timestamp'])\n",
    "\n",
    "    if 'end_timestamp' in data:\n",
    "        data['end_timestamp'] = datetime.fromisoformat(data['end_timestamp'])\n",
    "\n",
    "    for t in data['tracked_metrics']:\n",
    "        t['timestamp'] = datetime.fromisoformat(t['timestamp'])\n",
    "        t['value'] = float(t['value'])\n",
    "    \n",
    "    return data"
   ]
  },
  {
   "cell_type": "code",
   "execution_count": 6,
   "id": "3eaa8289-3bb4-4e1b-85e7-07fd7f0d0163",
   "metadata": {},
   "outputs": [],
   "source": [
    "def get_figure( data, metric_name, mode ):\n",
    "    fig = px.line(\n",
    "        x=data.loc[(data.metric_name == metric_name) &  (data['mode'] == mode)].step,\n",
    "        y=data.loc[(data.metric_name == metric_name) &  (data['mode'] == mode)].value,\n",
    "        color=data.loc[(data.metric_name == metric_name) &  (data['mode'] == mode)].epoch\n",
    "    )\n",
    "    #fig.update_layout(yaxis_range=[0,1])\n",
    "    \n",
    "    return fig"
   ]
  },
  {
   "cell_type": "code",
   "execution_count": 7,
   "id": "012f67fc-33bb-40d3-ac09-2664ce292540",
   "metadata": {},
   "outputs": [],
   "source": [
    "experiment_name = '2024-05-04_Resnet50_001'\n",
    "experiment_data = load_experiment( experiment_name )\n",
    "data = pd.DataFrame.from_dict(experiment_data['tracked_metrics'])"
   ]
  },
  {
   "cell_type": "code",
   "execution_count": 8,
   "id": "2eaf9a8c-1358-434a-834a-98b4a6eaf9de",
   "metadata": {},
   "outputs": [
    {
     "data": {
      "text/plain": [
       "{'dataset_name': '24-05-02_001_tile_dataset',\n",
       " 'data_type': 'spatial',\n",
       " 'epochs': 25,\n",
       " 'learning_rate': 0.005,\n",
       " 'batch_size': 64,\n",
       " 'loss_function': 'CrossEntropyLoss',\n",
       " 'metric_functions': ['MulticlassAccuracy',\n",
       "  'MulticlassRecall',\n",
       "  'MulticlassPrecision'],\n",
       " 'optimizer': 'SGD',\n",
       " 'device': 'cpu'}"
      ]
     },
     "execution_count": 8,
     "metadata": {},
     "output_type": "execute_result"
    }
   ],
   "source": [
    "experiment_data['hyper_parameters']"
   ]
  },
  {
   "cell_type": "code",
   "execution_count": 9,
   "id": "7dd5c92d-e370-41b4-8fa2-d8a65522b5a8",
   "metadata": {},
   "outputs": [
    {
     "data": {
      "text/html": [
       "<div>\n",
       "<style scoped>\n",
       "    .dataframe tbody tr th:only-of-type {\n",
       "        vertical-align: middle;\n",
       "    }\n",
       "\n",
       "    .dataframe tbody tr th {\n",
       "        vertical-align: top;\n",
       "    }\n",
       "\n",
       "    .dataframe thead th {\n",
       "        text-align: right;\n",
       "    }\n",
       "</style>\n",
       "<table border=\"1\" class=\"dataframe\">\n",
       "  <thead>\n",
       "    <tr style=\"text-align: right;\">\n",
       "      <th></th>\n",
       "      <th>metric_name</th>\n",
       "      <th>value</th>\n",
       "      <th>timestamp</th>\n",
       "      <th>mode</th>\n",
       "      <th>dataset</th>\n",
       "      <th>epoch</th>\n",
       "      <th>step</th>\n",
       "    </tr>\n",
       "  </thead>\n",
       "  <tbody>\n",
       "    <tr>\n",
       "      <th>0</th>\n",
       "      <td>loss</td>\n",
       "      <td>0.686538</td>\n",
       "      <td>2024-05-04 15:14:16.667867</td>\n",
       "      <td>train</td>\n",
       "      <td>train</td>\n",
       "      <td>1</td>\n",
       "      <td>0</td>\n",
       "    </tr>\n",
       "    <tr>\n",
       "      <th>1</th>\n",
       "      <td>accuracy</td>\n",
       "      <td>0.546875</td>\n",
       "      <td>2024-05-04 15:14:16.784539</td>\n",
       "      <td>train</td>\n",
       "      <td>train</td>\n",
       "      <td>1</td>\n",
       "      <td>0</td>\n",
       "    </tr>\n",
       "    <tr>\n",
       "      <th>2</th>\n",
       "      <td>recall</td>\n",
       "      <td>0.520513</td>\n",
       "      <td>2024-05-04 15:14:16.929529</td>\n",
       "      <td>train</td>\n",
       "      <td>train</td>\n",
       "      <td>1</td>\n",
       "      <td>0</td>\n",
       "    </tr>\n",
       "    <tr>\n",
       "      <th>3</th>\n",
       "      <td>precision</td>\n",
       "      <td>0.520833</td>\n",
       "      <td>2024-05-04 15:14:17.059920</td>\n",
       "      <td>train</td>\n",
       "      <td>train</td>\n",
       "      <td>1</td>\n",
       "      <td>0</td>\n",
       "    </tr>\n",
       "    <tr>\n",
       "      <th>4</th>\n",
       "      <td>loss</td>\n",
       "      <td>0.684053</td>\n",
       "      <td>2024-05-04 15:16:29.298448</td>\n",
       "      <td>train</td>\n",
       "      <td>train</td>\n",
       "      <td>1</td>\n",
       "      <td>1</td>\n",
       "    </tr>\n",
       "    <tr>\n",
       "      <th>5</th>\n",
       "      <td>accuracy</td>\n",
       "      <td>0.562500</td>\n",
       "      <td>2024-05-04 15:16:29.522363</td>\n",
       "      <td>train</td>\n",
       "      <td>train</td>\n",
       "      <td>1</td>\n",
       "      <td>1</td>\n",
       "    </tr>\n",
       "    <tr>\n",
       "      <th>6</th>\n",
       "      <td>recall</td>\n",
       "      <td>0.514844</td>\n",
       "      <td>2024-05-04 15:16:29.688344</td>\n",
       "      <td>train</td>\n",
       "      <td>train</td>\n",
       "      <td>1</td>\n",
       "      <td>1</td>\n",
       "    </tr>\n",
       "    <tr>\n",
       "      <th>7</th>\n",
       "      <td>precision</td>\n",
       "      <td>0.543972</td>\n",
       "      <td>2024-05-04 15:16:29.851751</td>\n",
       "      <td>train</td>\n",
       "      <td>train</td>\n",
       "      <td>1</td>\n",
       "      <td>1</td>\n",
       "    </tr>\n",
       "  </tbody>\n",
       "</table>\n",
       "</div>"
      ],
      "text/plain": [
       "  metric_name     value                  timestamp   mode dataset  epoch  step\n",
       "0        loss  0.686538 2024-05-04 15:14:16.667867  train   train      1     0\n",
       "1    accuracy  0.546875 2024-05-04 15:14:16.784539  train   train      1     0\n",
       "2      recall  0.520513 2024-05-04 15:14:16.929529  train   train      1     0\n",
       "3   precision  0.520833 2024-05-04 15:14:17.059920  train   train      1     0\n",
       "4        loss  0.684053 2024-05-04 15:16:29.298448  train   train      1     1\n",
       "5    accuracy  0.562500 2024-05-04 15:16:29.522363  train   train      1     1\n",
       "6      recall  0.514844 2024-05-04 15:16:29.688344  train   train      1     1\n",
       "7   precision  0.543972 2024-05-04 15:16:29.851751  train   train      1     1"
      ]
     },
     "execution_count": 9,
     "metadata": {},
     "output_type": "execute_result"
    }
   ],
   "source": [
    "data"
   ]
  },
  {
   "cell_type": "code",
   "execution_count": null,
   "id": "9e471a92-c637-4219-8d35-fd713e616ed0",
   "metadata": {},
   "outputs": [],
   "source": [
    "rel_data_train = data.loc[data['mode'] == 'train'].copy()\n",
    "rel_data_train.loc[:,'step_total'] = (rel_data_train.epoch - 1) * rel_data_train.step.max() + rel_data_train.step\n",
    "\n",
    "grouped_train = rel_data_train.loc[\n",
    "    :,\n",
    "    ['metric_name','step_total','value']\n",
    "].groupby(['metric_name','step_total']).first().unstack('metric_name')\n",
    "\n",
    "grouped_train.columns = [c[1] for c in grouped_train.columns]"
   ]
  },
  {
   "cell_type": "code",
   "execution_count": null,
   "id": "544038b3-10af-49df-93d9-05fb67a8545b",
   "metadata": {},
   "outputs": [],
   "source": [
    "px.line(\n",
    "    grouped_train\n",
    ")"
   ]
  },
  {
   "cell_type": "code",
   "execution_count": null,
   "id": "7b10165e-aef7-4ccd-bf40-0f0e83017000",
   "metadata": {},
   "outputs": [],
   "source": [
    "rel_data_val = data.loc[data['mode'] == 'val'].copy()\n",
    "rel_data_val.loc[:,'step_total'] = (rel_data_val.epoch - 1) * rel_data_val.step.max() + rel_data_val.step\n",
    "\n",
    "grouped_val = rel_data_val.loc[\n",
    "    :,\n",
    "    ['metric_name','step_total','value']\n",
    "].groupby(['metric_name','step_total']).first().unstack('metric_name')\n",
    "\n",
    "grouped_val.columns = [c[1] for c in grouped_val.columns]"
   ]
  },
  {
   "cell_type": "code",
   "execution_count": null,
   "id": "84227919-fec3-4342-9a05-98d25be29baf",
   "metadata": {},
   "outputs": [],
   "source": [
    "(grouped_val.loss.iloc[-1] - grouped_val.loss.iloc[0]) / grouped_val.shape[0]"
   ]
  },
  {
   "cell_type": "code",
   "execution_count": null,
   "id": "ac29c1b0-eda2-491e-8d76-5d2b3a0c8039",
   "metadata": {},
   "outputs": [],
   "source": [
    "px.line(\n",
    "    grouped_val\n",
    ")"
   ]
  },
  {
   "cell_type": "code",
   "execution_count": null,
   "id": "4180575b-fad5-4b9d-9d4c-548953ff9f04",
   "metadata": {},
   "outputs": [],
   "source": [
    "get_figure(\n",
    "    data,\n",
    "    'loss',\n",
    "    'train'\n",
    ")"
   ]
  },
  {
   "cell_type": "code",
   "execution_count": null,
   "id": "f3174ca8-8e00-4718-af1e-9fd1b564a800",
   "metadata": {},
   "outputs": [],
   "source": [
    "get_figure(\n",
    "    data,\n",
    "    'loss',\n",
    "    'val'\n",
    ")"
   ]
  },
  {
   "cell_type": "code",
   "execution_count": null,
   "id": "71f262b3-304c-4811-956f-fdf6960a665c",
   "metadata": {},
   "outputs": [],
   "source": [
    "get_figure(\n",
    "    data,\n",
    "    'accuracy',\n",
    "    'val'\n",
    ")"
   ]
  },
  {
   "cell_type": "code",
   "execution_count": null,
   "id": "803362e1-2bce-418c-8d4d-a1de0d74b9f4",
   "metadata": {},
   "outputs": [],
   "source": [
    "get_figure(\n",
    "    data,\n",
    "    'recall',\n",
    "    'val'\n",
    ")"
   ]
  },
  {
   "cell_type": "code",
   "execution_count": null,
   "id": "dfc3e751-738d-4b78-96fe-02a8fe047835",
   "metadata": {},
   "outputs": [],
   "source": [
    "get_figure(\n",
    "    data,\n",
    "    'precision',\n",
    "    'val'\n",
    ")"
   ]
  }
 ],
 "metadata": {
  "kernelspec": {
   "display_name": "Python 3 (ipykernel)",
   "language": "python",
   "name": "python3"
  },
  "language_info": {
   "codemirror_mode": {
    "name": "ipython",
    "version": 3
   },
   "file_extension": ".py",
   "mimetype": "text/x-python",
   "name": "python",
   "nbconvert_exporter": "python",
   "pygments_lexer": "ipython3",
   "version": "3.10.11"
  }
 },
 "nbformat": 4,
 "nbformat_minor": 5
}
