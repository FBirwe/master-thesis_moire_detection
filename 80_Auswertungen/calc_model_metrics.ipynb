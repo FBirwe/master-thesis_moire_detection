{
 "cells": [
  {
   "cell_type": "code",
   "execution_count": null,
   "id": "9acb76c4-b0b3-48d3-ba9a-791b964672c0",
   "metadata": {},
   "outputs": [],
   "source": [
    "import sys\n",
    "sys.path.append('../60_Code/Model/')\n",
    "sys.path.append('../30_data_tools/')"
   ]
  },
  {
   "cell_type": "code",
   "execution_count": null,
   "id": "ec022801-a6a2-4699-957d-3226f88cbfa9",
   "metadata": {},
   "outputs": [],
   "source": [
    "from io import BytesIO\n",
    "from pytorch_model_tools import get_datasets\n",
    "from file_interaction import download_blob\n",
    "from tqdm.auto import tqdm\n",
    "import plotly.express as px\n",
    "import plotly.graph_objects as go\n",
    "import numpy as np\n",
    "import pickle\n",
    "import math\n",
    "import pandas as pd\n",
    "import re\n",
    "from helper import load_dotenv\n",
    "import sqlite3\n",
    "from get_labelstudio_data import get_results_of_project\n",
    "from load_constants import load_colors\n",
    "\n",
    "from PIL import Image\n",
    "from PIL import ImageFont, ImageDraw  \n",
    "from pathlib import Path"
   ]
  },
  {
   "cell_type": "code",
   "execution_count": null,
   "id": "dd80ee1f-ae99-4c82-80b8-c932e2cd85b9",
   "metadata": {},
   "outputs": [],
   "source": [
    "dotenv = load_dotenv()\n",
    "con = sqlite3.connect( dotenv['DB_PATH'] )"
   ]
  },
  {
   "cell_type": "code",
   "execution_count": null,
   "id": "66bc0dee-0c66-4634-a92f-5839a0586abe",
   "metadata": {},
   "outputs": [],
   "source": [
    "colors = load_colors()"
   ]
  },
  {
   "cell_type": "code",
   "execution_count": null,
   "id": "ff23e54a-4f5c-449c-8196-39b54ec188c9",
   "metadata": {},
   "outputs": [],
   "source": [
    "real_val_tiles = [tile_path.name for tile_path in (dotenv['TILE_DATASET_DIR'] / 'real_val').glob('./**/*.jpg')]"
   ]
  },
  {
   "cell_type": "code",
   "execution_count": null,
   "id": "c1a39b54-6178-4384-a9da-34579491df43",
   "metadata": {},
   "outputs": [],
   "source": [
    "len(real_val_tiles)"
   ]
  },
  {
   "cell_type": "markdown",
   "id": "e24b24c6-8bd2-4336-899f-99878cd0bd78",
   "metadata": {},
   "source": [
    "## noch offen\n",
    "\n",
    "- ROC-Kurve/Area under Curve"
   ]
  },
  {
   "cell_type": "markdown",
   "id": "c2eefd73-cf2e-46e1-a194-c25397465687",
   "metadata": {},
   "source": [
    "0 = moire, 1 = no moire"
   ]
  },
  {
   "cell_type": "markdown",
   "id": "012e0169-5267-4c12-8207-8023db453e45",
   "metadata": {},
   "source": [
    "# Funktionen"
   ]
  },
  {
   "cell_type": "code",
   "execution_count": null,
   "id": "0dd38123-6209-48be-9d8b-72d33acf5719",
   "metadata": {},
   "outputs": [],
   "source": [
    "def load_data( model_results_name ):\n",
    "    data = pickle.loads( download_blob(f'model_results/{ model_results_name }.pkl').getbuffer() )\n",
    "    data.rename(columns={'category':'label'}, inplace=True)\n",
    "    \n",
    "    data.loc[:,'predicted_label'] = (data.result_moire < data.result_no_moire).astype('int').apply(lambda val: ['moire','no_moire'][val])\n",
    "    data.loc[:,'classification_correct'] = data.predicted_label == data.label\n",
    "\n",
    "    data = pd.merge(\n",
    "        data,\n",
    "        data.tile_name.str.extract('(.+)_(\\d+)\\.\\d+\\.jpg').rename(columns={0:'mask_id',1:'dpi'}),\n",
    "        left_index=True,\n",
    "        right_index=True\n",
    "    )\n",
    "    data.loc[\n",
    "    pd.isna(data.dpi),\n",
    "        'dpi'\n",
    "    ] = data.loc[\n",
    "        pd.isna(data.dpi)\n",
    "    ].tile_name.str.extract(\n",
    "        r'ok_sample_.+_(\\d+)_\\.\\d+\\.jpg'\n",
    "    ).rename(columns={0:'dpi'}).dpi\n",
    "\n",
    "    # real val tiles filterung\n",
    "    data = data.loc[\n",
    "        data.index.isin(\n",
    "            data.loc[\n",
    "                (data.tile_name.isin(real_val_tiles) == False) &\n",
    "                (data.dataset == 'real_val')\n",
    "            ].index        \n",
    "        ) == False\n",
    "    ]\n",
    "    \n",
    "    return data"
   ]
  },
  {
   "cell_type": "code",
   "execution_count": null,
   "id": "6072993f-bcc7-4546-819d-c6040eee5388",
   "metadata": {},
   "outputs": [],
   "source": [
    "def calc_metrics( data ):\n",
    "    TP = data.loc[(data.label == 'moire') & (data.predicted_label == 'moire')].shape[0]\n",
    "    TN = data.loc[(data.label == 'no_moire') & (data.predicted_label == 'no_moire')].shape[0]\n",
    "    FP = data.loc[(data.label == 'no_moire') & (data.predicted_label == 'moire')].shape[0]\n",
    "    FN = data.loc[(data.label == 'moire') & (data.predicted_label == 'no_moire')].shape[0]\n",
    "\n",
    "    out = {\n",
    "        \"count_data\" : data.shape[0],\n",
    "        \"TP\" : TP,\n",
    "        \"TN\" : TN,\n",
    "        \"FP\" : FP,\n",
    "        \"FN\" : FN,\n",
    "        \"TN-Rate\" : 0,\n",
    "        \"TP-Rate\" : 0,\n",
    "        \"accuracy\" : 0,\n",
    "        \"precision\" : 0,\n",
    "        \"recall\" : 0\n",
    "    }\n",
    "    \n",
    "    if (FP + TN) > 0:\n",
    "        out[\"TN-Rate\"] = TN / (FP + TN)\n",
    "\n",
    "    if (FN + TP) > 0:\n",
    "        out[\"TP-Rate\"] = TP / (FN + TP)\n",
    "\n",
    "    if out['count_data'] > 0:\n",
    "        out[\"accuracy\"] = (TP + TN) / out['count_data']\n",
    "\n",
    "    if (TP + FP) > 0:\n",
    "        out[\"precision\"] = TP / (TP + FP)\n",
    "\n",
    "    if (TP + FN) > 0:\n",
    "        out[\"recall\"] = TP / (TP + FN)\n",
    "    \n",
    "\n",
    "    return out"
   ]
  },
  {
   "cell_type": "code",
   "execution_count": null,
   "id": "afaa82fd-85e8-4545-a251-96507303f596",
   "metadata": {},
   "outputs": [],
   "source": [
    "def get_confusion_matrix( metrics, relative=False ):\n",
    "    values = np.array([\n",
    "        [metrics['TP'],metrics['FN']],\n",
    "        [metrics['FP'],metrics['TN']]\n",
    "    ])\n",
    "\n",
    "    if relative:\n",
    "        values = values / metrics['count_data']\n",
    "    \n",
    "    return px.imshow(\n",
    "        values,\n",
    "        x=['moire','no_moire'],\n",
    "        y=['moire','no_moire'],\n",
    "        labels={\n",
    "            'y' : 'label',\n",
    "            'x' : 'prediction'\n",
    "        },\n",
    "        text_auto=True\n",
    "    )"
   ]
  },
  {
   "cell_type": "code",
   "execution_count": null,
   "id": "c4b626a5-5d86-4cd2-95c1-7af500c87dcc",
   "metadata": {},
   "outputs": [],
   "source": [
    "def get_roc( data, threshold ):\n",
    "    selection_moire = data.loc[data.result_moire > threshold]\n",
    "    selection_no_moire = data.loc[data.result_moire <= threshold]\n",
    "    TP = selection_moire.loc[selection_moire.label == 'moire'].shape[0]\n",
    "    FP = selection_moire.loc[selection_moire.label == 'no_moire'].shape[0]\n",
    "    TN = selection_no_moire.loc[selection_no_moire.label == 'no_moire'].shape[0]\n",
    "    FN = selection_no_moire.loc[selection_no_moire.label == 'moire'].shape[0]\n",
    "\n",
    "    TP_rate = TP / (TP + FN)\n",
    "    FP_rate = FP / (FP + TN)\n",
    "\n",
    "    return TP_rate, FP_rate\n",
    "\n",
    "\n",
    "def get_roc_by_tile( data, threshold, aggregation='max' ):\n",
    "    all_tiles = data.loc[:,['mask_id','dataset','model_type','label']].drop_duplicates().copy()\n",
    "\n",
    "    if aggregation == 'mode':\n",
    "        data = data.copy()\n",
    "        data.loc[data.result_moire > threshold,'predicted_label'] = 'moire'\n",
    "        data.loc[data.result_moire <= threshold,'predicted_label'] = 'no_moire'\n",
    "        grouped_data = data.loc[\n",
    "            :,\n",
    "            ['mask_id','dataset','model_type','label','predicted_label']\n",
    "        ].groupby(['mask_id','dataset','model_type','label']).agg(pd.Series.mode).reset_index()\n",
    "        \n",
    "        grouped_data.loc[\n",
    "            grouped_data.predicted_label.apply( lambda val: type(val) != str ),\n",
    "            'predicted_label'\n",
    "        ] = 'moire'\n",
    "\n",
    "        selection_moire = grouped_data.loc[grouped_data.predicted_label == 'moire']\n",
    "        selection_no_moire = grouped_data.loc[grouped_data.predicted_label == 'no_moire']\n",
    "    else:\n",
    "        selection_moire = data.loc[data.result_moire > threshold,['mask_id','dataset','model_type','label']].drop_duplicates().copy()\n",
    "        \n",
    "        if selection_moire.shape[0] != 0:\n",
    "            selection_moire.loc[:,'is_selected'] = True\n",
    "            selection_no_moire = pd.merge(\n",
    "                all_tiles,\n",
    "                selection_moire,\n",
    "                how=\"left\",\n",
    "                on=['mask_id','dataset','model_type','label']\n",
    "            )\n",
    "            selection_no_moire = selection_no_moire.loc[pd.isna(selection_no_moire.is_selected)]\n",
    "        else:\n",
    "            selection_no_moire = all_tiles\n",
    "    \n",
    "    TP = selection_moire.loc[selection_moire.label == 'moire'].shape[0]\n",
    "    FP = selection_moire.loc[selection_moire.label == 'no_moire'].shape[0]\n",
    "    TN = selection_no_moire.loc[selection_no_moire.label == 'no_moire'].shape[0]\n",
    "    FN = selection_no_moire.loc[selection_no_moire.label == 'moire'].shape[0]\n",
    "\n",
    "    TP_rate = TP / (TP + FN)\n",
    "    FP_rate = FP / (FP + TN)\n",
    "\n",
    "    return TP_rate, FP_rate"
   ]
  },
  {
   "cell_type": "code",
   "execution_count": null,
   "id": "95bfa194-4bec-462a-aa6b-c00f0d2d2001",
   "metadata": {},
   "outputs": [],
   "source": [
    "def get_tile_result_grid( data, img_size=224, col_count=5, label_type='both' ):\n",
    "    label_names = ['moire','no_moire']\n",
    "    row_count = math.ceil(data.shape[0] / col_count)\n",
    "\n",
    "    out_img = Image.new(\n",
    "        'RGB',\n",
    "        (img_size * col_count, img_size * row_count),\n",
    "        color=\"white\"\n",
    "    )\n",
    "    draw = ImageDraw.Draw(out_img)  \n",
    "    label_color=[\n",
    "        (0,200,0),\n",
    "        (200,0,50)\n",
    "    ]\n",
    "\n",
    "    for i in range(data.shape[0]):\n",
    "        row = i // col_count\n",
    "        col = i % col_count\n",
    "\n",
    "        result = data.iloc[i]\n",
    "        tile_path = dotenv['TILE_DATASET_DIR'] / dataset_name / result.dataset / result.label / result.tile_name\n",
    "        tile_img = Image.open( tile_path )\n",
    "        out_img.paste(\n",
    "            tile_img,\n",
    "            ( col * tile_img.size[0], row * tile_img.size[1] )\n",
    "        )\n",
    "        draw.rectangle(\n",
    "            (\n",
    "                ( col * tile_img.size[0], row * tile_img.size[1] + round(img_size * 0.9) ),\n",
    "                ( col * tile_img.size[0] + img_size, row * tile_img.size[1] + img_size )\n",
    "            ),\n",
    "            outline=None,\n",
    "            fill=label_color[0] if result.classification_correct else label_color[1]\n",
    "        )\n",
    "\n",
    "        if label_type == 'label_name':\n",
    "            label_text = f'{ result.predicted_label }/{ result.label }'\n",
    "        elif label_type == 'moire_value':\n",
    "            label_text = str( round(result.result_moire, 5) )\n",
    "        elif label_type == 'description_values':\n",
    "            label_text = f'{ round(result.frequency_gain, 5) }/{ round(result.ssim_value, 5) }'\n",
    "        else:\n",
    "            label_text = f'{ result.predicted_label }/{ result.label } - {round(result.result_moire, 5)}'\n",
    "        \n",
    "        draw.text(\n",
    "            ( col * tile_img.size[0] + round(img_size * 0.5), row * tile_img.size[1] + round(img_size * 0.97) ),\n",
    "            label_text,\n",
    "            anchor='ms',\n",
    "            font_size=15\n",
    "        )\n",
    "    \n",
    "    return out_img"
   ]
  },
  {
   "cell_type": "code",
   "execution_count": null,
   "id": "47cada86-cdbd-4e64-8fa2-76f5afcfa5a8",
   "metadata": {},
   "outputs": [],
   "source": [
    "def get_roc_figure( data, get_tile_results=False, aggregation='max' ):\n",
    "    fig = go.Figure()\n",
    "    model_types = sorted(data.model_type.unique(), reverse=True)\n",
    "\n",
    "    for j in tqdm(range(len(model_types))):\n",
    "        model_type = model_types[j]\n",
    "\n",
    "        if get_tile_results:\n",
    "            roc = [get_roc_by_tile(data.loc[data.model_type == model_type], i / 100, aggregation=aggregation) for i in range(101)]\n",
    "        else:\n",
    "            roc = [get_roc(data.loc[data.model_type == model_type], i / 100) for i in range(101)]\n",
    "    \n",
    "        fig.add_trace(go.Scatter(\n",
    "            x=[r[1] for r in roc],\n",
    "            y=[r[0] for r in roc],\n",
    "            mode=\"lines\",\n",
    "            name=model_type,\n",
    "            marker={\n",
    "                'color' : colors['COLOR_SEQUENCE'][j],\n",
    "            }\n",
    "        ))\n",
    "    \n",
    "    fig.update_layout(legend={'orientation':'h'})\n",
    "    fig.update_layout(\n",
    "        autosize=False,\n",
    "        width=400,\n",
    "        height=400,\n",
    "    )\n",
    "\n",
    "    return fig"
   ]
  },
  {
   "cell_type": "markdown",
   "id": "2d216c14-e635-46a0-b956-8ba41571d5b8",
   "metadata": {},
   "source": [
    "# Auswertung"
   ]
  },
  {
   "cell_type": "code",
   "execution_count": null,
   "id": "4722321d-cec4-4a08-b59f-f95289be97ff",
   "metadata": {},
   "outputs": [],
   "source": [
    "0 / 0"
   ]
  },
  {
   "cell_type": "code",
   "execution_count": null,
   "id": "67a29a23-d026-4272-be11-df3af66b8b29",
   "metadata": {},
   "outputs": [],
   "source": [
    "attachment_dir = dotenv['ATTACHMENT_DIR'] / 'model_auswertung'"
   ]
  },
  {
   "cell_type": "code",
   "execution_count": null,
   "id": "e0715d76-e6fd-4b16-aa8e-da0c7d736e14",
   "metadata": {},
   "outputs": [],
   "source": [
    "model_names = [\n",
    "    '2024-05-10_Resnet50_004',\n",
    "    '2024-05-12_MobileNetV3_003',\n",
    "    '2024-05-13_Resnet50_004',\n",
    "    '2024-05-14_MobileNetV3_002'\n",
    "]\n",
    "\n",
    "model_types = {\n",
    "    '2024-05-10_Resnet50_004' : 'Resnet50 - spatial',\n",
    "    '2024-05-12_MobileNetV3_003' : 'MobileNetV3 - spatial',\n",
    "    '2024-05-13_Resnet50_004' : 'Resnet50 - frequenz',\n",
    "    '2024-05-14_MobileNetV3_002' : 'MobileNetV3 - frequenz'\n",
    "}\n",
    "dataset_name = '24-05-09_001_tile_dataset'"
   ]
  },
  {
   "cell_type": "code",
   "execution_count": null,
   "id": "3a3e3a96-b8e7-4d42-b598-697140508f10",
   "metadata": {},
   "outputs": [],
   "source": [
    "dfs = []\n",
    "\n",
    "\n",
    "for model_name in model_names:\n",
    "    df = load_data(f\"{ model_name }_{ dataset_name }\")\n",
    "    df.loc[:,'model_name'] = model_name\n",
    "    df.loc[:,'model_type'] = model_types[model_name]\n",
    "    dfs.append(df)\n",
    "\n",
    "data = pd.concat(dfs, ignore_index=True)"
   ]
  },
  {
   "cell_type": "code",
   "execution_count": null,
   "id": "ce36d51b-d767-4026-9bb5-a6c51980a87b",
   "metadata": {},
   "outputs": [],
   "source": [
    "data.dataset.value_counts()"
   ]
  },
  {
   "cell_type": "code",
   "execution_count": null,
   "id": "8fad9af1-aee7-4923-8e9c-41666137d0b5",
   "metadata": {},
   "outputs": [],
   "source": [
    "metrics = []\n",
    "\n",
    "for dataset in data.dataset.unique():\n",
    "    for model_name in data.model_name.unique():\n",
    "        metric_dict = calc_metrics(\n",
    "            data.loc[\n",
    "                (data.dataset == dataset) &\n",
    "                (data.model_name == model_name)\n",
    "            ]\n",
    "        )\n",
    "        metric_dict['dataset'] = dataset\n",
    "        metric_dict['model_type'] = model_types[model_name]\n",
    "        metrics.append( metric_dict )\n",
    "\n",
    "metrics_df = pd.DataFrame.from_dict(metrics).set_index(['dataset','model_type'])"
   ]
  },
  {
   "cell_type": "code",
   "execution_count": null,
   "id": "8959f970-0bc9-49c0-955b-e95294fcb2d1",
   "metadata": {},
   "outputs": [],
   "source": [
    "metrics_df.loc[\n",
    "    metrics_df.index.get_level_values('dataset').isin(['test','real_val'])\n",
    "]"
   ]
  },
  {
   "cell_type": "code",
   "execution_count": null,
   "id": "c63c5f6f-ea2a-4027-912d-4e20723b0e41",
   "metadata": {},
   "outputs": [],
   "source": [
    "metrics_df.loc[\n",
    "    metrics_df.index.get_level_values('dataset') == 'real_val'\n",
    "].sort_values('recall', ascending=False)"
   ]
  },
  {
   "cell_type": "code",
   "execution_count": null,
   "id": "e4165ff1-137f-41d6-b258-f4fd629dd5fb",
   "metadata": {},
   "outputs": [],
   "source": [
    "metrics_df.loc[\n",
    "    metrics_df.index.get_level_values('dataset') == 'test'\n",
    "].sort_values('recall', ascending=False)"
   ]
  },
  {
   "cell_type": "code",
   "execution_count": null,
   "id": "fff0a803-7aad-443c-b5b8-b47d00901590",
   "metadata": {},
   "outputs": [],
   "source": [
    "fig = px.imshow(\n",
    "    metrics_df.loc[\n",
    "            metrics_df.index.get_level_values('dataset') == 'test',\n",
    "            ['TP','TN','FP','FN']\n",
    "    ].reset_index('dataset').loc[:,['TP','TN','FP','FN']],\n",
    "    text_auto=True,\n",
    "    width=800,\n",
    "    height=500,\n",
    "    color_continuous_scale=[colors['COLOR_SEQUENCE'][len(colors['COLOR_SEQUENCE']) - i - 1] for i in range(len(colors['COLOR_SEQUENCE']))]\n",
    ")\n",
    "fig.update_coloraxes(showscale=False)\n",
    "fig.write_image( attachment_dir / 'confusion_matrix_test.jpg')\n",
    "fig.write_image( attachment_dir / 'confusion_matrix_test.pdf')\n",
    "\n",
    "fig"
   ]
  },
  {
   "cell_type": "code",
   "execution_count": null,
   "id": "2ba57815-1a22-4b54-9aea-39cbd5c16b5c",
   "metadata": {},
   "outputs": [],
   "source": [
    "px.imshow(\n",
    "    metrics_df.loc[\n",
    "            metrics_df.index.get_level_values('dataset') == 'real_val',\n",
    "            ['TP','TN','FP','FN']\n",
    "    ].reset_index('dataset').loc[:,['TP','TN','FP','FN']],\n",
    "    text_auto=True,\n",
    "    width=800,\n",
    "    height=500,\n",
    "    color_continuous_scale=[colors['COLOR_SEQUENCE'][len(colors['COLOR_SEQUENCE']) - i - 1] for i in range(len(colors['COLOR_SEQUENCE']))]\n",
    ")\n",
    "fig.update_coloraxes(showscale=False)\n",
    "fig.write_image( attachment_dir / 'confusion_matrix_real_test.jpg')\n",
    "fig.write_image( attachment_dir / 'confusion_matrix_real_test.pdf')\n",
    "\n",
    "fig"
   ]
  },
  {
   "cell_type": "code",
   "execution_count": null,
   "id": "97470a62-0923-4167-bc6a-dd35027874e1",
   "metadata": {},
   "outputs": [],
   "source": [
    "fig = px.bar(\n",
    "    metrics_df.loc[\n",
    "        metrics_df.index.get_level_values('dataset') == 'test',\n",
    "        ['accuracy','precision','recall']\n",
    "    ].reset_index('dataset').loc[:,['accuracy','precision','recall']],\n",
    "    barmode='group',\n",
    "    text_auto=True,\n",
    "    color_discrete_sequence=colors['COLOR_SEQUENCE']\n",
    ")\n",
    "fig.write_image( attachment_dir / 'metrics_test.jpg')\n",
    "fig.write_image( attachment_dir / 'metrics_test.pdf')\n",
    "\n",
    "fig"
   ]
  },
  {
   "cell_type": "code",
   "execution_count": null,
   "id": "f81f6a41-bdf3-499c-a7dd-a4f420d78c01",
   "metadata": {},
   "outputs": [],
   "source": [
    "fig = px.bar(\n",
    "    metrics_df.loc[\n",
    "        metrics_df.index.get_level_values('dataset') == 'real_val',\n",
    "        ['accuracy','precision','recall']\n",
    "    ].reset_index('dataset').loc[:,['accuracy','precision','recall']],\n",
    "    barmode='group',\n",
    "    text_auto=True,\n",
    "    color_discrete_sequence=colors['COLOR_SEQUENCE']\n",
    ")\n",
    "fig.write_image( attachment_dir / 'metrics_real_val.jpg')\n",
    "fig.write_image( attachment_dir / 'metrics_real_val.pdf')\n",
    "\n",
    "fig"
   ]
  },
  {
   "cell_type": "code",
   "execution_count": null,
   "id": "2b6379f9-ec32-4bac-b0d0-5575add54e55",
   "metadata": {},
   "outputs": [],
   "source": [
    "fig = get_roc_figure( data.loc[data.dataset == 'test'] )\n",
    "fig.write_image( attachment_dir / 'roc_test_normal.jpg' )\n",
    "fig.write_image( attachment_dir / 'roc_test_normal.pdf' )\n",
    "\n",
    "fig"
   ]
  },
  {
   "cell_type": "code",
   "execution_count": null,
   "id": "8089ba26-78b3-47fc-8402-fb277effa4d4",
   "metadata": {},
   "outputs": [],
   "source": [
    "fig = get_roc_figure( data.loc[data.dataset == 'real_val'] )\n",
    "fig.write_image( attachment_dir / 'roc_real_test_normal.jpg' )\n",
    "fig.write_image( attachment_dir / 'roc_real_test_normal.pdf' )\n",
    "\n",
    "fig"
   ]
  },
  {
   "cell_type": "markdown",
   "id": "7f62e92f-76d2-4306-971c-c35d842fad0c",
   "metadata": {},
   "source": [
    "# Gruppiert nach DPI"
   ]
  },
  {
   "cell_type": "code",
   "execution_count": null,
   "id": "4d642584-b410-4174-964b-7cb06640f4c0",
   "metadata": {},
   "outputs": [],
   "source": [
    "grouped_by_dpi = data.loc[\n",
    "    (data.model_type == 'Resnet50 - spatial') & (data.dataset == 'test'),\n",
    "    ['dpi','label']\n",
    "].groupby('dpi').count().rename(columns={'label' : 'Testdatensatz'})\n",
    "\n",
    "grouped_by_dpi.loc[\n",
    "    :,\n",
    "    'realer Testdatensatz'\n",
    "] = data.loc[\n",
    "    (data.model_type == 'Resnet50 - spatial') & (data.dataset == 'real_val'),\n",
    "    ['dpi','label']\n",
    "].groupby('dpi').count().label"
   ]
  },
  {
   "cell_type": "code",
   "execution_count": null,
   "id": "9efa4c74-c85e-4d2e-88c9-d1f2aab5f8a4",
   "metadata": {},
   "outputs": [],
   "source": [
    "fig = px.bar(\n",
    "    grouped_by_dpi,\n",
    "    barmode=\"group\",\n",
    "    text_auto=\"auto\",\n",
    "    labels={\n",
    "        'dpi' : 'Auflösung (dpi)',\n",
    "        'value' : 'Anzahl Klassifizierungskacheln',\n",
    "        'variable' : 'Datensatz'\n",
    "    },\n",
    "    color_discrete_sequence=[colors['COLOR_SEQUENCE'][0],colors['COLOR_SEQUENCE'][2]],\n",
    "    width=600,\n",
    "    height=400\n",
    ")\n",
    "fig.update_layout(legend={'orientation':'h', 'y' : -0.2})\n",
    "fig.write_image( attachment_dir / 'dpi_share.jpg' )\n",
    "fig.write_image( attachment_dir / 'dpi_share.pdf' )\n",
    "\n",
    "fig"
   ]
  },
  {
   "cell_type": "code",
   "execution_count": null,
   "id": "5af38a9c-5bdb-4e3d-b7c3-e26f14d0fe4b",
   "metadata": {},
   "outputs": [],
   "source": [
    "dpi_metrics = []\n",
    "\n",
    "for dpi in data.dpi.unique():\n",
    "    for dataset in data.dataset.unique():\n",
    "        for model_name in data.model_name.unique():\n",
    "            metric = calc_metrics(\n",
    "                data.loc[\n",
    "                    (data.dpi == dpi) &\n",
    "                    (data.dataset == dataset) &\n",
    "                    (data.model_name == model_name)\n",
    "                ]\n",
    "            )\n",
    "            metric['dpi'] = dpi\n",
    "            metric['dataset'] = dataset\n",
    "            metric['model_type'] = model_types[model_name]\n",
    "            dpi_metrics.append(metric)\n",
    "\n",
    "dpi_metrics_df = pd.DataFrame.from_dict(dpi_metrics).set_index(['dataset','dpi','model_type'])"
   ]
  },
  {
   "cell_type": "code",
   "execution_count": null,
   "id": "5183f098-0494-437a-9485-19353f8718ba",
   "metadata": {},
   "outputs": [],
   "source": [
    "dpi_metrics_df.loc[\n",
    "    dpi_metrics_df.index.get_level_values('dataset').isin(['test','real_val'])\n",
    "].sort_index().round(3)"
   ]
  },
  {
   "cell_type": "code",
   "execution_count": null,
   "id": "e5b4fa94-026b-4cfe-ade2-f85bfde7ca51",
   "metadata": {},
   "outputs": [],
   "source": [
    "dpi_metrics_df.loc[\n",
    "    (dpi_metrics_df.index.get_level_values('dataset') == 'test')\n",
    "].sort_values('recall', ascending=False)"
   ]
  },
  {
   "cell_type": "code",
   "execution_count": null,
   "id": "2a87bb6a-fef6-419a-a33e-39d08cf1b6de",
   "metadata": {},
   "outputs": [],
   "source": [
    "dpi_metrics_df.loc[\n",
    "    (dpi_metrics_df.index.get_level_values('dataset') == 'real_val')\n",
    "].sort_values('recall', ascending=False)"
   ]
  },
  {
   "cell_type": "code",
   "execution_count": null,
   "id": "ce119f27-f807-4169-8201-faa5bb40cfbb",
   "metadata": {},
   "outputs": [],
   "source": [
    "fig = px.bar(\n",
    "    metrics_df.loc[\n",
    "        metrics_df.index.get_level_values('dataset') == 'real_val',\n",
    "        ['accuracy','precision','recall']\n",
    "    ].reset_index('dataset').loc[:,['accuracy','precision','recall']],\n",
    "    barmode='group',\n",
    "    text_auto=True,\n",
    "    color_discrete_sequence=colors['COLOR_SEQUENCE']\n",
    ")\n",
    "\n",
    "fig"
   ]
  },
  {
   "cell_type": "code",
   "execution_count": null,
   "id": "bf919026-5bf2-4ee8-b9b0-13a5055b5178",
   "metadata": {},
   "outputs": [],
   "source": [
    "fig = get_roc_figure( data.loc[(data.dataset == 'test') & (data.dpi == '300')] )\n",
    "fig.write_image( attachment_dir / 'roc_test_300.jpg' )\n",
    "fig.write_image( attachment_dir / 'roc_test_300.pdf' )\n",
    "\n",
    "fig = get_roc_figure( data.loc[(data.dataset == 'test') & (data.dpi == '200')] )\n",
    "fig.write_image( attachment_dir / 'roc_test_200.jpg' )\n",
    "fig.write_image( attachment_dir / 'roc_test_200.pdf' )\n",
    "\n",
    "fig = get_roc_figure( data.loc[(data.dataset == 'test') & (data.dpi == '150')] )\n",
    "fig.write_image( attachment_dir / 'roc_test_150.jpg' )\n",
    "fig.write_image( attachment_dir / 'roc_test_150.pdf' )\n",
    "\n",
    "fig"
   ]
  },
  {
   "cell_type": "code",
   "execution_count": null,
   "id": "3ccd4154-f3bd-4819-ae68-cf70c687dc20",
   "metadata": {},
   "outputs": [],
   "source": [
    "fig = get_roc_figure( data.loc[(data.dataset == 'real_val') & (data.dpi == '300')] )\n",
    "fig.write_image( attachment_dir / 'roc_real_test_300.jpg' )\n",
    "fig.write_image( attachment_dir / 'roc_real_test_300.pdf' )\n",
    "\n",
    "fig = get_roc_figure( data.loc[(data.dataset == 'real_val') & (data.dpi == '200')] )\n",
    "fig.write_image( attachment_dir / 'roc_real_test_200.jpg' )\n",
    "fig.write_image( attachment_dir / 'roc_real_test_200.pdf' )\n",
    "\n",
    "fig = get_roc_figure( data.loc[(data.dataset == 'real_val') & (data.dpi == '150')] )\n",
    "fig.write_image( attachment_dir / 'roc_real_test_150.jpg' )\n",
    "fig.write_image( attachment_dir / 'roc_real_test_150.pdf' )\n",
    "\n",
    "fig"
   ]
  },
  {
   "cell_type": "code",
   "execution_count": null,
   "id": "5fc2c989-267d-4890-bb8a-4138ab3e192c",
   "metadata": {},
   "outputs": [],
   "source": [
    "data_selection"
   ]
  },
  {
   "cell_type": "code",
   "execution_count": null,
   "id": "681b1411-45c5-4733-88dd-769e8ed8f184",
   "metadata": {},
   "outputs": [],
   "source": [
    "px.imshow(\n",
    "    dpi_metrics_df.reset_index().loc[\n",
    "        (dpi_metrics_df.index.get_level_values('dataset') == 'test'),\n",
    "        ['dpi','model_name','accuracy','precision','recall']\n",
    "    ].set_index(['model_name','dpi']).sort_index(),\n",
    "    text_auto='.3f',\n",
    "    color_continuous_scale=[colors['COLOR_SEQUENCE'][len(colors['COLOR_SEQUENCE']) - i - 1] for i in range(len(colors['COLOR_SEQUENCE']))]\n",
    ")"
   ]
  },
  {
   "cell_type": "code",
   "execution_count": null,
   "id": "f125747b-28d2-4e1f-b12f-41b7223de170",
   "metadata": {},
   "outputs": [],
   "source": [
    "px.imshow(\n",
    "    dpi_metrics_df.reset_index().loc[\n",
    "        (dpi_metrics_df.index.get_level_values('dataset') == 'real_val'),\n",
    "        ['dpi','model_name','accuracy','precision','recall']\n",
    "    ].set_index(['model_name','dpi']).sort_index(),\n",
    "    text_auto='.3f',\n",
    "    color_continuous_scale=[colors['COLOR_SEQUENCE'][len(colors['COLOR_SEQUENCE']) - i - 1] for i in range(len(colors['COLOR_SEQUENCE']))]\n",
    ")"
   ]
  },
  {
   "cell_type": "markdown",
   "id": "7eb21ea7-679b-4077-94a2-daa43e0f0dba",
   "metadata": {},
   "source": [
    "# Kacheldataset"
   ]
  },
  {
   "cell_type": "code",
   "execution_count": null,
   "id": "d7fe1e78-cc8c-43e2-ba83-7bae1d23aa8d",
   "metadata": {},
   "outputs": [],
   "source": [
    "def get_grouped_by_tile( data, separate_dpi=False, aggregation=\"max\" ):\n",
    "    column_selection_list = ['mask_id','dataset','model_type','label','predicted_label']\n",
    "    column_group_list = ['mask_id','dataset','model_type','label']\n",
    "\n",
    "    if separate_dpi:\n",
    "        column_selection_list.append('dpi')\n",
    "        column_group_list.append('dpi')\n",
    "        \n",
    "    if aggregation == 'mode':\n",
    "        grouped_data = data.loc[:,column_selection_list].groupby(column_group_list).agg(pd.Series.mode).reset_index()\n",
    "\n",
    "        grouped_data.loc[\n",
    "            grouped_data.predicted_label.apply( lambda val: type(val) != str ),\n",
    "            'predicted_label'\n",
    "        ] = 'moire'\n",
    "\n",
    "        return grouped_data\n",
    "    elif aggregation == 'mean':\n",
    "        column_selection_list.remove('predicted_label')\n",
    "        grouped_data = data.loc[:,column_selection_list + ['result_moire']].groupby(column_group_list).mean().reset_index()\n",
    "        grouped_data.loc[grouped_data.result_moire > 0.5,'predicted_label'] = 'moire'\n",
    "        grouped_data.loc[grouped_data.result_moire <= 0.5,'predicted_label'] = 'no_moire'\n",
    "\n",
    "        return grouped_data\n",
    "    else:\n",
    "        return data.loc[:,column_selection_list].groupby(column_group_list).min().reset_index()\n",
    "\n",
    "\n",
    "def get_tile_metrics_df( data, separate_dpi=False, aggregation=\"max\" ):\n",
    "    grouped_data = get_grouped_by_tile( data, separate_dpi=separate_dpi, aggregation=aggregation )\n",
    "    group_columns = ['dataset','model_type']\n",
    "    if separate_dpi:\n",
    "        group_columns.append('dpi')\n",
    "    \n",
    "    tile_metrics = []\n",
    "    tasks = []\n",
    "\n",
    "    for dataset in ['test','real_val']:\n",
    "        for model_type in grouped_data.model_type.unique():\n",
    "            if separate_dpi:\n",
    "                for dpi in grouped_data.dpi.unique():\n",
    "                    tasks.append({\n",
    "                        'dataset' : dataset,\n",
    "                        'model_type' : model_type,\n",
    "                        'dpi' : dpi\n",
    "                    })\n",
    "\n",
    "            else:\n",
    "                tasks.append({\n",
    "                    'dataset' : dataset,\n",
    "                    'model_type' : model_type,\n",
    "                })\n",
    "\n",
    "    \n",
    "    for task in tasks:\n",
    "        selection = grouped_data\n",
    "        \n",
    "        for key in task:\n",
    "            selection = selection.loc[\n",
    "                (selection[key] == task[key])\n",
    "            ]\n",
    "        \n",
    "        metric = calc_metrics(selection)\n",
    "\n",
    "        for key in task:\n",
    "            metric[key] = task[key]\n",
    "\n",
    "        tile_metrics.append(metric)\n",
    "\n",
    "    return pd.DataFrame.from_dict(tile_metrics).set_index(group_columns).round(3).sort_index(ascending=False)"
   ]
  },
  {
   "cell_type": "code",
   "execution_count": null,
   "id": "ec7bee5e-2da4-4a5e-af38-29dedbe2b5aa",
   "metadata": {},
   "outputs": [],
   "source": [
    "get_tile_metrics_df( grouped_by_tile )"
   ]
  },
  {
   "cell_type": "code",
   "execution_count": null,
   "id": "470243bd-5015-4543-902c-1fa6b5090ef2",
   "metadata": {},
   "outputs": [],
   "source": [
    "grouped_by_tile = get_grouped_by_tile( data, aggregation='mean' )"
   ]
  },
  {
   "cell_type": "code",
   "execution_count": null,
   "id": "1afce5cf-7e33-411d-b142-b2d4230ddd25",
   "metadata": {},
   "outputs": [],
   "source": [
    "get_roc_figure(\n",
    "    data.loc[(data.dataset == 'test')],\n",
    "    get_tile_results=True,\n",
    "    aggregation=\"mode\"\n",
    ").write_image( attachment_dir / 'roc_tile_test_mode.pdf' )\n",
    "\n",
    "get_roc_figure(\n",
    "    data.loc[(data.dataset == 'test') & (data.dpi == '300')],\n",
    "    get_tile_results=True,\n",
    "    aggregation=\"mode\"\n",
    ").write_image( attachment_dir / 'roc_tile_test_mode_300.pdf' )\n",
    "\n",
    "get_roc_figure(\n",
    "    data.loc[(data.dataset == 'real_val')],\n",
    "    get_tile_results=True,\n",
    "    aggregation=\"mode\"\n",
    ").write_image( attachment_dir / 'roc_tile_real_test_mode.pdf' )\n",
    "\n",
    "get_roc_figure(\n",
    "    data.loc[(data.dataset == 'real_val') & (data.dpi == '300')],\n",
    "    get_tile_results=True,\n",
    "    aggregation=\"mode\"\n",
    ").write_image( attachment_dir / 'roc_tile_real_test_mode_300.pdf' )"
   ]
  },
  {
   "cell_type": "code",
   "execution_count": null,
   "id": "4c226c3c-d38a-4f11-a35d-42ec046677d4",
   "metadata": {},
   "outputs": [],
   "source": [
    "get_roc_figure(\n",
    "    data.loc[(data.dataset == 'test')],\n",
    "    get_tile_results=True\n",
    ").write_image( attachment_dir / 'roc_tile_test.pdf' )\n",
    "\n",
    "get_roc_figure(\n",
    "    data.loc[(data.dataset == 'real_val')],\n",
    "    get_tile_results=True\n",
    ").write_image( attachment_dir / 'roc_tile_real_test.pdf' )"
   ]
  },
  {
   "cell_type": "code",
   "execution_count": null,
   "id": "0926311f-0484-45ae-b1ec-2508f34670e0",
   "metadata": {},
   "outputs": [],
   "source": [
    "get_roc_figure(\n",
    "    data.loc[(data.dataset == 'test') & (data.dpi == '300')],\n",
    "    get_tile_results=True\n",
    ").write_image( attachment_dir / 'roc_tile_test_300.pdf' )\n",
    "\n",
    "get_roc_figure(\n",
    "    data.loc[(data.dataset == 'real_val') & (data.dpi == '300')],\n",
    "    get_tile_results=True\n",
    ").write_image( attachment_dir / 'roc_tile_real_test_300.pdf' )\n",
    "\n",
    "get_roc_figure(\n",
    "    data.loc[(data.dataset == 'test') & (data.dpi == '200')],\n",
    "    get_tile_results=True\n",
    ").write_image( attachment_dir / 'roc_tile_test_200.pdf' )\n",
    "\n",
    "get_roc_figure(\n",
    "    data.loc[(data.dataset == 'real_val') & (data.dpi == '200')],\n",
    "    get_tile_results=True\n",
    ").write_image( attachment_dir / 'roc_tile_real_test_200.pdf' )\n",
    "\n",
    "get_roc_figure(\n",
    "    data.loc[(data.dataset == 'test') & (data.dpi == '150')],\n",
    "    get_tile_results=True\n",
    ").write_image( attachment_dir / 'roc_tile_test_150.pdf' )\n",
    "\n",
    "get_roc_figure(\n",
    "    data.loc[(data.dataset == 'real_val') & (data.dpi == '150')],\n",
    "    get_tile_results=True\n",
    ").write_image( attachment_dir / 'roc_tile_real_test_150.pdf' )"
   ]
  },
  {
   "cell_type": "code",
   "execution_count": null,
   "id": "9a0d9124-1a0c-40e3-98dc-ba8418c90298",
   "metadata": {},
   "outputs": [],
   "source": [
    "grouped_by_tile_dpi = get_grouped_by_tile( data, aggregation='mean', separate_dpi=True )"
   ]
  },
  {
   "cell_type": "code",
   "execution_count": null,
   "id": "19485c78-a5fb-4fed-8781-bbb7db547c6a",
   "metadata": {},
   "outputs": [],
   "source": [
    "grouped_by_tile"
   ]
  },
  {
   "cell_type": "code",
   "execution_count": null,
   "id": "9c74c633-5ca0-41fe-af6a-7221ce212ad5",
   "metadata": {},
   "outputs": [],
   "source": [
    "get_tile_metrics_df( data, separate_dpi=True ).reset_index().set_index(['dataset','dpi','model_type']).sort_index(ascending=False)"
   ]
  },
  {
   "cell_type": "code",
   "execution_count": null,
   "id": "327a2bf9-12c0-45f3-bba3-2292bce57cf8",
   "metadata": {},
   "outputs": [],
   "source": [
    "get_tile_metrics_df( data, separate_dpi=False, aggregation='mode' )"
   ]
  },
  {
   "cell_type": "code",
   "execution_count": null,
   "id": "9c2372db-0d24-4c53-8ea0-85c2ae19d072",
   "metadata": {},
   "outputs": [],
   "source": [
    "get_tile_metrics_df( data, separate_dpi=True, aggregation='mode' )"
   ]
  },
  {
   "cell_type": "markdown",
   "id": "471f2de7-0edc-4ce3-9e5b-21946cc3d82c",
   "metadata": {},
   "source": [
    "# Ensemble Classifier"
   ]
  },
  {
   "cell_type": "code",
   "execution_count": null,
   "id": "26e0a9ea-bdfd-4573-a515-413d7d1dddac",
   "metadata": {},
   "outputs": [],
   "source": [
    "grouped_by_tile = get_grouped_by_tile( data, separate_dpi=True, aggregation='max' )\n",
    "grouped_by_tile.loc[:,'classification_correct'] = grouped_by_tile.label == grouped_by_tile.predicted_label\n",
    "\n",
    "compare_models = pd.merge(\n",
    "    grouped_by_tile.loc[\n",
    "        (grouped_by_tile.dataset == 'test') &\n",
    "        (grouped_by_tile.dpi == '300') &\n",
    "        (grouped_by_tile.model_type == 'Resnet50 - spatial'),\n",
    "        ['mask_id','label','classification_correct']\n",
    "    ].rename(columns={'classification_correct':'classification_correct_a', 'result_moire' : 'result_moire_a', 'result_no_moire' : 'result_no_moire_a'}),\n",
    "    grouped_by_tile.loc[\n",
    "        (grouped_by_tile.dataset == 'test') &\n",
    "        (grouped_by_tile.dpi == '300') &\n",
    "        (grouped_by_tile.model_type == 'Resnet50 - frequenz'),\n",
    "        ['mask_id','label','classification_correct']\n",
    "    ].rename(columns={'classification_correct':'classification_correct_b', 'result_moire' : 'result_moire_b', 'result_no_moire' : 'result_no_moire_b'}),\n",
    "    on=['mask_id','label']\n",
    ")"
   ]
  },
  {
   "cell_type": "code",
   "execution_count": null,
   "id": "9fc7c870-da42-4370-892c-82d9a1902dc7",
   "metadata": {},
   "outputs": [],
   "source": [
    "TT = compare_models.loc[\n",
    "    (compare_models.classification_correct_a == True) &\n",
    "    (compare_models.classification_correct_b == True)\n",
    "].shape[0]\n",
    "\n",
    "TF = compare_models.loc[\n",
    "    (compare_models.classification_correct_a == True) &\n",
    "    (compare_models.classification_correct_b == False)\n",
    "].shape[0]\n",
    "\n",
    "FT = compare_models.loc[\n",
    "    (compare_models.classification_correct_a == False) &\n",
    "    (compare_models.classification_correct_b == True)\n",
    "].shape[0]\n",
    "\n",
    "FF = compare_models.loc[\n",
    "    (compare_models.classification_correct_a == False) &\n",
    "    (compare_models.classification_correct_b == False)\n",
    "].shape[0]"
   ]
  },
  {
   "cell_type": "code",
   "execution_count": null,
   "id": "2cc544ad-4562-4d80-ba68-411e31443c67",
   "metadata": {},
   "outputs": [],
   "source": [
    "TT, TF, FT, FF"
   ]
  },
  {
   "cell_type": "code",
   "execution_count": null,
   "id": "125116f5-4d9a-4ead-8c93-30e673bfbf9f",
   "metadata": {},
   "outputs": [],
   "source": [
    "# precision\n",
    "compare_models.loc[\n",
    "    ((compare_models.classification_correct_a) |\n",
    "    (compare_models.classification_correct_b)) &\n",
    "    (compare_models.label == 'moire')\n",
    "].shape[0] / (compare_models.loc[\n",
    "    ((compare_models.classification_correct_a) |\n",
    "    (compare_models.classification_correct_b)) &\n",
    "    (compare_models.label == 'moire')\n",
    "].shape[0] + compare_models.loc[\n",
    "    (compare_models.classification_correct_a == False) &\n",
    "    (compare_models.classification_correct_b == False) &\n",
    "    (compare_models.label == 'no_moire')\n",
    "].shape[0])"
   ]
  },
  {
   "cell_type": "code",
   "execution_count": null,
   "id": "aedcf4c8-19ce-4ce5-a4d4-93397ee1019e",
   "metadata": {},
   "outputs": [],
   "source": [
    "# recall\n",
    "compare_models.loc[\n",
    "    ((compare_models.classification_correct_a) |\n",
    "    (compare_models.classification_correct_b)) &\n",
    "    (compare_models.label == 'moire')\n",
    "].shape[0] / compare_models[compare_models.label == 'moire'].shape[0]"
   ]
  },
  {
   "cell_type": "markdown",
   "id": "7f41df60-570e-4122-a135-780f93850bdf",
   "metadata": {},
   "source": [
    "## compare tiles"
   ]
  },
  {
   "cell_type": "code",
   "execution_count": null,
   "id": "02369e5d-1512-4282-9068-aa8ace43df83",
   "metadata": {},
   "outputs": [],
   "source": [
    "def weight(x):\n",
    "    return abs(x - 0.5) * -1"
   ]
  },
  {
   "cell_type": "code",
   "execution_count": null,
   "id": "4e8f87ba-4bbe-46c6-a108-a90c818cd5a3",
   "metadata": {},
   "outputs": [],
   "source": [
    "weight(0.8)"
   ]
  },
  {
   "cell_type": "code",
   "execution_count": null,
   "id": "b06d1e83-e3f0-4eb2-9f6b-706b525de0af",
   "metadata": {},
   "outputs": [],
   "source": [
    "def get_arch_results( data, architecture ):\n",
    "    compare_model_results = pd.merge(\n",
    "        data.loc[\n",
    "            data.model_type == f'{ architecture } - spatial',\n",
    "            :\n",
    "        ].rename(columns={'classification_correct':'classification_correct_a', 'result_moire' : 'result_moire_a', 'result_no_moire' : 'result_no_moire_a'}),\n",
    "        data.loc[\n",
    "            data.model_type == f'{ architecture } - frequenz',\n",
    "            ['tile_name','label','classification_correct','result_moire']\n",
    "        ].rename(columns={'classification_correct':'classification_correct_b', 'result_moire' : 'result_moire_b', 'result_no_moire' : 'result_no_moire_b'}),\n",
    "        on=['tile_name','label']\n",
    "    )\n",
    "    \n",
    "    compare_model_results.loc[\n",
    "        (compare_model_results.classification_correct_a == True) &\n",
    "        (compare_model_results.classification_correct_b == True),\n",
    "        'result_group'\n",
    "    ] = 'TT'\n",
    "    \n",
    "    compare_model_results.loc[\n",
    "        (compare_model_results.classification_correct_a == True) &\n",
    "        (compare_model_results.classification_correct_b == False),\n",
    "        'result_group'\n",
    "    ] = 'TF'\n",
    "    \n",
    "    compare_model_results.loc[\n",
    "        (compare_model_results.classification_correct_a == False) &\n",
    "        (compare_model_results.classification_correct_b == True),\n",
    "        'result_group'\n",
    "    ] = 'FT'\n",
    "    \n",
    "    compare_model_results.loc[\n",
    "        (compare_model_results.classification_correct_a == False) &\n",
    "        (compare_model_results.classification_correct_b == False),\n",
    "        'result_group'\n",
    "    ] = 'FF'\n",
    "    \n",
    "    compare_model_results.loc[\n",
    "        :,\n",
    "        'model_type'\n",
    "    ] = architecture\n",
    "    \n",
    "    compare_model_results.loc[\n",
    "        compare_model_results.apply(lambda row: weight(row.result_moire_a) < weight(row.result_moire_b), axis=1),\n",
    "        'result_moire'\n",
    "    ] = compare_model_results.loc[\n",
    "        compare_model_results.apply(lambda row: weight(row.result_moire_a) < weight(row.result_moire_b), axis=1)\n",
    "    ].result_moire_a\n",
    "    \n",
    "    compare_model_results.loc[\n",
    "        pd.isna(compare_model_results.result_moire),\n",
    "        'result_moire'\n",
    "    ] = compare_model_results.loc[\n",
    "        pd.isna(compare_model_results.result_moire)\n",
    "    ].result_moire_b\n",
    "\n",
    "    return compare_model_results"
   ]
  },
  {
   "cell_type": "code",
   "execution_count": null,
   "id": "f3f27720-2806-4dce-b143-aa235b7c6d8d",
   "metadata": {},
   "outputs": [],
   "source": [
    "compare_model_results = pd.concat([\n",
    "    get_arch_results(\n",
    "        data.loc[\n",
    "            (data.dataset.isin(['test','real_val'])),\n",
    "            :\n",
    "        ],\n",
    "        'Resnet50'\n",
    "    ),\n",
    "    get_arch_results(\n",
    "        data.loc[\n",
    "            (data.dataset.isin(['test','real_val'])),\n",
    "            :\n",
    "        ],\n",
    "        'MobileNetV3'\n",
    "    )],\n",
    "    ignore_index=True\n",
    ")"
   ]
  },
  {
   "cell_type": "code",
   "execution_count": null,
   "id": "5819a475-cd41-41e3-9944-fed9fd90bb52",
   "metadata": {},
   "outputs": [],
   "source": [
    "calc_metrics(\n",
    "    get_arch_results(\n",
    "        data.loc[\n",
    "            (data.dataset == 'test') &\n",
    "            (data.dpi == '300'),\n",
    "            :\n",
    "        ],\n",
    "        'Resnet50'\n",
    "    )\n",
    ")"
   ]
  },
  {
   "cell_type": "code",
   "execution_count": null,
   "id": "0a95518c-4c77-40ae-ae27-df0dd8115fe0",
   "metadata": {},
   "outputs": [],
   "source": [
    "calc_metrics(\n",
    "    get_arch_results(\n",
    "        data.loc[\n",
    "            (data.dataset == 'test') &\n",
    "            (data.dpi == '300'),\n",
    "            :\n",
    "        ],\n",
    "        'MobileNetV3'\n",
    "    )\n",
    ")"
   ]
  },
  {
   "cell_type": "code",
   "execution_count": null,
   "id": "ffb9d056-1aa9-41c0-bf61-194d524d1f76",
   "metadata": {},
   "outputs": [],
   "source": [
    "calc_metrics(\n",
    "    get_arch_results(\n",
    "        data.loc[\n",
    "            (data.dataset == 'real_val') &\n",
    "            (data.dpi == '300'),\n",
    "            :\n",
    "        ],\n",
    "        'Resnet50'\n",
    "    )\n",
    ")"
   ]
  },
  {
   "cell_type": "code",
   "execution_count": null,
   "id": "90f9942b-d42b-4819-b248-7fc56f38ab08",
   "metadata": {},
   "outputs": [],
   "source": [
    "calc_metrics(\n",
    "    get_arch_results(\n",
    "        data.loc[\n",
    "            (data.dataset == 'real_val') &\n",
    "            (data.dpi == '300'),\n",
    "            :\n",
    "        ],\n",
    "        'MobileNetV3'\n",
    "    )\n",
    ")"
   ]
  },
  {
   "cell_type": "code",
   "execution_count": null,
   "id": "9568744d-0d40-4426-86cf-cdd89518ccd5",
   "metadata": {},
   "outputs": [],
   "source": [
    "get_tile_metrics_df(\n",
    "    pd.concat([\n",
    "        get_arch_results(\n",
    "            data.loc[\n",
    "                (data.dataset.isin(['test','real_val'])),\n",
    "                :\n",
    "            ],\n",
    "            'Resnet50'\n",
    "        ),\n",
    "        get_arch_results(\n",
    "            data.loc[\n",
    "                (data.dataset.isin(['test','real_val'])),\n",
    "                :\n",
    "            ],\n",
    "            'MobileNetV3'\n",
    "        )],\n",
    "        ignore_index=True\n",
    "    )\n",
    ")"
   ]
  },
  {
   "cell_type": "code",
   "execution_count": null,
   "id": "92182db2-1cac-469f-b578-892230286ee8",
   "metadata": {},
   "outputs": [],
   "source": [
    "get_tile_metrics_df(\n",
    "    pd.concat([\n",
    "        get_arch_results(\n",
    "            data.loc[\n",
    "                (data.dataset.isin(['test','real_val'])) &\n",
    "                (data.dpi == '300'),\n",
    "                :\n",
    "            ],\n",
    "            'Resnet50'\n",
    "        ),\n",
    "        get_arch_results(\n",
    "            data.loc[\n",
    "                (data.dataset.isin(['test','real_val'])) &\n",
    "                (data.dpi == '300'),\n",
    "                :\n",
    "            ],\n",
    "            'MobileNetV3'\n",
    "        )],\n",
    "        ignore_index=True\n",
    "    )\n",
    ")"
   ]
  },
  {
   "cell_type": "code",
   "execution_count": null,
   "id": "e7d44888-e1c8-4efb-a1d4-791d90020561",
   "metadata": {},
   "outputs": [],
   "source": [
    "from sklearn.metrics import roc_curve\n",
    "from sklearn.metrics import roc_auc_score"
   ]
  },
  {
   "cell_type": "code",
   "execution_count": null,
   "id": "1c2dc953-a971-4a30-9b69-49e1c8fea717",
   "metadata": {},
   "outputs": [],
   "source": [
    "fpr, tpr, _ = roc_curve(\n",
    "    (data.loc[(data.model_type == 'Resnet50 - spatial') & (data.dataset == 'test') & (data.dpi == '300')].label == 'moire').astype('int8').to_numpy(),\n",
    "    data.loc[(data.model_type == 'Resnet50 - spatial') & (data.dataset == 'test') & (data.dpi == '300')].result_moire.to_numpy()\n",
    ")"
   ]
  },
  {
   "cell_type": "code",
   "execution_count": null,
   "id": "edf2f4e8-99e7-4234-8b38-40e1826f6997",
   "metadata": {},
   "outputs": [],
   "source": [
    "roc_auc_score(\n",
    "    (data.loc[(data.model_type == 'Resnet50 - spatial') & (data.dataset == 'test') & (data.dpi == '300')].label == 'moire').astype('int8').to_numpy(),\n",
    "    data.loc[(data.model_type == 'Resnet50 - spatial') & (data.dataset == 'test') & (data.dpi == '300')].result_moire.to_numpy()\n",
    ")"
   ]
  },
  {
   "cell_type": "code",
   "execution_count": null,
   "id": "f3ad0290-ae80-49c2-abcb-508b9c900d77",
   "metadata": {},
   "outputs": [],
   "source": [
    "roc_auc_score(\n",
    "    (compare_model_results.loc[\n",
    "        (compare_model_results.model_type == 'Resnet50') &\n",
    "        (compare_model_results.dataset == 'test') &\n",
    "        (compare_model_results.dpi == '300')\n",
    "    ].label == 'moire').astype('int8').to_numpy(),\n",
    "    compare_model_results.loc[\n",
    "        (compare_model_results.model_type == 'Resnet50') &\n",
    "        (compare_model_results.dataset == 'test') &\n",
    "        (compare_model_results.dpi == '300')\n",
    "    ].result_moire.to_numpy()\n",
    ")"
   ]
  },
  {
   "cell_type": "code",
   "execution_count": null,
   "id": "926e20de-35f5-46e0-a4d3-281a90f080b6",
   "metadata": {},
   "outputs": [],
   "source": [
    "fpr, tpr, _ = roc_curve(\n",
    "    (compare_model_results.loc[\n",
    "        (compare_model_results.model_type == 'Resnet50') &\n",
    "        (compare_model_results.dataset == 'test') &\n",
    "        (compare_model_results.dpi == '300')\n",
    "    ].label == 'moire').astype('int8').to_numpy(),\n",
    "    compare_model_results.loc[\n",
    "        (compare_model_results.model_type == 'Resnet50') &\n",
    "        (compare_model_results.dataset == 'test') &\n",
    "        (compare_model_results.dpi == '300')\n",
    "    ].result_moire.to_numpy()\n",
    ")"
   ]
  },
  {
   "cell_type": "code",
   "execution_count": null,
   "id": "0e28fdc3-a22d-4f4f-af9c-bc9f32fb04a4",
   "metadata": {},
   "outputs": [],
   "source": [
    "px.line(\n",
    "    x=fpr,\n",
    "    y=tpr\n",
    ")"
   ]
  },
  {
   "cell_type": "code",
   "execution_count": null,
   "id": "a6ff2fb9-e91f-45cb-a80d-d9e7010bdd7d",
   "metadata": {},
   "outputs": [],
   "source": [
    "px.line(\n",
    "    x=fpr,\n",
    "    y=tpr\n",
    ")"
   ]
  },
  {
   "cell_type": "code",
   "execution_count": null,
   "id": "ac151d64-7cd3-4ac8-9fcc-59244e81b498",
   "metadata": {},
   "outputs": [],
   "source": []
  },
  {
   "cell_type": "code",
   "execution_count": null,
   "id": "076e9a36-7d19-4176-b95c-3f2fedee58b4",
   "metadata": {},
   "outputs": [],
   "source": [
    "get_roc_figure(\n",
    "    compare_model_results.loc[\n",
    "        compare_model_results.dataset == 'test'\n",
    "    ]\n",
    ").write_image( attachment_dir / 'roc_test_ensemble.pdf' )\n",
    "\n",
    "get_roc_figure(\n",
    "    compare_model_results.loc[\n",
    "        compare_model_results.dataset == 'real_val'\n",
    "    ]\n",
    ").write_image( attachment_dir / 'roc_real_test_ensemble.pdf' )"
   ]
  },
  {
   "cell_type": "code",
   "execution_count": null,
   "id": "2935ec3c-235b-4c20-a6b9-902d5a0e4b08",
   "metadata": {},
   "outputs": [],
   "source": [
    "get_roc_figure(\n",
    "    compare_model_results.loc[\n",
    "        (compare_model_results.dataset == 'test') &\n",
    "        (compare_model_results.dpi == '300')\n",
    "    ]\n",
    ").write_image( attachment_dir / 'roc_test_300_ensemble.pdf' )\n",
    "\n",
    "get_roc_figure(\n",
    "    compare_model_results.loc[\n",
    "        (compare_model_results.dataset == 'real_val') &\n",
    "        (compare_model_results.dpi == '300')\n",
    "    ]\n",
    ").write_image( attachment_dir / 'roc_real_test_300_ensemble.pdf' )"
   ]
  },
  {
   "cell_type": "code",
   "execution_count": null,
   "id": "8a3edfd3-29a3-4dd2-b061-a614a1c8866c",
   "metadata": {},
   "outputs": [],
   "source": [
    "get_roc_figure(\n",
    "    compare_model_results.loc[\n",
    "        compare_model_results.dataset == 'test'\n",
    "    ],\n",
    "    get_tile_results=True\n",
    ").write_image( attachment_dir / 'roc_tile_test_ensemble.pdf' )\n",
    "\n",
    "get_roc_figure(\n",
    "    compare_model_results.loc[\n",
    "        compare_model_results.dataset == 'real_val'\n",
    "    ],\n",
    "    get_tile_results=True\n",
    ").write_image( attachment_dir / 'roc_tile_real_test_ensemble.pdf' )"
   ]
  },
  {
   "cell_type": "code",
   "execution_count": null,
   "id": "870b3698-7bf9-499c-b8d8-e33b2f6f4a47",
   "metadata": {},
   "outputs": [],
   "source": [
    "get_roc_figure(\n",
    "    compare_model_results.loc[\n",
    "        (compare_model_results.dataset == 'test') &\n",
    "        (compare_model_results.dpi == '300')\n",
    "    ],\n",
    "    get_tile_results=True\n",
    ").write_image( attachment_dir / 'roc_tile_test_300_ensemble.pdf' )\n",
    "\n",
    "get_roc_figure(\n",
    "    compare_model_results.loc[\n",
    "        (compare_model_results.dataset == 'real_val') &\n",
    "        (compare_model_results.dpi == '300')\n",
    "    ],\n",
    "    get_tile_results=True\n",
    ").write_image( attachment_dir / 'roc_tile_real_test_300_ensemble.pdf' )"
   ]
  },
  {
   "cell_type": "code",
   "execution_count": null,
   "id": "049e7ddb-40c3-4115-89e2-4cbf5e00167b",
   "metadata": {},
   "outputs": [],
   "source": [
    "px.scatter(\n",
    "    x=compare_model_results.result_moire_a,\n",
    "    y=compare_model_results.result_moire_b,\n",
    "    color=compare_model_results.result_group,\n",
    "    height=700,\n",
    "    width=700,\n",
    "    labels={\n",
    "        'x' : 'Moiréwahrscheinlichkeit Resnet50 spatial',\n",
    "        'y' : 'Moiréwahrscheinlichkeit Resnet50 frequenz'\n",
    "    }\n",
    ")"
   ]
  },
  {
   "cell_type": "markdown",
   "id": "16ed1543-bf41-4983-9a95-2391ac4d6760",
   "metadata": {},
   "source": [
    "# Rest"
   ]
  },
  {
   "cell_type": "code",
   "execution_count": null,
   "id": "e6caf654-07ac-43b4-aca1-571823c5c4ee",
   "metadata": {},
   "outputs": [],
   "source": [
    "grouped_by_tilename = data.loc[\n",
    "    data.dataset == 'real_val',\n",
    "    ['tile_name','label','mask_id']\n",
    "].groupby(['tile_name','label']).count().rename(columns={'mask_id':'total_count'})\n",
    "\n",
    "grouped_by_tilename.loc[\n",
    "    :,\n",
    "    'classification_correct'\n",
    "] = data.loc[\n",
    "    data.dataset == 'real_val',\n",
    "    ['tile_name','label','classification_correct']\n",
    "].groupby(['tile_name','label']).sum().classification_correct"
   ]
  },
  {
   "cell_type": "markdown",
   "id": "2cafeb3a-3a5f-49f9-8da2-9df0a9b6eaf6",
   "metadata": {},
   "source": [
    "# Auswertung nach erkannten Kacheln"
   ]
  },
  {
   "cell_type": "code",
   "execution_count": null,
   "id": "13ed8eee-3231-4ca4-b4b5-755fe34804dc",
   "metadata": {},
   "outputs": [],
   "source": [
    "dataset = 'real_val'\n",
    "\n",
    "tile_names = data.loc[\n",
    "    data.dataset == dataset\n",
    "].tile_name.unique()\n",
    "\n",
    "tile_result_frame = data.loc[\n",
    "    data.dataset == dataset,\n",
    "    ['tile_name','model_name','classification_correct']\n",
    "].set_index(['tile_name','model_name']).unstack('tile_name')\n",
    "tile_result_frame.columns = [c[1] for c in tile_result_frame.columns]\n",
    "\n",
    "tile_result_frame = tile_result_frame.T"
   ]
  },
  {
   "cell_type": "code",
   "execution_count": null,
   "id": "72e0d1cf-ccf8-4ebe-83de-4ca8e6bf9456",
   "metadata": {},
   "outputs": [],
   "source": [
    "from PIL import Image"
   ]
  },
  {
   "cell_type": "code",
   "execution_count": null,
   "id": "b9ea36c6-3c11-4009-8041-b7f94b7e90d6",
   "metadata": {},
   "outputs": [],
   "source": [
    "n = 2"
   ]
  },
  {
   "cell_type": "code",
   "execution_count": null,
   "id": "69523036-6f71-4dd9-8b4c-dcfbea263303",
   "metadata": {},
   "outputs": [],
   "source": [
    "grouped_models = data.loc[\n",
    "    (data.dataset == 'real_val') &\n",
    "    (data.model_name.isin([\"2024-05-10_Resnet50_004\",\"2024-05-13_Resnet50_004\"])),\n",
    "    ['tile_name','result_moire','result_no_moire']\n",
    "].groupby('tile_name').max()\n",
    "\n",
    "grouped_models.loc[\n",
    "    :,\n",
    "    'label'\n",
    "] = data.loc[\n",
    "    (data.dataset == 'real_val') &\n",
    "    (data.model_name.isin([\"2024-05-10_Resnet50_004\",\"2024-05-13_Resnet50_004\"])),\n",
    "    ['tile_name','label']\n",
    "].groupby('tile_name').first().label\n",
    "\n",
    "grouped_models.loc[\n",
    "    grouped_models.result_moire > grouped_models.result_no_moire,\n",
    "    'predicted_label'\n",
    "] = 'moire'\n",
    "grouped_models.predicted_label.fillna(\"no_moire\", inplace=True)\n",
    "grouped_models.loc[:,'classification_correct'] = grouped_models.label == grouped_models.predicted_label"
   ]
  },
  {
   "cell_type": "code",
   "execution_count": null,
   "id": "624f7d2b-58e0-4f06-9d3c-f9b713f105b7",
   "metadata": {},
   "outputs": [],
   "source": [
    "tile_result_frame.loc[:,'2024-05-10_Resnet50_004'].sum(), tile_result_frame.loc[:,'2024-05-13_Resnet50_004'].sum()"
   ]
  },
  {
   "cell_type": "code",
   "execution_count": null,
   "id": "2105df7e-7493-4a97-ac11-df0250f85708",
   "metadata": {},
   "outputs": [],
   "source": [
    "tile_result_frame.shape"
   ]
  },
  {
   "cell_type": "code",
   "execution_count": null,
   "id": "ffa83d4a-640b-48fd-b97a-9cfdf0a2f2a2",
   "metadata": {},
   "outputs": [],
   "source": [
    "grouped_models.classification_correct.sum()"
   ]
  },
  {
   "cell_type": "code",
   "execution_count": null,
   "id": "6bc589d2-09c0-468c-a269-2f69ec1562b5",
   "metadata": {},
   "outputs": [],
   "source": [
    "def get_model_confusion_data( model_a, model_b ):\n",
    "    results = []\n",
    "\n",
    "    for result_a in [True,False]:\n",
    "        row = []\n",
    "        results.append(row)\n",
    "        \n",
    "        for result_b in [True,False]:\n",
    "            row.append(\n",
    "                tile_result_frame.T.loc[\n",
    "                    (tile_result_frame.T[model_a] == result_a) &\n",
    "                    (tile_result_frame.T[model_b] == result_b)\n",
    "                ].shape[0]\n",
    "            )\n",
    "\n",
    "    return pd.DataFrame(\n",
    "        results,\n",
    "        index=[True,False],\n",
    "        columns=[True,False]\n",
    "    )\n",
    "\n",
    "def get_model_confusion_matrix( model_a, model_b, is_relative=False ):\n",
    "    data = get_model_confusion_data( model_a, model_b )\n",
    "    \n",
    "    if is_relative:\n",
    "        data = (data / data.sum().sum()).round(3)\n",
    "    \n",
    "    return px.imshow(\n",
    "        data,\n",
    "        text_auto=True,\n",
    "        labels={\n",
    "            'y' : model_a,\n",
    "            'x' : model_b\n",
    "        }\n",
    "    )"
   ]
  },
  {
   "cell_type": "code",
   "execution_count": null,
   "id": "9c4ebd03-a917-431b-a376-cd3b2d90e6c3",
   "metadata": {},
   "outputs": [],
   "source": [
    "get_model_confusion_matrix(\n",
    "    '2024-05-10_Resnet50_004',\n",
    "    '2024-05-13_Resnet50_004',\n",
    "    is_relative=True\n",
    ")"
   ]
  },
  {
   "cell_type": "code",
   "execution_count": null,
   "id": "5ab08b94-7c35-40db-a0e6-88be7cc6c97b",
   "metadata": {
    "scrolled": true
   },
   "outputs": [],
   "source": [
    "data_selection = data.loc[\n",
    "    (data.tile_name.isin(\n",
    "        tile_result_frame.loc[\n",
    "            (tile_result_frame['2024-05-10_Resnet50_004'] == False) &\n",
    "            (tile_result_frame['2024-05-13_Resnet50_004'])\n",
    "        ].index\n",
    "    )) &\n",
    "    (data.model_name.isin(['2024-05-10_Resnet50_004','2024-05-13_Resnet50_004'])),\n",
    "    ['tile_name','model_name','result_moire']\n",
    "].set_index(['tile_name','model_name']).unstack('model_name')\n",
    "data_selection.columns = [c[1] for c in data_selection.columns]\n",
    "\n",
    "data_selection"
   ]
  },
  {
   "cell_type": "code",
   "execution_count": null,
   "id": "59f78014-e498-437a-814c-877d8e6f62a6",
   "metadata": {},
   "outputs": [],
   "source": [
    "px.scatter(data_selection.iloc[:250])"
   ]
  },
  {
   "cell_type": "markdown",
   "id": "727c1dac-40ba-4d7d-926d-2c3c72ff4e7c",
   "metadata": {},
   "source": [
    "# Rest"
   ]
  },
  {
   "cell_type": "code",
   "execution_count": null,
   "id": "22a9f2d1-9fe8-465f-ae71-8f372c495453",
   "metadata": {},
   "outputs": [],
   "source": [
    "get_tile_result_grid(\n",
    "    data.loc[\n",
    "        (data.label == 'moire') &\n",
    "        (data.predicted_label == 'no_moire') &\n",
    "        (data.dataset == 'real_val')\n",
    "    ].sample(frac=1).iloc[:25],\n",
    ")"
   ]
  },
  {
   "cell_type": "code",
   "execution_count": null,
   "id": "be3ac8c2-dc96-42d6-b72a-cb80ac864ebb",
   "metadata": {},
   "outputs": [],
   "source": [
    "result"
   ]
  },
  {
   "cell_type": "code",
   "execution_count": null,
   "id": "0dcbac5e-cf5e-4962-a8a6-2d83f60317d6",
   "metadata": {},
   "outputs": [],
   "source": [
    "result = data.iloc[0]"
   ]
  },
  {
   "cell_type": "code",
   "execution_count": null,
   "id": "13bb8996-131d-4308-96a8-7947d73c9547",
   "metadata": {},
   "outputs": [],
   "source": [
    "px.line(\n",
    "    data.loc[\n",
    "        (data.label == 'moire') &\n",
    "        (data.predicted_label == 'no_moire') &\n",
    "        (data.dataset == 'train')\n",
    "    ].sort_values('result_moire').reset_index().result_moire\n",
    ")"
   ]
  },
  {
   "cell_type": "code",
   "execution_count": null,
   "id": "620f0ca9-721e-44ec-b71f-a3719861317d",
   "metadata": {},
   "outputs": [],
   "source": [
    "data.loc[\n",
    "    (data.label == 'moire') &\n",
    "    (data.predicted_label == 'moire') &\n",
    "    (data.dataset == 'train')\n",
    "].sort_values('result_moire', ascending=False).iloc[:50]"
   ]
  },
  {
   "cell_type": "code",
   "execution_count": null,
   "id": "3ccb4d4d-37c6-40f8-8129-cb2b4aae7b32",
   "metadata": {},
   "outputs": [],
   "source": [
    "get_tile_result_grid(\n",
    "    data.loc[\n",
    "        (data.label == 'moire') &\n",
    "        (data.predicted_label == 'moire') &\n",
    "        (data.dataset == 'train')\n",
    "    ].sort_values('result_moire', ascending=False).iloc[:50],\n",
    ")"
   ]
  },
  {
   "cell_type": "code",
   "execution_count": null,
   "id": "92b3b5c1-c259-484c-ad9e-ab6cd5468705",
   "metadata": {},
   "outputs": [],
   "source": [
    "def get_tile_result_grid( data, img_size=224, col_count=5, label_type='both' ):\n",
    "    label_names = ['moire','no_moire']\n",
    "    row_count = math.ceil(data.shape[0] / col_count)\n",
    "\n",
    "    out_img = Image.new(\n",
    "        'RGB',\n",
    "        (img_size * col_count, img_size * row_count),\n",
    "        color=\"white\"\n",
    "    )\n",
    "    draw = ImageDraw.Draw(out_img)  \n",
    "    label_color=[\n",
    "        (0,200,0),\n",
    "        (200,0,50)\n",
    "    ]\n",
    "\n",
    "    for i in range(data.shape[0]):\n",
    "        row = i // col_count\n",
    "        col = i % col_count\n",
    "\n",
    "        result = data.iloc[i]\n",
    "        tile_path = dotenv['TILE_DATASET_DIR'] / dataset_name / result.dataset / result.label / result.tile_name\n",
    "        tile_img = Image.open( tile_path )\n",
    "        out_img.paste(\n",
    "            tile_img,\n",
    "            ( col * tile_img.size[0], row * tile_img.size[1] )\n",
    "        )\n",
    "        draw.rectangle(\n",
    "            (\n",
    "                ( col * tile_img.size[0], row * tile_img.size[1] + round(img_size * 0.9) ),\n",
    "                ( col * tile_img.size[0] + img_size, row * tile_img.size[1] + img_size )\n",
    "            ),\n",
    "            outline=None,\n",
    "            fill=label_color[0] if result.classification_correct else label_color[1]\n",
    "        )\n",
    "\n",
    "        if label_type == 'label_name':\n",
    "            label_text = f'{ result.predicted_label }/{ result.label }'\n",
    "        elif label_type == 'moire_value':\n",
    "            label_text = str( round(result.result_moire, 5) )\n",
    "        else:\n",
    "            label_text = f'{ result.predicted_label }/{ result.label } - {round(result.result_moire, 5)}'\n",
    "        \n",
    "        draw.text(\n",
    "            ( col * tile_img.size[0] + round(img_size * 0.5), row * tile_img.size[1] + round(img_size * 0.97) ),\n",
    "            label_text,\n",
    "            anchor='ms',\n",
    "            font_size=15\n",
    "        )\n",
    "    \n",
    "    return out_img"
   ]
  },
  {
   "cell_type": "code",
   "execution_count": null,
   "id": "e296d1cb-268a-49df-9701-db97738d895d",
   "metadata": {},
   "outputs": [],
   "source": [
    "results = []\n",
    "\n",
    "for tile_path in tqdm(tile_paths):\n",
    "    tile = Image.open(tile_path)\n",
    "    transform = transforms.Compose([transforms.PILToTensor()])\n",
    "\n",
    "    tensor = transform(tile) / 255\n",
    "    tensor = tensor.reshape((1,3,224,224))\n",
    "    with torch.no_grad():\n",
    "        pred = model(tensor)\n",
    "\n",
    "    results.append((\n",
    "        tile_path,\n",
    "        pred,\n",
    "        int(torch.argmax(pred))\n",
    "    ))"
   ]
  },
  {
   "cell_type": "code",
   "execution_count": null,
   "id": "5cf77c03-6a85-470d-af1e-77961afeb981",
   "metadata": {},
   "outputs": [],
   "source": [
    "font = ImageFont.load_default()"
   ]
  },
  {
   "cell_type": "code",
   "execution_count": null,
   "id": "7f8e8e1a-d56a-4cc4-bd98-cca8b3fbe5ff",
   "metadata": {},
   "outputs": [],
   "source": [
    "IMG_SIZE = 224\n",
    "\n",
    "label_names = ['moire','no_moire']\n",
    "grid_size = (5,5)\n",
    "\n",
    "offset = 0\n",
    "\n",
    "while offset < len(results):\n",
    "    out_img = Image.new(\n",
    "        'RGB',\n",
    "        (IMG_SIZE * grid_size[0], IMG_SIZE * grid_size[1]),\n",
    "        color=\"white\"\n",
    "    )\n",
    "    draw = ImageDraw.Draw(out_img)  \n",
    "    label_color=[\n",
    "        (0,200,0),\n",
    "        (200,0,50)\n",
    "    ]\n",
    "    \n",
    "    for y in range(grid_size[1]):\n",
    "        for x in range(grid_size[0]):\n",
    "            i = y * grid_size[1] + x\n",
    "    \n",
    "            if len(results) > offset + i:\n",
    "                result = results[offset+i]\n",
    "                label = result[0].parent.name\n",
    "                target_label = label_names[result[2]]\n",
    "                \n",
    "                tile_img = Image.open( result[0] )\n",
    "                out_img.paste(\n",
    "                    tile_img,\n",
    "                    ( x * tile_img.size[0], y * tile_img.size[1] )\n",
    "                )\n",
    "                draw.rectangle(\n",
    "                    (\n",
    "                        ( x * tile_img.size[0], y * tile_img.size[1] + round(IMG_SIZE * 0.9) ),\n",
    "                        ( x * tile_img.size[0] + IMG_SIZE, y * tile_img.size[1] + IMG_SIZE )\n",
    "                    ),\n",
    "                    outline=None,\n",
    "                    fill=label_color[0] if label == target_label else label_color[1]\n",
    "                )\n",
    "                draw.text(\n",
    "                    ( x * tile_img.size[0] + round(IMG_SIZE * 0.5), y * tile_img.size[1] + round(IMG_SIZE * 0.97) ),\n",
    "                    f'{ label }/{ target_label }',\n",
    "                    anchor='ms',\n",
    "                    font_size=15\n",
    "                )\n",
    "                \n",
    "    offset += 50\n",
    "    out_img.save( f'./tile_grid_{ (str(offset)).zfill(3) }.jpg' )\n",
    "\n",
    "out_img"
   ]
  },
  {
   "cell_type": "code",
   "execution_count": null,
   "id": "55aae710-16ff-417d-aced-852f3839d681",
   "metadata": {},
   "outputs": [],
   "source": [
    "results"
   ]
  }
 ],
 "metadata": {
  "kernelspec": {
   "display_name": "Python 3 (ipykernel)",
   "language": "python",
   "name": "python3"
  },
  "language_info": {
   "codemirror_mode": {
    "name": "ipython",
    "version": 3
   },
   "file_extension": ".py",
   "mimetype": "text/x-python",
   "name": "python",
   "nbconvert_exporter": "python",
   "pygments_lexer": "ipython3",
   "version": "3.10.11"
  }
 },
 "nbformat": 4,
 "nbformat_minor": 5
}
