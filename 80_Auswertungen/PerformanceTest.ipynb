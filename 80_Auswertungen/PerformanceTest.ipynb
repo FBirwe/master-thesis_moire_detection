{
 "cells": [
  {
   "cell_type": "code",
   "execution_count": 4,
   "id": "aacbbba8-0c0a-4735-9fb2-b6c3ff648159",
   "metadata": {},
   "outputs": [],
   "source": [
    "import sys\n",
    "sys.path.append('../30_data_tools/')\n",
    "sys.path.append('../60_Code/Model/')\n",
    "\n",
    "from calc_model_results import load_model, cal_model_results\n",
    "from pytorch_model_tools import get_radius_map, img_to_fft\n",
    "from helper import load_dotenv\n",
    "from torch import nn\n",
    "from torchvision import transforms\n",
    "from PIL import Image\n",
    "from random import choices, choice\n",
    "import torch\n",
    "from tqdm.auto import tqdm\n",
    "import numpy as np\n",
    "import math\n",
    "from sklearn.metrics import silhouette_samples, silhouette_score\n",
    "from sklearn.cluster import KMeans\n",
    "from time import time"
   ]
  },
  {
   "cell_type": "code",
   "execution_count": null,
   "id": "6fe7c1bd-cb04-4087-a937-d0ffade2ce29",
   "metadata": {},
   "outputs": [],
   "source": [
    "dotenv = load_dotenv()"
   ]
  },
  {
   "cell_type": "code",
   "execution_count": null,
   "id": "70593041-ed39-4ee4-94b9-cf7dea57b524",
   "metadata": {},
   "outputs": [],
   "source": [
    "radius_map = get_radius_map()\n",
    "\n",
    "transform = transforms.Compose([\n",
    "    transforms.Lambda(lambda img: img_to_fft(img, radius_map)),\n",
    "    transforms.ToTensor()\n",
    "])"
   ]
  },
  {
   "cell_type": "code",
   "execution_count": null,
   "id": "6285ae5b-a9fb-418a-bad8-adc5cac1235b",
   "metadata": {},
   "outputs": [],
   "source": [
    "model_resnet = load_model('2024-05-13_Resnet50_004')\n",
    "model_mobilenet = load_model('2024-05-12_MobileNetV3_003')"
   ]
  },
  {
   "cell_type": "code",
   "execution_count": null,
   "id": "11191cc3-4f3b-474e-830b-5cdfe63b5ec9",
   "metadata": {},
   "outputs": [],
   "source": [
    "model_resnet.eval()\n",
    "model_mobilenet.eval()\n",
    "\"\""
   ]
  },
  {
   "cell_type": "code",
   "execution_count": null,
   "id": "959f854d-b03c-4ff9-92e5-8b9f9c48cf4f",
   "metadata": {},
   "outputs": [],
   "source": [
    "tiles = list((dotenv['TILE_DATASET_DIR'] / 'train' / 'moire').glob('./*.jpg'))"
   ]
  },
  {
   "cell_type": "code",
   "execution_count": null,
   "id": "346a4d5c-0b96-4724-9b5e-f9df17982143",
   "metadata": {},
   "outputs": [],
   "source": [
    "sample = choices( tiles, k=2500 )"
   ]
  },
  {
   "cell_type": "code",
   "execution_count": null,
   "id": "328edc28-ff1b-42c0-9412-9010fa41a3b2",
   "metadata": {},
   "outputs": [],
   "source": [
    "start = time()\n",
    "cal_model_results(\n",
    "    sample,\n",
    "    model_resnet,\n",
    "    data_type=\"spatial\",\n",
    "    use_cpu=True\n",
    ")\n",
    "end = time()\n",
    "\n",
    "\"ResNet: \", (end - start)"
   ]
  },
  {
   "cell_type": "code",
   "execution_count": null,
   "id": "374be858-b9b7-4d67-a2f6-1047ad58d88c",
   "metadata": {},
   "outputs": [],
   "source": [
    "start = time()\n",
    "cal_model_results(\n",
    "    sample,\n",
    "    model_mobilenet,\n",
    "    data_type=\"spatial\",\n",
    "    use_cpu=True\n",
    ")\n",
    "end = time()\n",
    "\n",
    "\"MobileNetV3: \", (end - start)"
   ]
  }
 ],
 "metadata": {
  "kernelspec": {
   "display_name": "Python 3 (ipykernel)",
   "language": "python",
   "name": "python3"
  },
  "language_info": {
   "codemirror_mode": {
    "name": "ipython",
    "version": 3
   },
   "file_extension": ".py",
   "mimetype": "text/x-python",
   "name": "python",
   "nbconvert_exporter": "python",
   "pygments_lexer": "ipython3",
   "version": "3.10.11"
  }
 },
 "nbformat": 4,
 "nbformat_minor": 5
}
