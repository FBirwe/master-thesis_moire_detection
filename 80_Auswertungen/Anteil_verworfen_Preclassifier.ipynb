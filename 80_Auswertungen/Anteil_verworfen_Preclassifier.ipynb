{
 "cells": [
  {
   "cell_type": "code",
   "execution_count": 44,
   "id": "07f7077f-e013-40da-a6cb-93f5f1ca0a5c",
   "metadata": {},
   "outputs": [],
   "source": [
    "import sys\n",
    "sys.path.append('../30_data_tools/')\n",
    "sys.path.append('../60_gebastel/Model/')\n",
    "\n",
    "import sqlite3\n",
    "import pandas as pd\n",
    "from tqdm.auto import tqdm\n",
    "from helper import load_dotenv\n",
    "from file_interaction import get_related_filepath, open_img\n",
    "from classification_tools import preclassifier, cut_img_into_tiles\n",
    "import plotly.express as px"
   ]
  },
  {
   "cell_type": "code",
   "execution_count": 47,
   "id": "044a5a7a-6fb6-4e59-83e3-095f0cd4ac7f",
   "metadata": {},
   "outputs": [],
   "source": [
    "from load_constants import load_colors"
   ]
  },
  {
   "cell_type": "code",
   "execution_count": 48,
   "id": "143bf43d-ff01-44bb-ad4b-1f7102ec6dfb",
   "metadata": {},
   "outputs": [],
   "source": [
    "colors = load_colors()"
   ]
  },
  {
   "cell_type": "code",
   "execution_count": 2,
   "id": "1621c84c-df53-4023-92e4-816beeac32d0",
   "metadata": {},
   "outputs": [],
   "source": [
    "dotenv = load_dotenv()"
   ]
  },
  {
   "cell_type": "code",
   "execution_count": 3,
   "id": "30950aeb-e07c-4fc2-aa4f-2e617f9f81dc",
   "metadata": {},
   "outputs": [],
   "source": [
    "with sqlite3.connect( dotenv['DB_PATH'] ) as con:\n",
    "    data = pd.read_sql(\n",
    "        '''\n",
    "            SELECT * FROM related_file rf \n",
    "            WHERE job='24-03-05-01_randomTrainPages' AND variant_name = 'ps2400dpi150lpi' AND \"type\" = '4c_600' \n",
    "        ''',\n",
    "        con\n",
    "    )"
   ]
  },
  {
   "cell_type": "code",
   "execution_count": 35,
   "id": "2e9711b3-b812-4f7a-b734-813350b3af8f",
   "metadata": {},
   "outputs": [],
   "source": [
    "sample = data.sample(n=250)"
   ]
  },
  {
   "cell_type": "code",
   "execution_count": 36,
   "id": "0d4bce92-71cd-406d-8f43-c2eb99f5cc9b",
   "metadata": {},
   "outputs": [
    {
     "data": {
      "application/vnd.jupyter.widget-view+json": {
       "model_id": "fc08fae590d840dd81320d9de9cd0719",
       "version_major": 2,
       "version_minor": 0
      },
      "text/plain": [
       "  0%|          | 0/250 [00:00<?, ?it/s]"
      ]
     },
     "metadata": {},
     "output_type": "display_data"
    },
    {
     "name": "stderr",
     "output_type": "stream",
     "text": [
      "/Users/frederic.birwe/Library/Python/3.10/lib/python/site-packages/PIL/Image.py:3186: DecompressionBombWarning: Image size (94996353 pixels) exceeds limit of 89478485 pixels, could be decompression bomb DOS attack.\n",
      "  warnings.warn(\n",
      "/Users/frederic.birwe/Library/Python/3.10/lib/python/site-packages/PIL/Image.py:3186: DecompressionBombWarning: Image size (119990970 pixels) exceeds limit of 89478485 pixels, could be decompression bomb DOS attack.\n",
      "  warnings.warn(\n",
      "/Users/frederic.birwe/Library/Python/3.10/lib/python/site-packages/PIL/Image.py:3186: DecompressionBombWarning: Image size (115387158 pixels) exceeds limit of 89478485 pixels, could be decompression bomb DOS attack.\n",
      "  warnings.warn(\n",
      "/Users/frederic.birwe/Library/Python/3.10/lib/python/site-packages/PIL/Image.py:3186: DecompressionBombWarning: Image size (94735298 pixels) exceeds limit of 89478485 pixels, could be decompression bomb DOS attack.\n",
      "  warnings.warn(\n"
     ]
    }
   ],
   "source": [
    "out = []\n",
    "\n",
    "for i in tqdm(range(sample.shape[0])):\n",
    "    row = sample.iloc[i]\n",
    "\n",
    "    filepath = get_related_filepath(\n",
    "        row.job,\n",
    "        row.variant_name,\n",
    "        f'{ row.pdf_filename }.{ row.type }.jpg'\n",
    "    )\n",
    "    img = open_img( filepath )\n",
    "    tiles = cut_img_into_tiles( img )\n",
    "    tiles_filtered = preclassifier( tiles )\n",
    "\n",
    "    out.append((\n",
    "        row.name,\n",
    "        len(tiles),\n",
    "        len(tiles_filtered)\n",
    "    ))"
   ]
  },
  {
   "cell_type": "code",
   "execution_count": 42,
   "id": "20a46658-29f7-4ae3-8b4e-bcf21cb6445d",
   "metadata": {},
   "outputs": [
    {
     "data": {
      "text/html": [
       "<div>\n",
       "<style scoped>\n",
       "    .dataframe tbody tr th:only-of-type {\n",
       "        vertical-align: middle;\n",
       "    }\n",
       "\n",
       "    .dataframe tbody tr th {\n",
       "        vertical-align: top;\n",
       "    }\n",
       "\n",
       "    .dataframe thead th {\n",
       "        text-align: right;\n",
       "    }\n",
       "</style>\n",
       "<table border=\"1\" class=\"dataframe\">\n",
       "  <thead>\n",
       "    <tr style=\"text-align: right;\">\n",
       "      <th></th>\n",
       "      <th>data_idx</th>\n",
       "      <th>tiles_found</th>\n",
       "      <th>tiles_filtered</th>\n",
       "      <th>filtered_share</th>\n",
       "    </tr>\n",
       "  </thead>\n",
       "  <tbody>\n",
       "    <tr>\n",
       "      <th>0</th>\n",
       "      <td>946</td>\n",
       "      <td>1394</td>\n",
       "      <td>847</td>\n",
       "      <td>0.392396</td>\n",
       "    </tr>\n",
       "    <tr>\n",
       "      <th>1</th>\n",
       "      <td>525</td>\n",
       "      <td>1599</td>\n",
       "      <td>1418</td>\n",
       "      <td>0.113196</td>\n",
       "    </tr>\n",
       "    <tr>\n",
       "      <th>2</th>\n",
       "      <td>351</td>\n",
       "      <td>1394</td>\n",
       "      <td>790</td>\n",
       "      <td>0.433286</td>\n",
       "    </tr>\n",
       "    <tr>\n",
       "      <th>3</th>\n",
       "      <td>406</td>\n",
       "      <td>899</td>\n",
       "      <td>323</td>\n",
       "      <td>0.640712</td>\n",
       "    </tr>\n",
       "    <tr>\n",
       "      <th>4</th>\n",
       "      <td>1687</td>\n",
       "      <td>1616</td>\n",
       "      <td>744</td>\n",
       "      <td>0.539604</td>\n",
       "    </tr>\n",
       "    <tr>\n",
       "      <th>...</th>\n",
       "      <td>...</td>\n",
       "      <td>...</td>\n",
       "      <td>...</td>\n",
       "      <td>...</td>\n",
       "    </tr>\n",
       "    <tr>\n",
       "      <th>245</th>\n",
       "      <td>1204</td>\n",
       "      <td>1682</td>\n",
       "      <td>1564</td>\n",
       "      <td>0.070155</td>\n",
       "    </tr>\n",
       "    <tr>\n",
       "      <th>246</th>\n",
       "      <td>1707</td>\n",
       "      <td>1289</td>\n",
       "      <td>496</td>\n",
       "      <td>0.615206</td>\n",
       "    </tr>\n",
       "    <tr>\n",
       "      <th>247</th>\n",
       "      <td>259</td>\n",
       "      <td>1535</td>\n",
       "      <td>498</td>\n",
       "      <td>0.675570</td>\n",
       "    </tr>\n",
       "    <tr>\n",
       "      <th>248</th>\n",
       "      <td>1189</td>\n",
       "      <td>1649</td>\n",
       "      <td>1452</td>\n",
       "      <td>0.119466</td>\n",
       "    </tr>\n",
       "    <tr>\n",
       "      <th>249</th>\n",
       "      <td>1386</td>\n",
       "      <td>1714</td>\n",
       "      <td>1518</td>\n",
       "      <td>0.114352</td>\n",
       "    </tr>\n",
       "  </tbody>\n",
       "</table>\n",
       "<p>250 rows × 4 columns</p>\n",
       "</div>"
      ],
      "text/plain": [
       "     data_idx  tiles_found  tiles_filtered  filtered_share\n",
       "0         946         1394             847        0.392396\n",
       "1         525         1599            1418        0.113196\n",
       "2         351         1394             790        0.433286\n",
       "3         406          899             323        0.640712\n",
       "4        1687         1616             744        0.539604\n",
       "..        ...          ...             ...             ...\n",
       "245      1204         1682            1564        0.070155\n",
       "246      1707         1289             496        0.615206\n",
       "247       259         1535             498        0.675570\n",
       "248      1189         1649            1452        0.119466\n",
       "249      1386         1714            1518        0.114352\n",
       "\n",
       "[250 rows x 4 columns]"
      ]
     },
     "execution_count": 42,
     "metadata": {},
     "output_type": "execute_result"
    }
   ],
   "source": [
    "results = pd.DataFrame(out, columns=['data_idx','tiles_found','tiles_filtered'])\n",
    "results.loc[\n",
    "    :,\n",
    "    'filtered_share'\n",
    "] = 1 - (results.tiles_filtered / results.tiles_found)\n",
    "\n",
    "results"
   ]
  },
  {
   "cell_type": "code",
   "execution_count": 65,
   "id": "ece3ef65-be65-4ed8-ad4e-305221388955",
   "metadata": {},
   "outputs": [
    {
     "data": {
      "application/vnd.plotly.v1+json": {
       "config": {
        "plotlyServerURL": "https://plot.ly"
       },
       "data": [
        {
         "alignmentgroup": "True",
         "hovertemplate": "variable=filtered_share<br>=%{x}<br>Anteil entfernter Kacheln=%{y}<extra></extra>",
         "legendgroup": "filtered_share",
         "marker": {
          "color": "#627a8e",
          "pattern": {
           "shape": ""
          }
         },
         "name": "filtered_share",
         "offsetgroup": "filtered_share",
         "orientation": "v",
         "showlegend": true,
         "textposition": "auto",
         "type": "bar",
         "x": [
          0,
          1,
          2,
          3,
          4,
          5,
          6,
          7,
          8,
          9,
          10,
          11,
          12,
          13,
          14,
          15,
          16,
          17,
          18,
          19,
          20,
          21,
          22,
          23,
          24,
          25,
          26,
          27,
          28,
          29,
          30,
          31,
          32,
          33,
          34,
          35,
          36,
          37,
          38,
          39,
          40,
          41,
          42,
          43,
          44,
          45,
          46,
          47,
          48,
          49,
          50,
          51,
          52,
          53,
          54,
          55,
          56,
          57,
          58,
          59,
          60,
          61,
          62,
          63,
          64,
          65,
          66,
          67,
          68,
          69,
          70,
          71,
          72,
          73,
          74,
          75,
          76,
          77,
          78,
          79,
          80,
          81,
          82,
          83,
          84,
          85,
          86,
          87,
          88,
          89,
          90,
          91,
          92,
          93,
          94,
          95,
          96,
          97,
          98,
          99,
          100,
          101,
          102,
          103,
          104,
          105,
          106,
          107,
          108,
          109,
          110,
          111,
          112,
          113,
          114,
          115,
          116,
          117,
          118,
          119,
          120,
          121,
          122,
          123,
          124,
          125,
          126,
          127,
          128,
          129,
          130,
          131,
          132,
          133,
          134,
          135,
          136,
          137,
          138,
          139,
          140,
          141,
          142,
          143,
          144,
          145,
          146,
          147,
          148,
          149,
          150,
          151,
          152,
          153,
          154,
          155,
          156,
          157,
          158,
          159,
          160,
          161,
          162,
          163,
          164,
          165,
          166,
          167,
          168,
          169,
          170,
          171,
          172,
          173,
          174,
          175,
          176,
          177,
          178,
          179,
          180,
          181,
          182,
          183,
          184,
          185,
          186,
          187,
          188,
          189,
          190,
          191,
          192,
          193,
          194,
          195,
          196,
          197,
          198,
          199,
          200,
          201,
          202,
          203,
          204,
          205,
          206,
          207,
          208,
          209,
          210,
          211,
          212,
          213,
          214,
          215,
          216,
          217,
          218,
          219,
          220,
          221,
          222,
          223,
          224,
          225,
          226,
          227,
          228,
          229,
          230,
          231,
          232,
          233,
          234,
          235,
          236,
          237,
          238,
          239,
          240,
          241,
          242,
          243,
          244,
          245,
          246,
          247,
          248,
          249
         ],
         "xaxis": "x",
         "y": [
          0.3923959827833573,
          0.11319574734208881,
          0.43328550932568144,
          0.6407119021134594,
          0.5396039603960396,
          0.7802831672784478,
          0.6895368782161235,
          0.34141904184354155,
          0.4842105263157894,
          0.13273106323835993,
          0.14152410575427687,
          0.5299079754601227,
          0.6553745928338762,
          0.4327586206896552,
          0.06551915602443092,
          0.5350058343057176,
          0.16040100250626566,
          0.6175438596491227,
          0.5136298421807748,
          0.626026531901453,
          0.3582938388625593,
          0.5203252032520325,
          0.31702831923501285,
          0.33053582956746286,
          0.5719298245614035,
          0.4736842105263158,
          0.13598574821852727,
          0.09762900976290101,
          0.08301493574157692,
          0.4137931034482759,
          0.5410526315789475,
          0.052197802197802234,
          0.31669865642994244,
          0.07692307692307687,
          0.3848330503678551,
          0.609038737446198,
          0.4555236728837877,
          0.22711142654364802,
          0.42481511914543957,
          0.5487637362637363,
          0.396700143472023,
          0.11461491813220137,
          0.1849361129791527,
          0.10545193687230991,
          0.11694809255784866,
          0.5731707317073171,
          0.47493837304847986,
          0.09565695437053323,
          0.6021052631578947,
          0.1283497884344147,
          0.4878048780487805,
          0.5483128834355828,
          0.3101467772814295,
          0.1115827774408733,
          0.1140404659717964,
          0.8437754271765663,
          0.33088774761555395,
          0.5242105263157895,
          0.09999999999999998,
          0.14645161290322584,
          0.22200263504611328,
          0.4016678248783878,
          0.40909090909090906,
          0.27618308766485644,
          0.571279916753382,
          0.2214336408800568,
          0.21964912280701754,
          0.23203691496374423,
          0.111492281303602,
          0.3041606886657102,
          0.5211526670754139,
          0.05322687957418493,
          0.5284909204758923,
          0.46754313886606413,
          0.47749114820435,
          0.168026706231454,
          0.3483976992604766,
          0.7007001166861144,
          0.12508406186953602,
          0.12417061611374403,
          0.21896551724137936,
          0.48672566371681414,
          0.20912280701754382,
          0.3945480631276901,
          0.563265306122449,
          0.3945480631276901,
          0.09999999999999998,
          0.08183632734530943,
          0.2756863855080668,
          0.17636837532580363,
          0.32996632996633,
          0.4002722940776038,
          0.12690355329949243,
          0.2367409684857802,
          0.10315789473684212,
          0.40727595385980475,
          0.20791245791245794,
          0.44889779559118237,
          0.5770006724949563,
          0.26444595513256286,
          0.27132974634896234,
          0.4842180774748924,
          0.21521906225980014,
          0.10930930930930927,
          0.11262376237623761,
          0.2929979605710401,
          0.8795656465942744,
          0.12132582864290187,
          0.28515625,
          0.14296814296814297,
          0.3081438004402054,
          0.1188118811881188,
          0.12242182302062543,
          0.46850393700787396,
          0.6437964551172098,
          0.1916312916919345,
          0.4818383988139362,
          0.14648295866569983,
          0.257227575982209,
          0.09941897998708848,
          0.34002869440459116,
          0.5487804878048781,
          0.4981245311327832,
          0.17998941238750665,
          0.11918194640338509,
          0.4182209469153515,
          0.31107850330154074,
          0.3459119496855346,
          0.44070175438596493,
          0.5789473684210527,
          0.1115827774408733,
          0.795490298898794,
          0.791084497671324,
          0.3335750543872371,
          0.12051649928263986,
          0.7210756722951845,
          0.5244079265345578,
          0.24233128834355833,
          0.11233053582956742,
          0.5352769679300291,
          0.10398050365556455,
          0.052448766932962854,
          0.45552147239263807,
          0.17534849596478352,
          0.5857819905213271,
          0.18845950238221276,
          0.5440881763527055,
          0.19004764425622023,
          0.10989010989010994,
          0.26559215136650316,
          0.5693811074918567,
          0.2273819055244195,
          0.12371134020618557,
          0.5517468688200395,
          0.271021021021021,
          0.2580445544554455,
          0.09839108910891092,
          0.6989498249708285,
          0.7304296645085344,
          0.31371827877896286,
          0.1500777604976672,
          0.14480198019801982,
          0.3872394188250158,
          0.5139616055846422,
          0.09483960948396097,
          0.44084448160535117,
          0.1491336633663366,
          0.4514657980456026,
          0.6771879483500718,
          0.7782401902497027,
          0.053281580804516615,
          0.5532994923857868,
          0.1367806505421184,
          0.08960967564595934,
          0.18454935622317592,
          0.5610055180870632,
          0.11682650392327809,
          0.38929765886287626,
          0.7256140350877194,
          0.510567296996663,
          0.12169977369876794,
          0.39964685108887577,
          0.3353448275862069,
          0.10473457675753228,
          0.25824964131994266,
          0.593974175035868,
          0.1952085181898846,
          0.26594926979246736,
          0.5690322580645162,
          0.1477477477477478,
          0.4513863216266174,
          0.1290550070521862,
          0.6183644189383071,
          0.6208469055374592,
          0.48557692307692313,
          0.1252882398155265,
          0.4615907545887151,
          0.7179115300942712,
          0.12169977369876794,
          0.31386321626617375,
          0.6599348534201954,
          0.09839108910891092,
          0.6628511966701353,
          0.13187588152327223,
          0.2679798442510307,
          0.3809182209469153,
          0.12762871646120377,
          0.22277227722772275,
          0.11097634930260769,
          0.4034511092851274,
          0.31719298245614036,
          0.6592833876221498,
          0.36746361746361744,
          0.25505824647455544,
          0.41678622668579624,
          0.3833612040133779,
          0.4357894736842105,
          0.1325828642901814,
          0.43122394846532774,
          0.2682551883166795,
          0.4395563770794825,
          0.09839108910891092,
          0.396937212863706,
          0.12411847672778564,
          0.7045184304399524,
          0.06913280776228015,
          0.39886444286728173,
          0.11386138613861385,
          0.10473457675753228,
          0.4943518020441098,
          0.38235294117647056,
          0.12376237623762376,
          0.07692307692307687,
          0.4059720457433291,
          0.14035087719298245,
          0.12417061611374403,
          0.5263157894736843,
          0.5269360269360269,
          0.11612903225806448,
          0.5029171528588098,
          0.5717932354818124,
          0.26611068991660347,
          0.16415261756876665,
          0.3484848484848485,
          0.488421052631579,
          0.07015457788347201,
          0.6152055857253684,
          0.6755700325732898,
          0.11946634323832628,
          0.1143523920653442
         ],
         "yaxis": "y"
        }
       ],
       "layout": {
        "autosize": true,
        "barmode": "relative",
        "legend": {
         "title": {
          "text": "variable"
         },
         "tracegroupgap": 0
        },
        "margin": {
         "t": 60
        },
        "shapes": [
         {
          "type": "line",
          "x0": 0,
          "x1": 1,
          "xref": "x domain",
          "y0": 0.34032156807895997,
          "y1": 0.34032156807895997,
          "yref": "y"
         },
         {
          "line": {
           "dash": "dash"
          },
          "type": "line",
          "x0": 0,
          "x1": 1,
          "xref": "x domain",
          "y0": 0.13685794628965828,
          "y1": 0.13685794628965828,
          "yref": "y"
         },
         {
          "line": {
           "dash": "dash"
          },
          "type": "line",
          "x0": 0,
          "x1": 1,
          "xref": "x domain",
          "y0": 0.5437851898682616,
          "y1": 0.5437851898682616,
          "yref": "y"
         }
        ],
        "showlegend": false,
        "template": {
         "data": {
          "bar": [
           {
            "error_x": {
             "color": "#2a3f5f"
            },
            "error_y": {
             "color": "#2a3f5f"
            },
            "marker": {
             "line": {
              "color": "#E5ECF6",
              "width": 0.5
             },
             "pattern": {
              "fillmode": "overlay",
              "size": 10,
              "solidity": 0.2
             }
            },
            "type": "bar"
           }
          ],
          "barpolar": [
           {
            "marker": {
             "line": {
              "color": "#E5ECF6",
              "width": 0.5
             },
             "pattern": {
              "fillmode": "overlay",
              "size": 10,
              "solidity": 0.2
             }
            },
            "type": "barpolar"
           }
          ],
          "carpet": [
           {
            "aaxis": {
             "endlinecolor": "#2a3f5f",
             "gridcolor": "white",
             "linecolor": "white",
             "minorgridcolor": "white",
             "startlinecolor": "#2a3f5f"
            },
            "baxis": {
             "endlinecolor": "#2a3f5f",
             "gridcolor": "white",
             "linecolor": "white",
             "minorgridcolor": "white",
             "startlinecolor": "#2a3f5f"
            },
            "type": "carpet"
           }
          ],
          "choropleth": [
           {
            "colorbar": {
             "outlinewidth": 0,
             "ticks": ""
            },
            "type": "choropleth"
           }
          ],
          "contour": [
           {
            "colorbar": {
             "outlinewidth": 0,
             "ticks": ""
            },
            "colorscale": [
             [
              0,
              "#0d0887"
             ],
             [
              0.1111111111111111,
              "#46039f"
             ],
             [
              0.2222222222222222,
              "#7201a8"
             ],
             [
              0.3333333333333333,
              "#9c179e"
             ],
             [
              0.4444444444444444,
              "#bd3786"
             ],
             [
              0.5555555555555556,
              "#d8576b"
             ],
             [
              0.6666666666666666,
              "#ed7953"
             ],
             [
              0.7777777777777778,
              "#fb9f3a"
             ],
             [
              0.8888888888888888,
              "#fdca26"
             ],
             [
              1,
              "#f0f921"
             ]
            ],
            "type": "contour"
           }
          ],
          "contourcarpet": [
           {
            "colorbar": {
             "outlinewidth": 0,
             "ticks": ""
            },
            "type": "contourcarpet"
           }
          ],
          "heatmap": [
           {
            "colorbar": {
             "outlinewidth": 0,
             "ticks": ""
            },
            "colorscale": [
             [
              0,
              "#0d0887"
             ],
             [
              0.1111111111111111,
              "#46039f"
             ],
             [
              0.2222222222222222,
              "#7201a8"
             ],
             [
              0.3333333333333333,
              "#9c179e"
             ],
             [
              0.4444444444444444,
              "#bd3786"
             ],
             [
              0.5555555555555556,
              "#d8576b"
             ],
             [
              0.6666666666666666,
              "#ed7953"
             ],
             [
              0.7777777777777778,
              "#fb9f3a"
             ],
             [
              0.8888888888888888,
              "#fdca26"
             ],
             [
              1,
              "#f0f921"
             ]
            ],
            "type": "heatmap"
           }
          ],
          "heatmapgl": [
           {
            "colorbar": {
             "outlinewidth": 0,
             "ticks": ""
            },
            "colorscale": [
             [
              0,
              "#0d0887"
             ],
             [
              0.1111111111111111,
              "#46039f"
             ],
             [
              0.2222222222222222,
              "#7201a8"
             ],
             [
              0.3333333333333333,
              "#9c179e"
             ],
             [
              0.4444444444444444,
              "#bd3786"
             ],
             [
              0.5555555555555556,
              "#d8576b"
             ],
             [
              0.6666666666666666,
              "#ed7953"
             ],
             [
              0.7777777777777778,
              "#fb9f3a"
             ],
             [
              0.8888888888888888,
              "#fdca26"
             ],
             [
              1,
              "#f0f921"
             ]
            ],
            "type": "heatmapgl"
           }
          ],
          "histogram": [
           {
            "marker": {
             "pattern": {
              "fillmode": "overlay",
              "size": 10,
              "solidity": 0.2
             }
            },
            "type": "histogram"
           }
          ],
          "histogram2d": [
           {
            "colorbar": {
             "outlinewidth": 0,
             "ticks": ""
            },
            "colorscale": [
             [
              0,
              "#0d0887"
             ],
             [
              0.1111111111111111,
              "#46039f"
             ],
             [
              0.2222222222222222,
              "#7201a8"
             ],
             [
              0.3333333333333333,
              "#9c179e"
             ],
             [
              0.4444444444444444,
              "#bd3786"
             ],
             [
              0.5555555555555556,
              "#d8576b"
             ],
             [
              0.6666666666666666,
              "#ed7953"
             ],
             [
              0.7777777777777778,
              "#fb9f3a"
             ],
             [
              0.8888888888888888,
              "#fdca26"
             ],
             [
              1,
              "#f0f921"
             ]
            ],
            "type": "histogram2d"
           }
          ],
          "histogram2dcontour": [
           {
            "colorbar": {
             "outlinewidth": 0,
             "ticks": ""
            },
            "colorscale": [
             [
              0,
              "#0d0887"
             ],
             [
              0.1111111111111111,
              "#46039f"
             ],
             [
              0.2222222222222222,
              "#7201a8"
             ],
             [
              0.3333333333333333,
              "#9c179e"
             ],
             [
              0.4444444444444444,
              "#bd3786"
             ],
             [
              0.5555555555555556,
              "#d8576b"
             ],
             [
              0.6666666666666666,
              "#ed7953"
             ],
             [
              0.7777777777777778,
              "#fb9f3a"
             ],
             [
              0.8888888888888888,
              "#fdca26"
             ],
             [
              1,
              "#f0f921"
             ]
            ],
            "type": "histogram2dcontour"
           }
          ],
          "mesh3d": [
           {
            "colorbar": {
             "outlinewidth": 0,
             "ticks": ""
            },
            "type": "mesh3d"
           }
          ],
          "parcoords": [
           {
            "line": {
             "colorbar": {
              "outlinewidth": 0,
              "ticks": ""
             }
            },
            "type": "parcoords"
           }
          ],
          "pie": [
           {
            "automargin": true,
            "type": "pie"
           }
          ],
          "scatter": [
           {
            "fillpattern": {
             "fillmode": "overlay",
             "size": 10,
             "solidity": 0.2
            },
            "type": "scatter"
           }
          ],
          "scatter3d": [
           {
            "line": {
             "colorbar": {
              "outlinewidth": 0,
              "ticks": ""
             }
            },
            "marker": {
             "colorbar": {
              "outlinewidth": 0,
              "ticks": ""
             }
            },
            "type": "scatter3d"
           }
          ],
          "scattercarpet": [
           {
            "marker": {
             "colorbar": {
              "outlinewidth": 0,
              "ticks": ""
             }
            },
            "type": "scattercarpet"
           }
          ],
          "scattergeo": [
           {
            "marker": {
             "colorbar": {
              "outlinewidth": 0,
              "ticks": ""
             }
            },
            "type": "scattergeo"
           }
          ],
          "scattergl": [
           {
            "marker": {
             "colorbar": {
              "outlinewidth": 0,
              "ticks": ""
             }
            },
            "type": "scattergl"
           }
          ],
          "scattermapbox": [
           {
            "marker": {
             "colorbar": {
              "outlinewidth": 0,
              "ticks": ""
             }
            },
            "type": "scattermapbox"
           }
          ],
          "scatterpolar": [
           {
            "marker": {
             "colorbar": {
              "outlinewidth": 0,
              "ticks": ""
             }
            },
            "type": "scatterpolar"
           }
          ],
          "scatterpolargl": [
           {
            "marker": {
             "colorbar": {
              "outlinewidth": 0,
              "ticks": ""
             }
            },
            "type": "scatterpolargl"
           }
          ],
          "scatterternary": [
           {
            "marker": {
             "colorbar": {
              "outlinewidth": 0,
              "ticks": ""
             }
            },
            "type": "scatterternary"
           }
          ],
          "surface": [
           {
            "colorbar": {
             "outlinewidth": 0,
             "ticks": ""
            },
            "colorscale": [
             [
              0,
              "#0d0887"
             ],
             [
              0.1111111111111111,
              "#46039f"
             ],
             [
              0.2222222222222222,
              "#7201a8"
             ],
             [
              0.3333333333333333,
              "#9c179e"
             ],
             [
              0.4444444444444444,
              "#bd3786"
             ],
             [
              0.5555555555555556,
              "#d8576b"
             ],
             [
              0.6666666666666666,
              "#ed7953"
             ],
             [
              0.7777777777777778,
              "#fb9f3a"
             ],
             [
              0.8888888888888888,
              "#fdca26"
             ],
             [
              1,
              "#f0f921"
             ]
            ],
            "type": "surface"
           }
          ],
          "table": [
           {
            "cells": {
             "fill": {
              "color": "#EBF0F8"
             },
             "line": {
              "color": "white"
             }
            },
            "header": {
             "fill": {
              "color": "#C8D4E3"
             },
             "line": {
              "color": "white"
             }
            },
            "type": "table"
           }
          ]
         },
         "layout": {
          "annotationdefaults": {
           "arrowcolor": "#2a3f5f",
           "arrowhead": 0,
           "arrowwidth": 1
          },
          "autotypenumbers": "strict",
          "coloraxis": {
           "colorbar": {
            "outlinewidth": 0,
            "ticks": ""
           }
          },
          "colorscale": {
           "diverging": [
            [
             0,
             "#8e0152"
            ],
            [
             0.1,
             "#c51b7d"
            ],
            [
             0.2,
             "#de77ae"
            ],
            [
             0.3,
             "#f1b6da"
            ],
            [
             0.4,
             "#fde0ef"
            ],
            [
             0.5,
             "#f7f7f7"
            ],
            [
             0.6,
             "#e6f5d0"
            ],
            [
             0.7,
             "#b8e186"
            ],
            [
             0.8,
             "#7fbc41"
            ],
            [
             0.9,
             "#4d9221"
            ],
            [
             1,
             "#276419"
            ]
           ],
           "sequential": [
            [
             0,
             "#0d0887"
            ],
            [
             0.1111111111111111,
             "#46039f"
            ],
            [
             0.2222222222222222,
             "#7201a8"
            ],
            [
             0.3333333333333333,
             "#9c179e"
            ],
            [
             0.4444444444444444,
             "#bd3786"
            ],
            [
             0.5555555555555556,
             "#d8576b"
            ],
            [
             0.6666666666666666,
             "#ed7953"
            ],
            [
             0.7777777777777778,
             "#fb9f3a"
            ],
            [
             0.8888888888888888,
             "#fdca26"
            ],
            [
             1,
             "#f0f921"
            ]
           ],
           "sequentialminus": [
            [
             0,
             "#0d0887"
            ],
            [
             0.1111111111111111,
             "#46039f"
            ],
            [
             0.2222222222222222,
             "#7201a8"
            ],
            [
             0.3333333333333333,
             "#9c179e"
            ],
            [
             0.4444444444444444,
             "#bd3786"
            ],
            [
             0.5555555555555556,
             "#d8576b"
            ],
            [
             0.6666666666666666,
             "#ed7953"
            ],
            [
             0.7777777777777778,
             "#fb9f3a"
            ],
            [
             0.8888888888888888,
             "#fdca26"
            ],
            [
             1,
             "#f0f921"
            ]
           ]
          },
          "colorway": [
           "#636efa",
           "#EF553B",
           "#00cc96",
           "#ab63fa",
           "#FFA15A",
           "#19d3f3",
           "#FF6692",
           "#B6E880",
           "#FF97FF",
           "#FECB52"
          ],
          "font": {
           "color": "#2a3f5f"
          },
          "geo": {
           "bgcolor": "white",
           "lakecolor": "white",
           "landcolor": "#E5ECF6",
           "showlakes": true,
           "showland": true,
           "subunitcolor": "white"
          },
          "hoverlabel": {
           "align": "left"
          },
          "hovermode": "closest",
          "mapbox": {
           "style": "light"
          },
          "paper_bgcolor": "white",
          "plot_bgcolor": "#E5ECF6",
          "polar": {
           "angularaxis": {
            "gridcolor": "white",
            "linecolor": "white",
            "ticks": ""
           },
           "bgcolor": "#E5ECF6",
           "radialaxis": {
            "gridcolor": "white",
            "linecolor": "white",
            "ticks": ""
           }
          },
          "scene": {
           "xaxis": {
            "backgroundcolor": "#E5ECF6",
            "gridcolor": "white",
            "gridwidth": 2,
            "linecolor": "white",
            "showbackground": true,
            "ticks": "",
            "zerolinecolor": "white"
           },
           "yaxis": {
            "backgroundcolor": "#E5ECF6",
            "gridcolor": "white",
            "gridwidth": 2,
            "linecolor": "white",
            "showbackground": true,
            "ticks": "",
            "zerolinecolor": "white"
           },
           "zaxis": {
            "backgroundcolor": "#E5ECF6",
            "gridcolor": "white",
            "gridwidth": 2,
            "linecolor": "white",
            "showbackground": true,
            "ticks": "",
            "zerolinecolor": "white"
           }
          },
          "shapedefaults": {
           "line": {
            "color": "#2a3f5f"
           }
          },
          "ternary": {
           "aaxis": {
            "gridcolor": "white",
            "linecolor": "white",
            "ticks": ""
           },
           "baxis": {
            "gridcolor": "white",
            "linecolor": "white",
            "ticks": ""
           },
           "bgcolor": "#E5ECF6",
           "caxis": {
            "gridcolor": "white",
            "linecolor": "white",
            "ticks": ""
           }
          },
          "title": {
           "x": 0.05
          },
          "xaxis": {
           "automargin": true,
           "gridcolor": "white",
           "linecolor": "white",
           "ticks": "",
           "title": {
            "standoff": 15
           },
           "zerolinecolor": "white",
           "zerolinewidth": 2
          },
          "yaxis": {
           "automargin": true,
           "gridcolor": "white",
           "linecolor": "white",
           "ticks": "",
           "title": {
            "standoff": 15
           },
           "zerolinecolor": "white",
           "zerolinewidth": 2
          }
         }
        },
        "xaxis": {
         "anchor": "y",
         "autorange": true,
         "domain": [
          0,
          1
         ],
         "range": [
          -0.5,
          249.5
         ],
         "title": {
          "text": ""
         },
         "type": "linear"
        },
        "yaxis": {
         "anchor": "x",
         "domain": [
          0,
          1
         ],
         "range": [
          0,
          1
         ],
         "title": {
          "text": "Anteil entfernter Kacheln"
         },
         "type": "linear"
        }
       }
      },
      "image/png": "[encoded data removed]",
      "text/html": [
       "<div>                            <div id=\"a2569a26-cf9f-446f-a18a-4b770b16baa4\" class=\"plotly-graph-div\" style=\"height:525px; width:100%;\"></div>            <script type=\"text/javascript\">                require([\"plotly\"], function(Plotly) {                    window.PLOTLYENV=window.PLOTLYENV || {};                                    if (document.getElementById(\"a2569a26-cf9f-446f-a18a-4b770b16baa4\")) {                    Plotly.newPlot(                        \"a2569a26-cf9f-446f-a18a-4b770b16baa4\",                        [{\"alignmentgroup\":\"True\",\"hovertemplate\":\"variable=filtered_share\\u003cbr\\u003e=%{x}\\u003cbr\\u003eAnteil entfernter Kacheln=%{y}\\u003cextra\\u003e\\u003c\\u002fextra\\u003e\",\"legendgroup\":\"filtered_share\",\"marker\":{\"color\":\"#627a8e\",\"pattern\":{\"shape\":\"\"}},\"name\":\"filtered_share\",\"offsetgroup\":\"filtered_share\",\"orientation\":\"v\",\"showlegend\":true,\"textposition\":\"auto\",\"x\":[0,1,2,3,4,5,6,7,8,9,10,11,12,13,14,15,16,17,18,19,20,21,22,23,24,25,26,27,28,29,30,31,32,33,34,35,36,37,38,39,40,41,42,43,44,45,46,47,48,49,50,51,52,53,54,55,56,57,58,59,60,61,62,63,64,65,66,67,68,69,70,71,72,73,74,75,76,77,78,79,80,81,82,83,84,85,86,87,88,89,90,91,92,93,94,95,96,97,98,99,100,101,102,103,104,105,106,107,108,109,110,111,112,113,114,115,116,117,118,119,120,121,122,123,124,125,126,127,128,129,130,131,132,133,134,135,136,137,138,139,140,141,142,143,144,145,146,147,148,149,150,151,152,153,154,155,156,157,158,159,160,161,162,163,164,165,166,167,168,169,170,171,172,173,174,175,176,177,178,179,180,181,182,183,184,185,186,187,188,189,190,191,192,193,194,195,196,197,198,199,200,201,202,203,204,205,206,207,208,209,210,211,212,213,214,215,216,217,218,219,220,221,222,223,224,225,226,227,228,229,230,231,232,233,234,235,236,237,238,239,240,241,242,243,244,245,246,247,248,249],\"xaxis\":\"x\",\"y\":[0.3923959827833573,0.11319574734208881,0.43328550932568144,0.6407119021134594,0.5396039603960396,0.7802831672784478,0.6895368782161235,0.34141904184354155,0.4842105263157894,0.13273106323835993,0.14152410575427687,0.5299079754601227,0.6553745928338762,0.4327586206896552,0.06551915602443092,0.5350058343057176,0.16040100250626566,0.6175438596491227,0.5136298421807748,0.626026531901453,0.3582938388625593,0.5203252032520325,0.31702831923501285,0.33053582956746286,0.5719298245614035,0.4736842105263158,0.13598574821852727,0.09762900976290101,0.08301493574157692,0.4137931034482759,0.5410526315789475,0.052197802197802234,0.31669865642994244,0.07692307692307687,0.3848330503678551,0.609038737446198,0.4555236728837877,0.22711142654364802,0.42481511914543957,0.5487637362637363,0.396700143472023,0.11461491813220137,0.1849361129791527,0.10545193687230991,0.11694809255784866,0.5731707317073171,0.47493837304847986,0.09565695437053323,0.6021052631578947,0.1283497884344147,0.4878048780487805,0.5483128834355828,0.3101467772814295,0.1115827774408733,0.1140404659717964,0.8437754271765663,0.33088774761555395,0.5242105263157895,0.09999999999999998,0.14645161290322584,0.22200263504611328,0.4016678248783878,0.40909090909090906,0.27618308766485644,0.571279916753382,0.2214336408800568,0.21964912280701754,0.23203691496374423,0.111492281303602,0.3041606886657102,0.5211526670754139,0.05322687957418493,0.5284909204758923,0.46754313886606413,0.47749114820435,0.168026706231454,0.3483976992604766,0.7007001166861144,0.12508406186953602,0.12417061611374403,0.21896551724137936,0.48672566371681414,0.20912280701754382,0.3945480631276901,0.563265306122449,0.3945480631276901,0.09999999999999998,0.08183632734530943,0.2756863855080668,0.17636837532580363,0.32996632996633,0.4002722940776038,0.12690355329949243,0.2367409684857802,0.10315789473684212,0.40727595385980475,0.20791245791245794,0.44889779559118237,0.5770006724949563,0.26444595513256286,0.27132974634896234,0.4842180774748924,0.21521906225980014,0.10930930930930927,0.11262376237623761,0.2929979605710401,0.8795656465942744,0.12132582864290187,0.28515625,0.14296814296814297,0.3081438004402054,0.1188118811881188,0.12242182302062543,0.46850393700787396,0.6437964551172098,0.1916312916919345,0.4818383988139362,0.14648295866569983,0.257227575982209,0.09941897998708848,0.34002869440459116,0.5487804878048781,0.4981245311327832,0.17998941238750665,0.11918194640338509,0.4182209469153515,0.31107850330154074,0.3459119496855346,0.44070175438596493,0.5789473684210527,0.1115827774408733,0.795490298898794,0.791084497671324,0.3335750543872371,0.12051649928263986,0.7210756722951845,0.5244079265345578,0.24233128834355833,0.11233053582956742,0.5352769679300291,0.10398050365556455,0.052448766932962854,0.45552147239263807,0.17534849596478352,0.5857819905213271,0.18845950238221276,0.5440881763527055,0.19004764425622023,0.10989010989010994,0.26559215136650316,0.5693811074918567,0.2273819055244195,0.12371134020618557,0.5517468688200395,0.271021021021021,0.2580445544554455,0.09839108910891092,0.6989498249708285,0.7304296645085344,0.31371827877896286,0.1500777604976672,0.14480198019801982,0.3872394188250158,0.5139616055846422,0.09483960948396097,0.44084448160535117,0.1491336633663366,0.4514657980456026,0.6771879483500718,0.7782401902497027,0.053281580804516615,0.5532994923857868,0.1367806505421184,0.08960967564595934,0.18454935622317592,0.5610055180870632,0.11682650392327809,0.38929765886287626,0.7256140350877194,0.510567296996663,0.12169977369876794,0.39964685108887577,0.3353448275862069,0.10473457675753228,0.25824964131994266,0.593974175035868,0.1952085181898846,0.26594926979246736,0.5690322580645162,0.1477477477477478,0.4513863216266174,0.1290550070521862,0.6183644189383071,0.6208469055374592,0.48557692307692313,0.1252882398155265,0.4615907545887151,0.7179115300942712,0.12169977369876794,0.31386321626617375,0.6599348534201954,0.09839108910891092,0.6628511966701353,0.13187588152327223,0.2679798442510307,0.3809182209469153,0.12762871646120377,0.22277227722772275,0.11097634930260769,0.4034511092851274,0.31719298245614036,0.6592833876221498,0.36746361746361744,0.25505824647455544,0.41678622668579624,0.3833612040133779,0.4357894736842105,0.1325828642901814,0.43122394846532774,0.2682551883166795,0.4395563770794825,0.09839108910891092,0.396937212863706,0.12411847672778564,0.7045184304399524,0.06913280776228015,0.39886444286728173,0.11386138613861385,0.10473457675753228,0.4943518020441098,0.38235294117647056,0.12376237623762376,0.07692307692307687,0.4059720457433291,0.14035087719298245,0.12417061611374403,0.5263157894736843,0.5269360269360269,0.11612903225806448,0.5029171528588098,0.5717932354818124,0.26611068991660347,0.16415261756876665,0.3484848484848485,0.488421052631579,0.07015457788347201,0.6152055857253684,0.6755700325732898,0.11946634323832628,0.1143523920653442],\"yaxis\":\"y\",\"type\":\"bar\"}],                        {\"template\":{\"data\":{\"histogram2dcontour\":[{\"type\":\"histogram2dcontour\",\"colorbar\":{\"outlinewidth\":0,\"ticks\":\"\"},\"colorscale\":[[0.0,\"#0d0887\"],[0.1111111111111111,\"#46039f\"],[0.2222222222222222,\"#7201a8\"],[0.3333333333333333,\"#9c179e\"],[0.4444444444444444,\"#bd3786\"],[0.5555555555555556,\"#d8576b\"],[0.6666666666666666,\"#ed7953\"],[0.7777777777777778,\"#fb9f3a\"],[0.8888888888888888,\"#fdca26\"],[1.0,\"#f0f921\"]]}],\"choropleth\":[{\"type\":\"choropleth\",\"colorbar\":{\"outlinewidth\":0,\"ticks\":\"\"}}],\"histogram2d\":[{\"type\":\"histogram2d\",\"colorbar\":{\"outlinewidth\":0,\"ticks\":\"\"},\"colorscale\":[[0.0,\"#0d0887\"],[0.1111111111111111,\"#46039f\"],[0.2222222222222222,\"#7201a8\"],[0.3333333333333333,\"#9c179e\"],[0.4444444444444444,\"#bd3786\"],[0.5555555555555556,\"#d8576b\"],[0.6666666666666666,\"#ed7953\"],[0.7777777777777778,\"#fb9f3a\"],[0.8888888888888888,\"#fdca26\"],[1.0,\"#f0f921\"]]}],\"heatmap\":[{\"type\":\"heatmap\",\"colorbar\":{\"outlinewidth\":0,\"ticks\":\"\"},\"colorscale\":[[0.0,\"#0d0887\"],[0.1111111111111111,\"#46039f\"],[0.2222222222222222,\"#7201a8\"],[0.3333333333333333,\"#9c179e\"],[0.4444444444444444,\"#bd3786\"],[0.5555555555555556,\"#d8576b\"],[0.6666666666666666,\"#ed7953\"],[0.7777777777777778,\"#fb9f3a\"],[0.8888888888888888,\"#fdca26\"],[1.0,\"#f0f921\"]]}],\"heatmapgl\":[{\"type\":\"heatmapgl\",\"colorbar\":{\"outlinewidth\":0,\"ticks\":\"\"},\"colorscale\":[[0.0,\"#0d0887\"],[0.1111111111111111,\"#46039f\"],[0.2222222222222222,\"#7201a8\"],[0.3333333333333333,\"#9c179e\"],[0.4444444444444444,\"#bd3786\"],[0.5555555555555556,\"#d8576b\"],[0.6666666666666666,\"#ed7953\"],[0.7777777777777778,\"#fb9f3a\"],[0.8888888888888888,\"#fdca26\"],[1.0,\"#f0f921\"]]}],\"contourcarpet\":[{\"type\":\"contourcarpet\",\"colorbar\":{\"outlinewidth\":0,\"ticks\":\"\"}}],\"contour\":[{\"type\":\"contour\",\"colorbar\":{\"outlinewidth\":0,\"ticks\":\"\"},\"colorscale\":[[0.0,\"#0d0887\"],[0.1111111111111111,\"#46039f\"],[0.2222222222222222,\"#7201a8\"],[0.3333333333333333,\"#9c179e\"],[0.4444444444444444,\"#bd3786\"],[0.5555555555555556,\"#d8576b\"],[0.6666666666666666,\"#ed7953\"],[0.7777777777777778,\"#fb9f3a\"],[0.8888888888888888,\"#fdca26\"],[1.0,\"#f0f921\"]]}],\"surface\":[{\"type\":\"surface\",\"colorbar\":{\"outlinewidth\":0,\"ticks\":\"\"},\"colorscale\":[[0.0,\"#0d0887\"],[0.1111111111111111,\"#46039f\"],[0.2222222222222222,\"#7201a8\"],[0.3333333333333333,\"#9c179e\"],[0.4444444444444444,\"#bd3786\"],[0.5555555555555556,\"#d8576b\"],[0.6666666666666666,\"#ed7953\"],[0.7777777777777778,\"#fb9f3a\"],[0.8888888888888888,\"#fdca26\"],[1.0,\"#f0f921\"]]}],\"mesh3d\":[{\"type\":\"mesh3d\",\"colorbar\":{\"outlinewidth\":0,\"ticks\":\"\"}}],\"scatter\":[{\"fillpattern\":{\"fillmode\":\"overlay\",\"size\":10,\"solidity\":0.2},\"type\":\"scatter\"}],\"parcoords\":[{\"type\":\"parcoords\",\"line\":{\"colorbar\":{\"outlinewidth\":0,\"ticks\":\"\"}}}],\"scatterpolargl\":[{\"type\":\"scatterpolargl\",\"marker\":{\"colorbar\":{\"outlinewidth\":0,\"ticks\":\"\"}}}],\"bar\":[{\"error_x\":{\"color\":\"#2a3f5f\"},\"error_y\":{\"color\":\"#2a3f5f\"},\"marker\":{\"line\":{\"color\":\"#E5ECF6\",\"width\":0.5},\"pattern\":{\"fillmode\":\"overlay\",\"size\":10,\"solidity\":0.2}},\"type\":\"bar\"}],\"scattergeo\":[{\"type\":\"scattergeo\",\"marker\":{\"colorbar\":{\"outlinewidth\":0,\"ticks\":\"\"}}}],\"scatterpolar\":[{\"type\":\"scatterpolar\",\"marker\":{\"colorbar\":{\"outlinewidth\":0,\"ticks\":\"\"}}}],\"histogram\":[{\"marker\":{\"pattern\":{\"fillmode\":\"overlay\",\"size\":10,\"solidity\":0.2}},\"type\":\"histogram\"}],\"scattergl\":[{\"type\":\"scattergl\",\"marker\":{\"colorbar\":{\"outlinewidth\":0,\"ticks\":\"\"}}}],\"scatter3d\":[{\"type\":\"scatter3d\",\"line\":{\"colorbar\":{\"outlinewidth\":0,\"ticks\":\"\"}},\"marker\":{\"colorbar\":{\"outlinewidth\":0,\"ticks\":\"\"}}}],\"scattermapbox\":[{\"type\":\"scattermapbox\",\"marker\":{\"colorbar\":{\"outlinewidth\":0,\"ticks\":\"\"}}}],\"scatterternary\":[{\"type\":\"scatterternary\",\"marker\":{\"colorbar\":{\"outlinewidth\":0,\"ticks\":\"\"}}}],\"scattercarpet\":[{\"type\":\"scattercarpet\",\"marker\":{\"colorbar\":{\"outlinewidth\":0,\"ticks\":\"\"}}}],\"carpet\":[{\"aaxis\":{\"endlinecolor\":\"#2a3f5f\",\"gridcolor\":\"white\",\"linecolor\":\"white\",\"minorgridcolor\":\"white\",\"startlinecolor\":\"#2a3f5f\"},\"baxis\":{\"endlinecolor\":\"#2a3f5f\",\"gridcolor\":\"white\",\"linecolor\":\"white\",\"minorgridcolor\":\"white\",\"startlinecolor\":\"#2a3f5f\"},\"type\":\"carpet\"}],\"table\":[{\"cells\":{\"fill\":{\"color\":\"#EBF0F8\"},\"line\":{\"color\":\"white\"}},\"header\":{\"fill\":{\"color\":\"#C8D4E3\"},\"line\":{\"color\":\"white\"}},\"type\":\"table\"}],\"barpolar\":[{\"marker\":{\"line\":{\"color\":\"#E5ECF6\",\"width\":0.5},\"pattern\":{\"fillmode\":\"overlay\",\"size\":10,\"solidity\":0.2}},\"type\":\"barpolar\"}],\"pie\":[{\"automargin\":true,\"type\":\"pie\"}]},\"layout\":{\"autotypenumbers\":\"strict\",\"colorway\":[\"#636efa\",\"#EF553B\",\"#00cc96\",\"#ab63fa\",\"#FFA15A\",\"#19d3f3\",\"#FF6692\",\"#B6E880\",\"#FF97FF\",\"#FECB52\"],\"font\":{\"color\":\"#2a3f5f\"},\"hovermode\":\"closest\",\"hoverlabel\":{\"align\":\"left\"},\"paper_bgcolor\":\"white\",\"plot_bgcolor\":\"#E5ECF6\",\"polar\":{\"bgcolor\":\"#E5ECF6\",\"angularaxis\":{\"gridcolor\":\"white\",\"linecolor\":\"white\",\"ticks\":\"\"},\"radialaxis\":{\"gridcolor\":\"white\",\"linecolor\":\"white\",\"ticks\":\"\"}},\"ternary\":{\"bgcolor\":\"#E5ECF6\",\"aaxis\":{\"gridcolor\":\"white\",\"linecolor\":\"white\",\"ticks\":\"\"},\"baxis\":{\"gridcolor\":\"white\",\"linecolor\":\"white\",\"ticks\":\"\"},\"caxis\":{\"gridcolor\":\"white\",\"linecolor\":\"white\",\"ticks\":\"\"}},\"coloraxis\":{\"colorbar\":{\"outlinewidth\":0,\"ticks\":\"\"}},\"colorscale\":{\"sequential\":[[0.0,\"#0d0887\"],[0.1111111111111111,\"#46039f\"],[0.2222222222222222,\"#7201a8\"],[0.3333333333333333,\"#9c179e\"],[0.4444444444444444,\"#bd3786\"],[0.5555555555555556,\"#d8576b\"],[0.6666666666666666,\"#ed7953\"],[0.7777777777777778,\"#fb9f3a\"],[0.8888888888888888,\"#fdca26\"],[1.0,\"#f0f921\"]],\"sequentialminus\":[[0.0,\"#0d0887\"],[0.1111111111111111,\"#46039f\"],[0.2222222222222222,\"#7201a8\"],[0.3333333333333333,\"#9c179e\"],[0.4444444444444444,\"#bd3786\"],[0.5555555555555556,\"#d8576b\"],[0.6666666666666666,\"#ed7953\"],[0.7777777777777778,\"#fb9f3a\"],[0.8888888888888888,\"#fdca26\"],[1.0,\"#f0f921\"]],\"diverging\":[[0,\"#8e0152\"],[0.1,\"#c51b7d\"],[0.2,\"#de77ae\"],[0.3,\"#f1b6da\"],[0.4,\"#fde0ef\"],[0.5,\"#f7f7f7\"],[0.6,\"#e6f5d0\"],[0.7,\"#b8e186\"],[0.8,\"#7fbc41\"],[0.9,\"#4d9221\"],[1,\"#276419\"]]},\"xaxis\":{\"gridcolor\":\"white\",\"linecolor\":\"white\",\"ticks\":\"\",\"title\":{\"standoff\":15},\"zerolinecolor\":\"white\",\"automargin\":true,\"zerolinewidth\":2},\"yaxis\":{\"gridcolor\":\"white\",\"linecolor\":\"white\",\"ticks\":\"\",\"title\":{\"standoff\":15},\"zerolinecolor\":\"white\",\"automargin\":true,\"zerolinewidth\":2},\"scene\":{\"xaxis\":{\"backgroundcolor\":\"#E5ECF6\",\"gridcolor\":\"white\",\"linecolor\":\"white\",\"showbackground\":true,\"ticks\":\"\",\"zerolinecolor\":\"white\",\"gridwidth\":2},\"yaxis\":{\"backgroundcolor\":\"#E5ECF6\",\"gridcolor\":\"white\",\"linecolor\":\"white\",\"showbackground\":true,\"ticks\":\"\",\"zerolinecolor\":\"white\",\"gridwidth\":2},\"zaxis\":{\"backgroundcolor\":\"#E5ECF6\",\"gridcolor\":\"white\",\"linecolor\":\"white\",\"showbackground\":true,\"ticks\":\"\",\"zerolinecolor\":\"white\",\"gridwidth\":2}},\"shapedefaults\":{\"line\":{\"color\":\"#2a3f5f\"}},\"annotationdefaults\":{\"arrowcolor\":\"#2a3f5f\",\"arrowhead\":0,\"arrowwidth\":1},\"geo\":{\"bgcolor\":\"white\",\"landcolor\":\"#E5ECF6\",\"subunitcolor\":\"white\",\"showland\":true,\"showlakes\":true,\"lakecolor\":\"white\"},\"title\":{\"x\":0.05},\"mapbox\":{\"style\":\"light\"}}},\"xaxis\":{\"anchor\":\"y\",\"domain\":[0.0,1.0],\"title\":{\"text\":\"\"}},\"yaxis\":{\"anchor\":\"x\",\"domain\":[0.0,1.0],\"title\":{\"text\":\"Anteil entfernter Kacheln\"},\"range\":[0,1]},\"legend\":{\"title\":{\"text\":\"variable\"},\"tracegroupgap\":0},\"margin\":{\"t\":60},\"barmode\":\"relative\",\"shapes\":[{\"type\":\"line\",\"x0\":0,\"x1\":1,\"xref\":\"x domain\",\"y0\":0.34032156807895997,\"y1\":0.34032156807895997,\"yref\":\"y\"},{\"line\":{\"dash\":\"dash\"},\"type\":\"line\",\"x0\":0,\"x1\":1,\"xref\":\"x domain\",\"y0\":0.13685794628965828,\"y1\":0.13685794628965828,\"yref\":\"y\"},{\"line\":{\"dash\":\"dash\"},\"type\":\"line\",\"x0\":0,\"x1\":1,\"xref\":\"x domain\",\"y0\":0.5437851898682616,\"y1\":0.5437851898682616,\"yref\":\"y\"}],\"showlegend\":false},                        {\"responsive\": true}                    ).then(function(){\n",
       "                            \n",
       "var gd = document.getElementById('a2569a26-cf9f-446f-a18a-4b770b16baa4');\n",
       "var x = new MutationObserver(function (mutations, observer) {{\n",
       "        var display = window.getComputedStyle(gd).display;\n",
       "        if (!display || display === 'none') {{\n",
       "            console.log([gd, 'removed!']);\n",
       "            Plotly.purge(gd);\n",
       "            observer.disconnect();\n",
       "        }}\n",
       "}});\n",
       "\n",
       "// Listen for the removal of the full notebook cells\n",
       "var notebookContainer = gd.closest('#notebook-container');\n",
       "if (notebookContainer) {{\n",
       "    x.observe(notebookContainer, {childList: true});\n",
       "}}\n",
       "\n",
       "// Listen for the clearing of the current output cell\n",
       "var outputEl = gd.closest('.output');\n",
       "if (outputEl) {{\n",
       "    x.observe(outputEl, {childList: true});\n",
       "}}\n",
       "\n",
       "                        })                };                });            </script>        </div>"
      ]
     },
     "metadata": {},
     "output_type": "display_data"
    }
   ],
   "source": [
    "fig = px.bar(\n",
    "    results.filtered_share,\n",
    "    color_discrete_sequence=colors['COLOR_SEQUENCE'],\n",
    "    labels={\n",
    "        'index' : '',\n",
    "        'value' : 'Anteil entfernter Kacheln'\n",
    "    }\n",
    ")\n",
    "fig.add_hline(y=results.filtered_share.mean())\n",
    "fig.add_hline(y=results.filtered_share.mean() - results.filtered_share.std(), line_dash=\"dash\")\n",
    "fig.add_hline(y=results.filtered_share.mean() + results.filtered_share.std(), line_dash=\"dash\")\n",
    "\n",
    "fig.update_layout(yaxis_range=[0,1])\n",
    "fig.update_layout(showlegend=False)\n",
    "#fig.update_xaxes(showticklabels=False)\n",
    "\n",
    "fig.write_image( dotenv['ATTACHMENT_DIR'] / 'klassifizierungsmodell' / 'anteil_gefilterter_kacheln.jpg' )\n",
    "\n",
    "fig"
   ]
  },
  {
   "cell_type": "code",
   "execution_count": 63,
   "id": "3fd9c88b-0e2c-477c-93d4-67e91ae125d2",
   "metadata": {},
   "outputs": [
    {
     "data": {
      "text/plain": [
       "(0.34032156807895997, 0.2034636217893017)"
      ]
     },
     "execution_count": 63,
     "metadata": {},
     "output_type": "execute_result"
    }
   ],
   "source": [
    "results.filtered_share.mean(), results.filtered_share.std()"
   ]
  }
 ],
 "metadata": {
  "kernelspec": {
   "display_name": "Python 3 (ipykernel)",
   "language": "python",
   "name": "python3"
  },
  "language_info": {
   "codemirror_mode": {
    "name": "ipython",
    "version": 3
   },
   "file_extension": ".py",
   "mimetype": "text/x-python",
   "name": "python",
   "nbconvert_exporter": "python",
   "pygments_lexer": "ipython3",
   "version": "3.10.11"
  }
 },
 "nbformat": 4,
 "nbformat_minor": 5
}
