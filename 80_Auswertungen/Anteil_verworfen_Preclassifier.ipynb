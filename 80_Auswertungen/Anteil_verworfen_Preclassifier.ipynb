{
 "cells": [
  {
   "cell_type": "code",
   "execution_count": 1,
   "id": "07f7077f-e013-40da-a6cb-93f5f1ca0a5c",
   "metadata": {},
   "outputs": [],
   "source": [
    "import sys\n",
    "sys.path.append('../30_data_tools/')\n",
    "sys.path.append('../60_gebastel/Model/')\n",
    "\n",
    "import sqlite3\n",
    "import pandas as pd\n",
    "from tqdm.auto import tqdm\n",
    "from helper import load_dotenv\n",
    "from file_interaction import get_related_filepath, open_img\n",
    "from classification_tools import preclassifier, cut_img_into_tiles\n",
    "import plotly.express as px"
   ]
  },
  {
   "cell_type": "code",
   "execution_count": 2,
   "id": "044a5a7a-6fb6-4e59-83e3-095f0cd4ac7f",
   "metadata": {},
   "outputs": [],
   "source": [
    "from load_constants import load_colors"
   ]
  },
  {
   "cell_type": "code",
   "execution_count": 3,
   "id": "143bf43d-ff01-44bb-ad4b-1f7102ec6dfb",
   "metadata": {},
   "outputs": [],
   "source": [
    "colors = load_colors()"
   ]
  },
  {
   "cell_type": "code",
   "execution_count": 4,
   "id": "1621c84c-df53-4023-92e4-816beeac32d0",
   "metadata": {},
   "outputs": [],
   "source": [
    "dotenv = load_dotenv()"
   ]
  },
  {
   "cell_type": "code",
   "execution_count": 5,
   "id": "30950aeb-e07c-4fc2-aa4f-2e617f9f81dc",
   "metadata": {},
   "outputs": [],
   "source": [
    "with sqlite3.connect( dotenv['DB_PATH'] ) as con:\n",
    "    data = pd.read_sql(\n",
    "        '''\n",
    "            SELECT * FROM related_file rf \n",
    "            WHERE job='24-03-05-01_randomTrainPages' AND variant_name = 'ps2400dpi150lpi' AND \"type\" = '4c_600' \n",
    "        ''',\n",
    "        con\n",
    "    )"
   ]
  },
  {
   "cell_type": "code",
   "execution_count": 6,
   "id": "2e9711b3-b812-4f7a-b734-813350b3af8f",
   "metadata": {},
   "outputs": [],
   "source": [
    "sample = data.sample(n=250)"
   ]
  },
  {
   "cell_type": "code",
   "execution_count": 8,
   "id": "0d4bce92-71cd-406d-8f43-c2eb99f5cc9b",
   "metadata": {},
   "outputs": [
    {
     "data": {
      "application/vnd.jupyter.widget-view+json": {
       "model_id": "bbcf1971a7894fbd94f6363d30d73384",
       "version_major": 2,
       "version_minor": 0
      },
      "text/plain": [
       "  0%|          | 0/250 [00:00<?, ?it/s]"
      ]
     },
     "metadata": {},
     "output_type": "display_data"
    },
    {
     "name": "stderr",
     "output_type": "stream",
     "text": [
      "/Users/frederic.birwe/Library/Python/3.10/lib/python/site-packages/PIL/Image.py:3186: DecompressionBombWarning: Image size (94312328 pixels) exceeds limit of 89478485 pixels, could be decompression bomb DOS attack.\n",
      "  warnings.warn(\n",
      "/Users/frederic.birwe/Library/Python/3.10/lib/python/site-packages/PIL/Image.py:3186: DecompressionBombWarning: Image size (92981763 pixels) exceeds limit of 89478485 pixels, could be decompression bomb DOS attack.\n",
      "  warnings.warn(\n",
      "/Users/frederic.birwe/Library/Python/3.10/lib/python/site-packages/PIL/Image.py:3186: DecompressionBombWarning: Image size (115387158 pixels) exceeds limit of 89478485 pixels, could be decompression bomb DOS attack.\n",
      "  warnings.warn(\n",
      "/Users/frederic.birwe/Library/Python/3.10/lib/python/site-packages/PIL/Image.py:3186: DecompressionBombWarning: Image size (100665543 pixels) exceeds limit of 89478485 pixels, could be decompression bomb DOS attack.\n",
      "  warnings.warn(\n",
      "/Users/frederic.birwe/Library/Python/3.10/lib/python/site-packages/PIL/Image.py:3186: DecompressionBombWarning: Image size (119990970 pixels) exceeds limit of 89478485 pixels, could be decompression bomb DOS attack.\n",
      "  warnings.warn(\n"
     ]
    }
   ],
   "source": [
    "out = []\n",
    "\n",
    "for i in tqdm(range(sample.shape[0])):\n",
    "    row = sample.iloc[i]\n",
    "\n",
    "    filepath = get_related_filepath(\n",
    "        row.job,\n",
    "        row.variant_name,\n",
    "        f'{ row.pdf_filename }.{ row.type }.jpg'\n",
    "    )\n",
    "    img = open_img( filepath )\n",
    "    tiles = cut_img_into_tiles( img, 600, [300] )\n",
    "    tiles_filtered = preclassifier( tiles )\n",
    "\n",
    "    out.append((\n",
    "        row.name,\n",
    "        len(tiles),\n",
    "        len(tiles_filtered)\n",
    "    ))"
   ]
  },
  {
   "cell_type": "code",
   "execution_count": 9,
   "id": "20a46658-29f7-4ae3-8b4e-bcf21cb6445d",
   "metadata": {},
   "outputs": [
    {
     "data": {
      "text/html": [
       "<div>\n",
       "<style scoped>\n",
       "    .dataframe tbody tr th:only-of-type {\n",
       "        vertical-align: middle;\n",
       "    }\n",
       "\n",
       "    .dataframe tbody tr th {\n",
       "        vertical-align: top;\n",
       "    }\n",
       "\n",
       "    .dataframe thead th {\n",
       "        text-align: right;\n",
       "    }\n",
       "</style>\n",
       "<table border=\"1\" class=\"dataframe\">\n",
       "  <thead>\n",
       "    <tr style=\"text-align: right;\">\n",
       "      <th></th>\n",
       "      <th>data_idx</th>\n",
       "      <th>tiles_found</th>\n",
       "      <th>tiles_filtered</th>\n",
       "      <th>filtered_share</th>\n",
       "    </tr>\n",
       "  </thead>\n",
       "  <tbody>\n",
       "    <tr>\n",
       "      <th>0</th>\n",
       "      <td>1231</td>\n",
       "      <td>251</td>\n",
       "      <td>217</td>\n",
       "      <td>0.135458</td>\n",
       "    </tr>\n",
       "    <tr>\n",
       "      <th>1</th>\n",
       "      <td>1346</td>\n",
       "      <td>373</td>\n",
       "      <td>255</td>\n",
       "      <td>0.316354</td>\n",
       "    </tr>\n",
       "    <tr>\n",
       "      <th>2</th>\n",
       "      <td>1831</td>\n",
       "      <td>233</td>\n",
       "      <td>204</td>\n",
       "      <td>0.124464</td>\n",
       "    </tr>\n",
       "    <tr>\n",
       "      <th>3</th>\n",
       "      <td>77</td>\n",
       "      <td>255</td>\n",
       "      <td>131</td>\n",
       "      <td>0.486275</td>\n",
       "    </tr>\n",
       "    <tr>\n",
       "      <th>4</th>\n",
       "      <td>959</td>\n",
       "      <td>207</td>\n",
       "      <td>163</td>\n",
       "      <td>0.212560</td>\n",
       "    </tr>\n",
       "    <tr>\n",
       "      <th>...</th>\n",
       "      <td>...</td>\n",
       "      <td>...</td>\n",
       "      <td>...</td>\n",
       "      <td>...</td>\n",
       "    </tr>\n",
       "    <tr>\n",
       "      <th>245</th>\n",
       "      <td>743</td>\n",
       "      <td>191</td>\n",
       "      <td>83</td>\n",
       "      <td>0.565445</td>\n",
       "    </tr>\n",
       "    <tr>\n",
       "      <th>246</th>\n",
       "      <td>584</td>\n",
       "      <td>179</td>\n",
       "      <td>139</td>\n",
       "      <td>0.223464</td>\n",
       "    </tr>\n",
       "    <tr>\n",
       "      <th>247</th>\n",
       "      <td>1785</td>\n",
       "      <td>220</td>\n",
       "      <td>127</td>\n",
       "      <td>0.422727</td>\n",
       "    </tr>\n",
       "    <tr>\n",
       "      <th>248</th>\n",
       "      <td>927</td>\n",
       "      <td>191</td>\n",
       "      <td>103</td>\n",
       "      <td>0.460733</td>\n",
       "    </tr>\n",
       "    <tr>\n",
       "      <th>249</th>\n",
       "      <td>692</td>\n",
       "      <td>191</td>\n",
       "      <td>150</td>\n",
       "      <td>0.214660</td>\n",
       "    </tr>\n",
       "  </tbody>\n",
       "</table>\n",
       "<p>250 rows × 4 columns</p>\n",
       "</div>"
      ],
      "text/plain": [
       "     data_idx  tiles_found  tiles_filtered  filtered_share\n",
       "0        1231          251             217        0.135458\n",
       "1        1346          373             255        0.316354\n",
       "2        1831          233             204        0.124464\n",
       "3          77          255             131        0.486275\n",
       "4         959          207             163        0.212560\n",
       "..        ...          ...             ...             ...\n",
       "245       743          191              83        0.565445\n",
       "246       584          179             139        0.223464\n",
       "247      1785          220             127        0.422727\n",
       "248       927          191             103        0.460733\n",
       "249       692          191             150        0.214660\n",
       "\n",
       "[250 rows x 4 columns]"
      ]
     },
     "execution_count": 9,
     "metadata": {},
     "output_type": "execute_result"
    }
   ],
   "source": [
    "results = pd.DataFrame(out, columns=['data_idx','tiles_found','tiles_filtered'])\n",
    "results.loc[\n",
    "    :,\n",
    "    'filtered_share'\n",
    "] = 1 - (results.tiles_filtered / results.tiles_found)\n",
    "\n",
    "results"
   ]
  },
  {
   "cell_type": "code",
   "execution_count": 22,
   "id": "ece3ef65-be65-4ed8-ad4e-305221388955",
   "metadata": {},
   "outputs": [
    {
     "data": {
      "application/vnd.plotly.v1+json": {
       "config": {
        "plotlyServerURL": "https://plot.ly"
       },
       "data": [
        {
         "alignmentgroup": "True",
         "hovertemplate": "variable=filtered_share<br>geprüfte Seiten=%{x}<br>Anteil entfernter Kacheln=%{y}<extra></extra>",
         "legendgroup": "filtered_share",
         "marker": {
          "color": "#98bfd8",
          "pattern": {
           "shape": ""
          }
         },
         "name": "filtered_share",
         "offsetgroup": "filtered_share",
         "orientation": "v",
         "showlegend": true,
         "textposition": "auto",
         "type": "bar",
         "x": [
          0,
          1,
          2,
          3,
          4,
          5,
          6,
          7,
          8,
          9,
          10,
          11,
          12,
          13,
          14,
          15,
          16,
          17,
          18,
          19,
          20,
          21,
          22,
          23,
          24,
          25,
          26,
          27,
          28,
          29,
          30,
          31,
          32,
          33,
          34,
          35,
          36,
          37,
          38,
          39,
          40,
          41,
          42,
          43,
          44,
          45,
          46,
          47,
          48,
          49,
          50,
          51,
          52,
          53,
          54,
          55,
          56,
          57,
          58,
          59,
          60,
          61,
          62,
          63,
          64,
          65,
          66,
          67,
          68,
          69,
          70,
          71,
          72,
          73,
          74,
          75,
          76,
          77,
          78,
          79,
          80,
          81,
          82,
          83,
          84,
          85,
          86,
          87,
          88,
          89,
          90,
          91,
          92,
          93,
          94,
          95,
          96,
          97,
          98,
          99,
          100,
          101,
          102,
          103,
          104,
          105,
          106,
          107,
          108,
          109,
          110,
          111,
          112,
          113,
          114,
          115,
          116,
          117,
          118,
          119,
          120,
          121,
          122,
          123,
          124,
          125,
          126,
          127,
          128,
          129,
          130,
          131,
          132,
          133,
          134,
          135,
          136,
          137,
          138,
          139,
          140,
          141,
          142,
          143,
          144,
          145,
          146,
          147,
          148,
          149,
          150,
          151,
          152,
          153,
          154,
          155,
          156,
          157,
          158,
          159,
          160,
          161,
          162,
          163,
          164,
          165,
          166,
          167,
          168,
          169,
          170,
          171,
          172,
          173,
          174,
          175,
          176,
          177,
          178,
          179,
          180,
          181,
          182,
          183,
          184,
          185,
          186,
          187,
          188,
          189,
          190,
          191,
          192,
          193,
          194,
          195,
          196,
          197,
          198,
          199,
          200,
          201,
          202,
          203,
          204,
          205,
          206,
          207,
          208,
          209,
          210,
          211,
          212,
          213,
          214,
          215,
          216,
          217,
          218,
          219,
          220,
          221,
          222,
          223,
          224,
          225,
          226,
          227,
          228,
          229,
          230,
          231,
          232,
          233,
          234,
          235,
          236,
          237,
          238,
          239,
          240,
          241,
          242,
          243,
          244,
          245,
          246,
          247,
          248,
          249
         ],
         "xaxis": "x",
         "y": [
          0.13545816733067728,
          0.3163538873994638,
          0.12446351931330468,
          0.4862745098039216,
          0.2125603864734299,
          0.43349753694581283,
          0.3961352657004831,
          0.2178770949720671,
          0.11952191235059761,
          0.5364806866952789,
          0.2857142857142857,
          0.13812154696132595,
          0.4763948497854077,
          0.23711340206185572,
          0.7294685990338164,
          0.189873417721519,
          0.6681818181818182,
          0.5549738219895288,
          0.45410628019323673,
          0.1820128479657388,
          0.21182266009852213,
          0.48636363636363633,
          0.35,
          0.6334661354581673,
          0.4782608695652174,
          0.5193133047210301,
          0.12727272727272732,
          0.5130890052356021,
          0.2837209302325582,
          0.3862660944206009,
          0.22346368715083798,
          0.4782608695652174,
          0.21182266009852213,
          0.5235602094240838,
          0.31645569620253167,
          0.6649214659685864,
          0.3091787439613527,
          0.3036649214659686,
          0.2028985507246377,
          0.20430107526881724,
          0.65,
          0.3363636363636363,
          0.47643979057591623,
          0.6806282722513088,
          0.36480686695278974,
          0.240506329113924,
          0.7290836653386454,
          0.16330275229357794,
          0.552278820375335,
          0.2560386473429952,
          0.28270042194092826,
          0.189873417721519,
          0.2122905027932961,
          0.37130801687763715,
          0.240506329113924,
          0.5555555555555556,
          0.2945736434108527,
          0.6288659793814433,
          0.3351206434316354,
          0.1394422310756972,
          0.4973821989528796,
          0.11811023622047245,
          0.6230366492146597,
          0.5797101449275363,
          0.12727272727272732,
          0.22619047619047616,
          0.34545454545454546,
          0.2532188841201717,
          0.5378486055776892,
          0.3816425120772947,
          0.14634146341463417,
          0.6834532374100719,
          0.48309178743961356,
          0.13966480446927376,
          0.17322834645669294,
          0.7045454545454546,
          0.5748792270531401,
          0.3665338645418327,
          0.2146596858638743,
          0.23636363636363633,
          0.6954545454545454,
          0.7769784172661871,
          0.6812749003984064,
          0.2774869109947644,
          0.189873417721519,
          0.6175298804780877,
          0.6387434554973822,
          0.240506329113924,
          0.4727272727272728,
          0.38247011952191234,
          0.4046511627906977,
          0.5755395683453237,
          0.3091787439613527,
          0.5072463768115942,
          0.2230215827338129,
          0.189873417721519,
          0.2676056338028169,
          0.22023809523809523,
          0.2275574112734864,
          0.6231884057971014,
          0.19371727748691103,
          0.4024390243902439,
          0.5555555555555556,
          0.32272727272727275,
          0.3643122676579925,
          0.3228699551569507,
          0.25130890052356025,
          0.6371308016877637,
          0.12727272727272732,
          0.15000000000000002,
          0.189873417721519,
          0.536231884057971,
          0.39790575916230364,
          0.4345549738219895,
          0.20731707317073167,
          0.25,
          0.740909090909091,
          0.46818181818181814,
          0.2774869109947644,
          0.24390243902439024,
          0.25,
          0.41630901287553645,
          0.26046511627906976,
          0.1413612565445026,
          0.6055776892430279,
          0.2028985507246377,
          0.31413612565445026,
          0.33507853403141363,
          0.4589371980676329,
          0.6160337552742616,
          0.17277486910994766,
          0.6958762886597938,
          0.12727272727272732,
          0.2178770949720671,
          0.2863636363636364,
          0.5555555555555556,
          0.2993039443155452,
          0.4954545454545455,
          0.23036649214659688,
          0.3664921465968587,
          0.5985915492957746,
          0.4869109947643979,
          0.3119266055045872,
          0.21468926553672318,
          0.6806282722513088,
          0.5657370517928286,
          0.14857142857142858,
          0.43292682926829273,
          0.2560386473429952,
          0.5078534031413613,
          0.549800796812749,
          0.3755274261603375,
          0.541899441340782,
          0.12727272727272732,
          0.5409090909090909,
          0.7783505154639175,
          0.13526570048309183,
          0.46376811594202894,
          0.13043478260869568,
          0.6094420600858369,
          0.4240837696335078,
          0.4043956043956044,
          0.7318181818181818,
          0.30454545454545456,
          0.12727272727272732,
          0.4494773519163763,
          0.19282511210762332,
          0.2350597609561753,
          0.2093023255813954,
          0.23036649214659688,
          0.3183856502242153,
          0.3122362869198312,
          0.21052631578947367,
          0.14880952380952384,
          0.5217391304347826,
          0.2959641255605381,
          0.189873417721519,
          0.240506329113924,
          0.13636363636363635,
          0.4636363636363636,
          0.2146596858638743,
          0.33439490445859876,
          0.18181818181818177,
          0.15032679738562094,
          0.21182266009852213,
          0.2879581151832461,
          0.5392670157068062,
          0.2146596858638743,
          0.12727272727272732,
          0.189873417721519,
          0.2774869109947644,
          0.24472573839662448,
          0.1872509960159362,
          0.3188405797101449,
          0.189873417721519,
          0.5968586387434556,
          0.4571428571428572,
          0.5154639175257731,
          0.41286863270777485,
          0.27091633466135456,
          0.3850746268656716,
          0.5748792270531401,
          0.21182266009852213,
          0.36818181818181817,
          0.20441988950276246,
          0.2774869109947644,
          0.12727272727272732,
          0.2995169082125604,
          0.41726618705035967,
          0.5443037974683544,
          0.19892473118279574,
          0.45549738219895286,
          0.12727272727272732,
          0.35,
          0.5507246376811594,
          0.23799582463465552,
          0.33592534992223955,
          0.4879227053140096,
          0.6455696202531646,
          0.11304347826086958,
          0.4052044609665427,
          0.45549738219895286,
          0.4422310756972112,
          0.6394849785407726,
          0.3955773955773956,
          0.2918454935622318,
          0.4397905759162304,
          0.29147982062780264,
          0.3429951690821256,
          0.38219895287958117,
          0.40096618357487923,
          0.2753623188405797,
          0.18181818181818177,
          0.32984293193717273,
          0.1236959761549925,
          0.18781725888324874,
          0.7639484978540773,
          0.1863636363636364,
          0.2560386473429952,
          0.4334763948497854,
          0.09999999999999998,
          0.44303797468354433,
          0.648068669527897,
          0.1872509960159362,
          0.22857142857142854,
          0.5654450261780104,
          0.22346368715083798,
          0.42272727272727273,
          0.46073298429319376,
          0.2146596858638743
         ],
         "yaxis": "y"
        }
       ],
       "layout": {
        "barmode": "relative",
        "height": 300,
        "legend": {
         "title": {
          "text": "variable"
         },
         "tracegroupgap": 0
        },
        "margin": {
         "t": 60
        },
        "shapes": [
         {
          "line": {
           "color": "#1f6a88"
          },
          "type": "line",
          "x0": 0,
          "x1": 1,
          "xref": "x domain",
          "y0": 0.36095154468862345,
          "y1": 0.36095154468862345,
          "yref": "y"
         },
         {
          "line": {
           "color": "#1f6a88",
           "dash": "dash"
          },
          "type": "line",
          "x0": 0,
          "x1": 1,
          "xref": "x domain",
          "y0": 0.18725922237641623,
          "y1": 0.18725922237641623,
          "yref": "y"
         },
         {
          "line": {
           "color": "#1f6a88",
           "dash": "dash"
          },
          "type": "line",
          "x0": 0,
          "x1": 1,
          "xref": "x domain",
          "y0": 0.5346438670008307,
          "y1": 0.5346438670008307,
          "yref": "y"
         }
        ],
        "showlegend": false,
        "template": {
         "data": {
          "bar": [
           {
            "error_x": {
             "color": "#2a3f5f"
            },
            "error_y": {
             "color": "#2a3f5f"
            },
            "marker": {
             "line": {
              "color": "#E5ECF6",
              "width": 0.5
             },
             "pattern": {
              "fillmode": "overlay",
              "size": 10,
              "solidity": 0.2
             }
            },
            "type": "bar"
           }
          ],
          "barpolar": [
           {
            "marker": {
             "line": {
              "color": "#E5ECF6",
              "width": 0.5
             },
             "pattern": {
              "fillmode": "overlay",
              "size": 10,
              "solidity": 0.2
             }
            },
            "type": "barpolar"
           }
          ],
          "carpet": [
           {
            "aaxis": {
             "endlinecolor": "#2a3f5f",
             "gridcolor": "white",
             "linecolor": "white",
             "minorgridcolor": "white",
             "startlinecolor": "#2a3f5f"
            },
            "baxis": {
             "endlinecolor": "#2a3f5f",
             "gridcolor": "white",
             "linecolor": "white",
             "minorgridcolor": "white",
             "startlinecolor": "#2a3f5f"
            },
            "type": "carpet"
           }
          ],
          "choropleth": [
           {
            "colorbar": {
             "outlinewidth": 0,
             "ticks": ""
            },
            "type": "choropleth"
           }
          ],
          "contour": [
           {
            "colorbar": {
             "outlinewidth": 0,
             "ticks": ""
            },
            "colorscale": [
             [
              0,
              "#0d0887"
             ],
             [
              0.1111111111111111,
              "#46039f"
             ],
             [
              0.2222222222222222,
              "#7201a8"
             ],
             [
              0.3333333333333333,
              "#9c179e"
             ],
             [
              0.4444444444444444,
              "#bd3786"
             ],
             [
              0.5555555555555556,
              "#d8576b"
             ],
             [
              0.6666666666666666,
              "#ed7953"
             ],
             [
              0.7777777777777778,
              "#fb9f3a"
             ],
             [
              0.8888888888888888,
              "#fdca26"
             ],
             [
              1,
              "#f0f921"
             ]
            ],
            "type": "contour"
           }
          ],
          "contourcarpet": [
           {
            "colorbar": {
             "outlinewidth": 0,
             "ticks": ""
            },
            "type": "contourcarpet"
           }
          ],
          "heatmap": [
           {
            "colorbar": {
             "outlinewidth": 0,
             "ticks": ""
            },
            "colorscale": [
             [
              0,
              "#0d0887"
             ],
             [
              0.1111111111111111,
              "#46039f"
             ],
             [
              0.2222222222222222,
              "#7201a8"
             ],
             [
              0.3333333333333333,
              "#9c179e"
             ],
             [
              0.4444444444444444,
              "#bd3786"
             ],
             [
              0.5555555555555556,
              "#d8576b"
             ],
             [
              0.6666666666666666,
              "#ed7953"
             ],
             [
              0.7777777777777778,
              "#fb9f3a"
             ],
             [
              0.8888888888888888,
              "#fdca26"
             ],
             [
              1,
              "#f0f921"
             ]
            ],
            "type": "heatmap"
           }
          ],
          "heatmapgl": [
           {
            "colorbar": {
             "outlinewidth": 0,
             "ticks": ""
            },
            "colorscale": [
             [
              0,
              "#0d0887"
             ],
             [
              0.1111111111111111,
              "#46039f"
             ],
             [
              0.2222222222222222,
              "#7201a8"
             ],
             [
              0.3333333333333333,
              "#9c179e"
             ],
             [
              0.4444444444444444,
              "#bd3786"
             ],
             [
              0.5555555555555556,
              "#d8576b"
             ],
             [
              0.6666666666666666,
              "#ed7953"
             ],
             [
              0.7777777777777778,
              "#fb9f3a"
             ],
             [
              0.8888888888888888,
              "#fdca26"
             ],
             [
              1,
              "#f0f921"
             ]
            ],
            "type": "heatmapgl"
           }
          ],
          "histogram": [
           {
            "marker": {
             "pattern": {
              "fillmode": "overlay",
              "size": 10,
              "solidity": 0.2
             }
            },
            "type": "histogram"
           }
          ],
          "histogram2d": [
           {
            "colorbar": {
             "outlinewidth": 0,
             "ticks": ""
            },
            "colorscale": [
             [
              0,
              "#0d0887"
             ],
             [
              0.1111111111111111,
              "#46039f"
             ],
             [
              0.2222222222222222,
              "#7201a8"
             ],
             [
              0.3333333333333333,
              "#9c179e"
             ],
             [
              0.4444444444444444,
              "#bd3786"
             ],
             [
              0.5555555555555556,
              "#d8576b"
             ],
             [
              0.6666666666666666,
              "#ed7953"
             ],
             [
              0.7777777777777778,
              "#fb9f3a"
             ],
             [
              0.8888888888888888,
              "#fdca26"
             ],
             [
              1,
              "#f0f921"
             ]
            ],
            "type": "histogram2d"
           }
          ],
          "histogram2dcontour": [
           {
            "colorbar": {
             "outlinewidth": 0,
             "ticks": ""
            },
            "colorscale": [
             [
              0,
              "#0d0887"
             ],
             [
              0.1111111111111111,
              "#46039f"
             ],
             [
              0.2222222222222222,
              "#7201a8"
             ],
             [
              0.3333333333333333,
              "#9c179e"
             ],
             [
              0.4444444444444444,
              "#bd3786"
             ],
             [
              0.5555555555555556,
              "#d8576b"
             ],
             [
              0.6666666666666666,
              "#ed7953"
             ],
             [
              0.7777777777777778,
              "#fb9f3a"
             ],
             [
              0.8888888888888888,
              "#fdca26"
             ],
             [
              1,
              "#f0f921"
             ]
            ],
            "type": "histogram2dcontour"
           }
          ],
          "mesh3d": [
           {
            "colorbar": {
             "outlinewidth": 0,
             "ticks": ""
            },
            "type": "mesh3d"
           }
          ],
          "parcoords": [
           {
            "line": {
             "colorbar": {
              "outlinewidth": 0,
              "ticks": ""
             }
            },
            "type": "parcoords"
           }
          ],
          "pie": [
           {
            "automargin": true,
            "type": "pie"
           }
          ],
          "scatter": [
           {
            "fillpattern": {
             "fillmode": "overlay",
             "size": 10,
             "solidity": 0.2
            },
            "type": "scatter"
           }
          ],
          "scatter3d": [
           {
            "line": {
             "colorbar": {
              "outlinewidth": 0,
              "ticks": ""
             }
            },
            "marker": {
             "colorbar": {
              "outlinewidth": 0,
              "ticks": ""
             }
            },
            "type": "scatter3d"
           }
          ],
          "scattercarpet": [
           {
            "marker": {
             "colorbar": {
              "outlinewidth": 0,
              "ticks": ""
             }
            },
            "type": "scattercarpet"
           }
          ],
          "scattergeo": [
           {
            "marker": {
             "colorbar": {
              "outlinewidth": 0,
              "ticks": ""
             }
            },
            "type": "scattergeo"
           }
          ],
          "scattergl": [
           {
            "marker": {
             "colorbar": {
              "outlinewidth": 0,
              "ticks": ""
             }
            },
            "type": "scattergl"
           }
          ],
          "scattermapbox": [
           {
            "marker": {
             "colorbar": {
              "outlinewidth": 0,
              "ticks": ""
             }
            },
            "type": "scattermapbox"
           }
          ],
          "scatterpolar": [
           {
            "marker": {
             "colorbar": {
              "outlinewidth": 0,
              "ticks": ""
             }
            },
            "type": "scatterpolar"
           }
          ],
          "scatterpolargl": [
           {
            "marker": {
             "colorbar": {
              "outlinewidth": 0,
              "ticks": ""
             }
            },
            "type": "scatterpolargl"
           }
          ],
          "scatterternary": [
           {
            "marker": {
             "colorbar": {
              "outlinewidth": 0,
              "ticks": ""
             }
            },
            "type": "scatterternary"
           }
          ],
          "surface": [
           {
            "colorbar": {
             "outlinewidth": 0,
             "ticks": ""
            },
            "colorscale": [
             [
              0,
              "#0d0887"
             ],
             [
              0.1111111111111111,
              "#46039f"
             ],
             [
              0.2222222222222222,
              "#7201a8"
             ],
             [
              0.3333333333333333,
              "#9c179e"
             ],
             [
              0.4444444444444444,
              "#bd3786"
             ],
             [
              0.5555555555555556,
              "#d8576b"
             ],
             [
              0.6666666666666666,
              "#ed7953"
             ],
             [
              0.7777777777777778,
              "#fb9f3a"
             ],
             [
              0.8888888888888888,
              "#fdca26"
             ],
             [
              1,
              "#f0f921"
             ]
            ],
            "type": "surface"
           }
          ],
          "table": [
           {
            "cells": {
             "fill": {
              "color": "#EBF0F8"
             },
             "line": {
              "color": "white"
             }
            },
            "header": {
             "fill": {
              "color": "#C8D4E3"
             },
             "line": {
              "color": "white"
             }
            },
            "type": "table"
           }
          ]
         },
         "layout": {
          "annotationdefaults": {
           "arrowcolor": "#2a3f5f",
           "arrowhead": 0,
           "arrowwidth": 1
          },
          "autotypenumbers": "strict",
          "coloraxis": {
           "colorbar": {
            "outlinewidth": 0,
            "ticks": ""
           }
          },
          "colorscale": {
           "diverging": [
            [
             0,
             "#8e0152"
            ],
            [
             0.1,
             "#c51b7d"
            ],
            [
             0.2,
             "#de77ae"
            ],
            [
             0.3,
             "#f1b6da"
            ],
            [
             0.4,
             "#fde0ef"
            ],
            [
             0.5,
             "#f7f7f7"
            ],
            [
             0.6,
             "#e6f5d0"
            ],
            [
             0.7,
             "#b8e186"
            ],
            [
             0.8,
             "#7fbc41"
            ],
            [
             0.9,
             "#4d9221"
            ],
            [
             1,
             "#276419"
            ]
           ],
           "sequential": [
            [
             0,
             "#0d0887"
            ],
            [
             0.1111111111111111,
             "#46039f"
            ],
            [
             0.2222222222222222,
             "#7201a8"
            ],
            [
             0.3333333333333333,
             "#9c179e"
            ],
            [
             0.4444444444444444,
             "#bd3786"
            ],
            [
             0.5555555555555556,
             "#d8576b"
            ],
            [
             0.6666666666666666,
             "#ed7953"
            ],
            [
             0.7777777777777778,
             "#fb9f3a"
            ],
            [
             0.8888888888888888,
             "#fdca26"
            ],
            [
             1,
             "#f0f921"
            ]
           ],
           "sequentialminus": [
            [
             0,
             "#0d0887"
            ],
            [
             0.1111111111111111,
             "#46039f"
            ],
            [
             0.2222222222222222,
             "#7201a8"
            ],
            [
             0.3333333333333333,
             "#9c179e"
            ],
            [
             0.4444444444444444,
             "#bd3786"
            ],
            [
             0.5555555555555556,
             "#d8576b"
            ],
            [
             0.6666666666666666,
             "#ed7953"
            ],
            [
             0.7777777777777778,
             "#fb9f3a"
            ],
            [
             0.8888888888888888,
             "#fdca26"
            ],
            [
             1,
             "#f0f921"
            ]
           ]
          },
          "colorway": [
           "#636efa",
           "#EF553B",
           "#00cc96",
           "#ab63fa",
           "#FFA15A",
           "#19d3f3",
           "#FF6692",
           "#B6E880",
           "#FF97FF",
           "#FECB52"
          ],
          "font": {
           "color": "#2a3f5f"
          },
          "geo": {
           "bgcolor": "white",
           "lakecolor": "white",
           "landcolor": "#E5ECF6",
           "showlakes": true,
           "showland": true,
           "subunitcolor": "white"
          },
          "hoverlabel": {
           "align": "left"
          },
          "hovermode": "closest",
          "mapbox": {
           "style": "light"
          },
          "paper_bgcolor": "white",
          "plot_bgcolor": "#E5ECF6",
          "polar": {
           "angularaxis": {
            "gridcolor": "white",
            "linecolor": "white",
            "ticks": ""
           },
           "bgcolor": "#E5ECF6",
           "radialaxis": {
            "gridcolor": "white",
            "linecolor": "white",
            "ticks": ""
           }
          },
          "scene": {
           "xaxis": {
            "backgroundcolor": "#E5ECF6",
            "gridcolor": "white",
            "gridwidth": 2,
            "linecolor": "white",
            "showbackground": true,
            "ticks": "",
            "zerolinecolor": "white"
           },
           "yaxis": {
            "backgroundcolor": "#E5ECF6",
            "gridcolor": "white",
            "gridwidth": 2,
            "linecolor": "white",
            "showbackground": true,
            "ticks": "",
            "zerolinecolor": "white"
           },
           "zaxis": {
            "backgroundcolor": "#E5ECF6",
            "gridcolor": "white",
            "gridwidth": 2,
            "linecolor": "white",
            "showbackground": true,
            "ticks": "",
            "zerolinecolor": "white"
           }
          },
          "shapedefaults": {
           "line": {
            "color": "#2a3f5f"
           }
          },
          "ternary": {
           "aaxis": {
            "gridcolor": "white",
            "linecolor": "white",
            "ticks": ""
           },
           "baxis": {
            "gridcolor": "white",
            "linecolor": "white",
            "ticks": ""
           },
           "bgcolor": "#E5ECF6",
           "caxis": {
            "gridcolor": "white",
            "linecolor": "white",
            "ticks": ""
           }
          },
          "title": {
           "x": 0.05
          },
          "xaxis": {
           "automargin": true,
           "gridcolor": "white",
           "linecolor": "white",
           "ticks": "",
           "title": {
            "standoff": 15
           },
           "zerolinecolor": "white",
           "zerolinewidth": 2
          },
          "yaxis": {
           "automargin": true,
           "gridcolor": "white",
           "linecolor": "white",
           "ticks": "",
           "title": {
            "standoff": 15
           },
           "zerolinecolor": "white",
           "zerolinewidth": 2
          }
         }
        },
        "width": 900,
        "xaxis": {
         "anchor": "y",
         "autorange": true,
         "domain": [
          0,
          1
         ],
         "range": [
          -0.5,
          249.5
         ],
         "showticklabels": false,
         "title": {
          "text": "geprüfte Seiten"
         },
         "type": "linear"
        },
        "yaxis": {
         "anchor": "x",
         "domain": [
          0,
          1
         ],
         "range": [
          0,
          1
         ],
         "title": {
          "text": "Anteil entfernter Kacheln"
         },
         "type": "linear"
        }
       }
      },
      "image/png": "[encoded data removed]",
      "text/html": [
       "<div>                            <div id=\"9f55fc5d-3385-488f-bf13-9b5bb89bab22\" class=\"plotly-graph-div\" style=\"height:300px; width:900px;\"></div>            <script type=\"text/javascript\">                require([\"plotly\"], function(Plotly) {                    window.PLOTLYENV=window.PLOTLYENV || {};                                    if (document.getElementById(\"9f55fc5d-3385-488f-bf13-9b5bb89bab22\")) {                    Plotly.newPlot(                        \"9f55fc5d-3385-488f-bf13-9b5bb89bab22\",                        [{\"alignmentgroup\":\"True\",\"hovertemplate\":\"variable=filtered_share\\u003cbr\\u003egepr\\u00fcfte Seiten=%{x}\\u003cbr\\u003eAnteil entfernter Kacheln=%{y}\\u003cextra\\u003e\\u003c\\u002fextra\\u003e\",\"legendgroup\":\"filtered_share\",\"marker\":{\"color\":\"#98bfd8\",\"pattern\":{\"shape\":\"\"}},\"name\":\"filtered_share\",\"offsetgroup\":\"filtered_share\",\"orientation\":\"v\",\"showlegend\":true,\"textposition\":\"auto\",\"x\":[0,1,2,3,4,5,6,7,8,9,10,11,12,13,14,15,16,17,18,19,20,21,22,23,24,25,26,27,28,29,30,31,32,33,34,35,36,37,38,39,40,41,42,43,44,45,46,47,48,49,50,51,52,53,54,55,56,57,58,59,60,61,62,63,64,65,66,67,68,69,70,71,72,73,74,75,76,77,78,79,80,81,82,83,84,85,86,87,88,89,90,91,92,93,94,95,96,97,98,99,100,101,102,103,104,105,106,107,108,109,110,111,112,113,114,115,116,117,118,119,120,121,122,123,124,125,126,127,128,129,130,131,132,133,134,135,136,137,138,139,140,141,142,143,144,145,146,147,148,149,150,151,152,153,154,155,156,157,158,159,160,161,162,163,164,165,166,167,168,169,170,171,172,173,174,175,176,177,178,179,180,181,182,183,184,185,186,187,188,189,190,191,192,193,194,195,196,197,198,199,200,201,202,203,204,205,206,207,208,209,210,211,212,213,214,215,216,217,218,219,220,221,222,223,224,225,226,227,228,229,230,231,232,233,234,235,236,237,238,239,240,241,242,243,244,245,246,247,248,249],\"xaxis\":\"x\",\"y\":[0.13545816733067728,0.3163538873994638,0.12446351931330468,0.4862745098039216,0.2125603864734299,0.43349753694581283,0.3961352657004831,0.2178770949720671,0.11952191235059761,0.5364806866952789,0.2857142857142857,0.13812154696132595,0.4763948497854077,0.23711340206185572,0.7294685990338164,0.189873417721519,0.6681818181818182,0.5549738219895288,0.45410628019323673,0.1820128479657388,0.21182266009852213,0.48636363636363633,0.35,0.6334661354581673,0.4782608695652174,0.5193133047210301,0.12727272727272732,0.5130890052356021,0.2837209302325582,0.3862660944206009,0.22346368715083798,0.4782608695652174,0.21182266009852213,0.5235602094240838,0.31645569620253167,0.6649214659685864,0.3091787439613527,0.3036649214659686,0.2028985507246377,0.20430107526881724,0.65,0.3363636363636363,0.47643979057591623,0.6806282722513088,0.36480686695278974,0.240506329113924,0.7290836653386454,0.16330275229357794,0.552278820375335,0.2560386473429952,0.28270042194092826,0.189873417721519,0.2122905027932961,0.37130801687763715,0.240506329113924,0.5555555555555556,0.2945736434108527,0.6288659793814433,0.3351206434316354,0.1394422310756972,0.4973821989528796,0.11811023622047245,0.6230366492146597,0.5797101449275363,0.12727272727272732,0.22619047619047616,0.34545454545454546,0.2532188841201717,0.5378486055776892,0.3816425120772947,0.14634146341463417,0.6834532374100719,0.48309178743961356,0.13966480446927376,0.17322834645669294,0.7045454545454546,0.5748792270531401,0.3665338645418327,0.2146596858638743,0.23636363636363633,0.6954545454545454,0.7769784172661871,0.6812749003984064,0.2774869109947644,0.189873417721519,0.6175298804780877,0.6387434554973822,0.240506329113924,0.4727272727272728,0.38247011952191234,0.4046511627906977,0.5755395683453237,0.3091787439613527,0.5072463768115942,0.2230215827338129,0.189873417721519,0.2676056338028169,0.22023809523809523,0.2275574112734864,0.6231884057971014,0.19371727748691103,0.4024390243902439,0.5555555555555556,0.32272727272727275,0.3643122676579925,0.3228699551569507,0.25130890052356025,0.6371308016877637,0.12727272727272732,0.15000000000000002,0.189873417721519,0.536231884057971,0.39790575916230364,0.4345549738219895,0.20731707317073167,0.25,0.740909090909091,0.46818181818181814,0.2774869109947644,0.24390243902439024,0.25,0.41630901287553645,0.26046511627906976,0.1413612565445026,0.6055776892430279,0.2028985507246377,0.31413612565445026,0.33507853403141363,0.4589371980676329,0.6160337552742616,0.17277486910994766,0.6958762886597938,0.12727272727272732,0.2178770949720671,0.2863636363636364,0.5555555555555556,0.2993039443155452,0.4954545454545455,0.23036649214659688,0.3664921465968587,0.5985915492957746,0.4869109947643979,0.3119266055045872,0.21468926553672318,0.6806282722513088,0.5657370517928286,0.14857142857142858,0.43292682926829273,0.2560386473429952,0.5078534031413613,0.549800796812749,0.3755274261603375,0.541899441340782,0.12727272727272732,0.5409090909090909,0.7783505154639175,0.13526570048309183,0.46376811594202894,0.13043478260869568,0.6094420600858369,0.4240837696335078,0.4043956043956044,0.7318181818181818,0.30454545454545456,0.12727272727272732,0.4494773519163763,0.19282511210762332,0.2350597609561753,0.2093023255813954,0.23036649214659688,0.3183856502242153,0.3122362869198312,0.21052631578947367,0.14880952380952384,0.5217391304347826,0.2959641255605381,0.189873417721519,0.240506329113924,0.13636363636363635,0.4636363636363636,0.2146596858638743,0.33439490445859876,0.18181818181818177,0.15032679738562094,0.21182266009852213,0.2879581151832461,0.5392670157068062,0.2146596858638743,0.12727272727272732,0.189873417721519,0.2774869109947644,0.24472573839662448,0.1872509960159362,0.3188405797101449,0.189873417721519,0.5968586387434556,0.4571428571428572,0.5154639175257731,0.41286863270777485,0.27091633466135456,0.3850746268656716,0.5748792270531401,0.21182266009852213,0.36818181818181817,0.20441988950276246,0.2774869109947644,0.12727272727272732,0.2995169082125604,0.41726618705035967,0.5443037974683544,0.19892473118279574,0.45549738219895286,0.12727272727272732,0.35,0.5507246376811594,0.23799582463465552,0.33592534992223955,0.4879227053140096,0.6455696202531646,0.11304347826086958,0.4052044609665427,0.45549738219895286,0.4422310756972112,0.6394849785407726,0.3955773955773956,0.2918454935622318,0.4397905759162304,0.29147982062780264,0.3429951690821256,0.38219895287958117,0.40096618357487923,0.2753623188405797,0.18181818181818177,0.32984293193717273,0.1236959761549925,0.18781725888324874,0.7639484978540773,0.1863636363636364,0.2560386473429952,0.4334763948497854,0.09999999999999998,0.44303797468354433,0.648068669527897,0.1872509960159362,0.22857142857142854,0.5654450261780104,0.22346368715083798,0.42272727272727273,0.46073298429319376,0.2146596858638743],\"yaxis\":\"y\",\"type\":\"bar\"}],                        {\"template\":{\"data\":{\"histogram2dcontour\":[{\"type\":\"histogram2dcontour\",\"colorbar\":{\"outlinewidth\":0,\"ticks\":\"\"},\"colorscale\":[[0.0,\"#0d0887\"],[0.1111111111111111,\"#46039f\"],[0.2222222222222222,\"#7201a8\"],[0.3333333333333333,\"#9c179e\"],[0.4444444444444444,\"#bd3786\"],[0.5555555555555556,\"#d8576b\"],[0.6666666666666666,\"#ed7953\"],[0.7777777777777778,\"#fb9f3a\"],[0.8888888888888888,\"#fdca26\"],[1.0,\"#f0f921\"]]}],\"choropleth\":[{\"type\":\"choropleth\",\"colorbar\":{\"outlinewidth\":0,\"ticks\":\"\"}}],\"histogram2d\":[{\"type\":\"histogram2d\",\"colorbar\":{\"outlinewidth\":0,\"ticks\":\"\"},\"colorscale\":[[0.0,\"#0d0887\"],[0.1111111111111111,\"#46039f\"],[0.2222222222222222,\"#7201a8\"],[0.3333333333333333,\"#9c179e\"],[0.4444444444444444,\"#bd3786\"],[0.5555555555555556,\"#d8576b\"],[0.6666666666666666,\"#ed7953\"],[0.7777777777777778,\"#fb9f3a\"],[0.8888888888888888,\"#fdca26\"],[1.0,\"#f0f921\"]]}],\"heatmap\":[{\"type\":\"heatmap\",\"colorbar\":{\"outlinewidth\":0,\"ticks\":\"\"},\"colorscale\":[[0.0,\"#0d0887\"],[0.1111111111111111,\"#46039f\"],[0.2222222222222222,\"#7201a8\"],[0.3333333333333333,\"#9c179e\"],[0.4444444444444444,\"#bd3786\"],[0.5555555555555556,\"#d8576b\"],[0.6666666666666666,\"#ed7953\"],[0.7777777777777778,\"#fb9f3a\"],[0.8888888888888888,\"#fdca26\"],[1.0,\"#f0f921\"]]}],\"heatmapgl\":[{\"type\":\"heatmapgl\",\"colorbar\":{\"outlinewidth\":0,\"ticks\":\"\"},\"colorscale\":[[0.0,\"#0d0887\"],[0.1111111111111111,\"#46039f\"],[0.2222222222222222,\"#7201a8\"],[0.3333333333333333,\"#9c179e\"],[0.4444444444444444,\"#bd3786\"],[0.5555555555555556,\"#d8576b\"],[0.6666666666666666,\"#ed7953\"],[0.7777777777777778,\"#fb9f3a\"],[0.8888888888888888,\"#fdca26\"],[1.0,\"#f0f921\"]]}],\"contourcarpet\":[{\"type\":\"contourcarpet\",\"colorbar\":{\"outlinewidth\":0,\"ticks\":\"\"}}],\"contour\":[{\"type\":\"contour\",\"colorbar\":{\"outlinewidth\":0,\"ticks\":\"\"},\"colorscale\":[[0.0,\"#0d0887\"],[0.1111111111111111,\"#46039f\"],[0.2222222222222222,\"#7201a8\"],[0.3333333333333333,\"#9c179e\"],[0.4444444444444444,\"#bd3786\"],[0.5555555555555556,\"#d8576b\"],[0.6666666666666666,\"#ed7953\"],[0.7777777777777778,\"#fb9f3a\"],[0.8888888888888888,\"#fdca26\"],[1.0,\"#f0f921\"]]}],\"surface\":[{\"type\":\"surface\",\"colorbar\":{\"outlinewidth\":0,\"ticks\":\"\"},\"colorscale\":[[0.0,\"#0d0887\"],[0.1111111111111111,\"#46039f\"],[0.2222222222222222,\"#7201a8\"],[0.3333333333333333,\"#9c179e\"],[0.4444444444444444,\"#bd3786\"],[0.5555555555555556,\"#d8576b\"],[0.6666666666666666,\"#ed7953\"],[0.7777777777777778,\"#fb9f3a\"],[0.8888888888888888,\"#fdca26\"],[1.0,\"#f0f921\"]]}],\"mesh3d\":[{\"type\":\"mesh3d\",\"colorbar\":{\"outlinewidth\":0,\"ticks\":\"\"}}],\"scatter\":[{\"fillpattern\":{\"fillmode\":\"overlay\",\"size\":10,\"solidity\":0.2},\"type\":\"scatter\"}],\"parcoords\":[{\"type\":\"parcoords\",\"line\":{\"colorbar\":{\"outlinewidth\":0,\"ticks\":\"\"}}}],\"scatterpolargl\":[{\"type\":\"scatterpolargl\",\"marker\":{\"colorbar\":{\"outlinewidth\":0,\"ticks\":\"\"}}}],\"bar\":[{\"error_x\":{\"color\":\"#2a3f5f\"},\"error_y\":{\"color\":\"#2a3f5f\"},\"marker\":{\"line\":{\"color\":\"#E5ECF6\",\"width\":0.5},\"pattern\":{\"fillmode\":\"overlay\",\"size\":10,\"solidity\":0.2}},\"type\":\"bar\"}],\"scattergeo\":[{\"type\":\"scattergeo\",\"marker\":{\"colorbar\":{\"outlinewidth\":0,\"ticks\":\"\"}}}],\"scatterpolar\":[{\"type\":\"scatterpolar\",\"marker\":{\"colorbar\":{\"outlinewidth\":0,\"ticks\":\"\"}}}],\"histogram\":[{\"marker\":{\"pattern\":{\"fillmode\":\"overlay\",\"size\":10,\"solidity\":0.2}},\"type\":\"histogram\"}],\"scattergl\":[{\"type\":\"scattergl\",\"marker\":{\"colorbar\":{\"outlinewidth\":0,\"ticks\":\"\"}}}],\"scatter3d\":[{\"type\":\"scatter3d\",\"line\":{\"colorbar\":{\"outlinewidth\":0,\"ticks\":\"\"}},\"marker\":{\"colorbar\":{\"outlinewidth\":0,\"ticks\":\"\"}}}],\"scattermapbox\":[{\"type\":\"scattermapbox\",\"marker\":{\"colorbar\":{\"outlinewidth\":0,\"ticks\":\"\"}}}],\"scatterternary\":[{\"type\":\"scatterternary\",\"marker\":{\"colorbar\":{\"outlinewidth\":0,\"ticks\":\"\"}}}],\"scattercarpet\":[{\"type\":\"scattercarpet\",\"marker\":{\"colorbar\":{\"outlinewidth\":0,\"ticks\":\"\"}}}],\"carpet\":[{\"aaxis\":{\"endlinecolor\":\"#2a3f5f\",\"gridcolor\":\"white\",\"linecolor\":\"white\",\"minorgridcolor\":\"white\",\"startlinecolor\":\"#2a3f5f\"},\"baxis\":{\"endlinecolor\":\"#2a3f5f\",\"gridcolor\":\"white\",\"linecolor\":\"white\",\"minorgridcolor\":\"white\",\"startlinecolor\":\"#2a3f5f\"},\"type\":\"carpet\"}],\"table\":[{\"cells\":{\"fill\":{\"color\":\"#EBF0F8\"},\"line\":{\"color\":\"white\"}},\"header\":{\"fill\":{\"color\":\"#C8D4E3\"},\"line\":{\"color\":\"white\"}},\"type\":\"table\"}],\"barpolar\":[{\"marker\":{\"line\":{\"color\":\"#E5ECF6\",\"width\":0.5},\"pattern\":{\"fillmode\":\"overlay\",\"size\":10,\"solidity\":0.2}},\"type\":\"barpolar\"}],\"pie\":[{\"automargin\":true,\"type\":\"pie\"}]},\"layout\":{\"autotypenumbers\":\"strict\",\"colorway\":[\"#636efa\",\"#EF553B\",\"#00cc96\",\"#ab63fa\",\"#FFA15A\",\"#19d3f3\",\"#FF6692\",\"#B6E880\",\"#FF97FF\",\"#FECB52\"],\"font\":{\"color\":\"#2a3f5f\"},\"hovermode\":\"closest\",\"hoverlabel\":{\"align\":\"left\"},\"paper_bgcolor\":\"white\",\"plot_bgcolor\":\"#E5ECF6\",\"polar\":{\"bgcolor\":\"#E5ECF6\",\"angularaxis\":{\"gridcolor\":\"white\",\"linecolor\":\"white\",\"ticks\":\"\"},\"radialaxis\":{\"gridcolor\":\"white\",\"linecolor\":\"white\",\"ticks\":\"\"}},\"ternary\":{\"bgcolor\":\"#E5ECF6\",\"aaxis\":{\"gridcolor\":\"white\",\"linecolor\":\"white\",\"ticks\":\"\"},\"baxis\":{\"gridcolor\":\"white\",\"linecolor\":\"white\",\"ticks\":\"\"},\"caxis\":{\"gridcolor\":\"white\",\"linecolor\":\"white\",\"ticks\":\"\"}},\"coloraxis\":{\"colorbar\":{\"outlinewidth\":0,\"ticks\":\"\"}},\"colorscale\":{\"sequential\":[[0.0,\"#0d0887\"],[0.1111111111111111,\"#46039f\"],[0.2222222222222222,\"#7201a8\"],[0.3333333333333333,\"#9c179e\"],[0.4444444444444444,\"#bd3786\"],[0.5555555555555556,\"#d8576b\"],[0.6666666666666666,\"#ed7953\"],[0.7777777777777778,\"#fb9f3a\"],[0.8888888888888888,\"#fdca26\"],[1.0,\"#f0f921\"]],\"sequentialminus\":[[0.0,\"#0d0887\"],[0.1111111111111111,\"#46039f\"],[0.2222222222222222,\"#7201a8\"],[0.3333333333333333,\"#9c179e\"],[0.4444444444444444,\"#bd3786\"],[0.5555555555555556,\"#d8576b\"],[0.6666666666666666,\"#ed7953\"],[0.7777777777777778,\"#fb9f3a\"],[0.8888888888888888,\"#fdca26\"],[1.0,\"#f0f921\"]],\"diverging\":[[0,\"#8e0152\"],[0.1,\"#c51b7d\"],[0.2,\"#de77ae\"],[0.3,\"#f1b6da\"],[0.4,\"#fde0ef\"],[0.5,\"#f7f7f7\"],[0.6,\"#e6f5d0\"],[0.7,\"#b8e186\"],[0.8,\"#7fbc41\"],[0.9,\"#4d9221\"],[1,\"#276419\"]]},\"xaxis\":{\"gridcolor\":\"white\",\"linecolor\":\"white\",\"ticks\":\"\",\"title\":{\"standoff\":15},\"zerolinecolor\":\"white\",\"automargin\":true,\"zerolinewidth\":2},\"yaxis\":{\"gridcolor\":\"white\",\"linecolor\":\"white\",\"ticks\":\"\",\"title\":{\"standoff\":15},\"zerolinecolor\":\"white\",\"automargin\":true,\"zerolinewidth\":2},\"scene\":{\"xaxis\":{\"backgroundcolor\":\"#E5ECF6\",\"gridcolor\":\"white\",\"linecolor\":\"white\",\"showbackground\":true,\"ticks\":\"\",\"zerolinecolor\":\"white\",\"gridwidth\":2},\"yaxis\":{\"backgroundcolor\":\"#E5ECF6\",\"gridcolor\":\"white\",\"linecolor\":\"white\",\"showbackground\":true,\"ticks\":\"\",\"zerolinecolor\":\"white\",\"gridwidth\":2},\"zaxis\":{\"backgroundcolor\":\"#E5ECF6\",\"gridcolor\":\"white\",\"linecolor\":\"white\",\"showbackground\":true,\"ticks\":\"\",\"zerolinecolor\":\"white\",\"gridwidth\":2}},\"shapedefaults\":{\"line\":{\"color\":\"#2a3f5f\"}},\"annotationdefaults\":{\"arrowcolor\":\"#2a3f5f\",\"arrowhead\":0,\"arrowwidth\":1},\"geo\":{\"bgcolor\":\"white\",\"landcolor\":\"#E5ECF6\",\"subunitcolor\":\"white\",\"showland\":true,\"showlakes\":true,\"lakecolor\":\"white\"},\"title\":{\"x\":0.05},\"mapbox\":{\"style\":\"light\"}}},\"xaxis\":{\"anchor\":\"y\",\"domain\":[0.0,1.0],\"title\":{\"text\":\"gepr\\u00fcfte Seiten\"},\"showticklabels\":false},\"yaxis\":{\"anchor\":\"x\",\"domain\":[0.0,1.0],\"title\":{\"text\":\"Anteil entfernter Kacheln\"},\"range\":[0,1]},\"legend\":{\"title\":{\"text\":\"variable\"},\"tracegroupgap\":0},\"margin\":{\"t\":60},\"barmode\":\"relative\",\"height\":300,\"width\":900,\"shapes\":[{\"line\":{\"color\":\"#1f6a88\"},\"type\":\"line\",\"x0\":0,\"x1\":1,\"xref\":\"x domain\",\"y0\":0.36095154468862345,\"y1\":0.36095154468862345,\"yref\":\"y\"},{\"line\":{\"color\":\"#1f6a88\",\"dash\":\"dash\"},\"type\":\"line\",\"x0\":0,\"x1\":1,\"xref\":\"x domain\",\"y0\":0.18725922237641623,\"y1\":0.18725922237641623,\"yref\":\"y\"},{\"line\":{\"color\":\"#1f6a88\",\"dash\":\"dash\"},\"type\":\"line\",\"x0\":0,\"x1\":1,\"xref\":\"x domain\",\"y0\":0.5346438670008307,\"y1\":0.5346438670008307,\"yref\":\"y\"}],\"showlegend\":false},                        {\"responsive\": true}                    ).then(function(){\n",
       "                            \n",
       "var gd = document.getElementById('9f55fc5d-3385-488f-bf13-9b5bb89bab22');\n",
       "var x = new MutationObserver(function (mutations, observer) {{\n",
       "        var display = window.getComputedStyle(gd).display;\n",
       "        if (!display || display === 'none') {{\n",
       "            console.log([gd, 'removed!']);\n",
       "            Plotly.purge(gd);\n",
       "            observer.disconnect();\n",
       "        }}\n",
       "}});\n",
       "\n",
       "// Listen for the removal of the full notebook cells\n",
       "var notebookContainer = gd.closest('#notebook-container');\n",
       "if (notebookContainer) {{\n",
       "    x.observe(notebookContainer, {childList: true});\n",
       "}}\n",
       "\n",
       "// Listen for the clearing of the current output cell\n",
       "var outputEl = gd.closest('.output');\n",
       "if (outputEl) {{\n",
       "    x.observe(outputEl, {childList: true});\n",
       "}}\n",
       "\n",
       "                        })                };                });            </script>        </div>"
      ]
     },
     "metadata": {},
     "output_type": "display_data"
    }
   ],
   "source": [
    "fig = px.bar(\n",
    "    results.filtered_share,\n",
    "    color_discrete_sequence=colors['COLOR_SEQUENCE'][2:],\n",
    "    labels={\n",
    "        'index' : 'geprüfte Seiten',\n",
    "        'value' : 'Anteil entfernter Kacheln'\n",
    "    },\n",
    "    width=900,\n",
    "    height=300\n",
    ")\n",
    "fig.add_hline(y=results.filtered_share.mean(), line_color=colors['COLOR_SEQUENCE'][0])\n",
    "fig.add_hline(y=results.filtered_share.mean() - results.filtered_share.std(), line_dash=\"dash\", line_color=colors['COLOR_SEQUENCE'][0])\n",
    "fig.add_hline(y=results.filtered_share.mean() + results.filtered_share.std(), line_dash=\"dash\", line_color=colors['COLOR_SEQUENCE'][0])\n",
    "\n",
    "fig.update_layout(yaxis_range=[0,1])\n",
    "fig.update_layout(showlegend=False)\n",
    "fig.update_xaxes(showticklabels=False)\n",
    "\n",
    "fig.write_image( dotenv['ATTACHMENT_DIR'] / 'klassifizierungsmodell' / 'anteil_gefilterter_kacheln.pdf' )\n",
    "fig.write_image( dotenv['ATTACHMENT_DIR'] / 'klassifizierungsmodell' / 'anteil_gefilterter_kacheln.jpg' )\n",
    "\n",
    "fig"
   ]
  },
  {
   "cell_type": "code",
   "execution_count": 21,
   "id": "3fd9c88b-0e2c-477c-93d4-67e91ae125d2",
   "metadata": {},
   "outputs": [
    {
     "data": {
      "text/plain": [
       "(0.36095154468862345, 0.17369232231220721)"
      ]
     },
     "execution_count": 21,
     "metadata": {},
     "output_type": "execute_result"
    }
   ],
   "source": [
    "results.filtered_share.mean(), results.filtered_share.std()"
   ]
  }
 ],
 "metadata": {
  "kernelspec": {
   "display_name": "Python 3 (ipykernel)",
   "language": "python",
   "name": "python3"
  },
  "language_info": {
   "codemirror_mode": {
    "name": "ipython",
    "version": 3
   },
   "file_extension": ".py",
   "mimetype": "text/x-python",
   "name": "python",
   "nbconvert_exporter": "python",
   "pygments_lexer": "ipython3",
   "version": "3.10.11"
  }
 },
 "nbformat": 4,
 "nbformat_minor": 5
}
