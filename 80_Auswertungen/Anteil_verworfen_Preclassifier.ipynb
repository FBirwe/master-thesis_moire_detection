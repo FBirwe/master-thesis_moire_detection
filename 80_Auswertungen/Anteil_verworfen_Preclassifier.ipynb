{
 "cells": [
  {
   "cell_type": "code",
   "execution_count": null,
   "id": "07f7077f-e013-40da-a6cb-93f5f1ca0a5c",
   "metadata": {},
   "outputs": [],
   "source": [
    "import sys\n",
    "sys.path.append('../30_data_tools/')\n",
    "sys.path.append('../60_Code/Model/')\n",
    "\n",
    "import sqlite3\n",
    "import pandas as pd\n",
    "from tqdm.auto import tqdm\n",
    "from helper import load_dotenv\n",
    "from file_interaction import get_related_filepath, open_img\n",
    "from classification_tools import preclassifier, cut_img_into_tiles\n",
    "import plotly.express as px"
   ]
  },
  {
   "cell_type": "code",
   "execution_count": null,
   "id": "044a5a7a-6fb6-4e59-83e3-095f0cd4ac7f",
   "metadata": {},
   "outputs": [],
   "source": [
    "from load_constants import load_colors"
   ]
  },
  {
   "cell_type": "code",
   "execution_count": null,
   "id": "143bf43d-ff01-44bb-ad4b-1f7102ec6dfb",
   "metadata": {},
   "outputs": [],
   "source": [
    "colors = load_colors()"
   ]
  },
  {
   "cell_type": "code",
   "execution_count": null,
   "id": "1621c84c-df53-4023-92e4-816beeac32d0",
   "metadata": {},
   "outputs": [],
   "source": [
    "dotenv = load_dotenv()"
   ]
  },
  {
   "cell_type": "code",
   "execution_count": null,
   "id": "30950aeb-e07c-4fc2-aa4f-2e617f9f81dc",
   "metadata": {},
   "outputs": [],
   "source": [
    "with sqlite3.connect( dotenv['DB_PATH'] ) as con:\n",
    "    data = pd.read_sql(\n",
    "        '''\n",
    "            SELECT * FROM related_file rf \n",
    "            WHERE job='24-03-05-01_randomTrainPages' AND variant_name = 'ps2400dpi150lpi' AND \"type\" = '4c_600' \n",
    "        ''',\n",
    "        con\n",
    "    )"
   ]
  },
  {
   "cell_type": "code",
   "execution_count": null,
   "id": "2e9711b3-b812-4f7a-b734-813350b3af8f",
   "metadata": {},
   "outputs": [],
   "source": [
    "sample = data.sample(n=250)"
   ]
  },
  {
   "cell_type": "code",
   "execution_count": null,
   "id": "0d4bce92-71cd-406d-8f43-c2eb99f5cc9b",
   "metadata": {},
   "outputs": [],
   "source": [
    "out = []\n",
    "\n",
    "for i in tqdm(range(sample.shape[0])):\n",
    "    row = sample.iloc[i]\n",
    "\n",
    "    filepath = get_related_filepath(\n",
    "        row.job,\n",
    "        row.variant_name,\n",
    "        f'{ row.pdf_filename }.{ row.type }.jpg'\n",
    "    )\n",
    "    img = open_img( filepath )\n",
    "    tiles = cut_img_into_tiles( img, 600, [300] )\n",
    "    tiles_filtered = preclassifier( tiles )\n",
    "\n",
    "    out.append((\n",
    "        row.name,\n",
    "        len(tiles),\n",
    "        len(tiles_filtered)\n",
    "    ))"
   ]
  },
  {
   "cell_type": "code",
   "execution_count": null,
   "id": "20a46658-29f7-4ae3-8b4e-bcf21cb6445d",
   "metadata": {},
   "outputs": [],
   "source": [
    "results = pd.DataFrame(out, columns=['data_idx','tiles_found','tiles_filtered'])\n",
    "results.loc[\n",
    "    :,\n",
    "    'filtered_share'\n",
    "] = 1 - (results.tiles_filtered / results.tiles_found)\n",
    "\n",
    "results"
   ]
  },
  {
   "cell_type": "code",
   "execution_count": null,
   "id": "ece3ef65-be65-4ed8-ad4e-305221388955",
   "metadata": {},
   "outputs": [],
   "source": [
    "fig = px.bar(\n",
    "    results.filtered_share,\n",
    "    color_discrete_sequence=colors['COLOR_SEQUENCE'][2:],\n",
    "    labels={\n",
    "        'index' : 'geprüfte Seiten',\n",
    "        'value' : 'Anteil entfernter Kacheln'\n",
    "    },\n",
    "    width=900,\n",
    "    height=300\n",
    ")\n",
    "fig.add_hline(y=results.filtered_share.mean(), line_color=colors['COLOR_SEQUENCE'][0])\n",
    "fig.add_hline(y=results.filtered_share.mean() - results.filtered_share.std(), line_dash=\"dash\", line_color=colors['COLOR_SEQUENCE'][0])\n",
    "fig.add_hline(y=results.filtered_share.mean() + results.filtered_share.std(), line_dash=\"dash\", line_color=colors['COLOR_SEQUENCE'][0])\n",
    "\n",
    "fig.update_layout(yaxis_range=[0,1])\n",
    "fig.update_layout(showlegend=False)\n",
    "fig.update_xaxes(showticklabels=False)\n",
    "\n",
    "fig.write_image( dotenv['ATTACHMENT_DIR'] / 'klassifizierungsmodell' / 'anteil_gefilterter_kacheln.pdf' )\n",
    "fig.write_image( dotenv['ATTACHMENT_DIR'] / 'klassifizierungsmodell' / 'anteil_gefilterter_kacheln.jpg' )\n",
    "\n",
    "fig"
   ]
  },
  {
   "cell_type": "code",
   "execution_count": null,
   "id": "3fd9c88b-0e2c-477c-93d4-67e91ae125d2",
   "metadata": {},
   "outputs": [],
   "source": [
    "results.filtered_share.mean(), results.filtered_share.std()"
   ]
  }
 ],
 "metadata": {
  "kernelspec": {
   "display_name": "Python 3 (ipykernel)",
   "language": "python",
   "name": "python3"
  },
  "language_info": {
   "codemirror_mode": {
    "name": "ipython",
    "version": 3
   },
   "file_extension": ".py",
   "mimetype": "text/x-python",
   "name": "python",
   "nbconvert_exporter": "python",
   "pygments_lexer": "ipython3",
   "version": "3.10.11"
  }
 },
 "nbformat": 4,
 "nbformat_minor": 5
}
