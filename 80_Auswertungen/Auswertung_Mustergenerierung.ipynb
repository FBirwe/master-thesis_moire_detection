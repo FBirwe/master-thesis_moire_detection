{
 "cells": [
  {
   "cell_type": "code",
   "execution_count": 1,
   "id": "eb14b85b-7ebb-4f19-aec0-e48a651e258d",
   "metadata": {},
   "outputs": [],
   "source": [
    "import sys\n",
    "sys.path.append('../30_data_tools/')"
   ]
  },
  {
   "cell_type": "code",
   "execution_count": 2,
   "id": "93e34a09-adf5-45a5-9d59-453bf4bcc3d5",
   "metadata": {},
   "outputs": [],
   "source": [
    "import pandas as pd\n",
    "import plotly.express as px\n",
    "import plotly.graph_objects as go\n",
    "from datetime import datetime\n",
    "from scipy.stats import chisquare\n",
    "from sklearn import preprocessing\n",
    "import re\n",
    "from tqdm.auto import tqdm"
   ]
  },
  {
   "cell_type": "code",
   "execution_count": 3,
   "id": "4ed0b8c3-9415-4ae9-8d1c-5590eddbf9d3",
   "metadata": {},
   "outputs": [],
   "source": [
    "from PIL import Image\n",
    "import numpy as np\n",
    "import sqlite3\n",
    "from pathlib import Path\n",
    "import json\n",
    "from sklearn.preprocessing import LabelEncoder"
   ]
  },
  {
   "cell_type": "code",
   "execution_count": 4,
   "id": "1a760186-64b5-4d69-b0d6-971ec74807df",
   "metadata": {},
   "outputs": [],
   "source": [
    "from helper import load_dotenv\n",
    "from get_labelstudio_data import get_results_of_project"
   ]
  },
  {
   "cell_type": "code",
   "execution_count": 5,
   "id": "be544be9-1e55-4fd1-bea7-630e8c2ee383",
   "metadata": {},
   "outputs": [],
   "source": [
    "def group_by( selection, group_by_features ):\n",
    "    grouped = selection.loc[\n",
    "        :,\n",
    "        [*group_by_features,'label','mask_id']\n",
    "    ].groupby([\n",
    "        *[feature if feature != 'timestamp' else pd.Grouper(key='timestamp', freq=\"d\") for feature in group_by_features],\n",
    "        'label'\n",
    "    ]).count().unstack('label')\n",
    "    \n",
    "    grouped.columns = [c[1] for c in grouped.columns]\n",
    "    grouped.loc[:,'moire_ratio'] = grouped.checked_moire / (\n",
    "        grouped.checked_moire + \n",
    "        grouped.checked_no_moire +\n",
    "        grouped.ssim_no_moire\n",
    "    )\n",
    "    grouped.loc[:,'total_count'] = (\n",
    "        grouped.checked_moire + \n",
    "        grouped.checked_no_moire +\n",
    "        grouped.ssim_no_moire\n",
    "    )\n",
    "\n",
    "    return grouped"
   ]
  },
  {
   "cell_type": "code",
   "execution_count": 6,
   "id": "ede77696-f85c-4c01-942d-a8284fb2d3ca",
   "metadata": {},
   "outputs": [],
   "source": [
    "COLOR_MAP = {\n",
    "    'checked_moire': '#db5561',\n",
    "    'checked_no_moire': '#627a8e',\n",
    "    'ssim_no_moire' : '#96aec3',\n",
    "    True : '#db5561',\n",
    "    False : '#84a6c4'\n",
    "}\n",
    "\n",
    "COLOR_SEQUENCE = [\n",
    "    '#627a8e',\n",
    "    '#96aec3',\n",
    "    '#cce5fc'\n",
    "]"
   ]
  },
  {
   "cell_type": "code",
   "execution_count": 7,
   "id": "9fd8c492-7b87-4132-8dad-614a72f6025a",
   "metadata": {},
   "outputs": [],
   "source": [
    "dotenv = load_dotenv()\n",
    "con = sqlite3.connect( dotenv['DB_PATH'] )"
   ]
  },
  {
   "cell_type": "code",
   "execution_count": 8,
   "id": "8887e6b0-d90b-4dd7-89e0-824c39d9fad9",
   "metadata": {},
   "outputs": [],
   "source": [
    "masks = pd.merge(\n",
    "    pd.read_sql(\n",
    "        '''\n",
    "            SELECT m.*, gi.timestamp, gi.config_name FROM mask m\n",
    "            LEFT JOIN generic_image gi\n",
    "            ON\n",
    "            \tm.job=gi.job AND\n",
    "            \tm.pdf_filename=gi.pdf_filename AND\n",
    "            \tm.idx = gi.idx AND \n",
    "            \tm.variant_name = gi.variant_name AND \n",
    "            \tm.\"type\" = gi.\"type\" \n",
    "        ''',\n",
    "        con,\n",
    "        parse_dates=['timestamp']\n",
    "    ),\n",
    "    pd.DataFrame(\n",
    "        [(r['id'],r['labels'][0]) for r in get_results_of_project(2) if 'id' in r],\n",
    "        columns=['mask_id','label']\n",
    "    ),\n",
    "    how=\"left\",\n",
    "    on=\"mask_id\"\n",
    ")\n",
    "\n",
    "masks.loc[\n",
    "    (pd.isna(masks.label)) & (masks.ssim >= 0.95),\n",
    "    'label'\n",
    "] = 'ssim_no_moire'\n",
    "\n",
    "masks.loc[\n",
    "    :,\n",
    "    'pattern_shape'\n",
    "] = masks.pattern.apply( lambda val: val.split('.')[-1] )\n",
    "\n",
    "\n",
    "# set plain or perlin\n",
    "masks.loc[\n",
    "    masks.pattern.str.startswith('plain_'),\n",
    "    'cover_style'\n",
    "] = 'plain'\n",
    "\n",
    "masks.loc[\n",
    "    masks.pattern.str.startswith('perlin_'),\n",
    "    'cover_style'\n",
    "] = 'perlin'\n",
    "\n",
    "masks.cover_style.fillna('legacy', inplace=True)\n",
    "\n",
    "\n",
    "masks.loc[\n",
    "    masks.pattern.str.startswith('plain_'),\n",
    "    'pattern_coverage'\n",
    "] = masks.loc[\n",
    "    masks.pattern.str.startswith('plain_')\n",
    "].pattern.apply(lambda val: (10 - int(re.search(r'plain_(\\d+)\\.+',val).groups()[0])) / 10 )"
   ]
  },
  {
   "cell_type": "code",
   "execution_count": 9,
   "id": "cb007dda-8ace-4537-b321-b18fba0af58b",
   "metadata": {},
   "outputs": [],
   "source": [
    "attachment_dir = dotenv['ATTACHMENT_DIR'] / 'auswertung_moireerzeugung'"
   ]
  },
  {
   "cell_type": "markdown",
   "id": "3923d6c7-0230-4bea-aa7f-4d15cecadfc1",
   "metadata": {},
   "source": [
    "# Moirérate"
   ]
  },
  {
   "cell_type": "code",
   "execution_count": null,
   "id": "0756fa0f-3093-4329-abb5-36d2f8d2430c",
   "metadata": {},
   "outputs": [],
   "source": [
    "masks.label.value_counts()"
   ]
  },
  {
   "cell_type": "code",
   "execution_count": null,
   "id": "8b3f1558-a647-4234-b7a1-e747987ca310",
   "metadata": {},
   "outputs": [],
   "source": [
    "masks.label.value_counts().checked_moire / masks.shape[0]"
   ]
  },
  {
   "cell_type": "code",
   "execution_count": null,
   "id": "b0c3addc-af7e-4226-891b-abf4921ad5fc",
   "metadata": {},
   "outputs": [],
   "source": [
    "grouped_by_timestamp = masks.loc[\n",
    "    :,\n",
    "    ['timestamp','label','mask_id']\n",
    "].groupby([\n",
    "    pd.Grouper(key=\"timestamp\", freq=\"d\"),\n",
    "    'label'\n",
    "]).count().unstack('label')\n",
    "grouped_by_timestamp.columns = [c[1] for c in grouped_by_timestamp.columns]\n",
    "grouped_by_timestamp.loc[:,'moire_ratio'] = grouped_by_timestamp.checked_moire / (\n",
    "    grouped_by_timestamp.checked_moire + \n",
    "    grouped_by_timestamp.checked_no_moire +\n",
    "    grouped_by_timestamp.ssim_no_moire\n",
    ")"
   ]
  },
  {
   "cell_type": "code",
   "execution_count": null,
   "id": "857b8511-77eb-4c8b-be20-c55923185fbb",
   "metadata": {},
   "outputs": [],
   "source": [
    "px.bar(\n",
    "    grouped_by_timestamp.moire_ratio,\n",
    "    labels={\n",
    "        'timestamp' : 'Tag der Erstellung',\n",
    "        'value' : 'Anteil der erzeugten Masken mit Moiré'\n",
    "    }\n",
    ")"
   ]
  },
  {
   "cell_type": "code",
   "execution_count": 12,
   "id": "bababb11-2a44-4ff5-ae7a-67f83c975f6b",
   "metadata": {},
   "outputs": [],
   "source": [
    "grouped_by_config = group_by(\n",
    "    masks.loc[\n",
    "        pd.isna(masks.config_name) == False\n",
    "    ],\n",
    "    ['config_name']\n",
    ").fillna(0)"
   ]
  },
  {
   "cell_type": "code",
   "execution_count": 13,
   "id": "1535af9c-01fb-4373-9871-7250b751908d",
   "metadata": {},
   "outputs": [
    {
     "data": {
      "text/html": [
       "<div>\n",
       "<style scoped>\n",
       "    .dataframe tbody tr th:only-of-type {\n",
       "        vertical-align: middle;\n",
       "    }\n",
       "\n",
       "    .dataframe tbody tr th {\n",
       "        vertical-align: top;\n",
       "    }\n",
       "\n",
       "    .dataframe thead th {\n",
       "        text-align: right;\n",
       "    }\n",
       "</style>\n",
       "<table border=\"1\" class=\"dataframe\">\n",
       "  <thead>\n",
       "    <tr style=\"text-align: right;\">\n",
       "      <th></th>\n",
       "      <th>checked_moire</th>\n",
       "      <th>checked_no_moire</th>\n",
       "      <th>ssim_no_moire</th>\n",
       "      <th>moire_ratio</th>\n",
       "      <th>total_count</th>\n",
       "    </tr>\n",
       "    <tr>\n",
       "      <th>config_name</th>\n",
       "      <th></th>\n",
       "      <th></th>\n",
       "      <th></th>\n",
       "      <th></th>\n",
       "      <th></th>\n",
       "    </tr>\n",
       "  </thead>\n",
       "  <tbody>\n",
       "    <tr>\n",
       "      <th>deform</th>\n",
       "      <td>180.0</td>\n",
       "      <td>464.0</td>\n",
       "      <td>719.0</td>\n",
       "      <td>0.132062</td>\n",
       "      <td>1363.0</td>\n",
       "    </tr>\n",
       "    <tr>\n",
       "      <th>general</th>\n",
       "      <td>46.0</td>\n",
       "      <td>308.0</td>\n",
       "      <td>552.0</td>\n",
       "      <td>0.050773</td>\n",
       "      <td>906.0</td>\n",
       "    </tr>\n",
       "    <tr>\n",
       "      <th>rotate</th>\n",
       "      <td>0.0</td>\n",
       "      <td>0.0</td>\n",
       "      <td>41.0</td>\n",
       "      <td>0.000000</td>\n",
       "      <td>0.0</td>\n",
       "    </tr>\n",
       "    <tr>\n",
       "      <th>stretch</th>\n",
       "      <td>63.0</td>\n",
       "      <td>269.0</td>\n",
       "      <td>258.0</td>\n",
       "      <td>0.106780</td>\n",
       "      <td>590.0</td>\n",
       "    </tr>\n",
       "  </tbody>\n",
       "</table>\n",
       "</div>"
      ],
      "text/plain": [
       "             checked_moire  checked_no_moire  ssim_no_moire  moire_ratio  \\\n",
       "config_name                                                                \n",
       "deform               180.0             464.0          719.0     0.132062   \n",
       "general               46.0             308.0          552.0     0.050773   \n",
       "rotate                 0.0               0.0           41.0     0.000000   \n",
       "stretch               63.0             269.0          258.0     0.106780   \n",
       "\n",
       "             total_count  \n",
       "config_name               \n",
       "deform            1363.0  \n",
       "general            906.0  \n",
       "rotate               0.0  \n",
       "stretch            590.0  "
      ]
     },
     "execution_count": 13,
     "metadata": {},
     "output_type": "execute_result"
    }
   ],
   "source": [
    "grouped_by_config"
   ]
  },
  {
   "cell_type": "code",
   "execution_count": null,
   "id": "4fc203be-b403-4f42-b8ed-8ff862d02ecd",
   "metadata": {},
   "outputs": [],
   "source": [
    "fig = px.bar(\n",
    "    grouped_by_config.loc[\n",
    "        :,\n",
    "        ['checked_moire','checked_no_moire','ssim_no_moire']\n",
    "    ],\n",
    "    labels={\n",
    "        'config_name' : 'verwendete Konfiguration',\n",
    "        'value' : 'Anteil der erzeugten Masken mit Moiré',\n",
    "        'variable' : 'Legende'\n",
    "    },\n",
    "    color_discrete_map=COLOR_MAP\n",
    ")\n",
    "\n",
    "#fig.update_layout(showlegend=False)\n",
    "fig.write_image( attachment_dir / 'moire_rate_pro_config.jpg' )\n",
    "fig"
   ]
  },
  {
   "cell_type": "markdown",
   "id": "8bc305e1-1679-43f6-918c-455452d4587a",
   "metadata": {
    "jp-MarkdownHeadingCollapsed": true
   },
   "source": [
    "# Gruppiert nach verwendetem Pattern"
   ]
  },
  {
   "cell_type": "code",
   "execution_count": null,
   "id": "d55e5483-f471-498f-a2e9-9a90402e4b09",
   "metadata": {},
   "outputs": [],
   "source": [
    "grouped_by_pattern = group_by(\n",
    "    masks,\n",
    "    ['pattern']\n",
    ")"
   ]
  },
  {
   "cell_type": "code",
   "execution_count": null,
   "id": "462844a2-c474-4480-8b91-c5c766cf6a8c",
   "metadata": {},
   "outputs": [],
   "source": [
    "grouped_by_pattern"
   ]
  },
  {
   "cell_type": "code",
   "execution_count": null,
   "id": "d457eff9-574d-44db-90c3-d1fa5ed24612",
   "metadata": {},
   "outputs": [],
   "source": [
    "px.bar(\n",
    "    grouped_by_pattern.sort_values('moire_ratio', ascending=False ).moire_ratio,\n",
    "    labels={\n",
    "        'timestamp' : 'Tag der Erstellung',\n",
    "        'value' : 'Anteil der erzeugten Masken mit Moiré'\n",
    "    }\n",
    ")"
   ]
  },
  {
   "cell_type": "markdown",
   "id": "e54168bd-f6c2-4a52-b37e-a8dd53bfe54a",
   "metadata": {},
   "source": [
    "## Perlin"
   ]
  },
  {
   "cell_type": "code",
   "execution_count": null,
   "id": "614b2459-abb9-4c28-886a-5eceff6a1b2a",
   "metadata": {},
   "outputs": [],
   "source": [
    "grouped_by_perlin = pd.concat(\n",
    "    [\n",
    "        group_by(\n",
    "            masks.loc[masks.pattern.str.startswith('perlin_')],\n",
    "            ['pattern']\n",
    "        ).loc[\n",
    "            :,\n",
    "            ['checked_moire','checked_no_moire','ssim_no_moire','total_count']\n",
    "        ].sum().to_frame().T,\n",
    "        group_by(\n",
    "            masks.loc[masks.pattern.str.startswith('perlin_') == False],\n",
    "            ['pattern']\n",
    "        ).loc[\n",
    "            :,\n",
    "            ['checked_moire','checked_no_moire','ssim_no_moire','total_count']\n",
    "        ].sum().to_frame().T\n",
    "    ],\n",
    "    ignore_index=True\n",
    ").rename(index={0: 'perlin', 1: 'plain'})\n",
    "\n",
    "grouped_by_perlin.loc[:,'moire_ratio'] = grouped_by_perlin.checked_moire / (\n",
    "    grouped_by_perlin.checked_moire + \n",
    "    grouped_by_perlin.checked_no_moire +\n",
    "    grouped_by_perlin.ssim_no_moire\n",
    ")"
   ]
  },
  {
   "cell_type": "code",
   "execution_count": null,
   "id": "0758a18f-6e00-4b82-a3b2-1489c02f5d9d",
   "metadata": {},
   "outputs": [],
   "source": [
    "grouped_by_perlin"
   ]
  },
  {
   "cell_type": "code",
   "execution_count": null,
   "id": "9d619dbf-13ec-45ff-94ff-d3243748a8cb",
   "metadata": {},
   "outputs": [],
   "source": [
    "fig = px.bar(\n",
    "    grouped_by_perlin.loc[\n",
    "        :,\n",
    "        ['checked_moire','checked_no_moire','ssim_no_moire']\n",
    "    ],\n",
    "    labels={\n",
    "        'index' : 'Verteilung der Flächendeckung in der Patternvorlage',\n",
    "        'value' : 'Moirérate'\n",
    "    },\n",
    "    color_discrete_map=COLOR_MAP\n",
    ")\n",
    "fig.update_layout( showlegend=False )\n",
    "fig.write_image( attachment_dir / 'grouped_by_perlin.jpg' )\n",
    "\n",
    "fig"
   ]
  },
  {
   "cell_type": "code",
   "execution_count": null,
   "id": "7213b3af-888e-4e5e-a63b-4aad76981ea3",
   "metadata": {},
   "outputs": [],
   "source": [
    "px.bar(\n",
    "    grouped_by_perlin.moire_ratio\n",
    ").write_image( attachment_dir / 'grouped_by_perlin.jpg' )"
   ]
  },
  {
   "cell_type": "markdown",
   "id": "33fd582f-c490-43c6-977a-08e7793f67c2",
   "metadata": {},
   "source": [
    "## Form"
   ]
  },
  {
   "cell_type": "code",
   "execution_count": null,
   "id": "7694cd02-47cf-4e75-b73e-5420e4d3d96c",
   "metadata": {},
   "outputs": [],
   "source": [
    "grouped_by_shape_form = group_by(\n",
    "    masks.loc[masks.pattern_shape.isin(['LINE','CIRCLE','DIAMOND'])],\n",
    "    ['pattern_shape']\n",
    ")"
   ]
  },
  {
   "cell_type": "code",
   "execution_count": null,
   "id": "65979ef9-49a2-4a4c-a906-7a7329bd9ffb",
   "metadata": {},
   "outputs": [],
   "source": [
    "grouped_by_shape_form"
   ]
  },
  {
   "cell_type": "code",
   "execution_count": null,
   "id": "130c4fd5-5313-433b-8d38-c4cae9b7c5ef",
   "metadata": {},
   "outputs": [],
   "source": [
    "fig = px.bar(\n",
    "    grouped_by_shape_form.loc[\n",
    "        :,\n",
    "        ['checked_moire','checked_no_moire','ssim_no_moire']\n",
    "    ],\n",
    "    labels={\n",
    "        'value' : 'Moirérate',\n",
    "        'pattern_shape' : 'Patternvorlage Mustergrundform'\n",
    "    },\n",
    "    color_discrete_map=COLOR_MAP\n",
    ")\n",
    "fig.write_image( attachment_dir / 'grouped_by_shape_form.jpg' )\n",
    "\n",
    "fig"
   ]
  },
  {
   "cell_type": "markdown",
   "id": "bad68159-d9bb-486f-8382-4d4381c317d0",
   "metadata": {},
   "source": [
    "## Flächendeckung"
   ]
  },
  {
   "cell_type": "code",
   "execution_count": null,
   "id": "bd127a05-e34d-4323-8212-968d1cfde326",
   "metadata": {},
   "outputs": [],
   "source": [
    "grouped_by_pattern_coverage = group_by(\n",
    "    masks.loc[masks.pattern.str.startswith('plain_')],\n",
    "    ['pattern_coverage']\n",
    ")"
   ]
  },
  {
   "cell_type": "code",
   "execution_count": null,
   "id": "4dfadc6b-96b1-4fe0-937e-c6b68926be49",
   "metadata": {},
   "outputs": [],
   "source": [
    "px.bar(\n",
    "    grouped_by_pattern_coverage.loc[\n",
    "        :,\n",
    "        ['checked_moire','checked_no_moire','ssim_no_moire']\n",
    "    ],\n",
    "    labels={\n",
    "        'value' : 'Moirérate',\n",
    "        'pattern_coverage' : 'Flächendeckung der Patternvorlage'\n",
    "    },\n",
    "    color_discrete_map=COLOR_MAP\n",
    ").write_image( attachment_dir / 'grouped_by_pattern_coverage.jpg' )"
   ]
  },
  {
   "cell_type": "code",
   "execution_count": null,
   "id": "2ecf97b0-7468-4bf2-ae88-bedc493b23cd",
   "metadata": {},
   "outputs": [],
   "source": [
    "grouped_by_pattern_coverage_and_shape = group_by(\n",
    "    masks.loc[masks.pattern.str.startswith('plain_')],\n",
    "    ['pattern_coverage','pattern_shape']\n",
    ").fillna(0).moire_ratio.unstack('pattern_shape')"
   ]
  },
  {
   "cell_type": "code",
   "execution_count": null,
   "id": "77a2c60f-066d-4d0b-a002-44d76d70e61b",
   "metadata": {},
   "outputs": [],
   "source": [
    "group_by(\n",
    "    masks.loc[masks.pattern.str.startswith('plain_')],\n",
    "    ['pattern_coverage','pattern_shape']\n",
    ").fillna(0)"
   ]
  },
  {
   "cell_type": "code",
   "execution_count": null,
   "id": "5275c9e7-1d51-4c72-812e-81bf18dd73bb",
   "metadata": {},
   "outputs": [],
   "source": [
    "px.line(\n",
    "    grouped_by_pattern_coverage_and_shape\n",
    ")"
   ]
  },
  {
   "cell_type": "code",
   "execution_count": null,
   "id": "bb535a12-9f21-449e-b8f9-9a48d6509257",
   "metadata": {},
   "outputs": [],
   "source": [
    "grouped_by_pattern_coverage.moire_ratio"
   ]
  },
  {
   "cell_type": "markdown",
   "id": "13f76fa4-73f7-4bb8-9534-4bc2a1166831",
   "metadata": {
    "jp-MarkdownHeadingCollapsed": true
   },
   "source": [
    "# allgemeine Zusammenhänge"
   ]
  },
  {
   "cell_type": "code",
   "execution_count": null,
   "id": "a12c713e-837c-4f6b-8e31-7a1fee09a125",
   "metadata": {},
   "outputs": [],
   "source": [
    "masks.ssim.describe()"
   ]
  },
  {
   "cell_type": "code",
   "execution_count": null,
   "id": "0755a594-5fa3-4cf8-b226-1266b7969106",
   "metadata": {},
   "outputs": [],
   "source": [
    "px.scatter(\n",
    "    masks.ssim.sort_values().reset_index().loc[:,'ssim']\n",
    ")"
   ]
  },
  {
   "cell_type": "code",
   "execution_count": null,
   "id": "425c1fd4-61c6-4abb-83e4-33b121bafa6a",
   "metadata": {},
   "outputs": [],
   "source": [
    "data.shape"
   ]
  },
  {
   "cell_type": "code",
   "execution_count": null,
   "id": "39e786ed-4249-41ba-95db-214be468ada0",
   "metadata": {},
   "outputs": [],
   "source": [
    "data.loc[\n",
    "    :,\n",
    "    [c for c in data.columns if c.startswith('use_')]\n",
    "].sum()"
   ]
  },
  {
   "cell_type": "code",
   "execution_count": null,
   "id": "fd01d9b7-71c9-465c-b062-0811957cf718",
   "metadata": {},
   "outputs": [],
   "source": [
    "data.loc[\n",
    "    :,\n",
    "    'area'\n",
    "] = data.bbox.apply(lambda val: val[2] * val[3])"
   ]
  },
  {
   "cell_type": "code",
   "execution_count": null,
   "id": "3c0a045d-f3c1-4688-b924-e18e04119337",
   "metadata": {},
   "outputs": [],
   "source": [
    "data.loc[\n",
    "    :,\n",
    "    ['ssim','area']\n",
    "].corr()"
   ]
  },
  {
   "cell_type": "code",
   "execution_count": null,
   "id": "127084b4-c3fb-4eb3-af8a-9a7e268c7300",
   "metadata": {},
   "outputs": [],
   "source": [
    "df= data.loc[\n",
    "    :,\n",
    "    'ssim'\n",
    "].to_frame()\n",
    "\n",
    "df.loc[\n",
    "    :,\n",
    "    'pattern'\n",
    "] = pd.factorize(data.pattern)[0]"
   ]
  },
  {
   "cell_type": "code",
   "execution_count": null,
   "id": "ca31ffaf-99ff-4c30-a398-05dd315d5d44",
   "metadata": {},
   "outputs": [],
   "source": [
    "df.corr('spearman')"
   ]
  },
  {
   "cell_type": "code",
   "execution_count": null,
   "id": "c1d4ff4b-b1f3-4dd3-8e3c-1d8f8311ae91",
   "metadata": {},
   "outputs": [],
   "source": [
    "df.corr('pearson')"
   ]
  },
  {
   "cell_type": "markdown",
   "id": "572577f8-39a4-40b5-a60d-fa64b15ddf71",
   "metadata": {
    "jp-MarkdownHeadingCollapsed": true
   },
   "source": [
    "# Zusammehang: ssim und Flächedeckung"
   ]
  },
  {
   "cell_type": "code",
   "execution_count": null,
   "id": "f365ae30-48bd-472c-939a-809ddd8824e0",
   "metadata": {},
   "outputs": [],
   "source": [
    "def get_edge_share( row, edge_limit ):\n",
    "    img = Image.open( row.img_path ).crop((\n",
    "        row.bbox[0],\n",
    "        row.bbox[1],\n",
    "        row.bbox[0] + row.bbox[2],\n",
    "        row.bbox[1] + row.bbox[3]\n",
    "    ))\n",
    "\n",
    "    k_separation = np.array(img)[:,:,3]\n",
    "    relevant_part = k_separation[(k_separation < edge_limit) | (k_separation > (255 - edge_limit))]\n",
    "\n",
    "    return relevant_part.shape[0] / (k_separation.shape[0] * k_separation.shape[1])"
   ]
  },
  {
   "cell_type": "code",
   "execution_count": null,
   "id": "3d651028-41df-4501-9d01-eaebd8ace60d",
   "metadata": {},
   "outputs": [],
   "source": [
    "data.loc[\n",
    "    :,\n",
    "    'edge_share'\n",
    "] = data.apply( get_edge_share, args=(10,), axis=1 )"
   ]
  },
  {
   "cell_type": "code",
   "execution_count": null,
   "id": "80c925a3-4c05-4a24-872e-e13268aa1360",
   "metadata": {},
   "outputs": [],
   "source": [
    "edge_share = data.edge_share #returns a numpy array\n",
    "edge_share_normalized = preprocessing.MinMaxScaler().fit_transform(edge_share.to_numpy().reshape((-1,1)))\n",
    "\n",
    "ssim = data.ssim #returns a numpy array\n",
    "ssim_normalized = preprocessing.MinMaxScaler().fit_transform(ssim.to_numpy().reshape((-1,1)))"
   ]
  },
  {
   "cell_type": "code",
   "execution_count": null,
   "id": "fee2e50c-a05b-4933-8721-f2460b7e2342",
   "metadata": {},
   "outputs": [],
   "source": [
    "data.loc[\n",
    "    :,\n",
    "    'edge_share_normalized'\n",
    "] = edge_share_normalized\n",
    "\n",
    "data.loc[\n",
    "    :,\n",
    "    'ssim_normalized'\n",
    "] = ssim_normalized"
   ]
  },
  {
   "cell_type": "code",
   "execution_count": null,
   "id": "1f35198f-0deb-49d0-87c1-d3aa32e076e5",
   "metadata": {},
   "outputs": [],
   "source": [
    "data.loc[\n",
    "    :,\n",
    "    ['ssim','edge_share']\n",
    "].corr()"
   ]
  },
  {
   "cell_type": "code",
   "execution_count": null,
   "id": "6da391eb-74c3-4206-bcbe-59afa8f9c296",
   "metadata": {},
   "outputs": [],
   "source": [
    "data.loc[\n",
    "    :,\n",
    "    ['ssim_normalized','edge_share_normalized']\n",
    "].corr()"
   ]
  },
  {
   "cell_type": "code",
   "execution_count": null,
   "id": "abeb5f25-df58-4dbe-ac27-bff06ddeff24",
   "metadata": {},
   "outputs": [],
   "source": [
    "data.iloc[0].img_path"
   ]
  },
  {
   "cell_type": "markdown",
   "id": "f042ac73-5b39-471c-b6ed-e41412d47171",
   "metadata": {},
   "source": [
    "# Kategorien von Masken"
   ]
  },
  {
   "cell_type": "code",
   "execution_count": null,
   "id": "3e5a4039-f780-4b2e-92fe-905fbe4b75bf",
   "metadata": {},
   "outputs": [],
   "source": [
    "data = pd.merge(\n",
    "    pd.read_sql(\n",
    "        '''\n",
    "            SELECT apm.*, m.overlay_intensity_K, m.ssim, m.bbox, gi.\"timestamp\" FROM adjustment_per_mask apm \n",
    "            LEFT JOIN mask m\n",
    "            ON\n",
    "            \tapm.pdf_filename = m.pdf_filename AND\n",
    "            \tapm.job = m.job AND\n",
    "            \tapm.\"type\" = m.\"type\" AND \n",
    "            \tapm.variant_name = m.variant_name AND \n",
    "            \tapm.\"method\" = m.\"method\" AND \n",
    "            \tapm.idx = m.idx AND \n",
    "            \tapm.mask_id = m.mask_id \n",
    "            LEFT JOIN generic_image gi \n",
    "            ON\n",
    "            \tapm.pdf_filename = gi.pdf_filename AND\n",
    "            \tapm.job = gi.job AND\n",
    "            \tapm.\"type\" = gi.\"type\" AND \n",
    "            \tapm.variant_name = gi.variant_name AND \n",
    "            \tapm.\"method\" = gi.\"method\" AND \n",
    "            \tapm.idx = gi.idx \n",
    "        ''',\n",
    "        con,\n",
    "        parse_dates=['timestamp']\n",
    "    ),\n",
    "    pd.DataFrame(\n",
    "        [(r['id'],r['labels'][0]) for r in get_results_of_project(2) if 'id' in r],\n",
    "        columns=['mask_id','label']\n",
    "    ),\n",
    "    how=\"left\",\n",
    "    on=\"mask_id\"\n",
    ")\n",
    "\n",
    "data.loc[\n",
    "    (data.ssim > 0.95),\n",
    "    'label'\n",
    "] = 'ssim_no_moire'"
   ]
  },
  {
   "cell_type": "code",
   "execution_count": null,
   "id": "a1f09b3d-f40c-4909-9ae0-a36386ff80dc",
   "metadata": {},
   "outputs": [],
   "source": [
    "data.shape"
   ]
  },
  {
   "cell_type": "code",
   "execution_count": null,
   "id": "c946e80d-d7f6-4ab0-91e0-aa82107c57f9",
   "metadata": {},
   "outputs": [],
   "source": [
    "data.loc[data.mask_id.str.startswith('temp_')].shape"
   ]
  },
  {
   "cell_type": "code",
   "execution_count": null,
   "id": "e533d80d-74d1-45e0-a3f8-51d52ed3eb9d",
   "metadata": {},
   "outputs": [],
   "source": [
    "grouped_by_mask_id = data.loc[\n",
    "    :,\n",
    "    ['mask_id','job']\n",
    "].groupby(\n",
    "    'mask_id'\n",
    ").count().rename(columns={'job':'adjustment_count'})"
   ]
  },
  {
   "cell_type": "code",
   "execution_count": null,
   "id": "c45bae19-c20c-4e28-be9e-fac6f9627ada",
   "metadata": {},
   "outputs": [],
   "source": [
    "fig = px.bar(\n",
    "    grouped_by_mask_id.adjustment_count.value_counts().sort_index(),\n",
    "    labels={\n",
    "        \"value\" : 'Anzahl an Objektkacheln',\n",
    "        'index' : 'Anzahl angewendete Effekte pro Objektkachel'\n",
    "    },\n",
    "    color_discrete_sequence=COLOR_SEQUENCE\n",
    ")\n",
    "fig.update_layout(showlegend=False)\n",
    "fig.write_image( attachment_dir / 'effekte_pro_kachel.jpg' )"
   ]
  },
  {
   "cell_type": "markdown",
   "id": "edcda14d-fbb8-40b0-aaea-42089587dd18",
   "metadata": {},
   "source": [
    "## Rotation"
   ]
  },
  {
   "cell_type": "code",
   "execution_count": null,
   "id": "1cc22805-650c-4d29-b4fb-947c96c9701d",
   "metadata": {},
   "outputs": [],
   "source": [
    "from scipy import stats"
   ]
  },
  {
   "cell_type": "code",
   "execution_count": null,
   "id": "100f1ca0-e40d-4b7b-9008-37b30c3d540f",
   "metadata": {},
   "outputs": [],
   "source": [
    "le_rotation = LabelEncoder()\n",
    "le_rotation.fit(data.loc[\n",
    "    data.adjustment == 'rotation'\n",
    "].label.tolist())"
   ]
  },
  {
   "cell_type": "code",
   "execution_count": null,
   "id": "0e755469-fafb-4687-a026-e2a2b3a804a4",
   "metadata": {},
   "outputs": [],
   "source": [
    "X = data.loc[\n",
    "    data.adjustment == 'rotation'\n",
    "].features.apply( lambda val: json.loads(val)['rotation_degree'] ).tolist()\n",
    "\n",
    "y = le.transform(data.loc[\n",
    "    data.adjustment == 'rotation'\n",
    "].label.tolist())\n",
    "\n",
    "stats.pearsonr(X, y)"
   ]
  },
  {
   "cell_type": "code",
   "execution_count": null,
   "id": "22719eb2-9c8d-4b79-815a-c673fa069d2e",
   "metadata": {},
   "outputs": [],
   "source": [
    "round(stats.pearsonr(X, y).pvalue,3)"
   ]
  },
  {
   "cell_type": "code",
   "execution_count": null,
   "id": "0aa6236c-4552-4b52-b0a7-732e1212fad9",
   "metadata": {},
   "outputs": [],
   "source": [
    "px.scatter(\n",
    "    y=data.loc[\n",
    "        data.adjustment == 'rotation'\n",
    "    ].features.apply( lambda val: json.loads(val)['rotation_degree'] ),\n",
    "    color=data.loc[\n",
    "        data.adjustment == 'rotation'\n",
    "    ].label,\n",
    "    color_discrete_map=COLOR_MAP,\n",
    "    labels={\n",
    "        \"x\" : \"Rotationseffekte\",\n",
    "        'y' : 'Winkel'\n",
    "    }\n",
    ").write_image( attachment_dir / 'rotation.jpg' )"
   ]
  },
  {
   "cell_type": "markdown",
   "id": "868e1ddd-1fbd-4721-b2e0-d5e069b049e7",
   "metadata": {},
   "source": [
    "## Skalierung"
   ]
  },
  {
   "cell_type": "code",
   "execution_count": null,
   "id": "316df8d5-ebe0-43f7-b2c4-243e5814bfaf",
   "metadata": {},
   "outputs": [],
   "source": [
    "from get_feature_importance_df import get_scale_data"
   ]
  },
  {
   "cell_type": "code",
   "execution_count": null,
   "id": "601f1719-8643-486d-baf9-9ea5c9ece382",
   "metadata": {},
   "outputs": [],
   "source": [
    "X = data.loc[\n",
    "    data.adjustment == 'scale'\n",
    "].features.apply( lambda val: json.loads(val)['scale'] ).tolist()\n",
    "\n",
    "y = le.transform(data.loc[\n",
    "    data.adjustment == 'scale'\n",
    "].label.tolist())\n",
    "\n",
    "stats.pearsonr(X, y)"
   ]
  },
  {
   "cell_type": "code",
   "execution_count": null,
   "id": "da29b425-8b8b-40ab-9440-3838aae46adb",
   "metadata": {},
   "outputs": [],
   "source": [
    "scale_data = pd.merge(\n",
    "    get_scale_data( data ),\n",
    "    data.loc[:,['mask_id','label']].drop_duplicates(),\n",
    "    how=\"left\",\n",
    "    on=\"mask_id\"\n",
    ")"
   ]
  },
  {
   "cell_type": "code",
   "execution_count": null,
   "id": "56f01357-d4db-4754-b233-27c0f4719f41",
   "metadata": {},
   "outputs": [],
   "source": [
    "fig = go.Figure()\n",
    "fig.add_traces([\n",
    "    go.Scatter(\n",
    "        name='Upper Bound',\n",
    "        x=scale_data.loc[scale_data.label == 'ssim_no_moire'].stretch_x,\n",
    "        y=scale_data.loc[scale_data.label == 'ssim_no_moire'].stretch_y,\n",
    "        mode='markers',\n",
    "        marker=dict(color=COLOR_MAP['ssim_no_moire']),\n",
    "        line=dict(width=1),\n",
    "        showlegend=False\n",
    "    ),\n",
    "    go.Scatter(\n",
    "        name='Lower Bound',\n",
    "        x=scale_data.loc[scale_data.label == 'checked_no_moire'].stretch_x,\n",
    "        y=scale_data.loc[scale_data.label == 'checked_no_moire'].stretch_y,\n",
    "        line=dict(width=1),\n",
    "        mode='markers',\n",
    "        marker=dict(color=COLOR_MAP['checked_no_moire']),\n",
    "        showlegend=False\n",
    "    ),\n",
    "    go.Scatter(\n",
    "        x=scale_data.loc[scale_data.label == 'checked_moire'].stretch_x,\n",
    "        y=scale_data.loc[scale_data.label == 'checked_moire'].stretch_y,\n",
    "        mode='markers',\n",
    "        marker=dict(color=COLOR_MAP['checked_moire']),\n",
    "        showlegend=False\n",
    "    )\n",
    "])\n",
    "\n",
    "fig.write_image( attachment_dir / 'skalierung.jpg' )\n",
    "\n",
    "fig"
   ]
  },
  {
   "cell_type": "markdown",
   "id": "a15d1282-17a3-4561-958f-8ea39c8962d2",
   "metadata": {},
   "source": [
    "# perspektivische Verzerrung"
   ]
  },
  {
   "cell_type": "code",
   "execution_count": null,
   "id": "e4839dba-029d-4901-81f6-398eca9c0934",
   "metadata": {},
   "outputs": [],
   "source": [
    "px.scatter(\n",
    "    y=data.loc[\n",
    "        data.adjustment == 'uniform_trapezoidal_distortion'\n",
    "    ].features.apply( lambda val: json.loads(val)['trapezoidal_distortion_strength'] ),\n",
    "    color=data.loc[\n",
    "        data.adjustment == 'uniform_trapezoidal_distortion'\n",
    "    ].label == 'checked_moire'\n",
    ")"
   ]
  },
  {
   "cell_type": "code",
   "execution_count": null,
   "id": "cb3d676a-5dee-454f-ad29-0bce534baaa4",
   "metadata": {},
   "outputs": [],
   "source": [
    "X = data.loc[\n",
    "    data.adjustment == 'uniform_trapezoidal_distortion'\n",
    "].features.apply( lambda val: json.loads(val)['trapezoidal_distortion_strength'] ).tolist()\n",
    "\n",
    "y = le.transform(data.loc[\n",
    "    data.adjustment == 'uniform_trapezoidal_distortion'\n",
    "].label.tolist())\n",
    "\n",
    "stats.pearsonr(X, y)"
   ]
  },
  {
   "cell_type": "markdown",
   "id": "c4551eb1-b9e6-4469-8736-1614e59234ea",
   "metadata": {},
   "source": [
    "# Regression"
   ]
  },
  {
   "cell_type": "code",
   "execution_count": null,
   "id": "72ac6a80-8cb7-4ce2-8a8b-3deea8dbfcdc",
   "metadata": {},
   "outputs": [],
   "source": [
    "from get_feature_importance_df import get_feature_importance_df, get_scale_data\n",
    "from sklearn.ensemble import RandomForestClassifier"
   ]
  },
  {
   "cell_type": "code",
   "execution_count": null,
   "id": "6c8f7c94-f21f-40e7-9d1f-bce72a2f45a7",
   "metadata": {},
   "outputs": [],
   "source": [
    "regression_data = get_feature_importance_df( masks, data )\n",
    "regression_data.label = (regression_data.label == 'checked_moire').astype('int')"
   ]
  },
  {
   "cell_type": "code",
   "execution_count": null,
   "id": "4d07077f-c8c5-4560-a9c7-418b576a4a9e",
   "metadata": {},
   "outputs": [],
   "source": [
    "clf.feature_importances_.shape"
   ]
  },
  {
   "cell_type": "code",
   "execution_count": null,
   "id": "9017b075-e03e-4f11-adeb-d77685089c9e",
   "metadata": {},
   "outputs": [],
   "source": [
    "rows = []\n",
    "\n",
    "for i in tqdm(range(25)):\n",
    "    sample = regression_data.sample(frac=.8)\n",
    "\n",
    "    X = sample.loc[\n",
    "        :,\n",
    "        [c for c in sample.columns if c not in ['label','mask_id','ssim']]\n",
    "    ].to_numpy()\n",
    "    y = sample.loc[:,'label'].to_numpy()\n",
    "\n",
    "    clf = RandomForestClassifier(max_depth=10, random_state=0)\n",
    "    clf.fit(X, y)\n",
    "\n",
    "    row = {\n",
    "        'score' : clf.score(X, y)\n",
    "    }\n",
    "\n",
    "    i = 0\n",
    "    for c in regression_data.columns:        \n",
    "        if c not in ['label','mask_id','ssim']:\n",
    "            row[c] = clf.feature_importances_[i]\n",
    "            i += 1\n",
    "\n",
    "    rows.append(row)"
   ]
  },
  {
   "cell_type": "code",
   "execution_count": null,
   "id": "a29fc54a-63b6-4814-9be7-c876085e2d24",
   "metadata": {},
   "outputs": [],
   "source": [
    "from sklearn.inspection import permutation_importance"
   ]
  },
  {
   "cell_type": "code",
   "execution_count": null,
   "id": "6e589d70-56e3-4933-a73f-f29d4c352ff0",
   "metadata": {},
   "outputs": [],
   "source": [
    "result = permutation_importance(clf, X, y, n_repeats=10,random_state=0)\n",
    "result.importances_mean\n",
    "result.importances_std"
   ]
  },
  {
   "cell_type": "code",
   "execution_count": null,
   "id": "f28fa497-0ac5-49d3-8d07-718ebe96e2f2",
   "metadata": {},
   "outputs": [],
   "source": [
    "px.bar(\n",
    "    y=result.importances_mean,\n",
    "    error_y=result.importances_std\n",
    ")"
   ]
  },
  {
   "cell_type": "code",
   "execution_count": null,
   "id": "01e07f05-b50e-4b87-a0d8-0ad899fc62ec",
   "metadata": {},
   "outputs": [],
   "source": [
    "result_frame = pd.DataFrame.from_dict(rows)"
   ]
  },
  {
   "cell_type": "code",
   "execution_count": null,
   "id": "fdc34c47-f2bc-4156-923a-1b368e76c40a",
   "metadata": {},
   "outputs": [],
   "source": [
    "result_frame.score.describe()"
   ]
  },
  {
   "cell_type": "code",
   "execution_count": null,
   "id": "4b91ec1f-8cca-407d-b0bd-cc266b7b8f40",
   "metadata": {},
   "outputs": [],
   "source": [
    "(result_frame.loc[:,[c for c in result_frame.columns if c != 'score']].std() / result_frame.loc[:,[c for c in result_frame.columns if c != 'score']].mean()).mean()"
   ]
  },
  {
   "cell_type": "code",
   "execution_count": null,
   "id": "7bde3d01-2681-43c0-9970-5dd9cf361502",
   "metadata": {},
   "outputs": [],
   "source": [
    "fig = px.bar(\n",
    "    x=result_frame.loc[:,[c for c in result_frame.columns if c != 'score']].columns,\n",
    "    y=result_frame.loc[:,[c for c in result_frame.columns if c != 'score']].mean().values,\n",
    "    error_y=result_frame.loc[:,[c for c in result_frame.columns if c != 'score']].std().values,\n",
    "    color_discrete_sequence=COLOR_SEQUENCE,\n",
    "    labels={\n",
    "        'y' : 'Einfluss des Features',\n",
    "        'x' : ''\n",
    "    }\n",
    ")\n",
    "fig.update_xaxes(tickmode='linear')\n",
    "fig.write_image( attachment_dir / 'feature_importance.jpg' )\n",
    "\n",
    "fig"
   ]
  }
 ],
 "metadata": {
  "kernelspec": {
   "display_name": "Python 3 (ipykernel)",
   "language": "python",
   "name": "python3"
  },
  "language_info": {
   "codemirror_mode": {
    "name": "ipython",
    "version": 3
   },
   "file_extension": ".py",
   "mimetype": "text/x-python",
   "name": "python",
   "nbconvert_exporter": "python",
   "pygments_lexer": "ipython3",
   "version": "3.10.11"
  }
 },
 "nbformat": 4,
 "nbformat_minor": 5
}
