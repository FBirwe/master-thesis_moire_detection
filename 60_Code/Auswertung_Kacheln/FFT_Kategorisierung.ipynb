{
 "cells": [
  {
   "cell_type": "code",
   "execution_count": 1,
   "id": "44561df1-4c57-447d-a0a6-feba8ba22118",
   "metadata": {},
   "outputs": [],
   "source": [
    "from PIL import Image, ImageFilter, ImageEnhance\n",
    "import numpy as np\n",
    "from pathlib import Path\n",
    "import random\n",
    "import plotly.express as px\n",
    "from scipy import ndimage\n",
    "import math\n",
    "from tqdm.auto import tqdm\n",
    "import pandas as pd\n",
    "from skimage.filters import difference_of_gaussians"
   ]
  },
  {
   "cell_type": "code",
   "execution_count": 2,
   "id": "b971095f-b770-482c-9db3-23e5e263ec20",
   "metadata": {},
   "outputs": [],
   "source": [
    "import sys\n",
    "sys.path.append('../../30_data_tools/')\n",
    "\n",
    "from helper import load_dotenv"
   ]
  },
  {
   "cell_type": "code",
   "execution_count": 3,
   "id": "e3e4b7a9-8ec9-4f61-8ba4-9b30ef82e41b",
   "metadata": {},
   "outputs": [],
   "source": [
    "dotenv = load_dotenv()"
   ]
  },
  {
   "cell_type": "code",
   "execution_count": 6,
   "id": "29003fb5-43b6-4d83-b3b1-35af9eb90a8c",
   "metadata": {},
   "outputs": [],
   "source": [
    "tile_dataset = dotenv['TILE_DATASET_DIR'] / 'train'"
   ]
  },
  {
   "cell_type": "code",
   "execution_count": 7,
   "id": "495274a4-d2e4-4db7-8039-18947248179c",
   "metadata": {},
   "outputs": [],
   "source": [
    "moire_images = list( (tile_dataset / 'moire').glob('./*.jpg') )"
   ]
  },
  {
   "cell_type": "code",
   "execution_count": 8,
   "id": "a27693ad-8475-496a-87ee-06b1c7753c35",
   "metadata": {},
   "outputs": [],
   "source": [
    "def get_fft( input_img ):\n",
    "    ft = np.fft.ifftshift(np.array(input_img)[:,:,0])\n",
    "    ft = np.fft.fft2(ft)\n",
    "    ft = np.fft.fftshift(ft)\n",
    "    \n",
    "    return ft\n",
    "\n",
    "def invert_fft (input_real, input_imaginary):\n",
    "    input = (input_real + 1j * input_imaginary)\n",
    "    ift = np.fft.ifftshift(input)\n",
    "    ift = np.fft.ifft2(ift)\n",
    "    ift = np.fft.fftshift(ift)\n",
    "    return ift.real"
   ]
  },
  {
   "cell_type": "code",
   "execution_count": 9,
   "id": "d5cddede-279f-4b15-89d4-000ea731ac3f",
   "metadata": {},
   "outputs": [],
   "source": [
    "def get_spherical_coordinate( x, y ):\n",
    "    r = math.sqrt( x ** 2 + y ** 2 )\n",
    "    angle = math.degrees(math.atan2(y,x))\n",
    "\n",
    "    return r, angle"
   ]
  },
  {
   "cell_type": "code",
   "execution_count": 10,
   "id": "3f2590ea-45fa-44e1-a925-364d542654eb",
   "metadata": {},
   "outputs": [],
   "source": [
    "def get_carthesian_coordinate( r, angle ):\n",
    "    x = r * math.cos(math.radians(angle))\n",
    "    y = r * math.sin(math.radians(angle))\n",
    "    return x, y"
   ]
  },
  {
   "cell_type": "code",
   "execution_count": 11,
   "id": "800fb020-5b5d-4fdb-a185-86f693028113",
   "metadata": {},
   "outputs": [],
   "source": [
    "def limit_frequencies( fft, inner_limit=None, outer_limit=None ):\n",
    "    center = (fft.shape[1] / 2, fft.shape[0] / 2)\n",
    "    for y in range(fft.shape[0]):\n",
    "        for x in range(fft.shape[1]):\n",
    "            r = math.sqrt( abs(center[0] - x) ** 2 + abs(center[1] - y) ** 2 )\n",
    "            \n",
    "            if outer_limit is not None and r > outer_limit:\n",
    "                fft[y,x] = 0\n",
    "    \n",
    "            if inner_limit is not None and r < inner_limit:\n",
    "                fft[y,x] = 0\n",
    "\n",
    "    return fft"
   ]
  },
  {
   "cell_type": "code",
   "execution_count": null,
   "id": "7894c6c4-88d2-4642-b896-6461bb66376f",
   "metadata": {},
   "outputs": [],
   "source": [
    "moire_path = random.choices(moire_images, k=1)[0]\n",
    "non_moire_path = tile_dataset / 'no_moire' / moire_path.name\n",
    "\n",
    "moire_img = Image.open( moire_path )\n",
    "no_moire_img = Image.open( non_moire_path )\n",
    "\n",
    "diff_img = Image.fromarray(np.array(moire_img) - np.array(no_moire_img))\n",
    "diff_img = diff_img.filter(ImageFilter.BoxBlur(2))\n",
    "enhancer = ImageEnhance.Contrast(diff_img)\n",
    "diff_img = enhancer.enhance(2)\n",
    "\n",
    "\n",
    "fft = get_fft(diff_img)\n",
    "fft = limit_frequencies( fft, inner_limit=10, outer_limit=140 )\n",
    "\n",
    "display_image = Image.new(size=(moire_img.size[0]*3, moire_img.size[1]), mode='L')\n",
    "display_image.paste(moire_img, (0,0))\n",
    "display_image.paste(no_moire_img, (moire_img.size[0],0))\n",
    "display_image.paste(diff_img, (moire_img.size[0]*2,0))\n",
    "\n",
    "display_image"
   ]
  },
  {
   "cell_type": "code",
   "execution_count": null,
   "id": "d740f250-a68b-4f41-a2ef-be43697133d7",
   "metadata": {},
   "outputs": [],
   "source": [
    "filtered = ndimage.uniform_filter( np.abs(get_fft(no_moire_img)) , size=3)"
   ]
  },
  {
   "cell_type": "code",
   "execution_count": null,
   "id": "06594b0f-6361-40c6-b324-1ff1b19e3755",
   "metadata": {},
   "outputs": [],
   "source": [
    "filtered[135:145,135:145] = 0"
   ]
  },
  {
   "cell_type": "code",
   "execution_count": null,
   "id": "c7b6d326-bfdf-4ff4-be8b-7c51ec05b85c",
   "metadata": {},
   "outputs": [],
   "source": [
    "px.imshow( filtered )"
   ]
  },
  {
   "cell_type": "code",
   "execution_count": null,
   "id": "9ccf2a37-6bf4-4ed9-b5c4-190bcadbda68",
   "metadata": {},
   "outputs": [],
   "source": [
    "filtered = ndimage.uniform_filter( np.abs(fft) , size=3)#[85:195,85:195]\n",
    "#filtered = filtered ** 2\n",
    "#filtered[filtered < filtered.max() * 0.6] = 0\n",
    "#filtered = ndimage.uniform_filter( np.abs(filtered) , size=5)\n",
    "\n",
    "px.imshow( filtered )"
   ]
  },
  {
   "cell_type": "code",
   "execution_count": null,
   "id": "419f1d47-602b-42f7-a2c6-65b0818b00f9",
   "metadata": {},
   "outputs": [],
   "source": [
    "def get_radiant_map( frequency_img ):\n",
    "    out_map = np.zeros((\n",
    "        round(math.sqrt((frequency_img.shape[1] / 2) ** 2 + (frequency_img.shape[0] / 2) ** 2)) + 1, # max. Radius (45°)\n",
    "        360 # 360°\n",
    "    ))\n",
    "    \n",
    "    for y_raw in range(frequency_img.shape[0]):\n",
    "        for x_raw in range(frequency_img.shape[1]):\n",
    "            x = x_raw - frequency_img.shape[1] / 2\n",
    "            y = y_raw - frequency_img.shape[0] / 2\n",
    "    \n",
    "            r, angle = get_spherical_coordinate( x, y )\n",
    "            \n",
    "            out_map[\n",
    "                round(r),\n",
    "                round(angle) + 180 - 1\n",
    "            ] += frequency_img[y_raw,x_raw]\n",
    "\n",
    "    return out_map"
   ]
  },
  {
   "cell_type": "code",
   "execution_count": null,
   "id": "ea1bda68-1509-4aab-b07e-2e2164a97308",
   "metadata": {},
   "outputs": [],
   "source": [
    "px.imshow(\n",
    "    difference_of_gaussians( filtered, 1.5 )\n",
    ")"
   ]
  },
  {
   "cell_type": "code",
   "execution_count": null,
   "id": "ef3fa2be-aadc-420f-a443-062c0dc67c30",
   "metadata": {},
   "outputs": [],
   "source": [
    "def get_main_impulses( input, relevant_level=0.66 ):\n",
    "    y_positions, x_positions = np.where(input >= input.max() * relevant_level)\n",
    "    main_impulses = []\n",
    "\n",
    "    for i in range(y_positions.shape[0]):\n",
    "            x = x_positions[i] - input.shape[1] / 2\n",
    "            y = y_positions[i] - input.shape[0] / 2\n",
    "            \n",
    "            r, angle = get_spherical_coordinate(x,y)\n",
    "            #angle += 90 # Anpassung um 0° in der vertikalen, nicht der horizontalen zu haben\n",
    "            intensity = input[y_positions[i],x_positions[i]]\n",
    "        \n",
    "            main_impulses.append((r, angle, intensity))\n",
    "\n",
    "    return main_impulses"
   ]
  },
  {
   "cell_type": "code",
   "execution_count": null,
   "id": "80870696-6d2f-4636-9670-67181e5caea5",
   "metadata": {},
   "outputs": [],
   "source": [
    "# anzahl der Hauptimpulse\n",
    "# Clusteranalyse\n",
    "def get_clusters_of_impulses( impulses, max_distance=5 ):\n",
    "    clusters = []\n",
    "    sorted_impulses = [False for imp in impulses]\n",
    "    \n",
    "    def sort_impulse( imp_index ):\n",
    "        imp = impulses[imp_index]\n",
    "        connected_impulses = [imp]\n",
    "        sorted_impulses[imp_index] = True\n",
    "    \n",
    "        for i in range(len(impulses)):\n",
    "            if sorted_impulses[i] == False:\n",
    "                imp2 = impulses[i]\n",
    "                distance = math.sqrt(\n",
    "                    abs(imp[0] - imp2[0]) ** 2 +\n",
    "                    abs(imp[1] - imp2[1]) ** 2\n",
    "                )\n",
    "    \n",
    "                if distance <= max_distance:\n",
    "                    connected_impulses += sort_impulse( i )\n",
    "    \n",
    "        return connected_impulses\n",
    "    \n",
    "    \n",
    "    while False in sorted_impulses:\n",
    "        clusters.append( sort_impulse(sorted_impulses.index(False)) )\n",
    "\n",
    "    return clusters"
   ]
  },
  {
   "cell_type": "code",
   "execution_count": null,
   "id": "483fe680-1464-4977-ae75-8f208a58ab43",
   "metadata": {},
   "outputs": [],
   "source": [
    "def get_clusters_of_impulses( impulses, max_distance=5 ):\n",
    "    clusters = []\n",
    "    sorted_impulses = [False for imp in impulses]\n",
    "    \n",
    "    while False in sorted_impulses:\n",
    "        start_idx = sorted_impulses.index(False)\n",
    "        cluster = []\n",
    "        clusters.append(cluster)\n",
    "        queue = [start_idx]\n",
    "        sorted_impulses[start_idx] = True\n",
    "\n",
    "        while len(queue) > 0:\n",
    "            impulse_idx = queue.pop()\n",
    "            imp = impulses[impulse_idx]\n",
    "            cluster.append(imp)\n",
    "\n",
    "            for i in range(len(impulses)):\n",
    "                if sorted_impulses[i] == False:\n",
    "                    imp2 = impulses[i]\n",
    "                    distance = math.sqrt(\n",
    "                        abs(imp[0] - imp2[0]) ** 2 +\n",
    "                        abs(imp[1] - imp2[1]) ** 2\n",
    "                    )\n",
    "        \n",
    "                    if distance <= max_distance:\n",
    "                        queue.append(i)\n",
    "                        sorted_impulses[i] = True\n",
    "\n",
    "    return clusters"
   ]
  },
  {
   "cell_type": "code",
   "execution_count": null,
   "id": "886840ab-80f6-43f1-b0c7-77a67bf4ef10",
   "metadata": {},
   "outputs": [],
   "source": [
    "def get_processed_diff_img( moire_path ):\n",
    "    non_moire_path = tile_dataset / 'no_moire' / moire_path.name\n",
    "\n",
    "    moire_img = Image.open( moire_path )\n",
    "    no_moire_img = Image.open( non_moire_path )\n",
    "    \n",
    "    diff_img = Image.fromarray(np.array(moire_img) - np.array(no_moire_img))\n",
    "    diff_img = diff_img.filter(ImageFilter.BoxBlur(2))\n",
    "    enhancer = ImageEnhance.Contrast(diff_img)\n",
    "    diff_img = enhancer.enhance(2)\n",
    "\n",
    "    return diff_img"
   ]
  },
  {
   "cell_type": "code",
   "execution_count": null,
   "id": "cb0777a8-f306-40a0-9601-42d4fb69898c",
   "metadata": {},
   "outputs": [],
   "source": [
    "def normalize_impulses( impulses ):\n",
    "    normalized_impulses = {}\n",
    "    \n",
    "    for r, angle, intensity in impulses:\n",
    "        r = round(r)\n",
    "        angle = round(angle)\n",
    "    \n",
    "        if angle >= 0 and angle < 180:\n",
    "            key = (r,angle)\n",
    "    \n",
    "            if key not in normalized_impulses:\n",
    "                normalized_impulses[key] = []\n",
    "    \n",
    "            normalized_impulses[key].append(intensity)\n",
    "    \n",
    "    return [\n",
    "        (key[0], key[1], sum(normalized_impulses[key]) / len(normalized_impulses[key]))\n",
    "        for key in normalized_impulses\n",
    "    ]"
   ]
  },
  {
   "cell_type": "code",
   "execution_count": null,
   "id": "f8c185ba-ce0a-48fd-bac9-8ec2472b3e56",
   "metadata": {},
   "outputs": [],
   "source": [
    "0 / 0"
   ]
  },
  {
   "cell_type": "markdown",
   "id": "0f9b1036-8465-4a5a-93ba-0112bd19b97d",
   "metadata": {},
   "source": [
    "# Impulse herausschnippeln"
   ]
  },
  {
   "cell_type": "code",
   "execution_count": null,
   "id": "7ee43e84-7bf9-4913-b06a-eae5214f0942",
   "metadata": {},
   "outputs": [],
   "source": [
    "display_image = Image.new(size=(moire_img.size[0]*3, moire_img.size[1]), mode='L')\n",
    "display_image.paste(moire_img, (0,0))\n",
    "display_image.paste(no_moire_img, (moire_img.size[0],0))\n",
    "display_image.paste(diff_img, (moire_img.size[0]*2,0))\n",
    "\n",
    "display_image"
   ]
  },
  {
   "cell_type": "code",
   "execution_count": null,
   "id": "5b46782d-bd92-46ff-92d9-330485d0f0ee",
   "metadata": {},
   "outputs": [],
   "source": [
    "def get_impulse_rows_of_tile( moire_path ):\n",
    "    diff_img = get_processed_diff_img( moire_path )\n",
    "    \n",
    "    fft = get_fft(diff_img)\n",
    "    fft = limit_frequencies( fft, inner_limit=10, outer_limit=140 )\n",
    "    filtered = ndimage.uniform_filter( np.abs(fft) , size=3)[42:182,45:182]\n",
    "    dog_fft = difference_of_gaussians( filtered, 1.5 )\n",
    "    \n",
    "    # impulse normalisieren\n",
    "    all_impulses = get_main_impulses( dog_fft )\n",
    "    normalized_impulses = normalize_impulses( all_impulses )\n",
    "    clusters = get_clusters_of_impulses( normalized_impulses )\n",
    "    \n",
    "    rows = []\n",
    "    for i in range(len(clusters)):\n",
    "        c = clusters[i]\n",
    "        radius = np.array([imp[0] for imp in c])\n",
    "        degrees = np.array([imp[1] for imp in c])\n",
    "        impulses = np.array([imp[2] for imp in c])\n",
    "        \n",
    "        rows.append({\n",
    "            'img_name' : moire_path.name,\n",
    "            'impulse_idx' : i,\n",
    "            'radius_mean' : radius.mean(),\n",
    "            'radius_std' : radius.std(),\n",
    "            'radius_min' : radius.min(),\n",
    "            'radius_max' : radius.max(),\n",
    "            'radius_span' : radius.max() - radius.min(),\n",
    "            'degree_mean' : degrees.mean(),\n",
    "            'degree_std' : degrees.std(),\n",
    "            'degree_min' : degrees.min(),\n",
    "            'degree_max' : degrees.max(),\n",
    "            'degree_span' : degrees.max() - degrees.min(),\n",
    "            'impulse_mean' : impulses.mean(),\n",
    "            'impulse_std' : impulses.std(),\n",
    "            'impulse_min' : impulses.min(),\n",
    "            'impulse_max' : impulses.max(),\n",
    "            'impulse_span' : impulses.max() - impulses.min(),\n",
    "        })\n",
    "\n",
    "    return rows"
   ]
  },
  {
   "cell_type": "code",
   "execution_count": null,
   "id": "37283b16-b0fd-4de6-a51a-dc04d44755b1",
   "metadata": {},
   "outputs": [],
   "source": [
    "get_impulse_rows_of_tile( moire_path )"
   ]
  },
  {
   "cell_type": "code",
   "execution_count": null,
   "id": "5af65066-43f8-450c-830c-a5291d2d6833",
   "metadata": {},
   "outputs": [],
   "source": [
    "rows = []\n",
    "\n",
    "for moire_path in tqdm(moire_images):\n",
    "    rows += get_impulse_rows_of_tile( moire_path )"
   ]
  },
  {
   "cell_type": "code",
   "execution_count": null,
   "id": "83021ccc-5696-4139-9bae-d198e4e0efa8",
   "metadata": {},
   "outputs": [],
   "source": [
    "df = pd.DataFrame.from_dict(rows)"
   ]
  },
  {
   "cell_type": "code",
   "execution_count": null,
   "id": "f5e477a7-e9ee-4196-af52-19316e5c76b6",
   "metadata": {},
   "outputs": [],
   "source": [
    "df.groupby('img_name').count().impulse_idx.describe()"
   ]
  },
  {
   "cell_type": "code",
   "execution_count": null,
   "id": "de03c0f1-e8e6-4e92-a909-ffcd3e3dea2f",
   "metadata": {},
   "outputs": [],
   "source": [
    "df.loc[\n",
    "    df.img_name == 'Eqj8Cs7jK0.0000.jpg'\n",
    "]"
   ]
  },
  {
   "cell_type": "code",
   "execution_count": null,
   "id": "f9b2d0a9-8165-4227-8fe3-f0c23b05291d",
   "metadata": {},
   "outputs": [],
   "source": [
    "moire_path = list(tile_dataset.glob('./**/moire/Nn_sYp1FWI.0142.jpg'))[0]\n",
    "diff_img = get_processed_diff_img( moire_path )\n",
    "\n",
    "fft = get_fft(diff_img)\n",
    "fft = limit_frequencies( fft, inner_limit=15, outer_limit=140 )\n",
    "filtered = ndimage.uniform_filter( np.abs(fft) , size=3)[42:182,42:182]\n",
    "dog_fft = difference_of_gaussians( filtered, 1.5 )"
   ]
  },
  {
   "cell_type": "code",
   "execution_count": null,
   "id": "dc76d898-df2a-4a0d-925b-e146d3ab4d80",
   "metadata": {},
   "outputs": [],
   "source": [
    "pd.DataFrame.from_dict(get_impulse_rows_of_tile( moire_path ))"
   ]
  },
  {
   "cell_type": "code",
   "execution_count": null,
   "id": "e9c20e2e-e136-40e9-93b9-d39d139e9b62",
   "metadata": {},
   "outputs": [],
   "source": [
    "74,41"
   ]
  },
  {
   "cell_type": "code",
   "execution_count": null,
   "id": "67da726b-5d00-4d17-95b9-71265c4deac3",
   "metadata": {},
   "outputs": [],
   "source": [
    "math.sqrt( 4 ** 2 + 29 ** 2 )"
   ]
  },
  {
   "cell_type": "code",
   "execution_count": null,
   "id": "f3e196fb-1758-45f0-a4a8-5c28d64cc162",
   "metadata": {},
   "outputs": [],
   "source": [
    "px.imshow( dog_fft )"
   ]
  },
  {
   "cell_type": "code",
   "execution_count": null,
   "id": "be17d53b-48ff-4805-8d87-2ff9707953c1",
   "metadata": {},
   "outputs": [],
   "source": [
    "import cv2\n",
    "from sklearn.cluster import KMeans"
   ]
  },
  {
   "cell_type": "code",
   "execution_count": null,
   "id": "3ceaf3bb-26bc-41cf-b032-6a34a0021170",
   "metadata": {},
   "outputs": [],
   "source": [
    "X = []\n",
    "\n",
    "for moire_path in tqdm(selected_moires):\n",
    "    non_moire_path = tile_dataset / 'no_moire' / moire_path.name\n",
    "    \n",
    "    moire_img = Image.open( moire_path )\n",
    "    no_moire_img = Image.open( non_moire_path )\n",
    "    \n",
    "    diff_img = Image.fromarray(np.array(moire_img) - np.array(no_moire_img))\n",
    "    diff_img = diff_img.filter(ImageFilter.BoxBlur(2))\n",
    "    enhancer = ImageEnhance.Contrast(diff_img)\n",
    "    diff_img = enhancer.enhance(2)\n",
    "    \n",
    "    fft = get_fft(diff_img.filter(ImageFilter.BoxBlur(2)))\n",
    "    fft = limit_frequencies( fft, inner_limit=10, outer_limit=130 )\n",
    "\n",
    "    filtered = ndimage.uniform_filter( np.abs(fft) , size=5)[85:195,85:195]\n",
    "    #filtered = filtered ** 2\n",
    "    filtered[filtered < filtered.max() * 0.6] = 0\n",
    "    filtered = ndimage.uniform_filter( np.abs(filtered) , size=5)\n",
    "                \n",
    "    resized = cv2.resize(\n",
    "        filtered,\n",
    "        (50,50)\n",
    "    )\n",
    "    resized /= resized.max()\n",
    "\n",
    "    X.append(resized)"
   ]
  },
  {
   "cell_type": "code",
   "execution_count": null,
   "id": "a9d6255f-e9c3-4e3a-b60a-0ddf347ba480",
   "metadata": {},
   "outputs": [],
   "source": [
    "X_train = np.array([entry.reshape((50*50,)) for entry in X])"
   ]
  },
  {
   "cell_type": "code",
   "execution_count": null,
   "id": "10c45c33-0ccd-4de1-91f9-26938fec9db7",
   "metadata": {},
   "outputs": [],
   "source": [
    "def display_image_grid( images, img_size=(280,280) ):\n",
    "    cols = 5\n",
    "    rows = math.ceil( len(images) / cols )\n",
    "    \n",
    "    display_image = Image.new(\n",
    "        size=(img_size[0]*cols,img_size[1]*rows),\n",
    "        mode='RGB'\n",
    "    )\n",
    "    \n",
    "    for i in range(len(images)):\n",
    "        row = math.floor(i / cols)\n",
    "        col = i % cols\n",
    "\n",
    "        display_image.paste(\n",
    "            Image.open(images[i]),\n",
    "            (col*img_size[0],row*img_size[1])\n",
    "        )\n",
    "\n",
    "    return display_image"
   ]
  },
  {
   "cell_type": "markdown",
   "id": "c457126e-6429-4607-9223-2eeb6937d586",
   "metadata": {},
   "source": [
    "# Silhouette Analysis"
   ]
  },
  {
   "cell_type": "code",
   "execution_count": null,
   "id": "fbd1bfd2-2012-4b71-bb01-d2e3b4c80bbf",
   "metadata": {},
   "outputs": [],
   "source": [
    "from sklearn.metrics import silhouette_samples, silhouette_score"
   ]
  },
  {
   "cell_type": "code",
   "execution_count": null,
   "id": "cec1a288-30cb-4c3e-93e1-a4f24ee41bd0",
   "metadata": {},
   "outputs": [],
   "source": [
    "for n_clusters in range(2,10):\n",
    "\n",
    "    # Initialize the clusterer with n_clusters value and a random generator\n",
    "    # seed of 10 for reproducibility.\n",
    "    clusterer = KMeans(n_clusters=n_clusters, random_state=0, n_init=\"auto\").fit(X_train)\n",
    "    cluster_labels = clusterer.fit_predict(X_train)\n",
    "\n",
    "    # The silhouette_score gives the average value for all the samples.\n",
    "    # This gives a perspective into the density and separation of the formed\n",
    "    # clusters\n",
    "    silhouette_avg = silhouette_score(X_train, cluster_labels)\n",
    "    print(\n",
    "        \"For n_clusters =\",\n",
    "        n_clusters,\n",
    "        \"The average silhouette_score is :\",\n",
    "        silhouette_avg,\n",
    "    )\n",
    "\n",
    "    # Compute the silhouette scores for each sample\n",
    "    sample_silhouette_values = silhouette_samples(X_train, cluster_labels)"
   ]
  },
  {
   "cell_type": "code",
   "execution_count": null,
   "id": "854fff53-6286-43f5-bddc-4e5e9827d05b",
   "metadata": {},
   "outputs": [],
   "source": [
    "kmeans = KMeans(n_clusters=6, random_state=0, n_init=\"auto\").fit(X_train)"
   ]
  },
  {
   "cell_type": "code",
   "execution_count": null,
   "id": "40972b89-5a38-452a-ad2b-4e87deaedd49",
   "metadata": {},
   "outputs": [],
   "source": [
    "display_image_grid( [selected_moires[i] for i in range(len(selected_moires)) if kmeans.labels_[i] == 2][:50] )"
   ]
  },
  {
   "cell_type": "code",
   "execution_count": null,
   "id": "de02184c-429e-447f-8cd0-87e7d921760d",
   "metadata": {},
   "outputs": [],
   "source": [
    "moire_path = random.choice(moire_images)\n",
    "non_moire_path = tile_dataset / 'no_moire' / moire_path.name\n",
    "\n",
    "moire_img = Image.open( moire_path )\n",
    "no_moire_img = Image.open( non_moire_path )\n",
    "\n",
    "diff_img = Image.fromarray(np.array(moire_img) - np.array(no_moire_img))\n",
    "\n",
    "fft = get_fft(diff_img.filter(ImageFilter.BoxBlur(2)))\n",
    "fft = limit_frequencies( fft, inner_limit=10, outer_limit=130 )\n",
    "\n",
    "r, angle = get_main_impulse( fft )\n",
    "angle = angle + 90\n",
    "T = 1 / r * 280\n",
    "\n",
    "print(T, angle)\n",
    "\n",
    "px.imshow(ndimage.uniform_filter( np.abs(fft) , size=5))"
   ]
  },
  {
   "cell_type": "code",
   "execution_count": null,
   "id": "80ef8f45-35b4-493f-b486-c995c15256ff",
   "metadata": {},
   "outputs": [],
   "source": [
    "coors = [\n",
    "    (155,117),\n",
    "    (123,145),\n",
    "    (137,155),\n",
    "    (129,123),\n",
    "    (147,113),\n",
    "    (142,120),\n",
    "    (128,128),\n",
    "    (129,145),\n",
    "    (154,150),\n",
    "    (150,143),\n",
    "    (117,138)\n",
    "]"
   ]
  },
  {
   "cell_type": "code",
   "execution_count": null,
   "id": "da6b0e34-dc97-4eb3-8de4-c733cd79b5b1",
   "metadata": {},
   "outputs": [],
   "source": [
    "for co in coors:\n",
    "    print( get_spherical_coordinate(140 - co[0],140 - co[1]) )"
   ]
  },
  {
   "cell_type": "code",
   "execution_count": null,
   "id": "ff599355-8f6f-4f9a-9879-cb8b5c65fdb9",
   "metadata": {},
   "outputs": [],
   "source": [
    "moire_img"
   ]
  },
  {
   "cell_type": "code",
   "execution_count": null,
   "id": "56968926-e92b-49c9-bad2-67a1e55e503a",
   "metadata": {},
   "outputs": [],
   "source": [
    "moire_path"
   ]
  },
  {
   "cell_type": "code",
   "execution_count": null,
   "id": "1825b68e-3a1a-40b3-9eec-d3b4a05436ee",
   "metadata": {},
   "outputs": [],
   "source": [
    "diff_img.save('./test.jpg')"
   ]
  }
 ],
 "metadata": {
  "kernelspec": {
   "display_name": "Python 3 (ipykernel)",
   "language": "python",
   "name": "python3"
  },
  "language_info": {
   "codemirror_mode": {
    "name": "ipython",
    "version": 3
   },
   "file_extension": ".py",
   "mimetype": "text/x-python",
   "name": "python",
   "nbconvert_exporter": "python",
   "pygments_lexer": "ipython3",
   "version": "3.10.11"
  }
 },
 "nbformat": 4,
 "nbformat_minor": 5
}
