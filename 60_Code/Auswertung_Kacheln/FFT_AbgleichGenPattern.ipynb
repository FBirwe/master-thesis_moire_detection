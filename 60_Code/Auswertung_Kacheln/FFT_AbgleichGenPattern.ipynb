{
 "cells": [
  {
   "cell_type": "code",
   "execution_count": null,
   "id": "44561df1-4c57-447d-a0a6-feba8ba22118",
   "metadata": {},
   "outputs": [],
   "source": [
    "from PIL import Image, ImageFilter, ImageEnhance\n",
    "import numpy as np\n",
    "from pathlib import Path\n",
    "import random\n",
    "import plotly.express as px\n",
    "from scipy import ndimage\n",
    "import math\n",
    "from tqdm.auto import tqdm\n",
    "import pandas as pd\n",
    "import sqlite3"
   ]
  },
  {
   "cell_type": "code",
   "execution_count": null,
   "id": "b971095f-b770-482c-9db3-23e5e263ec20",
   "metadata": {},
   "outputs": [],
   "source": [
    "import sys\n",
    "sys.path.append('../../30_data_tools/')\n",
    "\n",
    "from helper import load_dotenv\n",
    "from file_interaction import get_generic_image_filepath, open_img\n",
    "from get_labelstudio_data import get_results_of_project"
   ]
  },
  {
   "cell_type": "code",
   "execution_count": null,
   "id": "e3e4b7a9-8ec9-4f61-8ba4-9b30ef82e41b",
   "metadata": {},
   "outputs": [],
   "source": [
    "dotenv = load_dotenv()"
   ]
  },
  {
   "cell_type": "code",
   "execution_count": null,
   "id": "04b37235-9d67-486b-bf1e-767da8232b1d",
   "metadata": {},
   "outputs": [],
   "source": [
    "TILE_SIZE = 280"
   ]
  },
  {
   "cell_type": "code",
   "execution_count": null,
   "id": "fb8a6858-3fcd-44d1-b57f-0dec61941cc8",
   "metadata": {},
   "outputs": [],
   "source": [
    "def check_bbox_size( bbox_string ):\n",
    "    vals = [int(val) for val in bbox_string.split(';')]\n",
    "\n",
    "    return vals[2] >= TILE_SIZE and vals[3] >= TILE_SIZE"
   ]
  },
  {
   "cell_type": "code",
   "execution_count": null,
   "id": "856bc5d2-e337-46c1-9b7c-95a5ac9fd7a3",
   "metadata": {},
   "outputs": [],
   "source": [
    "with sqlite3.connect( dotenv['DB_PATH'] ) as con:\n",
    "    masks = pd.merge(\n",
    "        pd.read_sql(\n",
    "            'SELECT * FROM mask',\n",
    "            con\n",
    "        ),\n",
    "        pd.DataFrame(\n",
    "            [(r['id'],r['labels'][0])\n",
    "             for r in get_results_of_project(2) if 'id' in r],\n",
    "            columns=['mask_id','label']\n",
    "        ),\n",
    "        how=\"left\",\n",
    "        on='mask_id'\n",
    "    )\n",
    "\n",
    "masks.loc[\n",
    "    masks.ssim > 0.95,\n",
    "    'label'\n",
    "] = 'checked_no_moire'\n",
    "\n",
    "masks = masks.loc[\n",
    "    pd.isna(masks.label) == False\n",
    "]\n",
    "masks = masks.loc[\n",
    "    masks.bbox.apply( check_bbox_size )\n",
    "]"
   ]
  },
  {
   "cell_type": "markdown",
   "id": "81e2e571-a3dd-418b-b493-9f49158a2cae",
   "metadata": {
    "jp-MarkdownHeadingCollapsed": true
   },
   "source": [
    "# Funktionen"
   ]
  },
  {
   "cell_type": "code",
   "execution_count": null,
   "id": "a27693ad-8475-496a-87ee-06b1c7753c35",
   "metadata": {},
   "outputs": [],
   "source": [
    "def get_fft( input_img ):\n",
    "    ft = np.fft.ifftshift(np.array(input_img)[:,:,0])\n",
    "    ft = np.fft.fft2(ft)\n",
    "    ft = np.fft.fftshift(ft)\n",
    "    \n",
    "    return ft\n",
    "\n",
    "def invert_fft (input_real, input_imaginary):\n",
    "    input = (input_real + 1j * input_imaginary)\n",
    "    ift = np.fft.ifftshift(input)\n",
    "    ift = np.fft.ifft2(ift)\n",
    "    ift = np.fft.fftshift(ift)\n",
    "    return ift.real"
   ]
  },
  {
   "cell_type": "code",
   "execution_count": null,
   "id": "d5cddede-279f-4b15-89d4-000ea731ac3f",
   "metadata": {},
   "outputs": [],
   "source": [
    "def get_spherical_coordinate( x, y ):\n",
    "    r = math.sqrt( x ** 2 + y ** 2 )\n",
    "    angle = math.degrees(math.atan2(y,x))\n",
    "\n",
    "    return r, angle"
   ]
  },
  {
   "cell_type": "code",
   "execution_count": null,
   "id": "3f2590ea-45fa-44e1-a925-364d542654eb",
   "metadata": {},
   "outputs": [],
   "source": [
    "def get_carthesian_coordinate( r, angle ):\n",
    "    x = r * math.cos(math.radians(angle))\n",
    "    y = r * math.sin(math.radians(angle))\n",
    "    return x, y"
   ]
  },
  {
   "cell_type": "code",
   "execution_count": null,
   "id": "800fb020-5b5d-4fdb-a185-86f693028113",
   "metadata": {},
   "outputs": [],
   "source": [
    "def limit_frequencies( fft, inner_limit=None, outer_limit=None ):\n",
    "    center = (fft.shape[1] / 2, fft.shape[0] / 2)\n",
    "    for y in range(fft.shape[0]):\n",
    "        for x in range(fft.shape[1]):\n",
    "            r = math.sqrt( abs(center[0] - x) ** 2 + abs(center[1] - y) ** 2 )\n",
    "            \n",
    "            if outer_limit is not None and r > outer_limit:\n",
    "                fft[y,x] = 0\n",
    "    \n",
    "            if inner_limit is not None and r < inner_limit:\n",
    "                fft[y,x] = 0\n",
    "\n",
    "    return fft"
   ]
  },
  {
   "cell_type": "code",
   "execution_count": null,
   "id": "98d1a9f2-a05b-47a5-a852-d022288c74f7",
   "metadata": {},
   "outputs": [],
   "source": [
    "def cut_into_tiles( img ):\n",
    "    tiles = []\n",
    "    y = 0\n",
    "    x = 0\n",
    "\n",
    "    if img.size[0] < TILE_SIZE or img.size[1] < TILE_SIZE:\n",
    "        raise Exception(\"img smaller than tile size\")\n",
    "\n",
    "    while y < img.size[1]:\n",
    "        start_x = x if x+TILE_SIZE < img.size[0] else img.size[0]-TILE_SIZE\n",
    "        start_y = y if y+TILE_SIZE < img.size[1] else img.size[1]-TILE_SIZE\n",
    "\n",
    "        tiles.append(img.crop((\n",
    "            start_x,start_y,\n",
    "            start_x+TILE_SIZE,start_y+TILE_SIZE\n",
    "        )))\n",
    "\n",
    "        x += TILE_SIZE\n",
    "\n",
    "        if x >= img.size[0]:\n",
    "            x = 0\n",
    "            y += TILE_SIZE\n",
    "\n",
    "    return tiles"
   ]
  },
  {
   "cell_type": "markdown",
   "id": "6dd54733-87e8-47d2-be97-9c86a7284a4d",
   "metadata": {},
   "source": [
    "# Prüfung"
   ]
  },
  {
   "cell_type": "code",
   "execution_count": null,
   "id": "83ddb19a-2e8c-4990-9cf0-8163b806bda4",
   "metadata": {},
   "outputs": [],
   "source": [
    "mask = masks.loc[masks.label == 'checked_no_moire'].iloc[1]"
   ]
  },
  {
   "cell_type": "code",
   "execution_count": null,
   "id": "0dc35e66-0a55-496c-91ea-2fedeb15be8c",
   "metadata": {},
   "outputs": [],
   "source": [
    "masks_selection = (\n",
    "    masks.loc[masks.label == 'checked_no_moire'].sample(n=25).index.tolist() +\n",
    "    masks.loc[masks.label == 'checked_moire'].sample(n=25).index.tolist()\n",
    ")"
   ]
  },
  {
   "cell_type": "code",
   "execution_count": null,
   "id": "100259b8-8318-4773-a0ab-d2b490c797f4",
   "metadata": {},
   "outputs": [],
   "source": [
    "total_diffs = []\n",
    "\n",
    "for idx in tqdm(masks_selection):\n",
    "    mask = masks.loc[idx]\n",
    "\n",
    "    try:\n",
    "        halftone_img_path = get_generic_image_filepath(\n",
    "            mask.pdf_filename,\n",
    "            mask.job,\n",
    "            mask.method,\n",
    "            mask.idx\n",
    "        )\n",
    "        \n",
    "        screen_img_path = get_generic_image_filepath(\n",
    "            mask.pdf_filename,\n",
    "            mask.job,\n",
    "            mask.method,\n",
    "            mask.idx,\n",
    "            variant='4c_600'\n",
    "        )\n",
    "        \n",
    "        halftone_img = open_img( halftone_img_path )\n",
    "        screen_img = open_img( screen_img_path )\n",
    "        \n",
    "        bbox = [int(val) for val in mask.bbox.split(';')]\n",
    "        \n",
    "        halftone_object = halftone_img.crop((\n",
    "            bbox[0],bbox[1],\n",
    "            bbox[0]+bbox[2],bbox[1]+bbox[3]\n",
    "        )).filter(ImageFilter.GaussianBlur(radius=1.5))\n",
    "        \n",
    "        halftone_tiles = cut_into_tiles(halftone_object)\n",
    "        \n",
    "        screen_object = screen_img.crop((\n",
    "            bbox[0],bbox[1],\n",
    "            bbox[0]+bbox[2],bbox[1]+bbox[3]\n",
    "        )).filter(ImageFilter.GaussianBlur(radius=1.5))\n",
    "        screen_tiles = cut_into_tiles(screen_object)\n",
    "        \n",
    "        outer_limit = TILE_SIZE / 4 - 10\n",
    "        fft_total_diff = np.zeros((TILE_SIZE,TILE_SIZE))\n",
    "        \n",
    "        for i in range(len(halftone_tiles)):\n",
    "            fft_halftone = ndimage.uniform_filter( np.abs(limit_frequencies(get_fft(halftone_tiles[i]), inner_limit=10, outer_limit=outer_limit).real) , size=5)\n",
    "            fft_screen = ndimage.uniform_filter( np.abs(limit_frequencies(get_fft(screen_tiles[i]), inner_limit=10, outer_limit=outer_limit).real) , size=5)\n",
    "            fft_diff = np.abs( fft_halftone - fft_screen )\n",
    "        \n",
    "            fft_total_diff += fft_diff\n",
    "\n",
    "        fft_total_diff /= len(halftone_tiles)\n",
    "        fft_total_diff = fft_total_diff[\n",
    "            round(TILE_SIZE / 2 - outer_limit):round(TILE_SIZE / 2 + outer_limit),\n",
    "            round(TILE_SIZE / 2 - outer_limit):round(TILE_SIZE / 2 + outer_limit)\n",
    "        ]\n",
    "        total_diffs.append(fft_total_diff)\n",
    "\n",
    "    except:\n",
    "        total_diffs.append(None)"
   ]
  },
  {
   "cell_type": "code",
   "execution_count": null,
   "id": "b2c526c1-8471-40d3-bf7c-94f75161120f",
   "metadata": {},
   "outputs": [],
   "source": [
    "px.scatter(\n",
    "    x=[total_diffs[i].std() for i in range(len(total_diffs)) if (total_diffs[i] is None) == False ],\n",
    "    y=[total_diffs[i].mean() for i in range(len(total_diffs)) if (total_diffs[i] is None) == False ],\n",
    "    color=[masks.loc[masks_selection[i]].label for i in range(len(total_diffs)) if (total_diffs[i] is None) == False ],\n",
    "    labels={\n",
    "        'x' : 'std_diff',\n",
    "        'y' : 'mean_diff',\n",
    "        'color' : 'label'\n",
    "    }\n",
    ")"
   ]
  },
  {
   "cell_type": "code",
   "execution_count": null,
   "id": "35793d20-d543-476f-8c59-3b464188022a",
   "metadata": {},
   "outputs": [],
   "source": [
    "px.scatter(\n",
    "    x=[total_diffs[i].mean() for i in range(len(total_diffs)) if (total_diffs[i] is None) == False ],\n",
    "    y=[total_diffs[i].max() for i in range(len(total_diffs)) if (total_diffs[i] is None) == False ],\n",
    "    color=[masks.loc[masks_selection[i]].label for i in range(len(total_diffs)) if (total_diffs[i] is None) == False ],\n",
    "    labels={\n",
    "        'x' : 'mean_diff',\n",
    "        'y' : 'max_diff',\n",
    "        'color' : 'label'\n",
    "    }\n",
    ")"
   ]
  },
  {
   "cell_type": "code",
   "execution_count": null,
   "id": "46aa582e-7986-4226-944d-3a3d9ef72038",
   "metadata": {},
   "outputs": [],
   "source": [
    "px.imshow(fft_halftone)"
   ]
  },
  {
   "cell_type": "code",
   "execution_count": null,
   "id": "2e04cee8-d59c-48da-b348-edb332853a3b",
   "metadata": {},
   "outputs": [],
   "source": [
    "px.imshow(fft_screen)"
   ]
  },
  {
   "cell_type": "code",
   "execution_count": null,
   "id": "0ec5be4f-8e61-419f-8f19-52a7cf6ec86a",
   "metadata": {},
   "outputs": [],
   "source": [
    "px.imshow(fft_diff)"
   ]
  },
  {
   "cell_type": "code",
   "execution_count": null,
   "id": "5a8549a4-ad37-4395-9603-a8e7429edb4a",
   "metadata": {},
   "outputs": [],
   "source": [
    "px.imshow( fft_total_diff )"
   ]
  },
  {
   "cell_type": "code",
   "execution_count": null,
   "id": "2bbdb26d-4684-46c1-9fc9-0e507b9da56a",
   "metadata": {},
   "outputs": [],
   "source": [
    "halftone_tiles[i]"
   ]
  },
  {
   "cell_type": "code",
   "execution_count": null,
   "id": "77b342c4-6906-4f75-965b-8e2835b9243a",
   "metadata": {},
   "outputs": [],
   "source": [
    "screen_tiles[i]"
   ]
  }
 ],
 "metadata": {
  "kernelspec": {
   "display_name": "Python 3 (ipykernel)",
   "language": "python",
   "name": "python3"
  },
  "language_info": {
   "codemirror_mode": {
    "name": "ipython",
    "version": 3
   },
   "file_extension": ".py",
   "mimetype": "text/x-python",
   "name": "python",
   "nbconvert_exporter": "python",
   "pygments_lexer": "ipython3",
   "version": "3.10.11"
  }
 },
 "nbformat": 4,
 "nbformat_minor": 5
}
