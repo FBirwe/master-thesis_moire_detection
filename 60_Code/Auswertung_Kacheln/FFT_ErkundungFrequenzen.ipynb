{
 "cells": [
  {
   "cell_type": "code",
   "execution_count": 1,
   "id": "44561df1-4c57-447d-a0a6-feba8ba22118",
   "metadata": {},
   "outputs": [],
   "source": [
    "from PIL import Image, ImageFilter, ImageEnhance\n",
    "import numpy as np\n",
    "from pathlib import Path\n",
    "import random\n",
    "import plotly.express as px\n",
    "from scipy import ndimage\n",
    "import math\n",
    "from tqdm.auto import tqdm\n",
    "import pandas as pd"
   ]
  },
  {
   "cell_type": "code",
   "execution_count": 2,
   "id": "b971095f-b770-482c-9db3-23e5e263ec20",
   "metadata": {},
   "outputs": [],
   "source": [
    "import sys\n",
    "sys.path.append('../../30_data_tools/')\n",
    "\n",
    "from helper import load_dotenv"
   ]
  },
  {
   "cell_type": "code",
   "execution_count": 3,
   "id": "e3e4b7a9-8ec9-4f61-8ba4-9b30ef82e41b",
   "metadata": {},
   "outputs": [],
   "source": [
    "dotenv = load_dotenv()"
   ]
  },
  {
   "cell_type": "code",
   "execution_count": 4,
   "id": "29003fb5-43b6-4d83-b3b1-35af9eb90a8c",
   "metadata": {},
   "outputs": [],
   "source": [
    "tile_dataset = Path('../Model/dataset/train')"
   ]
  },
  {
   "cell_type": "code",
   "execution_count": 5,
   "id": "495274a4-d2e4-4db7-8039-18947248179c",
   "metadata": {},
   "outputs": [],
   "source": [
    "moire_images = list( (tile_dataset / 'moire').glob('./*.jpg') )"
   ]
  },
  {
   "cell_type": "code",
   "execution_count": 6,
   "id": "a27693ad-8475-496a-87ee-06b1c7753c35",
   "metadata": {},
   "outputs": [],
   "source": [
    "def get_fft( input_img ):\n",
    "    ft = np.fft.ifftshift(np.array(input_img)[:,:,0])\n",
    "    ft = np.fft.fft2(ft)\n",
    "    ft = np.fft.fftshift(ft)\n",
    "    \n",
    "    return ft\n",
    "\n",
    "def invert_fft (input_real, input_imaginary):\n",
    "    input = (input_real + 1j * input_imaginary)\n",
    "    ift = np.fft.ifftshift(input)\n",
    "    ift = np.fft.ifft2(ift)\n",
    "    ift = np.fft.fftshift(ift)\n",
    "    return ift.real"
   ]
  },
  {
   "cell_type": "code",
   "execution_count": 7,
   "id": "d5cddede-279f-4b15-89d4-000ea731ac3f",
   "metadata": {},
   "outputs": [],
   "source": [
    "def get_spherical_coordinate( x, y ):\n",
    "    r = math.sqrt( x ** 2 + y ** 2 )\n",
    "    angle = math.degrees(math.atan2(y,x))\n",
    "\n",
    "    return r, angle"
   ]
  },
  {
   "cell_type": "code",
   "execution_count": 8,
   "id": "3f2590ea-45fa-44e1-a925-364d542654eb",
   "metadata": {},
   "outputs": [],
   "source": [
    "def get_carthesian_coordinate( r, angle ):\n",
    "    x = r * math.cos(math.radians(angle))\n",
    "    y = r * math.sin(math.radians(angle))\n",
    "    return x, y"
   ]
  },
  {
   "cell_type": "code",
   "execution_count": 9,
   "id": "800fb020-5b5d-4fdb-a185-86f693028113",
   "metadata": {},
   "outputs": [],
   "source": [
    "def limit_frequencies( fft, inner_limit=None, outer_limit=None ):\n",
    "    center = (fft.shape[1] / 2, fft.shape[0] / 2)\n",
    "    for y in range(fft.shape[0]):\n",
    "        for x in range(fft.shape[1]):\n",
    "            r = math.sqrt( abs(center[0] - x) ** 2 + abs(center[1] - y) ** 2 )\n",
    "            \n",
    "            if outer_limit is not None and r > outer_limit:\n",
    "                fft[y,x] = 0\n",
    "    \n",
    "            if inner_limit is not None and r < inner_limit:\n",
    "                fft[y,x] = 0\n",
    "\n",
    "    return fft"
   ]
  },
  {
   "cell_type": "code",
   "execution_count": null,
   "id": "7894c6c4-88d2-4642-b896-6461bb66376f",
   "metadata": {},
   "outputs": [],
   "source": [
    "moire_path = random.choices(moire_images, k=1)[0]\n",
    "non_moire_path = tile_dataset / 'no_moire' / moire_path.name\n",
    "\n",
    "moire_img = Image.open( moire_path )\n",
    "no_moire_img = Image.open( non_moire_path )\n",
    "\n",
    "diff_img = Image.fromarray(np.array(moire_img) - np.array(no_moire_img))\n",
    "diff_img = diff_img.filter(ImageFilter.BoxBlur(2))\n",
    "enhancer = ImageEnhance.Contrast(diff_img)\n",
    "diff_img = enhancer.enhance(2)\n",
    "\n",
    "\n",
    "fft = get_fft(diff_img)\n",
    "fft = limit_frequencies( fft, inner_limit=10, outer_limit=130 )\n",
    "\n",
    "display_image = Image.new(size=(moire_img.size[0]*3, moire_img.size[1]), mode='L')\n",
    "display_image.paste(moire_img, (0,0))\n",
    "display_image.paste(no_moire_img, (moire_img.size[0],0))\n",
    "display_image.paste(diff_img, (moire_img.size[0]*2,0))\n",
    "\n",
    "display_image"
   ]
  },
  {
   "cell_type": "code",
   "execution_count": null,
   "id": "6034ce6f-8442-44e8-bec0-5885b44cc002",
   "metadata": {},
   "outputs": [],
   "source": [
    "1/55 * 240"
   ]
  },
  {
   "cell_type": "code",
   "execution_count": null,
   "id": "cd62b417-6307-43c5-9d9f-62a20af176d7",
   "metadata": {},
   "outputs": [],
   "source": [
    "600 / 150"
   ]
  },
  {
   "cell_type": "code",
   "execution_count": null,
   "id": "6baa891f-0011-406e-8fa3-7b519b00075a",
   "metadata": {},
   "outputs": [],
   "source": [
    "real_moire_dataset = Path('../Model/dataset/real_val/moire/')\n",
    "real_moire_paths = list( real_moire_dataset.glob('./*.jpg') )"
   ]
  },
  {
   "cell_type": "code",
   "execution_count": null,
   "id": "a2c2a2b9-d21e-4cc8-814f-9b9f0db9a92a",
   "metadata": {},
   "outputs": [],
   "source": [
    "real_moire_img = real_moire_paths[2]\n",
    "moire_img = Image.open(real_moire_img)\n",
    "\n",
    "moire_img"
   ]
  },
  {
   "cell_type": "code",
   "execution_count": null,
   "id": "e10bee96-276c-4d86-8765-74c8056df723",
   "metadata": {},
   "outputs": [],
   "source": [
    "fft_moire = limit_frequencies( get_fft(moire_img), inner_limit=10, outer_limit=130 )\n",
    "\n",
    "px.imshow( ndimage.uniform_filter( np.abs(fft_moire) , size=5 )[65:215,65:215], zmax = 30000 )"
   ]
  },
  {
   "cell_type": "code",
   "execution_count": null,
   "id": "87f8cb9f-a16e-4b01-b825-4a8e28319eda",
   "metadata": {},
   "outputs": [],
   "source": [
    "1/74 * 240"
   ]
  },
  {
   "cell_type": "code",
   "execution_count": null,
   "id": "014011a0-ea13-47e5-b3b8-8ee4908f004f",
   "metadata": {},
   "outputs": [],
   "source": [
    "example_tile_path = Path('./testkachel.jpg')\n",
    "no_moire_img = Image.open(example_tile_path)\n"
   ]
  },
  {
   "cell_type": "code",
   "execution_count": null,
   "id": "bbfbebc4-0654-42d2-8dc2-2ad2b204ae60",
   "metadata": {},
   "outputs": [],
   "source": [
    "no_moire_img"
   ]
  },
  {
   "cell_type": "code",
   "execution_count": null,
   "id": "b137affd-3c80-4553-b9a6-9ca4970a25ce",
   "metadata": {},
   "outputs": [],
   "source": [
    "fft = get_fft( no_moire_img )"
   ]
  },
  {
   "cell_type": "code",
   "execution_count": null,
   "id": "60072a8f-5483-4c29-a0c0-942265e5ebbb",
   "metadata": {},
   "outputs": [],
   "source": [
    "inverted_fft = invert_fft(\n",
    "    real_moire,\n",
    "    imag_moire\n",
    ").round()\n",
    "\n",
    "inverted_fft[inverted_fft < 0] = 0\n",
    "inverted_fft[inverted_fft > 255] = 255\n",
    "\n",
    "Image.fromarray(\n",
    "    inverted_fft.astype('uint8')\n",
    ").save('./neue_kachel.jpg')"
   ]
  },
  {
   "cell_type": "code",
   "execution_count": null,
   "id": "4f2333a7-7488-4d6b-96ed-5b556c80edfb",
   "metadata": {},
   "outputs": [],
   "source": [
    "inverted_fft[\n",
    "    135:145,\n",
    "    135:145\n",
    "]"
   ]
  },
  {
   "cell_type": "code",
   "execution_count": null,
   "id": "703a977a-867a-4e5e-8bf2-af2595fddf8a",
   "metadata": {},
   "outputs": [],
   "source": [
    "inverted_fft.max(), inverted_fft.min()"
   ]
  },
  {
   "cell_type": "code",
   "execution_count": null,
   "id": "8735f118-ee4d-4d26-8e5e-eabc24d9ec25",
   "metadata": {},
   "outputs": [],
   "source": [
    "no_moire_img"
   ]
  },
  {
   "cell_type": "code",
   "execution_count": null,
   "id": "5296fc7e-d5a2-40df-a1a4-4fbd97c7711e",
   "metadata": {},
   "outputs": [],
   "source": [
    "px.imshow(\n",
    "    np.abs(real_moire)\n",
    ")"
   ]
  },
  {
   "cell_type": "code",
   "execution_count": null,
   "id": "43869a67-e927-4b49-aed4-3720d59b9ebd",
   "metadata": {},
   "outputs": [],
   "source": [
    "1 / 127.27922061357856 * 280"
   ]
  },
  {
   "cell_type": "code",
   "execution_count": null,
   "id": "ff1ac548-b2f5-4ee2-9d17-5252dca18311",
   "metadata": {},
   "outputs": [],
   "source": [
    "math.sqrt( 90 ** 2 * 2 )"
   ]
  },
  {
   "cell_type": "code",
   "execution_count": null,
   "id": "ff7db85b-bf14-49a6-bd39-4f3e450e9f92",
   "metadata": {},
   "outputs": [],
   "source": [
    "fft_moire = get_fft(no_moire_img)\n",
    "real_moire = fft_moire.real\n",
    "imag_moire = fft_moire.imag\n",
    "\n",
    "adjust_value = 2500 / fft_moire[\n",
    "    20:80,\n",
    "    20:80\n",
    "].mean()\n",
    "\n",
    "fft_moire[\n",
    "    20:80,\n",
    "    20:80\n",
    "] = fft_moire[\n",
    "    20:80,\n",
    "    20:80\n",
    "] * adjust_value\n",
    "\n",
    "adjust_value = 2500 / fft_moire[\n",
    "    200:260,\n",
    "    200:260\n",
    "].mean().abs()\n",
    "\n",
    "print( adjust_value.real )\n",
    "\n",
    "fft_moire[\n",
    "    200:260,\n",
    "    200:260\n",
    "] = fft_moire[\n",
    "    200:260,\n",
    "    200:260\n",
    "] * adjust_value\n",
    "\n",
    "px.imshow( ndimage.uniform_filter( np.abs(limit_frequencies( real_moire.copy(), inner_limit=10 )) , size=5), zmax = 30000 )"
   ]
  },
  {
   "cell_type": "code",
   "execution_count": null,
   "id": "b53dd315-d565-4add-8cb7-157eb175883e",
   "metadata": {},
   "outputs": [],
   "source": [
    "px.imshow( ndimage.uniform_filter( np.abs(fft) , size=5) )"
   ]
  },
  {
   "cell_type": "code",
   "execution_count": null,
   "id": "9ccf2a37-6bf4-4ed9-b5c4-190bcadbda68",
   "metadata": {},
   "outputs": [],
   "source": [
    "filtered = ndimage.uniform_filter( np.abs(fft) , size=5)[85:195,85:195]\n",
    "#filtered = filtered ** 2\n",
    "filtered[filtered < filtered.max() * 0.6] = 0\n",
    "filtered = ndimage.uniform_filter( np.abs(filtered) , size=5)\n",
    "\n",
    "px.imshow( filtered )"
   ]
  },
  {
   "cell_type": "code",
   "execution_count": null,
   "id": "96e21a5b-9638-44ce-b06e-8ca1755c9865",
   "metadata": {},
   "outputs": [],
   "source": [
    "rundung = ndimage.uniform_filter( np.abs(fft) , size=5)[85:195,85:195]"
   ]
  },
  {
   "cell_type": "code",
   "execution_count": null,
   "id": "2070d50b-53ba-47ff-a084-3eb998ae939d",
   "metadata": {},
   "outputs": [],
   "source": [
    "vorschub_linie = ndimage.uniform_filter( np.abs(fft) , size=5)[85:195,85:195]"
   ]
  },
  {
   "cell_type": "code",
   "execution_count": null,
   "id": "d7905598-5da6-4ac9-8b6e-5fbaffe905fa",
   "metadata": {},
   "outputs": [],
   "source": [
    "linie_normal2 = ndimage.uniform_filter( np.abs(fft) , size=5)[85:195,85:195]"
   ]
  },
  {
   "cell_type": "code",
   "execution_count": null,
   "id": "6095e08e-ac66-48dd-9d96-969c1a83bd80",
   "metadata": {},
   "outputs": [],
   "source": [
    "linie_normal = ndimage.uniform_filter( np.abs(fft) , size=5)[85:195,85:195]"
   ]
  },
  {
   "cell_type": "code",
   "execution_count": null,
   "id": "a91a258b-bfff-4a0a-80bc-48103ee8ffe2",
   "metadata": {},
   "outputs": [],
   "source": [
    "karree = ndimage.uniform_filter( np.abs(fft) , size=5)[85:195,85:195]"
   ]
  },
  {
   "cell_type": "code",
   "execution_count": null,
   "id": "db7ca7be-ac0f-4740-9b25-7f3430a77bf6",
   "metadata": {},
   "outputs": [],
   "source": [
    "px.imshow(karree)"
   ]
  },
  {
   "cell_type": "code",
   "execution_count": null,
   "id": "77509e43-d879-44f0-859f-0d76ba208e92",
   "metadata": {},
   "outputs": [],
   "source": [
    "filtered.shape"
   ]
  },
  {
   "cell_type": "code",
   "execution_count": null,
   "id": "4afe9060-5871-4bcc-a88f-90c26925d962",
   "metadata": {},
   "outputs": [],
   "source": [
    "r, angle = get_main_impulse( filtered )\n",
    "\n",
    "r, 1/r * 280, angle"
   ]
  },
  {
   "cell_type": "code",
   "execution_count": null,
   "id": "20179dca-0ca3-4c33-8bc1-a5ae43afe1bf",
   "metadata": {},
   "outputs": [],
   "source": [
    "moire_img.save('./sample.jpg')"
   ]
  },
  {
   "cell_type": "code",
   "execution_count": null,
   "id": "ef3fa2be-aadc-420f-a443-062c0dc67c30",
   "metadata": {},
   "outputs": [],
   "source": [
    "def get_main_impulse( fft ):\n",
    "    filtered = ndimage.uniform_filter( np.abs(fft) , size=5)\n",
    "    pos = np.unravel_index(np.argmax(filtered, axis=None), filtered.shape)\n",
    "    x = pos[1] - fft.shape[1] / 2\n",
    "    y = pos[0] - fft.shape[0] / 2\n",
    "    \n",
    "    r, angle = get_spherical_coordinate(x,y)\n",
    "\n",
    "    return r, angle"
   ]
  },
  {
   "cell_type": "code",
   "execution_count": null,
   "id": "744cde45-42ec-4b1c-a13b-cdd65363ba2c",
   "metadata": {},
   "outputs": [],
   "source": [
    "selected_moires = random.choices(moire_images, k=1000)\n",
    "rows = []\n",
    "\n",
    "for moire_path in tqdm(selected_moires):\n",
    "    non_moire_path = tile_dataset / 'no_moire' / moire_path.name\n",
    "    \n",
    "    moire_img = Image.open( moire_path )\n",
    "    no_moire_img = Image.open( non_moire_path )\n",
    "    \n",
    "    diff_img = Image.fromarray(np.array(moire_img) - np.array(no_moire_img))\n",
    "    \n",
    "    fft = get_fft(diff_img.filter(ImageFilter.BoxBlur(2)))\n",
    "    fft[138:142,138:142] = 0\n",
    "\n",
    "    r, angle = get_main_impulse( fft )\n",
    "    angle = angle + 90\n",
    "    T = 1 / r * 280\n",
    "    \n",
    "    rows.append((\n",
    "        moire_path.name,\n",
    "        T,\n",
    "        angle\n",
    "    ))\n",
    "\n",
    "data = pd.DataFrame(\n",
    "    rows,\n",
    "    columns=[\n",
    "        'img_name',\n",
    "        'pattern_period',\n",
    "        'angle'\n",
    "    ]\n",
    ")"
   ]
  },
  {
   "cell_type": "code",
   "execution_count": null,
   "id": "e0eeaaaf-c067-434a-b8be-d487984e23cc",
   "metadata": {},
   "outputs": [],
   "source": [
    "data"
   ]
  },
  {
   "cell_type": "code",
   "execution_count": null,
   "id": "0ee84518-eb81-4b5f-94ba-b1339d5725f4",
   "metadata": {},
   "outputs": [],
   "source": [
    "selected_images = data.loc[\n",
    "    data.pattern_period == 70\n",
    "]"
   ]
  },
  {
   "cell_type": "code",
   "execution_count": null,
   "id": "e8bf4acc-2a4c-4e60-b202-eae365622fd7",
   "metadata": {},
   "outputs": [],
   "source": [
    "row = moire_images.iloc[6]\n",
    "\n",
    "print( row.pattern_period, row.angle )\n",
    "Image.open( tile_dataset / 'moire' / row.img_name )"
   ]
  },
  {
   "cell_type": "code",
   "execution_count": null,
   "id": "be17d53b-48ff-4805-8d87-2ff9707953c1",
   "metadata": {},
   "outputs": [],
   "source": [
    "import cv2\n",
    "from sklearn.cluster import KMeans"
   ]
  },
  {
   "cell_type": "code",
   "execution_count": null,
   "id": "504794e7-70dd-451b-9393-5f1bf14c9ad6",
   "metadata": {},
   "outputs": [],
   "source": [
    "dot"
   ]
  },
  {
   "cell_type": "code",
   "execution_count": null,
   "id": "cbef1dc8-47db-4d96-9cf3-b88464660c86",
   "metadata": {},
   "outputs": [],
   "source": [
    "moire_img"
   ]
  },
  {
   "cell_type": "code",
   "execution_count": null,
   "id": "3ceaf3bb-26bc-41cf-b032-6a34a0021170",
   "metadata": {},
   "outputs": [],
   "source": [
    "X = []\n",
    "\n",
    "for moire_path in tqdm(selected_moires):\n",
    "    non_moire_path = tile_dataset / 'no_moire' / moire_path.name\n",
    "    \n",
    "    moire_img = Image.open( moire_path )\n",
    "    no_moire_img = Image.open( non_moire_path )\n",
    "    \n",
    "    diff_img = Image.fromarray(np.array(moire_img) - np.array(no_moire_img))\n",
    "    diff_img = diff_img.filter(ImageFilter.BoxBlur(2))\n",
    "    enhancer = ImageEnhance.Contrast(diff_img)\n",
    "    diff_img = enhancer.enhance(2)\n",
    "    \n",
    "    fft = get_fft(diff_img.filter(ImageFilter.BoxBlur(2)))\n",
    "    fft = limit_frequencies( fft, inner_limit=10, outer_limit=130 )\n",
    "\n",
    "    filtered = ndimage.uniform_filter( np.abs(fft) , size=5)[85:195,85:195]\n",
    "    #filtered = filtered ** 2\n",
    "    filtered[filtered < filtered.max() * 0.6] = 0\n",
    "    filtered = ndimage.uniform_filter( np.abs(filtered) , size=5)\n",
    "                \n",
    "    resized = cv2.resize(\n",
    "        filtered,\n",
    "        (50,50)\n",
    "    )\n",
    "    resized /= resized.max()\n",
    "\n",
    "    X.append(resized)"
   ]
  },
  {
   "cell_type": "code",
   "execution_count": null,
   "id": "a9d6255f-e9c3-4e3a-b60a-0ddf347ba480",
   "metadata": {},
   "outputs": [],
   "source": [
    "X_train = np.array([entry.reshape((50*50,)) for entry in X])"
   ]
  },
  {
   "cell_type": "code",
   "execution_count": null,
   "id": "10c45c33-0ccd-4de1-91f9-26938fec9db7",
   "metadata": {},
   "outputs": [],
   "source": [
    "def display_image_grid( images, img_size=(280,280) ):\n",
    "    cols = 5\n",
    "    rows = math.ceil( len(images) / cols )\n",
    "    \n",
    "    display_image = Image.new(\n",
    "        size=(img_size[0]*cols,img_size[1]*rows),\n",
    "        mode='RGB'\n",
    "    )\n",
    "    \n",
    "    for i in range(len(images)):\n",
    "        row = math.floor(i / cols)\n",
    "        col = i % cols\n",
    "\n",
    "        display_image.paste(\n",
    "            Image.open(images[i]),\n",
    "            (col*img_size[0],row*img_size[1])\n",
    "        )\n",
    "\n",
    "    return display_image"
   ]
  },
  {
   "cell_type": "markdown",
   "id": "c457126e-6429-4607-9223-2eeb6937d586",
   "metadata": {},
   "source": [
    "# Silhouette Analysis"
   ]
  },
  {
   "cell_type": "code",
   "execution_count": null,
   "id": "fbd1bfd2-2012-4b71-bb01-d2e3b4c80bbf",
   "metadata": {},
   "outputs": [],
   "source": [
    "from sklearn.metrics import silhouette_samples, silhouette_score"
   ]
  },
  {
   "cell_type": "code",
   "execution_count": null,
   "id": "cec1a288-30cb-4c3e-93e1-a4f24ee41bd0",
   "metadata": {},
   "outputs": [],
   "source": [
    "for n_clusters in range(2,10):\n",
    "\n",
    "    # Initialize the clusterer with n_clusters value and a random generator\n",
    "    # seed of 10 for reproducibility.\n",
    "    clusterer = KMeans(n_clusters=n_clusters, random_state=0, n_init=\"auto\").fit(X_train)\n",
    "    cluster_labels = clusterer.fit_predict(X_train)\n",
    "\n",
    "    # The silhouette_score gives the average value for all the samples.\n",
    "    # This gives a perspective into the density and separation of the formed\n",
    "    # clusters\n",
    "    silhouette_avg = silhouette_score(X_train, cluster_labels)\n",
    "    print(\n",
    "        \"For n_clusters =\",\n",
    "        n_clusters,\n",
    "        \"The average silhouette_score is :\",\n",
    "        silhouette_avg,\n",
    "    )\n",
    "\n",
    "    # Compute the silhouette scores for each sample\n",
    "    sample_silhouette_values = silhouette_samples(X_train, cluster_labels)"
   ]
  },
  {
   "cell_type": "code",
   "execution_count": null,
   "id": "854fff53-6286-43f5-bddc-4e5e9827d05b",
   "metadata": {},
   "outputs": [],
   "source": [
    "kmeans = KMeans(n_clusters=6, random_state=0, n_init=\"auto\").fit(X_train)"
   ]
  },
  {
   "cell_type": "code",
   "execution_count": null,
   "id": "40972b89-5a38-452a-ad2b-4e87deaedd49",
   "metadata": {},
   "outputs": [],
   "source": [
    "display_image_grid( [selected_moires[i] for i in range(len(selected_moires)) if kmeans.labels_[i] == 2][:50] )"
   ]
  },
  {
   "cell_type": "code",
   "execution_count": null,
   "id": "de02184c-429e-447f-8cd0-87e7d921760d",
   "metadata": {},
   "outputs": [],
   "source": [
    "moire_path = random.choice(moire_images)\n",
    "non_moire_path = tile_dataset / 'no_moire' / moire_path.name\n",
    "\n",
    "moire_img = Image.open( moire_path )\n",
    "no_moire_img = Image.open( non_moire_path )\n",
    "\n",
    "diff_img = Image.fromarray(np.array(moire_img) - np.array(no_moire_img))\n",
    "\n",
    "fft = get_fft(diff_img.filter(ImageFilter.BoxBlur(2)))\n",
    "fft = limit_frequencies( fft, inner_limit=10, outer_limit=130 )\n",
    "\n",
    "r, angle = get_main_impulse( fft )\n",
    "angle = angle + 90\n",
    "T = 1 / r * 280\n",
    "\n",
    "print(T, angle)\n",
    "\n",
    "px.imshow(ndimage.uniform_filter( np.abs(fft) , size=5))"
   ]
  },
  {
   "cell_type": "code",
   "execution_count": null,
   "id": "80ef8f45-35b4-493f-b486-c995c15256ff",
   "metadata": {},
   "outputs": [],
   "source": [
    "coors = [\n",
    "    (155,117),\n",
    "    (123,145),\n",
    "    (137,155),\n",
    "    (129,123),\n",
    "    (147,113),\n",
    "    (142,120),\n",
    "    (128,128),\n",
    "    (129,145),\n",
    "    (154,150),\n",
    "    (150,143),\n",
    "    (117,138)\n",
    "]"
   ]
  },
  {
   "cell_type": "code",
   "execution_count": null,
   "id": "da6b0e34-dc97-4eb3-8de4-c733cd79b5b1",
   "metadata": {},
   "outputs": [],
   "source": [
    "for co in coors:\n",
    "    print( get_spherical_coordinate(140 - co[0],140 - co[1]) )"
   ]
  },
  {
   "cell_type": "code",
   "execution_count": null,
   "id": "ff599355-8f6f-4f9a-9879-cb8b5c65fdb9",
   "metadata": {},
   "outputs": [],
   "source": [
    "moire_img"
   ]
  },
  {
   "cell_type": "code",
   "execution_count": null,
   "id": "56968926-e92b-49c9-bad2-67a1e55e503a",
   "metadata": {},
   "outputs": [],
   "source": [
    "moire_path"
   ]
  },
  {
   "cell_type": "code",
   "execution_count": null,
   "id": "1825b68e-3a1a-40b3-9eec-d3b4a05436ee",
   "metadata": {},
   "outputs": [],
   "source": [
    "diff_img.save('./test.jpg')"
   ]
  }
 ],
 "metadata": {
  "kernelspec": {
   "display_name": "Python 3 (ipykernel)",
   "language": "python",
   "name": "python3"
  },
  "language_info": {
   "codemirror_mode": {
    "name": "ipython",
    "version": 3
   },
   "file_extension": ".py",
   "mimetype": "text/x-python",
   "name": "python",
   "nbconvert_exporter": "python",
   "pygments_lexer": "ipython3",
   "version": "3.10.11"
  }
 },
 "nbformat": 4,
 "nbformat_minor": 5
}
