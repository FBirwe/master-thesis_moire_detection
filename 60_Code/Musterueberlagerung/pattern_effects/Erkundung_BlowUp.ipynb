{
 "cells": [
  {
   "cell_type": "code",
   "execution_count": null,
   "id": "7629f671-c34b-4796-b947-878dae6e2bb2",
   "metadata": {},
   "outputs": [],
   "source": [
    "import sys\n",
    "sys.path.append('../../../30_data_tools/')"
   ]
  },
  {
   "cell_type": "code",
   "execution_count": null,
   "id": "65cf1f76-f1e7-4b73-ac96-856d0a0469c6",
   "metadata": {},
   "outputs": [],
   "source": [
    "from blow_up import blow_up, contract, interpolate_radius, blow_up_region, contract_region\n",
    "from pathlib import Path\n",
    "import numpy as np\n",
    "from PIL import Image\n",
    "import plotly.express as px\n",
    "import math\n",
    "from scipy.special import expit as logistic"
   ]
  },
  {
   "cell_type": "code",
   "execution_count": null,
   "id": "2bfc2fe7-2d52-45e8-a443-1d76f5792694",
   "metadata": {},
   "outputs": [],
   "source": [
    "from helper import load_dotenv"
   ]
  },
  {
   "cell_type": "code",
   "execution_count": null,
   "id": "f140a7ba-794e-4aec-a836-c8659352b11d",
   "metadata": {},
   "outputs": [],
   "source": [
    "Image.MAX_IMAGE_PIXELS = None"
   ]
  },
  {
   "cell_type": "code",
   "execution_count": null,
   "id": "b722a341-9965-4c5f-919f-f43cdf6af8c0",
   "metadata": {},
   "outputs": [],
   "source": [
    "dotenv = load_dotenv()"
   ]
  },
  {
   "cell_type": "code",
   "execution_count": null,
   "id": "f79620aa",
   "metadata": {},
   "outputs": [],
   "source": [
    "pattern_paths = list(dotenv['PATTERN_DIR'].glob('./*.tif'))"
   ]
  },
  {
   "cell_type": "code",
   "execution_count": null,
   "id": "e931e727-d9c9-4e86-91af-0e2ffb42a736",
   "metadata": {},
   "outputs": [],
   "source": [
    "orig_img = Image.open(pattern_paths[0])\n",
    "\n",
    "orig_img = orig_img.convert('L').resize((\n",
    "    int(orig_img.size[0] * (600 / 2400)),int(orig_img.size[1] * (600 / 2400))\n",
    "))"
   ]
  },
  {
   "cell_type": "code",
   "execution_count": null,
   "id": "f5a65ab1-0ad3-4270-b894-bc0a9ca4ea27",
   "metadata": {},
   "outputs": [],
   "source": [
    "def interpolate_radius( r, radius, c, is_blow_up=True ):\n",
    "    interpolation_factor = r / radius\n",
    "    direction_factor = 1 if is_blow_up else -1\n",
    "    return (interpolation_factor * r + (1.0 - interpolation_factor) * c * math.sqrt(r) * direction_factor)"
   ]
  },
  {
   "cell_type": "code",
   "execution_count": null,
   "id": "44958df0-4cb2-416a-b381-db7c50676fcf",
   "metadata": {},
   "outputs": [],
   "source": [
    "for i in range(100):\n",
    "    print(i, interpolate_radius(i,100,8, is_blow_up=False))"
   ]
  },
  {
   "cell_type": "code",
   "execution_count": null,
   "id": "b88ecc69-80df-40ac-aa7a-a29bf0644ed5",
   "metadata": {},
   "outputs": [],
   "source": [
    "px.line(\n",
    "    y=[r - interpolate_radius(r,1000,10, is_blow_up=False) for r in range(1000)]\n",
    ")"
   ]
  },
  {
   "cell_type": "code",
   "execution_count": null,
   "id": "fe9f3df1",
   "metadata": {},
   "outputs": [],
   "source": [
    "def interpolate_radius_test( r, radius, c, is_blow_up=True ):\n",
    "    return r ** 2 / radius ** 2 * radius\n",
    "\n",
    "\n",
    "px.line(\n",
    "    y=[interpolate_radius_test(r,1000,10) for r in range(1000)]\n",
    ")"
   ]
  },
  {
   "cell_type": "code",
   "execution_count": null,
   "id": "69dcf4d0",
   "metadata": {},
   "outputs": [],
   "source": [
    "def interpolate_radius_test( r, radius, c, is_blow_up=True ):\n",
    "    factor = ((math.sin(2 * math.pi * r / radius))) * 0.5\n",
    "\n",
    "    return r + factor * radius\n",
    "\n",
    "px.line(\n",
    "    y=[r - interpolate_radius_test(r,1000,10) for r in range(1000)]\n",
    ")"
   ]
  },
  {
   "cell_type": "code",
   "execution_count": null,
   "id": "c0cfc350-c090-4f77-950a-d0b68379a95a",
   "metadata": {},
   "outputs": [],
   "source": [
    "px.line(\n",
    "    y=[r-interpolate_radius(r,1000,15, is_blow_up=False) for r in range(1000)]\n",
    ")"
   ]
  },
  {
   "cell_type": "code",
   "execution_count": null,
   "id": "8776d21d-a53c-4c67-bae2-28bc34e3a245",
   "metadata": {},
   "outputs": [],
   "source": [
    "px.line(\n",
    "    y=[r-interpolate_radius(r,1000,15) for r in range(1000)]\n",
    ")"
   ]
  },
  {
   "cell_type": "code",
   "execution_count": null,
   "id": "acf9b25a-ccf7-4da7-978a-9e54e2f500b2",
   "metadata": {},
   "outputs": [],
   "source": [
    "img = orig_img.crop((0,0,1000,1000))"
   ]
  },
  {
   "cell_type": "code",
   "execution_count": null,
   "id": "af40b749-c427-4a50-a08d-000a0cab0e0c",
   "metadata": {},
   "outputs": [],
   "source": [
    "blow_up(img, 8)"
   ]
  },
  {
   "cell_type": "code",
   "execution_count": null,
   "id": "f7c71511-f685-4ec1-b580-d8f5bfd559a4",
   "metadata": {},
   "outputs": [],
   "source": [
    "contract(img, 8).save('./test_contract.jpg')"
   ]
  },
  {
   "cell_type": "code",
   "execution_count": null,
   "id": "8a20acf7",
   "metadata": {},
   "outputs": [],
   "source": [
    "orig_img.size"
   ]
  },
  {
   "cell_type": "code",
   "execution_count": null,
   "id": "f8886be6",
   "metadata": {},
   "outputs": [],
   "source": [
    "import random"
   ]
  },
  {
   "cell_type": "code",
   "execution_count": null,
   "id": "7d4be2bb",
   "metadata": {},
   "outputs": [],
   "source": [
    "img = blow_up(orig_img, 8)\n",
    "\n",
    "for i in range(8):\n",
    "    r = 25 + random.randrange(200)\n",
    "    center = (\n",
    "        random.randrange( img.size[0] - r * 2 ),\n",
    "        random.randrange( img.size[0] - r * 2 )\n",
    "    )\n",
    "    img = blow_up_region( img, r, center, random.random() )\n",
    "\n",
    "for i in range(8):\n",
    "    r = 25 + random.randrange(200)\n",
    "    center = (\n",
    "        random.randrange( img.size[0] - r * 2 ),\n",
    "        random.randrange( img.size[0] - r * 2 )\n",
    "    )\n",
    "    img = contract_region( img, r, center, random.random() )"
   ]
  },
  {
   "cell_type": "code",
   "execution_count": null,
   "id": "d6e8e9c8",
   "metadata": {},
   "outputs": [],
   "source": [
    "np.array(img).min()"
   ]
  },
  {
   "cell_type": "code",
   "execution_count": null,
   "id": "644e269d",
   "metadata": {},
   "outputs": [],
   "source": [
    "img"
   ]
  }
 ],
 "metadata": {
  "kernelspec": {
   "display_name": "Python 3 (ipykernel)",
   "language": "python",
   "name": "python3"
  },
  "language_info": {
   "codemirror_mode": {
    "name": "ipython",
    "version": 3
   },
   "file_extension": ".py",
   "mimetype": "text/x-python",
   "name": "python",
   "nbconvert_exporter": "python",
   "pygments_lexer": "ipython3",
   "version": "3.10.11"
  }
 },
 "nbformat": 4,
 "nbformat_minor": 5
}
