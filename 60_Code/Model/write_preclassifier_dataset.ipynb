{
 "cells": [
  {
   "cell_type": "code",
   "execution_count": null,
   "id": "dc7f9642-6dfd-4916-b7be-8538855717e1",
   "metadata": {},
   "outputs": [],
   "source": [
    "import sys\n",
    "sys.path.append('../../30_data_tools/')\n",
    "sys.path.append('../process_masks/')"
   ]
  },
  {
   "cell_type": "code",
   "execution_count": null,
   "id": "9e1ee079-1e2d-4a21-aa25-92087893f8fa",
   "metadata": {},
   "outputs": [],
   "source": [
    "from pathlib import Path\n",
    "import random"
   ]
  },
  {
   "cell_type": "code",
   "execution_count": null,
   "id": "602cd8ca-97b7-4b97-aa3b-9f046ae4e1eb",
   "metadata": {},
   "outputs": [],
   "source": [
    "from PIL import Image\n",
    "import numpy as np\n",
    "from tqdm import tqdm\n",
    "from sklearn.model_selection import train_test_split"
   ]
  },
  {
   "cell_type": "code",
   "execution_count": null,
   "id": "8e459aa9-3b77-41d0-847e-c9c72f16a3b3",
   "metadata": {},
   "outputs": [],
   "source": [
    "from load_dataset import get_available_moires"
   ]
  },
  {
   "cell_type": "code",
   "execution_count": null,
   "id": "e5563485-d157-4d53-8a47-41019f60489f",
   "metadata": {},
   "outputs": [],
   "source": [
    "from helper import load_dotenv\n",
    "from get_labelstudio_data import get_moires_of_project, get_results_of_project\n",
    "from mask_functions import load_masks, get_whole_mask"
   ]
  },
  {
   "cell_type": "code",
   "execution_count": null,
   "id": "87358841-4849-465a-8821-5271969a839d",
   "metadata": {},
   "outputs": [],
   "source": [
    "import re"
   ]
  },
  {
   "cell_type": "code",
   "execution_count": null,
   "id": "baf7d609-0aa2-4a90-b426-d3fa35bcec02",
   "metadata": {},
   "outputs": [],
   "source": [
    "dotenv = load_dotenv()"
   ]
  },
  {
   "cell_type": "code",
   "execution_count": null,
   "id": "b690df52-d165-4e91-abd3-06a4c3b4dba8",
   "metadata": {},
   "outputs": [],
   "source": [
    "IMG_SIZE = (\n",
    "    280,\n",
    "    280\n",
    ")\n",
    "MIN_MASK_PARTIAL = 0.5"
   ]
  },
  {
   "cell_type": "code",
   "execution_count": null,
   "id": "25169ee7-9d1a-4805-bb34-58885be43d87",
   "metadata": {},
   "outputs": [],
   "source": [
    "def get_masks_path( row ):\n",
    "    return row.img_path.parent / row.img_path.name.replace('.4c.jpg','.masks.pkl')"
   ]
  },
  {
   "cell_type": "code",
   "execution_count": null,
   "id": "3efec71e-285a-4064-a789-9d2bd5f809b0",
   "metadata": {},
   "outputs": [],
   "source": [
    "def process_row( rows ):\n",
    "    images = list(rows.iloc[0].img_path.parent.parent.glob(f'./vps2400dpi*lpi/{rows.iloc[0].img_path.name.strip(\".4c\" + rows.iloc[0].img_path.suffix)}*.jpg'))\n",
    "\n",
    "    if len(images) > 0:\n",
    "        img_path = images[0]\n",
    "        masks = load_masks( get_masks_path( rows.iloc[0] ) )\n",
    "        total_mask = np.zeros((1,1))\n",
    "        \n",
    "        for i in range(rows.shape[0]):\n",
    "            row = rows.iloc[i]\n",
    "            mask = [m for m in masks if m['bbox'] == row.bbox][0]\n",
    "            whole_mask = get_whole_mask(mask).astype('bool')\n",
    "            \n",
    "            if total_mask.shape[0] == 1 and total_mask.shape[1] == 1:\n",
    "                total_mask = np.zeros(whole_mask.shape)\n",
    "            \n",
    "            total_mask[whole_mask] = 1\n",
    "\n",
    "\n",
    "        return total_mask\n",
    "\n",
    "total_mask = process_row( df.loc[df.img_path == df.iloc[0].img_path] )"
   ]
  },
  {
   "cell_type": "code",
   "execution_count": null,
   "id": "4d43f811-cad2-48b4-851c-21be2a651c58",
   "metadata": {},
   "outputs": [],
   "source": [
    "Image.fromarray(total_mask * 255).convert('L')"
   ]
  },
  {
   "cell_type": "code",
   "execution_count": null,
   "id": "030f2683-d503-4a35-9a19-ffe673f11c60",
   "metadata": {},
   "outputs": [],
   "source": [
    "df.groupby('img_path').count()"
   ]
  },
  {
   "cell_type": "code",
   "execution_count": null,
   "id": "5720276b-1b4b-48f0-950b-463aee584a89",
   "metadata": {},
   "outputs": [],
   "source": [
    "DATASET_DIR = Path('./dataset/')"
   ]
  },
  {
   "cell_type": "code",
   "execution_count": null,
   "id": "08c66b74-ea2e-4434-9693-522e6cd86c97",
   "metadata": {},
   "outputs": [],
   "source": [
    "def write_tiles( data, labels, set_name ):\n",
    "    set_dir = DATASET_DIR / set_name\n",
    "    if set_dir.exists() == False:\n",
    "        set_dir.mkdir()\n",
    "\n",
    "    for i in tqdm(range(len(data))):\n",
    "        parent_dir_name = 'no_moire' if labels[i] == 0 else 'moire'\n",
    "        parent_dir = set_dir / parent_dir_name\n",
    "\n",
    "        if parent_dir.exists() == False:\n",
    "            parent_dir.mkdir()\n",
    "        \n",
    "        out_path = parent_dir / f\"{str(i).zfill(4)}.jpg\"\n",
    "    \n",
    "        img = Image.fromarray( np.uint8(data[i] * 255) ).convert('RGB')\n",
    "        img.save( out_path, progressive=True )"
   ]
  },
  {
   "cell_type": "code",
   "execution_count": null,
   "id": "5bb873f2-8f06-47d6-b29a-5a08131588ac",
   "metadata": {},
   "outputs": [],
   "source": [
    "0 / 0"
   ]
  },
  {
   "cell_type": "code",
   "execution_count": null,
   "id": "2e5909c5-d606-4e23-9b18-41b2554f3415",
   "metadata": {},
   "outputs": [],
   "source": [
    "df = get_available_moires()"
   ]
  },
  {
   "cell_type": "code",
   "execution_count": null,
   "id": "0033fcfb-cff8-4a57-8577-23848efd02a8",
   "metadata": {},
   "outputs": [],
   "source": [
    "TEST_SIZE = .2\n",
    "VAL_SIZE = .1"
   ]
  },
  {
   "cell_type": "code",
   "execution_count": null,
   "id": "a55d1460-a246-4d81-aac5-86bacaa15dc8",
   "metadata": {},
   "outputs": [],
   "source": [
    "sample = df.sample(frac=1)\n",
    "test_limiter = round(sample.shape[0] * TEST_SIZE)\n",
    "val_limiter = test_limiter + round(sample.shape[0] * VAL_SIZE)\n",
    "\n",
    "test_rows = sample.iloc[:test_limiter]\n",
    "val_rows = sample.iloc[test_limiter:val_limiter]\n",
    "train_rows = sample.iloc[val_limiter:]"
   ]
  },
  {
   "cell_type": "code",
   "execution_count": null,
   "id": "768c6dad-8a34-4a81-9fea-61d922ecdb4a",
   "metadata": {},
   "outputs": [],
   "source": [
    "generate_tiles( train_rows, 'train' )\n",
    "generate_tiles( test_rows, 'test' )\n",
    "generate_tiles( val_rows, 'val' )"
   ]
  },
  {
   "cell_type": "markdown",
   "id": "54ef77d2-947c-4168-b27a-fcc9c9f53c73",
   "metadata": {},
   "source": [
    "# Real Validation schreiben"
   ]
  },
  {
   "cell_type": "code",
   "execution_count": null,
   "id": "2487cf9c-464a-4622-9c1c-4b1e9b9e96d1",
   "metadata": {},
   "outputs": [],
   "source": [
    "moires = get_moires_of_project(1)"
   ]
  },
  {
   "cell_type": "code",
   "execution_count": null,
   "id": "f9271ac7-b067-4679-93e7-8fed5415cb6c",
   "metadata": {},
   "outputs": [],
   "source": [
    "def get_moire_mask_path( img_name ):\n",
    "    jobname, filename = re.match(r'(.+?)\\..+?\\.(.+)\\..+?\\.jpg', img_name).groups()\n",
    "    \n",
    "    return dotenv['DATA_DIR'] / jobname / \"halftone600dpi\" / f\"{ filename }.masks.pkl\""
   ]
  },
  {
   "cell_type": "code",
   "execution_count": null,
   "id": "9ff20fa9-cce8-491c-8409-e1156c93264b",
   "metadata": {},
   "outputs": [],
   "source": [
    "def calc_bbox_iou( bbox_a, bbox_b ):\n",
    "    intersection_box = [\n",
    "        max([bbox_a[0], bbox_b[0]]),\n",
    "        max([bbox_a[1], bbox_b[1]]),\n",
    "        min([bbox_a[0]+bbox_a[2], bbox_b[0]+bbox_b[2]]),\n",
    "        min([bbox_a[1]+bbox_a[3], bbox_b[1]+bbox_b[3]])\n",
    "    ]\n",
    "    intersection = (intersection_box[0] - intersection_box[2]) * (intersection_box[1] - intersection_box[3])\n",
    "\n",
    "    union_box = [\n",
    "        min([bbox_a[0], bbox_b[0]]),\n",
    "        min([bbox_a[1], bbox_b[1]]),\n",
    "        max([bbox_a[0]+bbox_a[2], bbox_b[0]+bbox_b[2]]),\n",
    "        max([bbox_a[1]+bbox_a[3], bbox_b[1]+bbox_b[3]])\n",
    "    ]\n",
    "    union = (union_box[0] - union_box[2]) * (union_box[1] - union_box[3])\n",
    "\n",
    "    if intersection < 0:\n",
    "        return 0\n",
    "    \n",
    "    return intersection / union"
   ]
  },
  {
   "cell_type": "code",
   "execution_count": null,
   "id": "6102b627-b7b9-4c2a-a131-44ca9c252c85",
   "metadata": {},
   "outputs": [],
   "source": [
    "MIN_IOU = 0.9"
   ]
  },
  {
   "cell_type": "code",
   "execution_count": null,
   "id": "caccb252-27e6-433d-a682-449fdcb5627b",
   "metadata": {},
   "outputs": [],
   "source": [
    "def process_real_moire( moire ):\n",
    "    mask_path = get_moire_mask_path( moire['img_name'] )\n",
    "    img_path = dotenv['LABEL_STUDIO_DIR'] / moire['img_name']\n",
    "    use_mask = False\n",
    "\n",
    "    if mask_path.exists():\n",
    "        masks = load_masks(mask_path)\n",
    "        max_iou = -1\n",
    "        max_mask = None\n",
    "        \n",
    "        for mask in masks:\n",
    "            iou = calc_bbox_iou(\n",
    "                [moire['value']['x'],moire['value']['y'],moire['value']['width'],moire['value']['height']],\n",
    "                [val / 2 for val in mask['bbox']]\n",
    "            )\n",
    "            \n",
    "            if iou > MIN_IOU and iou > max_iou:\n",
    "                max_iou = iou\n",
    "                max_mask = mask\n",
    "                use_mask = True\n",
    "\n",
    "    img = Image.open(img_path)\n",
    "    cropped_img = img.crop((\n",
    "        moire['value']['x'],\n",
    "        moire['value']['y'],\n",
    "        moire['value']['x'] + moire['value']['width'],\n",
    "        moire['value']['y'] + moire['value']['height']\n",
    "    ))\n",
    "    \n",
    "    tiles = cut_img_to_tiles(\n",
    "        1 - np.array(cropped_img)[:,:,3] / 255,\n",
    "        mask=max_mask if use_mask else None\n",
    "    )\n",
    "\n",
    "    return tiles"
   ]
  },
  {
   "cell_type": "code",
   "execution_count": null,
   "id": "72b67f29-e08d-4647-a829-3145ce93f3a3",
   "metadata": {},
   "outputs": [],
   "source": [
    "tiles = []\n",
    "for m in tqdm(moires):\n",
    "    tiles += process_real_moire(m)"
   ]
  },
  {
   "cell_type": "code",
   "execution_count": null,
   "id": "468544cb-5ac8-47dd-ab57-ccf2e4d78b39",
   "metadata": {},
   "outputs": [],
   "source": [
    "len(tiles)"
   ]
  },
  {
   "cell_type": "code",
   "execution_count": null,
   "id": "82e9a12c-85dc-41ed-863f-c0fff7c3336a",
   "metadata": {},
   "outputs": [],
   "source": [
    "write_tiles( tiles, [1 for t in tiles], 'real_val' )"
   ]
  }
 ],
 "metadata": {
  "kernelspec": {
   "display_name": "Python 3 (ipykernel)",
   "language": "python",
   "name": "python3"
  },
  "language_info": {
   "codemirror_mode": {
    "name": "ipython",
    "version": 3
   },
   "file_extension": ".py",
   "mimetype": "text/x-python",
   "name": "python",
   "nbconvert_exporter": "python",
   "pygments_lexer": "ipython3",
   "version": "3.10.11"
  }
 },
 "nbformat": 4,
 "nbformat_minor": 5
}
