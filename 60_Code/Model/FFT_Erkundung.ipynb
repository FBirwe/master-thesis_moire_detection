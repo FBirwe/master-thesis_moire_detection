{
 "cells": [
  {
   "cell_type": "code",
   "execution_count": 1,
   "id": "34ebdf6e-3c55-4785-b5de-76db2e4005ed",
   "metadata": {},
   "outputs": [],
   "source": [
    "import numpy as np\n",
    "from pathlib import Path\n",
    "from PIL import Image"
   ]
  },
  {
   "cell_type": "code",
   "execution_count": 2,
   "id": "e536e64c-542b-4930-8a98-9c4c0fb3e600",
   "metadata": {},
   "outputs": [],
   "source": [
    "import time\n",
    "from tqdm.auto import tqdm\n",
    "import plotly.express as px\n",
    "from random import choices"
   ]
  },
  {
   "cell_type": "code",
   "execution_count": 3,
   "id": "89e1ed28-9881-4a1e-8c32-df5be272e29a",
   "metadata": {},
   "outputs": [],
   "source": [
    "from scipy import ndimage\n",
    "import math"
   ]
  },
  {
   "cell_type": "code",
   "execution_count": 4,
   "id": "f08b4243-c60a-4e37-a754-60b8e15d8794",
   "metadata": {},
   "outputs": [],
   "source": [
    "DATA_DIR = Path('./dataset/')"
   ]
  },
  {
   "cell_type": "code",
   "execution_count": 5,
   "id": "0d9814a8-d9c6-455a-a545-235d835822ce",
   "metadata": {},
   "outputs": [],
   "source": [
    "tile_dataset = moire_images = DATA_DIR / 'val'"
   ]
  },
  {
   "cell_type": "code",
   "execution_count": 6,
   "id": "cce69352-359f-490a-a1a9-29f6b23d1c01",
   "metadata": {},
   "outputs": [],
   "source": [
    "moire_images = list((tile_dataset / 'moire').glob('./*.jpg'))"
   ]
  },
  {
   "cell_type": "code",
   "execution_count": 7,
   "id": "240258eb-2844-4662-aa6d-71ac73505705",
   "metadata": {},
   "outputs": [],
   "source": [
    "def get_fft( input_img ):\n",
    "    input = np.float32( input_img )[:,:,0]\n",
    "    dft = np.fft.fft2(input)\n",
    "    dft_shift = np.fft.fftshift(dft)\n",
    "    ft = dft_shift.real\n",
    "\n",
    "    return ft"
   ]
  },
  {
   "cell_type": "code",
   "execution_count": 8,
   "id": "647afc70-56b8-43cc-a404-cdfaa905afc5",
   "metadata": {},
   "outputs": [],
   "source": [
    "def invert_fft( fft_array ):\n",
    "    ift = np.fft.ifftshift(fft_array)\n",
    "    ift = np.fft.ifft2(ift)\n",
    "    ift = np.fft.fftshift(ift)\n",
    "    ift = ift.real\n",
    "\n",
    "    return ift"
   ]
  },
  {
   "cell_type": "code",
   "execution_count": null,
   "id": "0adedbd8-70a4-4229-870c-a3046fc47380",
   "metadata": {},
   "outputs": [],
   "source": [
    "fft = get_fft( Image.open( moire_images[0] ) )\n",
    "reversed = invert_fft( fft )"
   ]
  },
  {
   "cell_type": "code",
   "execution_count": null,
   "id": "38b0c93b-9d42-4bb3-a600-b0b2eb9296a9",
   "metadata": {},
   "outputs": [],
   "source": [
    "Image.fromarray( reversed.round().astype('uint8') )"
   ]
  },
  {
   "cell_type": "code",
   "execution_count": null,
   "id": "44be6888-3fb7-4f00-852b-d1ea3cb25b8c",
   "metadata": {},
   "outputs": [],
   "source": [
    "def limit_frequencies( fft, inner_limit=0, outer_limit=140 ):\n",
    "    center = (fft.shape[1] / 2, fft.shape[0] / 2)\n",
    "    for y in range(fft.shape[0]):\n",
    "        for x in range(fft.shape[1]):\n",
    "            r = math.sqrt( abs(center[0] - x) ** 2 + abs(center[1] - y) ** 2 )\n",
    "            if r > outer_limit:\n",
    "                fft[y,x] = 0\n",
    "    \n",
    "            if r < inner_limit:\n",
    "                fft[y,x] = 0\n",
    "\n",
    "    return fft"
   ]
  },
  {
   "cell_type": "code",
   "execution_count": null,
   "id": "758b3fd8-cc9a-4341-bdff-d0cf41ff9f77",
   "metadata": {},
   "outputs": [],
   "source": [
    "0 / 0"
   ]
  },
  {
   "cell_type": "markdown",
   "id": "dcce9554-8fa7-454d-9e32-a1f5e2255864",
   "metadata": {},
   "source": [
    "# Heatmap errechnen"
   ]
  },
  {
   "cell_type": "code",
   "execution_count": null,
   "id": "17900784-af28-4b98-96d7-8492f65ce349",
   "metadata": {},
   "outputs": [],
   "source": [
    "selected_moires = choices(moire_images, k=50)"
   ]
  },
  {
   "cell_type": "code",
   "execution_count": null,
   "id": "05fb2197-558a-4c21-bc7d-0bcafc023181",
   "metadata": {},
   "outputs": [],
   "source": [
    "heatmap = np.zeros((280,280))\n",
    "\n",
    "for moire_path in tqdm(selected_moires):\n",
    "    non_moire_path = tile_dataset / 'no_moire' / moire_path.name\n",
    "\n",
    "    moire_img = Image.open( moire_path )\n",
    "    no_moire_img = Image.open( non_moire_path )\n",
    "\n",
    "    moire_fft = get_fft( moire_img )\n",
    "    moire_fft = ndimage.uniform_filter( moire_fft , size=20)\n",
    "    moire_fft = limit_frequencies( moire_fft, inner_limit=25, outer_limit=120)\n",
    "\n",
    "    no_moire_fft = get_fft( no_moire_img )\n",
    "    no_moire_fft = ndimage.uniform_filter( no_moire_fft , size=20)\n",
    "    no_moire_fft = limit_frequencies( no_moire_fft, inner_limit=25, outer_limit=120)\n",
    "  \n",
    "    diff_fft = np.absolute(moire_fft - no_moire_fft)\n",
    "    heatmap += diff_fft"
   ]
  },
  {
   "cell_type": "code",
   "execution_count": null,
   "id": "389fddc8-b837-43df-9864-92264ab47a55",
   "metadata": {},
   "outputs": [],
   "source": [
    "px.imshow(heatmap)"
   ]
  },
  {
   "cell_type": "code",
   "execution_count": null,
   "id": "eb9bc81c-32c6-4eb7-99ae-dba013a34ddd",
   "metadata": {},
   "outputs": [],
   "source": [
    "no_moire_img"
   ]
  },
  {
   "cell_type": "code",
   "execution_count": null,
   "id": "7a2cae9c-9ec0-4516-9f63-58cb321398a0",
   "metadata": {},
   "outputs": [],
   "source": [
    "moire_img"
   ]
  },
  {
   "cell_type": "code",
   "execution_count": null,
   "id": "c838523d-323b-4881-a4ca-c80ad66366ea",
   "metadata": {},
   "outputs": [],
   "source": [
    "heatmap = np.zeros((280,280))\n",
    "\n",
    "for moire_path in tqdm(selected_moires[:1]):\n",
    "    non_moire_path = tile_dataset / 'no_moire' / moire_path.name\n",
    "    no_moire_img = Image.open( non_moire_path )\n",
    "\n",
    "    moire_img = Image.open( moire_path )\n",
    "    moire_fft = get_fft( moire_img )\n",
    "    #moire_fft[139:142,139:142] = 0\n",
    "    moire_fft = limit_frequencies( moire_fft, inner_limit=25, outer_limit=120)\n",
    "\n",
    "    moire_fft = ndimage.uniform_filter( moire_fft , size=10)\n",
    "    \n",
    "    heatmap += np.absolute(moire_fft)"
   ]
  },
  {
   "cell_type": "code",
   "execution_count": null,
   "id": "17695319-951b-468d-ad84-d7f831278592",
   "metadata": {},
   "outputs": [],
   "source": [
    "px.imshow(moire_fft)"
   ]
  },
  {
   "cell_type": "code",
   "execution_count": null,
   "id": "a863f693-d91e-4933-a227-f4bb49148525",
   "metadata": {},
   "outputs": [],
   "source": [
    "px.imshow(moire_fft)"
   ]
  },
  {
   "cell_type": "markdown",
   "id": "5e300957-ce0e-425c-bec1-ad73b4800681",
   "metadata": {},
   "source": [
    "# Rest"
   ]
  },
  {
   "cell_type": "code",
   "execution_count": null,
   "id": "93e300b7-a396-44f1-af7b-f9a44322898a",
   "metadata": {},
   "outputs": [],
   "source": [
    "i = 19\n",
    "\n",
    "moire_path = selected_moires[i]\n",
    "\n",
    "non_moire_path = tile_dataset / 'no_moire' / moire_path.name\n",
    "\n",
    "moire_img = Image.open( moire_path )\n",
    "no_moire_img = Image.open( non_moire_path )\n",
    "\n",
    "moire_fft = get_fft( moire_img )\n",
    "#moire_fft = ndimage.uniform_filter( moire_fft , size=15)\n",
    "moire_fft = limit_frequencies( moire_fft, inner_limit=25, outer_limit=125)\n",
    "\n",
    "no_moire_fft = get_fft( no_moire_img )\n",
    "#no_moire_fft = ndimage.uniform_filter( no_moire_fft , size=20)\n",
    "no_moire_fft = limit_frequencies( no_moire_fft, inner_limit=15, outer_limit=125)"
   ]
  },
  {
   "cell_type": "code",
   "execution_count": null,
   "id": "4ca0344c-89bf-49e5-9cc6-3a84923e080a",
   "metadata": {},
   "outputs": [],
   "source": [
    "moire_img = Image.open( moire_path )\n",
    "no_moire_img = Image.open( non_moire_path )\n",
    "\n",
    "display_img = Image.new('RGB', ( moire_img.size[0] * 2, moire_img.size[1] ))\n",
    "display_img.paste(moire_img, (0,0))\n",
    "display_img.paste(no_moire_img, (moire_img.size[0],0))\n",
    "\n",
    "display_img"
   ]
  },
  {
   "cell_type": "code",
   "execution_count": null,
   "id": "304486e3-467b-42dd-953d-d2208a66dad3",
   "metadata": {},
   "outputs": [],
   "source": [
    "iv = invert_fft(moire_fft)\n",
    "iv -= iv.min()\n",
    "\n",
    "moire_iv = Image.fromarray(iv.round().astype('uint8'))\n",
    "\n",
    "iv = invert_fft(no_moire_fft)\n",
    "iv -= iv.min()\n",
    "\n",
    "no_moire_iv = Image.fromarray(iv.round().astype('uint8'))\n",
    "\n",
    "display_iv_img = Image.new('RGB', ( moire_img.size[0] * 2, moire_img.size[1] ))\n",
    "display_iv_img.paste(moire_iv, (0,0))\n",
    "display_iv_img.paste(no_moire_iv, (moire_img.size[0],0))\n",
    "\n",
    "display_iv_img"
   ]
  }
 ],
 "metadata": {
  "kernelspec": {
   "display_name": "Python 3 (ipykernel)",
   "language": "python",
   "name": "python3"
  },
  "language_info": {
   "codemirror_mode": {
    "name": "ipython",
    "version": 3
   },
   "file_extension": ".py",
   "mimetype": "text/x-python",
   "name": "python",
   "nbconvert_exporter": "python",
   "pygments_lexer": "ipython3",
   "version": "3.10.11"
  }
 },
 "nbformat": 4,
 "nbformat_minor": 5
}
