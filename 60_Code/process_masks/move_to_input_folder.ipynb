{
 "cells": [
  {
   "cell_type": "code",
   "execution_count": 15,
   "id": "27ff5720-16a5-4fa4-b4dc-04c2940733d6",
   "metadata": {},
   "outputs": [],
   "source": [
    "from pathlib import Path\n",
    "import sys\n",
    "sys.path.append('../../30_data_tools/')\n",
    "from helper import load_dotenv\n",
    "from tqdm import tqdm"
   ]
  },
  {
   "cell_type": "code",
   "execution_count": 6,
   "id": "b44cacba-dc11-4051-8ae4-72bfcbe6b3db",
   "metadata": {},
   "outputs": [],
   "source": [
    "import pandas as pd\n",
    "import sqlite3\n",
    "from mask_functions import get_config"
   ]
  },
  {
   "cell_type": "code",
   "execution_count": 13,
   "id": "edd1a3ac-db8f-4f41-a360-7f82319c50c8",
   "metadata": {},
   "outputs": [],
   "source": [
    "import shutil"
   ]
  },
  {
   "cell_type": "code",
   "execution_count": 7,
   "id": "fdc6288f-9edd-4547-b5f6-804f8e0b305d",
   "metadata": {},
   "outputs": [],
   "source": [
    "config = get_config()\n",
    "config['target_variant'] = 'halftone600dpi'"
   ]
  },
  {
   "cell_type": "code",
   "execution_count": 8,
   "id": "6835702e-5f60-4d36-a07c-fc33f3f0137c",
   "metadata": {},
   "outputs": [],
   "source": [
    "dotenv = load_dotenv()"
   ]
  },
  {
   "cell_type": "code",
   "execution_count": 9,
   "id": "3475a664-1e5e-44bb-a907-ed25d08b89ed",
   "metadata": {},
   "outputs": [],
   "source": [
    "con = sqlite3.connect(dotenv['DB_PATH'])"
   ]
  },
  {
   "cell_type": "code",
   "execution_count": 10,
   "id": "208947cb-234a-4d21-8c15-76cf9d673750",
   "metadata": {},
   "outputs": [],
   "source": [
    "remaining_pages = pd.read_sql(\n",
    "    f'''\n",
    "        SELECT cf.* FROM (\n",
    "        \tSELECT * FROM related_file\n",
    "        \tWHERE variant_name = '{ config[\"target_variant\"] }' AND \"type\" = '4c'\n",
    "        ) cf\n",
    "        LEFT JOIN (\n",
    "        \tSELECT job, pdf_filename, 1 AS has_mask FROM related_file \n",
    "        \tWHERE variant_name = '{ config[\"target_variant\"] }' AND \"type\" = 'masks'\n",
    "        ) mf ON cf.job=mf.job AND cf.pdf_filename=mf.pdf_filename \n",
    "        WHERE mf.has_mask IS NULL\n",
    "    ''',\n",
    "    con\n",
    ").sample(frac=1)"
   ]
  },
  {
   "cell_type": "code",
   "execution_count": 12,
   "id": "d2357330-ae19-4b77-844a-cb337e6de241",
   "metadata": {},
   "outputs": [],
   "source": [
    "OUT_DIR = Path('/Volumes/Hotfolder/Switch/testing/birw001_masterarbeit_moireerkennung/render_masks/in/')"
   ]
  },
  {
   "cell_type": "code",
   "execution_count": 17,
   "id": "d04fdf83-fe1f-481c-b362-9727587915bb",
   "metadata": {},
   "outputs": [
    {
     "name": "stderr",
     "output_type": "stream",
     "text": [
      "100%|███████████████████████████████████| 5/5 [00:09<00:00,  1.95s/it]\n"
     ]
    }
   ],
   "source": [
    "for i in tqdm(range(remaining_pages[:5].shape[0])):\n",
    "    row = remaining_pages.iloc[i]\n",
    "    img_path = dotenv['DATA_DIR'] / row['job'] / row['variant_name'] / row['filename']    \n",
    "    mask_path_300dpi = dotenv['DATA_DIR'] / row['job'] / 'halftone300dpi' / f'{ img_path.name.strip( \".\" + row[\"type\"] + img_path.suffix ) }.masks.pkl'\n",
    "\n",
    "    if mask_path_300dpi.exists() == False:\n",
    "        copy_target_path = OUT_DIR / f\"{ row['job'] }.{ row['filename']   }\"\n",
    "        \n",
    "        shutil.copy(\n",
    "            img_path,\n",
    "            copy_target_path\n",
    "        )"
   ]
  }
 ],
 "metadata": {
  "kernelspec": {
   "display_name": "Python 3 (ipykernel)",
   "language": "python",
   "name": "python3"
  },
  "language_info": {
   "codemirror_mode": {
    "name": "ipython",
    "version": 3
   },
   "file_extension": ".py",
   "mimetype": "text/x-python",
   "name": "python",
   "nbconvert_exporter": "python",
   "pygments_lexer": "ipython3",
   "version": "3.10.11"
  }
 },
 "nbformat": 4,
 "nbformat_minor": 5
}
