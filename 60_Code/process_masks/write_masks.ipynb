{
 "cells": [
  {
   "cell_type": "code",
   "execution_count": 1,
   "id": "e3ca496f-aa55-40af-8a68-79677a16b910",
   "metadata": {},
   "outputs": [],
   "source": [
    "import sys\n",
    "sys.path.append('../convertToScreen/')\n",
    "sys.path.append('../../30_data_tools/')"
   ]
  },
  {
   "cell_type": "code",
   "execution_count": 2,
   "id": "a7ca37fe-241a-410b-9f2b-2e26067a0917",
   "metadata": {},
   "outputs": [],
   "source": [
    "import pandas as pd\n",
    "import sqlite3\n",
    "from pathlib import Path"
   ]
  },
  {
   "cell_type": "code",
   "execution_count": 3,
   "id": "582f6bc3-058d-4d57-a132-5de27db3068f",
   "metadata": {},
   "outputs": [],
   "source": [
    "from update_generic_images_db import load_data_to_process, write_generic_images\n",
    "from helper import load_dotenv"
   ]
  },
  {
   "cell_type": "code",
   "execution_count": 4,
   "id": "743df0f6-30f0-4ef2-bcff-a725f7ee7998",
   "metadata": {},
   "outputs": [],
   "source": [
    "dotenv = load_dotenv()"
   ]
  },
  {
   "cell_type": "code",
   "execution_count": 5,
   "id": "d3cd6ab5-6f11-4f63-84ac-f00e32e4abfb",
   "metadata": {},
   "outputs": [],
   "source": [
    "con = sqlite3.connect( dotenv['DB_PATH'] )"
   ]
  },
  {
   "cell_type": "code",
   "execution_count": 6,
   "id": "fccad40d-a75d-4bdf-8e29-cb8e49be84ca",
   "metadata": {},
   "outputs": [],
   "source": [
    "df = load_data_to_process( dotenv )"
   ]
  },
  {
   "cell_type": "code",
   "execution_count": 32,
   "id": "0430324f-107d-4f95-9c42-0c1706721c8c",
   "metadata": {},
   "outputs": [],
   "source": [
    "def write_masks( data, con ):\n",
    "    already_processed_masks = pd.read_sql(\n",
    "        '''\n",
    "            SELECT\n",
    "                pdf_filename,\n",
    "                job,\n",
    "                \"type\",\n",
    "                variant_name,\n",
    "                method,\n",
    "                idx,\n",
    "                bbox as bbox_string,\n",
    "                1 AS is_already_processed\n",
    "            FROM mask\n",
    "        ''',\n",
    "        con\n",
    "    )\n",
    "    already_processed_masks.idx = already_processed_masks.idx.astype('str')\n",
    "\n",
    "    merged = pd.merge(\n",
    "        data,\n",
    "        already_processed_masks,\n",
    "        how=\"left\",\n",
    "        on=[\n",
    "            'pdf_filename',\n",
    "            'job',\n",
    "            'type',\n",
    "            'variant_name',\n",
    "            'method',\n",
    "            'idx',\n",
    "            'bbox_string'\n",
    "        ]\n",
    "    )\n",
    "    merged.is_already_processed = merged.is_already_processed == 1\n",
    "\n",
    "    sql_lines = [\n",
    "        f\"('{ row.pdf_filename }','{ row.job }','{ row.type }','{ row.variant_name }','{ row.method }',{ row.idx },'{ row['id'] }','{ row.bbox_string }',{ row.ssim },{ row.overlay_intensity_C },{ row.overlay_intensity_M },{ row.overlay_intensity_Y },{ row.overlay_intensity_K })\"\n",
    "        for _,row in merged.loc[merged.is_already_processed == False].iterrows()\n",
    "    ]\n",
    "\n",
    "    errors = 0\n",
    "    if len(sql_lines) > 0:\n",
    "        SQL = f'''\n",
    "            INSERT INTO mask ('pdf_filename','job','type','variant_name','method','idx','mask_id','bbox','ssim','overlay_intensity_C','overlay_intensity_M','overlay_intensity_Y','overlay_intensity_K')\n",
    "            VALUES { \",\".join(sql_lines) }\n",
    "        '''\n",
    "        \n",
    "        c = con.cursor()\n",
    "        try:\n",
    "            c.execute(SQL)\n",
    "        except sqlite3.IntegrityError:\n",
    "            for l in sql_lines:\n",
    "                try:\n",
    "                    SQL = f'''\n",
    "                        INSERT INTO mask ('pdf_filename','job','type','variant_name','method','idx','mask_id','bbox','ssim','overlay_intensity_C','overlay_intensity_M','overlay_intensity_Y','overlay_intensity_K')\n",
    "                        VALUES { l }\n",
    "                    '''\n",
    "                    c.execute(SQL)\n",
    "                except sqlite3.IntegrityError:\n",
    "                    errors += 1\n",
    "        \n",
    "        \n",
    "        c.close()\n",
    "        con.commit()\n",
    "\n",
    "        print(f\"successfully written { (len(sql_lines) - errors) }/{ len(sql_lines) } masks\")"
   ]
  },
  {
   "cell_type": "code",
   "execution_count": 33,
   "id": "c65817f6-2337-4810-a454-0cf1a4e94b16",
   "metadata": {},
   "outputs": [],
   "source": [
    "write_masks( df, con )"
   ]
  }
 ],
 "metadata": {
  "kernelspec": {
   "display_name": "Python 3 (ipykernel)",
   "language": "python",
   "name": "python3"
  },
  "language_info": {
   "codemirror_mode": {
    "name": "ipython",
    "version": 3
   },
   "file_extension": ".py",
   "mimetype": "text/x-python",
   "name": "python",
   "nbconvert_exporter": "python",
   "pygments_lexer": "ipython3",
   "version": "3.10.11"
  }
 },
 "nbformat": 4,
 "nbformat_minor": 5
}
