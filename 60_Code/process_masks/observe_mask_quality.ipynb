{
 "cells": [
  {
   "cell_type": "code",
   "execution_count": 13,
   "id": "9670018c-421f-4d41-a6bf-3d1235c20f56",
   "metadata": {},
   "outputs": [],
   "source": [
    "import sys\n",
    "sys.path.append('../../30_data_tools/')"
   ]
  },
  {
   "cell_type": "code",
   "execution_count": 14,
   "id": "9dd3c199-132b-4b7f-b66d-c4e822dfd1e3",
   "metadata": {},
   "outputs": [],
   "source": [
    "import pandas as pd\n",
    "from helper import load_dotenv\n",
    "from tqdm import tqdm"
   ]
  },
  {
   "cell_type": "code",
   "execution_count": 4,
   "id": "ed93b3f3-e5df-4af8-a05d-3f60af15eada",
   "metadata": {},
   "outputs": [],
   "source": [
    "dotenv = load_dotenv()"
   ]
  },
  {
   "cell_type": "code",
   "execution_count": 8,
   "id": "b9b76430-97e0-4f47-9b09-0d7cdbc70b3b",
   "metadata": {},
   "outputs": [
    {
     "name": "stderr",
     "output_type": "stream",
     "text": [
      "100%|███████████████████████████████████| 3116/3116 [00:00<00:00, 203805.75it/s]\n"
     ]
    }
   ],
   "source": [
    "pkl_files = list(dotenv['DATA_DIR'].glob('./*/*/*.masks.pkl'))\n",
    "\n",
    "rows = [\n",
    "    {\n",
    "        'filename' : pkl.name,\n",
    "        'variant' : pkl.parent.name,\n",
    "        'job' : pkl.parent.parent.name,\n",
    "        'filesize' : pkl.stat().st_size / 1000 / 1024\n",
    "    }\n",
    "    for pkl in tqdm(pkl_files)\n",
    "]"
   ]
  },
  {
   "cell_type": "code",
   "execution_count": 9,
   "id": "cb1a06a2-fd69-4472-9b65-a7ca8d07fca3",
   "metadata": {},
   "outputs": [],
   "source": [
    "df = pd.DataFrame.from_dict(rows)"
   ]
  },
  {
   "cell_type": "code",
   "execution_count": 12,
   "id": "7cbf995e-8c4f-4ef4-b8d9-593f828cbd9b",
   "metadata": {},
   "outputs": [
    {
     "data": {
      "text/html": [
       "<div>\n",
       "<style scoped>\n",
       "    .dataframe tbody tr th:only-of-type {\n",
       "        vertical-align: middle;\n",
       "    }\n",
       "\n",
       "    .dataframe tbody tr th {\n",
       "        vertical-align: top;\n",
       "    }\n",
       "\n",
       "    .dataframe thead th {\n",
       "        text-align: right;\n",
       "    }\n",
       "</style>\n",
       "<table border=\"1\" class=\"dataframe\">\n",
       "  <thead>\n",
       "    <tr style=\"text-align: right;\">\n",
       "      <th></th>\n",
       "      <th>filename</th>\n",
       "      <th>variant</th>\n",
       "      <th>job</th>\n",
       "      <th>filesize</th>\n",
       "    </tr>\n",
       "  </thead>\n",
       "  <tbody>\n",
       "    <tr>\n",
       "      <th>113</th>\n",
       "      <td>tg46_006_007_JUL23_UPHK_CA_AS011_AT_DE_BASIS_B...</td>\n",
       "      <td>halftone600dpi</td>\n",
       "      <td>613256</td>\n",
       "      <td>93.483761</td>\n",
       "    </tr>\n",
       "    <tr>\n",
       "      <th>95</th>\n",
       "      <td>tg46_026_027_JUL23_UPHK_CA_AS007_AT_DE_BASIS_B...</td>\n",
       "      <td>halftone600dpi</td>\n",
       "      <td>613256</td>\n",
       "      <td>90.064401</td>\n",
       "    </tr>\n",
       "    <tr>\n",
       "      <th>173</th>\n",
       "      <td>tg46_114_115_JUL23_UPHK_SP_AS006_AT_DE_BASIS_B...</td>\n",
       "      <td>halftone600dpi</td>\n",
       "      <td>613256</td>\n",
       "      <td>85.956865</td>\n",
       "    </tr>\n",
       "    <tr>\n",
       "      <th>141</th>\n",
       "      <td>tg46_010_011_JUL23_UPHK_BLA_AS001_AT_DE_BASIS_...</td>\n",
       "      <td>halftone600dpi</td>\n",
       "      <td>613256</td>\n",
       "      <td>85.695646</td>\n",
       "    </tr>\n",
       "    <tr>\n",
       "      <th>154</th>\n",
       "      <td>tg46_012_013_JUL23_UPHK_CA_AS014_AT_DE_BASIS_B...</td>\n",
       "      <td>halftone600dpi</td>\n",
       "      <td>613256</td>\n",
       "      <td>83.685757</td>\n",
       "    </tr>\n",
       "    <tr>\n",
       "      <th>...</th>\n",
       "      <td>...</td>\n",
       "      <td>...</td>\n",
       "      <td>...</td>\n",
       "      <td>...</td>\n",
       "    </tr>\n",
       "    <tr>\n",
       "      <th>525</th>\n",
       "      <td>23-10-17_blur_08.masks.pkl</td>\n",
       "      <td>halftone600dpi</td>\n",
       "      <td>23-10-17_blur</td>\n",
       "      <td>0.000005</td>\n",
       "    </tr>\n",
       "    <tr>\n",
       "      <th>526</th>\n",
       "      <td>23-10-17_blur_09.masks.pkl</td>\n",
       "      <td>halftone600dpi</td>\n",
       "      <td>23-10-17_blur</td>\n",
       "      <td>0.000005</td>\n",
       "    </tr>\n",
       "    <tr>\n",
       "      <th>527</th>\n",
       "      <td>23-10-17_blur_02.masks.pkl</td>\n",
       "      <td>halftone600dpi</td>\n",
       "      <td>23-10-17_blur</td>\n",
       "      <td>0.000005</td>\n",
       "    </tr>\n",
       "    <tr>\n",
       "      <th>529</th>\n",
       "      <td>23-10-17_blur_06.masks.pkl</td>\n",
       "      <td>halftone600dpi</td>\n",
       "      <td>23-10-17_blur</td>\n",
       "      <td>0.000005</td>\n",
       "    </tr>\n",
       "    <tr>\n",
       "      <th>385</th>\n",
       "      <td>tg52_230105_TM_Soul_Food_innen 232.p1.masks.pkl</td>\n",
       "      <td>halftone600dpi</td>\n",
       "      <td>149128</td>\n",
       "      <td>0.000005</td>\n",
       "    </tr>\n",
       "  </tbody>\n",
       "</table>\n",
       "<p>3116 rows × 4 columns</p>\n",
       "</div>"
      ],
      "text/plain": [
       "                                              filename         variant  \\\n",
       "113  tg46_006_007_JUL23_UPHK_CA_AS011_AT_DE_BASIS_B...  halftone600dpi   \n",
       "95   tg46_026_027_JUL23_UPHK_CA_AS007_AT_DE_BASIS_B...  halftone600dpi   \n",
       "173  tg46_114_115_JUL23_UPHK_SP_AS006_AT_DE_BASIS_B...  halftone600dpi   \n",
       "141  tg46_010_011_JUL23_UPHK_BLA_AS001_AT_DE_BASIS_...  halftone600dpi   \n",
       "154  tg46_012_013_JUL23_UPHK_CA_AS014_AT_DE_BASIS_B...  halftone600dpi   \n",
       "..                                                 ...             ...   \n",
       "525                         23-10-17_blur_08.masks.pkl  halftone600dpi   \n",
       "526                         23-10-17_blur_09.masks.pkl  halftone600dpi   \n",
       "527                         23-10-17_blur_02.masks.pkl  halftone600dpi   \n",
       "529                         23-10-17_blur_06.masks.pkl  halftone600dpi   \n",
       "385    tg52_230105_TM_Soul_Food_innen 232.p1.masks.pkl  halftone600dpi   \n",
       "\n",
       "               job   filesize  \n",
       "113         613256  93.483761  \n",
       "95          613256  90.064401  \n",
       "173         613256  85.956865  \n",
       "141         613256  85.695646  \n",
       "154         613256  83.685757  \n",
       "..             ...        ...  \n",
       "525  23-10-17_blur   0.000005  \n",
       "526  23-10-17_blur   0.000005  \n",
       "527  23-10-17_blur   0.000005  \n",
       "529  23-10-17_blur   0.000005  \n",
       "385         149128   0.000005  \n",
       "\n",
       "[3116 rows x 4 columns]"
      ]
     },
     "execution_count": 12,
     "metadata": {},
     "output_type": "execute_result"
    }
   ],
   "source": [
    "df.sort_values('filesize', ascending=False)"
   ]
  },
  {
   "cell_type": "code",
   "execution_count": 15,
   "id": "73c04a73-8182-4ae9-93a2-12ad1e0e87de",
   "metadata": {},
   "outputs": [],
   "source": [
    "from pathlib import Path"
   ]
  },
  {
   "cell_type": "code",
   "execution_count": 23,
   "id": "28a10aa2-4d86-4a3e-86b0-61055943dfc6",
   "metadata": {},
   "outputs": [],
   "source": [
    "masks = list( dotenv['DATA_DIR'].glob('./*/halftone600dpi/*.masks.pkl') )\n",
    "images = list( dotenv['DATA_DIR'].glob('./*/halftone600dpi/*.4c.jpg') )\n",
    "pdfs = list( dotenv['DATA_DIR'].glob('./*/pdf/*.pdf') )"
   ]
  },
  {
   "cell_type": "code",
   "execution_count": 29,
   "id": "3426fab9-70e2-42f5-9dde-c971c46724aa",
   "metadata": {},
   "outputs": [
    {
     "data": {
      "text/plain": [
       "(4173, 4164, 1138)"
      ]
     },
     "execution_count": 29,
     "metadata": {},
     "output_type": "execute_result"
    }
   ],
   "source": [
    "len(pdfs), len(images), len(masks)"
   ]
  }
 ],
 "metadata": {
  "kernelspec": {
   "display_name": "Python 3 (ipykernel)",
   "language": "python",
   "name": "python3"
  },
  "language_info": {
   "codemirror_mode": {
    "name": "ipython",
    "version": 3
   },
   "file_extension": ".py",
   "mimetype": "text/x-python",
   "name": "python",
   "nbconvert_exporter": "python",
   "pygments_lexer": "ipython3",
   "version": "3.10.11"
  }
 },
 "nbformat": 4,
 "nbformat_minor": 5
}
