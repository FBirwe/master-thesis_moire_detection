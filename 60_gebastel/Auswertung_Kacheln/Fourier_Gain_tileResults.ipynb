{
 "cells": [
  {
   "cell_type": "code",
   "execution_count": 1,
   "id": "d8a5c9bb-108e-4a2a-b5ea-f91ced317299",
   "metadata": {},
   "outputs": [],
   "source": [
    "import sys\n",
    "sys.path.append('../../30_data_tools/')\n",
    "\n",
    "from helper import load_dotenv\n",
    "from pathlib import Path\n",
    "from PIL import Image, ImageOps\n",
    "import numpy as np\n",
    "import math\n",
    "import plotly.express as px\n",
    "from scipy.ndimage import gaussian_filter\n",
    "from random import randrange, choices, shuffle\n",
    "from tqdm.auto import tqdm\n",
    "import json\n",
    "import pickle\n",
    "from file_interaction import download_blob\n",
    "import pandas as pd\n",
    "from skimage.metrics import structural_similarity as ssim\n",
    "from scipy import stats"
   ]
  },
  {
   "cell_type": "code",
   "execution_count": 2,
   "id": "5b7f1a11-7f98-43cf-a0d7-9f3f7cc32c71",
   "metadata": {},
   "outputs": [],
   "source": [
    "from PIL import Image\n",
    "from PIL import ImageFont, ImageDraw  \n",
    "from pathlib import Path"
   ]
  },
  {
   "cell_type": "code",
   "execution_count": 3,
   "id": "a6f2eab6-ee5d-4805-85ff-ccca3fb1fd93",
   "metadata": {},
   "outputs": [],
   "source": [
    "import shutil"
   ]
  },
  {
   "cell_type": "code",
   "execution_count": 4,
   "id": "303d6d36-26de-4976-b53e-2fc43672742a",
   "metadata": {},
   "outputs": [],
   "source": [
    "dotenv = load_dotenv()\n",
    "model_name = '2024-05-02_Resnet50_002'\n",
    "dataset_name = '24-05-02_001_tile_dataset'"
   ]
  },
  {
   "cell_type": "code",
   "execution_count": 5,
   "id": "4becebcc-110c-4f1e-b197-9d3e4cd1b628",
   "metadata": {},
   "outputs": [],
   "source": [
    "target_dir = dotenv['TEMP_PROCESSING_DIR'] / 'tile_dataset_fourierGain_check' / 'unassigned'\n",
    "\n",
    "if target_dir.exists() == False:\n",
    "    target_dir.mkdir()"
   ]
  },
  {
   "cell_type": "code",
   "execution_count": 6,
   "id": "4b76bc74-8c1c-4c9e-ae4e-fb50ba9a8157",
   "metadata": {},
   "outputs": [],
   "source": [
    "all_tiles = list((dotenv['TILE_DATASET_DIR'] / dataset_name / 'train' / 'moire').glob('./*.jpg'))"
   ]
  },
  {
   "cell_type": "code",
   "execution_count": null,
   "id": "b083fa1c-0f20-4c98-8d60-77b3ed2a2102",
   "metadata": {},
   "outputs": [],
   "source": [
    "deathclock = 0\n",
    "\n",
    "while len(list(target_dir.glob('./*.jpg'))) < 200 and deathclock < 10000:\n",
    "    in_path = choices(all_tiles, k=1)[0]\n",
    "    potential_moire_path = dotenv['TEMP_PROCESSING_DIR'] / 'tile_dataset_fourierGain_check' / 'moire' / in_path.name\n",
    "    potential_no_moire_path = dotenv['TEMP_PROCESSING_DIR'] / 'tile_dataset_fourierGain_check' / 'no_moire' / in_path.name\n",
    "    \n",
    "    if potential_moire_path.exists() == False and potential_no_moire_path.exists() == False:\n",
    "        out_path = target_dir / in_path.name\n",
    "    \n",
    "        shutil.copy(\n",
    "            in_path,\n",
    "            out_path\n",
    "        )\n",
    "\n",
    "    deathclock += 1"
   ]
  },
  {
   "cell_type": "markdown",
   "id": "48ca4032-7eee-427c-b54b-79b58abe5c02",
   "metadata": {},
   "source": [
    "# Funktionen"
   ]
  },
  {
   "cell_type": "code",
   "execution_count": 7,
   "id": "e3a17122-81a1-41f4-8daa-45629594251c",
   "metadata": {},
   "outputs": [],
   "source": [
    "def get_tile_result_grid( data, img_size=224, col_count=5, label_type='both' ):\n",
    "    label_names = ['moire','no_moire']\n",
    "    row_count = math.ceil(data.shape[0] / col_count)\n",
    "\n",
    "    out_img = Image.new(\n",
    "        'RGB',\n",
    "        (img_size * col_count, img_size * row_count),\n",
    "        color=\"white\"\n",
    "    )\n",
    "    draw = ImageDraw.Draw(out_img)  \n",
    "    label_color=[\n",
    "        (0,200,0),\n",
    "        (200,0,50)\n",
    "    ]\n",
    "\n",
    "    for i in range(data.shape[0]):\n",
    "        row = i // col_count\n",
    "        col = i % col_count\n",
    "\n",
    "        result = data.iloc[i]\n",
    "        tile_path = dotenv['TILE_DATASET_DIR'] / dataset_name / result.dataset / result.label / result.tile_name\n",
    "        tile_img = Image.open( tile_path )\n",
    "        out_img.paste(\n",
    "            tile_img,\n",
    "            ( col * tile_img.size[0], row * tile_img.size[1] )\n",
    "        )\n",
    "        draw.rectangle(\n",
    "            (\n",
    "                ( col * tile_img.size[0], row * tile_img.size[1] + round(img_size * 0.9) ),\n",
    "                ( col * tile_img.size[0] + img_size, row * tile_img.size[1] + img_size )\n",
    "            ),\n",
    "            outline=None,\n",
    "            fill=label_color[0] if result.classification_correct else label_color[1]\n",
    "        )\n",
    "\n",
    "        if label_type == 'label_name':\n",
    "            label_text = f'{ result.predicted_label }/{ result.label }'\n",
    "        elif label_type == 'moire_value':\n",
    "            label_text = str( round(result.result_moire, 5) )\n",
    "        elif label_type == 'description_values':\n",
    "            label_text = f'{ round(result.frequency_gain, 5) }/{ round(result.ssim_value, 5) }'\n",
    "        else:\n",
    "            label_text = f'{ result.predicted_label }/{ result.label } - {round(result.result_moire, 5)}'\n",
    "        \n",
    "        draw.text(\n",
    "            ( col * tile_img.size[0] + round(img_size * 0.5), row * tile_img.size[1] + round(img_size * 0.97) ),\n",
    "            label_text,\n",
    "            anchor='ms',\n",
    "            font_size=15\n",
    "        )\n",
    "    \n",
    "    return out_img"
   ]
  },
  {
   "cell_type": "code",
   "execution_count": 8,
   "id": "2d869873-d6e7-4e26-abd9-d7779a4c7ff5",
   "metadata": {},
   "outputs": [],
   "source": [
    "def load_data( model_results_name ):\n",
    "    data = pickle.loads( download_blob(f'model_results/{ model_results_name }.pkl').getbuffer() )\n",
    "    data.rename(columns={'category':'label'}, inplace=True)\n",
    "    \n",
    "    data.loc[:,'predicted_label'] = (data.result_moire < data.result_no_moire).astype('int').apply(lambda val: ['moire','no_moire'][val])\n",
    "    data.loc[:,'classification_correct'] = data.predicted_label == data.label\n",
    "\n",
    "    data = pd.merge(\n",
    "        data,\n",
    "        data.tile_name.str.extract('(.+)_(\\d+)\\.\\d+\\.jpg').rename(columns={0:'mask_id',1:'dpi'}),\n",
    "        left_index=True,\n",
    "        right_index=True\n",
    "    )\n",
    "    \n",
    "    return data"
   ]
  },
  {
   "cell_type": "code",
   "execution_count": 9,
   "id": "50c5b2b8-9c5c-4860-a13f-30c285f93e57",
   "metadata": {},
   "outputs": [],
   "source": [
    "def calc_metrics( data ):\n",
    "    TP = data.loc[(data.label == 'moire') & (data.predicted_label == 'moire')].shape[0]\n",
    "    TN = data.loc[(data.label == 'no_moire') & (data.predicted_label == 'no_moire')].shape[0]\n",
    "    FP = data.loc[(data.label == 'no_moire') & (data.predicted_label == 'moire')].shape[0]\n",
    "    FN = data.loc[(data.label == 'moire') & (data.predicted_label == 'no_moire')].shape[0]\n",
    "\n",
    "    out = {\n",
    "        \"count_data\" : data.shape[0],\n",
    "        \"TP\" : TP,\n",
    "        \"TN\" : TN,\n",
    "        \"FP\" : FP,\n",
    "        \"FN\" : FN,\n",
    "        \"TN-Rate\" : 0,\n",
    "        \"TP-Rate\" : 0,\n",
    "        \"accuracy\" : 0,\n",
    "        \"precision\" : 0,\n",
    "        \"recall\" : 0\n",
    "    }\n",
    "    \n",
    "    if (FP + TN) > 0:\n",
    "        out[\"TN-Rate\"] = TN / (FP + TN)\n",
    "\n",
    "    if (FN + TP) > 0:\n",
    "        out[\"TP-Rate\"] = TP / (FN + TP)\n",
    "\n",
    "    if out['count_data'] > 0:\n",
    "        out[\"accuracy\"] = (TP + TN) / out['count_data']\n",
    "\n",
    "    if (TP + FP) > 0:\n",
    "        out[\"precision\"] = TP / (TP + FP)\n",
    "\n",
    "    if (TP + FN) > 0:\n",
    "        out[\"recall\"] = TP / (TP + FN)\n",
    "    \n",
    "\n",
    "    return out"
   ]
  },
  {
   "cell_type": "code",
   "execution_count": 10,
   "id": "60a31a36-742e-4fb5-a343-6eaa551f4ef1",
   "metadata": {},
   "outputs": [],
   "source": [
    "def get_fft( input_img ):\n",
    "    ft = np.fft.ifftshift(np.array(input_img))\n",
    "    ft = np.fft.fft2(ft)\n",
    "    ft = np.fft.fftshift(ft)\n",
    "    \n",
    "    return ft\n",
    "\n",
    "def limit_frequencies( fft, inner_limit=None, outer_limit=None ):\n",
    "    center = (fft.shape[1] / 2, fft.shape[0] / 2)\n",
    "    for y in range(fft.shape[0]):\n",
    "        for x in range(fft.shape[1]):\n",
    "            r = math.sqrt( abs(center[0] - x) ** 2 + abs(center[1] - y) ** 2 )\n",
    "            \n",
    "            if outer_limit is not None and r > outer_limit:\n",
    "                fft[y,x] = 1\n",
    "    \n",
    "            if inner_limit is not None and r < inner_limit:\n",
    "                fft[y,x] = 1\n",
    "\n",
    "    return fft\n",
    "\n",
    "\n",
    "def get_frequency_gain( orig_img, synthetic_img, additional=.00001 ):\n",
    "    fft_orig = get_fft( orig_img )\n",
    "    fft_synthetic = get_fft( synthetic_img )\n",
    "\n",
    "    res = np.log( (np.abs(fft_orig) ** 2 + additional) / (np.abs(fft_synthetic) ** 2 + additional) )\n",
    "    res = limit_frequencies( res, outer_limit=70 )\n",
    "    res = gaussian_filter(res, sigma=3)\n",
    "\n",
    "    return res\n",
    "\n",
    "\n",
    "def get_diff_img_frequency_gain( orig_img, synthetic_img ):\n",
    "    diff_img = Image.fromarray(gaussian_filter(np.array(synthetic_img) - np.array(orig_img),sigma=3))\n",
    "    fft = np.abs( limit_frequencies( get_fft(diff_img), inner_limit=5 ) )\n",
    "    fft = gaussian_filter(fft, sigma=3)\n",
    "\n",
    "    return fft"
   ]
  },
  {
   "cell_type": "markdown",
   "id": "4880a903-4060-4760-a4e8-815769b8a442",
   "metadata": {},
   "source": [
    "# Auswertung"
   ]
  },
  {
   "cell_type": "code",
   "execution_count": null,
   "id": "8a0258b7-b6de-4cfc-a080-ea4804b98d67",
   "metadata": {},
   "outputs": [],
   "source": [
    "tiles = list((dotenv['TEMP_PROCESSING_DIR'] / 'tile_dataset_fourierGain_check').glob('./**/*.jpg'))\n",
    "tiles = [t for t in tiles if t.parent.name != 'unassigned']"
   ]
  },
  {
   "cell_type": "code",
   "execution_count": null,
   "id": "9694b1ae-e7ac-4bbd-8df4-1bc567cb0356",
   "metadata": {},
   "outputs": [],
   "source": [
    "check_data = pd.DataFrame.from_dict([\n",
    "    {\n",
    "        'tile_name' : tile.name,\n",
    "        'label' : tile.parent.name\n",
    "    } for tile in tiles\n",
    "])"
   ]
  },
  {
   "cell_type": "code",
   "execution_count": null,
   "id": "9ab03091-bd59-4a94-9c30-babedcb46941",
   "metadata": {},
   "outputs": [],
   "source": [
    "for i in tqdm(range(check_data.shape[0])):\n",
    "    row = check_data.iloc[i]\n",
    "\n",
    "    moire_tile_path = dotenv['TEMP_PROCESSING_DIR'] / 'tile_dataset_fourierGain_check' / row.label / row.tile_name\n",
    "    non_moire_tile_path = dotenv['TILE_DATASET_DIR'] / dataset_name / 'train' / 'no_moire' / moire_tile_path.name\n",
    "    moire_tile = Image.open( moire_tile_path ).convert('L')\n",
    "    non_moire_tile = Image.open( non_moire_tile_path ).convert('L')\n",
    "    frequency_gain = get_frequency_gain( moire_tile, non_moire_tile ).max()\n",
    "    ssim_value = ssim( np.array(moire_tile), np.array(non_moire_tile) )\n",
    "\n",
    "    check_data.loc[\n",
    "        row.name,\n",
    "        ['frequency_gain', 'ssim_value']\n",
    "    ] = frequency_gain, ssim_value"
   ]
  },
  {
   "cell_type": "code",
   "execution_count": null,
   "id": "404f791f-f3a6-4ce4-beb6-9b133deafea7",
   "metadata": {},
   "outputs": [],
   "source": [
    "px.scatter(\n",
    "    y=check_data.frequency_gain,\n",
    "    x=check_data.ssim_value,\n",
    "    color=check_data.label\n",
    ")"
   ]
  },
  {
   "cell_type": "code",
   "execution_count": null,
   "id": "d1f6fd69-1681-4356-8f62-fed5cc94c3ba",
   "metadata": {},
   "outputs": [],
   "source": [
    "from sklearn.pipeline import make_pipeline\n",
    "from sklearn.preprocessing import StandardScaler\n",
    "from sklearn.svm import SVC\n",
    "from sklearn.model_selection import train_test_split\n",
    "from sklearn.preprocessing import LabelEncoder"
   ]
  },
  {
   "cell_type": "code",
   "execution_count": null,
   "id": "b057e97f-8b1a-475e-8899-2981c328278e",
   "metadata": {},
   "outputs": [],
   "source": [
    "check_data = check_data.sample(frac=1)"
   ]
  },
  {
   "cell_type": "code",
   "execution_count": null,
   "id": "aca92bc9-da2b-417e-a233-8336f621647a",
   "metadata": {},
   "outputs": [],
   "source": [
    "le = LabelEncoder()\n",
    "le.fit(check_data.label)\n",
    "\n",
    "X = check_data.loc[:,['frequency_gain','ssim_value']].to_numpy()\n",
    "y = le.transform(check_data.label)\n",
    "X_train, X_test, y_train, y_test = train_test_split(X, y, test_size=0.33, random_state=42)"
   ]
  },
  {
   "cell_type": "code",
   "execution_count": null,
   "id": "c3c1e16a-9ca1-4d8f-881e-3ee08a8673ef",
   "metadata": {},
   "outputs": [],
   "source": [
    "clf = make_pipeline(StandardScaler(), SVC(gamma='auto'))\n",
    "clf.fit(X_train, y_train)"
   ]
  },
  {
   "cell_type": "code",
   "execution_count": null,
   "id": "4546b1cd-c057-469d-bddb-3db3512b0403",
   "metadata": {},
   "outputs": [],
   "source": [
    "clf.score(X_train,y_train), clf.score(X_test,y_test)"
   ]
  },
  {
   "cell_type": "code",
   "execution_count": null,
   "id": "72e1dce9-0be3-4f70-81da-2f43f829c233",
   "metadata": {},
   "outputs": [],
   "source": [
    "check_data.loc[:, 'predicted_label'] = check_data.apply( lambda row: ['moire','no_moire'][clf.predict(np.array([row.frequency_gain,row.ssim_value]).reshape(1, -1))[0]], axis=1)"
   ]
  },
  {
   "cell_type": "code",
   "execution_count": null,
   "id": "ed15cbf0-41ee-435c-b869-6f027115a759",
   "metadata": {},
   "outputs": [],
   "source": [
    "calc_metrics( check_data )"
   ]
  },
  {
   "cell_type": "code",
   "execution_count": null,
   "id": "dbcffc1f-05d4-404c-af20-f96819c6174d",
   "metadata": {},
   "outputs": [],
   "source": [
    "with (dotenv['MODEL_DIR'] / 'svm_tile_postprocessing.pkl').open('wb') as pkl_file:\n",
    "    pickle.dump( clf, pkl_file )"
   ]
  },
  {
   "cell_type": "markdown",
   "id": "fa5ad2c5-72e3-4f5a-ad84-044028043d89",
   "metadata": {},
   "source": [
    "# Rest"
   ]
  },
  {
   "cell_type": "code",
   "execution_count": 11,
   "id": "fef05292-20e5-4021-853f-ef86a81513ba",
   "metadata": {},
   "outputs": [],
   "source": [
    "data = load_data(f\"{ model_name }_{ dataset_name }\")\n",
    "data.loc[:,'frequency_gain'] = np.nan\n",
    "data.loc[:,'svm_prediction'] = np.nan"
   ]
  },
  {
   "cell_type": "code",
   "execution_count": null,
   "id": "28a1fdc9-a370-4796-b067-fd92b4017240",
   "metadata": {},
   "outputs": [],
   "source": [
    "data_selection = data.loc[\n",
    "    (data.dataset == 'train') &\n",
    "    (data.label == 'moire') &\n",
    "    (pd.isna(data.frequency_gain))\n",
    "]"
   ]
  },
  {
   "cell_type": "code",
   "execution_count": null,
   "id": "9e9569e9-061e-4459-b9cb-6f357a4fe97d",
   "metadata": {},
   "outputs": [],
   "source": [
    "sample = data_selection.sample(n=1000)"
   ]
  },
  {
   "cell_type": "code",
   "execution_count": null,
   "id": "3c2d9442-22dd-4196-b919-64e932132115",
   "metadata": {},
   "outputs": [],
   "source": [
    "for i in tqdm(range(sample.shape[0])):\n",
    "    row = sample.iloc[i]\n",
    "\n",
    "    moire_tile_path = dotenv['TILE_DATASET_DIR'] / row.dataset / row.label / row.tile_name\n",
    "    non_moire_tile_path = moire_tile_path.parent.parent / 'no_moire' / moire_tile_path.name\n",
    "    moire_tile = Image.open( moire_tile_path ).convert('L')\n",
    "    non_moire_tile = Image.open( non_moire_tile_path ).convert('L')\n",
    "    frequency_gain = get_frequency_gain( moire_tile, non_moire_tile ).max()\n",
    "    ssim_value = ssim( np.array(moire_tile), np.array(non_moire_tile) )\n",
    "\n",
    "    data.loc[\n",
    "        row.name,\n",
    "        ['frequency_gain', 'ssim_value']\n",
    "    ] = frequency_gain, ssim_value"
   ]
  },
  {
   "cell_type": "code",
   "execution_count": null,
   "id": "00a654b2-6072-4e4d-80fa-2f596594bcd1",
   "metadata": {},
   "outputs": [],
   "source": [
    "data.loc[\n",
    "    sample.index,\n",
    "    'svm_prediction'\n",
    "] = data.loc[sample.index].apply( lambda row: ['moire','no_moire'][clf.predict(np.array([row.frequency_gain,row.ssim_value]).reshape(1, -1))[0]], axis=1)"
   ]
  },
  {
   "cell_type": "code",
   "execution_count": null,
   "id": "4d3a3dd2-aa63-4cb5-b2e8-4d66f7fb59bf",
   "metadata": {},
   "outputs": [],
   "source": [
    "data.loc[\n",
    "    (pd.isna(data.svm_prediction) == False) &\n",
    "    (data.svm_prediction == 'moire')\n",
    "]"
   ]
  },
  {
   "cell_type": "code",
   "execution_count": null,
   "id": "01b4c01d-3ccb-4869-bb2b-4d31debae931",
   "metadata": {},
   "outputs": [],
   "source": [
    "25 / data.loc[\n",
    "    (pd.isna(data.svm_prediction) == False) &\n",
    "    (data.svm_prediction == 'no_moire')\n",
    "].shape[0]"
   ]
  },
  {
   "cell_type": "code",
   "execution_count": null,
   "id": "fbd39dd3-a906-4a5f-8a74-53b81ced0cb4",
   "metadata": {},
   "outputs": [],
   "source": [
    "17 / data.loc[\n",
    "    (pd.isna(data.svm_prediction) == False) &\n",
    "    (data.svm_prediction == 'moire')\n",
    "].shape[0]"
   ]
  },
  {
   "cell_type": "code",
   "execution_count": null,
   "id": "19b3652a-e869-4faa-9b59-7d1516a2635c",
   "metadata": {},
   "outputs": [],
   "source": [
    "get_tile_result_grid(\n",
    "    data.loc[\n",
    "        (pd.isna(data.svm_prediction) == False) &\n",
    "        (data.svm_prediction == 'moire')\n",
    "    ],\n",
    "    label_type='description_values',\n",
    "    col_count=10\n",
    ").save( '/Users/frederic.birwe/Downloads/moire_tile.jpg' )"
   ]
  },
  {
   "cell_type": "code",
   "execution_count": null,
   "id": "910e72eb-4f6e-47ea-80d8-dc1c95959807",
   "metadata": {},
   "outputs": [],
   "source": [
    "get_tile_result_grid(\n",
    "    data.loc[\n",
    "        (pd.isna(data.svm_prediction) == False) &\n",
    "        (data.svm_prediction == 'no_moire')\n",
    "    ],\n",
    "    label_type='description_values',\n",
    "    col_count=10\n",
    ").save( '/Users/frederic.birwe/Downloads/no_moire_tile.jpg' )"
   ]
  }
 ],
 "metadata": {
  "kernelspec": {
   "display_name": "Python 3 (ipykernel)",
   "language": "python",
   "name": "python3"
  },
  "language_info": {
   "codemirror_mode": {
    "name": "ipython",
    "version": 3
   },
   "file_extension": ".py",
   "mimetype": "text/x-python",
   "name": "python",
   "nbconvert_exporter": "python",
   "pygments_lexer": "ipython3",
   "version": "3.10.11"
  }
 },
 "nbformat": 4,
 "nbformat_minor": 5
}
