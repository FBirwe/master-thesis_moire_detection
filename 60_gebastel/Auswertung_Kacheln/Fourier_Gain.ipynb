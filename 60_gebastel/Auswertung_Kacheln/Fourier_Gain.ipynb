{
 "cells": [
  {
   "cell_type": "code",
   "execution_count": 1,
   "id": "d8a5c9bb-108e-4a2a-b5ea-f91ced317299",
   "metadata": {},
   "outputs": [],
   "source": [
    "import sys\n",
    "sys.path.append('../../30_data_tools/')\n",
    "\n",
    "from helper import load_dotenv\n",
    "from pathlib import Path\n",
    "from PIL import Image, ImageOps\n",
    "import numpy as np\n",
    "import math\n",
    "import plotly.express as px\n",
    "from scipy.ndimage import gaussian_filter\n",
    "from random import randrange, choices, shuffle\n",
    "from tqdm.auto import tqdm\n",
    "import json\n",
    "from skimage.metrics import structural_similarity as ssim"
   ]
  },
  {
   "cell_type": "code",
   "execution_count": 2,
   "id": "60a31a36-742e-4fb5-a343-6eaa551f4ef1",
   "metadata": {},
   "outputs": [],
   "source": [
    "def get_fft( input_img ):\n",
    "    ft = np.fft.ifftshift(np.array(input_img))\n",
    "    ft = np.fft.fft2(ft)\n",
    "    ft = np.fft.fftshift(ft)\n",
    "    \n",
    "    return ft\n",
    "\n",
    "def limit_frequencies( fft, inner_limit=None, outer_limit=None ):\n",
    "    center = (fft.shape[1] / 2, fft.shape[0] / 2)\n",
    "    for y in range(fft.shape[0]):\n",
    "        for x in range(fft.shape[1]):\n",
    "            r = math.sqrt( abs(center[0] - x) ** 2 + abs(center[1] - y) ** 2 )\n",
    "            \n",
    "            if outer_limit is not None and r > outer_limit:\n",
    "                fft[y,x] = 1\n",
    "    \n",
    "            if inner_limit is not None and r < inner_limit:\n",
    "                fft[y,x] = 1\n",
    "\n",
    "    return fft\n",
    "\n",
    "\n",
    "def get_frequency_gain( orig_img, synthetic_img, additional=.00001 ):\n",
    "    fft_orig = get_fft( orig_img )\n",
    "    fft_synthetic = get_fft( synthetic_img )\n",
    "\n",
    "    res = np.log( (np.abs(fft_orig) ** 2 + additional) / (np.abs(fft_synthetic) ** 2 + additional) )\n",
    "    res = limit_frequencies( res, outer_limit=70 )\n",
    "    res = gaussian_filter(res, sigma=3)\n",
    "\n",
    "    return res\n",
    "\n",
    "\n",
    "def get_diff_img_frequency_gain( orig_img, synthetic_img ):\n",
    "    diff_img = Image.fromarray(gaussian_filter(np.array(synthetic_img) - np.array(orig_img),sigma=3))\n",
    "    fft = np.abs( limit_frequencies( get_fft(diff_img), inner_limit=5 ) )\n",
    "    fft = gaussian_filter(fft, sigma=3)\n",
    "\n",
    "    return fft"
   ]
  },
  {
   "cell_type": "code",
   "execution_count": 3,
   "id": "1f4641ca-4445-4bf6-97e5-9f4502588776",
   "metadata": {},
   "outputs": [],
   "source": [
    "dotenv = load_dotenv()"
   ]
  },
  {
   "cell_type": "code",
   "execution_count": 4,
   "id": "6f492238-030b-4201-bd99-b977559081a9",
   "metadata": {},
   "outputs": [],
   "source": [
    "moire_tiles = list((dotenv['TILE_DATASET_DIR'] / '24-05-02_001_tile_dataset' / 'train' / 'moire').glob('./*.jpg'))"
   ]
  },
  {
   "cell_type": "markdown",
   "id": "3a6b24f2-6507-4d2c-b0c8-be2567178b52",
   "metadata": {},
   "source": [
    "# Auszeichnung"
   ]
  },
  {
   "cell_type": "code",
   "execution_count": null,
   "id": "58a78929-9843-4644-baab-270e095c0f9f",
   "metadata": {},
   "outputs": [],
   "source": []
  },
  {
   "cell_type": "code",
   "execution_count": null,
   "id": "70a0aa25-91b2-4e92-a38d-9ef0509f306b",
   "metadata": {},
   "outputs": [],
   "source": [
    "moire = []\n",
    "no_moire = []"
   ]
  },
  {
   "cell_type": "code",
   "execution_count": null,
   "id": "8639f7ef-8cf4-4d48-af82-16580f53b351",
   "metadata": {},
   "outputs": [],
   "source": [
    "selection = choices([i for i in range(len(moire_tiles))], k=25)"
   ]
  },
  {
   "cell_type": "code",
   "execution_count": null,
   "id": "63f3c9e9-ac64-4a70-a7c6-4baad66dcd46",
   "metadata": {},
   "outputs": [],
   "source": [
    "i = 0"
   ]
  },
  {
   "cell_type": "code",
   "execution_count": null,
   "id": "0cede57b-64d5-4311-9164-9062b7e65cd1",
   "metadata": {},
   "outputs": [],
   "source": [
    "moire_tile_path = moire_tiles[selection[i]]\n",
    "non_moire_tile_path = moire_tile_path.parent.parent / 'no_moire' / moire_tile_path.name\n",
    "moire_tile = Image.open( moire_tile_path ).convert('L')\n",
    "non_moire_tile = Image.open( non_moire_tile_path ).convert('L')\n",
    "display_img = Image.new('L',(moire_tile.size[0] + non_moire_tile.size[0],max([moire_tile.size[1],non_moire_tile.size[1]])), color=\"white\")\n",
    "display_img.paste(\n",
    "    moire_tile,\n",
    "    (0,0)\n",
    ")\n",
    "display_img.paste(\n",
    "    non_moire_tile,\n",
    "    (moire_tile.size[0],0)\n",
    ")\n",
    "i += 1\n",
    "\n",
    "display_img"
   ]
  },
  {
   "cell_type": "code",
   "execution_count": null,
   "id": "d758d78a-4089-4547-870c-22d51ff748da",
   "metadata": {},
   "outputs": [],
   "source": [
    "moire.append(moire_tile_path.name.replace(moire_tile_path.suffix,''))"
   ]
  },
  {
   "cell_type": "code",
   "execution_count": null,
   "id": "548b862c-609c-4cc0-9e68-f237c6492196",
   "metadata": {},
   "outputs": [],
   "source": [
    "no_moire.append(moire_tile_path.name.replace(moire_tile_path.suffix,''))"
   ]
  },
  {
   "cell_type": "code",
   "execution_count": null,
   "id": "f8b4b684-9089-455a-84c0-cf1c202f30ce",
   "metadata": {},
   "outputs": [],
   "source": [
    "0 / 0"
   ]
  },
  {
   "cell_type": "code",
   "execution_count": null,
   "id": "aab54209-f003-4c59-96b3-3ada2e34d7ad",
   "metadata": {},
   "outputs": [],
   "source": [
    "with Path('./tile_classification.json').open() as json_file:\n",
    "    check_data = json.load( json_file )\n",
    "\n",
    "with Path('./tile_classification.json').open('w') as json_file:\n",
    "    json_file.write(\n",
    "        json.dumps({\n",
    "            'moire' : check_data['moire'] + moire,\n",
    "            'no_moire' : check_data['no_moire'] + no_moire\n",
    "        })\n",
    "    )"
   ]
  },
  {
   "cell_type": "markdown",
   "id": "7e2c40bf-1396-4c8f-9379-8014690a7d3b",
   "metadata": {
    "jp-MarkdownHeadingCollapsed": true
   },
   "source": [
    "# Hypothesentest"
   ]
  },
  {
   "cell_type": "code",
   "execution_count": null,
   "id": "b0e414c1-6c82-4af2-a94e-db88150d9c2f",
   "metadata": {},
   "outputs": [],
   "source": [
    "with Path('./tile_classification.json').open() as json_file:\n",
    "    check_data = json.load( json_file )"
   ]
  },
  {
   "cell_type": "code",
   "execution_count": null,
   "id": "c1513c29-d063-4db6-88f2-d300e1ec571b",
   "metadata": {},
   "outputs": [],
   "source": [
    "out_moire = []\n",
    "\n",
    "for moire_tile_name in tqdm(check_data['moire']):\n",
    "    moire_tile_path = dotenv['TILE_DATASET_DIR'] / 'train' / 'moire' / f\"{moire_tile_name}.jpg\"\n",
    "    non_moire_tile_path = moire_tile_path.parent.parent / 'no_moire' / moire_tile_path.name\n",
    "    moire_tile = Image.open( moire_tile_path ).convert('L')\n",
    "    non_moire_tile = Image.open( non_moire_tile_path ).convert('L')\n",
    "    frequency_gain = get_frequency_gain( moire_tile, non_moire_tile ).max()\n",
    "    frequency_gain_invert = get_frequency_gain( ImageOps.invert(moire_tile), ImageOps.invert(non_moire_tile) ).max()\n",
    "    ssim_value = ssim( np.array(moire_tile), np.array(non_moire_tile) )\n",
    "\n",
    "    out_moire.append((\n",
    "        i,\n",
    "        moire_tile,\n",
    "        non_moire_tile,\n",
    "        frequency_gain,\n",
    "        frequency_gain_invert,\n",
    "        ssim_value,\n",
    "        get_diff_img_frequency_gain( moire_tile, non_moire_tile ).max(),\n",
    "        get_diff_img_frequency_gain( moire_tile, non_moire_tile ).mean(),\n",
    "        get_diff_img_frequency_gain( moire_tile, non_moire_tile ).std()\n",
    "    ))\n",
    "\n",
    "\n",
    "out_no_moire = []\n",
    "\n",
    "for moire_tile_name in tqdm(check_data['no_moire']):\n",
    "    moire_tile_path = dotenv['TILE_DATASET_DIR'] / 'train' / 'moire' / f\"{moire_tile_name}.jpg\"\n",
    "    non_moire_tile_path = moire_tile_path.parent.parent / 'no_moire' / moire_tile_path.name\n",
    "    moire_tile = Image.open( moire_tile_path ).convert('L')\n",
    "    non_moire_tile = Image.open( non_moire_tile_path ).convert('L')\n",
    "    frequency_gain = get_frequency_gain( moire_tile, non_moire_tile ).max()\n",
    "    frequency_gain_invert = get_frequency_gain( ImageOps.invert(moire_tile), ImageOps.invert(non_moire_tile) ).max()\n",
    "    ssim_value = ssim( np.array(moire_tile), np.array(non_moire_tile) )\n",
    "\n",
    "    out_no_moire.append((\n",
    "        i,\n",
    "        moire_tile,\n",
    "        non_moire_tile,\n",
    "        frequency_gain,\n",
    "        frequency_gain_invert,\n",
    "        ssim_value,\n",
    "        get_diff_img_frequency_gain( moire_tile, non_moire_tile ).max(),\n",
    "        get_diff_img_frequency_gain( moire_tile, non_moire_tile ).mean(),\n",
    "        get_diff_img_frequency_gain( moire_tile, non_moire_tile ).std()\n",
    "    ))"
   ]
  },
  {
   "cell_type": "code",
   "execution_count": null,
   "id": "40d305ee-0a0a-4c84-8d44-07fd1247edb5",
   "metadata": {},
   "outputs": [],
   "source": [
    "px.scatter(\n",
    "    y=[m[3] for m in out_moire] + [m[3] for m in out_no_moire],\n",
    "    color=['moire' for m in out_moire] + ['no_moire' for m in out_no_moire],\n",
    ")"
   ]
  },
  {
   "cell_type": "code",
   "execution_count": null,
   "id": "0c4655ac-c08b-4a00-9198-36a7530cf9f4",
   "metadata": {},
   "outputs": [],
   "source": [
    "from sklearn.tree import DecisionTreeClassifier\n",
    "#from sklearn.preprocessing import LabelEncoder"
   ]
  },
  {
   "cell_type": "code",
   "execution_count": null,
   "id": "aed4de61-a695-4878-8bae-5d948e397a34",
   "metadata": {},
   "outputs": [],
   "source": [
    "X = [(m[3],m[5]) for m in out_moire] + [(m[3],m[5]) for m in out_no_moire]\n",
    "y = [0 for m in out_moire] + [1 for m in out_no_moire]"
   ]
  },
  {
   "cell_type": "code",
   "execution_count": null,
   "id": "27c9e54b-4c9a-4a19-87b8-df83da6ceb96",
   "metadata": {},
   "outputs": [],
   "source": [
    "idx = [i for i in range(len(X))]\n",
    "shuffle(idx)"
   ]
  },
  {
   "cell_type": "code",
   "execution_count": null,
   "id": "1b97a142-e507-4834-98ef-738adfd235a3",
   "metadata": {},
   "outputs": [],
   "source": [
    "clf = DecisionTreeClassifier(random_state=0)\n",
    "clf.fit(\n",
    "    [X[i] for i in idx[:35]],\n",
    "    [y[i] for i in idx[:35]]\n",
    ")"
   ]
  },
  {
   "cell_type": "code",
   "execution_count": null,
   "id": "7dfa7bf8-7b7d-4d45-8ffa-ca752a30ad03",
   "metadata": {},
   "outputs": [],
   "source": [
    "prediction = clf.predict(\n",
    "    [X[i] for i in idx[35:]],\n",
    "    [y[i] for i in idx[35:]]\n",
    ")"
   ]
  },
  {
   "cell_type": "code",
   "execution_count": null,
   "id": "c7908422-8b91-48cd-9117-93b6055ee23e",
   "metadata": {},
   "outputs": [],
   "source": [
    "clf.score(\n",
    "    [X[i] for i in idx[35:]],\n",
    "    [y[i] for i in idx[35:]]\n",
    ")"
   ]
  },
  {
   "cell_type": "code",
   "execution_count": null,
   "id": "f5a017b4-ba4c-4a5f-8e25-4bda99d5c93a",
   "metadata": {},
   "outputs": [],
   "source": [
    "[y[i] for i in idx[35:]][15:25]"
   ]
  },
  {
   "cell_type": "code",
   "execution_count": null,
   "id": "8bf7732d-085a-425c-8cf6-7a7d571b8d65",
   "metadata": {},
   "outputs": [],
   "source": [
    "prediction[15:25]"
   ]
  },
  {
   "cell_type": "code",
   "execution_count": null,
   "id": "8dc2cb6b-fd6b-45fe-87d8-cbd5e3bb2c5d",
   "metadata": {},
   "outputs": [],
   "source": [
    "TP = 0\n",
    "TN = 0\n",
    "FP = 0\n",
    "FN = 0\n",
    "\n",
    "for i in range(len(idx[35:])):\n",
    "    label = y[idx[i]]\n",
    "    pred = prediction[i]\n",
    "\n",
    "    if label == pred:\n",
    "        if label == 0:\n",
    "            TP += 1\n",
    "        else:\n",
    "            TN += 1\n",
    "    else:\n",
    "        if label == 0:\n",
    "            FN += 1\n",
    "        else:\n",
    "            FP += 1"
   ]
  },
  {
   "cell_type": "code",
   "execution_count": null,
   "id": "577772c3-46b7-4b18-8cc0-8b0027c4a0f3",
   "metadata": {},
   "outputs": [],
   "source": [
    "TP, TN, FP, FN"
   ]
  }
 ],
 "metadata": {
  "kernelspec": {
   "display_name": "Python 3 (ipykernel)",
   "language": "python",
   "name": "python3"
  },
  "language_info": {
   "codemirror_mode": {
    "name": "ipython",
    "version": 3
   },
   "file_extension": ".py",
   "mimetype": "text/x-python",
   "name": "python",
   "nbconvert_exporter": "python",
   "pygments_lexer": "ipython3",
   "version": "3.10.11"
  }
 },
 "nbformat": 4,
 "nbformat_minor": 5
}
