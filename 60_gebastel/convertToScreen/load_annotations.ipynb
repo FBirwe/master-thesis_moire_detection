{
 "cells": [
  {
   "cell_type": "code",
   "execution_count": 1,
   "id": "c76b6fa6",
   "metadata": {},
   "outputs": [],
   "source": [
    "import sys\n",
    "sys.path.append('../../30_data_tools')"
   ]
  },
  {
   "cell_type": "code",
   "execution_count": 2,
   "id": "108731f7",
   "metadata": {},
   "outputs": [],
   "source": [
    "from helper import load_dotenv\n",
    "from get_labelstudio_data import get_tasks, get_results_of_project\n",
    "from file_interaction import open_img"
   ]
  },
  {
   "cell_type": "code",
   "execution_count": 3,
   "id": "17043343",
   "metadata": {},
   "outputs": [],
   "source": [
    "import pandas as pd\n",
    "import requests\n",
    "from PIL import Image\n",
    "from datetime import datetime\n",
    "from tqdm.auto import tqdm\n",
    "import sqlite3\n",
    "import re"
   ]
  },
  {
   "cell_type": "code",
   "execution_count": 4,
   "id": "b1becfa1",
   "metadata": {},
   "outputs": [],
   "source": [
    "Image.MAX_IMAGE_PIXELS = None"
   ]
  },
  {
   "cell_type": "code",
   "execution_count": 5,
   "id": "e4985d16",
   "metadata": {},
   "outputs": [],
   "source": [
    "config = load_dotenv()"
   ]
  },
  {
   "cell_type": "code",
   "execution_count": 6,
   "id": "4a2431ae-d2f6-4752-a15f-fad3505d3a2d",
   "metadata": {},
   "outputs": [],
   "source": [
    "con = sqlite3.connect(config['DB_PATH'])"
   ]
  },
  {
   "cell_type": "code",
   "execution_count": 7,
   "id": "2a59fdee",
   "metadata": {},
   "outputs": [],
   "source": [
    "tasks = get_tasks(2)\n",
    "results = get_results_of_project(2)"
   ]
  },
  {
   "cell_type": "code",
   "execution_count": 8,
   "id": "e99c428f-1e21-4b32-b9c0-5b7864009cb1",
   "metadata": {},
   "outputs": [],
   "source": [
    "def transform_result( r ):\n",
    "    try:\n",
    "        res = re.match(r'(.+?)\\.(.+\\.p\\d+)\\.halftone\\d+dpi\\.(.+?)\\.(\\d+)\\.4c_.+', r['img_name'])\n",
    "    \n",
    "        if res is None:\n",
    "            res = re.match(r'(.+?)\\.(.+\\.p\\d+)\\.(.+?)\\.(\\d+)\\.4c_.+', r['img_name'])\n",
    "        \n",
    "        return {\n",
    "            'job' : res.groups()[0],\n",
    "            'pdf_filename' : res.groups()[1],\n",
    "            'variant_name' : 'halftone600dpi',\n",
    "            'method' : res.groups()[2],\n",
    "            'idx' : int(res.groups()[3])\n",
    "        }\n",
    "    except:\n",
    "        return None"
   ]
  },
  {
   "cell_type": "code",
   "execution_count": 9,
   "id": "7de4a748-dbec-4846-9b54-2ca5f3b4dde7",
   "metadata": {},
   "outputs": [],
   "source": [
    "masks = pd.read_sql(\n",
    "    '''\n",
    "        SELECT m.*, gi.timestamp FROM mask m\n",
    "        LEFT JOIN generic_image gi\n",
    "        ON\n",
    "            m.pdf_filename=gi.pdf_filename AND\n",
    "            m.job=gi.job AND\n",
    "            m.type=gi.type AND\n",
    "            m.variant_name=gi.variant_name AND\n",
    "            m.method=gi.method AND\n",
    "            m.idx=gi.idx\n",
    "        WHERE ssim < 0.95\n",
    "    ''',\n",
    "    con\n",
    ")\n",
    "\n",
    "if len(results) > 0:\n",
    "    result_data = pd.DataFrame.from_dict([transform_result(r) for r in results if (transform_result(r) is None) == False])\n",
    "    result_data.loc[:,'is_processed'] = True\n",
    "    \n",
    "    masks = pd.merge(\n",
    "        masks,\n",
    "        result_data,\n",
    "        how=\"left\",\n",
    "        on=['job','pdf_filename','variant_name','method','idx']\n",
    "    )\n",
    "    masks.is_processed.fillna(False, inplace=True)\n",
    "else:\n",
    "    masks.loc[:,'is_processed'] = False"
   ]
  },
  {
   "cell_type": "code",
   "execution_count": 10,
   "id": "ebbedb82-0e53-42ac-8fee-50661d194b16",
   "metadata": {},
   "outputs": [],
   "source": [
    "#masks = masks.sample(n=100)\n",
    "#masks.loc[:,'is_processed'] = False"
   ]
  },
  {
   "cell_type": "code",
   "execution_count": 11,
   "id": "c4926893-85a4-4bd2-b0da-28a957c9401f",
   "metadata": {},
   "outputs": [],
   "source": [
    "def create_annotation( task, masks ):\n",
    "    with open_img( (task['data_path'],'azure') ) as img:\n",
    "        img_size = img.size\n",
    "     \n",
    "    headers = {'Authorization': f'Token { config[\"LABEL_STUDIO_TOKEN\"] }'}\n",
    "    json_data = {\n",
    "        \"completed_by\": 1,\n",
    "        \"result\": [\n",
    "            {\n",
    "                \"original_width\": img_size[0],\n",
    "                \"original_height\": img_size[1],\n",
    "                \"image_rotation\": 0,\n",
    "                \"value\": {\n",
    "                    \"x\": m[0] / img_size[0] * 100,\n",
    "                    \"y\": m[1] / img_size[1] * 100,\n",
    "                    \"width\": m[2] / img_size[0] * 100,\n",
    "                    \"height\": m[3] / img_size[1] * 100,\n",
    "                    \"rotation\": 0,\n",
    "                    \"rectanglelabels\": [\n",
    "                        \"unchecked_moire\"\n",
    "                    ]\n",
    "                },\n",
    "                \"from_name\": \"label\",\n",
    "                \"to_name\": \"image\",\n",
    "                \"type\": \"rectanglelabels\",\n",
    "                \"origin\": \"manual\"\n",
    "            } for m in masks\n",
    "        ],\n",
    "        \"was_cancelled\": False,\n",
    "        \"ground_truth\": False,\n",
    "        \"draft_created_at\": datetime.now().isoformat(),\n",
    "        \"task\": task[\"id\"],\n",
    "        \"project\": task[\"project_id\"],\n",
    "        \"updated_by\": 1,\n",
    "        \"parent_prediction\": None,\n",
    "        \"parent_annotation\": None\n",
    "    }\n",
    "\n",
    "    return requests.post(\n",
    "        f'http://localhost:8080/api/tasks/{ task[\"id\"] }/annotations/',\n",
    "        headers=headers,\n",
    "        json=json_data\n",
    "    ).status_code"
   ]
  },
  {
   "cell_type": "code",
   "execution_count": 12,
   "id": "9e4d01c5-10f7-4e55-8a1b-78c4575b0462",
   "metadata": {},
   "outputs": [
    {
     "data": {
      "application/vnd.jupyter.widget-view+json": {
       "model_id": "c2e95d9a81ac442ea5a2202dd18a79ef",
       "version_major": 2,
       "version_minor": 0
      },
      "text/plain": [
       "  0%|          | 0/1221 [00:00<?, ?it/s]"
      ]
     },
     "metadata": {},
     "output_type": "display_data"
    }
   ],
   "source": [
    "with tqdm(total=masks.loc[masks.is_processed == False].shape[0]) as pbar:\n",
    "    while masks.loc[masks.is_processed == False].shape[0] > 0:\n",
    "        mask = masks.loc[masks.is_processed == False].sample(n=1).iloc[0]\n",
    "        \n",
    "        relevant_masks = masks.loc[\n",
    "            (masks.job == mask.job) &\n",
    "            (masks.pdf_filename == mask.pdf_filename) &\n",
    "            (masks.variant_name == mask.variant_name) &\n",
    "            (masks.method == mask.method) &\n",
    "            (masks.idx == mask.idx)\n",
    "        ].index\n",
    "        \n",
    "        relevant_tasks = [t for t in tasks if f'{ mask.job }.{ mask.pdf_filename }.' in t['data_path'] and f'.{ mask.method }.{ mask.idx }.' in t['data_path']]\n",
    "        \n",
    "        if len(relevant_tasks) > 0:\n",
    "            task = relevant_tasks[0]\n",
    "            \n",
    "            masks_for_img = [\n",
    "                [int(val) for val in m.split(';')]\n",
    "                for m in\n",
    "                masks.loc[masks.index.isin(relevant_masks)].bbox.values\n",
    "            ]\n",
    "\n",
    "            try:\n",
    "                return_code = create_annotation( task, masks_for_img )\n",
    "            except:\n",
    "                pass\n",
    "    \n",
    "        masks.loc[masks.index.isin(relevant_masks), 'is_processed'] = True\n",
    "        pbar.update(relevant_masks.shape[0])"
   ]
  }
 ],
 "metadata": {
  "kernelspec": {
   "display_name": "Python 3 (ipykernel)",
   "language": "python",
   "name": "python3"
  },
  "language_info": {
   "codemirror_mode": {
    "name": "ipython",
    "version": 3
   },
   "file_extension": ".py",
   "mimetype": "text/x-python",
   "name": "python",
   "nbconvert_exporter": "python",
   "pygments_lexer": "ipython3",
   "version": "3.10.11"
  }
 },
 "nbformat": 4,
 "nbformat_minor": 5
}
