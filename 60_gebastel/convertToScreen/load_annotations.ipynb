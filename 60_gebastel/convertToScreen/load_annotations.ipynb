{
 "cells": [
  {
   "cell_type": "code",
   "execution_count": 1,
   "id": "c76b6fa6",
   "metadata": {},
   "outputs": [],
   "source": [
    "import sys\n",
    "sys.path.append('../../30_data_tools')"
   ]
  },
  {
   "cell_type": "code",
   "execution_count": 2,
   "id": "108731f7",
   "metadata": {},
   "outputs": [],
   "source": [
    "from helper import load_dotenv\n",
    "from get_labelstudio_data import get_tasks, get_results_of_project"
   ]
  },
  {
   "cell_type": "code",
   "execution_count": 3,
   "id": "17043343",
   "metadata": {},
   "outputs": [],
   "source": [
    "import re\n",
    "import pandas as pd\n",
    "import pickle\n",
    "import json\n",
    "import requests\n",
    "from PIL import Image\n",
    "from datetime import datetime\n",
    "from tqdm import tqdm"
   ]
  },
  {
   "cell_type": "code",
   "execution_count": 4,
   "id": "e4985d16",
   "metadata": {},
   "outputs": [],
   "source": [
    "config = load_dotenv()"
   ]
  },
  {
   "cell_type": "code",
   "execution_count": 5,
   "id": "f4e43b90",
   "metadata": {},
   "outputs": [],
   "source": [
    "generated_images = pd.concat([pd.read_pickle(f) for f in config['GENERIC_INFORMATION_DATA_DIR'].glob('./*.pkl')])\n",
    "\n",
    "generated_images = generated_images.loc[\n",
    "    generated_images.ssim < 0.95\n",
    "]"
   ]
  },
  {
   "cell_type": "code",
   "execution_count": 6,
   "id": "2a59fdee",
   "metadata": {},
   "outputs": [],
   "source": [
    "tasks = get_tasks(2)\n",
    "results = get_results_of_project(2)"
   ]
  },
  {
   "cell_type": "code",
   "execution_count": 7,
   "id": "c2e7e546",
   "metadata": {},
   "outputs": [],
   "source": [
    "def get_masks_by_task( task, generated_images ):\n",
    "    basic_name_task = re.match(r'.+\\/(.+)\\..+?\\..?', task['data_path']).groups()[0]\n",
    "    for method in ['multiply','screen','soft_light']:\n",
    "        basic_name_task = basic_name_task.replace(method,'$PLACEHOLDER$')\n",
    "    \n",
    "    res = generated_images.loc[\n",
    "        generated_images.basic_name == basic_name_task\n",
    "    ]\n",
    "    \n",
    "    if res.shape[0] == 0:\n",
    "        return None\n",
    "        \n",
    "    return res.bbox.to_list()"
   ]
  },
  {
   "cell_type": "code",
   "execution_count": 8,
   "id": "e2a30b7b",
   "metadata": {},
   "outputs": [],
   "source": [
    "def create_annotation( task, masks, results ):\n",
    "    with Image.open( task['data_path'] ) as img:\n",
    "        img_size = img.size\n",
    "     \n",
    "    headers = {'Authorization': f'Token { config[\"LABEL_STUDIO_TOKEN\"] }'}\n",
    "    json_data = {\n",
    "        \"completed_by\": 1,\n",
    "        \"result\": [\n",
    "            {\n",
    "                \"original_width\": img_size[0],\n",
    "                \"original_height\": img_size[1],\n",
    "                \"image_rotation\": 0,\n",
    "                \"value\": {\n",
    "                    \"x\": m[0] / img_size[0] * 100,\n",
    "                    \"y\": m[1] / img_size[1] * 100,\n",
    "                    \"width\": m[2] / img_size[0] * 100,\n",
    "                    \"height\": m[3] / img_size[1] * 100,\n",
    "                    \"rotation\": 0,\n",
    "                    \"rectanglelabels\": [\n",
    "                        \"unchecked_moire\"\n",
    "                    ]\n",
    "                },\n",
    "                \"from_name\": \"label\",\n",
    "                \"to_name\": \"image\",\n",
    "                \"type\": \"rectanglelabels\",\n",
    "                \"origin\": \"manual\"\n",
    "            } for m in masks\n",
    "        ],\n",
    "        \"was_cancelled\": False,\n",
    "        \"ground_truth\": False,\n",
    "        \"draft_created_at\": datetime.now().isoformat(),\n",
    "        \"task\": task[\"id\"],\n",
    "        \"project\": task[\"project_id\"],\n",
    "        \"updated_by\": 1,\n",
    "        \"parent_prediction\": None,\n",
    "        \"parent_annotation\": None\n",
    "    }\n",
    "\n",
    "    if len([r for r in results if r['img_name'] == task['data_path'].split('/')[-1]]) == 0:    \n",
    "        requests.post(\n",
    "            f'http://localhost:8080/api/tasks/{ task[\"id\"] }/annotations/',\n",
    "            headers=headers,\n",
    "            json=json_data\n",
    "        )"
   ]
  },
  {
   "cell_type": "code",
   "execution_count": 9,
   "id": "a53f3322",
   "metadata": {},
   "outputs": [
    {
     "name": "stderr",
     "output_type": "stream",
     "text": [
      " 47%|████▋     | 413/879 [00:00<00:00, 553.81it/s]/Users/frederic.birwe/Library/Python/3.10/lib/python/site-packages/PIL/Image.py:3182: DecompressionBombWarning: Image size (127715826 pixels) exceeds limit of 89478485 pixels, could be decompression bomb DOS attack.\n",
      "  warnings.warn(\n",
      "100%|██████████| 879/879 [00:11<00:00, 78.50it/s] \n"
     ]
    }
   ],
   "source": [
    "for t in tqdm(tasks):\n",
    "    masks = get_masks_by_task( t, generated_images )\n",
    "\n",
    "    if masks:\n",
    "        create_annotation(\n",
    "            t,\n",
    "            masks,\n",
    "            results\n",
    "        )"
   ]
  }
 ],
 "metadata": {
  "kernelspec": {
   "display_name": "Python 3 (ipykernel)",
   "language": "python",
   "name": "python3"
  },
  "language_info": {
   "codemirror_mode": {
    "name": "ipython",
    "version": 3
   },
   "file_extension": ".py",
   "mimetype": "text/x-python",
   "name": "python",
   "nbconvert_exporter": "python",
   "pygments_lexer": "ipython3",
   "version": "3.10.11"
  }
 },
 "nbformat": 4,
 "nbformat_minor": 5
}
