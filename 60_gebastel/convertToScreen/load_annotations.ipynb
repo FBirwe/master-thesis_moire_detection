{
 "cells": [
  {
   "cell_type": "code",
   "execution_count": 1,
   "id": "c76b6fa6",
   "metadata": {},
   "outputs": [],
   "source": [
    "import sys\n",
    "sys.path.append('../../30_data_tools')"
   ]
  },
  {
   "cell_type": "code",
   "execution_count": 2,
   "id": "108731f7",
   "metadata": {},
   "outputs": [],
   "source": [
    "from helper import load_dotenv\n",
    "from get_labelstudio_data import get_tasks, get_results_of_project\n",
    "from file_interaction import open_img"
   ]
  },
  {
   "cell_type": "code",
   "execution_count": 3,
   "id": "17043343",
   "metadata": {},
   "outputs": [],
   "source": [
    "import re\n",
    "import pandas as pd\n",
    "import pickle\n",
    "import json\n",
    "import requests\n",
    "from PIL import Image\n",
    "from datetime import datetime\n",
    "from tqdm import tqdm\n",
    "import sqlite3"
   ]
  },
  {
   "cell_type": "code",
   "execution_count": null,
   "id": "4a44ff85",
   "metadata": {},
   "outputs": [],
   "source": [
    "Image.MAX_IMAGE_PIXELS = None"
   ]
  },
  {
   "cell_type": "code",
   "execution_count": 4,
   "id": "e4985d16",
   "metadata": {},
   "outputs": [],
   "source": [
    "config = load_dotenv()"
   ]
  },
  {
   "cell_type": "code",
   "execution_count": 5,
   "id": "4a2431ae-d2f6-4752-a15f-fad3505d3a2d",
   "metadata": {},
   "outputs": [],
   "source": [
    "con = sqlite3.connect(config['DB_PATH'])"
   ]
  },
  {
   "cell_type": "code",
   "execution_count": 6,
   "id": "2a59fdee",
   "metadata": {},
   "outputs": [],
   "source": [
    "tasks = get_tasks(2)\n",
    "results = get_results_of_project(2)"
   ]
  },
  {
   "cell_type": "code",
   "execution_count": 7,
   "id": "7de4a748-dbec-4846-9b54-2ca5f3b4dde7",
   "metadata": {},
   "outputs": [],
   "source": [
    "masks = pd.read_sql(\n",
    "    '''\n",
    "        SELECT m.*, gi.timestamp FROM mask m\n",
    "        LEFT JOIN generic_image gi\n",
    "        ON\n",
    "            m.pdf_filename=gi.pdf_filename AND\n",
    "            m.job=gi.job AND\n",
    "            m.type=gi.type AND\n",
    "            m.variant_name=gi.variant_name AND\n",
    "            m.method=gi.method AND\n",
    "            m.idx=gi.idx\n",
    "        WHERE ssim < 0.95\n",
    "    ''',\n",
    "    con\n",
    ")\n",
    "\n",
    "masks.loc[\n",
    "    :,\n",
    "    'img_name'\n",
    "] = masks.apply(lambda val: f\"{ val.job }.{ val.pdf_filename }.{ val.method }.{ val.idx }.4c_{ config['LOFI_DPI'] }.jpg\", axis=1)\n",
    "\n",
    "masks = masks.loc[\n",
    "    masks.img_name.isin(set([r['img_name'] for r in results])) == False\n",
    "]\n",
    "\n",
    "masks = masks.loc[\n",
    "    masks.mask_id.str.match('^temp_.+')\n",
    "]"
   ]
  },
  {
   "cell_type": "code",
   "execution_count": 8,
   "id": "c4926893-85a4-4bd2-b0da-28a957c9401f",
   "metadata": {},
   "outputs": [],
   "source": [
    "def create_annotation( task, masks, results ):\n",
    "    with open_img( (task['data_path'],'azure') ) as img:\n",
    "        img_size = img.size\n",
    "     \n",
    "    headers = {'Authorization': f'Token { config[\"LABEL_STUDIO_TOKEN\"] }'}\n",
    "    json_data = {\n",
    "        \"completed_by\": 1,\n",
    "        \"result\": [\n",
    "            {\n",
    "                \"original_width\": img_size[0],\n",
    "                \"original_height\": img_size[1],\n",
    "                \"image_rotation\": 0,\n",
    "                \"value\": {\n",
    "                    \"x\": m[0] / img_size[0] * 100,\n",
    "                    \"y\": m[1] / img_size[1] * 100,\n",
    "                    \"width\": m[2] / img_size[0] * 100,\n",
    "                    \"height\": m[3] / img_size[1] * 100,\n",
    "                    \"rotation\": 0,\n",
    "                    \"rectanglelabels\": [\n",
    "                        \"unchecked_moire\"\n",
    "                    ]\n",
    "                },\n",
    "                \"from_name\": \"label\",\n",
    "                \"to_name\": \"image\",\n",
    "                \"type\": \"rectanglelabels\",\n",
    "                \"origin\": \"manual\"\n",
    "            } for m in masks\n",
    "        ],\n",
    "        \"was_cancelled\": False,\n",
    "        \"ground_truth\": False,\n",
    "        \"draft_created_at\": datetime.now().isoformat(),\n",
    "        \"task\": task[\"id\"],\n",
    "        \"project\": task[\"project_id\"],\n",
    "        \"updated_by\": 1,\n",
    "        \"parent_prediction\": None,\n",
    "        \"parent_annotation\": None\n",
    "    }\n",
    "\n",
    "    if len([r for r in results if r['img_name'] == task['data_path'].split('/')[-1]]) == 0:    \n",
    "        requests.post(\n",
    "            f'http://localhost:8080/api/tasks/{ task[\"id\"] }/annotations/',\n",
    "            headers=headers,\n",
    "            json=json_data\n",
    "        )"
   ]
  },
  {
   "cell_type": "code",
   "execution_count": 9,
   "id": "dcb757d0-c421-4db9-b392-a6467f2c325b",
   "metadata": {},
   "outputs": [
    {
     "name": "stderr",
     "output_type": "stream",
     "text": [
      " 45%|████▍     | 86/193 [00:15<00:19,  5.41it/s]\n"
     ]
    },
    {
     "ename": "DecompressionBombError",
     "evalue": "Image size (220352000 pixels) exceeds limit of 178956970 pixels, could be decompression bomb DOS attack.",
     "output_type": "error",
     "traceback": [
      "\u001b[0;31m---------------------------------------------------------------------------\u001b[0m",
      "\u001b[0;31mDecompressionBombError\u001b[0m                    Traceback (most recent call last)",
      "Cell \u001b[0;32mIn[9], line 15\u001b[0m\n\u001b[1;32m      5\u001b[0m task \u001b[38;5;241m=\u001b[39m relevant_tasks[\u001b[38;5;241m0\u001b[39m]\n\u001b[1;32m      7\u001b[0m masks_for_img \u001b[38;5;241m=\u001b[39m [\n\u001b[1;32m      8\u001b[0m     [\u001b[38;5;28mint\u001b[39m(val) \u001b[38;5;28;01mfor\u001b[39;00m val \u001b[38;5;129;01min\u001b[39;00m m\u001b[38;5;241m.\u001b[39msplit(\u001b[38;5;124m'\u001b[39m\u001b[38;5;124m;\u001b[39m\u001b[38;5;124m'\u001b[39m)]\n\u001b[1;32m      9\u001b[0m     \u001b[38;5;28;01mfor\u001b[39;00m m \u001b[38;5;129;01min\u001b[39;00m\n\u001b[0;32m   (...)\u001b[0m\n\u001b[1;32m     12\u001b[0m     ]\u001b[38;5;241m.\u001b[39mbbox\u001b[38;5;241m.\u001b[39mvalues\n\u001b[1;32m     13\u001b[0m ]\n\u001b[0;32m---> 15\u001b[0m \u001b[43mcreate_annotation\u001b[49m\u001b[43m(\u001b[49m\u001b[43m \u001b[49m\u001b[43mtask\u001b[49m\u001b[43m,\u001b[49m\u001b[43m \u001b[49m\u001b[43mmasks_for_img\u001b[49m\u001b[43m,\u001b[49m\u001b[43m \u001b[49m\u001b[43mresults\u001b[49m\u001b[43m \u001b[49m\u001b[43m)\u001b[49m\n",
      "Cell \u001b[0;32mIn[8], line 2\u001b[0m, in \u001b[0;36mcreate_annotation\u001b[0;34m(task, masks, results)\u001b[0m\n\u001b[1;32m      1\u001b[0m \u001b[38;5;28;01mdef\u001b[39;00m \u001b[38;5;21mcreate_annotation\u001b[39m( task, masks, results ):\n\u001b[0;32m----> 2\u001b[0m     \u001b[38;5;28;01mwith\u001b[39;00m \u001b[43mopen_img\u001b[49m\u001b[43m(\u001b[49m\u001b[43m \u001b[49m\u001b[43m(\u001b[49m\u001b[43mtask\u001b[49m\u001b[43m[\u001b[49m\u001b[38;5;124;43m'\u001b[39;49m\u001b[38;5;124;43mdata_path\u001b[39;49m\u001b[38;5;124;43m'\u001b[39;49m\u001b[43m]\u001b[49m\u001b[43m,\u001b[49m\u001b[38;5;124;43m'\u001b[39;49m\u001b[38;5;124;43mazure\u001b[39;49m\u001b[38;5;124;43m'\u001b[39;49m\u001b[43m)\u001b[49m\u001b[43m \u001b[49m\u001b[43m)\u001b[49m \u001b[38;5;28;01mas\u001b[39;00m img:\n\u001b[1;32m      3\u001b[0m         img_size \u001b[38;5;241m=\u001b[39m img\u001b[38;5;241m.\u001b[39msize\n\u001b[1;32m      5\u001b[0m     headers \u001b[38;5;241m=\u001b[39m {\u001b[38;5;124m'\u001b[39m\u001b[38;5;124mAuthorization\u001b[39m\u001b[38;5;124m'\u001b[39m: \u001b[38;5;124mf\u001b[39m\u001b[38;5;124m'\u001b[39m\u001b[38;5;124mToken \u001b[39m\u001b[38;5;132;01m{\u001b[39;00m\u001b[38;5;250m \u001b[39mconfig[\u001b[38;5;124m\"\u001b[39m\u001b[38;5;124mLABEL_STUDIO_TOKEN\u001b[39m\u001b[38;5;124m\"\u001b[39m]\u001b[38;5;250m \u001b[39m\u001b[38;5;132;01m}\u001b[39;00m\u001b[38;5;124m'\u001b[39m}\n",
      "File \u001b[0;32m~/Documents/GitHub/master-thesis_moire_detection/60_gebastel/convertToScreen/../../30_data_tools/file_interaction.py:129\u001b[0m, in \u001b[0;36mopen_img\u001b[0;34m(img_file_path)\u001b[0m\n\u001b[1;32m    126\u001b[0m img_path, storage_type \u001b[38;5;241m=\u001b[39m img_file_path\n\u001b[1;32m    128\u001b[0m \u001b[38;5;28;01mif\u001b[39;00m storage_type \u001b[38;5;241m==\u001b[39m \u001b[38;5;124m'\u001b[39m\u001b[38;5;124mazure\u001b[39m\u001b[38;5;124m'\u001b[39m:\n\u001b[0;32m--> 129\u001b[0m     img \u001b[38;5;241m=\u001b[39m \u001b[43mImage\u001b[49m\u001b[38;5;241;43m.\u001b[39;49m\u001b[43mopen\u001b[49m\u001b[43m(\u001b[49m\u001b[43m \u001b[49m\u001b[43mdownload_blob\u001b[49m\u001b[43m(\u001b[49m\u001b[43mimg_path\u001b[49m\u001b[43m)\u001b[49m\u001b[43m \u001b[49m\u001b[43m)\u001b[49m\n\u001b[1;32m    130\u001b[0m \u001b[38;5;28;01melse\u001b[39;00m:\n\u001b[1;32m    131\u001b[0m     img \u001b[38;5;241m=\u001b[39m Image\u001b[38;5;241m.\u001b[39mopen( img_path )\n",
      "File \u001b[0;32m~/Library/Python/3.10/lib/python/site-packages/PIL/Image.py:3288\u001b[0m, in \u001b[0;36mopen\u001b[0;34m(fp, mode, formats)\u001b[0m\n\u001b[1;32m   3285\u001b[0m             \u001b[38;5;28;01mraise\u001b[39;00m\n\u001b[1;32m   3286\u001b[0m     \u001b[38;5;28;01mreturn\u001b[39;00m \u001b[38;5;28;01mNone\u001b[39;00m\n\u001b[0;32m-> 3288\u001b[0m im \u001b[38;5;241m=\u001b[39m \u001b[43m_open_core\u001b[49m\u001b[43m(\u001b[49m\u001b[43mfp\u001b[49m\u001b[43m,\u001b[49m\u001b[43m \u001b[49m\u001b[43mfilename\u001b[49m\u001b[43m,\u001b[49m\u001b[43m \u001b[49m\u001b[43mprefix\u001b[49m\u001b[43m,\u001b[49m\u001b[43m \u001b[49m\u001b[43mformats\u001b[49m\u001b[43m)\u001b[49m\n\u001b[1;32m   3290\u001b[0m \u001b[38;5;28;01mif\u001b[39;00m im \u001b[38;5;129;01mis\u001b[39;00m \u001b[38;5;28;01mNone\u001b[39;00m \u001b[38;5;129;01mand\u001b[39;00m formats \u001b[38;5;129;01mis\u001b[39;00m ID:\n\u001b[1;32m   3291\u001b[0m     checked_formats \u001b[38;5;241m=\u001b[39m formats\u001b[38;5;241m.\u001b[39mcopy()\n",
      "File \u001b[0;32m~/Library/Python/3.10/lib/python/site-packages/PIL/Image.py:3275\u001b[0m, in \u001b[0;36mopen.<locals>._open_core\u001b[0;34m(fp, filename, prefix, formats)\u001b[0m\n\u001b[1;32m   3273\u001b[0m         fp\u001b[38;5;241m.\u001b[39mseek(\u001b[38;5;241m0\u001b[39m)\n\u001b[1;32m   3274\u001b[0m         im \u001b[38;5;241m=\u001b[39m factory(fp, filename)\n\u001b[0;32m-> 3275\u001b[0m         \u001b[43m_decompression_bomb_check\u001b[49m\u001b[43m(\u001b[49m\u001b[43mim\u001b[49m\u001b[38;5;241;43m.\u001b[39;49m\u001b[43msize\u001b[49m\u001b[43m)\u001b[49m\n\u001b[1;32m   3276\u001b[0m         \u001b[38;5;28;01mreturn\u001b[39;00m im\n\u001b[1;32m   3277\u001b[0m \u001b[38;5;28;01mexcept\u001b[39;00m (\u001b[38;5;167;01mSyntaxError\u001b[39;00m, \u001b[38;5;167;01mIndexError\u001b[39;00m, \u001b[38;5;167;01mTypeError\u001b[39;00m, struct\u001b[38;5;241m.\u001b[39merror):\n\u001b[1;32m   3278\u001b[0m     \u001b[38;5;66;03m# Leave disabled by default, spams the logs with image\u001b[39;00m\n\u001b[1;32m   3279\u001b[0m     \u001b[38;5;66;03m# opening failures that are entirely expected.\u001b[39;00m\n\u001b[1;32m   3280\u001b[0m     \u001b[38;5;66;03m# logger.debug(\"\", exc_info=True)\u001b[39;00m\n",
      "File \u001b[0;32m~/Library/Python/3.10/lib/python/site-packages/PIL/Image.py:3183\u001b[0m, in \u001b[0;36m_decompression_bomb_check\u001b[0;34m(size)\u001b[0m\n\u001b[1;32m   3178\u001b[0m \u001b[38;5;28;01mif\u001b[39;00m pixels \u001b[38;5;241m>\u001b[39m \u001b[38;5;241m2\u001b[39m \u001b[38;5;241m*\u001b[39m MAX_IMAGE_PIXELS:\n\u001b[1;32m   3179\u001b[0m     msg \u001b[38;5;241m=\u001b[39m (\n\u001b[1;32m   3180\u001b[0m         \u001b[38;5;124mf\u001b[39m\u001b[38;5;124m\"\u001b[39m\u001b[38;5;124mImage size (\u001b[39m\u001b[38;5;132;01m{\u001b[39;00mpixels\u001b[38;5;132;01m}\u001b[39;00m\u001b[38;5;124m pixels) exceeds limit of \u001b[39m\u001b[38;5;132;01m{\u001b[39;00m\u001b[38;5;241m2\u001b[39m\u001b[38;5;250m \u001b[39m\u001b[38;5;241m*\u001b[39m\u001b[38;5;250m \u001b[39mMAX_IMAGE_PIXELS\u001b[38;5;132;01m}\u001b[39;00m\u001b[38;5;124m \u001b[39m\u001b[38;5;124m\"\u001b[39m\n\u001b[1;32m   3181\u001b[0m         \u001b[38;5;124m\"\u001b[39m\u001b[38;5;124mpixels, could be decompression bomb DOS attack.\u001b[39m\u001b[38;5;124m\"\u001b[39m\n\u001b[1;32m   3182\u001b[0m     )\n\u001b[0;32m-> 3183\u001b[0m     \u001b[38;5;28;01mraise\u001b[39;00m DecompressionBombError(msg)\n\u001b[1;32m   3185\u001b[0m \u001b[38;5;28;01mif\u001b[39;00m pixels \u001b[38;5;241m>\u001b[39m MAX_IMAGE_PIXELS:\n\u001b[1;32m   3186\u001b[0m     warnings\u001b[38;5;241m.\u001b[39mwarn(\n\u001b[1;32m   3187\u001b[0m         \u001b[38;5;124mf\u001b[39m\u001b[38;5;124m\"\u001b[39m\u001b[38;5;124mImage size (\u001b[39m\u001b[38;5;132;01m{\u001b[39;00mpixels\u001b[38;5;132;01m}\u001b[39;00m\u001b[38;5;124m pixels) exceeds limit of \u001b[39m\u001b[38;5;132;01m{\u001b[39;00mMAX_IMAGE_PIXELS\u001b[38;5;132;01m}\u001b[39;00m\u001b[38;5;124m pixels, \u001b[39m\u001b[38;5;124m\"\u001b[39m\n\u001b[1;32m   3188\u001b[0m         \u001b[38;5;124m\"\u001b[39m\u001b[38;5;124mcould be decompression bomb DOS attack.\u001b[39m\u001b[38;5;124m\"\u001b[39m,\n\u001b[1;32m   3189\u001b[0m         DecompressionBombWarning,\n\u001b[1;32m   3190\u001b[0m     )\n",
      "\u001b[0;31mDecompressionBombError\u001b[0m: Image size (220352000 pixels) exceeds limit of 178956970 pixels, could be decompression bomb DOS attack."
     ]
    }
   ],
   "source": [
    "for img_name in tqdm(masks.img_name.unique()):\n",
    "    relevant_tasks = [t for t in tasks if img_name in t['data_path']]\n",
    "\n",
    "    if len(relevant_tasks) > 0:\n",
    "        task = relevant_tasks[0]\n",
    "        \n",
    "        masks_for_img = [\n",
    "            [int(val) for val in m.split(';')]\n",
    "            for m in\n",
    "            masks.loc[\n",
    "                masks.img_name == img_name\n",
    "            ].bbox.values\n",
    "        ]\n",
    "\n",
    "        create_annotation( task, masks_for_img, results )"
   ]
  }
 ],
 "metadata": {
  "kernelspec": {
   "display_name": "Python 3 (ipykernel)",
   "language": "python",
   "name": "python3"
  },
  "language_info": {
   "codemirror_mode": {
    "name": "ipython",
    "version": 3
   },
   "file_extension": ".py",
   "mimetype": "text/x-python",
   "name": "python",
   "nbconvert_exporter": "python",
   "pygments_lexer": "ipython3",
   "version": "3.10.11"
  }
 },
 "nbformat": 4,
 "nbformat_minor": 5
}
