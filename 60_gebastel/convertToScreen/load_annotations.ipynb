{
 "cells": [
  {
   "cell_type": "code",
   "execution_count": 1,
   "id": "c76b6fa6",
   "metadata": {},
   "outputs": [],
   "source": [
    "import sys\n",
    "sys.path.append('../../30_data_tools')"
   ]
  },
  {
   "cell_type": "code",
   "execution_count": 2,
   "id": "108731f7",
   "metadata": {},
   "outputs": [],
   "source": [
    "from helper import load_dotenv\n",
    "from get_labelstudio_data import get_tasks, get_results_of_project\n",
    "from file_interaction import open_img"
   ]
  },
  {
   "cell_type": "code",
   "execution_count": 3,
   "id": "17043343",
   "metadata": {},
   "outputs": [],
   "source": [
    "import pandas as pd\n",
    "import requests\n",
    "from PIL import Image\n",
    "from datetime import datetime\n",
    "from tqdm.auto import tqdm\n",
    "import sqlite3"
   ]
  },
  {
   "cell_type": "code",
   "execution_count": 4,
   "id": "b1becfa1",
   "metadata": {},
   "outputs": [],
   "source": [
    "Image.MAX_IMAGE_PIXELS = None"
   ]
  },
  {
   "cell_type": "code",
   "execution_count": 5,
   "id": "e4985d16",
   "metadata": {},
   "outputs": [],
   "source": [
    "config = load_dotenv()"
   ]
  },
  {
   "cell_type": "code",
   "execution_count": 6,
   "id": "4a2431ae-d2f6-4752-a15f-fad3505d3a2d",
   "metadata": {},
   "outputs": [],
   "source": [
    "con = sqlite3.connect(config['DB_PATH'])"
   ]
  },
  {
   "cell_type": "code",
   "execution_count": 7,
   "id": "2a59fdee",
   "metadata": {},
   "outputs": [],
   "source": [
    "tasks = get_tasks(2)\n",
    "results = get_results_of_project(2)"
   ]
  },
  {
   "cell_type": "code",
   "execution_count": 8,
   "id": "7de4a748-dbec-4846-9b54-2ca5f3b4dde7",
   "metadata": {},
   "outputs": [],
   "source": [
    "masks = pd.read_sql(\n",
    "    '''\n",
    "        SELECT m.*, gi.timestamp FROM mask m\n",
    "        LEFT JOIN generic_image gi\n",
    "        ON\n",
    "            m.pdf_filename=gi.pdf_filename AND\n",
    "            m.job=gi.job AND\n",
    "            m.type=gi.type AND\n",
    "            m.variant_name=gi.variant_name AND\n",
    "            m.method=gi.method AND\n",
    "            m.idx=gi.idx\n",
    "        WHERE ssim < 0.95\n",
    "    ''',\n",
    "    con\n",
    ")\n",
    "\n",
    "masks.loc[\n",
    "    :,\n",
    "    'img_name'\n",
    "] = masks.apply(lambda val: f\"{ val.job }.{ val.pdf_filename }.{ val.method }.{ val.idx }.4c_{ config['LOFI_DPI'] }.jpg\", axis=1)\n",
    "\n",
    "masks = masks.loc[\n",
    "    masks.img_name.isin(set([r['img_name'] for r in results])) == False\n",
    "]\n",
    "\n",
    "masks = masks.loc[\n",
    "    masks.mask_id.str.match('^temp_.+')\n",
    "]"
   ]
  },
  {
   "cell_type": "code",
   "execution_count": 9,
   "id": "c4926893-85a4-4bd2-b0da-28a957c9401f",
   "metadata": {},
   "outputs": [],
   "source": [
    "def create_annotation( task, masks, results ):\n",
    "    with open_img( (task['data_path'],'azure') ) as img:\n",
    "        img_size = img.size\n",
    "     \n",
    "    headers = {'Authorization': f'Token { config[\"LABEL_STUDIO_TOKEN\"] }'}\n",
    "    json_data = {\n",
    "        \"completed_by\": 1,\n",
    "        \"result\": [\n",
    "            {\n",
    "                \"original_width\": img_size[0],\n",
    "                \"original_height\": img_size[1],\n",
    "                \"image_rotation\": 0,\n",
    "                \"value\": {\n",
    "                    \"x\": m[0] / img_size[0] * 100,\n",
    "                    \"y\": m[1] / img_size[1] * 100,\n",
    "                    \"width\": m[2] / img_size[0] * 100,\n",
    "                    \"height\": m[3] / img_size[1] * 100,\n",
    "                    \"rotation\": 0,\n",
    "                    \"rectanglelabels\": [\n",
    "                        \"unchecked_moire\"\n",
    "                    ]\n",
    "                },\n",
    "                \"from_name\": \"label\",\n",
    "                \"to_name\": \"image\",\n",
    "                \"type\": \"rectanglelabels\",\n",
    "                \"origin\": \"manual\"\n",
    "            } for m in masks\n",
    "        ],\n",
    "        \"was_cancelled\": False,\n",
    "        \"ground_truth\": False,\n",
    "        \"draft_created_at\": datetime.now().isoformat(),\n",
    "        \"task\": task[\"id\"],\n",
    "        \"project\": task[\"project_id\"],\n",
    "        \"updated_by\": 1,\n",
    "        \"parent_prediction\": None,\n",
    "        \"parent_annotation\": None\n",
    "    }\n",
    "\n",
    "    if len([r for r in results if r['img_name'] == task['data_path'].split('/')[-1]]) == 0:    \n",
    "        requests.post(\n",
    "            f'http://localhost:8080/api/tasks/{ task[\"id\"] }/annotations/',\n",
    "            headers=headers,\n",
    "            json=json_data\n",
    "        )"
   ]
  },
  {
   "cell_type": "code",
   "execution_count": 10,
   "id": "dcb757d0-c421-4db9-b392-a6467f2c325b",
   "metadata": {},
   "outputs": [
    {
     "name": "stderr",
     "output_type": "stream",
     "text": [
      "100%|██████████| 111/111 [00:53<00:00,  2.06it/s]\n"
     ]
    }
   ],
   "source": [
    "for img_name in tqdm(masks.img_name.unique()):\n",
    "    relevant_tasks = [t for t in tasks if img_name in t['data_path']]\n",
    "\n",
    "    if len(relevant_tasks) > 0:\n",
    "        task = relevant_tasks[0]\n",
    "        \n",
    "        masks_for_img = [\n",
    "            [int(val) for val in m.split(';')]\n",
    "            for m in\n",
    "            masks.loc[\n",
    "                masks.img_name == img_name\n",
    "            ].bbox.values\n",
    "        ]\n",
    "\n",
    "        create_annotation( task, masks_for_img, results )"
   ]
  }
 ],
 "metadata": {
  "kernelspec": {
   "display_name": "Python 3 (ipykernel)",
   "language": "python",
   "name": "python3"
  },
  "language_info": {
   "codemirror_mode": {
    "name": "ipython",
    "version": 3
   },
   "file_extension": ".py",
   "mimetype": "text/x-python",
   "name": "python",
   "nbconvert_exporter": "python",
   "pygments_lexer": "ipython3",
   "version": "3.10.11"
  }
 },
 "nbformat": 4,
 "nbformat_minor": 5
}
