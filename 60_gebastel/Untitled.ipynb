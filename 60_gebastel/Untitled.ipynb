{
 "cells": [
  {
   "cell_type": "code",
   "execution_count": 1,
   "id": "5f8a83d5-4f56-4428-9406-456d9b0726df",
   "metadata": {},
   "outputs": [],
   "source": [
    "import torch"
   ]
  },
  {
   "cell_type": "code",
   "execution_count": 7,
   "id": "155be6c5-0652-4cde-ba1a-4eb349e261c6",
   "metadata": {},
   "outputs": [],
   "source": [
    "x = torch.zeros((1,3,20,20))"
   ]
  },
  {
   "cell_type": "code",
   "execution_count": 8,
   "id": "aa9f878e-a809-42a1-83eb-6437b6c90916",
   "metadata": {},
   "outputs": [],
   "source": [
    "ffted = torch.fft.rfft(x, dim=2, norm='forward')"
   ]
  },
  {
   "cell_type": "code",
   "execution_count": 9,
   "id": "99bbd020-8d27-4683-8d2d-ff8f3cd548cd",
   "metadata": {},
   "outputs": [
    {
     "data": {
      "text/plain": [
       "torch.Size([1, 3, 11, 20])"
      ]
     },
     "execution_count": 9,
     "metadata": {},
     "output_type": "execute_result"
    }
   ],
   "source": [
    "ffted.shape"
   ]
  },
  {
   "cell_type": "code",
   "execution_count": 28,
   "id": "1dbadb05-c55c-4229-9a07-0d67e7886990",
   "metadata": {},
   "outputs": [],
   "source": [
    "ffted = torch.fft.fft2(x, dim=2, norm='forward')\n",
    "#ffted = ffted.permute(0, 1, 3, 2).contiguous()"
   ]
  },
  {
   "cell_type": "code",
   "execution_count": 29,
   "id": "eb7db739-2994-4aea-bec7-237c78cfb02c",
   "metadata": {},
   "outputs": [
    {
     "data": {
      "text/plain": [
       "torch.Size([1, 3, 20, 20])"
      ]
     },
     "execution_count": 29,
     "metadata": {},
     "output_type": "execute_result"
    }
   ],
   "source": [
    "ffted.shape"
   ]
  },
  {
   "cell_type": "code",
   "execution_count": null,
   "id": "31eed4d3-0c5b-42f8-b987-f90d5f99797b",
   "metadata": {},
   "outputs": [],
   "source": [
    "    # (batch, c, h, w/2+1, 2)\n",
    "    ffted = torch.fft.rfft(x, dim=2, norm='forward')\n",
    "    # (batch, c, 2, h, w/2+1)\n",
    "    # ffted = ffted.permute(0, 1, 4, 2, 3).contiguous()\n",
    "    print( ffted.size() )\n",
    "    print( (batch, -1,) + ffted.size()[3:] )\n",
    "    ffted = ffted.view((batch, -1,) + ffted.size()[3:]).float()\n",
    "\n",
    "    ffted = self.conv_layer(ffted)  # (batch, c*2, h, w/2+1)\n",
    "    ffted = self.relu(self.bn(ffted))\n",
    "\n",
    "    ffted = ffted.view((batch, -1, 2,) + ffted.size()[2:]).permute(\n",
    "        0, 1, 3, 4, 2).contiguous()  # (batch,c, t, h, w/2+1, 2)\n",
    "\n",
    "    output = torch.fft.irfft(ffted, sdim=2, norm='forward')"
   ]
  }
 ],
 "metadata": {
  "kernelspec": {
   "display_name": "Python 3 (ipykernel)",
   "language": "python",
   "name": "python3"
  },
  "language_info": {
   "codemirror_mode": {
    "name": "ipython",
    "version": 3
   },
   "file_extension": ".py",
   "mimetype": "text/x-python",
   "name": "python",
   "nbconvert_exporter": "python",
   "pygments_lexer": "ipython3",
   "version": "3.10.11"
  }
 },
 "nbformat": 4,
 "nbformat_minor": 5
}
