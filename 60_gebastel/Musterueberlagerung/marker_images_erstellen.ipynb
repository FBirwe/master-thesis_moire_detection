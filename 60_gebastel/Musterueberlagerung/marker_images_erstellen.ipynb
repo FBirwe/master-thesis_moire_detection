{
 "cells": [
  {
   "cell_type": "code",
   "execution_count": 10,
   "id": "736ae945-dd1a-4d50-8b30-7b248fbb819c",
   "metadata": {},
   "outputs": [],
   "source": [
    "import sys\n",
    "sys.path.append('../../30_data_tools/')\n",
    "import sqlite3\n",
    "import pandas as pd\n",
    "from PIL import Image, ImageFont, ImageDraw\n",
    "from tqdm.auto import tqdm\n",
    "from pathlib import Path"
   ]
  },
  {
   "cell_type": "code",
   "execution_count": 2,
   "id": "7d021478-45c7-4483-a299-5aa5beae15dd",
   "metadata": {},
   "outputs": [],
   "source": [
    "from helper import load_dotenv, get_pdf_page_processing_status\n",
    "from file_interaction import blob_exists, open_img, get_generic_image_filepath, get_data_files"
   ]
  },
  {
   "cell_type": "code",
   "execution_count": 3,
   "id": "e93bbde0-6be8-4b1f-a6ab-77dcfed234c9",
   "metadata": {},
   "outputs": [],
   "source": [
    "from file_interaction import get_blobs"
   ]
  },
  {
   "cell_type": "code",
   "execution_count": 4,
   "id": "ba81b6b6-6952-44e9-9094-9257de464751",
   "metadata": {},
   "outputs": [],
   "source": [
    "import re"
   ]
  },
  {
   "cell_type": "code",
   "execution_count": 11,
   "id": "c1eac012-fc39-4936-81fb-2deda91ab2cc",
   "metadata": {},
   "outputs": [],
   "source": [
    "Image.MAX_IMAGE_PIXELS = None"
   ]
  },
  {
   "cell_type": "code",
   "execution_count": 5,
   "id": "63bd7399-d14a-4ba9-be5a-c129e3b47b20",
   "metadata": {},
   "outputs": [],
   "source": [
    "def generate_marker_image( pdf_row ):\n",
    "    filepath = get_generic_image_filepath(\n",
    "        pdf_row.pdf_filename,\n",
    "        pdf_row.job,\n",
    "        pdf_row.method,\n",
    "        pdf_row.idx\n",
    "    )\n",
    "\n",
    "    if filepath:\n",
    "        img = open_img( filepath ).convert('RGB')\n",
    "\n",
    "        # Masken laden\n",
    "        c = con.cursor()\n",
    "        sql_string = f'''\n",
    "            SELECT bbox,ssim FROM mask\n",
    "            WHERE \n",
    "                pdf_filename='{ pdf_row.pdf_filename }' AND\n",
    "                job='{ pdf_row.job }' AND\n",
    "                \"type\"='{ pdf_row[\"type\"] }' AND\n",
    "                variant_name='{ pdf_row.variant_name }' AND\n",
    "                method='{ pdf_row.method }' AND\n",
    "                idx='{ pdf_row.idx }'\n",
    "        '''\n",
    "        c.execute(sql_string)\n",
    "        masks = c.fetchall()\n",
    "        c.close\n",
    "\n",
    "        for bbox_string,ssim_value in masks:\n",
    "            bbox = [int(val) for val in bbox_string.split(';')]\n",
    "            color = (255,0,0,255) if ssim_value < 0.95 else (0,0,255,255)\n",
    "            font = ImageFont.load_default(size=50)      \n",
    "            d = ImageDraw.Draw(img, 'RGBA')\n",
    "            d.rectangle(\n",
    "                [bbox[0],bbox[1],bbox[0]+bbox[2],bbox[1]+bbox[3]],\n",
    "                outline=color,\n",
    "                width=10\n",
    "            )\n",
    "            d.text((bbox[0],bbox[1]), str(ssim_value), fill=color, font=font)\n",
    "\n",
    "        out_path = f'./10_marker_images/{ pdf_row.job }.{ pdf_row.pdf_filename }.{ pdf_row.method }.{ pdf_row.idx }.marker.jpg'\n",
    "        \n",
    "        img.save( out_path, progressive=True, dpi=( dotenv['LOFI_DPI'], dotenv['LOFI_DPI'] ) )"
   ]
  },
  {
   "cell_type": "code",
   "execution_count": 6,
   "id": "96419822-a5e5-47c1-b2df-fb3863b6e7b9",
   "metadata": {},
   "outputs": [],
   "source": [
    "dotenv = load_dotenv()\n",
    "con = sqlite3.connect( dotenv['DB_PATH'] )"
   ]
  },
  {
   "cell_type": "code",
   "execution_count": 7,
   "id": "a71b4825-c5df-4f18-84ad-d8299e8ac1d1",
   "metadata": {},
   "outputs": [],
   "source": [
    "pages = pd.read_sql(\n",
    "    '''\n",
    "        SELECT * FROM generic_image\n",
    "        WHERE job='24-03-05-01_randomTrainPages'\n",
    "    ''',\n",
    "    con,\n",
    "    parse_dates=['timestamp']\n",
    ")\n",
    "\n",
    "pages.loc[\n",
    "    :,\n",
    "    'already_processed'\n",
    "] = pages.apply(lambda pdf_row: Path(f'./10_marker_images/{ pdf_row.job }.{ pdf_row.pdf_filename }.{ pdf_row.method }.{ pdf_row.idx }.marker.jpg').exists(), axis=1 ) == False"
   ]
  },
  {
   "cell_type": "code",
   "execution_count": 8,
   "id": "258d5c1c-ea1a-4795-a6bb-be052c619b18",
   "metadata": {},
   "outputs": [
    {
     "data": {
      "text/plain": [
       "'132/324'"
      ]
     },
     "execution_count": 8,
     "metadata": {},
     "output_type": "execute_result"
    }
   ],
   "source": [
    "f'{ pages.loc[pages.already_processed].shape[0] }/{ pages.shape[0] }'"
   ]
  },
  {
   "cell_type": "code",
   "execution_count": 9,
   "id": "7119f7d3-4626-4f00-a1e2-23d56731463c",
   "metadata": {},
   "outputs": [
    {
     "ename": "ZeroDivisionError",
     "evalue": "division by zero",
     "output_type": "error",
     "traceback": [
      "\u001b[0;31m---------------------------------------------------------------------------\u001b[0m",
      "\u001b[0;31mZeroDivisionError\u001b[0m                         Traceback (most recent call last)",
      "Cell \u001b[0;32mIn[9], line 1\u001b[0m\n\u001b[0;32m----> 1\u001b[0m \u001b[38;5;241;43m0\u001b[39;49m\u001b[43m \u001b[49m\u001b[38;5;241;43m/\u001b[39;49m\u001b[43m \u001b[49m\u001b[38;5;241;43m0\u001b[39;49m\n",
      "\u001b[0;31mZeroDivisionError\u001b[0m: division by zero"
     ]
    }
   ],
   "source": [
    "0 / 0"
   ]
  },
  {
   "cell_type": "code",
   "execution_count": 13,
   "id": "87c8ab8d-ab1b-4d8f-94f9-e0f2dda59cb0",
   "metadata": {},
   "outputs": [
    {
     "data": {
      "application/vnd.jupyter.widget-view+json": {
       "model_id": "7b74342785dc43c4b915f7ceddf45fea",
       "version_major": 2,
       "version_minor": 0
      },
      "text/plain": [
       "  0%|          | 0/132 [00:00<?, ?it/s]"
      ]
     },
     "metadata": {},
     "output_type": "display_data"
    }
   ],
   "source": [
    "relevant_idx = pages.loc[pages.already_processed].index\n",
    "\n",
    "for idx in tqdm(relevant_idx):\n",
    "    row = pages.loc[idx]\n",
    "\n",
    "    generate_marker_image( row )"
   ]
  }
 ],
 "metadata": {
  "kernelspec": {
   "display_name": "Python 3 (ipykernel)",
   "language": "python",
   "name": "python3"
  },
  "language_info": {
   "codemirror_mode": {
    "name": "ipython",
    "version": 3
   },
   "file_extension": ".py",
   "mimetype": "text/x-python",
   "name": "python",
   "nbconvert_exporter": "python",
   "pygments_lexer": "ipython3",
   "version": "3.10.11"
  }
 },
 "nbformat": 4,
 "nbformat_minor": 5
}
