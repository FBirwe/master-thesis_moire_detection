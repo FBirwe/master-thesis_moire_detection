{
 "cells": [
  {
   "cell_type": "code",
   "execution_count": 1,
   "id": "67917dfb",
   "metadata": {},
   "outputs": [],
   "source": [
    "from PIL import Image"
   ]
  },
  {
   "cell_type": "code",
   "execution_count": 6,
   "id": "9cf6016b-1b68-44ee-a648-912174f365cf",
   "metadata": {},
   "outputs": [],
   "source": [
    "import cv2"
   ]
  },
  {
   "cell_type": "code",
   "execution_count": 10,
   "id": "099a22e6-da9f-4b3f-b84d-905507a97a80",
   "metadata": {},
   "outputs": [],
   "source": [
    "low_moire = cv2.imread('./low_moire.jpg')\n",
    "strong_moire = cv2.imread('./strong_moire.jpg')"
   ]
  },
  {
   "cell_type": "code",
   "execution_count": 14,
   "id": "363c3ed7-830e-49b8-97c6-29d68089abac",
   "metadata": {},
   "outputs": [
    {
     "data": {
      "text/plain": [
       "(204.25446252357352, 17.424599458977127, 138, 253)"
      ]
     },
     "execution_count": 14,
     "metadata": {},
     "output_type": "execute_result"
    }
   ],
   "source": [
    "low_moire.mean(), low_moire.std(), low_moire.min(), low_moire.max()"
   ]
  },
  {
   "cell_type": "code",
   "execution_count": 15,
   "id": "ad1874aa-bf58-42db-af8b-b0b4bb612946",
   "metadata": {},
   "outputs": [
    {
     "data": {
      "text/plain": [
       "(219.2142888469804, 21.916847077345487, 93, 255)"
      ]
     },
     "execution_count": 15,
     "metadata": {},
     "output_type": "execute_result"
    }
   ],
   "source": [
    "strong_moire.mean(), strong_moire.std(), strong_moire.min(), strong_moire.max()"
   ]
  },
  {
   "cell_type": "code",
   "execution_count": 13,
   "id": "b2b676f9-6352-40e4-88d8-b19a5a2b70f8",
   "metadata": {},
   "outputs": [
    {
     "data": {
      "text/plain": [
       "0.05866598558198773"
      ]
     },
     "execution_count": 13,
     "metadata": {},
     "output_type": "execute_result"
    }
   ],
   "source": [
    "(strong_moire.mean() - low_moire.mean()) / 255"
   ]
  }
 ],
 "metadata": {
  "kernelspec": {
   "display_name": "Python 3 (ipykernel)",
   "language": "python",
   "name": "python3"
  },
  "language_info": {
   "codemirror_mode": {
    "name": "ipython",
    "version": 3
   },
   "file_extension": ".py",
   "mimetype": "text/x-python",
   "name": "python",
   "nbconvert_exporter": "python",
   "pygments_lexer": "ipython3",
   "version": "3.10.11"
  }
 },
 "nbformat": 4,
 "nbformat_minor": 5
}
