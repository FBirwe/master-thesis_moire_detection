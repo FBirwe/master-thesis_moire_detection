{
 "cells": [
  {
   "cell_type": "code",
   "execution_count": 60,
   "id": "eb14b85b-7ebb-4f19-aec0-e48a651e258d",
   "metadata": {},
   "outputs": [],
   "source": [
    "import sys\n",
    "sys.path.append('../../30_data_tools/')"
   ]
  },
  {
   "cell_type": "code",
   "execution_count": 61,
   "id": "93e34a09-adf5-45a5-9d59-453bf4bcc3d5",
   "metadata": {},
   "outputs": [],
   "source": [
    "import pandas as pd\n",
    "import plotly.express as px\n",
    "from datetime import datetime\n",
    "from scipy.stats import chisquare\n",
    "from sklearn import preprocessing"
   ]
  },
  {
   "cell_type": "code",
   "execution_count": 62,
   "id": "4ed0b8c3-9415-4ae9-8d1c-5590eddbf9d3",
   "metadata": {},
   "outputs": [],
   "source": [
    "from PIL import Image\n",
    "import numpy as np\n",
    "import sqlite3\n",
    "from pathlib import Path"
   ]
  },
  {
   "cell_type": "code",
   "execution_count": 63,
   "id": "1a760186-64b5-4d69-b0d6-971ec74807df",
   "metadata": {},
   "outputs": [],
   "source": [
    "from helper import load_dotenv\n",
    "from get_labelstudio_data import get_results_of_project"
   ]
  },
  {
   "cell_type": "code",
   "execution_count": 64,
   "id": "9fd8c492-7b87-4132-8dad-614a72f6025a",
   "metadata": {},
   "outputs": [],
   "source": [
    "dotenv = load_dotenv()"
   ]
  },
  {
   "cell_type": "code",
   "execution_count": 65,
   "id": "08061510-a753-4f97-abce-5526381047c2",
   "metadata": {},
   "outputs": [],
   "source": [
    "con = sqlite3.connect( dotenv['DB_PATH'] )"
   ]
  },
  {
   "cell_type": "code",
   "execution_count": 66,
   "id": "bb115be1-45f4-4d9c-81aa-88ab8b60b6cb",
   "metadata": {},
   "outputs": [],
   "source": [
    "def load_data( pkl_path ):\n",
    "    data = pd.read_pickle(pkl_path)\n",
    "    data.loc[\n",
    "        :,\n",
    "        'timestamp'\n",
    "    ] = datetime.fromtimestamp( int(pkl_path.name.strip(pkl_path.suffix)) )\n",
    "\n",
    "    return data"
   ]
  },
  {
   "cell_type": "code",
   "execution_count": 148,
   "id": "d3c3683f-0a9d-4fc7-8de2-1cb28abde9fd",
   "metadata": {},
   "outputs": [],
   "source": [
    "pkls = list(dotenv['GENERIC_INFORMATION_DATA_DIR'].glob('./*.pkl'))"
   ]
  },
  {
   "cell_type": "code",
   "execution_count": 149,
   "id": "9b21f6df-c350-45c8-9e64-2af7000c6369",
   "metadata": {},
   "outputs": [
    {
     "ename": "OSError",
     "evalue": "[Errno 89] Operation canceled",
     "output_type": "error",
     "traceback": [
      "\u001b[0;31m---------------------------------------------------------------------------\u001b[0m",
      "\u001b[0;31mOSError\u001b[0m                                   Traceback (most recent call last)",
      "Cell \u001b[0;32mIn[149], line 1\u001b[0m\n\u001b[0;32m----> 1\u001b[0m pkl_data \u001b[38;5;241m=\u001b[39m pd\u001b[38;5;241m.\u001b[39mconcat([load_data(pkl_path) \u001b[38;5;28;01mfor\u001b[39;00m pkl_path \u001b[38;5;129;01min\u001b[39;00m pkls])\n",
      "Cell \u001b[0;32mIn[149], line 1\u001b[0m, in \u001b[0;36m<listcomp>\u001b[0;34m(.0)\u001b[0m\n\u001b[0;32m----> 1\u001b[0m pkl_data \u001b[38;5;241m=\u001b[39m pd\u001b[38;5;241m.\u001b[39mconcat([\u001b[43mload_data\u001b[49m\u001b[43m(\u001b[49m\u001b[43mpkl_path\u001b[49m\u001b[43m)\u001b[49m \u001b[38;5;28;01mfor\u001b[39;00m pkl_path \u001b[38;5;129;01min\u001b[39;00m pkls])\n",
      "Cell \u001b[0;32mIn[66], line 2\u001b[0m, in \u001b[0;36mload_data\u001b[0;34m(pkl_path)\u001b[0m\n\u001b[1;32m      1\u001b[0m \u001b[38;5;28;01mdef\u001b[39;00m \u001b[38;5;21mload_data\u001b[39m( pkl_path ):\n\u001b[0;32m----> 2\u001b[0m     data \u001b[38;5;241m=\u001b[39m \u001b[43mpd\u001b[49m\u001b[38;5;241;43m.\u001b[39;49m\u001b[43mread_pickle\u001b[49m\u001b[43m(\u001b[49m\u001b[43mpkl_path\u001b[49m\u001b[43m)\u001b[49m\n\u001b[1;32m      3\u001b[0m     data\u001b[38;5;241m.\u001b[39mloc[\n\u001b[1;32m      4\u001b[0m         :,\n\u001b[1;32m      5\u001b[0m         \u001b[38;5;124m'\u001b[39m\u001b[38;5;124mtimestamp\u001b[39m\u001b[38;5;124m'\u001b[39m\n\u001b[1;32m      6\u001b[0m     ] \u001b[38;5;241m=\u001b[39m datetime\u001b[38;5;241m.\u001b[39mfromtimestamp( \u001b[38;5;28mint\u001b[39m(pkl_path\u001b[38;5;241m.\u001b[39mname\u001b[38;5;241m.\u001b[39mstrip(pkl_path\u001b[38;5;241m.\u001b[39msuffix)) )\n\u001b[1;32m      8\u001b[0m     \u001b[38;5;28;01mreturn\u001b[39;00m data\n",
      "File \u001b[0;32m~/Library/Python/3.10/lib/python/site-packages/pandas/io/pickle.py:208\u001b[0m, in \u001b[0;36mread_pickle\u001b[0;34m(filepath_or_buffer, compression, storage_options)\u001b[0m\n\u001b[1;32m    205\u001b[0m     \u001b[38;5;28;01mwith\u001b[39;00m warnings\u001b[38;5;241m.\u001b[39mcatch_warnings(record\u001b[38;5;241m=\u001b[39m\u001b[38;5;28;01mTrue\u001b[39;00m):\n\u001b[1;32m    206\u001b[0m         \u001b[38;5;66;03m# We want to silence any warnings about, e.g. moved modules.\u001b[39;00m\n\u001b[1;32m    207\u001b[0m         warnings\u001b[38;5;241m.\u001b[39msimplefilter(\u001b[38;5;124m\"\u001b[39m\u001b[38;5;124mignore\u001b[39m\u001b[38;5;124m\"\u001b[39m, \u001b[38;5;167;01mWarning\u001b[39;00m)\n\u001b[0;32m--> 208\u001b[0m         \u001b[38;5;28;01mreturn\u001b[39;00m \u001b[43mpickle\u001b[49m\u001b[38;5;241;43m.\u001b[39;49m\u001b[43mload\u001b[49m\u001b[43m(\u001b[49m\u001b[43mhandles\u001b[49m\u001b[38;5;241;43m.\u001b[39;49m\u001b[43mhandle\u001b[49m\u001b[43m)\u001b[49m\n\u001b[1;32m    209\u001b[0m \u001b[38;5;28;01mexcept\u001b[39;00m excs_to_catch:\n\u001b[1;32m    210\u001b[0m     \u001b[38;5;66;03m# e.g.\u001b[39;00m\n\u001b[1;32m    211\u001b[0m     \u001b[38;5;66;03m#  \"No module named 'pandas.core.sparse.series'\"\u001b[39;00m\n\u001b[1;32m    212\u001b[0m     \u001b[38;5;66;03m#  \"Can't get attribute '__nat_unpickle' on <module 'pandas._libs.tslib\"\u001b[39;00m\n\u001b[1;32m    213\u001b[0m     \u001b[38;5;28;01mreturn\u001b[39;00m pc\u001b[38;5;241m.\u001b[39mload(handles\u001b[38;5;241m.\u001b[39mhandle, encoding\u001b[38;5;241m=\u001b[39m\u001b[38;5;28;01mNone\u001b[39;00m)\n",
      "\u001b[0;31mOSError\u001b[0m: [Errno 89] Operation canceled"
     ]
    }
   ],
   "source": [
    "pkl_data = pd.concat([load_data(pkl_path) for pkl_path in pkls])"
   ]
  },
  {
   "cell_type": "markdown",
   "id": "13f76fa4-73f7-4bb8-9534-4bc2a1166831",
   "metadata": {},
   "source": [
    "# allgemeine Zusammenhänge"
   ]
  },
  {
   "cell_type": "code",
   "execution_count": null,
   "id": "0a78ed54-51cb-4ac2-a225-a41455161ccf",
   "metadata": {},
   "outputs": [],
   "source": [
    "data.iloc[0]"
   ]
  },
  {
   "cell_type": "code",
   "execution_count": null,
   "id": "d627e515-5003-46ea-af5f-414043ff9a2c",
   "metadata": {},
   "outputs": [],
   "source": [
    "data.columns"
   ]
  },
  {
   "cell_type": "code",
   "execution_count": null,
   "id": "a12c713e-837c-4f6b-8e31-7a1fee09a125",
   "metadata": {},
   "outputs": [],
   "source": [
    "data.ssim.describe()"
   ]
  },
  {
   "cell_type": "code",
   "execution_count": null,
   "id": "0755a594-5fa3-4cf8-b226-1266b7969106",
   "metadata": {},
   "outputs": [],
   "source": [
    "px.scatter(\n",
    "    data.ssim.sort_values().reset_index().loc[:,'ssim']\n",
    ")"
   ]
  },
  {
   "cell_type": "code",
   "execution_count": null,
   "id": "425c1fd4-61c6-4abb-83e4-33b121bafa6a",
   "metadata": {},
   "outputs": [],
   "source": [
    "data.shape"
   ]
  },
  {
   "cell_type": "code",
   "execution_count": null,
   "id": "39e786ed-4249-41ba-95db-214be468ada0",
   "metadata": {},
   "outputs": [],
   "source": [
    "data.loc[\n",
    "    :,\n",
    "    [c for c in data.columns if c.startswith('use_')]\n",
    "].sum()"
   ]
  },
  {
   "cell_type": "code",
   "execution_count": null,
   "id": "fd01d9b7-71c9-465c-b062-0811957cf718",
   "metadata": {},
   "outputs": [],
   "source": [
    "data.loc[\n",
    "    :,\n",
    "    'area'\n",
    "] = data.bbox.apply(lambda val: val[2] * val[3])"
   ]
  },
  {
   "cell_type": "code",
   "execution_count": null,
   "id": "3c0a045d-f3c1-4688-b924-e18e04119337",
   "metadata": {},
   "outputs": [],
   "source": [
    "data.loc[\n",
    "    :,\n",
    "    ['ssim','area']\n",
    "].corr()"
   ]
  },
  {
   "cell_type": "code",
   "execution_count": null,
   "id": "127084b4-c3fb-4eb3-af8a-9a7e268c7300",
   "metadata": {},
   "outputs": [],
   "source": [
    "df= data.loc[\n",
    "    :,\n",
    "    'ssim'\n",
    "].to_frame()\n",
    "\n",
    "df.loc[\n",
    "    :,\n",
    "    'pattern'\n",
    "] = pd.factorize(data.pattern)[0]"
   ]
  },
  {
   "cell_type": "code",
   "execution_count": null,
   "id": "ca31ffaf-99ff-4c30-a398-05dd315d5d44",
   "metadata": {},
   "outputs": [],
   "source": [
    "df.corr('spearman')"
   ]
  },
  {
   "cell_type": "code",
   "execution_count": null,
   "id": "c1d4ff4b-b1f3-4dd3-8e3c-1d8f8311ae91",
   "metadata": {},
   "outputs": [],
   "source": [
    "df.corr('pearson')"
   ]
  },
  {
   "cell_type": "markdown",
   "id": "572577f8-39a4-40b5-a60d-fa64b15ddf71",
   "metadata": {},
   "source": [
    "# Zusammehang: ssim und Flächedeckung"
   ]
  },
  {
   "cell_type": "code",
   "execution_count": null,
   "id": "f365ae30-48bd-472c-939a-809ddd8824e0",
   "metadata": {},
   "outputs": [],
   "source": [
    "def get_edge_share( row, edge_limit ):\n",
    "    img = Image.open( row.img_path ).crop((\n",
    "        row.bbox[0],\n",
    "        row.bbox[1],\n",
    "        row.bbox[0] + row.bbox[2],\n",
    "        row.bbox[1] + row.bbox[3]\n",
    "    ))\n",
    "\n",
    "    k_separation = np.array(img)[:,:,3]\n",
    "    relevant_part = k_separation[(k_separation < edge_limit) | (k_separation > (255 - edge_limit))]\n",
    "\n",
    "    return relevant_part.shape[0] / (k_separation.shape[0] * k_separation.shape[1])"
   ]
  },
  {
   "cell_type": "code",
   "execution_count": null,
   "id": "3d651028-41df-4501-9d01-eaebd8ace60d",
   "metadata": {},
   "outputs": [],
   "source": [
    "data.loc[\n",
    "    :,\n",
    "    'edge_share'\n",
    "] = data.apply( get_edge_share, args=(10,), axis=1 )"
   ]
  },
  {
   "cell_type": "code",
   "execution_count": null,
   "id": "80c925a3-4c05-4a24-872e-e13268aa1360",
   "metadata": {},
   "outputs": [],
   "source": [
    "edge_share = data.edge_share #returns a numpy array\n",
    "edge_share_normalized = preprocessing.MinMaxScaler().fit_transform(edge_share.to_numpy().reshape((-1,1)))\n",
    "\n",
    "ssim = data.ssim #returns a numpy array\n",
    "ssim_normalized = preprocessing.MinMaxScaler().fit_transform(ssim.to_numpy().reshape((-1,1)))"
   ]
  },
  {
   "cell_type": "code",
   "execution_count": null,
   "id": "fee2e50c-a05b-4933-8721-f2460b7e2342",
   "metadata": {},
   "outputs": [],
   "source": [
    "data.loc[\n",
    "    :,\n",
    "    'edge_share_normalized'\n",
    "] = edge_share_normalized\n",
    "\n",
    "data.loc[\n",
    "    :,\n",
    "    'ssim_normalized'\n",
    "] = ssim_normalized"
   ]
  },
  {
   "cell_type": "code",
   "execution_count": null,
   "id": "1f35198f-0deb-49d0-87c1-d3aa32e076e5",
   "metadata": {},
   "outputs": [],
   "source": [
    "data.loc[\n",
    "    :,\n",
    "    ['ssim','edge_share']\n",
    "].corr()"
   ]
  },
  {
   "cell_type": "code",
   "execution_count": null,
   "id": "6da391eb-74c3-4206-bcbe-59afa8f9c296",
   "metadata": {},
   "outputs": [],
   "source": [
    "data.loc[\n",
    "    :,\n",
    "    ['ssim_normalized','edge_share_normalized']\n",
    "].corr()"
   ]
  },
  {
   "cell_type": "code",
   "execution_count": null,
   "id": "abeb5f25-df58-4dbe-ac27-bff06ddeff24",
   "metadata": {},
   "outputs": [],
   "source": [
    "data.iloc[0].img_path"
   ]
  },
  {
   "cell_type": "markdown",
   "id": "f042ac73-5b39-471c-b6ed-e41412d47171",
   "metadata": {},
   "source": [
    "# Kategorien von Masken"
   ]
  },
  {
   "cell_type": "code",
   "execution_count": 150,
   "id": "3e5a4039-f780-4b2e-92fe-905fbe4b75bf",
   "metadata": {},
   "outputs": [],
   "source": [
    "data = pd.read_sql(\n",
    "    '''\n",
    "        SELECT apm.*, m.overlay_intensity_K, m.ssim, m.bbox, gi.\"timestamp\" FROM adjustment_per_mask apm \n",
    "        LEFT JOIN mask m\n",
    "        ON\n",
    "        \tapm.pdf_filename = m.pdf_filename AND\n",
    "        \tapm.job = m.job AND\n",
    "        \tapm.\"type\" = m.\"type\" AND \n",
    "        \tapm.variant_name = m.variant_name AND \n",
    "        \tapm.\"method\" = m.\"method\" AND \n",
    "        \tapm.idx = m.idx AND \n",
    "        \tapm.mask_id = m.mask_id \n",
    "        LEFT JOIN generic_image gi \n",
    "        ON\n",
    "        \tapm.pdf_filename = gi.pdf_filename AND\n",
    "        \tapm.job = gi.job AND\n",
    "        \tapm.\"type\" = gi.\"type\" AND \n",
    "        \tapm.variant_name = gi.variant_name AND \n",
    "        \tapm.\"method\" = gi.\"method\" AND \n",
    "        \tapm.idx = gi.idx \n",
    "    ''',\n",
    "    con,\n",
    "    parse_dates=['timestamp']\n",
    ")\n",
    "\n",
    "#data = data.loc[\n",
    "#    data.mask_id.isin([r['id'] for r in get_results_of_project(2) if r['rectanglelabels'][0] == 'checked_moire'])\n",
    "#]"
   ]
  },
  {
   "cell_type": "code",
   "execution_count": 152,
   "id": "a1f09b3d-f40c-4909-9ae0-a36386ff80dc",
   "metadata": {},
   "outputs": [
    {
     "data": {
      "text/plain": [
       "(3352, 14)"
      ]
     },
     "execution_count": 152,
     "metadata": {},
     "output_type": "execute_result"
    }
   ],
   "source": [
    "data.shape"
   ]
  },
  {
   "cell_type": "code",
   "execution_count": 154,
   "id": "c946e80d-d7f6-4ab0-91e0-aa82107c57f9",
   "metadata": {},
   "outputs": [
    {
     "data": {
      "text/plain": [
       "(903, 14)"
      ]
     },
     "execution_count": 154,
     "metadata": {},
     "output_type": "execute_result"
    }
   ],
   "source": [
    "data.loc[data.mask_id.str.startswith('temp_')].shape"
   ]
  },
  {
   "cell_type": "code",
   "execution_count": 155,
   "id": "e533d80d-74d1-45e0-a3f8-51d52ed3eb9d",
   "metadata": {},
   "outputs": [],
   "source": [
    "grouped_by_mask_id = data.loc[\n",
    "    :,\n",
    "    ['mask_id','job']\n",
    "].groupby(\n",
    "    'mask_id'\n",
    ").count().rename(columns={'job':'adjustment_count'})"
   ]
  },
  {
   "cell_type": "code",
   "execution_count": 156,
   "id": "c45bae19-c20c-4e28-be9e-fac6f9627ada",
   "metadata": {},
   "outputs": [
    {
     "data": {
      "text/html": [
       "<div>\n",
       "<style scoped>\n",
       "    .dataframe tbody tr th:only-of-type {\n",
       "        vertical-align: middle;\n",
       "    }\n",
       "\n",
       "    .dataframe tbody tr th {\n",
       "        vertical-align: top;\n",
       "    }\n",
       "\n",
       "    .dataframe thead th {\n",
       "        text-align: right;\n",
       "    }\n",
       "</style>\n",
       "<table border=\"1\" class=\"dataframe\">\n",
       "  <thead>\n",
       "    <tr style=\"text-align: right;\">\n",
       "      <th></th>\n",
       "      <th>adjustment_count</th>\n",
       "    </tr>\n",
       "    <tr>\n",
       "      <th>mask_id</th>\n",
       "      <th></th>\n",
       "    </tr>\n",
       "  </thead>\n",
       "  <tbody>\n",
       "    <tr>\n",
       "      <th>-7zexj6bxi</th>\n",
       "      <td>3</td>\n",
       "    </tr>\n",
       "    <tr>\n",
       "      <th>-8B3EQ0ID8</th>\n",
       "      <td>4</td>\n",
       "    </tr>\n",
       "    <tr>\n",
       "      <th>-CrmR5Y-k0</th>\n",
       "      <td>1</td>\n",
       "    </tr>\n",
       "    <tr>\n",
       "      <th>-GNW_7T2uP</th>\n",
       "      <td>2</td>\n",
       "    </tr>\n",
       "    <tr>\n",
       "      <th>-GTaAbknIB</th>\n",
       "      <td>3</td>\n",
       "    </tr>\n",
       "    <tr>\n",
       "      <th>...</th>\n",
       "      <td>...</td>\n",
       "    </tr>\n",
       "    <tr>\n",
       "      <th>zWscqiNFLb</th>\n",
       "      <td>2</td>\n",
       "    </tr>\n",
       "    <tr>\n",
       "      <th>zY1MnA47nS</th>\n",
       "      <td>3</td>\n",
       "    </tr>\n",
       "    <tr>\n",
       "      <th>zaAd0hbfxC</th>\n",
       "      <td>2</td>\n",
       "    </tr>\n",
       "    <tr>\n",
       "      <th>zfiKNQuM_9</th>\n",
       "      <td>2</td>\n",
       "    </tr>\n",
       "    <tr>\n",
       "      <th>zw3Wk3or4t</th>\n",
       "      <td>1</td>\n",
       "    </tr>\n",
       "  </tbody>\n",
       "</table>\n",
       "<p>1239 rows × 1 columns</p>\n",
       "</div>"
      ],
      "text/plain": [
       "            adjustment_count\n",
       "mask_id                     \n",
       "-7zexj6bxi                 3\n",
       "-8B3EQ0ID8                 4\n",
       "-CrmR5Y-k0                 1\n",
       "-GNW_7T2uP                 2\n",
       "-GTaAbknIB                 3\n",
       "...                      ...\n",
       "zWscqiNFLb                 2\n",
       "zY1MnA47nS                 3\n",
       "zaAd0hbfxC                 2\n",
       "zfiKNQuM_9                 2\n",
       "zw3Wk3or4t                 1\n",
       "\n",
       "[1239 rows x 1 columns]"
      ]
     },
     "execution_count": 156,
     "metadata": {},
     "output_type": "execute_result"
    }
   ],
   "source": [
    "grouped_by_mask_id"
   ]
  },
  {
   "cell_type": "code",
   "execution_count": 157,
   "id": "837abe1b-4496-4d27-8d95-2f6d08d54bd8",
   "metadata": {},
   "outputs": [
    {
     "data": {
      "text/html": [
       "<div>\n",
       "<style scoped>\n",
       "    .dataframe tbody tr th:only-of-type {\n",
       "        vertical-align: middle;\n",
       "    }\n",
       "\n",
       "    .dataframe tbody tr th {\n",
       "        vertical-align: top;\n",
       "    }\n",
       "\n",
       "    .dataframe thead th {\n",
       "        text-align: right;\n",
       "    }\n",
       "</style>\n",
       "<table border=\"1\" class=\"dataframe\">\n",
       "  <thead>\n",
       "    <tr style=\"text-align: right;\">\n",
       "      <th></th>\n",
       "      <th>pdf_filename</th>\n",
       "      <th>job</th>\n",
       "      <th>type</th>\n",
       "      <th>variant_name</th>\n",
       "      <th>method</th>\n",
       "      <th>idx</th>\n",
       "      <th>mask_id</th>\n",
       "      <th>adjustment</th>\n",
       "      <th>features</th>\n",
       "      <th>execution_index</th>\n",
       "      <th>overlay_intensity_K</th>\n",
       "      <th>ssim</th>\n",
       "      <th>bbox</th>\n",
       "      <th>timestamp</th>\n",
       "    </tr>\n",
       "  </thead>\n",
       "  <tbody>\n",
       "    <tr>\n",
       "      <th>0</th>\n",
       "      <td>004_2023_017_0_004_0.p1</td>\n",
       "      <td>508001</td>\n",
       "      <td>4c</td>\n",
       "      <td>halftone600dpi</td>\n",
       "      <td>soft_light</td>\n",
       "      <td>1</td>\n",
       "      <td>75sVbH0H3v</td>\n",
       "      <td>scale</td>\n",
       "      <td>{\"scale\": 1.5}</td>\n",
       "      <td>1</td>\n",
       "      <td>0.7</td>\n",
       "      <td>0.999251</td>\n",
       "      <td>4142;4714;276;480</td>\n",
       "      <td>2024-01-06 15:01:05</td>\n",
       "    </tr>\n",
       "    <tr>\n",
       "      <th>1</th>\n",
       "      <td>004_2023_017_0_004_0.p1</td>\n",
       "      <td>508001</td>\n",
       "      <td>4c</td>\n",
       "      <td>halftone600dpi</td>\n",
       "      <td>soft_light</td>\n",
       "      <td>1</td>\n",
       "      <td>75sVbH0H3v</td>\n",
       "      <td>uniform_trapezoidal_distortion</td>\n",
       "      <td>{\"trapezoidal_distortion_strength\": 0.17828443...</td>\n",
       "      <td>2</td>\n",
       "      <td>0.7</td>\n",
       "      <td>0.999251</td>\n",
       "      <td>4142;4714;276;480</td>\n",
       "      <td>2024-01-06 15:01:05</td>\n",
       "    </tr>\n",
       "    <tr>\n",
       "      <th>2</th>\n",
       "      <td>004_2023_017_0_004_0.p1</td>\n",
       "      <td>508001</td>\n",
       "      <td>4c</td>\n",
       "      <td>halftone600dpi</td>\n",
       "      <td>soft_light</td>\n",
       "      <td>1</td>\n",
       "      <td>7pB7srAQTN</td>\n",
       "      <td>uniform_trapezoidal_distortion</td>\n",
       "      <td>{\"trapezoidal_distortion_strength\": 0.05864151...</td>\n",
       "      <td>1</td>\n",
       "      <td>0.7</td>\n",
       "      <td>0.998508</td>\n",
       "      <td>4070;4696;504;576</td>\n",
       "      <td>2024-01-06 15:01:05</td>\n",
       "    </tr>\n",
       "    <tr>\n",
       "      <th>3</th>\n",
       "      <td>004_2023_017_0_004_0.p1</td>\n",
       "      <td>508001</td>\n",
       "      <td>4c</td>\n",
       "      <td>halftone600dpi</td>\n",
       "      <td>soft_light</td>\n",
       "      <td>1</td>\n",
       "      <td>qNlgII-mpn</td>\n",
       "      <td>uniform_trapezoidal_distortion</td>\n",
       "      <td>{\"trapezoidal_distortion_strength\": 0.15428249...</td>\n",
       "      <td>1</td>\n",
       "      <td>0.7</td>\n",
       "      <td>0.997123</td>\n",
       "      <td>3824;4384;1086;1392</td>\n",
       "      <td>2024-01-06 15:01:05</td>\n",
       "    </tr>\n",
       "    <tr>\n",
       "      <th>4</th>\n",
       "      <td>004_2023_017_0_004_0.p1</td>\n",
       "      <td>508001</td>\n",
       "      <td>4c</td>\n",
       "      <td>halftone600dpi</td>\n",
       "      <td>soft_light</td>\n",
       "      <td>2</td>\n",
       "      <td>temp_2678e5cb-00f8-4948-8c7e-24ee17b5b81f</td>\n",
       "      <td>blow_up_region</td>\n",
       "      <td>{\"blow_up_count\": 5.0, \"blow_up_radius\": [48, ...</td>\n",
       "      <td>1</td>\n",
       "      <td>NaN</td>\n",
       "      <td>NaN</td>\n",
       "      <td>None</td>\n",
       "      <td>2024-01-17 18:58:42</td>\n",
       "    </tr>\n",
       "    <tr>\n",
       "      <th>...</th>\n",
       "      <td>...</td>\n",
       "      <td>...</td>\n",
       "      <td>...</td>\n",
       "      <td>...</td>\n",
       "      <td>...</td>\n",
       "      <td>...</td>\n",
       "      <td>...</td>\n",
       "      <td>...</td>\n",
       "      <td>...</td>\n",
       "      <td>...</td>\n",
       "      <td>...</td>\n",
       "      <td>...</td>\n",
       "      <td>...</td>\n",
       "      <td>...</td>\n",
       "    </tr>\n",
       "    <tr>\n",
       "      <th>3347</th>\n",
       "      <td>tg52_230105_TM_Soul_Food_innen 209.p1</td>\n",
       "      <td>149128</td>\n",
       "      <td>4c</td>\n",
       "      <td>halftone600dpi</td>\n",
       "      <td>soft_light</td>\n",
       "      <td>1</td>\n",
       "      <td>wHrBv9wh6s</td>\n",
       "      <td>rotation</td>\n",
       "      <td>{\"rotation_degree\": -3.0}</td>\n",
       "      <td>1</td>\n",
       "      <td>1.0</td>\n",
       "      <td>0.923758</td>\n",
       "      <td>210;3824;1122;564</td>\n",
       "      <td>2024-01-20 01:56:20</td>\n",
       "    </tr>\n",
       "    <tr>\n",
       "      <th>3348</th>\n",
       "      <td>tg52_230105_TM_Soul_Food_innen 209.p1</td>\n",
       "      <td>149128</td>\n",
       "      <td>4c</td>\n",
       "      <td>halftone600dpi</td>\n",
       "      <td>soft_light</td>\n",
       "      <td>1</td>\n",
       "      <td>wHrBv9wh6s</td>\n",
       "      <td>uniform_trapezoidal_distortion</td>\n",
       "      <td>{\"trapezoidal_distortion_strength\": 0.22257242...</td>\n",
       "      <td>2</td>\n",
       "      <td>1.0</td>\n",
       "      <td>0.923758</td>\n",
       "      <td>210;3824;1122;564</td>\n",
       "      <td>2024-01-20 01:56:20</td>\n",
       "    </tr>\n",
       "    <tr>\n",
       "      <th>3349</th>\n",
       "      <td>tg52_230105_TM_Soul_Food_innen 213.p1</td>\n",
       "      <td>149128</td>\n",
       "      <td>4c</td>\n",
       "      <td>halftone600dpi</td>\n",
       "      <td>soft_light</td>\n",
       "      <td>5</td>\n",
       "      <td>JHRoHZKzs0</td>\n",
       "      <td>blow_up_region</td>\n",
       "      <td>{\"blow_up_count\": 5.0, \"blow_up_radius\": [84, ...</td>\n",
       "      <td>1</td>\n",
       "      <td>1.0</td>\n",
       "      <td>0.932870</td>\n",
       "      <td>3454;2484;654;576</td>\n",
       "      <td>2024-01-19 19:22:01</td>\n",
       "    </tr>\n",
       "    <tr>\n",
       "      <th>3350</th>\n",
       "      <td>tg52_230105_TM_Soul_Food_innen 213.p1</td>\n",
       "      <td>149128</td>\n",
       "      <td>4c</td>\n",
       "      <td>halftone600dpi</td>\n",
       "      <td>soft_light</td>\n",
       "      <td>5</td>\n",
       "      <td>JHRoHZKzs0</td>\n",
       "      <td>rotation</td>\n",
       "      <td>{\"rotation_degree\": 45.0}</td>\n",
       "      <td>2</td>\n",
       "      <td>1.0</td>\n",
       "      <td>0.932870</td>\n",
       "      <td>3454;2484;654;576</td>\n",
       "      <td>2024-01-19 19:22:01</td>\n",
       "    </tr>\n",
       "    <tr>\n",
       "      <th>3351</th>\n",
       "      <td>tg52_230105_TM_Soul_Food_innen 213.p1</td>\n",
       "      <td>149128</td>\n",
       "      <td>4c</td>\n",
       "      <td>halftone600dpi</td>\n",
       "      <td>soft_light</td>\n",
       "      <td>5</td>\n",
       "      <td>JHRoHZKzs0</td>\n",
       "      <td>stretch</td>\n",
       "      <td>{\"stretch_x\": 1.4205233569616473, \"stretch_y\":...</td>\n",
       "      <td>3</td>\n",
       "      <td>1.0</td>\n",
       "      <td>0.932870</td>\n",
       "      <td>3454;2484;654;576</td>\n",
       "      <td>2024-01-19 19:22:01</td>\n",
       "    </tr>\n",
       "  </tbody>\n",
       "</table>\n",
       "<p>3352 rows × 14 columns</p>\n",
       "</div>"
      ],
      "text/plain": [
       "                               pdf_filename     job type    variant_name  \\\n",
       "0                   004_2023_017_0_004_0.p1  508001   4c  halftone600dpi   \n",
       "1                   004_2023_017_0_004_0.p1  508001   4c  halftone600dpi   \n",
       "2                   004_2023_017_0_004_0.p1  508001   4c  halftone600dpi   \n",
       "3                   004_2023_017_0_004_0.p1  508001   4c  halftone600dpi   \n",
       "4                   004_2023_017_0_004_0.p1  508001   4c  halftone600dpi   \n",
       "...                                     ...     ...  ...             ...   \n",
       "3347  tg52_230105_TM_Soul_Food_innen 209.p1  149128   4c  halftone600dpi   \n",
       "3348  tg52_230105_TM_Soul_Food_innen 209.p1  149128   4c  halftone600dpi   \n",
       "3349  tg52_230105_TM_Soul_Food_innen 213.p1  149128   4c  halftone600dpi   \n",
       "3350  tg52_230105_TM_Soul_Food_innen 213.p1  149128   4c  halftone600dpi   \n",
       "3351  tg52_230105_TM_Soul_Food_innen 213.p1  149128   4c  halftone600dpi   \n",
       "\n",
       "          method  idx                                    mask_id  \\\n",
       "0     soft_light    1                                 75sVbH0H3v   \n",
       "1     soft_light    1                                 75sVbH0H3v   \n",
       "2     soft_light    1                                 7pB7srAQTN   \n",
       "3     soft_light    1                                 qNlgII-mpn   \n",
       "4     soft_light    2  temp_2678e5cb-00f8-4948-8c7e-24ee17b5b81f   \n",
       "...          ...  ...                                        ...   \n",
       "3347  soft_light    1                                 wHrBv9wh6s   \n",
       "3348  soft_light    1                                 wHrBv9wh6s   \n",
       "3349  soft_light    5                                 JHRoHZKzs0   \n",
       "3350  soft_light    5                                 JHRoHZKzs0   \n",
       "3351  soft_light    5                                 JHRoHZKzs0   \n",
       "\n",
       "                          adjustment  \\\n",
       "0                              scale   \n",
       "1     uniform_trapezoidal_distortion   \n",
       "2     uniform_trapezoidal_distortion   \n",
       "3     uniform_trapezoidal_distortion   \n",
       "4                     blow_up_region   \n",
       "...                              ...   \n",
       "3347                        rotation   \n",
       "3348  uniform_trapezoidal_distortion   \n",
       "3349                  blow_up_region   \n",
       "3350                        rotation   \n",
       "3351                         stretch   \n",
       "\n",
       "                                               features  execution_index  \\\n",
       "0                                        {\"scale\": 1.5}                1   \n",
       "1     {\"trapezoidal_distortion_strength\": 0.17828443...                2   \n",
       "2     {\"trapezoidal_distortion_strength\": 0.05864151...                1   \n",
       "3     {\"trapezoidal_distortion_strength\": 0.15428249...                1   \n",
       "4     {\"blow_up_count\": 5.0, \"blow_up_radius\": [48, ...                1   \n",
       "...                                                 ...              ...   \n",
       "3347                          {\"rotation_degree\": -3.0}                1   \n",
       "3348  {\"trapezoidal_distortion_strength\": 0.22257242...                2   \n",
       "3349  {\"blow_up_count\": 5.0, \"blow_up_radius\": [84, ...                1   \n",
       "3350                          {\"rotation_degree\": 45.0}                2   \n",
       "3351  {\"stretch_x\": 1.4205233569616473, \"stretch_y\":...                3   \n",
       "\n",
       "      overlay_intensity_K      ssim                 bbox           timestamp  \n",
       "0                     0.7  0.999251    4142;4714;276;480 2024-01-06 15:01:05  \n",
       "1                     0.7  0.999251    4142;4714;276;480 2024-01-06 15:01:05  \n",
       "2                     0.7  0.998508    4070;4696;504;576 2024-01-06 15:01:05  \n",
       "3                     0.7  0.997123  3824;4384;1086;1392 2024-01-06 15:01:05  \n",
       "4                     NaN       NaN                 None 2024-01-17 18:58:42  \n",
       "...                   ...       ...                  ...                 ...  \n",
       "3347                  1.0  0.923758    210;3824;1122;564 2024-01-20 01:56:20  \n",
       "3348                  1.0  0.923758    210;3824;1122;564 2024-01-20 01:56:20  \n",
       "3349                  1.0  0.932870    3454;2484;654;576 2024-01-19 19:22:01  \n",
       "3350                  1.0  0.932870    3454;2484;654;576 2024-01-19 19:22:01  \n",
       "3351                  1.0  0.932870    3454;2484;654;576 2024-01-19 19:22:01  \n",
       "\n",
       "[3352 rows x 14 columns]"
      ]
     },
     "execution_count": 157,
     "metadata": {},
     "output_type": "execute_result"
    }
   ],
   "source": [
    "data"
   ]
  },
  {
   "cell_type": "code",
   "execution_count": 78,
   "id": "edcdaa39-e85f-4061-80f6-a06c3c79d231",
   "metadata": {},
   "outputs": [],
   "source": [
    "tiles = list(Path('../Model/temp/').glob('./*/moire/*.jpg'))"
   ]
  },
  {
   "cell_type": "code",
   "execution_count": 79,
   "id": "5673e61e-3701-40ae-a23b-81c1f31bc0e0",
   "metadata": {},
   "outputs": [],
   "source": [
    "selection = data.loc[\n",
    "    data.mask_id.isin(grouped_by_mask_id.loc[grouped_by_mask_id.adjustment_count == 1].index)\n",
    "]"
   ]
  },
  {
   "cell_type": "code",
   "execution_count": 80,
   "id": "45645f2d-553c-45c7-a54c-1bbbd7eb1645",
   "metadata": {},
   "outputs": [
    {
     "data": {
      "text/plain": [
       "'613256.tg46_006_007_JUL23_UPHK_CA_AS011_AT_DE_BASIS_BILD_002.p1.soft_light.1.4c_600.jpg.1546.jpg'"
      ]
     },
     "execution_count": 80,
     "metadata": {},
     "output_type": "execute_result"
    }
   ],
   "source": [
    "tiles[0].name"
   ]
  },
  {
   "cell_type": "code",
   "execution_count": 81,
   "id": "c7936859-9a92-4075-ac4f-d30eda46441e",
   "metadata": {},
   "outputs": [],
   "source": [
    "row = data.iloc[0]"
   ]
  },
  {
   "cell_type": "code",
   "execution_count": null,
   "id": "f29f91f0-6378-4619-ba3d-6a8591f37f44",
   "metadata": {},
   "outputs": [],
   "source": [
    "res"
   ]
  },
  {
   "cell_type": "code",
   "execution_count": 83,
   "id": "8025764f-fedd-4b19-8840-cafda9a2d4d5",
   "metadata": {},
   "outputs": [
    {
     "data": {
      "text/plain": [
       "pdf_filename           004_2023_017_0_004_0.p1\n",
       "job                                     508001\n",
       "type                                        4c\n",
       "variant_name                    halftone600dpi\n",
       "method                              soft_light\n",
       "idx                                          1\n",
       "mask_id                             75sVbH0H3v\n",
       "adjustment                               scale\n",
       "features                        {\"scale\": 1.5}\n",
       "execution_index                              1\n",
       "overlay_intensity_K                        0.7\n",
       "ssim                                  0.999251\n",
       "bbox                         4142;4714;276;480\n",
       "timestamp                  2024-01-06 15:01:05\n",
       "Name: 0, dtype: object"
      ]
     },
     "execution_count": 83,
     "metadata": {},
     "output_type": "execute_result"
    }
   ],
   "source": [
    "row"
   ]
  },
  {
   "cell_type": "code",
   "execution_count": 82,
   "id": "5228aed5-5c6b-4649-94fe-356cb78e1db3",
   "metadata": {},
   "outputs": [
    {
     "data": {
      "text/plain": [
       "[]"
      ]
     },
     "execution_count": 82,
     "metadata": {},
     "output_type": "execute_result"
    }
   ],
   "source": [
    "filename = f'{ row.job }.{ row.pdf_filename }.{ row.method }.{ row.idx }'\n",
    "\n",
    "[t for t in tiles if filename in t.name]"
   ]
  },
  {
   "cell_type": "code",
   "execution_count": null,
   "id": "f3021fc7-2324-4280-b9bc-c8e390f8b4de",
   "metadata": {},
   "outputs": [],
   "source": [
    "for _,row in selection.iterrows():\n",
    "    filename = f'{ row.job }.{ row.pdf_filename }'\n",
    "    print( row )"
   ]
  },
  {
   "cell_type": "code",
   "execution_count": null,
   "id": "484a4fba-02d0-44f7-9abc-833fe3fba345",
   "metadata": {},
   "outputs": [],
   "source": [
    "px.scatter(\n",
    "    grouped_by_mask_id.sort_values('adjustment_count', ascending=False).adjustment_count\n",
    ")"
   ]
  }
 ],
 "metadata": {
  "kernelspec": {
   "display_name": "Python 3 (ipykernel)",
   "language": "python",
   "name": "python3"
  },
  "language_info": {
   "codemirror_mode": {
    "name": "ipython",
    "version": 3
   },
   "file_extension": ".py",
   "mimetype": "text/x-python",
   "name": "python",
   "nbconvert_exporter": "python",
   "pygments_lexer": "ipython3",
   "version": "3.10.11"
  }
 },
 "nbformat": 4,
 "nbformat_minor": 5
}
