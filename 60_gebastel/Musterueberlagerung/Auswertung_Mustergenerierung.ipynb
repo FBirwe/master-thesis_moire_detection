{
 "cells": [
  {
   "cell_type": "code",
   "execution_count": 1,
   "id": "eb14b85b-7ebb-4f19-aec0-e48a651e258d",
   "metadata": {},
   "outputs": [],
   "source": [
    "import sys\n",
    "sys.path.append('../../30_data_tools/')"
   ]
  },
  {
   "cell_type": "code",
   "execution_count": 2,
   "id": "93e34a09-adf5-45a5-9d59-453bf4bcc3d5",
   "metadata": {},
   "outputs": [],
   "source": [
    "import pandas as pd\n",
    "import plotly.express as px\n",
    "from datetime import datetime\n",
    "from scipy.stats import chisquare\n",
    "from sklearn import preprocessing"
   ]
  },
  {
   "cell_type": "code",
   "execution_count": 3,
   "id": "4ed0b8c3-9415-4ae9-8d1c-5590eddbf9d3",
   "metadata": {},
   "outputs": [],
   "source": [
    "from PIL import Image\n",
    "import numpy as np"
   ]
  },
  {
   "cell_type": "code",
   "execution_count": 4,
   "id": "1a760186-64b5-4d69-b0d6-971ec74807df",
   "metadata": {},
   "outputs": [],
   "source": [
    "from helper import load_dotenv"
   ]
  },
  {
   "cell_type": "code",
   "execution_count": 5,
   "id": "9fd8c492-7b87-4132-8dad-614a72f6025a",
   "metadata": {},
   "outputs": [],
   "source": [
    "dotenv = load_dotenv()"
   ]
  },
  {
   "cell_type": "code",
   "execution_count": 7,
   "id": "bb115be1-45f4-4d9c-81aa-88ab8b60b6cb",
   "metadata": {},
   "outputs": [],
   "source": [
    "def load_data( pkl_path ):\n",
    "    data = pd.read_pickle(pkl_path)\n",
    "    data.loc[\n",
    "        :,\n",
    "        'timestamp'\n",
    "    ] = datetime.fromtimestamp( int(pkl_path.name.strip(pkl_path.suffix)) )\n",
    "\n",
    "    return data"
   ]
  },
  {
   "cell_type": "code",
   "execution_count": 8,
   "id": "9b21f6df-c350-45c8-9e64-2af7000c6369",
   "metadata": {},
   "outputs": [],
   "source": [
    "data = pd.concat([load_data(pkl_path) for pkl_path in pkls])"
   ]
  },
  {
   "cell_type": "markdown",
   "id": "13f76fa4-73f7-4bb8-9534-4bc2a1166831",
   "metadata": {},
   "source": [
    "# allgemeine Zusammenhänge"
   ]
  },
  {
   "cell_type": "code",
   "execution_count": null,
   "id": "0a78ed54-51cb-4ac2-a225-a41455161ccf",
   "metadata": {},
   "outputs": [],
   "source": [
    "data.iloc[0]"
   ]
  },
  {
   "cell_type": "code",
   "execution_count": null,
   "id": "d627e515-5003-46ea-af5f-414043ff9a2c",
   "metadata": {},
   "outputs": [],
   "source": [
    "data.columns"
   ]
  },
  {
   "cell_type": "code",
   "execution_count": null,
   "id": "a12c713e-837c-4f6b-8e31-7a1fee09a125",
   "metadata": {},
   "outputs": [],
   "source": [
    "data.ssim.describe()"
   ]
  },
  {
   "cell_type": "code",
   "execution_count": null,
   "id": "0755a594-5fa3-4cf8-b226-1266b7969106",
   "metadata": {},
   "outputs": [],
   "source": [
    "px.scatter(\n",
    "    data.ssim.sort_values().reset_index().loc[:,'ssim']\n",
    ")"
   ]
  },
  {
   "cell_type": "code",
   "execution_count": null,
   "id": "425c1fd4-61c6-4abb-83e4-33b121bafa6a",
   "metadata": {},
   "outputs": [],
   "source": [
    "data.shape"
   ]
  },
  {
   "cell_type": "code",
   "execution_count": null,
   "id": "39e786ed-4249-41ba-95db-214be468ada0",
   "metadata": {},
   "outputs": [],
   "source": [
    "data.loc[\n",
    "    :,\n",
    "    [c for c in data.columns if c.startswith('use_')]\n",
    "].sum()"
   ]
  },
  {
   "cell_type": "code",
   "execution_count": null,
   "id": "fd01d9b7-71c9-465c-b062-0811957cf718",
   "metadata": {},
   "outputs": [],
   "source": [
    "data.loc[\n",
    "    :,\n",
    "    'area'\n",
    "] = data.bbox.apply(lambda val: val[2] * val[3])"
   ]
  },
  {
   "cell_type": "code",
   "execution_count": null,
   "id": "3c0a045d-f3c1-4688-b924-e18e04119337",
   "metadata": {},
   "outputs": [],
   "source": [
    "data.loc[\n",
    "    :,\n",
    "    ['ssim','area']\n",
    "].corr()"
   ]
  },
  {
   "cell_type": "code",
   "execution_count": null,
   "id": "127084b4-c3fb-4eb3-af8a-9a7e268c7300",
   "metadata": {},
   "outputs": [],
   "source": [
    "df= data.loc[\n",
    "    :,\n",
    "    'ssim'\n",
    "].to_frame()\n",
    "\n",
    "df.loc[\n",
    "    :,\n",
    "    'pattern'\n",
    "] = pd.factorize(data.pattern)[0]"
   ]
  },
  {
   "cell_type": "code",
   "execution_count": null,
   "id": "ca31ffaf-99ff-4c30-a398-05dd315d5d44",
   "metadata": {},
   "outputs": [],
   "source": [
    "df.corr('spearman')"
   ]
  },
  {
   "cell_type": "code",
   "execution_count": null,
   "id": "c1d4ff4b-b1f3-4dd3-8e3c-1d8f8311ae91",
   "metadata": {},
   "outputs": [],
   "source": [
    "df.corr('pearson')"
   ]
  },
  {
   "cell_type": "markdown",
   "id": "572577f8-39a4-40b5-a60d-fa64b15ddf71",
   "metadata": {},
   "source": [
    "# Zusammehang: ssim und Flächedeckung"
   ]
  },
  {
   "cell_type": "code",
   "execution_count": null,
   "id": "f365ae30-48bd-472c-939a-809ddd8824e0",
   "metadata": {},
   "outputs": [],
   "source": [
    "def get_edge_share( row, edge_limit ):\n",
    "    img = Image.open( row.img_path ).crop((\n",
    "        row.bbox[0],\n",
    "        row.bbox[1],\n",
    "        row.bbox[0] + row.bbox[2],\n",
    "        row.bbox[1] + row.bbox[3]\n",
    "    ))\n",
    "\n",
    "    k_separation = np.array(img)[:,:,3]\n",
    "    relevant_part = k_separation[(k_separation < edge_limit) | (k_separation > (255 - edge_limit))]\n",
    "\n",
    "    return relevant_part.shape[0] / (k_separation.shape[0] * k_separation.shape[1])"
   ]
  },
  {
   "cell_type": "code",
   "execution_count": null,
   "id": "3d651028-41df-4501-9d01-eaebd8ace60d",
   "metadata": {},
   "outputs": [],
   "source": [
    "data.loc[\n",
    "    :,\n",
    "    'edge_share'\n",
    "] = data.apply( get_edge_share, args=(10,), axis=1 )"
   ]
  },
  {
   "cell_type": "code",
   "execution_count": null,
   "id": "80c925a3-4c05-4a24-872e-e13268aa1360",
   "metadata": {},
   "outputs": [],
   "source": [
    "edge_share = data.edge_share #returns a numpy array\n",
    "edge_share_normalized = preprocessing.MinMaxScaler().fit_transform(edge_share.to_numpy().reshape((-1,1)))\n",
    "\n",
    "ssim = data.ssim #returns a numpy array\n",
    "ssim_normalized = preprocessing.MinMaxScaler().fit_transform(ssim.to_numpy().reshape((-1,1)))"
   ]
  },
  {
   "cell_type": "code",
   "execution_count": null,
   "id": "fee2e50c-a05b-4933-8721-f2460b7e2342",
   "metadata": {},
   "outputs": [],
   "source": [
    "data.loc[\n",
    "    :,\n",
    "    'edge_share_normalized'\n",
    "] = edge_share_normalized\n",
    "\n",
    "data.loc[\n",
    "    :,\n",
    "    'ssim_normalized'\n",
    "] = ssim_normalized"
   ]
  },
  {
   "cell_type": "code",
   "execution_count": null,
   "id": "1f35198f-0deb-49d0-87c1-d3aa32e076e5",
   "metadata": {},
   "outputs": [],
   "source": [
    "data.loc[\n",
    "    :,\n",
    "    ['ssim','edge_share']\n",
    "].corr()"
   ]
  },
  {
   "cell_type": "code",
   "execution_count": null,
   "id": "6da391eb-74c3-4206-bcbe-59afa8f9c296",
   "metadata": {},
   "outputs": [],
   "source": [
    "data.loc[\n",
    "    :,\n",
    "    ['ssim_normalized','edge_share_normalized']\n",
    "].corr()"
   ]
  },
  {
   "cell_type": "code",
   "execution_count": null,
   "id": "abeb5f25-df58-4dbe-ac27-bff06ddeff24",
   "metadata": {},
   "outputs": [],
   "source": [
    "data.iloc[0].img_path"
   ]
  }
 ],
 "metadata": {
  "kernelspec": {
   "display_name": "Python 3 (ipykernel)",
   "language": "python",
   "name": "python3"
  },
  "language_info": {
   "codemirror_mode": {
    "name": "ipython",
    "version": 3
   },
   "file_extension": ".py",
   "mimetype": "text/x-python",
   "name": "python",
   "nbconvert_exporter": "python",
   "pygments_lexer": "ipython3",
   "version": "3.10.11"
  }
 },
 "nbformat": 4,
 "nbformat_minor": 5
}
