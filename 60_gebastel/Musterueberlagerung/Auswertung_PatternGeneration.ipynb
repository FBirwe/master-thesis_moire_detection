{
 "cells": [
  {
   "cell_type": "code",
   "execution_count": 1,
   "id": "49b5b768-ec1f-428c-a5a9-fde1118289cd",
   "metadata": {},
   "outputs": [],
   "source": [
    "import sys\n",
    "sys.path.append('../../30_data_tools/')"
   ]
  },
  {
   "cell_type": "code",
   "execution_count": 2,
   "id": "20e66450-c056-4e35-bac5-4758f77420b8",
   "metadata": {},
   "outputs": [],
   "source": [
    "from helper import load_dotenv"
   ]
  },
  {
   "cell_type": "code",
   "execution_count": 3,
   "id": "ae8bd661-81c4-4d19-8eb7-4dd953bceac3",
   "metadata": {},
   "outputs": [],
   "source": [
    "from pattern_creation import get_pattern_style, get_pattern_img_by_style"
   ]
  },
  {
   "cell_type": "code",
   "execution_count": 4,
   "id": "0f3db570-4c37-4056-82a9-7cec0b035ceb",
   "metadata": {},
   "outputs": [],
   "source": [
    "import pandas as pd\n",
    "import json\n",
    "from tqdm import tqdm"
   ]
  },
  {
   "cell_type": "code",
   "execution_count": 5,
   "id": "45ea33f2-6249-45e5-bce5-b24be8eba553",
   "metadata": {},
   "outputs": [],
   "source": [
    "with open('./config.json') as config_file:\n",
    "    config = json.load(config_file)"
   ]
  },
  {
   "cell_type": "code",
   "execution_count": 6,
   "id": "44934ad3-3084-4269-aaf5-190a56209d8d",
   "metadata": {},
   "outputs": [],
   "source": [
    "from pathlib import Path"
   ]
  },
  {
   "cell_type": "code",
   "execution_count": 7,
   "id": "4a6d3e29-847a-4bac-882b-acdd565401cb",
   "metadata": {},
   "outputs": [],
   "source": [
    "dotenv = load_dotenv()"
   ]
  },
  {
   "cell_type": "code",
   "execution_count": 8,
   "id": "05cc7496-e846-484a-b811-be0aad1f1047",
   "metadata": {},
   "outputs": [],
   "source": [
    "rows = [get_pattern_style(config) for i in range(10)]"
   ]
  },
  {
   "cell_type": "code",
   "execution_count": 9,
   "id": "1eaac425-75bc-4d34-af4d-89b18064b853",
   "metadata": {},
   "outputs": [],
   "source": [
    "df = pd.DataFrame.from_dict(rows)"
   ]
  },
  {
   "cell_type": "code",
   "execution_count": 10,
   "id": "2fdba307-d623-4fab-9dcd-c64d359a80af",
   "metadata": {},
   "outputs": [],
   "source": [
    "df = pd.concat([pd.read_pickle(pkl) for pkl in dotenv['GENERIC_INFORMATION_DATA_DIR'].glob('./*.pkl')])"
   ]
  },
  {
   "cell_type": "code",
   "execution_count": 11,
   "id": "7b14ec44-e39a-42a7-aaeb-a1309122b155",
   "metadata": {},
   "outputs": [],
   "source": [
    "df = df.sort_values('ssim', ascending=False).reset_index()"
   ]
  },
  {
   "cell_type": "code",
   "execution_count": 12,
   "id": "039e5cf1-6c4a-4fff-a400-e9338fd06867",
   "metadata": {},
   "outputs": [
    {
     "name": "stderr",
     "output_type": "stream",
     "text": [
      "100%|█████████████████████████████████████████| 10/10 [01:11<00:00,  7.14s/it]\n"
     ]
    }
   ],
   "source": [
    "for i in tqdm(range(df.iloc[:10].shape[0])):\n",
    "    row = df.iloc[i]\n",
    "    img = get_pattern_img_by_style(row, config)\n",
    "    img.save(f'./11_pattern_images/pattern_{ str(i).zfill(3) }.jpg')"
   ]
  },
  {
   "cell_type": "code",
   "execution_count": 13,
   "id": "04291126-cf9e-44fc-94c7-fb3788e1533f",
   "metadata": {},
   "outputs": [
    {
     "data": {
      "text/html": [
       "<div>\n",
       "<style scoped>\n",
       "    .dataframe tbody tr th:only-of-type {\n",
       "        vertical-align: middle;\n",
       "    }\n",
       "\n",
       "    .dataframe tbody tr th {\n",
       "        vertical-align: top;\n",
       "    }\n",
       "\n",
       "    .dataframe thead th {\n",
       "        text-align: right;\n",
       "    }\n",
       "</style>\n",
       "<table border=\"1\" class=\"dataframe\">\n",
       "  <thead>\n",
       "    <tr style=\"text-align: right;\">\n",
       "      <th></th>\n",
       "      <th>ssim</th>\n",
       "      <th>pattern</th>\n",
       "    </tr>\n",
       "  </thead>\n",
       "  <tbody>\n",
       "    <tr>\n",
       "      <th>0</th>\n",
       "      <td>1.0</td>\n",
       "      <td>lines_150lpi_7</td>\n",
       "    </tr>\n",
       "    <tr>\n",
       "      <th>1</th>\n",
       "      <td>1.0</td>\n",
       "      <td>lines_150lpi_6</td>\n",
       "    </tr>\n",
       "    <tr>\n",
       "      <th>2</th>\n",
       "      <td>1.0</td>\n",
       "      <td>pattern_line_040</td>\n",
       "    </tr>\n",
       "    <tr>\n",
       "      <th>3</th>\n",
       "      <td>1.0</td>\n",
       "      <td>diamons_150lpi_straight_3</td>\n",
       "    </tr>\n",
       "    <tr>\n",
       "      <th>4</th>\n",
       "      <td>1.0</td>\n",
       "      <td>pattern_040</td>\n",
       "    </tr>\n",
       "    <tr>\n",
       "      <th>5</th>\n",
       "      <td>1.0</td>\n",
       "      <td>diamons_150lpi_straight_3</td>\n",
       "    </tr>\n",
       "    <tr>\n",
       "      <th>6</th>\n",
       "      <td>1.0</td>\n",
       "      <td>lines_150lpi_5</td>\n",
       "    </tr>\n",
       "    <tr>\n",
       "      <th>7</th>\n",
       "      <td>1.0</td>\n",
       "      <td>pattern_060</td>\n",
       "    </tr>\n",
       "    <tr>\n",
       "      <th>8</th>\n",
       "      <td>1.0</td>\n",
       "      <td>lines_150lpi_4</td>\n",
       "    </tr>\n",
       "    <tr>\n",
       "      <th>9</th>\n",
       "      <td>1.0</td>\n",
       "      <td>lines_150lpi_4</td>\n",
       "    </tr>\n",
       "  </tbody>\n",
       "</table>\n",
       "</div>"
      ],
      "text/plain": [
       "   ssim                    pattern\n",
       "0   1.0             lines_150lpi_7\n",
       "1   1.0             lines_150lpi_6\n",
       "2   1.0           pattern_line_040\n",
       "3   1.0  diamons_150lpi_straight_3\n",
       "4   1.0                pattern_040\n",
       "5   1.0  diamons_150lpi_straight_3\n",
       "6   1.0             lines_150lpi_5\n",
       "7   1.0                pattern_060\n",
       "8   1.0             lines_150lpi_4\n",
       "9   1.0             lines_150lpi_4"
      ]
     },
     "execution_count": 13,
     "metadata": {},
     "output_type": "execute_result"
    }
   ],
   "source": [
    "df.iloc[:10].loc[\n",
    "    :,\n",
    "    ['ssim','pattern']\n",
    "]"
   ]
  }
 ],
 "metadata": {
  "kernelspec": {
   "display_name": "Python 3 (ipykernel)",
   "language": "python",
   "name": "python3"
  },
  "language_info": {
   "codemirror_mode": {
    "name": "ipython",
    "version": 3
   },
   "file_extension": ".py",
   "mimetype": "text/x-python",
   "name": "python",
   "nbconvert_exporter": "python",
   "pygments_lexer": "ipython3",
   "version": "3.10.11"
  }
 },
 "nbformat": 4,
 "nbformat_minor": 5
}
