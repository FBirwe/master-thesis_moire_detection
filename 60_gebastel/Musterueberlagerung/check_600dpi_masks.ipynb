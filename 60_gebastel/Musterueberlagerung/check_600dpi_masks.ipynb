{
 "cells": [
  {
   "cell_type": "code",
   "execution_count": 1,
   "id": "d6a29224-3c67-42d9-9541-78dc6dd17d4c",
   "metadata": {},
   "outputs": [],
   "source": [
    "import sys\n",
    "sys.path.append('../../30_data_tools/')"
   ]
  },
  {
   "cell_type": "code",
   "execution_count": 2,
   "id": "665b21b5-db58-48cf-b5e4-345ea053004e",
   "metadata": {},
   "outputs": [],
   "source": [
    "from pathlib import Path\n",
    "from tqdm import tqdm\n",
    "from PIL import Image\n",
    "import numpy as np\n",
    "import pickle\n",
    "import random\n",
    "import cv2"
   ]
  },
  {
   "cell_type": "code",
   "execution_count": 3,
   "id": "9d60b197-2bf8-4f3f-9061-c06041914d14",
   "metadata": {},
   "outputs": [],
   "source": [
    "from helper import load_dotenv"
   ]
  },
  {
   "cell_type": "code",
   "execution_count": 4,
   "id": "442b1354-6199-4395-88a9-c6e0b3d69551",
   "metadata": {},
   "outputs": [],
   "source": [
    "dotenv = load_dotenv()"
   ]
  },
  {
   "cell_type": "code",
   "execution_count": 5,
   "id": "4b106b78-2af1-4190-b2b3-f4285c0f40da",
   "metadata": {},
   "outputs": [
    {
     "name": "stderr",
     "output_type": "stream",
     "text": [
      "100%|███████████████████████████████████████████████████████████████████████████████████████████████████████████| 3912/3912 [00:00<00:00, 33408.23it/s]\n"
     ]
    }
   ],
   "source": [
    "halftone_jpgs = list(dotenv['DATA_DIR'].glob('./*/halftone600dpi/*.4c.jpg'))\n",
    "relevant_data = []\n",
    "\n",
    "for jpg_path in tqdm(halftone_jpgs):\n",
    "    mask_path = jpg_path.parent / jpg_path.name.replace('.4c.jpg','.masks.pkl')\n",
    "\n",
    "    if mask_path.exists() and jpg_path.exists():\n",
    "        relevant_data.append((jpg_path, mask_path))"
   ]
  },
  {
   "cell_type": "code",
   "execution_count": 7,
   "id": "d21601ed-a6c8-4157-ba7d-a3a514e1b0b3",
   "metadata": {},
   "outputs": [],
   "source": [
    "test_images = random.choices(relevant_data, k=25)\n",
    "test_data = []\n",
    "\n",
    "for jpg_path, mask_path in test_images:\n",
    "    with mask_path.open('rb') as pkl_file:\n",
    "        masks = pickle.load(pkl_file)\n",
    "\n",
    "    for m in random.choices(masks, k=min([len(masks),5])):\n",
    "        test_data.append((jpg_path, m))"
   ]
  },
  {
   "cell_type": "markdown",
   "id": "21f559cf-0d3c-4627-b34a-94d58cc03ac3",
   "metadata": {},
   "source": [
    "# Prüfung: Passen Bounding Box und Mask zusammen"
   ]
  },
  {
   "cell_type": "code",
   "execution_count": 9,
   "id": "38e518f2-fc7a-44d9-b918-e5e48243e41e",
   "metadata": {},
   "outputs": [],
   "source": [
    "errors = []\n",
    "\n",
    "for _,m in test_data:\n",
    "    diff_y = abs(m['mask'].shape[0] - m['bbox'][3])\n",
    "    diff_x = abs(m['mask'].shape[1] - m['bbox'][2])\n",
    "\n",
    "    if diff_x > 3 or diff_y > 3:\n",
    "        errors.append(m)"
   ]
  },
  {
   "cell_type": "code",
   "execution_count": 10,
   "id": "baa586d6-b238-4449-a27f-fdd0a4430806",
   "metadata": {},
   "outputs": [
    {
     "data": {
      "text/plain": [
       "0"
      ]
     },
     "execution_count": 10,
     "metadata": {},
     "output_type": "execute_result"
    }
   ],
   "source": [
    "len(errors)"
   ]
  },
  {
   "cell_type": "markdown",
   "id": "abccc292-e1d3-4aeb-a62f-22a2b4bd94a9",
   "metadata": {},
   "source": [
    "# Prüfung: Passen Maske und Bild zusammen?"
   ]
  },
  {
   "cell_type": "code",
   "execution_count": 11,
   "id": "e7154812-829a-4d4e-8dbc-9465f3fa00ea",
   "metadata": {},
   "outputs": [],
   "source": [
    "def merge_images( img1, img2 ):\n",
    "    direction = 'column' if img1.size[0] > img1.size[1] else 'row'\n",
    "    \n",
    "    if direction == 'row':\n",
    "        width = img1.size[0] + img2.size[0]\n",
    "        height = max([img1.size[1], img2.size[1]])\n",
    "\n",
    "        new_image = Image.new('RGB',(width, height), (250,250,250))\n",
    "        new_image.paste(img1, (0,0))\n",
    "        new_image.paste(img2, (img.size[0],0))\n",
    "    else:\n",
    "        width = max([img1.size[0], img2.size[0]])\n",
    "        height = img1.size[1] + img2.size[1]\n",
    "\n",
    "        new_image = Image.new('RGB',(width, height), (250,250,250))\n",
    "        new_image.paste(img1, (0,0))\n",
    "        new_image.paste(img2, (0,img.size[1]))\n",
    "\n",
    "    if new_image.size[0] > 1000:\n",
    "        new_image = new_image.resize((\n",
    "            1000,\n",
    "            int(new_image.size[1] * (1000 / new_image.size[0]))\n",
    "        ))\n",
    "\n",
    "    if new_image.size[1] > 1000:\n",
    "        new_image = new_image.resize((\n",
    "            int(new_image.size[0] * (1000 / new_image.size[1])),\n",
    "            1000\n",
    "        ))\n",
    "    \n",
    "    return new_image"
   ]
  },
  {
   "cell_type": "code",
   "execution_count": 12,
   "id": "e1c1d692-e24d-498a-a7e9-d7ac1af8eeb7",
   "metadata": {},
   "outputs": [],
   "source": [
    "i = 0"
   ]
  },
  {
   "cell_type": "code",
   "execution_count": 130,
   "id": "e45f4dc9-7ffc-4bbb-aae0-cc28d418aa3d",
   "metadata": {},
   "outputs": [
    {
     "ename": "IndexError",
     "evalue": "list index out of range",
     "output_type": "error",
     "traceback": [
      "\u001b[0;31m---------------------------------------------------------------------------\u001b[0m",
      "\u001b[0;31mIndexError\u001b[0m                                Traceback (most recent call last)",
      "Cell \u001b[0;32mIn[130], line 1\u001b[0m\n\u001b[0;32m----> 1\u001b[0m jpg_path, m \u001b[38;5;241m=\u001b[39m \u001b[43mtest_data\u001b[49m\u001b[43m[\u001b[49m\u001b[43mi\u001b[49m\u001b[43m]\u001b[49m\n\u001b[1;32m      3\u001b[0m img \u001b[38;5;241m=\u001b[39m Image\u001b[38;5;241m.\u001b[39mopen(jpg_path)\u001b[38;5;241m.\u001b[39mcrop((\n\u001b[1;32m      4\u001b[0m     m[\u001b[38;5;124m'\u001b[39m\u001b[38;5;124mbbox\u001b[39m\u001b[38;5;124m'\u001b[39m][\u001b[38;5;241m0\u001b[39m],m[\u001b[38;5;124m'\u001b[39m\u001b[38;5;124mbbox\u001b[39m\u001b[38;5;124m'\u001b[39m][\u001b[38;5;241m1\u001b[39m],\n\u001b[1;32m      5\u001b[0m     m[\u001b[38;5;124m'\u001b[39m\u001b[38;5;124mbbox\u001b[39m\u001b[38;5;124m'\u001b[39m][\u001b[38;5;241m0\u001b[39m]\u001b[38;5;241m+\u001b[39mm[\u001b[38;5;124m'\u001b[39m\u001b[38;5;124mbbox\u001b[39m\u001b[38;5;124m'\u001b[39m][\u001b[38;5;241m2\u001b[39m],m[\u001b[38;5;124m'\u001b[39m\u001b[38;5;124mbbox\u001b[39m\u001b[38;5;124m'\u001b[39m][\u001b[38;5;241m1\u001b[39m]\u001b[38;5;241m+\u001b[39mm[\u001b[38;5;124m'\u001b[39m\u001b[38;5;124mbbox\u001b[39m\u001b[38;5;124m'\u001b[39m][\u001b[38;5;241m3\u001b[39m]\n\u001b[1;32m      6\u001b[0m ))\u001b[38;5;241m.\u001b[39mconvert(\u001b[38;5;124m'\u001b[39m\u001b[38;5;124mRGB\u001b[39m\u001b[38;5;124m'\u001b[39m)\n\u001b[1;32m      7\u001b[0m mask_img \u001b[38;5;241m=\u001b[39m Image\u001b[38;5;241m.\u001b[39mfromarray((m[\u001b[38;5;124m'\u001b[39m\u001b[38;5;124mmask\u001b[39m\u001b[38;5;124m'\u001b[39m] \u001b[38;5;241m*\u001b[39m \u001b[38;5;241m255\u001b[39m)\u001b[38;5;241m.\u001b[39mastype(\u001b[38;5;124m'\u001b[39m\u001b[38;5;124muint8\u001b[39m\u001b[38;5;124m'\u001b[39m))\u001b[38;5;241m.\u001b[39mconvert(\u001b[38;5;124m'\u001b[39m\u001b[38;5;124mRGB\u001b[39m\u001b[38;5;124m'\u001b[39m)\n",
      "\u001b[0;31mIndexError\u001b[0m: list index out of range"
     ]
    }
   ],
   "source": [
    "jpg_path, m = test_data[i]\n",
    "\n",
    "img = Image.open(jpg_path).crop((\n",
    "    m['bbox'][0],m['bbox'][1],\n",
    "    m['bbox'][0]+m['bbox'][2],m['bbox'][1]+m['bbox'][3]\n",
    ")).convert('RGB')\n",
    "mask_img = Image.fromarray((m['mask'] * 255).astype('uint8')).convert('RGB')\n",
    "\n",
    "print(f'{i+1}/{len(test_data)} - { jpg_path.parent.parent.name }/{ jpg_path.name }')\n",
    "\n",
    "i = i+1\n",
    "\n",
    "merge_images( img, mask_img )"
   ]
  }
 ],
 "metadata": {
  "kernelspec": {
   "display_name": "Python 3 (ipykernel)",
   "language": "python",
   "name": "python3"
  },
  "language_info": {
   "codemirror_mode": {
    "name": "ipython",
    "version": 3
   },
   "file_extension": ".py",
   "mimetype": "text/x-python",
   "name": "python",
   "nbconvert_exporter": "python",
   "pygments_lexer": "ipython3",
   "version": "3.10.11"
  }
 },
 "nbformat": 4,
 "nbformat_minor": 5
}
