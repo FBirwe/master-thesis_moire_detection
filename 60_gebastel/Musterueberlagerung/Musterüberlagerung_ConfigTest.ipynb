{
 "cells": [
  {
   "cell_type": "code",
   "execution_count": 1,
   "id": "6385929d-9793-4287-a91e-5dd5cb7aedd3",
   "metadata": {},
   "outputs": [],
   "source": [
    "from PIL import Image\n",
    "import numpy as np\n",
    "import json\n",
    "\n",
    "from pattern_creation import get_pattern_style, get_pattern_img_by_style\n",
    "from apply_pattern import apply_pattern\n",
    "from random import shuffle\n",
    "from tqdm import tqdm\n",
    "from pathlib import Path\n",
    "import pandas as pd"
   ]
  },
  {
   "cell_type": "code",
   "execution_count": 2,
   "id": "0afbf4d8-8415-420e-9eb8-db3b1b16f98e",
   "metadata": {},
   "outputs": [],
   "source": [
    "DEBUG = False"
   ]
  },
  {
   "cell_type": "code",
   "execution_count": 3,
   "id": "b74d5d4b-91fd-4d94-a228-e865dcf20597",
   "metadata": {},
   "outputs": [],
   "source": [
    "def log( message ):\n",
    "    if DEBUG:\n",
    "        print( message )"
   ]
  },
  {
   "cell_type": "code",
   "execution_count": 4,
   "id": "a189a14a-d817-4abb-8f41-7ebbab3711d2",
   "metadata": {},
   "outputs": [],
   "source": [
    "def get_img_path( dir_path ):\n",
    "    i = 1\n",
    "    file_path = dir_path / f'out_{ str(i).zfill(3) }.jpg'\n",
    "\n",
    "    while file_path.exists():\n",
    "        i += 1\n",
    "        file_path = dir_path / f'out_{ str(i).zfill(3) }.jpg'\n",
    "\n",
    "    return file_path"
   ]
  },
  {
   "cell_type": "code",
   "execution_count": 5,
   "id": "f3cc30a5-6cd8-49c2-a5be-0773af6068b1",
   "metadata": {},
   "outputs": [],
   "source": [
    "with open('./config_deform.json') as config_file:\n",
    "    config = json.load(config_file)"
   ]
  },
  {
   "cell_type": "code",
   "execution_count": 6,
   "id": "b7057495-62ff-49e6-b22f-d62e06b4006f",
   "metadata": {},
   "outputs": [
    {
     "name": "stderr",
     "output_type": "stream",
     "text": [
      "  0%|                                                    | 0/10 [10:24<?, ?it/s]\n"
     ]
    },
    {
     "ename": "OSError",
     "evalue": "[Errno 89] Operation canceled",
     "output_type": "error",
     "traceback": [
      "\u001b[0;31m---------------------------------------------------------------------------\u001b[0m",
      "\u001b[0;31mOSError\u001b[0m                                   Traceback (most recent call last)",
      "Cell \u001b[0;32mIn[6], line 21\u001b[0m\n\u001b[1;32m     18\u001b[0m     row[key] \u001b[38;5;241m=\u001b[39m pattern_style[key]\n\u001b[1;32m     20\u001b[0m rows\u001b[38;5;241m.\u001b[39mappend(row)\n\u001b[0;32m---> 21\u001b[0m pattern_img \u001b[38;5;241m=\u001b[39m \u001b[43mget_pattern_img_by_style\u001b[49m\u001b[43m(\u001b[49m\u001b[43mrow\u001b[49m\u001b[43m,\u001b[49m\u001b[43m \u001b[49m\u001b[43mconfig\u001b[49m\u001b[43m)\u001b[49m\n\u001b[1;32m     23\u001b[0m softlight_test,pattern_mask, ssim_value_K \u001b[38;5;241m=\u001b[39m apply_pattern(\n\u001b[1;32m     24\u001b[0m     (np\u001b[38;5;241m.\u001b[39mones((\u001b[38;5;241m5000\u001b[39m,\u001b[38;5;241m5000\u001b[39m)) \u001b[38;5;241m*\u001b[39m \u001b[38;5;241m100\u001b[39m)\u001b[38;5;241m.\u001b[39mastype(\u001b[38;5;124m'\u001b[39m\u001b[38;5;124muint8\u001b[39m\u001b[38;5;124m'\u001b[39m),\n\u001b[1;32m     25\u001b[0m     pattern_img,\n\u001b[0;32m   (...)\u001b[0m\n\u001b[1;32m     30\u001b[0m     log\u001b[38;5;241m=\u001b[39mlog \n\u001b[1;32m     31\u001b[0m )\n\u001b[1;32m     33\u001b[0m Image\u001b[38;5;241m.\u001b[39mfromarray(softlight_test)\u001b[38;5;241m.\u001b[39msave( get_img_path(Path(\u001b[38;5;124m'\u001b[39m\u001b[38;5;124m.\u001b[39m\u001b[38;5;124m'\u001b[39m)) , dpi\u001b[38;5;241m=\u001b[39m(\u001b[38;5;241m600\u001b[39m,\u001b[38;5;241m600\u001b[39m))\n",
      "File \u001b[0;32m~/Documents/GitHub/master-thesis_moire_detection/60_gebastel/Musterueberlagerung/pattern_creation.py:248\u001b[0m, in \u001b[0;36mget_pattern_img_by_style\u001b[0;34m(row, config)\u001b[0m\n\u001b[1;32m    247\u001b[0m \u001b[38;5;28;01mdef\u001b[39;00m \u001b[38;5;21mget_pattern_img_by_style\u001b[39m( row, config ):\n\u001b[0;32m--> 248\u001b[0m     pattern_img \u001b[38;5;241m=\u001b[39m \u001b[43mget_pattern_img\u001b[49m\u001b[43m(\u001b[49m\u001b[43m \u001b[49m\u001b[43mrow\u001b[49m\u001b[43m[\u001b[49m\u001b[38;5;124;43m\"\u001b[39;49m\u001b[38;5;124;43mpattern\u001b[39;49m\u001b[38;5;124;43m\"\u001b[39;49m\u001b[43m]\u001b[49m\u001b[43m,\u001b[49m\u001b[43m \u001b[49m\u001b[43mconfig\u001b[49m\u001b[43m \u001b[49m\u001b[43m)\u001b[49m\n\u001b[1;32m    250\u001b[0m     \u001b[38;5;28;01mfor\u001b[39;00m effect \u001b[38;5;129;01min\u001b[39;00m row[\u001b[38;5;124m'\u001b[39m\u001b[38;5;124meffect_order\u001b[39m\u001b[38;5;124m'\u001b[39m]:\n\u001b[1;32m    251\u001b[0m         \u001b[38;5;66;03m# Effekte anwenden\u001b[39;00m\n\u001b[1;32m    252\u001b[0m         \u001b[38;5;28;01mif\u001b[39;00m effect \u001b[38;5;241m==\u001b[39m \u001b[38;5;124m'\u001b[39m\u001b[38;5;124mblow_up_centered\u001b[39m\u001b[38;5;124m'\u001b[39m:\n",
      "File \u001b[0;32m~/Documents/GitHub/master-thesis_moire_detection/60_gebastel/Musterueberlagerung/pattern_creation.py:22\u001b[0m, in \u001b[0;36mget_pattern_img\u001b[0;34m(pattern_name, config)\u001b[0m\n\u001b[1;32m     19\u001b[0m Image\u001b[38;5;241m.\u001b[39mMAX_IMAGE_PIXELS \u001b[38;5;241m=\u001b[39m \u001b[38;5;28;01mNone\u001b[39;00m\n\u001b[1;32m     21\u001b[0m pattern_path \u001b[38;5;241m=\u001b[39m load_dotenv()[\u001b[38;5;124m'\u001b[39m\u001b[38;5;124mPATTERN_DIR\u001b[39m\u001b[38;5;124m'\u001b[39m] \u001b[38;5;241m/\u001b[39m \u001b[38;5;124mf\u001b[39m\u001b[38;5;124m'\u001b[39m\u001b[38;5;132;01m{\u001b[39;00m\u001b[38;5;250m \u001b[39mpattern_name\u001b[38;5;250m \u001b[39m\u001b[38;5;132;01m}\u001b[39;00m\u001b[38;5;124m.tif\u001b[39m\u001b[38;5;124m'\u001b[39m\n\u001b[0;32m---> 22\u001b[0m pattern_img \u001b[38;5;241m=\u001b[39m \u001b[43mImage\u001b[49m\u001b[38;5;241;43m.\u001b[39;49m\u001b[43mopen\u001b[49m\u001b[43m(\u001b[49m\u001b[43mpattern_path\u001b[49m\u001b[43m)\u001b[49m\n\u001b[1;32m     23\u001b[0m pattern_resize_factor \u001b[38;5;241m=\u001b[39m config[\u001b[38;5;124m'\u001b[39m\u001b[38;5;124mprocessing_dpi\u001b[39m\u001b[38;5;124m'\u001b[39m] \u001b[38;5;241m/\u001b[39m \u001b[38;5;241m2400\u001b[39m\n\u001b[1;32m     24\u001b[0m pattern_img \u001b[38;5;241m=\u001b[39m pattern_img\u001b[38;5;241m.\u001b[39mconvert(\u001b[38;5;124m'\u001b[39m\u001b[38;5;124mL\u001b[39m\u001b[38;5;124m'\u001b[39m)\u001b[38;5;241m.\u001b[39mresize(\n\u001b[1;32m     25\u001b[0m     (\n\u001b[1;32m     26\u001b[0m         \u001b[38;5;28mint\u001b[39m(pattern_img\u001b[38;5;241m.\u001b[39msize[\u001b[38;5;241m0\u001b[39m] \u001b[38;5;241m*\u001b[39m pattern_resize_factor),\n\u001b[0;32m   (...)\u001b[0m\n\u001b[1;32m     29\u001b[0m     resample\u001b[38;5;241m=\u001b[39mImage\u001b[38;5;241m.\u001b[39mBICUBIC\n\u001b[1;32m     30\u001b[0m )\n",
      "File \u001b[0;32m~/Library/Python/3.10/lib/python/site-packages/PIL/Image.py:3256\u001b[0m, in \u001b[0;36mopen\u001b[0;34m(fp, mode, formats)\u001b[0m\n\u001b[1;32m   3253\u001b[0m     fp \u001b[38;5;241m=\u001b[39m io\u001b[38;5;241m.\u001b[39mBytesIO(fp\u001b[38;5;241m.\u001b[39mread())\n\u001b[1;32m   3254\u001b[0m     exclusive_fp \u001b[38;5;241m=\u001b[39m \u001b[38;5;28;01mTrue\u001b[39;00m\n\u001b[0;32m-> 3256\u001b[0m prefix \u001b[38;5;241m=\u001b[39m \u001b[43mfp\u001b[49m\u001b[38;5;241;43m.\u001b[39;49m\u001b[43mread\u001b[49m\u001b[43m(\u001b[49m\u001b[38;5;241;43m16\u001b[39;49m\u001b[43m)\u001b[49m\n\u001b[1;32m   3258\u001b[0m preinit()\n\u001b[1;32m   3260\u001b[0m accept_warnings \u001b[38;5;241m=\u001b[39m []\n",
      "\u001b[0;31mOSError\u001b[0m: [Errno 89] Operation canceled"
     ]
    }
   ],
   "source": [
    "rows = []\n",
    "\n",
    "for i in tqdm(range(10)):\n",
    "    row = {\n",
    "        'image' : \"gray_tile\",\n",
    "        'img_path' : \"\",\n",
    "        'method' : 'soft_light', #'screen' if random.random() > 0.5 else 'multiply',\n",
    "        'ssim' : -1,\n",
    "        'bbox' : [0,0,1000,1000],\n",
    "        'overlay_intensity_C' : config['overlay_intensity'][0],\n",
    "        'overlay_intensity_M' : config['overlay_intensity'][1],\n",
    "        'overlay_intensity_Y' : config['overlay_intensity'][2],\n",
    "        'overlay_intensity_K' : config['overlay_intensity'][3]\n",
    "    }\n",
    "    \n",
    "    pattern_style = get_pattern_style(config)\n",
    "    for key in pattern_style:\n",
    "        row[key] = pattern_style[key]\n",
    "\n",
    "    rows.append(row)\n",
    "    pattern_img = get_pattern_img_by_style(row, config)\n",
    "    \n",
    "    softlight_test,pattern_mask, ssim_value_K = apply_pattern(\n",
    "        (np.ones((5000,5000)) * 100).astype('uint8'),\n",
    "        pattern_img,\n",
    "        (2500,2500),\n",
    "        config,\n",
    "        method='soft_light',\n",
    "        overlay_weight=0.5,\n",
    "        log=log \n",
    "    )\n",
    "    \n",
    "    Image.fromarray(softlight_test).save( get_img_path(Path('.')) , dpi=(600,600))"
   ]
  },
  {
   "cell_type": "code",
   "execution_count": null,
   "id": "5fa3722b-f0d8-40cb-9338-049555b82926",
   "metadata": {},
   "outputs": [],
   "source": [
    "pd.DataFrame.from_dict(rows)"
   ]
  },
  {
   "cell_type": "code",
   "execution_count": null,
   "id": "c0d32f29-55cb-4de8-bab7-67cc5a21bdb8",
   "metadata": {},
   "outputs": [],
   "source": []
  }
 ],
 "metadata": {
  "kernelspec": {
   "display_name": "Python 3 (ipykernel)",
   "language": "python",
   "name": "python3"
  },
  "language_info": {
   "codemirror_mode": {
    "name": "ipython",
    "version": 3
   },
   "file_extension": ".py",
   "mimetype": "text/x-python",
   "name": "python",
   "nbconvert_exporter": "python",
   "pygments_lexer": "ipython3",
   "version": "3.10.11"
  }
 },
 "nbformat": 4,
 "nbformat_minor": 5
}
