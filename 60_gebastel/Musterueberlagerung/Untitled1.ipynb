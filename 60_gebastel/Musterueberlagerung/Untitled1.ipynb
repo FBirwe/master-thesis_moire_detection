{
 "cells": [
  {
   "cell_type": "code",
   "execution_count": 1,
   "id": "05c83594-6025-43cd-94b1-de1712a9f6b8",
   "metadata": {},
   "outputs": [],
   "source": [
    "import sys\n",
    "sys.path.append('../../30_data_tools/')"
   ]
  },
  {
   "cell_type": "code",
   "execution_count": 49,
   "id": "585227de-1450-462f-9b09-710ba401e189",
   "metadata": {},
   "outputs": [],
   "source": [
    "import pandas as pd\n",
    "from PIL import Image\n",
    "from skimage.metrics import structural_similarity as ssim\n",
    "from pathlib import Path\n",
    "import numpy as np\n",
    "import sqlite3\n",
    "import json\n",
    "from collections import Counter\n",
    "from datetime import datetime\n",
    "import plotly.express as px"
   ]
  },
  {
   "cell_type": "code",
   "execution_count": 3,
   "id": "d7ec55b9-c7d3-4d27-b160-1d9b7790faa0",
   "metadata": {},
   "outputs": [],
   "source": [
    "from helper import load_dotenv"
   ]
  },
  {
   "cell_type": "code",
   "execution_count": 4,
   "id": "5147b96f-ddc7-428b-b39b-6a5950c33f88",
   "metadata": {},
   "outputs": [],
   "source": [
    "from get_labelstudio_data import get_results_of_project"
   ]
  },
  {
   "cell_type": "code",
   "execution_count": 5,
   "id": "8972b974-f281-4312-b0fc-54d0e862303a",
   "metadata": {},
   "outputs": [],
   "source": [
    "config = load_dotenv()"
   ]
  },
  {
   "cell_type": "code",
   "execution_count": 6,
   "id": "cf50fc15-897c-49eb-b6af-1323ff41678d",
   "metadata": {},
   "outputs": [],
   "source": [
    "results = get_results_of_project(2)"
   ]
  },
  {
   "cell_type": "code",
   "execution_count": 7,
   "id": "38a477e0-4ac4-4adf-a312-65797b371420",
   "metadata": {},
   "outputs": [],
   "source": [
    "pkl_files = list(config['GENERIC_INFORMATION_DATA_DIR'].glob('./*.pkl'))"
   ]
  },
  {
   "cell_type": "code",
   "execution_count": 8,
   "id": "36d8a832-6384-4791-82c0-d9a4041dcf6e",
   "metadata": {},
   "outputs": [],
   "source": [
    "frames = []\n",
    "for pkl in pkl_files:\n",
    "    f = pd.read_pickle(pkl)\n",
    "    f.loc[\n",
    "        :,\n",
    "        'creation_date'\n",
    "    ] = datetime.fromtimestamp(int(pkl.name.strip(pkl.suffix)))\n",
    "    frames.append(f)\n",
    "    \n",
    "df = pd.concat([f for f in frames if 'ssim' in f.columns])\n",
    "df.loc[\n",
    "    :,\n",
    "    'img_name'\n",
    "] = df.apply(lambda row: row.basic_name.replace('$PLACEHOLDER$',row.method) + '.4c_600.jpg', axis=1)\n",
    "df.loc[\n",
    "    pd.isna(df.bbox) == False,\n",
    "    'bbox'\n",
    "] = df.loc[\n",
    "    pd.isna(df.bbox) == False\n",
    "].bbox.apply( lambda val: \",\".join([str(v) for v in val]) )\n",
    "\n",
    "df = pd.merge(\n",
    "    df,\n",
    "    pd.DataFrame(\n",
    "        [\n",
    "            (r['img_name'],r['rectanglelabels'][0],f\"{r['value']['x']},{r['value']['y']},{r['value']['width']},{r['value']['height']}\")\n",
    "            for r in results\n",
    "        ],\n",
    "        columns=['img_name','label','bbox']\n",
    "    ),\n",
    "    how=\"left\",\n",
    "    on=[\"img_name\",\"bbox\"]\n",
    ")\n",
    "\n",
    "#df = df.drop_duplicates()"
   ]
  },
  {
   "cell_type": "code",
   "execution_count": 9,
   "id": "958d478a-4f6f-45f7-b988-f10ca5f2573a",
   "metadata": {},
   "outputs": [
    {
     "data": {
      "text/plain": [
       "checked_no_moire    2110\n",
       "unchecked_moire      482\n",
       "checked_moire        353\n",
       "Name: label, dtype: int64"
      ]
     },
     "execution_count": 9,
     "metadata": {},
     "output_type": "execute_result"
    }
   ],
   "source": [
    "total_labels = df.label.value_counts()\n",
    "\n",
    "total_labels"
   ]
  },
  {
   "cell_type": "code",
   "execution_count": 10,
   "id": "e66b2247-5b8c-48c1-81ef-28670660e92e",
   "metadata": {},
   "outputs": [
    {
     "data": {
      "text/plain": [
       "0.1198641765704584"
      ]
     },
     "execution_count": 10,
     "metadata": {},
     "output_type": "execute_result"
    }
   ],
   "source": [
    "total_labels.checked_moire / total_labels.sum()"
   ]
  },
  {
   "cell_type": "code",
   "execution_count": 11,
   "id": "7d19c6d0-2fb2-4a41-8719-8be9a447e0a1",
   "metadata": {},
   "outputs": [
    {
     "data": {
      "text/plain": [
       "checked_no_moire    1347\n",
       "unchecked_moire      482\n",
       "checked_moire        283\n",
       "Name: label, dtype: int64"
      ]
     },
     "execution_count": 11,
     "metadata": {},
     "output_type": "execute_result"
    }
   ],
   "source": [
    "relevant_labels = df.loc[\n",
    "    df.creation_date >= '2024-01-17'\n",
    "].label.value_counts()\n",
    "\n",
    "relevant_labels"
   ]
  },
  {
   "cell_type": "code",
   "execution_count": 12,
   "id": "9816bb88-65fd-4ca7-b311-6f9aaeab5d96",
   "metadata": {},
   "outputs": [
    {
     "data": {
      "text/plain": [
       "0.13399621212121213"
      ]
     },
     "execution_count": 12,
     "metadata": {},
     "output_type": "execute_result"
    }
   ],
   "source": [
    "relevant_labels.checked_moire / relevant_labels.sum()"
   ]
  },
  {
   "cell_type": "code",
   "execution_count": 13,
   "id": "e1194ae8-4596-48d6-8246-c1b92fbfba95",
   "metadata": {},
   "outputs": [
    {
     "data": {
      "text/plain": [
       "(479,)"
      ]
     },
     "execution_count": 13,
     "metadata": {},
     "output_type": "execute_result"
    }
   ],
   "source": [
    "df.loc[\n",
    "    df.creation_date >= '2024-01-17'\n",
    "].basic_name.unique().shape"
   ]
  },
  {
   "cell_type": "code",
   "execution_count": 14,
   "id": "0294bc40-5603-4d72-ad7c-21d71b226294",
   "metadata": {},
   "outputs": [
    {
     "data": {
      "text/plain": [
       "(1265, 47)"
      ]
     },
     "execution_count": 14,
     "metadata": {},
     "output_type": "execute_result"
    }
   ],
   "source": [
    "df.loc[\n",
    "    df.creation_date == df.creation_date.max()\n",
    "].shape"
   ]
  },
  {
   "cell_type": "markdown",
   "id": "c9d55e2d-d114-4a5f-9ed0-81dafc2dc49c",
   "metadata": {},
   "source": [
    "# Gruppiert nach Bild"
   ]
  },
  {
   "cell_type": "code",
   "execution_count": 15,
   "id": "a081b9ad-c152-4f84-9116-9cbe8e8701fa",
   "metadata": {},
   "outputs": [],
   "source": [
    "df.loc[\n",
    "    :,\n",
    "    'job'\n",
    "] = df.img_path.apply( lambda val: val.parent.parent.name )"
   ]
  },
  {
   "cell_type": "code",
   "execution_count": 16,
   "id": "d33e43d2-c5c0-4dd0-92da-d06922b263c8",
   "metadata": {},
   "outputs": [],
   "source": [
    "grouped_by_job = df.loc[\n",
    "    :,\n",
    "    ['job','label','img_path']\n",
    "].groupby(['job','label']).count().sort_values('img_path', ascending=False).unstack('label').fillna(0)\n",
    "\n",
    "grouped_by_job.columns = [c[1] for c in grouped_by_job.columns]\n",
    "grouped_by_job.loc[\n",
    "    :,\n",
    "    'moire_rate'\n",
    "] = grouped_by_job.checked_moire / (grouped_by_job.checked_moire + grouped_by_job.checked_no_moire)"
   ]
  },
  {
   "cell_type": "code",
   "execution_count": 17,
   "id": "e3bf9f13-a176-4c5c-a18e-182a18fb13f7",
   "metadata": {},
   "outputs": [
    {
     "data": {
      "text/html": [
       "<div>\n",
       "<style scoped>\n",
       "    .dataframe tbody tr th:only-of-type {\n",
       "        vertical-align: middle;\n",
       "    }\n",
       "\n",
       "    .dataframe tbody tr th {\n",
       "        vertical-align: top;\n",
       "    }\n",
       "\n",
       "    .dataframe thead th {\n",
       "        text-align: right;\n",
       "    }\n",
       "</style>\n",
       "<table border=\"1\" class=\"dataframe\">\n",
       "  <thead>\n",
       "    <tr style=\"text-align: right;\">\n",
       "      <th></th>\n",
       "      <th>checked_moire</th>\n",
       "      <th>checked_no_moire</th>\n",
       "      <th>unchecked_moire</th>\n",
       "      <th>moire_rate</th>\n",
       "    </tr>\n",
       "    <tr>\n",
       "      <th>job</th>\n",
       "      <th></th>\n",
       "      <th></th>\n",
       "      <th></th>\n",
       "      <th></th>\n",
       "    </tr>\n",
       "  </thead>\n",
       "  <tbody>\n",
       "    <tr>\n",
       "      <th>612780</th>\n",
       "      <td>4.0</td>\n",
       "      <td>3.0</td>\n",
       "      <td>6.0</td>\n",
       "      <td>0.571429</td>\n",
       "    </tr>\n",
       "    <tr>\n",
       "      <th>149355</th>\n",
       "      <td>11.0</td>\n",
       "      <td>18.0</td>\n",
       "      <td>0.0</td>\n",
       "      <td>0.379310</td>\n",
       "    </tr>\n",
       "    <tr>\n",
       "      <th>606023</th>\n",
       "      <td>86.0</td>\n",
       "      <td>278.0</td>\n",
       "      <td>0.0</td>\n",
       "      <td>0.236264</td>\n",
       "    </tr>\n",
       "    <tr>\n",
       "      <th>613256</th>\n",
       "      <td>32.0</td>\n",
       "      <td>141.0</td>\n",
       "      <td>36.0</td>\n",
       "      <td>0.184971</td>\n",
       "    </tr>\n",
       "    <tr>\n",
       "      <th>613233</th>\n",
       "      <td>8.0</td>\n",
       "      <td>40.0</td>\n",
       "      <td>18.0</td>\n",
       "      <td>0.166667</td>\n",
       "    </tr>\n",
       "    <tr>\n",
       "      <th>148013</th>\n",
       "      <td>22.0</td>\n",
       "      <td>115.0</td>\n",
       "      <td>0.0</td>\n",
       "      <td>0.160584</td>\n",
       "    </tr>\n",
       "    <tr>\n",
       "      <th>611808</th>\n",
       "      <td>19.0</td>\n",
       "      <td>100.0</td>\n",
       "      <td>58.0</td>\n",
       "      <td>0.159664</td>\n",
       "    </tr>\n",
       "    <tr>\n",
       "      <th>24-01-02_randomPages</th>\n",
       "      <td>3.0</td>\n",
       "      <td>16.0</td>\n",
       "      <td>0.0</td>\n",
       "      <td>0.157895</td>\n",
       "    </tr>\n",
       "    <tr>\n",
       "      <th>606688</th>\n",
       "      <td>34.0</td>\n",
       "      <td>191.0</td>\n",
       "      <td>4.0</td>\n",
       "      <td>0.151111</td>\n",
       "    </tr>\n",
       "    <tr>\n",
       "      <th>508890</th>\n",
       "      <td>17.0</td>\n",
       "      <td>99.0</td>\n",
       "      <td>0.0</td>\n",
       "      <td>0.146552</td>\n",
       "    </tr>\n",
       "    <tr>\n",
       "      <th>616457</th>\n",
       "      <td>1.0</td>\n",
       "      <td>6.0</td>\n",
       "      <td>6.0</td>\n",
       "      <td>0.142857</td>\n",
       "    </tr>\n",
       "    <tr>\n",
       "      <th>149585</th>\n",
       "      <td>2.0</td>\n",
       "      <td>12.0</td>\n",
       "      <td>0.0</td>\n",
       "      <td>0.142857</td>\n",
       "    </tr>\n",
       "    <tr>\n",
       "      <th>615311</th>\n",
       "      <td>50.0</td>\n",
       "      <td>310.0</td>\n",
       "      <td>182.0</td>\n",
       "      <td>0.138889</td>\n",
       "    </tr>\n",
       "    <tr>\n",
       "      <th>615459</th>\n",
       "      <td>5.0</td>\n",
       "      <td>32.0</td>\n",
       "      <td>14.0</td>\n",
       "      <td>0.135135</td>\n",
       "    </tr>\n",
       "    <tr>\n",
       "      <th>616466</th>\n",
       "      <td>8.0</td>\n",
       "      <td>61.0</td>\n",
       "      <td>75.0</td>\n",
       "      <td>0.115942</td>\n",
       "    </tr>\n",
       "    <tr>\n",
       "      <th>613781</th>\n",
       "      <td>13.0</td>\n",
       "      <td>107.0</td>\n",
       "      <td>25.0</td>\n",
       "      <td>0.108333</td>\n",
       "    </tr>\n",
       "    <tr>\n",
       "      <th>508498</th>\n",
       "      <td>2.0</td>\n",
       "      <td>19.0</td>\n",
       "      <td>0.0</td>\n",
       "      <td>0.095238</td>\n",
       "    </tr>\n",
       "    <tr>\n",
       "      <th>613476</th>\n",
       "      <td>11.0</td>\n",
       "      <td>109.0</td>\n",
       "      <td>24.0</td>\n",
       "      <td>0.091667</td>\n",
       "    </tr>\n",
       "    <tr>\n",
       "      <th>508001</th>\n",
       "      <td>17.0</td>\n",
       "      <td>169.0</td>\n",
       "      <td>0.0</td>\n",
       "      <td>0.091398</td>\n",
       "    </tr>\n",
       "    <tr>\n",
       "      <th>508266</th>\n",
       "      <td>4.0</td>\n",
       "      <td>73.0</td>\n",
       "      <td>0.0</td>\n",
       "      <td>0.051948</td>\n",
       "    </tr>\n",
       "    <tr>\n",
       "      <th>616203</th>\n",
       "      <td>2.0</td>\n",
       "      <td>61.0</td>\n",
       "      <td>8.0</td>\n",
       "      <td>0.031746</td>\n",
       "    </tr>\n",
       "    <tr>\n",
       "      <th>508980</th>\n",
       "      <td>2.0</td>\n",
       "      <td>88.0</td>\n",
       "      <td>0.0</td>\n",
       "      <td>0.022222</td>\n",
       "    </tr>\n",
       "    <tr>\n",
       "      <th>615297</th>\n",
       "      <td>0.0</td>\n",
       "      <td>18.0</td>\n",
       "      <td>17.0</td>\n",
       "      <td>0.000000</td>\n",
       "    </tr>\n",
       "    <tr>\n",
       "      <th>149128</th>\n",
       "      <td>0.0</td>\n",
       "      <td>40.0</td>\n",
       "      <td>0.0</td>\n",
       "      <td>0.000000</td>\n",
       "    </tr>\n",
       "    <tr>\n",
       "      <th>147342</th>\n",
       "      <td>0.0</td>\n",
       "      <td>4.0</td>\n",
       "      <td>0.0</td>\n",
       "      <td>0.000000</td>\n",
       "    </tr>\n",
       "    <tr>\n",
       "      <th>613223</th>\n",
       "      <td>0.0</td>\n",
       "      <td>0.0</td>\n",
       "      <td>9.0</td>\n",
       "      <td>NaN</td>\n",
       "    </tr>\n",
       "  </tbody>\n",
       "</table>\n",
       "</div>"
      ],
      "text/plain": [
       "                      checked_moire  checked_no_moire  unchecked_moire  \\\n",
       "job                                                                      \n",
       "612780                          4.0               3.0              6.0   \n",
       "149355                         11.0              18.0              0.0   \n",
       "606023                         86.0             278.0              0.0   \n",
       "613256                         32.0             141.0             36.0   \n",
       "613233                          8.0              40.0             18.0   \n",
       "148013                         22.0             115.0              0.0   \n",
       "611808                         19.0             100.0             58.0   \n",
       "24-01-02_randomPages            3.0              16.0              0.0   \n",
       "606688                         34.0             191.0              4.0   \n",
       "508890                         17.0              99.0              0.0   \n",
       "616457                          1.0               6.0              6.0   \n",
       "149585                          2.0              12.0              0.0   \n",
       "615311                         50.0             310.0            182.0   \n",
       "615459                          5.0              32.0             14.0   \n",
       "616466                          8.0              61.0             75.0   \n",
       "613781                         13.0             107.0             25.0   \n",
       "508498                          2.0              19.0              0.0   \n",
       "613476                         11.0             109.0             24.0   \n",
       "508001                         17.0             169.0              0.0   \n",
       "508266                          4.0              73.0              0.0   \n",
       "616203                          2.0              61.0              8.0   \n",
       "508980                          2.0              88.0              0.0   \n",
       "615297                          0.0              18.0             17.0   \n",
       "149128                          0.0              40.0              0.0   \n",
       "147342                          0.0               4.0              0.0   \n",
       "613223                          0.0               0.0              9.0   \n",
       "\n",
       "                      moire_rate  \n",
       "job                               \n",
       "612780                  0.571429  \n",
       "149355                  0.379310  \n",
       "606023                  0.236264  \n",
       "613256                  0.184971  \n",
       "613233                  0.166667  \n",
       "148013                  0.160584  \n",
       "611808                  0.159664  \n",
       "24-01-02_randomPages    0.157895  \n",
       "606688                  0.151111  \n",
       "508890                  0.146552  \n",
       "616457                  0.142857  \n",
       "149585                  0.142857  \n",
       "615311                  0.138889  \n",
       "615459                  0.135135  \n",
       "616466                  0.115942  \n",
       "613781                  0.108333  \n",
       "508498                  0.095238  \n",
       "613476                  0.091667  \n",
       "508001                  0.091398  \n",
       "508266                  0.051948  \n",
       "616203                  0.031746  \n",
       "508980                  0.022222  \n",
       "615297                  0.000000  \n",
       "149128                  0.000000  \n",
       "147342                  0.000000  \n",
       "613223                       NaN  "
      ]
     },
     "execution_count": 17,
     "metadata": {},
     "output_type": "execute_result"
    }
   ],
   "source": [
    "grouped_by_job.sort_values('moire_rate', ascending=False)"
   ]
  },
  {
   "cell_type": "markdown",
   "id": "9c1285f9-e3d6-466d-ad53-87b8fcb8d694",
   "metadata": {},
   "source": [
    "# Auswertung nach Bildern"
   ]
  },
  {
   "cell_type": "code",
   "execution_count": 18,
   "id": "870a0ac3-27bb-4065-81b0-7c4d588f8899",
   "metadata": {},
   "outputs": [],
   "source": [
    "grouped_by_image = df.loc[\n",
    "    :,\n",
    "    ['image','label','img_path']\n",
    "].groupby(['image','label']).count().sort_values('img_path', ascending=False).unstack('label').fillna(0)\n",
    "\n",
    "grouped_by_image.columns = [c[1] for c in grouped_by_image.columns]\n",
    "grouped_by_image.loc[\n",
    "    :,\n",
    "    'total_tiles'\n",
    "] = grouped_by_image.checked_moire + grouped_by_image.checked_no_moire\n",
    "\n",
    "grouped_by_image.loc[\n",
    "    :,\n",
    "    'moire_rate'\n",
    "] = grouped_by_image.checked_moire / (grouped_by_image.checked_moire + grouped_by_image.checked_no_moire)"
   ]
  },
  {
   "cell_type": "code",
   "execution_count": 19,
   "id": "3b37815c-deaf-4c47-8b57-879b3ea6f860",
   "metadata": {},
   "outputs": [
    {
     "data": {
      "text/html": [
       "<div>\n",
       "<style scoped>\n",
       "    .dataframe tbody tr th:only-of-type {\n",
       "        vertical-align: middle;\n",
       "    }\n",
       "\n",
       "    .dataframe tbody tr th {\n",
       "        vertical-align: top;\n",
       "    }\n",
       "\n",
       "    .dataframe thead th {\n",
       "        text-align: right;\n",
       "    }\n",
       "</style>\n",
       "<table border=\"1\" class=\"dataframe\">\n",
       "  <thead>\n",
       "    <tr style=\"text-align: right;\">\n",
       "      <th></th>\n",
       "      <th>checked_moire</th>\n",
       "      <th>checked_no_moire</th>\n",
       "      <th>unchecked_moire</th>\n",
       "      <th>total_tiles</th>\n",
       "      <th>moire_rate</th>\n",
       "    </tr>\n",
       "    <tr>\n",
       "      <th>image</th>\n",
       "      <th></th>\n",
       "      <th></th>\n",
       "      <th></th>\n",
       "      <th></th>\n",
       "      <th></th>\n",
       "    </tr>\n",
       "  </thead>\n",
       "  <tbody>\n",
       "    <tr>\n",
       "      <th>HBZP_1_M_294.p1.4c</th>\n",
       "      <td>1.0</td>\n",
       "      <td>0.0</td>\n",
       "      <td>0.0</td>\n",
       "      <td>1.0</td>\n",
       "      <td>1.000000</td>\n",
       "    </tr>\n",
       "    <tr>\n",
       "      <th>tg39_67029_1_1_2022_130-189_Kapitel3_DA.p18.4c</th>\n",
       "      <td>6.0</td>\n",
       "      <td>3.0</td>\n",
       "      <td>0.0</td>\n",
       "      <td>9.0</td>\n",
       "      <td>0.666667</td>\n",
       "    </tr>\n",
       "    <tr>\n",
       "      <th>tg45_009-488_Interieur_GW2021-2022_HD.p314.4c</th>\n",
       "      <td>4.0</td>\n",
       "      <td>2.0</td>\n",
       "      <td>0.0</td>\n",
       "      <td>6.0</td>\n",
       "      <td>0.666667</td>\n",
       "    </tr>\n",
       "    <tr>\n",
       "      <th>tg46_UP_006_007_MRZ23_UPSUBHMRZ_SU_AS004_DE_DE_002.p1.4c</th>\n",
       "      <td>2.0</td>\n",
       "      <td>1.0</td>\n",
       "      <td>0.0</td>\n",
       "      <td>3.0</td>\n",
       "      <td>0.666667</td>\n",
       "    </tr>\n",
       "    <tr>\n",
       "      <th>tg46_024_025_JUL23_UPHK_CA_AS008_AT_DE_BASIS_BILD_002.p1.4c</th>\n",
       "      <td>5.0</td>\n",
       "      <td>3.0</td>\n",
       "      <td>0.0</td>\n",
       "      <td>8.0</td>\n",
       "      <td>0.625000</td>\n",
       "    </tr>\n",
       "    <tr>\n",
       "      <th>tg39_0072_20-1257_Part07_03_PGUE_GS_Premium_0321_DE.p1.4c</th>\n",
       "      <td>5.0</td>\n",
       "      <td>3.0</td>\n",
       "      <td>0.0</td>\n",
       "      <td>8.0</td>\n",
       "      <td>0.625000</td>\n",
       "    </tr>\n",
       "    <tr>\n",
       "      <th>tg39_0067_20-1257_Part07_03_PGUE_GS_Premium_0321_DE.p1.4c</th>\n",
       "      <td>5.0</td>\n",
       "      <td>3.0</td>\n",
       "      <td>0.0</td>\n",
       "      <td>8.0</td>\n",
       "      <td>0.625000</td>\n",
       "    </tr>\n",
       "    <tr>\n",
       "      <th>tg39_1000__147WW.DE.WX005.AT.141_10-12_39L_300.p2.4c</th>\n",
       "      <td>4.0</td>\n",
       "      <td>3.0</td>\n",
       "      <td>0.0</td>\n",
       "      <td>7.0</td>\n",
       "      <td>0.571429</td>\n",
       "    </tr>\n",
       "    <tr>\n",
       "      <th>tg39_0059_20-1257_Part06_02_PGUE_GS_Premium_0321_DE.p1.4c</th>\n",
       "      <td>4.0</td>\n",
       "      <td>3.0</td>\n",
       "      <td>0.0</td>\n",
       "      <td>7.0</td>\n",
       "      <td>0.571429</td>\n",
       "    </tr>\n",
       "    <tr>\n",
       "      <th>tg39_0078_20-1257_Part07_03_PGUE_GS_Premium_0321_DE.p1.4c</th>\n",
       "      <td>5.0</td>\n",
       "      <td>4.0</td>\n",
       "      <td>0.0</td>\n",
       "      <td>9.0</td>\n",
       "      <td>0.555556</td>\n",
       "    </tr>\n",
       "    <tr>\n",
       "      <th>004_2023_017_0_111_0.p1.4c</th>\n",
       "      <td>5.0</td>\n",
       "      <td>4.0</td>\n",
       "      <td>0.0</td>\n",
       "      <td>9.0</td>\n",
       "      <td>0.555556</td>\n",
       "    </tr>\n",
       "    <tr>\n",
       "      <th>tg39_o_vig_kat_2023_007_armaturen_v5_rz_ohne_preise.p6.4c</th>\n",
       "      <td>6.0</td>\n",
       "      <td>5.0</td>\n",
       "      <td>0.0</td>\n",
       "      <td>11.0</td>\n",
       "      <td>0.545455</td>\n",
       "    </tr>\n",
       "    <tr>\n",
       "      <th>tg39_0007_20-1257_Part05_01_PGUE_GS_Premium_0321_DE.p1.4c</th>\n",
       "      <td>7.0</td>\n",
       "      <td>6.0</td>\n",
       "      <td>0.0</td>\n",
       "      <td>13.0</td>\n",
       "      <td>0.538462</td>\n",
       "    </tr>\n",
       "    <tr>\n",
       "      <th>tg39_67029_1_1_2022_130-189_Kapitel3_DA.p15.4c</th>\n",
       "      <td>4.0</td>\n",
       "      <td>4.0</td>\n",
       "      <td>0.0</td>\n",
       "      <td>8.0</td>\n",
       "      <td>0.500000</td>\n",
       "    </tr>\n",
       "    <tr>\n",
       "      <th>tg45_009-488_Interieur_GW2021-2022_HD.p294.4c</th>\n",
       "      <td>3.0</td>\n",
       "      <td>3.0</td>\n",
       "      <td>0.0</td>\n",
       "      <td>6.0</td>\n",
       "      <td>0.500000</td>\n",
       "    </tr>\n",
       "    <tr>\n",
       "      <th>tg45_009-488_Interieur_GW2021-2022_HD.p269.4c</th>\n",
       "      <td>3.0</td>\n",
       "      <td>3.0</td>\n",
       "      <td>0.0</td>\n",
       "      <td>6.0</td>\n",
       "      <td>0.500000</td>\n",
       "    </tr>\n",
       "    <tr>\n",
       "      <th>tg46_020_021_JUL23_UPHK_CA_AS001_AT_DE_BASIS_BILD_002.p1.4c</th>\n",
       "      <td>1.0</td>\n",
       "      <td>1.0</td>\n",
       "      <td>0.0</td>\n",
       "      <td>2.0</td>\n",
       "      <td>0.500000</td>\n",
       "    </tr>\n",
       "    <tr>\n",
       "      <th>004_2023_017_0_003_0.p1.4c</th>\n",
       "      <td>1.0</td>\n",
       "      <td>1.0</td>\n",
       "      <td>0.0</td>\n",
       "      <td>2.0</td>\n",
       "      <td>0.500000</td>\n",
       "    </tr>\n",
       "    <tr>\n",
       "      <th>0129_O086_solv.p1.4c</th>\n",
       "      <td>1.0</td>\n",
       "      <td>1.0</td>\n",
       "      <td>0.0</td>\n",
       "      <td>2.0</td>\n",
       "      <td>0.500000</td>\n",
       "    </tr>\n",
       "    <tr>\n",
       "      <th>tg45_009-488_Interieur_GW2021-2022_HD.p299.4c</th>\n",
       "      <td>1.0</td>\n",
       "      <td>1.0</td>\n",
       "      <td>0.0</td>\n",
       "      <td>2.0</td>\n",
       "      <td>0.500000</td>\n",
       "    </tr>\n",
       "    <tr>\n",
       "      <th>tg39_67029_1_1_2022_130-189_Kapitel3_DA.p7.4c</th>\n",
       "      <td>5.0</td>\n",
       "      <td>6.0</td>\n",
       "      <td>0.0</td>\n",
       "      <td>11.0</td>\n",
       "      <td>0.454545</td>\n",
       "    </tr>\n",
       "    <tr>\n",
       "      <th>tg39_o_vig_kat_2023_006_wc_bidet_urinal_v3_rz_ohne_preise.p43.4c</th>\n",
       "      <td>4.0</td>\n",
       "      <td>5.0</td>\n",
       "      <td>0.0</td>\n",
       "      <td>9.0</td>\n",
       "      <td>0.444444</td>\n",
       "    </tr>\n",
       "    <tr>\n",
       "      <th>tg39_0028_20-1257_Part06_02_PGUE_GS_Premium_0321_DE.p1.4c</th>\n",
       "      <td>4.0</td>\n",
       "      <td>5.0</td>\n",
       "      <td>0.0</td>\n",
       "      <td>9.0</td>\n",
       "      <td>0.444444</td>\n",
       "    </tr>\n",
       "    <tr>\n",
       "      <th>tg46_134_135_JUL23_UPHK_WA_AS008_AT_DE_BASIS_BILD_002.p1.4c</th>\n",
       "      <td>4.0</td>\n",
       "      <td>5.0</td>\n",
       "      <td>0.0</td>\n",
       "      <td>9.0</td>\n",
       "      <td>0.444444</td>\n",
       "    </tr>\n",
       "    <tr>\n",
       "      <th>tg42_20499 WWC+DE Katalog 11_2022_60.p1.4c</th>\n",
       "      <td>3.0</td>\n",
       "      <td>4.0</td>\n",
       "      <td>8.0</td>\n",
       "      <td>7.0</td>\n",
       "      <td>0.428571</td>\n",
       "    </tr>\n",
       "    <tr>\n",
       "      <th>tg46_konv_693102_Top_03_BK_FS23_Suffix17_006_007_4C_Stuber.p1.4c</th>\n",
       "      <td>3.0</td>\n",
       "      <td>4.0</td>\n",
       "      <td>0.0</td>\n",
       "      <td>7.0</td>\n",
       "      <td>0.428571</td>\n",
       "    </tr>\n",
       "    <tr>\n",
       "      <th>CJ134_124125.p1.4c</th>\n",
       "      <td>3.0</td>\n",
       "      <td>4.0</td>\n",
       "      <td>0.0</td>\n",
       "      <td>7.0</td>\n",
       "      <td>0.428571</td>\n",
       "    </tr>\n",
       "    <tr>\n",
       "      <th>tg39_67029_1_1_2022_082-129_Kapitel2_DA 41.p1.4c</th>\n",
       "      <td>3.0</td>\n",
       "      <td>4.0</td>\n",
       "      <td>0.0</td>\n",
       "      <td>7.0</td>\n",
       "      <td>0.428571</td>\n",
       "    </tr>\n",
       "    <tr>\n",
       "      <th>tg46_UP_002_003_MRZ23_UPSUBHMRZ_SU_AS002_NL_NL_001.p1.4c</th>\n",
       "      <td>3.0</td>\n",
       "      <td>4.0</td>\n",
       "      <td>0.0</td>\n",
       "      <td>7.0</td>\n",
       "      <td>0.428571</td>\n",
       "    </tr>\n",
       "    <tr>\n",
       "      <th>CJ134_184185.p1.4c</th>\n",
       "      <td>4.0</td>\n",
       "      <td>6.0</td>\n",
       "      <td>0.0</td>\n",
       "      <td>10.0</td>\n",
       "      <td>0.400000</td>\n",
       "    </tr>\n",
       "    <tr>\n",
       "      <th>HBZP_1_M_298.p1.4c</th>\n",
       "      <td>4.0</td>\n",
       "      <td>6.0</td>\n",
       "      <td>0.0</td>\n",
       "      <td>10.0</td>\n",
       "      <td>0.400000</td>\n",
       "    </tr>\n",
       "    <tr>\n",
       "      <th>tg39_0017_20-1257_Part05_01_PGUE_GS_Premium_0321_DE.p1.4c</th>\n",
       "      <td>2.0</td>\n",
       "      <td>3.0</td>\n",
       "      <td>0.0</td>\n",
       "      <td>5.0</td>\n",
       "      <td>0.400000</td>\n",
       "    </tr>\n",
       "    <tr>\n",
       "      <th>tg39_0065_20-1257_Part07_03_PGUE_GS_Premium_0321_DE.p1.4c</th>\n",
       "      <td>2.0</td>\n",
       "      <td>3.0</td>\n",
       "      <td>0.0</td>\n",
       "      <td>5.0</td>\n",
       "      <td>0.400000</td>\n",
       "    </tr>\n",
       "    <tr>\n",
       "      <th>tg39_Katalog AT 2023_24_print_Innen 23.p1.4c</th>\n",
       "      <td>2.0</td>\n",
       "      <td>3.0</td>\n",
       "      <td>0.0</td>\n",
       "      <td>5.0</td>\n",
       "      <td>0.400000</td>\n",
       "    </tr>\n",
       "    <tr>\n",
       "      <th>tg42_20499 WWC+DE Katalog 11_2022_69.p1.4c</th>\n",
       "      <td>3.0</td>\n",
       "      <td>5.0</td>\n",
       "      <td>8.0</td>\n",
       "      <td>8.0</td>\n",
       "      <td>0.375000</td>\n",
       "    </tr>\n",
       "    <tr>\n",
       "      <th>tg45_009-488_Interieur_GW2021-2022_HD.p280.4c</th>\n",
       "      <td>3.0</td>\n",
       "      <td>5.0</td>\n",
       "      <td>0.0</td>\n",
       "      <td>8.0</td>\n",
       "      <td>0.375000</td>\n",
       "    </tr>\n",
       "    <tr>\n",
       "      <th>tg46_konv_693102_Top_03_BK_FS23_Suffix17_034_035_4C_Stuber.p1.4c</th>\n",
       "      <td>3.0</td>\n",
       "      <td>6.0</td>\n",
       "      <td>0.0</td>\n",
       "      <td>9.0</td>\n",
       "      <td>0.333333</td>\n",
       "    </tr>\n",
       "    <tr>\n",
       "      <th>tg39_0073_20-1257_Part07_03_PGUE_GS_Premium_0321_DE.p1.4c</th>\n",
       "      <td>3.0</td>\n",
       "      <td>6.0</td>\n",
       "      <td>0.0</td>\n",
       "      <td>9.0</td>\n",
       "      <td>0.333333</td>\n",
       "    </tr>\n",
       "    <tr>\n",
       "      <th>tg39_0071_20-1257_Part07_03_PGUE_GS_Premium_0321_DE.p1.4c</th>\n",
       "      <td>3.0</td>\n",
       "      <td>6.0</td>\n",
       "      <td>0.0</td>\n",
       "      <td>9.0</td>\n",
       "      <td>0.333333</td>\n",
       "    </tr>\n",
       "    <tr>\n",
       "      <th>CJ134_136137.p2.4c</th>\n",
       "      <td>3.0</td>\n",
       "      <td>6.0</td>\n",
       "      <td>0.0</td>\n",
       "      <td>9.0</td>\n",
       "      <td>0.333333</td>\n",
       "    </tr>\n",
       "    <tr>\n",
       "      <th>HBZP_1_M_281.p1.4c</th>\n",
       "      <td>3.0</td>\n",
       "      <td>6.0</td>\n",
       "      <td>0.0</td>\n",
       "      <td>9.0</td>\n",
       "      <td>0.333333</td>\n",
       "    </tr>\n",
       "    <tr>\n",
       "      <th>tg39_0024_20-1257_Part06_02_PGUE_GS_Premium_0321_DE.p1.4c</th>\n",
       "      <td>3.0</td>\n",
       "      <td>6.0</td>\n",
       "      <td>0.0</td>\n",
       "      <td>9.0</td>\n",
       "      <td>0.333333</td>\n",
       "    </tr>\n",
       "    <tr>\n",
       "      <th>CJ134_142143.p1.4c</th>\n",
       "      <td>3.0</td>\n",
       "      <td>6.0</td>\n",
       "      <td>0.0</td>\n",
       "      <td>9.0</td>\n",
       "      <td>0.333333</td>\n",
       "    </tr>\n",
       "    <tr>\n",
       "      <th>CJ134_088089.p1.4c</th>\n",
       "      <td>3.0</td>\n",
       "      <td>6.0</td>\n",
       "      <td>0.0</td>\n",
       "      <td>9.0</td>\n",
       "      <td>0.333333</td>\n",
       "    </tr>\n",
       "    <tr>\n",
       "      <th>tg39_Katalog AT 2023_24_print_Innen 32.p1.4c</th>\n",
       "      <td>2.0</td>\n",
       "      <td>4.0</td>\n",
       "      <td>0.0</td>\n",
       "      <td>6.0</td>\n",
       "      <td>0.333333</td>\n",
       "    </tr>\n",
       "    <tr>\n",
       "      <th>tg46_010_011_JUL23_UPHK_BLA_AS001_AT_DE_BASIS_BILD_001.p1.4c</th>\n",
       "      <td>2.0</td>\n",
       "      <td>4.0</td>\n",
       "      <td>0.0</td>\n",
       "      <td>6.0</td>\n",
       "      <td>0.333333</td>\n",
       "    </tr>\n",
       "    <tr>\n",
       "      <th>tg46_006_007_JUL23_UPHK_CA_AS011_AT_DE_BASIS_BILD_002.p1.4c</th>\n",
       "      <td>2.0</td>\n",
       "      <td>4.0</td>\n",
       "      <td>0.0</td>\n",
       "      <td>6.0</td>\n",
       "      <td>0.333333</td>\n",
       "    </tr>\n",
       "    <tr>\n",
       "      <th>tg45_009-488_Interieur_GW2021-2022_HD.p252.4c</th>\n",
       "      <td>1.0</td>\n",
       "      <td>2.0</td>\n",
       "      <td>0.0</td>\n",
       "      <td>3.0</td>\n",
       "      <td>0.333333</td>\n",
       "    </tr>\n",
       "    <tr>\n",
       "      <th>tg45_009-488_Interieur_GW2021-2022_HD.p246.4c</th>\n",
       "      <td>1.0</td>\n",
       "      <td>2.0</td>\n",
       "      <td>0.0</td>\n",
       "      <td>3.0</td>\n",
       "      <td>0.333333</td>\n",
       "    </tr>\n",
       "    <tr>\n",
       "      <th>004_2023_017_0_138_0.p1.4c</th>\n",
       "      <td>1.0</td>\n",
       "      <td>2.0</td>\n",
       "      <td>0.0</td>\n",
       "      <td>3.0</td>\n",
       "      <td>0.333333</td>\n",
       "    </tr>\n",
       "  </tbody>\n",
       "</table>\n",
       "</div>"
      ],
      "text/plain": [
       "                                                    checked_moire  \\\n",
       "image                                                               \n",
       "HBZP_1_M_294.p1.4c                                            1.0   \n",
       "tg39_67029_1_1_2022_130-189_Kapitel3_DA.p18.4c                6.0   \n",
       "tg45_009-488_Interieur_GW2021-2022_HD.p314.4c                 4.0   \n",
       "tg46_UP_006_007_MRZ23_UPSUBHMRZ_SU_AS004_DE_DE_...            2.0   \n",
       "tg46_024_025_JUL23_UPHK_CA_AS008_AT_DE_BASIS_BI...            5.0   \n",
       "tg39_0072_20-1257_Part07_03_PGUE_GS_Premium_032...            5.0   \n",
       "tg39_0067_20-1257_Part07_03_PGUE_GS_Premium_032...            5.0   \n",
       "tg39_1000__147WW.DE.WX005.AT.141_10-12_39L_300....            4.0   \n",
       "tg39_0059_20-1257_Part06_02_PGUE_GS_Premium_032...            4.0   \n",
       "tg39_0078_20-1257_Part07_03_PGUE_GS_Premium_032...            5.0   \n",
       "004_2023_017_0_111_0.p1.4c                                    5.0   \n",
       "tg39_o_vig_kat_2023_007_armaturen_v5_rz_ohne_pr...            6.0   \n",
       "tg39_0007_20-1257_Part05_01_PGUE_GS_Premium_032...            7.0   \n",
       "tg39_67029_1_1_2022_130-189_Kapitel3_DA.p15.4c                4.0   \n",
       "tg45_009-488_Interieur_GW2021-2022_HD.p294.4c                 3.0   \n",
       "tg45_009-488_Interieur_GW2021-2022_HD.p269.4c                 3.0   \n",
       "tg46_020_021_JUL23_UPHK_CA_AS001_AT_DE_BASIS_BI...            1.0   \n",
       "004_2023_017_0_003_0.p1.4c                                    1.0   \n",
       "0129_O086_solv.p1.4c                                          1.0   \n",
       "tg45_009-488_Interieur_GW2021-2022_HD.p299.4c                 1.0   \n",
       "tg39_67029_1_1_2022_130-189_Kapitel3_DA.p7.4c                 5.0   \n",
       "tg39_o_vig_kat_2023_006_wc_bidet_urinal_v3_rz_o...            4.0   \n",
       "tg39_0028_20-1257_Part06_02_PGUE_GS_Premium_032...            4.0   \n",
       "tg46_134_135_JUL23_UPHK_WA_AS008_AT_DE_BASIS_BI...            4.0   \n",
       "tg42_20499 WWC+DE Katalog 11_2022_60.p1.4c                    3.0   \n",
       "tg46_konv_693102_Top_03_BK_FS23_Suffix17_006_00...            3.0   \n",
       "CJ134_124125.p1.4c                                            3.0   \n",
       "tg39_67029_1_1_2022_082-129_Kapitel2_DA 41.p1.4c              3.0   \n",
       "tg46_UP_002_003_MRZ23_UPSUBHMRZ_SU_AS002_NL_NL_...            3.0   \n",
       "CJ134_184185.p1.4c                                            4.0   \n",
       "HBZP_1_M_298.p1.4c                                            4.0   \n",
       "tg39_0017_20-1257_Part05_01_PGUE_GS_Premium_032...            2.0   \n",
       "tg39_0065_20-1257_Part07_03_PGUE_GS_Premium_032...            2.0   \n",
       "tg39_Katalog AT 2023_24_print_Innen 23.p1.4c                  2.0   \n",
       "tg42_20499 WWC+DE Katalog 11_2022_69.p1.4c                    3.0   \n",
       "tg45_009-488_Interieur_GW2021-2022_HD.p280.4c                 3.0   \n",
       "tg46_konv_693102_Top_03_BK_FS23_Suffix17_034_03...            3.0   \n",
       "tg39_0073_20-1257_Part07_03_PGUE_GS_Premium_032...            3.0   \n",
       "tg39_0071_20-1257_Part07_03_PGUE_GS_Premium_032...            3.0   \n",
       "CJ134_136137.p2.4c                                            3.0   \n",
       "HBZP_1_M_281.p1.4c                                            3.0   \n",
       "tg39_0024_20-1257_Part06_02_PGUE_GS_Premium_032...            3.0   \n",
       "CJ134_142143.p1.4c                                            3.0   \n",
       "CJ134_088089.p1.4c                                            3.0   \n",
       "tg39_Katalog AT 2023_24_print_Innen 32.p1.4c                  2.0   \n",
       "tg46_010_011_JUL23_UPHK_BLA_AS001_AT_DE_BASIS_B...            2.0   \n",
       "tg46_006_007_JUL23_UPHK_CA_AS011_AT_DE_BASIS_BI...            2.0   \n",
       "tg45_009-488_Interieur_GW2021-2022_HD.p252.4c                 1.0   \n",
       "tg45_009-488_Interieur_GW2021-2022_HD.p246.4c                 1.0   \n",
       "004_2023_017_0_138_0.p1.4c                                    1.0   \n",
       "\n",
       "                                                    checked_no_moire  \\\n",
       "image                                                                  \n",
       "HBZP_1_M_294.p1.4c                                               0.0   \n",
       "tg39_67029_1_1_2022_130-189_Kapitel3_DA.p18.4c                   3.0   \n",
       "tg45_009-488_Interieur_GW2021-2022_HD.p314.4c                    2.0   \n",
       "tg46_UP_006_007_MRZ23_UPSUBHMRZ_SU_AS004_DE_DE_...               1.0   \n",
       "tg46_024_025_JUL23_UPHK_CA_AS008_AT_DE_BASIS_BI...               3.0   \n",
       "tg39_0072_20-1257_Part07_03_PGUE_GS_Premium_032...               3.0   \n",
       "tg39_0067_20-1257_Part07_03_PGUE_GS_Premium_032...               3.0   \n",
       "tg39_1000__147WW.DE.WX005.AT.141_10-12_39L_300....               3.0   \n",
       "tg39_0059_20-1257_Part06_02_PGUE_GS_Premium_032...               3.0   \n",
       "tg39_0078_20-1257_Part07_03_PGUE_GS_Premium_032...               4.0   \n",
       "004_2023_017_0_111_0.p1.4c                                       4.0   \n",
       "tg39_o_vig_kat_2023_007_armaturen_v5_rz_ohne_pr...               5.0   \n",
       "tg39_0007_20-1257_Part05_01_PGUE_GS_Premium_032...               6.0   \n",
       "tg39_67029_1_1_2022_130-189_Kapitel3_DA.p15.4c                   4.0   \n",
       "tg45_009-488_Interieur_GW2021-2022_HD.p294.4c                    3.0   \n",
       "tg45_009-488_Interieur_GW2021-2022_HD.p269.4c                    3.0   \n",
       "tg46_020_021_JUL23_UPHK_CA_AS001_AT_DE_BASIS_BI...               1.0   \n",
       "004_2023_017_0_003_0.p1.4c                                       1.0   \n",
       "0129_O086_solv.p1.4c                                             1.0   \n",
       "tg45_009-488_Interieur_GW2021-2022_HD.p299.4c                    1.0   \n",
       "tg39_67029_1_1_2022_130-189_Kapitel3_DA.p7.4c                    6.0   \n",
       "tg39_o_vig_kat_2023_006_wc_bidet_urinal_v3_rz_o...               5.0   \n",
       "tg39_0028_20-1257_Part06_02_PGUE_GS_Premium_032...               5.0   \n",
       "tg46_134_135_JUL23_UPHK_WA_AS008_AT_DE_BASIS_BI...               5.0   \n",
       "tg42_20499 WWC+DE Katalog 11_2022_60.p1.4c                       4.0   \n",
       "tg46_konv_693102_Top_03_BK_FS23_Suffix17_006_00...               4.0   \n",
       "CJ134_124125.p1.4c                                               4.0   \n",
       "tg39_67029_1_1_2022_082-129_Kapitel2_DA 41.p1.4c                 4.0   \n",
       "tg46_UP_002_003_MRZ23_UPSUBHMRZ_SU_AS002_NL_NL_...               4.0   \n",
       "CJ134_184185.p1.4c                                               6.0   \n",
       "HBZP_1_M_298.p1.4c                                               6.0   \n",
       "tg39_0017_20-1257_Part05_01_PGUE_GS_Premium_032...               3.0   \n",
       "tg39_0065_20-1257_Part07_03_PGUE_GS_Premium_032...               3.0   \n",
       "tg39_Katalog AT 2023_24_print_Innen 23.p1.4c                     3.0   \n",
       "tg42_20499 WWC+DE Katalog 11_2022_69.p1.4c                       5.0   \n",
       "tg45_009-488_Interieur_GW2021-2022_HD.p280.4c                    5.0   \n",
       "tg46_konv_693102_Top_03_BK_FS23_Suffix17_034_03...               6.0   \n",
       "tg39_0073_20-1257_Part07_03_PGUE_GS_Premium_032...               6.0   \n",
       "tg39_0071_20-1257_Part07_03_PGUE_GS_Premium_032...               6.0   \n",
       "CJ134_136137.p2.4c                                               6.0   \n",
       "HBZP_1_M_281.p1.4c                                               6.0   \n",
       "tg39_0024_20-1257_Part06_02_PGUE_GS_Premium_032...               6.0   \n",
       "CJ134_142143.p1.4c                                               6.0   \n",
       "CJ134_088089.p1.4c                                               6.0   \n",
       "tg39_Katalog AT 2023_24_print_Innen 32.p1.4c                     4.0   \n",
       "tg46_010_011_JUL23_UPHK_BLA_AS001_AT_DE_BASIS_B...               4.0   \n",
       "tg46_006_007_JUL23_UPHK_CA_AS011_AT_DE_BASIS_BI...               4.0   \n",
       "tg45_009-488_Interieur_GW2021-2022_HD.p252.4c                    2.0   \n",
       "tg45_009-488_Interieur_GW2021-2022_HD.p246.4c                    2.0   \n",
       "004_2023_017_0_138_0.p1.4c                                       2.0   \n",
       "\n",
       "                                                    unchecked_moire  \\\n",
       "image                                                                 \n",
       "HBZP_1_M_294.p1.4c                                              0.0   \n",
       "tg39_67029_1_1_2022_130-189_Kapitel3_DA.p18.4c                  0.0   \n",
       "tg45_009-488_Interieur_GW2021-2022_HD.p314.4c                   0.0   \n",
       "tg46_UP_006_007_MRZ23_UPSUBHMRZ_SU_AS004_DE_DE_...              0.0   \n",
       "tg46_024_025_JUL23_UPHK_CA_AS008_AT_DE_BASIS_BI...              0.0   \n",
       "tg39_0072_20-1257_Part07_03_PGUE_GS_Premium_032...              0.0   \n",
       "tg39_0067_20-1257_Part07_03_PGUE_GS_Premium_032...              0.0   \n",
       "tg39_1000__147WW.DE.WX005.AT.141_10-12_39L_300....              0.0   \n",
       "tg39_0059_20-1257_Part06_02_PGUE_GS_Premium_032...              0.0   \n",
       "tg39_0078_20-1257_Part07_03_PGUE_GS_Premium_032...              0.0   \n",
       "004_2023_017_0_111_0.p1.4c                                      0.0   \n",
       "tg39_o_vig_kat_2023_007_armaturen_v5_rz_ohne_pr...              0.0   \n",
       "tg39_0007_20-1257_Part05_01_PGUE_GS_Premium_032...              0.0   \n",
       "tg39_67029_1_1_2022_130-189_Kapitel3_DA.p15.4c                  0.0   \n",
       "tg45_009-488_Interieur_GW2021-2022_HD.p294.4c                   0.0   \n",
       "tg45_009-488_Interieur_GW2021-2022_HD.p269.4c                   0.0   \n",
       "tg46_020_021_JUL23_UPHK_CA_AS001_AT_DE_BASIS_BI...              0.0   \n",
       "004_2023_017_0_003_0.p1.4c                                      0.0   \n",
       "0129_O086_solv.p1.4c                                            0.0   \n",
       "tg45_009-488_Interieur_GW2021-2022_HD.p299.4c                   0.0   \n",
       "tg39_67029_1_1_2022_130-189_Kapitel3_DA.p7.4c                   0.0   \n",
       "tg39_o_vig_kat_2023_006_wc_bidet_urinal_v3_rz_o...              0.0   \n",
       "tg39_0028_20-1257_Part06_02_PGUE_GS_Premium_032...              0.0   \n",
       "tg46_134_135_JUL23_UPHK_WA_AS008_AT_DE_BASIS_BI...              0.0   \n",
       "tg42_20499 WWC+DE Katalog 11_2022_60.p1.4c                      8.0   \n",
       "tg46_konv_693102_Top_03_BK_FS23_Suffix17_006_00...              0.0   \n",
       "CJ134_124125.p1.4c                                              0.0   \n",
       "tg39_67029_1_1_2022_082-129_Kapitel2_DA 41.p1.4c                0.0   \n",
       "tg46_UP_002_003_MRZ23_UPSUBHMRZ_SU_AS002_NL_NL_...              0.0   \n",
       "CJ134_184185.p1.4c                                              0.0   \n",
       "HBZP_1_M_298.p1.4c                                              0.0   \n",
       "tg39_0017_20-1257_Part05_01_PGUE_GS_Premium_032...              0.0   \n",
       "tg39_0065_20-1257_Part07_03_PGUE_GS_Premium_032...              0.0   \n",
       "tg39_Katalog AT 2023_24_print_Innen 23.p1.4c                    0.0   \n",
       "tg42_20499 WWC+DE Katalog 11_2022_69.p1.4c                      8.0   \n",
       "tg45_009-488_Interieur_GW2021-2022_HD.p280.4c                   0.0   \n",
       "tg46_konv_693102_Top_03_BK_FS23_Suffix17_034_03...              0.0   \n",
       "tg39_0073_20-1257_Part07_03_PGUE_GS_Premium_032...              0.0   \n",
       "tg39_0071_20-1257_Part07_03_PGUE_GS_Premium_032...              0.0   \n",
       "CJ134_136137.p2.4c                                              0.0   \n",
       "HBZP_1_M_281.p1.4c                                              0.0   \n",
       "tg39_0024_20-1257_Part06_02_PGUE_GS_Premium_032...              0.0   \n",
       "CJ134_142143.p1.4c                                              0.0   \n",
       "CJ134_088089.p1.4c                                              0.0   \n",
       "tg39_Katalog AT 2023_24_print_Innen 32.p1.4c                    0.0   \n",
       "tg46_010_011_JUL23_UPHK_BLA_AS001_AT_DE_BASIS_B...              0.0   \n",
       "tg46_006_007_JUL23_UPHK_CA_AS011_AT_DE_BASIS_BI...              0.0   \n",
       "tg45_009-488_Interieur_GW2021-2022_HD.p252.4c                   0.0   \n",
       "tg45_009-488_Interieur_GW2021-2022_HD.p246.4c                   0.0   \n",
       "004_2023_017_0_138_0.p1.4c                                      0.0   \n",
       "\n",
       "                                                    total_tiles  moire_rate  \n",
       "image                                                                        \n",
       "HBZP_1_M_294.p1.4c                                          1.0    1.000000  \n",
       "tg39_67029_1_1_2022_130-189_Kapitel3_DA.p18.4c              9.0    0.666667  \n",
       "tg45_009-488_Interieur_GW2021-2022_HD.p314.4c               6.0    0.666667  \n",
       "tg46_UP_006_007_MRZ23_UPSUBHMRZ_SU_AS004_DE_DE_...          3.0    0.666667  \n",
       "tg46_024_025_JUL23_UPHK_CA_AS008_AT_DE_BASIS_BI...          8.0    0.625000  \n",
       "tg39_0072_20-1257_Part07_03_PGUE_GS_Premium_032...          8.0    0.625000  \n",
       "tg39_0067_20-1257_Part07_03_PGUE_GS_Premium_032...          8.0    0.625000  \n",
       "tg39_1000__147WW.DE.WX005.AT.141_10-12_39L_300....          7.0    0.571429  \n",
       "tg39_0059_20-1257_Part06_02_PGUE_GS_Premium_032...          7.0    0.571429  \n",
       "tg39_0078_20-1257_Part07_03_PGUE_GS_Premium_032...          9.0    0.555556  \n",
       "004_2023_017_0_111_0.p1.4c                                  9.0    0.555556  \n",
       "tg39_o_vig_kat_2023_007_armaturen_v5_rz_ohne_pr...         11.0    0.545455  \n",
       "tg39_0007_20-1257_Part05_01_PGUE_GS_Premium_032...         13.0    0.538462  \n",
       "tg39_67029_1_1_2022_130-189_Kapitel3_DA.p15.4c              8.0    0.500000  \n",
       "tg45_009-488_Interieur_GW2021-2022_HD.p294.4c               6.0    0.500000  \n",
       "tg45_009-488_Interieur_GW2021-2022_HD.p269.4c               6.0    0.500000  \n",
       "tg46_020_021_JUL23_UPHK_CA_AS001_AT_DE_BASIS_BI...          2.0    0.500000  \n",
       "004_2023_017_0_003_0.p1.4c                                  2.0    0.500000  \n",
       "0129_O086_solv.p1.4c                                        2.0    0.500000  \n",
       "tg45_009-488_Interieur_GW2021-2022_HD.p299.4c               2.0    0.500000  \n",
       "tg39_67029_1_1_2022_130-189_Kapitel3_DA.p7.4c              11.0    0.454545  \n",
       "tg39_o_vig_kat_2023_006_wc_bidet_urinal_v3_rz_o...          9.0    0.444444  \n",
       "tg39_0028_20-1257_Part06_02_PGUE_GS_Premium_032...          9.0    0.444444  \n",
       "tg46_134_135_JUL23_UPHK_WA_AS008_AT_DE_BASIS_BI...          9.0    0.444444  \n",
       "tg42_20499 WWC+DE Katalog 11_2022_60.p1.4c                  7.0    0.428571  \n",
       "tg46_konv_693102_Top_03_BK_FS23_Suffix17_006_00...          7.0    0.428571  \n",
       "CJ134_124125.p1.4c                                          7.0    0.428571  \n",
       "tg39_67029_1_1_2022_082-129_Kapitel2_DA 41.p1.4c            7.0    0.428571  \n",
       "tg46_UP_002_003_MRZ23_UPSUBHMRZ_SU_AS002_NL_NL_...          7.0    0.428571  \n",
       "CJ134_184185.p1.4c                                         10.0    0.400000  \n",
       "HBZP_1_M_298.p1.4c                                         10.0    0.400000  \n",
       "tg39_0017_20-1257_Part05_01_PGUE_GS_Premium_032...          5.0    0.400000  \n",
       "tg39_0065_20-1257_Part07_03_PGUE_GS_Premium_032...          5.0    0.400000  \n",
       "tg39_Katalog AT 2023_24_print_Innen 23.p1.4c                5.0    0.400000  \n",
       "tg42_20499 WWC+DE Katalog 11_2022_69.p1.4c                  8.0    0.375000  \n",
       "tg45_009-488_Interieur_GW2021-2022_HD.p280.4c               8.0    0.375000  \n",
       "tg46_konv_693102_Top_03_BK_FS23_Suffix17_034_03...          9.0    0.333333  \n",
       "tg39_0073_20-1257_Part07_03_PGUE_GS_Premium_032...          9.0    0.333333  \n",
       "tg39_0071_20-1257_Part07_03_PGUE_GS_Premium_032...          9.0    0.333333  \n",
       "CJ134_136137.p2.4c                                          9.0    0.333333  \n",
       "HBZP_1_M_281.p1.4c                                          9.0    0.333333  \n",
       "tg39_0024_20-1257_Part06_02_PGUE_GS_Premium_032...          9.0    0.333333  \n",
       "CJ134_142143.p1.4c                                          9.0    0.333333  \n",
       "CJ134_088089.p1.4c                                          9.0    0.333333  \n",
       "tg39_Katalog AT 2023_24_print_Innen 32.p1.4c                6.0    0.333333  \n",
       "tg46_010_011_JUL23_UPHK_BLA_AS001_AT_DE_BASIS_B...          6.0    0.333333  \n",
       "tg46_006_007_JUL23_UPHK_CA_AS011_AT_DE_BASIS_BI...          6.0    0.333333  \n",
       "tg45_009-488_Interieur_GW2021-2022_HD.p252.4c               3.0    0.333333  \n",
       "tg45_009-488_Interieur_GW2021-2022_HD.p246.4c               3.0    0.333333  \n",
       "004_2023_017_0_138_0.p1.4c                                  3.0    0.333333  "
      ]
     },
     "execution_count": 19,
     "metadata": {},
     "output_type": "execute_result"
    }
   ],
   "source": [
    "grouped_by_image.sort_values(['moire_rate','total_tiles'], ascending=[False,False]).iloc[:50]"
   ]
  },
  {
   "cell_type": "code",
   "execution_count": 20,
   "id": "13bcd087-f0bf-418c-b465-7e58cada9320",
   "metadata": {},
   "outputs": [
    {
     "data": {
      "text/plain": [
       "6.0     45\n",
       "0.0     40\n",
       "1.0     38\n",
       "4.0     36\n",
       "5.0     32\n",
       "10.0    30\n",
       "8.0     24\n",
       "3.0     23\n",
       "9.0     23\n",
       "2.0     16\n",
       "7.0     15\n",
       "13.0     5\n",
       "17.0     5\n",
       "18.0     4\n",
       "16.0     4\n",
       "15.0     4\n",
       "14.0     4\n",
       "11.0     3\n",
       "12.0     2\n",
       "20.0     2\n",
       "30.0     1\n",
       "23.0     1\n",
       "19.0     1\n",
       "22.0     1\n",
       "Name: checked_no_moire, dtype: int64"
      ]
     },
     "execution_count": 20,
     "metadata": {},
     "output_type": "execute_result"
    }
   ],
   "source": [
    "grouped_by_image.checked_no_moire.value_counts()"
   ]
  },
  {
   "cell_type": "code",
   "execution_count": 21,
   "id": "ea6f973f-4f67-44f5-8afd-3ebd86381f51",
   "metadata": {},
   "outputs": [
    {
     "data": {
      "text/html": [
       "<div>\n",
       "<style scoped>\n",
       "    .dataframe tbody tr th:only-of-type {\n",
       "        vertical-align: middle;\n",
       "    }\n",
       "\n",
       "    .dataframe tbody tr th {\n",
       "        vertical-align: top;\n",
       "    }\n",
       "\n",
       "    .dataframe thead th {\n",
       "        text-align: right;\n",
       "    }\n",
       "</style>\n",
       "<table border=\"1\" class=\"dataframe\">\n",
       "  <thead>\n",
       "    <tr style=\"text-align: right;\">\n",
       "      <th></th>\n",
       "      <th>checked_moire</th>\n",
       "      <th>checked_no_moire</th>\n",
       "      <th>unchecked_moire</th>\n",
       "      <th>total_tiles</th>\n",
       "      <th>moire_rate</th>\n",
       "    </tr>\n",
       "    <tr>\n",
       "      <th>image</th>\n",
       "      <th></th>\n",
       "      <th></th>\n",
       "      <th></th>\n",
       "      <th></th>\n",
       "      <th></th>\n",
       "    </tr>\n",
       "  </thead>\n",
       "  <tbody>\n",
       "    <tr>\n",
       "      <th>CJ134_018019.p2.4c</th>\n",
       "      <td>0.0</td>\n",
       "      <td>30.0</td>\n",
       "      <td>0.0</td>\n",
       "      <td>30.0</td>\n",
       "      <td>0.0</td>\n",
       "    </tr>\n",
       "    <tr>\n",
       "      <th>tg45_009-488_Interieur_GW2021-2022_HD.p282.4c</th>\n",
       "      <td>0.0</td>\n",
       "      <td>5.0</td>\n",
       "      <td>0.0</td>\n",
       "      <td>5.0</td>\n",
       "      <td>0.0</td>\n",
       "    </tr>\n",
       "    <tr>\n",
       "      <th>CJ134_132133.p1.4c</th>\n",
       "      <td>0.0</td>\n",
       "      <td>5.0</td>\n",
       "      <td>0.0</td>\n",
       "      <td>5.0</td>\n",
       "      <td>0.0</td>\n",
       "    </tr>\n",
       "    <tr>\n",
       "      <th>004_2023_017_0_108_0.p1.4c</th>\n",
       "      <td>0.0</td>\n",
       "      <td>5.0</td>\n",
       "      <td>0.0</td>\n",
       "      <td>5.0</td>\n",
       "      <td>0.0</td>\n",
       "    </tr>\n",
       "    <tr>\n",
       "      <th>tg39_Katalog AT 2023_24_print_Innen 63.p1.4c</th>\n",
       "      <td>0.0</td>\n",
       "      <td>4.0</td>\n",
       "      <td>0.0</td>\n",
       "      <td>4.0</td>\n",
       "      <td>0.0</td>\n",
       "    </tr>\n",
       "    <tr>\n",
       "      <th>...</th>\n",
       "      <td>...</td>\n",
       "      <td>...</td>\n",
       "      <td>...</td>\n",
       "      <td>...</td>\n",
       "      <td>...</td>\n",
       "    </tr>\n",
       "    <tr>\n",
       "      <th>tg42_20499 WWC+DE Katalog 11_2022_61.p1.4c</th>\n",
       "      <td>0.0</td>\n",
       "      <td>0.0</td>\n",
       "      <td>5.0</td>\n",
       "      <td>0.0</td>\n",
       "      <td>NaN</td>\n",
       "    </tr>\n",
       "    <tr>\n",
       "      <th>tg46_120_121_JUL23_UPHK_WA_AS001_AT_DE_BASIS_BILD_002.p1.4c</th>\n",
       "      <td>0.0</td>\n",
       "      <td>0.0</td>\n",
       "      <td>5.0</td>\n",
       "      <td>0.0</td>\n",
       "      <td>NaN</td>\n",
       "    </tr>\n",
       "    <tr>\n",
       "      <th>tg45_000_INM0323_DE_MEN_KERN_TAUSCH_kor1.p49.4c</th>\n",
       "      <td>0.0</td>\n",
       "      <td>0.0</td>\n",
       "      <td>5.0</td>\n",
       "      <td>0.0</td>\n",
       "      <td>NaN</td>\n",
       "    </tr>\n",
       "    <tr>\n",
       "      <th>tg45_009-488_Interieur_GW2021-2022_HD.p318.4c</th>\n",
       "      <td>0.0</td>\n",
       "      <td>0.0</td>\n",
       "      <td>4.0</td>\n",
       "      <td>0.0</td>\n",
       "      <td>NaN</td>\n",
       "    </tr>\n",
       "    <tr>\n",
       "      <th>tg39_p1900_U06_804-914.00TIS-932SA.48DE_TES.p1.4c</th>\n",
       "      <td>0.0</td>\n",
       "      <td>0.0</td>\n",
       "      <td>1.0</td>\n",
       "      <td>0.0</td>\n",
       "      <td>NaN</td>\n",
       "    </tr>\n",
       "  </tbody>\n",
       "</table>\n",
       "<p>359 rows × 5 columns</p>\n",
       "</div>"
      ],
      "text/plain": [
       "                                                    checked_moire  \\\n",
       "image                                                               \n",
       "CJ134_018019.p2.4c                                            0.0   \n",
       "tg45_009-488_Interieur_GW2021-2022_HD.p282.4c                 0.0   \n",
       "CJ134_132133.p1.4c                                            0.0   \n",
       "004_2023_017_0_108_0.p1.4c                                    0.0   \n",
       "tg39_Katalog AT 2023_24_print_Innen 63.p1.4c                  0.0   \n",
       "...                                                           ...   \n",
       "tg42_20499 WWC+DE Katalog 11_2022_61.p1.4c                    0.0   \n",
       "tg46_120_121_JUL23_UPHK_WA_AS001_AT_DE_BASIS_BI...            0.0   \n",
       "tg45_000_INM0323_DE_MEN_KERN_TAUSCH_kor1.p49.4c               0.0   \n",
       "tg45_009-488_Interieur_GW2021-2022_HD.p318.4c                 0.0   \n",
       "tg39_p1900_U06_804-914.00TIS-932SA.48DE_TES.p1.4c             0.0   \n",
       "\n",
       "                                                    checked_no_moire  \\\n",
       "image                                                                  \n",
       "CJ134_018019.p2.4c                                              30.0   \n",
       "tg45_009-488_Interieur_GW2021-2022_HD.p282.4c                    5.0   \n",
       "CJ134_132133.p1.4c                                               5.0   \n",
       "004_2023_017_0_108_0.p1.4c                                       5.0   \n",
       "tg39_Katalog AT 2023_24_print_Innen 63.p1.4c                     4.0   \n",
       "...                                                              ...   \n",
       "tg42_20499 WWC+DE Katalog 11_2022_61.p1.4c                       0.0   \n",
       "tg46_120_121_JUL23_UPHK_WA_AS001_AT_DE_BASIS_BI...               0.0   \n",
       "tg45_000_INM0323_DE_MEN_KERN_TAUSCH_kor1.p49.4c                  0.0   \n",
       "tg45_009-488_Interieur_GW2021-2022_HD.p318.4c                    0.0   \n",
       "tg39_p1900_U06_804-914.00TIS-932SA.48DE_TES.p1.4c                0.0   \n",
       "\n",
       "                                                    unchecked_moire  \\\n",
       "image                                                                 \n",
       "CJ134_018019.p2.4c                                              0.0   \n",
       "tg45_009-488_Interieur_GW2021-2022_HD.p282.4c                   0.0   \n",
       "CJ134_132133.p1.4c                                              0.0   \n",
       "004_2023_017_0_108_0.p1.4c                                      0.0   \n",
       "tg39_Katalog AT 2023_24_print_Innen 63.p1.4c                    0.0   \n",
       "...                                                             ...   \n",
       "tg42_20499 WWC+DE Katalog 11_2022_61.p1.4c                      5.0   \n",
       "tg46_120_121_JUL23_UPHK_WA_AS001_AT_DE_BASIS_BI...              5.0   \n",
       "tg45_000_INM0323_DE_MEN_KERN_TAUSCH_kor1.p49.4c                 5.0   \n",
       "tg45_009-488_Interieur_GW2021-2022_HD.p318.4c                   4.0   \n",
       "tg39_p1900_U06_804-914.00TIS-932SA.48DE_TES.p1.4c               1.0   \n",
       "\n",
       "                                                    total_tiles  moire_rate  \n",
       "image                                                                        \n",
       "CJ134_018019.p2.4c                                         30.0         0.0  \n",
       "tg45_009-488_Interieur_GW2021-2022_HD.p282.4c               5.0         0.0  \n",
       "CJ134_132133.p1.4c                                          5.0         0.0  \n",
       "004_2023_017_0_108_0.p1.4c                                  5.0         0.0  \n",
       "tg39_Katalog AT 2023_24_print_Innen 63.p1.4c                4.0         0.0  \n",
       "...                                                         ...         ...  \n",
       "tg42_20499 WWC+DE Katalog 11_2022_61.p1.4c                  0.0         NaN  \n",
       "tg46_120_121_JUL23_UPHK_WA_AS001_AT_DE_BASIS_BI...          0.0         NaN  \n",
       "tg45_000_INM0323_DE_MEN_KERN_TAUSCH_kor1.p49.4c             0.0         NaN  \n",
       "tg45_009-488_Interieur_GW2021-2022_HD.p318.4c               0.0         NaN  \n",
       "tg39_p1900_U06_804-914.00TIS-932SA.48DE_TES.p1.4c           0.0         NaN  \n",
       "\n",
       "[359 rows x 5 columns]"
      ]
     },
     "execution_count": 21,
     "metadata": {},
     "output_type": "execute_result"
    }
   ],
   "source": [
    "grouped_by_image.sort_values('moire_rate')"
   ]
  },
  {
   "cell_type": "markdown",
   "id": "0de82df6-fffa-4ea6-a43f-243db997412e",
   "metadata": {},
   "source": [
    "# Auswertung nach Zeitstempel"
   ]
  },
  {
   "cell_type": "code",
   "execution_count": 44,
   "id": "c2fc9389-e5c6-4362-b2df-b455d86242f2",
   "metadata": {},
   "outputs": [],
   "source": [
    "grouped_by_timestamp = df.loc[\n",
    "    :,\n",
    "    ['creation_date','label','img_path']\n",
    "].groupby(['creation_date','label']).count().sort_values('img_path', ascending=False).unstack('label').fillna(0)\n",
    "\n",
    "grouped_by_timestamp.columns = [c[1] for c in grouped_by_timestamp.columns]\n",
    "grouped_by_timestamp.loc[\n",
    "    :,\n",
    "    'total_tiles'\n",
    "] = grouped_by_timestamp.checked_moire + grouped_by_timestamp.checked_no_moire\n",
    "\n",
    "grouped_by_timestamp.loc[\n",
    "    :,\n",
    "    'moire_rate'\n",
    "] = grouped_by_timestamp.checked_moire / (grouped_by_timestamp.checked_moire + grouped_by_timestamp.checked_no_moire)"
   ]
  },
  {
   "cell_type": "code",
   "execution_count": 51,
   "id": "484af010-1fdd-4c8d-98ec-9b6da126b291",
   "metadata": {},
   "outputs": [
    {
     "data": {
      "application/vnd.plotly.v1+json": {
       "config": {
        "plotlyServerURL": "https://plot.ly"
       },
       "data": [
        {
         "hovertemplate": "variable=moire_rate<br>creation_date=%{x}<br>value=%{y}<extra></extra>",
         "legendgroup": "moire_rate",
         "marker": {
          "color": "#636efa",
          "symbol": "circle"
         },
         "mode": "markers",
         "name": "moire_rate",
         "orientation": "v",
         "showlegend": true,
         "type": "scatter",
         "x": [
          "2024-01-06T14:16:10",
          "2024-01-06T14:28:28",
          "2024-01-06T15:01:05",
          "2024-01-06T17:35:05",
          "2024-01-08T12:48:12",
          "2024-01-08T18:18:54",
          "2024-01-08T21:13:20",
          "2024-01-08T21:30:46",
          "2024-01-09T10:27:41",
          "2024-01-09T13:09:34",
          "2024-01-09T21:31:00",
          "2024-01-14T15:37:48",
          "2024-01-17T10:41:38",
          "2024-01-17T16:40:07",
          "2024-01-17T18:58:42",
          "2024-01-18T00:06:14",
          "2024-01-18T15:39:52",
          "2024-01-18T18:47:29",
          "2024-01-18T19:10:50",
          "2024-01-18T19:55:21",
          "2024-01-19T19:22:01"
         ],
         "xaxis": "x",
         "y": [
          0.06493506493506493,
          0.08450704225352113,
          0.09574468085106383,
          0.05925925925925926,
          0.08264462809917356,
          0,
          0,
          0,
          0.043478260869565216,
          0.2857142857142857,
          0.4444444444444444,
          0.18181818181818182,
          0.17721518987341772,
          0.18357487922705315,
          0.15354330708661418,
          0.13592233009708737,
          0.16774193548387098,
          0.25,
          0.35714285714285715,
          0.2,
          0.26037735849056604
         ],
         "yaxis": "y"
        },
        {
         "hovertemplate": "<b>OLS trendline</b><br>value = 1.34155e-07 * creation_date + -228.593<br>R<sup>2</sup>=0.257096<br><br>variable=moire_rate<br>creation_date=%{x}<br>value=%{y} <b>(trend)</b><extra></extra>",
         "legendgroup": "moire_rate",
         "marker": {
          "color": "#636efa",
          "symbol": "circle"
         },
         "mode": "lines",
         "name": "moire_rate",
         "showlegend": false,
         "type": "scatter",
         "x": [
          "2024-01-06T14:16:10",
          "2024-01-06T14:28:28",
          "2024-01-06T15:01:05",
          "2024-01-06T17:35:05",
          "2024-01-08T12:48:12",
          "2024-01-08T18:18:54",
          "2024-01-08T21:13:20",
          "2024-01-08T21:30:46",
          "2024-01-09T10:27:41",
          "2024-01-09T13:09:34",
          "2024-01-09T21:31:00",
          "2024-01-14T15:37:48",
          "2024-01-17T10:41:38",
          "2024-01-17T16:40:07",
          "2024-01-17T18:58:42",
          "2024-01-18T00:06:14",
          "2024-01-18T15:39:52",
          "2024-01-18T18:47:29",
          "2024-01-18T19:10:50",
          "2024-01-18T19:55:21",
          "2024-01-19T19:22:01"
         ],
         "xaxis": "x",
         "y": [
          0.08059109055223058,
          0.08069009688064481,
          0.08095263805233405,
          0.08219222948126022,
          0.10306499048259535,
          0.1057268923367894,
          0.10713095769340644,
          0.10727128373611822,
          0.11352491517111751,
          0.11482796187557205,
          0.11886414669490894,
          0.1739760596531669,
          0.20636508115594243,
          0.20925061925602612,
          0.21036611738714311,
          0.21284154390733204,
          0.22035663402265526,
          0.22186681591826368,
          0.22205476695635087,
          0.22241309473845713,
          0.23373576969531526
         ],
         "yaxis": "y"
        }
       ],
       "layout": {
        "autosize": true,
        "legend": {
         "title": {
          "text": "variable"
         },
         "tracegroupgap": 0
        },
        "margin": {
         "t": 60
        },
        "template": {
         "data": {
          "bar": [
           {
            "error_x": {
             "color": "#2a3f5f"
            },
            "error_y": {
             "color": "#2a3f5f"
            },
            "marker": {
             "line": {
              "color": "#E5ECF6",
              "width": 0.5
             },
             "pattern": {
              "fillmode": "overlay",
              "size": 10,
              "solidity": 0.2
             }
            },
            "type": "bar"
           }
          ],
          "barpolar": [
           {
            "marker": {
             "line": {
              "color": "#E5ECF6",
              "width": 0.5
             },
             "pattern": {
              "fillmode": "overlay",
              "size": 10,
              "solidity": 0.2
             }
            },
            "type": "barpolar"
           }
          ],
          "carpet": [
           {
            "aaxis": {
             "endlinecolor": "#2a3f5f",
             "gridcolor": "white",
             "linecolor": "white",
             "minorgridcolor": "white",
             "startlinecolor": "#2a3f5f"
            },
            "baxis": {
             "endlinecolor": "#2a3f5f",
             "gridcolor": "white",
             "linecolor": "white",
             "minorgridcolor": "white",
             "startlinecolor": "#2a3f5f"
            },
            "type": "carpet"
           }
          ],
          "choropleth": [
           {
            "colorbar": {
             "outlinewidth": 0,
             "ticks": ""
            },
            "type": "choropleth"
           }
          ],
          "contour": [
           {
            "colorbar": {
             "outlinewidth": 0,
             "ticks": ""
            },
            "colorscale": [
             [
              0,
              "#0d0887"
             ],
             [
              0.1111111111111111,
              "#46039f"
             ],
             [
              0.2222222222222222,
              "#7201a8"
             ],
             [
              0.3333333333333333,
              "#9c179e"
             ],
             [
              0.4444444444444444,
              "#bd3786"
             ],
             [
              0.5555555555555556,
              "#d8576b"
             ],
             [
              0.6666666666666666,
              "#ed7953"
             ],
             [
              0.7777777777777778,
              "#fb9f3a"
             ],
             [
              0.8888888888888888,
              "#fdca26"
             ],
             [
              1,
              "#f0f921"
             ]
            ],
            "type": "contour"
           }
          ],
          "contourcarpet": [
           {
            "colorbar": {
             "outlinewidth": 0,
             "ticks": ""
            },
            "type": "contourcarpet"
           }
          ],
          "heatmap": [
           {
            "colorbar": {
             "outlinewidth": 0,
             "ticks": ""
            },
            "colorscale": [
             [
              0,
              "#0d0887"
             ],
             [
              0.1111111111111111,
              "#46039f"
             ],
             [
              0.2222222222222222,
              "#7201a8"
             ],
             [
              0.3333333333333333,
              "#9c179e"
             ],
             [
              0.4444444444444444,
              "#bd3786"
             ],
             [
              0.5555555555555556,
              "#d8576b"
             ],
             [
              0.6666666666666666,
              "#ed7953"
             ],
             [
              0.7777777777777778,
              "#fb9f3a"
             ],
             [
              0.8888888888888888,
              "#fdca26"
             ],
             [
              1,
              "#f0f921"
             ]
            ],
            "type": "heatmap"
           }
          ],
          "heatmapgl": [
           {
            "colorbar": {
             "outlinewidth": 0,
             "ticks": ""
            },
            "colorscale": [
             [
              0,
              "#0d0887"
             ],
             [
              0.1111111111111111,
              "#46039f"
             ],
             [
              0.2222222222222222,
              "#7201a8"
             ],
             [
              0.3333333333333333,
              "#9c179e"
             ],
             [
              0.4444444444444444,
              "#bd3786"
             ],
             [
              0.5555555555555556,
              "#d8576b"
             ],
             [
              0.6666666666666666,
              "#ed7953"
             ],
             [
              0.7777777777777778,
              "#fb9f3a"
             ],
             [
              0.8888888888888888,
              "#fdca26"
             ],
             [
              1,
              "#f0f921"
             ]
            ],
            "type": "heatmapgl"
           }
          ],
          "histogram": [
           {
            "marker": {
             "pattern": {
              "fillmode": "overlay",
              "size": 10,
              "solidity": 0.2
             }
            },
            "type": "histogram"
           }
          ],
          "histogram2d": [
           {
            "colorbar": {
             "outlinewidth": 0,
             "ticks": ""
            },
            "colorscale": [
             [
              0,
              "#0d0887"
             ],
             [
              0.1111111111111111,
              "#46039f"
             ],
             [
              0.2222222222222222,
              "#7201a8"
             ],
             [
              0.3333333333333333,
              "#9c179e"
             ],
             [
              0.4444444444444444,
              "#bd3786"
             ],
             [
              0.5555555555555556,
              "#d8576b"
             ],
             [
              0.6666666666666666,
              "#ed7953"
             ],
             [
              0.7777777777777778,
              "#fb9f3a"
             ],
             [
              0.8888888888888888,
              "#fdca26"
             ],
             [
              1,
              "#f0f921"
             ]
            ],
            "type": "histogram2d"
           }
          ],
          "histogram2dcontour": [
           {
            "colorbar": {
             "outlinewidth": 0,
             "ticks": ""
            },
            "colorscale": [
             [
              0,
              "#0d0887"
             ],
             [
              0.1111111111111111,
              "#46039f"
             ],
             [
              0.2222222222222222,
              "#7201a8"
             ],
             [
              0.3333333333333333,
              "#9c179e"
             ],
             [
              0.4444444444444444,
              "#bd3786"
             ],
             [
              0.5555555555555556,
              "#d8576b"
             ],
             [
              0.6666666666666666,
              "#ed7953"
             ],
             [
              0.7777777777777778,
              "#fb9f3a"
             ],
             [
              0.8888888888888888,
              "#fdca26"
             ],
             [
              1,
              "#f0f921"
             ]
            ],
            "type": "histogram2dcontour"
           }
          ],
          "mesh3d": [
           {
            "colorbar": {
             "outlinewidth": 0,
             "ticks": ""
            },
            "type": "mesh3d"
           }
          ],
          "parcoords": [
           {
            "line": {
             "colorbar": {
              "outlinewidth": 0,
              "ticks": ""
             }
            },
            "type": "parcoords"
           }
          ],
          "pie": [
           {
            "automargin": true,
            "type": "pie"
           }
          ],
          "scatter": [
           {
            "fillpattern": {
             "fillmode": "overlay",
             "size": 10,
             "solidity": 0.2
            },
            "type": "scatter"
           }
          ],
          "scatter3d": [
           {
            "line": {
             "colorbar": {
              "outlinewidth": 0,
              "ticks": ""
             }
            },
            "marker": {
             "colorbar": {
              "outlinewidth": 0,
              "ticks": ""
             }
            },
            "type": "scatter3d"
           }
          ],
          "scattercarpet": [
           {
            "marker": {
             "colorbar": {
              "outlinewidth": 0,
              "ticks": ""
             }
            },
            "type": "scattercarpet"
           }
          ],
          "scattergeo": [
           {
            "marker": {
             "colorbar": {
              "outlinewidth": 0,
              "ticks": ""
             }
            },
            "type": "scattergeo"
           }
          ],
          "scattergl": [
           {
            "marker": {
             "colorbar": {
              "outlinewidth": 0,
              "ticks": ""
             }
            },
            "type": "scattergl"
           }
          ],
          "scattermapbox": [
           {
            "marker": {
             "colorbar": {
              "outlinewidth": 0,
              "ticks": ""
             }
            },
            "type": "scattermapbox"
           }
          ],
          "scatterpolar": [
           {
            "marker": {
             "colorbar": {
              "outlinewidth": 0,
              "ticks": ""
             }
            },
            "type": "scatterpolar"
           }
          ],
          "scatterpolargl": [
           {
            "marker": {
             "colorbar": {
              "outlinewidth": 0,
              "ticks": ""
             }
            },
            "type": "scatterpolargl"
           }
          ],
          "scatterternary": [
           {
            "marker": {
             "colorbar": {
              "outlinewidth": 0,
              "ticks": ""
             }
            },
            "type": "scatterternary"
           }
          ],
          "surface": [
           {
            "colorbar": {
             "outlinewidth": 0,
             "ticks": ""
            },
            "colorscale": [
             [
              0,
              "#0d0887"
             ],
             [
              0.1111111111111111,
              "#46039f"
             ],
             [
              0.2222222222222222,
              "#7201a8"
             ],
             [
              0.3333333333333333,
              "#9c179e"
             ],
             [
              0.4444444444444444,
              "#bd3786"
             ],
             [
              0.5555555555555556,
              "#d8576b"
             ],
             [
              0.6666666666666666,
              "#ed7953"
             ],
             [
              0.7777777777777778,
              "#fb9f3a"
             ],
             [
              0.8888888888888888,
              "#fdca26"
             ],
             [
              1,
              "#f0f921"
             ]
            ],
            "type": "surface"
           }
          ],
          "table": [
           {
            "cells": {
             "fill": {
              "color": "#EBF0F8"
             },
             "line": {
              "color": "white"
             }
            },
            "header": {
             "fill": {
              "color": "#C8D4E3"
             },
             "line": {
              "color": "white"
             }
            },
            "type": "table"
           }
          ]
         },
         "layout": {
          "annotationdefaults": {
           "arrowcolor": "#2a3f5f",
           "arrowhead": 0,
           "arrowwidth": 1
          },
          "autotypenumbers": "strict",
          "coloraxis": {
           "colorbar": {
            "outlinewidth": 0,
            "ticks": ""
           }
          },
          "colorscale": {
           "diverging": [
            [
             0,
             "#8e0152"
            ],
            [
             0.1,
             "#c51b7d"
            ],
            [
             0.2,
             "#de77ae"
            ],
            [
             0.3,
             "#f1b6da"
            ],
            [
             0.4,
             "#fde0ef"
            ],
            [
             0.5,
             "#f7f7f7"
            ],
            [
             0.6,
             "#e6f5d0"
            ],
            [
             0.7,
             "#b8e186"
            ],
            [
             0.8,
             "#7fbc41"
            ],
            [
             0.9,
             "#4d9221"
            ],
            [
             1,
             "#276419"
            ]
           ],
           "sequential": [
            [
             0,
             "#0d0887"
            ],
            [
             0.1111111111111111,
             "#46039f"
            ],
            [
             0.2222222222222222,
             "#7201a8"
            ],
            [
             0.3333333333333333,
             "#9c179e"
            ],
            [
             0.4444444444444444,
             "#bd3786"
            ],
            [
             0.5555555555555556,
             "#d8576b"
            ],
            [
             0.6666666666666666,
             "#ed7953"
            ],
            [
             0.7777777777777778,
             "#fb9f3a"
            ],
            [
             0.8888888888888888,
             "#fdca26"
            ],
            [
             1,
             "#f0f921"
            ]
           ],
           "sequentialminus": [
            [
             0,
             "#0d0887"
            ],
            [
             0.1111111111111111,
             "#46039f"
            ],
            [
             0.2222222222222222,
             "#7201a8"
            ],
            [
             0.3333333333333333,
             "#9c179e"
            ],
            [
             0.4444444444444444,
             "#bd3786"
            ],
            [
             0.5555555555555556,
             "#d8576b"
            ],
            [
             0.6666666666666666,
             "#ed7953"
            ],
            [
             0.7777777777777778,
             "#fb9f3a"
            ],
            [
             0.8888888888888888,
             "#fdca26"
            ],
            [
             1,
             "#f0f921"
            ]
           ]
          },
          "colorway": [
           "#636efa",
           "#EF553B",
           "#00cc96",
           "#ab63fa",
           "#FFA15A",
           "#19d3f3",
           "#FF6692",
           "#B6E880",
           "#FF97FF",
           "#FECB52"
          ],
          "font": {
           "color": "#2a3f5f"
          },
          "geo": {
           "bgcolor": "white",
           "lakecolor": "white",
           "landcolor": "#E5ECF6",
           "showlakes": true,
           "showland": true,
           "subunitcolor": "white"
          },
          "hoverlabel": {
           "align": "left"
          },
          "hovermode": "closest",
          "mapbox": {
           "style": "light"
          },
          "paper_bgcolor": "white",
          "plot_bgcolor": "#E5ECF6",
          "polar": {
           "angularaxis": {
            "gridcolor": "white",
            "linecolor": "white",
            "ticks": ""
           },
           "bgcolor": "#E5ECF6",
           "radialaxis": {
            "gridcolor": "white",
            "linecolor": "white",
            "ticks": ""
           }
          },
          "scene": {
           "xaxis": {
            "backgroundcolor": "#E5ECF6",
            "gridcolor": "white",
            "gridwidth": 2,
            "linecolor": "white",
            "showbackground": true,
            "ticks": "",
            "zerolinecolor": "white"
           },
           "yaxis": {
            "backgroundcolor": "#E5ECF6",
            "gridcolor": "white",
            "gridwidth": 2,
            "linecolor": "white",
            "showbackground": true,
            "ticks": "",
            "zerolinecolor": "white"
           },
           "zaxis": {
            "backgroundcolor": "#E5ECF6",
            "gridcolor": "white",
            "gridwidth": 2,
            "linecolor": "white",
            "showbackground": true,
            "ticks": "",
            "zerolinecolor": "white"
           }
          },
          "shapedefaults": {
           "line": {
            "color": "#2a3f5f"
           }
          },
          "ternary": {
           "aaxis": {
            "gridcolor": "white",
            "linecolor": "white",
            "ticks": ""
           },
           "baxis": {
            "gridcolor": "white",
            "linecolor": "white",
            "ticks": ""
           },
           "bgcolor": "#E5ECF6",
           "caxis": {
            "gridcolor": "white",
            "linecolor": "white",
            "ticks": ""
           }
          },
          "title": {
           "x": 0.05
          },
          "xaxis": {
           "automargin": true,
           "gridcolor": "white",
           "linecolor": "white",
           "ticks": "",
           "title": {
            "standoff": 15
           },
           "zerolinecolor": "white",
           "zerolinewidth": 2
          },
          "yaxis": {
           "automargin": true,
           "gridcolor": "white",
           "linecolor": "white",
           "ticks": "",
           "title": {
            "standoff": 15
           },
           "zerolinecolor": "white",
           "zerolinewidth": 2
          }
         }
        },
        "xaxis": {
         "anchor": "y",
         "autorange": true,
         "domain": [
          0,
          1
         ],
         "range": [
          "2024-01-05 19:44:14.9533",
          "2024-01-20 13:53:56.0467"
         ],
         "title": {
          "text": "creation_date"
         },
         "type": "date"
        },
        "yaxis": {
         "anchor": "x",
         "autorange": true,
         "domain": [
          0,
          1
         ],
         "range": [
          -0.034412365121026536,
          0.47885680956547094
         ],
         "title": {
          "text": "value"
         },
         "type": "linear"
        }
       }
      },
      "image/png": "[encoded data removed]",
      "text/html": [
       "<div>                            <div id=\"def80fd3-8d94-46ee-9cdf-09dafa295112\" class=\"plotly-graph-div\" style=\"height:525px; width:100%;\"></div>            <script type=\"text/javascript\">                require([\"plotly\"], function(Plotly) {                    window.PLOTLYENV=window.PLOTLYENV || {};                                    if (document.getElementById(\"def80fd3-8d94-46ee-9cdf-09dafa295112\")) {                    Plotly.newPlot(                        \"def80fd3-8d94-46ee-9cdf-09dafa295112\",                        [{\"hovertemplate\":\"variable=moire_rate\\u003cbr\\u003ecreation_date=%{x}\\u003cbr\\u003evalue=%{y}\\u003cextra\\u003e\\u003c\\u002fextra\\u003e\",\"legendgroup\":\"moire_rate\",\"marker\":{\"color\":\"#636efa\",\"symbol\":\"circle\"},\"mode\":\"markers\",\"name\":\"moire_rate\",\"orientation\":\"v\",\"showlegend\":true,\"x\":[\"2024-01-06T14:16:10\",\"2024-01-06T14:28:28\",\"2024-01-06T15:01:05\",\"2024-01-06T17:35:05\",\"2024-01-08T12:48:12\",\"2024-01-08T18:18:54\",\"2024-01-08T21:13:20\",\"2024-01-08T21:30:46\",\"2024-01-09T10:27:41\",\"2024-01-09T13:09:34\",\"2024-01-09T21:31:00\",\"2024-01-14T15:37:48\",\"2024-01-17T10:41:38\",\"2024-01-17T16:40:07\",\"2024-01-17T18:58:42\",\"2024-01-18T00:06:14\",\"2024-01-18T15:39:52\",\"2024-01-18T18:47:29\",\"2024-01-18T19:10:50\",\"2024-01-18T19:55:21\",\"2024-01-19T19:22:01\"],\"xaxis\":\"x\",\"y\":[0.06493506493506493,0.08450704225352113,0.09574468085106383,0.05925925925925926,0.08264462809917356,0.0,0.0,0.0,0.043478260869565216,0.2857142857142857,0.4444444444444444,0.18181818181818182,0.17721518987341772,0.18357487922705315,0.15354330708661418,0.13592233009708737,0.16774193548387098,0.25,0.35714285714285715,0.2,0.26037735849056604],\"yaxis\":\"y\",\"type\":\"scatter\"},{\"hovertemplate\":\"\\u003cb\\u003eOLS trendline\\u003c\\u002fb\\u003e\\u003cbr\\u003evalue = 1.34155e-07 * creation_date + -228.593\\u003cbr\\u003eR\\u003csup\\u003e2\\u003c\\u002fsup\\u003e=0.257096\\u003cbr\\u003e\\u003cbr\\u003evariable=moire_rate\\u003cbr\\u003ecreation_date=%{x}\\u003cbr\\u003evalue=%{y} \\u003cb\\u003e(trend)\\u003c\\u002fb\\u003e\\u003cextra\\u003e\\u003c\\u002fextra\\u003e\",\"legendgroup\":\"moire_rate\",\"marker\":{\"color\":\"#636efa\",\"symbol\":\"circle\"},\"mode\":\"lines\",\"name\":\"moire_rate\",\"showlegend\":false,\"x\":[\"2024-01-06T14:16:10\",\"2024-01-06T14:28:28\",\"2024-01-06T15:01:05\",\"2024-01-06T17:35:05\",\"2024-01-08T12:48:12\",\"2024-01-08T18:18:54\",\"2024-01-08T21:13:20\",\"2024-01-08T21:30:46\",\"2024-01-09T10:27:41\",\"2024-01-09T13:09:34\",\"2024-01-09T21:31:00\",\"2024-01-14T15:37:48\",\"2024-01-17T10:41:38\",\"2024-01-17T16:40:07\",\"2024-01-17T18:58:42\",\"2024-01-18T00:06:14\",\"2024-01-18T15:39:52\",\"2024-01-18T18:47:29\",\"2024-01-18T19:10:50\",\"2024-01-18T19:55:21\",\"2024-01-19T19:22:01\"],\"xaxis\":\"x\",\"y\":[0.08059109055223058,0.08069009688064481,0.08095263805233405,0.08219222948126022,0.10306499048259535,0.1057268923367894,0.10713095769340644,0.10727128373611822,0.11352491517111751,0.11482796187557205,0.11886414669490894,0.1739760596531669,0.20636508115594243,0.20925061925602612,0.21036611738714311,0.21284154390733204,0.22035663402265526,0.22186681591826368,0.22205476695635087,0.22241309473845713,0.23373576969531526],\"yaxis\":\"y\",\"type\":\"scatter\"}],                        {\"template\":{\"data\":{\"histogram2dcontour\":[{\"type\":\"histogram2dcontour\",\"colorbar\":{\"outlinewidth\":0,\"ticks\":\"\"},\"colorscale\":[[0.0,\"#0d0887\"],[0.1111111111111111,\"#46039f\"],[0.2222222222222222,\"#7201a8\"],[0.3333333333333333,\"#9c179e\"],[0.4444444444444444,\"#bd3786\"],[0.5555555555555556,\"#d8576b\"],[0.6666666666666666,\"#ed7953\"],[0.7777777777777778,\"#fb9f3a\"],[0.8888888888888888,\"#fdca26\"],[1.0,\"#f0f921\"]]}],\"choropleth\":[{\"type\":\"choropleth\",\"colorbar\":{\"outlinewidth\":0,\"ticks\":\"\"}}],\"histogram2d\":[{\"type\":\"histogram2d\",\"colorbar\":{\"outlinewidth\":0,\"ticks\":\"\"},\"colorscale\":[[0.0,\"#0d0887\"],[0.1111111111111111,\"#46039f\"],[0.2222222222222222,\"#7201a8\"],[0.3333333333333333,\"#9c179e\"],[0.4444444444444444,\"#bd3786\"],[0.5555555555555556,\"#d8576b\"],[0.6666666666666666,\"#ed7953\"],[0.7777777777777778,\"#fb9f3a\"],[0.8888888888888888,\"#fdca26\"],[1.0,\"#f0f921\"]]}],\"heatmap\":[{\"type\":\"heatmap\",\"colorbar\":{\"outlinewidth\":0,\"ticks\":\"\"},\"colorscale\":[[0.0,\"#0d0887\"],[0.1111111111111111,\"#46039f\"],[0.2222222222222222,\"#7201a8\"],[0.3333333333333333,\"#9c179e\"],[0.4444444444444444,\"#bd3786\"],[0.5555555555555556,\"#d8576b\"],[0.6666666666666666,\"#ed7953\"],[0.7777777777777778,\"#fb9f3a\"],[0.8888888888888888,\"#fdca26\"],[1.0,\"#f0f921\"]]}],\"heatmapgl\":[{\"type\":\"heatmapgl\",\"colorbar\":{\"outlinewidth\":0,\"ticks\":\"\"},\"colorscale\":[[0.0,\"#0d0887\"],[0.1111111111111111,\"#46039f\"],[0.2222222222222222,\"#7201a8\"],[0.3333333333333333,\"#9c179e\"],[0.4444444444444444,\"#bd3786\"],[0.5555555555555556,\"#d8576b\"],[0.6666666666666666,\"#ed7953\"],[0.7777777777777778,\"#fb9f3a\"],[0.8888888888888888,\"#fdca26\"],[1.0,\"#f0f921\"]]}],\"contourcarpet\":[{\"type\":\"contourcarpet\",\"colorbar\":{\"outlinewidth\":0,\"ticks\":\"\"}}],\"contour\":[{\"type\":\"contour\",\"colorbar\":{\"outlinewidth\":0,\"ticks\":\"\"},\"colorscale\":[[0.0,\"#0d0887\"],[0.1111111111111111,\"#46039f\"],[0.2222222222222222,\"#7201a8\"],[0.3333333333333333,\"#9c179e\"],[0.4444444444444444,\"#bd3786\"],[0.5555555555555556,\"#d8576b\"],[0.6666666666666666,\"#ed7953\"],[0.7777777777777778,\"#fb9f3a\"],[0.8888888888888888,\"#fdca26\"],[1.0,\"#f0f921\"]]}],\"surface\":[{\"type\":\"surface\",\"colorbar\":{\"outlinewidth\":0,\"ticks\":\"\"},\"colorscale\":[[0.0,\"#0d0887\"],[0.1111111111111111,\"#46039f\"],[0.2222222222222222,\"#7201a8\"],[0.3333333333333333,\"#9c179e\"],[0.4444444444444444,\"#bd3786\"],[0.5555555555555556,\"#d8576b\"],[0.6666666666666666,\"#ed7953\"],[0.7777777777777778,\"#fb9f3a\"],[0.8888888888888888,\"#fdca26\"],[1.0,\"#f0f921\"]]}],\"mesh3d\":[{\"type\":\"mesh3d\",\"colorbar\":{\"outlinewidth\":0,\"ticks\":\"\"}}],\"scatter\":[{\"fillpattern\":{\"fillmode\":\"overlay\",\"size\":10,\"solidity\":0.2},\"type\":\"scatter\"}],\"parcoords\":[{\"type\":\"parcoords\",\"line\":{\"colorbar\":{\"outlinewidth\":0,\"ticks\":\"\"}}}],\"scatterpolargl\":[{\"type\":\"scatterpolargl\",\"marker\":{\"colorbar\":{\"outlinewidth\":0,\"ticks\":\"\"}}}],\"bar\":[{\"error_x\":{\"color\":\"#2a3f5f\"},\"error_y\":{\"color\":\"#2a3f5f\"},\"marker\":{\"line\":{\"color\":\"#E5ECF6\",\"width\":0.5},\"pattern\":{\"fillmode\":\"overlay\",\"size\":10,\"solidity\":0.2}},\"type\":\"bar\"}],\"scattergeo\":[{\"type\":\"scattergeo\",\"marker\":{\"colorbar\":{\"outlinewidth\":0,\"ticks\":\"\"}}}],\"scatterpolar\":[{\"type\":\"scatterpolar\",\"marker\":{\"colorbar\":{\"outlinewidth\":0,\"ticks\":\"\"}}}],\"histogram\":[{\"marker\":{\"pattern\":{\"fillmode\":\"overlay\",\"size\":10,\"solidity\":0.2}},\"type\":\"histogram\"}],\"scattergl\":[{\"type\":\"scattergl\",\"marker\":{\"colorbar\":{\"outlinewidth\":0,\"ticks\":\"\"}}}],\"scatter3d\":[{\"type\":\"scatter3d\",\"line\":{\"colorbar\":{\"outlinewidth\":0,\"ticks\":\"\"}},\"marker\":{\"colorbar\":{\"outlinewidth\":0,\"ticks\":\"\"}}}],\"scattermapbox\":[{\"type\":\"scattermapbox\",\"marker\":{\"colorbar\":{\"outlinewidth\":0,\"ticks\":\"\"}}}],\"scatterternary\":[{\"type\":\"scatterternary\",\"marker\":{\"colorbar\":{\"outlinewidth\":0,\"ticks\":\"\"}}}],\"scattercarpet\":[{\"type\":\"scattercarpet\",\"marker\":{\"colorbar\":{\"outlinewidth\":0,\"ticks\":\"\"}}}],\"carpet\":[{\"aaxis\":{\"endlinecolor\":\"#2a3f5f\",\"gridcolor\":\"white\",\"linecolor\":\"white\",\"minorgridcolor\":\"white\",\"startlinecolor\":\"#2a3f5f\"},\"baxis\":{\"endlinecolor\":\"#2a3f5f\",\"gridcolor\":\"white\",\"linecolor\":\"white\",\"minorgridcolor\":\"white\",\"startlinecolor\":\"#2a3f5f\"},\"type\":\"carpet\"}],\"table\":[{\"cells\":{\"fill\":{\"color\":\"#EBF0F8\"},\"line\":{\"color\":\"white\"}},\"header\":{\"fill\":{\"color\":\"#C8D4E3\"},\"line\":{\"color\":\"white\"}},\"type\":\"table\"}],\"barpolar\":[{\"marker\":{\"line\":{\"color\":\"#E5ECF6\",\"width\":0.5},\"pattern\":{\"fillmode\":\"overlay\",\"size\":10,\"solidity\":0.2}},\"type\":\"barpolar\"}],\"pie\":[{\"automargin\":true,\"type\":\"pie\"}]},\"layout\":{\"autotypenumbers\":\"strict\",\"colorway\":[\"#636efa\",\"#EF553B\",\"#00cc96\",\"#ab63fa\",\"#FFA15A\",\"#19d3f3\",\"#FF6692\",\"#B6E880\",\"#FF97FF\",\"#FECB52\"],\"font\":{\"color\":\"#2a3f5f\"},\"hovermode\":\"closest\",\"hoverlabel\":{\"align\":\"left\"},\"paper_bgcolor\":\"white\",\"plot_bgcolor\":\"#E5ECF6\",\"polar\":{\"bgcolor\":\"#E5ECF6\",\"angularaxis\":{\"gridcolor\":\"white\",\"linecolor\":\"white\",\"ticks\":\"\"},\"radialaxis\":{\"gridcolor\":\"white\",\"linecolor\":\"white\",\"ticks\":\"\"}},\"ternary\":{\"bgcolor\":\"#E5ECF6\",\"aaxis\":{\"gridcolor\":\"white\",\"linecolor\":\"white\",\"ticks\":\"\"},\"baxis\":{\"gridcolor\":\"white\",\"linecolor\":\"white\",\"ticks\":\"\"},\"caxis\":{\"gridcolor\":\"white\",\"linecolor\":\"white\",\"ticks\":\"\"}},\"coloraxis\":{\"colorbar\":{\"outlinewidth\":0,\"ticks\":\"\"}},\"colorscale\":{\"sequential\":[[0.0,\"#0d0887\"],[0.1111111111111111,\"#46039f\"],[0.2222222222222222,\"#7201a8\"],[0.3333333333333333,\"#9c179e\"],[0.4444444444444444,\"#bd3786\"],[0.5555555555555556,\"#d8576b\"],[0.6666666666666666,\"#ed7953\"],[0.7777777777777778,\"#fb9f3a\"],[0.8888888888888888,\"#fdca26\"],[1.0,\"#f0f921\"]],\"sequentialminus\":[[0.0,\"#0d0887\"],[0.1111111111111111,\"#46039f\"],[0.2222222222222222,\"#7201a8\"],[0.3333333333333333,\"#9c179e\"],[0.4444444444444444,\"#bd3786\"],[0.5555555555555556,\"#d8576b\"],[0.6666666666666666,\"#ed7953\"],[0.7777777777777778,\"#fb9f3a\"],[0.8888888888888888,\"#fdca26\"],[1.0,\"#f0f921\"]],\"diverging\":[[0,\"#8e0152\"],[0.1,\"#c51b7d\"],[0.2,\"#de77ae\"],[0.3,\"#f1b6da\"],[0.4,\"#fde0ef\"],[0.5,\"#f7f7f7\"],[0.6,\"#e6f5d0\"],[0.7,\"#b8e186\"],[0.8,\"#7fbc41\"],[0.9,\"#4d9221\"],[1,\"#276419\"]]},\"xaxis\":{\"gridcolor\":\"white\",\"linecolor\":\"white\",\"ticks\":\"\",\"title\":{\"standoff\":15},\"zerolinecolor\":\"white\",\"automargin\":true,\"zerolinewidth\":2},\"yaxis\":{\"gridcolor\":\"white\",\"linecolor\":\"white\",\"ticks\":\"\",\"title\":{\"standoff\":15},\"zerolinecolor\":\"white\",\"automargin\":true,\"zerolinewidth\":2},\"scene\":{\"xaxis\":{\"backgroundcolor\":\"#E5ECF6\",\"gridcolor\":\"white\",\"linecolor\":\"white\",\"showbackground\":true,\"ticks\":\"\",\"zerolinecolor\":\"white\",\"gridwidth\":2},\"yaxis\":{\"backgroundcolor\":\"#E5ECF6\",\"gridcolor\":\"white\",\"linecolor\":\"white\",\"showbackground\":true,\"ticks\":\"\",\"zerolinecolor\":\"white\",\"gridwidth\":2},\"zaxis\":{\"backgroundcolor\":\"#E5ECF6\",\"gridcolor\":\"white\",\"linecolor\":\"white\",\"showbackground\":true,\"ticks\":\"\",\"zerolinecolor\":\"white\",\"gridwidth\":2}},\"shapedefaults\":{\"line\":{\"color\":\"#2a3f5f\"}},\"annotationdefaults\":{\"arrowcolor\":\"#2a3f5f\",\"arrowhead\":0,\"arrowwidth\":1},\"geo\":{\"bgcolor\":\"white\",\"landcolor\":\"#E5ECF6\",\"subunitcolor\":\"white\",\"showland\":true,\"showlakes\":true,\"lakecolor\":\"white\"},\"title\":{\"x\":0.05},\"mapbox\":{\"style\":\"light\"}}},\"xaxis\":{\"anchor\":\"y\",\"domain\":[0.0,1.0],\"title\":{\"text\":\"creation_date\"}},\"yaxis\":{\"anchor\":\"x\",\"domain\":[0.0,1.0],\"title\":{\"text\":\"value\"}},\"legend\":{\"title\":{\"text\":\"variable\"},\"tracegroupgap\":0},\"margin\":{\"t\":60}},                        {\"responsive\": true}                    ).then(function(){\n",
       "                            \n",
       "var gd = document.getElementById('def80fd3-8d94-46ee-9cdf-09dafa295112');\n",
       "var x = new MutationObserver(function (mutations, observer) {{\n",
       "        var display = window.getComputedStyle(gd).display;\n",
       "        if (!display || display === 'none') {{\n",
       "            console.log([gd, 'removed!']);\n",
       "            Plotly.purge(gd);\n",
       "            observer.disconnect();\n",
       "        }}\n",
       "}});\n",
       "\n",
       "// Listen for the removal of the full notebook cells\n",
       "var notebookContainer = gd.closest('#notebook-container');\n",
       "if (notebookContainer) {{\n",
       "    x.observe(notebookContainer, {childList: true});\n",
       "}}\n",
       "\n",
       "// Listen for the clearing of the current output cell\n",
       "var outputEl = gd.closest('.output');\n",
       "if (outputEl) {{\n",
       "    x.observe(outputEl, {childList: true});\n",
       "}}\n",
       "\n",
       "                        })                };                });            </script>        </div>"
      ]
     },
     "metadata": {},
     "output_type": "display_data"
    }
   ],
   "source": [
    "px.scatter(\n",
    "    grouped_by_timestamp.sort_index().loc[\n",
    "        :,\n",
    "        'moire_rate'\n",
    "    ],\n",
    "    trendline=\"ols\"\n",
    ")"
   ]
  },
  {
   "cell_type": "markdown",
   "id": "7d8ba9b9-d526-47c7-9bee-65677619a694",
   "metadata": {},
   "source": [
    "# Rest"
   ]
  },
  {
   "cell_type": "code",
   "execution_count": 40,
   "id": "39cdb807-e924-42d5-8e66-3ec56fb4554c",
   "metadata": {},
   "outputs": [
    {
     "data": {
      "text/plain": [
       "checked_no_moire    10\n",
       "Name: label, dtype: int64"
      ]
     },
     "execution_count": 40,
     "metadata": {},
     "output_type": "execute_result"
    }
   ],
   "source": [
    "df.loc[\n",
    "    (df.bbox.apply(lambda val: int(val.split(',')[0])).between(270,330)) &\n",
    "    (df.bbox.apply(lambda val: int(val.split(',')[1])).between(60,100)) &\n",
    "    (df.bbox.apply(lambda val: int(val.split(',')[2])).between(1290,1310)) &\n",
    "    (df.bbox.apply(lambda val: int(val.split(',')[3])).between(120,140))\n",
    "].label.value_counts()"
   ]
  },
  {
   "cell_type": "code",
   "execution_count": 22,
   "id": "02300154-45c4-4f7f-96d5-e434651f9057",
   "metadata": {},
   "outputs": [
    {
     "data": {
      "image/jpeg": "[encoded data removed]",
      "text/plain": [
       "<PIL.Image.Image image mode=CMYK size=294x174>"
      ]
     },
     "execution_count": 22,
     "metadata": {},
     "output_type": "execute_result"
    }
   ],
   "source": [
    "row = df.loc[90]\n",
    "\n",
    "bbox = [int(v) for v in row.bbox.split(',')]\n",
    "#img = Image.open( config['GENERIC_GENERATED_DATA_DIR'] / row.img_name )\n",
    "img = Image.open( row.img_path )\n",
    "img.crop((\n",
    "    bbox[0],\n",
    "    bbox[1],\n",
    "    bbox[0]+bbox[2],\n",
    "    bbox[1]+bbox[3]\n",
    "))"
   ]
  },
  {
   "cell_type": "code",
   "execution_count": 23,
   "id": "415296f6-6875-46f7-838a-007f94ab1617",
   "metadata": {},
   "outputs": [
    {
     "data": {
      "image/jpeg": "[encoded data removed]",
      "text/plain": [
       "<PIL.Image.Image image mode=CMYK size=294x174>"
      ]
     },
     "execution_count": 23,
     "metadata": {},
     "output_type": "execute_result"
    }
   ],
   "source": [
    "row = df.loc[90]\n",
    "\n",
    "bbox = [int(v) for v in row.bbox.split(',')]\n",
    "img = Image.open( config['GENERIC_GENERATED_DATA_DIR'] / row.img_name )\n",
    "#img = Image.open( row.img_path )\n",
    "img.crop((\n",
    "    bbox[0],\n",
    "    bbox[1],\n",
    "    bbox[0]+bbox[2],\n",
    "    bbox[1]+bbox[3]\n",
    "))"
   ]
  },
  {
   "cell_type": "code",
   "execution_count": 24,
   "id": "5ac0613a-1326-44a6-a74f-660757e5fd8d",
   "metadata": {},
   "outputs": [
    {
     "data": {
      "text/html": [
       "<div>\n",
       "<style scoped>\n",
       "    .dataframe tbody tr th:only-of-type {\n",
       "        vertical-align: middle;\n",
       "    }\n",
       "\n",
       "    .dataframe tbody tr th {\n",
       "        vertical-align: top;\n",
       "    }\n",
       "\n",
       "    .dataframe thead th {\n",
       "        text-align: right;\n",
       "    }\n",
       "</style>\n",
       "<table border=\"1\" class=\"dataframe\">\n",
       "  <thead>\n",
       "    <tr style=\"text-align: right;\">\n",
       "      <th></th>\n",
       "      <th>creation_date</th>\n",
       "      <th>basic_name</th>\n",
       "      <th>img_name</th>\n",
       "      <th>bbox</th>\n",
       "      <th>label</th>\n",
       "      <th>ssim</th>\n",
       "    </tr>\n",
       "  </thead>\n",
       "  <tbody>\n",
       "    <tr>\n",
       "      <th>4035</th>\n",
       "      <td>2024-01-08 21:30:46</td>\n",
       "      <td>613233.tg46_UP_004_005_MRZ23_UPSUBHMRZ_SU_AS00...</td>\n",
       "      <td>613233.tg46_UP_004_005_MRZ23_UPSUBHMRZ_SU_AS00...</td>\n",
       "      <td>2782,2000,1684,3262</td>\n",
       "      <td>checked_no_moire</td>\n",
       "      <td>0.458884</td>\n",
       "    </tr>\n",
       "    <tr>\n",
       "      <th>3991</th>\n",
       "      <td>2024-01-08 21:30:46</td>\n",
       "      <td>148013.tg39_67029_1_1_2022_130-189_Kapitel3_DA...</td>\n",
       "      <td>148013.tg39_67029_1_1_2022_130-189_Kapitel3_DA...</td>\n",
       "      <td>3030,1278,150,312</td>\n",
       "      <td>checked_no_moire</td>\n",
       "      <td>0.680539</td>\n",
       "    </tr>\n",
       "    <tr>\n",
       "      <th>4131</th>\n",
       "      <td>2024-01-09 10:27:41</td>\n",
       "      <td>606023.tg39_0079_20-1257_Part07_03_PGUE_GS_Pre...</td>\n",
       "      <td>606023.tg39_0079_20-1257_Part07_03_PGUE_GS_Pre...</td>\n",
       "      <td>2814,2004,240,246</td>\n",
       "      <td>checked_no_moire</td>\n",
       "      <td>0.750932</td>\n",
       "    </tr>\n",
       "    <tr>\n",
       "      <th>468</th>\n",
       "      <td>2024-01-17 10:41:38</td>\n",
       "      <td>615311.CJ134_174175.p1.$PLACEHOLDER$.1</td>\n",
       "      <td>615311.CJ134_174175.p1.soft_light.1.4c_600.jpg</td>\n",
       "      <td>4614,3918,144,648</td>\n",
       "      <td>checked_no_moire</td>\n",
       "      <td>0.754663</td>\n",
       "    </tr>\n",
       "    <tr>\n",
       "      <th>279</th>\n",
       "      <td>2024-01-06 14:16:10</td>\n",
       "      <td>615311.CJ134_192193.p2.$PLACEHOLDER$.1</td>\n",
       "      <td>615311.CJ134_192193.p2.soft_light.1.4c_600.jpg</td>\n",
       "      <td>156,1446,618,624</td>\n",
       "      <td>checked_moire</td>\n",
       "      <td>0.754748</td>\n",
       "    </tr>\n",
       "    <tr>\n",
       "      <th>...</th>\n",
       "      <td>...</td>\n",
       "      <td>...</td>\n",
       "      <td>...</td>\n",
       "      <td>...</td>\n",
       "      <td>...</td>\n",
       "      <td>...</td>\n",
       "    </tr>\n",
       "    <tr>\n",
       "      <th>2652</th>\n",
       "      <td>2024-01-08 18:18:54</td>\n",
       "      <td>508980.0154_O086.p1.$PLACEHOLDER$.1</td>\n",
       "      <td>508980.0154_O086.p1.soft_light.1.4c_600.jpg</td>\n",
       "      <td>2244,468,390,120</td>\n",
       "      <td>checked_no_moire</td>\n",
       "      <td>1.000000</td>\n",
       "    </tr>\n",
       "    <tr>\n",
       "      <th>4871</th>\n",
       "      <td>2024-01-06 14:28:28</td>\n",
       "      <td>613476.693102_Top_03_BK_FS23_092_093_BFL_MM.p1...</td>\n",
       "      <td>613476.693102_Top_03_BK_FS23_092_093_BFL_MM.p1...</td>\n",
       "      <td>0,6840,348,336</td>\n",
       "      <td>checked_no_moire</td>\n",
       "      <td>1.000000</td>\n",
       "    </tr>\n",
       "    <tr>\n",
       "      <th>59</th>\n",
       "      <td>2024-01-08 12:48:12</td>\n",
       "      <td>606023.tg39_0082_20-1257_Part07_03_PGUE_GS_Pre...</td>\n",
       "      <td>606023.tg39_0082_20-1257_Part07_03_PGUE_GS_Pre...</td>\n",
       "      <td>204,0,4944,120</td>\n",
       "      <td>checked_no_moire</td>\n",
       "      <td>1.000000</td>\n",
       "    </tr>\n",
       "    <tr>\n",
       "      <th>4393</th>\n",
       "      <td>2024-01-08 21:13:20</td>\n",
       "      <td>508980.0090_O086.p1.$PLACEHOLDER$.1</td>\n",
       "      <td>508980.0090_O086.p1.soft_light.1.4c_600.jpg</td>\n",
       "      <td>696,216,606,378</td>\n",
       "      <td>checked_no_moire</td>\n",
       "      <td>1.000000</td>\n",
       "    </tr>\n",
       "    <tr>\n",
       "      <th>2683</th>\n",
       "      <td>2024-01-08 18:18:54</td>\n",
       "      <td>508980.0143_O086.p1.$PLACEHOLDER$.1</td>\n",
       "      <td>508980.0143_O086.p1.soft_light.1.4c_600.jpg</td>\n",
       "      <td>1896,468,510,102</td>\n",
       "      <td>checked_no_moire</td>\n",
       "      <td>1.000000</td>\n",
       "    </tr>\n",
       "  </tbody>\n",
       "</table>\n",
       "<p>2463 rows × 6 columns</p>\n",
       "</div>"
      ],
      "text/plain": [
       "           creation_date                                         basic_name  \\\n",
       "4035 2024-01-08 21:30:46  613233.tg46_UP_004_005_MRZ23_UPSUBHMRZ_SU_AS00...   \n",
       "3991 2024-01-08 21:30:46  148013.tg39_67029_1_1_2022_130-189_Kapitel3_DA...   \n",
       "4131 2024-01-09 10:27:41  606023.tg39_0079_20-1257_Part07_03_PGUE_GS_Pre...   \n",
       "468  2024-01-17 10:41:38             615311.CJ134_174175.p1.$PLACEHOLDER$.1   \n",
       "279  2024-01-06 14:16:10             615311.CJ134_192193.p2.$PLACEHOLDER$.1   \n",
       "...                  ...                                                ...   \n",
       "2652 2024-01-08 18:18:54                508980.0154_O086.p1.$PLACEHOLDER$.1   \n",
       "4871 2024-01-06 14:28:28  613476.693102_Top_03_BK_FS23_092_093_BFL_MM.p1...   \n",
       "59   2024-01-08 12:48:12  606023.tg39_0082_20-1257_Part07_03_PGUE_GS_Pre...   \n",
       "4393 2024-01-08 21:13:20                508980.0090_O086.p1.$PLACEHOLDER$.1   \n",
       "2683 2024-01-08 18:18:54                508980.0143_O086.p1.$PLACEHOLDER$.1   \n",
       "\n",
       "                                               img_name                 bbox  \\\n",
       "4035  613233.tg46_UP_004_005_MRZ23_UPSUBHMRZ_SU_AS00...  2782,2000,1684,3262   \n",
       "3991  148013.tg39_67029_1_1_2022_130-189_Kapitel3_DA...    3030,1278,150,312   \n",
       "4131  606023.tg39_0079_20-1257_Part07_03_PGUE_GS_Pre...    2814,2004,240,246   \n",
       "468      615311.CJ134_174175.p1.soft_light.1.4c_600.jpg    4614,3918,144,648   \n",
       "279      615311.CJ134_192193.p2.soft_light.1.4c_600.jpg     156,1446,618,624   \n",
       "...                                                 ...                  ...   \n",
       "2652        508980.0154_O086.p1.soft_light.1.4c_600.jpg     2244,468,390,120   \n",
       "4871  613476.693102_Top_03_BK_FS23_092_093_BFL_MM.p1...       0,6840,348,336   \n",
       "59    606023.tg39_0082_20-1257_Part07_03_PGUE_GS_Pre...       204,0,4944,120   \n",
       "4393        508980.0090_O086.p1.soft_light.1.4c_600.jpg      696,216,606,378   \n",
       "2683        508980.0143_O086.p1.soft_light.1.4c_600.jpg     1896,468,510,102   \n",
       "\n",
       "                 label      ssim  \n",
       "4035  checked_no_moire  0.458884  \n",
       "3991  checked_no_moire  0.680539  \n",
       "4131  checked_no_moire  0.750932  \n",
       "468   checked_no_moire  0.754663  \n",
       "279      checked_moire  0.754748  \n",
       "...                ...       ...  \n",
       "2652  checked_no_moire  1.000000  \n",
       "4871  checked_no_moire  1.000000  \n",
       "59    checked_no_moire  1.000000  \n",
       "4393  checked_no_moire  1.000000  \n",
       "2683  checked_no_moire  1.000000  \n",
       "\n",
       "[2463 rows x 6 columns]"
      ]
     },
     "execution_count": 24,
     "metadata": {},
     "output_type": "execute_result"
    }
   ],
   "source": [
    "df.loc[\n",
    "    (pd.isna(df.label) == False) & (df.label != 'unchecked_moire'),\n",
    "    ['creation_date','basic_name','img_name','bbox','label','ssim']\n",
    "].sort_values('ssim')"
   ]
  },
  {
   "cell_type": "code",
   "execution_count": 25,
   "id": "c8c38950-4f2d-4db2-898e-c93eb1aeb409",
   "metadata": {},
   "outputs": [
    {
     "ename": "ZeroDivisionError",
     "evalue": "division by zero",
     "output_type": "error",
     "traceback": [
      "\u001b[0;31m---------------------------------------------------------------------------\u001b[0m",
      "\u001b[0;31mZeroDivisionError\u001b[0m                         Traceback (most recent call last)",
      "Cell \u001b[0;32mIn[25], line 1\u001b[0m\n\u001b[0;32m----> 1\u001b[0m \u001b[38;5;241;43m0\u001b[39;49m\u001b[43m \u001b[49m\u001b[38;5;241;43m/\u001b[39;49m\u001b[43m \u001b[49m\u001b[38;5;241;43m0\u001b[39;49m\n",
      "\u001b[0;31mZeroDivisionError\u001b[0m: division by zero"
     ]
    }
   ],
   "source": [
    "0 / 0"
   ]
  }
 ],
 "metadata": {
  "kernelspec": {
   "display_name": "Python 3 (ipykernel)",
   "language": "python",
   "name": "python3"
  },
  "language_info": {
   "codemirror_mode": {
    "name": "ipython",
    "version": 3
   },
   "file_extension": ".py",
   "mimetype": "text/x-python",
   "name": "python",
   "nbconvert_exporter": "python",
   "pygments_lexer": "ipython3",
   "version": "3.10.11"
  }
 },
 "nbformat": 4,
 "nbformat_minor": 5
}
