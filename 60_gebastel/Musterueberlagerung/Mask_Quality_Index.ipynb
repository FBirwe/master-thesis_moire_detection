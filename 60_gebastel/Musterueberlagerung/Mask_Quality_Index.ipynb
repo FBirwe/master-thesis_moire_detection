{
 "cells": [
  {
   "cell_type": "code",
   "execution_count": 166,
   "id": "48bc471c-33d9-4d39-ac50-23a215a903cc",
   "metadata": {},
   "outputs": [],
   "source": [
    "from get_sample_scores import get_images_with_scores"
   ]
  },
  {
   "cell_type": "code",
   "execution_count": 167,
   "id": "15607461-fab4-4f0d-8167-7d0d7657d036",
   "metadata": {},
   "outputs": [],
   "source": [
    "images = get_images_with_scores()"
   ]
  },
  {
   "cell_type": "code",
   "execution_count": 172,
   "id": "4b656612-b997-467f-8c9a-81370596e43c",
   "metadata": {},
   "outputs": [
    {
     "data": {
      "text/html": [
       "<div>\n",
       "<style scoped>\n",
       "    .dataframe tbody tr th:only-of-type {\n",
       "        vertical-align: middle;\n",
       "    }\n",
       "\n",
       "    .dataframe tbody tr th {\n",
       "        vertical-align: top;\n",
       "    }\n",
       "\n",
       "    .dataframe thead th {\n",
       "        text-align: right;\n",
       "    }\n",
       "</style>\n",
       "<table border=\"1\" class=\"dataframe\">\n",
       "  <thead>\n",
       "    <tr style=\"text-align: right;\">\n",
       "      <th></th>\n",
       "      <th>variant_name</th>\n",
       "      <th>pdf_filename</th>\n",
       "      <th>job</th>\n",
       "      <th>type</th>\n",
       "      <th>filename</th>\n",
       "      <th>mask_filename</th>\n",
       "      <th>score</th>\n",
       "    </tr>\n",
       "  </thead>\n",
       "  <tbody>\n",
       "    <tr>\n",
       "      <th>3278</th>\n",
       "      <td>halftone600dpi</td>\n",
       "      <td>tg45_009-488_Interieur_GW2021-2022_HD.p309</td>\n",
       "      <td>606688</td>\n",
       "      <td>4c</td>\n",
       "      <td>tg45_009-488_Interieur_GW2021-2022_HD.p309.4c.jpg</td>\n",
       "      <td>tg45_009-488_Interieur_GW2021-2022_HD.p309.mas...</td>\n",
       "      <td>-4.361111</td>\n",
       "    </tr>\n",
       "  </tbody>\n",
       "</table>\n",
       "</div>"
      ],
      "text/plain": [
       "        variant_name                                pdf_filename     job type  \\\n",
       "3278  halftone600dpi  tg45_009-488_Interieur_GW2021-2022_HD.p309  606688   4c   \n",
       "\n",
       "                                               filename  \\\n",
       "3278  tg45_009-488_Interieur_GW2021-2022_HD.p309.4c.jpg   \n",
       "\n",
       "                                          mask_filename     score  \n",
       "3278  tg45_009-488_Interieur_GW2021-2022_HD.p309.mas... -4.361111  "
      ]
     },
     "execution_count": 172,
     "metadata": {},
     "output_type": "execute_result"
    }
   ],
   "source": [
    "images.sample(weights=images.score.apply(lambda val: val - images.score.min()))"
   ]
  }
 ],
 "metadata": {
  "kernelspec": {
   "display_name": "Python 3 (ipykernel)",
   "language": "python",
   "name": "python3"
  },
  "language_info": {
   "codemirror_mode": {
    "name": "ipython",
    "version": 3
   },
   "file_extension": ".py",
   "mimetype": "text/x-python",
   "name": "python",
   "nbconvert_exporter": "python",
   "pygments_lexer": "ipython3",
   "version": "3.10.11"
  }
 },
 "nbformat": 4,
 "nbformat_minor": 5
}
