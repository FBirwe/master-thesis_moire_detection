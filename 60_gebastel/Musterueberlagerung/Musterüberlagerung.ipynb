{
 "cells": [
  {
   "cell_type": "code",
   "execution_count": 1,
   "id": "afe32591-6be0-424a-9da8-cfde7ba00b62",
   "metadata": {},
   "outputs": [],
   "source": [
    "import sys\n",
    "sys.path.append('../../30_data_tools/')\n",
    "sys.path.append('../process_masks/')"
   ]
  },
  {
   "cell_type": "code",
   "execution_count": 2,
   "id": "67917dfb",
   "metadata": {},
   "outputs": [],
   "source": [
    "from PIL import Image, ImageOps, ImageFilter, ImageEnhance\n",
    "import numpy as np\n",
    "import cv2\n",
    "import random\n",
    "import plotly.express as px\n",
    "from pathlib import Path\n",
    "import pandas as pd\n",
    "from tqdm import tqdm\n",
    "import pickle\n",
    "import re\n",
    "import json\n",
    "import sqlite3\n",
    "from datetime import datetime\n",
    "from skimage import transform\n",
    "from PIL import ImageDraw, ImageFont\n",
    "from time import time\n",
    "import math"
   ]
  },
  {
   "cell_type": "code",
   "execution_count": 3,
   "id": "888fee75-f5c8-4622-91ff-d38c8aa6dc6d",
   "metadata": {},
   "outputs": [],
   "source": [
    "from helper import load_dotenv\n",
    "from get_labelstudio_data import get_moires_of_project, get_results_of_project"
   ]
  },
  {
   "cell_type": "code",
   "execution_count": 4,
   "id": "c8c08ca2-557b-434a-8779-25e780e5f7b2",
   "metadata": {},
   "outputs": [],
   "source": [
    "from mask_functions import get_config as get_mask_config, load_masks, get_whole_mask\n",
    "from get_sample_scores import get_images_with_scores"
   ]
  },
  {
   "cell_type": "code",
   "execution_count": 5,
   "id": "2d503867-5984-427c-baae-cc3f09ce0e31",
   "metadata": {},
   "outputs": [],
   "source": [
    "dotenv = load_dotenv()\n",
    "mask_config = get_mask_config()"
   ]
  },
  {
   "cell_type": "code",
   "execution_count": 6,
   "id": "bcb2f6e9-b38b-4701-88fe-9f83f81ff703",
   "metadata": {},
   "outputs": [],
   "source": [
    "DEBUG = False"
   ]
  },
  {
   "cell_type": "code",
   "execution_count": 7,
   "id": "3bf560c4-19a7-4dfe-8ec9-a5112dfccfd6",
   "metadata": {},
   "outputs": [],
   "source": [
    "with open('./config_deform.json') as config_file:\n",
    "    config = json.load(config_file)"
   ]
  },
  {
   "cell_type": "code",
   "execution_count": 8,
   "id": "36cc10bf-d699-46db-9c60-c622205dbc22",
   "metadata": {},
   "outputs": [],
   "source": [
    "con = sqlite3.connect( dotenv['DB_PATH'] )"
   ]
  },
  {
   "cell_type": "code",
   "execution_count": 9,
   "id": "fdc938d3-5a6a-4fd7-800f-29f05f818b88",
   "metadata": {},
   "outputs": [],
   "source": [
    "moire_pages = set([r['img_name'] for r in get_moires_of_project(1)])"
   ]
  },
  {
   "cell_type": "code",
   "execution_count": 10,
   "id": "6af2b2c3-b8d8-4f4d-b0c8-822b0cfe832d",
   "metadata": {},
   "outputs": [],
   "source": [
    "images = get_images_with_scores()"
   ]
  },
  {
   "cell_type": "code",
   "execution_count": 11,
   "id": "dc5b6a7b-224e-49cb-9b50-a6d7b9d7c9f4",
   "metadata": {},
   "outputs": [],
   "source": [
    "images = images.loc[\n",
    "    images.job.isin(config['jobs_to_ignore']) == False\n",
    "]"
   ]
  },
  {
   "cell_type": "code",
   "execution_count": 12,
   "id": "95b33240-0cf8-462f-b2ff-9ab17ebbb4dc",
   "metadata": {},
   "outputs": [],
   "source": [
    "images = images.loc[\n",
    "    (images.apply(lambda row: f\"{row['job']}.vps2400dpi150lpi.{ row['pdf_filename'] }.4c_300.jpg\" not in moire_pages, axis=1)) &\n",
    "    (images.apply(lambda row: f\"{row['job']}.vps2400dpi175lpi.{ row['pdf_filename'] }.4c_300.jpg\" not in moire_pages, axis=1))\n",
    "]"
   ]
  },
  {
   "cell_type": "code",
   "execution_count": 13,
   "id": "909cd9f8-9955-46ed-a0b0-d97b2f6b0392",
   "metadata": {},
   "outputs": [],
   "source": [
    "df_moires = pd.DataFrame(\n",
    "    [\n",
    "        (r['img_name'],r['rectanglelabels'][0])\n",
    "        for r in get_results_of_project(2)\n",
    "    ],\n",
    "    columns=['pdf_filename','label']\n",
    ")\n",
    "df_moires.pdf_filename = df_moires.pdf_filename.str.extract('.+?\\.(.+)\\.soft_light.+')\n",
    "df_moires.loc[:,'dummy'] = 1"
   ]
  },
  {
   "cell_type": "markdown",
   "id": "107eaa10-7d80-4e1b-974c-d1254149de0a",
   "metadata": {
    "jp-MarkdownHeadingCollapsed": true
   },
   "source": [
    "# Funktionen"
   ]
  },
  {
   "cell_type": "code",
   "execution_count": 14,
   "id": "9e43eade-a184-43d9-b7de-36d366c553a5",
   "metadata": {},
   "outputs": [],
   "source": [
    "def get_basic_name( img_row ):\n",
    "    cnt = 1\n",
    "\n",
    "    while len(list(dotenv['GENERIC_GENERATED_DATA_DIR'].glob(f\"{img_row['job']}.{img_row['pdf_filename']}.*.{ cnt }*\"))) > 0:\n",
    "        cnt += 1\n",
    "    \n",
    "    return f\"{img_row['job']}.{img_row['pdf_filename']}.$PLACEHOLDER$.{ cnt }\""
   ]
  },
  {
   "cell_type": "code",
   "execution_count": 15,
   "id": "dbbc7a0f-691a-414f-bd1b-ca2d71770ab4",
   "metadata": {},
   "outputs": [],
   "source": [
    "def get_random_masks( masks, weights, k ):\n",
    "    out = []\n",
    "\n",
    "    while len(out) < k and len(out) < len(masks):\n",
    "        next_item = random.choices(\n",
    "            masks,\n",
    "            weights= weights,\n",
    "            k=1\n",
    "        )[0]\n",
    "\n",
    "        if next_item['bbox'] not in [el['bbox'] for el in out]:\n",
    "            out.append(next_item)\n",
    "\n",
    "    return out"
   ]
  },
  {
   "cell_type": "code",
   "execution_count": 16,
   "id": "f0f417f0-a409-4762-acdd-7c4fa8dd391b",
   "metadata": {},
   "outputs": [],
   "source": [
    "def log( message ):\n",
    "    if DEBUG:\n",
    "        print( message )"
   ]
  },
  {
   "cell_type": "markdown",
   "id": "d4a45aa4-89ae-4807-aafe-9d93a002ee8e",
   "metadata": {},
   "source": [
    "# Ausführung"
   ]
  },
  {
   "cell_type": "code",
   "execution_count": 17,
   "id": "fa990c25-950c-44dc-bddb-5de5d5d4eb63",
   "metadata": {},
   "outputs": [],
   "source": [
    "from pattern_creation import get_pattern_style, get_pattern_img_by_style\n",
    "from apply_pattern import apply_pattern"
   ]
  },
  {
   "cell_type": "code",
   "execution_count": 18,
   "id": "048832b3-aec7-4371-bbbd-ed527a22ac76",
   "metadata": {},
   "outputs": [
    {
     "ename": "ZeroDivisionError",
     "evalue": "division by zero",
     "output_type": "error",
     "traceback": [
      "\u001b[0;31m---------------------------------------------------------------------------\u001b[0m",
      "\u001b[0;31mZeroDivisionError\u001b[0m                         Traceback (most recent call last)",
      "Cell \u001b[0;32mIn[18], line 1\u001b[0m\n\u001b[0;32m----> 1\u001b[0m \u001b[38;5;241;43m0\u001b[39;49m\u001b[43m \u001b[49m\u001b[38;5;241;43m/\u001b[39;49m\u001b[43m \u001b[49m\u001b[38;5;241;43m0\u001b[39;49m\n",
      "\u001b[0;31mZeroDivisionError\u001b[0m: division by zero"
     ]
    }
   ],
   "source": [
    "0 / 0"
   ]
  },
  {
   "cell_type": "code",
   "execution_count": 19,
   "id": "137561a2-2c7b-46f7-8ca0-e25ba614a48b",
   "metadata": {},
   "outputs": [
    {
     "name": "stderr",
     "output_type": "stream",
     "text": [
      "100%|██████████████████████████████████████| 50/50 [1:54:23<00:00, 137.27s/it]\n"
     ]
    }
   ],
   "source": [
    "rows = []\n",
    "timestamps = []\n",
    "\n",
    "for i in tqdm(range(50)):\n",
    "    try:\n",
    "        img_row = images.sample(n=1, weights=images.score.apply(lambda val: val - images.score.min())).iloc[0] \n",
    "        #img_row = images.loc[1822]\n",
    "        img_path = dotenv['DATA_DIR'] / img_row['job'] / img_row['variant_name'] / img_row['filename']\n",
    "        mask_path = dotenv['DATA_DIR'] / img_row['job'] / img_row['variant_name'] / img_row['mask_filename']\n",
    "        img = Image.open(img_path)\n",
    "        img_dpi = int(re.match('halftone(\\d+)dpi', img_row.variant_name).groups()[0])\n",
    "        times = []\n",
    "        times.append((time(),'start'))\n",
    "        log('start')\n",
    "    \n",
    "        if config['processing_dpi'] != img_dpi:\n",
    "            img = img.resize(\n",
    "                (int(img.size[0] * (config['processing_dpi'] / img_dpi)), int(img.size[1] * (config['processing_dpi'] / img_dpi)))\n",
    "            )\n",
    "        rows_of_image = []\n",
    "        \n",
    "        masks = load_masks( mask_path )\n",
    "    \n",
    "        for m in masks:\n",
    "            m['area'] = m['mask'].sum()\n",
    "        \n",
    "        # zu verarbeitende Masken auswählen\n",
    "        relevant_masks = get_random_masks(\n",
    "            masks,\n",
    "            [m['area'] * m['stability_score'] for m in masks],\n",
    "            config['masks_per_generated_image']\n",
    "        )\n",
    "        \n",
    "        multiply_out = np.array(img)\n",
    "        screen_out = np.array(img)\n",
    "        softlight_out = np.array(img)\n",
    "    \n",
    "        times.append((time(),'Vorbereitung abgeschlossen'))\n",
    "        log(f'{ times[-1][0] - times[0][0] }: Vorbereitung abgeschlossen')\n",
    "    \n",
    "        for i in range(len(relevant_masks)):\n",
    "            m = relevant_masks[i]\n",
    "    \n",
    "            if config['processing_dpi'] != img_dpi:\n",
    "                mask_scale_factor = config['processing_dpi'] / img_dpi\n",
    "                m['mask'] = (cv2.resize(\n",
    "                    (m['mask'] * 255).astype('uint8'),\n",
    "                    (0,0),\n",
    "                    fx=mask_scale_factor,\n",
    "                    fy=mask_scale_factor\n",
    "                ) / 255).round().astype('bool')\n",
    "                m['bbox'] = [int(val * mask_scale_factor) for val in m['bbox']]\n",
    "                \n",
    "            \n",
    "            # die verwendeten Anpassungen werden ausgewählt\n",
    "            row = {\n",
    "                'image' : img_path.name.strip( img_path.suffix ),\n",
    "                'img_path' : img_path,\n",
    "                'method' : 'soft_light', #'screen' if random.random() > 0.5 else 'multiply',\n",
    "                'ssim' : -1,\n",
    "                'bbox' : m['bbox'],\n",
    "                'overlay_intensity_C' : config['overlay_intensity'][0],\n",
    "                'overlay_intensity_M' : config['overlay_intensity'][1],\n",
    "                'overlay_intensity_Y' : config['overlay_intensity'][2],\n",
    "                'overlay_intensity_K' : config['overlay_intensity'][3]\n",
    "            }\n",
    "    \n",
    "            pattern_style = get_pattern_style(config)\n",
    "            for key in pattern_style:\n",
    "                row[key] = pattern_style[key]\n",
    "    \n",
    "            pattern_img = get_pattern_img_by_style(row, config)\n",
    "    \n",
    "            center = (\n",
    "                int(m['bbox'][0] + m['bbox'][2] / 2),\n",
    "                int(m['bbox'][1] + m['bbox'][3] / 2)\n",
    "            )\n",
    "            \n",
    "            \n",
    "            times.append((time(), f'Maske geladen'))\n",
    "            log(f'{ times[-1][0] - times[0][0] }: Maske { i } geladen')\n",
    "            \n",
    "            color = [\n",
    "                0.3,\n",
    "                0.4,\n",
    "                0.1,\n",
    "                0.7\n",
    "            ]\n",
    "            ssim_value_C = 1\n",
    "            ssim_value_M = 1\n",
    "            ssim_value_Y = 1\n",
    "            ssim_value_K = 1\n",
    "    \n",
    "    \n",
    "            if config['overlay_intensity'][0] > 0:\n",
    "                softlight_out[:,:,0],pattern_mask, ssim_value_C = apply_pattern(\n",
    "                    softlight_out[:,:,0],\n",
    "                    pattern_img,\n",
    "                    center,\n",
    "                    method='soft_light',\n",
    "                    overlay_weight=config['overlay_weight'] * config['overlay_intensity'][0],\n",
    "                    mask=m\n",
    "                )\n",
    "    \n",
    "            if config['overlay_intensity'][1] > 0:\n",
    "                softlight_out[:,:,1],pattern_mask, ssim_value_M = apply_pattern(\n",
    "                    softlight_out[:,:,1],\n",
    "                    pattern_img,\n",
    "                    center,\n",
    "                    config,\n",
    "                    method='soft_light',\n",
    "                    overlay_weight=config['overlay_weight'] * config['overlay_intensity'][1],\n",
    "                    mask=m,\n",
    "                    log=log\n",
    "                )\n",
    "    \n",
    "            if config['overlay_intensity'][2] > 0:\n",
    "                softlight_out[:,:,2],pattern_mask, ssim_value_Y = apply_pattern(\n",
    "                    softlight_out[:,:,2],\n",
    "                    pattern_img,\n",
    "                    center,\n",
    "                    config,\n",
    "                    method='soft_light',\n",
    "                    overlay_weight=config['overlay_weight'] * config['overlay_intensity'][2],\n",
    "                    mask=m,\n",
    "                    log=log\n",
    "                )\n",
    "    \n",
    "            if config['overlay_intensity'][3] > 0:\n",
    "                softlight_out[:,:,3],pattern_mask, ssim_value_K = apply_pattern(\n",
    "                    softlight_out[:,:,3],\n",
    "                    pattern_img,\n",
    "                    center,\n",
    "                    config,\n",
    "                    method='soft_light',\n",
    "                    overlay_weight=config['overlay_weight'] * config['overlay_intensity'][3],\n",
    "                    mask=m,\n",
    "                    log=log\n",
    "                )\n",
    "    \n",
    "            row['ssim'] = (ssim_value_C + ssim_value_M + ssim_value_Y + ssim_value_K) / 4\n",
    "            rows_of_image.append(row)\n",
    "    \n",
    "            times.append((time(), f'Maske implementiert'))\n",
    "            log(f'{ times[-1][0] - times[0][0] }: Maske { i } implementiert')\n",
    "    \n",
    "    \n",
    "        basic_name = get_basic_name( img_row )\n",
    "    \n",
    "        if len([r for r in rows_of_image if r['ssim'] > config['max_tile_ssim']]) > 0: \n",
    "            Image.fromarray(\n",
    "                softlight_out, mode=\"CMYK\"\n",
    "            ).save(\n",
    "                dotenv['GENERIC_GENERATED_DATA_DIR'] / (basic_name.replace('$PLACEHOLDER$','soft_light') + '.jpg'),\n",
    "                progressive=True\n",
    "            )\n",
    "    \n",
    "        # rows anhängen\n",
    "        for r in rows_of_image:\n",
    "            r['basic_name'] = basic_name\n",
    "    \n",
    "        times.append((time(), f'Bild abgeschlossen'))\n",
    "        log(f'{ times[-1][0] - times[0][0] }: Bild abgeschlossen')\n",
    "    \n",
    "        timestamps.append(times)\n",
    "        rows += rows_of_image        \n",
    "    except:\n",
    "        pass"
   ]
  },
  {
   "cell_type": "code",
   "execution_count": null,
   "id": "1e596f84-ec36-4418-adca-e876f9f8dd0d",
   "metadata": {
    "scrolled": true
   },
   "outputs": [],
   "source": [
    "tms_rows = []\n",
    "\n",
    "for i in range(len(timestamps)):\n",
    "    for t in timestamps[i]:\n",
    "        tms_rows.append({\n",
    "            'image' : i,\n",
    "            'timestamp' : t[0] if type(t[0]) == datetime else datetime.fromtimestamp(t[0]),\n",
    "            'step' : t[1]\n",
    "        })\n",
    "\n",
    "tms = pd.DataFrame.from_dict(tms_rows)\n",
    "tms.loc[\n",
    "    :,\n",
    "    'timestamp_diff'\n",
    "] = tms.timestamp.diff()"
   ]
  },
  {
   "cell_type": "code",
   "execution_count": null,
   "id": "3e7abdb7-a86a-4851-8bd7-95f91533096a",
   "metadata": {},
   "outputs": [],
   "source": [
    "tms.loc[\n",
    "    :,\n",
    "    ['step','timestamp_diff']\n",
    "].groupby('step').mean().sort_values('timestamp_diff',ascending=False)"
   ]
  },
  {
   "cell_type": "code",
   "execution_count": null,
   "id": "e9c34f49-1c3d-4e49-a061-7f5e7c3b1fb3",
   "metadata": {},
   "outputs": [],
   "source": [
    "tms.groupby(['image','step']).count()"
   ]
  },
  {
   "cell_type": "code",
   "execution_count": 20,
   "id": "0459d1da-33ec-4376-b299-952c6de579e1",
   "metadata": {},
   "outputs": [],
   "source": [
    "df = pd.DataFrame.from_dict(rows)\n",
    "\n",
    "df.to_pickle(\n",
    "    dotenv['GENERIC_INFORMATION_DATA_DIR'] / f'{round(datetime.now().timestamp())}.pkl'\n",
    ")"
   ]
  },
  {
   "cell_type": "code",
   "execution_count": 21,
   "id": "a8d431ba-7d40-4670-a0f9-84b202fb78fa",
   "metadata": {},
   "outputs": [
    {
     "name": "stderr",
     "output_type": "stream",
     "text": [
      "100%|███████████████████████████████████████████| 47/47 [00:39<00:00,  1.20it/s]\n"
     ]
    }
   ],
   "source": [
    "for basic_name in tqdm(df.basic_name.unique()):\n",
    "    img_path = dotenv['GENERIC_GENERATED_DATA_DIR'] / f\"{basic_name.replace('$PLACEHOLDER$','soft_light')}.jpg\"    \n",
    "\n",
    "    if img_path.exists():\n",
    "        my_img = Image.open(img_path).convert('RGB')\n",
    "        \n",
    "        rows = df.loc[\n",
    "            df.basic_name == basic_name,\n",
    "            ['bbox','ssim']\n",
    "        ]\n",
    "        \n",
    "        for i in range(rows.shape[0]):\n",
    "            row = rows.iloc[i]\n",
    "            m = row.bbox\n",
    "            ssim_value = row.ssim\n",
    "            color = (255,0,0,255) if ssim_value < config['max_tile_ssim'] else (0,0,255,255)\n",
    "            font = ImageFont.load_default(size=50)      \n",
    "            d = ImageDraw.Draw(my_img, 'RGBA')\n",
    "            d.rectangle(\n",
    "                [int(m[0]),int(m[1]),int(m[0]+m[2]),int(m[1]+m[3])],\n",
    "                outline=color,\n",
    "                width=10\n",
    "            )\n",
    "            d.text((int(m[0]),int(m[1])), str(ssim_value), fill=color, font=font)\n",
    "    \n",
    "        my_img.save(f'./10_out/{ img_path.name }', progressive=True )"
   ]
  }
 ],
 "metadata": {
  "kernelspec": {
   "display_name": "Python 3 (ipykernel)",
   "language": "python",
   "name": "python3"
  },
  "language_info": {
   "codemirror_mode": {
    "name": "ipython",
    "version": 3
   },
   "file_extension": ".py",
   "mimetype": "text/x-python",
   "name": "python",
   "nbconvert_exporter": "python",
   "pygments_lexer": "ipython3",
   "version": "3.10.11"
  }
 },
 "nbformat": 4,
 "nbformat_minor": 5
}
