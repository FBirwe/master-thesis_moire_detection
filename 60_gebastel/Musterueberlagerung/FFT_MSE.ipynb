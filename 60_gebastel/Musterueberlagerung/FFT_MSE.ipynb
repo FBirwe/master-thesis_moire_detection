{
 "cells": [
  {
   "cell_type": "code",
   "execution_count": 53,
   "id": "58b5d9c9-abd7-4510-9fde-056e049bb1c7",
   "metadata": {},
   "outputs": [],
   "source": [
    "import sys\n",
    "sys.path.append('../../30_data_tools/')\n",
    "\n",
    "from helper import load_dotenv\n",
    "from get_labelstudio_data import get_results_of_project\n",
    "from file_interaction import open_img, get_related_filepath, get_generic_image_filepath"
   ]
  },
  {
   "cell_type": "code",
   "execution_count": 132,
   "id": "74f70975-1a27-4c74-9e5a-4fc42dc388a2",
   "metadata": {},
   "outputs": [],
   "source": [
    "from PIL import Image\n",
    "import numpy as np\n",
    "from skimage.filters import difference_of_gaussians\n",
    "from scipy import ndimage\n",
    "import sqlite3\n",
    "import pandas as pd\n",
    "import plotly.express as px\n",
    "import math\n",
    "from tqdm.auto import tqdm"
   ]
  },
  {
   "cell_type": "code",
   "execution_count": 138,
   "id": "87b2fa57-0c46-4860-9780-572752aae5a6",
   "metadata": {},
   "outputs": [],
   "source": [
    "Image.MAX_IMAGE_PIXELS = None"
   ]
  },
  {
   "cell_type": "code",
   "execution_count": 74,
   "id": "555de97a-ce09-42bf-b43a-78f0d9eb823d",
   "metadata": {},
   "outputs": [],
   "source": [
    "def get_fft( input_img ):\n",
    "    ft = np.fft.ifftshift( input_img )\n",
    "    ft = np.fft.fft2(ft)\n",
    "    ft = np.fft.fftshift(ft)\n",
    "    \n",
    "    return ft\n",
    "\n",
    "def invert_fft (input_real, input_imaginary):\n",
    "    input = (input_real + 1j * input_imaginary)\n",
    "    ift = np.fft.ifftshift(input)\n",
    "    ift = np.fft.ifft2(ift)\n",
    "    ift = np.fft.fftshift(ift)\n",
    "    return ift.real"
   ]
  },
  {
   "cell_type": "code",
   "execution_count": 3,
   "id": "5140c435-18d7-4980-8ef8-e619bdbfe7cc",
   "metadata": {},
   "outputs": [],
   "source": [
    "def limit_frequencies( fft, inner_limit=None, outer_limit=None ):\n",
    "    center = (fft.shape[1] / 2, fft.shape[0] / 2)\n",
    "    for y in range(fft.shape[0]):\n",
    "        for x in range(fft.shape[1]):\n",
    "            r = math.sqrt( abs(center[0] - x) ** 2 + abs(center[1] - y) ** 2 )\n",
    "            \n",
    "            if outer_limit is not None and r > outer_limit:\n",
    "                fft[y,x] = 0\n",
    "    \n",
    "            if inner_limit is not None and r < inner_limit:\n",
    "                fft[y,x] = 0\n",
    "\n",
    "    return fft"
   ]
  },
  {
   "cell_type": "code",
   "execution_count": 91,
   "id": "78f105f8-2f92-4b09-aa2e-fcbab9b32e78",
   "metadata": {},
   "outputs": [],
   "source": [
    "def get_spherical_coordinate( x, y ):\n",
    "    r = math.sqrt( x ** 2 + y ** 2 )\n",
    "    angle = math.degrees(math.atan2(y,x))\n",
    "\n",
    "    return r, angle"
   ]
  },
  {
   "cell_type": "code",
   "execution_count": 92,
   "id": "3161bb0f-68d2-4149-acf3-365cd392574c",
   "metadata": {},
   "outputs": [],
   "source": [
    "def get_main_impulses( input, relevant_level=0.66 ):\n",
    "    y_positions, x_positions = np.where(input >= input.max() * relevant_level)\n",
    "    main_impulses = []\n",
    "\n",
    "    for i in range(y_positions.shape[0]):\n",
    "            x = x_positions[i] - input.shape[1] / 2\n",
    "            y = y_positions[i] - input.shape[0] / 2\n",
    "            \n",
    "            r, angle = get_spherical_coordinate(x,y)\n",
    "            #angle += 90 # Anpassung um 0° in der vertikalen, nicht der horizontalen zu haben\n",
    "            intensity = input[y_positions[i],x_positions[i]]\n",
    "        \n",
    "            main_impulses.append((r, angle, intensity))\n",
    "\n",
    "    return main_impulses"
   ]
  },
  {
   "cell_type": "code",
   "execution_count": 94,
   "id": "d3b56257-93fd-43c7-bf81-1ed07cfaf185",
   "metadata": {},
   "outputs": [],
   "source": [
    "def normalize_impulses( impulses ):\n",
    "    normalized_impulses = {}\n",
    "    \n",
    "    for r, angle, intensity in impulses:\n",
    "        r = round(r)\n",
    "        angle = round(angle)\n",
    "    \n",
    "        if angle >= 0 and angle < 180:\n",
    "            key = (r,angle)\n",
    "    \n",
    "            if key not in normalized_impulses:\n",
    "                normalized_impulses[key] = []\n",
    "    \n",
    "            normalized_impulses[key].append(intensity)\n",
    "    \n",
    "    return [\n",
    "        (key[0], key[1], sum(normalized_impulses[key]) / len(normalized_impulses[key]))\n",
    "        for key in normalized_impulses\n",
    "    ]"
   ]
  },
  {
   "cell_type": "code",
   "execution_count": 95,
   "id": "f05c6690-b527-4bb5-8150-74b825d59286",
   "metadata": {},
   "outputs": [],
   "source": [
    "# anzahl der Hauptimpulse\n",
    "# Clusteranalyse\n",
    "def get_clusters_of_impulses( impulses, max_distance=5 ):\n",
    "    clusters = []\n",
    "    sorted_impulses = [False for imp in impulses]\n",
    "    \n",
    "    def sort_impulse( imp_index ):\n",
    "        imp = impulses[imp_index]\n",
    "        connected_impulses = [imp]\n",
    "        sorted_impulses[imp_index] = True\n",
    "    \n",
    "        for i in range(len(impulses)):\n",
    "            if sorted_impulses[i] == False:\n",
    "                imp2 = impulses[i]\n",
    "                distance = math.sqrt(\n",
    "                    abs(imp[0] - imp2[0]) ** 2 +\n",
    "                    abs(imp[1] - imp2[1]) ** 2\n",
    "                )\n",
    "    \n",
    "                if distance <= max_distance:\n",
    "                    connected_impulses += sort_impulse( i )\n",
    "    \n",
    "        return connected_impulses\n",
    "    \n",
    "    \n",
    "    while False in sorted_impulses:\n",
    "        clusters.append( sort_impulse(sorted_impulses.index(False)) )\n",
    "\n",
    "    return clusters"
   ]
  },
  {
   "cell_type": "code",
   "execution_count": 17,
   "id": "f4afe95d-bede-45ad-9ea5-db61ebaa6173",
   "metadata": {},
   "outputs": [],
   "source": [
    "dotenv = load_dotenv()\n",
    "con = sqlite3.connect( dotenv['DB_PATH'] )"
   ]
  },
  {
   "cell_type": "code",
   "execution_count": 30,
   "id": "f8faba05-54f6-459a-9075-8e50eee4a588",
   "metadata": {},
   "outputs": [],
   "source": [
    "masks = pd.read_sql(\n",
    "    f'''\n",
    "        SELECT * FROM mask\n",
    "        WHERE job='24-03-05-01_randomTrainPages'\n",
    "    ''',\n",
    "    con\n",
    ")\n",
    "masks.loc[\n",
    "    :,\n",
    "    'bbox'\n",
    "] = masks.bbox.apply( lambda entry: [int(val) for val in entry.split(';')])\n",
    "\n",
    "masks = pd.merge(\n",
    "    masks,\n",
    "    pd.DataFrame(\n",
    "        [(r['id'],r['labels'][0]) for r in get_results_of_project(2) if 'id' in r],\n",
    "        columns=['mask_id','label']\n",
    "    ),\n",
    "    how=\"left\",\n",
    "    on=\"mask_id\"\n",
    ")"
   ]
  },
  {
   "cell_type": "code",
   "execution_count": 179,
   "id": "6bf717da-8bcd-4813-95fb-864081792d53",
   "metadata": {},
   "outputs": [],
   "source": [
    "sample = masks.sample(n=1)"
   ]
  },
  {
   "cell_type": "code",
   "execution_count": 167,
   "id": "15539420-d1c6-4711-9ec4-0385171b2fe7",
   "metadata": {},
   "outputs": [
    {
     "data": {
      "application/vnd.jupyter.widget-view+json": {
       "model_id": "8153bfbe5d2f4f238c7234a86e49f71b",
       "version_major": 2,
       "version_minor": 0
      },
      "text/plain": [
       "  0%|          | 0/1 [00:00<?, ?it/s]"
      ]
     },
     "metadata": {},
     "output_type": "display_data"
    },
    {
     "ename": "TypeError",
     "evalue": "cannot unpack non-iterable NoneType object",
     "output_type": "error",
     "traceback": [
      "\u001b[0;31m---------------------------------------------------------------------------\u001b[0m",
      "\u001b[0;31mTypeError\u001b[0m                                 Traceback (most recent call last)",
      "Cell \u001b[0;32mIn[167], line 12\u001b[0m\n\u001b[1;32m      5\u001b[0m generic_filepath \u001b[38;5;241m=\u001b[39m get_generic_image_filepath( row\u001b[38;5;241m.\u001b[39mpdf_filename, row\u001b[38;5;241m.\u001b[39mjob, row\u001b[38;5;241m.\u001b[39mmethod, row\u001b[38;5;241m.\u001b[39midx, variant\u001b[38;5;241m=\u001b[39m\u001b[38;5;124m'\u001b[39m\u001b[38;5;124m4c\u001b[39m\u001b[38;5;124m'\u001b[39m )\n\u001b[1;32m      7\u001b[0m original_img \u001b[38;5;241m=\u001b[39m open_img( original_filepath )\u001b[38;5;241m.\u001b[39mcrop((\n\u001b[1;32m      8\u001b[0m     row\u001b[38;5;241m.\u001b[39mbbox[\u001b[38;5;241m0\u001b[39m],row\u001b[38;5;241m.\u001b[39mbbox[\u001b[38;5;241m1\u001b[39m],\n\u001b[1;32m      9\u001b[0m     row\u001b[38;5;241m.\u001b[39mbbox[\u001b[38;5;241m0\u001b[39m]\u001b[38;5;241m+\u001b[39mrow\u001b[38;5;241m.\u001b[39mbbox[\u001b[38;5;241m2\u001b[39m],row\u001b[38;5;241m.\u001b[39mbbox[\u001b[38;5;241m1\u001b[39m]\u001b[38;5;241m+\u001b[39mrow\u001b[38;5;241m.\u001b[39mbbox[\u001b[38;5;241m3\u001b[39m]\n\u001b[1;32m     10\u001b[0m ))\n\u001b[0;32m---> 12\u001b[0m generic_img \u001b[38;5;241m=\u001b[39m \u001b[43mopen_img\u001b[49m\u001b[43m(\u001b[49m\u001b[43m \u001b[49m\u001b[43mgeneric_filepath\u001b[49m\u001b[43m \u001b[49m\u001b[43m)\u001b[49m\u001b[38;5;241m.\u001b[39mcrop((\n\u001b[1;32m     13\u001b[0m     row\u001b[38;5;241m.\u001b[39mbbox[\u001b[38;5;241m0\u001b[39m],row\u001b[38;5;241m.\u001b[39mbbox[\u001b[38;5;241m1\u001b[39m],\n\u001b[1;32m     14\u001b[0m     row\u001b[38;5;241m.\u001b[39mbbox[\u001b[38;5;241m0\u001b[39m]\u001b[38;5;241m+\u001b[39mrow\u001b[38;5;241m.\u001b[39mbbox[\u001b[38;5;241m2\u001b[39m],row\u001b[38;5;241m.\u001b[39mbbox[\u001b[38;5;241m1\u001b[39m]\u001b[38;5;241m+\u001b[39mrow\u001b[38;5;241m.\u001b[39mbbox[\u001b[38;5;241m3\u001b[39m]\n\u001b[1;32m     15\u001b[0m ))\n\u001b[1;32m     17\u001b[0m diff_img \u001b[38;5;241m=\u001b[39m np\u001b[38;5;241m.\u001b[39marray( original_img )[:,:,\u001b[38;5;241m3\u001b[39m] \u001b[38;5;241m-\u001b[39m np\u001b[38;5;241m.\u001b[39marray( generic_img )[:,:,\u001b[38;5;241m3\u001b[39m]\n\u001b[1;32m     18\u001b[0m fft \u001b[38;5;241m=\u001b[39m get_fft(np\u001b[38;5;241m.\u001b[39marray( original_img )[:,:,\u001b[38;5;241m3\u001b[39m])\n",
      "File \u001b[0;32m~/Documents/GitHub/master-thesis_moire_detection/60_gebastel/Musterueberlagerung/../../30_data_tools/file_interaction.py:126\u001b[0m, in \u001b[0;36mopen_img\u001b[0;34m(img_file_path)\u001b[0m\n\u001b[1;32m    123\u001b[0m \u001b[38;5;28;01mif\u001b[39;00m img_file_path \u001b[38;5;129;01mis\u001b[39;00m \u001b[38;5;28;01mNone\u001b[39;00m:\n\u001b[1;32m    124\u001b[0m     \u001b[38;5;167;01mException\u001b[39;00m(\u001b[38;5;124m'\u001b[39m\u001b[38;5;124mimage not available\u001b[39m\u001b[38;5;124m'\u001b[39m)\n\u001b[0;32m--> 126\u001b[0m img_path, storage_type \u001b[38;5;241m=\u001b[39m img_file_path\n\u001b[1;32m    128\u001b[0m \u001b[38;5;28;01mif\u001b[39;00m storage_type \u001b[38;5;241m==\u001b[39m \u001b[38;5;124m'\u001b[39m\u001b[38;5;124mazure\u001b[39m\u001b[38;5;124m'\u001b[39m:\n\u001b[1;32m    129\u001b[0m     img \u001b[38;5;241m=\u001b[39m Image\u001b[38;5;241m.\u001b[39mopen( download_blob(img_path) )\n",
      "\u001b[0;31mTypeError\u001b[0m: cannot unpack non-iterable NoneType object"
     ]
    }
   ],
   "source": [
    "for idx in tqdm(sample.index):\n",
    "    row = masks.loc[idx]\n",
    "    \n",
    "    original_filepath = get_related_filepath( row.job, row.variant_name, f'{row.pdf_filename}.4c.jpg' )\n",
    "    generic_filepath = get_generic_image_filepath( row.pdf_filename, row.job, row.method, row.idx, variant='4c' )\n",
    "    \n",
    "    original_img = open_img( original_filepath ).crop((\n",
    "        row.bbox[0],row.bbox[1],\n",
    "        row.bbox[0]+row.bbox[2],row.bbox[1]+row.bbox[3]\n",
    "    ))\n",
    "    \n",
    "    generic_img = open_img( generic_filepath ).crop((\n",
    "        row.bbox[0],row.bbox[1],\n",
    "        row.bbox[0]+row.bbox[2],row.bbox[1]+row.bbox[3]\n",
    "    ))\n",
    "    \n",
    "    diff_img = np.array( original_img )[:,:,3] - np.array( generic_img )[:,:,3]\n",
    "    fft = get_fft(np.array( original_img )[:,:,3])\n",
    "    fft = limit_frequencies( fft, inner_limit=max(fft.shape) * 0.1 )\n",
    "    filtered = ndimage.uniform_filter( np.abs(fft) , size=10)\n",
    "    dog_fft = difference_of_gaussians( filtered, 1.5 )\n",
    "    \n",
    "    masks.loc[\n",
    "        idx,\n",
    "        'threshold_sum'\n",
    "    ] = dog_fft[dog_fft > dog_fft.max() * 0.66].sum()"
   ]
  },
  {
   "cell_type": "code",
   "execution_count": 183,
   "id": "6e5a60f1-92a5-45ad-95ac-49c6ef74199f",
   "metadata": {},
   "outputs": [
    {
     "data": {
      "text/plain": [
       "pdf_filename                     122079.046-049_disney_feiern.p4\n",
       "job                                 24-03-05-01_randomTrainPages\n",
       "type                                                          4c\n",
       "variant_name                                      halftone600dpi\n",
       "method                                                soft_light\n",
       "idx                                                            1\n",
       "bbox                                      [1328, 620, 1272, 808]\n",
       "ssim                                                    0.999308\n",
       "mask_id                temp_f23e8264-9737-45a9-a1a7-c07b767a44a2\n",
       "overlay_intensity_C                                          0.0\n",
       "overlay_intensity_M                                          0.0\n",
       "overlay_intensity_Y                                          0.0\n",
       "overlay_intensity_K                                          1.0\n",
       "pattern                                         pattern_line_040\n",
       "pattern_position                                      -497;-2399\n",
       "label                                                        NaN\n",
       "mse                                                          NaN\n",
       "threshold_sum                                                NaN\n",
       "Name: 2358, dtype: object"
      ]
     },
     "execution_count": 183,
     "metadata": {},
     "output_type": "execute_result"
    }
   ],
   "source": [
    "row = sample.iloc[0]\n",
    "row"
   ]
  },
  {
   "cell_type": "code",
   "execution_count": 184,
   "id": "88a2acf4-1169-4f21-9f8b-cd1df6f6ad76",
   "metadata": {},
   "outputs": [
    {
     "data": {
      "text/plain": [
       "'122079.046-049_disney_feiern.p4.4c_600.jpg'"
      ]
     },
     "execution_count": 184,
     "metadata": {},
     "output_type": "execute_result"
    }
   ],
   "source": [
    "f'{row.pdf_filename}.4c_600.jpg'"
   ]
  },
  {
   "cell_type": "code",
   "execution_count": 190,
   "id": "37b6cdb4-cfcf-4daf-9a55-b478aba533e7",
   "metadata": {},
   "outputs": [],
   "source": [
    "get_related_filepath( row.job, 'ps2400dpi150lpi', f'{row.pdf_filename}.4c_600.jpg' )"
   ]
  },
  {
   "cell_type": "code",
   "execution_count": 160,
   "id": "8d83a401-b0dc-4900-b184-fed244c0092f",
   "metadata": {},
   "outputs": [
    {
     "data": {
      "application/vnd.plotly.v1+json": {
       "config": {
        "plotlyServerURL": "https://plot.ly"
       },
       "data": [
        {
         "hovertemplate": "color=checked_no_moire<br>x=%{x}<br>y=%{y}<extra></extra>",
         "legendgroup": "checked_no_moire",
         "marker": {
          "color": "#EF553B",
          "symbol": "circle"
         },
         "mode": "markers",
         "name": "checked_no_moire",
         "orientation": "v",
         "showlegend": true,
         "type": "scatter",
         "x": [
          3,
          5,
          7,
          8,
          12,
          13,
          14,
          21,
          23
         ],
         "xaxis": "x",
         "y": [
          1065566.3968400054,
          113860.5948587412,
          203032.17079095545,
          276398.7599661432,
          913517.0867537849,
          143305.5833280012,
          2365872.7140516704,
          705530.5894096491,
          878589.5037962977
         ],
         "yaxis": "y"
        },
        {
         "hovertemplate": "color=checked_moire<br>x=%{x}<br>y=%{y}<extra></extra>",
         "legendgroup": "checked_moire",
         "marker": {
          "color": "#00cc96",
          "symbol": "circle"
         },
         "mode": "markers",
         "name": "checked_moire",
         "orientation": "v",
         "showlegend": true,
         "type": "scatter",
         "x": [
          4,
          11,
          17
         ],
         "xaxis": "x",
         "y": [
          100836.6501701183,
          29313.896122684167,
          935748.659019579
         ],
         "yaxis": "y"
        }
       ],
       "layout": {
        "autosize": true,
        "legend": {
         "title": {
          "text": "color"
         },
         "tracegroupgap": 0
        },
        "margin": {
         "t": 60
        },
        "template": {
         "data": {
          "bar": [
           {
            "error_x": {
             "color": "#2a3f5f"
            },
            "error_y": {
             "color": "#2a3f5f"
            },
            "marker": {
             "line": {
              "color": "#E5ECF6",
              "width": 0.5
             },
             "pattern": {
              "fillmode": "overlay",
              "size": 10,
              "solidity": 0.2
             }
            },
            "type": "bar"
           }
          ],
          "barpolar": [
           {
            "marker": {
             "line": {
              "color": "#E5ECF6",
              "width": 0.5
             },
             "pattern": {
              "fillmode": "overlay",
              "size": 10,
              "solidity": 0.2
             }
            },
            "type": "barpolar"
           }
          ],
          "carpet": [
           {
            "aaxis": {
             "endlinecolor": "#2a3f5f",
             "gridcolor": "white",
             "linecolor": "white",
             "minorgridcolor": "white",
             "startlinecolor": "#2a3f5f"
            },
            "baxis": {
             "endlinecolor": "#2a3f5f",
             "gridcolor": "white",
             "linecolor": "white",
             "minorgridcolor": "white",
             "startlinecolor": "#2a3f5f"
            },
            "type": "carpet"
           }
          ],
          "choropleth": [
           {
            "colorbar": {
             "outlinewidth": 0,
             "ticks": ""
            },
            "type": "choropleth"
           }
          ],
          "contour": [
           {
            "colorbar": {
             "outlinewidth": 0,
             "ticks": ""
            },
            "colorscale": [
             [
              0,
              "#0d0887"
             ],
             [
              0.1111111111111111,
              "#46039f"
             ],
             [
              0.2222222222222222,
              "#7201a8"
             ],
             [
              0.3333333333333333,
              "#9c179e"
             ],
             [
              0.4444444444444444,
              "#bd3786"
             ],
             [
              0.5555555555555556,
              "#d8576b"
             ],
             [
              0.6666666666666666,
              "#ed7953"
             ],
             [
              0.7777777777777778,
              "#fb9f3a"
             ],
             [
              0.8888888888888888,
              "#fdca26"
             ],
             [
              1,
              "#f0f921"
             ]
            ],
            "type": "contour"
           }
          ],
          "contourcarpet": [
           {
            "colorbar": {
             "outlinewidth": 0,
             "ticks": ""
            },
            "type": "contourcarpet"
           }
          ],
          "heatmap": [
           {
            "colorbar": {
             "outlinewidth": 0,
             "ticks": ""
            },
            "colorscale": [
             [
              0,
              "#0d0887"
             ],
             [
              0.1111111111111111,
              "#46039f"
             ],
             [
              0.2222222222222222,
              "#7201a8"
             ],
             [
              0.3333333333333333,
              "#9c179e"
             ],
             [
              0.4444444444444444,
              "#bd3786"
             ],
             [
              0.5555555555555556,
              "#d8576b"
             ],
             [
              0.6666666666666666,
              "#ed7953"
             ],
             [
              0.7777777777777778,
              "#fb9f3a"
             ],
             [
              0.8888888888888888,
              "#fdca26"
             ],
             [
              1,
              "#f0f921"
             ]
            ],
            "type": "heatmap"
           }
          ],
          "heatmapgl": [
           {
            "colorbar": {
             "outlinewidth": 0,
             "ticks": ""
            },
            "colorscale": [
             [
              0,
              "#0d0887"
             ],
             [
              0.1111111111111111,
              "#46039f"
             ],
             [
              0.2222222222222222,
              "#7201a8"
             ],
             [
              0.3333333333333333,
              "#9c179e"
             ],
             [
              0.4444444444444444,
              "#bd3786"
             ],
             [
              0.5555555555555556,
              "#d8576b"
             ],
             [
              0.6666666666666666,
              "#ed7953"
             ],
             [
              0.7777777777777778,
              "#fb9f3a"
             ],
             [
              0.8888888888888888,
              "#fdca26"
             ],
             [
              1,
              "#f0f921"
             ]
            ],
            "type": "heatmapgl"
           }
          ],
          "histogram": [
           {
            "marker": {
             "pattern": {
              "fillmode": "overlay",
              "size": 10,
              "solidity": 0.2
             }
            },
            "type": "histogram"
           }
          ],
          "histogram2d": [
           {
            "colorbar": {
             "outlinewidth": 0,
             "ticks": ""
            },
            "colorscale": [
             [
              0,
              "#0d0887"
             ],
             [
              0.1111111111111111,
              "#46039f"
             ],
             [
              0.2222222222222222,
              "#7201a8"
             ],
             [
              0.3333333333333333,
              "#9c179e"
             ],
             [
              0.4444444444444444,
              "#bd3786"
             ],
             [
              0.5555555555555556,
              "#d8576b"
             ],
             [
              0.6666666666666666,
              "#ed7953"
             ],
             [
              0.7777777777777778,
              "#fb9f3a"
             ],
             [
              0.8888888888888888,
              "#fdca26"
             ],
             [
              1,
              "#f0f921"
             ]
            ],
            "type": "histogram2d"
           }
          ],
          "histogram2dcontour": [
           {
            "colorbar": {
             "outlinewidth": 0,
             "ticks": ""
            },
            "colorscale": [
             [
              0,
              "#0d0887"
             ],
             [
              0.1111111111111111,
              "#46039f"
             ],
             [
              0.2222222222222222,
              "#7201a8"
             ],
             [
              0.3333333333333333,
              "#9c179e"
             ],
             [
              0.4444444444444444,
              "#bd3786"
             ],
             [
              0.5555555555555556,
              "#d8576b"
             ],
             [
              0.6666666666666666,
              "#ed7953"
             ],
             [
              0.7777777777777778,
              "#fb9f3a"
             ],
             [
              0.8888888888888888,
              "#fdca26"
             ],
             [
              1,
              "#f0f921"
             ]
            ],
            "type": "histogram2dcontour"
           }
          ],
          "mesh3d": [
           {
            "colorbar": {
             "outlinewidth": 0,
             "ticks": ""
            },
            "type": "mesh3d"
           }
          ],
          "parcoords": [
           {
            "line": {
             "colorbar": {
              "outlinewidth": 0,
              "ticks": ""
             }
            },
            "type": "parcoords"
           }
          ],
          "pie": [
           {
            "automargin": true,
            "type": "pie"
           }
          ],
          "scatter": [
           {
            "fillpattern": {
             "fillmode": "overlay",
             "size": 10,
             "solidity": 0.2
            },
            "type": "scatter"
           }
          ],
          "scatter3d": [
           {
            "line": {
             "colorbar": {
              "outlinewidth": 0,
              "ticks": ""
             }
            },
            "marker": {
             "colorbar": {
              "outlinewidth": 0,
              "ticks": ""
             }
            },
            "type": "scatter3d"
           }
          ],
          "scattercarpet": [
           {
            "marker": {
             "colorbar": {
              "outlinewidth": 0,
              "ticks": ""
             }
            },
            "type": "scattercarpet"
           }
          ],
          "scattergeo": [
           {
            "marker": {
             "colorbar": {
              "outlinewidth": 0,
              "ticks": ""
             }
            },
            "type": "scattergeo"
           }
          ],
          "scattergl": [
           {
            "marker": {
             "colorbar": {
              "outlinewidth": 0,
              "ticks": ""
             }
            },
            "type": "scattergl"
           }
          ],
          "scattermapbox": [
           {
            "marker": {
             "colorbar": {
              "outlinewidth": 0,
              "ticks": ""
             }
            },
            "type": "scattermapbox"
           }
          ],
          "scatterpolar": [
           {
            "marker": {
             "colorbar": {
              "outlinewidth": 0,
              "ticks": ""
             }
            },
            "type": "scatterpolar"
           }
          ],
          "scatterpolargl": [
           {
            "marker": {
             "colorbar": {
              "outlinewidth": 0,
              "ticks": ""
             }
            },
            "type": "scatterpolargl"
           }
          ],
          "scatterternary": [
           {
            "marker": {
             "colorbar": {
              "outlinewidth": 0,
              "ticks": ""
             }
            },
            "type": "scatterternary"
           }
          ],
          "surface": [
           {
            "colorbar": {
             "outlinewidth": 0,
             "ticks": ""
            },
            "colorscale": [
             [
              0,
              "#0d0887"
             ],
             [
              0.1111111111111111,
              "#46039f"
             ],
             [
              0.2222222222222222,
              "#7201a8"
             ],
             [
              0.3333333333333333,
              "#9c179e"
             ],
             [
              0.4444444444444444,
              "#bd3786"
             ],
             [
              0.5555555555555556,
              "#d8576b"
             ],
             [
              0.6666666666666666,
              "#ed7953"
             ],
             [
              0.7777777777777778,
              "#fb9f3a"
             ],
             [
              0.8888888888888888,
              "#fdca26"
             ],
             [
              1,
              "#f0f921"
             ]
            ],
            "type": "surface"
           }
          ],
          "table": [
           {
            "cells": {
             "fill": {
              "color": "#EBF0F8"
             },
             "line": {
              "color": "white"
             }
            },
            "header": {
             "fill": {
              "color": "#C8D4E3"
             },
             "line": {
              "color": "white"
             }
            },
            "type": "table"
           }
          ]
         },
         "layout": {
          "annotationdefaults": {
           "arrowcolor": "#2a3f5f",
           "arrowhead": 0,
           "arrowwidth": 1
          },
          "autotypenumbers": "strict",
          "coloraxis": {
           "colorbar": {
            "outlinewidth": 0,
            "ticks": ""
           }
          },
          "colorscale": {
           "diverging": [
            [
             0,
             "#8e0152"
            ],
            [
             0.1,
             "#c51b7d"
            ],
            [
             0.2,
             "#de77ae"
            ],
            [
             0.3,
             "#f1b6da"
            ],
            [
             0.4,
             "#fde0ef"
            ],
            [
             0.5,
             "#f7f7f7"
            ],
            [
             0.6,
             "#e6f5d0"
            ],
            [
             0.7,
             "#b8e186"
            ],
            [
             0.8,
             "#7fbc41"
            ],
            [
             0.9,
             "#4d9221"
            ],
            [
             1,
             "#276419"
            ]
           ],
           "sequential": [
            [
             0,
             "#0d0887"
            ],
            [
             0.1111111111111111,
             "#46039f"
            ],
            [
             0.2222222222222222,
             "#7201a8"
            ],
            [
             0.3333333333333333,
             "#9c179e"
            ],
            [
             0.4444444444444444,
             "#bd3786"
            ],
            [
             0.5555555555555556,
             "#d8576b"
            ],
            [
             0.6666666666666666,
             "#ed7953"
            ],
            [
             0.7777777777777778,
             "#fb9f3a"
            ],
            [
             0.8888888888888888,
             "#fdca26"
            ],
            [
             1,
             "#f0f921"
            ]
           ],
           "sequentialminus": [
            [
             0,
             "#0d0887"
            ],
            [
             0.1111111111111111,
             "#46039f"
            ],
            [
             0.2222222222222222,
             "#7201a8"
            ],
            [
             0.3333333333333333,
             "#9c179e"
            ],
            [
             0.4444444444444444,
             "#bd3786"
            ],
            [
             0.5555555555555556,
             "#d8576b"
            ],
            [
             0.6666666666666666,
             "#ed7953"
            ],
            [
             0.7777777777777778,
             "#fb9f3a"
            ],
            [
             0.8888888888888888,
             "#fdca26"
            ],
            [
             1,
             "#f0f921"
            ]
           ]
          },
          "colorway": [
           "#636efa",
           "#EF553B",
           "#00cc96",
           "#ab63fa",
           "#FFA15A",
           "#19d3f3",
           "#FF6692",
           "#B6E880",
           "#FF97FF",
           "#FECB52"
          ],
          "font": {
           "color": "#2a3f5f"
          },
          "geo": {
           "bgcolor": "white",
           "lakecolor": "white",
           "landcolor": "#E5ECF6",
           "showlakes": true,
           "showland": true,
           "subunitcolor": "white"
          },
          "hoverlabel": {
           "align": "left"
          },
          "hovermode": "closest",
          "mapbox": {
           "style": "light"
          },
          "paper_bgcolor": "white",
          "plot_bgcolor": "#E5ECF6",
          "polar": {
           "angularaxis": {
            "gridcolor": "white",
            "linecolor": "white",
            "ticks": ""
           },
           "bgcolor": "#E5ECF6",
           "radialaxis": {
            "gridcolor": "white",
            "linecolor": "white",
            "ticks": ""
           }
          },
          "scene": {
           "xaxis": {
            "backgroundcolor": "#E5ECF6",
            "gridcolor": "white",
            "gridwidth": 2,
            "linecolor": "white",
            "showbackground": true,
            "ticks": "",
            "zerolinecolor": "white"
           },
           "yaxis": {
            "backgroundcolor": "#E5ECF6",
            "gridcolor": "white",
            "gridwidth": 2,
            "linecolor": "white",
            "showbackground": true,
            "ticks": "",
            "zerolinecolor": "white"
           },
           "zaxis": {
            "backgroundcolor": "#E5ECF6",
            "gridcolor": "white",
            "gridwidth": 2,
            "linecolor": "white",
            "showbackground": true,
            "ticks": "",
            "zerolinecolor": "white"
           }
          },
          "shapedefaults": {
           "line": {
            "color": "#2a3f5f"
           }
          },
          "ternary": {
           "aaxis": {
            "gridcolor": "white",
            "linecolor": "white",
            "ticks": ""
           },
           "baxis": {
            "gridcolor": "white",
            "linecolor": "white",
            "ticks": ""
           },
           "bgcolor": "#E5ECF6",
           "caxis": {
            "gridcolor": "white",
            "linecolor": "white",
            "ticks": ""
           }
          },
          "title": {
           "x": 0.05
          },
          "xaxis": {
           "automargin": true,
           "gridcolor": "white",
           "linecolor": "white",
           "ticks": "",
           "title": {
            "standoff": 15
           },
           "zerolinecolor": "white",
           "zerolinewidth": 2
          },
          "yaxis": {
           "automargin": true,
           "gridcolor": "white",
           "linecolor": "white",
           "ticks": "",
           "title": {
            "standoff": 15
           },
           "zerolinecolor": "white",
           "zerolinewidth": 2
          }
         }
        },
        "xaxis": {
         "anchor": "y",
         "autorange": true,
         "domain": [
          0,
          1
         ],
         "range": [
          1.7923041261010662,
          24.207695873898935
         ],
         "title": {
          "text": "x"
         },
         "type": "linear"
        },
        "yaxis": {
         "anchor": "x",
         "autorange": true,
         "domain": [
          0,
          1
         ],
         "range": [
          -151600.76300830033,
          2546787.373182655
         ],
         "title": {
          "text": "y"
         },
         "type": "linear"
        }
       }
      },
      "image/png": "[encoded data removed]",
      "text/html": [
       "<div>                            <div id=\"bb389cc0-85bb-4c90-ab01-5e41a8ec18d7\" class=\"plotly-graph-div\" style=\"height:525px; width:100%;\"></div>            <script type=\"text/javascript\">                require([\"plotly\"], function(Plotly) {                    window.PLOTLYENV=window.PLOTLYENV || {};                                    if (document.getElementById(\"bb389cc0-85bb-4c90-ab01-5e41a8ec18d7\")) {                    Plotly.newPlot(                        \"bb389cc0-85bb-4c90-ab01-5e41a8ec18d7\",                        [{\"hovertemplate\":\"color=checked_no_moire\\u003cbr\\u003ex=%{x}\\u003cbr\\u003ey=%{y}\\u003cextra\\u003e\\u003c\\u002fextra\\u003e\",\"legendgroup\":\"checked_no_moire\",\"marker\":{\"color\":\"#EF553B\",\"symbol\":\"circle\"},\"mode\":\"markers\",\"name\":\"checked_no_moire\",\"orientation\":\"v\",\"showlegend\":true,\"x\":[3,5,7,8,12,13,14,21,23],\"xaxis\":\"x\",\"y\":[1065566.3968400054,113860.5948587412,203032.17079095545,276398.7599661432,913517.0867537849,143305.5833280012,2365872.7140516704,705530.5894096491,878589.5037962977],\"yaxis\":\"y\",\"type\":\"scatter\"},{\"hovertemplate\":\"color=checked_moire\\u003cbr\\u003ex=%{x}\\u003cbr\\u003ey=%{y}\\u003cextra\\u003e\\u003c\\u002fextra\\u003e\",\"legendgroup\":\"checked_moire\",\"marker\":{\"color\":\"#00cc96\",\"symbol\":\"circle\"},\"mode\":\"markers\",\"name\":\"checked_moire\",\"orientation\":\"v\",\"showlegend\":true,\"x\":[4,11,17],\"xaxis\":\"x\",\"y\":[100836.6501701183,29313.896122684167,935748.659019579],\"yaxis\":\"y\",\"type\":\"scatter\"}],                        {\"template\":{\"data\":{\"histogram2dcontour\":[{\"type\":\"histogram2dcontour\",\"colorbar\":{\"outlinewidth\":0,\"ticks\":\"\"},\"colorscale\":[[0.0,\"#0d0887\"],[0.1111111111111111,\"#46039f\"],[0.2222222222222222,\"#7201a8\"],[0.3333333333333333,\"#9c179e\"],[0.4444444444444444,\"#bd3786\"],[0.5555555555555556,\"#d8576b\"],[0.6666666666666666,\"#ed7953\"],[0.7777777777777778,\"#fb9f3a\"],[0.8888888888888888,\"#fdca26\"],[1.0,\"#f0f921\"]]}],\"choropleth\":[{\"type\":\"choropleth\",\"colorbar\":{\"outlinewidth\":0,\"ticks\":\"\"}}],\"histogram2d\":[{\"type\":\"histogram2d\",\"colorbar\":{\"outlinewidth\":0,\"ticks\":\"\"},\"colorscale\":[[0.0,\"#0d0887\"],[0.1111111111111111,\"#46039f\"],[0.2222222222222222,\"#7201a8\"],[0.3333333333333333,\"#9c179e\"],[0.4444444444444444,\"#bd3786\"],[0.5555555555555556,\"#d8576b\"],[0.6666666666666666,\"#ed7953\"],[0.7777777777777778,\"#fb9f3a\"],[0.8888888888888888,\"#fdca26\"],[1.0,\"#f0f921\"]]}],\"heatmap\":[{\"type\":\"heatmap\",\"colorbar\":{\"outlinewidth\":0,\"ticks\":\"\"},\"colorscale\":[[0.0,\"#0d0887\"],[0.1111111111111111,\"#46039f\"],[0.2222222222222222,\"#7201a8\"],[0.3333333333333333,\"#9c179e\"],[0.4444444444444444,\"#bd3786\"],[0.5555555555555556,\"#d8576b\"],[0.6666666666666666,\"#ed7953\"],[0.7777777777777778,\"#fb9f3a\"],[0.8888888888888888,\"#fdca26\"],[1.0,\"#f0f921\"]]}],\"heatmapgl\":[{\"type\":\"heatmapgl\",\"colorbar\":{\"outlinewidth\":0,\"ticks\":\"\"},\"colorscale\":[[0.0,\"#0d0887\"],[0.1111111111111111,\"#46039f\"],[0.2222222222222222,\"#7201a8\"],[0.3333333333333333,\"#9c179e\"],[0.4444444444444444,\"#bd3786\"],[0.5555555555555556,\"#d8576b\"],[0.6666666666666666,\"#ed7953\"],[0.7777777777777778,\"#fb9f3a\"],[0.8888888888888888,\"#fdca26\"],[1.0,\"#f0f921\"]]}],\"contourcarpet\":[{\"type\":\"contourcarpet\",\"colorbar\":{\"outlinewidth\":0,\"ticks\":\"\"}}],\"contour\":[{\"type\":\"contour\",\"colorbar\":{\"outlinewidth\":0,\"ticks\":\"\"},\"colorscale\":[[0.0,\"#0d0887\"],[0.1111111111111111,\"#46039f\"],[0.2222222222222222,\"#7201a8\"],[0.3333333333333333,\"#9c179e\"],[0.4444444444444444,\"#bd3786\"],[0.5555555555555556,\"#d8576b\"],[0.6666666666666666,\"#ed7953\"],[0.7777777777777778,\"#fb9f3a\"],[0.8888888888888888,\"#fdca26\"],[1.0,\"#f0f921\"]]}],\"surface\":[{\"type\":\"surface\",\"colorbar\":{\"outlinewidth\":0,\"ticks\":\"\"},\"colorscale\":[[0.0,\"#0d0887\"],[0.1111111111111111,\"#46039f\"],[0.2222222222222222,\"#7201a8\"],[0.3333333333333333,\"#9c179e\"],[0.4444444444444444,\"#bd3786\"],[0.5555555555555556,\"#d8576b\"],[0.6666666666666666,\"#ed7953\"],[0.7777777777777778,\"#fb9f3a\"],[0.8888888888888888,\"#fdca26\"],[1.0,\"#f0f921\"]]}],\"mesh3d\":[{\"type\":\"mesh3d\",\"colorbar\":{\"outlinewidth\":0,\"ticks\":\"\"}}],\"scatter\":[{\"fillpattern\":{\"fillmode\":\"overlay\",\"size\":10,\"solidity\":0.2},\"type\":\"scatter\"}],\"parcoords\":[{\"type\":\"parcoords\",\"line\":{\"colorbar\":{\"outlinewidth\":0,\"ticks\":\"\"}}}],\"scatterpolargl\":[{\"type\":\"scatterpolargl\",\"marker\":{\"colorbar\":{\"outlinewidth\":0,\"ticks\":\"\"}}}],\"bar\":[{\"error_x\":{\"color\":\"#2a3f5f\"},\"error_y\":{\"color\":\"#2a3f5f\"},\"marker\":{\"line\":{\"color\":\"#E5ECF6\",\"width\":0.5},\"pattern\":{\"fillmode\":\"overlay\",\"size\":10,\"solidity\":0.2}},\"type\":\"bar\"}],\"scattergeo\":[{\"type\":\"scattergeo\",\"marker\":{\"colorbar\":{\"outlinewidth\":0,\"ticks\":\"\"}}}],\"scatterpolar\":[{\"type\":\"scatterpolar\",\"marker\":{\"colorbar\":{\"outlinewidth\":0,\"ticks\":\"\"}}}],\"histogram\":[{\"marker\":{\"pattern\":{\"fillmode\":\"overlay\",\"size\":10,\"solidity\":0.2}},\"type\":\"histogram\"}],\"scattergl\":[{\"type\":\"scattergl\",\"marker\":{\"colorbar\":{\"outlinewidth\":0,\"ticks\":\"\"}}}],\"scatter3d\":[{\"type\":\"scatter3d\",\"line\":{\"colorbar\":{\"outlinewidth\":0,\"ticks\":\"\"}},\"marker\":{\"colorbar\":{\"outlinewidth\":0,\"ticks\":\"\"}}}],\"scattermapbox\":[{\"type\":\"scattermapbox\",\"marker\":{\"colorbar\":{\"outlinewidth\":0,\"ticks\":\"\"}}}],\"scatterternary\":[{\"type\":\"scatterternary\",\"marker\":{\"colorbar\":{\"outlinewidth\":0,\"ticks\":\"\"}}}],\"scattercarpet\":[{\"type\":\"scattercarpet\",\"marker\":{\"colorbar\":{\"outlinewidth\":0,\"ticks\":\"\"}}}],\"carpet\":[{\"aaxis\":{\"endlinecolor\":\"#2a3f5f\",\"gridcolor\":\"white\",\"linecolor\":\"white\",\"minorgridcolor\":\"white\",\"startlinecolor\":\"#2a3f5f\"},\"baxis\":{\"endlinecolor\":\"#2a3f5f\",\"gridcolor\":\"white\",\"linecolor\":\"white\",\"minorgridcolor\":\"white\",\"startlinecolor\":\"#2a3f5f\"},\"type\":\"carpet\"}],\"table\":[{\"cells\":{\"fill\":{\"color\":\"#EBF0F8\"},\"line\":{\"color\":\"white\"}},\"header\":{\"fill\":{\"color\":\"#C8D4E3\"},\"line\":{\"color\":\"white\"}},\"type\":\"table\"}],\"barpolar\":[{\"marker\":{\"line\":{\"color\":\"#E5ECF6\",\"width\":0.5},\"pattern\":{\"fillmode\":\"overlay\",\"size\":10,\"solidity\":0.2}},\"type\":\"barpolar\"}],\"pie\":[{\"automargin\":true,\"type\":\"pie\"}]},\"layout\":{\"autotypenumbers\":\"strict\",\"colorway\":[\"#636efa\",\"#EF553B\",\"#00cc96\",\"#ab63fa\",\"#FFA15A\",\"#19d3f3\",\"#FF6692\",\"#B6E880\",\"#FF97FF\",\"#FECB52\"],\"font\":{\"color\":\"#2a3f5f\"},\"hovermode\":\"closest\",\"hoverlabel\":{\"align\":\"left\"},\"paper_bgcolor\":\"white\",\"plot_bgcolor\":\"#E5ECF6\",\"polar\":{\"bgcolor\":\"#E5ECF6\",\"angularaxis\":{\"gridcolor\":\"white\",\"linecolor\":\"white\",\"ticks\":\"\"},\"radialaxis\":{\"gridcolor\":\"white\",\"linecolor\":\"white\",\"ticks\":\"\"}},\"ternary\":{\"bgcolor\":\"#E5ECF6\",\"aaxis\":{\"gridcolor\":\"white\",\"linecolor\":\"white\",\"ticks\":\"\"},\"baxis\":{\"gridcolor\":\"white\",\"linecolor\":\"white\",\"ticks\":\"\"},\"caxis\":{\"gridcolor\":\"white\",\"linecolor\":\"white\",\"ticks\":\"\"}},\"coloraxis\":{\"colorbar\":{\"outlinewidth\":0,\"ticks\":\"\"}},\"colorscale\":{\"sequential\":[[0.0,\"#0d0887\"],[0.1111111111111111,\"#46039f\"],[0.2222222222222222,\"#7201a8\"],[0.3333333333333333,\"#9c179e\"],[0.4444444444444444,\"#bd3786\"],[0.5555555555555556,\"#d8576b\"],[0.6666666666666666,\"#ed7953\"],[0.7777777777777778,\"#fb9f3a\"],[0.8888888888888888,\"#fdca26\"],[1.0,\"#f0f921\"]],\"sequentialminus\":[[0.0,\"#0d0887\"],[0.1111111111111111,\"#46039f\"],[0.2222222222222222,\"#7201a8\"],[0.3333333333333333,\"#9c179e\"],[0.4444444444444444,\"#bd3786\"],[0.5555555555555556,\"#d8576b\"],[0.6666666666666666,\"#ed7953\"],[0.7777777777777778,\"#fb9f3a\"],[0.8888888888888888,\"#fdca26\"],[1.0,\"#f0f921\"]],\"diverging\":[[0,\"#8e0152\"],[0.1,\"#c51b7d\"],[0.2,\"#de77ae\"],[0.3,\"#f1b6da\"],[0.4,\"#fde0ef\"],[0.5,\"#f7f7f7\"],[0.6,\"#e6f5d0\"],[0.7,\"#b8e186\"],[0.8,\"#7fbc41\"],[0.9,\"#4d9221\"],[1,\"#276419\"]]},\"xaxis\":{\"gridcolor\":\"white\",\"linecolor\":\"white\",\"ticks\":\"\",\"title\":{\"standoff\":15},\"zerolinecolor\":\"white\",\"automargin\":true,\"zerolinewidth\":2},\"yaxis\":{\"gridcolor\":\"white\",\"linecolor\":\"white\",\"ticks\":\"\",\"title\":{\"standoff\":15},\"zerolinecolor\":\"white\",\"automargin\":true,\"zerolinewidth\":2},\"scene\":{\"xaxis\":{\"backgroundcolor\":\"#E5ECF6\",\"gridcolor\":\"white\",\"linecolor\":\"white\",\"showbackground\":true,\"ticks\":\"\",\"zerolinecolor\":\"white\",\"gridwidth\":2},\"yaxis\":{\"backgroundcolor\":\"#E5ECF6\",\"gridcolor\":\"white\",\"linecolor\":\"white\",\"showbackground\":true,\"ticks\":\"\",\"zerolinecolor\":\"white\",\"gridwidth\":2},\"zaxis\":{\"backgroundcolor\":\"#E5ECF6\",\"gridcolor\":\"white\",\"linecolor\":\"white\",\"showbackground\":true,\"ticks\":\"\",\"zerolinecolor\":\"white\",\"gridwidth\":2}},\"shapedefaults\":{\"line\":{\"color\":\"#2a3f5f\"}},\"annotationdefaults\":{\"arrowcolor\":\"#2a3f5f\",\"arrowhead\":0,\"arrowwidth\":1},\"geo\":{\"bgcolor\":\"white\",\"landcolor\":\"#E5ECF6\",\"subunitcolor\":\"white\",\"showland\":true,\"showlakes\":true,\"lakecolor\":\"white\"},\"title\":{\"x\":0.05},\"mapbox\":{\"style\":\"light\"}}},\"xaxis\":{\"anchor\":\"y\",\"domain\":[0.0,1.0],\"title\":{\"text\":\"x\"}},\"yaxis\":{\"anchor\":\"x\",\"domain\":[0.0,1.0],\"title\":{\"text\":\"y\"}},\"legend\":{\"title\":{\"text\":\"color\"},\"tracegroupgap\":0},\"margin\":{\"t\":60}},                        {\"responsive\": true}                    ).then(function(){\n",
       "                            \n",
       "var gd = document.getElementById('bb389cc0-85bb-4c90-ab01-5e41a8ec18d7');\n",
       "var x = new MutationObserver(function (mutations, observer) {{\n",
       "        var display = window.getComputedStyle(gd).display;\n",
       "        if (!display || display === 'none') {{\n",
       "            console.log([gd, 'removed!']);\n",
       "            Plotly.purge(gd);\n",
       "            observer.disconnect();\n",
       "        }}\n",
       "}});\n",
       "\n",
       "// Listen for the removal of the full notebook cells\n",
       "var notebookContainer = gd.closest('#notebook-container');\n",
       "if (notebookContainer) {{\n",
       "    x.observe(notebookContainer, {childList: true});\n",
       "}}\n",
       "\n",
       "// Listen for the clearing of the current output cell\n",
       "var outputEl = gd.closest('.output');\n",
       "if (outputEl) {{\n",
       "    x.observe(outputEl, {childList: true});\n",
       "}}\n",
       "\n",
       "                        })                };                });            </script>        </div>"
      ]
     },
     "metadata": {},
     "output_type": "display_data"
    }
   ],
   "source": [
    "px.scatter(\n",
    "    x=[i for i in range(masks.loc[pd.isna(masks.threshold_sum) == False].shape[0])],\n",
    "    y=masks.loc[pd.isna(masks.threshold_sum) == False].threshold_sum,\n",
    "    color=masks.loc[pd.isna(masks.threshold_sum) == False].label\n",
    ")"
   ]
  },
  {
   "cell_type": "code",
   "execution_count": 143,
   "id": "8ebe7c5d-f5f6-4d35-8c2f-a11b0153ff9f",
   "metadata": {
    "scrolled": true
   },
   "outputs": [],
   "source": [
    "all_impulses = get_main_impulses( dog_fft )\n",
    "normalized_impulses = normalize_impulses( all_impulses )\n",
    "clusters = get_clusters_of_impulses( normalized_impulses )"
   ]
  },
  {
   "cell_type": "code",
   "execution_count": 150,
   "id": "57324086-7768-4d53-8655-9ec2d81c23b7",
   "metadata": {},
   "outputs": [
    {
     "data": {
      "text/plain": [
       "176     0.004311\n",
       "180     0.002312\n",
       "220     0.000030\n",
       "283     0.000018\n",
       "419     0.000304\n",
       "481     2.213537\n",
       "499     0.013955\n",
       "539     0.007429\n",
       "619     0.008447\n",
       "644     0.002629\n",
       "655     0.028872\n",
       "710     0.000057\n",
       "858     1.363584\n",
       "1052    0.000014\n",
       "1097    0.080180\n",
       "1124    0.000071\n",
       "1169    0.041972\n",
       "1286    0.104984\n",
       "1344    0.000641\n",
       "1589    0.004390\n",
       "1669    0.066855\n",
       "1847    0.005955\n",
       "1888    0.096524\n",
       "2029    0.000014\n",
       "2186    0.046356\n",
       "2189    0.000101\n",
       "2339    0.005474\n",
       "2637    0.149863\n",
       "2970    0.001870\n",
       "3228    0.018925\n",
       "Name: mse, dtype: float64"
      ]
     },
     "execution_count": 150,
     "metadata": {},
     "output_type": "execute_result"
    }
   ],
   "source": [
    "masks.loc[pd.isna(masks.mse) == False].mse"
   ]
  },
  {
   "cell_type": "code",
   "execution_count": 149,
   "id": "f6ffb252-8ae7-49d3-86d8-e8d943019da2",
   "metadata": {},
   "outputs": [
    {
     "data": {
      "text/plain": [
       "2.2135367495132354"
      ]
     },
     "execution_count": 149,
     "metadata": {},
     "output_type": "execute_result"
    }
   ],
   "source": [
    "masks.loc[idx].mse"
   ]
  },
  {
   "cell_type": "code",
   "execution_count": 144,
   "id": "0e494b8c-a95f-48ac-ab00-32315e3296e9",
   "metadata": {},
   "outputs": [
    {
     "data": {
      "image/jpeg": "[encoded data removed]",
      "text/plain": [
       "<PIL.Image.Image image mode=CMYK size=444x88>"
      ]
     },
     "execution_count": 144,
     "metadata": {},
     "output_type": "execute_result"
    }
   ],
   "source": [
    "original_img"
   ]
  },
  {
   "cell_type": "code",
   "execution_count": 145,
   "id": "ccef0219-d7a8-429c-a3eb-f5fde8edb151",
   "metadata": {},
   "outputs": [
    {
     "data": {
      "image/jpeg": "[encoded data removed]",
      "text/plain": [
       "<PIL.Image.Image image mode=CMYK size=444x88>"
      ]
     },
     "execution_count": 145,
     "metadata": {},
     "output_type": "execute_result"
    }
   ],
   "source": [
    "generic_img"
   ]
  }
 ],
 "metadata": {
  "kernelspec": {
   "display_name": "Python 3 (ipykernel)",
   "language": "python",
   "name": "python3"
  },
  "language_info": {
   "codemirror_mode": {
    "name": "ipython",
    "version": 3
   },
   "file_extension": ".py",
   "mimetype": "text/x-python",
   "name": "python",
   "nbconvert_exporter": "python",
   "pygments_lexer": "ipython3",
   "version": "3.10.11"
  }
 },
 "nbformat": 4,
 "nbformat_minor": 5
}
