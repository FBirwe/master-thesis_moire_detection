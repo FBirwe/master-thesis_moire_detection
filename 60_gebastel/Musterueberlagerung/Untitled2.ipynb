{
 "cells": [
  {
   "cell_type": "code",
   "execution_count": 1,
   "id": "a1f792cc-87c8-4ec9-95cf-43a129e2f2b6",
   "metadata": {},
   "outputs": [],
   "source": [
    "import sys\n",
    "sys.path.append('../../30_data_tools/')\n",
    "sys.path.append('../process_masks/')"
   ]
  },
  {
   "cell_type": "code",
   "execution_count": 2,
   "id": "5eb79d1e-c20b-4e38-9e7a-45474bcb0092",
   "metadata": {},
   "outputs": [],
   "source": [
    "from pathlib import Path\n",
    "from PIL import Image\n",
    "from helper import load_dotenv\n",
    "from file_interaction import get_related_filepath, get_generic_image_filepath, open_img\n",
    "from mask_functions import load_masks, get_whole_mask\n",
    "import numpy as np\n",
    "from scipy.ndimage import gaussian_filter\n",
    "from random import randint\n",
    "from tqdm.auto import tqdm\n",
    "import pandas as pd\n",
    "import sqlite3\n",
    "import cv2"
   ]
  },
  {
   "cell_type": "code",
   "execution_count": 3,
   "id": "f0eee154-638a-41e4-9cec-0f0d61389d33",
   "metadata": {},
   "outputs": [],
   "source": [
    "import plotly.express as px"
   ]
  },
  {
   "cell_type": "code",
   "execution_count": 4,
   "id": "abea9ad1-00d6-4952-955a-5207dc955a6b",
   "metadata": {},
   "outputs": [],
   "source": [
    "Image.MAX_IMAGE_PIXELS = None"
   ]
  },
  {
   "cell_type": "code",
   "execution_count": 5,
   "id": "11cd04f4-f0c6-4ed9-a2ae-eb094326e286",
   "metadata": {},
   "outputs": [],
   "source": [
    "IMG_SIZE = (224,224)\n",
    "MIN_MASK_PARTIAL = 0.25"
   ]
  },
  {
   "cell_type": "code",
   "execution_count": 6,
   "id": "54d276c1-dfc4-4082-aa11-8c3d241b7d4a",
   "metadata": {},
   "outputs": [],
   "source": [
    "def get_fft( input_img ):\n",
    "    ft = np.fft.ifftshift( input_img )\n",
    "    ft = np.fft.fft2(ft)\n",
    "    ft = np.fft.fftshift(ft)\n",
    "    \n",
    "    return ft"
   ]
  },
  {
   "cell_type": "code",
   "execution_count": 7,
   "id": "b59dc37c-e7c2-417f-acc0-0d408ec78c3c",
   "metadata": {},
   "outputs": [],
   "source": [
    "def cut_img_to_tiles( img, relevant_box, mask=None, is_polygon_box=False ):\n",
    "    # convolve over image\n",
    "    out = []\n",
    "    conv_size = IMG_SIZE\n",
    "    step_horizontal = int(round(conv_size[0] / 2))\n",
    "    step_vertical = int(round(conv_size[1] / 2))\n",
    "    \n",
    "    for left in range(0, img.shape[1] - step_horizontal, step_horizontal):\n",
    "        for top in range(0, img.shape[0] - step_vertical, step_vertical):\n",
    "            \n",
    "            if left + conv_size[0] > img.shape[1]:\n",
    "                left = img.shape[1] - conv_size[0]\n",
    "\n",
    "            if top + conv_size[1] > img.shape[0]:\n",
    "                top = img.shape[0] - conv_size[1]\n",
    "\n",
    "            if (mask is None) == False:\n",
    "                mask_partial = mask[\n",
    "                    top:top+conv_size[1],\n",
    "                    left:left+conv_size[0]\n",
    "                ].mean()   \n",
    "            elif is_polygon_box:\n",
    "                p_label = Polygon(relevant_box)\n",
    "                p_tile = Polygon([\n",
    "                    (left,top),\n",
    "                    (left + step_horizontal,top),\n",
    "                    (left + step_horizontal,top + step_vertical),\n",
    "                    (left,top + step_vertical)\n",
    "                ])\n",
    "\n",
    "                mask_partial = p_label.intersection(p_tile).area / p_tile.area\n",
    "            else:\n",
    "                # ist keine Maske vorhanden wird die Intersection\n",
    "                # mit der Moirebox verwendet\n",
    "                intersection_box = [\n",
    "                    max([relevant_box[0], left]),\n",
    "                    max([relevant_box[1], top]),\n",
    "                    min([relevant_box[0] + relevant_box[2], left+conv_size[0]]),\n",
    "                    min([relevant_box[1] + relevant_box[3], top+conv_size[1]])\n",
    "                ]\n",
    "        \n",
    "                if intersection_box[0] <= intersection_box[2] and intersection_box[1] <= intersection_box[3]:\n",
    "                    mask_partial = ((intersection_box[2] - intersection_box[0]) * (intersection_box[3] - intersection_box[1]))  / (conv_size[0] * conv_size[1])      \n",
    "                else:\n",
    "                    mask_partial = 0\n",
    "\n",
    "            if mask_partial > MIN_MASK_PARTIAL:\n",
    "                out.append(\n",
    "                    img[\n",
    "                        top:top+conv_size[1],\n",
    "                        left:left+conv_size[0]\n",
    "                    ]\n",
    "                )\n",
    "                \n",
    "    return out"
   ]
  },
  {
   "cell_type": "code",
   "execution_count": 8,
   "id": "6a7a6df1-cf12-4f46-8194-3c60e766def7",
   "metadata": {},
   "outputs": [],
   "source": [
    "dotenv = load_dotenv()"
   ]
  },
  {
   "cell_type": "code",
   "execution_count": 10,
   "id": "53332fda-6403-4016-a8c9-50d9b6c21f2f",
   "metadata": {},
   "outputs": [],
   "source": [
    "with sqlite3.connect( dotenv['DB_PATH'] ) as con:\n",
    "    masks = pd.read_sql(\n",
    "        '''\n",
    "            SELECT * FROM mask\n",
    "        ''',\n",
    "        con\n",
    "    )"
   ]
  },
  {
   "cell_type": "code",
   "execution_count": 11,
   "id": "e31da2fe-7031-4f65-82eb-a8bbec33e84e",
   "metadata": {},
   "outputs": [],
   "source": [
    "sample = masks[pd.isna(masks.K_max_freq_difference)].sample(n=100)"
   ]
  },
  {
   "cell_type": "code",
   "execution_count": 12,
   "id": "749e7ca2-a70c-43d0-83b2-a95101f388ec",
   "metadata": {},
   "outputs": [],
   "source": [
    "def process_row( row ):\n",
    "    # Daten laden\n",
    "    non_moire_img_path = get_related_filepath(\n",
    "        row.job,\n",
    "        'ps2400dpi150lpi',\n",
    "        f'{ row.pdf_filename }.4c_{ dotenv[\"LOFI_DPI\"] }.jpg'\n",
    "    )\n",
    "    non_moire_img = open_img( non_moire_img_path )\n",
    "    non_moire_img = non_moire_img.resize((\n",
    "        round(non_moire_img.size[0] * (dotenv[\"LOFI_DPI\"] / dotenv[\"TRAIN_DATA_DPI\"])),\n",
    "        round(non_moire_img.size[1] * (dotenv[\"LOFI_DPI\"] / dotenv[\"TRAIN_DATA_DPI\"]))\n",
    "    ))\n",
    "    \n",
    "    moire_img_path = get_generic_image_filepath(\n",
    "        row.pdf_filename,\n",
    "        row.job,\n",
    "        row.method,\n",
    "        row.idx,\n",
    "        variant=f'4c_{ dotenv[\"LOFI_DPI\"] }'\n",
    "    )\n",
    "    moire_img = open_img( moire_img_path )\n",
    "    moire_img = moire_img.resize(non_moire_img.size)\n",
    "    \n",
    "    masks_path = get_related_filepath(\n",
    "        row.job,\n",
    "        f'halftone{ dotenv[\"LOFI_DPI\"] }dpi',\n",
    "        f'{ row.pdf_filename }.masks.pkl'\n",
    "    )\n",
    "    mask_data = load_masks( masks_path )\n",
    "    \n",
    "    relevant_mask_data = [\n",
    "        m for m in mask_data\n",
    "        if m['bbox'] == [int(val) for val in row.bbox.split(';')]\n",
    "    ][0]\n",
    "    \n",
    "    whole_mask = get_whole_mask(relevant_mask_data)\n",
    "    whole_mask = cv2.resize(whole_mask, non_moire_img.size, interpolation=cv2.INTER_AREA)\n",
    "\n",
    "    # cut into tiles\n",
    "    moire_tiles = cut_img_to_tiles( np.array(moire_img.convert('L')), relevant_mask_data['bbox'], mask=whole_mask )\n",
    "    non_moire_tiles = cut_img_to_tiles( np.array(non_moire_img.convert('L')), relevant_mask_data['bbox'], mask=whole_mask )\n",
    "    max_diff = []\n",
    "\n",
    "    for i in range(len(moire_tiles)):\n",
    "        out = gaussian_filter(\n",
    "            np.log((np.abs(get_fft(non_moire_tiles[i])) ** 2) / (np.abs(get_fft(moire_tiles[i])) ** 2)),\n",
    "            sigma=3\n",
    "        )\n",
    "        max_diff.append( out.max() )\n",
    "\n",
    "    return max(max_diff)"
   ]
  },
  {
   "cell_type": "code",
   "execution_count": 13,
   "id": "d337b850-6869-47b9-82f0-522f955f60f3",
   "metadata": {},
   "outputs": [
    {
     "data": {
      "application/vnd.jupyter.widget-view+json": {
       "model_id": "c6c9873acf4148ec8a2437e8b7236675",
       "version_major": 2,
       "version_minor": 0
      },
      "text/plain": [
       "  0%|          | 0/100 [00:00<?, ?it/s]"
      ]
     },
     "metadata": {},
     "output_type": "display_data"
    },
    {
     "name": "stderr",
     "output_type": "stream",
     "text": [
      "/var/folders/ns/b_3z05zx1bz71dzh3qcvtpyh0000gq/T/ipykernel_48629/1258449078.py:46: RuntimeWarning: invalid value encountered in divide\n",
      "  np.log((np.abs(get_fft(non_moire_tiles[i])) ** 2) / (np.abs(get_fft(moire_tiles[i])) ** 2)),\n",
      "/var/folders/ns/b_3z05zx1bz71dzh3qcvtpyh0000gq/T/ipykernel_48629/1258449078.py:46: RuntimeWarning: divide by zero encountered in log\n",
      "  np.log((np.abs(get_fft(non_moire_tiles[i])) ** 2) / (np.abs(get_fft(moire_tiles[i])) ** 2)),\n",
      "/var/folders/ns/b_3z05zx1bz71dzh3qcvtpyh0000gq/T/ipykernel_48629/1258449078.py:46: RuntimeWarning: divide by zero encountered in divide\n",
      "  np.log((np.abs(get_fft(non_moire_tiles[i])) ** 2) / (np.abs(get_fft(moire_tiles[i])) ** 2)),\n"
     ]
    }
   ],
   "source": [
    "with sqlite3.connect( dotenv['DB_PATH'] ) as con:\n",
    "    for i in tqdm(range(sample.shape[0])):\n",
    "        row = sample.iloc[i]\n",
    "        try:\n",
    "            max_diff = process_row( row )\n",
    "        \n",
    "            masks.loc[\n",
    "                row.name,\n",
    "                'K_max_freq_difference'\n",
    "            ] = max_diff\n",
    "\n",
    "            c = con.cursor()\n",
    "            c.execute(\n",
    "                f'''\n",
    "                    UPDATE mask\n",
    "                    SET K_max_freq_difference={ max_diff }\n",
    "                    WHERE mask_id=\"{ row.mask_id }\"\n",
    "                '''\n",
    "            )\n",
    "            c.close()\n",
    "            con.commit()\n",
    "        except:\n",
    "            pass"
   ]
  },
  {
   "cell_type": "code",
   "execution_count": null,
   "id": "ebb7e93a-ef30-46e5-8253-31de18adf3ab",
   "metadata": {},
   "outputs": [],
   "source": [
    "masks.loc[\n",
    "    pd.isna(masks.K_mean_max_freq_difference) == False,\n",
    "    ['job','pdf_filename','idx','mask_id','ssim','K_mean_max_freq_difference']\n",
    "]"
   ]
  }
 ],
 "metadata": {
  "kernelspec": {
   "display_name": "Python 3 (ipykernel)",
   "language": "python",
   "name": "python3"
  },
  "language_info": {
   "codemirror_mode": {
    "name": "ipython",
    "version": 3
   },
   "file_extension": ".py",
   "mimetype": "text/x-python",
   "name": "python",
   "nbconvert_exporter": "python",
   "pygments_lexer": "ipython3",
   "version": "3.10.11"
  }
 },
 "nbformat": 4,
 "nbformat_minor": 5
}
