{
 "cells": [
  {
   "cell_type": "code",
   "execution_count": 1,
   "id": "4eac83f4-1e38-479d-bf7c-53fb4b5dfe2c",
   "metadata": {},
   "outputs": [],
   "source": [
    "from tqdm import tqdm\n",
    "import sys\n",
    "sys.path.append('../30_data_tools')\n",
    "from helper import load_dotenv\n",
    "from pathlib import Path\n",
    "from PIL import Image\n",
    "import numpy as np\n",
    "from skimage.metrics import structural_similarity as ssim\n",
    "import pandas as pd\n",
    "import cv2"
   ]
  },
  {
   "cell_type": "code",
   "execution_count": 2,
   "id": "917c9f46-afeb-4f31-a70b-e4c594f9a87b",
   "metadata": {},
   "outputs": [],
   "source": [
    "dotenv = load_dotenv()"
   ]
  },
  {
   "cell_type": "code",
   "execution_count": 3,
   "id": "e00ce53f-eb9d-4546-b922-7abbbd12daa1",
   "metadata": {},
   "outputs": [],
   "source": [
    "halftone_images = list(dotenv['DATA_DIR'].glob('./*/ps2400dpi150lpi/*.4c_300.jpg'))"
   ]
  },
  {
   "cell_type": "code",
   "execution_count": 4,
   "id": "750814ad-37a2-4cf2-be71-1fd2b1341114",
   "metadata": {},
   "outputs": [
    {
     "name": "stderr",
     "output_type": "stream",
     "text": [
      "100%|██████████████████████████████████████████████████████████████████████████████████████████████████| 5/5 [00:16<00:00,  3.38s/it]\n"
     ]
    }
   ],
   "source": [
    "values = []\n",
    "\n",
    "for ps_img_path in tqdm(halftone_images[:5]):\n",
    "    vps_img_path = ps_img_path.parent.parent / 'vps2400dpi150lpi' / ps_img_path.name.replace('.4c.4c_300.jpg','.4c_300.jpg')\n",
    "\n",
    "    ps_img = np.array(Image.open(ps_img_path))\n",
    "    vps_img = np.array(Image.open(vps_img_path))\n",
    "    \n",
    "    if vps_img.shape[0] > ps_img.shape[0]:\n",
    "        diff = round((vps_img.shape[0] - ps_img.shape[0]) * 0.5)\n",
    "        \n",
    "        vps_img = vps_img[\n",
    "            diff:diff+ps_img.shape[0],\n",
    "            :,\n",
    "            :\n",
    "        ]\n",
    "    \n",
    "    if vps_img.shape[1] > ps_img.shape[1]:\n",
    "        diff = round((vps_img.shape[1] - ps_img.shape[1]) * 0.5)\n",
    "        \n",
    "        vps_img = vps_img[\n",
    "            :,\n",
    "            diff:diff+ps_img.shape[1],\n",
    "            :\n",
    "        ]\n",
    "\n",
    "    for i in range(ps_img.shape[2]):\n",
    "        ssim_value = ssim(\n",
    "            ps_img[:,:,i],\n",
    "            vps_img[:,:,i]\n",
    "        )\n",
    "\n",
    "        small_ssim_value = ssim(\n",
    "           cv2.resize(ps_img[:,:,i], (0,0), fx=0.5, fy=0.5),\n",
    "           cv2.resize(vps_img[:,:,i], (0,0), fx=0.5, fy=0.5) \n",
    "        )\n",
    "    \n",
    "        values.append((\n",
    "            ps_img_path.name,\n",
    "            ['C','M','Y','K'][i],\n",
    "            ssim_value,\n",
    "            small_ssim_value\n",
    "        ))"
   ]
  },
  {
   "cell_type": "code",
   "execution_count": 5,
   "id": "a0f5cbda-d0fa-4500-a3e4-b1ffccb9d9e8",
   "metadata": {},
   "outputs": [],
   "source": [
    "df = pd.DataFrame(\n",
    "    values,\n",
    "    columns=['img','separation','ssim_300','ssim_150']\n",
    ")"
   ]
  },
  {
   "cell_type": "code",
   "execution_count": 6,
   "id": "dabb9804-2828-4d7d-8f8b-6ae0cc794e8c",
   "metadata": {},
   "outputs": [
    {
     "data": {
      "text/html": [
       "<div>\n",
       "<style scoped>\n",
       "    .dataframe tbody tr th:only-of-type {\n",
       "        vertical-align: middle;\n",
       "    }\n",
       "\n",
       "    .dataframe tbody tr th {\n",
       "        vertical-align: top;\n",
       "    }\n",
       "\n",
       "    .dataframe thead th {\n",
       "        text-align: right;\n",
       "    }\n",
       "</style>\n",
       "<table border=\"1\" class=\"dataframe\">\n",
       "  <thead>\n",
       "    <tr style=\"text-align: right;\">\n",
       "      <th></th>\n",
       "      <th>ssim_300</th>\n",
       "      <th>ssim_150</th>\n",
       "    </tr>\n",
       "  </thead>\n",
       "  <tbody>\n",
       "    <tr>\n",
       "      <th>count</th>\n",
       "      <td>20.000000</td>\n",
       "      <td>20.000000</td>\n",
       "    </tr>\n",
       "    <tr>\n",
       "      <th>mean</th>\n",
       "      <td>0.562961</td>\n",
       "      <td>0.871760</td>\n",
       "    </tr>\n",
       "    <tr>\n",
       "      <th>std</th>\n",
       "      <td>0.169140</td>\n",
       "      <td>0.077037</td>\n",
       "    </tr>\n",
       "    <tr>\n",
       "      <th>min</th>\n",
       "      <td>0.230082</td>\n",
       "      <td>0.715806</td>\n",
       "    </tr>\n",
       "    <tr>\n",
       "      <th>25%</th>\n",
       "      <td>0.419084</td>\n",
       "      <td>0.819366</td>\n",
       "    </tr>\n",
       "    <tr>\n",
       "      <th>50%</th>\n",
       "      <td>0.570990</td>\n",
       "      <td>0.893635</td>\n",
       "    </tr>\n",
       "    <tr>\n",
       "      <th>75%</th>\n",
       "      <td>0.648606</td>\n",
       "      <td>0.937861</td>\n",
       "    </tr>\n",
       "    <tr>\n",
       "      <th>max</th>\n",
       "      <td>0.843849</td>\n",
       "      <td>0.966095</td>\n",
       "    </tr>\n",
       "  </tbody>\n",
       "</table>\n",
       "</div>"
      ],
      "text/plain": [
       "        ssim_300   ssim_150\n",
       "count  20.000000  20.000000\n",
       "mean    0.562961   0.871760\n",
       "std     0.169140   0.077037\n",
       "min     0.230082   0.715806\n",
       "25%     0.419084   0.819366\n",
       "50%     0.570990   0.893635\n",
       "75%     0.648606   0.937861\n",
       "max     0.843849   0.966095"
      ]
     },
     "execution_count": 6,
     "metadata": {},
     "output_type": "execute_result"
    }
   ],
   "source": [
    "df.describe()"
   ]
  },
  {
   "cell_type": "code",
   "execution_count": 7,
   "id": "cd6db565-4b59-462c-afaa-cfbca4e70b6f",
   "metadata": {},
   "outputs": [
    {
     "data": {
      "text/html": [
       "<div>\n",
       "<style scoped>\n",
       "    .dataframe tbody tr th:only-of-type {\n",
       "        vertical-align: middle;\n",
       "    }\n",
       "\n",
       "    .dataframe tbody tr th {\n",
       "        vertical-align: top;\n",
       "    }\n",
       "\n",
       "    .dataframe thead th {\n",
       "        text-align: right;\n",
       "    }\n",
       "</style>\n",
       "<table border=\"1\" class=\"dataframe\">\n",
       "  <thead>\n",
       "    <tr style=\"text-align: right;\">\n",
       "      <th></th>\n",
       "      <th>ssim_300</th>\n",
       "      <th>ssim_150</th>\n",
       "    </tr>\n",
       "    <tr>\n",
       "      <th>separation</th>\n",
       "      <th></th>\n",
       "      <th></th>\n",
       "    </tr>\n",
       "  </thead>\n",
       "  <tbody>\n",
       "    <tr>\n",
       "      <th>C</th>\n",
       "      <td>0.757056</td>\n",
       "      <td>0.946942</td>\n",
       "    </tr>\n",
       "    <tr>\n",
       "      <th>K</th>\n",
       "      <td>0.397994</td>\n",
       "      <td>0.778893</td>\n",
       "    </tr>\n",
       "    <tr>\n",
       "      <th>M</th>\n",
       "      <td>0.538122</td>\n",
       "      <td>0.914227</td>\n",
       "    </tr>\n",
       "    <tr>\n",
       "      <th>Y</th>\n",
       "      <td>0.558672</td>\n",
       "      <td>0.846978</td>\n",
       "    </tr>\n",
       "  </tbody>\n",
       "</table>\n",
       "</div>"
      ],
      "text/plain": [
       "            ssim_300  ssim_150\n",
       "separation                    \n",
       "C           0.757056  0.946942\n",
       "K           0.397994  0.778893\n",
       "M           0.538122  0.914227\n",
       "Y           0.558672  0.846978"
      ]
     },
     "execution_count": 7,
     "metadata": {},
     "output_type": "execute_result"
    }
   ],
   "source": [
    "df.loc[\n",
    "    :,\n",
    "    ['separation','ssim_300','ssim_150']\n",
    "].groupby('separation').mean()"
   ]
  }
 ],
 "metadata": {
  "kernelspec": {
   "display_name": "Python 3 (ipykernel)",
   "language": "python",
   "name": "python3"
  },
  "language_info": {
   "codemirror_mode": {
    "name": "ipython",
    "version": 3
   },
   "file_extension": ".py",
   "mimetype": "text/x-python",
   "name": "python",
   "nbconvert_exporter": "python",
   "pygments_lexer": "ipython3",
   "version": "3.10.11"
  }
 },
 "nbformat": 4,
 "nbformat_minor": 5
}
