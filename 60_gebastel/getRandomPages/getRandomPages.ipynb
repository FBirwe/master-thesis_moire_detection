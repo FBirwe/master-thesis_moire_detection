{
 "cells": [
  {
   "cell_type": "code",
   "execution_count": 1,
   "id": "6c61314e",
   "metadata": {},
   "outputs": [],
   "source": [
    "from pathlib import Path\n",
    "import shutil\n",
    "import re\n",
    "from tqdm import tqdm\n",
    "\n",
    "from random import choice"
   ]
  },
  {
   "cell_type": "code",
   "execution_count": 2,
   "id": "0d9e7bbf",
   "metadata": {},
   "outputs": [],
   "source": [
    "JOB_DIR = Path('/Volumes/ctp_00/Jobs/')\n",
    "TARGET_DIR = Path('./00_data_out/')"
   ]
  },
  {
   "cell_type": "code",
   "execution_count": 3,
   "id": "c41a4364",
   "metadata": {},
   "outputs": [],
   "source": [
    "jobs = [\n",
    "    entry for entry\n",
    "    in JOB_DIR.iterdir()\n",
    "    if entry.is_dir() and re.match(r'\\d{6}.+', entry.name)\n",
    "]"
   ]
  },
  {
   "cell_type": "code",
   "execution_count": 4,
   "id": "3130c1b3",
   "metadata": {},
   "outputs": [],
   "source": [
    "def get_random_page( jobs ):\n",
    "    job_dir = choice(jobs)\n",
    "    subpage_dir = job_dir / 'System' / 'SubPages'\n",
    "    \n",
    "    if subpage_dir.exists():\n",
    "        subpages = list( subpage_dir.glob('./*.pdf') )\n",
    "        \n",
    "        if len(subpages) > 0:\n",
    "            return choice(subpages)\n",
    "    \n",
    "    return None"
   ]
  },
  {
   "cell_type": "code",
   "execution_count": 5,
   "id": "5f71188e",
   "metadata": {},
   "outputs": [],
   "source": [
    "N = 5000"
   ]
  },
  {
   "cell_type": "code",
   "execution_count": 6,
   "id": "255f8394",
   "metadata": {},
   "outputs": [
    {
     "name": "stderr",
     "output_type": "stream",
     "text": [
      "100%|███████████████████████████████████████| 5000/5000 [02:47<00:00, 29.90it/s]\n"
     ]
    }
   ],
   "source": [
    "out_paths = []\n",
    "\n",
    "with tqdm(total=N) as pbar:\n",
    "    while len(out_paths) < N:\n",
    "        next_page = get_random_page( jobs )\n",
    "        \n",
    "        if next_page and next_page not in out_paths:\n",
    "            out_paths.append(next_page)\n",
    "            pbar.update(1)"
   ]
  },
  {
   "cell_type": "code",
   "execution_count": 7,
   "id": "74e65e6c",
   "metadata": {},
   "outputs": [
    {
     "name": "stderr",
     "output_type": "stream",
     "text": [
      "100%|█████████████████████████████████████| 5000/5000 [1:58:04<00:00,  1.42s/it]\n"
     ]
    }
   ],
   "source": [
    "for pdf_path in tqdm(out_paths):\n",
    "    out_path = TARGET_DIR / f'{ pdf_path.parent.parent.parent.name[:6] }.{ pdf_path.name }'\n",
    "    \n",
    "    shutil.copy( pdf_path, out_path )"
   ]
  }
 ],
 "metadata": {
  "kernelspec": {
   "display_name": "Python 3 (ipykernel)",
   "language": "python",
   "name": "python3"
  },
  "language_info": {
   "codemirror_mode": {
    "name": "ipython",
    "version": 3
   },
   "file_extension": ".py",
   "mimetype": "text/x-python",
   "name": "python",
   "nbconvert_exporter": "python",
   "pygments_lexer": "ipython3",
   "version": "3.10.11"
  }
 },
 "nbformat": 4,
 "nbformat_minor": 5
}
