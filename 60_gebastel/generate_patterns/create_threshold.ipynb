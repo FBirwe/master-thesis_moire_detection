{
 "cells": [
  {
   "cell_type": "code",
   "execution_count": 61,
   "id": "31348add-3ea0-45b4-9eeb-b52cce958c2f",
   "metadata": {},
   "outputs": [],
   "source": [
    "import csv\n",
    "import math\n",
    "import numpy as np\n",
    "import random"
   ]
  },
  {
   "cell_type": "markdown",
   "id": "687a9b3d-a590-4e2e-a411-5a973a76bd76",
   "metadata": {},
   "source": [
    "# Kreispattern erstellen"
   ]
  },
  {
   "cell_type": "code",
   "execution_count": 4,
   "id": "579b8cf5-d3f7-411a-a01b-f5d02d28d024",
   "metadata": {},
   "outputs": [],
   "source": [
    "threshold_array = np.zeros((16,16))\n",
    "center = (threshold_array.shape[1] / 2, threshold_array.shape[0] / 2)\n",
    "max_radius = math.ceil(math.sqrt(center[0] ** 2 + center[1] ** 2))\n",
    "max_index = threshold_array.shape[0] * threshold_array.shape[1]\n",
    "i = 1\n",
    "\n",
    "for r in range(0,max_radius):\n",
    "    angles = [a for a in range(180)]\n",
    "    random.shuffle(angles)\n",
    "    \n",
    "    for a in angles:\n",
    "        for angle_dist in [0,180]:\n",
    "            x = math.floor(r * math.cos(math.radians(a + angle_dist)) + center[0])\n",
    "            y = math.floor(r * math.sin(math.radians(a + angle_dist)) + center[1])\n",
    "    \n",
    "            if (\n",
    "                x >= 0 and\n",
    "                x < threshold_array.shape[1] and\n",
    "                y >= 0 and\n",
    "                y < threshold_array.shape[0] and\n",
    "                threshold_array[y,x] == 0\n",
    "            ):\n",
    "                threshold_array[y,x] = i\n",
    "                i += 1"
   ]
  },
  {
   "cell_type": "code",
   "execution_count": null,
   "id": "68864144-abcd-4f32-beb6-bc57eb0756ff",
   "metadata": {},
   "outputs": [],
   "source": [
    "with open('circle.csv', 'w') as csvfile:\n",
    "    csv_writer = csv.writer(csvfile, delimiter=';', quotechar='\"', quoting=csv.QUOTE_MINIMAL)\n",
    "\n",
    "    for y in range(threshold_array.shape[0]):\n",
    "        csv_writer.writerow(threshold_array[y,:])"
   ]
  },
  {
   "cell_type": "code",
   "execution_count": null,
   "id": "d017369f-ca69-4e5c-9aae-5aa168a0af06",
   "metadata": {},
   "outputs": [],
   "source": [
    "thr = read_threshold( 'circle' )\n",
    "\n",
    "for i in range(1,256):\n",
    "    if thr[thr == i].shape[0] > 1:\n",
    "        print( f\"{ thr[thr == i].shape[0] } in array\", i )\n",
    "    \n",
    "    if i not in thr:\n",
    "        print(\"not available\", i)"
   ]
  },
  {
   "cell_type": "markdown",
   "id": "7ff841b4-1d7e-47fb-881c-5deb190a2bfb",
   "metadata": {},
   "source": [
    "# Linepattern erstellen"
   ]
  },
  {
   "cell_type": "code",
   "execution_count": 53,
   "id": "ee8e4609-fae6-4950-81a7-87b599c881b2",
   "metadata": {},
   "outputs": [],
   "source": [
    "threshold_array = np.zeros((16,16))\n",
    "center = (threshold_array.shape[1] / 2, threshold_array.shape[0] / 2)\n",
    "points = []\n",
    "\n",
    "for i in range(16**2):\n",
    "    col = math.floor(i/16)\n",
    "    col = (math.floor(col / 2) if col % 2 == 0 else math.floor(col / 2 * -1)) + 8\n",
    "    row = i % 16\n",
    "    row = (math.floor(row/2) if row % 2 == 0 else math.floor(row/2 * -1)) + 8\n",
    "\n",
    "    threshold_array[\n",
    "        row,\n",
    "        col\n",
    "    ] = i + 1"
   ]
  },
  {
   "cell_type": "code",
   "execution_count": 55,
   "id": "aaa05dd3-d9cc-46f9-84dd-3cd1cbe6f813",
   "metadata": {},
   "outputs": [],
   "source": [
    "with open('line_16.csv', 'w') as csvfile:\n",
    "    csv_writer = csv.writer(csvfile, delimiter=';', quotechar='\"', quoting=csv.QUOTE_MINIMAL)\n",
    "\n",
    "    for y in range(threshold_array.shape[0]):\n",
    "        csv_writer.writerow(threshold_array[y,:])"
   ]
  },
  {
   "cell_type": "markdown",
   "id": "6e40efee-e43b-4783-b207-2ea90ebc93e8",
   "metadata": {},
   "source": [
    "# Ellipsenpattern erstellen"
   ]
  },
  {
   "cell_type": "code",
   "execution_count": 179,
   "id": "7d2e04f3-5054-4b8d-a575-c5092d5bb642",
   "metadata": {},
   "outputs": [],
   "source": [
    "def position_can_be_filled( array_map, box_start, x, y ):\n",
    "    if y >= array_map.shape[0]:\n",
    "        return False\n",
    "\n",
    "    # im Modulofall darf nur ein 1er Step gemacht werden\n",
    "    if (y+x) % 3 != 0:\n",
    "        if y >= box_start + 2 and x < array_map.shape[1] - 1 and array_map[y-2,x+1] == 0:\n",
    "            return False\n",
    "    else:\n",
    "        if y >= box_start + 1 and x < array_map.shape[1] - 1 and array_map[y-1,x+1] == 0:\n",
    "            return False\n",
    "\n",
    "\n",
    "    return True"
   ]
  },
  {
   "cell_type": "code",
   "execution_count": 182,
   "id": "6161c18f-3c53-4e22-a6cb-b272cdc2803d",
   "metadata": {},
   "outputs": [],
   "source": [
    "threshold_array = np.zeros((16,16))\n",
    "box_start = round(threshold_array.shape[0] / 2)\n",
    "center = (threshold_array.shape[1] / 2, threshold_array.shape[0] / 2)\n",
    "max_radius = math.ceil(math.sqrt(center[0] ** 2 + center[1] ** 2))\n",
    "max_index = threshold_array.shape[0] * threshold_array.shape[1]\n",
    "i = 1\n",
    "break_loop = False\n",
    "\n",
    "while break_loop == False and threshold_array[threshold_array == 0].shape[0] > 0:\n",
    "    found = False\n",
    "    x = box_start\n",
    "    y = box_start\n",
    "    \n",
    "    while found == False:\n",
    "        while y < threshold_array.shape[0] and threshold_array[y,x] != 0:\n",
    "            y += 1\n",
    "\n",
    "        if position_can_be_filled( threshold_array, box_start, x, y ):\n",
    "            found = True\n",
    "        else:\n",
    "            x += 1\n",
    "            y = box_start\n",
    "            \n",
    "    x_mirrored = (box_start - 1) + (box_start - x)\n",
    "    y_mirrored = (box_start - 1) + (box_start - y)\n",
    "    \n",
    "    threshold_array[y,x] = i\n",
    "    threshold_array[y_mirrored,x_mirrored] = i + 1\n",
    "    threshold_array[y_mirrored,x] = i + 2\n",
    "    threshold_array[y,x_mirrored] = i + 3\n",
    "\n",
    "    i += 4"
   ]
  },
  {
   "cell_type": "code",
   "execution_count": 183,
   "id": "6bfc62b0-4770-42dc-801f-80a15ec3110d",
   "metadata": {},
   "outputs": [],
   "source": [
    "with open('diamond_16.csv', 'w') as csvfile:\n",
    "    csv_writer = csv.writer(csvfile, delimiter=';', quotechar='\"', quoting=csv.QUOTE_MINIMAL)\n",
    "\n",
    "    for y in range(threshold_array.shape[0]):\n",
    "        csv_writer.writerow(threshold_array[y,:])"
   ]
  }
 ],
 "metadata": {
  "kernelspec": {
   "display_name": "Python 3 (ipykernel)",
   "language": "python",
   "name": "python3"
  },
  "language_info": {
   "codemirror_mode": {
    "name": "ipython",
    "version": 3
   },
   "file_extension": ".py",
   "mimetype": "text/x-python",
   "name": "python",
   "nbconvert_exporter": "python",
   "pygments_lexer": "ipython3",
   "version": "3.10.11"
  }
 },
 "nbformat": 4,
 "nbformat_minor": 5
}
