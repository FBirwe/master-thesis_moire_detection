{
 "cells": [
  {
   "cell_type": "code",
   "execution_count": 1,
   "id": "e0226959-be34-4a76-99b0-abc14f2baa8c",
   "metadata": {},
   "outputs": [],
   "source": [
    "import sys\n",
    "sys.path.append('../../30_data_tools/')"
   ]
  },
  {
   "cell_type": "code",
   "execution_count": 2,
   "id": "cba6c37b-3c8e-42ba-acb7-5c851e3c5351",
   "metadata": {},
   "outputs": [],
   "source": [
    "import numpy as np\n",
    "import cv2\n",
    "from PIL import Image, ImageFilter\n",
    "import plotly.express as px\n",
    "from tqdm import tqdm"
   ]
  },
  {
   "cell_type": "code",
   "execution_count": 3,
   "id": "9b0dee52-0d94-4f20-a243-901e970c61ed",
   "metadata": {},
   "outputs": [],
   "source": [
    "import subprocess\n",
    "import json"
   ]
  },
  {
   "cell_type": "code",
   "execution_count": 4,
   "id": "c0a90fcf-75d9-4964-945a-ce5f441be5d0",
   "metadata": {},
   "outputs": [],
   "source": [
    "from perlin_noise import PerlinNoise"
   ]
  },
  {
   "cell_type": "code",
   "execution_count": 5,
   "id": "8416f492-ebc8-48d0-8a3b-153617a606c6",
   "metadata": {},
   "outputs": [],
   "source": [
    "from helper import load_dotenv"
   ]
  },
  {
   "cell_type": "code",
   "execution_count": 6,
   "id": "cdee7219-fecb-45a7-b51e-206740579772",
   "metadata": {},
   "outputs": [],
   "source": [
    "dotenv = load_dotenv()"
   ]
  },
  {
   "cell_type": "code",
   "execution_count": 7,
   "id": "6ce4744a-7930-429f-bce4-3580fa46f9a4",
   "metadata": {},
   "outputs": [],
   "source": [
    "def get_perlin_noise( img_size, octaves, seed, deformation_factor=(1,1) ):\n",
    "    noise = PerlinNoise(octaves=octaves, seed=seed)\n",
    "    pic = [[noise([i/img_size[0] * deformation_factor[0], j/img_size[1] * deformation_factor[1]]) for j in range(img_size[0])] for i in tqdm(range(img_size[1]))]\n",
    "    random_noise = (np.array(pic) * 0.5 + 0.5)\n",
    "    random_noise -= random_noise.min()\n",
    "    random_noise /= random_noise.max()\n",
    "\n",
    "    return random_noise\n",
    "\n",
    "def adjust_contrast( img, contrast_range ):\n",
    "    img *= contrast_range\n",
    "    img += (1 - contrast_range) * 0.5\n",
    "\n",
    "    return img"
   ]
  },
  {
   "cell_type": "code",
   "execution_count": 8,
   "id": "ac4c9667-153d-4b7c-a4bb-b301ce392d7d",
   "metadata": {},
   "outputs": [],
   "source": [
    "def render_pattern_images( input_path, output_path, dot_style ):\n",
    "    res = subprocess.run(\n",
    "        f'osascript ./convert_to_screen_image.sctp \"{ input_path }\" \"{ output_path }\" \"{ dot_style }\"',\n",
    "        shell=True,\n",
    "        capture_output=True\n",
    "    )"
   ]
  },
  {
   "cell_type": "markdown",
   "id": "982e51bb-feba-4dba-a1ad-35644d1ac86d",
   "metadata": {},
   "source": [
    "# Perlin Noise images errechnen"
   ]
  },
  {
   "cell_type": "code",
   "execution_count": 9,
   "id": "30f82dba-708f-40b0-854d-114640dc7027",
   "metadata": {},
   "outputs": [
    {
     "name": "stderr",
     "output_type": "stream",
     "text": [
      "100%|███████████████████████████████████████| 2500/2500 [01:08<00:00, 36.29it/s]\n"
     ]
    }
   ],
   "source": [
    "octaves = 5\n",
    "seed = 33\n",
    "\n",
    "original_noise = get_perlin_noise((2500,2500), octaves, seed, deformation_factor=(1,0.1))\n",
    "\n",
    "for i in range(10):\n",
    "    contrast_range = 1 - (i / 10)\n",
    "    adjusted_img = adjust_contrast(\n",
    "        original_noise.copy(),\n",
    "        contrast_range\n",
    "    )\n",
    "\n",
    "    img = Image.fromarray((adjusted_img * 255).round().astype('uint8'))\n",
    "    out_path = dotenv['PATTERN_DIR'] / f'perlin_noise.{ octaves }.{ seed }.{ str(contrast_range)[2:4] }.df1;01.jpg'\n",
    "    img = img.resize((6000,6000))\n",
    "    img.save( out_path, progressive=True, dpi=(600,600) )"
   ]
  },
  {
   "cell_type": "markdown",
   "id": "17e315c0-25e6-4176-9c7c-6960cec2fa34",
   "metadata": {},
   "source": [
    "# Rastern"
   ]
  },
  {
   "cell_type": "code",
   "execution_count": 10,
   "id": "2b14f531-43e3-4552-a3b5-7a93eee40f20",
   "metadata": {},
   "outputs": [],
   "source": [
    "perlin_images = list(dotenv['PATTERN_DIR'].glob('./perlin_noise*.jpg'))"
   ]
  },
  {
   "cell_type": "code",
   "execution_count": 11,
   "id": "6f8f3296-3896-4f48-a9c7-a8d438c04655",
   "metadata": {},
   "outputs": [
    {
     "name": "stderr",
     "output_type": "stream",
     "text": [
      "100%|███████████████████████████████████████████| 20/20 [00:53<00:00,  2.69s/it]\n"
     ]
    }
   ],
   "source": [
    "for perlin_img_path in tqdm(perlin_images):\n",
    "    ellipse_img_path = dotenv['PATTERN_DIR'] / f'{ perlin_img_path.name.replace(perlin_img_path.suffix,\"\") }.150pli.ellipse'\n",
    "    linie_img_path = dotenv['PATTERN_DIR'] / f'{ perlin_img_path.name.replace(perlin_img_path.suffix,\"\") }.150pli.linie'\n",
    "    \n",
    "    render_pattern_images(\n",
    "        perlin_img_path,\n",
    "        ellipse_img_path,\n",
    "        'ellipse.150lpi'\n",
    "    )\n",
    "    \n",
    "    render_pattern_images(\n",
    "        perlin_img_path,\n",
    "        linie_img_path,\n",
    "        'linie.150lpi'\n",
    "    )"
   ]
  },
  {
   "cell_type": "markdown",
   "id": "f72c3ff1-45fc-4923-84ba-21c3b06a6b83",
   "metadata": {},
   "source": [
    "# generate control json"
   ]
  },
  {
   "cell_type": "code",
   "execution_count": null,
   "id": "026271d5-15bb-439e-9c02-674f5a3c0428",
   "metadata": {},
   "outputs": [],
   "source": [
    "with (dotenv['PATTERN_DIR'] / 'available_patterns.json').open('w') as json_file:\n",
    "    json_file.write(json.dumps([\n",
    "        entry.name \n",
    "        for entry in dotenv['PATTERN_DIR'].glob('./*.tif')\n",
    "        if entry.name.startswith('diamons') == False\n",
    "    ]))"
   ]
  }
 ],
 "metadata": {
  "kernelspec": {
   "display_name": "Python 3 (ipykernel)",
   "language": "python",
   "name": "python3"
  },
  "language_info": {
   "codemirror_mode": {
    "name": "ipython",
    "version": 3
   },
   "file_extension": ".py",
   "mimetype": "text/x-python",
   "name": "python",
   "nbconvert_exporter": "python",
   "pygments_lexer": "ipython3",
   "version": "3.10.11"
  }
 },
 "nbformat": 4,
 "nbformat_minor": 5
}
