{
 "cells": [
  {
   "cell_type": "code",
   "execution_count": 1,
   "id": "0fa2d3f1-96bf-40f7-ba7b-332bd7dc65be",
   "metadata": {},
   "outputs": [],
   "source": [
    "import sys\n",
    "sys.path.append('../30_data_tools/')"
   ]
  },
  {
   "cell_type": "code",
   "execution_count": 2,
   "id": "bcee38a7-86ad-46c5-adfc-12aacfb930e8",
   "metadata": {},
   "outputs": [],
   "source": [
    "import pandas as pd\n",
    "import sqlite3\n",
    "from tqdm.auto import tqdm\n",
    "import re\n",
    "import json"
   ]
  },
  {
   "cell_type": "code",
   "execution_count": 3,
   "id": "92ab566d-099a-41f4-988f-2c87aded6ec9",
   "metadata": {},
   "outputs": [],
   "source": [
    "from helper import load_dotenv"
   ]
  },
  {
   "cell_type": "code",
   "execution_count": 5,
   "id": "bf2be894-e70a-460c-8390-c96eef9848a3",
   "metadata": {},
   "outputs": [],
   "source": [
    "from get_labelstudio_data import get_results_of_project"
   ]
  },
  {
   "cell_type": "code",
   "execution_count": 4,
   "id": "c29b875d-cccd-4d32-b2c3-634c36670125",
   "metadata": {},
   "outputs": [],
   "source": [
    "dotenv = load_dotenv()\n",
    "con = sqlite3.connect( dotenv['DB_PATH'] )"
   ]
  },
  {
   "cell_type": "code",
   "execution_count": 8,
   "id": "ff959615-2e90-4d29-8529-327bfe6021bd",
   "metadata": {},
   "outputs": [],
   "source": [
    "masks = pd.read_sql(\n",
    "    'SELECT * FROM mask',\n",
    "    con\n",
    ")\n",
    "\n",
    "adjustments_per_mask = pd.read_sql(\n",
    "    'SELECT * FROM adjustment_per_mask',\n",
    "    con\n",
    ")"
   ]
  },
  {
   "cell_type": "code",
   "execution_count": null,
   "id": "ab4caefc-82c6-4485-89bd-36b1a2d5303f",
   "metadata": {},
   "outputs": [],
   "source": [
    "pkl_files = list((dotenv['GENERIC_DATA_DIR'] / \"02_information_data\").glob('./*.pkl'))\n",
    "pkl_data = pd.concat([pd.read_pickle(pkl) for pkl in pkl_files], ignore_index=True)\n",
    "pkl_data.loc[:,'job'] = pkl_data.img_path.apply(lambda val: val.parent.parent.name)\n",
    "pkl_data.loc[:,'variant_name'] = pkl_data.img_path.apply(lambda val: val.parent.name)\n",
    "pkl_data.loc[:,'pdf_filename'] = pkl_data.apply(lambda row: row.basic_name.replace( f'{ row.job }.','').split('.$PLACEHOLDER$.')[0], axis=1 )\n",
    "pkl_data.loc[:,'idx'] = pd.to_numeric(pkl_data.apply(lambda row: row.basic_name.split('.$PLACEHOLDER$.')[1], axis=1 ))\n",
    "pkl_data.loc[:,'type'] = '4c'"
   ]
  },
  {
   "cell_type": "code",
   "execution_count": null,
   "id": "03b7bac5-2a0a-41c8-8b18-c56c971fbd6a",
   "metadata": {},
   "outputs": [],
   "source": [
    "mask_ids_to_update = adjustments_per_mask.loc[\n",
    "    adjustments_per_mask.mask_id.isin(masks.mask_id) == False,\n",
    "    ['job','pdf_filename','type','variant_name','method','idx','mask_id']\n",
    "].drop_duplicates()"
   ]
  },
  {
   "cell_type": "code",
   "execution_count": null,
   "id": "98cf3c4b-ce02-416e-b50e-b92e93fe4e5d",
   "metadata": {},
   "outputs": [],
   "source": [
    "mask_ids_to_update.shape"
   ]
  },
  {
   "cell_type": "code",
   "execution_count": null,
   "id": "853c6625-d05f-4d71-9fb4-de13914bd341",
   "metadata": {},
   "outputs": [],
   "source": [
    "matchings = []\n",
    "\n",
    "for i in tqdm(range(mask_ids_to_update.shape[0])):\n",
    "    row = mask_ids_to_update.iloc[i]\n",
    "    \n",
    "    candidates = masks.loc[\n",
    "        (masks.job == row.job) &\n",
    "        (masks.pdf_filename == row.pdf_filename) &\n",
    "        (masks.type == row.type) &\n",
    "        (masks.variant_name == row.variant_name) &\n",
    "        (masks.method == row.method) &\n",
    "        (masks.idx == row.idx) &\n",
    "        (masks.mask_id.isin(adjustments_per_mask.mask_id) == False)\n",
    "    ]\n",
    "    \n",
    "    pkl_candidates = pkl_data.loc[\n",
    "        (pkl_data.job == row.job) &\n",
    "        (pkl_data.pdf_filename == row.pdf_filename) &\n",
    "        (pkl_data.type == row.type) &\n",
    "        (pkl_data.variant_name == row.variant_name) &\n",
    "        (pkl_data.method == row.method) &\n",
    "        (pkl_data.idx == row.idx)\n",
    "    ]\n",
    "    \n",
    "    relevant_idx = adjustments_per_mask.loc[\n",
    "        adjustments_per_mask.mask_id == row.mask_id\n",
    "    ].index\n",
    "    \n",
    "    for ridx in relevant_idx:\n",
    "        pkl_candidates = pkl_candidates.loc[\n",
    "            pkl_candidates[f'use_{adjustments_per_mask.loc[ridx].adjustment}']\n",
    "        ]\n",
    "    \n",
    "        features = json.loads(adjustments_per_mask.loc[ridx].features)\n",
    "    \n",
    "        for key in features:\n",
    "            if key in ['blow_up_radius','blow_up_c','contract_radius','contract_c']:\n",
    "                pkl_candidates = pkl_candidates.loc[\n",
    "                    pkl_candidates[key].apply(lambda val: str(val)) == str(features[key])\n",
    "                ]\n",
    "            elif key in ['blow_up_center','contract_center']:\n",
    "                pkl_candidates = pkl_candidates.loc[\n",
    "                    pkl_candidates[key].apply(lambda field: \";\".join([\",\".join([str(val) for val in entry]) for entry in field])) == \";\".join([\",\".join([str(val) for val in entry]) for entry in features[key]])\n",
    "                ]\n",
    "            else:\n",
    "                pkl_candidates = pkl_candidates.loc[\n",
    "                    pkl_candidates[key] == features[key]\n",
    "                ]\n",
    "    \n",
    "    if pkl_candidates.shape[0] == 1:\n",
    "        pkl_candidate = pkl_candidates.iloc[0]\n",
    "    \n",
    "        candidates = candidates.loc[\n",
    "            candidates.bbox == \";\".join([str(val) for val in pkl_candidate.bbox])\n",
    "        ]\n",
    "    \n",
    "        if candidates.shape[0] > 0:\n",
    "            matchings.append((\n",
    "                row.mask_id,\n",
    "                candidates.iloc[0].mask_id\n",
    "            ))"
   ]
  },
  {
   "cell_type": "code",
   "execution_count": null,
   "id": "35af5269-2c9e-48b8-a965-47d0aa1bc4bf",
   "metadata": {},
   "outputs": [],
   "source": [
    "for source,target in matchings:\n",
    "    c = con.cursor()\n",
    "    try:\n",
    "        c.execute(\n",
    "            f'''\n",
    "                UPDATE adjustment_per_mask\n",
    "                SET mask_id='{ target }'\n",
    "                WHERE mask_id='{ source }'\n",
    "            '''\n",
    "        )\n",
    "    except:\n",
    "        pass\n",
    "    c.close()\n",
    "    con.commit()"
   ]
  },
  {
   "cell_type": "code",
   "execution_count": 36,
   "id": "99b00ebd-6921-4b9f-83b7-45cea5cecdfe",
   "metadata": {},
   "outputs": [],
   "source": [
    "def _masks():\n",
    "    with sqlite3.connect( dotenv['DB_PATH'] ) as con:\n",
    "        # Masken laden\n",
    "        masks = pd.read_sql(\n",
    "            '''\n",
    "                SELECT * FROM mask m\n",
    "            ''',\n",
    "            con\n",
    "        )\n",
    "        \n",
    "        relevant_results = [\n",
    "            r for r in\n",
    "            get_results_of_project(2)\n",
    "            if 'id' in r and r['id'] not in masks.mask_id.unique()\n",
    "        ]\n",
    "    \n",
    "        # update masken filtern\n",
    "        requires_update = []\n",
    "    \n",
    "        for r in tqdm(relevant_results):\n",
    "            job, pdf_filename, variant_name, method, idx = re.match('(.+?)\\.(.+\\.p\\d+)\\.(halftone\\d+dpi)\\.(.+?).(\\d+)\\..+', r['img_name']).groups()\n",
    "            idx = int(idx)\n",
    "            bbox = f\"{r['bbox']['x']};{r['bbox']['y']};{r['bbox']['width']};{r['bbox']['height']}\"\n",
    "            \n",
    "            masks_selection = masks.loc[\n",
    "                (masks.job == job) &\n",
    "                (masks.pdf_filename == pdf_filename) &\n",
    "                (masks.variant_name == variant_name) &\n",
    "                (masks.method == method) &\n",
    "                (masks.idx == idx) &\n",
    "                (masks.bbox == bbox)\n",
    "            ]\n",
    "            \n",
    "            if masks_selection.shape[0] > 0:\n",
    "                requires_update.append((masks_selection.iloc[0].name,r['id']))\n",
    "                    \n",
    "        for update_line in tqdm(requires_update):\n",
    "            row = masks.loc[update_line[0]]\n",
    "\n",
    "            sql_mask = f'''\n",
    "                UPDATE mask\n",
    "                SET mask_id='{ update_line[1] }'\n",
    "                WHERE (\n",
    "                    pdf_filename='{ row.pdf_filename }' AND \n",
    "                    job='{ row.job }' AND \n",
    "                    \"type\"='{ row['type'] }' AND\n",
    "                    variant_name='{ row.variant_name }' AND\n",
    "                    idx={ row.idx } AND\n",
    "                    mask_id='{ row.mask_id }'\n",
    "                )\n",
    "            '''\n",
    "\n",
    "            sql_adjustments = f'''\n",
    "                UPDATE adjustment_per_mask\n",
    "                SET mask_id='{ update_line[1] }'\n",
    "                WHERE (\n",
    "                    pdf_filename='{ row.pdf_filename }' AND \n",
    "                    job='{ row.job }' AND \n",
    "                    \"type\"='{ row['type'] }' AND\n",
    "                    variant_name='{ row.variant_name }' AND\n",
    "                    idx={ row.idx } AND\n",
    "                    mask_id='{ row.mask_id }'\n",
    "                )\n",
    "            '''\n",
    "            c = con.cursor()\n",
    "            try:\n",
    "                c.execute( sql_mask )\n",
    "                c.execute( sql_adjustments )\n",
    "            except sqlite3.IntegrityError:\n",
    "                pass\n",
    "                \n",
    "            c.close()\n",
    "            con.commit()"
   ]
  },
  {
   "cell_type": "code",
   "execution_count": 42,
   "id": "b1eb0e0d-bf6f-44e1-90c4-70014d6babea",
   "metadata": {},
   "outputs": [
    {
     "data": {
      "application/vnd.jupyter.widget-view+json": {
       "model_id": "4dc692943e8f42d2b105da2f5839062a",
       "version_major": 2,
       "version_minor": 0
      },
      "text/plain": [
       "  0%|          | 0/73 [00:00<?, ?it/s]"
      ]
     },
     "metadata": {},
     "output_type": "display_data"
    },
    {
     "data": {
      "application/vnd.jupyter.widget-view+json": {
       "model_id": "c8d77a882aa84553a58e0719d8db3ca9",
       "version_major": 2,
       "version_minor": 0
      },
      "text/plain": [
       "  0%|          | 0/69 [00:00<?, ?it/s]"
      ]
     },
     "metadata": {},
     "output_type": "display_data"
    }
   ],
   "source": [
    "_masks()"
   ]
  }
 ],
 "metadata": {
  "kernelspec": {
   "display_name": "Python 3 (ipykernel)",
   "language": "python",
   "name": "python3"
  },
  "language_info": {
   "codemirror_mode": {
    "name": "ipython",
    "version": 3
   },
   "file_extension": ".py",
   "mimetype": "text/x-python",
   "name": "python",
   "nbconvert_exporter": "python",
   "pygments_lexer": "ipython3",
   "version": "3.10.11"
  }
 },
 "nbformat": 4,
 "nbformat_minor": 5
}
