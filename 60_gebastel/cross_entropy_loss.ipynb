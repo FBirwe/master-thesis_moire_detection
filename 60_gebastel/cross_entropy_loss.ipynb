{
 "cells": [
  {
   "cell_type": "code",
   "execution_count": 1,
   "id": "4028d70b-9739-4b73-bf9b-97f2ba362f09",
   "metadata": {},
   "outputs": [],
   "source": [
    "import math"
   ]
  },
  {
   "cell_type": "code",
   "execution_count": 17,
   "id": "f004164c-25e6-45c5-81f9-e377c226b8db",
   "metadata": {},
   "outputs": [],
   "source": [
    "inputs = [\n",
    "    0.00001,\n",
    "    0.8,\n",
    "    .0001,\n",
    "    1,\n",
    "    0.5\n",
    "]\n",
    "\n",
    "labels = [\n",
    "    0,\n",
    "    1,\n",
    "    0,\n",
    "    1,\n",
    "    1\n",
    "]"
   ]
  },
  {
   "cell_type": "code",
   "execution_count": 18,
   "id": "b3a7f702-8ad4-4938-ad74-826fb9451787",
   "metadata": {},
   "outputs": [],
   "source": [
    "def cross_entropy( inputs, labels ):\n",
    "    return -1 * sum([labels[i] * math.log(inputs[i]) for i in range(len(inputs))])"
   ]
  },
  {
   "cell_type": "code",
   "execution_count": 19,
   "id": "7775b82d-e018-41af-81ad-f2bcd41ff634",
   "metadata": {},
   "outputs": [
    {
     "data": {
      "text/plain": [
       "0.916290731874155"
      ]
     },
     "execution_count": 19,
     "metadata": {},
     "output_type": "execute_result"
    }
   ],
   "source": [
    "cross_entropy( inputs, labels )"
   ]
  }
 ],
 "metadata": {
  "kernelspec": {
   "display_name": "Python 3 (ipykernel)",
   "language": "python",
   "name": "python3"
  },
  "language_info": {
   "codemirror_mode": {
    "name": "ipython",
    "version": 3
   },
   "file_extension": ".py",
   "mimetype": "text/x-python",
   "name": "python",
   "nbconvert_exporter": "python",
   "pygments_lexer": "ipython3",
   "version": "3.10.11"
  }
 },
 "nbformat": 4,
 "nbformat_minor": 5
}
