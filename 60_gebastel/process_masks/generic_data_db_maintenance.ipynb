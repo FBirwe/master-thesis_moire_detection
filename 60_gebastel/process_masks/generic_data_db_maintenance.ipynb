{
 "cells": [
  {
   "cell_type": "code",
   "execution_count": 1,
   "id": "717cd272-533f-42c3-add7-4a628be7c1ce",
   "metadata": {},
   "outputs": [],
   "source": [
    "import sys\n",
    "sys.path.append('../../30_data_tools/')"
   ]
  },
  {
   "cell_type": "code",
   "execution_count": 2,
   "id": "684b0d25-a19b-4140-87be-8f4f4b6b1766",
   "metadata": {},
   "outputs": [],
   "source": [
    "import pandas as pd\n",
    "import sqlite3\n",
    "import re\n",
    "from tqdm import tqdm\n",
    "import requests"
   ]
  },
  {
   "cell_type": "code",
   "execution_count": 3,
   "id": "971e35e5-59df-457b-9c1d-31e21760e4de",
   "metadata": {},
   "outputs": [],
   "source": [
    "from helper import load_dotenv\n",
    "from get_labelstudio_data import get_results_of_project"
   ]
  },
  {
   "cell_type": "code",
   "execution_count": 4,
   "id": "205703f7-d2fc-4429-9391-3bcf7ebc4b70",
   "metadata": {},
   "outputs": [],
   "source": [
    "import plotly.express as px"
   ]
  },
  {
   "cell_type": "code",
   "execution_count": 5,
   "id": "3fdb9ea2-ed94-4905-b364-3ace77817164",
   "metadata": {},
   "outputs": [],
   "source": [
    "dotenv = load_dotenv()"
   ]
  },
  {
   "cell_type": "code",
   "execution_count": 6,
   "id": "cc392b25-e8a7-41be-a942-51257e770fa4",
   "metadata": {},
   "outputs": [],
   "source": [
    "con = sqlite3.connect(dotenv['DB_PATH'])"
   ]
  },
  {
   "cell_type": "code",
   "execution_count": null,
   "id": "caad463d-71c0-4679-a6c3-282146fe2827",
   "metadata": {},
   "outputs": [],
   "source": [
    "def delete_duplicated_masks( con ):\n",
    "    masks = pd.read_sql(\n",
    "        '''\n",
    "            SELECT * FROM mask m\n",
    "        ''',\n",
    "        con\n",
    "    )   \n",
    "\n",
    "    relevant_selection = masks.loc[\n",
    "        :,\n",
    "        ['pdf_filename','job','type','variant_name','method','idx','bbox']\n",
    "    ]\n",
    "    \n",
    "    relevant_idx = masks.loc[\n",
    "        relevant_selection.duplicated(keep='first')\n",
    "    ].index\n",
    "\n",
    "    delete_count = 0\n",
    "    for idx in tqdm(relevant_idx):\n",
    "        row = masks.loc[idx]\n",
    "\n",
    "        mask_ids = masks.loc[\n",
    "            (masks.pdf_filename == row.pdf_filename) &\n",
    "            (masks.job == row.job) &\n",
    "            (masks.type == row.type) &\n",
    "            (masks.variant_name == row.variant_name) &\n",
    "            (masks.method == row.method) &\n",
    "            (masks.idx == row.idx) &\n",
    "            (masks.bbox == row.bbox)\n",
    "        ].mask_id.to_list()\n",
    "        \n",
    "        # keep\n",
    "        non_temp_ids = [m_id for m_id in mask_ids if re.match(r'^temp_.+',m_id) == None]\n",
    "        keep_id = non_temp_ids[0] if len(non_temp_ids) > 0 else mask_ids[0]\n",
    "        delete_ids = [m_id for m_id in mask_ids if m_id != keep_id]\n",
    "        delete_count += len(delete_ids)\n",
    "        \n",
    "        sql = f'''\n",
    "            DELETE FROM mask\n",
    "            WHERE (\n",
    "                pdf_filename='{ row.pdf_filename }' AND\n",
    "                job='{ row.job }' AND\n",
    "                \"type\"='{ row.type }' AND\n",
    "                variant_name='{ row.variant_name }' AND\n",
    "                method='{ row.method }' AND\n",
    "                idx={ row.idx } AND\n",
    "                bbox='{ row.bbox }' AND\n",
    "                mask_id IN ({ ','.join([\"'\" + d_id + \"'\" for d_id in delete_ids]) })\n",
    "            )\n",
    "        '''\n",
    "\n",
    "        c = con.cursor()\n",
    "        c.execute(sql)\n",
    "        c.close()\n",
    "        con.commit()\n",
    "\n",
    "    print(f'{ delete_count } masks deleted')"
   ]
  },
  {
   "cell_type": "code",
   "execution_count": null,
   "id": "75616e84-cfd0-48ff-9bbb-7da3c3e684eb",
   "metadata": {},
   "outputs": [],
   "source": [
    "results.loc[\n",
    "    (results.img_name == '140233.39_DO01175010_Spielplaene_S_001-240.p89.soft_light.1.4c_300.jpg') &\n",
    "    (results.mask_id.isin(masks.mask_id) == False)\n",
    "]"
   ]
  },
  {
   "cell_type": "code",
   "execution_count": null,
   "id": "b9849242-a646-4c54-8aba-96c904688a01",
   "metadata": {},
   "outputs": [],
   "source": [
    "results.loc[\n",
    "    results.mask_id.isin(masks.mask_id) == False\n",
    "].groupby('img_name').count()"
   ]
  },
  {
   "cell_type": "code",
   "execution_count": null,
   "id": "b004416b-5f9c-4a58-b4b9-1eaa64c36462",
   "metadata": {},
   "outputs": [],
   "source": [
    "delete_duplicated_masks(con)"
   ]
  },
  {
   "cell_type": "code",
   "execution_count": null,
   "id": "6a7c4ee3-d3d1-4b35-a18d-a0c22d0366b7",
   "metadata": {},
   "outputs": [],
   "source": [
    "masks = pd.read_sql(\n",
    "    '''\n",
    "        SELECT * FROM mask m\n",
    "    ''',\n",
    "    con\n",
    ")  \n",
    "\n",
    "masks.loc[\n",
    "    (masks.mask_id.isin(results.mask_id) == False) &\n",
    "    (masks.mask_id.str.match('^temp_.+'))\n",
    "]"
   ]
  },
  {
   "cell_type": "code",
   "execution_count": null,
   "id": "6d6ee630-0cc8-4141-8092-ebd8509be7e5",
   "metadata": {},
   "outputs": [],
   "source": [
    "results = pd.DataFrame(\n",
    "    [\n",
    "        (r['img_name'],r['value']['x'],r['value']['y'],r['value']['width'],r['value']['height'],r['id'] if 'id' in r else '-',r['rectanglelabels'][0])\n",
    "        for r in get_results_of_project(2)\n",
    "    ],\n",
    "    columns=[\n",
    "        'img_name',\n",
    "        'x',\n",
    "        'y',\n",
    "        'width',\n",
    "        'height',\n",
    "        'mask_id',\n",
    "        'label'\n",
    "    ]\n",
    ")\n",
    "\n",
    "masks = pd.read_sql(\n",
    "    '''\n",
    "        SELECT mask_id FROM mask m\n",
    "    ''',\n",
    "    con\n",
    ")   \n",
    "\n",
    "relevant_selection = results.loc[\n",
    "    :,\n",
    "    [c for c in results.columns if c not in ['label','mask_id']]\n",
    "]\n",
    "\n",
    "relevant_idx = results.loc[\n",
    "    relevant_selection.duplicated(keep='first')\n",
    "].index"
   ]
  },
  {
   "cell_type": "code",
   "execution_count": null,
   "id": "86c25545-2433-40e0-917c-959b67ab05c8",
   "metadata": {},
   "outputs": [],
   "source": [
    "for idx in relevant_idx:\n",
    "    row = results.loc[idx]\n",
    "\n",
    "    selection = results.loc[\n",
    "        (results.img_name == row.img_name) &\n",
    "        (results.x == row.x) &\n",
    "        (results.y == row.y) &\n",
    "        (results.width == row.width) &\n",
    "        (results.height == row.height)\n",
    "    ]\n",
    "\n",
    "    crossover_selection = selection.loc[\n",
    "        selection.mask_id.isin(masks.mask_id)\n",
    "    ]\n",
    "\n",
    "    if crossover_selection.shape[0] > 0:\n",
    "        print(idx, selection.shape[0], crossover_selection.shape[0])"
   ]
  },
  {
   "cell_type": "code",
   "execution_count": null,
   "id": "8dcf7606-5eaf-4cdd-895f-2976b421d130",
   "metadata": {},
   "outputs": [],
   "source": [
    "delete_annotation( \"jP4gjyRy_5\" )"
   ]
  },
  {
   "cell_type": "code",
   "execution_count": null,
   "id": "d2cb55f6-3bd2-4e35-8eb9-41234fee6c2b",
   "metadata": {},
   "outputs": [],
   "source": [
    "selection"
   ]
  },
  {
   "cell_type": "code",
   "execution_count": null,
   "id": "019aa35d-35e9-4232-9742-61e363e47503",
   "metadata": {},
   "outputs": [],
   "source": [
    "selection.img_name.iloc[0]"
   ]
  },
  {
   "cell_type": "code",
   "execution_count": null,
   "id": "fed5d533-03fc-430d-89f5-e5caae58ba4c",
   "metadata": {},
   "outputs": [],
   "source": [
    "masks.mask_id"
   ]
  },
  {
   "cell_type": "code",
   "execution_count": null,
   "id": "499cec61-7758-492e-b3d2-4999be910573",
   "metadata": {},
   "outputs": [],
   "source": [
    "results.loc[\n",
    "    :,\n",
    "    [c for c in results.columns if c not in ['label','mask_id']]\n",
    "]"
   ]
  },
  {
   "cell_type": "code",
   "execution_count": null,
   "id": "21d9c191-6867-441c-98c8-e384cff48722",
   "metadata": {},
   "outputs": [],
   "source": [
    "masks"
   ]
  },
  {
   "cell_type": "code",
   "execution_count": null,
   "id": "cb9b0b02-bf9e-4ebd-8abc-fafd4723187f",
   "metadata": {},
   "outputs": [],
   "source": [
    "def delete_annotation( mask_id ):     \n",
    "    headers = {'Authorization': f'Token { dotenv[\"LABEL_STUDIO_TOKEN\"] }'}\n",
    "    \n",
    "    res = requests.delete(\n",
    "        f'http://localhost:8080/api/annotations/{ mask_id }/',\n",
    "        headers=headers,\n",
    "    )\n",
    "\n",
    "    return res"
   ]
  },
  {
   "cell_type": "code",
   "execution_count": 52,
   "id": "14f758e2-3922-40e6-a9d4-fc0cd0b2b753",
   "metadata": {},
   "outputs": [],
   "source": [
    "def _masks():\n",
    "    # Masken laden\n",
    "    masks = pd.read_sql(\n",
    "        '''\n",
    "            SELECT * FROM mask m\n",
    "        ''',\n",
    "        con\n",
    "    )\n",
    "    \n",
    "    masks.loc[\n",
    "        :,\n",
    "        'filename'\n",
    "    ] = masks.apply(lambda val: f\"{ val.job }.{ val.pdf_filename }.{ val.method }.{ val.idx }.4c_600.jpg\", axis=1)\n",
    "\n",
    "    relevant_results = [\n",
    "        r for r in\n",
    "        get_results_of_project(2)\n",
    "        if 'id' in r and r['id'] not in masks.mask_id.unique()\n",
    "    ]\n",
    "    \n",
    "    masks_to_update = masks.loc[\n",
    "        masks.mask_id.str.match('^temp_.+')\n",
    "    ].index\n",
    "\n",
    "    # update masken filtern\n",
    "    requires_update = []\n",
    "\n",
    "    for idx in masks_to_update:\n",
    "        row = masks.loc[idx]\n",
    "        bbox = [int(val) for val in row.bbox.split(\";\")]\n",
    "        results = [\n",
    "            r for r in relevant_results \n",
    "            if f'{ row.job }.{ row.pdf_filename }' in r['img_name'] and \n",
    "                f'{ row.method }.{ row.idx }.4c_600.jpg' in r['img_name'] and \n",
    "                r['bbox']['x'] == bbox[0] and \n",
    "                r['bbox']['y'] == bbox[1] and\n",
    "                r['bbox']['width'] == bbox[2] and\n",
    "                r['bbox']['height'] == bbox[3]\n",
    "        ]\n",
    "        \n",
    "        if len(results) > 0:\n",
    "            requires_update.append((idx,results[0]['id']))\n",
    "\n",
    "    for update_line in tqdm(requires_update):\n",
    "        row = masks.loc[update_line[0]]\n",
    "\n",
    "        sql = f'''\n",
    "            UPDATE mask\n",
    "            SET mask_id='{ update_line[1] }'\n",
    "            WHERE (\n",
    "                pdf_filename='{ row.pdf_filename }' AND \n",
    "                job='{ row.job }' AND \n",
    "                \"type\"='{ row['type'] }' AND\n",
    "                variant_name='{ row.variant_name }' AND\n",
    "                idx={ row.idx } AND\n",
    "                mask_id='{ row.mask_id }'\n",
    "            )\n",
    "        '''\n",
    "        c = con.cursor()\n",
    "        try:\n",
    "            c.execute( sql )\n",
    "        except sqlite3.IntegrityError:\n",
    "            pass\n",
    "            \n",
    "        c.close()\n",
    "        con.commit()"
   ]
  },
  {
   "cell_type": "code",
   "execution_count": 53,
   "id": "8a5941b5-f9da-4642-99a1-f0142962cc91",
   "metadata": {},
   "outputs": [
    {
     "name": "stderr",
     "output_type": "stream",
     "text": [
      "100%|██████████| 864/864 [00:01<00:00, 662.62it/s]\n"
     ]
    }
   ],
   "source": [
    "_masks()"
   ]
  }
 ],
 "metadata": {
  "kernelspec": {
   "display_name": "Python 3 (ipykernel)",
   "language": "python",
   "name": "python3"
  },
  "language_info": {
   "codemirror_mode": {
    "name": "ipython",
    "version": 3
   },
   "file_extension": ".py",
   "mimetype": "text/x-python",
   "name": "python",
   "nbconvert_exporter": "python",
   "pygments_lexer": "ipython3",
   "version": "3.12.3"
  }
 },
 "nbformat": 4,
 "nbformat_minor": 5
}
