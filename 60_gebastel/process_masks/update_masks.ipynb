{
 "cells": [
  {
   "cell_type": "code",
   "execution_count": 1,
   "id": "810f453f-148c-4770-a923-b30b315ec07f",
   "metadata": {},
   "outputs": [],
   "source": [
    "import sys\n",
    "sys.path.append('../../30_data_tools/')"
   ]
  },
  {
   "cell_type": "code",
   "execution_count": 2,
   "id": "7dd25b4f-598d-4903-93f6-609784a5a407",
   "metadata": {},
   "outputs": [],
   "source": [
    "from pathlib import Path\n",
    "from tqdm import tqdm\n",
    "from PIL import Image\n",
    "import numpy as np\n",
    "import pickle\n",
    "import random\n",
    "import cv2\n",
    "import plotly.express as px\n",
    "\n",
    "import pandas as pd\n",
    "import sqlite3\n",
    "import pytesseract\n",
    "import os"
   ]
  },
  {
   "cell_type": "code",
   "execution_count": 3,
   "id": "6328d973-0a8c-4baa-9ec0-fddee2305152",
   "metadata": {},
   "outputs": [],
   "source": [
    "from helper import load_dotenv"
   ]
  },
  {
   "cell_type": "code",
   "execution_count": 4,
   "id": "9ee4917a-bcec-4d77-9a9b-218be40d9b3a",
   "metadata": {},
   "outputs": [],
   "source": [
    "from mask_functions import is_text_mask, filter_intersected_masks, is_above_min_size, load_masks, get_whole_mask, save_masks"
   ]
  },
  {
   "cell_type": "code",
   "execution_count": 5,
   "id": "375b2fe5-b6d7-4e21-99a0-fccb61021384",
   "metadata": {},
   "outputs": [],
   "source": [
    "dotenv = load_dotenv()"
   ]
  },
  {
   "cell_type": "code",
   "execution_count": 6,
   "id": "96f3f71e-707b-402e-af9f-4c7814fe1f9f",
   "metadata": {
    "scrolled": true
   },
   "outputs": [],
   "source": [
    "con = sqlite3.connect(dotenv['DB_PATH'])"
   ]
  },
  {
   "cell_type": "code",
   "execution_count": 7,
   "id": "9c6ab57a-a1d9-4e7c-880d-bc0708f084cf",
   "metadata": {},
   "outputs": [],
   "source": [
    "remaining_pages = pd.read_sql(\n",
    "    '''\n",
    "        SELECT cf.* FROM (\n",
    "        \tSELECT * FROM related_file\n",
    "        \tWHERE variant_name = 'halftone300dpi' AND \"type\" = '4c'\n",
    "        ) cf\n",
    "        LEFT JOIN (\n",
    "        \tSELECT job, pdf_filename, 1 AS has_mask FROM related_file \n",
    "        \tWHERE variant_name = 'halftone300dpi' AND \"type\" = 'masks'\n",
    "        ) mf ON cf.job=mf.job AND cf.pdf_filename=mf.pdf_filename \n",
    "        WHERE mf.has_mask IS NOT NULL\n",
    "    ''',\n",
    "    con\n",
    ").sample(frac=1)"
   ]
  },
  {
   "cell_type": "markdown",
   "id": "0c999612-2c9a-4a8a-ac35-5748b05b7291",
   "metadata": {},
   "source": [
    "# Verarbeitung"
   ]
  },
  {
   "cell_type": "code",
   "execution_count": 8,
   "id": "b7e17fce-f468-4b4a-8654-c6c255421721",
   "metadata": {},
   "outputs": [
    {
     "name": "stderr",
     "output_type": "stream",
     "text": [
      "100%|████████████████████████████████████| 1921/1921 [00:00<00:00, 27836.15it/s]\n"
     ]
    }
   ],
   "source": [
    "available_masks = list(dotenv['DATA_DIR'].glob('./*/halftone300dpi/*.masks.*'))\n",
    "masks_to_process = []\n",
    "\n",
    "for mask_path in tqdm(available_masks):\n",
    "    mask_path_out = mask_path.parent.parent / 'halftone600dpi' / mask_path.name\n",
    "\n",
    "    if mask_path_out.exists() == False:\n",
    "        masks_to_process.append(mask_path)"
   ]
  },
  {
   "cell_type": "code",
   "execution_count": 9,
   "id": "63fc1c2b-6322-4ec8-b4dd-57a84ad1f20c",
   "metadata": {},
   "outputs": [
    {
     "data": {
      "text/plain": [
       "(672, 1921, 0.3498178032274857)"
      ]
     },
     "execution_count": 9,
     "metadata": {},
     "output_type": "execute_result"
    }
   ],
   "source": [
    "len(masks_to_process), len(available_masks), len(masks_to_process) / len(available_masks)"
   ]
  },
  {
   "cell_type": "code",
   "execution_count": 10,
   "id": "ca5b56d1-7307-44f5-a038-39a85db9fa5f",
   "metadata": {
    "scrolled": true
   },
   "outputs": [
    {
     "ename": "ZeroDivisionError",
     "evalue": "division by zero",
     "output_type": "error",
     "traceback": [
      "\u001b[0;31m---------------------------------------------------------------------------\u001b[0m",
      "\u001b[0;31mZeroDivisionError\u001b[0m                         Traceback (most recent call last)",
      "Cell \u001b[0;32mIn[10], line 1\u001b[0m\n\u001b[0;32m----> 1\u001b[0m \u001b[38;5;241;43m0\u001b[39;49m\u001b[43m \u001b[49m\u001b[38;5;241;43m/\u001b[39;49m\u001b[43m \u001b[49m\u001b[38;5;241;43m0\u001b[39;49m\n",
      "\u001b[0;31mZeroDivisionError\u001b[0m: division by zero"
     ]
    }
   ],
   "source": [
    "0 / 0"
   ]
  },
  {
   "cell_type": "code",
   "execution_count": 11,
   "id": "0b226d1a-3ccc-4b76-8ecf-4ddabf0b5c49",
   "metadata": {},
   "outputs": [
    {
     "name": "stderr",
     "output_type": "stream",
     "text": [
      "  0%|                                       | 1/672 [04:05<45:39:55, 245.00s/it]\n"
     ]
    },
    {
     "ename": "KeyboardInterrupt",
     "evalue": "",
     "output_type": "error",
     "traceback": [
      "\u001b[0;31m---------------------------------------------------------------------------\u001b[0m",
      "\u001b[0;31mKeyboardInterrupt\u001b[0m                         Traceback (most recent call last)",
      "Cell \u001b[0;32mIn[11], line 24\u001b[0m\n\u001b[1;32m     22\u001b[0m masks \u001b[38;5;241m=\u001b[39m [m \u001b[38;5;28;01mfor\u001b[39;00m m \u001b[38;5;129;01min\u001b[39;00m masks \u001b[38;5;28;01mif\u001b[39;00m is_text_mask( img, m ) \u001b[38;5;241m==\u001b[39m \u001b[38;5;28;01mFalse\u001b[39;00m]\n\u001b[1;32m     23\u001b[0m \u001b[38;5;66;03m# filter duplicates\u001b[39;00m\n\u001b[0;32m---> 24\u001b[0m masks \u001b[38;5;241m=\u001b[39m \u001b[43mfilter_intersected_masks\u001b[49m\u001b[43m(\u001b[49m\u001b[43m \u001b[49m\u001b[43mmasks\u001b[49m\u001b[43m \u001b[49m\u001b[43m)\u001b[49m\n\u001b[1;32m     26\u001b[0m \u001b[38;5;66;03m# masken auf 600dpi skalieren\u001b[39;00m\n\u001b[1;32m     27\u001b[0m \u001b[38;5;28;01mfor\u001b[39;00m m \u001b[38;5;129;01min\u001b[39;00m masks:\n",
      "File \u001b[0;32m~/Library/CloudStorage/OneDrive-BertelsmannSE&Co.KGaA/Masterarbeit/60_gebastel/process_masks/mask_functions.py:160\u001b[0m, in \u001b[0;36mfilter_intersected_masks\u001b[0;34m(masks)\u001b[0m\n\u001b[1;32m    158\u001b[0m \u001b[38;5;28;01mfor\u001b[39;00m b \u001b[38;5;129;01min\u001b[39;00m \u001b[38;5;28mrange\u001b[39m(a\u001b[38;5;241m+\u001b[39m\u001b[38;5;241m1\u001b[39m, \u001b[38;5;28mlen\u001b[39m(masks)):\n\u001b[1;32m    159\u001b[0m     \u001b[38;5;28;01mif\u001b[39;00m b \u001b[38;5;129;01mnot\u001b[39;00m \u001b[38;5;129;01min\u001b[39;00m delete:\n\u001b[0;32m--> 160\u001b[0m         iou \u001b[38;5;241m=\u001b[39m \u001b[43mget_iou\u001b[49m\u001b[43m(\u001b[49m\u001b[43m \u001b[49m\u001b[43mwhole_masks\u001b[49m\u001b[43m[\u001b[49m\u001b[43ma\u001b[49m\u001b[43m]\u001b[49m\u001b[43m,\u001b[49m\u001b[43m  \u001b[49m\u001b[43mwhole_masks\u001b[49m\u001b[43m[\u001b[49m\u001b[43mb\u001b[49m\u001b[43m]\u001b[49m\u001b[43m \u001b[49m\u001b[43m)\u001b[49m\n\u001b[1;32m    162\u001b[0m         \u001b[38;5;28;01mif\u001b[39;00m iou \u001b[38;5;241m>\u001b[39m\u001b[38;5;241m=\u001b[39m config[\u001b[38;5;124m'\u001b[39m\u001b[38;5;124mMIN_MASK_OCR_INTERSECTION\u001b[39m\u001b[38;5;124m'\u001b[39m]:\n\u001b[1;32m    163\u001b[0m             delete\u001b[38;5;241m.\u001b[39mappend(b)\n",
      "File \u001b[0;32m~/Library/CloudStorage/OneDrive-BertelsmannSE&Co.KGaA/Masterarbeit/60_gebastel/process_masks/mask_functions.py:145\u001b[0m, in \u001b[0;36mget_iou\u001b[0;34m(whole_mask_a, whole_mask_b)\u001b[0m\n\u001b[1;32m    140\u001b[0m \u001b[38;5;250m\u001b[39m\u001b[38;5;124;03m\"\"\"\u001b[39;00m\n\u001b[1;32m    141\u001b[0m \u001b[38;5;124;03m    Errechnet die Intersection over union (IoU) für zwei Masken \u001b[39;00m\n\u001b[1;32m    142\u001b[0m \u001b[38;5;124;03m\"\"\"\u001b[39;00m\n\u001b[1;32m    143\u001b[0m combined_map \u001b[38;5;241m=\u001b[39m whole_mask_a \u001b[38;5;241m+\u001b[39m whole_mask_b\n\u001b[0;32m--> 145\u001b[0m intersection \u001b[38;5;241m=\u001b[39m \u001b[43mcombined_map\u001b[49m\u001b[43m[\u001b[49m\u001b[43mcombined_map\u001b[49m\u001b[43m \u001b[49m\u001b[38;5;241;43m>\u001b[39;49m\u001b[38;5;241;43m=\u001b[39;49m\u001b[43m \u001b[49m\u001b[38;5;241;43m2\u001b[39;49m\u001b[43m]\u001b[49m\u001b[38;5;241;43m.\u001b[39;49m\u001b[43msum\u001b[49m\u001b[43m(\u001b[49m\u001b[43m)\u001b[49m\n\u001b[1;32m    146\u001b[0m union \u001b[38;5;241m=\u001b[39m combined_map[combined_map \u001b[38;5;241m>\u001b[39m \u001b[38;5;241m0\u001b[39m]\u001b[38;5;241m.\u001b[39msum()\n\u001b[1;32m    148\u001b[0m \u001b[38;5;28;01mreturn\u001b[39;00m intersection \u001b[38;5;241m/\u001b[39m union\n",
      "File \u001b[0;32m~/Library/Python/3.10/lib/python/site-packages/numpy/core/_methods.py:47\u001b[0m, in \u001b[0;36m_sum\u001b[0;34m(a, axis, dtype, out, keepdims, initial, where)\u001b[0m\n\u001b[1;32m     43\u001b[0m \u001b[38;5;28;01mdef\u001b[39;00m \u001b[38;5;21m_amin\u001b[39m(a, axis\u001b[38;5;241m=\u001b[39m\u001b[38;5;28;01mNone\u001b[39;00m, out\u001b[38;5;241m=\u001b[39m\u001b[38;5;28;01mNone\u001b[39;00m, keepdims\u001b[38;5;241m=\u001b[39m\u001b[38;5;28;01mFalse\u001b[39;00m,\n\u001b[1;32m     44\u001b[0m           initial\u001b[38;5;241m=\u001b[39m_NoValue, where\u001b[38;5;241m=\u001b[39m\u001b[38;5;28;01mTrue\u001b[39;00m):\n\u001b[1;32m     45\u001b[0m     \u001b[38;5;28;01mreturn\u001b[39;00m umr_minimum(a, axis, \u001b[38;5;28;01mNone\u001b[39;00m, out, keepdims, initial, where)\n\u001b[0;32m---> 47\u001b[0m \u001b[38;5;28;01mdef\u001b[39;00m \u001b[38;5;21m_sum\u001b[39m(a, axis\u001b[38;5;241m=\u001b[39m\u001b[38;5;28;01mNone\u001b[39;00m, dtype\u001b[38;5;241m=\u001b[39m\u001b[38;5;28;01mNone\u001b[39;00m, out\u001b[38;5;241m=\u001b[39m\u001b[38;5;28;01mNone\u001b[39;00m, keepdims\u001b[38;5;241m=\u001b[39m\u001b[38;5;28;01mFalse\u001b[39;00m,\n\u001b[1;32m     48\u001b[0m          initial\u001b[38;5;241m=\u001b[39m_NoValue, where\u001b[38;5;241m=\u001b[39m\u001b[38;5;28;01mTrue\u001b[39;00m):\n\u001b[1;32m     49\u001b[0m     \u001b[38;5;28;01mreturn\u001b[39;00m umr_sum(a, axis, dtype, out, keepdims, initial, where)\n\u001b[1;32m     51\u001b[0m \u001b[38;5;28;01mdef\u001b[39;00m \u001b[38;5;21m_prod\u001b[39m(a, axis\u001b[38;5;241m=\u001b[39m\u001b[38;5;28;01mNone\u001b[39;00m, dtype\u001b[38;5;241m=\u001b[39m\u001b[38;5;28;01mNone\u001b[39;00m, out\u001b[38;5;241m=\u001b[39m\u001b[38;5;28;01mNone\u001b[39;00m, keepdims\u001b[38;5;241m=\u001b[39m\u001b[38;5;28;01mFalse\u001b[39;00m,\n\u001b[1;32m     52\u001b[0m           initial\u001b[38;5;241m=\u001b[39m_NoValue, where\u001b[38;5;241m=\u001b[39m\u001b[38;5;28;01mTrue\u001b[39;00m):\n",
      "\u001b[0;31mKeyboardInterrupt\u001b[0m: "
     ]
    }
   ],
   "source": [
    "for mask_path in tqdm(masks_to_process):\n",
    "    img_path = mask_path.parent / mask_path.name.replace('masks.pkl','4c.jpg')\n",
    "    mask_path_out = mask_path.parent.parent / 'halftone600dpi' / mask_path.name\n",
    "\n",
    "    if mask_path.exists() and img_path.exists():\n",
    "        img = Image.open(img_path)\n",
    "        mask_scale_factor = 600 / 300\n",
    "\n",
    "        masks = load_masks( mask_path )\n",
    "\n",
    "        # img_size Wert setzen\n",
    "        for m in masks:\n",
    "            if 'img_size' not in m:\n",
    "                m['img_size'] = (\n",
    "                    int(round(img.size[0] * mask_scale_factor)),\n",
    "                    int(round(img.size[1] * mask_scale_factor))\n",
    "                )\n",
    "            \n",
    "        # filter by size\n",
    "        masks = [m for m in masks if is_above_min_size(m)]\n",
    "        # filter by text box\n",
    "        masks = [m for m in masks if is_text_mask( img, m ) == False]\n",
    "        # filter duplicates\n",
    "        masks = filter_intersected_masks( masks )\n",
    "\n",
    "        # masken auf 600dpi skalieren\n",
    "        for m in masks:\n",
    "            m['bbox'] = [int(val * mask_scale_factor) for val in m['bbox']]\n",
    "        \n",
    "        save_masks( masks, mask_path_out ) "
   ]
  },
  {
   "cell_type": "code",
   "execution_count": null,
   "id": "0e5ec267-c6c4-48e7-8e5d-418b7f3f7291",
   "metadata": {},
   "outputs": [],
   "source": [
    "with mask_path.open('rb') as mask_file:\n",
    "    masks = pickle.load(mask_file)"
   ]
  },
  {
   "cell_type": "code",
   "execution_count": null,
   "id": "1f0d7d08-e78d-424b-922a-196c3f5d2cd8",
   "metadata": {},
   "outputs": [],
   "source": [
    "masks[0]['mask'].shape"
   ]
  },
  {
   "cell_type": "code",
   "execution_count": null,
   "id": "2763f28c-3b1a-4876-ab13-81bfaa72ccb9",
   "metadata": {},
   "outputs": [],
   "source": [
    "masks[0]['bbox']"
   ]
  },
  {
   "cell_type": "code",
   "execution_count": null,
   "id": "70f1d1a3-89c7-4a2c-9fe4-b89658154d73",
   "metadata": {},
   "outputs": [],
   "source": [
    "0 / 0"
   ]
  },
  {
   "cell_type": "code",
   "execution_count": null,
   "id": "41f0d6ed-4c8c-42c3-874f-f920874e5a4b",
   "metadata": {},
   "outputs": [],
   "source": [
    "masks = list(dotenv['DATA_DIR'].glob('./*/halftone600dpi/*.masks.pkl'))\n",
    "\n",
    "for mask_path in tqdm(masks):\n",
    "    img_path = mask_path.parent / mask_path.name.replace( \".masks.pkl\", \".4c.jpg\" )\n",
    "\n",
    "    if img_path.exists():\n",
    "        masks = load_masks( mask_path )\n",
    "        img = Image.open( img_path )\n",
    "\n",
    "        if len(masks) > 0 and img.size != masks[0]['img_size']:\n",
    "            for m in masks:\n",
    "                m['img_size'] = img.size\n",
    "\n",
    "            save_masks( masks, mask_path )"
   ]
  },
  {
   "cell_type": "markdown",
   "id": "9d65103e-6c23-4eda-ba24-76e9e139c42a",
   "metadata": {},
   "source": [
    "# Alt"
   ]
  },
  {
   "cell_type": "code",
   "execution_count": null,
   "id": "7d997688-f953-4e20-90c7-bc8aec86f4cd",
   "metadata": {},
   "outputs": [],
   "source": [
    "mask_rows = []\n",
    "\n",
    "for i in tqdm(range(10)):\n",
    "    row = remaining_pages.sample(n=1).iloc[0]\n",
    "    img_path = dotenv['DATA_DIR'] / row['job'] / row['variant_name'] / row['filename']\n",
    "    mask_path = img_path.parent / f'{ img_path.name.strip( \".\" + row[\"type\"] + img_path.suffix ) }.masks.pkl'    \n",
    "\n",
    "    if mask_path.exists() and img_path.exists():\n",
    "        img_size = get_image_size( img_path )\n",
    "        img = Image.open(img_path)\n",
    "\n",
    "        masks = load_masks( mask_path )\n",
    "        for i in range(len(masks)):\n",
    "            masks[i]['idx'] = i\n",
    "        \n",
    "        filtered_size = [i for i in range(len(masks)) if masks[i]['bbox'][2] * masks[i]['bbox'][3] >= config['mask_min_area']]\n",
    "        filtered_text_box = [i for i in filtered_size if is_text_mask( img, masks[i] ) == False]\n",
    "        filtered_duplicates = [m['idx'] for m in filter_intersected_masks( [masks[i] for i in filtered_text_box], img.size )]\n",
    "    \n",
    "        mask_rows.append((\n",
    "            img_path, masks, filtered_size, filtered_text_box, filtered_duplicates\n",
    "        ))"
   ]
  },
  {
   "cell_type": "code",
   "execution_count": null,
   "id": "ac4338ed-0174-41b4-bee2-eb29369de1b1",
   "metadata": {},
   "outputs": [],
   "source": [
    "deleted_masks = []\n",
    "\n",
    "for r in mask_rows:\n",
    "    deleted_masks_row = [\n",
    "        r[1][i] for i in range(len(r[1]))\n",
    "        if i not in r[4]\n",
    "    ]\n",
    "\n",
    "    deleted_masks += [\n",
    "        (r[0], dmr) for dmr in deleted_masks_row\n",
    "    ]"
   ]
  },
  {
   "cell_type": "code",
   "execution_count": null,
   "id": "7280acd0-fbc2-4731-b2a7-6aae8a577c2b",
   "metadata": {},
   "outputs": [],
   "source": [
    "kept_masks = []\n",
    "\n",
    "for r in mask_rows:\n",
    "    kept_masks += [(r[0],r[1][i]) for i in r[4]]"
   ]
  },
  {
   "cell_type": "code",
   "execution_count": null,
   "id": "e04b9db2-fd64-4912-af83-72dffbed0c26",
   "metadata": {},
   "outputs": [],
   "source": [
    "sum([len(r[1]) for r in mask_rows]), len(deleted_masks), len(kept_masks)"
   ]
  },
  {
   "cell_type": "code",
   "execution_count": null,
   "id": "a0c98588-f104-4d67-a8b6-37b87ed1304f",
   "metadata": {},
   "outputs": [],
   "source": [
    "i = 0"
   ]
  },
  {
   "cell_type": "code",
   "execution_count": null,
   "id": "076c382e-47a3-4d42-81b5-57e964996696",
   "metadata": {},
   "outputs": [],
   "source": [
    "m = kept_masks[i][1]\n",
    "print( f'{i}/{ len(kept_masks) }' )\n",
    "\n",
    "cropped_img = Image.open(kept_masks[i][0]).crop((\n",
    "    m['bbox'][0],m['bbox'][1],\n",
    "    m['bbox'][0]+m['bbox'][2],m['bbox'][1]+m['bbox'][3]\n",
    "))\n",
    "i += 1\n",
    "\n",
    "cropped_img"
   ]
  }
 ],
 "metadata": {
  "kernelspec": {
   "display_name": "Python 3 (ipykernel)",
   "language": "python",
   "name": "python3"
  },
  "language_info": {
   "codemirror_mode": {
    "name": "ipython",
    "version": 3
   },
   "file_extension": ".py",
   "mimetype": "text/x-python",
   "name": "python",
   "nbconvert_exporter": "python",
   "pygments_lexer": "ipython3",
   "version": "3.10.11"
  }
 },
 "nbformat": 4,
 "nbformat_minor": 5
}
