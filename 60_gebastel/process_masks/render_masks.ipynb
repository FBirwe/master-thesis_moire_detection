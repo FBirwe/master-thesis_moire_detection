{
 "cells": [
  {
   "cell_type": "code",
   "execution_count": 1,
   "id": "576ccec6-3b9f-423a-9167-3a61d0948497",
   "metadata": {},
   "outputs": [],
   "source": [
    "import sys\n",
    "sys.path.append('../../30_data_tools/')"
   ]
  },
  {
   "cell_type": "code",
   "execution_count": 2,
   "id": "175496fe-e026-4b98-b6f1-3b34d5980246",
   "metadata": {},
   "outputs": [],
   "source": [
    "from pathlib import Path\n",
    "from tqdm import tqdm\n",
    "from segment_anything import SamAutomaticMaskGenerator, sam_model_registry\n",
    "from PIL import Image\n",
    "import numpy as np\n",
    "import pickle\n",
    "import random\n",
    "import cv2\n",
    "\n",
    "import pandas as pd\n",
    "import sqlite3"
   ]
  },
  {
   "cell_type": "code",
   "execution_count": 3,
   "id": "d052c0d5-8650-4dbc-bcb2-a49f3f576193",
   "metadata": {},
   "outputs": [],
   "source": [
    "from mask_functions import get_config, load_mask_img, is_below_max_size, is_above_min_size, is_text_mask, filter_intersected_masks, save_masks\n",
    "from helper import load_dotenv"
   ]
  },
  {
   "cell_type": "code",
   "execution_count": 4,
   "id": "f1edca00-fe57-456f-af3d-a8bf73ebc504",
   "metadata": {},
   "outputs": [],
   "source": [
    "config = get_config()\n",
    "config['target_variant'] = 'halftone600dpi'"
   ]
  },
  {
   "cell_type": "code",
   "execution_count": 5,
   "id": "a5ea75ac-9a25-4b66-b1c9-fd80b932fa4d",
   "metadata": {},
   "outputs": [],
   "source": [
    "dotenv = load_dotenv()"
   ]
  },
  {
   "cell_type": "code",
   "execution_count": 6,
   "id": "4b448830-6cbd-40ad-8c05-c22965858c75",
   "metadata": {},
   "outputs": [],
   "source": [
    "con = sqlite3.connect(dotenv['DB_PATH'])"
   ]
  },
  {
   "cell_type": "code",
   "execution_count": 7,
   "id": "cca8d55d-150b-4e79-9589-71039e2c17e4",
   "metadata": {},
   "outputs": [],
   "source": [
    "remaining_pages = pd.read_sql(\n",
    "    f'''\n",
    "        SELECT cf.* FROM (\n",
    "        \tSELECT * FROM related_file\n",
    "        \tWHERE variant_name = '{ config[\"target_variant\"] }' AND \"type\" = '4c'\n",
    "        ) cf\n",
    "        LEFT JOIN (\n",
    "        \tSELECT job, pdf_filename, 1 AS has_mask FROM related_file \n",
    "        \tWHERE variant_name = '{ config[\"target_variant\"] }' AND \"type\" = 'masks'\n",
    "        ) mf ON cf.job=mf.job AND cf.pdf_filename=mf.pdf_filename \n",
    "        WHERE mf.has_mask IS NULL\n",
    "    ''',\n",
    "    con\n",
    ").sample(frac=1)"
   ]
  },
  {
   "cell_type": "code",
   "execution_count": 8,
   "id": "a29d5014-a1d8-4567-a9e7-aacdf3605825",
   "metadata": {},
   "outputs": [],
   "source": [
    "import torch"
   ]
  },
  {
   "cell_type": "code",
   "execution_count": 9,
   "id": "37b82ba9-c34d-4350-9bb4-b258c05d6a2f",
   "metadata": {},
   "outputs": [],
   "source": [
    "device = torch.device('mps')"
   ]
  },
  {
   "cell_type": "code",
   "execution_count": 10,
   "id": "a5f268c6-8125-4c51-87a6-d68cbf29ebe8",
   "metadata": {},
   "outputs": [],
   "source": [
    "sam = sam_model_registry[\"vit_h\"](checkpoint=\"../../22_andere_daten/sam_vit_h_4b8939.pth\")\n",
    "sam.to(device=device)\n",
    "mask_generator = SamAutomaticMaskGenerator(sam)"
   ]
  },
  {
   "cell_type": "code",
   "execution_count": 11,
   "id": "15f11c72-423d-4bb9-b7d0-41a76199a665",
   "metadata": {},
   "outputs": [
    {
     "name": "stderr",
     "output_type": "stream",
     "text": [
      "100%|█████████████████████████████████████████████████████| 2143/2143 [00:00<00:00, 7743.72it/s]\n"
     ]
    }
   ],
   "source": [
    "relevant_indexes = []\n",
    "\n",
    "for i in tqdm(range(remaining_pages.shape[0])):\n",
    "    row = remaining_pages.iloc[i]\n",
    "    img_path = dotenv['DATA_DIR'] / row['job'] / row['variant_name'] / row['filename']\n",
    "    \n",
    "    mask_path = img_path.parent / f'{ img_path.name.strip( \".\" + row[\"type\"] + img_path.suffix ) }.masks.pkl'\n",
    "    mask_path_300dpi = dotenv['DATA_DIR'] / row['job'] / 'halftone300dpi' / mask_path.name\n",
    "\n",
    "    if mask_path.exists() == False and mask_path_300dpi.exists() == False:\n",
    "        relevant_indexes.append(row.name)"
   ]
  },
  {
   "cell_type": "code",
   "execution_count": 12,
   "id": "5f858f4c-bab0-44bb-bddf-fed09d8357a8",
   "metadata": {},
   "outputs": [
    {
     "ename": "ZeroDivisionError",
     "evalue": "division by zero",
     "output_type": "error",
     "traceback": [
      "\u001b[0;31m---------------------------------------------------------------------------\u001b[0m",
      "\u001b[0;31mZeroDivisionError\u001b[0m                         Traceback (most recent call last)",
      "Cell \u001b[0;32mIn[12], line 1\u001b[0m\n\u001b[0;32m----> 1\u001b[0m \u001b[38;5;241;43m0\u001b[39;49m\u001b[43m \u001b[49m\u001b[38;5;241;43m/\u001b[39;49m\u001b[43m \u001b[49m\u001b[38;5;241;43m0\u001b[39;49m\n",
      "\u001b[0;31mZeroDivisionError\u001b[0m: division by zero"
     ]
    }
   ],
   "source": [
    "0 / 0"
   ]
  },
  {
   "cell_type": "code",
   "execution_count": 13,
   "id": "8daae4c2-10a1-4321-b714-c24ed46f40c5",
   "metadata": {},
   "outputs": [],
   "source": [
    "from time import time"
   ]
  },
  {
   "cell_type": "code",
   "execution_count": 14,
   "id": "cfae61dc-45e6-471c-b65f-2fdcc4183af1",
   "metadata": {},
   "outputs": [
    {
     "name": "stderr",
     "output_type": "stream",
     "text": [
      "  0%|                                                                  | 0/1100 [00:00<?, ?it/s]\n"
     ]
    },
    {
     "ename": "RuntimeError",
     "evalue": "MPS support binary op with uint8 natively starting from macOS 13.0",
     "output_type": "error",
     "traceback": [
      "\u001b[0;31m---------------------------------------------------------------------------\u001b[0m",
      "\u001b[0;31mRuntimeError\u001b[0m                              Traceback (most recent call last)",
      "Cell \u001b[0;32mIn[14], line 17\u001b[0m\n\u001b[1;32m     11\u001b[0m img \u001b[38;5;241m=\u001b[39m img\u001b[38;5;241m.\u001b[39mresize((\n\u001b[1;32m     12\u001b[0m     \u001b[38;5;28mint\u001b[39m( \u001b[38;5;28mround\u001b[39m(img\u001b[38;5;241m.\u001b[39msize[\u001b[38;5;241m0\u001b[39m] \u001b[38;5;241m*\u001b[39m config[\u001b[38;5;124m'\u001b[39m\u001b[38;5;124mMASK_IMG_SCALE_FACTOR\u001b[39m\u001b[38;5;124m'\u001b[39m]) ),\n\u001b[1;32m     13\u001b[0m     \u001b[38;5;28mint\u001b[39m( \u001b[38;5;28mround\u001b[39m(img\u001b[38;5;241m.\u001b[39msize[\u001b[38;5;241m1\u001b[39m] \u001b[38;5;241m*\u001b[39m config[\u001b[38;5;124m'\u001b[39m\u001b[38;5;124mMASK_IMG_SCALE_FACTOR\u001b[39m\u001b[38;5;124m'\u001b[39m]) )\n\u001b[1;32m     14\u001b[0m ))\n\u001b[1;32m     16\u001b[0m start \u001b[38;5;241m=\u001b[39m time()\n\u001b[0;32m---> 17\u001b[0m masks \u001b[38;5;241m=\u001b[39m \u001b[43mmask_generator\u001b[49m\u001b[38;5;241;43m.\u001b[39;49m\u001b[43mgenerate\u001b[49m\u001b[43m(\u001b[49m\u001b[43m \u001b[49m\u001b[43mnp\u001b[49m\u001b[38;5;241;43m.\u001b[39;49m\u001b[43marray\u001b[49m\u001b[43m(\u001b[49m\u001b[43mimg\u001b[49m\u001b[38;5;241;43m.\u001b[39;49m\u001b[43mconvert\u001b[49m\u001b[43m(\u001b[49m\u001b[38;5;124;43m\"\u001b[39;49m\u001b[38;5;124;43mRGB\u001b[39;49m\u001b[38;5;124;43m\"\u001b[39;49m\u001b[43m)\u001b[49m\u001b[43m)\u001b[49m\u001b[43m \u001b[49m\u001b[43m)\u001b[49m\n\u001b[1;32m     18\u001b[0m \u001b[38;5;28mprint\u001b[39m( \u001b[38;5;124mf\u001b[39m\u001b[38;5;124m\"\u001b[39m\u001b[38;5;124mmask generation took: \u001b[39m\u001b[38;5;132;01m{\u001b[39;00m\u001b[38;5;250m \u001b[39m(\u001b[38;5;250m \u001b[39mtime()\u001b[38;5;250m \u001b[39m\u001b[38;5;241m-\u001b[39m\u001b[38;5;250m \u001b[39mstart\u001b[38;5;250m \u001b[39m)\u001b[38;5;250m \u001b[39m\u001b[38;5;132;01m}\u001b[39;00m\u001b[38;5;124m\"\u001b[39m)\n\u001b[1;32m     20\u001b[0m \u001b[38;5;28;01mfor\u001b[39;00m m \u001b[38;5;129;01min\u001b[39;00m masks:\n",
      "File \u001b[0;32m~/Library/Python/3.10/lib/python/site-packages/torch/utils/_contextlib.py:115\u001b[0m, in \u001b[0;36mcontext_decorator.<locals>.decorate_context\u001b[0;34m(*args, **kwargs)\u001b[0m\n\u001b[1;32m    112\u001b[0m \u001b[38;5;129m@functools\u001b[39m\u001b[38;5;241m.\u001b[39mwraps(func)\n\u001b[1;32m    113\u001b[0m \u001b[38;5;28;01mdef\u001b[39;00m \u001b[38;5;21mdecorate_context\u001b[39m(\u001b[38;5;241m*\u001b[39margs, \u001b[38;5;241m*\u001b[39m\u001b[38;5;241m*\u001b[39mkwargs):\n\u001b[1;32m    114\u001b[0m     \u001b[38;5;28;01mwith\u001b[39;00m ctx_factory():\n\u001b[0;32m--> 115\u001b[0m         \u001b[38;5;28;01mreturn\u001b[39;00m \u001b[43mfunc\u001b[49m\u001b[43m(\u001b[49m\u001b[38;5;241;43m*\u001b[39;49m\u001b[43margs\u001b[49m\u001b[43m,\u001b[49m\u001b[43m \u001b[49m\u001b[38;5;241;43m*\u001b[39;49m\u001b[38;5;241;43m*\u001b[39;49m\u001b[43mkwargs\u001b[49m\u001b[43m)\u001b[49m\n",
      "File \u001b[0;32m~/Library/Python/3.10/lib/python/site-packages/segment_anything/automatic_mask_generator.py:163\u001b[0m, in \u001b[0;36mSamAutomaticMaskGenerator.generate\u001b[0;34m(self, image)\u001b[0m\n\u001b[1;32m    138\u001b[0m \u001b[38;5;250m\u001b[39m\u001b[38;5;124;03m\"\"\"\u001b[39;00m\n\u001b[1;32m    139\u001b[0m \u001b[38;5;124;03mGenerates masks for the given image.\u001b[39;00m\n\u001b[1;32m    140\u001b[0m \n\u001b[0;32m   (...)\u001b[0m\n\u001b[1;32m    159\u001b[0m \u001b[38;5;124;03m         the mask, given in XYWH format.\u001b[39;00m\n\u001b[1;32m    160\u001b[0m \u001b[38;5;124;03m\"\"\"\u001b[39;00m\n\u001b[1;32m    162\u001b[0m \u001b[38;5;66;03m# Generate masks\u001b[39;00m\n\u001b[0;32m--> 163\u001b[0m mask_data \u001b[38;5;241m=\u001b[39m \u001b[38;5;28;43mself\u001b[39;49m\u001b[38;5;241;43m.\u001b[39;49m\u001b[43m_generate_masks\u001b[49m\u001b[43m(\u001b[49m\u001b[43mimage\u001b[49m\u001b[43m)\u001b[49m\n\u001b[1;32m    165\u001b[0m \u001b[38;5;66;03m# Filter small disconnected regions and holes in masks\u001b[39;00m\n\u001b[1;32m    166\u001b[0m \u001b[38;5;28;01mif\u001b[39;00m \u001b[38;5;28mself\u001b[39m\u001b[38;5;241m.\u001b[39mmin_mask_region_area \u001b[38;5;241m>\u001b[39m \u001b[38;5;241m0\u001b[39m:\n",
      "File \u001b[0;32m~/Library/Python/3.10/lib/python/site-packages/segment_anything/automatic_mask_generator.py:206\u001b[0m, in \u001b[0;36mSamAutomaticMaskGenerator._generate_masks\u001b[0;34m(self, image)\u001b[0m\n\u001b[1;32m    204\u001b[0m data \u001b[38;5;241m=\u001b[39m MaskData()\n\u001b[1;32m    205\u001b[0m \u001b[38;5;28;01mfor\u001b[39;00m crop_box, layer_idx \u001b[38;5;129;01min\u001b[39;00m \u001b[38;5;28mzip\u001b[39m(crop_boxes, layer_idxs):\n\u001b[0;32m--> 206\u001b[0m     crop_data \u001b[38;5;241m=\u001b[39m \u001b[38;5;28;43mself\u001b[39;49m\u001b[38;5;241;43m.\u001b[39;49m\u001b[43m_process_crop\u001b[49m\u001b[43m(\u001b[49m\u001b[43mimage\u001b[49m\u001b[43m,\u001b[49m\u001b[43m \u001b[49m\u001b[43mcrop_box\u001b[49m\u001b[43m,\u001b[49m\u001b[43m \u001b[49m\u001b[43mlayer_idx\u001b[49m\u001b[43m,\u001b[49m\u001b[43m \u001b[49m\u001b[43morig_size\u001b[49m\u001b[43m)\u001b[49m\n\u001b[1;32m    207\u001b[0m     data\u001b[38;5;241m.\u001b[39mcat(crop_data)\n\u001b[1;32m    209\u001b[0m \u001b[38;5;66;03m# Remove duplicate masks between crops\u001b[39;00m\n",
      "File \u001b[0;32m~/Library/Python/3.10/lib/python/site-packages/segment_anything/automatic_mask_generator.py:236\u001b[0m, in \u001b[0;36mSamAutomaticMaskGenerator._process_crop\u001b[0;34m(self, image, crop_box, crop_layer_idx, orig_size)\u001b[0m\n\u001b[1;32m    234\u001b[0m cropped_im \u001b[38;5;241m=\u001b[39m image[y0:y1, x0:x1, :]\n\u001b[1;32m    235\u001b[0m cropped_im_size \u001b[38;5;241m=\u001b[39m cropped_im\u001b[38;5;241m.\u001b[39mshape[:\u001b[38;5;241m2\u001b[39m]\n\u001b[0;32m--> 236\u001b[0m \u001b[38;5;28;43mself\u001b[39;49m\u001b[38;5;241;43m.\u001b[39;49m\u001b[43mpredictor\u001b[49m\u001b[38;5;241;43m.\u001b[39;49m\u001b[43mset_image\u001b[49m\u001b[43m(\u001b[49m\u001b[43mcropped_im\u001b[49m\u001b[43m)\u001b[49m\n\u001b[1;32m    238\u001b[0m \u001b[38;5;66;03m# Get points for this crop\u001b[39;00m\n\u001b[1;32m    239\u001b[0m points_scale \u001b[38;5;241m=\u001b[39m np\u001b[38;5;241m.\u001b[39marray(cropped_im_size)[\u001b[38;5;28;01mNone\u001b[39;00m, ::\u001b[38;5;241m-\u001b[39m\u001b[38;5;241m1\u001b[39m]\n",
      "File \u001b[0;32m~/Library/Python/3.10/lib/python/site-packages/segment_anything/predictor.py:60\u001b[0m, in \u001b[0;36mSamPredictor.set_image\u001b[0;34m(self, image, image_format)\u001b[0m\n\u001b[1;32m     57\u001b[0m input_image_torch \u001b[38;5;241m=\u001b[39m torch\u001b[38;5;241m.\u001b[39mas_tensor(input_image, device\u001b[38;5;241m=\u001b[39m\u001b[38;5;28mself\u001b[39m\u001b[38;5;241m.\u001b[39mdevice)\n\u001b[1;32m     58\u001b[0m input_image_torch \u001b[38;5;241m=\u001b[39m input_image_torch\u001b[38;5;241m.\u001b[39mpermute(\u001b[38;5;241m2\u001b[39m, \u001b[38;5;241m0\u001b[39m, \u001b[38;5;241m1\u001b[39m)\u001b[38;5;241m.\u001b[39mcontiguous()[\u001b[38;5;28;01mNone\u001b[39;00m, :, :, :]\n\u001b[0;32m---> 60\u001b[0m \u001b[38;5;28;43mself\u001b[39;49m\u001b[38;5;241;43m.\u001b[39;49m\u001b[43mset_torch_image\u001b[49m\u001b[43m(\u001b[49m\u001b[43minput_image_torch\u001b[49m\u001b[43m,\u001b[49m\u001b[43m \u001b[49m\u001b[43mimage\u001b[49m\u001b[38;5;241;43m.\u001b[39;49m\u001b[43mshape\u001b[49m\u001b[43m[\u001b[49m\u001b[43m:\u001b[49m\u001b[38;5;241;43m2\u001b[39;49m\u001b[43m]\u001b[49m\u001b[43m)\u001b[49m\n",
      "File \u001b[0;32m~/Library/Python/3.10/lib/python/site-packages/torch/utils/_contextlib.py:115\u001b[0m, in \u001b[0;36mcontext_decorator.<locals>.decorate_context\u001b[0;34m(*args, **kwargs)\u001b[0m\n\u001b[1;32m    112\u001b[0m \u001b[38;5;129m@functools\u001b[39m\u001b[38;5;241m.\u001b[39mwraps(func)\n\u001b[1;32m    113\u001b[0m \u001b[38;5;28;01mdef\u001b[39;00m \u001b[38;5;21mdecorate_context\u001b[39m(\u001b[38;5;241m*\u001b[39margs, \u001b[38;5;241m*\u001b[39m\u001b[38;5;241m*\u001b[39mkwargs):\n\u001b[1;32m    114\u001b[0m     \u001b[38;5;28;01mwith\u001b[39;00m ctx_factory():\n\u001b[0;32m--> 115\u001b[0m         \u001b[38;5;28;01mreturn\u001b[39;00m \u001b[43mfunc\u001b[49m\u001b[43m(\u001b[49m\u001b[38;5;241;43m*\u001b[39;49m\u001b[43margs\u001b[49m\u001b[43m,\u001b[49m\u001b[43m \u001b[49m\u001b[38;5;241;43m*\u001b[39;49m\u001b[38;5;241;43m*\u001b[39;49m\u001b[43mkwargs\u001b[49m\u001b[43m)\u001b[49m\n",
      "File \u001b[0;32m~/Library/Python/3.10/lib/python/site-packages/segment_anything/predictor.py:88\u001b[0m, in \u001b[0;36mSamPredictor.set_torch_image\u001b[0;34m(self, transformed_image, original_image_size)\u001b[0m\n\u001b[1;32m     86\u001b[0m \u001b[38;5;28mself\u001b[39m\u001b[38;5;241m.\u001b[39moriginal_size \u001b[38;5;241m=\u001b[39m original_image_size\n\u001b[1;32m     87\u001b[0m \u001b[38;5;28mself\u001b[39m\u001b[38;5;241m.\u001b[39minput_size \u001b[38;5;241m=\u001b[39m \u001b[38;5;28mtuple\u001b[39m(transformed_image\u001b[38;5;241m.\u001b[39mshape[\u001b[38;5;241m-\u001b[39m\u001b[38;5;241m2\u001b[39m:])\n\u001b[0;32m---> 88\u001b[0m input_image \u001b[38;5;241m=\u001b[39m \u001b[38;5;28;43mself\u001b[39;49m\u001b[38;5;241;43m.\u001b[39;49m\u001b[43mmodel\u001b[49m\u001b[38;5;241;43m.\u001b[39;49m\u001b[43mpreprocess\u001b[49m\u001b[43m(\u001b[49m\u001b[43mtransformed_image\u001b[49m\u001b[43m)\u001b[49m\n\u001b[1;32m     89\u001b[0m \u001b[38;5;28mself\u001b[39m\u001b[38;5;241m.\u001b[39mfeatures \u001b[38;5;241m=\u001b[39m \u001b[38;5;28mself\u001b[39m\u001b[38;5;241m.\u001b[39mmodel\u001b[38;5;241m.\u001b[39mimage_encoder(input_image)\n\u001b[1;32m     90\u001b[0m \u001b[38;5;28mself\u001b[39m\u001b[38;5;241m.\u001b[39mis_image_set \u001b[38;5;241m=\u001b[39m \u001b[38;5;28;01mTrue\u001b[39;00m\n",
      "File \u001b[0;32m~/Library/Python/3.10/lib/python/site-packages/segment_anything/modeling/sam.py:167\u001b[0m, in \u001b[0;36mSam.preprocess\u001b[0;34m(self, x)\u001b[0m\n\u001b[1;32m    165\u001b[0m \u001b[38;5;250m\u001b[39m\u001b[38;5;124;03m\"\"\"Normalize pixel values and pad to a square input.\"\"\"\u001b[39;00m\n\u001b[1;32m    166\u001b[0m \u001b[38;5;66;03m# Normalize colors\u001b[39;00m\n\u001b[0;32m--> 167\u001b[0m x \u001b[38;5;241m=\u001b[39m (\u001b[43mx\u001b[49m\u001b[43m \u001b[49m\u001b[38;5;241;43m-\u001b[39;49m\u001b[43m \u001b[49m\u001b[38;5;28;43mself\u001b[39;49m\u001b[38;5;241;43m.\u001b[39;49m\u001b[43mpixel_mean\u001b[49m) \u001b[38;5;241m/\u001b[39m \u001b[38;5;28mself\u001b[39m\u001b[38;5;241m.\u001b[39mpixel_std\n\u001b[1;32m    169\u001b[0m \u001b[38;5;66;03m# Pad\u001b[39;00m\n\u001b[1;32m    170\u001b[0m h, w \u001b[38;5;241m=\u001b[39m x\u001b[38;5;241m.\u001b[39mshape[\u001b[38;5;241m-\u001b[39m\u001b[38;5;241m2\u001b[39m:]\n",
      "\u001b[0;31mRuntimeError\u001b[0m: MPS support binary op with uint8 natively starting from macOS 13.0"
     ]
    }
   ],
   "source": [
    "for idx in tqdm(relevant_indexes):\n",
    "    row = remaining_pages.loc[idx]\n",
    "    img_path = dotenv['DATA_DIR'] / row['job'] / row['variant_name'] / row['filename']\n",
    "    \n",
    "    mask_path = img_path.parent / f'{ img_path.name.strip( \".\" + row[\"type\"] + img_path.suffix ) }.masks.pkl'\n",
    "    mask_path_300dpi = dotenv['DATA_DIR'] / row['job'] / 'halftone300dpi' / mask_path.name\n",
    "\n",
    "    if mask_path_300dpi.exists() == False:\n",
    "        img = Image.open(img_path)\n",
    "        orig_size = img.size\n",
    "        img = img.resize((\n",
    "            int( round(img.size[0] * config['MASK_IMG_SCALE_FACTOR']) ),\n",
    "            int( round(img.size[1] * config['MASK_IMG_SCALE_FACTOR']) )\n",
    "        ))\n",
    "        \n",
    "        start = time()\n",
    "        masks = mask_generator.generate( np.array(img.convert(\"RGB\")) )\n",
    "        print( f\"mask generation took: { ( time() - start ) }\")\n",
    "        \n",
    "        for m in masks:\n",
    "            factor_x = orig_size[0] / m['segmentation'].shape[1]\n",
    "            factor_y = orig_size[1] / m['segmentation'].shape[0]\n",
    "            \n",
    "            m['segmentation'] = m['segmentation'][\n",
    "                int(m['bbox'][1]):int(m['bbox'][1]+m['bbox'][3]+1),\n",
    "                int(m['bbox'][0]):int(m['bbox'][0]+m['bbox'][2]+1)\n",
    "            ]\n",
    "            m['bbox'] = [\n",
    "                int(round(m['bbox'][0] * factor_x)),\n",
    "                int(round(m['bbox'][1] * factor_y)),\n",
    "                int(round(m['bbox'][2] * factor_x)),\n",
    "                int(round(m['bbox'][3] * factor_y))\n",
    "            ]\n",
    "            m['point_coords'] = [[\n",
    "                int(round(m['point_coords'][0][0] * factor_x)),\n",
    "                int(round(m['point_coords'][0][1] * factor_y)),\n",
    "            ]]\n",
    "    \n",
    "            m['crop_box'] = [\n",
    "                int(round(m['crop_box'][0] * factor_x)),\n",
    "                int(round(m['crop_box'][1] * factor_y)),\n",
    "                int(round(m['crop_box'][2] * factor_x)),\n",
    "                int(round(m['crop_box'][3] * factor_y))\n",
    "            ]\n",
    "    \n",
    "        masks = [m for m in masks if m['area'] < (img.size[0] * img.size[1] * 0.25)]\n",
    "    \n",
    "        masks_out = []\n",
    "\n",
    "        for m in masks:\n",
    "            mask_out = {\n",
    "                'mask' : m['segmentation'],\n",
    "                'bbox' : m['bbox'],\n",
    "                'predicted_iou' : m['predicted_iou'],\n",
    "                'stability_score' : m['stability_score'],\n",
    "                'img_size' : orig_size\n",
    "            }\n",
    "            mask_out['mask'] = load_mask_img(mask_out)\n",
    "            masks_out.append(mask_out)\n",
    "\n",
    "        \n",
    "        masks_out = [m for m in masks_out if is_below_max_size(m)]\n",
    "        # filter by size\n",
    "        masks_out = [m for m in masks_out if is_above_min_size(m)]\n",
    "        # filter by text box\n",
    "        masks_out = [m for m in masks_out if is_text_mask( img, m ) == False]\n",
    "        # filter duplicates\n",
    "        masks_out = filter_intersected_masks( masks_out )\n",
    "\n",
    "        save_masks( masks_out, mask_path )"
   ]
  }
 ],
 "metadata": {
  "kernelspec": {
   "display_name": "Python 3 (ipykernel)",
   "language": "python",
   "name": "python3"
  },
  "language_info": {
   "codemirror_mode": {
    "name": "ipython",
    "version": 3
   },
   "file_extension": ".py",
   "mimetype": "text/x-python",
   "name": "python",
   "nbconvert_exporter": "python",
   "pygments_lexer": "ipython3",
   "version": "3.10.11"
  }
 },
 "nbformat": 4,
 "nbformat_minor": 5
}
