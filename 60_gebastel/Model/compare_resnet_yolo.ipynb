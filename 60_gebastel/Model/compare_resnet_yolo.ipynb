{
 "cells": [
  {
   "cell_type": "code",
   "execution_count": 1,
   "id": "abf436e8-301e-4dc7-95cb-c75aa43c8fff",
   "metadata": {},
   "outputs": [],
   "source": [
    "import sys\n",
    "sys.path.append('../../30_data_tools/')"
   ]
  },
  {
   "cell_type": "code",
   "execution_count": 2,
   "id": "a2083ef6-3272-4595-88b3-07d5daa8e270",
   "metadata": {},
   "outputs": [],
   "source": [
    "import torch\n",
    "from pathlib import Path\n",
    "from PIL import Image\n",
    "import numpy as np\n",
    "import torchvision.transforms as transforms\n",
    "from ultralytics import YOLO\n",
    "from helper import load_dotenv\n",
    "import pandas as pd\n",
    "import shutil\n",
    "from tqdm.auto import tqdm"
   ]
  },
  {
   "cell_type": "code",
   "execution_count": 3,
   "id": "52a40271-fdfe-4d1f-9384-af6cf80eeacc",
   "metadata": {},
   "outputs": [],
   "source": [
    "dotenv = load_dotenv()"
   ]
  },
  {
   "cell_type": "code",
   "execution_count": 4,
   "id": "5a6d6c00-8328-49db-8c57-e926986a0ba1",
   "metadata": {},
   "outputs": [],
   "source": [
    "resnet_path = dotenv['MODEL_DIR'] / '24-02-24_01_resNet.pt'\n",
    "yolo_path = dotenv['MODEL_DIR'] / 'yolov8m_moires_24-02-24.pt'"
   ]
  },
  {
   "cell_type": "code",
   "execution_count": 5,
   "id": "6eff80d5-b8cf-4ae8-b286-869e1bf750ff",
   "metadata": {},
   "outputs": [],
   "source": [
    "resnet = torch.load( resnet_path )\n",
    "yolo = YOLO(yolo_path)"
   ]
  },
  {
   "cell_type": "code",
   "execution_count": 12,
   "id": "c946da36-056e-4786-9e02-1512bb211233",
   "metadata": {},
   "outputs": [],
   "source": [
    "resnet.eval()\n",
    "transforms_data = transforms.Compose([\n",
    "    transforms.Resize((224, 224)),   #must same as here\n",
    "    transforms.CenterCrop((224, 224)),\n",
    "    transforms.ToTensor(),\n",
    "    transforms.Normalize([0.5, 0.5, 0.5], [0.5, 0.5, 0.5]) # normalization\n",
    "])"
   ]
  },
  {
   "cell_type": "code",
   "execution_count": 30,
   "id": "76f69305-21c3-42df-b6cd-1fcb389a55a3",
   "metadata": {},
   "outputs": [],
   "source": [
    "moire_paths = list(Path('./dataset/val/moire/').glob('./*.jpg')) + list(Path('./dataset/real_val/moire/').glob('./*.jpg'))\n",
    "non_moire_paths = list(Path('./dataset/val/no_moire/').glob('./*.jpg')) + list(Path('./dataset/real_val/no_moire/').glob('./*.jpg'))"
   ]
  },
  {
   "cell_type": "code",
   "execution_count": 10,
   "id": "8e512502-daf0-4f34-8858-9f62fb6237b5",
   "metadata": {},
   "outputs": [],
   "source": [
    "def predict_resnet( img_paths, model, transformation ):\n",
    "    input_tensor = torch.stack([\n",
    "        transforms_data(Image.open(img_path))\n",
    "        for img_path in img_paths\n",
    "    ])       \n",
    "    output_tensor = model(input_tensor)\n",
    "\n",
    "    out = output_tensor.tolist()\n",
    "    for line in out:\n",
    "        line.reverse()\n",
    "        \n",
    "    return out"
   ]
  },
  {
   "cell_type": "code",
   "execution_count": 9,
   "id": "4514a750-d642-443e-8687-7d2cdf5521fe",
   "metadata": {},
   "outputs": [],
   "source": [
    "def predict_yolo( img_paths, model ):\n",
    "    images = [\n",
    "        Image.open(img_path) for img_path\n",
    "        in img_paths\n",
    "    ]\n",
    "\n",
    "    pred = model.predict(images, verbose=False)\n",
    "\n",
    "    out = [p.probs.data.tolist() for p in pred]\n",
    "    \n",
    "    for line in out:\n",
    "        line.reverse()\n",
    "\n",
    "    return out"
   ]
  },
  {
   "cell_type": "code",
   "execution_count": 31,
   "id": "3e43aa6a-d25d-4cfc-b155-080354a1501d",
   "metadata": {},
   "outputs": [],
   "source": [
    "data = pd.DataFrame(\n",
    "    [(t.name.replace(t.suffix,''),t,0) for t in non_moire_paths] + [(t.name.replace(t.suffix,''),t,1) for t in moire_paths],\n",
    "    columns=['filename','filepath','target_label']\n",
    ")\n",
    "\n",
    "data.loc[\n",
    "    :,\n",
    "    ['resnet_no_moire','resnet_moire','yolo_no_moire','yolo_moire']\n",
    "] = np.nan"
   ]
  },
  {
   "cell_type": "code",
   "execution_count": 32,
   "id": "0578d975-3f7b-49f5-bb17-4bc8c1537589",
   "metadata": {},
   "outputs": [
    {
     "data": {
      "application/vnd.jupyter.widget-view+json": {
       "model_id": "d0446d45bef04e0d9f36c37ee057852e",
       "version_major": 2,
       "version_minor": 0
      },
      "text/plain": [
       "  0%|          | 0/4490 [00:00<?, ?it/s]"
      ]
     },
     "metadata": {},
     "output_type": "display_data"
    }
   ],
   "source": [
    "with tqdm(total=data.shape[0]) as pbar:\n",
    "    while data.loc[pd.isna(data.resnet_no_moire)].shape[0] > 0:\n",
    "        remaining = data.loc[pd.isna(data.resnet_no_moire)].shape[0]\n",
    "        n = 15 if remaining > 15 else remaining\n",
    "        sample = data.loc[pd.isna(data.resnet_no_moire)].sample(n=n)\n",
    "        yolo_result = predict_yolo( sample.filepath.tolist(), yolo )\n",
    "        resnet_result = predict_resnet( sample.filepath.tolist(), resnet, transforms_data )\n",
    "        \n",
    "        data.loc[\n",
    "            sample.index,\n",
    "            ['resnet_no_moire','resnet_moire','yolo_no_moire','yolo_moire']\n",
    "        ] = [\n",
    "            (resnet_result[i][0],resnet_result[i][1],yolo_result[i][0],yolo_result[i][1])\n",
    "            for i in range(len(resnet_result))\n",
    "        ]\n",
    "\n",
    "        remaining_after = data.loc[pd.isna(data.resnet_no_moire)].shape[0]\n",
    "        pbar.update(remaining - remaining_after)"
   ]
  },
  {
   "cell_type": "code",
   "execution_count": 33,
   "id": "d7f85330-e22f-47e5-a73c-ca73d711393f",
   "metadata": {},
   "outputs": [],
   "source": [
    "data.loc[\n",
    "    :,\n",
    "    'resnet_label'\n",
    "] = (data.resnet_moire > data.resnet_no_moire).astype('uint8')\n",
    "\n",
    "data.loc[\n",
    "    :,\n",
    "    'yolo_label'\n",
    "] = (data.yolo_moire > data.yolo_no_moire).astype('uint8')"
   ]
  },
  {
   "cell_type": "code",
   "execution_count": 44,
   "id": "590b6ac0-151b-45ef-ae91-98c677938c6e",
   "metadata": {},
   "outputs": [],
   "source": [
    "data.loc[\n",
    "    :,\n",
    "    'dataset'\n",
    "] = data.filepath.apply(lambda fpath: fpath.parent.parent.name )"
   ]
  },
  {
   "cell_type": "code",
   "execution_count": 34,
   "id": "95ecbe1d-8a55-45e3-88d4-88a05eb917b7",
   "metadata": {},
   "outputs": [
    {
     "data": {
      "text/plain": [
       "(4490, 9)"
      ]
     },
     "execution_count": 34,
     "metadata": {},
     "output_type": "execute_result"
    }
   ],
   "source": [
    "data.shape"
   ]
  },
  {
   "cell_type": "code",
   "execution_count": 37,
   "id": "04e1fbc1-a147-4d28-89f0-8943b3fa0467",
   "metadata": {},
   "outputs": [],
   "source": [
    "def get_metrics( data, target_model ):\n",
    "    metrics = {}\n",
    "    \n",
    "    metrics['TP'] = data.loc[\n",
    "        (data.target_label == 1) & (data[f'{ target_model }_label'] == 1)\n",
    "    ].shape[0]\n",
    "    metrics['TN'] = data.loc[\n",
    "        (data.target_label == 0) & (data[f'{ target_model }_label'] == 0)\n",
    "    ].shape[0]\n",
    "    metrics['FP'] = data.loc[\n",
    "        (data.target_label == 0) & (data[f'{ target_model }_label'] == 1)\n",
    "    ].shape[0]\n",
    "    metrics['FN'] = data.loc[\n",
    "        (data.target_label == 1) & (data[f'{ target_model }_label'] == 0)\n",
    "    ].shape[0]\n",
    "\n",
    "    metrics['accuracy'] = (metrics['TP'] + metrics['TN']) / (metrics['TP'] + metrics['TN'] + metrics['FP'] + metrics['FN'])\n",
    "    metrics['recall'] = (metrics['TP']) / (metrics['TP'] + metrics['FN'])\n",
    "    metrics['precision'] = (metrics['TP']) / (metrics['TP'] + metrics['FP'])\n",
    "\n",
    "    return metrics"
   ]
  },
  {
   "cell_type": "code",
   "execution_count": 51,
   "id": "bb683937-1dde-4bb6-96b5-db661c12d6f3",
   "metadata": {},
   "outputs": [
    {
     "data": {
      "text/plain": [
       "{'TP': 222,\n",
       " 'TN': 286,\n",
       " 'FP': 15,\n",
       " 'FN': 51,\n",
       " 'accuracy': 0.8850174216027874,\n",
       " 'recall': 0.8131868131868132,\n",
       " 'precision': 0.9367088607594937}"
      ]
     },
     "execution_count": 51,
     "metadata": {},
     "output_type": "execute_result"
    }
   ],
   "source": [
    "get_metrics(\n",
    "    data.loc[\n",
    "        data.dataset == 'val'\n",
    "    ],\n",
    "    'yolo'\n",
    ")"
   ]
  },
  {
   "cell_type": "code",
   "execution_count": 52,
   "id": "1f8234cb-33b9-46fb-9a32-cf4d3c2d7408",
   "metadata": {},
   "outputs": [
    {
     "data": {
      "text/plain": [
       "{'TP': 243,\n",
       " 'TN': 259,\n",
       " 'FP': 42,\n",
       " 'FN': 30,\n",
       " 'accuracy': 0.8745644599303136,\n",
       " 'recall': 0.8901098901098901,\n",
       " 'precision': 0.8526315789473684}"
      ]
     },
     "execution_count": 52,
     "metadata": {},
     "output_type": "execute_result"
    }
   ],
   "source": [
    "get_metrics(\n",
    "    data.loc[\n",
    "        data.dataset == 'val'\n",
    "    ],\n",
    "    'resnet'\n",
    ")"
   ]
  },
  {
   "cell_type": "code",
   "execution_count": 27,
   "id": "aa18b97c-1b11-44eb-a64d-85fbf0391409",
   "metadata": {},
   "outputs": [],
   "source": [
    "sets_out = {\n",
    "    'both_right' : data.loc[\n",
    "        (data.target_label == data.resnet_label) &\n",
    "        (data.target_label == data.yolo_label)\n",
    "    ],\n",
    "    'resnet_right' : data.loc[\n",
    "        (data.target_label == data.resnet_label) &\n",
    "        (data.target_label != data.yolo_label)\n",
    "    ],\n",
    "    'yolo_right' : data.loc[\n",
    "        (data.target_label != data.resnet_label) &\n",
    "        (data.target_label == data.yolo_label)\n",
    "    ],\n",
    "    'both_wrong' : data.loc[\n",
    "        (data.target_label != data.resnet_label) &\n",
    "        (data.target_label != data.yolo_label)\n",
    "    ]\n",
    "}"
   ]
  },
  {
   "cell_type": "code",
   "execution_count": null,
   "id": "e16908ac-f77b-4288-8322-5fb6eab01f8f",
   "metadata": {},
   "outputs": [],
   "source": [
    "data.iloc[0]"
   ]
  },
  {
   "cell_type": "code",
   "execution_count": 29,
   "id": "256b9c4c-9b33-4e85-9911-27308cdc5a0d",
   "metadata": {},
   "outputs": [
    {
     "data": {
      "text/plain": [
       "0.945993031358885"
      ]
     },
     "execution_count": 29,
     "metadata": {},
     "output_type": "execute_result"
    }
   ],
   "source": [
    "(467 + 35 + 41) / (467 + 35 + 41 + 31)"
   ]
  },
  {
   "cell_type": "code",
   "execution_count": 28,
   "id": "c7fddd1b-734b-4e5e-afd1-2732f5dc5ac8",
   "metadata": {},
   "outputs": [
    {
     "name": "stdout",
     "output_type": "stream",
     "text": [
      "both_right 467\n",
      "resnet_right 35\n",
      "yolo_right 41\n",
      "both_wrong 31\n"
     ]
    }
   ],
   "source": [
    "for set_name in sets_out:\n",
    "    print( set_name, sets_out[set_name].shape[0] )"
   ]
  },
  {
   "cell_type": "code",
   "execution_count": null,
   "id": "ec761ee6-2a1f-4a8b-8af7-dae8eb0c7da5",
   "metadata": {},
   "outputs": [],
   "source": [
    "for set_name in tqdm(sets_out):\n",
    "    set_dir = Path(f'./temp/{ set_name }')\n",
    "\n",
    "    if set_dir.exists() == False:\n",
    "        set_dir.mkdir()\n",
    "\n",
    "    for i in range(sets_out[set_name].shape[0]):\n",
    "        row = sets_out[set_name].iloc[i]\n",
    "\n",
    "        in_path = row.filepath\n",
    "        type_name = 'moire' if row.target_label == 1 else 'no_moire'\n",
    "        out_dir = set_dir / type_name\n",
    "\n",
    "        if out_dir.exists() == False:\n",
    "            out_dir.mkdir()\n",
    "        \n",
    "        out_path = out_dir / in_path.name\n",
    "\n",
    "        shutil.copy(\n",
    "            in_path,\n",
    "            out_path\n",
    "        )"
   ]
  }
 ],
 "metadata": {
  "kernelspec": {
   "display_name": "Python 3 (ipykernel)",
   "language": "python",
   "name": "python3"
  },
  "language_info": {
   "codemirror_mode": {
    "name": "ipython",
    "version": 3
   },
   "file_extension": ".py",
   "mimetype": "text/x-python",
   "name": "python",
   "nbconvert_exporter": "python",
   "pygments_lexer": "ipython3",
   "version": "3.10.11"
  }
 },
 "nbformat": 4,
 "nbformat_minor": 5
}
