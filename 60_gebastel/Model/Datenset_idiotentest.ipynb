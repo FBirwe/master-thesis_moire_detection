{
 "cells": [
  {
   "cell_type": "code",
   "execution_count": 1,
   "id": "ca3f6a77-cc73-4a8f-8089-c33139a8724b",
   "metadata": {},
   "outputs": [],
   "source": [
    "import sys\n",
    "sys.path.append('../../30_data_tools/')\n",
    "\n",
    "from pathlib import Path\n",
    "from PIL import Image, ImageDraw\n",
    "from tqdm import tqdm\n",
    "from helper import load_dotenv"
   ]
  },
  {
   "cell_type": "code",
   "execution_count": 2,
   "id": "8b038e02-8868-4181-9d31-2b1db17a1353",
   "metadata": {},
   "outputs": [],
   "source": [
    "dotenv = load_dotenv()"
   ]
  },
  {
   "cell_type": "code",
   "execution_count": 3,
   "id": "897b5850-5020-4791-bae2-a52b2d79c744",
   "metadata": {},
   "outputs": [
    {
     "name": "stderr",
     "output_type": "stream",
     "text": [
      "100%|████████████████████████████████████████████████| 100/100 [00:00<00:00, 195.70it/s]\n"
     ]
    }
   ],
   "source": [
    "for img_path in tqdm(list((dotenv['TEMP_PROCESSING_DIR'] / '..' / 'idiotentest').glob('./*/moire/*.jpg'))):\n",
    "    img = Image.open(img_path)\n",
    "\n",
    "    img1 = ImageDraw.Draw(img) \n",
    "    img1.rectangle([(50,50),(100,100)], fill=\"#aaaaaa\") \n",
    "\n",
    "    img.save(img_path, progressive=True )"
   ]
  }
 ],
 "metadata": {
  "kernelspec": {
   "display_name": "Python 3 (ipykernel)",
   "language": "python",
   "name": "python3"
  },
  "language_info": {
   "codemirror_mode": {
    "name": "ipython",
    "version": 3
   },
   "file_extension": ".py",
   "mimetype": "text/x-python",
   "name": "python",
   "nbconvert_exporter": "python",
   "pygments_lexer": "ipython3",
   "version": "3.10.11"
  }
 },
 "nbformat": 4,
 "nbformat_minor": 5
}
