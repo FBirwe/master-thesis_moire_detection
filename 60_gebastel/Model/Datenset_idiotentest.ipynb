{
 "cells": [
  {
   "cell_type": "code",
   "execution_count": 1,
   "id": "ca3f6a77-cc73-4a8f-8089-c33139a8724b",
   "metadata": {},
   "outputs": [],
   "source": [
    "from pathlib import Path"
   ]
  },
  {
   "cell_type": "code",
   "execution_count": 22,
   "id": "8b038e02-8868-4181-9d31-2b1db17a1353",
   "metadata": {},
   "outputs": [],
   "source": [
    "from PIL import Image, ImageDraw\n",
    "from tqdm import tqdm"
   ]
  },
  {
   "cell_type": "code",
   "execution_count": 24,
   "id": "897b5850-5020-4791-bae2-a52b2d79c744",
   "metadata": {},
   "outputs": [
    {
     "name": "stderr",
     "output_type": "stream",
     "text": [
      "100%|██████████████████████████████| 201/201 [00:01<00:00, 169.01it/s]\n"
     ]
    }
   ],
   "source": [
    "for img_path in tqdm(list(Path('./dataset/').glob('./*/moire/*.jpg'))):\n",
    "    img = Image.open(img_path)\n",
    "\n",
    "    img1 = ImageDraw.Draw(img) \n",
    "    img1.rectangle([(50,50),(100,100)], fill=\"#aaaaaa\") \n",
    "\n",
    "    img.save(img_path, progressive=True )"
   ]
  }
 ],
 "metadata": {
  "kernelspec": {
   "display_name": "Python 3 (ipykernel)",
   "language": "python",
   "name": "python3"
  },
  "language_info": {
   "codemirror_mode": {
    "name": "ipython",
    "version": 3
   },
   "file_extension": ".py",
   "mimetype": "text/x-python",
   "name": "python",
   "nbconvert_exporter": "python",
   "pygments_lexer": "ipython3",
   "version": "3.10.11"
  }
 },
 "nbformat": 4,
 "nbformat_minor": 5
}
