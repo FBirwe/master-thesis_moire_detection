{
 "cells": [
  {
   "cell_type": "code",
   "execution_count": 1,
   "id": "1b0acf9d-ae81-4b04-aa4e-f7abef31927f",
   "metadata": {},
   "outputs": [],
   "source": [
    "import sys\n",
    "sys.path.append('../../30_data_tools/')"
   ]
  },
  {
   "cell_type": "code",
   "execution_count": 2,
   "id": "3591e6dc-0ce3-4056-83fb-6e4b3a34ae13",
   "metadata": {},
   "outputs": [],
   "source": [
    "# Set up CUDA in OS\n",
    "import os\n",
    "os.environ['CUDA_LAUNCH_BLOCKING'] = '1'\n",
    "# Import libabries\n",
    "import torch\n",
    "import torch.nn as nn\n",
    "import torch.optim as optim\n",
    "import torch.nn.functional as F\n",
    "from torchmetrics import Accuracy, Recall, Precision\n",
    "from torchinfo import summary\n",
    "import torchvision\n",
    "from torchvision import *\n",
    "from torch.utils.data import Dataset, DataLoader\n",
    "from torchvision.io import read_image\n",
    "import torchvision.transforms as T\n",
    "from torchvision import datasets, models, transforms\n",
    "from sklearn.metrics import accuracy_score, classification_report, confusion_matrix\n",
    "import mlflow\n",
    "from tqdm.auto import tqdm"
   ]
  },
  {
   "cell_type": "code",
   "execution_count": 3,
   "id": "e78e3fc6-37fc-40e8-94ee-9a17a5c560e0",
   "metadata": {},
   "outputs": [],
   "source": [
    "from pathlib import Path\n",
    "from helper import load_dotenv\n",
    "from pytorch_model_tools import get_datasets, train, validate"
   ]
  },
  {
   "cell_type": "code",
   "execution_count": 4,
   "id": "7dddb170-c3cd-4604-895e-c40926a92ad2",
   "metadata": {},
   "outputs": [],
   "source": [
    "dotenv = load_dotenv()"
   ]
  },
  {
   "cell_type": "code",
   "execution_count": 5,
   "id": "5536f7e6-ed15-4c06-affd-12ebc16cd816",
   "metadata": {},
   "outputs": [
    {
     "data": {
      "text/plain": [
       "<Experiment: artifact_location='/Users/frederic.birwe/Documents/GitHub/master-thesis_moire_detection/60_gebastel/Model/mlruns/1', creation_time=1709374525946, experiment_id='1', last_update_time=1709374525946, lifecycle_stage='active', name='moire_detection', tags={}>"
      ]
     },
     "execution_count": 5,
     "metadata": {},
     "output_type": "execute_result"
    }
   ],
   "source": [
    "mlflow.set_tracking_uri(dotenv['MFLOW_DB_PATH'])\n",
    "mlflow.set_experiment(\"moire_detection\")"
   ]
  },
  {
   "cell_type": "code",
   "execution_count": 6,
   "id": "1265149e-a668-4d76-ba90-4079c57fabfe",
   "metadata": {},
   "outputs": [],
   "source": [
    "import ssl\n",
    "ssl._create_default_https_context = ssl._create_unverified_context"
   ]
  },
  {
   "cell_type": "code",
   "execution_count": 7,
   "id": "e27b92fd-e25d-4950-90db-a6a22041a870",
   "metadata": {},
   "outputs": [
    {
     "data": {
      "text/plain": [
       "'cpu'"
      ]
     },
     "execution_count": 7,
     "metadata": {},
     "output_type": "execute_result"
    }
   ],
   "source": [
    "device = \"cuda\" if torch.cuda.is_available() else \"cpu\"\n",
    "device"
   ]
  },
  {
   "cell_type": "code",
   "execution_count": 8,
   "id": "fe9902a3-e23b-438b-8165-763ddeb7c333",
   "metadata": {},
   "outputs": [
    {
     "name": "stdout",
     "output_type": "stream",
     "text": [
      "train size 200\n",
      "class names ['moire', 'no_moire']\n"
     ]
    }
   ],
   "source": [
    "available_datasets = get_datasets( dataset_directory=(dotenv['TEMP_PROCESSING_DIR'] / '..' / 'idiotentest') )"
   ]
  },
  {
   "cell_type": "markdown",
   "id": "9b631063-1829-4568-bc47-c5c236286a7d",
   "metadata": {},
   "source": [
    "# get model"
   ]
  },
  {
   "cell_type": "code",
   "execution_count": 9,
   "id": "c81b6bdd-f40e-4a7a-88f9-36f3cad5a4f7",
   "metadata": {},
   "outputs": [],
   "source": [
    "model = models.mobilenet_v3_small( weights=models.MobileNet_V3_Small_Weights.IMAGENET1K_V1 ) \n",
    "# Add a fully-connected layer for classification\n",
    "model.classifier = nn.Sequential(\n",
    "    nn.Linear(model.classifier[0].in_features, 2) #,\n",
    "    #nn.Sigmoid()\n",
    ")\n",
    "model = model.to(device)"
   ]
  },
  {
   "cell_type": "markdown",
   "id": "4234a572-554f-4836-a0a3-6fbf95e44ebc",
   "metadata": {},
   "source": [
    "# Train"
   ]
  },
  {
   "cell_type": "code",
   "execution_count": 10,
   "id": "4f7a26bf-cb65-4568-8181-dbd3cc915142",
   "metadata": {},
   "outputs": [],
   "source": [
    "# Set the random seeds\n",
    "torch.manual_seed(42)\n",
    "torch.cuda.manual_seed(42)"
   ]
  },
  {
   "cell_type": "code",
   "execution_count": 11,
   "id": "82e78362-e251-4add-8cf2-de6f7189aea3",
   "metadata": {},
   "outputs": [
    {
     "data": {
      "application/vnd.jupyter.widget-view+json": {
       "model_id": "129aacd94c444f7694ce17c4f915a7a0",
       "version_major": 2,
       "version_minor": 0
      },
      "text/plain": [
       "  0%|          | 0/10 [00:00<?, ?it/s]"
      ]
     },
     "metadata": {},
     "output_type": "display_data"
    },
    {
     "name": "stdout",
     "output_type": "stream",
     "text": [
      "Epoch 1 -------------------------------\n",
      "[4 / 4] loss: 0.729217 accuracy: 0.488281 recall: 0.490329 precision: 0.489563\n",
      "Epoch 2 -------------------------------\n",
      "[4 / 4] loss: 0.670984 accuracy: 0.550781 recall: 0.569606 precision: 0.591185\n",
      "Epoch 3 -------------------------------\n",
      "[4 / 4] loss: 0.562550 accuracy: 0.816406 recall: 0.816565 precision: 0.851555\n",
      "Epoch 4 -------------------------------\n",
      "[4 / 4] loss: 0.486241 accuracy: 0.851562 recall: 0.863976 precision: 0.860799\n",
      "Epoch 5 -------------------------------\n",
      "[4 / 4] loss: 0.424653 accuracy: 0.898438 recall: 0.898613 precision: 0.913833\n",
      "Epoch 6 -------------------------------\n",
      "[4 / 4] loss: 0.392217 accuracy: 0.882812 recall: 0.873816 precision: 0.907091\n",
      "Epoch 7 -------------------------------\n",
      "[4 / 4] loss: 0.481324 accuracy: 0.808594 recall: 0.743304 precision: 0.817964\n",
      "Epoch 8 -------------------------------\n",
      "[4 / 4] loss: 0.299241 accuracy: 0.902344 recall: 0.906624 precision: 0.911831\n",
      "Epoch 9 -------------------------------\n",
      "[4 / 4] loss: 0.335000 accuracy: 0.867188 recall: 0.868844 precision: 0.868473\n",
      "Epoch 10 -------------------------------\n",
      "[4 / 4] loss: 0.297020 accuracy: 0.890625 recall: 0.905049 precision: 0.905049\n"
     ]
    }
   ],
   "source": [
    "epochs = 10\n",
    "loss_fn = nn.CrossEntropyLoss()\n",
    "accuracy_fn = Accuracy(task=\"multiclass\", num_classes=2).to(device)\n",
    "recall_fn = Recall(task=\"multiclass\", average='macro', num_classes=2).to(device)\n",
    "precision_fn = Precision(task=\"multiclass\", average='macro', num_classes=2).to(device)\n",
    "learning_rate = 0.001\n",
    "\n",
    "optimizer = torch.optim.SGD(model.parameters(), lr=learning_rate, momentum=0.9)\n",
    "\n",
    "with mlflow.start_run():\n",
    "    params = {\n",
    "        \"epochs\": epochs,\n",
    "        \"learning_rate\": learning_rate,\n",
    "        \"batch_size\": 64,\n",
    "        \"loss_function\": loss_fn.__class__.__name__,\n",
    "        \"metric_function\": accuracy_fn.__class__.__name__,\n",
    "        \"optimizer\": \"SGD\",\n",
    "    }\n",
    "    # Log training parameters.\n",
    "    mlflow.log_params(params)\n",
    "\n",
    "    # Log model summary.\n",
    "    with open(\"model_summary.txt\", \"w\") as f:\n",
    "        f.write(str(summary(model)))\n",
    "    mlflow.log_artifact(\"model_summary.txt\")\n",
    "\n",
    "    for t in tqdm(range(epochs)):\n",
    "        print(f\"Epoch {t+1} -------------------------------\", end=\"\\n\")\n",
    "        train(available_datasets['train']['dataloader'], model, device, loss_fn, optimizer, metrics=[('accuracy',accuracy_fn), ('recall',recall_fn), ('precision',precision_fn)], log_intervall=1 )\n",
    "        #print(\"validate\", end=\"\\n\")\n",
    "        #validate(available_datasets['val']['dataloader'], model, device, loss_fn, metrics=[('accuracy',accuracy_fn), ('recall',recall_fn), ('precision',precision_fn)] )\n",
    "\n",
    "    # Save the trained model to MLflow.\n",
    "    mlflow.pytorch.log_model(model, \"model\")"
   ]
  }
 ],
 "metadata": {
  "kernelspec": {
   "display_name": "Python 3 (ipykernel)",
   "language": "python",
   "name": "python3"
  },
  "language_info": {
   "codemirror_mode": {
    "name": "ipython",
    "version": 3
   },
   "file_extension": ".py",
   "mimetype": "text/x-python",
   "name": "python",
   "nbconvert_exporter": "python",
   "pygments_lexer": "ipython3",
   "version": "3.10.11"
  }
 },
 "nbformat": 4,
 "nbformat_minor": 5
}
