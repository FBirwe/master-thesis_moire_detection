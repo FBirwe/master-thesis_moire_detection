{
 "cells": [
  {
   "cell_type": "code",
   "execution_count": 1,
   "id": "ac081af5-fa27-4465-a577-742a38bf36ee",
   "metadata": {},
   "outputs": [],
   "source": [
    "import sys\n",
    "sys.path.append('../../30_data_tools/')\n",
    "from pathlib import Path\n",
    "from random import choices\n",
    "from PIL import Image, ImageChops, ImageEnhance, ImageDraw\n",
    "import numpy as np\n",
    "import pandas as pd\n",
    "import torch\n",
    "from file_interaction import download_blob, get_related_filepath, open_img\n",
    "from tqdm.auto import tqdm\n",
    "import sqlite3\n",
    "import re\n",
    "import cv2\n",
    "# import YOLO model\n",
    "from ultralytics import YOLO\n",
    "from io import BytesIO\n",
    "from torchvision.transforms.functional import pil_to_tensor"
   ]
  },
  {
   "cell_type": "code",
   "execution_count": 2,
   "id": "4901dc7a-7e91-471e-8477-d9d15555d324",
   "metadata": {},
   "outputs": [],
   "source": [
    "from helper import load_dotenv\n",
    "from get_labelstudio_data import get_results_of_project\n",
    "from classification_tools import cut_img_into_tiles, preclassifier, classifier"
   ]
  },
  {
   "cell_type": "code",
   "execution_count": 3,
   "id": "3ca4c976-5080-4901-818c-cd690d7ab77d",
   "metadata": {},
   "outputs": [],
   "source": [
    "Image.MAX_IMAGE_PIXELS = None"
   ]
  },
  {
   "cell_type": "code",
   "execution_count": 4,
   "id": "439b3c69-ae47-4a68-ac19-71f05d74d922",
   "metadata": {},
   "outputs": [],
   "source": [
    "TILE_SIZE = 224\n",
    "MIN_MIDTONE_SHARE = 0.05\n",
    "MARGIN = 0.03\n",
    "MAX_BATCH_SIZE = 64\n",
    "RESOLUTIONS = [300,200,150]"
   ]
  },
  {
   "cell_type": "code",
   "execution_count": 5,
   "id": "4cfcbd5a-9e00-4cb6-a7b3-474884cbf557",
   "metadata": {},
   "outputs": [],
   "source": [
    "model_name = '2024-05-01_Resnet50_004'"
   ]
  },
  {
   "cell_type": "code",
   "execution_count": 6,
   "id": "0a4919db-e677-48b0-9c71-47aae0c52a67",
   "metadata": {},
   "outputs": [],
   "source": [
    "dotenv = load_dotenv()\n",
    "con = sqlite3.connect( dotenv['DB_PATH'] )"
   ]
  },
  {
   "cell_type": "code",
   "execution_count": 7,
   "id": "04623b9a-186c-42d0-b98b-d46d1f51e5a2",
   "metadata": {},
   "outputs": [],
   "source": [
    "exclude_jobs = [\n",
    "    '23-10-03_Testformen',\n",
    "    '23-10-18_farbe',\n",
    "    '23-10-17_blur',\n",
    "    '23-10-19_farbe'\n",
    "]\n",
    "\n",
    "include_jobs = [\n",
    "    '24-03-05-01_randomTrainPages'\n",
    "]"
   ]
  },
  {
   "cell_type": "code",
   "execution_count": 8,
   "id": "906e9b21-d867-45a6-a045-49ab20dfa8b6",
   "metadata": {},
   "outputs": [],
   "source": [
    "results = [\n",
    "    r for r in get_results_of_project(3)\n",
    "    if r['labels'][0] not in ['potential_moire'] and True not in [r['img_name'].startswith(ej) for ej in exclude_jobs]\n",
    "]"
   ]
  },
  {
   "cell_type": "code",
   "execution_count": 9,
   "id": "d5a9cc51-35f2-4963-ab78-c674f1defcad",
   "metadata": {},
   "outputs": [],
   "source": [
    "pages = pd.read_sql(\n",
    "    f'''\n",
    "        SELECT rf.* FROM related_file rf \n",
    "        LEFT JOIN (SELECT job, pdf_filename, 1 AS used_as_base FROM generic_image gi ) gi\n",
    "        ON rf.job=gi.job AND rf.pdf_filename = gi.pdf_filename\n",
    "        WHERE variant_name = 'ps2400dpi150lpi' AND \"type\" = '4c_{ dotenv[\"LOFI_DPI\"] }' AND gi.used_as_base IS NULL\n",
    "    ''',\n",
    "    con\n",
    ")"
   ]
  },
  {
   "cell_type": "code",
   "execution_count": 10,
   "id": "316651fa-d0c4-4ad1-bd50-8233c13f2b9a",
   "metadata": {},
   "outputs": [],
   "source": [
    "bytesStream = download_blob( f'models/{ model_name }.pth' )\n",
    "model = torch.load( BytesIO(bytesStream.getvalue()), map_location=torch.device('cpu') )"
   ]
  },
  {
   "cell_type": "markdown",
   "id": "91d0538c-f278-473e-abbe-eeff319cde9b",
   "metadata": {},
   "source": [
    "# Funktionen"
   ]
  },
  {
   "cell_type": "code",
   "execution_count": 11,
   "id": "4bc782bc-7e63-4a04-83b7-9bb1d9c1afbe",
   "metadata": {},
   "outputs": [],
   "source": [
    "def get_out_map( img, relevant_tiles ):\n",
    "    out_img = np.zeros((img.size[1], img.size[0], 4))\n",
    "    colors = [\n",
    "        (0,0,255),\n",
    "        (255,0,0)\n",
    "    ]\n",
    "    \n",
    "    for pos,tile,pred,label in relevant_tiles:\n",
    "        out_img[\n",
    "            pos[1]:pos[1]+TILE_SIZE,\n",
    "            pos[0]:pos[0]+TILE_SIZE,\n",
    "            0\n",
    "        ] += 1\n",
    "\n",
    "        out_img[\n",
    "            pos[1]:pos[1]+TILE_SIZE,\n",
    "            pos[0]:pos[0]+TILE_SIZE,\n",
    "            1\n",
    "        ] += float(pred[1])\n",
    "\n",
    "        out_img[\n",
    "            pos[1]:pos[1]+TILE_SIZE,\n",
    "            pos[0]:pos[0]+TILE_SIZE,\n",
    "            2\n",
    "        ] += float(pred[0])\n",
    "\n",
    "    out_img /= 2\n",
    "\n",
    "    level_1_img = Image.fromarray((out_img[:,:,0] * 255).astype('uint8'))\n",
    "    level_2_img = Image.fromarray((out_img[:,:,1] * 255).astype('uint8'))\n",
    "    level_3_img = Image.fromarray((out_img[:,:,2] * 255).astype('uint8'))\n",
    "    level_4_img = out_img[:,:,2] * 255\n",
    "    level_4_img[(out_img[:,:,2] < out_img[:,:,1]) | (out_img[:,:,2] < 0.5)] = 0\n",
    "    level_4_img = Image.fromarray(level_4_img.astype('uint8'))\n",
    "    \n",
    "    return level_1_img, level_2_img, level_3_img, level_4_img"
   ]
  },
  {
   "cell_type": "code",
   "execution_count": 52,
   "id": "e0f36adc-51e8-4639-8fdf-b841f544c6ed",
   "metadata": {},
   "outputs": [],
   "source": [
    "def create_result_map( img_size, tiles ):\n",
    "    result_map = np.zeros((img_size[1],img_size[0])).astype('float32')\n",
    "    \n",
    "    for dpi,pos,tile,pred,label in tiles:\n",
    "        rescale_factor = dotenv['LOFI_DPI'] / dpi\n",
    "        pos = (\n",
    "            round(rescale_factor * pos[0]),\n",
    "            round(rescale_factor * pos[1])\n",
    "        )\n",
    "        tile_size = round(rescale_factor * TILE_SIZE)\n",
    "        \n",
    "        if pred[1] < pred[0]:\n",
    "            result_map[\n",
    "                pos[1]:pos[1]+tile_size,\n",
    "                pos[0]:pos[0]+tile_size,\n",
    "            ] += 1\n",
    "\n",
    "    return result_map"
   ]
  },
  {
   "cell_type": "code",
   "execution_count": 13,
   "id": "e94f8a5f-e728-4614-bba7-86d2c98bd60b",
   "metadata": {},
   "outputs": [],
   "source": [
    "def get_moires_of_page( row, results ):\n",
    "    relevant_moires = []\n",
    "    \n",
    "    for r in results:\n",
    "        if re.match(f'^{ row.job }\\..+?\\.{ row.pdf_filename }\\..+', r['img_name']):\n",
    "            dpi = int( re.match(r'.+\\.4c_(\\d+)\\.jpg', r['img_name']).groups()[0] )\n",
    "            out_box = [r['value']['x'],r['value']['y'],r['value']['width'],r['value']['height']]\n",
    "            \n",
    "            # box umrechnen\n",
    "            if target_dpi != dpi:\n",
    "                out_box = [round(val * (target_dpi / dpi)) for val in out_box]\n",
    "    \n",
    "            relevant_moires.append(out_box)\n",
    "\n",
    "    return relevant_moires"
   ]
  },
  {
   "cell_type": "code",
   "execution_count": 14,
   "id": "d4734e48-daa2-46b9-a96f-68ff36ae28f8",
   "metadata": {},
   "outputs": [],
   "source": [
    "def get_intersection_over_union( box_a, box_b ):\n",
    "    intersection_box = [\n",
    "        max(box_a[0],box_b[0]),\n",
    "        max(box_a[1],box_b[1]),\n",
    "        min(box_a[0]+box_a[2],box_b[0]+box_b[2]),\n",
    "        min(box_a[1]+box_a[3],box_b[1]+box_b[3]),\n",
    "    ]\n",
    "\n",
    "    if intersection_box[2] - intersection_box[0] < 0 or intersection_box[3] - intersection_box[1] < 0:\n",
    "        return 0\n",
    "\n",
    "    intersection = (intersection_box[2] - intersection_box[0]) * (intersection_box[3] - intersection_box[1])\n",
    "    \n",
    "    union_box = [\n",
    "        min(box_a[0],box_b[0]),\n",
    "        min(box_a[1],box_b[1]),\n",
    "        max(box_a[0]+box_a[2],box_b[0]+box_b[2]),\n",
    "        max(box_a[1]+box_a[3],box_b[1]+box_b[3]),\n",
    "    ]\n",
    "    union = (union_box[2] - union_box[0]) * (union_box[3] - union_box[1])\n",
    "\n",
    "    return intersection / union"
   ]
  },
  {
   "cell_type": "code",
   "execution_count": 58,
   "id": "3ae0d8b1-32cc-4f80-bd37-38f59b06840e",
   "metadata": {},
   "outputs": [],
   "source": [
    "def get_result_boxes( result_map, threshold=1 ):\n",
    "    thresh = np.zeros(result_map.shape).astype('uint8')\n",
    "    thresh[result_map > threshold] = 255\n",
    "\n",
    "    (numLabels, labels, stats, centroids) = cv2.connectedComponentsWithStats(\n",
    "    \tthresh, 4, cv2.CV_32S\n",
    "    )\n",
    "\n",
    "    return [\n",
    "        [b[0],b[1],b[2],b[3]]\n",
    "        for b in stats[1:]\n",
    "    ]"
   ]
  },
  {
   "cell_type": "code",
   "execution_count": 16,
   "id": "6e0698b7-2217-43b8-83c5-6d9b219cbb78",
   "metadata": {},
   "outputs": [],
   "source": [
    "def draw_bounding_boxes( img, moire_boxes, predicted_boxes ):\n",
    "    colors = {\n",
    "        \"target\" : \"green\",\n",
    "        \"predicted\" : \"red\"\n",
    "    }    \n",
    "\n",
    "    img_out = img.copy().convert('RGB')\n",
    "    draw = ImageDraw.Draw(img_out) \n",
    "\n",
    "    for b in moire_boxes:\n",
    "        draw.rectangle([b[0],b[1],b[0]+b[2],b[1]+b[3]], outline=colors['target'], width=10) \n",
    "\n",
    "    for b in predicted_boxes:\n",
    "        draw.rectangle([b[0],b[1],b[0]+b[2],b[1]+b[3]], outline=colors['predicted'], width=10) \n",
    "\n",
    "    \n",
    "    return img_out"
   ]
  },
  {
   "cell_type": "code",
   "execution_count": 17,
   "id": "7e73f35e-3817-44e6-a052-97adef0290af",
   "metadata": {},
   "outputs": [
    {
     "ename": "ZeroDivisionError",
     "evalue": "division by zero",
     "output_type": "error",
     "traceback": [
      "\u001b[0;31m---------------------------------------------------------------------------\u001b[0m",
      "\u001b[0;31mZeroDivisionError\u001b[0m                         Traceback (most recent call last)",
      "Cell \u001b[0;32mIn[17], line 1\u001b[0m\n\u001b[0;32m----> 1\u001b[0m \u001b[38;5;241;43m0\u001b[39;49m\u001b[43m \u001b[49m\u001b[38;5;241;43m/\u001b[39;49m\u001b[43m \u001b[49m\u001b[38;5;241;43m0\u001b[39;49m\n",
      "\u001b[0;31mZeroDivisionError\u001b[0m: division by zero"
     ]
    }
   ],
   "source": [
    "0 / 0"
   ]
  },
  {
   "cell_type": "markdown",
   "id": "6fc6207a-f80c-4501-bd09-68b1da9f84c9",
   "metadata": {},
   "source": [
    "# Auswertung"
   ]
  },
  {
   "cell_type": "code",
   "execution_count": 18,
   "id": "68b64bdc-951b-4a69-a498-65faf13ef8e0",
   "metadata": {},
   "outputs": [],
   "source": [
    "samples = pages.sample(n=10)"
   ]
  },
  {
   "cell_type": "code",
   "execution_count": 77,
   "id": "4cf8ee03-f74a-4763-b0bc-232bc4a19276",
   "metadata": {},
   "outputs": [],
   "source": [
    "moire_images = list(set([r['img_name'] for r in get_results_of_project(3) if r['labels'][0] == 'moire']))\n",
    "moires = {}\n",
    "\n",
    "for r in get_results_of_project(3):\n",
    "    if r['labels'][0] == 'moire':\n",
    "        moire_key = re.match(r'(.+?)\\.(v?ps2400dpi\\d+lpi)\\.(.+).(4c_\\d00).jpg', r['img_name']).groups()\n",
    "\n",
    "        if moire_key not in moires:\n",
    "            moires[moire_key] = []\n",
    "\n",
    "        moires[moire_key].append(r)"
   ]
  },
  {
   "cell_type": "code",
   "execution_count": 20,
   "id": "80caf425-176a-405a-b7b5-d621c2b6ed87",
   "metadata": {},
   "outputs": [],
   "source": [
    "moire_pages = pd.DataFrame(\n",
    "    [\n",
    "        re.match(r'(.+?)\\.(v?ps2400dpi\\d+lpi)\\.(.+).(4c_\\d00).jpg', m).groups()\n",
    "        for m in moire_images\n",
    "    ],\n",
    "    columns=['job','variant_name','pdf_filename','type']\n",
    ")"
   ]
  },
  {
   "cell_type": "code",
   "execution_count": 21,
   "id": "c2cf85d0-5715-4440-b76a-ff397ab88189",
   "metadata": {},
   "outputs": [],
   "source": [
    "samples = pd.merge(\n",
    "    moire_pages,\n",
    "    pages,\n",
    "    how=\"left\",\n",
    "    on=['job','pdf_filename','variant_name','type']\n",
    ")\n",
    "samples = samples.loc[pd.isna(samples.filename) == False]"
   ]
  },
  {
   "cell_type": "code",
   "execution_count": 22,
   "id": "9d7fb9aa-40bb-43ef-9891-ed9bd9058a77",
   "metadata": {},
   "outputs": [],
   "source": [
    "CREATE_BLEND_IMAGE = False\n",
    "CREATE_RESULT_BOXES_IMAGE = True"
   ]
  },
  {
   "cell_type": "code",
   "execution_count": 107,
   "id": "4639bcf9-88e3-4703-a1ba-4ce44fa278a6",
   "metadata": {},
   "outputs": [
    {
     "data": {
      "application/vnd.jupyter.widget-view+json": {
       "model_id": "69cb9ccfd0fd4a0abf28ef3406db3514",
       "version_major": 2,
       "version_minor": 0
      },
      "text/plain": [
       "  0%|          | 0/35 [00:00<?, ?it/s]"
      ]
     },
     "metadata": {},
     "output_type": "display_data"
    },
    {
     "data": {
      "application/vnd.jupyter.widget-view+json": {
       "model_id": "e7f661cc4b9048ac87fb3374b27e1a33",
       "version_major": 2,
       "version_minor": 0
      },
      "text/plain": [
       "  0%|          | 0/293 [00:00<?, ?it/s]"
      ]
     },
     "metadata": {},
     "output_type": "display_data"
    },
    {
     "data": {
      "application/vnd.jupyter.widget-view+json": {
       "model_id": "ffa10593f67f4791a5fe06149b8795eb",
       "version_major": 2,
       "version_minor": 0
      },
      "text/plain": [
       "  0%|          | 0/176 [00:00<?, ?it/s]"
      ]
     },
     "metadata": {},
     "output_type": "display_data"
    },
    {
     "data": {
      "application/vnd.jupyter.widget-view+json": {
       "model_id": "1858c3ffcc1143f39b6c96917b818687",
       "version_major": 2,
       "version_minor": 0
      },
      "text/plain": [
       "  0%|          | 0/199 [00:00<?, ?it/s]"
      ]
     },
     "metadata": {},
     "output_type": "display_data"
    },
    {
     "data": {
      "application/vnd.jupyter.widget-view+json": {
       "model_id": "d3cfbf16e9554e3791a99c0254e36e10",
       "version_major": 2,
       "version_minor": 0
      },
      "text/plain": [
       "  0%|          | 0/150 [00:00<?, ?it/s]"
      ]
     },
     "metadata": {},
     "output_type": "display_data"
    },
    {
     "data": {
      "application/vnd.jupyter.widget-view+json": {
       "model_id": "46c9644718e94ad59072600904c62a10",
       "version_major": 2,
       "version_minor": 0
      },
      "text/plain": [
       "  0%|          | 0/214 [00:00<?, ?it/s]"
      ]
     },
     "metadata": {},
     "output_type": "display_data"
    },
    {
     "data": {
      "application/vnd.jupyter.widget-view+json": {
       "model_id": "0c9f660349c54bb2a8520a54133dce91",
       "version_major": 2,
       "version_minor": 0
      },
      "text/plain": [
       "  0%|          | 0/213 [00:00<?, ?it/s]"
      ]
     },
     "metadata": {},
     "output_type": "display_data"
    },
    {
     "data": {
      "application/vnd.jupyter.widget-view+json": {
       "model_id": "5bd08a99cd74449cba12c57ec576ade3",
       "version_major": 2,
       "version_minor": 0
      },
      "text/plain": [
       "  0%|          | 0/147 [00:00<?, ?it/s]"
      ]
     },
     "metadata": {},
     "output_type": "display_data"
    },
    {
     "data": {
      "application/vnd.jupyter.widget-view+json": {
       "model_id": "75d8233ce7404046886c83ef987755fe",
       "version_major": 2,
       "version_minor": 0
      },
      "text/plain": [
       "  0%|          | 0/212 [00:00<?, ?it/s]"
      ]
     },
     "metadata": {},
     "output_type": "display_data"
    },
    {
     "data": {
      "application/vnd.jupyter.widget-view+json": {
       "model_id": "9e6024887276446f8bd1ae9c1195272d",
       "version_major": 2,
       "version_minor": 0
      },
      "text/plain": [
       "  0%|          | 0/206 [00:00<?, ?it/s]"
      ]
     },
     "metadata": {},
     "output_type": "display_data"
    },
    {
     "data": {
      "application/vnd.jupyter.widget-view+json": {
       "model_id": "efe1b01ffa844992aee4ab3d37bda9b5",
       "version_major": 2,
       "version_minor": 0
      },
      "text/plain": [
       "  0%|          | 0/211 [00:00<?, ?it/s]"
      ]
     },
     "metadata": {},
     "output_type": "display_data"
    },
    {
     "data": {
      "application/vnd.jupyter.widget-view+json": {
       "model_id": "b2166fbcf60747eea0022089bfd07fdc",
       "version_major": 2,
       "version_minor": 0
      },
      "text/plain": [
       "  0%|          | 0/229 [00:00<?, ?it/s]"
      ]
     },
     "metadata": {},
     "output_type": "display_data"
    },
    {
     "data": {
      "application/vnd.jupyter.widget-view+json": {
       "model_id": "dff3b4582494415785e51461ef985fa0",
       "version_major": 2,
       "version_minor": 0
      },
      "text/plain": [
       "  0%|          | 0/298 [00:00<?, ?it/s]"
      ]
     },
     "metadata": {},
     "output_type": "display_data"
    },
    {
     "data": {
      "application/vnd.jupyter.widget-view+json": {
       "model_id": "e8eefffab0b64703a5fc290b3b57b227",
       "version_major": 2,
       "version_minor": 0
      },
      "text/plain": [
       "  0%|          | 0/362 [00:00<?, ?it/s]"
      ]
     },
     "metadata": {},
     "output_type": "display_data"
    },
    {
     "data": {
      "application/vnd.jupyter.widget-view+json": {
       "model_id": "bea0f66e1a1f49d19de3f1e85212864d",
       "version_major": 2,
       "version_minor": 0
      },
      "text/plain": [
       "  0%|          | 0/229 [00:00<?, ?it/s]"
      ]
     },
     "metadata": {},
     "output_type": "display_data"
    },
    {
     "data": {
      "application/vnd.jupyter.widget-view+json": {
       "model_id": "06fd4d56d32c4f23b9974a52952a6945",
       "version_major": 2,
       "version_minor": 0
      },
      "text/plain": [
       "  0%|          | 0/207 [00:00<?, ?it/s]"
      ]
     },
     "metadata": {},
     "output_type": "display_data"
    },
    {
     "data": {
      "application/vnd.jupyter.widget-view+json": {
       "model_id": "c49c68e8184f442082666ada33a9d06e",
       "version_major": 2,
       "version_minor": 0
      },
      "text/plain": [
       "  0%|          | 0/360 [00:00<?, ?it/s]"
      ]
     },
     "metadata": {},
     "output_type": "display_data"
    },
    {
     "data": {
      "application/vnd.jupyter.widget-view+json": {
       "model_id": "a6620945ddd54e59b348d1ec05af38fc",
       "version_major": 2,
       "version_minor": 0
      },
      "text/plain": [
       "  0%|          | 0/359 [00:00<?, ?it/s]"
      ]
     },
     "metadata": {},
     "output_type": "display_data"
    },
    {
     "data": {
      "application/vnd.jupyter.widget-view+json": {
       "model_id": "980839fdad9a42ad840e2f565ec1b3fe",
       "version_major": 2,
       "version_minor": 0
      },
      "text/plain": [
       "  0%|          | 0/213 [00:00<?, ?it/s]"
      ]
     },
     "metadata": {},
     "output_type": "display_data"
    },
    {
     "data": {
      "application/vnd.jupyter.widget-view+json": {
       "model_id": "e607c5a17a644522867fb6b86d6138e6",
       "version_major": 2,
       "version_minor": 0
      },
      "text/plain": [
       "  0%|          | 0/221 [00:00<?, ?it/s]"
      ]
     },
     "metadata": {},
     "output_type": "display_data"
    },
    {
     "data": {
      "application/vnd.jupyter.widget-view+json": {
       "model_id": "00c63ba8906c48708759978699eb9c3d",
       "version_major": 2,
       "version_minor": 0
      },
      "text/plain": [
       "  0%|          | 0/230 [00:00<?, ?it/s]"
      ]
     },
     "metadata": {},
     "output_type": "display_data"
    },
    {
     "data": {
      "application/vnd.jupyter.widget-view+json": {
       "model_id": "fa7a2562e9284da381c573b926c82e0e",
       "version_major": 2,
       "version_minor": 0
      },
      "text/plain": [
       "  0%|          | 0/113 [00:00<?, ?it/s]"
      ]
     },
     "metadata": {},
     "output_type": "display_data"
    },
    {
     "data": {
      "application/vnd.jupyter.widget-view+json": {
       "model_id": "f697c1d0ecd449b8b0efd8372e9d5cc5",
       "version_major": 2,
       "version_minor": 0
      },
      "text/plain": [
       "  0%|          | 0/179 [00:00<?, ?it/s]"
      ]
     },
     "metadata": {},
     "output_type": "display_data"
    },
    {
     "data": {
      "application/vnd.jupyter.widget-view+json": {
       "model_id": "be32563d0fe14d77acae758425121b44",
       "version_major": 2,
       "version_minor": 0
      },
      "text/plain": [
       "  0%|          | 0/223 [00:00<?, ?it/s]"
      ]
     },
     "metadata": {},
     "output_type": "display_data"
    },
    {
     "data": {
      "application/vnd.jupyter.widget-view+json": {
       "model_id": "22eca667b320480d8340474b2bd1602c",
       "version_major": 2,
       "version_minor": 0
      },
      "text/plain": [
       "  0%|          | 0/341 [00:00<?, ?it/s]"
      ]
     },
     "metadata": {},
     "output_type": "display_data"
    },
    {
     "data": {
      "application/vnd.jupyter.widget-view+json": {
       "model_id": "e3f2a822fb9448f09b432811cd246270",
       "version_major": 2,
       "version_minor": 0
      },
      "text/plain": [
       "  0%|          | 0/328 [00:00<?, ?it/s]"
      ]
     },
     "metadata": {},
     "output_type": "display_data"
    },
    {
     "data": {
      "application/vnd.jupyter.widget-view+json": {
       "model_id": "0614a6c122f34a108cdd4dc986d457e9",
       "version_major": 2,
       "version_minor": 0
      },
      "text/plain": [
       "  0%|          | 0/356 [00:00<?, ?it/s]"
      ]
     },
     "metadata": {},
     "output_type": "display_data"
    },
    {
     "data": {
      "application/vnd.jupyter.widget-view+json": {
       "model_id": "4589194b0d67405f88b67078e492b8be",
       "version_major": 2,
       "version_minor": 0
      },
      "text/plain": [
       "  0%|          | 0/222 [00:00<?, ?it/s]"
      ]
     },
     "metadata": {},
     "output_type": "display_data"
    },
    {
     "data": {
      "application/vnd.jupyter.widget-view+json": {
       "model_id": "e2aaf3854486498f9f6f168eb5a3f304",
       "version_major": 2,
       "version_minor": 0
      },
      "text/plain": [
       "  0%|          | 0/210 [00:00<?, ?it/s]"
      ]
     },
     "metadata": {},
     "output_type": "display_data"
    },
    {
     "data": {
      "application/vnd.jupyter.widget-view+json": {
       "model_id": "5b9ce6e76469458b8bd9840cad25d38c",
       "version_major": 2,
       "version_minor": 0
      },
      "text/plain": [
       "  0%|          | 0/288 [00:00<?, ?it/s]"
      ]
     },
     "metadata": {},
     "output_type": "display_data"
    },
    {
     "data": {
      "application/vnd.jupyter.widget-view+json": {
       "model_id": "ed3c17db126c41dd8ca67bffa5f8b991",
       "version_major": 2,
       "version_minor": 0
      },
      "text/plain": [
       "  0%|          | 0/229 [00:00<?, ?it/s]"
      ]
     },
     "metadata": {},
     "output_type": "display_data"
    },
    {
     "data": {
      "application/vnd.jupyter.widget-view+json": {
       "model_id": "e6f53a5e7f7044b4a4a1934e953c90e3",
       "version_major": 2,
       "version_minor": 0
      },
      "text/plain": [
       "  0%|          | 0/182 [00:00<?, ?it/s]"
      ]
     },
     "metadata": {},
     "output_type": "display_data"
    },
    {
     "data": {
      "application/vnd.jupyter.widget-view+json": {
       "model_id": "b2d3e8ecc7074ffb9714fa015b8afcd6",
       "version_major": 2,
       "version_minor": 0
      },
      "text/plain": [
       "  0%|          | 0/348 [00:00<?, ?it/s]"
      ]
     },
     "metadata": {},
     "output_type": "display_data"
    },
    {
     "data": {
      "application/vnd.jupyter.widget-view+json": {
       "model_id": "5de51c6308f04342ac0e4007c04c4fdb",
       "version_major": 2,
       "version_minor": 0
      },
      "text/plain": [
       "  0%|          | 0/362 [00:00<?, ?it/s]"
      ]
     },
     "metadata": {},
     "output_type": "display_data"
    },
    {
     "data": {
      "application/vnd.jupyter.widget-view+json": {
       "model_id": "599c0fb954d54c2190b2517e270a995e",
       "version_major": 2,
       "version_minor": 0
      },
      "text/plain": [
       "  0%|          | 0/180 [00:00<?, ?it/s]"
      ]
     },
     "metadata": {},
     "output_type": "display_data"
    },
    {
     "data": {
      "application/vnd.jupyter.widget-view+json": {
       "model_id": "66b17a55a87f42a79501d6d2678a294b",
       "version_major": 2,
       "version_minor": 0
      },
      "text/plain": [
       "  0%|          | 0/212 [00:00<?, ?it/s]"
      ]
     },
     "metadata": {},
     "output_type": "display_data"
    }
   ],
   "source": [
    "for i in tqdm(range(samples.shape[0])):\n",
    "    sample = samples.iloc[i]\n",
    "    \n",
    "    img_path = get_related_filepath(\n",
    "        sample.job,\n",
    "        'ps2400dpi150lpi',\n",
    "        f'{ sample.pdf_filename }.4c_{ dotenv[\"LOFI_DPI\"] }.jpg'\n",
    "    )\n",
    "    img = open_img(img_path)\n",
    "\n",
    "    tiles = cut_img_into_tiles( img, dotenv[\"LOFI_DPI\"], RESOLUTIONS )\n",
    "    tiles_preclassified = preclassifier( tiles )\n",
    "    predictions = classifier( tiles_preclassified, model, tile_size=TILE_SIZE, max_batch_size=MAX_BATCH_SIZE )\n",
    "    \n",
    "    result_map = create_result_map( img.size, predictions )    \n",
    "    predicted_label = int(result_map[result_map > 0.5].shape[0] > 0)\n",
    "\n",
    "    if CREATE_RESULT_BOXES_IMAGE:\n",
    "        result_boxes = get_result_boxes( result_map )\n",
    "        moire_key = (sample.job,sample.variant_name,sample.pdf_filename,sample.type)\n",
    "        \n",
    "        if moire_key in moires:\n",
    "            moire_boxes = []\n",
    "        \n",
    "            for m in moires[moire_key]:\n",
    "                min_x = int(round(min([pt[0] / 100 * img.size[0] for pt in m['value']['points']])))\n",
    "                min_y = int(round(min([pt[1] / 100 * img.size[1] for pt in m['value']['points']])))\n",
    "                \n",
    "                max_x = int(round(max([pt[0] / 100 * img.size[0] for pt in m['value']['points']])))\n",
    "                max_y = int(round(max([pt[1] / 100 * img.size[1] for pt in m['value']['points']])))\n",
    "            \n",
    "                moire_boxes.append([min_x, min_y, max_x - min_x, max_y - min_y])\n",
    "        else:\n",
    "            moire_boxes = []\n",
    "        \n",
    "        box_img = draw_bounding_boxes( img, moire_boxes, result_boxes )\n",
    "        box_img.save( dotenv['TEMP_PROCESSING_DIR'] / 'boxes_page_results' / f\"boxes.{ sample.job }.{ sample.pdf_filename }.{ predicted_label }.jpg\", progressive=True )\n",
    "    \n",
    "    if CREATE_BLEND_IMAGE:\n",
    "        # blend img erzeugen\n",
    "        TARGET_OUT_HEIGHT = 1000\n",
    "        colors=['red','green','blue','orange']\n",
    "        l_images = get_out_map( img, predictions )\n",
    "        blended = Image.new(mode=\"RGB\", size=(img.size[0] * len(l_images), img.size[1]))\n",
    "    \n",
    "        for i in range(len(l_images)):\n",
    "            l_img = ImageEnhance.Brightness(l_images[i]).enhance(0.5)\n",
    "            overlay = Image.new('RGB', l_img.size, color=colors[i])\n",
    "            l_rgb = img.convert('RGB')\n",
    "            l_rgb.paste(\n",
    "                overlay,\n",
    "                (0,0),\n",
    "                mask=l_img\n",
    "            )\n",
    "    \n",
    "            blended.paste(\n",
    "                l_rgb,\n",
    "                (img.size[0] * i,0)\n",
    "            )\n",
    "    \n",
    "        #blended = blended.resize((\n",
    "        #    round(TARGET_OUT_HEIGHT / blended.size[1] * blended.size[0]),\n",
    "        #    TARGET_OUT_HEIGHT\n",
    "        #))\n",
    "        \n",
    "        blended.save( dotenv['TEMP_PROCESSING_DIR'] / 'blended_page_results' / f\"separated.{ sample.job }.{ sample.pdf_filename }.{ predicted_label }.jpg\", progressive=True )"
   ]
  }
 ],
 "metadata": {
  "kernelspec": {
   "display_name": "Python 3 (ipykernel)",
   "language": "python",
   "name": "python3"
  },
  "language_info": {
   "codemirror_mode": {
    "name": "ipython",
    "version": 3
   },
   "file_extension": ".py",
   "mimetype": "text/x-python",
   "name": "python",
   "nbconvert_exporter": "python",
   "pygments_lexer": "ipython3",
   "version": "3.10.11"
  }
 },
 "nbformat": 4,
 "nbformat_minor": 5
}
