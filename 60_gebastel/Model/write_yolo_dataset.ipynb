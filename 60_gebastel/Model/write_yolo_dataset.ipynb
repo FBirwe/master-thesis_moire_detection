{
 "cells": [
  {
   "cell_type": "code",
   "execution_count": 1,
   "id": "dc7f9642-6dfd-4916-b7be-8538855717e1",
   "metadata": {},
   "outputs": [],
   "source": [
    "import sys\n",
    "sys.path.append('../../30_data_tools/')\n",
    "sys.path.append('../process_masks/')"
   ]
  },
  {
   "cell_type": "code",
   "execution_count": 2,
   "id": "9e1ee079-1e2d-4a21-aa25-92087893f8fa",
   "metadata": {},
   "outputs": [],
   "source": [
    "from pathlib import Path\n",
    "import random"
   ]
  },
  {
   "cell_type": "code",
   "execution_count": 3,
   "id": "602cd8ca-97b7-4b97-aa3b-9f046ae4e1eb",
   "metadata": {},
   "outputs": [],
   "source": [
    "from PIL import Image\n",
    "import numpy as np\n",
    "from tqdm.auto import tqdm\n",
    "from sklearn.model_selection import train_test_split"
   ]
  },
  {
   "cell_type": "code",
   "execution_count": 4,
   "id": "8e459aa9-3b77-41d0-847e-c9c72f16a3b3",
   "metadata": {},
   "outputs": [],
   "source": [
    "from load_dataset import get_available_moires, get_train_data, get_moire_path, get_non_moire_path"
   ]
  },
  {
   "cell_type": "code",
   "execution_count": 5,
   "id": "e5563485-d157-4d53-8a47-41019f60489f",
   "metadata": {},
   "outputs": [],
   "source": [
    "from helper import load_dotenv\n",
    "from get_labelstudio_data import get_moires_of_project\n",
    "from mask_functions import load_masks, get_whole_mask\n",
    "import cv2\n",
    "from shapely.geometry import Polygon"
   ]
  },
  {
   "cell_type": "code",
   "execution_count": 6,
   "id": "87358841-4849-465a-8821-5271969a839d",
   "metadata": {},
   "outputs": [],
   "source": [
    "import re"
   ]
  },
  {
   "cell_type": "code",
   "execution_count": null,
   "id": "e021ef7c-ff76-49ea-bb93-32a8ff41f0e2",
   "metadata": {},
   "outputs": [],
   "source": [
    "# für Polygonintersection\n",
    "\n",
    "p1 = Polygon([(0,0), (1,1), (1,0)])\n",
    "p2 = Polygon([(0,1), (1,0), (1,1)]) \n",
    "\n",
    "p1.intersection(p2).area / p1.area"
   ]
  },
  {
   "cell_type": "code",
   "execution_count": 7,
   "id": "baf7d609-0aa2-4a90-b426-d3fa35bcec02",
   "metadata": {},
   "outputs": [],
   "source": [
    "dotenv = load_dotenv()"
   ]
  },
  {
   "cell_type": "code",
   "execution_count": 8,
   "id": "b690df52-d165-4e91-abd3-06a4c3b4dba8",
   "metadata": {},
   "outputs": [],
   "source": [
    "IMG_SIZE = (\n",
    "    280,\n",
    "    280\n",
    ")\n",
    "MIN_MASK_PARTIAL = 0.5"
   ]
  },
  {
   "cell_type": "code",
   "execution_count": 9,
   "id": "5720276b-1b4b-48f0-950b-463aee584a89",
   "metadata": {},
   "outputs": [],
   "source": [
    "DATASET_DIR = Path('./dataset/')"
   ]
  },
  {
   "cell_type": "code",
   "execution_count": 10,
   "id": "40fa1cec-93b8-4417-adcd-ecd306db748f",
   "metadata": {},
   "outputs": [],
   "source": [
    "def get_masks_path( row ):\n",
    "    return dotenv['DATA_DIR'] / row.job / row.variant_name / f\"{row.pdf_filename}.masks.pkl\""
   ]
  },
  {
   "cell_type": "code",
   "execution_count": 11,
   "id": "9a6d6fa1-9988-4a4c-953c-4b7f7525ce6f",
   "metadata": {
    "jupyter": {
     "source_hidden": true
    }
   },
   "outputs": [],
   "source": [
    "def get_img_pair( row, dotenv ):\n",
    "    non_moire_path = row.non_moire_path\n",
    "    moire_path = row.moire_path\n",
    "    \n",
    "    non_moire_img_dpi = int(re.search(r'(\\d+)dpi', row.variant_name).groups()[0])\n",
    "    moire_img_dpi = int(re.match(r'.+\\.4c_(\\d+)$', row.moire_path.name.replace( row.moire_path.suffix, '' )).groups()[0])\n",
    "    target_dpi = dotenv['TRAIN_DATA_DPI']\n",
    "    \n",
    "    non_moire_img = Image.open( non_moire_path )\n",
    "    if target_dpi != non_moire_img_dpi:\n",
    "        non_moire_img = non_moire_img.resize((\n",
    "            round(non_moire_img.size[0] * (target_dpi / non_moire_img_dpi)),\n",
    "            round(non_moire_img.size[1] * (target_dpi / non_moire_img_dpi))\n",
    "        ))\n",
    "        \n",
    "    moire_img = Image.open( moire_path )\n",
    "    original_size = moire_img.size\n",
    "    if target_dpi != moire_img_dpi:\n",
    "        moire_img = moire_img.resize((\n",
    "            round(moire_img.size[0] * (target_dpi / moire_img_dpi)),\n",
    "            round(moire_img.size[1] * (target_dpi / moire_img_dpi))\n",
    "        ))\n",
    "    moire_img = moire_img.resize(non_moire_img.size)\n",
    "\n",
    "    rescale_factor = [\n",
    "        moire_img.size[0] / original_size[0],\n",
    "        moire_img.size[1] / original_size[1]\n",
    "    ]\n",
    "    \n",
    "    bbox = [int(val) for val in row.bbox.split(';')]\n",
    "    bbox = [\n",
    "        int(round(bbox[0] * rescale_factor[0])),\n",
    "        int(round(bbox[1] * rescale_factor[1])),\n",
    "        int(round(bbox[2] * rescale_factor[0])),\n",
    "        int(round(bbox[3] * rescale_factor[1]))\n",
    "    ]\n",
    "\n",
    "    non_moire_img = 1 - np.array(non_moire_img)[:,:,3] / 255\n",
    "    moire_img = 1 - np.array(moire_img)[:,:,3] / 255\n",
    "    \n",
    "    return non_moire_img, moire_img, bbox"
   ]
  },
  {
   "cell_type": "code",
   "execution_count": 12,
   "id": "e6995bad-dc79-400c-91d5-174a00cce997",
   "metadata": {
    "jupyter": {
     "source_hidden": true
    }
   },
   "outputs": [],
   "source": [
    "def cut_img_to_tiles( img, relevant_box, mask=None ):\n",
    "    # convolve over image\n",
    "    out = []\n",
    "    conv_size = IMG_SIZE\n",
    "    step_horizontal = int(round(conv_size[0] / 2))\n",
    "    step_vertical = int(round(conv_size[1] / 2))\n",
    "    \n",
    "    for left in range(0, img.shape[1] - step_horizontal, step_horizontal):\n",
    "        for top in range(0, img.shape[0] - step_vertical, step_vertical):\n",
    "            \n",
    "            if left + conv_size[0] > img.shape[1]:\n",
    "                left = img.shape[1] - conv_size[0]\n",
    "\n",
    "            if top + conv_size[1] > img.shape[0]:\n",
    "                top = img.shape[0] - conv_size[1]\n",
    "\n",
    "            if (mask is None) == False:\n",
    "                mask_partial = mask[\n",
    "                    top:top+conv_size[1],\n",
    "                    left:left+conv_size[0]\n",
    "                ].mean()\n",
    "            else:\n",
    "                # ist keine Maske vorhanden wird die Intersection\n",
    "                # mit der Moirebox verwendet\n",
    "                intersection_box = [\n",
    "                    max([relevant_box[0], left]),\n",
    "                    max([relevant_box[1], top]),\n",
    "                    min([relevant_box[0] + relevant_box[2], left+conv_size[0]]),\n",
    "                    min([relevant_box[1] + relevant_box[3], top+conv_size[1]])\n",
    "                ]\n",
    "        \n",
    "                if intersection_box[0] <= intersection_box[2] and intersection_box[1] <= intersection_box[3]:\n",
    "                    mask_partial = ((intersection_box[2] - intersection_box[0]) * (intersection_box[3] - intersection_box[1]))  / (conv_size[0] * conv_size[1])      \n",
    "                else:\n",
    "                    mask_partial = 0\n",
    "            \n",
    "            if mask_partial > MIN_MASK_PARTIAL:\n",
    "                out.append(\n",
    "                    img[\n",
    "                        top:top+conv_size[1],\n",
    "                        left:left+conv_size[0]\n",
    "                    ]\n",
    "                )\n",
    "                \n",
    "    return out"
   ]
  },
  {
   "cell_type": "code",
   "execution_count": 13,
   "id": "84b5ad61-5ac3-4dba-be77-4b89a541eb7d",
   "metadata": {},
   "outputs": [],
   "source": [
    "def process_sample( row, dotenv ):\n",
    "    bbox = [int(val) for val in row.bbox.split(';')]\n",
    "    masks = [m for m in load_masks( get_masks_path( row ) ) if m['bbox'] == bbox]\n",
    "    non_moire_img_dpi = int(re.search(r'(\\d+)dpi', row.variant_name).groups()[0])\n",
    "    \n",
    "    non_moire_img, moire_img, mask_box = get_img_pair( row, dotenv )\n",
    "\n",
    "    if len(masks) > 0:\n",
    "        whole_mask = (get_whole_mask( masks[0] ) * 255).astype('uint8')\n",
    "        mask = cv2.resize(\n",
    "            whole_mask,\n",
    "            (non_moire_img.shape[1], non_moire_img.shape[0])\n",
    "        )\n",
    "        mask = (mask / 255).astype('bool')\n",
    "    else:\n",
    "        mask = None\n",
    "    \n",
    "    moire_samples = [img for img in cut_img_to_tiles( moire_img, mask_box, mask=mask)]\n",
    "    non_moire_samples = [img for img in cut_img_to_tiles( non_moire_img, mask_box, mask=mask)]\n",
    "\n",
    "    return [(row.img_name, non_moire_samples[i], moire_samples[i]) for i in range(len(moire_samples))]"
   ]
  },
  {
   "cell_type": "code",
   "execution_count": 14,
   "id": "78177fa1-78d3-475a-bd15-c29edf6eb40a",
   "metadata": {
    "jupyter": {
     "source_hidden": true
    }
   },
   "outputs": [],
   "source": [
    "def test_train_val_split( data, labels, test_size=.2, val_size=.1 ):\n",
    "    idx_list = [i for i in range(len(data))]\n",
    "    random.shuffle(idx_list)\n",
    "    test_limiter = round(len(idx_list) * test_size)\n",
    "    val_limiter = test_limiter + round(len(idx_list) * val_size)\n",
    "\n",
    "    train_data = [data[idx] for idx in idx_list[val_limiter:]]\n",
    "    train_labels = [labels[idx] for idx in idx_list[val_limiter:]]\n",
    "\n",
    "    test_data = [data[idx] for idx in idx_list[:test_limiter]]\n",
    "    test_labels = [labels[idx] for idx in idx_list[:test_limiter]]\n",
    "\n",
    "    val_data = [data[idx] for idx in idx_list[test_limiter:val_limiter]]\n",
    "    val_labels = [labels[idx] for idx in idx_list[test_limiter:val_limiter]]\n",
    "\n",
    "    return train_data, train_labels, test_data, test_labels, val_data, val_labels"
   ]
  },
  {
   "cell_type": "code",
   "execution_count": 15,
   "id": "08c66b74-ea2e-4434-9693-522e6cd86c97",
   "metadata": {
    "jupyter": {
     "source_hidden": true
    }
   },
   "outputs": [],
   "source": [
    "def write_tiles( data, set_name ):\n",
    "    set_dir = DATASET_DIR / set_name\n",
    "    if set_dir.exists() == False:\n",
    "        set_dir.mkdir()\n",
    "\n",
    "    for i in tqdm(range(len(data))):\n",
    "        entry = data[i]\n",
    "        \n",
    "        for j in range(1,len(entry)):\n",
    "            if (entry[j] is None) == False:\n",
    "                parent_dir_name = 'no_moire' if j == 1 else 'moire'\n",
    "                parent_dir = set_dir / parent_dir_name\n",
    "    \n",
    "                if parent_dir.exists() == False:\n",
    "                    parent_dir.mkdir()\n",
    "                \n",
    "                out_path = parent_dir / f\"{ entry[0] }.{str(i).zfill(4)}.jpg\"\n",
    "            \n",
    "                img = Image.fromarray( np.uint8(data[i][j] * 255) ).convert('RGB')\n",
    "                img.save( out_path, progressive=True )"
   ]
  },
  {
   "cell_type": "code",
   "execution_count": 16,
   "id": "3365426c-3b8a-4f13-8abd-f1ad8473ce9f",
   "metadata": {},
   "outputs": [],
   "source": [
    "def generate_tiles( sample, set_name ):\n",
    "    combined_data = []\n",
    "\n",
    "    for i in tqdm(range(sample.shape[0])):\n",
    "        row = sample.iloc[i]\n",
    "        combined_data += process_sample( row, dotenv )\n",
    "\n",
    "    write_tiles( combined_data, set_name )"
   ]
  },
  {
   "cell_type": "code",
   "execution_count": 17,
   "id": "e10d4867-86f2-43d1-8bd5-b5ca98299933",
   "metadata": {},
   "outputs": [],
   "source": [
    "from get_labelstudio_data import get_results_of_project\n",
    "import pandas as pd\n",
    "import sqlite3"
   ]
  },
  {
   "cell_type": "code",
   "execution_count": 18,
   "id": "be482074-26c2-4a99-ae00-2f42dcafc293",
   "metadata": {
    "jupyter": {
     "source_hidden": true
    }
   },
   "outputs": [],
   "source": [
    "def get_available_moires():\n",
    "    # results laden\n",
    "    dotenv = load_dotenv()\n",
    "    moire_results = [r for r in get_results_of_project(2) if 'checked_moire' in r['rectanglelabels']]\n",
    "    \n",
    "    results_frame = pd.DataFrame(\n",
    "        [\n",
    "            (\n",
    "                r['img_name'],\n",
    "                \";\".join([\n",
    "                    str(r['value']['x']),\n",
    "                    str(r['value']['y']),\n",
    "                    str(r['value']['width']),\n",
    "                    str(r['value']['height'])\n",
    "                ]),\n",
    "                r['rectanglelabels'][0]\n",
    "            )\n",
    "            for r in moire_results\n",
    "        ],\n",
    "        columns=['img_name','bbox','label']\n",
    "    )\n",
    "    \n",
    "    # masken laden\n",
    "    con = sqlite3.connect( dotenv['DB_PATH'] )\n",
    "    \n",
    "    masks = pd.read_sql(\n",
    "        'SELECT * FROM mask',\n",
    "        con\n",
    "    )\n",
    "    \n",
    "    masks.loc[\n",
    "        :,\n",
    "        'img_name'\n",
    "    ] = masks.apply(lambda val: f\"{ val.job }.{ val.pdf_filename }.{ val.method }.{ val.idx }.4c_600.jpg\", axis=1)\n",
    "\n",
    "    # Frames mergen\n",
    "    merged = pd.merge(\n",
    "        masks,\n",
    "        results_frame,\n",
    "        how=\"left\",\n",
    "        on=['img_name','bbox']\n",
    "    )\n",
    "    \n",
    "    merged = merged.loc[\n",
    "        merged.label == 'checked_moire'\n",
    "    ]\n",
    "    \n",
    "    return merged"
   ]
  },
  {
   "cell_type": "code",
   "execution_count": 19,
   "id": "5bb873f2-8f06-47d6-b29a-5a08131588ac",
   "metadata": {},
   "outputs": [
    {
     "ename": "ZeroDivisionError",
     "evalue": "division by zero",
     "output_type": "error",
     "traceback": [
      "\u001b[0;31m---------------------------------------------------------------------------\u001b[0m",
      "\u001b[0;31mZeroDivisionError\u001b[0m                         Traceback (most recent call last)",
      "Cell \u001b[0;32mIn[19], line 1\u001b[0m\n\u001b[0;32m----> 1\u001b[0m \u001b[38;5;241;43m0\u001b[39;49m\u001b[43m \u001b[49m\u001b[38;5;241;43m/\u001b[39;49m\u001b[43m \u001b[49m\u001b[38;5;241;43m0\u001b[39;49m\n",
      "\u001b[0;31mZeroDivisionError\u001b[0m: division by zero"
     ]
    }
   ],
   "source": [
    "0 / 0"
   ]
  },
  {
   "cell_type": "code",
   "execution_count": 20,
   "id": "2e5909c5-d606-4e23-9b18-41b2554f3415",
   "metadata": {},
   "outputs": [],
   "source": [
    "df = get_available_moires()\n",
    "df.loc[\n",
    "    :,\n",
    "    'non_moire_path'\n",
    "] = df.apply(lambda row: (dotenv['DATA_DIR'] / row.job / 'ps2400dpi150lpi' / f\"{ row.pdf_filename }.4c_600.jpg\"), axis=1)\n",
    "\n",
    "df.loc[\n",
    "    :,\n",
    "    'moire_path'\n",
    "] = df.apply(lambda row: (dotenv['GENERIC_GENERATED_DATA_DIR'] / row.img_name), axis=1)"
   ]
  },
  {
   "cell_type": "code",
   "execution_count": 21,
   "id": "14cbd691-480c-4907-86ed-b727f63db896",
   "metadata": {},
   "outputs": [],
   "source": [
    "df = df.loc[\n",
    "    df.apply(lambda row: row.moire_path.exists() and row.non_moire_path.exists(), axis=1)\n",
    "]"
   ]
  },
  {
   "cell_type": "code",
   "execution_count": 22,
   "id": "a36c0b40-f41a-40c5-9ff3-a5ebd1f2f6ee",
   "metadata": {},
   "outputs": [
    {
     "data": {
      "text/plain": [
       "(550, 17)"
      ]
     },
     "execution_count": 22,
     "metadata": {},
     "output_type": "execute_result"
    }
   ],
   "source": [
    "df.shape"
   ]
  },
  {
   "cell_type": "code",
   "execution_count": 23,
   "id": "0033fcfb-cff8-4a57-8577-23848efd02a8",
   "metadata": {},
   "outputs": [],
   "source": [
    "TEST_SIZE = .2\n",
    "VAL_SIZE = .1"
   ]
  },
  {
   "cell_type": "code",
   "execution_count": 24,
   "id": "a55d1460-a246-4d81-aac5-86bacaa15dc8",
   "metadata": {},
   "outputs": [],
   "source": [
    "sample = df.sample(frac=1)\n",
    "test_limiter = round(sample.shape[0] * TEST_SIZE)\n",
    "val_limiter = test_limiter + round(sample.shape[0] * VAL_SIZE)\n",
    "\n",
    "test_rows = sample.iloc[:test_limiter]\n",
    "val_rows = sample.iloc[test_limiter:val_limiter]\n",
    "train_rows = sample.iloc[val_limiter:]"
   ]
  },
  {
   "cell_type": "code",
   "execution_count": 25,
   "id": "768c6dad-8a34-4a81-9fea-61d922ecdb4a",
   "metadata": {},
   "outputs": [
    {
     "data": {
      "application/vnd.jupyter.widget-view+json": {
       "model_id": "98141f5b79664621a654f7f30a81a4fa",
       "version_major": 2,
       "version_minor": 0
      },
      "text/plain": [
       "  0%|          | 0/385 [00:00<?, ?it/s]"
      ]
     },
     "metadata": {},
     "output_type": "display_data"
    },
    {
     "name": "stderr",
     "output_type": "stream",
     "text": [
      "/Users/frederic.birwe/Library/Python/3.10/lib/python/site-packages/PIL/Image.py:3186: DecompressionBombWarning: Image size (127715826 pixels) exceeds limit of 89478485 pixels, could be decompression bomb DOS attack.\n",
      "  warnings.warn(\n"
     ]
    },
    {
     "data": {
      "application/vnd.jupyter.widget-view+json": {
       "model_id": "d01f16b761b843e28af11d8c530e55db",
       "version_major": 2,
       "version_minor": 0
      },
      "text/plain": [
       "  0%|          | 0/2427 [00:00<?, ?it/s]"
      ]
     },
     "metadata": {},
     "output_type": "display_data"
    },
    {
     "data": {
      "application/vnd.jupyter.widget-view+json": {
       "model_id": "ab7eadf279c24adca4e0cee79dce87b9",
       "version_major": 2,
       "version_minor": 0
      },
      "text/plain": [
       "  0%|          | 0/110 [00:00<?, ?it/s]"
      ]
     },
     "metadata": {},
     "output_type": "display_data"
    },
    {
     "data": {
      "application/vnd.jupyter.widget-view+json": {
       "model_id": "5df2e3f5a0e745bbb08824d1627ab339",
       "version_major": 2,
       "version_minor": 0
      },
      "text/plain": [
       "  0%|          | 0/610 [00:00<?, ?it/s]"
      ]
     },
     "metadata": {},
     "output_type": "display_data"
    },
    {
     "data": {
      "application/vnd.jupyter.widget-view+json": {
       "model_id": "516d78cfe289490397af2193b04dcadb",
       "version_major": 2,
       "version_minor": 0
      },
      "text/plain": [
       "  0%|          | 0/55 [00:00<?, ?it/s]"
      ]
     },
     "metadata": {},
     "output_type": "display_data"
    },
    {
     "data": {
      "application/vnd.jupyter.widget-view+json": {
       "model_id": "5965c96b36a1431390ee44d25333049c",
       "version_major": 2,
       "version_minor": 0
      },
      "text/plain": [
       "  0%|          | 0/273 [00:00<?, ?it/s]"
      ]
     },
     "metadata": {},
     "output_type": "display_data"
    }
   ],
   "source": [
    "generate_tiles( train_rows, 'train' )\n",
    "generate_tiles( test_rows, 'test' )\n",
    "generate_tiles( val_rows, 'val' )"
   ]
  },
  {
   "cell_type": "markdown",
   "id": "837ced27-d089-49fc-baee-45d045b11219",
   "metadata": {},
   "source": [
    "# ok_samples hinzufügen"
   ]
  },
  {
   "cell_type": "code",
   "execution_count": 26,
   "id": "917a413e-e0a6-4841-a6a7-332a6f1b25f8",
   "metadata": {},
   "outputs": [],
   "source": [
    "tile_target_count = round(sample.shape[0] * 0.5)"
   ]
  },
  {
   "cell_type": "code",
   "execution_count": 27,
   "id": "ca2b1e6f-6d59-41f0-83bc-edee2a3e358f",
   "metadata": {},
   "outputs": [],
   "source": [
    "con = sqlite3.connect( dotenv['DB_PATH'] )"
   ]
  },
  {
   "cell_type": "code",
   "execution_count": 29,
   "id": "8ab25f13-07f6-48b1-b4b9-9e335a02ec79",
   "metadata": {},
   "outputs": [],
   "source": [
    "def get_overlap( box, row, results_dict ):\n",
    "    relevant_boxes = []\n",
    "\n",
    "    if row.job not in results_dict:\n",
    "        return 0\n",
    "\n",
    "    if row.pdf_filename not in results_dict[row.job]:\n",
    "        return 0\n",
    "\n",
    "    intersections = []\n",
    "    for r in results_dict[row.job][row.pdf_filename]:    \n",
    "        intersection_box = [\n",
    "            max([box[0], r['x']]),\n",
    "            max([box[1], r['y']]),\n",
    "            min([box[0] + box[2], r['x'] + r['width']]),\n",
    "            min([box[1] + box[3], r['y'] + r['height']])\n",
    "        ]\n",
    "        \n",
    "        if intersection_box[0] <= intersection_box[2] and intersection_box[1] <= intersection_box[3]:\n",
    "            intersections.append((intersection_box[2] - intersection_box[0]) * (intersection_box[3] - intersection_box[1]))        \n",
    "\n",
    "    if len(intersections):\n",
    "        return max(intersections + [0])\n",
    "\n",
    "    return 0"
   ]
  },
  {
   "cell_type": "code",
   "execution_count": 30,
   "id": "f596567c-7ca4-46f1-8c3a-d0125cfa0e79",
   "metadata": {},
   "outputs": [],
   "source": [
    "# Die im System vorhandenen Moires werden in eine Form gebracht, durch sie ausgeschlossen werden können\n",
    "real_moires = get_results_of_project(1)\n",
    "for r in real_moires:\n",
    "    r['dataset'] = 'real'\n",
    "\n",
    "generic_moires = get_results_of_project(2)\n",
    "for r in generic_moires:\n",
    "    r['dataset'] = 'generic'\n",
    "\n",
    "results = [\n",
    "    r for r in real_moires + generic_moires\n",
    "    if r['rectanglelabels'][0] in ['checked_moire','moire_l_01','moire_l_05','moire_l_10','moire']\n",
    "]\n",
    "\n",
    "# die Boxen werden nach Job und pdf_filename\n",
    "# in ein dict einsortiert\n",
    "results_dict = {}\n",
    "\n",
    "for r in results:\n",
    "    if r['dataset'] == 'real':\n",
    "        job, pdf_filename, dpi = re.match(r'(.+?)\\..+?\\.(.+)\\.4c_(\\d+)\\.jpg', r['img_name']).groups()\n",
    "    else:\n",
    "        job, pdf_filename, dpi = re.match(r'(.+?)\\.(.+)\\.soft_light.+\\.4c_(\\d+)\\.jpg', r['img_name']).groups()\n",
    " \n",
    "    dpi = int(dpi)\n",
    "\n",
    "    out = {\n",
    "        'x' : r['value']['x'],\n",
    "        'y' : r['value']['y'],\n",
    "        'width' : r['value']['width'],\n",
    "        'height' : r['value']['height'],\n",
    "        'img_name' : r['img_name']\n",
    "    }\n",
    "\n",
    "    # boxen werden auf 600dpi skaliert\n",
    "    if dpi != dotenv['LOFI_DPI']:\n",
    "        rescale_factor = dotenv['LOFI_DPI'] / dpi\n",
    "\n",
    "        out['x'] = out['x'] * rescale_factor\n",
    "        out['y'] = out['y'] * rescale_factor\n",
    "        out['width'] = out['width'] * rescale_factor\n",
    "        out['height'] = out['height'] * rescale_factor\n",
    "\n",
    "    # result wird einsortiert\n",
    "    if job not in results_dict:\n",
    "        results_dict[job] = {}\n",
    "\n",
    "    if pdf_filename not in results_dict[job]:\n",
    "        results_dict[job][pdf_filename] = []\n",
    "\n",
    "    results_dict[job][pdf_filename].append(out)"
   ]
  },
  {
   "cell_type": "code",
   "execution_count": 31,
   "id": "b979c6c0-4ce8-46b1-83a4-7e1737ee6086",
   "metadata": {},
   "outputs": [],
   "source": [
    "related_files = pd.read_sql(\n",
    "    '''\n",
    "        SELECT job, pdf_filename, filename FROM related_file rf\n",
    "        WHERE rf.variant_name == 'ps2400dpi150lpi' AND\n",
    "        \"type\" = '4c_600'\n",
    "    ''',\n",
    "    con\n",
    ")"
   ]
  },
  {
   "cell_type": "code",
   "execution_count": 32,
   "id": "5e5bba3f-a62c-4be4-a9d8-a9214e4618e3",
   "metadata": {},
   "outputs": [
    {
     "data": {
      "application/vnd.jupyter.widget-view+json": {
       "model_id": "18494dea6ccc4659a430ee145d788c78",
       "version_major": 2,
       "version_minor": 0
      },
      "text/plain": [
       "  0%|          | 0/275 [00:00<?, ?it/s]"
      ]
     },
     "metadata": {},
     "output_type": "display_data"
    }
   ],
   "source": [
    "tiles_out = []\n",
    "\n",
    "with tqdm(total=tile_target_count) as pbar:\n",
    "    while len(tiles_out) < tile_target_count:\n",
    "        sample = related_files.sample(n=1).iloc[0]\n",
    "        filepath = dotenv['DATA_DIR'] / sample.job / 'ps2400dpi150lpi' / sample.filename\n",
    "        img = Image.open(filepath)\n",
    "        found_tiles = []\n",
    "        i = 0\n",
    "        while random.random() > (len(found_tiles) / 10) ** 2 and i < 1000:\n",
    "            posX = random.randrange(img.size[0] - IMG_SIZE[0])\n",
    "            posY = random.randrange(img.size[1] - IMG_SIZE[1])\n",
    "        \n",
    "            tile_img = 255 - np.array(img.crop((\n",
    "                posX,posY,\n",
    "                posX+IMG_SIZE[0],posY+IMG_SIZE[1]\n",
    "            )))[:,:,3]\n",
    "        \n",
    "            overlap = get_overlap( [posX, posY, IMG_SIZE[0], IMG_SIZE[1]], sample, results_dict )\n",
    "        \n",
    "            if overlap == 0:\n",
    "                found_tiles.append((\n",
    "                    filepath.name.replace(filepath.suffix,''),\n",
    "                    (posX,posY),\n",
    "                    tile_img\n",
    "                ))\n",
    "        \n",
    "            i += 1\n",
    "        \n",
    "        tiles_out += found_tiles\n",
    "        pbar.update(len(found_tiles))"
   ]
  },
  {
   "cell_type": "code",
   "execution_count": 33,
   "id": "11afb3bb-9af1-4849-a437-b8abd9a74b90",
   "metadata": {},
   "outputs": [],
   "source": [
    "random.shuffle(tiles_out)"
   ]
  },
  {
   "cell_type": "code",
   "execution_count": 34,
   "id": "b4863b7d-3fc0-431c-b46d-96e9bb359b57",
   "metadata": {},
   "outputs": [],
   "source": [
    "TEST_SIZE = .2\n",
    "VAL_SIZE = .1"
   ]
  },
  {
   "cell_type": "code",
   "execution_count": 35,
   "id": "8964f4d4-e146-4423-a5fe-e6018ae01cdb",
   "metadata": {},
   "outputs": [],
   "source": [
    "test_limiter = round(len(tiles_out) * TEST_SIZE)\n",
    "val_limiter = test_limiter + round(len(tiles_out) * VAL_SIZE)\n",
    "\n",
    "test_rows = tiles_out[:test_limiter]\n",
    "val_rows = tiles_out[test_limiter:val_limiter]\n",
    "train_rows = tiles_out[val_limiter:]"
   ]
  },
  {
   "cell_type": "code",
   "execution_count": 36,
   "id": "482bc54d-7531-4259-9fcc-65212ef4c59d",
   "metadata": {},
   "outputs": [
    {
     "data": {
      "application/vnd.jupyter.widget-view+json": {
       "model_id": "c4f7482172db44a88daaf6a69c419218",
       "version_major": 2,
       "version_minor": 0
      },
      "text/plain": [
       "  0%|          | 0/197 [00:00<?, ?it/s]"
      ]
     },
     "metadata": {},
     "output_type": "display_data"
    },
    {
     "data": {
      "application/vnd.jupyter.widget-view+json": {
       "model_id": "bedc9d49e15c4768b3e542d2adf9fb1f",
       "version_major": 2,
       "version_minor": 0
      },
      "text/plain": [
       "  0%|          | 0/56 [00:00<?, ?it/s]"
      ]
     },
     "metadata": {},
     "output_type": "display_data"
    },
    {
     "data": {
      "application/vnd.jupyter.widget-view+json": {
       "model_id": "d43abf0fbd8a487797d74aeaf3e04a27",
       "version_major": 2,
       "version_minor": 0
      },
      "text/plain": [
       "  0%|          | 0/28 [00:00<?, ?it/s]"
      ]
     },
     "metadata": {},
     "output_type": "display_data"
    }
   ],
   "source": [
    "write_tiles( [(f\"ok_sample_{t[0]}\", t[2], None) for t in train_rows], 'train' )\n",
    "write_tiles( [(f\"ok_sample_{t[0]}\", t[2], None) for t in test_rows], 'test' )\n",
    "write_tiles( [(f\"ok_sample_{t[0]}\", t[2], None) for t in val_rows], 'val' )"
   ]
  },
  {
   "cell_type": "markdown",
   "id": "54ef77d2-947c-4168-b27a-fcc9c9f53c73",
   "metadata": {},
   "source": [
    "# Real Validation schreiben"
   ]
  },
  {
   "cell_type": "code",
   "execution_count": null,
   "id": "6102b627-b7b9-4c2a-a131-44ca9c252c85",
   "metadata": {},
   "outputs": [],
   "source": [
    "MIN_IOU = 0.9"
   ]
  },
  {
   "cell_type": "code",
   "execution_count": null,
   "id": "ff63ac5d-d9d9-46d8-b7c8-05f8d946476c",
   "metadata": {},
   "outputs": [],
   "source": [
    "con = sqlite3.connect(dotenv['DB_PATH'])"
   ]
  },
  {
   "cell_type": "code",
   "execution_count": null,
   "id": "d979e8a5-4996-4f67-8403-1d021cdd2b27",
   "metadata": {},
   "outputs": [],
   "source": [
    "moires = [\n",
    "    r for r in get_results_of_project(1)\n",
    "    if (\n",
    "        r['rectanglelabels'][0] != 'potential_moire' and\n",
    "        re.match(r'\\d{6}.+', r['img_name'])\n",
    "    )\n",
    "]"
   ]
  },
  {
   "cell_type": "code",
   "execution_count": null,
   "id": "f9271ac7-b067-4679-93e7-8fed5415cb6c",
   "metadata": {},
   "outputs": [],
   "source": [
    "def get_moire_mask_path( img_name ):\n",
    "    jobname, filename = re.match(r'(.+?)\\..+?\\.(.+)\\..+?\\.jpg', img_name).groups()\n",
    "    \n",
    "    return dotenv['DATA_DIR'] / jobname / \"halftone600dpi\" / f\"{ filename }.masks.pkl\""
   ]
  },
  {
   "cell_type": "code",
   "execution_count": null,
   "id": "9ff20fa9-cce8-491c-8409-e1156c93264b",
   "metadata": {
    "jupyter": {
     "source_hidden": true
    }
   },
   "outputs": [],
   "source": [
    "def calc_bbox_iou( bbox_a, bbox_b ):\n",
    "    intersection_box = [\n",
    "        max([bbox_a[0], bbox_b[0]]),\n",
    "        max([bbox_a[1], bbox_b[1]]),\n",
    "        min([bbox_a[0]+bbox_a[2], bbox_b[0]+bbox_b[2]]),\n",
    "        min([bbox_a[1]+bbox_a[3], bbox_b[1]+bbox_b[3]])\n",
    "    ]\n",
    "    intersection = (intersection_box[2] - intersection_box[0]) * (intersection_box[3] - intersection_box[1])\n",
    "\n",
    "    union_box = [\n",
    "        min([bbox_a[0], bbox_b[0]]),\n",
    "        min([bbox_a[1], bbox_b[1]]),\n",
    "        max([bbox_a[0]+bbox_a[2], bbox_b[0]+bbox_b[2]]),\n",
    "        max([bbox_a[1]+bbox_a[3], bbox_b[1]+bbox_b[3]])\n",
    "    ]\n",
    "    union = (union_box[2] - union_box[0]) * (union_box[3] - union_box[1])\n",
    "\n",
    "    if (intersection_box[2] - intersection_box[0]) < 0 or (intersection_box[3] - intersection_box[1]) < 0:\n",
    "        return 0\n",
    "    \n",
    "    return intersection / union"
   ]
  },
  {
   "cell_type": "code",
   "execution_count": null,
   "id": "d25d8eab-c630-4e7a-88c6-2276ec2cfaad",
   "metadata": {
    "jupyter": {
     "source_hidden": true
    }
   },
   "outputs": [],
   "source": [
    "def get_moire_mask_path( job, page, dotenv, con ):\n",
    "    c = con.cursor()\n",
    "    c.execute(f'''\n",
    "        SELECT * FROM related_file\n",
    "        WHERE\n",
    "            job='{ job }' AND\n",
    "            variant_name='halftone{ dotenv[\"LOFI_DPI\"] }dpi' AND\n",
    "            pdf_filename LIKE '%{ page }%'\n",
    "            AND \"type\" = 'masks'\n",
    "    ''')\n",
    "    mask_entry = c.fetchone()\n",
    "    c.close()\n",
    "\n",
    "    if mask_entry != None:\n",
    "        mask_path = dotenv['DATA_DIR'] / job / f'halftone{ dotenv[\"LOFI_DPI\"] }dpi' / mask_entry[4] \n",
    "    \n",
    "        if mask_path.exists():\n",
    "            return mask_path\n",
    "\n",
    "    return None"
   ]
  },
  {
   "cell_type": "code",
   "execution_count": null,
   "id": "20a0ffdd-e808-498a-8701-36940f52e6d7",
   "metadata": {
    "jupyter": {
     "source_hidden": true
    }
   },
   "outputs": [],
   "source": [
    "def get_corresponding_ps_img_path( job, page_name, dotenv, con ):\n",
    "    c = con.cursor()\n",
    "    c.execute(f'''\n",
    "        SELECT * FROM related_file\n",
    "        WHERE\n",
    "            job='{ job }' AND\n",
    "            variant_name='ps2400dpi150lpi' AND\n",
    "            pdf_filename LIKE '%{ page_name }%'\n",
    "            AND \"type\" = '4c_{ dotenv[\"LOFI_DPI\"] }'\n",
    "    ''')\n",
    "    ps_entry = c.fetchone()\n",
    "    c.close()\n",
    "\n",
    "    if ps_entry:\n",
    "        ps_path = dotenv['DATA_DIR'] / job / ps_entry[0] / ps_entry[4]\n",
    "    \n",
    "        if ps_path.exists():\n",
    "            return ps_path\n",
    "\n",
    "    return None"
   ]
  },
  {
   "cell_type": "code",
   "execution_count": null,
   "id": "caccb252-27e6-433d-a682-449fdcb5627b",
   "metadata": {
    "jupyter": {
     "source_hidden": true
    }
   },
   "outputs": [],
   "source": [
    "def process_real_moire( moire, dotenv, con ):\n",
    "    job, variant_name, page, dpi = re.match(r'(.+?)\\.(.+?)\\.(.+)\\.4c_(\\d+).jpg', moire['img_name']).groups()\n",
    "    target_dpi = dotenv['TRAIN_DATA_DPI']\n",
    "    \n",
    "    ps_path = get_corresponding_ps_img_path( job, page, dotenv, con )\n",
    "\n",
    "    if ps_path == None:\n",
    "        return []\n",
    "\n",
    "    # dpi wird aus dem PS-Bildnamen ausgelesen\n",
    "    dpi = re.match(r'.+\\.4c_(\\d+).jpg', ps_path.name).groups()[0]\n",
    "    dpi = int(dpi)\n",
    "    ps_img = Image.open(ps_path)\n",
    "    \n",
    "    scale_factor_x = ps_img.size[0] / moire['original_width']\n",
    "    scale_factor_y = ps_img.size[1] / moire['original_height']\n",
    "    moire_bbox = [\n",
    "        round(moire['value']['x'] * scale_factor_x),\n",
    "        round(moire['value']['y'] * scale_factor_y),\n",
    "        round(moire['value']['width'] * scale_factor_x),\n",
    "        round(moire['value']['height'] * scale_factor_y)\n",
    "    ]\n",
    "                    \n",
    "    mask_path = get_moire_mask_path( job, page, dotenv, con )\n",
    "    use_mask = False\n",
    "\n",
    "    if mask_path and mask_path.exists():\n",
    "        masks = load_masks(mask_path)\n",
    "        max_iou = -1\n",
    "        max_mask = None\n",
    "        \n",
    "        for mask in masks:\n",
    "            iou = calc_bbox_iou(\n",
    "                moire_bbox,\n",
    "                mask['bbox']\n",
    "            )\n",
    "            \n",
    "            if iou > MIN_IOU and iou > max_iou:\n",
    "                max_iou = iou\n",
    "                max_mask = get_whole_mask(mask)\n",
    "                use_mask = True        \n",
    "    \n",
    "    if dpi != target_dpi:\n",
    "        rescale_factor = target_dpi / dpi\n",
    "        ps_img = ps_img.resize((\n",
    "            round(ps_img.size[0] * rescale_factor),\n",
    "            round(ps_img.size[1] * rescale_factor)\n",
    "        ))\n",
    "\n",
    "        if use_mask:\n",
    "            max_mask = cv2.resize(max_mask, (ps_img.size[0], ps_img.size[1])).astype('bool')\n",
    "    \n",
    "        moire_bbox = [round(val * rescale_factor) for val in moire_bbox]\n",
    "    \n",
    "    tiles = cut_img_to_tiles(\n",
    "        1 - np.array(ps_img)[:,:,3] / 255,\n",
    "        moire_bbox,\n",
    "        mask=max_mask if use_mask else None\n",
    "    )\n",
    "\n",
    "    return [(moire['img_name'],t) for t in tiles]"
   ]
  },
  {
   "cell_type": "code",
   "execution_count": null,
   "id": "5e367665-c31f-4309-a9a5-d68b1406e73f",
   "metadata": {
    "jupyter": {
     "source_hidden": true
    }
   },
   "outputs": [],
   "source": [
    "def get_real_non_moire_tiles( moire, moires, dotenv, con ):\n",
    "    job, variant_name, page, dpi = re.match(r'(.+?)\\.(.+?)\\.(.+)\\.4c_(\\d+).jpg', moire['img_name']).groups()\n",
    "    target_dpi = dotenv['TRAIN_DATA_DPI']\n",
    "    \n",
    "    ps_path = get_corresponding_ps_img_path( job, page, dotenv, con )\n",
    "    \n",
    "    if ps_path == None:\n",
    "        return []\n",
    "\n",
    "    # dpi wird aus dem PS-Bildnamen ausgelesen\n",
    "    dpi = re.match(r'.+\\.4c_(\\d+).jpg', ps_path.name).groups()[0]\n",
    "    dpi = int(dpi)\n",
    "    \n",
    "    ps_img = Image.open(ps_path)\n",
    "    \n",
    "    scale_factor_x = ps_img.size[0] / moire['original_width']\n",
    "    scale_factor_y = ps_img.size[1] / moire['original_height']\n",
    "    relevant_boxes = [[\n",
    "        round(m['value']['x'] * scale_factor_x),\n",
    "        round(m['value']['y'] * scale_factor_y),\n",
    "        round(m['value']['width'] * scale_factor_x),\n",
    "        round(m['value']['height'] * scale_factor_y)]\n",
    "        for m in moires\n",
    "        if m['img_name'] == moire['img_name']\n",
    "    ]\n",
    "                    \n",
    "    if dpi != target_dpi:\n",
    "        rescale_factor = target_dpi / dpi\n",
    "        ps_img = ps_img.resize((\n",
    "            round(ps_img.size[0] * rescale_factor),\n",
    "            round(ps_img.size[1] * rescale_factor)\n",
    "        ))\n",
    "        relevant_boxes = [\n",
    "            [round(val * rescale_factor) for val in rb]\n",
    "            for rb in relevant_boxes\n",
    "        ]\n",
    "\n",
    "    iterations = 0\n",
    "    tiles = []\n",
    "    while len(tiles) < 25 and iterations < 1000:\n",
    "        posX = random.randrange( ps_img.size[0] - IMG_SIZE[0] )\n",
    "        posY = random.randrange( ps_img.size[1] - IMG_SIZE[1] )\n",
    "\n",
    "        for rb in relevant_boxes:\n",
    "            intersection_box = [\n",
    "                max([posX, rb[0]]),\n",
    "                max([posY, rb[1]]),\n",
    "                min([posX + IMG_SIZE[0], rb[0]+rb[2]]),\n",
    "                min([posY + IMG_SIZE[1], rb[1]+rb[3]])\n",
    "            ]\n",
    "            intersection = (intersection_box[0] - intersection_box[2]) * (intersection_box[1] - intersection_box[3])\n",
    "\n",
    "            if intersection == 0:\n",
    "                tiles.append(\n",
    "                    1 - np.array(ps_img.crop((\n",
    "                        posX,\n",
    "                        posY,\n",
    "                        posX + IMG_SIZE[0],\n",
    "                        posY + IMG_SIZE[1]\n",
    "                    )))[:,:,3] / 255\n",
    "                )\n",
    "        \n",
    "        iterations += 1\n",
    "\n",
    "    return [(moire['img_name'],t) for t in tiles]"
   ]
  },
  {
   "cell_type": "code",
   "execution_count": null,
   "id": "72b67f29-e08d-4647-a829-3145ce93f3a3",
   "metadata": {},
   "outputs": [],
   "source": [
    "real_moire_tiles = []\n",
    "real_non_moire_tiles = []\n",
    "\n",
    "for m in tqdm(moires):\n",
    "    real_moire_tiles += process_real_moire(m, dotenv, con)\n",
    "    real_non_moire_tiles += get_real_non_moire_tiles( m, moires, dotenv, con )"
   ]
  },
  {
   "cell_type": "code",
   "execution_count": null,
   "id": "f043e65c-e37b-4e50-86f7-cc7d721ee0ad",
   "metadata": {},
   "outputs": [],
   "source": [
    "len(real_moire_tiles), len(real_non_moire_tiles)"
   ]
  },
  {
   "cell_type": "code",
   "execution_count": null,
   "id": "a2e27108-339d-4362-b208-09ca8eb0e42c",
   "metadata": {},
   "outputs": [],
   "source": [
    "tiles = [(t[0],None,t[1]) for t in real_moire_tiles] + [(t[0],t[1],None) for t in real_non_moire_tiles]\n",
    "write_tiles( tiles, 'real_val' )"
   ]
  }
 ],
 "metadata": {
  "kernelspec": {
   "display_name": "Python 3 (ipykernel)",
   "language": "python",
   "name": "python3"
  },
  "language_info": {
   "codemirror_mode": {
    "name": "ipython",
    "version": 3
   },
   "file_extension": ".py",
   "mimetype": "text/x-python",
   "name": "python",
   "nbconvert_exporter": "python",
   "pygments_lexer": "ipython3",
   "version": "3.10.11"
  }
 },
 "nbformat": 4,
 "nbformat_minor": 5
}
