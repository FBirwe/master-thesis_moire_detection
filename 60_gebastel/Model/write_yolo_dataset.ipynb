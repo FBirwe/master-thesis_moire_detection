{
 "cells": [
  {
   "cell_type": "code",
   "execution_count": 1,
   "id": "dc7f9642-6dfd-4916-b7be-8538855717e1",
   "metadata": {},
   "outputs": [],
   "source": [
    "import sys\n",
    "sys.path.append('../../30_data_tools/')\n",
    "sys.path.append('../process_masks/')"
   ]
  },
  {
   "cell_type": "code",
   "execution_count": 2,
   "id": "9e1ee079-1e2d-4a21-aa25-92087893f8fa",
   "metadata": {},
   "outputs": [],
   "source": [
    "from pathlib import Path\n",
    "import random"
   ]
  },
  {
   "cell_type": "code",
   "execution_count": 3,
   "id": "602cd8ca-97b7-4b97-aa3b-9f046ae4e1eb",
   "metadata": {},
   "outputs": [],
   "source": [
    "from PIL import Image\n",
    "import numpy as np\n",
    "from tqdm import tqdm\n",
    "from sklearn.model_selection import train_test_split"
   ]
  },
  {
   "cell_type": "code",
   "execution_count": 4,
   "id": "8e459aa9-3b77-41d0-847e-c9c72f16a3b3",
   "metadata": {},
   "outputs": [],
   "source": [
    "from load_dataset import get_available_moires, get_train_data, get_moire_path, get_non_moire_path"
   ]
  },
  {
   "cell_type": "code",
   "execution_count": 5,
   "id": "e5563485-d157-4d53-8a47-41019f60489f",
   "metadata": {},
   "outputs": [],
   "source": [
    "from helper import load_dotenv\n",
    "from get_labelstudio_data import get_moires_of_project\n",
    "from mask_functions import load_masks, get_whole_mask"
   ]
  },
  {
   "cell_type": "code",
   "execution_count": 6,
   "id": "87358841-4849-465a-8821-5271969a839d",
   "metadata": {},
   "outputs": [],
   "source": [
    "import re"
   ]
  },
  {
   "cell_type": "code",
   "execution_count": 7,
   "id": "baf7d609-0aa2-4a90-b426-d3fa35bcec02",
   "metadata": {},
   "outputs": [],
   "source": [
    "dotenv = load_dotenv()"
   ]
  },
  {
   "cell_type": "code",
   "execution_count": 8,
   "id": "b690df52-d165-4e91-abd3-06a4c3b4dba8",
   "metadata": {},
   "outputs": [],
   "source": [
    "IMG_SIZE = (\n",
    "    280,\n",
    "    280\n",
    ")\n",
    "MIN_MASK_PARTIAL = 0.5"
   ]
  },
  {
   "cell_type": "code",
   "execution_count": 9,
   "id": "5720276b-1b4b-48f0-950b-463aee584a89",
   "metadata": {},
   "outputs": [],
   "source": [
    "DATASET_DIR = Path('./dataset/')"
   ]
  },
  {
   "cell_type": "code",
   "execution_count": 10,
   "id": "40fa1cec-93b8-4417-adcd-ecd306db748f",
   "metadata": {},
   "outputs": [],
   "source": [
    "def get_masks_path( row ):\n",
    "    return dotenv['DATA_DIR'] / row.job / row.variant_name / f\"{row.pdf_filename}.masks.pkl\""
   ]
  },
  {
   "cell_type": "code",
   "execution_count": 11,
   "id": "9a6d6fa1-9988-4a4c-953c-4b7f7525ce6f",
   "metadata": {},
   "outputs": [],
   "source": [
    "def get_img_pair( row, dotenv ):\n",
    "    non_moire_path = row.non_moire_path\n",
    "    moire_path = row.moire_path\n",
    "    \n",
    "    non_moire_img_dpi = int(re.search(r'(\\d+)dpi', row.variant_name).groups()[0])\n",
    "    moire_img_dpi = int(re.match(r'.+\\.4c_(\\d+)$', row.moire_path.name.replace( row.moire_path.suffix, '' )).groups()[0])\n",
    "    target_dpi = dotenv['TRAIN_DATA_DPI']\n",
    "    \n",
    "    non_moire_img = Image.open( non_moire_path )\n",
    "    if target_dpi != non_moire_img_dpi:\n",
    "        non_moire_img = non_moire_img.resize((\n",
    "            round(non_moire_img.size[0] * (target_dpi / non_moire_img_dpi)),\n",
    "            round(non_moire_img.size[1] * (target_dpi / non_moire_img_dpi))\n",
    "        ))\n",
    "        \n",
    "    moire_img = Image.open( moire_path )\n",
    "    original_size = moire_img.size\n",
    "    if target_dpi != moire_img_dpi:\n",
    "        moire_img = moire_img.resize((\n",
    "            round(moire_img.size[0] * (target_dpi / moire_img_dpi)),\n",
    "            round(moire_img.size[1] * (target_dpi / moire_img_dpi))\n",
    "        ))\n",
    "    moire_img = moire_img.resize(non_moire_img.size)\n",
    "\n",
    "    rescale_factor = [\n",
    "        moire_img.size[0] / original_size[0],\n",
    "        moire_img.size[1] / original_size[1]\n",
    "    ]\n",
    "    \n",
    "    bbox = [int(val) for val in row.bbox.split(';')]\n",
    "    bbox = [\n",
    "        int(round(bbox[0] * rescale_factor[0])),\n",
    "        int(round(bbox[1] * rescale_factor[1])),\n",
    "        int(round(bbox[2] * rescale_factor[0])),\n",
    "        int(round(bbox[3] * rescale_factor[1]))\n",
    "    ]\n",
    "    \n",
    "    cropped_non_moire_img = non_moire_img.crop((\n",
    "        bbox[0],\n",
    "        bbox[1],\n",
    "        bbox[0] + bbox[2],\n",
    "        bbox[1] + bbox[3]\n",
    "    ))\n",
    "    cropped_moire_img = moire_img.crop((\n",
    "        bbox[0],\n",
    "        bbox[1],\n",
    "        bbox[0] + bbox[2],\n",
    "        bbox[1] + bbox[3]\n",
    "    ))\n",
    "\n",
    "    cropped_non_moire_img = 1 - np.array(cropped_non_moire_img)[:,:,3] / 255\n",
    "    cropped_moire_img = 1 - np.array(cropped_moire_img)[:,:,3] / 255\n",
    "    \n",
    "    return cropped_non_moire_img, cropped_moire_img"
   ]
  },
  {
   "cell_type": "code",
   "execution_count": 12,
   "id": "e6995bad-dc79-400c-91d5-174a00cce997",
   "metadata": {},
   "outputs": [],
   "source": [
    "def cut_img_to_tiles( img, mask ):\n",
    "    # convolve over image\n",
    "    out = []\n",
    "    conv_size = IMG_SIZE\n",
    "    step_horizontal = int(round(conv_size[0] / 2))\n",
    "    step_vertical = int(round(conv_size[1] / 2))\n",
    "\n",
    "    # falls das Bild in mindestens einer Dimension zu klein ist\n",
    "    if img.shape[1] < conv_size[0]:\n",
    "        zero_img = np.zeros((\n",
    "            img.shape[0],\n",
    "            conv_size[0]\n",
    "        )).astype('float32')\n",
    "        \n",
    "        zero_img[\n",
    "            :,\n",
    "            :img.shape[1]\n",
    "        ] = img\n",
    "        img = zero_img.copy()\n",
    "\n",
    "    if img.shape[0] < conv_size[1]:\n",
    "        zero_img = np.zeros((\n",
    "            conv_size[1],\n",
    "            img.shape[1]\n",
    "        )).astype('float32')\n",
    "\n",
    "        zero_img[\n",
    "            :img.shape[0],\n",
    "            :\n",
    "        ] = img\n",
    "        img = zero_img.copy()\n",
    "\n",
    "    \n",
    "    for left in range(0, img.shape[1] - step_horizontal, step_horizontal):\n",
    "        for top in range(0, img.shape[0] - step_vertical, step_vertical):\n",
    "            \n",
    "            if left + conv_size[0] > img.shape[1]:\n",
    "                left = img.shape[1] - conv_size[0]\n",
    "\n",
    "            if top + conv_size[1] > img.shape[0]:\n",
    "                top = img.shape[0] - conv_size[1]\n",
    "\n",
    "            if mask:\n",
    "                mask_partial = mask['mask'][\n",
    "                    top:top+conv_size[1],\n",
    "                    left:left+conv_size[0]\n",
    "                ].mean()\n",
    "    \n",
    "                if mask_partial > MIN_MASK_PARTIAL:\n",
    "                    out.append(\n",
    "                        img[\n",
    "                            top:top+conv_size[1],\n",
    "                            left:left+conv_size[0]\n",
    "                        ]\n",
    "                    )\n",
    "            else:\n",
    "                out.append(\n",
    "                    img[\n",
    "                        top:top+conv_size[1],\n",
    "                        left:left+conv_size[0]\n",
    "                    ]\n",
    "                )\n",
    "                \n",
    "    return out"
   ]
  },
  {
   "cell_type": "code",
   "execution_count": 25,
   "id": "84b5ad61-5ac3-4dba-be77-4b89a541eb7d",
   "metadata": {},
   "outputs": [],
   "source": [
    "def process_sample( row, dotenv ):\n",
    "    bbox = [int(val) for val in row.bbox.split(';')]\n",
    "    mask = [m for m in load_masks( get_masks_path( row ) ) if m['bbox'] == bbox][0]\n",
    "    non_moire_img_dpi = int(re.search(r'(\\d+)dpi', row.variant_name).groups()[0])\n",
    "    \n",
    "    non_moire_img, moire_img = get_img_pair( row, dotenv )\n",
    "\n",
    "    moire_samples = [img for img in cut_img_to_tiles( moire_img, mask=mask)]\n",
    "    non_moire_samples = [img for img in cut_img_to_tiles( non_moire_img, mask=mask)]\n",
    "\n",
    "    return [(non_moire_samples[i], moire_samples[i]) for i in range(len(moire_samples))]"
   ]
  },
  {
   "cell_type": "code",
   "execution_count": 14,
   "id": "78177fa1-78d3-475a-bd15-c29edf6eb40a",
   "metadata": {},
   "outputs": [],
   "source": [
    "def test_train_val_split( data, labels, test_size=.2, val_size=.1 ):\n",
    "    idx_list = [i for i in range(len(data))]\n",
    "    random.shuffle(idx_list)\n",
    "    test_limiter = round(len(idx_list) * test_size)\n",
    "    val_limiter = test_limiter + round(len(idx_list) * val_size)\n",
    "\n",
    "    train_data = [data[idx] for idx in idx_list[val_limiter:]]\n",
    "    train_labels = [labels[idx] for idx in idx_list[val_limiter:]]\n",
    "\n",
    "    test_data = [data[idx] for idx in idx_list[:test_limiter]]\n",
    "    test_labels = [labels[idx] for idx in idx_list[:test_limiter]]\n",
    "\n",
    "    val_data = [data[idx] for idx in idx_list[test_limiter:val_limiter]]\n",
    "    val_labels = [labels[idx] for idx in idx_list[test_limiter:val_limiter]]\n",
    "\n",
    "    return train_data, train_labels, test_data, test_labels, val_data, val_labels"
   ]
  },
  {
   "cell_type": "code",
   "execution_count": 15,
   "id": "08c66b74-ea2e-4434-9693-522e6cd86c97",
   "metadata": {},
   "outputs": [],
   "source": [
    "def write_tiles( data, set_name ):\n",
    "    set_dir = DATASET_DIR / set_name\n",
    "    if set_dir.exists() == False:\n",
    "        set_dir.mkdir()\n",
    "\n",
    "    for i in tqdm(range(len(data))):\n",
    "        entry = data[i]\n",
    "        \n",
    "        for j in range(len(entry)):\n",
    "            parent_dir_name = 'no_moire' if j == 0 else 'moire'\n",
    "            parent_dir = set_dir / parent_dir_name\n",
    "\n",
    "            if parent_dir.exists() == False:\n",
    "                parent_dir.mkdir()\n",
    "            \n",
    "            out_path = parent_dir / f\"{str(i).zfill(4)}.jpg\"\n",
    "        \n",
    "            img = Image.fromarray( np.uint8(data[i] * 255) ).convert('RGB')\n",
    "            img.save( out_path, progressive=True )"
   ]
  },
  {
   "cell_type": "code",
   "execution_count": 26,
   "id": "3365426c-3b8a-4f13-8abd-f1ad8473ce9f",
   "metadata": {},
   "outputs": [],
   "source": [
    "def generate_tiles( sample, set_name ):\n",
    "    combined_data = []\n",
    "\n",
    "    for i in tqdm(range(sample.shape[0])):\n",
    "        row = sample.iloc[i]\n",
    "        combined_data += process_sample( row, dotenv )\n",
    "\n",
    "    write_tiles( combined_data, set_name )"
   ]
  },
  {
   "cell_type": "code",
   "execution_count": 17,
   "id": "e10d4867-86f2-43d1-8bd5-b5ca98299933",
   "metadata": {},
   "outputs": [],
   "source": [
    "from get_labelstudio_data import get_results_of_project\n",
    "import pandas as pd\n",
    "import sqlite3"
   ]
  },
  {
   "cell_type": "code",
   "execution_count": 18,
   "id": "be482074-26c2-4a99-ae00-2f42dcafc293",
   "metadata": {},
   "outputs": [],
   "source": [
    "def get_available_moires():\n",
    "    # results laden\n",
    "    dotenv = load_dotenv()\n",
    "    moire_results = [r for r in get_results_of_project(2) if 'checked_moire' in r['rectanglelabels']]\n",
    "    \n",
    "    results_frame = pd.DataFrame(\n",
    "        [\n",
    "            (\n",
    "                r['img_name'],\n",
    "                \";\".join([\n",
    "                    str(r['value']['x']),\n",
    "                    str(r['value']['y']),\n",
    "                    str(r['value']['width']),\n",
    "                    str(r['value']['height'])\n",
    "                ]),\n",
    "                r['rectanglelabels'][0]\n",
    "            )\n",
    "            for r in moire_results\n",
    "        ],\n",
    "        columns=['img_name','bbox','label']\n",
    "    )\n",
    "    \n",
    "    # masken laden\n",
    "    con = sqlite3.connect( dotenv['DB_PATH'] )\n",
    "    \n",
    "    masks = pd.read_sql(\n",
    "        'SELECT * FROM mask',\n",
    "        con\n",
    "    )\n",
    "    \n",
    "    masks.loc[\n",
    "        :,\n",
    "        'img_name'\n",
    "    ] = masks.apply(lambda val: f\"{ val.job }.{ val.pdf_filename }.{ val.method }.{ val.idx }.4c_600.jpg\", axis=1)\n",
    "\n",
    "    # Frames mergen\n",
    "    merged = pd.merge(\n",
    "        masks,\n",
    "        results_frame,\n",
    "        how=\"left\",\n",
    "        on=['img_name','bbox']\n",
    "    )\n",
    "    \n",
    "    merged = merged.loc[\n",
    "        merged.label == 'checked_moire'\n",
    "    ]\n",
    "    \n",
    "    return merged"
   ]
  },
  {
   "cell_type": "code",
   "execution_count": 19,
   "id": "5bb873f2-8f06-47d6-b29a-5a08131588ac",
   "metadata": {},
   "outputs": [
    {
     "ename": "ZeroDivisionError",
     "evalue": "division by zero",
     "output_type": "error",
     "traceback": [
      "\u001b[0;31m---------------------------------------------------------------------------\u001b[0m",
      "\u001b[0;31mZeroDivisionError\u001b[0m                         Traceback (most recent call last)",
      "Cell \u001b[0;32mIn[19], line 1\u001b[0m\n\u001b[0;32m----> 1\u001b[0m \u001b[38;5;241;43m0\u001b[39;49m\u001b[43m \u001b[49m\u001b[38;5;241;43m/\u001b[39;49m\u001b[43m \u001b[49m\u001b[38;5;241;43m0\u001b[39;49m\n",
      "\u001b[0;31mZeroDivisionError\u001b[0m: division by zero"
     ]
    }
   ],
   "source": [
    "0 / 0"
   ]
  },
  {
   "cell_type": "code",
   "execution_count": 20,
   "id": "2e5909c5-d606-4e23-9b18-41b2554f3415",
   "metadata": {},
   "outputs": [],
   "source": [
    "df = get_available_moires()\n",
    "df.loc[\n",
    "    :,\n",
    "    'non_moire_path'\n",
    "] = df.apply(lambda row: (dotenv['DATA_DIR'] / row.job / 'ps2400dpi150lpi' / f\"{ row.pdf_filename }.4c.4c_600.jpg\"), axis=1)\n",
    "\n",
    "df.loc[\n",
    "    :,\n",
    "    'moire_path'\n",
    "] = df.apply(lambda row: (dotenv['GENERIC_GENERATED_DATA_DIR'] / row.img_name), axis=1)\n",
    "\n",
    "df = df.loc[\n",
    "    df.apply(lambda row: row.moire_path.exists() and row.non_moire_path.exists(), axis=1)\n",
    "]"
   ]
  },
  {
   "cell_type": "code",
   "execution_count": 21,
   "id": "a36c0b40-f41a-40c5-9ff3-a5ebd1f2f6ee",
   "metadata": {},
   "outputs": [
    {
     "data": {
      "text/plain": [
       "(304, 17)"
      ]
     },
     "execution_count": 21,
     "metadata": {},
     "output_type": "execute_result"
    }
   ],
   "source": [
    "df.shape"
   ]
  },
  {
   "cell_type": "code",
   "execution_count": 22,
   "id": "0033fcfb-cff8-4a57-8577-23848efd02a8",
   "metadata": {},
   "outputs": [],
   "source": [
    "TEST_SIZE = .2\n",
    "VAL_SIZE = .1"
   ]
  },
  {
   "cell_type": "code",
   "execution_count": 23,
   "id": "a55d1460-a246-4d81-aac5-86bacaa15dc8",
   "metadata": {},
   "outputs": [],
   "source": [
    "sample = df.sample(frac=1)\n",
    "test_limiter = round(sample.shape[0] * TEST_SIZE)\n",
    "val_limiter = test_limiter + round(sample.shape[0] * VAL_SIZE)\n",
    "\n",
    "test_rows = sample.iloc[:test_limiter]\n",
    "val_rows = sample.iloc[test_limiter:val_limiter]\n",
    "train_rows = sample.iloc[val_limiter:]"
   ]
  },
  {
   "cell_type": "code",
   "execution_count": 24,
   "id": "768c6dad-8a34-4a81-9fea-61d922ecdb4a",
   "metadata": {},
   "outputs": [
    {
     "name": "stderr",
     "output_type": "stream",
     "text": [
      " 53%|█████████████████████▊                   | 113/213 [04:07<04:11,  2.51s/it]/Users/frederic.birwe/Library/Python/3.10/lib/python/site-packages/PIL/Image.py:3182: DecompressionBombWarning: Image size (127715826 pixels) exceeds limit of 89478485 pixels, could be decompression bomb DOS attack.\n",
      "  warnings.warn(\n",
      "100%|█████████████████████████████████████████| 213/213 [08:06<00:00,  2.29s/it]\n",
      "100%|██████████████████████████████████████| 3538/3538 [00:12<00:00, 287.02it/s]\n",
      "100%|███████████████████████████████████████████| 61/61 [02:27<00:00,  2.41s/it]\n",
      "100%|██████████████████████████████████████| 1010/1010 [00:03<00:00, 319.92it/s]\n",
      "100%|███████████████████████████████████████████| 30/30 [01:15<00:00,  2.53s/it]\n",
      "100%|████████████████████████████████████████| 646/646 [00:01<00:00, 327.05it/s]\n"
     ]
    }
   ],
   "source": [
    "generate_tiles( train_rows, 'train' )\n",
    "generate_tiles( test_rows, 'test' )\n",
    "generate_tiles( val_rows, 'val' )"
   ]
  },
  {
   "cell_type": "markdown",
   "id": "54ef77d2-947c-4168-b27a-fcc9c9f53c73",
   "metadata": {},
   "source": [
    "# Real Validation schreiben"
   ]
  },
  {
   "cell_type": "code",
   "execution_count": null,
   "id": "f9271ac7-b067-4679-93e7-8fed5415cb6c",
   "metadata": {},
   "outputs": [],
   "source": [
    "def get_moire_mask_path( img_name ):\n",
    "    jobname, filename = re.match(r'(.+?)\\..+?\\.(.+)\\..+?\\.jpg', img_name).groups()\n",
    "    \n",
    "    return dotenv['DATA_DIR'] / jobname / \"halftone600dpi\" / f\"{ filename }.masks.pkl\""
   ]
  },
  {
   "cell_type": "code",
   "execution_count": null,
   "id": "9ff20fa9-cce8-491c-8409-e1156c93264b",
   "metadata": {},
   "outputs": [],
   "source": [
    "def calc_bbox_iou( bbox_a, bbox_b ):\n",
    "    intersection_box = [\n",
    "        max([bbox_a[0], bbox_b[0]]),\n",
    "        max([bbox_a[1], bbox_b[1]]),\n",
    "        min([bbox_a[0]+bbox_a[2], bbox_b[0]+bbox_b[2]]),\n",
    "        min([bbox_a[1]+bbox_a[3], bbox_b[1]+bbox_b[3]])\n",
    "    ]\n",
    "    intersection = (intersection_box[0] - intersection_box[2]) * (intersection_box[1] - intersection_box[3])\n",
    "\n",
    "    union_box = [\n",
    "        min([bbox_a[0], bbox_b[0]]),\n",
    "        min([bbox_a[1], bbox_b[1]]),\n",
    "        max([bbox_a[0]+bbox_a[2], bbox_b[0]+bbox_b[2]]),\n",
    "        max([bbox_a[1]+bbox_a[3], bbox_b[1]+bbox_b[3]])\n",
    "    ]\n",
    "    union = (union_box[0] - union_box[2]) * (union_box[1] - union_box[3])\n",
    "\n",
    "    if intersection < 0:\n",
    "        return 0\n",
    "    \n",
    "    return intersection / union"
   ]
  },
  {
   "cell_type": "code",
   "execution_count": null,
   "id": "6102b627-b7b9-4c2a-a131-44ca9c252c85",
   "metadata": {},
   "outputs": [],
   "source": [
    "MIN_IOU = 0.9"
   ]
  },
  {
   "cell_type": "code",
   "execution_count": null,
   "id": "caccb252-27e6-433d-a682-449fdcb5627b",
   "metadata": {},
   "outputs": [],
   "source": [
    "def process_real_moire( moire ):\n",
    "    mask_path = get_moire_mask_path( moire['img_name'] )\n",
    "    img_path = dotenv['LABEL_STUDIO_DIR'] / moire['img_name']\n",
    "    use_mask = False\n",
    "\n",
    "    if mask_path.exists():\n",
    "        masks = load_masks(mask_path)\n",
    "        max_iou = -1\n",
    "        max_mask = None\n",
    "        \n",
    "        for mask in masks:\n",
    "            iou = calc_bbox_iou(\n",
    "                [moire['value']['x'],moire['value']['y'],moire['value']['width'],moire['value']['height']],\n",
    "                [val / 2 for val in mask['bbox']]\n",
    "            )\n",
    "            \n",
    "            if iou > MIN_IOU and iou > max_iou:\n",
    "                max_iou = iou\n",
    "                max_mask = mask\n",
    "                use_mask = True\n",
    "\n",
    "    img = Image.open(img_path)\n",
    "    cropped_img = img.crop((\n",
    "        moire['value']['x'],\n",
    "        moire['value']['y'],\n",
    "        moire['value']['x'] + moire['value']['width'],\n",
    "        moire['value']['y'] + moire['value']['height']\n",
    "    ))\n",
    "    \n",
    "    tiles = cut_img_to_tiles(\n",
    "        1 - np.array(cropped_img)[:,:,3] / 255,\n",
    "        mask=max_mask if use_mask else None\n",
    "    )\n",
    "\n",
    "    return tiles"
   ]
  },
  {
   "cell_type": "code",
   "execution_count": null,
   "id": "72b67f29-e08d-4647-a829-3145ce93f3a3",
   "metadata": {},
   "outputs": [],
   "source": [
    "tiles = []\n",
    "for m in tqdm(moires):\n",
    "    tiles += process_real_moire(m)"
   ]
  },
  {
   "cell_type": "code",
   "execution_count": null,
   "id": "468544cb-5ac8-47dd-ab57-ccf2e4d78b39",
   "metadata": {},
   "outputs": [],
   "source": [
    "len(tiles)"
   ]
  },
  {
   "cell_type": "code",
   "execution_count": null,
   "id": "82e9a12c-85dc-41ed-863f-c0fff7c3336a",
   "metadata": {},
   "outputs": [],
   "source": [
    "write_tiles( tiles, [1 for t in tiles], 'real_val' )"
   ]
  }
 ],
 "metadata": {
  "kernelspec": {
   "display_name": "Python 3 (ipykernel)",
   "language": "python",
   "name": "python3"
  },
  "language_info": {
   "codemirror_mode": {
    "name": "ipython",
    "version": 3
   },
   "file_extension": ".py",
   "mimetype": "text/x-python",
   "name": "python",
   "nbconvert_exporter": "python",
   "pygments_lexer": "ipython3",
   "version": "3.10.11"
  }
 },
 "nbformat": 4,
 "nbformat_minor": 5
}
