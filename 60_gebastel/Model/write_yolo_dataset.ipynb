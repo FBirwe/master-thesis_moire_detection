{
 "cells": [
  {
   "cell_type": "code",
   "execution_count": null,
   "id": "dc7f9642-6dfd-4916-b7be-8538855717e1",
   "metadata": {},
   "outputs": [],
   "source": [
    "import sys\n",
    "sys.path.append('../../30_data_tools/')\n",
    "sys.path.append('../process_masks/')"
   ]
  },
  {
   "cell_type": "code",
   "execution_count": null,
   "id": "9e1ee079-1e2d-4a21-aa25-92087893f8fa",
   "metadata": {},
   "outputs": [],
   "source": [
    "from pathlib import Path\n",
    "import random"
   ]
  },
  {
   "cell_type": "code",
   "execution_count": 3,
   "id": "602cd8ca-97b7-4b97-aa3b-9f046ae4e1eb",
   "metadata": {},
   "outputs": [],
   "source": [
    "from PIL import Image\n",
    "import numpy as np\n",
    "from tqdm import tqdm\n",
    "from sklearn.model_selection import train_test_split"
   ]
  },
  {
   "cell_type": "code",
   "execution_count": 4,
   "id": "8e459aa9-3b77-41d0-847e-c9c72f16a3b3",
   "metadata": {},
   "outputs": [],
   "source": [
    "from load_dataset import get_available_moires, get_train_data, get_moire_path, get_non_moire_path"
   ]
  },
  {
   "cell_type": "code",
   "execution_count": 5,
   "id": "e5563485-d157-4d53-8a47-41019f60489f",
   "metadata": {},
   "outputs": [],
   "source": [
    "from helper import load_dotenv\n",
    "from mask_functions import load_masks, get_whole_mask"
   ]
  },
  {
   "cell_type": "code",
   "execution_count": 6,
   "id": "baf7d609-0aa2-4a90-b426-d3fa35bcec02",
   "metadata": {},
   "outputs": [],
   "source": [
    "dotenv = load_dotenv()"
   ]
  },
  {
   "cell_type": "code",
   "execution_count": 7,
   "id": "b690df52-d165-4e91-abd3-06a4c3b4dba8",
   "metadata": {},
   "outputs": [],
   "source": [
    "IMG_SIZE = (\n",
    "    280,\n",
    "    280\n",
    ")\n",
    "MIN_MASK_PARTIAL = 0.5"
   ]
  },
  {
   "cell_type": "code",
   "execution_count": 8,
   "id": "40fa1cec-93b8-4417-adcd-ecd306db748f",
   "metadata": {},
   "outputs": [],
   "source": [
    "def get_masks_path( row ):\n",
    "    return row.img_path.parent / row.img_path.name.replace('.4c.jpg','.masks.pkl')"
   ]
  },
  {
   "cell_type": "code",
   "execution_count": 9,
   "id": "9a6d6fa1-9988-4a4c-953c-4b7f7525ce6f",
   "metadata": {},
   "outputs": [],
   "source": [
    "def get_img_pair( row, dotenv ):\n",
    "\n",
    "    non_moire_path = get_non_moire_path( row, dotenv )    \n",
    "    moire_path = get_moire_path( row, dotenv )    \n",
    "    \n",
    "    non_moire_img = Image.open( non_moire_path )\n",
    "    moire_img = Image.open( moire_path )\n",
    "    rescale_factor = (\n",
    "        non_moire_img.size[0] / moire_img.size[0],\n",
    "        non_moire_img.size[1] / moire_img.size[1]\n",
    "    )\n",
    "    moire_img = moire_img.resize(non_moire_img.size)\n",
    "\n",
    "    bbox = [\n",
    "        int(round(row.bbox[0] * rescale_factor[0])),\n",
    "        int(round(row.bbox[1] * rescale_factor[1])),\n",
    "        int(round(row.bbox[2] * rescale_factor[0])),\n",
    "        int(round(row.bbox[3] * rescale_factor[1]))\n",
    "    ]\n",
    "    \n",
    "    cropped_non_moire_img = non_moire_img.crop((\n",
    "        bbox[0],\n",
    "        bbox[1],\n",
    "        bbox[0] + bbox[2],\n",
    "        bbox[1] + bbox[3]\n",
    "    ))\n",
    "    cropped_moire_img = moire_img.crop((\n",
    "        bbox[0],\n",
    "        bbox[1],\n",
    "        bbox[0] + bbox[2],\n",
    "        bbox[1] + bbox[3]\n",
    "    ))\n",
    "\n",
    "    cropped_non_moire_img = 1 - np.array(cropped_non_moire_img)[:,:,3] / 255\n",
    "    cropped_moire_img = 1 - np.array(cropped_moire_img)[:,:,3] / 255\n",
    "    \n",
    "    return cropped_non_moire_img, cropped_moire_img"
   ]
  },
  {
   "cell_type": "code",
   "execution_count": 10,
   "id": "84b5ad61-5ac3-4dba-be77-4b89a541eb7d",
   "metadata": {},
   "outputs": [],
   "source": [
    "def process_sample( row, dotenv ):\n",
    "    mask = [m for m in load_masks( get_masks_path( row ) ) if m['bbox'] == row.bbox][0]\n",
    "    moire_path = get_moire_path( row, dotenv )\n",
    "\n",
    "    non_moire_img, moire_img = get_img_pair( row, dotenv )\n",
    "\n",
    "    # convolve over image\n",
    "    out = []\n",
    "    conv_size = IMG_SIZE\n",
    "    step_horizontal = int(round(conv_size[0] / 2))\n",
    "    step_vertical = int(round(conv_size[1] / 2))\n",
    "\n",
    "    # falls das Bild in mindestens einer Dimension zu klein ist\n",
    "    if moire_img.shape[1] < conv_size[0]:\n",
    "        zero_img = np.zeros((\n",
    "            moire_img.shape[0],\n",
    "            conv_size[0]\n",
    "        )).astype('float32')\n",
    "        \n",
    "        zero_img[\n",
    "            :,\n",
    "            :moire_img.shape[1]\n",
    "        ] = moire_img\n",
    "        moire_img = zero_img.copy()\n",
    "        zero_img[\n",
    "            :,\n",
    "            :non_moire_img.shape[1]\n",
    "        ] = non_moire_img\n",
    "        non_moire_img = zero_img.copy()\n",
    "\n",
    "    if moire_img.shape[0] < conv_size[1]:\n",
    "        zero_img = np.zeros((\n",
    "            conv_size[1],\n",
    "            moire_img.shape[1]\n",
    "        )).astype('float32')\n",
    "\n",
    "        zero_img[\n",
    "            :moire_img.shape[0],\n",
    "            :\n",
    "        ] = moire_img\n",
    "        moire_img = zero_img.copy()\n",
    "        zero_img[\n",
    "            :non_moire_img.shape[0],\n",
    "            :\n",
    "        ] = non_moire_img\n",
    "        non_moire_img = zero_img.copy()\n",
    "    \n",
    "    \n",
    "    for left in range(0, moire_img.shape[1] - step_horizontal, step_horizontal):\n",
    "        for top in range(0, moire_img.shape[0] - step_vertical, step_vertical):\n",
    "            if left + conv_size[0] > moire_img.shape[1]:\n",
    "                left = moire_img.shape[1] - conv_size[0]\n",
    "\n",
    "            if top + conv_size[1] > moire_img.shape[0]:\n",
    "                top = moire_img.shape[0] - conv_size[1]\n",
    "            \n",
    "            mask_partial = mask['mask'][\n",
    "                top:top+conv_size[1],\n",
    "                left:left+conv_size[0]\n",
    "            ].mean()\n",
    "\n",
    "            if mask_partial > MIN_MASK_PARTIAL:\n",
    "                out.append((\n",
    "                    1,\n",
    "                    moire_img[\n",
    "                        top:top+conv_size[1],\n",
    "                        left:left+conv_size[0]\n",
    "                    ]\n",
    "                ))\n",
    "\n",
    "                out.append((\n",
    "                    0,\n",
    "                    non_moire_img[\n",
    "                        top:top+conv_size[1],\n",
    "                        left:left+conv_size[0]\n",
    "                    ]\n",
    "                ))\n",
    "\n",
    "    return out"
   ]
  },
  {
   "cell_type": "code",
   "execution_count": 11,
   "id": "78177fa1-78d3-475a-bd15-c29edf6eb40a",
   "metadata": {},
   "outputs": [],
   "source": [
    "def test_train_val_split( data, labels, test_size=.2, val_size=.1 ):\n",
    "    idx_list = random.shuffle([i for i in range(len(data))])"
   ]
  },
  {
   "cell_type": "code",
   "execution_count": 12,
   "id": "2e5909c5-d606-4e23-9b18-41b2554f3415",
   "metadata": {},
   "outputs": [],
   "source": [
    "df = get_available_moires()"
   ]
  },
  {
   "cell_type": "code",
   "execution_count": 13,
   "id": "5bb873f2-8f06-47d6-b29a-5a08131588ac",
   "metadata": {},
   "outputs": [
    {
     "ename": "ZeroDivisionError",
     "evalue": "division by zero",
     "output_type": "error",
     "traceback": [
      "\u001b[0;31m---------------------------------------------------------------------------\u001b[0m",
      "\u001b[0;31mZeroDivisionError\u001b[0m                         Traceback (most recent call last)",
      "Cell \u001b[0;32mIn[13], line 1\u001b[0m\n\u001b[0;32m----> 1\u001b[0m \u001b[38;5;241;43m0\u001b[39;49m\u001b[43m \u001b[49m\u001b[38;5;241;43m/\u001b[39;49m\u001b[43m \u001b[49m\u001b[38;5;241;43m0\u001b[39;49m\n",
      "\u001b[0;31mZeroDivisionError\u001b[0m: division by zero"
     ]
    }
   ],
   "source": [
    "0 / 0"
   ]
  },
  {
   "cell_type": "code",
   "execution_count": 14,
   "id": "a55d1460-a246-4d81-aac5-86bacaa15dc8",
   "metadata": {},
   "outputs": [],
   "source": [
    "sample = df.sample(n=50)"
   ]
  },
  {
   "cell_type": "code",
   "execution_count": null,
   "id": "7f027c3f-7d30-4bfa-8320-f308e450695b",
   "metadata": {},
   "outputs": [
    {
     "name": "stderr",
     "output_type": "stream",
     "text": [
      "  4%|██▍                                                         | 2/50 [00:00<00:13,  3.51it/s]"
     ]
    },
    {
     "name": "stdout",
     "output_type": "stream",
     "text": [
      "float32\n"
     ]
    },
    {
     "name": "stderr",
     "output_type": "stream",
     "text": [
      "  6%|███▌                                                        | 3/50 [00:01<00:18,  2.48it/s]"
     ]
    },
    {
     "name": "stdout",
     "output_type": "stream",
     "text": [
      "float32\n"
     ]
    },
    {
     "name": "stderr",
     "output_type": "stream",
     "text": [
      "  8%|████▊                                                       | 4/50 [00:01<00:24,  1.86it/s]"
     ]
    },
    {
     "name": "stdout",
     "output_type": "stream",
     "text": [
      "float32\n"
     ]
    },
    {
     "name": "stderr",
     "output_type": "stream",
     "text": [
      " 12%|███████▏                                                    | 6/50 [00:02<00:19,  2.30it/s]"
     ]
    },
    {
     "name": "stdout",
     "output_type": "stream",
     "text": [
      "float32\n"
     ]
    },
    {
     "name": "stderr",
     "output_type": "stream",
     "text": [
      " 28%|████████████████▌                                          | 14/50 [00:09<00:29,  1.23it/s]"
     ]
    },
    {
     "name": "stdout",
     "output_type": "stream",
     "text": [
      "float32\n"
     ]
    },
    {
     "name": "stderr",
     "output_type": "stream",
     "text": [
      " 38%|██████████████████████▍                                    | 19/50 [00:11<00:15,  1.96it/s]"
     ]
    },
    {
     "name": "stdout",
     "output_type": "stream",
     "text": [
      "float32\n"
     ]
    },
    {
     "name": "stderr",
     "output_type": "stream",
     "text": [
      " 44%|█████████████████████████▉                                 | 22/50 [00:13<00:15,  1.79it/s]"
     ]
    },
    {
     "name": "stdout",
     "output_type": "stream",
     "text": [
      "float32\n"
     ]
    },
    {
     "name": "stderr",
     "output_type": "stream",
     "text": [
      " 54%|███████████████████████████████▊                           | 27/50 [00:17<00:13,  1.65it/s]"
     ]
    },
    {
     "name": "stdout",
     "output_type": "stream",
     "text": [
      "float32\n"
     ]
    },
    {
     "name": "stderr",
     "output_type": "stream",
     "text": [
      " 58%|██████████████████████████████████▏                        | 29/50 [00:18<00:14,  1.40it/s]"
     ]
    },
    {
     "name": "stdout",
     "output_type": "stream",
     "text": [
      "float32\n"
     ]
    },
    {
     "name": "stderr",
     "output_type": "stream",
     "text": [
      " 64%|█████████████████████████████████████▊                     | 32/50 [00:20<00:12,  1.44it/s]"
     ]
    },
    {
     "name": "stdout",
     "output_type": "stream",
     "text": [
      "float32\n"
     ]
    },
    {
     "name": "stderr",
     "output_type": "stream",
     "text": [
      " 78%|█████████████████████████████████████████████▏            | 39/50 [10:33<32:34, 177.72s/it]"
     ]
    }
   ],
   "source": [
    "combined_data = []\n",
    "\n",
    "for i in tqdm(range(sample.shape[0])):\n",
    "    row = sample.iloc[i]\n",
    "\n",
    "    try:\n",
    "        combined_data += process_sample( row, dotenv )\n",
    "    except:\n",
    "        pass"
   ]
  },
  {
   "cell_type": "code",
   "execution_count": null,
   "id": "ad87f206-6279-4366-9ed9-afd74fb8ee4a",
   "metadata": {},
   "outputs": [],
   "source": [
    "X_train, X_test, y_train, y_test = train_test_split(data, labels, test_size=0.20, random_state=42)\n",
    "X_train, X_val, y_train, y_val = train_test_split(X_train, y_train, test_size=0.20, random_state=42)"
   ]
  },
  {
   "cell_type": "code",
   "execution_count": null,
   "id": "5720276b-1b4b-48f0-950b-463aee584a89",
   "metadata": {},
   "outputs": [],
   "source": [
    "DATASET_DIR = Path('./dataset/')"
   ]
  },
  {
   "cell_type": "code",
   "execution_count": null,
   "id": "08c66b74-ea2e-4434-9693-522e6cd86c97",
   "metadata": {},
   "outputs": [],
   "source": [
    "def write_tiles( data, labels, set_name ):\n",
    "    set_dir = DATASET_DIR / set_name\n",
    "    if set_dir.exists() == False:\n",
    "        set_dir.mkdir()\n",
    "\n",
    "    for i in tqdm(range(data.shape[0])):\n",
    "        parent_dir_name = 'no_moire' if labels[i] == 0 else 'moire'\n",
    "        parent_dir = set_dir / parent_dir_name\n",
    "\n",
    "        if parent_dir.exists() == False:\n",
    "            parent_dir.mkdir()\n",
    "        \n",
    "        out_path = parent_dir / f\"{str(i).zfill(4)}.jpg\"\n",
    "    \n",
    "        img = Image.fromarray( np.uint8(X_train[i,0,:,:] * 255) ).convert('RGB')\n",
    "        img.save( out_path, progressive=True )"
   ]
  },
  {
   "cell_type": "code",
   "execution_count": null,
   "id": "4e3a9c63-a0ca-4d75-a0a8-35383105b4ca",
   "metadata": {},
   "outputs": [],
   "source": [
    "write_tiles( X_train, y_train, 'train' )\n",
    "write_tiles( X_test, y_test, 'test' )\n",
    "write_tiles( X_val, y_val, 'val' )"
   ]
  }
 ],
 "metadata": {
  "kernelspec": {
   "display_name": "Python 3 (ipykernel)",
   "language": "python",
   "name": "python3"
  },
  "language_info": {
   "codemirror_mode": {
    "name": "ipython",
    "version": 3
   },
   "file_extension": ".py",
   "mimetype": "text/x-python",
   "name": "python",
   "nbconvert_exporter": "python",
   "pygments_lexer": "ipython3",
   "version": "3.10.11"
  }
 },
 "nbformat": 4,
 "nbformat_minor": 5
}
