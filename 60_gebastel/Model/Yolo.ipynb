{
 "cells": [
  {
   "cell_type": "code",
   "execution_count": 1,
   "id": "d46b1843-3950-43f9-a377-07aca2382399",
   "metadata": {},
   "outputs": [],
   "source": [
    "# import YOLO model\n",
    "from ultralytics import YOLO"
   ]
  },
  {
   "cell_type": "code",
   "execution_count": null,
   "id": "2b062c61-64e7-4ca4-b4cf-03a362698a07",
   "metadata": {},
   "outputs": [],
   "source": [
    "# input size 640x640"
   ]
  },
  {
   "cell_type": "code",
   "execution_count": 7,
   "id": "c9786a17-44aa-4c9b-a8b0-a82cb3555f72",
   "metadata": {},
   "outputs": [],
   "source": [
    "# Load a model\n",
    "model = YOLO('yolov8n-cls.pt') # load a pretrained model (recommended for training)"
   ]
  },
  {
   "cell_type": "code",
   "execution_count": 8,
   "id": "85f115f5-203c-4ba2-bb30-009bfec44189",
   "metadata": {},
   "outputs": [
    {
     "name": "stderr",
     "output_type": "stream",
     "text": [
      "New https://pypi.org/project/ultralytics/8.1.6 available 😃 Update with 'pip install -U ultralytics'\n",
      "Ultralytics YOLOv8.0.184 🚀 Python-3.10.11 torch-2.0.1 CPU (Apple M1 Pro)\n",
      "\u001b[34m\u001b[1mengine/trainer: \u001b[0mtask=classify, mode=train, model=yolov8n-cls.pt, data=./dataset/, epochs=5, patience=50, batch=16, imgsz=224, save=True, save_period=-1, cache=False, device=None, workers=8, project=None, name=None, exist_ok=False, pretrained=True, optimizer=auto, verbose=True, seed=0, deterministic=True, single_cls=False, rect=False, cos_lr=False, close_mosaic=10, resume=False, amp=True, fraction=1.0, profile=False, freeze=None, overlap_mask=True, mask_ratio=4, dropout=0.0, val=True, split=val, save_json=False, save_hybrid=False, conf=None, iou=0.7, max_det=300, half=False, dnn=False, plots=True, source=None, show=False, save_txt=False, save_conf=False, save_crop=False, show_labels=True, show_conf=True, vid_stride=1, stream_buffer=False, line_width=None, visualize=False, augment=False, agnostic_nms=False, classes=None, retina_masks=False, boxes=True, format=torchscript, keras=False, optimize=False, int8=False, dynamic=False, simplify=False, opset=None, workspace=4, nms=False, lr0=0.01, lrf=0.01, momentum=0.937, weight_decay=0.0005, warmup_epochs=3.0, warmup_momentum=0.8, warmup_bias_lr=0.1, box=7.5, cls=0.5, dfl=1.5, pose=12.0, kobj=1.0, label_smoothing=0.0, nbs=64, hsv_h=0.015, hsv_s=0.7, hsv_v=0.4, degrees=0.0, translate=0.1, scale=0.5, shear=0.0, perspective=0.0, flipud=0.0, fliplr=0.5, mosaic=1.0, mixup=0.0, copy_paste=0.0, cfg=None, tracker=botsort.yaml, save_dir=/Users/frederic.birwe/Desktop/test/pagina-finder-webapp/runs/classify/train8\n",
      "\u001b[34m\u001b[1mtrain:\u001b[0m /Users/frederic.birwe/Library/CloudStorage/OneDrive-BertelsmannSE&Co.KGaA/Masterarbeit/60_gebastel/Model/dataset/train... found 256 images in 2 classes ✅ \n",
      "\u001b[34m\u001b[1mval:\u001b[0m /Users/frederic.birwe/Library/CloudStorage/OneDrive-BertelsmannSE&Co.KGaA/Masterarbeit/60_gebastel/Model/dataset/val... found 65 images in 2 classes ✅ \n",
      "\u001b[34m\u001b[1mtest:\u001b[0m /Users/frederic.birwe/Library/CloudStorage/OneDrive-BertelsmannSE&Co.KGaA/Masterarbeit/60_gebastel/Model/dataset/test... found 81 images in 2 classes ✅ \n",
      "Overriding model.yaml nc=1000 with nc=2\n",
      "\n",
      "                   from  n    params  module                                       arguments                     \n",
      "  0                  -1  1       464  ultralytics.nn.modules.conv.Conv             [3, 16, 3, 2]                 \n",
      "  1                  -1  1      4672  ultralytics.nn.modules.conv.Conv             [16, 32, 3, 2]                \n",
      "  2                  -1  1      7360  ultralytics.nn.modules.block.C2f             [32, 32, 1, True]             \n",
      "  3                  -1  1     18560  ultralytics.nn.modules.conv.Conv             [32, 64, 3, 2]                \n",
      "  4                  -1  2     49664  ultralytics.nn.modules.block.C2f             [64, 64, 2, True]             \n",
      "  5                  -1  1     73984  ultralytics.nn.modules.conv.Conv             [64, 128, 3, 2]               \n",
      "  6                  -1  2    197632  ultralytics.nn.modules.block.C2f             [128, 128, 2, True]           \n",
      "  7                  -1  1    295424  ultralytics.nn.modules.conv.Conv             [128, 256, 3, 2]              \n",
      "  8                  -1  1    460288  ultralytics.nn.modules.block.C2f             [256, 256, 1, True]           \n",
      "  9                  -1  1    332802  ultralytics.nn.modules.head.Classify         [256, 2]                      \n",
      "YOLOv8n-cls summary: 99 layers, 1440850 parameters, 1440850 gradients, 3.4 GFLOPs\n",
      "Transferred 156/158 items from pretrained weights\n",
      "\u001b[34m\u001b[1mTensorBoard: \u001b[0mStart with 'tensorboard --logdir /Users/frederic.birwe/Desktop/test/pagina-finder-webapp/runs/classify/train8', view at http://localhost:6006/\n",
      "\u001b[34m\u001b[1mtrain: \u001b[0mScanning /Users/frederic.birwe/Library/CloudStorage/OneDrive-Be\u001b[0m\n",
      "\u001b[34m\u001b[1mtrain: \u001b[0mNew cache created: /Users/frederic.birwe/Library/CloudStorage/OneDrive-BertelsmannSE&Co.KGaA/Masterarbeit/60_gebastel/Model/dataset/train.cache\n",
      "\u001b[34m\u001b[1mval: \u001b[0mScanning /Users/frederic.birwe/Library/CloudStorage/OneDrive-Bert\u001b[0m\n",
      "\u001b[34m\u001b[1mval: \u001b[0mNew cache created: /Users/frederic.birwe/Library/CloudStorage/OneDrive-BertelsmannSE&Co.KGaA/Masterarbeit/60_gebastel/Model/dataset/val.cache\n",
      "\u001b[34m\u001b[1moptimizer:\u001b[0m 'optimizer=auto' found, ignoring 'lr0=0.01' and 'momentum=0.937' and determining best 'optimizer', 'lr0' and 'momentum' automatically... \n",
      "\u001b[34m\u001b[1moptimizer:\u001b[0m AdamW(lr=0.000714, momentum=0.9) with parameter groups 26 weight(decay=0.0), 27 weight(decay=0.0005), 27 bias(decay=0.0)\n",
      "Image sizes 224 train, 224 val\n",
      "Using 0 dataloader workers\n",
      "Logging results to \u001b[1m/Users/frederic.birwe/Desktop/test/pagina-finder-webapp/runs/classify/train8\u001b[0m\n",
      "Starting training for 5 epochs...\n",
      "\n",
      "      Epoch    GPU_mem       loss  Instances       Size\n",
      "        1/5         0G     0.1706         16        224: 100%|████████\n",
      "               classes   top1_acc   top5_acc: 100%|██████████| 3/3 [00\n",
      "                   all        0.6          1\n",
      "\n",
      "      Epoch    GPU_mem       loss  Instances       Size\n",
      "        2/5         0G     0.1426         16        224: 100%|████████\n",
      "               classes   top1_acc   top5_acc: 100%|██████████| 3/3 [00\n",
      "                   all      0.831          1\n",
      "\n",
      "      Epoch    GPU_mem       loss  Instances       Size\n",
      "        3/5         0G     0.1033         16        224: 100%|████████\n",
      "               classes   top1_acc   top5_acc: 100%|██████████| 3/3 [00\n",
      "                   all      0.954          1\n",
      "\n",
      "      Epoch    GPU_mem       loss  Instances       Size\n",
      "        4/5         0G    0.07224         16        224: 100%|████████\n",
      "               classes   top1_acc   top5_acc: 100%|██████████| 3/3 [00\n",
      "                   all      0.985          1\n",
      "\n",
      "      Epoch    GPU_mem       loss  Instances       Size\n",
      "        5/5         0G    0.05317         16        224: 100%|████████\n",
      "               classes   top1_acc   top5_acc: 100%|██████████| 3/3 [00\n",
      "                   all          1          1\n",
      "\n",
      "5 epochs completed in 0.013 hours.\n",
      "Optimizer stripped from /Users/frederic.birwe/Desktop/test/pagina-finder-webapp/runs/classify/train8/weights/last.pt, 3.0MB\n",
      "Optimizer stripped from /Users/frederic.birwe/Desktop/test/pagina-finder-webapp/runs/classify/train8/weights/best.pt, 3.0MB\n",
      "\n",
      "Validating /Users/frederic.birwe/Desktop/test/pagina-finder-webapp/runs/classify/train8/weights/best.pt...\n",
      "Ultralytics YOLOv8.0.184 🚀 Python-3.10.11 torch-2.0.1 CPU (Apple M1 Pro)\n",
      "YOLOv8n-cls summary (fused): 73 layers, 1437442 parameters, 0 gradients, 3.3 GFLOPs\n",
      "\u001b[34m\u001b[1mtrain:\u001b[0m /Users/frederic.birwe/Library/CloudStorage/OneDrive-BertelsmannSE&Co.KGaA/Masterarbeit/60_gebastel/Model/dataset/train... found 256 images in 2 classes ✅ \n",
      "\u001b[34m\u001b[1mval:\u001b[0m /Users/frederic.birwe/Library/CloudStorage/OneDrive-BertelsmannSE&Co.KGaA/Masterarbeit/60_gebastel/Model/dataset/val... found 65 images in 2 classes ✅ \n",
      "\u001b[34m\u001b[1mtest:\u001b[0m /Users/frederic.birwe/Library/CloudStorage/OneDrive-BertelsmannSE&Co.KGaA/Masterarbeit/60_gebastel/Model/dataset/test... found 81 images in 2 classes ✅ \n",
      "               classes   top1_acc   top5_acc: 100%|██████████| 3/3 [00\n",
      "                   all          1          1\n",
      "Speed: 0.0ms preprocess, 15.5ms inference, 0.0ms loss, 0.0ms postprocess per image\n",
      "Results saved to \u001b[1m/Users/frederic.birwe/Desktop/test/pagina-finder-webapp/runs/classify/train8\u001b[0m\n",
      "Results saved to \u001b[1m/Users/frederic.birwe/Desktop/test/pagina-finder-webapp/runs/classify/train8\u001b[0m\n"
     ]
    },
    {
     "data": {
      "text/plain": [
       "ultralytics.utils.metrics.ClassifyMetrics object with attributes:\n",
       "\n",
       "confusion_matrix: <ultralytics.utils.metrics.ConfusionMatrix object at 0x2b402cf40>\n",
       "fitness: 1.0\n",
       "keys: ['metrics/accuracy_top1', 'metrics/accuracy_top5']\n",
       "results_dict: {'metrics/accuracy_top1': 1.0, 'metrics/accuracy_top5': 1.0, 'fitness': 1.0}\n",
       "save_dir: PosixPath('/Users/frederic.birwe/Desktop/test/pagina-finder-webapp/runs/classify/train8')\n",
       "speed: {'preprocess': 0.0009683462289663461, 'inference': 15.465644689706656, 'loss': 0.00011003934420072116, 'postprocess': 9.169945350060097e-05}\n",
       "top1: 1.0\n",
       "top5: 1.0"
      ]
     },
     "execution_count": 8,
     "metadata": {},
     "output_type": "execute_result"
    }
   ],
   "source": [
    "# Train the model\n",
    "model.train(data='./dataset/', epochs=5)"
   ]
  },
  {
   "cell_type": "code",
   "execution_count": 9,
   "id": "7c94e1a8-1cba-4f8b-b0b5-3c4f974cc5b8",
   "metadata": {},
   "outputs": [
    {
     "name": "stderr",
     "output_type": "stream",
     "text": [
      "Ultralytics YOLOv8.0.184 🚀 Python-3.10.11 torch-2.0.1 CPU (Apple M1 Pro)\n",
      "YOLOv8n-cls summary (fused): 73 layers, 1437442 parameters, 0 gradients, 3.3 GFLOPs\n",
      "\u001b[34m\u001b[1mtrain:\u001b[0m /Users/frederic.birwe/Library/CloudStorage/OneDrive-BertelsmannSE&Co.KGaA/Masterarbeit/60_gebastel/Model/dataset/train... found 256 images in 2 classes ✅ \n",
      "\u001b[34m\u001b[1mval:\u001b[0m /Users/frederic.birwe/Library/CloudStorage/OneDrive-BertelsmannSE&Co.KGaA/Masterarbeit/60_gebastel/Model/dataset/val... found 65 images in 2 classes ✅ \n",
      "\u001b[34m\u001b[1mtest:\u001b[0m /Users/frederic.birwe/Library/CloudStorage/OneDrive-BertelsmannSE&Co.KGaA/Masterarbeit/60_gebastel/Model/dataset/test... found 81 images in 2 classes ✅ \n",
      "\u001b[34m\u001b[1mval: \u001b[0mScanning /Users/frederic.birwe/Library/CloudStorage/OneDrive-Bert\u001b[0m\n",
      "               classes   top1_acc   top5_acc: 100%|██████████| 5/5 [00\n",
      "                   all          1          1\n",
      "Speed: 0.0ms preprocess, 16.1ms inference, 0.0ms loss, 0.0ms postprocess per image\n",
      "Results saved to \u001b[1m/Users/frederic.birwe/Desktop/test/pagina-finder-webapp/runs/classify/val5\u001b[0m\n"
     ]
    },
    {
     "data": {
      "text/plain": [
       "1.0"
      ]
     },
     "execution_count": 9,
     "metadata": {},
     "output_type": "execute_result"
    }
   ],
   "source": [
    "metrics = model.val() # no arguments needed, dataset and settings remembered\n",
    "metrics.top1 # top1 accuracy\n",
    "metrics.top5 # top5 accuracy"
   ]
  },
  {
   "cell_type": "code",
   "execution_count": 18,
   "id": "314c2e7f-5d21-4a86-82e7-e1607f7b2933",
   "metadata": {},
   "outputs": [
    {
     "data": {
      "text/plain": [
       "array([[         37,           0],\n",
       "       [          0,          28]])"
      ]
     },
     "execution_count": 18,
     "metadata": {},
     "output_type": "execute_result"
    }
   ],
   "source": [
    "metrics.confusion_matrix.matrix"
   ]
  },
  {
   "cell_type": "code",
   "execution_count": 15,
   "id": "0bb8ba2c-d58c-44f8-92c7-c1d58ca559d6",
   "metadata": {},
   "outputs": [
    {
     "name": "stderr",
     "output_type": "stream",
     "text": [
      "\n",
      "image 1/1 /Users/frederic.birwe/Library/CloudStorage/OneDrive-BertelsmannSE&Co.KGaA/Masterarbeit/60_gebastel/Model/dataset/val/moire/0005.jpg: 224x224 moire 0.95, no_moire 0.05, 19.7ms\n",
      "Speed: 5.1ms preprocess, 19.7ms inference, 0.1ms postprocess per image at shape (1, 3, 224, 224)\n"
     ]
    },
    {
     "data": {
      "text/plain": [
       "tensor([0.9478, 0.0522])"
      ]
     },
     "execution_count": 15,
     "metadata": {},
     "output_type": "execute_result"
    }
   ],
   "source": [
    "model.predict('./dataset/val/moire/0005.jpg')[0].probs.data"
   ]
  }
 ],
 "metadata": {
  "kernelspec": {
   "display_name": "Python 3 (ipykernel)",
   "language": "python",
   "name": "python3"
  },
  "language_info": {
   "codemirror_mode": {
    "name": "ipython",
    "version": 3
   },
   "file_extension": ".py",
   "mimetype": "text/x-python",
   "name": "python",
   "nbconvert_exporter": "python",
   "pygments_lexer": "ipython3",
   "version": "3.10.11"
  }
 },
 "nbformat": 4,
 "nbformat_minor": 5
}
