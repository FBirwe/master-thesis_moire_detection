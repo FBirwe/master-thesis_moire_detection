{
 "cells": [
  {
   "cell_type": "code",
   "execution_count": 1,
   "id": "c643ef5a-8f4b-480c-b31c-9d9e891e820a",
   "metadata": {},
   "outputs": [],
   "source": [
    "import sys\n",
    "sys.path.append('../../30_data_tools/')\n",
    "from helper import load_dotenv"
   ]
  },
  {
   "cell_type": "code",
   "execution_count": 2,
   "id": "277855d3-5f19-4c57-a455-5c44c7aec2d2",
   "metadata": {},
   "outputs": [],
   "source": [
    "from pathlib import Path\n",
    "import torch\n",
    "import plotly.express as px\n",
    "from PIL import Image\n",
    "from tqdm.auto import tqdm"
   ]
  },
  {
   "cell_type": "code",
   "execution_count": 3,
   "id": "d46b1843-3950-43f9-a377-07aca2382399",
   "metadata": {},
   "outputs": [],
   "source": [
    "# import YOLO model\n",
    "from ultralytics import YOLO, settings\n",
    "import mlflow"
   ]
  },
  {
   "cell_type": "code",
   "execution_count": 4,
   "id": "5f253301-f20b-41e6-9404-16956ae85589",
   "metadata": {},
   "outputs": [],
   "source": [
    "import os"
   ]
  },
  {
   "cell_type": "code",
   "execution_count": 5,
   "id": "fdd887c7-9b00-46a1-af44-04b0885025e1",
   "metadata": {},
   "outputs": [],
   "source": [
    "dotenv = load_dotenv()"
   ]
  },
  {
   "cell_type": "code",
   "execution_count": 6,
   "id": "2b739137-7585-414b-a70e-19341b827a92",
   "metadata": {},
   "outputs": [
    {
     "data": {
      "text/plain": [
       "<Experiment: artifact_location='/Users/frederic.birwe/Documents/GitHub/master-thesis_moire_detection/60_gebastel/Model/mlruns/1', creation_time=1709374525946, experiment_id='1', last_update_time=1709374525946, lifecycle_stage='active', name='moire_detection', tags={}>"
      ]
     },
     "execution_count": 6,
     "metadata": {},
     "output_type": "execute_result"
    }
   ],
   "source": [
    "mlflow.set_tracking_uri(dotenv['MFLOW_DB_PATH'])\n",
    "mlflow.set_experiment(\"moire_detection\")"
   ]
  },
  {
   "cell_type": "code",
   "execution_count": 7,
   "id": "df8afda3-3a68-405a-a26c-424b9f11b0cf",
   "metadata": {},
   "outputs": [],
   "source": [
    "os.environ.MLFLOW_EXPERIMENT_NAME = 'moire_detection'\n",
    "os.environ.MLFLOW_RUN = '24-03-02_test'"
   ]
  },
  {
   "cell_type": "code",
   "execution_count": 8,
   "id": "4ad62e4c-57e1-4460-a18f-dbc8cbd96e2c",
   "metadata": {},
   "outputs": [],
   "source": [
    "settings.update({'mlflow': True})"
   ]
  },
  {
   "cell_type": "code",
   "execution_count": null,
   "id": "2b062c61-64e7-4ca4-b4cf-03a362698a07",
   "metadata": {},
   "outputs": [],
   "source": [
    "# input size 640x640"
   ]
  },
  {
   "cell_type": "code",
   "execution_count": 10,
   "id": "2939b403-ab1f-4aa4-b38f-94e8e5e28234",
   "metadata": {},
   "outputs": [
    {
     "data": {
      "text/plain": [
       "ultralytics.utils.metrics.ClassifyMetrics object with attributes:\n",
       "\n",
       "confusion_matrix: <ultralytics.utils.metrics.ConfusionMatrix object at 0x2c4209ba0>\n",
       "fitness: 0.845818817615509\n",
       "keys: ['metrics/accuracy_top1', 'metrics/accuracy_top5']\n",
       "results_dict: {'metrics/accuracy_top1': 0.6916376352310181, 'metrics/accuracy_top5': 1.0, 'fitness': 0.845818817615509}\n",
       "save_dir: PosixPath('/Users/frederic.birwe/Desktop/test/pagina-finder-webapp/runs/classify/train24')\n",
       "speed: {'preprocess': 0.0002936619084055831, 'inference': 55.232151044785766, 'loss': 3.239834350160605e-05, 'postprocess': 4.9843605387086236e-05}\n",
       "top1: 0.6916376352310181\n",
       "top5: 1.0"
      ]
     },
     "execution_count": 10,
     "metadata": {},
     "output_type": "execute_result"
    }
   ],
   "source": [
    "results"
   ]
  },
  {
   "cell_type": "code",
   "execution_count": 16,
   "id": "9bbfbe09-2c9e-4ec6-bf35-14c031a00f9f",
   "metadata": {},
   "outputs": [
    {
     "name": "stderr",
     "output_type": "stream",
     "text": [
      "New https://pypi.org/project/ultralytics/8.1.20 available 😃 Update with 'pip install -U ultralytics'\n",
      "Ultralytics YOLOv8.0.184 🚀 Python-3.10.11 torch-2.0.1 CPU (Apple M1 Pro)\n",
      "\u001b[34m\u001b[1mengine/trainer: \u001b[0mtask=classify, mode=train, model=yolov8m-cls.pt, data=./dataset_test/, epochs=2, patience=50, batch=16, imgsz=224, save=True, save_period=-1, cache=False, device=None, workers=8, project=None, name=None, exist_ok=False, pretrained=True, optimizer=auto, verbose=True, seed=0, deterministic=True, single_cls=False, rect=False, cos_lr=False, close_mosaic=10, resume=False, amp=True, fraction=1.0, profile=False, freeze=None, overlap_mask=True, mask_ratio=4, dropout=0.0, val=True, split=val, save_json=False, save_hybrid=False, conf=None, iou=0.7, max_det=300, half=False, dnn=False, plots=True, source=None, show=False, save_txt=False, save_conf=False, save_crop=False, show_labels=True, show_conf=True, vid_stride=1, stream_buffer=False, line_width=None, visualize=False, augment=False, agnostic_nms=False, classes=None, retina_masks=False, boxes=True, format=torchscript, keras=False, optimize=False, int8=False, dynamic=False, simplify=False, opset=None, workspace=4, nms=False, lr0=0.01, lrf=0.01, momentum=0.937, weight_decay=0.0005, warmup_epochs=3.0, warmup_momentum=0.8, warmup_bias_lr=0.1, box=7.5, cls=0.5, dfl=1.5, pose=12.0, kobj=1.0, label_smoothing=0.0, nbs=64, hsv_h=0.015, hsv_s=0.7, hsv_v=0.4, degrees=0.0, translate=0.1, scale=0.5, shear=0.0, perspective=0.0, flipud=0.0, fliplr=0.5, mosaic=1.0, mixup=0.0, copy_paste=0.0, cfg=None, tracker=botsort.yaml, save_dir=/Users/frederic.birwe/Desktop/test/pagina-finder-webapp/runs/classify/train27\n",
      "\u001b[34m\u001b[1mtrain:\u001b[0m /Users/frederic.birwe/Documents/GitHub/master-thesis_moire_detection/60_gebastel/Model/dataset_test/train... found 200 images in 2 classes ✅ \n",
      "\u001b[34m\u001b[1mval:\u001b[0m /Users/frederic.birwe/Documents/GitHub/master-thesis_moire_detection/60_gebastel/Model/dataset_test/val... found 574 images in 2 classes ✅ \n",
      "\u001b[34m\u001b[1mtest:\u001b[0m /Users/frederic.birwe/Documents/GitHub/master-thesis_moire_detection/60_gebastel/Model/dataset_test/test... found 1276 images in 2 classes ✅ \n",
      "Overriding model.yaml nc=1000 with nc=2\n",
      "\n",
      "                   from  n    params  module                                       arguments                     \n",
      "  0                  -1  1      1392  ultralytics.nn.modules.conv.Conv             [3, 48, 3, 2]                 \n",
      "  1                  -1  1     41664  ultralytics.nn.modules.conv.Conv             [48, 96, 3, 2]                \n",
      "  2                  -1  2    111360  ultralytics.nn.modules.block.C2f             [96, 96, 2, True]             \n",
      "  3                  -1  1    166272  ultralytics.nn.modules.conv.Conv             [96, 192, 3, 2]               \n",
      "  4                  -1  4    813312  ultralytics.nn.modules.block.C2f             [192, 192, 4, True]           \n",
      "  5                  -1  1    664320  ultralytics.nn.modules.conv.Conv             [192, 384, 3, 2]              \n",
      "  6                  -1  4   3248640  ultralytics.nn.modules.block.C2f             [384, 384, 4, True]           \n",
      "  7                  -1  1   2655744  ultralytics.nn.modules.conv.Conv             [384, 768, 3, 2]              \n",
      "  8                  -1  2   7084032  ultralytics.nn.modules.block.C2f             [768, 768, 2, True]           \n",
      "  9                  -1  1    988162  ultralytics.nn.modules.head.Classify         [768, 2]                      \n",
      "YOLOv8m-cls summary: 141 layers, 15774898 parameters, 15774898 gradients, 41.9 GFLOPs\n",
      "Transferred 228/230 items from pretrained weights\n",
      "\u001b[34m\u001b[1mTensorBoard: \u001b[0mStart with 'tensorboard --logdir /Users/frederic.birwe/Desktop/test/pagina-finder-webapp/runs/classify/train27', view at http://localhost:6006/\n",
      "\u001b[34m\u001b[1mtrain: \u001b[0mScanning /Users/frederic.birwe/Documents/GitHub/master-thesis_moire_detection/60_gebastel/Model/dataset_test/train... 200 images, \u001b[0m\n",
      "\u001b[34m\u001b[1mval: \u001b[0mScanning /Users/frederic.birwe/Documents/GitHub/master-thesis_moire_detection/60_gebastel/Model/dataset_test/val... 574 images, 0 co\u001b[0m\n",
      "\u001b[34m\u001b[1moptimizer:\u001b[0m 'optimizer=auto' found, ignoring 'lr0=0.01' and 'momentum=0.937' and determining best 'optimizer', 'lr0' and 'momentum' automatically... \n",
      "\u001b[34m\u001b[1moptimizer:\u001b[0m AdamW(lr=0.000714, momentum=0.9) with parameter groups 38 weight(decay=0.0), 39 weight(decay=0.0005), 39 bias(decay=0.0)\n",
      "Image sizes 224 train, 224 val\n",
      "Using 0 dataloader workers\n",
      "Logging results to \u001b[1m/Users/frederic.birwe/Desktop/test/pagina-finder-webapp/runs/classify/train27\u001b[0m\n",
      "Starting training for 2 epochs...\n",
      "\n",
      "      Epoch    GPU_mem       loss  Instances       Size\n",
      "        1/2         0G      0.161          8        224: 100%|██████████| 13/13 [00:26<00:00,  2.02s/it]\n",
      "               classes   top1_acc   top5_acc: 100%|██████████| 18/18 [00:33<00:00,  1.88s/it]\n",
      "                   all      0.521          1\n",
      "\n",
      "      Epoch    GPU_mem       loss  Instances       Size\n",
      "        2/2         0G    0.08405          8        224: 100%|██████████| 13/13 [00:24<00:00,  1.92s/it]\n",
      "               classes   top1_acc   top5_acc: 100%|██████████| 18/18 [00:34<00:00,  1.91s/it]\n",
      "                   all      0.571          1\n",
      "\n",
      "2 epochs completed in 0.034 hours.\n",
      "Optimizer stripped from /Users/frederic.birwe/Desktop/test/pagina-finder-webapp/runs/classify/train27/weights/last.pt, 31.7MB\n",
      "Optimizer stripped from /Users/frederic.birwe/Desktop/test/pagina-finder-webapp/runs/classify/train27/weights/best.pt, 31.7MB\n",
      "\n",
      "Validating /Users/frederic.birwe/Desktop/test/pagina-finder-webapp/runs/classify/train27/weights/best.pt...\n",
      "Ultralytics YOLOv8.0.184 🚀 Python-3.10.11 torch-2.0.1 CPU (Apple M1 Pro)\n",
      "YOLOv8m-cls summary (fused): 103 layers, 15765218 parameters, 0 gradients, 41.6 GFLOPs\n",
      "\u001b[34m\u001b[1mtrain:\u001b[0m /Users/frederic.birwe/Documents/GitHub/master-thesis_moire_detection/60_gebastel/Model/dataset_test/train... found 200 images in 2 classes ✅ \n",
      "\u001b[34m\u001b[1mval:\u001b[0m /Users/frederic.birwe/Documents/GitHub/master-thesis_moire_detection/60_gebastel/Model/dataset_test/val... found 574 images in 2 classes ✅ \n",
      "\u001b[34m\u001b[1mtest:\u001b[0m /Users/frederic.birwe/Documents/GitHub/master-thesis_moire_detection/60_gebastel/Model/dataset_test/test... found 1276 images in 2 classes ✅ \n",
      "               classes   top1_acc   top5_acc: 100%|██████████| 18/18 [00:33<00:00,  1.87s/it]\n",
      "                   all      0.573          1\n",
      "Speed: 0.0ms preprocess, 56.5ms inference, 0.0ms loss, 0.0ms postprocess per image\n",
      "Results saved to \u001b[1m/Users/frederic.birwe/Desktop/test/pagina-finder-webapp/runs/classify/train27\u001b[0m\n",
      "Results saved to \u001b[1m/Users/frederic.birwe/Desktop/test/pagina-finder-webapp/runs/classify/train27\u001b[0m\n"
     ]
    },
    {
     "ename": "TypeError",
     "evalue": "cannot pickle 'torch._C.Generator' object",
     "output_type": "error",
     "traceback": [
      "\u001b[0;31m---------------------------------------------------------------------------\u001b[0m",
      "\u001b[0;31mTypeError\u001b[0m                                 Traceback (most recent call last)",
      "Cell \u001b[0;32mIn[16], line 9\u001b[0m\n\u001b[1;32m      7\u001b[0m mlflow\u001b[38;5;241m.\u001b[39mlog_params({\u001b[38;5;124m\"\u001b[39m\u001b[38;5;124mepochs\u001b[39m\u001b[38;5;124m\"\u001b[39m: \u001b[38;5;241m3\u001b[39m, \u001b[38;5;124m\"\u001b[39m\u001b[38;5;124mmodel\u001b[39m\u001b[38;5;124m\"\u001b[39m: \u001b[38;5;124m\"\u001b[39m\u001b[38;5;124myolov8m-cls.pt\u001b[39m\u001b[38;5;124m\"\u001b[39m})\n\u001b[1;32m      8\u001b[0m mlflow\u001b[38;5;241m.\u001b[39mlog_metrics({\u001b[38;5;124m\"\u001b[39m\u001b[38;5;124mtop_1\u001b[39m\u001b[38;5;124m\"\u001b[39m: results\u001b[38;5;241m.\u001b[39mtop1})\n\u001b[0;32m----> 9\u001b[0m \u001b[43mmlflow\u001b[49m\u001b[38;5;241;43m.\u001b[39;49m\u001b[43mpytorch\u001b[49m\u001b[38;5;241;43m.\u001b[39;49m\u001b[43mlog_model\u001b[49m\u001b[43m(\u001b[49m\u001b[43mmodel\u001b[49m\u001b[43m,\u001b[49m\u001b[43m \u001b[49m\u001b[38;5;124;43m\"\u001b[39;49m\u001b[38;5;124;43mmodel\u001b[39;49m\u001b[38;5;124;43m\"\u001b[39;49m\u001b[43m)\u001b[49m\n\u001b[1;32m     11\u001b[0m \u001b[38;5;66;03m# End the run\u001b[39;00m\n\u001b[1;32m     12\u001b[0m mlflow\u001b[38;5;241m.\u001b[39mend_run()\n",
      "File \u001b[0;32m~/Library/Python/3.10/lib/python/site-packages/mlflow/pytorch/__init__.py:292\u001b[0m, in \u001b[0;36mlog_model\u001b[0;34m(pytorch_model, artifact_path, conda_env, code_paths, pickle_module, registered_model_name, signature, input_example, await_registration_for, requirements_file, extra_files, pip_requirements, extra_pip_requirements, metadata, **kwargs)\u001b[0m\n\u001b[1;32m    149\u001b[0m \u001b[38;5;250m\u001b[39m\u001b[38;5;124;03m\"\"\"\u001b[39;00m\n\u001b[1;32m    150\u001b[0m \u001b[38;5;124;03mLog a PyTorch model as an MLflow artifact for the current run.\u001b[39;00m\n\u001b[1;32m    151\u001b[0m \n\u001b[0;32m   (...)\u001b[0m\n\u001b[1;32m    289\u001b[0m \u001b[38;5;124;03m    PyTorch logged models\u001b[39;00m\n\u001b[1;32m    290\u001b[0m \u001b[38;5;124;03m\"\"\"\u001b[39;00m\n\u001b[1;32m    291\u001b[0m pickle_module \u001b[38;5;241m=\u001b[39m pickle_module \u001b[38;5;129;01mor\u001b[39;00m mlflow_pytorch_pickle_module\n\u001b[0;32m--> 292\u001b[0m \u001b[38;5;28;01mreturn\u001b[39;00m \u001b[43mModel\u001b[49m\u001b[38;5;241;43m.\u001b[39;49m\u001b[43mlog\u001b[49m\u001b[43m(\u001b[49m\n\u001b[1;32m    293\u001b[0m \u001b[43m    \u001b[49m\u001b[43martifact_path\u001b[49m\u001b[38;5;241;43m=\u001b[39;49m\u001b[43martifact_path\u001b[49m\u001b[43m,\u001b[49m\n\u001b[1;32m    294\u001b[0m \u001b[43m    \u001b[49m\u001b[43mflavor\u001b[49m\u001b[38;5;241;43m=\u001b[39;49m\u001b[43mmlflow\u001b[49m\u001b[38;5;241;43m.\u001b[39;49m\u001b[43mpytorch\u001b[49m\u001b[43m,\u001b[49m\n\u001b[1;32m    295\u001b[0m \u001b[43m    \u001b[49m\u001b[43mpytorch_model\u001b[49m\u001b[38;5;241;43m=\u001b[39;49m\u001b[43mpytorch_model\u001b[49m\u001b[43m,\u001b[49m\n\u001b[1;32m    296\u001b[0m \u001b[43m    \u001b[49m\u001b[43mconda_env\u001b[49m\u001b[38;5;241;43m=\u001b[39;49m\u001b[43mconda_env\u001b[49m\u001b[43m,\u001b[49m\n\u001b[1;32m    297\u001b[0m \u001b[43m    \u001b[49m\u001b[43mcode_paths\u001b[49m\u001b[38;5;241;43m=\u001b[39;49m\u001b[43mcode_paths\u001b[49m\u001b[43m,\u001b[49m\n\u001b[1;32m    298\u001b[0m \u001b[43m    \u001b[49m\u001b[43mpickle_module\u001b[49m\u001b[38;5;241;43m=\u001b[39;49m\u001b[43mpickle_module\u001b[49m\u001b[43m,\u001b[49m\n\u001b[1;32m    299\u001b[0m \u001b[43m    \u001b[49m\u001b[43mregistered_model_name\u001b[49m\u001b[38;5;241;43m=\u001b[39;49m\u001b[43mregistered_model_name\u001b[49m\u001b[43m,\u001b[49m\n\u001b[1;32m    300\u001b[0m \u001b[43m    \u001b[49m\u001b[43msignature\u001b[49m\u001b[38;5;241;43m=\u001b[39;49m\u001b[43msignature\u001b[49m\u001b[43m,\u001b[49m\n\u001b[1;32m    301\u001b[0m \u001b[43m    \u001b[49m\u001b[43minput_example\u001b[49m\u001b[38;5;241;43m=\u001b[39;49m\u001b[43minput_example\u001b[49m\u001b[43m,\u001b[49m\n\u001b[1;32m    302\u001b[0m \u001b[43m    \u001b[49m\u001b[43mawait_registration_for\u001b[49m\u001b[38;5;241;43m=\u001b[39;49m\u001b[43mawait_registration_for\u001b[49m\u001b[43m,\u001b[49m\n\u001b[1;32m    303\u001b[0m \u001b[43m    \u001b[49m\u001b[43mrequirements_file\u001b[49m\u001b[38;5;241;43m=\u001b[39;49m\u001b[43mrequirements_file\u001b[49m\u001b[43m,\u001b[49m\n\u001b[1;32m    304\u001b[0m \u001b[43m    \u001b[49m\u001b[43mextra_files\u001b[49m\u001b[38;5;241;43m=\u001b[39;49m\u001b[43mextra_files\u001b[49m\u001b[43m,\u001b[49m\n\u001b[1;32m    305\u001b[0m \u001b[43m    \u001b[49m\u001b[43mpip_requirements\u001b[49m\u001b[38;5;241;43m=\u001b[39;49m\u001b[43mpip_requirements\u001b[49m\u001b[43m,\u001b[49m\n\u001b[1;32m    306\u001b[0m \u001b[43m    \u001b[49m\u001b[43mextra_pip_requirements\u001b[49m\u001b[38;5;241;43m=\u001b[39;49m\u001b[43mextra_pip_requirements\u001b[49m\u001b[43m,\u001b[49m\n\u001b[1;32m    307\u001b[0m \u001b[43m    \u001b[49m\u001b[43mmetadata\u001b[49m\u001b[38;5;241;43m=\u001b[39;49m\u001b[43mmetadata\u001b[49m\u001b[43m,\u001b[49m\n\u001b[1;32m    308\u001b[0m \u001b[43m    \u001b[49m\u001b[38;5;241;43m*\u001b[39;49m\u001b[38;5;241;43m*\u001b[39;49m\u001b[43mkwargs\u001b[49m\u001b[43m,\u001b[49m\n\u001b[1;32m    309\u001b[0m \u001b[43m\u001b[49m\u001b[43m)\u001b[49m\n",
      "File \u001b[0;32m~/Library/Python/3.10/lib/python/site-packages/mlflow/models/model.py:622\u001b[0m, in \u001b[0;36mModel.log\u001b[0;34m(cls, artifact_path, flavor, registered_model_name, await_registration_for, metadata, run_id, **kwargs)\u001b[0m\n\u001b[1;32m    616\u001b[0m \u001b[38;5;28;01mif\u001b[39;00m (\n\u001b[1;32m    617\u001b[0m     (tracking_uri \u001b[38;5;241m==\u001b[39m \u001b[38;5;124m\"\u001b[39m\u001b[38;5;124mdatabricks\u001b[39m\u001b[38;5;124m\"\u001b[39m \u001b[38;5;129;01mor\u001b[39;00m get_uri_scheme(tracking_uri) \u001b[38;5;241m==\u001b[39m \u001b[38;5;124m\"\u001b[39m\u001b[38;5;124mdatabricks\u001b[39m\u001b[38;5;124m\"\u001b[39m)\n\u001b[1;32m    618\u001b[0m     \u001b[38;5;129;01mand\u001b[39;00m kwargs\u001b[38;5;241m.\u001b[39mget(\u001b[38;5;124m\"\u001b[39m\u001b[38;5;124msignature\u001b[39m\u001b[38;5;124m\"\u001b[39m) \u001b[38;5;129;01mis\u001b[39;00m \u001b[38;5;28;01mNone\u001b[39;00m\n\u001b[1;32m    619\u001b[0m     \u001b[38;5;129;01mand\u001b[39;00m kwargs\u001b[38;5;241m.\u001b[39mget(\u001b[38;5;124m\"\u001b[39m\u001b[38;5;124minput_example\u001b[39m\u001b[38;5;124m\"\u001b[39m) \u001b[38;5;129;01mis\u001b[39;00m \u001b[38;5;28;01mNone\u001b[39;00m\n\u001b[1;32m    620\u001b[0m ):\n\u001b[1;32m    621\u001b[0m     _logger\u001b[38;5;241m.\u001b[39mwarning(_LOG_MODEL_MISSING_SIGNATURE_WARNING)\n\u001b[0;32m--> 622\u001b[0m \u001b[43mflavor\u001b[49m\u001b[38;5;241;43m.\u001b[39;49m\u001b[43msave_model\u001b[49m\u001b[43m(\u001b[49m\u001b[43mpath\u001b[49m\u001b[38;5;241;43m=\u001b[39;49m\u001b[43mlocal_path\u001b[49m\u001b[43m,\u001b[49m\u001b[43m \u001b[49m\u001b[43mmlflow_model\u001b[49m\u001b[38;5;241;43m=\u001b[39;49m\u001b[43mmlflow_model\u001b[49m\u001b[43m,\u001b[49m\u001b[43m \u001b[49m\u001b[38;5;241;43m*\u001b[39;49m\u001b[38;5;241;43m*\u001b[39;49m\u001b[43mkwargs\u001b[49m\u001b[43m)\u001b[49m\n\u001b[1;32m    623\u001b[0m mlflow\u001b[38;5;241m.\u001b[39mtracking\u001b[38;5;241m.\u001b[39mfluent\u001b[38;5;241m.\u001b[39mlog_artifacts(local_path, mlflow_model\u001b[38;5;241m.\u001b[39martifact_path, run_id)\n\u001b[1;32m    624\u001b[0m \u001b[38;5;28;01mtry\u001b[39;00m:\n",
      "File \u001b[0;32m~/Library/Python/3.10/lib/python/site-packages/mlflow/pytorch/__init__.py:480\u001b[0m, in \u001b[0;36msave_model\u001b[0;34m(pytorch_model, path, conda_env, mlflow_model, code_paths, pickle_module, signature, input_example, requirements_file, extra_files, pip_requirements, extra_pip_requirements, metadata, **kwargs)\u001b[0m\n\u001b[1;32m    478\u001b[0m     torch\u001b[38;5;241m.\u001b[39mjit\u001b[38;5;241m.\u001b[39mScriptModule\u001b[38;5;241m.\u001b[39msave(pytorch_model, model_path)\n\u001b[1;32m    479\u001b[0m \u001b[38;5;28;01melse\u001b[39;00m:\n\u001b[0;32m--> 480\u001b[0m     \u001b[43mtorch\u001b[49m\u001b[38;5;241;43m.\u001b[39;49m\u001b[43msave\u001b[49m\u001b[43m(\u001b[49m\u001b[43mpytorch_model\u001b[49m\u001b[43m,\u001b[49m\u001b[43m \u001b[49m\u001b[43mmodel_path\u001b[49m\u001b[43m,\u001b[49m\u001b[43m \u001b[49m\u001b[43mpickle_module\u001b[49m\u001b[38;5;241;43m=\u001b[39;49m\u001b[43mpickle_module\u001b[49m\u001b[43m,\u001b[49m\u001b[43m \u001b[49m\u001b[38;5;241;43m*\u001b[39;49m\u001b[38;5;241;43m*\u001b[39;49m\u001b[43mkwargs\u001b[49m\u001b[43m)\u001b[49m\n\u001b[1;32m    482\u001b[0m torchserve_artifacts_config \u001b[38;5;241m=\u001b[39m {}\n\u001b[1;32m    484\u001b[0m \u001b[38;5;28;01mif\u001b[39;00m extra_files:\n",
      "File \u001b[0;32m~/Library/Python/3.10/lib/python/site-packages/ultralytics/utils/patches.py:75\u001b[0m, in \u001b[0;36mtorch_save\u001b[0;34m(*args, **kwargs)\u001b[0m\n\u001b[1;32m     73\u001b[0m \u001b[38;5;28;01mif\u001b[39;00m \u001b[38;5;124m'\u001b[39m\u001b[38;5;124mpickle_module\u001b[39m\u001b[38;5;124m'\u001b[39m \u001b[38;5;129;01mnot\u001b[39;00m \u001b[38;5;129;01min\u001b[39;00m kwargs:\n\u001b[1;32m     74\u001b[0m     kwargs[\u001b[38;5;124m'\u001b[39m\u001b[38;5;124mpickle_module\u001b[39m\u001b[38;5;124m'\u001b[39m] \u001b[38;5;241m=\u001b[39m pickle  \u001b[38;5;66;03m# noqa\u001b[39;00m\n\u001b[0;32m---> 75\u001b[0m \u001b[38;5;28;01mreturn\u001b[39;00m \u001b[43m_torch_save\u001b[49m\u001b[43m(\u001b[49m\u001b[38;5;241;43m*\u001b[39;49m\u001b[43margs\u001b[49m\u001b[43m,\u001b[49m\u001b[43m \u001b[49m\u001b[38;5;241;43m*\u001b[39;49m\u001b[38;5;241;43m*\u001b[39;49m\u001b[43mkwargs\u001b[49m\u001b[43m)\u001b[49m\n",
      "File \u001b[0;32m~/Library/Python/3.10/lib/python/site-packages/torch/serialization.py:441\u001b[0m, in \u001b[0;36msave\u001b[0;34m(obj, f, pickle_module, pickle_protocol, _use_new_zipfile_serialization)\u001b[0m\n\u001b[1;32m    439\u001b[0m \u001b[38;5;28;01mif\u001b[39;00m _use_new_zipfile_serialization:\n\u001b[1;32m    440\u001b[0m     \u001b[38;5;28;01mwith\u001b[39;00m _open_zipfile_writer(f) \u001b[38;5;28;01mas\u001b[39;00m opened_zipfile:\n\u001b[0;32m--> 441\u001b[0m         \u001b[43m_save\u001b[49m\u001b[43m(\u001b[49m\u001b[43mobj\u001b[49m\u001b[43m,\u001b[49m\u001b[43m \u001b[49m\u001b[43mopened_zipfile\u001b[49m\u001b[43m,\u001b[49m\u001b[43m \u001b[49m\u001b[43mpickle_module\u001b[49m\u001b[43m,\u001b[49m\u001b[43m \u001b[49m\u001b[43mpickle_protocol\u001b[49m\u001b[43m)\u001b[49m\n\u001b[1;32m    442\u001b[0m         \u001b[38;5;28;01mreturn\u001b[39;00m\n\u001b[1;32m    443\u001b[0m \u001b[38;5;28;01melse\u001b[39;00m:\n",
      "File \u001b[0;32m~/Library/Python/3.10/lib/python/site-packages/torch/serialization.py:653\u001b[0m, in \u001b[0;36m_save\u001b[0;34m(obj, zip_file, pickle_module, pickle_protocol)\u001b[0m\n\u001b[1;32m    651\u001b[0m pickler \u001b[38;5;241m=\u001b[39m pickle_module\u001b[38;5;241m.\u001b[39mPickler(data_buf, protocol\u001b[38;5;241m=\u001b[39mpickle_protocol)\n\u001b[1;32m    652\u001b[0m pickler\u001b[38;5;241m.\u001b[39mpersistent_id \u001b[38;5;241m=\u001b[39m persistent_id\n\u001b[0;32m--> 653\u001b[0m \u001b[43mpickler\u001b[49m\u001b[38;5;241;43m.\u001b[39;49m\u001b[43mdump\u001b[49m\u001b[43m(\u001b[49m\u001b[43mobj\u001b[49m\u001b[43m)\u001b[49m\n\u001b[1;32m    654\u001b[0m data_value \u001b[38;5;241m=\u001b[39m data_buf\u001b[38;5;241m.\u001b[39mgetvalue()\n\u001b[1;32m    655\u001b[0m zip_file\u001b[38;5;241m.\u001b[39mwrite_record(\u001b[38;5;124m'\u001b[39m\u001b[38;5;124mdata.pkl\u001b[39m\u001b[38;5;124m'\u001b[39m, data_value, \u001b[38;5;28mlen\u001b[39m(data_value))\n",
      "File \u001b[0;32m~/Library/Python/3.10/lib/python/site-packages/cloudpickle/cloudpickle.py:1245\u001b[0m, in \u001b[0;36mPickler.dump\u001b[0;34m(self, obj)\u001b[0m\n\u001b[1;32m   1243\u001b[0m \u001b[38;5;28;01mdef\u001b[39;00m \u001b[38;5;21mdump\u001b[39m(\u001b[38;5;28mself\u001b[39m, obj):\n\u001b[1;32m   1244\u001b[0m     \u001b[38;5;28;01mtry\u001b[39;00m:\n\u001b[0;32m-> 1245\u001b[0m         \u001b[38;5;28;01mreturn\u001b[39;00m \u001b[38;5;28;43msuper\u001b[39;49m\u001b[43m(\u001b[49m\u001b[43m)\u001b[49m\u001b[38;5;241;43m.\u001b[39;49m\u001b[43mdump\u001b[49m\u001b[43m(\u001b[49m\u001b[43mobj\u001b[49m\u001b[43m)\u001b[49m\n\u001b[1;32m   1246\u001b[0m     \u001b[38;5;28;01mexcept\u001b[39;00m \u001b[38;5;167;01mRuntimeError\u001b[39;00m \u001b[38;5;28;01mas\u001b[39;00m e:\n\u001b[1;32m   1247\u001b[0m         \u001b[38;5;28;01mif\u001b[39;00m \u001b[38;5;28mlen\u001b[39m(e\u001b[38;5;241m.\u001b[39margs) \u001b[38;5;241m>\u001b[39m \u001b[38;5;241m0\u001b[39m \u001b[38;5;129;01mand\u001b[39;00m \u001b[38;5;124m\"\u001b[39m\u001b[38;5;124mrecursion\u001b[39m\u001b[38;5;124m\"\u001b[39m \u001b[38;5;129;01min\u001b[39;00m e\u001b[38;5;241m.\u001b[39margs[\u001b[38;5;241m0\u001b[39m]:\n",
      "\u001b[0;31mTypeError\u001b[0m: cannot pickle 'torch._C.Generator' object"
     ]
    }
   ],
   "source": [
    "with mlflow.start_run():\n",
    "    # Load and train your YOLOv8 model\n",
    "    model = YOLO('yolov8m-cls.pt')\n",
    "    results = model.train(data='./dataset_test/', epochs=2)\n",
    "\n",
    "    # Log parameters, metrics, and model\n",
    "    mlflow.log_params({\"epochs\": 3, \"model\": \"yolov8m-cls.pt\"})\n",
    "    mlflow.log_metrics({\"top_1\": results.top1})\n",
    "    mlflow.pytorch.log_model(model, \"model\")\n",
    "\n",
    "    # End the run\n",
    "    mlflow.end_run()"
   ]
  },
  {
   "cell_type": "code",
   "execution_count": null,
   "id": "7c94e1a8-1cba-4f8b-b0b5-3c4f974cc5b8",
   "metadata": {},
   "outputs": [],
   "source": [
    "metrics = model.val() # no arguments needed, dataset and settings remembered\n",
    "metrics.top1 # top1 accuracy\n",
    "metrics.top5 # top5 accuracy"
   ]
  },
  {
   "cell_type": "code",
   "execution_count": null,
   "id": "417311a4-bb9b-4e01-a093-f24913aa49be",
   "metadata": {},
   "outputs": [],
   "source": [
    "str(metrics.save_dir)"
   ]
  },
  {
   "cell_type": "code",
   "execution_count": null,
   "id": "6eb49eb9-2e97-4bce-9fcc-79320b5beae0",
   "metadata": {},
   "outputs": [],
   "source": [
    "!open '/Users/frederic.birwe/Desktop/test/pagina-finder-webapp/runs/classify/val19'"
   ]
  },
  {
   "cell_type": "code",
   "execution_count": null,
   "id": "5637befa-4065-43c7-9d9b-f294f981a61f",
   "metadata": {},
   "outputs": [],
   "source": [
    "metrics.confusion_matrix.matrix"
   ]
  },
  {
   "cell_type": "code",
   "execution_count": null,
   "id": "d598bd7d-7a1d-4aa5-b7d2-78699053ed54",
   "metadata": {},
   "outputs": [],
   "source": [
    "model = YOLO(dotenv['MODEL_DIR'] / 'yolov8_moires_24-02-22.pt')"
   ]
  },
  {
   "cell_type": "code",
   "execution_count": null,
   "id": "a83432b9-e2a6-4e6e-99e3-603597dfbb1a",
   "metadata": {},
   "outputs": [],
   "source": [
    "moire_img = list( Path('./dataset/test/moire/').glob('./*.jpg') )\n",
    "non_moire_img = list( Path('./dataset/test/no_moire/').glob('./*.jpg') )\n",
    "\n",
    "data = moire_img + non_moire_img\n",
    "labels = [1 for i in moire_img] + [0 for i in non_moire_img]"
   ]
  },
  {
   "cell_type": "code",
   "execution_count": null,
   "id": "0bb8ba2c-d58c-44f8-92c7-c1d58ca559d6",
   "metadata": {},
   "outputs": [],
   "source": [
    "#model.val()\n",
    "predictions = []\n",
    "target_labels = []\n",
    "\n",
    "for entry in tqdm(data):\n",
    "    pred = model.predict(entry, verbose=False)[0].probs.data\n",
    "    predictions.append(pred)\n",
    "    target_labels.append( 1 - int(torch.argmax(pred)) )"
   ]
  },
  {
   "cell_type": "code",
   "execution_count": null,
   "id": "035c37a1-fdd1-44d0-a952-5bde1c4a272c",
   "metadata": {},
   "outputs": [],
   "source": [
    "str(metrics.save_dir)"
   ]
  },
  {
   "cell_type": "code",
   "execution_count": null,
   "id": "a5ca54ac-68d5-41fa-99f9-8a081f7ca2a8",
   "metadata": {},
   "outputs": [],
   "source": [
    "TP = 0\n",
    "TN = 0\n",
    "FP = 0\n",
    "FN = 0\n",
    "\n",
    "for i in range(len(labels)):\n",
    "    # Positive == 1, Negative == 0\n",
    "    res = labels[i] - target_labels[i]\n",
    "    if res == 0:\n",
    "        if labels[i] == 1:\n",
    "            TP += 1\n",
    "        else:\n",
    "            TN += 1\n",
    "    elif res == -1:\n",
    "        FP += 1\n",
    "    else:\n",
    "        FN += 1\n",
    "\n",
    "recall = TP / (TP + FN)\n",
    "precision = TP / (TP + FP)\n",
    "correct_values = TP + TN\n",
    "accuracy = correct_values / len(labels)"
   ]
  },
  {
   "cell_type": "code",
   "execution_count": null,
   "id": "86ce264d-8d9f-4988-8be8-5b9719513556",
   "metadata": {},
   "outputs": [],
   "source": [
    "TP, TN, FP, FN"
   ]
  },
  {
   "cell_type": "code",
   "execution_count": null,
   "id": "79542618-02bc-40b4-a5ed-9bc3d51f4cc5",
   "metadata": {},
   "outputs": [],
   "source": [
    "TP / (TP + FN)"
   ]
  },
  {
   "cell_type": "code",
   "execution_count": null,
   "id": "031f7181-078b-426f-a823-89205349adfa",
   "metadata": {},
   "outputs": [],
   "source": [
    "recall, precision"
   ]
  },
  {
   "cell_type": "code",
   "execution_count": null,
   "id": "474c3d04-0443-47b3-bedd-cc789df9905a",
   "metadata": {},
   "outputs": [],
   "source": [
    "f\"{(TP + TN)}/{len(labels)}, {accuracy}\""
   ]
  },
  {
   "cell_type": "code",
   "execution_count": null,
   "id": "4614b158-0972-41d5-83a8-4be0951fac04",
   "metadata": {},
   "outputs": [],
   "source": [
    "import shutil"
   ]
  },
  {
   "cell_type": "code",
   "execution_count": null,
   "id": "715d89fd-6bdf-42ea-9221-096199444689",
   "metadata": {},
   "outputs": [],
   "source": [
    "for i in tqdm(range(1,len(labels))):\n",
    "    # Positive == 1, Negative == 0\n",
    "    res = labels[i] - target_labels[i]\n",
    "    if res == 1:\n",
    "        dir_path = Path('./temp/FN/')\n",
    "\n",
    "        if dir_path.exists() == False:\n",
    "            dir_path.mkdir()\n",
    "    elif res == -1:\n",
    "        dir_path = Path('./temp/FP/')\n",
    "\n",
    "        if dir_path.exists() == False:\n",
    "            dir_path.mkdir()\n",
    "\n",
    "    if res != 0:\n",
    "        out_path = dir_path / data[i].name\n",
    "        shutil.copy( data[i], out_path )"
   ]
  },
  {
   "cell_type": "code",
   "execution_count": null,
   "id": "75f59c9c-8d28-4755-a5af-f7a790c99b62",
   "metadata": {},
   "outputs": [],
   "source": [
    "from random import randrange"
   ]
  },
  {
   "cell_type": "code",
   "execution_count": null,
   "id": "892b66a6-d678-4a67-a2b2-b92d7d9efa4c",
   "metadata": {},
   "outputs": [],
   "source": [
    "model.predict(data[i], verbose=False)[0].probs.data"
   ]
  },
  {
   "cell_type": "code",
   "execution_count": null,
   "id": "c72d632c-332a-4963-843f-6f7c9a7d61be",
   "metadata": {},
   "outputs": [],
   "source": [
    "model.predict(Path('./dataset/train/moire/508890.HBZP_1_M_270.p1.soft_light.1.4c_600.jpg.0908.jpg'), verbose=False)[0].probs.data"
   ]
  },
  {
   "cell_type": "code",
   "execution_count": null,
   "id": "1d11ebce-7b90-4868-886a-2a4eaa04b27d",
   "metadata": {},
   "outputs": [],
   "source": []
  },
  {
   "cell_type": "code",
   "execution_count": null,
   "id": "77e1b3be-26e9-41f2-8b57-e94bb67e145c",
   "metadata": {},
   "outputs": [],
   "source": [
    "classes = {\n",
    "    '1' : [],\n",
    "    '0.5' : [],\n",
    "    '-0.5' : [],\n",
    "    '-1' : []\n",
    "}\n",
    "\n",
    "for i in range(len(predictions)):\n",
    "    diff = float(predictions[i][0] - predictions[i][1])\n",
    "\n",
    "    if diff > 0.5:\n",
    "        classes['1'].append(i)\n",
    "    elif diff >= 0:\n",
    "        classes['0.5'].append(i)\n",
    "    elif diff >= -.5:\n",
    "        classes['-0.5'].append(i)\n",
    "    else:\n",
    "        classes['-1'].append(i)"
   ]
  },
  {
   "cell_type": "code",
   "execution_count": null,
   "id": "2824f4cc-abb3-4180-8439-74813f9c9e09",
   "metadata": {},
   "outputs": [],
   "source": [
    "for c in classes:\n",
    "    acc = len([True for i in classes[c] if labels[i] - target_labels[i] == 0]) / len(classes[c])\n",
    "\n",
    "    print(c, acc)"
   ]
  },
  {
   "cell_type": "code",
   "execution_count": null,
   "id": "6c28c948-bb4b-4415-aca7-e77e85617108",
   "metadata": {},
   "outputs": [],
   "source": [
    "i = randrange(len(data))\n",
    "print(i, data[i].name)\n",
    "print(predictions[i], labels[i],target_labels[i])\n",
    "Image.open(data[i])"
   ]
  },
  {
   "cell_type": "code",
   "execution_count": null,
   "id": "21337978-2d6a-4531-ba83-0f9abc659c1d",
   "metadata": {},
   "outputs": [],
   "source": [
    "import pandas as pd"
   ]
  },
  {
   "cell_type": "code",
   "execution_count": null,
   "id": "6128df08-bc78-45b5-bdb8-837e0e1acc26",
   "metadata": {},
   "outputs": [],
   "source": [
    "res_df = pd.DataFrame(\n",
    "    [(float(predictions[i][0]),float(predictions[i][1]),labels[i],target_labels[i]) for i in range(len(labels))],\n",
    "    columns=['pred_moire','pred_no_moire','label','target_label']\n",
    ")\n",
    "\n",
    "res_df.loc[\n",
    "    :,\n",
    "    'pred_diff'\n",
    "] = res_df.pred_moire - res_df.pred_no_moire\n",
    "res_df.loc[\n",
    "    :,\n",
    "    'pred_correct'\n",
    "] = res_df.label == res_df.target_label\n",
    "res_df.loc[\n",
    "    :,\n",
    "    'pred_diff_abs'\n",
    "] = res_df.pred_diff.abs()"
   ]
  },
  {
   "cell_type": "code",
   "execution_count": null,
   "id": "dc1f6f44-6aab-4ecd-8874-713c6ef5c8f3",
   "metadata": {},
   "outputs": [],
   "source": [
    "res_df.corr()"
   ]
  },
  {
   "cell_type": "code",
   "execution_count": null,
   "id": "20f743aa-4420-4801-9668-8d255d7191bc",
   "metadata": {},
   "outputs": [],
   "source": [
    "px.scatter(\n",
    "    y=res_df.pred_diff_abs,\n",
    "    color=res_df.pred_correct\n",
    ")"
   ]
  },
  {
   "cell_type": "code",
   "execution_count": null,
   "id": "38014d1a-3f02-49ef-aefd-920a38153857",
   "metadata": {},
   "outputs": [],
   "source": [
    "px.scatter(\n",
    "    sorted([p[0]-p[1] for p in predictions], reverse=True)\n",
    ")"
   ]
  },
  {
   "cell_type": "code",
   "execution_count": null,
   "id": "08fe8aa1-147f-4db0-9731-16eac9b7ce85",
   "metadata": {},
   "outputs": [],
   "source": [
    "px.scatter(\n",
    "    [p[0] for p in predictions]\n",
    ")"
   ]
  },
  {
   "cell_type": "code",
   "execution_count": null,
   "id": "4702188f-6045-4004-902c-92936ab2bfb3",
   "metadata": {},
   "outputs": [],
   "source": [
    "px.scatter(\n",
    "    [p[1] for p in predictions]\n",
    ")"
   ]
  }
 ],
 "metadata": {
  "kernelspec": {
   "display_name": "Python 3 (ipykernel)",
   "language": "python",
   "name": "python3"
  },
  "language_info": {
   "codemirror_mode": {
    "name": "ipython",
    "version": 3
   },
   "file_extension": ".py",
   "mimetype": "text/x-python",
   "name": "python",
   "nbconvert_exporter": "python",
   "pygments_lexer": "ipython3",
   "version": "3.10.11"
  }
 },
 "nbformat": 4,
 "nbformat_minor": 5
}
