{
 "cells": [
  {
   "cell_type": "code",
   "execution_count": 1,
   "id": "1b0acf9d-ae81-4b04-aa4e-f7abef31927f",
   "metadata": {},
   "outputs": [],
   "source": [
    "import sys\n",
    "sys.path.append('../../30_data_tools/')"
   ]
  },
  {
   "cell_type": "code",
   "execution_count": 2,
   "id": "3591e6dc-0ce3-4056-83fb-6e4b3a34ae13",
   "metadata": {},
   "outputs": [],
   "source": [
    "# Set up CUDA in OS\n",
    "import os\n",
    "os.environ['CUDA_LAUNCH_BLOCKING'] = '1'\n",
    "# Import libabries\n",
    "import torch\n",
    "import torch.nn as nn\n",
    "import torch.optim as optim\n",
    "import torch.nn.functional as F\n",
    "from torchmetrics import Accuracy, Recall, Precision\n",
    "from torchinfo import summary\n",
    "import torchvision\n",
    "from torchvision import *\n",
    "from torch.utils.data import Dataset, DataLoader\n",
    "from torchvision.io import read_image\n",
    "import torchvision.transforms as T\n",
    "from torchvision import datasets, models, transforms\n",
    "from sklearn.metrics import accuracy_score, classification_report, confusion_matrix\n",
    "import mlflow\n",
    "from tqdm.auto import tqdm"
   ]
  },
  {
   "cell_type": "code",
   "execution_count": 3,
   "id": "e78e3fc6-37fc-40e8-94ee-9a17a5c560e0",
   "metadata": {},
   "outputs": [],
   "source": [
    "from pathlib import Path\n",
    "from helper import load_dotenv\n",
    "from pytorch_model_tools import get_datasets, train, validate"
   ]
  },
  {
   "cell_type": "code",
   "execution_count": 4,
   "id": "7dddb170-c3cd-4604-895e-c40926a92ad2",
   "metadata": {},
   "outputs": [],
   "source": [
    "dotenv = load_dotenv()"
   ]
  },
  {
   "cell_type": "code",
   "execution_count": null,
   "id": "5536f7e6-ed15-4c06-affd-12ebc16cd816",
   "metadata": {},
   "outputs": [],
   "source": [
    "mlflow.set_tracking_uri(dotenv['MFLOW_DB_PATH'])\n",
    "mlflow.set_experiment(\"moire_detection\")"
   ]
  },
  {
   "cell_type": "code",
   "execution_count": null,
   "id": "1265149e-a668-4d76-ba90-4079c57fabfe",
   "metadata": {},
   "outputs": [],
   "source": [
    "import ssl\n",
    "ssl._create_default_https_context = ssl._create_unverified_context"
   ]
  },
  {
   "cell_type": "code",
   "execution_count": null,
   "id": "e27b92fd-e25d-4950-90db-a6a22041a870",
   "metadata": {},
   "outputs": [],
   "source": [
    "device = \"cuda\" if torch.cuda.is_available() else \"cpu\"\n",
    "device"
   ]
  },
  {
   "cell_type": "code",
   "execution_count": 5,
   "id": "60a544e0-ab33-464c-9dde-3ab28c494112",
   "metadata": {},
   "outputs": [
    {
     "name": "stdout",
     "output_type": "stream",
     "text": [
      "real_val size 1675\n",
      "test size 16425\n",
      "train size 106255\n",
      "val size 7853\n",
      "class names ['no_moire']\n"
     ]
    }
   ],
   "source": [
    "available_datasets = get_datasets()\n",
    "#available_datasets = get_datasets( dataset_directory=(dotenv['TEMP_PROCESSING_DIR'] / '..' / 'idiotentest') )"
   ]
  },
  {
   "cell_type": "code",
   "execution_count": 6,
   "id": "b38b4160-0c0f-4cbd-ad9e-89e3660bc6ed",
   "metadata": {},
   "outputs": [],
   "source": [
    "import numpy as np\n",
    "from PIL import Image"
   ]
  },
  {
   "cell_type": "code",
   "execution_count": 55,
   "id": "d9363aeb-a840-4abd-ba5f-6c9e790e7589",
   "metadata": {},
   "outputs": [
    {
     "name": "stdout",
     "output_type": "stream",
     "text": [
      "tensor(1)\n"
     ]
    },
    {
     "data": {
      "image/jpeg": "[encoded data removed]",
      "image/png": "[encoded data removed]",
      "text/plain": [
       "<PIL.Image.Image image mode=L size=224x224>"
      ]
     },
     "execution_count": 55,
     "metadata": {},
     "output_type": "execute_result"
    }
   ],
   "source": [
    "X,y = next(iter(available_datasets['val']['dataloader']))\n",
    "print(y[0])\n",
    "\n",
    "Image.fromarray(np.array(X[0,0] * 255).astype('uint8'))"
   ]
  },
  {
   "cell_type": "markdown",
   "id": "9b631063-1829-4568-bc47-c5c236286a7d",
   "metadata": {},
   "source": [
    "# get model"
   ]
  },
  {
   "cell_type": "code",
   "execution_count": null,
   "id": "65b9f824-d098-46dc-951d-496c618df606",
   "metadata": {
    "scrolled": true
   },
   "outputs": [],
   "source": [
    "model = models.resnet50(weights=models.ResNet50_Weights.DEFAULT)\n",
    "num_features = model.fc.in_features \n",
    "# Add a fully-connected layer for classification\n",
    "model.fc = nn.Sequential(\n",
    "    nn.Linear(num_features, 2),\n",
    "    nn.Sigmoid()\n",
    ")\n",
    "model = model.to(device)"
   ]
  },
  {
   "cell_type": "markdown",
   "id": "4234a572-554f-4836-a0a3-6fbf95e44ebc",
   "metadata": {},
   "source": [
    "# Train"
   ]
  },
  {
   "cell_type": "code",
   "execution_count": null,
   "id": "4f7a26bf-cb65-4568-8181-dbd3cc915142",
   "metadata": {},
   "outputs": [],
   "source": [
    "torch.manual_seed(42)\n",
    "torch.cuda.manual_seed(42)"
   ]
  },
  {
   "cell_type": "code",
   "execution_count": null,
   "id": "82e78362-e251-4add-8cf2-de6f7189aea3",
   "metadata": {},
   "outputs": [],
   "source": [
    "epochs = 15\n",
    "loss_fn = nn.CrossEntropyLoss()\n",
    "accuracy_fn = Accuracy(task=\"multiclass\", num_classes=2).to(device)\n",
    "recall_fn = Recall(task=\"multiclass\", average='macro', num_classes=2).to(device)\n",
    "precision_fn = Precision(task=\"multiclass\", average='macro', num_classes=2).to(device)\n",
    "\n",
    "optimizer = torch.optim.SGD(model.parameters(), lr=0.001, momentum=0.9)\n",
    "\n",
    "with mlflow.start_run():\n",
    "    params = {\n",
    "        \"epochs\": epochs,\n",
    "        \"learning_rate\": 0.0001,\n",
    "        \"batch_size\": 64,\n",
    "        \"loss_function\": loss_fn.__class__.__name__,\n",
    "        \"metric_function\": accuracy_fn.__class__.__name__,\n",
    "        \"optimizer\": \"SGD\",\n",
    "    }\n",
    "    # Log training parameters.\n",
    "    mlflow.log_params(params)\n",
    "\n",
    "    # Log model summary.\n",
    "    with open(\"model_summary.txt\", \"w\") as f:\n",
    "        f.write(str(summary(model)))\n",
    "    mlflow.log_artifact(\"model_summary.txt\")\n",
    "\n",
    "    for t in tqdm(range(epochs)):\n",
    "        print(f\"Epoch {t+1} -------------------------------\")\n",
    "        train(available_datasets['train']['dataloader'], model, device, loss_fn, optimizer, metrics=[('accuracy',accuracy_fn), ('recall',recall_fn), ('precision',precision_fn)] )\n",
    "        #print(\"validate\")\n",
    "        #validate(available_datasets['val']['dataloader'], model, device, loss_fn, metrics=[('accuracy',accuracy_fn), ('recall',recall_fn), ('precision',precision_fn)] )\n",
    "\n",
    "    # Save the trained model to MLflow.\n",
    "    mlflow.pytorch.log_model(model, \"model\")"
   ]
  },
  {
   "cell_type": "code",
   "execution_count": null,
   "id": "67d30f21-3544-4596-a8e3-d4d7ea1712d6",
   "metadata": {},
   "outputs": [],
   "source": [
    "mlflow.pytorch.log_model(model, \"model\")"
   ]
  },
  {
   "cell_type": "code",
   "execution_count": null,
   "id": "de40534f-8a56-47fd-9a85-a83fb4e118aa",
   "metadata": {},
   "outputs": [],
   "source": [
    "torch.save(model, dotenv['MODEL_DIR'] / '24-04-02_01_resnet50.pth' )"
   ]
  },
  {
   "cell_type": "code",
   "execution_count": null,
   "id": "114693cb-d765-48a3-a748-d83387339da0",
   "metadata": {},
   "outputs": [],
   "source": [
    "validate(available_datasets['val']['dataloader'], model, device, loss_fn, metrics=[('accuracy',accuracy_fn), ('recall',recall_fn), ('precision',precision_fn)] )"
   ]
  },
  {
   "cell_type": "code",
   "execution_count": null,
   "id": "e91e8a6e-b3b3-4936-828a-821c66b49913",
   "metadata": {},
   "outputs": [],
   "source": [
    "0 / 0"
   ]
  }
 ],
 "metadata": {
  "kernelspec": {
   "display_name": "Python 3 (ipykernel)",
   "language": "python",
   "name": "python3"
  },
  "language_info": {
   "codemirror_mode": {
    "name": "ipython",
    "version": 3
   },
   "file_extension": ".py",
   "mimetype": "text/x-python",
   "name": "python",
   "nbconvert_exporter": "python",
   "pygments_lexer": "ipython3",
   "version": "3.10.11"
  }
 },
 "nbformat": 4,
 "nbformat_minor": 5
}
