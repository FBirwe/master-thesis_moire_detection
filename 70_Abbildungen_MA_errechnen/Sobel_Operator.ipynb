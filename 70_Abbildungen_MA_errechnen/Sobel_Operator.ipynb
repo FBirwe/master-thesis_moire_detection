{
 "cells": [
  {
   "cell_type": "code",
   "execution_count": 53,
   "id": "a1778f15-0f65-410c-a634-0012e7f826a6",
   "metadata": {},
   "outputs": [],
   "source": [
    "import sys\n",
    "sys.path.append('../30_data_tools/')\n",
    "\n",
    "import cv2\n",
    "import numpy as np\n",
    "import plotly.express as px\n",
    "import plotly.graph_objects as go\n",
    "import plotly.io as pio\n",
    "\n",
    "from helper import load_dotenv"
   ]
  },
  {
   "cell_type": "code",
   "execution_count": 3,
   "id": "7d7abd70-22e8-4b66-b9ce-fa2920e17597",
   "metadata": {},
   "outputs": [],
   "source": [
    "dotenv = load_dotenv()"
   ]
  },
  {
   "cell_type": "code",
   "execution_count": 7,
   "id": "806a10dd-e3ac-44b1-b6e7-04df22d6c176",
   "metadata": {},
   "outputs": [],
   "source": [
    "attachment_dir = dotenv['ATTACHMENT_DIR'] / 'sobel_operator'"
   ]
  },
  {
   "cell_type": "code",
   "execution_count": 8,
   "id": "7a6daba1-0ab1-4045-a199-607a7ea81b16",
   "metadata": {},
   "outputs": [],
   "source": [
    "img = cv2.imread( str(attachment_dir / 'sobel_operator.jpg') )"
   ]
  },
  {
   "cell_type": "code",
   "execution_count": 34,
   "id": "7b052337-42ad-4453-9630-ee9beaa820d3",
   "metadata": {},
   "outputs": [],
   "source": [
    "fig = px.imshow(\n",
    "    img[:,:,0],\n",
    "    text_auto=True,\n",
    "    color_continuous_scale=['white','black'],\n",
    "    width=1500,\n",
    "    height=1500\n",
    ")\n",
    "fig.update_layout(coloraxis_showscale=False)\n",
    "fig.update_xaxes(showticklabels=False)\n",
    "fig.update_yaxes(showticklabels=False)\n",
    "\n",
    "fig.write_image( attachment_dir / 'sobel_input.jpg' )"
   ]
  },
  {
   "cell_type": "code",
   "execution_count": 40,
   "id": "937a7987-f141-4475-8bea-0a23cb10ff6f",
   "metadata": {},
   "outputs": [],
   "source": [
    "sobel_operator = np.array([\n",
    "    [1, 0, -1],\n",
    "    [2, 0, -2],\n",
    "    [1, 0, -1],\n",
    "])"
   ]
  },
  {
   "cell_type": "code",
   "execution_count": 56,
   "id": "04b726c1-439f-487a-b96e-bafb95395662",
   "metadata": {},
   "outputs": [],
   "source": [
    "fig = px.imshow(\n",
    "    [\n",
    "        [1, 0, -1],\n",
    "        [2, 0, -2],\n",
    "        [1, 0, -1],\n",
    "    ],\n",
    "    text_auto=True,\n",
    "    color_continuous_scale=['white','black'],\n",
    ")\n",
    "fig.update_layout(coloraxis_showscale=False)\n",
    "fig.update_xaxes(showticklabels=False)\n",
    "fig.update_yaxes(showticklabels=False)\n",
    "fig.update_layout(\n",
    "    paper_bgcolor='rgba(0,0,0,0)',\n",
    "    plot_bgcolor='rgba(0,0,0,0)',\n",
    ")\n",
    "\n",
    "image_bytes = pio.to_image(fig, format='png', engine='kaleido')\n",
    "\n",
    "with ( attachment_dir / 'sobel_operator.png' ).open('wb') as f:\n",
    "    f.write(image_bytes)"
   ]
  },
  {
   "cell_type": "code",
   "execution_count": 50,
   "id": "87c3b26c-c2d6-4b04-8cbc-c3a806b38bab",
   "metadata": {},
   "outputs": [],
   "source": [
    "filtered = cv2.filter2D(src=img, ddepth=-1, kernel=sobel_operator)\n",
    "fig = px.imshow(\n",
    "    filtered[:,:,0],\n",
    "    text_auto=True,\n",
    "    color_continuous_scale=['white','black'],\n",
    "    width=1500,\n",
    "    height=1500\n",
    ")\n",
    "fig.update_layout(coloraxis_showscale=False)\n",
    "fig.update_xaxes(showticklabels=False)\n",
    "fig.update_yaxes(showticklabels=False)\n",
    "\n",
    "fig.write_image( attachment_dir / 'result.jpg' )"
   ]
  }
 ],
 "metadata": {
  "kernelspec": {
   "display_name": "Python 3 (ipykernel)",
   "language": "python",
   "name": "python3"
  },
  "language_info": {
   "codemirror_mode": {
    "name": "ipython",
    "version": 3
   },
   "file_extension": ".py",
   "mimetype": "text/x-python",
   "name": "python",
   "nbconvert_exporter": "python",
   "pygments_lexer": "ipython3",
   "version": "3.10.11"
  }
 },
 "nbformat": 4,
 "nbformat_minor": 5
}
