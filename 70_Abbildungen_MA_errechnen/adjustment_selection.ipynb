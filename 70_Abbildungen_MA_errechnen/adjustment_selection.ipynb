{
 "cells": [
  {
   "cell_type": "code",
   "execution_count": 1,
   "id": "ff1f8ee3-028f-48f0-a012-836c25630d3e",
   "metadata": {},
   "outputs": [],
   "source": [
    "import sys\n",
    "sys.path.append('../80_Auswertungen/')\n",
    "sys.path.append('../30_data_tools/')\n",
    "sys.path.append('../60_Code/Musterueberlagerung/')\n",
    "from pattern_creation import get_adjustments_to_use\n",
    "import plotly.express as px\n",
    "import json\n",
    "from helper import load_dotenv\n",
    "from load_constants import load_colors"
   ]
  },
  {
   "cell_type": "code",
   "execution_count": 13,
   "id": "23e90090-017b-4b07-9b0f-7c59a6a592ac",
   "metadata": {},
   "outputs": [],
   "source": [
    "dotenv = load_dotenv()\n",
    "colors = load_colors()"
   ]
  },
  {
   "cell_type": "code",
   "execution_count": 3,
   "id": "8746dfae-105f-498a-8b6e-41f3f5a899fa",
   "metadata": {},
   "outputs": [],
   "source": [
    "with open('../60_Code/Musterueberlagerung/configurations/config.json') as json_file:\n",
    "    config = json.load(json_file)"
   ]
  },
  {
   "cell_type": "code",
   "execution_count": 4,
   "id": "34ea8fe0-f1d8-4a6b-8625-0a4491de8d67",
   "metadata": {},
   "outputs": [],
   "source": [
    "out_map = {}\n",
    "\n",
    "for i in range(10000):\n",
    "    adj_len = len(get_adjustments_to_use([], config))\n",
    "    if adj_len not in out_map:\n",
    "        out_map[adj_len] = 0\n",
    "\n",
    "    out_map[adj_len] += 1"
   ]
  },
  {
   "cell_type": "code",
   "execution_count": 14,
   "id": "a2e3764d-27b6-4266-986c-7bc1c27dc9f4",
   "metadata": {},
   "outputs": [],
   "source": [
    "px.bar(\n",
    "    x=[i for i in range(1,max(out_map.keys()))],\n",
    "    y=[out_map[i] if i in out_map else 0 for i in range(1,max(out_map.keys()))],\n",
    "    labels={\n",
    "        'x' : 'Anzahl der ausgewählten Effekte',\n",
    "        'y' : 'Anzahl der Auswahl'\n",
    "    },\n",
    "    width=900,\n",
    "    height=300,\n",
    "    color_discrete_sequence=colors['COLOR_SEQUENCE']\n",
    ").write_image( dotenv['ATTACHMENT_DIR'] / '7_Adjustment_selection.pdf' )"
   ]
  }
 ],
 "metadata": {
  "kernelspec": {
   "display_name": "Python 3 (ipykernel)",
   "language": "python",
   "name": "python3"
  },
  "language_info": {
   "codemirror_mode": {
    "name": "ipython",
    "version": 3
   },
   "file_extension": ".py",
   "mimetype": "text/x-python",
   "name": "python",
   "nbconvert_exporter": "python",
   "pygments_lexer": "ipython3",
   "version": "3.10.11"
  }
 },
 "nbformat": 4,
 "nbformat_minor": 5
}
