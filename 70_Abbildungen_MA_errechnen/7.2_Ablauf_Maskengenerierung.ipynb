{
 "cells": [
  {
   "cell_type": "code",
   "execution_count": 1,
   "id": "15ea8e6a-9a8c-48ac-8edf-d9de782893aa",
   "metadata": {},
   "outputs": [],
   "source": [
    "import sys\n",
    "sys.path.append('../30_data_tools/')\n",
    "sys.path.append('../60_Code/Musterueberlagerung/')\n",
    "sys.path.append('../60_Code/process_masks/')"
   ]
  },
  {
   "cell_type": "code",
   "execution_count": 2,
   "id": "e81f514c-b749-4c76-8d1d-c8d7135c3842",
   "metadata": {},
   "outputs": [],
   "source": [
    "import sqlite3\n",
    "import pandas as pd\n",
    "from PIL import Image"
   ]
  },
  {
   "cell_type": "code",
   "execution_count": 3,
   "id": "b4c1c16e-cc81-4507-8c22-5333abe944f2",
   "metadata": {},
   "outputs": [],
   "source": [
    "import json\n",
    "import numpy as np"
   ]
  },
  {
   "cell_type": "code",
   "execution_count": 4,
   "id": "5bf64157-ce9f-4616-baf5-d43e70cc95e3",
   "metadata": {},
   "outputs": [],
   "source": [
    "from helper import load_dotenv"
   ]
  },
  {
   "cell_type": "code",
   "execution_count": 5,
   "id": "4d72d70b-ed15-4b5f-90dc-2a3db2207454",
   "metadata": {},
   "outputs": [],
   "source": [
    "from pattern_creation import get_pattern_style, get_pattern_img_by_style\n",
    "from apply_pattern import apply_pattern\n",
    "from file_interaction import get_related_filepath, open_img\n",
    "from generic_image_db_interaction import load_mask_configuration_file\n",
    "from mask_functions import get_config as get_mask_config, load_masks, get_whole_mask"
   ]
  },
  {
   "cell_type": "code",
   "execution_count": 6,
   "id": "7c5d21c9-649b-49e3-9adf-46243ef28954",
   "metadata": {},
   "outputs": [],
   "source": [
    "dotenv = load_dotenv()"
   ]
  },
  {
   "cell_type": "code",
   "execution_count": 8,
   "id": "7c8189ab",
   "metadata": {},
   "outputs": [],
   "source": [
    "attachment_dir = dotenv['ATTACHMENT_DIR'] / '7.2_Ablauf_Maskengenerierung'"
   ]
  },
  {
   "cell_type": "code",
   "execution_count": null,
   "id": "2b07d788-4a87-4cbe-9d0b-b9bca1fbe21f",
   "metadata": {},
   "outputs": [],
   "source": [
    "with open('../60_Code/Musterueberlagerung/configurations/config_pullover.json') as config_file:\n",
    "    config = json.load(config_file)"
   ]
  },
  {
   "cell_type": "code",
   "execution_count": null,
   "id": "4d665800-30fd-406b-8cbd-74521e029e9f",
   "metadata": {},
   "outputs": [],
   "source": [
    "mask_config = load_mask_configuration_file(\n",
    "    '24-03-05-01_randomTrainPages',\n",
    "    '141465.g39_naturapotheke_print_001-304.p244',\n",
    "    'soft_light',\n",
    "    1,\n",
    "    'H7_8crh4Ow'\n",
    ")\n",
    "mask_config['pattern'] = 'perlin_noise.5.33.9.df1;01.DIAMOND'\n",
    "\n",
    "for effect in mask_config['effects']:\n",
    "    if effect['effect_name'] == 'wave_deform' and 'wave_length' in effect:\n",
    "        effect['wave_configurations'] = [(effect['wave_length'], effect['wave_depth'])]"
   ]
  },
  {
   "cell_type": "code",
   "execution_count": null,
   "id": "a5ee04e6-3354-4137-9623-05907ac09e98",
   "metadata": {},
   "outputs": [],
   "source": [
    "mask_config = load_mask_configuration_file(\n",
    "    '24-03-05-01_randomTrainPages',\n",
    "    '617531.CD185_154155.p2',\n",
    "    'soft_light',\n",
    "    1,\n",
    "    '1tqZhRP9Ah'\n",
    ")\n",
    "mask_config['pattern'] = 'perlin_noise.5.33.5.df1;01.LINE'"
   ]
  },
  {
   "cell_type": "code",
   "execution_count": null,
   "id": "a26bf0eb-561e-4620-8128-a2bfcd1b14c4",
   "metadata": {},
   "outputs": [],
   "source": [
    "img_path = get_related_filepath(\n",
    "    mask_config['job'],\n",
    "    f'halftone{ dotenv[\"LOFI_DPI\"] }dpi',\n",
    "    f'{ mask_config[\"pdf_filename\"] }.4c.jpg'\n",
    ")\n",
    "\n",
    "masks_path = get_related_filepath(\n",
    "    mask_config['job'],\n",
    "    f'halftone{ dotenv[\"LOFI_DPI\"] }dpi',\n",
    "    f'{ mask_config[\"pdf_filename\"] }.masks.pkl'\n",
    ")\n",
    "\n",
    "img = open_img( img_path )\n",
    "masks = load_masks( masks_path )\n",
    "m = [m for m in masks if m['bbox'] == mask_config['bbox']][0]\n",
    "pattern_img = get_pattern_img_by_style( mask_config, config )"
   ]
  },
  {
   "cell_type": "code",
   "execution_count": null,
   "id": "9f7c4edc-ffb5-48d3-91e1-9a630d5290bf",
   "metadata": {},
   "outputs": [],
   "source": [
    "out_img = np.array(img)\n",
    "out_img[:,:,3],pattern_mask, ssim_value_K = apply_pattern(\n",
    "    out_img[:,:,3],\n",
    "    pattern_img,\n",
    "    m,\n",
    "    mask_config['pattern_position'],\n",
    "    config,\n",
    "    method=mask_config['method'],\n",
    "    overlay_weight=1,\n",
    "    #overlay_weight=config['overlay_weight'] * config['overlay_intensity'][3],\n",
    "    log=lambda val: None\n",
    ")"
   ]
  },
  {
   "cell_type": "code",
   "execution_count": null,
   "id": "fd05ba5c-c59d-4deb-83a5-c0328ed7c522",
   "metadata": {},
   "outputs": [],
   "source": [
    "Image.fromarray(255 - np.array(img)[:,:,3]).crop((\n",
    "    m['bbox'][0],m['bbox'][1],\n",
    "    m['bbox'][0]+m['bbox'][2],m['bbox'][1]+m['bbox'][3]\n",
    "))"
   ]
  },
  {
   "cell_type": "code",
   "execution_count": null,
   "id": "148840e3-5624-483b-99d0-eda8a0bdac14",
   "metadata": {},
   "outputs": [],
   "source": [
    "Image.fromarray(255 - out_img[:,:,3]).crop((\n",
    "    m['bbox'][0],m['bbox'][1],\n",
    "    m['bbox'][0]+m['bbox'][2],m['bbox'][1]+m['bbox'][3]\n",
    "))"
   ]
  },
  {
   "cell_type": "code",
   "execution_count": null,
   "id": "f71413ea-078a-42e0-84a3-afe924bed536",
   "metadata": {},
   "outputs": [],
   "source": [
    "Image.fromarray(m['mask'])"
   ]
  },
  {
   "cell_type": "code",
   "execution_count": null,
   "id": "5735f91e-385d-4e9e-9dad-3669fc2c9030",
   "metadata": {},
   "outputs": [],
   "source": [
    "ssim_value_K"
   ]
  },
  {
   "cell_type": "code",
   "execution_count": null,
   "id": "221dc724-a04a-42c6-acc3-e5a93049525a",
   "metadata": {},
   "outputs": [],
   "source": [
    "img.crop((\n",
    "    m['bbox'][0],m['bbox'][1],\n",
    "    m['bbox'][0]+m['bbox'][2],m['bbox'][1]+m['bbox'][3]\n",
    ")).save( attachment_dir / '01_orig_img.jpg')"
   ]
  },
  {
   "cell_type": "code",
   "execution_count": null,
   "id": "50017ce4-a853-451c-aa5a-16e0f779d5ec",
   "metadata": {},
   "outputs": [],
   "source": [
    "Image.fromarray(m['mask']).save( attachment_dir / '02_mask.jpg' )"
   ]
  },
  {
   "cell_type": "code",
   "execution_count": null,
   "id": "1fd75b24-ec2f-4818-91bc-014d133c3ad9",
   "metadata": {},
   "outputs": [],
   "source": [
    "Image.fromarray(out_img, mode='CMYK').crop((\n",
    "    m['bbox'][0],m['bbox'][1],\n",
    "    m['bbox'][0]+m['bbox'][2],m['bbox'][1]+m['bbox'][3]\n",
    ")).save( attachment_dir / '03_generic.jpg' )"
   ]
  },
  {
   "cell_type": "code",
   "execution_count": null,
   "id": "4e53080f-7d00-4faf-b77b-0238a66a72a3",
   "metadata": {},
   "outputs": [],
   "source": [
    "pattern_img.save( attachment_dir / '04_transformed_pattern.jpg')"
   ]
  },
  {
   "cell_type": "code",
   "execution_count": null,
   "id": "be64ac6d-63bb-41e1-a205-da0724777992",
   "metadata": {},
   "outputs": [],
   "source": [
    "Image.fromarray(pattern_mask).save( attachment_dir / '05_pattern_mask.tif')"
   ]
  }
 ],
 "metadata": {
  "kernelspec": {
   "display_name": "Python 3 (ipykernel)",
   "language": "python",
   "name": "python3"
  },
  "language_info": {
   "codemirror_mode": {
    "name": "ipython",
    "version": 3
   },
   "file_extension": ".py",
   "mimetype": "text/x-python",
   "name": "python",
   "nbconvert_exporter": "python",
   "pygments_lexer": "ipython3",
   "version": "3.10.11"
  }
 },
 "nbformat": 4,
 "nbformat_minor": 5
}
