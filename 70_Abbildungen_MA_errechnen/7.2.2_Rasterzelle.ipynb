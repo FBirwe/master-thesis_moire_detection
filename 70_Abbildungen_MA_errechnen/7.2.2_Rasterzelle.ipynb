{
 "cells": [
  {
   "cell_type": "code",
   "execution_count": 21,
   "id": "91104585-c8b0-4ac6-952d-9b3f932f0e53",
   "metadata": {},
   "outputs": [],
   "source": [
    "import sys\n",
    "sys.path.append('../60_Code/generate_patterns/')\n",
    "sys.path.append('../30_data_tools/')\n",
    "\n",
    "from raster_image_processor import RasterImageProcessor, DOT_SHAPE\n",
    "from PIL import Image, ImageFont, ImageDraw  \n",
    "from helper import load_dotenv\n",
    "from pathlib import Path\n",
    "import numpy as np"
   ]
  },
  {
   "cell_type": "code",
   "execution_count": 4,
   "id": "90bff9d9-e65a-4eb1-b27d-afa6519a601f",
   "metadata": {},
   "outputs": [],
   "source": [
    "dotenv = load_dotenv()"
   ]
  },
  {
   "cell_type": "code",
   "execution_count": null,
   "id": "772b3e1a-fbf5-46e8-ad42-371530558487",
   "metadata": {},
   "outputs": [],
   "source": [
    "rip = RasterImageProcessor( DOT_SHAPE.DIAMOND, 16 )"
   ]
  },
  {
   "cell_type": "code",
   "execution_count": null,
   "id": "89772114-5ba6-4631-818b-aaaf81b8c564",
   "metadata": {},
   "outputs": [],
   "source": [
    "coverage = .3 * 255"
   ]
  },
  {
   "cell_type": "code",
   "execution_count": null,
   "id": "d9a1a764-79de-4cd2-82c7-914136e851a2",
   "metadata": {},
   "outputs": [],
   "source": [
    "img = Image.new(\n",
    "    \"L\",\n",
    "    (1600,1600),\n",
    "    color='white'\n",
    ")\n",
    "\n",
    "draw = ImageDraw.Draw(img)\n",
    "font = ImageFont.load_default(size=25)\n",
    "\n",
    "for i in range(100, img.size[0], 100):\n",
    "    draw.line((i, 0, i, img.size[1]), fill=128)\n",
    "\n",
    "for i in range(100, img.size[1], 100):\n",
    "    draw.line((0, i, img.size[0]+1, i), fill=128)\n",
    "\n",
    "\n",
    "for y in range(rip.threshold_map.shape[0]):\n",
    "    for x in range(rip.threshold_map.shape[1]):\n",
    "        if rip.threshold_map[y,x] <= coverage:\n",
    "            color = 'white'\n",
    "            draw.rectangle(\n",
    "                (x*100, y*100, (x+1)*100, (y+1)*100),\n",
    "                fill='black'\n",
    "            )\n",
    "        else:\n",
    "            color = 'black'\n",
    "        \n",
    "        draw.text(\n",
    "            (x*100 + 50, y*100 + 50),\n",
    "            str(int(rip.threshold_map[y,x])),\n",
    "            font=font,\n",
    "            fill=color,\n",
    "            anchor=\"mm\"\n",
    "        )"
   ]
  },
  {
   "cell_type": "code",
   "execution_count": null,
   "id": "55a3285d-20ea-43ee-b313-7e217226c926",
   "metadata": {},
   "outputs": [],
   "source": [
    "img.save( dotenv['ATTACHMENT_DIR'] / 'Rasterzelle_30P.jpg')"
   ]
  },
  {
   "cell_type": "markdown",
   "id": "aff3b154-b28b-414a-82a9-3809fde46eba",
   "metadata": {},
   "source": [
    "# Schwellwertmatrizen"
   ]
  },
  {
   "cell_type": "code",
   "execution_count": 26,
   "id": "d518e4df-2636-4836-9f8c-296af52b0431",
   "metadata": {},
   "outputs": [],
   "source": [
    "import csv\n",
    "import plotly.express as px"
   ]
  },
  {
   "cell_type": "code",
   "execution_count": 35,
   "id": "4f983479-994a-4b42-beb6-af3660a36f3e",
   "metadata": {},
   "outputs": [],
   "source": [
    "attachment_dir = dotenv['ATTACHMENT_DIR'] / 'schwellwertmatrizen'"
   ]
  },
  {
   "cell_type": "code",
   "execution_count": 39,
   "id": "8735e19a-7d8a-46ca-8b60-d05fc21ef8ea",
   "metadata": {},
   "outputs": [],
   "source": [
    "def get_threshold_matrix( csv_path ):\n",
    "        \n",
    "    with csv_path.open() as csv_file:\n",
    "        reader = csv.reader( csv_file )\n",
    "\n",
    "        values = []\n",
    "        for row in reader:\n",
    "            values.append([int(float(v)) for v in row[0].split(';')])\n",
    "\n",
    "    return np.array(values)\n",
    "\n",
    "def get_threshold_fig( csv_path ):\n",
    "    fig = px.imshow(\n",
    "        get_threshold_matrix( csv_path ),\n",
    "        text_auto=True,\n",
    "        color_continuous_scale=['white','black'],\n",
    "        width=1000,\n",
    "        height=1000\n",
    "    )\n",
    "    fig.update_layout(coloraxis_showscale=False)\n",
    "    fig.update_xaxes(showticklabels=False)\n",
    "    fig.update_yaxes(showticklabels=False)\n",
    "\n",
    "    return fig"
   ]
  },
  {
   "cell_type": "code",
   "execution_count": 40,
   "id": "bf81a280-6c82-462b-9f77-83603fa39ac8",
   "metadata": {},
   "outputs": [],
   "source": [
    "line_path = Path('../60_Code/generate_patterns/line_16.csv')\n",
    "circle_path = Path('../60_Code/generate_patterns/circle_16.csv')\n",
    "diamond_path = Path('../60_Code/generate_patterns/diamond_16.csv')"
   ]
  },
  {
   "cell_type": "code",
   "execution_count": 41,
   "id": "fc8aad0a-69cc-4a2a-abde-994138197d71",
   "metadata": {},
   "outputs": [],
   "source": [
    "get_threshold_fig( line_path ).write_image( attachment_dir / 'line_16.pdf' )\n",
    "get_threshold_fig( circle_path ).write_image( attachment_dir / 'circle_16.pdf' )\n",
    "get_threshold_fig( diamond_path ).write_image( attachment_dir / 'diamond_16.pdf' )"
   ]
  }
 ],
 "metadata": {
  "kernelspec": {
   "display_name": "Python 3 (ipykernel)",
   "language": "python",
   "name": "python3"
  },
  "language_info": {
   "codemirror_mode": {
    "name": "ipython",
    "version": 3
   },
   "file_extension": ".py",
   "mimetype": "text/x-python",
   "name": "python",
   "nbconvert_exporter": "python",
   "pygments_lexer": "ipython3",
   "version": "3.10.11"
  }
 },
 "nbformat": 4,
 "nbformat_minor": 5
}
