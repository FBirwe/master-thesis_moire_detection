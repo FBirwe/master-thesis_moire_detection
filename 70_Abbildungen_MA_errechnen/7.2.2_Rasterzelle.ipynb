{
 "cells": [
  {
   "cell_type": "code",
   "execution_count": 15,
   "id": "91104585-c8b0-4ac6-952d-9b3f932f0e53",
   "metadata": {},
   "outputs": [],
   "source": [
    "import sys\n",
    "sys.path.append('../60_gebastel/generate_patterns/')\n",
    "\n",
    "from raster_image_processor import RasterImageProcessor, DOT_SHAPE\n",
    "from PIL import Image, ImageFont, ImageDraw  "
   ]
  },
  {
   "cell_type": "code",
   "execution_count": 2,
   "id": "772b3e1a-fbf5-46e8-ad42-371530558487",
   "metadata": {},
   "outputs": [],
   "source": [
    "rip = RasterImageProcessor( DOT_SHAPE.DIAMOND, 16 )"
   ]
  },
  {
   "cell_type": "code",
   "execution_count": 71,
   "id": "89772114-5ba6-4631-818b-aaaf81b8c564",
   "metadata": {},
   "outputs": [],
   "source": [
    "coverage = .3 * 255"
   ]
  },
  {
   "cell_type": "code",
   "execution_count": 72,
   "id": "d9a1a764-79de-4cd2-82c7-914136e851a2",
   "metadata": {},
   "outputs": [],
   "source": [
    "img = Image.new(\n",
    "    \"L\",\n",
    "    (1600,1600),\n",
    "    color='white'\n",
    ")\n",
    "\n",
    "draw = ImageDraw.Draw(img)\n",
    "font = ImageFont.load_default(size=25)\n",
    "\n",
    "for i in range(100, img.size[0], 100):\n",
    "    draw.line((i, 0, i, img.size[1]), fill=128)\n",
    "\n",
    "for i in range(100, img.size[1], 100):\n",
    "    draw.line((0, i, img.size[0]+1, i), fill=128)\n",
    "\n",
    "\n",
    "for y in range(rip.threshold_map.shape[0]):\n",
    "    for x in range(rip.threshold_map.shape[1]):\n",
    "        if rip.threshold_map[y,x] <= coverage:\n",
    "            color = 'white'\n",
    "            draw.rectangle(\n",
    "                (x*100, y*100, (x+1)*100, (y+1)*100),\n",
    "                fill='black'\n",
    "            )\n",
    "        else:\n",
    "            color = 'black'\n",
    "        \n",
    "        draw.text(\n",
    "            (x*100 + 50, y*100 + 50),\n",
    "            str(int(rip.threshold_map[y,x])),\n",
    "            font=font,\n",
    "            fill=color,\n",
    "            anchor=\"mm\"\n",
    "        )"
   ]
  },
  {
   "cell_type": "code",
   "execution_count": 73,
   "id": "55a3285d-20ea-43ee-b313-7e217226c926",
   "metadata": {},
   "outputs": [],
   "source": [
    "img.save('/Users/frederic.birwe/Downloads/Rasterzelle_30P.jpg')"
   ]
  }
 ],
 "metadata": {
  "kernelspec": {
   "display_name": "Python 3 (ipykernel)",
   "language": "python",
   "name": "python3"
  },
  "language_info": {
   "codemirror_mode": {
    "name": "ipython",
    "version": 3
   },
   "file_extension": ".py",
   "mimetype": "text/x-python",
   "name": "python",
   "nbconvert_exporter": "python",
   "pygments_lexer": "ipython3",
   "version": "3.10.11"
  }
 },
 "nbformat": 4,
 "nbformat_minor": 5
}
