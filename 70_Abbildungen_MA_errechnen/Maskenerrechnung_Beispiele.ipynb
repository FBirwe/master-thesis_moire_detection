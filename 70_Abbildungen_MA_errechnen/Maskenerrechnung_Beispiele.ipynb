{
 "cells": [
  {
   "cell_type": "code",
   "execution_count": 1,
   "id": "d27b82f8-eaae-4b99-8990-7d2f43238940",
   "metadata": {},
   "outputs": [],
   "source": [
    "import sys\n",
    "sys.path.append('../30_data_tools/')\n",
    "sys.path.append('../60_gebastel/process_masks//')\n",
    "import torch\n",
    "from PIL import ImageDraw"
   ]
  },
  {
   "cell_type": "code",
   "execution_count": 2,
   "id": "ae02dca5-a54d-436b-84db-9579be2012e2",
   "metadata": {},
   "outputs": [],
   "source": [
    "from render_masks import render_mask, get_config\n",
    "from segment_anything import SamAutomaticMaskGenerator, sam_model_registry\n",
    "from helper import load_dotenv, get_pdf_page_processing_status\n",
    "from file_interaction import open_img, get_related_filepath"
   ]
  },
  {
   "cell_type": "code",
   "execution_count": 3,
   "id": "4eaeacb9-db94-4251-b5ae-b228e84da5c3",
   "metadata": {},
   "outputs": [],
   "source": [
    "from mask_functions import is_below_max_size, is_above_min_size, is_text_mask, filter_intersected_masks"
   ]
  },
  {
   "cell_type": "code",
   "execution_count": 4,
   "id": "6b883c6c-52e7-48f5-b3c4-030243d6a3e4",
   "metadata": {},
   "outputs": [],
   "source": [
    "import cv2"
   ]
  },
  {
   "cell_type": "code",
   "execution_count": 5,
   "id": "8048863e-5504-41c3-8ea1-1a21350c1437",
   "metadata": {},
   "outputs": [],
   "source": [
    "pdf_filename = '617995.tg45_Inhalt_7128_BA_WG1_0159_D.p1'\n",
    "pdf_filename = '617660.0065_FS_24_41-Dat.p1'"
   ]
  },
  {
   "cell_type": "code",
   "execution_count": 6,
   "id": "efa128fc-0a3a-42cc-8355-3c55657e09f5",
   "metadata": {},
   "outputs": [
    {
     "name": "stdout",
     "output_type": "stream",
     "text": [
      "no cuda\n"
     ]
    }
   ],
   "source": [
    "dotenv = load_dotenv()\n",
    "config = get_config()\n",
    "config['target_variant'] = 'halftone600dpi'\n",
    "\n",
    "sam = sam_model_registry[\"vit_h\"](checkpoint=dotenv['MODEL_DIR'] / \"sam_vit_h_4b8939.pth\")\n",
    "\n",
    "if torch.cuda.is_available():\n",
    "    sam.to(device=torch.cuda.device(0))\n",
    "    print( torch.cuda.get_device_name(0) )\n",
    "else:\n",
    "    print( \"no cuda\" )\n",
    "\n",
    "mask_generator = SamAutomaticMaskGenerator(sam)"
   ]
  },
  {
   "cell_type": "code",
   "execution_count": 7,
   "id": "cc46e3fc-5fb7-4bed-ba09-16bc6d9a802e",
   "metadata": {},
   "outputs": [],
   "source": [
    "masks = get_pdf_page_processing_status( config['target_variant'], 'masks' )\n",
    "masks = masks.loc[\n",
    "    masks.job == '24-03-05-01_randomTrainPages'\n",
    "]"
   ]
  },
  {
   "cell_type": "code",
   "execution_count": 8,
   "id": "8143e873-99ef-48c2-a4c3-5151fc78031b",
   "metadata": {},
   "outputs": [],
   "source": [
    "row = masks.loc[\n",
    "    (masks.job == '24-03-05-01_randomTrainPages') &\n",
    "    (masks.filename == pdf_filename)\n",
    "].iloc[0]"
   ]
  },
  {
   "cell_type": "code",
   "execution_count": 9,
   "id": "549879cf-7092-4fbb-9d3f-78d58985da35",
   "metadata": {},
   "outputs": [],
   "source": [
    "import numpy as np\n",
    "from PIL import Image"
   ]
  },
  {
   "cell_type": "code",
   "execution_count": 10,
   "id": "eb99801e-79e7-4673-8542-30f76965e813",
   "metadata": {},
   "outputs": [],
   "source": [
    "found_masks = render_mask( row, mask_generator, config, use_filters=False )"
   ]
  },
  {
   "cell_type": "code",
   "execution_count": 28,
   "id": "3f4dcc89-1818-4617-99ef-7f7e335500f6",
   "metadata": {},
   "outputs": [],
   "source": [
    "img = open_img(\n",
    "    get_related_filepath(\n",
    "        row.job,\n",
    "        'halftone600dpi',\n",
    "        f'{row.filename}.4c.jpg'\n",
    "    )\n",
    ")\n",
    "img = img.convert('RGBA')"
   ]
  },
  {
   "cell_type": "code",
   "execution_count": 19,
   "id": "e6b81cb6-4180-44bf-a4ba-8f5dea52bf01",
   "metadata": {},
   "outputs": [],
   "source": [
    "img.convert('RGB').save('/Users/frederic.birwe/Documents/GitHub/ma_obsidian/Attachments/7_Maskenfilterung/seite_original.jpg')"
   ]
  },
  {
   "cell_type": "code",
   "execution_count": 12,
   "id": "925efcda-53eb-4e1d-9a8d-0d0c8356fc89",
   "metadata": {},
   "outputs": [
    {
     "name": "stderr",
     "output_type": "stream",
     "text": [
      "/var/folders/ns/b_3z05zx1bz71dzh3qcvtpyh0000gq/T/ipykernel_44495/1717245196.py:18: DeprecationWarning: elementwise comparison failed; this will raise an error in the future.\n",
      "  if i not in below_max_size and i not in above_min_size and i not in text_mask and found_masks[i] not in not_intersected_masks\n"
     ]
    }
   ],
   "source": [
    "below_max_size = [i for i in range(len(found_masks)) if is_below_max_size(found_masks[i]) == False]\n",
    "above_min_size = [\n",
    "    i for i in range(len(found_masks))\n",
    "    if is_above_min_size(found_masks[i]) == False and i not in below_max_size\n",
    "]\n",
    "text_mask = [\n",
    "    i for i in range(len(found_masks))\n",
    "    if i not in below_max_size and i not in above_min_size and is_text_mask( img, found_masks[i])\n",
    "]\n",
    "\n",
    "not_intersected_masks = filter_intersected_masks([\n",
    "    found_masks[i] for i in range(len(found_masks))\n",
    "    if i not in below_max_size and i not in above_min_size and i not in text_mask\n",
    "])\n",
    "\n",
    "intersected_masks = [\n",
    "    i for i in range(len(found_masks))\n",
    "    if i not in below_max_size and i not in above_min_size and i not in text_mask and found_masks[i] not in not_intersected_masks\n",
    "]\n",
    "\n",
    "ok_masks = [\n",
    "    i for i in range(len(found_masks))\n",
    "    if i not in below_max_size + above_min_size + text_mask + intersected_masks\n",
    "]"
   ]
  },
  {
   "cell_type": "markdown",
   "id": "15d2b699-3e91-472a-bcb9-794db4df64fc",
   "metadata": {},
   "source": [
    "    contours, hierarchy = cv2.findContours(\n",
    "        (m['mask'] * 255).astype('uint8'),  \n",
    "        cv2.RETR_EXTERNAL,\n",
    "        cv2.CHAIN_APPROX_NONE\n",
    "    )\n",
    "    #out = cv2.drawContours(np.ones(m['mask'].shape) * 255, contours, -1, 0, 6).astype('uint8')"
   ]
  },
  {
   "cell_type": "code",
   "execution_count": 42,
   "id": "6311eb34-380c-4330-b4cb-34fe9e895ffe",
   "metadata": {},
   "outputs": [],
   "source": [
    "img_out = Image.new(\n",
    "    'RGBA',\n",
    "    img.size,\n",
    "    color=(255, 0, 0, 0)\n",
    ")\n",
    "for i in range(len(found_masks)):\n",
    "    m = found_masks[i]\n",
    "\n",
    "    if i in below_max_size:\n",
    "        color = '#ffcc32' \n",
    "    elif i in above_min_size:\n",
    "        color = '#e04d27'\n",
    "    elif i in text_mask:\n",
    "        color = '#3e5396'\n",
    "    elif i in intersected_masks:\n",
    "        color = '#562996'\n",
    "    else:\n",
    "        color = '#618b00'\n",
    "    \n",
    "    img_out.paste(Image.new(\n",
    "        'RGB',\n",
    "        (m['mask'].shape[1], m['mask'].shape[0]),\n",
    "        color=color\n",
    "    ), (m['bbox'][0],m['bbox'][1]), Image.fromarray((m['mask'] * 255).astype('uint8')))"
   ]
  },
  {
   "cell_type": "code",
   "execution_count": 43,
   "id": "96536ea4-c846-41a4-a835-383367a5ef51",
   "metadata": {},
   "outputs": [],
   "source": [
    "img_out.save('/Users/frederic.birwe/Documents/GitHub/ma_obsidian/Attachments/7_Maskenfilterung/seite_masken.png','PNG')"
   ]
  }
 ],
 "metadata": {
  "kernelspec": {
   "display_name": "Python 3 (ipykernel)",
   "language": "python",
   "name": "python3"
  },
  "language_info": {
   "codemirror_mode": {
    "name": "ipython",
    "version": 3
   },
   "file_extension": ".py",
   "mimetype": "text/x-python",
   "name": "python",
   "nbconvert_exporter": "python",
   "pygments_lexer": "ipython3",
   "version": "3.10.11"
  }
 },
 "nbformat": 4,
 "nbformat_minor": 5
}
