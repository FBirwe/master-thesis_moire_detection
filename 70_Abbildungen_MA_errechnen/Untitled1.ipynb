{
 "cells": [
  {
   "cell_type": "code",
   "execution_count": 19,
   "id": "6850f290-a405-4e24-8722-afdbd18a8c1b",
   "metadata": {},
   "outputs": [],
   "source": [
    "import sys\n",
    "sys.path.append('../30_data_tools/')\n",
    "sys.path.append('../60_gebastel/Model/')\n",
    "\n",
    "from helper import load_dotenv\n",
    "from pytorch_model_tools import get_frequency_representation, img_to_fft, limit_frequencies, get_fft\n",
    "from PIL import Image\n",
    "import numpy as np\n",
    "import plotly.express as px"
   ]
  },
  {
   "cell_type": "code",
   "execution_count": 124,
   "id": "2cdb71a4-4084-4703-bb60-bd508530ab0d",
   "metadata": {},
   "outputs": [],
   "source": [
    "def get_figs_per_image( img ):\n",
    "    img = img.convert('L')\n",
    "    figs = []\n",
    "\n",
    "    figs.append(\n",
    "        px.imshow(\n",
    "            np.abs( limit_frequencies( get_fft(img), inner_limit=5 ) ),\n",
    "            color_continuous_scale=['white','black'],\n",
    "            zmax=400000,\n",
    "            width=2000,\n",
    "            height=2000\n",
    "        )   \n",
    "    )\n",
    "\n",
    "    fft_matrix = get_frequency_representation(img)\n",
    "    figs.append(\n",
    "        px.imshow(\n",
    "            fft_matrix,\n",
    "            color_continuous_scale=['white','black'],\n",
    "            zmax=40000,\n",
    "            width=2000,\n",
    "            height=2000\n",
    "        )   \n",
    "    )\n",
    "    \n",
    "    figs.append(\n",
    "        px.imshow(\n",
    "            fft_matrix / fft_matrix.max(),\n",
    "            color_continuous_scale=['white','black'],\n",
    "            width=2000,\n",
    "            height=2000\n",
    "        )   \n",
    "    )\n",
    "\n",
    "    for fig in figs:\n",
    "        fig.update_layout(coloraxis_showscale=False)\n",
    "        fig.update_xaxes(showticklabels=False)\n",
    "        fig.update_yaxes(showticklabels=False)\n",
    "\n",
    "    return figs"
   ]
  },
  {
   "cell_type": "code",
   "execution_count": 4,
   "id": "aed213f0-6e19-4aff-a934-5eb01bf9f789",
   "metadata": {},
   "outputs": [],
   "source": [
    "dotenv = load_dotenv()\n",
    "attachment_dir = dotenv['ATTACHMENT_DIR'] / 'klassifizierrungsdatensatz_fourier_dataset'"
   ]
  },
  {
   "cell_type": "code",
   "execution_count": 122,
   "id": "287c3c72-c02b-4118-a2a8-4f5b38e73d38",
   "metadata": {},
   "outputs": [],
   "source": [
    "file_names = [\n",
    "    '_FDpFcpHlt_300.0046_moire.jpg',\n",
    "    '_FDpFcpHlt_300.0046_no_moire.jpg',\n",
    "    '-moxyHVYXR_300.0053_moire.jpg',\n",
    "    '-moxyHVYXR_300.0053_no_moire.jpg'\n",
    "]"
   ]
  },
  {
   "cell_type": "code",
   "execution_count": 125,
   "id": "2cfbc92b-84cf-4e68-a2ab-da5f2256e525",
   "metadata": {},
   "outputs": [],
   "source": [
    "for file_name in file_names:\n",
    "    img = Image.open( attachment_dir / file_name )\n",
    "    figs = get_figs_per_image( img )\n",
    "\n",
    "    for i in range(len(figs)):\n",
    "        figs[i].write_image( attachment_dir / file_name.replace('.jpg', f'_fig{ i }.jpg') )"
   ]
  }
 ],
 "metadata": {
  "kernelspec": {
   "display_name": "Python 3 (ipykernel)",
   "language": "python",
   "name": "python3"
  },
  "language_info": {
   "codemirror_mode": {
    "name": "ipython",
    "version": 3
   },
   "file_extension": ".py",
   "mimetype": "text/x-python",
   "name": "python",
   "nbconvert_exporter": "python",
   "pygments_lexer": "ipython3",
   "version": "3.10.11"
  }
 },
 "nbformat": 4,
 "nbformat_minor": 5
}
