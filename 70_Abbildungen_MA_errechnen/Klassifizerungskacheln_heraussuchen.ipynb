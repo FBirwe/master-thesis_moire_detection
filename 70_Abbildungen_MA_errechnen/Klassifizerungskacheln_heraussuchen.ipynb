{
 "cells": [
  {
   "cell_type": "code",
   "execution_count": 1,
   "id": "95734d7e-dfaf-47bc-bcf7-d20b602e6d7c",
   "metadata": {},
   "outputs": [],
   "source": [
    "import sys\n",
    "sys.path.append('../30_data_tools/')"
   ]
  },
  {
   "cell_type": "code",
   "execution_count": 16,
   "id": "dfc4020e-596c-41c4-ba7c-cd38e14272e0",
   "metadata": {},
   "outputs": [],
   "source": [
    "from pathlib import Path\n",
    "import shutil\n",
    "import random\n",
    "from helper import load_dotenv"
   ]
  },
  {
   "cell_type": "code",
   "execution_count": 4,
   "id": "d7098650-ae45-44cb-a0eb-2933308c9119",
   "metadata": {},
   "outputs": [],
   "source": [
    "dotenv = load_dotenv()"
   ]
  },
  {
   "cell_type": "code",
   "execution_count": 22,
   "id": "c37ab04f-a199-41ed-8394-7e9eb1234443",
   "metadata": {},
   "outputs": [],
   "source": [
    "moire_dir = dotenv['TILE_DATASET_DIR'] / 'train' / 'moire'\n",
    "moire_jpgs = list( moire_dir.glob('./*.jpg') )"
   ]
  },
  {
   "cell_type": "code",
   "execution_count": 29,
   "id": "c9d35bd9-44aa-416d-b21e-0fd97da1874c",
   "metadata": {},
   "outputs": [],
   "source": [
    "moire_selection = random.choices(moire_jpgs, k=5)\n",
    "non_moire_selection = [entry.parent.parent / 'no_moire' / entry.name for entry in moire_selection]"
   ]
  },
  {
   "cell_type": "code",
   "execution_count": 30,
   "id": "0b0652dd-0ab5-4f66-9ebc-ec19d9572adf",
   "metadata": {},
   "outputs": [],
   "source": [
    "for i in range(len(moire_selection)):\n",
    "    shutil.copy(\n",
    "        moire_selection[i],\n",
    "        dotenv['ATTACHMENT_DIR'] / 'klassifizierungskacheln' / f'{ moire_selection[i].name.replace(moire_selection[i].suffix,\"\") }_moire{ moire_selection[i].suffix }'\n",
    "    )\n",
    "\n",
    "    shutil.copy(\n",
    "        non_moire_selection[i],\n",
    "        dotenv['ATTACHMENT_DIR'] / 'klassifizierungskacheln' / f'{ non_moire_selection[i].name.replace(non_moire_selection[i].suffix,\"\") }_no_moire{ non_moire_selection[i].suffix }'\n",
    "    )"
   ]
  }
 ],
 "metadata": {
  "kernelspec": {
   "display_name": "Python 3 (ipykernel)",
   "language": "python",
   "name": "python3"
  },
  "language_info": {
   "codemirror_mode": {
    "name": "ipython",
    "version": 3
   },
   "file_extension": ".py",
   "mimetype": "text/x-python",
   "name": "python",
   "nbconvert_exporter": "python",
   "pygments_lexer": "ipython3",
   "version": "3.10.11"
  }
 },
 "nbformat": 4,
 "nbformat_minor": 5
}
