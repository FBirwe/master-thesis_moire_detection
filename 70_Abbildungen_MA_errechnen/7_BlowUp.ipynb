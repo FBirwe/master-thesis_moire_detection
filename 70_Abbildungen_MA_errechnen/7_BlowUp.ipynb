{
 "cells": [
  {
   "cell_type": "code",
   "execution_count": 1,
   "id": "7629f671-c34b-4796-b947-878dae6e2bb2",
   "metadata": {},
   "outputs": [],
   "source": [
    "import sys\n",
    "sys.path.append('../30_data_tools/')\n",
    "sys.path.append('../60_gebastel/Musterueberlagerung/pattern_effects/')"
   ]
  },
  {
   "cell_type": "code",
   "execution_count": 2,
   "id": "65cf1f76-f1e7-4b73-ac96-856d0a0469c6",
   "metadata": {},
   "outputs": [],
   "source": [
    "from blow_up import blow_up, interpolate_radius, blow_up_region, contract_region\n",
    "from pathlib import Path\n",
    "import numpy as np\n",
    "from PIL import Image\n",
    "import plotly.express as px\n",
    "import math\n",
    "from scipy.special import expit as logistic"
   ]
  },
  {
   "cell_type": "code",
   "execution_count": 3,
   "id": "2bfc2fe7-2d52-45e8-a443-1d76f5792694",
   "metadata": {},
   "outputs": [],
   "source": [
    "from helper import load_dotenv"
   ]
  },
  {
   "cell_type": "code",
   "execution_count": 5,
   "id": "f140a7ba-794e-4aec-a836-c8659352b11d",
   "metadata": {},
   "outputs": [],
   "source": [
    "Image.MAX_IMAGE_PIXELS = None"
   ]
  },
  {
   "cell_type": "code",
   "execution_count": 4,
   "id": "b722a341-9965-4c5f-919f-f43cdf6af8c0",
   "metadata": {},
   "outputs": [],
   "source": [
    "dotenv = load_dotenv()"
   ]
  },
  {
   "cell_type": "code",
   "execution_count": 6,
   "id": "f79620aa",
   "metadata": {},
   "outputs": [],
   "source": [
    "pattern_paths = list(dotenv['PATTERN_DIR'].glob('./*.tif'))"
   ]
  },
  {
   "cell_type": "code",
   "execution_count": 7,
   "id": "07a314a5-5e7f-4819-a803-1d93a3c662b2",
   "metadata": {},
   "outputs": [],
   "source": [
    "pattern_path = dotenv['PATTERN_DIR'] / 'plain_4.CIRCLE.tif'"
   ]
  },
  {
   "cell_type": "code",
   "execution_count": 8,
   "id": "e931e727-d9c9-4e86-91af-0e2ffb42a736",
   "metadata": {},
   "outputs": [],
   "source": [
    "orig_img = Image.open(pattern_path)\n",
    "\n",
    "orig_img = orig_img.crop((\n",
    "    0,0,2400,2400\n",
    ")).convert('L')\n",
    "\n",
    "#.convert('L').resize((\n",
    "#    int(orig_img.size[0] * (600 / 2400)),int(orig_img.size[1] * (600 / 2400))\n",
    "#))"
   ]
  },
  {
   "cell_type": "code",
   "execution_count": 9,
   "id": "fd5dc484-05f0-4022-9d5f-5fb6eca73345",
   "metadata": {},
   "outputs": [],
   "source": [
    "blow_up_img = blow_up( orig_img, 10 ).resize((600,600))"
   ]
  },
  {
   "cell_type": "code",
   "execution_count": 11,
   "id": "e4c3c653-63f1-4f3e-becb-596e5ae5541c",
   "metadata": {},
   "outputs": [],
   "source": [
    "blow_up_img.save( dotenv['ATTACHMENT_DIR'] / '7_BlowUp.example.jpg' )"
   ]
  },
  {
   "cell_type": "code",
   "execution_count": null,
   "id": "b88ecc69-80df-40ac-aa7a-a29bf0644ed5",
   "metadata": {},
   "outputs": [],
   "source": [
    "px.line(\n",
    "    y=[r - interpolate_radius(r,1000,10) for r in range(1000)],\n",
    "    labels={\n",
    "        'x' : 'r',\n",
    "        'y' : 'r - f(r)'\n",
    "    }\n",
    ")"
   ]
  }
 ],
 "metadata": {
  "kernelspec": {
   "display_name": "Python 3 (ipykernel)",
   "language": "python",
   "name": "python3"
  },
  "language_info": {
   "codemirror_mode": {
    "name": "ipython",
    "version": 3
   },
   "file_extension": ".py",
   "mimetype": "text/x-python",
   "name": "python",
   "nbconvert_exporter": "python",
   "pygments_lexer": "ipython3",
   "version": "3.10.11"
  }
 },
 "nbformat": 4,
 "nbformat_minor": 5
}
