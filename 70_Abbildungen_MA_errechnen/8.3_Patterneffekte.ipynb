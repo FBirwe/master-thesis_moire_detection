{
 "cells": [
  {
   "cell_type": "code",
   "execution_count": 1,
   "id": "8391a337-e3b8-4167-bed2-93ebb3943f3f",
   "metadata": {},
   "outputs": [],
   "source": [
    "from PIL import Image\n",
    "from pathlib import Path"
   ]
  },
  {
   "cell_type": "code",
   "execution_count": 2,
   "id": "b8889c50-faab-4a1e-a355-1a2651879810",
   "metadata": {},
   "outputs": [],
   "source": [
    "import sys\n",
    "sys.path.append('../30_data_tools/')\n",
    "sys.path.append('../60_Code/Musterueberlagerung/')"
   ]
  },
  {
   "cell_type": "code",
   "execution_count": 3,
   "id": "858f5425-b535-484c-b9db-ba515e37d3f1",
   "metadata": {},
   "outputs": [],
   "source": [
    "from helper import load_dotenv\n",
    "from pattern_creation import get_pattern_img_by_style"
   ]
  },
  {
   "cell_type": "code",
   "execution_count": 4,
   "id": "6e801467-de4f-4d92-9270-23a61e2c8a8e",
   "metadata": {},
   "outputs": [],
   "source": [
    "dotenv = load_dotenv()"
   ]
  },
  {
   "cell_type": "code",
   "execution_count": 5,
   "id": "301f10c5-5598-4a9a-8a57-74dfb8a6e709",
   "metadata": {},
   "outputs": [],
   "source": [
    "img_path = dotenv['PATTERN_DIR'] / 'plain_5.DIAMOND.tif'"
   ]
  },
  {
   "cell_type": "code",
   "execution_count": 6,
   "id": "10215365-dc92-4ebd-ad10-5265e507af55",
   "metadata": {},
   "outputs": [],
   "source": [
    "effect_definition_rotation = {\n",
    "    'pattern' : 'plain_5.DIAMOND_small',\n",
    "    'effects' : [\n",
    "        {\n",
    "            'effect_name' : 'rotation',\n",
    "            'rotation_degree' : 60\n",
    "        }\n",
    "    ]\n",
    "}\n",
    "\n",
    "effect_definition_stretch = {\n",
    "    'pattern' : 'plain_5.DIAMOND_small',\n",
    "    'effects' : [\n",
    "        {\n",
    "            'effect_name' : 'stretch',\n",
    "            'stretch_x' : 2.5,\n",
    "            'stretch_y' : 1\n",
    "        }\n",
    "    ]\n",
    "}\n",
    "\n",
    "effect_definition_trapezoidal_distortion = {\n",
    "    'pattern' : 'plain_5.DIAMOND_small',\n",
    "    'effects' : [\n",
    "        {\n",
    "            'effect_name' : 'trapezoidal_distortion',\n",
    "            'trapezoidal_distortion_strength_1' : 0.2,\n",
    "            'trapezoidal_distortion_strength_2' : 0.5,\n",
    "            'trapezoidal_distortion_direction' : 'bottom'\n",
    "        }\n",
    "    ]\n",
    "}\n",
    "\n",
    "effect_definition_wave_deform = {\n",
    "    'pattern' : 'plain_5.DIAMOND_small',\n",
    "    'effects' : [\n",
    "        {\n",
    "            'effect_name' : 'wave_deform',\n",
    "            'wave_configurations' : [\n",
    "                (50,3),\n",
    "                (30,2)\n",
    "            ]\n",
    "        }\n",
    "    ]\n",
    "}\n",
    "\n",
    "effect_definition_blow_up_centered = {\n",
    "    'pattern' : 'plain_5.DIAMOND_small',\n",
    "    'effects' : [\n",
    "        {\n",
    "            'effect_name' : 'blow_up_centered',\n",
    "            'centered_c' : 10\n",
    "        }\n",
    "    ]\n",
    "}\n",
    "\n",
    "effect_definition_total = {\n",
    "    'pattern' : 'plain_5.DIAMOND_small',\n",
    "    'effects' : [\n",
    "        effect_definition['effects'][0] for effect_definition\n",
    "        in [\n",
    "                effect_definition_stretch,\n",
    "                effect_definition_trapezoidal_distortion,\n",
    "                effect_definition_wave_deform,\n",
    "                effect_definition_blow_up_centered,\n",
    "                effect_definition_rotation\n",
    "        ]\n",
    "    ]\n",
    "}"
   ]
  },
  {
   "cell_type": "code",
   "execution_count": 7,
   "id": "3dbddfa5-5bae-4a41-8fbb-6b5bfe21ce69",
   "metadata": {},
   "outputs": [],
   "source": [
    "config = {\n",
    "    'processing_dpi' : 600\n",
    "}"
   ]
  },
  {
   "cell_type": "code",
   "execution_count": 8,
   "id": "ab369c25-9362-4dfa-a1b3-3688c0611d53",
   "metadata": {},
   "outputs": [],
   "source": [
    "stretch_img = get_pattern_img_by_style( effect_definition_stretch, config )\n",
    "trapezoidal_distortion_img = get_pattern_img_by_style( effect_definition_trapezoidal_distortion, config )\n",
    "rotation_img = get_pattern_img_by_style( effect_definition_rotation, config )\n",
    "wave_img = get_pattern_img_by_style( effect_definition_wave_deform, config )\n",
    "blow_up_img = get_pattern_img_by_style( effect_definition_blow_up_centered, config )\n",
    "total_img = get_pattern_img_by_style( effect_definition_total, config )"
   ]
  },
  {
   "cell_type": "code",
   "execution_count": 9,
   "id": "35e8ee08-4ba5-46db-ba56-2ba86b8506f9",
   "metadata": {},
   "outputs": [],
   "source": [
    "BASE_PATH = dotenv['ATTACHMENT_DIR'] / 'pattern_effekte'"
   ]
  },
  {
   "cell_type": "code",
   "execution_count": 10,
   "id": "863e942a-b769-4bea-8f81-570be85beebf",
   "metadata": {},
   "outputs": [],
   "source": [
    "stretch_img.save( BASE_PATH / 'stretch_img.jpg', dpi=(600,600), progressive=True )\n",
    "trapezoidal_distortion_img.save( BASE_PATH / 'trapezoidal_distortion_img.jpg', dpi=(600,600), progressive=True )\n",
    "rotation_img.save( BASE_PATH / 'rotation_img.jpg', dpi=(600,600), progressive=True )\n",
    "wave_img.save( BASE_PATH / 'wave_img.jpg', dpi=(600,600), progressive=True )\n",
    "blow_up_img.save( BASE_PATH / 'blow_up_img.jpg', dpi=(600,600), progressive=True )\n",
    "total_img.save( BASE_PATH / 'total_img.jpg', dpi=(600,600), progressive=True )"
   ]
  }
 ],
 "metadata": {
  "kernelspec": {
   "display_name": "Python 3 (ipykernel)",
   "language": "python",
   "name": "python3"
  },
  "language_info": {
   "codemirror_mode": {
    "name": "ipython",
    "version": 3
   },
   "file_extension": ".py",
   "mimetype": "text/x-python",
   "name": "python",
   "nbconvert_exporter": "python",
   "pygments_lexer": "ipython3",
   "version": "3.10.11"
  }
 },
 "nbformat": 4,
 "nbformat_minor": 5
}
