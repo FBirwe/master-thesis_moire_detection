{
 "cells": [
  {
   "cell_type": "code",
   "execution_count": 9,
   "id": "6e1ca0c3-32b3-4c4b-8b8f-5a52129a0c46",
   "metadata": {},
   "outputs": [],
   "source": [
    "import sys\n",
    "sys.path.append('../30_data_tools/')\n",
    "sys.path.append('../60_gebastel/Musterueberlagerung/pattern_effects/')\n",
    "sys.path.append('../80_Auswertungen/')"
   ]
  },
  {
   "cell_type": "code",
   "execution_count": 10,
   "id": "c0fe6b4f-6e38-410d-abd2-e9d3ac9f20a7",
   "metadata": {},
   "outputs": [],
   "source": [
    "import numpy as np\n",
    "from PIL import Image, ImageChops, ImageOps\n",
    "from helper import load_dotenv\n",
    "from trapezoidal_distortion import distort_trapezoidal\n",
    "from wave_deform import wave_deform\n",
    "from blow_up import blow_up, contract\n",
    "import plotly.express as px\n",
    "import math\n",
    "from scipy import ndimage\n",
    "from load_constants import load_colors"
   ]
  },
  {
   "cell_type": "code",
   "execution_count": 3,
   "id": "4928a1a4-a545-4607-8b11-5670d74c2ff7",
   "metadata": {},
   "outputs": [],
   "source": [
    "def get_fft( input_img ):\n",
    "    ft = np.fft.ifftshift(np.array(input_img))\n",
    "    ft = np.fft.fft2(ft)\n",
    "    ft = np.fft.fftshift(ft)\n",
    "    \n",
    "    return ft"
   ]
  },
  {
   "cell_type": "code",
   "execution_count": 4,
   "id": "3f3608ee-3e63-4620-a3cd-5fb85c3d3049",
   "metadata": {},
   "outputs": [],
   "source": [
    "def limit_frequencies( fft, inner_limit=None, outer_limit=None ):\n",
    "    center = (fft.shape[1] / 2, fft.shape[0] / 2)\n",
    "    for y in range(fft.shape[0]):\n",
    "        for x in range(fft.shape[1]):\n",
    "            r = math.sqrt( abs(center[0] - x) ** 2 + abs(center[1] - y) ** 2 )\n",
    "            \n",
    "            if outer_limit is not None and r > outer_limit:\n",
    "                fft[y,x] = 0\n",
    "    \n",
    "            if inner_limit is not None and r < inner_limit:\n",
    "                fft[y,x] = 0\n",
    "\n",
    "    return fft"
   ]
  },
  {
   "cell_type": "code",
   "execution_count": 5,
   "id": "dc5aef15-3a3b-432a-bd05-8a08a28159b5",
   "metadata": {},
   "outputs": [],
   "source": [
    "def get_fft_spectrum( grating_img, apply_effect, overlay=True ):\n",
    "    grating_effect_img = apply_effect( grating_img )\n",
    "    multiplied_img = ImageChops.multiply( grating_img, grating_effect_img )\n",
    "\n",
    "    if overlay:\n",
    "        fft = get_fft( multiplied_img )\n",
    "    else:\n",
    "        fft = get_fft( grating_effect_img )\n",
    "    \n",
    "    fig = px.imshow(\n",
    "        ndimage.uniform_filter(\n",
    "            np.abs(fft),\n",
    "            size=5\n",
    "        )[750:1250,750:1250],\n",
    "        color_continuous_scale=['white','black']\n",
    "    )\n",
    "    fig.update_layout(coloraxis_showscale=False)\n",
    "    fig.update_xaxes(showticklabels=False)\n",
    "    fig.update_yaxes(showticklabels=False)\n",
    "\n",
    "    return fig"
   ]
  },
  {
   "cell_type": "code",
   "execution_count": 6,
   "id": "4b3169bc-29be-41e8-8e71-c06a32fccead",
   "metadata": {},
   "outputs": [],
   "source": [
    "def get_effect_img( grating_img, apply_effect, margin=0.1):\n",
    "    grating_background_a = Image.new('L', (round(grating_img.size[0] * (1 + margin * 2)), round(grating_img.size[1] * (1 + margin * 2))), color=\"white\")\n",
    "    grating_background_a.paste(\n",
    "        grating_img,\n",
    "        (round(grating_img.size[0] * margin), round(grating_img.size[1] * margin))\n",
    "    )\n",
    "    \n",
    "    grating_background_b = grating_background_a.copy()\n",
    "    grating_background_b = apply_effect(grating_background_b)\n",
    "\n",
    "    return ImageChops.multiply(\n",
    "        grating_background_a,\n",
    "        grating_background_b\n",
    "    )"
   ]
  },
  {
   "cell_type": "code",
   "execution_count": 12,
   "id": "04a2f252-a445-4eb3-b274-b939e47914d4",
   "metadata": {},
   "outputs": [],
   "source": [
    "COLORS = load_colors()"
   ]
  },
  {
   "cell_type": "code",
   "execution_count": 7,
   "id": "7a7e822a-3048-44bb-92d8-b8ac33cf7388",
   "metadata": {},
   "outputs": [],
   "source": [
    "Image.MAX_IMAGE_PIXELS = None"
   ]
  },
  {
   "cell_type": "code",
   "execution_count": 8,
   "id": "d029b207-2e07-4789-b3c7-bb180487cfa1",
   "metadata": {},
   "outputs": [],
   "source": [
    "dotenv = load_dotenv()"
   ]
  },
  {
   "cell_type": "code",
   "execution_count": 25,
   "id": "e15cef48-320d-4fa3-a465-127a99d85b87",
   "metadata": {},
   "outputs": [],
   "source": [
    "x = np.arange(-1000, 1001, 1)\n",
    "X, Y = np.meshgrid(x, x)\n",
    "wavelength = 20\n",
    "grating = np.sin(2 * np.pi * X / wavelength) * 0.5 + 0.5\n",
    "grating[grating < 0] = 0\n",
    "grating[grating > 1] = 1\n",
    "\n",
    "grating_2d = np.sin(2 * np.pi * X / wavelength) * 0.5 + 0.77\n",
    "grating_2d[grating_2d < 0] = 0\n",
    "grating_2d[grating_2d > 1] = 1\n",
    "\n",
    "angle = np.pi / 180 * 90\n",
    "grating_2d_rotated = np.sin(\n",
    "    2*np.pi*(X*np.cos(angle) + Y*np.sin(angle)) / wavelength\n",
    ") * 0.5 + 0.77\n",
    "grating_2d_rotated[grating_2d_rotated < 0] = 0\n",
    "grating_2d_rotated[grating_2d_rotated > 1] = 1"
   ]
  },
  {
   "cell_type": "code",
   "execution_count": null,
   "id": "3d91143f-f7df-4894-bad4-58224945b1ec",
   "metadata": {},
   "outputs": [],
   "source": [
    "grating.mean()"
   ]
  },
  {
   "cell_type": "code",
   "execution_count": null,
   "id": "6712863a-c4da-47f6-bf45-df26520f31ec",
   "metadata": {},
   "outputs": [],
   "source": [
    "(grating_2d * grating_2d_rotated).mean()"
   ]
  },
  {
   "cell_type": "code",
   "execution_count": 26,
   "id": "ca76afc7-d4fe-4d43-b037-5d3390fdd533",
   "metadata": {},
   "outputs": [],
   "source": [
    "grating_img = Image.fromarray((((grating) * 255).round()).astype('uint8'))\n",
    "grating_img_2d = Image.fromarray( ((1 - (grating_2d * grating_2d_rotated)) * 255).round().astype('uint8') )"
   ]
  },
  {
   "cell_type": "code",
   "execution_count": null,
   "id": "093fea2f-5ca1-4d4a-8286-301703978f80",
   "metadata": {},
   "outputs": [],
   "source": [
    "get_fft_spectrum(grating_img, lambda img: img, overlay=False).write_image( dotenv['ATTACHMENT_DIR'] / 'moire_kategorien' / 'base_1d_fft.jpg' )\n",
    "get_fft_spectrum(grating_img_2d, lambda img: img, overlay=False).write_image( dotenv['ATTACHMENT_DIR'] / 'moire_kategorien' / 'base_2d_fft.jpg' )"
   ]
  },
  {
   "cell_type": "code",
   "execution_count": null,
   "id": "0dbc7f68-2098-4fe1-a42c-773067eb1abc",
   "metadata": {},
   "outputs": [],
   "source": [
    "grating_img.save( dotenv['ATTACHMENT_DIR'] / 'moire_kategorien' / 'base_1d.jpg' )\n",
    "grating_img_2d.save( dotenv['ATTACHMENT_DIR'] / 'moire_kategorien' / 'base_2d.jpg' )"
   ]
  },
  {
   "cell_type": "markdown",
   "id": "f52891c8-eab5-4ab0-aad4-a1380ca13263",
   "metadata": {},
   "source": [
    "# Verzerrung"
   ]
  },
  {
   "cell_type": "code",
   "execution_count": null,
   "id": "7c4aa700-bce1-4ce9-9989-70c35f1c0035",
   "metadata": {},
   "outputs": [],
   "source": [
    "distort_strength = 0.2\n",
    "\n",
    "distort_top = lambda img: distort_trapezoidal( img, [(distort_strength,0),(0,0),(0,0),(distort_strength,0)] )\n",
    "distort_top_bottom = lambda img: distort_trapezoidal( distort_trapezoidal( img, [(distort_strength,0),(0,0),(0,0),(0,0)] ), [(0,0),(0,0),(distort_strength,0),(0,0)] )\n",
    "distort_top_left = lambda img: distort_trapezoidal( img, [(distort_strength,0),(0,0),(0,0),(0,0)] )"
   ]
  },
  {
   "cell_type": "code",
   "execution_count": null,
   "id": "15786ddc-ac7b-4870-b4d1-ee8349156727",
   "metadata": {},
   "outputs": [],
   "source": [
    "get_fft_spectrum( grating_img_2d, lambda img: img ).write_image( dotenv['ATTACHMENT_DIR'] / 'moire_kategorien' / 'distort_none_fft.jpg' )\n",
    "get_effect_img(\n",
    "    grating_img_2d,\n",
    "    lambda img: img,\n",
    "    margin=0.2\n",
    ").save( dotenv['ATTACHMENT_DIR'] / 'moire_kategorien' / 'distort_none.jpg' )\n",
    "\n",
    "get_fft_spectrum( grating_img_2d, distort_top ).write_image( dotenv['ATTACHMENT_DIR'] / 'moire_kategorien' / 'distort_top_fft.jpg' )\n",
    "get_effect_img(\n",
    "    grating_img_2d,\n",
    "    distort_top,\n",
    "    margin=0.2\n",
    ").save( dotenv['ATTACHMENT_DIR'] / 'moire_kategorien' / 'distort_top.jpg' )\n",
    "\n",
    "get_fft_spectrum( grating_img_2d, distort_top_bottom ).write_image( dotenv['ATTACHMENT_DIR'] / 'moire_kategorien' / 'distort_top_bottom_fft.jpg' )\n",
    "get_effect_img(\n",
    "    grating_img_2d,\n",
    "    distort_top_bottom,\n",
    "    margin=0.2\n",
    ").save( dotenv['ATTACHMENT_DIR'] / 'moire_kategorien' / 'distort_top_bottom.jpg' )\n",
    "\n",
    "get_fft_spectrum( grating_img_2d, distort_top_left ).write_image( dotenv['ATTACHMENT_DIR'] / 'moire_kategorien' / 'distort_top_left_fft.jpg' )\n",
    "get_effect_img(\n",
    "    grating_img_2d,\n",
    "    distort_top_left,\n",
    "    margin=0.2\n",
    ").save( dotenv['ATTACHMENT_DIR'] / 'moire_kategorien' / 'distort_top_left.jpg' )"
   ]
  },
  {
   "cell_type": "code",
   "execution_count": null,
   "id": "e1fd049e-abf2-482f-b865-4b59c3d5b90c",
   "metadata": {},
   "outputs": [],
   "source": [
    "for i in range(1,5):\n",
    "    distort_by_level = lambda img: distort_trapezoidal( img, [(i / 10,0),(0,0),(0,0),(0,0)] )\n",
    "    filename = f'distort_top_left_{ i }'\n",
    "    \n",
    "    get_fft_spectrum( grating_img_2d, distort_by_level ).write_image( dotenv['ATTACHMENT_DIR'] / 'moire_kategorien' / f'{filename}_fft.jpg' )\n",
    "    get_effect_img(\n",
    "        grating_img_2d,\n",
    "        distort_by_level,\n",
    "        margin=0.2\n",
    "    ).save( dotenv['ATTACHMENT_DIR'] / 'moire_kategorien' / f'{filename}.jpg' )"
   ]
  },
  {
   "cell_type": "code",
   "execution_count": null,
   "id": "7d040b24-3fcf-47e5-8b85-ae4547dafc87",
   "metadata": {},
   "outputs": [],
   "source": [
    "for i in range(1,5):\n",
    "    distort_by_level = lambda img: distort_trapezoidal( img, [(i / 10,0),(0,0),(0,0),(0,0)] )\n",
    "    filename = f'distort_top_left_{ i }'\n",
    "    \n",
    "    get_fft_spectrum( grating_img_2d, distort_by_level ).write_image( dotenv['ATTACHMENT_DIR'] / 'moire_kategorien' / f'{filename}_1d_fft.jpg' )\n",
    "    get_effect_img(\n",
    "        grating_img_2d,\n",
    "        distort_by_level,\n",
    "        margin=0.2\n",
    "    ).save( dotenv['ATTACHMENT_DIR'] / 'moire_kategorien' / f'{filename}_1d.jpg' )"
   ]
  },
  {
   "cell_type": "code",
   "execution_count": null,
   "id": "775452e1-8899-4982-a101-3ff22cce5378",
   "metadata": {},
   "outputs": [],
   "source": [
    "get_effect_img(\n",
    "    grating_img_2d,\n",
    "    lambda img: distort_trapezoidal( img, [(0.2,0.2),(0,0),(0,0),(0,0)] ),\n",
    "    margin=0.2\n",
    ").save( dotenv['ATTACHMENT_DIR'] / 'moire_kategorien' / f'distort_top_2d.jpg' )\n",
    "get_fft_spectrum( grating_img_2d, lambda img: distort_trapezoidal( img, [(0.2,0.2),(0,0),(0,0),(0,0)] ) ).write_image( dotenv['ATTACHMENT_DIR'] / 'moire_kategorien' / 'distort_top_2d_fft.jpg' )\n",
    "\n",
    "get_effect_img(\n",
    "    grating_img_2d,\n",
    "    lambda img: distort_trapezoidal( img, [(-0.2,-0.2),(0,0),(0,0),(0,0)] ),\n",
    "    margin=0.2\n",
    ").save( dotenv['ATTACHMENT_DIR'] / 'moire_kategorien' / f'distort_top_2d_2.jpg' )\n",
    "get_fft_spectrum( grating_img_2d, lambda img: distort_trapezoidal( img, [(-0.2,-0.2),(0,0),(0,0),(0,0)] ) ).write_image( dotenv['ATTACHMENT_DIR'] / 'moire_kategorien' / 'distort_top_2d_2_fft.jpg' )\n",
    "\n",
    "get_effect_img(\n",
    "    grating_img_2d,\n",
    "    lambda img: distort_trapezoidal( img, [(0.2,0.2),(0,0.2),(0,0),(0,0)] ),\n",
    "    margin=0.2\n",
    ").save( dotenv['ATTACHMENT_DIR'] / 'moire_kategorien' / f'distort_top_2d_3.jpg' )\n",
    "get_fft_spectrum( grating_img_2d, lambda img: distort_trapezoidal( img, [(0.2,0.2),(0,0.2),(0,0),(0,0)] ) ).write_image( dotenv['ATTACHMENT_DIR'] / 'moire_kategorien' / 'distort_top_2d_3_fft.jpg' )\n",
    "\n",
    "get_effect_img(\n",
    "    grating_img_2d,\n",
    "    lambda img: distort_trapezoidal( img, [(0.2,0),(0,0),(0,0),(0,-0.2)] ),\n",
    "    margin=0.2\n",
    ").save( dotenv['ATTACHMENT_DIR'] / 'moire_kategorien' / f'distort_top_2d_4.jpg' )\n",
    "get_fft_spectrum( grating_img_2d, lambda img: distort_trapezoidal( img, [(0.2,0.2),(0,0.2),(0,0),(0,0)] ) ).write_image( dotenv['ATTACHMENT_DIR'] / 'moire_kategorien' / 'distort_top_2d_4_fft.jpg' )"
   ]
  },
  {
   "cell_type": "code",
   "execution_count": 21,
   "id": "ef1e2568-cb49-409a-8766-2756b803205b",
   "metadata": {},
   "outputs": [],
   "source": [
    "T1 = 1\n",
    "s2 = 1.2\n",
    "th1 = 0\n",
    "\n",
    "t2 = lambda x: x * ((s2 - 1) * T1) / s2 + T1\n",
    "th2 = lambda x: x * math.degrees(math.atan((s2 - 1) / 1)) / s2 + th1\n",
    "\n",
    "tm = lambda x: (T1 * t2(x)) / math.sqrt(T1**2 + t2(x) ** 2 - 2 * T1 * t2(x) * math.cos( math.radians(abs(th1 - th2(x)))) )\n",
    "thm = lambda x: math.atan((t2(x) * math.sin(math.radians(th1) - T1 * math.sin(math.radians(th2(x))))) / (t2(x) * math.cos(math.radians(th1) - T1 * math.cos(math.radians(th2(x))))))"
   ]
  },
  {
   "cell_type": "code",
   "execution_count": 22,
   "id": "193c4d70-c6fb-4fba-b52d-ee357479ce63",
   "metadata": {},
   "outputs": [],
   "source": [
    "px.line(\n",
    "    x=[i/100 for i in range(2,101)],\n",
    "    y=[tm(i/100) for i in range(2,101)],\n",
    "    labels={\n",
    "        'y' : 'Periode des Moirémusters'\n",
    "    },\n",
    "    color_discrete_sequence=COLORS['COLOR_SEQUENCE'],\n",
    "    width=1000,\n",
    "    height=350\n",
    ").write_image( dotenv['ATTACHMENT_DIR'] / 'moire_kategorien' / f'abhaengigkeit_x_moire_periode.jpg' )"
   ]
  },
  {
   "cell_type": "code",
   "execution_count": 23,
   "id": "79bb8532-11f0-47f3-ba48-115c55ca13d5",
   "metadata": {},
   "outputs": [],
   "source": [
    "px.line(\n",
    "    x=[i/100 for i in range(2,101)],\n",
    "    y=[math.degrees(thm(i/100)) for i in range(2,101)],\n",
    "    labels={\n",
    "        'y' : 'Winkel des Moirémusters'\n",
    "    },\n",
    "    color_discrete_sequence=COLORS['COLOR_SEQUENCE'],\n",
    "    width=1000,\n",
    "    height=350\n",
    ").write_image( dotenv['ATTACHMENT_DIR'] / 'moire_kategorien' / f'abhaengigkeit_x_moire_winkel.jpg' )"
   ]
  },
  {
   "cell_type": "markdown",
   "id": "b4db9d87-cf52-4419-88d5-71958f0e532b",
   "metadata": {},
   "source": [
    "# Rotation"
   ]
  },
  {
   "cell_type": "code",
   "execution_count": 31,
   "id": "84282191-c5d8-44b1-805e-a2ed904ce724",
   "metadata": {},
   "outputs": [],
   "source": [
    "rotate_grating = lambda img: img.rotate(5, fillcolor=\"white\")"
   ]
  },
  {
   "cell_type": "code",
   "execution_count": null,
   "id": "20453a16-ac7b-4fce-b416-fdc3e10ddb48",
   "metadata": {},
   "outputs": [],
   "source": [
    "get_fft_spectrum( grating_img_2d, rotate_grating ).write_image( dotenv['ATTACHMENT_DIR'] / 'moire_kategorien' / 'rotate_2d_fft.jpg' )\n",
    "get_effect_img(\n",
    "    grating_img_2d,\n",
    "    rotate_grating,\n",
    "    margin=0.2\n",
    ").save( dotenv['ATTACHMENT_DIR'] / 'moire_kategorien' / 'rotate_2d.jpg' )"
   ]
  },
  {
   "cell_type": "code",
   "execution_count": null,
   "id": "2aed9077-f076-4069-aece-b118bb94782a",
   "metadata": {},
   "outputs": [],
   "source": [
    "get_fft_spectrum( grating_img, rotate_grating ).write_image( dotenv['ATTACHMENT_DIR'] / 'moire_kategorien' / 'rotate_1d_fft.jpg' )\n",
    "get_effect_img(\n",
    "    grating_img,\n",
    "    rotate_grating,\n",
    "    margin=0.2\n",
    ").save( dotenv['ATTACHMENT_DIR'] / 'moire_kategorien' / 'rotate_1d.jpg' )"
   ]
  },
  {
   "cell_type": "code",
   "execution_count": null,
   "id": "99010f7e-bb9a-4fb0-a962-4077b18208a0",
   "metadata": {},
   "outputs": [],
   "source": [
    "for i in [2,5,10,25]:\n",
    "    distort_by_level = lambda img: img.rotate(i, fillcolor=\"white\")\n",
    "    filename = f'rotate_{ i }'\n",
    "    \n",
    "    get_fft_spectrum( grating_img_2d, distort_by_level ).write_image( dotenv['ATTACHMENT_DIR'] / 'moire_kategorien' / f'{filename}_1d_fft.jpg' )\n",
    "    get_effect_img(\n",
    "        grating_img_2d,\n",
    "        distort_by_level,\n",
    "        margin=0.2\n",
    "    ).save( dotenv['ATTACHMENT_DIR'] / 'moire_kategorien' / f'{filename}_1d.jpg' )"
   ]
  },
  {
   "cell_type": "code",
   "execution_count": 13,
   "id": "ff8571c6-1235-468c-a349-bb130d68989a",
   "metadata": {},
   "outputs": [],
   "source": [
    "p = 1\n",
    "results = []\n",
    "\n",
    "for i in range(359):\n",
    "    a = math.radians((i+1))\n",
    "    p_m = p / (2 * abs(math.sin(a/2)))\n",
    "\n",
    "    results.append(((i+1), p_m))"
   ]
  },
  {
   "cell_type": "code",
   "execution_count": 18,
   "id": "6d25d0a9-fffa-4cb0-bad6-7261ad831dbf",
   "metadata": {},
   "outputs": [],
   "source": [
    "px.line(\n",
    "    x=[r[0] for r in results],\n",
    "    y=[r[1] for r in results],\n",
    "    labels={\n",
    "        'x' : 'Winkelunterschied',\n",
    "        'y' : 'Periode der Moiréstruktur'\n",
    "    },\n",
    "    color_discrete_sequence=COLORS['COLOR_SEQUENCE'],\n",
    "    width=1000,\n",
    "    height=350\n",
    ").write_image( dotenv['ATTACHMENT_DIR'] / 'moire_kategorien' / 'abhaengigkeit_rotation_moire_periode.jpg' )\n",
    "\n",
    "px.line(\n",
    "    x=[r[0] for r in results],\n",
    "    y=[1/r[1] for r in results],\n",
    "    labels={\n",
    "        'x' : 'Winkelunterschied',\n",
    "        'y' : 'Frequenz der Moiréstruktur'\n",
    "    },\n",
    "    color_discrete_sequence=COLORS['COLOR_SEQUENCE'],\n",
    "    width=1000,\n",
    "    height=350\n",
    ").write_image( dotenv['ATTACHMENT_DIR'] / 'moire_kategorien' / 'abhaengigkeit_rotation_moire_frequenz.jpg' )"
   ]
  },
  {
   "cell_type": "markdown",
   "id": "0fad1d1c-a6d9-47b5-b731-93f8b232a521",
   "metadata": {},
   "source": [
    "# Skalierung"
   ]
  },
  {
   "cell_type": "code",
   "execution_count": 27,
   "id": "abb05325-5215-49cc-b3fd-4d4c695fdc62",
   "metadata": {},
   "outputs": [],
   "source": [
    "scale_factor = 0.05\n",
    "scale_grating = lambda img: img.resize((round(img.size[0] * (1 + scale_factor)), round(img.size[1] * (1 + scale_factor))))\n",
    "\n",
    "get_fft_spectrum( grating_img_2d, scale_grating ).write_image( dotenv['ATTACHMENT_DIR'] / 'moire_kategorien' / 'scale_2d_fft.jpg' )\n",
    "get_effect_img(\n",
    "    grating_img_2d,\n",
    "    scale_grating,\n",
    "    margin=0.2\n",
    ").save( dotenv['ATTACHMENT_DIR'] / 'moire_kategorien' / 'scale_2d.jpg' )\n",
    "\n",
    "get_fft_spectrum( grating_img, scale_grating ).write_image( dotenv['ATTACHMENT_DIR'] / 'moire_kategorien' / 'scale_1d_fft.jpg' )\n",
    "get_effect_img(\n",
    "    grating_img,\n",
    "    scale_grating,\n",
    "    margin=0.2\n",
    ").save( dotenv['ATTACHMENT_DIR'] / 'moire_kategorien' / 'scale_1d.jpg' )"
   ]
  },
  {
   "cell_type": "code",
   "execution_count": 28,
   "id": "333e757f-795b-49e0-8852-59e5fce84155",
   "metadata": {},
   "outputs": [],
   "source": [
    "percentage_per_period = wavelength / grating_2d.shape[0]\n",
    "\n",
    "for period_factor in [0.3,0.5,1,5]:\n",
    "    scale_factor = percentage_per_period * period_factor\n",
    "    scale_by_level = lambda img: img.resize((round(img.size[0] * (1 + scale_factor)), round(img.size[1] * (1 + scale_factor))))\n",
    "    filename = f'scale_{ str(period_factor).replace(\".\",\"\") }'\n",
    "    \n",
    "    get_fft_spectrum( grating_img_2d, scale_by_level ).write_image( dotenv['ATTACHMENT_DIR'] / 'moire_kategorien' / f'{filename}_1d_fft.jpg' )\n",
    "    get_effect_img(\n",
    "        grating_img_2d,\n",
    "        scale_by_level,\n",
    "        margin=0.2\n",
    "    ).save( dotenv['ATTACHMENT_DIR'] / 'moire_kategorien' / f'{filename}_1d.jpg' )"
   ]
  },
  {
   "cell_type": "code",
   "execution_count": 29,
   "id": "8a84ba0c-3ee5-4d78-a5ee-9039b5e4a9b9",
   "metadata": {},
   "outputs": [],
   "source": [
    "for scale_factor_x in [0.01,0.05,0.08,0.1]:\n",
    "    scale_factor_y = 0.05\n",
    "    scale_by_level = lambda img: img.resize((round(img.size[0] * (1 + scale_factor_x)), round(img.size[1] * (1 + scale_factor_y))))\n",
    "    filename = f'scale_{ str(scale_factor_x).replace(\"0.\",\"\") }_{ str(scale_factor_y).replace(\"0.\",\"\") }'\n",
    "    \n",
    "    get_fft_spectrum( grating_img_2d, scale_by_level ).write_image( dotenv['ATTACHMENT_DIR'] / 'moire_kategorien' / f'{filename}_1d_fft.jpg' )\n",
    "    get_effect_img(\n",
    "        grating_img_2d,\n",
    "        scale_by_level,\n",
    "        margin=0.2\n",
    "    ).save( dotenv['ATTACHMENT_DIR'] / 'moire_kategorien' / f'{filename}_1d.jpg' )"
   ]
  },
  {
   "cell_type": "code",
   "execution_count": 30,
   "id": "60b0480c-3930-4bfd-baa0-1c336a9ade04",
   "metadata": {},
   "outputs": [],
   "source": [
    "for scale_factor_x in [0.01,0.05,0.08,0.1]:\n",
    "    scale_factor_y = scale_factor_x\n",
    "    scale_by_level = lambda img: img.resize((round(img.size[0] * (1 + scale_factor_x)), round(img.size[1] * (1 + scale_factor_y))))\n",
    "    filename = f'scale_{ str(scale_factor_x).replace(\"0.\",\"\") }_{ str(scale_factor_y).replace(\"0.\",\"\") }'\n",
    "    \n",
    "    get_fft_spectrum( grating_img_2d, scale_by_level ).write_image( dotenv['ATTACHMENT_DIR'] / 'moire_kategorien' / f'{filename}_1d_fft.jpg' )\n",
    "    get_effect_img(\n",
    "        grating_img_2d,\n",
    "        scale_by_level,\n",
    "        margin=0.2\n",
    "    ).save( dotenv['ATTACHMENT_DIR'] / 'moire_kategorien' / f'{filename}_1d.jpg' )"
   ]
  },
  {
   "cell_type": "code",
   "execution_count": 19,
   "id": "0286433f-fc40-4691-a142-121f6a33b42d",
   "metadata": {},
   "outputs": [],
   "source": [
    "t1 = 1\n",
    "results = []\n",
    "\n",
    "for i in range(100):\n",
    "    t2 = 1 + ((i+1) / 100)\n",
    "    \n",
    "    results.append((t2, (t1 * t2) / abs(t1 - t2)))"
   ]
  },
  {
   "cell_type": "code",
   "execution_count": 20,
   "id": "47843eea-c3af-4e3c-954a-562b03be8f0d",
   "metadata": {},
   "outputs": [],
   "source": [
    "px.line(\n",
    "    x=[r[0] for r in results],\n",
    "    y=[r[1] for r in results],\n",
    "    labels={\n",
    "        'x' : 'Skalierungsfaktor',\n",
    "        'y' : 'Periode des Moirémusters'\n",
    "    },\n",
    "    color_discrete_sequence=COLORS['COLOR_SEQUENCE'],\n",
    "    width=1000,\n",
    "    height=350\n",
    ").write_image( dotenv['ATTACHMENT_DIR'] / 'moire_kategorien' / f'abhaengigkeit_skalierungsfaktor_moire_periode.jpg' )"
   ]
  },
  {
   "cell_type": "code",
   "execution_count": null,
   "id": "4b4ab768-effb-4a6e-9b73-990c897e6c68",
   "metadata": {},
   "outputs": [],
   "source": [
    "scale_factor = 0.05\n",
    "scale_grating = lambda img: img.resize((round(img.size[0] * (1 + scale_factor)), round(img.size[1] * (1 + scale_factor))))\n",
    "\n",
    "get_fft_spectrum( grating_img_2d, scale_grating ).write_image( dotenv['ATTACHMENT_DIR'] / 'moire_kategorien' / 'scale_2d_fft.jpg' )\n",
    "get_effect_img(\n",
    "    grating_img_2d,\n",
    "    scale_grating,\n",
    "    margin=0.2\n",
    ").save( dotenv['ATTACHMENT_DIR'] / 'moire_kategorien' / 'scale_2d.jpg' )\n",
    "\n",
    "get_fft_spectrum( grating_img, scale_grating ).write_image( dotenv['ATTACHMENT_DIR'] / 'moire_kategorien' / 'scale_1d_fft.jpg' )\n",
    "get_effect_img(\n",
    "    grating_img,\n",
    "    scale_grating,\n",
    "    margin=0.2\n",
    ").save( dotenv['ATTACHMENT_DIR'] / 'moire_kategorien' / 'scale_1d.jpg' )"
   ]
  },
  {
   "cell_type": "markdown",
   "id": "0b8e94c2-4af9-454c-a9bf-d1d1d7da328c",
   "metadata": {},
   "source": [
    "# Blow Up"
   ]
  },
  {
   "cell_type": "code",
   "execution_count": null,
   "id": "06120d1a-bf54-4578-a7fd-5193aae5d186",
   "metadata": {},
   "outputs": [],
   "source": [
    "get_effect_img(\n",
    "    grating_img_2d,\n",
    "    lambda img: contract(img, 8),\n",
    "    margin=0.2\n",
    ")"
   ]
  },
  {
   "cell_type": "code",
   "execution_count": null,
   "id": "f798c9e6-1634-49de-a857-1bc34c9df95f",
   "metadata": {},
   "outputs": [],
   "source": [
    "blow_up(grating_img_2d, 8).save( dotenv['ATTACHMENT_DIR'] / 'moire_kategorien' / 'blow_up_base.jpg' )\n",
    "contract(grating_img_2d, 8).save( dotenv['ATTACHMENT_DIR'] / 'moire_kategorien' / 'contract_base.jpg' )\n",
    "\n",
    "get_fft_spectrum( grating_img_2d, lambda img: blow_up(img, 8), overlay=False ).write_image( dotenv['ATTACHMENT_DIR'] / 'moire_kategorien' / 'blow_up_base_fft.jpg' )\n",
    "get_fft_spectrum( grating_img_2d, lambda img: contract(img, 8), overlay=False ).write_image( dotenv['ATTACHMENT_DIR'] / 'moire_kategorien' / 'contract_base_fft.jpg' )"
   ]
  },
  {
   "cell_type": "code",
   "execution_count": null,
   "id": "7ab6c8b5-cfbc-469c-a17f-2b7f9e155c4b",
   "metadata": {},
   "outputs": [],
   "source": [
    "get_effect_img(\n",
    "    grating_img_2d,\n",
    "    lambda img: blow_up(img, 8),\n",
    "    margin=0.2\n",
    ").save( dotenv['ATTACHMENT_DIR'] / 'moire_kategorien' / 'blow_up_overlay.jpg' )\n",
    "get_fft_spectrum( grating_img_2d, lambda img: blow_up(img, 8) ).write_image( dotenv['ATTACHMENT_DIR'] / 'moire_kategorien' / 'blow_up_overlay_fft.jpg' )\n",
    "\n",
    "get_effect_img(\n",
    "    grating_img_2d,\n",
    "    lambda img: contract(img, 8),\n",
    "    margin=0.2\n",
    ").save( dotenv['ATTACHMENT_DIR'] / 'moire_kategorien' / 'contract_overlay.jpg' )\n",
    "get_fft_spectrum( grating_img_2d, lambda img: contract(img, 8) ).write_image( dotenv['ATTACHMENT_DIR'] / 'moire_kategorien' / 'contract_overlay_fft.jpg' )"
   ]
  },
  {
   "cell_type": "markdown",
   "id": "50ceddd7-f584-46ae-a60b-f26c5d02eb91",
   "metadata": {},
   "source": [
    "# wellenförmige Verzerrung"
   ]
  },
  {
   "cell_type": "code",
   "execution_count": null,
   "id": "ebfe7044-6be0-4333-8abe-2506413011a8",
   "metadata": {},
   "outputs": [],
   "source": [
    "wave_configurations = [\n",
    "    (500,10),\n",
    "    (300,15),\n",
    "    (100,20),\n",
    "    (50,5)\n",
    "]"
   ]
  },
  {
   "cell_type": "code",
   "execution_count": null,
   "id": "63229032-6821-43a4-9db5-3c4df287f773",
   "metadata": {},
   "outputs": [],
   "source": [
    "for i in range(len(wave_configurations)):\n",
    "    wave_deform_func = lambda img: wave_deform( img, wave_configurations[:i+1] )\n",
    "\n",
    "    wave_deform_func( grating_img ).save(\n",
    "        dotenv['ATTACHMENT_DIR'] / 'moire_kategorien' / f'wave_base_{ (i+1) }.jpg'\n",
    "    )\n",
    "    get_fft_spectrum( grating_img_2d, wave_deform_func, overlay=False ).write_image(\n",
    "        dotenv['ATTACHMENT_DIR'] / 'moire_kategorien' / f'wave_base_{ (i+1) }_fft.jpg'\n",
    "    )\n",
    "\n",
    "    get_effect_img(\n",
    "        grating_img_2d,\n",
    "        wave_deform_func,\n",
    "        margin=0.2\n",
    "    ).save(\n",
    "        dotenv['ATTACHMENT_DIR'] / 'moire_kategorien' / f'wave_overlay_{ (i+1) }.jpg'\n",
    "    )\n",
    "    get_fft_spectrum( grating_img_2d, wave_deform_func, overlay=True ).write_image(\n",
    "        dotenv['ATTACHMENT_DIR'] / 'moire_kategorien' / f'wave_overlay_{ (i+1) }_fft.jpg'\n",
    "    )"
   ]
  },
  {
   "cell_type": "code",
   "execution_count": null,
   "id": "0e7653ce-6d07-4340-a16b-8b9aa6903878",
   "metadata": {},
   "outputs": [],
   "source": [
    "from scipy.signal import fftconvolve"
   ]
  },
  {
   "cell_type": "code",
   "execution_count": null,
   "id": "f8e17d8e-b705-4889-9589-45832dc434ec",
   "metadata": {},
   "outputs": [],
   "source": [
    "fftconvolve([5,5],[3,3])"
   ]
  },
  {
   "cell_type": "code",
   "execution_count": null,
   "id": "8d80a5b4-c961-4874-8a8c-ec990997dd5d",
   "metadata": {},
   "outputs": [],
   "source": [
    "x = np.arange(-1000, 1001, 1)\n",
    "X, Y = np.meshgrid(x, x)\n",
    "wavelength = 20\n",
    "grating = np.sin(2 * np.pi * X / wavelength) * 0.5 + 0.5\n",
    "grating[grating < 0] = 0\n",
    "grating[grating > 1] = 1\n",
    "\n",
    "grating_rotated = np.sin(\n",
    "    2*np.pi*(X*np.cos(angle) + Y*np.sin(angle)) / wavelength\n",
    ") * 0.5 + 0.77\n",
    "grating_rotated[grating_rotated < 0] = 0\n",
    "grating_rotated[grating_rotated > 1] = 1"
   ]
  },
  {
   "cell_type": "code",
   "execution_count": null,
   "id": "e26be18b-d85e-4ac5-b18a-82b4365bbf0b",
   "metadata": {},
   "outputs": [],
   "source": [
    "convolved = fftconvolve(\n",
    "    get_fft(grating),\n",
    "    get_fft(grating_rotated)\n",
    ")"
   ]
  },
  {
   "cell_type": "code",
   "execution_count": null,
   "id": "43a99509-d4e3-4bcb-956f-49d666fbb47f",
   "metadata": {},
   "outputs": [],
   "source": [
    "px.imshow(limit_frequencies(get_fft(grating).real, inner_limit=10))"
   ]
  },
  {
   "cell_type": "code",
   "execution_count": null,
   "id": "1217d158-8853-4cfd-96fd-f70c9649a23d",
   "metadata": {},
   "outputs": [],
   "source": [
    "px.imshow(limit_frequencies(get_fft(grating).real, inner_limit=10))"
   ]
  }
 ],
 "metadata": {
  "kernelspec": {
   "display_name": "Python 3 (ipykernel)",
   "language": "python",
   "name": "python3"
  },
  "language_info": {
   "codemirror_mode": {
    "name": "ipython",
    "version": 3
   },
   "file_extension": ".py",
   "mimetype": "text/x-python",
   "name": "python",
   "nbconvert_exporter": "python",
   "pygments_lexer": "ipython3",
   "version": "3.10.11"
  }
 },
 "nbformat": 4,
 "nbformat_minor": 5
}
