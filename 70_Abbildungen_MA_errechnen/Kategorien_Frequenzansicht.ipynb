{
 "cells": [
  {
   "cell_type": "code",
   "execution_count": null,
   "id": "6e1ca0c3-32b3-4c4b-8b8f-5a52129a0c46",
   "metadata": {},
   "outputs": [],
   "source": [
    "import sys\n",
    "sys.path.append('../30_data_tools/')\n",
    "sys.path.append('../60_gebastel/Musterueberlagerung/pattern_effects/')"
   ]
  },
  {
   "cell_type": "code",
   "execution_count": null,
   "id": "c0fe6b4f-6e38-410d-abd2-e9d3ac9f20a7",
   "metadata": {},
   "outputs": [],
   "source": [
    "import numpy as np\n",
    "from PIL import Image, ImageChops, ImageOps\n",
    "from helper import load_dotenv\n",
    "from trapezoidal_distortion import distort_trapezoidal\n",
    "import plotly.express as px\n",
    "import math\n",
    "from scipy import ndimage"
   ]
  },
  {
   "cell_type": "code",
   "execution_count": null,
   "id": "4928a1a4-a545-4607-8b11-5670d74c2ff7",
   "metadata": {},
   "outputs": [],
   "source": [
    "def get_fft( input_img ):\n",
    "    ft = np.fft.ifftshift(np.array(input_img))\n",
    "    ft = np.fft.fft2(ft)\n",
    "    ft = np.fft.fftshift(ft)\n",
    "    \n",
    "    return ft"
   ]
  },
  {
   "cell_type": "code",
   "execution_count": null,
   "id": "3f3608ee-3e63-4620-a3cd-5fb85c3d3049",
   "metadata": {},
   "outputs": [],
   "source": [
    "def limit_frequencies( fft, inner_limit=None, outer_limit=None ):\n",
    "    center = (fft.shape[1] / 2, fft.shape[0] / 2)\n",
    "    for y in range(fft.shape[0]):\n",
    "        for x in range(fft.shape[1]):\n",
    "            r = math.sqrt( abs(center[0] - x) ** 2 + abs(center[1] - y) ** 2 )\n",
    "            \n",
    "            if outer_limit is not None and r > outer_limit:\n",
    "                fft[y,x] = 0\n",
    "    \n",
    "            if inner_limit is not None and r < inner_limit:\n",
    "                fft[y,x] = 0\n",
    "\n",
    "    return fft"
   ]
  },
  {
   "cell_type": "code",
   "execution_count": null,
   "id": "7a7e822a-3048-44bb-92d8-b8ac33cf7388",
   "metadata": {},
   "outputs": [],
   "source": [
    "Image.MAX_IMAGE_PIXELS = None"
   ]
  },
  {
   "cell_type": "code",
   "execution_count": null,
   "id": "d029b207-2e07-4789-b3c7-bb180487cfa1",
   "metadata": {},
   "outputs": [],
   "source": [
    "dotenv = load_dotenv()"
   ]
  },
  {
   "cell_type": "code",
   "execution_count": null,
   "id": "e15cef48-320d-4fa3-a465-127a99d85b87",
   "metadata": {},
   "outputs": [],
   "source": [
    "x = np.arange(-1000, 1001, 1)\n",
    "X, Y = np.meshgrid(x, x)\n",
    "wavelength = 20\n",
    "grating = np.sin(2 * np.pi * X / wavelength) * 0.5 + 0.5\n",
    "\n",
    "angle = np.pi / 180 * 90\n",
    "grating_rotated = np.sin(\n",
    "    2*np.pi*(X*np.cos(angle) + Y*np.sin(angle)) / wavelength\n",
    ") * 0.5 + 0.5"
   ]
  },
  {
   "cell_type": "code",
   "execution_count": null,
   "id": "94c55584-4b7d-4add-b767-1ee457aafa31",
   "metadata": {},
   "outputs": [],
   "source": [
    "grating.min()"
   ]
  },
  {
   "cell_type": "code",
   "execution_count": null,
   "id": "ca76afc7-d4fe-4d43-b037-5d3390fdd533",
   "metadata": {},
   "outputs": [],
   "source": [
    "grating_img = Image.fromarray((((grating * grating_rotated) * 255).round()).astype('uint8'))\n",
    "#grating_distorted = grating_img.rotate(10, fillcolor=\"white\")\n",
    "grating_distorted = distort_trapezoidal( grating_img, (0.0,0.75), \"top\" )\n",
    "#grating_distorted = grating_img.resize(( round(grating_img.size[0] * 1.2), grating_img.size[1] ))"
   ]
  },
  {
   "cell_type": "code",
   "execution_count": null,
   "id": "0a8ecb52-e4b7-4ac2-83c1-c6040885d914",
   "metadata": {},
   "outputs": [],
   "source": [
    "grating_img"
   ]
  },
  {
   "cell_type": "code",
   "execution_count": null,
   "id": "e4f2c899-1fe7-4747-bbc7-aaa50678e145",
   "metadata": {},
   "outputs": [],
   "source": [
    "img = Image.open(dotenv['PATTERN_DIR'] / 'plain_4.LINE.tif').crop((0,0,1000,1000))\n",
    "img_line = ImageOps.invert(img).convert('L')"
   ]
  },
  {
   "cell_type": "code",
   "execution_count": null,
   "id": "e091cf01-68be-4613-b023-44daf229e864",
   "metadata": {},
   "outputs": [],
   "source": [
    "img = Image.open(dotenv['PATTERN_DIR'] / 'plain_4.CIRCLE.tif').crop((0,0,1000,1000))\n",
    "img_circle = ImageOps.invert(img).convert('L')"
   ]
  },
  {
   "cell_type": "code",
   "execution_count": null,
   "id": "d5a1ec98-e929-4211-ba49-7fcc2b9cff4f",
   "metadata": {},
   "outputs": [],
   "source": [
    "multiplied = ImageChops.multiply( img_line, distort_trapezoidal( img_circle, (0.0,0.5), \"top\" ) )"
   ]
  },
  {
   "cell_type": "code",
   "execution_count": null,
   "id": "7e60c1a1-aae4-42d2-9a45-88d3f62dbb70",
   "metadata": {},
   "outputs": [],
   "source": [
    "fft = get_fft( ImageChops.multiply( img_line, distort_trapezoidal( img_line, (0.0,0.5), \"top\" ) ) )\n",
    "\n",
    "px.imshow(\n",
    "    ndimage.uniform_filter(\n",
    "        np.abs(fft),\n",
    "        size=5\n",
    "    ),\n",
    "    color_continuous_scale=['white','black']\n",
    ")"
   ]
  },
  {
   "cell_type": "code",
   "execution_count": null,
   "id": "0852c25a-8f00-45b5-8f36-3a7b6b7e5c46",
   "metadata": {},
   "outputs": [],
   "source": [
    "fft = get_fft( ImageChops.multiply( img_circle, distort_trapezoidal( img_circle, (0.0,0.5), \"top\" ) ) )\n",
    "\n",
    "px.imshow(\n",
    "    ndimage.uniform_filter(\n",
    "        np.abs(fft),\n",
    "        size=5\n",
    "    ),\n",
    "    color_continuous_scale=['white','black']\n",
    ")"
   ]
  },
  {
   "cell_type": "code",
   "execution_count": null,
   "id": "baf8ac3a-1b3f-4d95-95f5-d378ba5e2a18",
   "metadata": {},
   "outputs": [],
   "source": [
    "fft = get_fft( ImageChops.multiply( img_line, distort_trapezoidal( img_circle, (0.0,0.5), \"top\" ) ) )\n",
    "\n",
    "px.imshow(\n",
    "    ndimage.uniform_filter(\n",
    "        np.abs(fft),\n",
    "        size=5\n",
    "    ),\n",
    "    color_continuous_scale=['white','black']\n",
    ")"
   ]
  },
  {
   "cell_type": "code",
   "execution_count": null,
   "id": "1f1e3f4f-470b-471e-bf77-385d940abf92",
   "metadata": {},
   "outputs": [],
   "source": [
    "fft = get_fft( ImageChops.multiply( img_circle, distort_trapezoidal( img_line, (0.0,0.5), \"top\" ) ) )\n",
    "\n",
    "px.imshow(\n",
    "    ndimage.uniform_filter(\n",
    "        np.abs(fft),\n",
    "        size=5\n",
    "    ),\n",
    "    color_continuous_scale=['white','black']\n",
    ")"
   ]
  },
  {
   "cell_type": "code",
   "execution_count": null,
   "id": "e37a13f1-4cb3-4636-af74-25e024e40f2e",
   "metadata": {},
   "outputs": [],
   "source": [
    "fft = get_fft( img_circle )\n",
    "\n",
    "px.imshow(\n",
    "    ndimage.uniform_filter(\n",
    "        np.abs(fft),\n",
    "        size=5\n",
    "    ),\n",
    "    color_continuous_scale=['white','black']\n",
    ")"
   ]
  },
  {
   "cell_type": "code",
   "execution_count": null,
   "id": "17189822-b73c-44b9-8db9-1d3204d21514",
   "metadata": {},
   "outputs": [],
   "source": [
    "fft = get_fft( ImageChops.multiply( img_line, img_line.rotate(10, fillcolor=\"white\") ) )\n",
    "\n",
    "px.imshow(\n",
    "    ndimage.uniform_filter(\n",
    "        np.abs(fft),\n",
    "        size=5\n",
    "    ),\n",
    "    color_continuous_scale=['white','black']\n",
    ")"
   ]
  }
 ],
 "metadata": {
  "kernelspec": {
   "display_name": "Python 3 (ipykernel)",
   "language": "python",
   "name": "python3"
  },
  "language_info": {
   "codemirror_mode": {
    "name": "ipython",
    "version": 3
   },
   "file_extension": ".py",
   "mimetype": "text/x-python",
   "name": "python",
   "nbconvert_exporter": "python",
   "pygments_lexer": "ipython3",
   "version": "3.10.11"
  }
 },
 "nbformat": 4,
 "nbformat_minor": 5
}
