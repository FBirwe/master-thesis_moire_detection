{
 "cells": [
  {
   "cell_type": "code",
   "execution_count": null,
   "id": "da44b3d6-53ae-4755-9b12-64148b3a4cb3",
   "metadata": {},
   "outputs": [],
   "source": [
    "import sys\n",
    "sys.path.append('../60_Code/generate_patterns/')\n",
    "sys.path.append('../30_data_tools')\n",
    "from raster_image_processor import RasterImageProcessor, DOT_SHAPE\n",
    "from pathlib import Path\n",
    "import numpy as np\n",
    "from PIL import Image"
   ]
  },
  {
   "cell_type": "code",
   "execution_count": null,
   "id": "48a8b10c",
   "metadata": {},
   "outputs": [],
   "source": [
    "from helper import load_dotenv"
   ]
  },
  {
   "cell_type": "code",
   "execution_count": null,
   "id": "96ad33d5",
   "metadata": {},
   "outputs": [],
   "source": [
    "dotenv = load_dotenv()"
   ]
  },
  {
   "cell_type": "code",
   "execution_count": null,
   "id": "e71914c1-324e-4874-be58-51c949c8846e",
   "metadata": {},
   "outputs": [],
   "source": [
    "BASE_PATH = dotenv['ATTACHMENT_DIR'] / '7_RIP'\n",
    "COVERAGES = [\n",
    "    10,\n",
    "    30,\n",
    "    50,\n",
    "    70,\n",
    "    90\n",
    "]\n",
    "TILE_SIZE = 16 * 5"
   ]
  },
  {
   "cell_type": "code",
   "execution_count": null,
   "id": "04a77b74-3693-43cb-a4ac-eadf1d76798a",
   "metadata": {},
   "outputs": [],
   "source": [
    "rip_line = RasterImageProcessor( DOT_SHAPE.LINE, 16 )\n",
    "rip_circle = RasterImageProcessor( DOT_SHAPE.CIRCLE, 16 )\n",
    "rip_diamond = RasterImageProcessor( DOT_SHAPE.DIAMOND, 16 )"
   ]
  },
  {
   "cell_type": "code",
   "execution_count": null,
   "id": "3109c19f-5842-419e-84cb-e66112d0ea02",
   "metadata": {},
   "outputs": [],
   "source": [
    "for c in COVERAGES:\n",
    "    tile = (np.ones((TILE_SIZE,TILE_SIZE)) * (255 * (1 - c / 100))).astype('uint8')\n",
    "    Image.fromarray(tile).save( BASE_PATH / f'plain_{ c }.tiff')\n",
    "    rip_line.screen_image( tile, 600, 2400 ).save( BASE_PATH / f'line_{ c }.tiff' )\n",
    "    rip_circle.screen_image( tile, 600, 2400 ).save( BASE_PATH / f'circle_{ c }.tiff' )\n",
    "    rip_diamond.screen_image( tile, 600, 2400 ).save( BASE_PATH / f'diamond_{ c }.tiff' )"
   ]
  }
 ],
 "metadata": {
  "kernelspec": {
   "display_name": "Python 3 (ipykernel)",
   "language": "python",
   "name": "python3"
  },
  "language_info": {
   "codemirror_mode": {
    "name": "ipython",
    "version": 3
   },
   "file_extension": ".py",
   "mimetype": "text/x-python",
   "name": "python",
   "nbconvert_exporter": "python",
   "pygments_lexer": "ipython3",
   "version": "3.10.11"
  }
 },
 "nbformat": 4,
 "nbformat_minor": 5
}
