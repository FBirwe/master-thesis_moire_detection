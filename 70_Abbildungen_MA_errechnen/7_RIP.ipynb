{
 "cells": [
  {
   "cell_type": "code",
   "execution_count": 1,
   "id": "da44b3d6-53ae-4755-9b12-64148b3a4cb3",
   "metadata": {},
   "outputs": [],
   "source": [
    "import sys\n",
    "sys.path.append('../60_gebastel/generate_patterns/')\n",
    "from raster_image_processor import RasterImageProcessor, DOT_SHAPE\n",
    "from pathlib import Path\n",
    "import numpy as np\n",
    "from PIL import Image"
   ]
  },
  {
   "cell_type": "code",
   "execution_count": 2,
   "id": "e71914c1-324e-4874-be58-51c949c8846e",
   "metadata": {},
   "outputs": [],
   "source": [
    "BASE_PATH = Path('/Users/frederic.birwe/Documents/GitHub/ma_obsidian/Attachments/7_RIP')\n",
    "COVERAGES = [\n",
    "    10,\n",
    "    30,\n",
    "    50,\n",
    "    70,\n",
    "    90\n",
    "]\n",
    "TILE_SIZE = 16 * 5"
   ]
  },
  {
   "cell_type": "code",
   "execution_count": 3,
   "id": "04a77b74-3693-43cb-a4ac-eadf1d76798a",
   "metadata": {},
   "outputs": [],
   "source": [
    "rip_line = RasterImageProcessor( DOT_SHAPE.LINE, 16 )\n",
    "rip_circle = RasterImageProcessor( DOT_SHAPE.CIRCLE, 16 )\n",
    "rip_diamond = RasterImageProcessor( DOT_SHAPE.DIAMOND, 16 )"
   ]
  },
  {
   "cell_type": "code",
   "execution_count": 4,
   "id": "3109c19f-5842-419e-84cb-e66112d0ea02",
   "metadata": {},
   "outputs": [
    {
     "name": "stderr",
     "output_type": "stream",
     "text": [
      "100%|█████████████████████████████| 20/20 [00:00<00:00, 5906.64it/s]\n",
      "100%|█████████████████████████████| 20/20 [00:00<00:00, 4254.51it/s]\n",
      "100%|█████████████████████████████| 20/20 [00:00<00:00, 5031.55it/s]\n",
      "100%|█████████████████████████████| 20/20 [00:00<00:00, 4477.27it/s]\n",
      "100%|█████████████████████████████| 20/20 [00:00<00:00, 5082.77it/s]\n",
      "100%|█████████████████████████████| 20/20 [00:00<00:00, 4089.01it/s]\n",
      "100%|█████████████████████████████| 20/20 [00:00<00:00, 4894.74it/s]\n",
      "100%|█████████████████████████████| 20/20 [00:00<00:00, 6209.18it/s]\n",
      "100%|█████████████████████████████| 20/20 [00:00<00:00, 6192.23it/s]\n",
      "100%|█████████████████████████████| 20/20 [00:00<00:00, 5627.67it/s]\n",
      "100%|█████████████████████████████| 20/20 [00:00<00:00, 4598.77it/s]\n",
      "100%|█████████████████████████████| 20/20 [00:00<00:00, 6498.26it/s]\n",
      "100%|█████████████████████████████| 20/20 [00:00<00:00, 3832.86it/s]\n",
      "100%|█████████████████████████████| 20/20 [00:00<00:00, 6088.41it/s]\n",
      "100%|█████████████████████████████| 20/20 [00:00<00:00, 6071.66it/s]\n"
     ]
    }
   ],
   "source": [
    "for c in COVERAGES:\n",
    "    tile = (np.ones((TILE_SIZE,TILE_SIZE)) * (255 * (1 - c / 100))).astype('uint8')\n",
    "    Image.fromarray(tile).save( BASE_PATH / f'plain_{ c }.tiff')\n",
    "    rip_line.screen_image( tile, 600, 2400 ).save( BASE_PATH / f'line_{ c }.tiff' )\n",
    "    rip_circle.screen_image( tile, 600, 2400 ).save( BASE_PATH / f'circle_{ c }.tiff' )\n",
    "    rip_diamond.screen_image( tile, 600, 2400 ).save( BASE_PATH / f'diamond_{ c }.tiff' )"
   ]
  }
 ],
 "metadata": {
  "kernelspec": {
   "display_name": "Python 3 (ipykernel)",
   "language": "python",
   "name": "python3"
  },
  "language_info": {
   "codemirror_mode": {
    "name": "ipython",
    "version": 3
   },
   "file_extension": ".py",
   "mimetype": "text/x-python",
   "name": "python",
   "nbconvert_exporter": "python",
   "pygments_lexer": "ipython3",
   "version": "3.10.11"
  }
 },
 "nbformat": 4,
 "nbformat_minor": 5
}
