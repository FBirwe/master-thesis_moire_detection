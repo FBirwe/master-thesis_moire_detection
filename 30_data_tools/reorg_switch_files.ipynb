{
 "cells": [
  {
   "cell_type": "code",
   "execution_count": 1,
   "id": "59f499a8-60ad-41ea-a77b-2662abb2bd92",
   "metadata": {},
   "outputs": [],
   "source": [
    "from pathlib import Path\n",
    "import re\n",
    "import shutil\n",
    "from helper import load_dotenv\n",
    "\n",
    "from tqdm import tqdm"
   ]
  },
  {
   "cell_type": "code",
   "execution_count": 2,
   "id": "cefdb94f-eba0-4de2-b4b6-c61e6779e2c8",
   "metadata": {},
   "outputs": [],
   "source": [
    "config = load_dotenv()"
   ]
  },
  {
   "cell_type": "code",
   "execution_count": 3,
   "id": "07c7fb4a-7b9a-4868-8314-69ce8b728da0",
   "metadata": {},
   "outputs": [],
   "source": [
    "PDF_DIR = Path('/Volumes/ctp_00/_temp/frederic_moire_tests/')"
   ]
  },
  {
   "cell_type": "code",
   "execution_count": 4,
   "id": "2fd7b2b0-e0bf-4d6b-a3a3-3901e002f60f",
   "metadata": {},
   "outputs": [],
   "source": [
    "pdf_files = list( PDF_DIR.glob('./*.pdf') )"
   ]
  },
  {
   "cell_type": "code",
   "execution_count": 5,
   "id": "39ad4a34-fad5-4028-8f46-fb647e277882",
   "metadata": {},
   "outputs": [],
   "source": [
    "def split_filename( pdf_path ):\n",
    "    res = re.match(r'(.+)__(\\d+)__#__(.+)', pdf_path.name )\n",
    "\n",
    "    if res:\n",
    "        jobname, lpi, filename = res.groups()\n",
    "\n",
    "        return jobname, lpi, filename\n",
    "\n",
    "    return None"
   ]
  },
  {
   "cell_type": "code",
   "execution_count": 6,
   "id": "26f61b63-07c8-42d2-9d5b-29c71abb2c4d",
   "metadata": {},
   "outputs": [],
   "source": [
    "def move_file( pdf_path ):\n",
    "    try:\n",
    "        jobname, lpi, filename = split_filename( pdf_path )\n",
    "        job_no = jobname[:6]\n",
    "\n",
    "        # create job dir\n",
    "        job_dir = config['DATA_DIR'] / job_no\n",
    "\n",
    "        if job_dir.exists() == False:\n",
    "            job_dir.mkdir()\n",
    "\n",
    "        # pdf dir anlegen\n",
    "        pdf_dir = job_dir / 'pdf'\n",
    "\n",
    "        if pdf_dir.exists() == False:\n",
    "            pdf_dir.mkdir()\n",
    "        \n",
    "        # vps dir anlegen\n",
    "        vps_dir = job_dir / f'vps2400dpi{ lpi }lpi'\n",
    "\n",
    "        if vps_dir.exists() == False:\n",
    "            vps_dir.mkdir()\n",
    "\n",
    "        # relevant bilddateien verschieben\n",
    "        img_files = list( job_dir.glob(f'./{ filename.strip(pdf_path.suffix) }*.tiff') ) + list( job_dir.glob(f'./{ filename.strip(pdf_path.suffix) }*.jpg') )\n",
    "        \n",
    "        for img in img_files:\n",
    "            target_img_file = vps_dir / img.name\n",
    "            \n",
    "            shutil.move(\n",
    "                img,\n",
    "                target_img_file\n",
    "            )\n",
    "        \n",
    "        # pdf-datei verschieben\n",
    "        target_pdf_file = pdf_dir / filename\n",
    "        \n",
    "        shutil.move(\n",
    "            pdf_path,\n",
    "            target_pdf_file\n",
    "        )\n",
    "    except Exception as e:\n",
    "        print( e )"
   ]
  },
  {
   "cell_type": "code",
   "execution_count": 7,
   "id": "f2868fee-8253-451e-9335-45eaf2aa1ce9",
   "metadata": {},
   "outputs": [
    {
     "name": "stderr",
     "output_type": "stream",
     "text": [
      "100%|███████████████████████████████████████████████████████████████████████████████████████████████████████████████████| 7/7 [00:00<00:00, 17549.39it/s]"
     ]
    },
    {
     "name": "stdout",
     "output_type": "stream",
     "text": [
      "cannot unpack non-iterable NoneType object\n",
      "cannot unpack non-iterable NoneType object\n",
      "cannot unpack non-iterable NoneType object\n",
      "cannot unpack non-iterable NoneType object\n",
      "cannot unpack non-iterable NoneType object\n",
      "cannot unpack non-iterable NoneType object\n",
      "cannot unpack non-iterable NoneType object\n"
     ]
    },
    {
     "name": "stderr",
     "output_type": "stream",
     "text": [
      "\n"
     ]
    }
   ],
   "source": [
    "for pdf in tqdm(pdf_files):\n",
    "    move_file( pdf )"
   ]
  },
  {
   "cell_type": "code",
   "execution_count": null,
   "id": "aa6ca546-e304-4f0a-8b2c-ff53b450df6f",
   "metadata": {},
   "outputs": [],
   "source": []
  }
 ],
 "metadata": {
  "kernelspec": {
   "display_name": "Python 3 (ipykernel)",
   "language": "python",
   "name": "python3"
  },
  "language_info": {
   "codemirror_mode": {
    "name": "ipython",
    "version": 3
   },
   "file_extension": ".py",
   "mimetype": "text/x-python",
   "name": "python",
   "nbconvert_exporter": "python",
   "pygments_lexer": "ipython3",
   "version": "3.10.11"
  }
 },
 "nbformat": 4,
 "nbformat_minor": 5
}
