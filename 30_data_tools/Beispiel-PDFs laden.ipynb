{
 "cells": [
  {
   "cell_type": "code",
   "execution_count": 1,
   "id": "ced2caea-1ea3-4db8-b30a-471112d254bc",
   "metadata": {},
   "outputs": [],
   "source": [
    "from  pathlib import Path\n",
    "from helper import load_dotenv\n",
    "import re\n",
    "import shutil\n",
    "from tqdm import tqdm"
   ]
  },
  {
   "cell_type": "code",
   "execution_count": 2,
   "id": "3d2ab065-c369-4021-a8a8-38d337662543",
   "metadata": {},
   "outputs": [],
   "source": [
    "config = load_dotenv()"
   ]
  },
  {
   "cell_type": "markdown",
   "id": "3af03a82-0f52-4e4f-b9c7-2f0fd229b7c3",
   "metadata": {},
   "source": [
    "# PDFs verschieben"
   ]
  },
  {
   "cell_type": "code",
   "execution_count": null,
   "id": "e5adfd5f-4038-4525-ae14-493719fdd2b5",
   "metadata": {},
   "outputs": [],
   "source": [
    "pdf_dir = Path('/Volumes/ctp_00/_temp/frederic_moire_tests/')"
   ]
  },
  {
   "cell_type": "code",
   "execution_count": null,
   "id": "f3f0c1c3-f59c-48b8-a99d-f9431f5c292a",
   "metadata": {},
   "outputs": [],
   "source": [
    "pdf_dir.exists()"
   ]
  },
  {
   "cell_type": "code",
   "execution_count": null,
   "id": "6654132e-8c17-4523-a7c1-d2e111c806d4",
   "metadata": {},
   "outputs": [],
   "source": [
    "pdfs = list( pdf_dir.glob('./*.pdf') )"
   ]
  },
  {
   "cell_type": "code",
   "execution_count": null,
   "id": "99ce95aa-9829-40e8-8196-a3bdf8b33de1",
   "metadata": {},
   "outputs": [],
   "source": [
    "len(pdfs)"
   ]
  },
  {
   "cell_type": "code",
   "execution_count": null,
   "id": "6c1ce870-6e9d-440e-be6d-18860fb4e9dc",
   "metadata": {},
   "outputs": [],
   "source": [
    "for pdf in tqdm(pdfs):\n",
    "    job_name = pdf.name[:6]\n",
    "\n",
    "    target_dir = config['DATA_DIR'] / job_name\n",
    "    target_path = target_dir / pdf.name\n",
    "    \n",
    "    if target_dir.exists() == False:\n",
    "        target_dir.mkdir()\n",
    "    \n",
    "    shutil.move(\n",
    "        pdf,\n",
    "        target_path\n",
    "    )"
   ]
  },
  {
   "cell_type": "markdown",
   "id": "55ca3939-ce16-4e02-ad6e-0e5cb3768edf",
   "metadata": {},
   "source": [
    "# Dateien sortieren"
   ]
  },
  {
   "cell_type": "code",
   "execution_count": 3,
   "id": "74c23629-0893-4748-acd9-ecaa2f1d8bf0",
   "metadata": {},
   "outputs": [],
   "source": [
    "job_dirs = [d for d in config['DATA_DIR'].iterdir() if d.is_dir() and re.match('\\d{6}.*', d.name)]"
   ]
  },
  {
   "cell_type": "code",
   "execution_count": 17,
   "id": "7f42a0c0-3de3-4d3e-8692-454ab3283022",
   "metadata": {},
   "outputs": [],
   "source": [
    "def process_job_dir( j_dir ):\n",
    "    for pdf in list(j_dir.glob('./*.pdf')):\n",
    "        res = re.match( r'(.+)__(\\d+)__#__(.+)', pdf.name )\n",
    "    \n",
    "        if res:\n",
    "            job, lpi, filename = res.groups()\n",
    "            basename = filename.strip( pdf.suffix )\n",
    "    \n",
    "            relevant_files = list( j_dir.glob(f'./{ basename }*') )\n",
    "    \n",
    "            # dirs anlegen\n",
    "            pdf_dir = j_dir / 'pdf'\n",
    "            img_dir = j_dir / f'vps2400dpi{ lpi }lpi'\n",
    "    \n",
    "            if pdf_dir.exists() == False:\n",
    "                pdf_dir.mkdir()\n",
    "    \n",
    "            if img_dir.exists() == False:\n",
    "                img_dir.mkdir()\n",
    "    \n",
    "            # dateien verschieben\n",
    "            pdf_out_file = pdf_dir / filename\n",
    "            shutil.move( pdf, pdf_out_file )\n",
    "    \n",
    "            for rf in relevant_files:\n",
    "                out_file = img_dir / rf.name\n",
    "    \n",
    "                shutil.move(rf, out_file)"
   ]
  },
  {
   "cell_type": "code",
   "execution_count": 18,
   "id": "daab44ce-08fe-4cb3-a634-9f901244c9cc",
   "metadata": {},
   "outputs": [
    {
     "name": "stderr",
     "output_type": "stream",
     "text": [
      "100%|███████████████████████████████████████████| 41/41 [00:05<00:00,  7.78it/s]\n"
     ]
    }
   ],
   "source": [
    "for j_dir in tqdm( job_dirs ):\n",
    "    process_job_dir( j_dir )"
   ]
  },
  {
   "cell_type": "code",
   "execution_count": 21,
   "id": "7d3fcd96-bf86-42e4-ac12-6e52b89eeb60",
   "metadata": {},
   "outputs": [],
   "source": [
    "from add_data_to_db import main as import_data\n",
    "from add_jpgs_to_labelstudio import main as add_jpgs_to_labelstudio"
   ]
  },
  {
   "cell_type": "code",
   "execution_count": 22,
   "id": "2393093f-c5bf-41be-bca8-19e07fbed847",
   "metadata": {},
   "outputs": [
    {
     "name": "stderr",
     "output_type": "stream",
     "text": [
      "100%|███████████████████████████████████████| 2667/2667 [00:32<00:00, 82.57it/s]\n"
     ]
    }
   ],
   "source": [
    "import_data()\n",
    "add_jpgs_to_labelstudio()"
   ]
  }
 ],
 "metadata": {
  "kernelspec": {
   "display_name": "Python 3 (ipykernel)",
   "language": "python",
   "name": "python3"
  },
  "language_info": {
   "codemirror_mode": {
    "name": "ipython",
    "version": 3
   },
   "file_extension": ".py",
   "mimetype": "text/x-python",
   "name": "python",
   "nbconvert_exporter": "python",
   "pygments_lexer": "ipython3",
   "version": "3.10.11"
  }
 },
 "nbformat": 4,
 "nbformat_minor": 5
}
