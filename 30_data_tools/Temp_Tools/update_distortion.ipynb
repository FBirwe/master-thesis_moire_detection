{
 "cells": [
  {
   "cell_type": "code",
   "execution_count": 1,
   "id": "fb54d749-be6b-4bb4-bd9d-c7a9f322ee90",
   "metadata": {},
   "outputs": [],
   "source": [
    "import sys\n",
    "sys.path.append('../')\n",
    "import json\n",
    "import pandas as pd\n",
    "import sqlite3\n",
    "from helper import load_dotenv\n",
    "from tqdm.auto import tqdm"
   ]
  },
  {
   "cell_type": "code",
   "execution_count": 2,
   "id": "c3bb972e-af6c-426e-ac36-4c7e30afd8f1",
   "metadata": {},
   "outputs": [],
   "source": [
    "dotenv = load_dotenv()\n",
    "con = sqlite3.connect( dotenv['DB_PATH'] )"
   ]
  },
  {
   "cell_type": "code",
   "execution_count": 3,
   "id": "a30bde55-e7ee-4765-bbe2-49d40afdf2fe",
   "metadata": {},
   "outputs": [],
   "source": [
    "data = pd.read_sql(\n",
    "    '''\n",
    "        SELECT * FROM adjustment_per_mask apm \n",
    "        WHERE apm.adjustment = 'trapezoidal_distortion'\n",
    "    ''',\n",
    "    con\n",
    ")"
   ]
  },
  {
   "cell_type": "markdown",
   "id": "4d7aed23-6ac0-4e40-bcdb-35d1a7ddd50a",
   "metadata": {},
   "source": [
    "# BackUp ziehen"
   ]
  },
  {
   "cell_type": "code",
   "execution_count": null,
   "id": "78536d1f-aec5-4714-ad87-1d7f677db7ad",
   "metadata": {},
   "outputs": [],
   "source": [
    "0 / 0"
   ]
  },
  {
   "cell_type": "code",
   "execution_count": null,
   "id": "fb60a647-896a-46bb-9869-007afc42669f",
   "metadata": {},
   "outputs": [],
   "source": [
    "data.to_pickle(dotenv['TEMP_PROCESSING_DIR'] / '24-04-28_trapezoidal_distortion_backup.pkl')"
   ]
  },
  {
   "cell_type": "markdown",
   "id": "00a0226d-dbd9-42a9-88d5-f12a431848a5",
   "metadata": {},
   "source": [
    "# Update"
   ]
  },
  {
   "cell_type": "code",
   "execution_count": 4,
   "id": "c31c9f6c-b1e4-4482-b74a-82fbaff3c585",
   "metadata": {},
   "outputs": [],
   "source": [
    "updates = []\n",
    "\n",
    "for val in data.features:\n",
    "    features = json.loads(val)\n",
    "    if pd.isna(features['trapezoidal_distortion_strength_1']):\n",
    "        features['trapezoidal_distortion_strength_1'] = 0\n",
    "\n",
    "    if pd.isna(features['trapezoidal_distortion_strength_2']):\n",
    "        features['trapezoidal_distortion_strength_2'] = 0\n",
    "    \n",
    "    if features['trapezoidal_distortion_direction'] == 'top':\n",
    "        corner_adjustments = [\n",
    "            (features['trapezoidal_distortion_strength_1'],0),\n",
    "            (0,0),\n",
    "            (0,0),\n",
    "            (features['trapezoidal_distortion_strength_2'],0)\n",
    "        ]\n",
    "    elif features['trapezoidal_distortion_direction'] == 'left':\n",
    "        corner_adjustments = [\n",
    "            (features['trapezoidal_distortion_strength_2'],0),\n",
    "            (features['trapezoidal_distortion_strength_1'],0),\n",
    "            (0,0),\n",
    "            (0,0)\n",
    "        ]\n",
    "    elif features['trapezoidal_distortion_direction'] == 'bottom':\n",
    "        corner_adjustments = [\n",
    "            (0,0),\n",
    "            (features['trapezoidal_distortion_strength_2'],0),\n",
    "            (features['trapezoidal_distortion_strength_1'],0),\n",
    "            (0,0)\n",
    "        ]\n",
    "    else:\n",
    "        corner_adjustments = [\n",
    "            (0,0),\n",
    "            (0,0),\n",
    "            (features['trapezoidal_distortion_strength_1'],0),\n",
    "            (features['trapezoidal_distortion_strength_2'],0)\n",
    "        ]\n",
    "    \n",
    "    updates.append(json.dumps({ 'corner_adjustments' : corner_adjustments }))"
   ]
  },
  {
   "cell_type": "code",
   "execution_count": 5,
   "id": "93756740-5bf9-4b65-8bed-ffb5b280c83c",
   "metadata": {},
   "outputs": [
    {
     "data": {
      "text/plain": [
       "(2318, (2318, 10))"
      ]
     },
     "execution_count": 5,
     "metadata": {},
     "output_type": "execute_result"
    }
   ],
   "source": [
    "len(updates), data.shape"
   ]
  },
  {
   "cell_type": "code",
   "execution_count": 6,
   "id": "3aae7e28-5cb5-4d5d-b9e4-f380c68c3b39",
   "metadata": {},
   "outputs": [
    {
     "data": {
      "text/plain": [
       "pdf_filename                                 004_2023_017_0_118_0.p1\n",
       "job                                                           508001\n",
       "type                                                              4c\n",
       "variant_name                                          halftone600dpi\n",
       "method                                                    soft_light\n",
       "idx                                                                2\n",
       "mask_id                                                   1EhfLLvuBf\n",
       "adjustment                                    trapezoidal_distortion\n",
       "features           {\"trapezoidal_distortion_strength_1\": 0.304858...\n",
       "execution_index                                                    5\n",
       "Name: 10, dtype: object"
      ]
     },
     "execution_count": 6,
     "metadata": {},
     "output_type": "execute_result"
    }
   ],
   "source": [
    "data.iloc[10]"
   ]
  },
  {
   "cell_type": "code",
   "execution_count": 7,
   "id": "85e15e02-bf58-43f6-80ec-7e3a82009d60",
   "metadata": {},
   "outputs": [
    {
     "data": {
      "application/vnd.jupyter.widget-view+json": {
       "model_id": "3fafa269f6044e5aaf265808d6e5c9f2",
       "version_major": 2,
       "version_minor": 0
      },
      "text/plain": [
       "  0%|          | 0/2318 [00:00<?, ?it/s]"
      ]
     },
     "metadata": {},
     "output_type": "display_data"
    }
   ],
   "source": [
    "c = con.cursor()\n",
    "\n",
    "for i in tqdm(range(len(updates))):\n",
    "    row = data.iloc[i]\n",
    "    \n",
    "    c.execute(\n",
    "        f'''\n",
    "            UPDATE adjustment_per_mask\n",
    "            SET features='{ updates[i] }'\n",
    "            WHERE job='{ row.job }' AND pdf_filename='{ row.pdf_filename }' AND mask_id='{ row.mask_id }' AND adjustment='{ row.adjustment }'\n",
    "        '''\n",
    "    )\n",
    "\n",
    "c.close()\n",
    "con.commit()"
   ]
  }
 ],
 "metadata": {
  "kernelspec": {
   "display_name": "Python 3 (ipykernel)",
   "language": "python",
   "name": "python3"
  },
  "language_info": {
   "codemirror_mode": {
    "name": "ipython",
    "version": 3
   },
   "file_extension": ".py",
   "mimetype": "text/x-python",
   "name": "python",
   "nbconvert_exporter": "python",
   "pygments_lexer": "ipython3",
   "version": "3.10.11"
  }
 },
 "nbformat": 4,
 "nbformat_minor": 5
}
