{
 "cells": [
  {
   "cell_type": "code",
   "execution_count": 2,
   "id": "fb54d749-be6b-4bb4-bd9d-c7a9f322ee90",
   "metadata": {},
   "outputs": [],
   "source": [
    "import sys\n",
    "sys.path.append('../')\n",
    "import json\n",
    "import pandas as pd\n",
    "import sqlite3\n",
    "from helper import load_dotenv\n",
    "from tqdm.auto import tqdm"
   ]
  },
  {
   "cell_type": "code",
   "execution_count": 4,
   "id": "c3bb972e-af6c-426e-ac36-4c7e30afd8f1",
   "metadata": {
    "scrolled": true
   },
   "outputs": [],
   "source": [
    "dotenv = load_dotenv()\n",
    "con = sqlite3.connect( dotenv['DB_PATH'] )"
   ]
  },
  {
   "cell_type": "markdown",
   "id": "4d7aed23-6ac0-4e40-bcdb-35d1a7ddd50a",
   "metadata": {},
   "source": [
    "# BackUp ziehen"
   ]
  },
  {
   "cell_type": "code",
   "execution_count": null,
   "id": "78536d1f-aec5-4714-ad87-1d7f677db7ad",
   "metadata": {},
   "outputs": [],
   "source": [
    "0 / 0"
   ]
  },
  {
   "cell_type": "code",
   "execution_count": null,
   "id": "fb60a647-896a-46bb-9869-007afc42669f",
   "metadata": {},
   "outputs": [],
   "source": [
    "data.to_pickle(dotenv['TEMP_PROCESSING_DIR'] / '24-04-28_trapezoidal_distortion_backup.pkl')"
   ]
  },
  {
   "cell_type": "markdown",
   "id": "00a0226d-dbd9-42a9-88d5-f12a431848a5",
   "metadata": {},
   "source": [
    "# Update"
   ]
  },
  {
   "cell_type": "code",
   "execution_count": 5,
   "id": "a30bde55-e7ee-4765-bbe2-49d40afdf2fe",
   "metadata": {},
   "outputs": [],
   "source": [
    "data = pd.read_sql(\n",
    "    '''\n",
    "        SELECT * FROM adjustment_per_mask apm \n",
    "        WHERE apm.adjustment = 'trapezoidal_distortion'\n",
    "    ''',\n",
    "    con\n",
    ")"
   ]
  },
  {
   "cell_type": "code",
   "execution_count": null,
   "id": "c31c9f6c-b1e4-4482-b74a-82fbaff3c585",
   "metadata": {},
   "outputs": [],
   "source": [
    "updates = []\n",
    "\n",
    "for val in data.features:\n",
    "    features = json.loads(val)\n",
    "    if pd.isna(features['trapezoidal_distortion_strength_1']):\n",
    "        features['trapezoidal_distortion_strength_1'] = 0\n",
    "\n",
    "    if pd.isna(features['trapezoidal_distortion_strength_2']):\n",
    "        features['trapezoidal_distortion_strength_2'] = 0\n",
    "    \n",
    "    if features['trapezoidal_distortion_direction'] == 'top':\n",
    "        corner_adjustments = [\n",
    "            (features['trapezoidal_distortion_strength_1'],0),\n",
    "            (0,0),\n",
    "            (0,0),\n",
    "            (features['trapezoidal_distortion_strength_2'],0)\n",
    "        ]\n",
    "    elif features['trapezoidal_distortion_direction'] == 'left':\n",
    "        corner_adjustments = [\n",
    "            (features['trapezoidal_distortion_strength_2'],0),\n",
    "            (features['trapezoidal_distortion_strength_1'],0),\n",
    "            (0,0),\n",
    "            (0,0)\n",
    "        ]\n",
    "    elif features['trapezoidal_distortion_direction'] == 'bottom':\n",
    "        corner_adjustments = [\n",
    "            (0,0),\n",
    "            (features['trapezoidal_distortion_strength_2'],0),\n",
    "            (features['trapezoidal_distortion_strength_1'],0),\n",
    "            (0,0)\n",
    "        ]\n",
    "    else:\n",
    "        corner_adjustments = [\n",
    "            (0,0),\n",
    "            (0,0),\n",
    "            (features['trapezoidal_distortion_strength_1'],0),\n",
    "            (features['trapezoidal_distortion_strength_2'],0)\n",
    "        ]\n",
    "    \n",
    "    updates.append(json.dumps({ 'corner_adjustments' : corner_adjustments }))"
   ]
  },
  {
   "cell_type": "code",
   "execution_count": null,
   "id": "93756740-5bf9-4b65-8bed-ffb5b280c83c",
   "metadata": {},
   "outputs": [],
   "source": [
    "len(updates), data.shape"
   ]
  },
  {
   "cell_type": "code",
   "execution_count": null,
   "id": "3aae7e28-5cb5-4d5d-b9e4-f380c68c3b39",
   "metadata": {},
   "outputs": [],
   "source": [
    "data.iloc[10]"
   ]
  },
  {
   "cell_type": "code",
   "execution_count": null,
   "id": "85e15e02-bf58-43f6-80ec-7e3a82009d60",
   "metadata": {},
   "outputs": [],
   "source": [
    "c = con.cursor()\n",
    "\n",
    "for i in tqdm(range(len(updates))):\n",
    "    row = data.iloc[i]\n",
    "    \n",
    "    c.execute(\n",
    "        f'''\n",
    "            UPDATE adjustment_per_mask\n",
    "            SET features='{ updates[i] }'\n",
    "            WHERE job='{ row.job }' AND pdf_filename='{ row.pdf_filename }' AND mask_id='{ row.mask_id }' AND adjustment='{ row.adjustment }'\n",
    "        '''\n",
    "    )\n",
    "\n",
    "c.close()\n",
    "con.commit()"
   ]
  },
  {
   "cell_type": "markdown",
   "id": "ef7cbe7e-b275-4118-8495-6a82ad5b98ac",
   "metadata": {},
   "source": [
    "# Update Uniform_trap"
   ]
  },
  {
   "cell_type": "code",
   "execution_count": 6,
   "id": "5d6b45ab-2440-4234-9f29-1aeb1d7752ca",
   "metadata": {},
   "outputs": [],
   "source": [
    "data_uniform = pd.read_sql(\n",
    "    '''\n",
    "        SELECT * FROM adjustment_per_mask apm \n",
    "        WHERE apm.adjustment = 'uniform_trapezoidal_distortion'\n",
    "    ''',\n",
    "    con\n",
    ")"
   ]
  },
  {
   "cell_type": "code",
   "execution_count": 23,
   "id": "4c292b71-7065-49a9-9b3f-f039b9ba5c98",
   "metadata": {},
   "outputs": [
    {
     "data": {
      "application/vnd.jupyter.widget-view+json": {
       "model_id": "aa6576a7bde242b08b5ff5e623869562",
       "version_major": 2,
       "version_minor": 0
      },
      "text/plain": [
       "  0%|          | 0/2794 [00:00<?, ?it/s]"
      ]
     },
     "metadata": {},
     "output_type": "display_data"
    }
   ],
   "source": [
    "c = con.cursor()\n",
    "\n",
    "for i in tqdm(range(data_uniform.shape[0])):\n",
    "    row = data_uniform.iloc[i]\n",
    "    features = json.loads( row.features )\n",
    "\n",
    "    if type(features['trapezoidal_distortion_strength']) == float:\n",
    "        features['trapezoidal_distortion_strength'] = (features['trapezoidal_distortion_strength'],0)\n",
    "    \n",
    "        sql = f'''\n",
    "            UPDATE adjustment_per_mask\n",
    "            SET features='{ json.dumps(features) }'\n",
    "            WHERE job='{ row.job }' AND pdf_filename='{ row.pdf_filename }' AND mask_id='{ row.mask_id }' AND adjustment='{ row.adjustment }'\n",
    "        '''\n",
    "        c.execute(sql)\n",
    "\n",
    "c.close()\n",
    "con.commit()"
   ]
  },
  {
   "cell_type": "markdown",
   "id": "f89dbd4d-5dc8-4b09-9e4c-0326bae8b281",
   "metadata": {},
   "source": [
    "# Update wave_deform"
   ]
  },
  {
   "cell_type": "code",
   "execution_count": 5,
   "id": "a5f46640-8c7f-472b-b390-b4947232df83",
   "metadata": {},
   "outputs": [],
   "source": [
    "data_wave_deform = pd.read_sql(\n",
    "    '''\n",
    "        SELECT * FROM adjustment_per_mask apm \n",
    "        WHERE apm.adjustment = 'wave_deform'\n",
    "    ''',\n",
    "    con\n",
    ")"
   ]
  },
  {
   "cell_type": "code",
   "execution_count": 19,
   "id": "aeb24fa0-f8d0-4cbc-a721-ebe2d056db02",
   "metadata": {},
   "outputs": [
    {
     "data": {
      "application/vnd.jupyter.widget-view+json": {
       "model_id": "7f4a7efe0f3e4872841e861a1e108ad2",
       "version_major": 2,
       "version_minor": 0
      },
      "text/plain": [
       "  0%|          | 0/3686 [00:00<?, ?it/s]"
      ]
     },
     "metadata": {},
     "output_type": "display_data"
    }
   ],
   "source": [
    "c = con.cursor()\n",
    "\n",
    "for i in tqdm(range(data_wave_deform.shape[0])):\n",
    "    row = data_wave_deform.iloc[i]\n",
    "    features = json.loads( row.features )\n",
    "\n",
    "    if 'wave_overlay_count' not in features:\n",
    "        features = {\n",
    "            'wave_overlay_count' : 1,\n",
    "            'wave_configurations' : [[features['wave_length'],features['wave_depth']]]\n",
    "        }\n",
    "        #features['trapezoidal_distortion_strength'] = (features['trapezoidal_distortion_strength'],0)\n",
    "    \n",
    "        sql = f'''\n",
    "            UPDATE adjustment_per_mask\n",
    "            SET features='{ json.dumps(features) }'\n",
    "            WHERE job='{ row.job }' AND pdf_filename='{ row.pdf_filename }' AND mask_id='{ row.mask_id }' AND adjustment='{ row.adjustment }'\n",
    "        '''\n",
    "        c.execute(sql)\n",
    "\n",
    "c.close()\n",
    "con.commit()"
   ]
  }
 ],
 "metadata": {
  "kernelspec": {
   "display_name": "Python 3 (ipykernel)",
   "language": "python",
   "name": "python3"
  },
  "language_info": {
   "codemirror_mode": {
    "name": "ipython",
    "version": 3
   },
   "file_extension": ".py",
   "mimetype": "text/x-python",
   "name": "python",
   "nbconvert_exporter": "python",
   "pygments_lexer": "ipython3",
   "version": "3.10.11"
  }
 },
 "nbformat": 4,
 "nbformat_minor": 5
}
