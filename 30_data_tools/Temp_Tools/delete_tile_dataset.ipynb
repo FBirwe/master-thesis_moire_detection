{
 "cells": [
  {
   "cell_type": "code",
   "execution_count": 1,
   "id": "cc6e03b4-c2cc-42f0-99f2-918360c56e1c",
   "metadata": {},
   "outputs": [],
   "source": [
    "import sys\n",
    "sys.path.append('../')\n",
    "from helper import load_dotenv\n",
    "from file_interaction import get_blobs, delete_blob\n",
    "import re\n",
    "from tqdm.auto import tqdm\n",
    "from azure.storage.blob import ContainerClient, BlobServiceClient\n",
    "from helper import load_dotenv"
   ]
  },
  {
   "cell_type": "code",
   "execution_count": 2,
   "id": "ae04d63c-741e-45f2-b402-d49b3858cb9b",
   "metadata": {},
   "outputs": [],
   "source": [
    "dotenv = load_dotenv()"
   ]
  },
  {
   "cell_type": "code",
   "execution_count": 3,
   "id": "839b55cb-9166-4989-b765-47a896125dfb",
   "metadata": {},
   "outputs": [],
   "source": [
    "target_directory = 'tile_datasets'"
   ]
  },
  {
   "cell_type": "code",
   "execution_count": 4,
   "id": "69461b2c-9352-4532-8640-bbaacc24c349",
   "metadata": {},
   "outputs": [],
   "source": [
    "blobs = get_blobs( filter=f'{ target_directory }/' )"
   ]
  },
  {
   "cell_type": "code",
   "execution_count": 5,
   "id": "22019064-0d45-48de-aecc-6b457354ca77",
   "metadata": {},
   "outputs": [],
   "source": [
    "blobs_to_delete = blobs"
   ]
  },
  {
   "cell_type": "code",
   "execution_count": null,
   "id": "5411e037-35aa-4c2f-9cbd-2ebec8aefd13",
   "metadata": {},
   "outputs": [],
   "source": [
    "blobs_to_delete = []\n",
    "\n",
    "for f in tqdm(blobs):\n",
    "    pattern = re.compile(f'{ target_directory }\\/.+/ok_sample')\n",
    "\n",
    "    if pattern.match(f) is not None:\n",
    "        blobs_to_delete.append(f)"
   ]
  },
  {
   "cell_type": "code",
   "execution_count": 6,
   "id": "813fd06e-bab4-47bf-aed0-8ef41289f73b",
   "metadata": {},
   "outputs": [
    {
     "data": {
      "text/plain": [
       "128985"
      ]
     },
     "execution_count": 6,
     "metadata": {},
     "output_type": "execute_result"
    }
   ],
   "source": [
    "len(blobs)"
   ]
  },
  {
   "cell_type": "code",
   "execution_count": 7,
   "id": "7efb7e97-5ea0-4458-b7b7-5f6c5aae4b74",
   "metadata": {},
   "outputs": [
    {
     "data": {
      "text/plain": [
       "128985"
      ]
     },
     "execution_count": 7,
     "metadata": {},
     "output_type": "execute_result"
    }
   ],
   "source": [
    "len(blobs_to_delete)"
   ]
  },
  {
   "cell_type": "code",
   "execution_count": 8,
   "id": "f5ee349b-f2c0-4c0b-8e1f-697069382dbc",
   "metadata": {},
   "outputs": [],
   "source": [
    "blob_service_client = BlobServiceClient.from_connection_string(dotenv['AZURE_CONNECTION_STRING'])\n",
    "blobContainerClient = blob_service_client.get_container_client(dotenv['AZURE_CONTAINER_NAME'])"
   ]
  },
  {
   "cell_type": "code",
   "execution_count": null,
   "id": "825fe192-3d92-4315-9f23-6f73d4901486",
   "metadata": {},
   "outputs": [],
   "source": []
  },
  {
   "cell_type": "code",
   "execution_count": 9,
   "id": "a25b4055-e478-486a-8150-491ab98a000f",
   "metadata": {},
   "outputs": [
    {
     "data": {
      "application/vnd.jupyter.widget-view+json": {
       "model_id": "0e014fd669cd492187eab1f222b905d3",
       "version_major": 2,
       "version_minor": 0
      },
      "text/plain": [
       "  0%|          | 0/516 [00:00<?, ?it/s]"
      ]
     },
     "metadata": {},
     "output_type": "display_data"
    }
   ],
   "source": [
    "chunk_size = 250\n",
    "\n",
    "for i in tqdm(range(0, len(blobs_to_delete), chunk_size)):\n",
    "    blobContainerClient.delete_blobs(*blobs_to_delete[i:i+chunk_size])"
   ]
  }
 ],
 "metadata": {
  "kernelspec": {
   "display_name": "Python 3 (ipykernel)",
   "language": "python",
   "name": "python3"
  },
  "language_info": {
   "codemirror_mode": {
    "name": "ipython",
    "version": 3
   },
   "file_extension": ".py",
   "mimetype": "text/x-python",
   "name": "python",
   "nbconvert_exporter": "python",
   "pygments_lexer": "ipython3",
   "version": "3.10.11"
  }
 },
 "nbformat": 4,
 "nbformat_minor": 5
}
