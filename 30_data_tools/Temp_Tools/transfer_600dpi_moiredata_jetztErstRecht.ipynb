{
 "cells": [
  {
   "cell_type": "code",
   "execution_count": 1,
   "id": "f9e743e6-9163-4f4c-9c1b-943a649fafee",
   "metadata": {},
   "outputs": [],
   "source": [
    "import sys\n",
    "sys.path.append('..')"
   ]
  },
  {
   "cell_type": "code",
   "execution_count": 2,
   "id": "de50e21b-b427-4da7-8916-ab71df027d2d",
   "metadata": {},
   "outputs": [],
   "source": [
    "from helper import load_dotenv\n",
    "from file_interaction import get_blobs, copy_blob, upload_file, get_related_filepath\n",
    "from pathlib import Path\n",
    "import pandas as pd\n",
    "import re\n",
    "from tqdm.auto import tqdm"
   ]
  },
  {
   "cell_type": "code",
   "execution_count": 3,
   "id": "015ae304-d4f3-4efa-8554-14015047d1f6",
   "metadata": {},
   "outputs": [],
   "source": [
    "dotenv = load_dotenv()"
   ]
  },
  {
   "cell_type": "markdown",
   "id": "8f63c272-bd2b-4944-b786-be73bcc2ffc3",
   "metadata": {
    "jp-MarkdownHeadingCollapsed": true
   },
   "source": [
    "# Daten zusammenstellen"
   ]
  },
  {
   "cell_type": "code",
   "execution_count": 4,
   "id": "a8e8a250-1a4b-48a5-bdc0-ba1b90d1c483",
   "metadata": {},
   "outputs": [],
   "source": [
    "all_blobs = get_blobs('labelstudio_moire_data')\n",
    "all_files = list(Path('/Users/frederic.birwe/Library/CloudStorage/OneDrive-BertelsmannSE&Co.KGaA/Masterarbeit/20_data/10_labelstudio_data').glob('./*.jpg'))\n",
    "blobs_to_replace = [b.split('/')[-1] for b in all_blobs if 'vps2400dpi150lpi' in b]\n",
    "all_file_names = [f.name for f in all_files]"
   ]
  },
  {
   "cell_type": "code",
   "execution_count": 5,
   "id": "f3c28464-5563-4b74-b3fb-002d4fa765e1",
   "metadata": {},
   "outputs": [],
   "source": [
    "file_map = {}\n",
    "\n",
    "for f in all_file_names:\n",
    "    if f not in file_map:\n",
    "        file_map[f] = {\n",
    "            'local' : False,\n",
    "            'azure' : False\n",
    "        }\n",
    "    \n",
    "    file_map[f]['local'] = True\n",
    "    file_map[f]['azure'] = f in blobs_to_replace\n",
    "\n",
    "for f in blobs_to_replace:\n",
    "    if f not in file_map:\n",
    "        file_map[f] = {\n",
    "            'local' : False,\n",
    "            'azure' : False\n",
    "        }\n",
    "\n",
    "    file_map[f]['azure'] = True\n",
    "    file_map[f]['local'] = f in all_file_names"
   ]
  },
  {
   "cell_type": "code",
   "execution_count": 6,
   "id": "23932298-ecb3-4286-8895-a7ed3def6929",
   "metadata": {},
   "outputs": [],
   "source": [
    "df = pd.DataFrame.from_dict(\n",
    "    [\n",
    "        {\n",
    "            'img' : key,\n",
    "            'local' : file_map[key]['local'],\n",
    "            'azure' : file_map[key]['azure']\n",
    "        } for key in file_map\n",
    "    ]\n",
    ")\n",
    "\n",
    "df = pd.merge(\n",
    "    df,\n",
    "    df.img.str.extract(r'(.+?)\\.vps2400dpi17?50?lpi\\.(.+)\\.4c_\\d+\\.jpg').rename(columns={0:'job', 1:'pdf_name'}),\n",
    "    how=\"left\",\n",
    "    left_index=True,\n",
    "    right_index=True\n",
    ")"
   ]
  },
  {
   "cell_type": "markdown",
   "id": "2e658f82-f004-4aa6-9a87-4aa5cb3e31d3",
   "metadata": {},
   "source": [
    "# bereits erledigte Bilder einpflegen"
   ]
  },
  {
   "cell_type": "code",
   "execution_count": 7,
   "id": "98cb0aa2-b5db-442e-b626-f357fac9fa7b",
   "metadata": {},
   "outputs": [],
   "source": [
    "ps_all_blobs = [b.split('/')[-1] for b in all_blobs if '.ps2400dpi150lpi.' in b]"
   ]
  },
  {
   "cell_type": "code",
   "execution_count": 8,
   "id": "db0a318a-8516-4b11-99a3-a99d8f7de1bf",
   "metadata": {},
   "outputs": [],
   "source": [
    "df_ps = pd.DataFrame(\n",
    "    [\n",
    "        re.match(r'(.+?)\\.ps2400dpi17?50?lpi\\.(.+)\\.4c_\\d+\\.jpg', blob).groups()\n",
    "        for blob in ps_all_blobs\n",
    "    ],\n",
    "    columns=['job','pdf_name']\n",
    ")\n",
    "df_ps.loc[\n",
    "    :,\n",
    "    'already_transferred'\n",
    "] = True"
   ]
  },
  {
   "cell_type": "code",
   "execution_count": 9,
   "id": "e1ad2f51-3f3b-468c-bb9a-d207408bfd3f",
   "metadata": {},
   "outputs": [],
   "source": [
    "df = pd.merge(\n",
    "    df,\n",
    "    df_ps,\n",
    "    how=\"left\",\n",
    "    on=['job','pdf_name']\n",
    ")\n",
    "df.already_transferred.fillna(False, inplace=True)"
   ]
  },
  {
   "cell_type": "code",
   "execution_count": 10,
   "id": "4319f8b0-f433-4243-88a7-a3d9f36b8f5a",
   "metadata": {},
   "outputs": [],
   "source": [
    "jobs_to_exclude = [\n",
    "    '23-10-18_farbe'\n",
    "    '23-10-19_farbe',\n",
    "    '23-10-23_glattesRaster'\n",
    "]\n",
    "\n",
    "df = df.loc[df.job.isin(jobs_to_exclude) == False]"
   ]
  },
  {
   "cell_type": "code",
   "execution_count": 11,
   "id": "32b50d5f-c794-4f9a-b024-ae37687d5c1a",
   "metadata": {},
   "outputs": [],
   "source": [
    "idx_to_transfer = df.loc[df.already_transferred == False].index"
   ]
  },
  {
   "cell_type": "code",
   "execution_count": 24,
   "id": "97c2c3bf-1986-4b4e-a797-75e2749f8901",
   "metadata": {},
   "outputs": [],
   "source": [
    "def get_matching_ps_file( row ):\n",
    "    return get_related_filepath( row.job, 'ps2400dpi150lpi', f'{row.pdf_name}.4c_600.jpg' )"
   ]
  },
  {
   "cell_type": "code",
   "execution_count": 27,
   "id": "ef975de1-1c54-45c2-9547-3fee607f8444",
   "metadata": {},
   "outputs": [
    {
     "data": {
      "application/vnd.jupyter.widget-view+json": {
       "model_id": "82cb75f93b4545d98dad7b7cc917d2e2",
       "version_major": 2,
       "version_minor": 0
      },
      "text/plain": [
       "  0%|          | 0/1803 [00:00<?, ?it/s]"
      ]
     },
     "metadata": {},
     "output_type": "display_data"
    }
   ],
   "source": [
    "errors = []\n",
    "\n",
    "for idx in tqdm(idx_to_transfer):\n",
    "    row = df.loc[idx]\n",
    "    \n",
    "    res = get_matching_ps_file( row )\n",
    "\n",
    "    if res == None:\n",
    "        errors.append(row)\n",
    "    else:\n",
    "        filepath, _ = res\n",
    "        target_path = f'labelstudio_moire_data/{ row.job }.ps2400dpi150lpi.{ row.pdf_name }.4c_600.jpg'\n",
    "\n",
    "        copy_blob(\n",
    "            filepath,\n",
    "            target_path\n",
    "        )"
   ]
  },
  {
   "cell_type": "code",
   "execution_count": 22,
   "id": "ac57dc4d-cd3c-4bb8-a5c9-32e5b6289926",
   "metadata": {},
   "outputs": [
    {
     "data": {
      "text/plain": [
       "'data/147694/ps2400dpi150lpi/tg51_bg93_bpl_gc_oel_gas_2022_sn_rz.p1'"
      ]
     },
     "execution_count": 22,
     "metadata": {},
     "output_type": "execute_result"
    }
   ],
   "source": [
    "filepath"
   ]
  },
  {
   "cell_type": "code",
   "execution_count": 26,
   "id": "2e1e6a6a-ee5e-4f73-b633-4f227b30df7c",
   "metadata": {},
   "outputs": [
    {
     "data": {
      "text/plain": [
       "'labelstudio_moire_data/147694.ps2400dpi150lpi.tg51_bg93_bpl_gc_oel_gas_2022_sn_rz.p1.4c_600.jpg'"
      ]
     },
     "execution_count": 26,
     "metadata": {},
     "output_type": "execute_result"
    }
   ],
   "source": [
    "target_path"
   ]
  },
  {
   "cell_type": "code",
   "execution_count": 15,
   "id": "717385d9-41ce-42a6-9ace-62e47f270db3",
   "metadata": {},
   "outputs": [
    {
     "data": {
      "text/plain": [
       "23-10-19_farbe    3\n",
       "149355            1\n",
       "Name: job, dtype: int64"
      ]
     },
     "execution_count": 15,
     "metadata": {},
     "output_type": "execute_result"
    }
   ],
   "source": [
    "df.loc[\n",
    "    (df.index.isin([e.name for e in errors])) &\n",
    "    (df.job.isin(['23-10-18_farbe','23-10-03_Testformen','23-10-17_blur']) == False)\n",
    "].job.value_counts()"
   ]
  }
 ],
 "metadata": {
  "kernelspec": {
   "display_name": "Python 3 (ipykernel)",
   "language": "python",
   "name": "python3"
  },
  "language_info": {
   "codemirror_mode": {
    "name": "ipython",
    "version": 3
   },
   "file_extension": ".py",
   "mimetype": "text/x-python",
   "name": "python",
   "nbconvert_exporter": "python",
   "pygments_lexer": "ipython3",
   "version": "3.10.11"
  }
 },
 "nbformat": 4,
 "nbformat_minor": 5
}
