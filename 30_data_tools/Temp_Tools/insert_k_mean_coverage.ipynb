{
 "cells": [
  {
   "cell_type": "code",
   "execution_count": 1,
   "id": "dc793a3b-00df-4f09-a120-8ae5d9d698ef",
   "metadata": {},
   "outputs": [],
   "source": [
    "import sys\n",
    "sys.path.append('../')\n",
    "sys.path.append('../../60_gebastel/process_masks/')\n",
    "from helper import load_dotenv\n",
    "from mask_functions import load_masks\n",
    "import sqlite3\n",
    "import pandas as pd\n",
    "import numpy as np\n",
    "from file_interaction import get_related_filepath, open_img\n",
    "from tqdm.auto import tqdm"
   ]
  },
  {
   "cell_type": "code",
   "execution_count": 2,
   "id": "2a3a850c-a46e-48df-84b7-6ea9c2f68350",
   "metadata": {},
   "outputs": [],
   "source": [
    "dotenv = load_dotenv()\n",
    "con = sqlite3.connect( dotenv['DB_PATH'] )"
   ]
  },
  {
   "cell_type": "code",
   "execution_count": 3,
   "id": "80d3fcf6-07ce-4ea9-bdae-a3649dde43b9",
   "metadata": {},
   "outputs": [],
   "source": [
    "def update_k_coverage( mask_id, k_mean_coverage, k_std_coverage ):\n",
    "    c = con.cursor()\n",
    "    c.execute(\n",
    "        f'''\n",
    "            UPDATE mask\n",
    "            SET K_mean_coverage={ k_mean_coverage }, K_std_coverage={ k_std_coverage }\n",
    "            WHERE mask_id='{ mask_id }'\n",
    "        '''\n",
    "    )\n",
    "    c.close()\n",
    "    con.commit()"
   ]
  },
  {
   "cell_type": "code",
   "execution_count": 4,
   "id": "1342553b-d3f3-4aa7-a41d-26d7b3f78398",
   "metadata": {},
   "outputs": [],
   "source": [
    "def process_page( page ):\n",
    "    img_path = get_related_filepath(\n",
    "        page.job,\n",
    "        'halftone600dpi',\n",
    "        f'{ page.pdf_filename }.4c.jpg'\n",
    "    )\n",
    "    masks_path = get_related_filepath(\n",
    "        page.job,\n",
    "        'halftone600dpi',\n",
    "        f'{ page.pdf_filename }.masks.pkl'\n",
    "    )\n",
    "    \n",
    "    pkl_masks = load_masks(masks_path)\n",
    "    img = open_img(img_path)\n",
    "\n",
    "    relevant_masks = masks.loc[\n",
    "        (masks.pdf_filename == page.pdf_filename) &\n",
    "        (masks.job == page.job)\n",
    "    ].index\n",
    "\n",
    "    for rm_idx in relevant_masks:\n",
    "        relevant_pkl_masks = [\n",
    "            m for m in pkl_masks\n",
    "            if \";\".join([str(val) for val in m['bbox']]) == masks.loc[rm_idx].bbox\n",
    "        ]\n",
    "\n",
    "        if len(relevant_pkl_masks) > 0:\n",
    "            pkl_mask = relevant_pkl_masks[0]\n",
    "        \n",
    "            cropped_img = np.array(img.crop((\n",
    "                pkl_mask['bbox'][0], pkl_mask['bbox'][1],\n",
    "                pkl_mask['bbox'][0]+pkl_mask['bbox'][2], pkl_mask['bbox'][1]+pkl_mask['bbox'][3]\n",
    "            )))[:,:,3]\n",
    "            k_mean_coverage = cropped_img[pkl_mask['mask']].mean() / 255\n",
    "            k_std_coverage = cropped_img[pkl_mask['mask']].std() / 255\n",
    "\n",
    "            update_k_coverage(\n",
    "                masks.loc[rm_idx].mask_id,\n",
    "                k_mean_coverage,\n",
    "                k_std_coverage\n",
    "            )"
   ]
  },
  {
   "cell_type": "code",
   "execution_count": 5,
   "id": "8a4ffea2-560a-4fa6-95af-9341ed1fe892",
   "metadata": {},
   "outputs": [],
   "source": [
    "masks = pd.read_sql(\n",
    "    '''\n",
    "        SELECT * FROM mask\n",
    "        WHERE K_mean_coverage IS NULL OR K_std_coverage IS NULL\n",
    "    ''',\n",
    "    con\n",
    ")\n",
    "\n",
    "pages = masks.loc[\n",
    "    :,\n",
    "    ['pdf_filename','job']\n",
    "].drop_duplicates()"
   ]
  },
  {
   "cell_type": "code",
   "execution_count": 6,
   "id": "5462dc9d-c583-4a89-8b77-6720bbe2b1f3",
   "metadata": {},
   "outputs": [
    {
     "data": {
      "application/vnd.jupyter.widget-view+json": {
       "model_id": "ae553434032e4205916b0d7034293688",
       "version_major": 2,
       "version_minor": 0
      },
      "text/plain": [
       "  0%|          | 0/997 [00:00<?, ?it/s]"
      ]
     },
     "metadata": {},
     "output_type": "display_data"
    },
    {
     "name": "stderr",
     "output_type": "stream",
     "text": [
      "/Users/frederic.birwe/Library/Python/3.10/lib/python/site-packages/PIL/Image.py:3186: DecompressionBombWarning: Image size (127715826 pixels) exceeds limit of 89478485 pixels, could be decompression bomb DOS attack.\n",
      "  warnings.warn(\n",
      "/Users/frederic.birwe/Library/Python/3.10/lib/python/site-packages/PIL/Image.py:3186: DecompressionBombWarning: Image size (91411680 pixels) exceeds limit of 89478485 pixels, could be decompression bomb DOS attack.\n",
      "  warnings.warn(\n",
      "/Users/frederic.birwe/Library/Python/3.10/lib/python/site-packages/PIL/Image.py:3186: DecompressionBombWarning: Image size (124399302 pixels) exceeds limit of 89478485 pixels, could be decompression bomb DOS attack.\n",
      "  warnings.warn(\n",
      "/Users/frederic.birwe/Library/Python/3.10/lib/python/site-packages/PIL/Image.py:3186: DecompressionBombWarning: Image size (120330965 pixels) exceeds limit of 89478485 pixels, could be decompression bomb DOS attack.\n",
      "  warnings.warn(\n",
      "/Users/frederic.birwe/Library/Python/3.10/lib/python/site-packages/PIL/Image.py:3186: DecompressionBombWarning: Image size (94735298 pixels) exceeds limit of 89478485 pixels, could be decompression bomb DOS attack.\n",
      "  warnings.warn(\n"
     ]
    },
    {
     "name": "stdout",
     "output_type": "stream",
     "text": [
      "24-03-05-01_randomTrainPages 617104.tg39_bg96_p1000_D1_149SA.DE.932.UM.16.gvkfpr50_PRINT 03.11..p1\n"
     ]
    },
    {
     "name": "stderr",
     "output_type": "stream",
     "text": [
      "/Users/frederic.birwe/Library/Python/3.10/lib/python/site-packages/PIL/Image.py:3186: DecompressionBombWarning: Image size (107205356 pixels) exceeds limit of 89478485 pixels, could be decompression bomb DOS attack.\n",
      "  warnings.warn(\n"
     ]
    }
   ],
   "source": [
    "for i in tqdm( range(pages.shape[0]) ):\n",
    "    try:\n",
    "        process_page( pages.iloc[i] )\n",
    "    except:\n",
    "        print( pages.iloc[i].job, pages.iloc[i].pdf_filename )"
   ]
  }
 ],
 "metadata": {
  "kernelspec": {
   "display_name": "Python 3 (ipykernel)",
   "language": "python",
   "name": "python3"
  },
  "language_info": {
   "codemirror_mode": {
    "name": "ipython",
    "version": 3
   },
   "file_extension": ".py",
   "mimetype": "text/x-python",
   "name": "python",
   "nbconvert_exporter": "python",
   "pygments_lexer": "ipython3",
   "version": "3.10.11"
  }
 },
 "nbformat": 4,
 "nbformat_minor": 5
}
