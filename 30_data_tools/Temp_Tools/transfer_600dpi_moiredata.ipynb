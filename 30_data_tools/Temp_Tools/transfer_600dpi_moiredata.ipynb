{
 "cells": [
  {
   "cell_type": "code",
   "execution_count": null,
   "id": "ddbb4539-9bd5-4128-9428-0d5c00613a5b",
   "metadata": {},
   "outputs": [],
   "source": [
    "import sys\n",
    "sys.path.append('..')"
   ]
  },
  {
   "cell_type": "code",
   "execution_count": 2,
   "id": "3db7a96d-d485-406f-a1e7-fd5a0064cb87",
   "metadata": {},
   "outputs": [],
   "source": [
    "import sqlite3\n",
    "import pandas as pd\n",
    "from helper import load_dotenv\n",
    "from get_labelstudio_data import get_results_of_project, get_tasks\n",
    "from file_interaction import get_related_filepath, get_blobs, download_blob, upload_file, upload_buffer, copy_blob\n",
    "import re\n",
    "import numpy as np\n",
    "from pathlib import Path\n",
    "from tqdm.auto import tqdm\n",
    "from datetime import datetime\n",
    "import requests\n",
    "from PIL import Image\n",
    "from azure.storage.blob import BlobServiceClient"
   ]
  },
  {
   "cell_type": "code",
   "execution_count": 3,
   "id": "28bebb38-8bf8-40b1-a110-2110a99689b2",
   "metadata": {},
   "outputs": [],
   "source": [
    "dotenv = load_dotenv()"
   ]
  },
  {
   "cell_type": "code",
   "execution_count": 4,
   "id": "06f8433f-f4d0-4821-9ded-5a205a2b896f",
   "metadata": {},
   "outputs": [],
   "source": [
    "con = sqlite3.connect(dotenv['DB_PATH'])"
   ]
  },
  {
   "cell_type": "markdown",
   "id": "af805a5f-2665-40fa-aea7-55d92c97c0f7",
   "metadata": {},
   "source": [
    "# Label Transfer"
   ]
  },
  {
   "cell_type": "code",
   "execution_count": null,
   "id": "db739f85-54c2-4d1f-a523-a38e6a7d66d6",
   "metadata": {},
   "outputs": [],
   "source": [
    "def create_annotation( target_task, results ):\n",
    "    with Image.open( download_blob(target_task['data_path']) ) as img:\n",
    "        img_size = img.size\n",
    "     \n",
    "    headers = {'Authorization': f'Token { dotenv[\"LABEL_STUDIO_TOKEN\"] }'}\n",
    "    json_data = {\n",
    "        \"completed_by\": 1,\n",
    "        \"result\": [\n",
    "            {\n",
    "                \"original_width\": img_size[0],\n",
    "                \"original_height\": img_size[1],\n",
    "                \"image_rotation\": 0,\n",
    "                \"value\": {\n",
    "                    \"points\" : [[pt[0] / img_size[0] * 100,pt[1] / img_size[1] * 100] for pt in r['points']],\n",
    "                    \"closed\": True,\n",
    "                    \"polygonlabels\": r['labels']\n",
    "                },\n",
    "                \"from_name\": \"label\",\n",
    "                \"to_name\": \"image\",\n",
    "                \"type\": \"polygonlabels\",\n",
    "                \"origin\": \"manual\"\n",
    "            }\n",
    "            for r in results\n",
    "        ],\n",
    "        \"was_cancelled\": False,\n",
    "        \"ground_truth\": False,\n",
    "        \"draft_created_at\": datetime.now().isoformat(),\n",
    "        \"task\": target_task[\"id\"],\n",
    "        \"project\": target_task[\"project_id\"],\n",
    "        \"updated_by\": 1,\n",
    "        \"parent_prediction\": None,\n",
    "        \"parent_annotation\": None\n",
    "    }\n",
    "\n",
    "    requests.post(\n",
    "        f'http://localhost:8080/api/tasks/{ target_task[\"id\"] }/annotations/',\n",
    "        headers=headers,\n",
    "        json=json_data\n",
    "    )"
   ]
  },
  {
   "cell_type": "code",
   "execution_count": 26,
   "id": "ca92441b-3874-4348-8fb9-4dad12b062e5",
   "metadata": {},
   "outputs": [],
   "source": [
    "source_results = [\n",
    "    r for r in get_results_of_project(1)\n",
    "    if (r['labels'][0] != 'potential_moire' and r['storage_type'] == 'local')\n",
    "]\n",
    "target_results = get_results_of_project(3)\n",
    "\n",
    "source_results_by_image = {}\n",
    "\n",
    "for r in source_results:\n",
    "    key = re.match(r'(.+)\\.4c_\\d{3}\\.jpg$', r['img_name']).groups()[0]\n",
    "\n",
    "    if key not in source_results_by_image:\n",
    "        source_results_by_image[key] = []\n",
    "\n",
    "    source_results_by_image[key].append(r)\n",
    "\n",
    "\n",
    "target_results_by_image = {}\n",
    "\n",
    "for r in target_results:\n",
    "    key = re.match(r'(.+)\\.4c_\\d{3}\\.jpg$', r['img_name']).groups()[0]\n",
    "\n",
    "    if key not in target_results_by_image:\n",
    "        target_results_by_image[key] = []\n",
    "\n",
    "    target_results_by_image[key].append(r)"
   ]
  },
  {
   "cell_type": "code",
   "execution_count": 47,
   "id": "8aff8af6-076a-4a1a-8dda-475bd6c5e69a",
   "metadata": {},
   "outputs": [],
   "source": [
    "keys_to_process = []\n",
    "\n",
    "for key in source_results_by_image:\n",
    "    job, _, filename = re.match(r'(.+?)\\.(.+?)\\.(.+)', key).groups()\n",
    "    target_key = f'{ job }.ps2400dpi150lpi.{ filename }'\n",
    "\n",
    "    if target_key not in target_results_by_image.keys():\n",
    "        keys_to_process.append(key)"
   ]
  },
  {
   "cell_type": "code",
   "execution_count": 72,
   "id": "3479467d-317a-4559-b694-5923f78dcd88",
   "metadata": {},
   "outputs": [
    {
     "data": {
      "application/vnd.jupyter.widget-view+json": {
       "model_id": "f46ace277ba1437b885aeed0d75724e5",
       "version_major": 2,
       "version_minor": 0
      },
      "text/plain": [
       "  0%|          | 0/297 [00:00<?, ?it/s]"
      ]
     },
     "metadata": {},
     "output_type": "display_data"
    }
   ],
   "source": [
    "for key in tqdm(keys_to_process):\n",
    "    job,_,filename,source_dpi = re.match(r'(.+?)\\.(.+?)\\.(.+)\\.4c_(\\d{3}).jpg', source_results_by_image[key][0]['img_name']).groups()\n",
    "    source_dpi = int(source_dpi)\n",
    "    rescale_factor = dotenv['LOFI_DPI'] / source_dpi\n",
    "    target_file_name = f'{ job }.ps2400dpi150lpi.{ filename }.4c_{ dotenv[\"LOFI_DPI\"] }.jpg'\n",
    "    \n",
    "    transformed_results = [\n",
    "        {\n",
    "            'points' : [\n",
    "                [r['bbox']['x'] * rescale_factor,r['bbox']['y'] * rescale_factor],\n",
    "                [(r['bbox']['x'] + r['bbox']['width']) * rescale_factor, r['bbox']['y'] * rescale_factor],\n",
    "                [(r['bbox']['x'] + r['bbox']['width']) * rescale_factor, (r['bbox']['y'] + r['bbox']['height']) * rescale_factor],\n",
    "                [r['bbox']['x'] * rescale_factor,(r['bbox']['y'] + r['bbox']['height']) * rescale_factor]\n",
    "            ],\n",
    "            'labels' : r['labels']\n",
    "        } for r in source_results_by_image[key]\n",
    "    ]\n",
    "\n",
    "    tasks = [t for t in get_tasks(3) if target_file_name in t['data_path']]\n",
    "    \n",
    "    if len(tasks) > 0:\n",
    "        task = tasks[0]\n",
    "\n",
    "        print( task )\n",
    "        create_annotation(\n",
    "            task,\n",
    "            transformed_results\n",
    "        )"
   ]
  },
  {
   "cell_type": "code",
   "execution_count": null,
   "id": "62ee2262-de4f-47ac-ad4a-ce5c705de780",
   "metadata": {},
   "outputs": [],
   "source": [
    "images_to_process.file_transferred.sum()"
   ]
  },
  {
   "cell_type": "code",
   "execution_count": null,
   "id": "09409d1b-145a-4441-b6f5-4ec6af59ef1e",
   "metadata": {},
   "outputs": [],
   "source": [
    "images_to_process.labels_transferred.sum()"
   ]
  },
  {
   "cell_type": "code",
   "execution_count": null,
   "id": "e65a39c8-cf67-4e65-83ea-ff498819f172",
   "metadata": {},
   "outputs": [],
   "source": [
    "images_to_process.shape[0]"
   ]
  },
  {
   "cell_type": "markdown",
   "id": "ec967a49-a3d3-4722-b2ec-c8936a7c1405",
   "metadata": {},
   "source": [
    "# übertragene Blobs löschen"
   ]
  },
  {
   "cell_type": "code",
   "execution_count": 81,
   "id": "7517bee2-66df-41e1-850b-27454fd8e806",
   "metadata": {},
   "outputs": [],
   "source": [
    "def delete_blob( blob_name ):\n",
    "    blob_service_client = BlobServiceClient.from_connection_string(dotenv['AZURE_CONNECTION_STRING'])\n",
    "\n",
    "    blob_client = blob_service_client.get_blob_client(container=dotenv['AZURE_CONTAINER_NAME'], blob=blob_name)\n",
    "    blob_client.delete_blob()"
   ]
  },
  {
   "cell_type": "code",
   "execution_count": 111,
   "id": "f47c7932-0aec-4762-9af9-ee01e3c27280",
   "metadata": {},
   "outputs": [],
   "source": [
    "def delete_task( target_task ):\n",
    "    headers = {'Authorization': f'Token { dotenv[\"LABEL_STUDIO_TOKEN\"] }'}\n",
    "\n",
    "    requests.delete(\n",
    "        f'http://localhost:8080/api/tasks/{ target_task[\"id\"] }',\n",
    "        headers=headers\n",
    "    )"
   ]
  },
  {
   "cell_type": "code",
   "execution_count": 133,
   "id": "092252d7-6c83-4d21-b02f-74ff6c0f14ba",
   "metadata": {},
   "outputs": [],
   "source": [
    "source_tasks = [\n",
    "    t for t in get_tasks(3)\n",
    "    if (t['storage_type'] == 'azure') and ('vps2400dpi150lpi' in t['data_path']) and (t['data_path'].endswith('.4c_300.jpg'))\n",
    "]\n",
    "\n",
    "target_tasks = [\n",
    "    t for t in get_tasks(3)\n",
    "    if (t['storage_type'] == 'azure') and ('ps2400dpi150lpi' in t['data_path']) and (t['data_path'].endswith('.4c_600.jpg')) and t['total_annotations'] > 0\n",
    "]"
   ]
  },
  {
   "cell_type": "code",
   "execution_count": 134,
   "id": "1070f5eb-c75a-4911-a17e-cf3855062499",
   "metadata": {},
   "outputs": [
    {
     "data": {
      "text/plain": [
       "(3647, 38)"
      ]
     },
     "execution_count": 134,
     "metadata": {},
     "output_type": "execute_result"
    }
   ],
   "source": [
    "len(source_tasks), len(target_tasks)"
   ]
  },
  {
   "cell_type": "code",
   "execution_count": 132,
   "id": "80f59530-e81c-4e31-9b78-2239df3f3622",
   "metadata": {},
   "outputs": [
    {
     "data": {
      "application/vnd.jupyter.widget-view+json": {
       "model_id": "8933a4ea24164ebc8cef20ae18f204b7",
       "version_major": 2,
       "version_minor": 0
      },
      "text/plain": [
       "  0%|          | 0/38 [00:00<?, ?it/s]"
      ]
     },
     "metadata": {},
     "output_type": "display_data"
    }
   ],
   "source": [
    "has_deleted = False\n",
    "\n",
    "for tt in tqdm(target_tasks):\n",
    "    job, _, filename = re.match(r'.+/(.+?)\\.(.+?)\\.(.+)\\.4c_600.jpg', tt['data_path']).groups()\n",
    "    source_filename = f\"{ job }.vps2400dpi150lpi.{ filename }.4c_300.jpg\"\n",
    "\n",
    "    relevant_source_tasks = [t for t in source_tasks if source_filename in t['data_path']]\n",
    "\n",
    "    for t in relevant_source_tasks:\n",
    "        delete_task( t )\n",
    "        delete_blob( t['data_path'] )\n",
    "        has_deleted = True"
   ]
  },
  {
   "cell_type": "markdown",
   "id": "62430994-e035-446e-b56e-28e9386bd63f",
   "metadata": {},
   "source": [
    "# Related Files nachtragen"
   ]
  },
  {
   "cell_type": "code",
   "execution_count": null,
   "id": "c985befe-1822-4953-9e31-80a4a514886b",
   "metadata": {},
   "outputs": [],
   "source": [
    "from helper import get_pdf_page_processing_status"
   ]
  },
  {
   "cell_type": "code",
   "execution_count": null,
   "id": "d970683e-4685-4db7-9642-0807dfe4e549",
   "metadata": {},
   "outputs": [],
   "source": [
    "data_overview = get_pdf_page_processing_status( 'ps2400dpi150lpi', 'K' )"
   ]
  },
  {
   "cell_type": "code",
   "execution_count": null,
   "id": "dd94676e-b007-4c9c-bd1b-ede0cedcfef7",
   "metadata": {},
   "outputs": [],
   "source": [
    "data_overview.loc[\n",
    "    data_overview.file_available == False\n",
    "].shape"
   ]
  },
  {
   "cell_type": "code",
   "execution_count": null,
   "id": "db28ba32-4ad4-4215-8bb7-75f56aae0c06",
   "metadata": {},
   "outputs": [],
   "source": [
    "data_overview.loc[\n",
    "    data_overview.file_available == False\n",
    "].job.value_counts()"
   ]
  },
  {
   "cell_type": "code",
   "execution_count": null,
   "id": "c9c55b1c-544f-4299-b99b-bcb60ee14700",
   "metadata": {},
   "outputs": [],
   "source": [
    "data_overview.loc[\n",
    "    data_overview.file_available == False\n",
    "][:50]"
   ]
  },
  {
   "cell_type": "code",
   "execution_count": null,
   "id": "14cb208e-2af8-4786-9664-8cb183a149ac",
   "metadata": {},
   "outputs": [],
   "source": [
    "data_overview.loc[\n",
    "    data_overview.file_available == False\n",
    "][:50]"
   ]
  },
  {
   "cell_type": "code",
   "execution_count": null,
   "id": "2e67adda-4765-42d4-8d8f-f059a37345f8",
   "metadata": {},
   "outputs": [],
   "source": [
    "data_overview.file_available.value_counts()"
   ]
  },
  {
   "cell_type": "code",
   "execution_count": null,
   "id": "640df865-452a-4bc8-9b66-e6c03e313520",
   "metadata": {},
   "outputs": [],
   "source": [
    "from file_interaction import get_data_files"
   ]
  },
  {
   "cell_type": "code",
   "execution_count": null,
   "id": "7056a423-0610-4f7b-b60d-46210095df00",
   "metadata": {},
   "outputs": [],
   "source": [
    "from add_data_to_db import add_variants"
   ]
  },
  {
   "cell_type": "code",
   "execution_count": null,
   "id": "1db7a362-9222-43bd-8f2a-5a566a00c3ac",
   "metadata": {},
   "outputs": [],
   "source": [
    "all_files = get_data_files()"
   ]
  },
  {
   "cell_type": "code",
   "execution_count": null,
   "id": "cf6b0452-b645-422a-a73a-ffc74279edf5",
   "metadata": {},
   "outputs": [],
   "source": [
    "all_files = [af for af in all_files if '.DS_Store' not in str(af[0])]"
   ]
  },
  {
   "cell_type": "code",
   "execution_count": null,
   "id": "0be10c3f-35df-4adb-ab77-95d0ac1bbb3c",
   "metadata": {},
   "outputs": [],
   "source": [
    "add_related_files( all_files, con )"
   ]
  },
  {
   "cell_type": "code",
   "execution_count": null,
   "id": "7b6b75b1-ab20-45c8-80fe-0922d78771e6",
   "metadata": {},
   "outputs": [],
   "source": [
    "def add_related_files( all_files, con ):\n",
    "    related_files = []\n",
    "    error_paths = []\n",
    "    \n",
    "    for filepath,storage_type in all_files:\n",
    "        filepath = str(filepath)\n",
    "        filepath = filepath[filepath.index('data'):]\n",
    "    \n",
    "        try:\n",
    "            parts = str(filepath).split('/')\n",
    "            job = parts[1]\n",
    "            variant_name = parts[2]\n",
    "            filename = parts[3]\n",
    "        \n",
    "            if variant_name != 'pdf' and filename != '.DS_Store':\n",
    "                related_files.append({\n",
    "                    'job' : job,\n",
    "                    'variant_name' : variant_name,\n",
    "                    'filename' : filename,\n",
    "                    'filepath' : filepath,\n",
    "                    'storage_type' : storage_type\n",
    "                })\n",
    "        except:\n",
    "            error_paths.append(filepath)\n",
    "\n",
    "    # Varianten hinzufügen\n",
    "    variants = list(set([rf['variant_name'] for rf in related_files]))\n",
    "    add_variants( variants, con )\n",
    "\n",
    "\n",
    "    # related_file tabelle laden\n",
    "    c = con.cursor()\n",
    "    c.execute('''\n",
    "        SELECT variant_name,pdf_filename,job,type,filename\n",
    "        FROM related_file\n",
    "    ''')\n",
    "    available_data = c.fetchall()\n",
    "    c.close()\n",
    "\n",
    "    # duplikate herausfiltern\n",
    "    data_to_add = []\n",
    "    c = con.cursor()\n",
    "    \n",
    "    for rf in related_files:\n",
    "        res = re.match(r'(.+)\\.(.+?)\\.(.+?)$', rf['filename'])\n",
    "    \n",
    "        if res:\n",
    "            file_entry = (\n",
    "                rf['variant_name'],\n",
    "                res.groups()[0],\n",
    "                rf['job'],\n",
    "                res.groups()[1],\n",
    "                rf['filename']\n",
    "            )\n",
    "    \n",
    "            c.execute(f'''\n",
    "                SELECT 1 FROM related_file\n",
    "                WHERE\n",
    "                    variant_name='{ file_entry[0] }' AND\n",
    "                    pdf_filename='{ file_entry[1] }' AND\n",
    "                    job='{ file_entry[2] }' AND\n",
    "                    \"type\"='{ file_entry[3] }' AND\n",
    "                    filename='{ file_entry[4] }'\n",
    "            ''')\n",
    "            \n",
    "            entry_in_db = res is not c.fetchone()\n",
    "            \n",
    "            if entry_in_db == False:\n",
    "                data_to_add.append(file_entry)\n",
    "    \n",
    "    c.close()\n",
    "\n",
    "    value_lines = [\n",
    "        f'(\"{ fe[0] }\",\"{ fe[1] }\",\"{ fe[2] }\",\"{ fe[3] }\",\"{ fe[4] }\")'\n",
    "        for fe in data_to_add\n",
    "    ]\n",
    "\n",
    "    if len(value_lines) > 0:\n",
    "        c = con.cursor()\n",
    "        c.execute(\n",
    "            f'''\n",
    "                INSERT INTO related_file (variant_name,pdf_filename,job,type,filename)\n",
    "                VALUES { \",\".join(value_lines) }\n",
    "            '''\n",
    "        )\n",
    "        c.close()\n",
    "        con.commit()"
   ]
  }
 ],
 "metadata": {
  "kernelspec": {
   "display_name": "Python 3 (ipykernel)",
   "language": "python",
   "name": "python3"
  },
  "language_info": {
   "codemirror_mode": {
    "name": "ipython",
    "version": 3
   },
   "file_extension": ".py",
   "mimetype": "text/x-python",
   "name": "python",
   "nbconvert_exporter": "python",
   "pygments_lexer": "ipython3",
   "version": "3.10.11"
  }
 },
 "nbformat": 4,
 "nbformat_minor": 5
}
