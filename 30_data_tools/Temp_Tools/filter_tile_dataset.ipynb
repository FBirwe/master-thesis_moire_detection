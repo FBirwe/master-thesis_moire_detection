{
 "cells": [
  {
   "cell_type": "code",
   "execution_count": 1,
   "id": "4c12a656-7fb4-4383-bad1-5386c9cddff0",
   "metadata": {},
   "outputs": [],
   "source": [
    "import sys\n",
    "sys.path.append('../')\n",
    "sys.path.append('../../60_gebastel/Model/')\n",
    "\n",
    "from helper import load_dotenv\n",
    "from tqdm.auto import tqdm\n",
    "from random import choices\n",
    "from tile_postprocessing_tools import load_tile_classifier, classify_tile"
   ]
  },
  {
   "cell_type": "code",
   "execution_count": 2,
   "id": "70ade7a6-2aef-45e3-ac51-1638e15465d4",
   "metadata": {},
   "outputs": [],
   "source": [
    "dotenv = load_dotenv()"
   ]
  },
  {
   "cell_type": "code",
   "execution_count": 12,
   "id": "33195d6a-8cc3-4efc-bf63-5d908959efcb",
   "metadata": {},
   "outputs": [],
   "source": [
    "tiles = list(dotenv['TILE_DATASET_DIR'].glob('./*/moire/*.jpg'))\n",
    "tiles = [t for t in tiles if t.parent.parent.name in ['train','test','val']]"
   ]
  },
  {
   "cell_type": "code",
   "execution_count": 5,
   "id": "c8d1d92e-db91-4478-aac9-fce657d959a4",
   "metadata": {},
   "outputs": [],
   "source": [
    "clf = load_tile_classifier()"
   ]
  },
  {
   "cell_type": "code",
   "execution_count": 6,
   "id": "99b27a69-dd45-4d9f-87d1-6e02e1dc9f52",
   "metadata": {},
   "outputs": [
    {
     "data": {
      "application/vnd.jupyter.widget-view+json": {
       "model_id": "05ecf4c00c004bf48391b46b93261df9",
       "version_major": 2,
       "version_minor": 0
      },
      "text/plain": [
       "  0%|          | 0/52516 [00:00<?, ?it/s]"
      ]
     },
     "metadata": {},
     "output_type": "display_data"
    }
   ],
   "source": [
    "tiles_to_process = tiles #choices(tiles, k=10000)\n",
    "tiles_to_remove = []\n",
    "\n",
    "for t in tqdm(tiles_to_process):\n",
    "    pred = classify_tile( t, clf )\n",
    "\n",
    "    if pred == 'no_moire':\n",
    "        tiles_to_remove.append(t)"
   ]
  },
  {
   "cell_type": "code",
   "execution_count": 7,
   "id": "fc9133ac-c378-4af6-8ad6-bfbb81a3f010",
   "metadata": {},
   "outputs": [
    {
     "ename": "ZeroDivisionError",
     "evalue": "division by zero",
     "output_type": "error",
     "traceback": [
      "\u001b[0;31m---------------------------------------------------------------------------\u001b[0m",
      "\u001b[0;31mZeroDivisionError\u001b[0m                         Traceback (most recent call last)",
      "Cell \u001b[0;32mIn[7], line 1\u001b[0m\n\u001b[0;32m----> 1\u001b[0m \u001b[38;5;241;43m0\u001b[39;49m\u001b[43m \u001b[49m\u001b[38;5;241;43m/\u001b[39;49m\u001b[43m \u001b[49m\u001b[38;5;241;43m0\u001b[39;49m\n",
      "\u001b[0;31mZeroDivisionError\u001b[0m: division by zero"
     ]
    }
   ],
   "source": [
    "0 / 0"
   ]
  },
  {
   "cell_type": "code",
   "execution_count": 8,
   "id": "90924944-4f08-4e64-b16e-b7123dd443bf",
   "metadata": {},
   "outputs": [],
   "source": [
    "from PIL import Image"
   ]
  },
  {
   "cell_type": "code",
   "execution_count": 9,
   "id": "c6ce99f8-1a4e-4f95-bdec-f81f72db5922",
   "metadata": {},
   "outputs": [
    {
     "data": {
      "text/plain": [
       "9631"
      ]
     },
     "execution_count": 9,
     "metadata": {},
     "output_type": "execute_result"
    }
   ],
   "source": [
    "len(tiles_to_remove)"
   ]
  },
  {
   "cell_type": "code",
   "execution_count": 19,
   "id": "56e98be2-7371-4a45-a840-615f50787a24",
   "metadata": {},
   "outputs": [
    {
     "ename": "FileNotFoundError",
     "evalue": "[Errno 2] No such file or directory: '/Users/frederic.birwe/Desktop/azure_transfer/tile_datasets/train/moire/FBHlRsW7LE_200.0061.jpg'",
     "output_type": "error",
     "traceback": [
      "\u001b[0;31m---------------------------------------------------------------------------\u001b[0m",
      "\u001b[0;31mFileNotFoundError\u001b[0m                         Traceback (most recent call last)",
      "Cell \u001b[0;32mIn[19], line 1\u001b[0m\n\u001b[0;32m----> 1\u001b[0m \u001b[43mImage\u001b[49m\u001b[38;5;241;43m.\u001b[39;49m\u001b[43mopen\u001b[49m\u001b[43m(\u001b[49m\u001b[43mchoices\u001b[49m\u001b[43m(\u001b[49m\u001b[43mtiles_to_remove\u001b[49m\u001b[43m,\u001b[49m\u001b[43m \u001b[49m\u001b[43mk\u001b[49m\u001b[38;5;241;43m=\u001b[39;49m\u001b[38;5;241;43m1\u001b[39;49m\u001b[43m)\u001b[49m\u001b[43m[\u001b[49m\u001b[38;5;241;43m0\u001b[39;49m\u001b[43m]\u001b[49m\u001b[43m)\u001b[49m\n",
      "File \u001b[0;32m~/Library/Python/3.10/lib/python/site-packages/PIL/Image.py:3247\u001b[0m, in \u001b[0;36mopen\u001b[0;34m(fp, mode, formats)\u001b[0m\n\u001b[1;32m   3244\u001b[0m     filename \u001b[38;5;241m=\u001b[39m fp\n\u001b[1;32m   3246\u001b[0m \u001b[38;5;28;01mif\u001b[39;00m filename:\n\u001b[0;32m-> 3247\u001b[0m     fp \u001b[38;5;241m=\u001b[39m \u001b[43mbuiltins\u001b[49m\u001b[38;5;241;43m.\u001b[39;49m\u001b[43mopen\u001b[49m\u001b[43m(\u001b[49m\u001b[43mfilename\u001b[49m\u001b[43m,\u001b[49m\u001b[43m \u001b[49m\u001b[38;5;124;43m\"\u001b[39;49m\u001b[38;5;124;43mrb\u001b[39;49m\u001b[38;5;124;43m\"\u001b[39;49m\u001b[43m)\u001b[49m\n\u001b[1;32m   3248\u001b[0m     exclusive_fp \u001b[38;5;241m=\u001b[39m \u001b[38;5;28;01mTrue\u001b[39;00m\n\u001b[1;32m   3250\u001b[0m \u001b[38;5;28;01mtry\u001b[39;00m:\n",
      "\u001b[0;31mFileNotFoundError\u001b[0m: [Errno 2] No such file or directory: '/Users/frederic.birwe/Desktop/azure_transfer/tile_datasets/train/moire/FBHlRsW7LE_200.0061.jpg'"
     ]
    }
   ],
   "source": [
    "Image.open(choices(tiles_to_remove, k=1)[0])"
   ]
  },
  {
   "cell_type": "code",
   "execution_count": 11,
   "id": "850c9079-fffa-44ec-8b0b-5c466f4c33ba",
   "metadata": {},
   "outputs": [
    {
     "data": {
      "application/vnd.jupyter.widget-view+json": {
       "model_id": "9b6ceb4efae94bef9e83cb058beec2bb",
       "version_major": 2,
       "version_minor": 0
      },
      "text/plain": [
       "  0%|          | 0/9631 [00:00<?, ?it/s]"
      ]
     },
     "metadata": {},
     "output_type": "display_data"
    }
   ],
   "source": [
    "for moire_path in tqdm(tiles_to_remove):\n",
    "    non_moire_path = moire_path.parent.parent / 'no_moire' / moire_path.name\n",
    "\n",
    "    if moire_path.exists():\n",
    "        moire_path.unlink()\n",
    "    \n",
    "    if non_moire_path.exists():\n",
    "        non_moire_path.unlink()"
   ]
  }
 ],
 "metadata": {
  "kernelspec": {
   "display_name": "Python 3 (ipykernel)",
   "language": "python",
   "name": "python3"
  },
  "language_info": {
   "codemirror_mode": {
    "name": "ipython",
    "version": 3
   },
   "file_extension": ".py",
   "mimetype": "text/x-python",
   "name": "python",
   "nbconvert_exporter": "python",
   "pygments_lexer": "ipython3",
   "version": "3.10.11"
  }
 },
 "nbformat": 4,
 "nbformat_minor": 5
}
