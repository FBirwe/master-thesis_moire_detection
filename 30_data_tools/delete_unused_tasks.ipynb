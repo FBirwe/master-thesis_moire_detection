{
 "cells": [
  {
   "cell_type": "code",
   "execution_count": 1,
   "id": "34de107a",
   "metadata": {},
   "outputs": [],
   "source": [
    "import requests\n",
    "from helper import load_dotenv\n",
    "from get_labelstudio_data import get_tasks\n",
    "from tqdm import tqdm\n",
    "from pathlib import Path"
   ]
  },
  {
   "cell_type": "code",
   "execution_count": 2,
   "id": "82efe734",
   "metadata": {},
   "outputs": [],
   "source": [
    "config = load_dotenv()"
   ]
  },
  {
   "cell_type": "code",
   "execution_count": 3,
   "id": "80c0d559",
   "metadata": {},
   "outputs": [],
   "source": [
    "tasks = get_tasks( config['LABEL_STUDIO_PROJECT_ID'] )"
   ]
  },
  {
   "cell_type": "code",
   "execution_count": 4,
   "id": "b3d7de94",
   "metadata": {},
   "outputs": [],
   "source": [
    "def delete_taks( task_id, token ):\n",
    "        headers = {'Authorization': f'Token { token }'}\n",
    "        res = requests.delete(\n",
    "            f\"http://localhost:8080/api/tasks/{ task_id }\",\n",
    "            headers=headers\n",
    "        )\n",
    "\n",
    "        if res.status_code == 200:\n",
    "            return True\n",
    "\n",
    "        return False"
   ]
  },
  {
   "cell_type": "code",
   "execution_count": 5,
   "id": "5345c2bb",
   "metadata": {},
   "outputs": [
    {
     "name": "stdout",
     "output_type": "stream",
     "text": [
      "1231\n"
     ]
    },
    {
     "name": "stderr",
     "output_type": "stream",
     "text": [
      "100%|████████████████████████████████████████████████████████████████████████████████████████████████████████████████████████████████████████████████████████| 936/936 [00:00<00:00, 143489.35it/s]"
     ]
    },
    {
     "name": "stdout",
     "output_type": "stream",
     "text": [
      "deleted 0/936\n"
     ]
    },
    {
     "name": "stderr",
     "output_type": "stream",
     "text": [
      "\n"
     ]
    }
   ],
   "source": [
    "outdated_count = 0\n",
    "print( tasks[0]['id'] )\n",
    "\n",
    "for t in tqdm(tasks):\n",
    "    outdated = 'vps2400dpi' not in Path(t['data_path']).name\n",
    "    \n",
    "    if outdated:\n",
    "        delete_taks( t['id'], config['LABEL_STUDIO_TOKEN'] )\n",
    "        outdated_count += 1\n",
    "\n",
    "        \n",
    "print(f\"deleted {outdated_count}/{ len(tasks) }\")"
   ]
  }
 ],
 "metadata": {
  "kernelspec": {
   "display_name": "Python 3 (ipykernel)",
   "language": "python",
   "name": "python3"
  },
  "language_info": {
   "codemirror_mode": {
    "name": "ipython",
    "version": 3
   },
   "file_extension": ".py",
   "mimetype": "text/x-python",
   "name": "python",
   "nbconvert_exporter": "python",
   "pygments_lexer": "ipython3",
   "version": "3.10.11"
  }
 },
 "nbformat": 4,
 "nbformat_minor": 5
}
