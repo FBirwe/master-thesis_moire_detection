{
 "cells": [
  {
   "cell_type": "code",
   "execution_count": 2,
   "id": "dcc32ccc",
   "metadata": {},
   "outputs": [],
   "source": [
    "import pandas as pd\n",
    "import sqlite3\n",
    "from helper import load_dotenv"
   ]
  },
  {
   "cell_type": "code",
   "execution_count": 3,
   "id": "4c40fd9a",
   "metadata": {},
   "outputs": [],
   "source": [
    "config = load_dotenv()"
   ]
  },
  {
   "cell_type": "code",
   "execution_count": 4,
   "id": "1fa1d308",
   "metadata": {},
   "outputs": [],
   "source": [
    "con = sqlite3.connect( config['DB_PATH'] )"
   ]
  },
  {
   "cell_type": "code",
   "execution_count": 12,
   "id": "51fe548a",
   "metadata": {},
   "outputs": [],
   "source": [
    "data = pd.read_sql(\n",
    "    '''\n",
    "        SELECT rfvps.*, ifnull(rffc.fc_available,0) AS fc_available FROM (\n",
    "            SELECT variant_name, pdf_filename, job, 1 AS \"fc_available\" FROM related_file rf \n",
    "            WHERE \"type\" = \"4c\"\n",
    "        ) rffc\n",
    "        FULL OUTER JOIN (\n",
    "            SELECT variant_name, pdf_filename, job, count(*) >= 1 AS vps_available FROM related_file rf \n",
    "            WHERE \"type\" IN (\"C\",\"M\",\"Y\",\"K\")\n",
    "            GROUP BY variant_name, pdf_filename, job\n",
    "        ) rfvps\n",
    "        ON rffc.variant_name = rfvps.variant_name AND rffc.pdf_filename = rfvps.pdf_filename AND rffc.job = rfvps.job\n",
    "    ''',\n",
    "    con\n",
    ")\n",
    "data.vps_available = data.vps_available == 1\n",
    "data.fc_available = data.fc_available == 1"
   ]
  },
  {
   "cell_type": "code",
   "execution_count": 15,
   "id": "6ffacd85",
   "metadata": {},
   "outputs": [
    {
     "data": {
      "text/plain": [
       "True     1225\n",
       "False     181\n",
       "Name: fc_available, dtype: int64"
      ]
     },
     "execution_count": 15,
     "metadata": {},
     "output_type": "execute_result"
    }
   ],
   "source": [
    "data.fc_available.value_counts()"
   ]
  }
 ],
 "metadata": {
  "kernelspec": {
   "display_name": "Python 3 (ipykernel)",
   "language": "python",
   "name": "python3"
  },
  "language_info": {
   "codemirror_mode": {
    "name": "ipython",
    "version": 3
   },
   "file_extension": ".py",
   "mimetype": "text/x-python",
   "name": "python",
   "nbconvert_exporter": "python",
   "pygments_lexer": "ipython3",
   "version": "3.10.11"
  }
 },
 "nbformat": 4,
 "nbformat_minor": 5
}
