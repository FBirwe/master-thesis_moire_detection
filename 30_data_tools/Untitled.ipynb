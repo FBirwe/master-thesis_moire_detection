{
 "cells": [
  {
   "cell_type": "code",
   "execution_count": 1,
   "id": "8ceef9ca-992d-4b5f-85c3-eb2a984e89c5",
   "metadata": {},
   "outputs": [],
   "source": [
    "from helper import load_dotenv"
   ]
  },
  {
   "cell_type": "code",
   "execution_count": 2,
   "id": "2aa03966-75a3-484e-a5c6-973febb00a3b",
   "metadata": {},
   "outputs": [],
   "source": [
    "from pathlib import Path\n",
    "import sqlite3\n",
    "import re\n",
    "from tqdm import tqdm\n",
    "from random import choice"
   ]
  },
  {
   "cell_type": "code",
   "execution_count": 3,
   "id": "5d96da3b-6941-4d47-8611-9be9001ed884",
   "metadata": {},
   "outputs": [],
   "source": [
    "dotenv = load_dotenv()"
   ]
  },
  {
   "cell_type": "code",
   "execution_count": 4,
   "id": "4ff87583-bdac-4be9-b471-cc58847b0c33",
   "metadata": {},
   "outputs": [
    {
     "data": {
      "text/plain": [
       "PosixPath('/Users/frederic.birwe/Library/CloudStorage/OneDrive-BertelsmannSE&Co.KGaA/Masterarbeit/10_db/moire_testdata.db')"
      ]
     },
     "execution_count": 4,
     "metadata": {},
     "output_type": "execute_result"
    }
   ],
   "source": [
    "dotenv['DB_PATH']"
   ]
  },
  {
   "cell_type": "markdown",
   "id": "0037baed-36c4-4b99-9499-0d6ba5bebbda",
   "metadata": {},
   "source": [
    "# Datenbank aktualisieren"
   ]
  },
  {
   "cell_type": "code",
   "execution_count": null,
   "id": "d78cd227-5e37-45e1-9a34-56e84e6b5144",
   "metadata": {},
   "outputs": [],
   "source": []
  },
  {
   "cell_type": "markdown",
   "id": "1b53ef58-8ff0-4013-9052-141da686de12",
   "metadata": {},
   "source": [
    "# Daten umbenennen"
   ]
  },
  {
   "cell_type": "code",
   "execution_count": 5,
   "id": "52fe3b23-003e-4351-b458-2068a967d110",
   "metadata": {},
   "outputs": [],
   "source": [
    "relevant_files = list(dotenv['DATA_DIR'].glob('./*/ps2400dpi150lpi/*.4c.*.*'))"
   ]
  },
  {
   "cell_type": "code",
   "execution_count": 6,
   "id": "68932b10-8783-40c7-92b7-fe9bd872ec49",
   "metadata": {},
   "outputs": [
    {
     "data": {
      "text/plain": [
       "11457"
      ]
     },
     "execution_count": 6,
     "metadata": {},
     "output_type": "execute_result"
    }
   ],
   "source": [
    "len(relevant_files)"
   ]
  },
  {
   "cell_type": "code",
   "execution_count": 8,
   "id": "ab81ba4c-affa-4d1f-8998-96bc9c09c7f6",
   "metadata": {},
   "outputs": [
    {
     "ename": "ZeroDivisionError",
     "evalue": "division by zero",
     "output_type": "error",
     "traceback": [
      "\u001b[0;31m---------------------------------------------------------------------------\u001b[0m",
      "\u001b[0;31mZeroDivisionError\u001b[0m                         Traceback (most recent call last)",
      "Cell \u001b[0;32mIn[8], line 1\u001b[0m\n\u001b[0;32m----> 1\u001b[0m \u001b[38;5;241;43m0\u001b[39;49m\u001b[43m \u001b[49m\u001b[38;5;241;43m/\u001b[39;49m\u001b[43m \u001b[49m\u001b[38;5;241;43m0\u001b[39;49m\n",
      "\u001b[0;31mZeroDivisionError\u001b[0m: division by zero"
     ]
    }
   ],
   "source": [
    "0 / 0"
   ]
  },
  {
   "cell_type": "code",
   "execution_count": 9,
   "id": "a434c871-2ab9-4781-9901-6f6e0ca9fd48",
   "metadata": {
    "scrolled": true
   },
   "outputs": [
    {
     "name": "stderr",
     "output_type": "stream",
     "text": [
      "  1%|▏                                    | 58/11457 [00:00<00:21, 519.19it/s]"
     ]
    },
    {
     "name": "stdout",
     "output_type": "stream",
     "text": [
      "/Users/frederic.birwe/Library/CloudStorage/OneDrive-BertelsmannSE&Co.KGaA/Masterarbeit/20_data/508890/ps2400dpi150lpi/HBZP_1_M_290.p1.4c.Y.tif\n",
      "/Users/frederic.birwe/Library/CloudStorage/OneDrive-BertelsmannSE&Co.KGaA/Masterarbeit/20_data/508890/ps2400dpi150lpi/HBZP_1_M_278.p1.4c.M.tif\n",
      "/Users/frederic.birwe/Library/CloudStorage/OneDrive-BertelsmannSE&Co.KGaA/Masterarbeit/20_data/508890/ps2400dpi150lpi/HBZP_1_M_290.p1.4c.M.tif\n",
      "/Users/frederic.birwe/Library/CloudStorage/OneDrive-BertelsmannSE&Co.KGaA/Masterarbeit/20_data/508890/ps2400dpi150lpi/HBZP_1_M_282.p1.4c.C.tif\n",
      "/Users/frederic.birwe/Library/CloudStorage/OneDrive-BertelsmannSE&Co.KGaA/Masterarbeit/20_data/508890/ps2400dpi150lpi/HBZP_1_M_278.p1.4c.Y.tif\n",
      "/Users/frederic.birwe/Library/CloudStorage/OneDrive-BertelsmannSE&Co.KGaA/Masterarbeit/20_data/508890/ps2400dpi150lpi/HBZP_1_M_274.p1.4c.M.tif\n",
      "/Users/frederic.birwe/Library/CloudStorage/OneDrive-BertelsmannSE&Co.KGaA/Masterarbeit/20_data/508890/ps2400dpi150lpi/HBZP_1_M_274.p1.4c.Y.tif\n",
      "/Users/frederic.birwe/Library/CloudStorage/OneDrive-BertelsmannSE&Co.KGaA/Masterarbeit/20_data/508890/ps2400dpi150lpi/HBZP_1_M_277.p1.4c.Y.tif\n",
      "/Users/frederic.birwe/Library/CloudStorage/OneDrive-BertelsmannSE&Co.KGaA/Masterarbeit/20_data/508890/ps2400dpi150lpi/HBZP_1_M_283.p1.4c.M.tif\n",
      "/Users/frederic.birwe/Library/CloudStorage/OneDrive-BertelsmannSE&Co.KGaA/Masterarbeit/20_data/508890/ps2400dpi150lpi/HBZP_1_M_277.p1.4c.M.tif\n",
      "/Users/frederic.birwe/Library/CloudStorage/OneDrive-BertelsmannSE&Co.KGaA/Masterarbeit/20_data/508890/ps2400dpi150lpi/HBZP_1_M_283.p1.4c.Y.tif\n",
      "/Users/frederic.birwe/Library/CloudStorage/OneDrive-BertelsmannSE&Co.KGaA/Masterarbeit/20_data/508890/ps2400dpi150lpi/HBZP_1_M_279.p1.4c.C.tif\n",
      "/Users/frederic.birwe/Library/CloudStorage/OneDrive-BertelsmannSE&Co.KGaA/Masterarbeit/20_data/508890/ps2400dpi150lpi/HBZP_1_M_272.p1.4c.M.tif\n",
      "/Users/frederic.birwe/Library/CloudStorage/OneDrive-BertelsmannSE&Co.KGaA/Masterarbeit/20_data/508890/ps2400dpi150lpi/HBZP_1_M_293.p1.4c.M.tif\n",
      "/Users/frederic.birwe/Library/CloudStorage/OneDrive-BertelsmannSE&Co.KGaA/Masterarbeit/20_data/508890/ps2400dpi150lpi/HBZP_1_M_272.p1.4c.Y.tif\n",
      "/Users/frederic.birwe/Library/CloudStorage/OneDrive-BertelsmannSE&Co.KGaA/Masterarbeit/20_data/508890/ps2400dpi150lpi/HBZP_1_M_275.p1.4c.C.tif\n",
      "/Users/frederic.birwe/Library/CloudStorage/OneDrive-BertelsmannSE&Co.KGaA/Masterarbeit/20_data/508890/ps2400dpi150lpi/HBZP_1_M_293.p1.4c.Y.tif\n",
      "/Users/frederic.birwe/Library/CloudStorage/OneDrive-BertelsmannSE&Co.KGaA/Masterarbeit/20_data/508890/ps2400dpi150lpi/HBZP_1_M_293.p1.4c.C.tif\n",
      "/Users/frederic.birwe/Library/CloudStorage/OneDrive-BertelsmannSE&Co.KGaA/Masterarbeit/20_data/508890/ps2400dpi150lpi/HBZP_1_M_275.p1.4c.Y.tif\n",
      "/Users/frederic.birwe/Library/CloudStorage/OneDrive-BertelsmannSE&Co.KGaA/Masterarbeit/20_data/508890/ps2400dpi150lpi/HBZP_1_M_272.p1.4c.C.tif\n",
      "/Users/frederic.birwe/Library/CloudStorage/OneDrive-BertelsmannSE&Co.KGaA/Masterarbeit/20_data/508890/ps2400dpi150lpi/HBZP_1_M_275.p1.4c.M.tif\n",
      "/Users/frederic.birwe/Library/CloudStorage/OneDrive-BertelsmannSE&Co.KGaA/Masterarbeit/20_data/508890/ps2400dpi150lpi/HBZP_1_M_279.p1.4c.Y.tif\n",
      "/Users/frederic.birwe/Library/CloudStorage/OneDrive-BertelsmannSE&Co.KGaA/Masterarbeit/20_data/508890/ps2400dpi150lpi/HBZP_1_M_283.p1.4c.C.tif\n",
      "/Users/frederic.birwe/Library/CloudStorage/OneDrive-BertelsmannSE&Co.KGaA/Masterarbeit/20_data/508890/ps2400dpi150lpi/HBZP_1_M_279.p1.4c.M.tif\n",
      "/Users/frederic.birwe/Library/CloudStorage/OneDrive-BertelsmannSE&Co.KGaA/Masterarbeit/20_data/508890/ps2400dpi150lpi/HBZP_1_M_277.p1.4c.C.tif\n",
      "/Users/frederic.birwe/Library/CloudStorage/OneDrive-BertelsmannSE&Co.KGaA/Masterarbeit/20_data/508890/ps2400dpi150lpi/HBZP_1_M_274.p1.4c.C.tif\n",
      "/Users/frederic.birwe/Library/CloudStorage/OneDrive-BertelsmannSE&Co.KGaA/Masterarbeit/20_data/508890/ps2400dpi150lpi/HBZP_1_M_278.p1.4c.C.tif\n",
      "/Users/frederic.birwe/Library/CloudStorage/OneDrive-BertelsmannSE&Co.KGaA/Masterarbeit/20_data/508890/ps2400dpi150lpi/HBZP_1_M_282.p1.4c.Y.tif\n",
      "/Users/frederic.birwe/Library/CloudStorage/OneDrive-BertelsmannSE&Co.KGaA/Masterarbeit/20_data/508890/ps2400dpi150lpi/HBZP_1_M_282.p1.4c.M.tif\n",
      "/Users/frederic.birwe/Library/CloudStorage/OneDrive-BertelsmannSE&Co.KGaA/Masterarbeit/20_data/508890/ps2400dpi150lpi/HBZP_1_M_290.p1.4c.C.tif\n",
      "/Users/frederic.birwe/Library/CloudStorage/OneDrive-BertelsmannSE&Co.KGaA/Masterarbeit/20_data/141607/ps2400dpi150lpi/g39_DO01_3-12-103570_156_168.p13.4c.Y.tif\n",
      "/Users/frederic.birwe/Library/CloudStorage/OneDrive-BertelsmannSE&Co.KGaA/Masterarbeit/20_data/141607/ps2400dpi150lpi/g39_DO01_3-12-103570_156_168.p12.4c.Y.tif\n",
      "/Users/frederic.birwe/Library/CloudStorage/OneDrive-BertelsmannSE&Co.KGaA/Masterarbeit/20_data/141607/ps2400dpi150lpi/g39_DO01_3-12-103570_156_168.p13.4c.M.tif\n",
      "/Users/frederic.birwe/Library/CloudStorage/OneDrive-BertelsmannSE&Co.KGaA/Masterarbeit/20_data/141607/ps2400dpi150lpi/g39_DO01_3-12-103570_156_168.p9.4c.Y.tif\n",
      "/Users/frederic.birwe/Library/CloudStorage/OneDrive-BertelsmannSE&Co.KGaA/Masterarbeit/20_data/141607/ps2400dpi150lpi/g39_DO01_3-12-103570_156_168.p8.4c.Y.tif\n",
      "/Users/frederic.birwe/Library/CloudStorage/OneDrive-BertelsmannSE&Co.KGaA/Masterarbeit/20_data/141607/ps2400dpi150lpi/g39_DO01_3-12-103570_156_168.p3.4c.Y.tif\n",
      "/Users/frederic.birwe/Library/CloudStorage/OneDrive-BertelsmannSE&Co.KGaA/Masterarbeit/20_data/141607/ps2400dpi150lpi/g39_DO01_3-12-103570_156_168.p2.4c.Y.tif\n",
      "/Users/frederic.birwe/Library/CloudStorage/OneDrive-BertelsmannSE&Co.KGaA/Masterarbeit/20_data/141607/ps2400dpi150lpi/g39_DO01_3-12-103570_156_168.p4.4c.Y.tif\n",
      "/Users/frederic.birwe/Library/CloudStorage/OneDrive-BertelsmannSE&Co.KGaA/Masterarbeit/20_data/141607/ps2400dpi150lpi/g39_DO01_3-12-103570_156_168.p5.4c.Y.tif\n",
      "/Users/frederic.birwe/Library/CloudStorage/OneDrive-BertelsmannSE&Co.KGaA/Masterarbeit/20_data/141607/ps2400dpi150lpi/g39_DO01_3-12-103570_156_168.p1.4c.Y.tif\n",
      "/Users/frederic.birwe/Library/CloudStorage/OneDrive-BertelsmannSE&Co.KGaA/Masterarbeit/20_data/141607/ps2400dpi150lpi/g39_DO01_3-12-103570_156_168.p10.4c.Y.tif\n",
      "/Users/frederic.birwe/Library/CloudStorage/OneDrive-BertelsmannSE&Co.KGaA/Masterarbeit/20_data/141607/ps2400dpi150lpi/g39_DO01_3-12-103570_156_168.p11.4c.Y.tif\n",
      "/Users/frederic.birwe/Library/CloudStorage/OneDrive-BertelsmannSE&Co.KGaA/Masterarbeit/20_data/141607/ps2400dpi150lpi/g39_DO01_3-12-103570_156_168.p7.4c.Y.tif\n",
      "/Users/frederic.birwe/Library/CloudStorage/OneDrive-BertelsmannSE&Co.KGaA/Masterarbeit/20_data/141607/ps2400dpi150lpi/g39_DO01_3-12-103570_156_168.p6.4c.Y.tif\n",
      "/Users/frederic.birwe/Library/CloudStorage/OneDrive-BertelsmannSE&Co.KGaA/Masterarbeit/20_data/141607/ps2400dpi150lpi/g39_DO01_3-12-103570_156_168.p13.4c.C.tif\n",
      "/Users/frederic.birwe/Library/CloudStorage/OneDrive-BertelsmannSE&Co.KGaA/Masterarbeit/20_data/508980/ps2400dpi150lpi/0168_O086.p1.4c.Y.tif\n",
      "/Users/frederic.birwe/Library/CloudStorage/OneDrive-BertelsmannSE&Co.KGaA/Masterarbeit/20_data/508980/ps2400dpi150lpi/0163_O086.p1.4c.Y.tif\n",
      "/Users/frederic.birwe/Library/CloudStorage/OneDrive-BertelsmannSE&Co.KGaA/Masterarbeit/20_data/508980/ps2400dpi150lpi/0123_O086.p1.4c.Y.tif\n",
      "/Users/frederic.birwe/Library/CloudStorage/OneDrive-BertelsmannSE&Co.KGaA/Masterarbeit/20_data/508980/ps2400dpi150lpi/0152_O086.p1.4c.Y.tif\n",
      "/Users/frederic.birwe/Library/CloudStorage/OneDrive-BertelsmannSE&Co.KGaA/Masterarbeit/20_data/508980/ps2400dpi150lpi/0137_O086.p1.4c.Y.tif\n",
      "/Users/frederic.birwe/Library/CloudStorage/OneDrive-BertelsmannSE&Co.KGaA/Masterarbeit/20_data/508980/ps2400dpi150lpi/0173_O086.p1.4c.Y.tif\n",
      "/Users/frederic.birwe/Library/CloudStorage/OneDrive-BertelsmannSE&Co.KGaA/Masterarbeit/20_data/508980/ps2400dpi150lpi/0111_O086.p1.4c.Y.tif\n",
      "/Users/frederic.birwe/Library/CloudStorage/OneDrive-BertelsmannSE&Co.KGaA/Masterarbeit/20_data/508980/ps2400dpi150lpi/0174_O086.p1.4c.Y.tif\n",
      "/Users/frederic.birwe/Library/CloudStorage/OneDrive-BertelsmannSE&Co.KGaA/Masterarbeit/20_data/508980/ps2400dpi150lpi/0134_O086.p1.4c.Y.tif\n"
     ]
    },
    {
     "name": "stderr",
     "output_type": "stream",
     "text": [
      "  8%|██▉                                 | 950/11457 [00:02<00:15, 698.72it/s]"
     ]
    },
    {
     "name": "stdout",
     "output_type": "stream",
     "text": [
      "/Users/frederic.birwe/Library/CloudStorage/OneDrive-BertelsmannSE&Co.KGaA/Masterarbeit/20_data/613845/ps2400dpi150lpi/NL_pit_text_08_09_EDG__23_ET_96_G_DE_LANGUAGEDOC_nl_NL.p2.4c.Y.tif\n",
      "/Users/frederic.birwe/Library/CloudStorage/OneDrive-BertelsmannSE&Co.KGaA/Masterarbeit/20_data/613845/ps2400dpi150lpi/NL_pit_text_94_95_EDG__23_ET_96_G_DE_LANGUAGEDOC_nl_NL.p2.4c.C.tif\n",
      "/Users/frederic.birwe/Library/CloudStorage/OneDrive-BertelsmannSE&Co.KGaA/Masterarbeit/20_data/613845/ps2400dpi150lpi/NL_pit_text_86_87_EDG__23_ET_96_G_DE_LANGUAGEDOC_nl_NL.p1.4c.Y.tif\n",
      "/Users/frederic.birwe/Library/CloudStorage/OneDrive-BertelsmannSE&Co.KGaA/Masterarbeit/20_data/613845/ps2400dpi150lpi/NL_pit_text_78_79_EDG__23_ET_96_G_DE_LANGUAGEDOC_nl_NL.p2.4c.M.tif\n",
      "/Users/frederic.birwe/Library/CloudStorage/OneDrive-BertelsmannSE&Co.KGaA/Masterarbeit/20_data/613845/ps2400dpi150lpi/NL_pit_text_10_11_EDG__23_ET_96_G_DE_LANGUAGEDOC_nl_NL.p1.4c.Y.tif\n",
      "/Users/frederic.birwe/Library/CloudStorage/OneDrive-BertelsmannSE&Co.KGaA/Masterarbeit/20_data/613845/ps2400dpi150lpi/NL_pit_text_02_03_EDG__23_ET_96_G_DE_LANGUAGEDOC_nl_NL.p2.4c.C.tif\n",
      "/Users/frederic.birwe/Library/CloudStorage/OneDrive-BertelsmannSE&Co.KGaA/Masterarbeit/20_data/613845/ps2400dpi150lpi/NL_pit_text_06_07_EDG__23_ET_96_G_DE_LANGUAGEDOC_nl_NL.p1.4c.C.tif\n",
      "/Users/frederic.birwe/Library/CloudStorage/OneDrive-BertelsmannSE&Co.KGaA/Masterarbeit/20_data/613845/ps2400dpi150lpi/NL_pit_text_14_15_EDG__23_ET_96_G_DE_LANGUAGEDOC_nl_NL.p2.4c.Y.tif\n",
      "/Users/frederic.birwe/Library/CloudStorage/OneDrive-BertelsmannSE&Co.KGaA/Masterarbeit/20_data/613845/ps2400dpi150lpi/NL_pit_text_88_89_EDG__23_ET_96_G_DE_LANGUAGEDOC_nl_NL.p2.4c.C.tif\n",
      "/Users/frederic.birwe/Library/CloudStorage/OneDrive-BertelsmannSE&Co.KGaA/Masterarbeit/20_data/613845/ps2400dpi150lpi/NL_pit_text_82_83_EDG__23_ET_96_G_DE_LANGUAGEDOC_nl_NL.p2.4c.Y.tif\n",
      "/Users/frederic.birwe/Library/CloudStorage/OneDrive-BertelsmannSE&Co.KGaA/Masterarbeit/20_data/613845/ps2400dpi150lpi/NL_pit_text_64_65_EDG__23_ET_96_G_DE_LANGUAGEDOC_nl_NL.p2.4c.M.tif\n",
      "/Users/frederic.birwe/Library/CloudStorage/OneDrive-BertelsmannSE&Co.KGaA/Masterarbeit/20_data/613845/ps2400dpi150lpi/NL_pit_text_90_91_EDG__23_ET_96_G_DE_LANGUAGEDOC_nl_NL.p1.4c.C.tif\n",
      "/Users/frederic.birwe/Library/CloudStorage/OneDrive-BertelsmannSE&Co.KGaA/Masterarbeit/20_data/613845/ps2400dpi150lpi/NL_pit_text_08_09_EDG__23_ET_96_G_DE_LANGUAGEDOC_nl_NL.p2.4c.M.tif\n",
      "/Users/frederic.birwe/Library/CloudStorage/OneDrive-BertelsmannSE&Co.KGaA/Masterarbeit/20_data/613845/ps2400dpi150lpi/NL_pit_text_86_87_EDG__23_ET_96_G_DE_LANGUAGEDOC_nl_NL.p1.4c.M.tif\n",
      "/Users/frederic.birwe/Library/CloudStorage/OneDrive-BertelsmannSE&Co.KGaA/Masterarbeit/20_data/613845/ps2400dpi150lpi/NL_pit_text_72_73_EDG__23_ET_96_G_DE_LANGUAGEDOC_nl_NL.p2.4c.C.tif\n",
      "/Users/frederic.birwe/Library/CloudStorage/OneDrive-BertelsmannSE&Co.KGaA/Masterarbeit/20_data/613845/ps2400dpi150lpi/NL_pit_text_78_79_EDG__23_ET_96_G_DE_LANGUAGEDOC_nl_NL.p2.4c.Y.tif\n",
      "/Users/frederic.birwe/Library/CloudStorage/OneDrive-BertelsmannSE&Co.KGaA/Masterarbeit/20_data/613845/ps2400dpi150lpi/NL_pit_text_20_21_EDG__23_ET_96_G_DE_LANGUAGEDOC_nl_NL.p1.4c.C.tif\n",
      "/Users/frederic.birwe/Library/CloudStorage/OneDrive-BertelsmannSE&Co.KGaA/Masterarbeit/20_data/613845/ps2400dpi150lpi/NL_pit_text_10_11_EDG__23_ET_96_G_DE_LANGUAGEDOC_nl_NL.p1.4c.M.tif\n",
      "/Users/frederic.birwe/Library/CloudStorage/OneDrive-BertelsmannSE&Co.KGaA/Masterarbeit/20_data/613845/ps2400dpi150lpi/NL_pit_text_24_25_EDG__23_ET_96_G_DE_LANGUAGEDOC_nl_NL.p2.4c.C.tif\n",
      "/Users/frederic.birwe/Library/CloudStorage/OneDrive-BertelsmannSE&Co.KGaA/Masterarbeit/20_data/613845/ps2400dpi150lpi/NL_pit_text_14_15_EDG__23_ET_96_G_DE_LANGUAGEDOC_nl_NL.p2.4c.M.tif\n",
      "/Users/frederic.birwe/Library/CloudStorage/OneDrive-BertelsmannSE&Co.KGaA/Masterarbeit/20_data/613845/ps2400dpi150lpi/NL_pit_text_82_83_EDG__23_ET_96_G_DE_LANGUAGEDOC_nl_NL.p2.4c.M.tif\n",
      "/Users/frederic.birwe/Library/CloudStorage/OneDrive-BertelsmannSE&Co.KGaA/Masterarbeit/20_data/613845/ps2400dpi150lpi/NL_pit_text_76_77_EDG__23_ET_96_G_DE_LANGUAGEDOC_nl_NL.p1.4c.C.tif\n",
      "/Users/frederic.birwe/Library/CloudStorage/OneDrive-BertelsmannSE&Co.KGaA/Masterarbeit/20_data/613845/ps2400dpi150lpi/NL_pit_text_64_65_EDG__23_ET_96_G_DE_LANGUAGEDOC_nl_NL.p2.4c.Y.tif\n"
     ]
    },
    {
     "name": "stderr",
     "output_type": "stream",
     "text": [
      "  9%|███▎                               | 1088/11457 [00:02<00:16, 623.94it/s]"
     ]
    },
    {
     "name": "stdout",
     "output_type": "stream",
     "text": [
      "/Users/frederic.birwe/Library/CloudStorage/OneDrive-BertelsmannSE&Co.KGaA/Masterarbeit/20_data/613845/ps2400dpi150lpi/NL_pit_text_30_31_EDG__23_ET_96_G_DE_LANGUAGEDOC_nl_NL.p1.4c.Y.tif\n",
      "/Users/frederic.birwe/Library/CloudStorage/OneDrive-BertelsmannSE&Co.KGaA/Masterarbeit/20_data/613845/ps2400dpi150lpi/NL_pit_text_68_69_EDG__23_ET_96_G_DE_LANGUAGEDOC_nl_NL.p2.4c.C.tif\n",
      "/Users/frederic.birwe/Library/CloudStorage/OneDrive-BertelsmannSE&Co.KGaA/Masterarbeit/20_data/613845/ps2400dpi150lpi/NL_pit_text_22_23_EDG__23_ET_96_G_DE_LANGUAGEDOC_nl_NL.p2.4c.C.tif\n",
      "/Users/frederic.birwe/Library/CloudStorage/OneDrive-BertelsmannSE&Co.KGaA/Masterarbeit/20_data/613845/ps2400dpi150lpi/NL_pit_text_12_13_EDG__23_ET_96_G_DE_LANGUAGEDOC_nl_NL.p2.4c.M.tif\n",
      "/Users/frederic.birwe/Library/CloudStorage/OneDrive-BertelsmannSE&Co.KGaA/Masterarbeit/20_data/613845/ps2400dpi150lpi/NL_pit_text_28_29_EDG__23_ET_96_G_DE_LANGUAGEDOC_nl_NL.p2.4c.Y.tif\n",
      "/Users/frederic.birwe/Library/CloudStorage/OneDrive-BertelsmannSE&Co.KGaA/Masterarbeit/20_data/613845/ps2400dpi150lpi/NL_pit_text_84_85_EDG__23_ET_96_G_DE_LANGUAGEDOC_nl_NL.p2.4c.M.tif\n",
      "/Users/frederic.birwe/Library/CloudStorage/OneDrive-BertelsmannSE&Co.KGaA/Masterarbeit/20_data/613845/ps2400dpi150lpi/NL_pit_text_70_71_EDG__23_ET_96_G_DE_LANGUAGEDOC_nl_NL.p1.4c.C.tif\n",
      "/Users/frederic.birwe/Library/CloudStorage/OneDrive-BertelsmannSE&Co.KGaA/Masterarbeit/20_data/613845/ps2400dpi150lpi/NL_pit_text_66_67_EDG__23_ET_96_G_DE_LANGUAGEDOC_nl_NL.p1.4c.Y.tif\n",
      "/Users/frederic.birwe/Library/CloudStorage/OneDrive-BertelsmannSE&Co.KGaA/Masterarbeit/20_data/613845/ps2400dpi150lpi/NL_pit_text_80_81_EDG__23_ET_96_G_DE_LANGUAGEDOC_nl_NL.p1.4c.M.tif\n",
      "/Users/frederic.birwe/Library/CloudStorage/OneDrive-BertelsmannSE&Co.KGaA/Masterarbeit/20_data/613845/ps2400dpi150lpi/NL_pit_text_74_75_EDG__23_ET_96_G_DE_LANGUAGEDOC_nl_NL.p2.4c.C.tif\n",
      "/Users/frederic.birwe/Library/CloudStorage/OneDrive-BertelsmannSE&Co.KGaA/Masterarbeit/20_data/613845/ps2400dpi150lpi/NL_pit_text_26_27_EDG__23_ET_96_G_DE_LANGUAGEDOC_nl_NL.p1.4c.C.tif\n",
      "/Users/frederic.birwe/Library/CloudStorage/OneDrive-BertelsmannSE&Co.KGaA/Masterarbeit/20_data/613845/ps2400dpi150lpi/NL_pit_text_16_17_EDG__23_ET_96_G_DE_LANGUAGEDOC_nl_NL.p1.4c.M.tif\n",
      "/Users/frederic.birwe/Library/CloudStorage/OneDrive-BertelsmannSE&Co.KGaA/Masterarbeit/20_data/613845/ps2400dpi150lpi/NL_pit_text_30_31_EDG__23_ET_96_G_DE_LANGUAGEDOC_nl_NL.p1.4c.M.tif\n",
      "/Users/frederic.birwe/Library/CloudStorage/OneDrive-BertelsmannSE&Co.KGaA/Masterarbeit/20_data/613845/ps2400dpi150lpi/NL_pit_text_12_13_EDG__23_ET_96_G_DE_LANGUAGEDOC_nl_NL.p2.4c.Y.tif\n",
      "/Users/frederic.birwe/Library/CloudStorage/OneDrive-BertelsmannSE&Co.KGaA/Masterarbeit/20_data/613845/ps2400dpi150lpi/NL_pit_text_18_19_EDG__23_ET_96_G_DE_LANGUAGEDOC_nl_NL.p2.4c.C.tif\n",
      "/Users/frederic.birwe/Library/CloudStorage/OneDrive-BertelsmannSE&Co.KGaA/Masterarbeit/20_data/613845/ps2400dpi150lpi/NL_pit_text_84_85_EDG__23_ET_96_G_DE_LANGUAGEDOC_nl_NL.p2.4c.Y.tif\n",
      "/Users/frederic.birwe/Library/CloudStorage/OneDrive-BertelsmannSE&Co.KGaA/Masterarbeit/20_data/613845/ps2400dpi150lpi/NL_pit_text_28_29_EDG__23_ET_96_G_DE_LANGUAGEDOC_nl_NL.p2.4c.M.tif\n",
      "/Users/frederic.birwe/Library/CloudStorage/OneDrive-BertelsmannSE&Co.KGaA/Masterarbeit/20_data/613845/ps2400dpi150lpi/NL_pit_text_66_67_EDG__23_ET_96_G_DE_LANGUAGEDOC_nl_NL.p1.4c.M.tif\n",
      "/Users/frederic.birwe/Library/CloudStorage/OneDrive-BertelsmannSE&Co.KGaA/Masterarbeit/20_data/613845/ps2400dpi150lpi/NL_pit_text_92_93_EDG__23_ET_96_G_DE_LANGUAGEDOC_nl_NL.p2.4c.C.tif\n",
      "/Users/frederic.birwe/Library/CloudStorage/OneDrive-BertelsmannSE&Co.KGaA/Masterarbeit/20_data/613845/ps2400dpi150lpi/NL_pit_text_80_81_EDG__23_ET_96_G_DE_LANGUAGEDOC_nl_NL.p1.4c.Y.tif\n",
      "/Users/frederic.birwe/Library/CloudStorage/OneDrive-BertelsmannSE&Co.KGaA/Masterarbeit/20_data/613845/ps2400dpi150lpi/NL_pit_text_16_17_EDG__23_ET_96_G_DE_LANGUAGEDOC_nl_NL.p1.4c.Y.tif\n",
      "/Users/frederic.birwe/Library/CloudStorage/OneDrive-BertelsmannSE&Co.KGaA/Masterarbeit/20_data/613845/ps2400dpi150lpi/NL_pit_text_04_05_EDG__23_ET_96_G_DE_LANGUAGEDOC_nl_NL.p2.4c.C.tif\n",
      "/Users/frederic.birwe/Library/CloudStorage/OneDrive-BertelsmannSE&Co.KGaA/Masterarbeit/20_data/613845/ps2400dpi150lpi/NL_pit_text_90_91_EDG__23_ET_96_G_DE_LANGUAGEDOC_nl_NL.p2.4c.Y.tif\n",
      "/Users/frederic.birwe/Library/CloudStorage/OneDrive-BertelsmannSE&Co.KGaA/Masterarbeit/20_data/613845/ps2400dpi150lpi/NL_pit_text_82_83_EDG__23_ET_96_G_DE_LANGUAGEDOC_nl_NL.p1.4c.C.tif\n",
      "/Users/frederic.birwe/Library/CloudStorage/OneDrive-BertelsmannSE&Co.KGaA/Masterarbeit/20_data/613845/ps2400dpi150lpi/NL_pit_text_76_77_EDG__23_ET_96_G_DE_LANGUAGEDOC_nl_NL.p2.4c.M.tif\n",
      "/Users/frederic.birwe/Library/CloudStorage/OneDrive-BertelsmannSE&Co.KGaA/Masterarbeit/20_data/613845/ps2400dpi150lpi/NL_pit_text_14_15_EDG__23_ET_96_G_DE_LANGUAGEDOC_nl_NL.p1.4c.C.tif\n",
      "/Users/frederic.birwe/Library/CloudStorage/OneDrive-BertelsmannSE&Co.KGaA/Masterarbeit/20_data/613845/ps2400dpi150lpi/NL_pit_text_24_25_EDG__23_ET_96_G_DE_LANGUAGEDOC_nl_NL.p1.4c.M.tif\n",
      "/Users/frederic.birwe/Library/CloudStorage/OneDrive-BertelsmannSE&Co.KGaA/Masterarbeit/20_data/613845/ps2400dpi150lpi/NL_pit_text_88_89_EDG__23_ET_96_G_DE_LANGUAGEDOC_nl_NL.p1.4c.Y.tif\n",
      "/Users/frederic.birwe/Library/CloudStorage/OneDrive-BertelsmannSE&Co.KGaA/Masterarbeit/20_data/613845/ps2400dpi150lpi/NL_pit_text_06_07_EDG__23_ET_96_G_DE_LANGUAGEDOC_nl_NL.p2.4c.Y.tif\n",
      "/Users/frederic.birwe/Library/CloudStorage/OneDrive-BertelsmannSE&Co.KGaA/Masterarbeit/20_data/613845/ps2400dpi150lpi/NL_pit_text_02_03_EDG__23_ET_96_G_DE_LANGUAGEDOC_nl_NL.p1.4c.Y.tif\n"
     ]
    },
    {
     "name": "stderr",
     "output_type": "stream",
     "text": [
      " 11%|███▋                               | 1214/11457 [00:02<00:17, 577.74it/s]"
     ]
    },
    {
     "name": "stdout",
     "output_type": "stream",
     "text": [
      "/Users/frederic.birwe/Library/CloudStorage/OneDrive-BertelsmannSE&Co.KGaA/Masterarbeit/20_data/613845/ps2400dpi150lpi/NL_pit_text_10_11_EDG__23_ET_96_G_DE_LANGUAGEDOC_nl_NL.p2.4c.C.tif\n",
      "/Users/frederic.birwe/Library/CloudStorage/OneDrive-BertelsmannSE&Co.KGaA/Masterarbeit/20_data/613845/ps2400dpi150lpi/NL_pit_text_20_21_EDG__23_ET_96_G_DE_LANGUAGEDOC_nl_NL.p2.4c.M.tif\n",
      "/Users/frederic.birwe/Library/CloudStorage/OneDrive-BertelsmannSE&Co.KGaA/Masterarbeit/20_data/613845/ps2400dpi150lpi/NL_pit_text_86_87_EDG__23_ET_96_G_DE_LANGUAGEDOC_nl_NL.p2.4c.C.tif\n",
      "/Users/frederic.birwe/Library/CloudStorage/OneDrive-BertelsmannSE&Co.KGaA/Masterarbeit/20_data/613845/ps2400dpi150lpi/NL_pit_text_72_73_EDG__23_ET_96_G_DE_LANGUAGEDOC_nl_NL.p1.4c.M.tif\n",
      "/Users/frederic.birwe/Library/CloudStorage/OneDrive-BertelsmannSE&Co.KGaA/Masterarbeit/20_data/613845/ps2400dpi150lpi/NL_pit_text_08_09_EDG__23_ET_96_G_DE_LANGUAGEDOC_nl_NL.p1.4c.C.tif\n",
      "/Users/frederic.birwe/Library/CloudStorage/OneDrive-BertelsmannSE&Co.KGaA/Masterarbeit/20_data/613845/ps2400dpi150lpi/NL_pit_text_94_95_EDG__23_ET_96_G_DE_LANGUAGEDOC_nl_NL.p1.4c.Y.tif\n",
      "/Users/frederic.birwe/Library/CloudStorage/OneDrive-BertelsmannSE&Co.KGaA/Masterarbeit/20_data/613845/ps2400dpi150lpi/NL_pit_text_90_91_EDG__23_ET_96_G_DE_LANGUAGEDOC_nl_NL.p2.4c.M.tif\n",
      "/Users/frederic.birwe/Library/CloudStorage/OneDrive-BertelsmannSE&Co.KGaA/Masterarbeit/20_data/613845/ps2400dpi150lpi/NL_pit_text_76_77_EDG__23_ET_96_G_DE_LANGUAGEDOC_nl_NL.p2.4c.Y.tif\n",
      "/Users/frederic.birwe/Library/CloudStorage/OneDrive-BertelsmannSE&Co.KGaA/Masterarbeit/20_data/613845/ps2400dpi150lpi/NL_pit_text_88_89_EDG__23_ET_96_G_DE_LANGUAGEDOC_nl_NL.p1.4c.M.tif\n",
      "/Users/frederic.birwe/Library/CloudStorage/OneDrive-BertelsmannSE&Co.KGaA/Masterarbeit/20_data/613845/ps2400dpi150lpi/NL_pit_text_24_25_EDG__23_ET_96_G_DE_LANGUAGEDOC_nl_NL.p1.4c.Y.tif\n",
      "/Users/frederic.birwe/Library/CloudStorage/OneDrive-BertelsmannSE&Co.KGaA/Masterarbeit/20_data/613845/ps2400dpi150lpi/NL_pit_text_01_EDG__23_ET_96_G_DE_LANGUAGEDOC_nl_NL.p1.4c.C.tif\n",
      "/Users/frederic.birwe/Library/CloudStorage/OneDrive-BertelsmannSE&Co.KGaA/Masterarbeit/20_data/613845/ps2400dpi150lpi/NL_pit_text_06_07_EDG__23_ET_96_G_DE_LANGUAGEDOC_nl_NL.p2.4c.M.tif\n",
      "/Users/frederic.birwe/Library/CloudStorage/OneDrive-BertelsmannSE&Co.KGaA/Masterarbeit/20_data/613845/ps2400dpi150lpi/NL_pit_text_32_33_EDG__23_ET_96_G_DE_LANGUAGEDOC_nl_NL.p1.4c.C.tif\n",
      "/Users/frederic.birwe/Library/CloudStorage/OneDrive-BertelsmannSE&Co.KGaA/Masterarbeit/20_data/613845/ps2400dpi150lpi/NL_pit_text_02_03_EDG__23_ET_96_G_DE_LANGUAGEDOC_nl_NL.p1.4c.M.tif\n",
      "/Users/frederic.birwe/Library/CloudStorage/OneDrive-BertelsmannSE&Co.KGaA/Masterarbeit/20_data/613845/ps2400dpi150lpi/NL_pit_text_78_79_EDG__23_ET_96_G_DE_LANGUAGEDOC_nl_NL.p1.4c.C.tif\n",
      "/Users/frederic.birwe/Library/CloudStorage/OneDrive-BertelsmannSE&Co.KGaA/Masterarbeit/20_data/613845/ps2400dpi150lpi/NL_pit_text_20_21_EDG__23_ET_96_G_DE_LANGUAGEDOC_nl_NL.p2.4c.Y.tif\n",
      "/Users/frederic.birwe/Library/CloudStorage/OneDrive-BertelsmannSE&Co.KGaA/Masterarbeit/20_data/613845/ps2400dpi150lpi/NL_pit_text_96_EDG__23_ET_96_G_DE_LANGUAGEDOC_nl_NL.p1.4c.C.tif\n",
      "/Users/frederic.birwe/Library/CloudStorage/OneDrive-BertelsmannSE&Co.KGaA/Masterarbeit/20_data/613845/ps2400dpi150lpi/NL_pit_text_72_73_EDG__23_ET_96_G_DE_LANGUAGEDOC_nl_NL.p1.4c.Y.tif\n",
      "/Users/frederic.birwe/Library/CloudStorage/OneDrive-BertelsmannSE&Co.KGaA/Masterarbeit/20_data/613845/ps2400dpi150lpi/NL_pit_text_94_95_EDG__23_ET_96_G_DE_LANGUAGEDOC_nl_NL.p1.4c.M.tif\n",
      "/Users/frederic.birwe/Library/CloudStorage/OneDrive-BertelsmannSE&Co.KGaA/Masterarbeit/20_data/613845/ps2400dpi150lpi/NL_pit_text_04_05_EDG__23_ET_96_G_DE_LANGUAGEDOC_nl_NL.p1.4c.M.tif\n",
      "/Users/frederic.birwe/Library/CloudStorage/OneDrive-BertelsmannSE&Co.KGaA/Masterarbeit/20_data/613845/ps2400dpi150lpi/NL_pit_text_26_27_EDG__23_ET_96_G_DE_LANGUAGEDOC_nl_NL.p2.4c.Y.tif\n",
      "/Users/frederic.birwe/Library/CloudStorage/OneDrive-BertelsmannSE&Co.KGaA/Masterarbeit/20_data/613845/ps2400dpi150lpi/NL_pit_text_74_75_EDG__23_ET_96_G_DE_LANGUAGEDOC_nl_NL.p1.4c.Y.tif\n",
      "/Users/frederic.birwe/Library/CloudStorage/OneDrive-BertelsmannSE&Co.KGaA/Masterarbeit/20_data/613845/ps2400dpi150lpi/NL_pit_text_66_67_EDG__23_ET_96_G_DE_LANGUAGEDOC_nl_NL.p2.4c.C.tif\n",
      "/Users/frederic.birwe/Library/CloudStorage/OneDrive-BertelsmannSE&Co.KGaA/Masterarbeit/20_data/613845/ps2400dpi150lpi/NL_pit_text_92_93_EDG__23_ET_96_G_DE_LANGUAGEDOC_nl_NL.p1.4c.M.tif\n",
      "/Users/frederic.birwe/Library/CloudStorage/OneDrive-BertelsmannSE&Co.KGaA/Masterarbeit/20_data/613845/ps2400dpi150lpi/NL_pit_text_28_29_EDG__23_ET_96_G_DE_LANGUAGEDOC_nl_NL.p1.4c.C.tif\n",
      "/Users/frederic.birwe/Library/CloudStorage/OneDrive-BertelsmannSE&Co.KGaA/Masterarbeit/20_data/613845/ps2400dpi150lpi/NL_pit_text_18_19_EDG__23_ET_96_G_DE_LANGUAGEDOC_nl_NL.p1.4c.M.tif\n"
     ]
    },
    {
     "name": "stderr",
     "output_type": "stream",
     "text": [
      " 12%|████                               | 1330/11457 [00:02<00:19, 530.58it/s]"
     ]
    },
    {
     "name": "stdout",
     "output_type": "stream",
     "text": [
      "/Users/frederic.birwe/Library/CloudStorage/OneDrive-BertelsmannSE&Co.KGaA/Masterarbeit/20_data/613845/ps2400dpi150lpi/NL_pit_text_70_71_EDG__23_ET_96_G_DE_LANGUAGEDOC_nl_NL.p2.4c.Y.tif\n",
      "/Users/frederic.birwe/Library/CloudStorage/OneDrive-BertelsmannSE&Co.KGaA/Masterarbeit/20_data/613845/ps2400dpi150lpi/NL_pit_text_22_23_EDG__23_ET_96_G_DE_LANGUAGEDOC_nl_NL.p1.4c.Y.tif\n",
      "/Users/frederic.birwe/Library/CloudStorage/OneDrive-BertelsmannSE&Co.KGaA/Masterarbeit/20_data/613845/ps2400dpi150lpi/NL_pit_text_30_31_EDG__23_ET_96_G_DE_LANGUAGEDOC_nl_NL.p2.4c.C.tif\n",
      "/Users/frederic.birwe/Library/CloudStorage/OneDrive-BertelsmannSE&Co.KGaA/Masterarbeit/20_data/613845/ps2400dpi150lpi/NL_pit_text_68_69_EDG__23_ET_96_G_DE_LANGUAGEDOC_nl_NL.p1.4c.Y.tif\n",
      "/Users/frederic.birwe/Library/CloudStorage/OneDrive-BertelsmannSE&Co.KGaA/Masterarbeit/20_data/613845/ps2400dpi150lpi/NL_pit_text_04_05_EDG__23_ET_96_G_DE_LANGUAGEDOC_nl_NL.p1.4c.Y.tif\n",
      "/Users/frederic.birwe/Library/CloudStorage/OneDrive-BertelsmannSE&Co.KGaA/Masterarbeit/20_data/613845/ps2400dpi150lpi/NL_pit_text_16_17_EDG__23_ET_96_G_DE_LANGUAGEDOC_nl_NL.p2.4c.C.tif\n",
      "/Users/frederic.birwe/Library/CloudStorage/OneDrive-BertelsmannSE&Co.KGaA/Masterarbeit/20_data/613845/ps2400dpi150lpi/NL_pit_text_26_27_EDG__23_ET_96_G_DE_LANGUAGEDOC_nl_NL.p2.4c.M.tif\n",
      "/Users/frederic.birwe/Library/CloudStorage/OneDrive-BertelsmannSE&Co.KGaA/Masterarbeit/20_data/613845/ps2400dpi150lpi/NL_pit_text_80_81_EDG__23_ET_96_G_DE_LANGUAGEDOC_nl_NL.p2.4c.C.tif\n",
      "/Users/frederic.birwe/Library/CloudStorage/OneDrive-BertelsmannSE&Co.KGaA/Masterarbeit/20_data/613845/ps2400dpi150lpi/NL_pit_text_74_75_EDG__23_ET_96_G_DE_LANGUAGEDOC_nl_NL.p1.4c.M.tif\n",
      "/Users/frederic.birwe/Library/CloudStorage/OneDrive-BertelsmannSE&Co.KGaA/Masterarbeit/20_data/613845/ps2400dpi150lpi/NL_pit_text_92_93_EDG__23_ET_96_G_DE_LANGUAGEDOC_nl_NL.p1.4c.Y.tif\n",
      "/Users/frederic.birwe/Library/CloudStorage/OneDrive-BertelsmannSE&Co.KGaA/Masterarbeit/20_data/613845/ps2400dpi150lpi/NL_pit_text_18_19_EDG__23_ET_96_G_DE_LANGUAGEDOC_nl_NL.p1.4c.Y.tif\n",
      "/Users/frederic.birwe/Library/CloudStorage/OneDrive-BertelsmannSE&Co.KGaA/Masterarbeit/20_data/613845/ps2400dpi150lpi/NL_pit_text_84_85_EDG__23_ET_96_G_DE_LANGUAGEDOC_nl_NL.p1.4c.C.tif\n",
      "/Users/frederic.birwe/Library/CloudStorage/OneDrive-BertelsmannSE&Co.KGaA/Masterarbeit/20_data/613845/ps2400dpi150lpi/NL_pit_text_70_71_EDG__23_ET_96_G_DE_LANGUAGEDOC_nl_NL.p2.4c.M.tif\n",
      "/Users/frederic.birwe/Library/CloudStorage/OneDrive-BertelsmannSE&Co.KGaA/Masterarbeit/20_data/613845/ps2400dpi150lpi/NL_pit_text_12_13_EDG__23_ET_96_G_DE_LANGUAGEDOC_nl_NL.p1.4c.C.tif\n",
      "/Users/frederic.birwe/Library/CloudStorage/OneDrive-BertelsmannSE&Co.KGaA/Masterarbeit/20_data/613845/ps2400dpi150lpi/NL_pit_text_22_23_EDG__23_ET_96_G_DE_LANGUAGEDOC_nl_NL.p1.4c.M.tif\n",
      "/Users/frederic.birwe/Library/CloudStorage/OneDrive-BertelsmannSE&Co.KGaA/Masterarbeit/20_data/613845/ps2400dpi150lpi/NL_pit_text_68_69_EDG__23_ET_96_G_DE_LANGUAGEDOC_nl_NL.p1.4c.M.tif\n",
      "/Users/frederic.birwe/Library/CloudStorage/OneDrive-BertelsmannSE&Co.KGaA/Masterarbeit/20_data/613845/ps2400dpi150lpi/NL_pit_text_30_31_EDG__23_ET_96_G_DE_LANGUAGEDOC_nl_NL.p2.4c.M.tif\n",
      "/Users/frederic.birwe/Library/CloudStorage/OneDrive-BertelsmannSE&Co.KGaA/Masterarbeit/20_data/613845/ps2400dpi150lpi/NL_pit_text_12_13_EDG__23_ET_96_G_DE_LANGUAGEDOC_nl_NL.p1.4c.Y.tif\n",
      "/Users/frederic.birwe/Library/CloudStorage/OneDrive-BertelsmannSE&Co.KGaA/Masterarbeit/20_data/613845/ps2400dpi150lpi/NL_pit_text_18_19_EDG__23_ET_96_G_DE_LANGUAGEDOC_nl_NL.p1.4c.C.tif\n",
      "/Users/frederic.birwe/Library/CloudStorage/OneDrive-BertelsmannSE&Co.KGaA/Masterarbeit/20_data/613845/ps2400dpi150lpi/NL_pit_text_28_29_EDG__23_ET_96_G_DE_LANGUAGEDOC_nl_NL.p1.4c.M.tif\n",
      "/Users/frederic.birwe/Library/CloudStorage/OneDrive-BertelsmannSE&Co.KGaA/Masterarbeit/20_data/613845/ps2400dpi150lpi/NL_pit_text_84_85_EDG__23_ET_96_G_DE_LANGUAGEDOC_nl_NL.p1.4c.Y.tif\n",
      "/Users/frederic.birwe/Library/CloudStorage/OneDrive-BertelsmannSE&Co.KGaA/Masterarbeit/20_data/613845/ps2400dpi150lpi/NL_pit_text_92_93_EDG__23_ET_96_G_DE_LANGUAGEDOC_nl_NL.p1.4c.C.tif\n",
      "/Users/frederic.birwe/Library/CloudStorage/OneDrive-BertelsmannSE&Co.KGaA/Masterarbeit/20_data/613845/ps2400dpi150lpi/NL_pit_text_66_67_EDG__23_ET_96_G_DE_LANGUAGEDOC_nl_NL.p2.4c.M.tif\n",
      "/Users/frederic.birwe/Library/CloudStorage/OneDrive-BertelsmannSE&Co.KGaA/Masterarbeit/20_data/613845/ps2400dpi150lpi/NL_pit_text_80_81_EDG__23_ET_96_G_DE_LANGUAGEDOC_nl_NL.p2.4c.Y.tif\n",
      "/Users/frederic.birwe/Library/CloudStorage/OneDrive-BertelsmannSE&Co.KGaA/Masterarbeit/20_data/613845/ps2400dpi150lpi/NL_pit_text_16_17_EDG__23_ET_96_G_DE_LANGUAGEDOC_nl_NL.p2.4c.Y.tif\n",
      "/Users/frederic.birwe/Library/CloudStorage/OneDrive-BertelsmannSE&Co.KGaA/Masterarbeit/20_data/613845/ps2400dpi150lpi/NL_pit_text_04_05_EDG__23_ET_96_G_DE_LANGUAGEDOC_nl_NL.p1.4c.C.tif\n"
     ]
    },
    {
     "name": "stderr",
     "output_type": "stream",
     "text": [
      " 13%|████▍                              | 1439/11457 [00:03<00:19, 522.76it/s]"
     ]
    },
    {
     "name": "stdout",
     "output_type": "stream",
     "text": [
      "/Users/frederic.birwe/Library/CloudStorage/OneDrive-BertelsmannSE&Co.KGaA/Masterarbeit/20_data/613845/ps2400dpi150lpi/NL_pit_text_68_69_EDG__23_ET_96_G_DE_LANGUAGEDOC_nl_NL.p1.4c.C.tif\n",
      "/Users/frederic.birwe/Library/CloudStorage/OneDrive-BertelsmannSE&Co.KGaA/Masterarbeit/20_data/613845/ps2400dpi150lpi/NL_pit_text_30_31_EDG__23_ET_96_G_DE_LANGUAGEDOC_nl_NL.p2.4c.Y.tif\n",
      "/Users/frederic.birwe/Library/CloudStorage/OneDrive-BertelsmannSE&Co.KGaA/Masterarbeit/20_data/613845/ps2400dpi150lpi/NL_pit_text_22_23_EDG__23_ET_96_G_DE_LANGUAGEDOC_nl_NL.p1.4c.C.tif\n",
      "/Users/frederic.birwe/Library/CloudStorage/OneDrive-BertelsmannSE&Co.KGaA/Masterarbeit/20_data/613845/ps2400dpi150lpi/NL_pit_text_12_13_EDG__23_ET_96_G_DE_LANGUAGEDOC_nl_NL.p1.4c.M.tif\n",
      "/Users/frederic.birwe/Library/CloudStorage/OneDrive-BertelsmannSE&Co.KGaA/Masterarbeit/20_data/613845/ps2400dpi150lpi/NL_pit_text_70_71_EDG__23_ET_96_G_DE_LANGUAGEDOC_nl_NL.p2.4c.C.tif\n",
      "/Users/frederic.birwe/Library/CloudStorage/OneDrive-BertelsmannSE&Co.KGaA/Masterarbeit/20_data/613845/ps2400dpi150lpi/NL_pit_text_84_85_EDG__23_ET_96_G_DE_LANGUAGEDOC_nl_NL.p1.4c.M.tif\n",
      "/Users/frederic.birwe/Library/CloudStorage/OneDrive-BertelsmannSE&Co.KGaA/Masterarbeit/20_data/613845/ps2400dpi150lpi/NL_pit_text_28_29_EDG__23_ET_96_G_DE_LANGUAGEDOC_nl_NL.p1.4c.Y.tif\n",
      "/Users/frederic.birwe/Library/CloudStorage/OneDrive-BertelsmannSE&Co.KGaA/Masterarbeit/20_data/613845/ps2400dpi150lpi/NL_pit_text_66_67_EDG__23_ET_96_G_DE_LANGUAGEDOC_nl_NL.p2.4c.Y.tif\n",
      "/Users/frederic.birwe/Library/CloudStorage/OneDrive-BertelsmannSE&Co.KGaA/Masterarbeit/20_data/613845/ps2400dpi150lpi/NL_pit_text_74_75_EDG__23_ET_96_G_DE_LANGUAGEDOC_nl_NL.p1.4c.C.tif\n",
      "/Users/frederic.birwe/Library/CloudStorage/OneDrive-BertelsmannSE&Co.KGaA/Masterarbeit/20_data/613845/ps2400dpi150lpi/NL_pit_text_80_81_EDG__23_ET_96_G_DE_LANGUAGEDOC_nl_NL.p2.4c.M.tif\n",
      "/Users/frederic.birwe/Library/CloudStorage/OneDrive-BertelsmannSE&Co.KGaA/Masterarbeit/20_data/613845/ps2400dpi150lpi/NL_pit_text_26_27_EDG__23_ET_96_G_DE_LANGUAGEDOC_nl_NL.p2.4c.C.tif\n",
      "/Users/frederic.birwe/Library/CloudStorage/OneDrive-BertelsmannSE&Co.KGaA/Masterarbeit/20_data/613845/ps2400dpi150lpi/NL_pit_text_16_17_EDG__23_ET_96_G_DE_LANGUAGEDOC_nl_NL.p2.4c.M.tif\n",
      "/Users/frederic.birwe/Library/CloudStorage/OneDrive-BertelsmannSE&Co.KGaA/Masterarbeit/20_data/613845/ps2400dpi150lpi/NL_pit_text_08_09_EDG__23_ET_96_G_DE_LANGUAGEDOC_nl_NL.p1.4c.M.tif\n",
      "/Users/frederic.birwe/Library/CloudStorage/OneDrive-BertelsmannSE&Co.KGaA/Masterarbeit/20_data/613845/ps2400dpi150lpi/NL_pit_text_96_EDG__23_ET_96_G_DE_LANGUAGEDOC_nl_NL.p1.4c.Y.tif\n",
      "/Users/frederic.birwe/Library/CloudStorage/OneDrive-BertelsmannSE&Co.KGaA/Masterarbeit/20_data/613845/ps2400dpi150lpi/NL_pit_text_72_73_EDG__23_ET_96_G_DE_LANGUAGEDOC_nl_NL.p1.4c.C.tif\n",
      "/Users/frederic.birwe/Library/CloudStorage/OneDrive-BertelsmannSE&Co.KGaA/Masterarbeit/20_data/613845/ps2400dpi150lpi/NL_pit_text_86_87_EDG__23_ET_96_G_DE_LANGUAGEDOC_nl_NL.p2.4c.M.tif\n",
      "/Users/frederic.birwe/Library/CloudStorage/OneDrive-BertelsmannSE&Co.KGaA/Masterarbeit/20_data/613845/ps2400dpi150lpi/NL_pit_text_20_21_EDG__23_ET_96_G_DE_LANGUAGEDOC_nl_NL.p2.4c.C.tif\n",
      "/Users/frederic.birwe/Library/CloudStorage/OneDrive-BertelsmannSE&Co.KGaA/Masterarbeit/20_data/613845/ps2400dpi150lpi/NL_pit_text_10_11_EDG__23_ET_96_G_DE_LANGUAGEDOC_nl_NL.p2.4c.M.tif\n",
      "/Users/frederic.birwe/Library/CloudStorage/OneDrive-BertelsmannSE&Co.KGaA/Masterarbeit/20_data/613845/ps2400dpi150lpi/NL_pit_text_78_79_EDG__23_ET_96_G_DE_LANGUAGEDOC_nl_NL.p1.4c.Y.tif\n",
      "/Users/frederic.birwe/Library/CloudStorage/OneDrive-BertelsmannSE&Co.KGaA/Masterarbeit/20_data/613845/ps2400dpi150lpi/NL_pit_text_32_33_EDG__23_ET_96_G_DE_LANGUAGEDOC_nl_NL.p1.4c.Y.tif\n",
      "/Users/frederic.birwe/Library/CloudStorage/OneDrive-BertelsmannSE&Co.KGaA/Masterarbeit/20_data/613845/ps2400dpi150lpi/NL_pit_text_01_EDG__23_ET_96_G_DE_LANGUAGEDOC_nl_NL.p1.4c.Y.tif\n",
      "/Users/frederic.birwe/Library/CloudStorage/OneDrive-BertelsmannSE&Co.KGaA/Masterarbeit/20_data/613845/ps2400dpi150lpi/NL_pit_text_24_25_EDG__23_ET_96_G_DE_LANGUAGEDOC_nl_NL.p1.4c.C.tif\n",
      "/Users/frederic.birwe/Library/CloudStorage/OneDrive-BertelsmannSE&Co.KGaA/Masterarbeit/20_data/613845/ps2400dpi150lpi/NL_pit_text_14_15_EDG__23_ET_96_G_DE_LANGUAGEDOC_nl_NL.p1.4c.M.tif\n",
      "/Users/frederic.birwe/Library/CloudStorage/OneDrive-BertelsmannSE&Co.KGaA/Masterarbeit/20_data/613845/ps2400dpi150lpi/NL_pit_text_76_77_EDG__23_ET_96_G_DE_LANGUAGEDOC_nl_NL.p2.4c.C.tif\n",
      "/Users/frederic.birwe/Library/CloudStorage/OneDrive-BertelsmannSE&Co.KGaA/Masterarbeit/20_data/613845/ps2400dpi150lpi/NL_pit_text_82_83_EDG__23_ET_96_G_DE_LANGUAGEDOC_nl_NL.p1.4c.M.tif\n",
      "/Users/frederic.birwe/Library/CloudStorage/OneDrive-BertelsmannSE&Co.KGaA/Masterarbeit/20_data/613845/ps2400dpi150lpi/NL_pit_text_08_09_EDG__23_ET_96_G_DE_LANGUAGEDOC_nl_NL.p1.4c.Y.tif\n",
      "/Users/frederic.birwe/Library/CloudStorage/OneDrive-BertelsmannSE&Co.KGaA/Masterarbeit/20_data/613845/ps2400dpi150lpi/NL_pit_text_94_95_EDG__23_ET_96_G_DE_LANGUAGEDOC_nl_NL.p1.4c.C.tif\n",
      "/Users/frederic.birwe/Library/CloudStorage/OneDrive-BertelsmannSE&Co.KGaA/Masterarbeit/20_data/613845/ps2400dpi150lpi/NL_pit_text_96_EDG__23_ET_96_G_DE_LANGUAGEDOC_nl_NL.p1.4c.M.tif\n",
      "/Users/frederic.birwe/Library/CloudStorage/OneDrive-BertelsmannSE&Co.KGaA/Masterarbeit/20_data/613845/ps2400dpi150lpi/NL_pit_text_86_87_EDG__23_ET_96_G_DE_LANGUAGEDOC_nl_NL.p2.4c.Y.tif\n",
      "/Users/frederic.birwe/Library/CloudStorage/OneDrive-BertelsmannSE&Co.KGaA/Masterarbeit/20_data/613845/ps2400dpi150lpi/NL_pit_text_10_11_EDG__23_ET_96_G_DE_LANGUAGEDOC_nl_NL.p2.4c.Y.tif\n",
      "/Users/frederic.birwe/Library/CloudStorage/OneDrive-BertelsmannSE&Co.KGaA/Masterarbeit/20_data/613845/ps2400dpi150lpi/NL_pit_text_78_79_EDG__23_ET_96_G_DE_LANGUAGEDOC_nl_NL.p1.4c.M.tif\n",
      "/Users/frederic.birwe/Library/CloudStorage/OneDrive-BertelsmannSE&Co.KGaA/Masterarbeit/20_data/613845/ps2400dpi150lpi/NL_pit_text_02_03_EDG__23_ET_96_G_DE_LANGUAGEDOC_nl_NL.p1.4c.C.tif\n",
      "/Users/frederic.birwe/Library/CloudStorage/OneDrive-BertelsmannSE&Co.KGaA/Masterarbeit/20_data/613845/ps2400dpi150lpi/NL_pit_text_32_33_EDG__23_ET_96_G_DE_LANGUAGEDOC_nl_NL.p1.4c.M.tif\n"
     ]
    },
    {
     "name": "stderr",
     "output_type": "stream",
     "text": [
      " 14%|████▋                              | 1552/11457 [00:03<00:19, 505.46it/s]"
     ]
    },
    {
     "name": "stdout",
     "output_type": "stream",
     "text": [
      "/Users/frederic.birwe/Library/CloudStorage/OneDrive-BertelsmannSE&Co.KGaA/Masterarbeit/20_data/613845/ps2400dpi150lpi/NL_pit_text_06_07_EDG__23_ET_96_G_DE_LANGUAGEDOC_nl_NL.p2.4c.C.tif\n",
      "/Users/frederic.birwe/Library/CloudStorage/OneDrive-BertelsmannSE&Co.KGaA/Masterarbeit/20_data/613845/ps2400dpi150lpi/NL_pit_text_01_EDG__23_ET_96_G_DE_LANGUAGEDOC_nl_NL.p1.4c.M.tif\n",
      "/Users/frederic.birwe/Library/CloudStorage/OneDrive-BertelsmannSE&Co.KGaA/Masterarbeit/20_data/613845/ps2400dpi150lpi/NL_pit_text_14_15_EDG__23_ET_96_G_DE_LANGUAGEDOC_nl_NL.p1.4c.Y.tif\n",
      "/Users/frederic.birwe/Library/CloudStorage/OneDrive-BertelsmannSE&Co.KGaA/Masterarbeit/20_data/613845/ps2400dpi150lpi/NL_pit_text_88_89_EDG__23_ET_96_G_DE_LANGUAGEDOC_nl_NL.p1.4c.C.tif\n",
      "/Users/frederic.birwe/Library/CloudStorage/OneDrive-BertelsmannSE&Co.KGaA/Masterarbeit/20_data/613845/ps2400dpi150lpi/NL_pit_text_82_83_EDG__23_ET_96_G_DE_LANGUAGEDOC_nl_NL.p1.4c.Y.tif\n",
      "/Users/frederic.birwe/Library/CloudStorage/OneDrive-BertelsmannSE&Co.KGaA/Masterarbeit/20_data/613845/ps2400dpi150lpi/NL_pit_text_90_91_EDG__23_ET_96_G_DE_LANGUAGEDOC_nl_NL.p2.4c.C.tif\n",
      "/Users/frederic.birwe/Library/CloudStorage/OneDrive-BertelsmannSE&Co.KGaA/Masterarbeit/20_data/613845/ps2400dpi150lpi/NL_pit_text_04_05_EDG__23_ET_96_G_DE_LANGUAGEDOC_nl_NL.p2.4c.Y.tif\n",
      "/Users/frederic.birwe/Library/CloudStorage/OneDrive-BertelsmannSE&Co.KGaA/Masterarbeit/20_data/613845/ps2400dpi150lpi/NL_pit_text_16_17_EDG__23_ET_96_G_DE_LANGUAGEDOC_nl_NL.p1.4c.C.tif\n",
      "/Users/frederic.birwe/Library/CloudStorage/OneDrive-BertelsmannSE&Co.KGaA/Masterarbeit/20_data/613845/ps2400dpi150lpi/NL_pit_text_26_27_EDG__23_ET_96_G_DE_LANGUAGEDOC_nl_NL.p1.4c.M.tif\n",
      "/Users/frederic.birwe/Library/CloudStorage/OneDrive-BertelsmannSE&Co.KGaA/Masterarbeit/20_data/613845/ps2400dpi150lpi/NL_pit_text_74_75_EDG__23_ET_96_G_DE_LANGUAGEDOC_nl_NL.p2.4c.M.tif\n",
      "/Users/frederic.birwe/Library/CloudStorage/OneDrive-BertelsmannSE&Co.KGaA/Masterarbeit/20_data/613845/ps2400dpi150lpi/NL_pit_text_80_81_EDG__23_ET_96_G_DE_LANGUAGEDOC_nl_NL.p1.4c.C.tif\n",
      "/Users/frederic.birwe/Library/CloudStorage/OneDrive-BertelsmannSE&Co.KGaA/Masterarbeit/20_data/613845/ps2400dpi150lpi/NL_pit_text_92_93_EDG__23_ET_96_G_DE_LANGUAGEDOC_nl_NL.p2.4c.Y.tif\n",
      "/Users/frederic.birwe/Library/CloudStorage/OneDrive-BertelsmannSE&Co.KGaA/Masterarbeit/20_data/613845/ps2400dpi150lpi/NL_pit_text_70_71_EDG__23_ET_96_G_DE_LANGUAGEDOC_nl_NL.p1.4c.M.tif\n",
      "/Users/frederic.birwe/Library/CloudStorage/OneDrive-BertelsmannSE&Co.KGaA/Masterarbeit/20_data/613845/ps2400dpi150lpi/NL_pit_text_18_19_EDG__23_ET_96_G_DE_LANGUAGEDOC_nl_NL.p2.4c.Y.tif\n",
      "/Users/frederic.birwe/Library/CloudStorage/OneDrive-BertelsmannSE&Co.KGaA/Masterarbeit/20_data/613845/ps2400dpi150lpi/NL_pit_text_84_85_EDG__23_ET_96_G_DE_LANGUAGEDOC_nl_NL.p2.4c.C.tif\n",
      "/Users/frederic.birwe/Library/CloudStorage/OneDrive-BertelsmannSE&Co.KGaA/Masterarbeit/20_data/613845/ps2400dpi150lpi/NL_pit_text_12_13_EDG__23_ET_96_G_DE_LANGUAGEDOC_nl_NL.p2.4c.C.tif\n",
      "/Users/frederic.birwe/Library/CloudStorage/OneDrive-BertelsmannSE&Co.KGaA/Masterarbeit/20_data/613845/ps2400dpi150lpi/NL_pit_text_22_23_EDG__23_ET_96_G_DE_LANGUAGEDOC_nl_NL.p2.4c.M.tif\n",
      "/Users/frederic.birwe/Library/CloudStorage/OneDrive-BertelsmannSE&Co.KGaA/Masterarbeit/20_data/613845/ps2400dpi150lpi/NL_pit_text_68_69_EDG__23_ET_96_G_DE_LANGUAGEDOC_nl_NL.p2.4c.M.tif\n",
      "/Users/frederic.birwe/Library/CloudStorage/OneDrive-BertelsmannSE&Co.KGaA/Masterarbeit/20_data/613845/ps2400dpi150lpi/NL_pit_text_04_05_EDG__23_ET_96_G_DE_LANGUAGEDOC_nl_NL.p2.4c.M.tif\n",
      "/Users/frederic.birwe/Library/CloudStorage/OneDrive-BertelsmannSE&Co.KGaA/Masterarbeit/20_data/613845/ps2400dpi150lpi/NL_pit_text_26_27_EDG__23_ET_96_G_DE_LANGUAGEDOC_nl_NL.p1.4c.Y.tif\n",
      "/Users/frederic.birwe/Library/CloudStorage/OneDrive-BertelsmannSE&Co.KGaA/Masterarbeit/20_data/613845/ps2400dpi150lpi/NL_pit_text_74_75_EDG__23_ET_96_G_DE_LANGUAGEDOC_nl_NL.p2.4c.Y.tif\n",
      "/Users/frederic.birwe/Library/CloudStorage/OneDrive-BertelsmannSE&Co.KGaA/Masterarbeit/20_data/613845/ps2400dpi150lpi/NL_pit_text_92_93_EDG__23_ET_96_G_DE_LANGUAGEDOC_nl_NL.p2.4c.M.tif\n",
      "/Users/frederic.birwe/Library/CloudStorage/OneDrive-BertelsmannSE&Co.KGaA/Masterarbeit/20_data/613845/ps2400dpi150lpi/NL_pit_text_66_67_EDG__23_ET_96_G_DE_LANGUAGEDOC_nl_NL.p1.4c.C.tif\n"
     ]
    },
    {
     "name": "stderr",
     "output_type": "stream",
     "text": [
      " 15%|█████                              | 1667/11457 [00:03<00:18, 539.95it/s]"
     ]
    },
    {
     "name": "stdout",
     "output_type": "stream",
     "text": [
      "/Users/frederic.birwe/Library/CloudStorage/OneDrive-BertelsmannSE&Co.KGaA/Masterarbeit/20_data/613845/ps2400dpi150lpi/NL_pit_text_70_71_EDG__23_ET_96_G_DE_LANGUAGEDOC_nl_NL.p1.4c.Y.tif\n",
      "/Users/frederic.birwe/Library/CloudStorage/OneDrive-BertelsmannSE&Co.KGaA/Masterarbeit/20_data/613845/ps2400dpi150lpi/NL_pit_text_28_29_EDG__23_ET_96_G_DE_LANGUAGEDOC_nl_NL.p2.4c.C.tif\n",
      "/Users/frederic.birwe/Library/CloudStorage/OneDrive-BertelsmannSE&Co.KGaA/Masterarbeit/20_data/613845/ps2400dpi150lpi/NL_pit_text_18_19_EDG__23_ET_96_G_DE_LANGUAGEDOC_nl_NL.p2.4c.M.tif\n",
      "/Users/frederic.birwe/Library/CloudStorage/OneDrive-BertelsmannSE&Co.KGaA/Masterarbeit/20_data/613845/ps2400dpi150lpi/NL_pit_text_22_23_EDG__23_ET_96_G_DE_LANGUAGEDOC_nl_NL.p2.4c.Y.tif\n",
      "/Users/frederic.birwe/Library/CloudStorage/OneDrive-BertelsmannSE&Co.KGaA/Masterarbeit/20_data/613845/ps2400dpi150lpi/NL_pit_text_68_69_EDG__23_ET_96_G_DE_LANGUAGEDOC_nl_NL.p2.4c.Y.tif\n",
      "/Users/frederic.birwe/Library/CloudStorage/OneDrive-BertelsmannSE&Co.KGaA/Masterarbeit/20_data/613845/ps2400dpi150lpi/NL_pit_text_30_31_EDG__23_ET_96_G_DE_LANGUAGEDOC_nl_NL.p1.4c.C.tif\n",
      "/Users/frederic.birwe/Library/CloudStorage/OneDrive-BertelsmannSE&Co.KGaA/Masterarbeit/20_data/613845/ps2400dpi150lpi/NL_pit_text_90_91_EDG__23_ET_96_G_DE_LANGUAGEDOC_nl_NL.p1.4c.M.tif\n",
      "/Users/frederic.birwe/Library/CloudStorage/OneDrive-BertelsmannSE&Co.KGaA/Masterarbeit/20_data/613845/ps2400dpi150lpi/NL_pit_text_64_65_EDG__23_ET_96_G_DE_LANGUAGEDOC_nl_NL.p2.4c.C.tif\n",
      "/Users/frederic.birwe/Library/CloudStorage/OneDrive-BertelsmannSE&Co.KGaA/Masterarbeit/20_data/613845/ps2400dpi150lpi/NL_pit_text_76_77_EDG__23_ET_96_G_DE_LANGUAGEDOC_nl_NL.p1.4c.Y.tif\n",
      "/Users/frederic.birwe/Library/CloudStorage/OneDrive-BertelsmannSE&Co.KGaA/Masterarbeit/20_data/613845/ps2400dpi150lpi/NL_pit_text_24_25_EDG__23_ET_96_G_DE_LANGUAGEDOC_nl_NL.p2.4c.Y.tif\n",
      "/Users/frederic.birwe/Library/CloudStorage/OneDrive-BertelsmannSE&Co.KGaA/Masterarbeit/20_data/613845/ps2400dpi150lpi/NL_pit_text_88_89_EDG__23_ET_96_G_DE_LANGUAGEDOC_nl_NL.p2.4c.M.tif\n",
      "/Users/frederic.birwe/Library/CloudStorage/OneDrive-BertelsmannSE&Co.KGaA/Masterarbeit/20_data/613845/ps2400dpi150lpi/NL_pit_text_06_07_EDG__23_ET_96_G_DE_LANGUAGEDOC_nl_NL.p1.4c.M.tif\n",
      "/Users/frederic.birwe/Library/CloudStorage/OneDrive-BertelsmannSE&Co.KGaA/Masterarbeit/20_data/613845/ps2400dpi150lpi/NL_pit_text_02_03_EDG__23_ET_96_G_DE_LANGUAGEDOC_nl_NL.p2.4c.M.tif\n",
      "/Users/frederic.birwe/Library/CloudStorage/OneDrive-BertelsmannSE&Co.KGaA/Masterarbeit/20_data/613845/ps2400dpi150lpi/NL_pit_text_20_21_EDG__23_ET_96_G_DE_LANGUAGEDOC_nl_NL.p1.4c.Y.tif\n",
      "/Users/frederic.birwe/Library/CloudStorage/OneDrive-BertelsmannSE&Co.KGaA/Masterarbeit/20_data/613845/ps2400dpi150lpi/NL_pit_text_78_79_EDG__23_ET_96_G_DE_LANGUAGEDOC_nl_NL.p2.4c.C.tif\n",
      "/Users/frederic.birwe/Library/CloudStorage/OneDrive-BertelsmannSE&Co.KGaA/Masterarbeit/20_data/613845/ps2400dpi150lpi/NL_pit_text_72_73_EDG__23_ET_96_G_DE_LANGUAGEDOC_nl_NL.p2.4c.Y.tif\n",
      "/Users/frederic.birwe/Library/CloudStorage/OneDrive-BertelsmannSE&Co.KGaA/Masterarbeit/20_data/613845/ps2400dpi150lpi/NL_pit_text_94_95_EDG__23_ET_96_G_DE_LANGUAGEDOC_nl_NL.p2.4c.M.tif\n",
      "/Users/frederic.birwe/Library/CloudStorage/OneDrive-BertelsmannSE&Co.KGaA/Masterarbeit/20_data/613845/ps2400dpi150lpi/NL_pit_text_90_91_EDG__23_ET_96_G_DE_LANGUAGEDOC_nl_NL.p1.4c.Y.tif\n",
      "/Users/frederic.birwe/Library/CloudStorage/OneDrive-BertelsmannSE&Co.KGaA/Masterarbeit/20_data/613845/ps2400dpi150lpi/NL_pit_text_76_77_EDG__23_ET_96_G_DE_LANGUAGEDOC_nl_NL.p1.4c.M.tif\n",
      "/Users/frederic.birwe/Library/CloudStorage/OneDrive-BertelsmannSE&Co.KGaA/Masterarbeit/20_data/613845/ps2400dpi150lpi/NL_pit_text_82_83_EDG__23_ET_96_G_DE_LANGUAGEDOC_nl_NL.p2.4c.C.tif\n",
      "/Users/frederic.birwe/Library/CloudStorage/OneDrive-BertelsmannSE&Co.KGaA/Masterarbeit/20_data/613845/ps2400dpi150lpi/NL_pit_text_14_15_EDG__23_ET_96_G_DE_LANGUAGEDOC_nl_NL.p2.4c.C.tif\n",
      "/Users/frederic.birwe/Library/CloudStorage/OneDrive-BertelsmannSE&Co.KGaA/Masterarbeit/20_data/613845/ps2400dpi150lpi/NL_pit_text_88_89_EDG__23_ET_96_G_DE_LANGUAGEDOC_nl_NL.p2.4c.Y.tif\n",
      "/Users/frederic.birwe/Library/CloudStorage/OneDrive-BertelsmannSE&Co.KGaA/Masterarbeit/20_data/613845/ps2400dpi150lpi/NL_pit_text_24_25_EDG__23_ET_96_G_DE_LANGUAGEDOC_nl_NL.p2.4c.M.tif\n",
      "/Users/frederic.birwe/Library/CloudStorage/OneDrive-BertelsmannSE&Co.KGaA/Masterarbeit/20_data/613845/ps2400dpi150lpi/NL_pit_text_06_07_EDG__23_ET_96_G_DE_LANGUAGEDOC_nl_NL.p1.4c.Y.tif\n",
      "/Users/frederic.birwe/Library/CloudStorage/OneDrive-BertelsmannSE&Co.KGaA/Masterarbeit/20_data/613845/ps2400dpi150lpi/NL_pit_text_02_03_EDG__23_ET_96_G_DE_LANGUAGEDOC_nl_NL.p2.4c.Y.tif\n",
      "/Users/frederic.birwe/Library/CloudStorage/OneDrive-BertelsmannSE&Co.KGaA/Masterarbeit/20_data/613845/ps2400dpi150lpi/NL_pit_text_10_11_EDG__23_ET_96_G_DE_LANGUAGEDOC_nl_NL.p1.4c.C.tif\n",
      "/Users/frederic.birwe/Library/CloudStorage/OneDrive-BertelsmannSE&Co.KGaA/Masterarbeit/20_data/613845/ps2400dpi150lpi/NL_pit_text_20_21_EDG__23_ET_96_G_DE_LANGUAGEDOC_nl_NL.p1.4c.M.tif\n",
      "/Users/frederic.birwe/Library/CloudStorage/OneDrive-BertelsmannSE&Co.KGaA/Masterarbeit/20_data/613845/ps2400dpi150lpi/NL_pit_text_72_73_EDG__23_ET_96_G_DE_LANGUAGEDOC_nl_NL.p2.4c.M.tif\n",
      "/Users/frederic.birwe/Library/CloudStorage/OneDrive-BertelsmannSE&Co.KGaA/Masterarbeit/20_data/613845/ps2400dpi150lpi/NL_pit_text_86_87_EDG__23_ET_96_G_DE_LANGUAGEDOC_nl_NL.p1.4c.C.tif\n"
     ]
    },
    {
     "name": "stderr",
     "output_type": "stream",
     "text": [
      " 15%|█████▎                             | 1722/11457 [00:03<00:17, 542.68it/s]"
     ]
    },
    {
     "name": "stdout",
     "output_type": "stream",
     "text": [
      "/Users/frederic.birwe/Library/CloudStorage/OneDrive-BertelsmannSE&Co.KGaA/Masterarbeit/20_data/613845/ps2400dpi150lpi/NL_pit_text_08_09_EDG__23_ET_96_G_DE_LANGUAGEDOC_nl_NL.p2.4c.C.tif\n",
      "/Users/frederic.birwe/Library/CloudStorage/OneDrive-BertelsmannSE&Co.KGaA/Masterarbeit/20_data/613845/ps2400dpi150lpi/NL_pit_text_94_95_EDG__23_ET_96_G_DE_LANGUAGEDOC_nl_NL.p2.4c.Y.tif\n",
      "/Users/frederic.birwe/Library/CloudStorage/OneDrive-BertelsmannSE&Co.KGaA/Masterarbeit/20_data/613476/ps2400dpi150lpi/693102_Top_03_BK_FS23_026_027_BFL_MM.p2.4c.Y.tif\n",
      "/Users/frederic.birwe/Library/CloudStorage/OneDrive-BertelsmannSE&Co.KGaA/Masterarbeit/20_data/613476/ps2400dpi150lpi/693102_Top_03_BK_FS23_084_085_BFL_MM.p1.4c.C.tif\n",
      "/Users/frederic.birwe/Library/CloudStorage/OneDrive-BertelsmannSE&Co.KGaA/Masterarbeit/20_data/613476/ps2400dpi150lpi/693102_Top_03_BK_FS23_076_077_BFL_MM.p1.4c.Y.tif\n",
      "/Users/frederic.birwe/Library/CloudStorage/OneDrive-BertelsmannSE&Co.KGaA/Masterarbeit/20_data/613476/ps2400dpi150lpi/693102_Top_03_BK_FS23_094_095_BFL_MM.p2.4c.C.tif\n",
      "/Users/frederic.birwe/Library/CloudStorage/OneDrive-BertelsmannSE&Co.KGaA/Masterarbeit/20_data/613476/ps2400dpi150lpi/693102_Top_03_BK_FS23_066_067_BFL_MM.p2.4c.Y.tif\n",
      "/Users/frederic.birwe/Library/CloudStorage/OneDrive-BertelsmannSE&Co.KGaA/Masterarbeit/20_data/613476/ps2400dpi150lpi/693102_Top_03_BK_FS23_028_029_BFL_MM.p2.4c.M.tif\n",
      "/Users/frederic.birwe/Library/CloudStorage/OneDrive-BertelsmannSE&Co.KGaA/Masterarbeit/20_data/613476/ps2400dpi150lpi/693102_Top_03_BK_FS23_020_021_BFL_MM.p2.4c.M.tif\n",
      "/Users/frederic.birwe/Library/CloudStorage/OneDrive-BertelsmannSE&Co.KGaA/Masterarbeit/20_data/613476/ps2400dpi150lpi/693102_Top_03_BK_FS23_014_015_BFL_MM.p2.4c.C.tif\n",
      "/Users/frederic.birwe/Library/CloudStorage/OneDrive-BertelsmannSE&Co.KGaA/Masterarbeit/20_data/613476/ps2400dpi150lpi/693102_Top_03_BK_FS23_078_079_BFL_MM.p1.4c.M.tif\n",
      "/Users/frederic.birwe/Library/CloudStorage/OneDrive-BertelsmannSE&Co.KGaA/Masterarbeit/20_data/613476/ps2400dpi150lpi/693102_Top_03_BK_FS23_070_071_BFL_MM.p1.4c.M.tif\n",
      "/Users/frederic.birwe/Library/CloudStorage/OneDrive-BertelsmannSE&Co.KGaA/Masterarbeit/20_data/613476/ps2400dpi150lpi/693102_Top_03_BK_FS23_030_031_BFL_MM.p1.4c.M.tif\n",
      "/Users/frederic.birwe/Library/CloudStorage/OneDrive-BertelsmannSE&Co.KGaA/Masterarbeit/20_data/613476/ps2400dpi150lpi/693102_Top_03_BK_FS23_004_005_BFL_MM.p1.4c.C.tif\n",
      "/Users/frederic.birwe/Library/CloudStorage/OneDrive-BertelsmannSE&Co.KGaA/Masterarbeit/20_data/613476/ps2400dpi150lpi/693102_Top_03_BK_FS23_068_069_BFL_MM.p2.4c.M.tif\n",
      "/Users/frederic.birwe/Library/CloudStorage/OneDrive-BertelsmannSE&Co.KGaA/Masterarbeit/20_data/613476/ps2400dpi150lpi/693102_Top_03_BK_FS23_026_027_BFL_MM.p2.4c.M.tif\n",
      "/Users/frederic.birwe/Library/CloudStorage/OneDrive-BertelsmannSE&Co.KGaA/Masterarbeit/20_data/613476/ps2400dpi150lpi/693102_Top_03_BK_FS23_012_013_BFL_MM.p2.4c.C.tif\n",
      "/Users/frederic.birwe/Library/CloudStorage/OneDrive-BertelsmannSE&Co.KGaA/Masterarbeit/20_data/613476/ps2400dpi150lpi/693102_Top_03_BK_FS23_076_077_BFL_MM.p1.4c.M.tif\n",
      "/Users/frederic.birwe/Library/CloudStorage/OneDrive-BertelsmannSE&Co.KGaA/Masterarbeit/20_data/613476/ps2400dpi150lpi/693102_Top_03_BK_FS23_066_067_BFL_MM.p2.4c.M.tif\n",
      "/Users/frederic.birwe/Library/CloudStorage/OneDrive-BertelsmannSE&Co.KGaA/Masterarbeit/20_data/613476/ps2400dpi150lpi/693102_Top_03_BK_FS23_020_021_BFL_MM.p2.4c.Y.tif\n",
      "/Users/frederic.birwe/Library/CloudStorage/OneDrive-BertelsmannSE&Co.KGaA/Masterarbeit/20_data/613476/ps2400dpi150lpi/693102_Top_03_BK_FS23_028_029_BFL_MM.p2.4c.Y.tif\n",
      "/Users/frederic.birwe/Library/CloudStorage/OneDrive-BertelsmannSE&Co.KGaA/Masterarbeit/20_data/613476/ps2400dpi150lpi/693102_Top_03_BK_FS23_082_083_BFL_MM.p1.4c.C.tif\n",
      "/Users/frederic.birwe/Library/CloudStorage/OneDrive-BertelsmannSE&Co.KGaA/Masterarbeit/20_data/613476/ps2400dpi150lpi/693102_Top_03_BK_FS23_070_071_BFL_MM.p1.4c.Y.tif\n"
     ]
    },
    {
     "name": "stderr",
     "output_type": "stream",
     "text": [
      " 16%|█████▌                             | 1832/11457 [00:03<00:19, 501.36it/s]"
     ]
    },
    {
     "name": "stdout",
     "output_type": "stream",
     "text": [
      "/Users/frederic.birwe/Library/CloudStorage/OneDrive-BertelsmannSE&Co.KGaA/Masterarbeit/20_data/613476/ps2400dpi150lpi/693102_Top_03_BK_FS23_078_079_BFL_MM.p1.4c.Y.tif\n",
      "/Users/frederic.birwe/Library/CloudStorage/OneDrive-BertelsmannSE&Co.KGaA/Masterarbeit/20_data/613476/ps2400dpi150lpi/693102_Top_03_BK_FS23_030_031_BFL_MM.p1.4c.Y.tif\n",
      "/Users/frederic.birwe/Library/CloudStorage/OneDrive-BertelsmannSE&Co.KGaA/Masterarbeit/20_data/613476/ps2400dpi150lpi/693102_Top_03_BK_FS23_092_093_BFL_MM.p2.4c.C.tif\n",
      "/Users/frederic.birwe/Library/CloudStorage/OneDrive-BertelsmannSE&Co.KGaA/Masterarbeit/20_data/613476/ps2400dpi150lpi/693102_Top_03_BK_FS23_068_069_BFL_MM.p2.4c.Y.tif\n",
      "/Users/frederic.birwe/Library/CloudStorage/OneDrive-BertelsmannSE&Co.KGaA/Masterarbeit/20_data/613476/ps2400dpi150lpi/693102_Top_03_BK_FS23_016_017_BFL_MM.p1.4c.C.tif\n",
      "/Users/frederic.birwe/Library/CloudStorage/OneDrive-BertelsmannSE&Co.KGaA/Masterarbeit/20_data/613476/ps2400dpi150lpi/693102_Top_03_BK_FS23_022_023_BFL_MM.p1.4c.M.tif\n",
      "/Users/frederic.birwe/Library/CloudStorage/OneDrive-BertelsmannSE&Co.KGaA/Masterarbeit/20_data/613476/ps2400dpi150lpi/693102_Top_03_BK_FS23_072_073_BFL_MM.p2.4c.M.tif\n",
      "/Users/frederic.birwe/Library/CloudStorage/OneDrive-BertelsmannSE&Co.KGaA/Masterarbeit/20_data/613476/ps2400dpi150lpi/693102_Top_03_BK_FS23_006_007_BFL_MM.p2.4c.C.tif\n",
      "/Users/frederic.birwe/Library/CloudStorage/OneDrive-BertelsmannSE&Co.KGaA/Masterarbeit/20_data/613476/ps2400dpi150lpi/693102_Top_03_BK_FS23_032_033_BFL_MM.p2.4c.M.tif\n",
      "/Users/frederic.birwe/Library/CloudStorage/OneDrive-BertelsmannSE&Co.KGaA/Masterarbeit/20_data/613476/ps2400dpi150lpi/693102_Top_03_BK_FS23_086_087_BFL_MM.p2.4c.C.tif\n",
      "/Users/frederic.birwe/Library/CloudStorage/OneDrive-BertelsmannSE&Co.KGaA/Masterarbeit/20_data/613476/ps2400dpi150lpi/693102_Top_03_BK_FS23_024_025_BFL_MM.p1.4c.Y.tif\n",
      "/Users/frederic.birwe/Library/CloudStorage/OneDrive-BertelsmannSE&Co.KGaA/Masterarbeit/20_data/613476/ps2400dpi150lpi/693102_Top_03_BK_FS23_074_075_BFL_MM.p2.4c.Y.tif\n",
      "/Users/frederic.birwe/Library/CloudStorage/OneDrive-BertelsmannSE&Co.KGaA/Masterarbeit/20_data/613476/ps2400dpi150lpi/693102_Top_03_BK_FS23_096_097_BFL_MM.p1.4c.C.tif\n",
      "/Users/frederic.birwe/Library/CloudStorage/OneDrive-BertelsmannSE&Co.KGaA/Masterarbeit/20_data/613476/ps2400dpi150lpi/693102_Top_03_BK_FS23_080_081_BFL_MM.p2.4c.C.tif\n",
      "/Users/frederic.birwe/Library/CloudStorage/OneDrive-BertelsmannSE&Co.KGaA/Masterarbeit/20_data/613476/ps2400dpi150lpi/693102_Top_03_BK_FS23_088_089_BFL_MM.p2.4c.C.tif\n",
      "/Users/frederic.birwe/Library/CloudStorage/OneDrive-BertelsmannSE&Co.KGaA/Masterarbeit/20_data/613476/ps2400dpi150lpi/693102_Top_03_BK_FS23_022_023_BFL_MM.p1.4c.Y.tif\n",
      "/Users/frederic.birwe/Library/CloudStorage/OneDrive-BertelsmannSE&Co.KGaA/Masterarbeit/20_data/613476/ps2400dpi150lpi/693102_Top_03_BK_FS23_072_073_BFL_MM.p2.4c.Y.tif\n",
      "/Users/frederic.birwe/Library/CloudStorage/OneDrive-BertelsmannSE&Co.KGaA/Masterarbeit/20_data/613476/ps2400dpi150lpi/693102_Top_03_BK_FS23_090_091_BFL_MM.p1.4c.C.tif\n",
      "/Users/frederic.birwe/Library/CloudStorage/OneDrive-BertelsmannSE&Co.KGaA/Masterarbeit/20_data/613476/ps2400dpi150lpi/693102_Top_03_BK_FS23_098_099_BFL_MM.p1.4c.C.tif\n",
      "/Users/frederic.birwe/Library/CloudStorage/OneDrive-BertelsmannSE&Co.KGaA/Masterarbeit/20_data/613476/ps2400dpi150lpi/693102_Top_03_BK_FS23_032_033_BFL_MM.p2.4c.Y.tif\n",
      "/Users/frederic.birwe/Library/CloudStorage/OneDrive-BertelsmannSE&Co.KGaA/Masterarbeit/20_data/613476/ps2400dpi150lpi/693102_Top_03_BK_FS23_018_019_BFL_MM.p1.4c.C.tif\n",
      "/Users/frederic.birwe/Library/CloudStorage/OneDrive-BertelsmannSE&Co.KGaA/Masterarbeit/20_data/613476/ps2400dpi150lpi/693102_Top_03_BK_FS23_010_011_BFL_MM.p1.4c.C.tif\n",
      "/Users/frederic.birwe/Library/CloudStorage/OneDrive-BertelsmannSE&Co.KGaA/Masterarbeit/20_data/613476/ps2400dpi150lpi/693102_Top_03_BK_FS23_024_025_BFL_MM.p1.4c.M.tif\n",
      "/Users/frederic.birwe/Library/CloudStorage/OneDrive-BertelsmannSE&Co.KGaA/Masterarbeit/20_data/613476/ps2400dpi150lpi/693102_Top_03_BK_FS23_074_075_BFL_MM.p2.4c.M.tif\n",
      "/Users/frederic.birwe/Library/CloudStorage/OneDrive-BertelsmannSE&Co.KGaA/Masterarbeit/20_data/613476/ps2400dpi150lpi/693102_Top_03_BK_FS23_008_009_BFL_MM.p2.4c.C.tif\n"
     ]
    },
    {
     "name": "stderr",
     "output_type": "stream",
     "text": [
      " 17%|█████▉                             | 1955/11457 [00:04<00:17, 558.43it/s]"
     ]
    },
    {
     "name": "stdout",
     "output_type": "stream",
     "text": [
      "/Users/frederic.birwe/Library/CloudStorage/OneDrive-BertelsmannSE&Co.KGaA/Masterarbeit/20_data/613476/ps2400dpi150lpi/693102_Top_03_BK_FS23_092_093_BFL_MM.p1.4c.M.tif\n",
      "/Users/frederic.birwe/Library/CloudStorage/OneDrive-BertelsmannSE&Co.KGaA/Masterarbeit/20_data/613476/ps2400dpi150lpi/693102_Top_03_BK_FS23_004_005_BFL_MM.p2.4c.Y.tif\n",
      "/Users/frederic.birwe/Library/CloudStorage/OneDrive-BertelsmannSE&Co.KGaA/Masterarbeit/20_data/613476/ps2400dpi150lpi/693102_Top_03_BK_FS23_082_083_BFL_MM.p2.4c.M.tif\n",
      "/Users/frederic.birwe/Library/CloudStorage/OneDrive-BertelsmannSE&Co.KGaA/Masterarbeit/20_data/613476/ps2400dpi150lpi/693102_Top_03_BK_FS23_014_015_BFL_MM.p1.4c.Y.tif\n",
      "/Users/frederic.birwe/Library/CloudStorage/OneDrive-BertelsmannSE&Co.KGaA/Masterarbeit/20_data/613476/ps2400dpi150lpi/693102_Top_03_BK_FS23_094_095_BFL_MM.p1.4c.Y.tif\n",
      "/Users/frederic.birwe/Library/CloudStorage/OneDrive-BertelsmannSE&Co.KGaA/Masterarbeit/20_data/613476/ps2400dpi150lpi/693102_Top_03_BK_FS23_076_077_BFL_MM.p2.4c.C.tif\n",
      "/Users/frederic.birwe/Library/CloudStorage/OneDrive-BertelsmannSE&Co.KGaA/Masterarbeit/20_data/613476/ps2400dpi150lpi/693102_Top_03_BK_FS23_026_027_BFL_MM.p1.4c.C.tif\n",
      "/Users/frederic.birwe/Library/CloudStorage/OneDrive-BertelsmannSE&Co.KGaA/Masterarbeit/20_data/613476/ps2400dpi150lpi/693102_Top_03_BK_FS23_084_085_BFL_MM.p2.4c.Y.tif\n",
      "/Users/frederic.birwe/Library/CloudStorage/OneDrive-BertelsmannSE&Co.KGaA/Masterarbeit/20_data/613476/ps2400dpi150lpi/693102_Top_03_BK_FS23_012_013_BFL_MM.p1.4c.M.tif\n",
      "/Users/frederic.birwe/Library/CloudStorage/OneDrive-BertelsmannSE&Co.KGaA/Masterarbeit/20_data/613476/ps2400dpi150lpi/693102_Top_03_BK_FS23_068_069_BFL_MM.p1.4c.C.tif\n",
      "/Users/frederic.birwe/Library/CloudStorage/OneDrive-BertelsmannSE&Co.KGaA/Masterarbeit/20_data/613476/ps2400dpi150lpi/693102_Top_03_BK_FS23_030_031_BFL_MM.p2.4c.C.tif\n",
      "/Users/frederic.birwe/Library/CloudStorage/OneDrive-BertelsmannSE&Co.KGaA/Masterarbeit/20_data/613476/ps2400dpi150lpi/693102_Top_03_BK_FS23_004_005_BFL_MM.p2.4c.M.tif\n",
      "/Users/frederic.birwe/Library/CloudStorage/OneDrive-BertelsmannSE&Co.KGaA/Masterarbeit/20_data/613476/ps2400dpi150lpi/693102_Top_03_BK_FS23_092_093_BFL_MM.p1.4c.Y.tif\n",
      "/Users/frederic.birwe/Library/CloudStorage/OneDrive-BertelsmannSE&Co.KGaA/Masterarbeit/20_data/613476/ps2400dpi150lpi/693102_Top_03_BK_FS23_070_071_BFL_MM.p2.4c.C.tif\n",
      "/Users/frederic.birwe/Library/CloudStorage/OneDrive-BertelsmannSE&Co.KGaA/Masterarbeit/20_data/613476/ps2400dpi150lpi/693102_Top_03_BK_FS23_078_079_BFL_MM.p2.4c.C.tif\n",
      "/Users/frederic.birwe/Library/CloudStorage/OneDrive-BertelsmannSE&Co.KGaA/Masterarbeit/20_data/613476/ps2400dpi150lpi/693102_Top_03_BK_FS23_020_021_BFL_MM.p1.4c.C.tif\n",
      "/Users/frederic.birwe/Library/CloudStorage/OneDrive-BertelsmannSE&Co.KGaA/Masterarbeit/20_data/613476/ps2400dpi150lpi/693102_Top_03_BK_FS23_028_029_BFL_MM.p1.4c.C.tif\n",
      "/Users/frederic.birwe/Library/CloudStorage/OneDrive-BertelsmannSE&Co.KGaA/Masterarbeit/20_data/613476/ps2400dpi150lpi/693102_Top_03_BK_FS23_014_015_BFL_MM.p1.4c.M.tif\n",
      "/Users/frederic.birwe/Library/CloudStorage/OneDrive-BertelsmannSE&Co.KGaA/Masterarbeit/20_data/613476/ps2400dpi150lpi/693102_Top_03_BK_FS23_082_083_BFL_MM.p2.4c.Y.tif\n",
      "/Users/frederic.birwe/Library/CloudStorage/OneDrive-BertelsmannSE&Co.KGaA/Masterarbeit/20_data/613476/ps2400dpi150lpi/693102_Top_03_BK_FS23_094_095_BFL_MM.p1.4c.M.tif\n",
      "/Users/frederic.birwe/Library/CloudStorage/OneDrive-BertelsmannSE&Co.KGaA/Masterarbeit/20_data/613476/ps2400dpi150lpi/693102_Top_03_BK_FS23_012_013_BFL_MM.p1.4c.Y.tif\n",
      "/Users/frederic.birwe/Library/CloudStorage/OneDrive-BertelsmannSE&Co.KGaA/Masterarbeit/20_data/613476/ps2400dpi150lpi/693102_Top_03_BK_FS23_084_085_BFL_MM.p2.4c.M.tif\n",
      "/Users/frederic.birwe/Library/CloudStorage/OneDrive-BertelsmannSE&Co.KGaA/Masterarbeit/20_data/613476/ps2400dpi150lpi/693102_Top_03_BK_FS23_008_009_BFL_MM.p1.4c.M.tif\n",
      "/Users/frederic.birwe/Library/CloudStorage/OneDrive-BertelsmannSE&Co.KGaA/Masterarbeit/20_data/613476/ps2400dpi150lpi/693102_Top_03_BK_FS23_096_097_BFL_MM.p2.4c.Y.tif\n",
      "/Users/frederic.birwe/Library/CloudStorage/OneDrive-BertelsmannSE&Co.KGaA/Masterarbeit/20_data/613476/ps2400dpi150lpi/693102_Top_03_BK_FS23_034_035_BFL_MM.p1.4c.C.tif\n",
      "/Users/frederic.birwe/Library/CloudStorage/OneDrive-BertelsmannSE&Co.KGaA/Masterarbeit/20_data/613476/ps2400dpi150lpi/693102_Top_03_BK_FS23_074_075_BFL_MM.p1.4c.C.tif\n",
      "/Users/frederic.birwe/Library/CloudStorage/OneDrive-BertelsmannSE&Co.KGaA/Masterarbeit/20_data/613476/ps2400dpi150lpi/693102_Top_03_BK_FS23_010_011_BFL_MM.p2.4c.M.tif\n",
      "/Users/frederic.birwe/Library/CloudStorage/OneDrive-BertelsmannSE&Co.KGaA/Masterarbeit/20_data/613476/ps2400dpi150lpi/693102_Top_03_BK_FS23_086_087_BFL_MM.p1.4c.Y.tif\n",
      "/Users/frederic.birwe/Library/CloudStorage/OneDrive-BertelsmannSE&Co.KGaA/Masterarbeit/20_data/613476/ps2400dpi150lpi/693102_Top_03_BK_FS23_018_019_BFL_MM.p2.4c.M.tif\n",
      "/Users/frederic.birwe/Library/CloudStorage/OneDrive-BertelsmannSE&Co.KGaA/Masterarbeit/20_data/613476/ps2400dpi150lpi/693102_Top_03_BK_FS23_024_025_BFL_MM.p2.4c.C.tif\n",
      "/Users/frederic.birwe/Library/CloudStorage/OneDrive-BertelsmannSE&Co.KGaA/Masterarbeit/20_data/613476/ps2400dpi150lpi/693102_Top_03_BK_FS23_006_007_BFL_MM.p1.4c.Y.tif\n",
      "/Users/frederic.birwe/Library/CloudStorage/OneDrive-BertelsmannSE&Co.KGaA/Masterarbeit/20_data/613476/ps2400dpi150lpi/693102_Top_03_BK_FS23_090_091_BFL_MM.p2.4c.M.tif\n"
     ]
    },
    {
     "name": "stderr",
     "output_type": "stream",
     "text": [
      " 18%|██████▎                            | 2073/11457 [00:04<00:16, 557.26it/s]"
     ]
    },
    {
     "name": "stdout",
     "output_type": "stream",
     "text": [
      "/Users/frederic.birwe/Library/CloudStorage/OneDrive-BertelsmannSE&Co.KGaA/Masterarbeit/20_data/613476/ps2400dpi150lpi/693102_Top_03_BK_FS23_016_017_BFL_MM.p2.4c.Y.tif\n",
      "/Users/frederic.birwe/Library/CloudStorage/OneDrive-BertelsmannSE&Co.KGaA/Masterarbeit/20_data/613476/ps2400dpi150lpi/693102_Top_03_BK_FS23_088_089_BFL_MM.p1.4c.M.tif\n",
      "/Users/frederic.birwe/Library/CloudStorage/OneDrive-BertelsmannSE&Co.KGaA/Masterarbeit/20_data/613476/ps2400dpi150lpi/693102_Top_03_BK_FS23_080_081_BFL_MM.p1.4c.M.tif\n",
      "/Users/frederic.birwe/Library/CloudStorage/OneDrive-BertelsmannSE&Co.KGaA/Masterarbeit/20_data/613476/ps2400dpi150lpi/693102_Top_03_BK_FS23_096_097_BFL_MM.p2.4c.M.tif\n",
      "/Users/frederic.birwe/Library/CloudStorage/OneDrive-BertelsmannSE&Co.KGaA/Masterarbeit/20_data/613476/ps2400dpi150lpi/693102_Top_03_BK_FS23_008_009_BFL_MM.p1.4c.Y.tif\n",
      "/Users/frederic.birwe/Library/CloudStorage/OneDrive-BertelsmannSE&Co.KGaA/Masterarbeit/20_data/613476/ps2400dpi150lpi/693102_Top_03_BK_FS23_002_003_BFL_Stuber.p2.4c.C.tif\n",
      "/Users/frederic.birwe/Library/CloudStorage/OneDrive-BertelsmannSE&Co.KGaA/Masterarbeit/20_data/613476/ps2400dpi150lpi/693102_Top_03_BK_FS23_018_019_BFL_MM.p2.4c.Y.tif\n",
      "/Users/frederic.birwe/Library/CloudStorage/OneDrive-BertelsmannSE&Co.KGaA/Masterarbeit/20_data/613476/ps2400dpi150lpi/693102_Top_03_BK_FS23_086_087_BFL_MM.p1.4c.M.tif\n",
      "/Users/frederic.birwe/Library/CloudStorage/OneDrive-BertelsmannSE&Co.KGaA/Masterarbeit/20_data/613476/ps2400dpi150lpi/693102_Top_03_BK_FS23_010_011_BFL_MM.p2.4c.Y.tif\n",
      "/Users/frederic.birwe/Library/CloudStorage/OneDrive-BertelsmannSE&Co.KGaA/Masterarbeit/20_data/613476/ps2400dpi150lpi/693102_Top_03_BK_FS23_090_091_BFL_MM.p2.4c.Y.tif\n",
      "/Users/frederic.birwe/Library/CloudStorage/OneDrive-BertelsmannSE&Co.KGaA/Masterarbeit/20_data/613476/ps2400dpi150lpi/693102_Top_03_BK_FS23_006_007_BFL_MM.p1.4c.M.tif\n",
      "/Users/frederic.birwe/Library/CloudStorage/OneDrive-BertelsmannSE&Co.KGaA/Masterarbeit/20_data/613476/ps2400dpi150lpi/693102_Top_03_BK_FS23_032_033_BFL_MM.p1.4c.C.tif\n",
      "/Users/frederic.birwe/Library/CloudStorage/OneDrive-BertelsmannSE&Co.KGaA/Masterarbeit/20_data/613476/ps2400dpi150lpi/693102_Top_03_BK_FS23_072_073_BFL_MM.p1.4c.C.tif\n",
      "/Users/frederic.birwe/Library/CloudStorage/OneDrive-BertelsmannSE&Co.KGaA/Masterarbeit/20_data/613476/ps2400dpi150lpi/693102_Top_03_BK_FS23_080_081_BFL_MM.p1.4c.Y.tif\n",
      "/Users/frederic.birwe/Library/CloudStorage/OneDrive-BertelsmannSE&Co.KGaA/Masterarbeit/20_data/613476/ps2400dpi150lpi/693102_Top_03_BK_FS23_088_089_BFL_MM.p1.4c.Y.tif\n",
      "/Users/frederic.birwe/Library/CloudStorage/OneDrive-BertelsmannSE&Co.KGaA/Masterarbeit/20_data/613476/ps2400dpi150lpi/693102_Top_03_BK_FS23_016_017_BFL_MM.p2.4c.M.tif\n",
      "/Users/frederic.birwe/Library/CloudStorage/OneDrive-BertelsmannSE&Co.KGaA/Masterarbeit/20_data/613476/ps2400dpi150lpi/693102_Top_03_BK_FS23_022_023_BFL_MM.p2.4c.C.tif\n",
      "/Users/frederic.birwe/Library/CloudStorage/OneDrive-BertelsmannSE&Co.KGaA/Masterarbeit/20_data/613476/ps2400dpi150lpi/693102_Top_03_BK_FS23_022_023_BFL_MM.p2.4c.Y.tif\n",
      "/Users/frederic.birwe/Library/CloudStorage/OneDrive-BertelsmannSE&Co.KGaA/Masterarbeit/20_data/613476/ps2400dpi150lpi/693102_Top_03_BK_FS23_080_081_BFL_MM.p1.4c.C.tif\n",
      "/Users/frederic.birwe/Library/CloudStorage/OneDrive-BertelsmannSE&Co.KGaA/Masterarbeit/20_data/613476/ps2400dpi150lpi/693102_Top_03_BK_FS23_088_089_BFL_MM.p1.4c.C.tif\n",
      "/Users/frederic.birwe/Library/CloudStorage/OneDrive-BertelsmannSE&Co.KGaA/Masterarbeit/20_data/613476/ps2400dpi150lpi/693102_Top_03_BK_FS23_072_073_BFL_MM.p1.4c.Y.tif\n",
      "/Users/frederic.birwe/Library/CloudStorage/OneDrive-BertelsmannSE&Co.KGaA/Masterarbeit/20_data/613476/ps2400dpi150lpi/693102_Top_03_BK_FS23_032_033_BFL_MM.p1.4c.Y.tif\n",
      "/Users/frederic.birwe/Library/CloudStorage/OneDrive-BertelsmannSE&Co.KGaA/Masterarbeit/20_data/613476/ps2400dpi150lpi/693102_Top_03_BK_FS23_090_091_BFL_MM.p2.4c.C.tif\n"
     ]
    },
    {
     "name": "stderr",
     "output_type": "stream",
     "text": [
      " 19%|██████▋                            | 2197/11457 [00:04<00:18, 508.88it/s]"
     ]
    },
    {
     "name": "stdout",
     "output_type": "stream",
     "text": [
      "/Users/frederic.birwe/Library/CloudStorage/OneDrive-BertelsmannSE&Co.KGaA/Masterarbeit/20_data/613476/ps2400dpi150lpi/693102_Top_03_BK_FS23_024_025_BFL_MM.p2.4c.M.tif\n",
      "/Users/frederic.birwe/Library/CloudStorage/OneDrive-BertelsmannSE&Co.KGaA/Masterarbeit/20_data/613476/ps2400dpi150lpi/693102_Top_03_BK_FS23_018_019_BFL_MM.p2.4c.C.tif\n",
      "/Users/frederic.birwe/Library/CloudStorage/OneDrive-BertelsmannSE&Co.KGaA/Masterarbeit/20_data/613476/ps2400dpi150lpi/693102_Top_03_BK_FS23_010_011_BFL_MM.p2.4c.C.tif\n",
      "/Users/frederic.birwe/Library/CloudStorage/OneDrive-BertelsmannSE&Co.KGaA/Masterarbeit/20_data/613476/ps2400dpi150lpi/693102_Top_03_BK_FS23_074_075_BFL_MM.p1.4c.M.tif\n",
      "/Users/frederic.birwe/Library/CloudStorage/OneDrive-BertelsmannSE&Co.KGaA/Masterarbeit/20_data/613476/ps2400dpi150lpi/693102_Top_03_BK_FS23_002_003_BFL_Stuber.p2.4c.Y.tif\n",
      "/Users/frederic.birwe/Library/CloudStorage/OneDrive-BertelsmannSE&Co.KGaA/Masterarbeit/20_data/613476/ps2400dpi150lpi/693102_Top_03_BK_FS23_034_035_BFL_MM.p1.4c.M.tif\n",
      "/Users/frederic.birwe/Library/CloudStorage/OneDrive-BertelsmannSE&Co.KGaA/Masterarbeit/20_data/613476/ps2400dpi150lpi/693102_Top_03_BK_FS23_008_009_BFL_MM.p1.4c.C.tif\n",
      "/Users/frederic.birwe/Library/CloudStorage/OneDrive-BertelsmannSE&Co.KGaA/Masterarbeit/20_data/613476/ps2400dpi150lpi/693102_Top_03_BK_FS23_022_023_BFL_MM.p2.4c.M.tif\n",
      "/Users/frederic.birwe/Library/CloudStorage/OneDrive-BertelsmannSE&Co.KGaA/Masterarbeit/20_data/613476/ps2400dpi150lpi/693102_Top_03_BK_FS23_016_017_BFL_MM.p2.4c.C.tif\n",
      "/Users/frederic.birwe/Library/CloudStorage/OneDrive-BertelsmannSE&Co.KGaA/Masterarbeit/20_data/613476/ps2400dpi150lpi/693102_Top_03_BK_FS23_072_073_BFL_MM.p1.4c.M.tif\n",
      "/Users/frederic.birwe/Library/CloudStorage/OneDrive-BertelsmannSE&Co.KGaA/Masterarbeit/20_data/613476/ps2400dpi150lpi/693102_Top_03_BK_FS23_032_033_BFL_MM.p1.4c.M.tif\n",
      "/Users/frederic.birwe/Library/CloudStorage/OneDrive-BertelsmannSE&Co.KGaA/Masterarbeit/20_data/613476/ps2400dpi150lpi/693102_Top_03_BK_FS23_006_007_BFL_MM.p1.4c.C.tif\n",
      "/Users/frederic.birwe/Library/CloudStorage/OneDrive-BertelsmannSE&Co.KGaA/Masterarbeit/20_data/613476/ps2400dpi150lpi/693102_Top_03_BK_FS23_024_025_BFL_MM.p2.4c.Y.tif\n",
      "/Users/frederic.birwe/Library/CloudStorage/OneDrive-BertelsmannSE&Co.KGaA/Masterarbeit/20_data/613476/ps2400dpi150lpi/693102_Top_03_BK_FS23_086_087_BFL_MM.p1.4c.C.tif\n",
      "/Users/frederic.birwe/Library/CloudStorage/OneDrive-BertelsmannSE&Co.KGaA/Masterarbeit/20_data/613476/ps2400dpi150lpi/693102_Top_03_BK_FS23_074_075_BFL_MM.p1.4c.Y.tif\n",
      "/Users/frederic.birwe/Library/CloudStorage/OneDrive-BertelsmannSE&Co.KGaA/Masterarbeit/20_data/613476/ps2400dpi150lpi/693102_Top_03_BK_FS23_034_035_BFL_MM.p1.4c.Y.tif\n",
      "/Users/frederic.birwe/Library/CloudStorage/OneDrive-BertelsmannSE&Co.KGaA/Masterarbeit/20_data/613476/ps2400dpi150lpi/693102_Top_03_BK_FS23_002_003_BFL_Stuber.p2.4c.M.tif\n",
      "/Users/frederic.birwe/Library/CloudStorage/OneDrive-BertelsmannSE&Co.KGaA/Masterarbeit/20_data/613476/ps2400dpi150lpi/693102_Top_03_BK_FS23_096_097_BFL_MM.p2.4c.C.tif\n",
      "/Users/frederic.birwe/Library/CloudStorage/OneDrive-BertelsmannSE&Co.KGaA/Masterarbeit/20_data/613476/ps2400dpi150lpi/693102_Top_03_BK_FS23_012_013_BFL_MM.p1.4c.C.tif\n",
      "/Users/frederic.birwe/Library/CloudStorage/OneDrive-BertelsmannSE&Co.KGaA/Masterarbeit/20_data/613476/ps2400dpi150lpi/693102_Top_03_BK_FS23_026_027_BFL_MM.p1.4c.M.tif\n",
      "/Users/frederic.birwe/Library/CloudStorage/OneDrive-BertelsmannSE&Co.KGaA/Masterarbeit/20_data/613476/ps2400dpi150lpi/693102_Top_03_BK_FS23_076_077_BFL_MM.p2.4c.M.tif\n",
      "/Users/frederic.birwe/Library/CloudStorage/OneDrive-BertelsmannSE&Co.KGaA/Masterarbeit/20_data/613476/ps2400dpi150lpi/693102_Top_03_BK_FS23_082_083_BFL_MM.p2.4c.C.tif\n",
      "/Users/frederic.birwe/Library/CloudStorage/OneDrive-BertelsmannSE&Co.KGaA/Masterarbeit/20_data/613476/ps2400dpi150lpi/693102_Top_03_BK_FS23_020_021_BFL_MM.p1.4c.Y.tif\n",
      "/Users/frederic.birwe/Library/CloudStorage/OneDrive-BertelsmannSE&Co.KGaA/Masterarbeit/20_data/613476/ps2400dpi150lpi/693102_Top_03_BK_FS23_028_029_BFL_MM.p1.4c.Y.tif\n",
      "/Users/frederic.birwe/Library/CloudStorage/OneDrive-BertelsmannSE&Co.KGaA/Masterarbeit/20_data/613476/ps2400dpi150lpi/693102_Top_03_BK_FS23_070_071_BFL_MM.p2.4c.Y.tif\n",
      "/Users/frederic.birwe/Library/CloudStorage/OneDrive-BertelsmannSE&Co.KGaA/Masterarbeit/20_data/613476/ps2400dpi150lpi/693102_Top_03_BK_FS23_078_079_BFL_MM.p2.4c.Y.tif\n",
      "/Users/frederic.birwe/Library/CloudStorage/OneDrive-BertelsmannSE&Co.KGaA/Masterarbeit/20_data/613476/ps2400dpi150lpi/693102_Top_03_BK_FS23_092_093_BFL_MM.p1.4c.C.tif\n"
     ]
    },
    {
     "name": "stderr",
     "output_type": "stream",
     "text": [
      " 20%|██████▉                            | 2252/11457 [00:04<00:23, 396.14it/s]"
     ]
    },
    {
     "name": "stdout",
     "output_type": "stream",
     "text": [
      "/Users/frederic.birwe/Library/CloudStorage/OneDrive-BertelsmannSE&Co.KGaA/Masterarbeit/20_data/613476/ps2400dpi150lpi/693102_Top_03_BK_FS23_030_031_BFL_MM.p2.4c.Y.tif\n",
      "/Users/frederic.birwe/Library/CloudStorage/OneDrive-BertelsmannSE&Co.KGaA/Masterarbeit/20_data/613476/ps2400dpi150lpi/693102_Top_03_BK_FS23_068_069_BFL_MM.p1.4c.Y.tif\n",
      "/Users/frederic.birwe/Library/CloudStorage/OneDrive-BertelsmannSE&Co.KGaA/Masterarbeit/20_data/613476/ps2400dpi150lpi/693102_Top_03_BK_FS23_084_085_BFL_MM.p2.4c.C.tif\n",
      "/Users/frederic.birwe/Library/CloudStorage/OneDrive-BertelsmannSE&Co.KGaA/Masterarbeit/20_data/613476/ps2400dpi150lpi/693102_Top_03_BK_FS23_026_027_BFL_MM.p1.4c.Y.tif\n",
      "/Users/frederic.birwe/Library/CloudStorage/OneDrive-BertelsmannSE&Co.KGaA/Masterarbeit/20_data/613476/ps2400dpi150lpi/693102_Top_03_BK_FS23_076_077_BFL_MM.p2.4c.Y.tif\n",
      "/Users/frederic.birwe/Library/CloudStorage/OneDrive-BertelsmannSE&Co.KGaA/Masterarbeit/20_data/613476/ps2400dpi150lpi/693102_Top_03_BK_FS23_094_095_BFL_MM.p1.4c.C.tif\n",
      "/Users/frederic.birwe/Library/CloudStorage/OneDrive-BertelsmannSE&Co.KGaA/Masterarbeit/20_data/613476/ps2400dpi150lpi/693102_Top_03_BK_FS23_014_015_BFL_MM.p1.4c.C.tif\n",
      "/Users/frederic.birwe/Library/CloudStorage/OneDrive-BertelsmannSE&Co.KGaA/Masterarbeit/20_data/613476/ps2400dpi150lpi/693102_Top_03_BK_FS23_028_029_BFL_MM.p1.4c.M.tif\n",
      "/Users/frederic.birwe/Library/CloudStorage/OneDrive-BertelsmannSE&Co.KGaA/Masterarbeit/20_data/613476/ps2400dpi150lpi/693102_Top_03_BK_FS23_020_021_BFL_MM.p1.4c.M.tif\n",
      "/Users/frederic.birwe/Library/CloudStorage/OneDrive-BertelsmannSE&Co.KGaA/Masterarbeit/20_data/613476/ps2400dpi150lpi/693102_Top_03_BK_FS23_078_079_BFL_MM.p2.4c.M.tif\n",
      "/Users/frederic.birwe/Library/CloudStorage/OneDrive-BertelsmannSE&Co.KGaA/Masterarbeit/20_data/613476/ps2400dpi150lpi/693102_Top_03_BK_FS23_070_071_BFL_MM.p2.4c.M.tif\n",
      "/Users/frederic.birwe/Library/CloudStorage/OneDrive-BertelsmannSE&Co.KGaA/Masterarbeit/20_data/613476/ps2400dpi150lpi/693102_Top_03_BK_FS23_004_005_BFL_MM.p2.4c.C.tif\n",
      "/Users/frederic.birwe/Library/CloudStorage/OneDrive-BertelsmannSE&Co.KGaA/Masterarbeit/20_data/613476/ps2400dpi150lpi/693102_Top_03_BK_FS23_030_031_BFL_MM.p2.4c.M.tif\n",
      "/Users/frederic.birwe/Library/CloudStorage/OneDrive-BertelsmannSE&Co.KGaA/Masterarbeit/20_data/613476/ps2400dpi150lpi/693102_Top_03_BK_FS23_068_069_BFL_MM.p1.4c.M.tif\n"
     ]
    },
    {
     "name": "stderr",
     "output_type": "stream",
     "text": [
      " 21%|███████▏                           | 2370/11457 [00:05<00:19, 476.46it/s]"
     ]
    },
    {
     "name": "stdout",
     "output_type": "stream",
     "text": [
      "/Users/frederic.birwe/Library/CloudStorage/OneDrive-BertelsmannSE&Co.KGaA/Masterarbeit/20_data/613476/ps2400dpi150lpi/693102_Top_03_BK_FS23_008_009_BFL_MM.p2.4c.Y.tif\n",
      "/Users/frederic.birwe/Library/CloudStorage/OneDrive-BertelsmannSE&Co.KGaA/Masterarbeit/20_data/613476/ps2400dpi150lpi/693102_Top_03_BK_FS23_096_097_BFL_MM.p1.4c.M.tif\n",
      "/Users/frederic.birwe/Library/CloudStorage/OneDrive-BertelsmannSE&Co.KGaA/Masterarbeit/20_data/613476/ps2400dpi150lpi/693102_Top_03_BK_FS23_086_087_BFL_MM.p2.4c.M.tif\n",
      "/Users/frederic.birwe/Library/CloudStorage/OneDrive-BertelsmannSE&Co.KGaA/Masterarbeit/20_data/613476/ps2400dpi150lpi/693102_Top_03_BK_FS23_018_019_BFL_MM.p1.4c.Y.tif\n",
      "/Users/frederic.birwe/Library/CloudStorage/OneDrive-BertelsmannSE&Co.KGaA/Masterarbeit/20_data/613476/ps2400dpi150lpi/693102_Top_03_BK_FS23_010_011_BFL_MM.p1.4c.Y.tif\n",
      "/Users/frederic.birwe/Library/CloudStorage/OneDrive-BertelsmannSE&Co.KGaA/Masterarbeit/20_data/613476/ps2400dpi150lpi/693102_Top_03_BK_FS23_032_033_BFL_MM.p2.4c.C.tif\n",
      "/Users/frederic.birwe/Library/CloudStorage/OneDrive-BertelsmannSE&Co.KGaA/Masterarbeit/20_data/613476/ps2400dpi150lpi/693102_Top_03_BK_FS23_090_091_BFL_MM.p1.4c.Y.tif\n",
      "/Users/frederic.birwe/Library/CloudStorage/OneDrive-BertelsmannSE&Co.KGaA/Masterarbeit/20_data/613476/ps2400dpi150lpi/693102_Top_03_BK_FS23_098_099_BFL_MM.p1.4c.Y.tif\n",
      "/Users/frederic.birwe/Library/CloudStorage/OneDrive-BertelsmannSE&Co.KGaA/Masterarbeit/20_data/613476/ps2400dpi150lpi/693102_Top_03_BK_FS23_006_007_BFL_MM.p2.4c.M.tif\n",
      "/Users/frederic.birwe/Library/CloudStorage/OneDrive-BertelsmannSE&Co.KGaA/Masterarbeit/20_data/613476/ps2400dpi150lpi/693102_Top_03_BK_FS23_072_073_BFL_MM.p2.4c.C.tif\n",
      "/Users/frederic.birwe/Library/CloudStorage/OneDrive-BertelsmannSE&Co.KGaA/Masterarbeit/20_data/613476/ps2400dpi150lpi/693102_Top_03_BK_FS23_022_023_BFL_MM.p1.4c.C.tif\n",
      "/Users/frederic.birwe/Library/CloudStorage/OneDrive-BertelsmannSE&Co.KGaA/Masterarbeit/20_data/613476/ps2400dpi150lpi/693102_Top_03_BK_FS23_080_081_BFL_MM.p2.4c.Y.tif\n",
      "/Users/frederic.birwe/Library/CloudStorage/OneDrive-BertelsmannSE&Co.KGaA/Masterarbeit/20_data/613476/ps2400dpi150lpi/693102_Top_03_BK_FS23_016_017_BFL_MM.p1.4c.M.tif\n",
      "/Users/frederic.birwe/Library/CloudStorage/OneDrive-BertelsmannSE&Co.KGaA/Masterarbeit/20_data/613476/ps2400dpi150lpi/693102_Top_03_BK_FS23_088_089_BFL_MM.p2.4c.Y.tif\n",
      "/Users/frederic.birwe/Library/CloudStorage/OneDrive-BertelsmannSE&Co.KGaA/Masterarbeit/20_data/613476/ps2400dpi150lpi/693102_Top_03_BK_FS23_096_097_BFL_MM.p1.4c.Y.tif\n",
      "/Users/frederic.birwe/Library/CloudStorage/OneDrive-BertelsmannSE&Co.KGaA/Masterarbeit/20_data/613476/ps2400dpi150lpi/693102_Top_03_BK_FS23_008_009_BFL_MM.p2.4c.M.tif\n",
      "/Users/frederic.birwe/Library/CloudStorage/OneDrive-BertelsmannSE&Co.KGaA/Masterarbeit/20_data/613476/ps2400dpi150lpi/693102_Top_03_BK_FS23_074_075_BFL_MM.p2.4c.C.tif\n",
      "/Users/frederic.birwe/Library/CloudStorage/OneDrive-BertelsmannSE&Co.KGaA/Masterarbeit/20_data/613476/ps2400dpi150lpi/693102_Top_03_BK_FS23_024_025_BFL_MM.p1.4c.C.tif\n",
      "/Users/frederic.birwe/Library/CloudStorage/OneDrive-BertelsmannSE&Co.KGaA/Masterarbeit/20_data/613476/ps2400dpi150lpi/693102_Top_03_BK_FS23_010_011_BFL_MM.p1.4c.M.tif\n",
      "/Users/frederic.birwe/Library/CloudStorage/OneDrive-BertelsmannSE&Co.KGaA/Masterarbeit/20_data/613476/ps2400dpi150lpi/693102_Top_03_BK_FS23_018_019_BFL_MM.p1.4c.M.tif\n",
      "/Users/frederic.birwe/Library/CloudStorage/OneDrive-BertelsmannSE&Co.KGaA/Masterarbeit/20_data/613476/ps2400dpi150lpi/693102_Top_03_BK_FS23_086_087_BFL_MM.p2.4c.Y.tif\n",
      "/Users/frederic.birwe/Library/CloudStorage/OneDrive-BertelsmannSE&Co.KGaA/Masterarbeit/20_data/613476/ps2400dpi150lpi/693102_Top_03_BK_FS23_006_007_BFL_MM.p2.4c.Y.tif\n",
      "/Users/frederic.birwe/Library/CloudStorage/OneDrive-BertelsmannSE&Co.KGaA/Masterarbeit/20_data/613476/ps2400dpi150lpi/693102_Top_03_BK_FS23_098_099_BFL_MM.p1.4c.M.tif\n",
      "/Users/frederic.birwe/Library/CloudStorage/OneDrive-BertelsmannSE&Co.KGaA/Masterarbeit/20_data/613476/ps2400dpi150lpi/693102_Top_03_BK_FS23_090_091_BFL_MM.p1.4c.M.tif\n",
      "/Users/frederic.birwe/Library/CloudStorage/OneDrive-BertelsmannSE&Co.KGaA/Masterarbeit/20_data/613476/ps2400dpi150lpi/693102_Top_03_BK_FS23_088_089_BFL_MM.p2.4c.M.tif\n",
      "/Users/frederic.birwe/Library/CloudStorage/OneDrive-BertelsmannSE&Co.KGaA/Masterarbeit/20_data/613476/ps2400dpi150lpi/693102_Top_03_BK_FS23_016_017_BFL_MM.p1.4c.Y.tif\n",
      "/Users/frederic.birwe/Library/CloudStorage/OneDrive-BertelsmannSE&Co.KGaA/Masterarbeit/20_data/613476/ps2400dpi150lpi/693102_Top_03_BK_FS23_080_081_BFL_MM.p2.4c.M.tif\n",
      "/Users/frederic.birwe/Library/CloudStorage/OneDrive-BertelsmannSE&Co.KGaA/Masterarbeit/20_data/613476/ps2400dpi150lpi/693102_Top_03_BK_FS23_068_069_BFL_MM.p2.4c.C.tif\n",
      "/Users/frederic.birwe/Library/CloudStorage/OneDrive-BertelsmannSE&Co.KGaA/Masterarbeit/20_data/613476/ps2400dpi150lpi/693102_Top_03_BK_FS23_004_005_BFL_MM.p1.4c.M.tif\n",
      "/Users/frederic.birwe/Library/CloudStorage/OneDrive-BertelsmannSE&Co.KGaA/Masterarbeit/20_data/613476/ps2400dpi150lpi/693102_Top_03_BK_FS23_092_093_BFL_MM.p2.4c.Y.tif\n",
      "/Users/frederic.birwe/Library/CloudStorage/OneDrive-BertelsmannSE&Co.KGaA/Masterarbeit/20_data/613476/ps2400dpi150lpi/693102_Top_03_BK_FS23_030_031_BFL_MM.p1.4c.C.tif\n",
      "/Users/frederic.birwe/Library/CloudStorage/OneDrive-BertelsmannSE&Co.KGaA/Masterarbeit/20_data/613476/ps2400dpi150lpi/693102_Top_03_BK_FS23_070_071_BFL_MM.p1.4c.C.tif\n",
      "/Users/frederic.birwe/Library/CloudStorage/OneDrive-BertelsmannSE&Co.KGaA/Masterarbeit/20_data/613476/ps2400dpi150lpi/693102_Top_03_BK_FS23_078_079_BFL_MM.p1.4c.C.tif\n",
      "/Users/frederic.birwe/Library/CloudStorage/OneDrive-BertelsmannSE&Co.KGaA/Masterarbeit/20_data/613476/ps2400dpi150lpi/693102_Top_03_BK_FS23_014_015_BFL_MM.p2.4c.M.tif\n",
      "/Users/frederic.birwe/Library/CloudStorage/OneDrive-BertelsmannSE&Co.KGaA/Masterarbeit/20_data/613476/ps2400dpi150lpi/693102_Top_03_BK_FS23_082_083_BFL_MM.p1.4c.Y.tif\n",
      "/Users/frederic.birwe/Library/CloudStorage/OneDrive-BertelsmannSE&Co.KGaA/Masterarbeit/20_data/613476/ps2400dpi150lpi/693102_Top_03_BK_FS23_020_021_BFL_MM.p2.4c.C.tif\n",
      "/Users/frederic.birwe/Library/CloudStorage/OneDrive-BertelsmannSE&Co.KGaA/Masterarbeit/20_data/613476/ps2400dpi150lpi/693102_Top_03_BK_FS23_028_029_BFL_MM.p2.4c.C.tif\n"
     ]
    },
    {
     "name": "stderr",
     "output_type": "stream",
     "text": [
      " 22%|███████▌                           | 2475/11457 [00:05<00:18, 484.08it/s]"
     ]
    },
    {
     "name": "stdout",
     "output_type": "stream",
     "text": [
      "/Users/frederic.birwe/Library/CloudStorage/OneDrive-BertelsmannSE&Co.KGaA/Masterarbeit/20_data/613476/ps2400dpi150lpi/693102_Top_03_BK_FS23_094_095_BFL_MM.p2.4c.M.tif\n",
      "/Users/frederic.birwe/Library/CloudStorage/OneDrive-BertelsmannSE&Co.KGaA/Masterarbeit/20_data/613476/ps2400dpi150lpi/693102_Top_03_BK_FS23_012_013_BFL_MM.p2.4c.Y.tif\n",
      "/Users/frederic.birwe/Library/CloudStorage/OneDrive-BertelsmannSE&Co.KGaA/Masterarbeit/20_data/613476/ps2400dpi150lpi/693102_Top_03_BK_FS23_084_085_BFL_MM.p1.4c.M.tif\n",
      "/Users/frederic.birwe/Library/CloudStorage/OneDrive-BertelsmannSE&Co.KGaA/Masterarbeit/20_data/613476/ps2400dpi150lpi/693102_Top_03_BK_FS23_092_093_BFL_MM.p2.4c.M.tif\n",
      "/Users/frederic.birwe/Library/CloudStorage/OneDrive-BertelsmannSE&Co.KGaA/Masterarbeit/20_data/613476/ps2400dpi150lpi/693102_Top_03_BK_FS23_004_005_BFL_MM.p1.4c.Y.tif\n",
      "/Users/frederic.birwe/Library/CloudStorage/OneDrive-BertelsmannSE&Co.KGaA/Masterarbeit/20_data/613476/ps2400dpi150lpi/693102_Top_03_BK_FS23_082_083_BFL_MM.p1.4c.M.tif\n",
      "/Users/frederic.birwe/Library/CloudStorage/OneDrive-BertelsmannSE&Co.KGaA/Masterarbeit/20_data/613476/ps2400dpi150lpi/693102_Top_03_BK_FS23_014_015_BFL_MM.p2.4c.Y.tif\n",
      "/Users/frederic.birwe/Library/CloudStorage/OneDrive-BertelsmannSE&Co.KGaA/Masterarbeit/20_data/613476/ps2400dpi150lpi/693102_Top_03_BK_FS23_066_067_BFL_MM.p2.4c.C.tif\n",
      "/Users/frederic.birwe/Library/CloudStorage/OneDrive-BertelsmannSE&Co.KGaA/Masterarbeit/20_data/613476/ps2400dpi150lpi/693102_Top_03_BK_FS23_094_095_BFL_MM.p2.4c.Y.tif\n",
      "/Users/frederic.birwe/Library/CloudStorage/OneDrive-BertelsmannSE&Co.KGaA/Masterarbeit/20_data/613476/ps2400dpi150lpi/693102_Top_03_BK_FS23_076_077_BFL_MM.p1.4c.C.tif\n",
      "/Users/frederic.birwe/Library/CloudStorage/OneDrive-BertelsmannSE&Co.KGaA/Masterarbeit/20_data/613476/ps2400dpi150lpi/693102_Top_03_BK_FS23_084_085_BFL_MM.p1.4c.Y.tif\n",
      "/Users/frederic.birwe/Library/CloudStorage/OneDrive-BertelsmannSE&Co.KGaA/Masterarbeit/20_data/613476/ps2400dpi150lpi/693102_Top_03_BK_FS23_012_013_BFL_MM.p2.4c.M.tif\n",
      "/Users/frederic.birwe/Library/CloudStorage/OneDrive-BertelsmannSE&Co.KGaA/Masterarbeit/20_data/613476/ps2400dpi150lpi/693102_Top_03_BK_FS23_026_027_BFL_MM.p2.4c.C.tif\n"
     ]
    },
    {
     "name": "stderr",
     "output_type": "stream",
     "text": [
      " 25%|████████▋                          | 2837/11457 [00:05<00:14, 601.06it/s]"
     ]
    },
    {
     "name": "stdout",
     "output_type": "stream",
     "text": [
      "/Users/frederic.birwe/Library/CloudStorage/OneDrive-BertelsmannSE&Co.KGaA/Masterarbeit/20_data/508266/ps2400dpi150lpi/tg46_554_044_Band_Toggenburg_MM.p1.4c.C.tif\n",
      "/Users/frederic.birwe/Library/CloudStorage/OneDrive-BertelsmannSE&Co.KGaA/Masterarbeit/20_data/508266/ps2400dpi150lpi/tg46_554_042_Band_Toggenburg_MM.p1.4c.C.tif\n",
      "/Users/frederic.birwe/Library/CloudStorage/OneDrive-BertelsmannSE&Co.KGaA/Masterarbeit/20_data/508266/ps2400dpi150lpi/tg46_554_036-040_Band_Toggenburg.p3.4c.C.tif\n",
      "/Users/frederic.birwe/Library/CloudStorage/OneDrive-BertelsmannSE&Co.KGaA/Masterarbeit/20_data/508266/ps2400dpi150lpi/tg46_554_036-040_Band_Toggenburg.p2.4c.C.tif\n",
      "/Users/frederic.birwe/Library/CloudStorage/OneDrive-BertelsmannSE&Co.KGaA/Masterarbeit/20_data/508266/ps2400dpi150lpi/tg46_554_050_Band_Toggenburg_MM.p1.4c.C.tif\n",
      "/Users/frederic.birwe/Library/CloudStorage/OneDrive-BertelsmannSE&Co.KGaA/Masterarbeit/20_data/508266/ps2400dpi150lpi/tg46_554_043_Band_Toggenburg_MM.p1.4c.C.tif\n",
      "/Users/frederic.birwe/Library/CloudStorage/OneDrive-BertelsmannSE&Co.KGaA/Masterarbeit/20_data/508266/ps2400dpi150lpi/tg46_554_045_Band_Toggenburg_MM.p1.4c.C.tif\n"
     ]
    },
    {
     "name": "stderr",
     "output_type": "stream",
     "text": [
      " 26%|█████████                          | 2987/11457 [00:06<00:12, 677.49it/s]"
     ]
    },
    {
     "name": "stdout",
     "output_type": "stream",
     "text": [
      "/Users/frederic.birwe/Library/CloudStorage/OneDrive-BertelsmannSE&Co.KGaA/Masterarbeit/20_data/508266/ps2400dpi150lpi/tg46_554_036-040_Band_Toggenburg.p1.4c.C.tif\n",
      "/Users/frederic.birwe/Library/CloudStorage/OneDrive-BertelsmannSE&Co.KGaA/Masterarbeit/20_data/508266/ps2400dpi150lpi/tg46_554_046_Band_Toggenburg_MM.p1.4c.C.tif\n",
      "/Users/frederic.birwe/Library/CloudStorage/OneDrive-BertelsmannSE&Co.KGaA/Masterarbeit/20_data/508266/ps2400dpi150lpi/tg46_554_003-027_Band_Toggenburg.p3.4c.C.tif\n",
      "/Users/frederic.birwe/Library/CloudStorage/OneDrive-BertelsmannSE&Co.KGaA/Masterarbeit/20_data/508266/ps2400dpi150lpi/tg46_554_003-027_Band_Toggenburg.p2.4c.C.tif\n",
      "/Users/frederic.birwe/Library/CloudStorage/OneDrive-BertelsmannSE&Co.KGaA/Masterarbeit/20_data/508266/ps2400dpi150lpi/tg46_554_041_Band_Toggenburg_MM.p1.4c.C.tif\n",
      "/Users/frederic.birwe/Library/CloudStorage/OneDrive-BertelsmannSE&Co.KGaA/Masterarbeit/20_data/508266/ps2400dpi150lpi/tg46_554_054_Band_Toggenburg_MM.p1.4c.C.tif\n"
     ]
    },
    {
     "name": "stderr",
     "output_type": "stream",
     "text": [
      " 36%|████████████▋                      | 4150/11457 [00:07<00:12, 569.18it/s]"
     ]
    },
    {
     "name": "stdout",
     "output_type": "stream",
     "text": [
      "/Users/frederic.birwe/Library/CloudStorage/OneDrive-BertelsmannSE&Co.KGaA/Masterarbeit/20_data/613781/ps2400dpi150lpi/tg39_005_Kat_AT_23-24_K1.p1.4c.Y.tif\n",
      "/Users/frederic.birwe/Library/CloudStorage/OneDrive-BertelsmannSE&Co.KGaA/Masterarbeit/20_data/613781/ps2400dpi150lpi/tg39_Katalog AT 2023_24_print_Innen 61.p1.4c.Y.tif\n",
      "/Users/frederic.birwe/Library/CloudStorage/OneDrive-BertelsmannSE&Co.KGaA/Masterarbeit/20_data/613781/ps2400dpi150lpi/tg39_Katalog AT 2023_24_print_Innen 61.p1.4c.M.tif\n"
     ]
    },
    {
     "name": "stderr",
     "output_type": "stream",
     "text": [
      " 41%|██████████████▍                    | 4722/11457 [00:09<00:12, 518.42it/s]"
     ]
    },
    {
     "name": "stdout",
     "output_type": "stream",
     "text": [
      "/Users/frederic.birwe/Library/CloudStorage/OneDrive-BertelsmannSE&Co.KGaA/Masterarbeit/20_data/616466/ps2400dpi150lpi/tg39_bg95_INM_0323_COVER_MEN_DE_U5_RUECKEN.p1.4c.M.tif\n",
      "/Users/frederic.birwe/Library/CloudStorage/OneDrive-BertelsmannSE&Co.KGaA/Masterarbeit/20_data/616466/ps2400dpi150lpi/tg39_bg95_INM_0323_COVER_MEN_DE_U5_RUECKEN.p1.4c.Y.tif\n"
     ]
    },
    {
     "name": "stderr",
     "output_type": "stream",
     "text": [
      " 52%|██████████████████                 | 5924/11457 [00:11<00:10, 537.68it/s]"
     ]
    },
    {
     "name": "stdout",
     "output_type": "stream",
     "text": [
      "/Users/frederic.birwe/Library/CloudStorage/OneDrive-BertelsmannSE&Co.KGaA/Masterarbeit/20_data/147342/ps2400dpi150lpi/tg39_DO01_3-12-883525_S130_165_Kap03_2019.p25.4c.M.tif\n"
     ]
    },
    {
     "name": "stderr",
     "output_type": "stream",
     "text": [
      " 53%|██████████████████▍                | 6031/11457 [00:11<00:11, 475.98it/s]"
     ]
    },
    {
     "name": "stdout",
     "output_type": "stream",
     "text": [
      "/Users/frederic.birwe/Library/CloudStorage/OneDrive-BertelsmannSE&Co.KGaA/Masterarbeit/20_data/147342/ps2400dpi150lpi/tg39_DO01_3-12-883525_S064_129_Kap02_2019.p34.4c.M.tif\n"
     ]
    },
    {
     "name": "stderr",
     "output_type": "stream",
     "text": [
      " 54%|██████████████████▊                | 6158/11457 [00:11<00:09, 552.18it/s]"
     ]
    },
    {
     "name": "stdout",
     "output_type": "stream",
     "text": [
      "/Users/frederic.birwe/Library/CloudStorage/OneDrive-BertelsmannSE&Co.KGaA/Masterarbeit/20_data/147342/ps2400dpi150lpi/tg39_DO01_3-12-883525_S064_129_Kap02_2019.p64.4c.Y.tif\n",
      "/Users/frederic.birwe/Library/CloudStorage/OneDrive-BertelsmannSE&Co.KGaA/Masterarbeit/20_data/147342/ps2400dpi150lpi/tg39_DO01_3-12-883525_S064_129_Kap02_2019.p56.4c.M.tif\n"
     ]
    },
    {
     "name": "stderr",
     "output_type": "stream",
     "text": [
      " 54%|██████████████████▉                | 6215/11457 [00:12<00:10, 482.91it/s]"
     ]
    },
    {
     "name": "stdout",
     "output_type": "stream",
     "text": [
      "/Users/frederic.birwe/Library/CloudStorage/OneDrive-BertelsmannSE&Co.KGaA/Masterarbeit/20_data/613010/ps2400dpi150lpi/FC_FS23_S_ES0066_T_A_41L.p1.4c.C.tif\n",
      "/Users/frederic.birwe/Library/CloudStorage/OneDrive-BertelsmannSE&Co.KGaA/Masterarbeit/20_data/613010/ps2400dpi150lpi/FC_FS23_S_ES0054_T_A_41L.p1.4c.M.tif\n",
      "/Users/frederic.birwe/Library/CloudStorage/OneDrive-BertelsmannSE&Co.KGaA/Masterarbeit/20_data/613010/ps2400dpi150lpi/FC_FS23_S_ES0037_T_A_41L.p1.4c.C.tif\n",
      "/Users/frederic.birwe/Library/CloudStorage/OneDrive-BertelsmannSE&Co.KGaA/Masterarbeit/20_data/613010/ps2400dpi150lpi/FC_FS23_S_ES0021_T_D_Suffix_90_41L.p1.4c.C.tif\n",
      "/Users/frederic.birwe/Library/CloudStorage/OneDrive-BertelsmannSE&Co.KGaA/Masterarbeit/20_data/613010/ps2400dpi150lpi/FC_FS23_S_ES0024_T_NL_41L.p1 2.4c.C.tif\n",
      "/Users/frederic.birwe/Library/CloudStorage/OneDrive-BertelsmannSE&Co.KGaA/Masterarbeit/20_data/613010/ps2400dpi150lpi/FC_FS23_S_ES0005_T_A_41L.p1.4c.M.tif\n",
      "/Users/frederic.birwe/Library/CloudStorage/OneDrive-BertelsmannSE&Co.KGaA/Masterarbeit/20_data/613010/ps2400dpi150lpi/FC_FS23_S_ES0042_T_D_Suffix_90_41L.p1.4c.M.tif\n",
      "/Users/frederic.birwe/Library/CloudStorage/OneDrive-BertelsmannSE&Co.KGaA/Masterarbeit/20_data/613010/ps2400dpi150lpi/FC_FS23_S_ES0055_T_CH_41L.p1.4c.M.tif\n",
      "/Users/frederic.birwe/Library/CloudStorage/OneDrive-BertelsmannSE&Co.KGaA/Masterarbeit/20_data/613010/ps2400dpi150lpi/FC_FS23_S_ES0093_T_D_Suffix_90_41L.p1.4c.M.tif\n",
      "/Users/frederic.birwe/Library/CloudStorage/OneDrive-BertelsmannSE&Co.KGaA/Masterarbeit/20_data/613010/ps2400dpi150lpi/FC_FS23_S_ES0007_T_D_Suffix_90_41L.p1.4c.M.tif\n",
      "/Users/frederic.birwe/Library/CloudStorage/OneDrive-BertelsmannSE&Co.KGaA/Masterarbeit/20_data/613010/ps2400dpi150lpi/FC_FS23_S_ES0025_T_CH_41L.p1.4c.C.tif\n",
      "/Users/frederic.birwe/Library/CloudStorage/OneDrive-BertelsmannSE&Co.KGaA/Masterarbeit/20_data/613010/ps2400dpi150lpi/FC_FS23_S_ES0102_T_CH_41L.p1 2.4c.Y.tif\n",
      "/Users/frederic.birwe/Library/CloudStorage/OneDrive-BertelsmannSE&Co.KGaA/Masterarbeit/20_data/613010/ps2400dpi150lpi/FC_FS23_S_ES0064_T_D_Suffix_90_41L.p1.4c.C.tif\n",
      "/Users/frederic.birwe/Library/CloudStorage/OneDrive-BertelsmannSE&Co.KGaA/Masterarbeit/20_data/613010/ps2400dpi150lpi/FC_FS23_S_ES0042_T_NL_41L.p1.4c.Y.tif\n",
      "/Users/frederic.birwe/Library/CloudStorage/OneDrive-BertelsmannSE&Co.KGaA/Masterarbeit/20_data/613010/ps2400dpi150lpi/FC_FS23_S_ES0111_T_A_41L.p1.4c.C.tif\n",
      "/Users/frederic.birwe/Library/CloudStorage/OneDrive-BertelsmannSE&Co.KGaA/Masterarbeit/20_data/613010/ps2400dpi150lpi/FC_FS23_S_ES0095_T_A_41L.p1.4c.C.tif\n",
      "/Users/frederic.birwe/Library/CloudStorage/OneDrive-BertelsmannSE&Co.KGaA/Masterarbeit/20_data/613010/ps2400dpi150lpi/FC_FS23_S_ES0064_T_F_41L.p1 2.4c.Y.tif\n",
      "/Users/frederic.birwe/Library/CloudStorage/OneDrive-BertelsmannSE&Co.KGaA/Masterarbeit/20_data/613010/ps2400dpi150lpi/FC_FS23_S_ES0036_T_D_41L.p1.4c.Y.tif\n",
      "/Users/frederic.birwe/Library/CloudStorage/OneDrive-BertelsmannSE&Co.KGaA/Masterarbeit/20_data/613010/ps2400dpi150lpi/FC_FS23_S_ES0052_T_WCH_41L.p1.4c.C.tif\n"
     ]
    },
    {
     "name": "stderr",
     "output_type": "stream",
     "text": [
      " 55%|███████████████████▎               | 6308/11457 [00:12<00:17, 295.61it/s]"
     ]
    },
    {
     "name": "stdout",
     "output_type": "stream",
     "text": [
      "/Users/frederic.birwe/Library/CloudStorage/OneDrive-BertelsmannSE&Co.KGaA/Masterarbeit/20_data/613010/ps2400dpi150lpi/FC_FS23_S_ES0009_T_NL_41L.p1.4c.M.tif\n",
      "/Users/frederic.birwe/Library/CloudStorage/OneDrive-BertelsmannSE&Co.KGaA/Masterarbeit/20_data/613010/ps2400dpi150lpi/FC_FS23_S_ES0109_T_F_41L.p1 2.4c.Y.tif\n",
      "/Users/frederic.birwe/Library/CloudStorage/OneDrive-BertelsmannSE&Co.KGaA/Masterarbeit/20_data/613010/ps2400dpi150lpi/FC_FS23_S_ES0093_T_WCH_41L.p1.4c.Y.tif\n",
      "/Users/frederic.birwe/Library/CloudStorage/OneDrive-BertelsmannSE&Co.KGaA/Masterarbeit/20_data/613010/ps2400dpi150lpi/FC_FS23_S_ES0083_T_NL_41L.p1.4c.M.tif\n",
      "/Users/frederic.birwe/Library/CloudStorage/OneDrive-BertelsmannSE&Co.KGaA/Masterarbeit/20_data/613010/ps2400dpi150lpi/FC_FS23_S_ES0070_T_NL_41L.p1.4c.M.tif\n",
      "/Users/frederic.birwe/Library/CloudStorage/OneDrive-BertelsmannSE&Co.KGaA/Masterarbeit/20_data/613010/ps2400dpi150lpi/FC_FS23_S_ES0067_T_D_41L.p1.4c.Y.tif\n",
      "/Users/frederic.birwe/Library/CloudStorage/OneDrive-BertelsmannSE&Co.KGaA/Masterarbeit/20_data/613010/ps2400dpi150lpi/FC_FS23_S_ES0019_T_D_Suffix_90_41L.p1.4c.M.tif\n",
      "/Users/frederic.birwe/Library/CloudStorage/OneDrive-BertelsmannSE&Co.KGaA/Masterarbeit/20_data/613010/ps2400dpi150lpi/FC_FS23_S_ES0067_T_CH_41L.p1.4c.Y.tif\n",
      "/Users/frederic.birwe/Library/CloudStorage/OneDrive-BertelsmannSE&Co.KGaA/Masterarbeit/20_data/613010/ps2400dpi150lpi/FC_FS23_S_ES0111_T_D_Suffix_90_41L.p1.4c.C.tif\n",
      "/Users/frederic.birwe/Library/CloudStorage/OneDrive-BertelsmannSE&Co.KGaA/Masterarbeit/20_data/613010/ps2400dpi150lpi/FC_FS23_S_ES0047_T_WCH_41L.p1 2.4c.M.tif\n",
      "/Users/frederic.birwe/Library/CloudStorage/OneDrive-BertelsmannSE&Co.KGaA/Masterarbeit/20_data/613010/ps2400dpi150lpi/FC_FS23_S_ES0094_T_CH_41L.p1.4c.Y.tif\n",
      "/Users/frederic.birwe/Library/CloudStorage/OneDrive-BertelsmannSE&Co.KGaA/Masterarbeit/20_data/613010/ps2400dpi150lpi/FC_FS23_S_ES0025_T_WCH_41L.p1.4c.Y.tif\n",
      "/Users/frederic.birwe/Library/CloudStorage/OneDrive-BertelsmannSE&Co.KGaA/Masterarbeit/20_data/613010/ps2400dpi150lpi/FC_FS23_S_ES0028_T_F_41L.p1.4c.C.tif\n",
      "/Users/frederic.birwe/Library/CloudStorage/OneDrive-BertelsmannSE&Co.KGaA/Masterarbeit/20_data/613010/ps2400dpi150lpi/FC_FS23_S_ES0094_T_D_41L.p1.4c.Y.tif\n",
      "/Users/frederic.birwe/Library/CloudStorage/OneDrive-BertelsmannSE&Co.KGaA/Masterarbeit/20_data/613010/ps2400dpi150lpi/FC_FS23_S_ES0079_T_F_41L.p1.4c.C.tif\n",
      "/Users/frederic.birwe/Library/CloudStorage/OneDrive-BertelsmannSE&Co.KGaA/Masterarbeit/20_data/613010/ps2400dpi150lpi/FC_FS23_S_ES0055_T_WCH_41L.p1.4c.M.tif\n",
      "/Users/frederic.birwe/Library/CloudStorage/OneDrive-BertelsmannSE&Co.KGaA/Masterarbeit/20_data/613010/ps2400dpi150lpi/FC_FS23_S_ES0110_T_D_41L.p1.4c.Y.tif\n",
      "/Users/frederic.birwe/Library/CloudStorage/OneDrive-BertelsmannSE&Co.KGaA/Masterarbeit/20_data/613010/ps2400dpi150lpi/FC_FS23_S_ES0034_T_D_41L.p1.4c.M.tif\n"
     ]
    },
    {
     "name": "stderr",
     "output_type": "stream",
     "text": [
      " 55%|███████████████████▍               | 6343/11457 [00:12<00:19, 267.53it/s]"
     ]
    },
    {
     "name": "stdout",
     "output_type": "stream",
     "text": [
      "/Users/frederic.birwe/Library/CloudStorage/OneDrive-BertelsmannSE&Co.KGaA/Masterarbeit/20_data/613010/ps2400dpi150lpi/FC_FS23_S_ES0007_T_NL_41L.p1 2.4c.Y.tif\n",
      "/Users/frederic.birwe/Library/CloudStorage/OneDrive-BertelsmannSE&Co.KGaA/Masterarbeit/20_data/613010/ps2400dpi150lpi/FC_FS23_S_ES0006_T_D_41L.p1.4c.C.tif\n",
      "/Users/frederic.birwe/Library/CloudStorage/OneDrive-BertelsmannSE&Co.KGaA/Masterarbeit/20_data/613010/ps2400dpi150lpi/FC_FS23_S_ES0003_T_F_41L.p1.4c.M.tif\n",
      "/Users/frederic.birwe/Library/CloudStorage/OneDrive-BertelsmannSE&Co.KGaA/Masterarbeit/20_data/613010/ps2400dpi150lpi/FC_FS23_S_ES0060_T_F_41L.p1.4c.C.tif\n",
      "/Users/frederic.birwe/Library/CloudStorage/OneDrive-BertelsmannSE&Co.KGaA/Masterarbeit/20_data/613010/ps2400dpi150lpi/FC_FS23_S_ES0065_T_D_41L.p1.4c.M.tif\n",
      "/Users/frederic.birwe/Library/CloudStorage/OneDrive-BertelsmannSE&Co.KGaA/Masterarbeit/20_data/613010/ps2400dpi150lpi/FC_FS23_S_ES0109_T_D_41L.p1.4c.Y.tif\n",
      "/Users/frederic.birwe/Library/CloudStorage/OneDrive-BertelsmannSE&Co.KGaA/Masterarbeit/20_data/613010/ps2400dpi150lpi/FC_FS23_S_ES0107_T_CH_41L.p1.4c.Y.tif\n",
      "/Users/frederic.birwe/Library/CloudStorage/OneDrive-BertelsmannSE&Co.KGaA/Masterarbeit/20_data/613010/ps2400dpi150lpi/FC_FS23_S_ES0052_T_F_41L.p1.4c.M.tif\n",
      "/Users/frederic.birwe/Library/CloudStorage/OneDrive-BertelsmannSE&Co.KGaA/Masterarbeit/20_data/613010/ps2400dpi150lpi/FC_FS23_S_ES0057_T_D_41L.p1.4c.C.tif\n",
      "/Users/frederic.birwe/Library/CloudStorage/OneDrive-BertelsmannSE&Co.KGaA/Masterarbeit/20_data/613010/ps2400dpi150lpi/FC_FS23_S_ES0033_T_WCH_41L.p1.4c.Y.tif\n",
      "/Users/frederic.birwe/Library/CloudStorage/OneDrive-BertelsmannSE&Co.KGaA/Masterarbeit/20_data/613010/ps2400dpi150lpi/FC_FS23_S_ES0003_T_NL_41L.p1.4c.Y.tif\n",
      "/Users/frederic.birwe/Library/CloudStorage/OneDrive-BertelsmannSE&Co.KGaA/Masterarbeit/20_data/613010/ps2400dpi150lpi/FC_FS23_S_ES0096_T_D_41L.p1.4c.M.tif\n",
      "/Users/frederic.birwe/Library/CloudStorage/OneDrive-BertelsmannSE&Co.KGaA/Masterarbeit/20_data/613010/ps2400dpi150lpi/FC_FS23_S_ES0093_T_F_41L.p1.4c.C.tif\n",
      "/Users/frederic.birwe/Library/CloudStorage/OneDrive-BertelsmannSE&Co.KGaA/Masterarbeit/20_data/613010/ps2400dpi150lpi/FC_FS23_S_ES0064_T_CH_41L.p1.4c.C.tif\n",
      "/Users/frederic.birwe/Library/CloudStorage/OneDrive-BertelsmannSE&Co.KGaA/Masterarbeit/20_data/613010/ps2400dpi150lpi/FC_FS23_S_ES0008_T_D_Suffix_90_41L.p1.4c.Y.tif\n",
      "/Users/frederic.birwe/Library/CloudStorage/OneDrive-BertelsmannSE&Co.KGaA/Masterarbeit/20_data/613010/ps2400dpi150lpi/FC_FS23_S_ES0018_T_F_41L.p1.4c.Y.tif\n",
      "/Users/frederic.birwe/Library/CloudStorage/OneDrive-BertelsmannSE&Co.KGaA/Masterarbeit/20_data/613010/ps2400dpi150lpi/FC_FS23_S_ES0110_T_NL_41L.p1.4c.M.tif\n",
      "/Users/frederic.birwe/Library/CloudStorage/OneDrive-BertelsmannSE&Co.KGaA/Masterarbeit/20_data/613010/ps2400dpi150lpi/FC_FS23_S_ES0089_T_NL_41L.p1.4c.Y.tif\n"
     ]
    },
    {
     "name": "stderr",
     "output_type": "stream",
     "text": [
      " 56%|███████████████████▍               | 6374/11457 [00:12<00:20, 250.11it/s]"
     ]
    },
    {
     "name": "stdout",
     "output_type": "stream",
     "text": [
      "/Users/frederic.birwe/Library/CloudStorage/OneDrive-BertelsmannSE&Co.KGaA/Masterarbeit/20_data/613010/ps2400dpi150lpi/FC_FS23_S_ES0044_T_WCH_41L.p1.4c.C.tif\n",
      "/Users/frederic.birwe/Library/CloudStorage/OneDrive-BertelsmannSE&Co.KGaA/Masterarbeit/20_data/613010/ps2400dpi150lpi/FC_FS23_S_ES0101_T_F_41L.p1 2.4c.M.tif\n",
      "/Users/frederic.birwe/Library/CloudStorage/OneDrive-BertelsmannSE&Co.KGaA/Masterarbeit/20_data/613010/ps2400dpi150lpi/FC_FS23_S_ES0112_T_D_41L.p1.4c.M.tif\n",
      "/Users/frederic.birwe/Library/CloudStorage/OneDrive-BertelsmannSE&Co.KGaA/Masterarbeit/20_data/613010/ps2400dpi150lpi/FC_FS23_S_ES0048_T_NL_41L.p1.4c.M.tif\n",
      "/Users/frederic.birwe/Library/CloudStorage/OneDrive-BertelsmannSE&Co.KGaA/Masterarbeit/20_data/613010/ps2400dpi150lpi/FC_FS23_S_ES0072_T_F_41L.p1 2.4c.Y.tif\n",
      "/Users/frederic.birwe/Library/CloudStorage/OneDrive-BertelsmannSE&Co.KGaA/Masterarbeit/20_data/613010/ps2400dpi150lpi/FC_FS23_S_ES0056_T_A_41L.p1.4c.Y.tif\n",
      "/Users/frederic.birwe/Library/CloudStorage/OneDrive-BertelsmannSE&Co.KGaA/Masterarbeit/20_data/613010/ps2400dpi150lpi/FC_FS23_S_ES0108_T_A_41L.p1.4c.C.tif\n",
      "/Users/frederic.birwe/Library/CloudStorage/OneDrive-BertelsmannSE&Co.KGaA/Masterarbeit/20_data/613010/ps2400dpi150lpi/FC_FS23_S_ES0082_T_D_Suffix_90_41L.p1.4c.Y.tif\n",
      "/Users/frederic.birwe/Library/CloudStorage/OneDrive-BertelsmannSE&Co.KGaA/Masterarbeit/20_data/613010/ps2400dpi150lpi/FC_FS23_S_ES0016_T_D_Suffix_90_41L.p1.4c.Y.tif\n",
      "/Users/frederic.birwe/Library/CloudStorage/OneDrive-BertelsmannSE&Co.KGaA/Masterarbeit/20_data/613010/ps2400dpi150lpi/FC_FS23_S_ES0031_T_NL_41L.p1.4c.M.tif\n",
      "/Users/frederic.birwe/Library/CloudStorage/OneDrive-BertelsmannSE&Co.KGaA/Masterarbeit/20_data/613010/ps2400dpi150lpi/FC_FS23_S_ES0007_T_A_41L.p1.4c.Y.tif\n",
      "/Users/frederic.birwe/Library/CloudStorage/OneDrive-BertelsmannSE&Co.KGaA/Masterarbeit/20_data/613010/ps2400dpi150lpi/FC_FS23_S_ES0041_T_NL_41L.p1.4c.C.tif\n",
      "/Users/frederic.birwe/Library/CloudStorage/OneDrive-BertelsmannSE&Co.KGaA/Masterarbeit/20_data/613010/ps2400dpi150lpi/FC_FS23_S_ES0072_T_NL_41L.p1 2.4c.Y.tif\n",
      "/Users/frederic.birwe/Library/CloudStorage/OneDrive-BertelsmannSE&Co.KGaA/Masterarbeit/20_data/613010/ps2400dpi150lpi/FC_FS23_S_ES0053_T_D_Suffix_90_41L.p1.4c.Y.tif\n",
      "/Users/frederic.birwe/Library/CloudStorage/OneDrive-BertelsmannSE&Co.KGaA/Masterarbeit/20_data/613010/ps2400dpi150lpi/FC_FS23_S_ES0026_T_CH_41L.p1.4c.Y.tif\n",
      "/Users/frederic.birwe/Library/CloudStorage/OneDrive-BertelsmannSE&Co.KGaA/Masterarbeit/20_data/613010/ps2400dpi150lpi/FC_FS23_S_ES0108_T_CH_41L.p1 2.4c.Y.tif\n",
      "/Users/frederic.birwe/Library/CloudStorage/OneDrive-BertelsmannSE&Co.KGaA/Masterarbeit/20_data/613010/ps2400dpi150lpi/FC_FS23_S_ES0038_T_NL_41L.p1.4c.C.tif\n",
      "/Users/frederic.birwe/Library/CloudStorage/OneDrive-BertelsmannSE&Co.KGaA/Masterarbeit/20_data/613010/ps2400dpi150lpi/FC_FS23_S_ES0095_T_D_41L.p1.4c.Y.tif\n",
      "/Users/frederic.birwe/Library/CloudStorage/OneDrive-BertelsmannSE&Co.KGaA/Masterarbeit/20_data/613010/ps2400dpi150lpi/FC_FS23_S_ES0112_T_D_Suffix_90_41L.p1.4c.M.tif\n",
      "/Users/frederic.birwe/Library/CloudStorage/OneDrive-BertelsmannSE&Co.KGaA/Masterarbeit/20_data/613010/ps2400dpi150lpi/FC_FS23_S_ES0102_T_WCH_41L.p1.4c.M.tif\n",
      "/Users/frederic.birwe/Library/CloudStorage/OneDrive-BertelsmannSE&Co.KGaA/Masterarbeit/20_data/613010/ps2400dpi150lpi/FC_FS23_S_ES0029_T_F_41L.p1.4c.C.tif\n"
     ]
    },
    {
     "name": "stderr",
     "output_type": "stream",
     "text": [
      " 56%|███████████████████▋               | 6427/11457 [00:13<00:22, 222.65it/s]"
     ]
    },
    {
     "name": "stdout",
     "output_type": "stream",
     "text": [
      "/Users/frederic.birwe/Library/CloudStorage/OneDrive-BertelsmannSE&Co.KGaA/Masterarbeit/20_data/613010/ps2400dpi150lpi/FC_FS23_S_ES0005_T_NL_41L.p1.4c.C.tif\n",
      "/Users/frederic.birwe/Library/CloudStorage/OneDrive-BertelsmannSE&Co.KGaA/Masterarbeit/20_data/613010/ps2400dpi150lpi/FC_FS23_S_ES0111_T_D_41L.p1.4c.Y.tif\n",
      "/Users/frederic.birwe/Library/CloudStorage/OneDrive-BertelsmannSE&Co.KGaA/Masterarbeit/20_data/613010/ps2400dpi150lpi/FC_FS23_S_ES0112_T_WCH_41L.p1 2.4c.M.tif\n",
      "/Users/frederic.birwe/Library/CloudStorage/OneDrive-BertelsmannSE&Co.KGaA/Masterarbeit/20_data/613010/ps2400dpi150lpi/FC_FS23_S_ES0062_T_CH_41L.p1.4c.Y.tif\n",
      "/Users/frederic.birwe/Library/CloudStorage/OneDrive-BertelsmannSE&Co.KGaA/Masterarbeit/20_data/613010/ps2400dpi150lpi/FC_FS23_S_ES0078_T_F_41L.p1.4c.C.tif\n",
      "/Users/frederic.birwe/Library/CloudStorage/OneDrive-BertelsmannSE&Co.KGaA/Masterarbeit/20_data/613010/ps2400dpi150lpi/FC_FS23_S_ES0091_T_CH_41L.p1.4c.Y.tif\n",
      "/Users/frederic.birwe/Library/CloudStorage/OneDrive-BertelsmannSE&Co.KGaA/Masterarbeit/20_data/613010/ps2400dpi150lpi/FC_FS23_S_ES0101_T_CH_41L.p1.4c.C.tif\n",
      "/Users/frederic.birwe/Library/CloudStorage/OneDrive-BertelsmannSE&Co.KGaA/Masterarbeit/20_data/613010/ps2400dpi150lpi/FC_FS23_S_ES0043_T_NL_41L.p1 2.4c.Y.tif\n",
      "/Users/frederic.birwe/Library/CloudStorage/OneDrive-BertelsmannSE&Co.KGaA/Masterarbeit/20_data/613010/ps2400dpi150lpi/FC_FS23_S_ES0086_T_NL_41L.p1.4c.M.tif\n",
      "/Users/frederic.birwe/Library/CloudStorage/OneDrive-BertelsmannSE&Co.KGaA/Masterarbeit/20_data/613010/ps2400dpi150lpi/FC_FS23_S_ES0037_T_D_41L.p1.4c.Y.tif\n",
      "/Users/frederic.birwe/Library/CloudStorage/OneDrive-BertelsmannSE&Co.KGaA/Masterarbeit/20_data/613010/ps2400dpi150lpi/FC_FS23_S_ES0075_T_NL_41L.p1.4c.M.tif\n",
      "/Users/frederic.birwe/Library/CloudStorage/OneDrive-BertelsmannSE&Co.KGaA/Masterarbeit/20_data/613010/ps2400dpi150lpi/FC_FS23_S_ES0079_T_D_Suffix_90_41L.p1.4c.M.tif\n",
      "/Users/frederic.birwe/Library/CloudStorage/OneDrive-BertelsmannSE&Co.KGaA/Masterarbeit/20_data/613010/ps2400dpi150lpi/FC_FS23_S_ES0051_T_F_41L.p1.4c.Y.tif\n",
      "/Users/frederic.birwe/Library/CloudStorage/OneDrive-BertelsmannSE&Co.KGaA/Masterarbeit/20_data/613010/ps2400dpi150lpi/FC_FS23_S_ES0044_T_NL_41L.p1 2.4c.M.tif\n",
      "/Users/frederic.birwe/Library/CloudStorage/OneDrive-BertelsmannSE&Co.KGaA/Masterarbeit/20_data/613010/ps2400dpi150lpi/FC_FS23_S_ES0066_T_D_41L.p1.4c.Y.tif\n",
      "/Users/frederic.birwe/Library/CloudStorage/OneDrive-BertelsmannSE&Co.KGaA/Masterarbeit/20_data/613010/ps2400dpi150lpi/FC_FS23_S_ES0105_T_WCH_41L.p1.4c.C.tif\n",
      "/Users/frederic.birwe/Library/CloudStorage/OneDrive-BertelsmannSE&Co.KGaA/Masterarbeit/20_data/613010/ps2400dpi150lpi/FC_FS23_S_ES0090_T_D_Suffix_90_41L.p1.4c.C.tif\n",
      "/Users/frederic.birwe/Library/CloudStorage/OneDrive-BertelsmannSE&Co.KGaA/Masterarbeit/20_data/613010/ps2400dpi150lpi/FC_FS23_S_ES0004_T_D_Suffix_90_41L.p1.4c.C.tif\n",
      "/Users/frederic.birwe/Library/CloudStorage/OneDrive-BertelsmannSE&Co.KGaA/Masterarbeit/20_data/613010/ps2400dpi150lpi/FC_FS23_S_ES0110_T_A_41L.p1.4c.C.tif\n"
     ]
    },
    {
     "name": "stderr",
     "output_type": "stream",
     "text": [
      " 56%|███████████████████▋               | 6451/11457 [00:13<00:22, 219.18it/s]"
     ]
    },
    {
     "name": "stdout",
     "output_type": "stream",
     "text": [
      "/Users/frederic.birwe/Library/CloudStorage/OneDrive-BertelsmannSE&Co.KGaA/Masterarbeit/20_data/613010/ps2400dpi150lpi/FC_FS23_S_ES0059_T_CH_41L.p1.4c.C.tif\n",
      "/Users/frederic.birwe/Library/CloudStorage/OneDrive-BertelsmannSE&Co.KGaA/Masterarbeit/20_data/613010/ps2400dpi150lpi/FC_FS23_S_ES0067_T_D_Suffix_90_41L.p1.4c.M.tif\n",
      "/Users/frederic.birwe/Library/CloudStorage/OneDrive-BertelsmannSE&Co.KGaA/Masterarbeit/20_data/613010/ps2400dpi150lpi/FC_FS23_S_ES0036_T_NL_41L.p1 2.4c.Y.tif\n",
      "/Users/frederic.birwe/Library/CloudStorage/OneDrive-BertelsmannSE&Co.KGaA/Masterarbeit/20_data/613010/ps2400dpi150lpi/FC_FS23_S_ES0031_T_NL_41L.p1 2.4c.M.tif\n",
      "/Users/frederic.birwe/Library/CloudStorage/OneDrive-BertelsmannSE&Co.KGaA/Masterarbeit/20_data/613010/ps2400dpi150lpi/FC_FS23_S_ES0047_T_NL_41L.p1.4c.Y.tif\n",
      "/Users/frederic.birwe/Library/CloudStorage/OneDrive-BertelsmannSE&Co.KGaA/Masterarbeit/20_data/613010/ps2400dpi150lpi/FC_FS23_S_ES0094_T_A_41L.p1.4c.C.tif\n",
      "/Users/frederic.birwe/Library/CloudStorage/OneDrive-BertelsmannSE&Co.KGaA/Masterarbeit/20_data/613010/ps2400dpi150lpi/FC_FS23_S_ES0006_T_WCH_41L.p1.4c.C.tif\n",
      "/Users/frederic.birwe/Library/CloudStorage/OneDrive-BertelsmannSE&Co.KGaA/Masterarbeit/20_data/613010/ps2400dpi150lpi/FC_FS23_S_ES0020_T_CH_41L.p1.4c.C.tif\n",
      "/Users/frederic.birwe/Library/CloudStorage/OneDrive-BertelsmannSE&Co.KGaA/Masterarbeit/20_data/613010/ps2400dpi150lpi/FC_FS23_S_ES0055_T_A_41L.p1.4c.M.tif\n",
      "/Users/frederic.birwe/Library/CloudStorage/OneDrive-BertelsmannSE&Co.KGaA/Masterarbeit/20_data/613010/ps2400dpi150lpi/FC_FS23_S_ES0067_T_A_41L.p1.4c.C.tif\n",
      "/Users/frederic.birwe/Library/CloudStorage/OneDrive-BertelsmannSE&Co.KGaA/Masterarbeit/20_data/613010/ps2400dpi150lpi/FC_FS23_S_ES0022_T_D_Suffix_90_41L.p1.4c.M.tif\n",
      "/Users/frederic.birwe/Library/CloudStorage/OneDrive-BertelsmannSE&Co.KGaA/Masterarbeit/20_data/613010/ps2400dpi150lpi/FC_FS23_S_ES0004_T_A_41L.p1.4c.M.tif\n",
      "/Users/frederic.birwe/Library/CloudStorage/OneDrive-BertelsmannSE&Co.KGaA/Masterarbeit/20_data/613010/ps2400dpi150lpi/FC_FS23_S_ES0036_T_A_41L.p1.4c.C.tif\n",
      "/Users/frederic.birwe/Library/CloudStorage/OneDrive-BertelsmannSE&Co.KGaA/Masterarbeit/20_data/613010/ps2400dpi150lpi/FC_FS23_S_ES0071_T_WCH_41L.p1.4c.Y.tif\n",
      "/Users/frederic.birwe/Library/CloudStorage/OneDrive-BertelsmannSE&Co.KGaA/Masterarbeit/20_data/613010/ps2400dpi150lpi/FC_FS23_S_ES0041_T_D_Suffix_90_41L.p1.4c.C.tif\n",
      "/Users/frederic.birwe/Library/CloudStorage/OneDrive-BertelsmannSE&Co.KGaA/Masterarbeit/20_data/613010/ps2400dpi150lpi/FC_FS23_S_ES0029_T_CH_41L.p1.4c.M.tif\n"
     ]
    },
    {
     "name": "stderr",
     "output_type": "stream",
     "text": [
      " 57%|███████████████████▊               | 6496/11457 [00:13<00:23, 208.85it/s]"
     ]
    },
    {
     "name": "stdout",
     "output_type": "stream",
     "text": [
      "/Users/frederic.birwe/Library/CloudStorage/OneDrive-BertelsmannSE&Co.KGaA/Masterarbeit/20_data/613010/ps2400dpi150lpi/FC_FS23_S_ES0067_T_WCH_41L.p1.4c.Y.tif\n",
      "/Users/frederic.birwe/Library/CloudStorage/OneDrive-BertelsmannSE&Co.KGaA/Masterarbeit/20_data/613010/ps2400dpi150lpi/FC_FS23_S_ES0033_T_D_Suffix_90_41L.p1.4c.Y.tif\n",
      "/Users/frederic.birwe/Library/CloudStorage/OneDrive-BertelsmannSE&Co.KGaA/Masterarbeit/20_data/613010/ps2400dpi150lpi/FC_FS23_S_ES0079_T_WCH_41L.p1.4c.M.tif\n",
      "/Users/frederic.birwe/Library/CloudStorage/OneDrive-BertelsmannSE&Co.KGaA/Masterarbeit/20_data/613010/ps2400dpi150lpi/FC_FS23_S_ES0009_T_WCH_41L.p1.4c.Y.tif\n",
      "/Users/frederic.birwe/Library/CloudStorage/OneDrive-BertelsmannSE&Co.KGaA/Masterarbeit/20_data/613010/ps2400dpi150lpi/FC_FS23_S_ES0044_T_NL_41L.p1.4c.C.tif\n",
      "/Users/frederic.birwe/Library/CloudStorage/OneDrive-BertelsmannSE&Co.KGaA/Masterarbeit/20_data/613010/ps2400dpi150lpi/FC_FS23_S_ES0017_T_WCH_41L.p1.4c.M.tif\n",
      "/Users/frederic.birwe/Library/CloudStorage/OneDrive-BertelsmannSE&Co.KGaA/Masterarbeit/20_data/613010/ps2400dpi150lpi/FC_FS23_S_ES0109_T_A_41L.p1.4c.C.tif\n",
      "/Users/frederic.birwe/Library/CloudStorage/OneDrive-BertelsmannSE&Co.KGaA/Masterarbeit/20_data/613010/ps2400dpi150lpi/FC_FS23_S_ES0034_T_NL_41L.p1.4c.M.tif\n",
      "/Users/frederic.birwe/Library/CloudStorage/OneDrive-BertelsmannSE&Co.KGaA/Masterarbeit/20_data/613010/ps2400dpi150lpi/FC_FS23_S_ES0057_T_A_41L.p1.4c.Y.tif\n",
      "/Users/frederic.birwe/Library/CloudStorage/OneDrive-BertelsmannSE&Co.KGaA/Masterarbeit/20_data/613010/ps2400dpi150lpi/FC_FS23_S_ES0010_T_WCH_41L.p1.4c.C.tif\n",
      "/Users/frederic.birwe/Library/CloudStorage/OneDrive-BertelsmannSE&Co.KGaA/Masterarbeit/20_data/613010/ps2400dpi150lpi/FC_FS23_S_ES0006_T_A_41L.p1.4c.Y.tif\n",
      "/Users/frederic.birwe/Library/CloudStorage/OneDrive-BertelsmannSE&Co.KGaA/Masterarbeit/20_data/613010/ps2400dpi150lpi/FC_FS23_S_ES0076_T_D_Suffix_90_41L.p1.4c.Y.tif\n",
      "/Users/frederic.birwe/Library/CloudStorage/OneDrive-BertelsmannSE&Co.KGaA/Masterarbeit/20_data/613010/ps2400dpi150lpi/FC_FS23_S_ES0019_T_F_41L.p1.4c.Y.tif\n",
      "/Users/frederic.birwe/Library/CloudStorage/OneDrive-BertelsmannSE&Co.KGaA/Masterarbeit/20_data/613010/ps2400dpi150lpi/FC_FS23_S_ES0068_T_D_Suffix_90_41L.p1.4c.Y.tif\n",
      "/Users/frederic.birwe/Library/CloudStorage/OneDrive-BertelsmannSE&Co.KGaA/Masterarbeit/20_data/613010/ps2400dpi150lpi/FC_FS23_S_ES0097_T_D_41L.p1.4c.M.tif\n",
      "/Users/frederic.birwe/Library/CloudStorage/OneDrive-BertelsmannSE&Co.KGaA/Masterarbeit/20_data/613010/ps2400dpi150lpi/FC_FS23_S_ES0092_T_F_41L.p1.4c.C.tif\n",
      "/Users/frederic.birwe/Library/CloudStorage/OneDrive-BertelsmannSE&Co.KGaA/Masterarbeit/20_data/613010/ps2400dpi150lpi/FC_FS23_S_ES0056_T_F_41L.p1 2.4c.M.tif\n",
      "/Users/frederic.birwe/Library/CloudStorage/OneDrive-BertelsmannSE&Co.KGaA/Masterarbeit/20_data/613010/ps2400dpi150lpi/FC_FS23_S_ES0113_T_WCH_41L.p1.4c.C.tif\n",
      "/Users/frederic.birwe/Library/CloudStorage/OneDrive-BertelsmannSE&Co.KGaA/Masterarbeit/20_data/613010/ps2400dpi150lpi/FC_FS23_S_ES0018_T_CH_41L.p1.4c.C.tif\n",
      "/Users/frederic.birwe/Library/CloudStorage/OneDrive-BertelsmannSE&Co.KGaA/Masterarbeit/20_data/613010/ps2400dpi150lpi/FC_FS23_S_ES0081_T_CH_41L.p1 2.4c.Y.tif\n",
      "/Users/frederic.birwe/Library/CloudStorage/OneDrive-BertelsmannSE&Co.KGaA/Masterarbeit/20_data/613010/ps2400dpi150lpi/FC_FS23_S_ES0048_T_F_41L.p1 2.4c.Y.tif\n",
      "/Users/frederic.birwe/Library/CloudStorage/OneDrive-BertelsmannSE&Co.KGaA/Masterarbeit/20_data/613010/ps2400dpi150lpi/FC_FS23_S_ES0061_T_CH_41L.p1.4c.C.tif\n",
      "/Users/frederic.birwe/Library/CloudStorage/OneDrive-BertelsmannSE&Co.KGaA/Masterarbeit/20_data/613010/ps2400dpi150lpi/FC_FS23_S_ES0113_T_D_41L.p1.4c.M.tif\n",
      "/Users/frederic.birwe/Library/CloudStorage/OneDrive-BertelsmannSE&Co.KGaA/Masterarbeit/20_data/613010/ps2400dpi150lpi/FC_FS23_S_ES0054_T_WCH_41L.p1 2.4c.Y.tif\n",
      "/Users/frederic.birwe/Library/CloudStorage/OneDrive-BertelsmannSE&Co.KGaA/Masterarbeit/20_data/613010/ps2400dpi150lpi/FC_FS23_S_ES0086_T_CH_41L.p1 2.4c.M.tif\n"
     ]
    },
    {
     "name": "stderr",
     "output_type": "stream",
     "text": [
      " 57%|███████████████████▉               | 6546/11457 [00:13<00:22, 222.92it/s]"
     ]
    },
    {
     "name": "stdout",
     "output_type": "stream",
     "text": [
      "/Users/frederic.birwe/Library/CloudStorage/OneDrive-BertelsmannSE&Co.KGaA/Masterarbeit/20_data/613010/ps2400dpi150lpi/FC_FS23_S_ES0026_T_F_41L.p1 2.4c.Y.tif\n",
      "/Users/frederic.birwe/Library/CloudStorage/OneDrive-BertelsmannSE&Co.KGaA/Masterarbeit/20_data/613010/ps2400dpi150lpi/FC_FS23_S_ES0015_T_NL_41L.p1 2.4c.C.tif\n",
      "/Users/frederic.birwe/Library/CloudStorage/OneDrive-BertelsmannSE&Co.KGaA/Masterarbeit/20_data/613010/ps2400dpi150lpi/FC_FS23_S_ES0006_T_NL_41L.p1.4c.Y.tif\n",
      "/Users/frederic.birwe/Library/CloudStorage/OneDrive-BertelsmannSE&Co.KGaA/Masterarbeit/20_data/613010/ps2400dpi150lpi/FC_FS23_S_ES0007_T_D_41L.p1.4c.C.tif\n",
      "/Users/frederic.birwe/Library/CloudStorage/OneDrive-BertelsmannSE&Co.KGaA/Masterarbeit/20_data/613010/ps2400dpi150lpi/FC_FS23_S_ES0035_T_D_41L.p1.4c.M.tif\n",
      "/Users/frederic.birwe/Library/CloudStorage/OneDrive-BertelsmannSE&Co.KGaA/Masterarbeit/20_data/613010/ps2400dpi150lpi/FC_FS23_S_ES0030_T_F_41L.p1.4c.C.tif\n",
      "/Users/frederic.birwe/Library/CloudStorage/OneDrive-BertelsmannSE&Co.KGaA/Masterarbeit/20_data/613010/ps2400dpi150lpi/FC_FS23_S_ES0053_T_F_41L.p1.4c.M.tif\n",
      "/Users/frederic.birwe/Library/CloudStorage/OneDrive-BertelsmannSE&Co.KGaA/Masterarbeit/20_data/613010/ps2400dpi150lpi/FC_FS23_S_ES0056_T_D_41L.p1.4c.C.tif\n",
      "/Users/frederic.birwe/Library/CloudStorage/OneDrive-BertelsmannSE&Co.KGaA/Masterarbeit/20_data/613010/ps2400dpi150lpi/FC_FS23_S_ES0068_T_CH_41L.p1.4c.M.tif\n",
      "/Users/frederic.birwe/Library/CloudStorage/OneDrive-BertelsmannSE&Co.KGaA/Masterarbeit/20_data/613010/ps2400dpi150lpi/FC_FS23_S_ES0090_T_F_41L.p1 2.4c.Y.tif\n",
      "/Users/frederic.birwe/Library/CloudStorage/OneDrive-BertelsmannSE&Co.KGaA/Masterarbeit/20_data/613010/ps2400dpi150lpi/FC_FS23_S_ES0103_T_D_Suffix_90_41L.p1.4c.Y.tif\n",
      "/Users/frederic.birwe/Library/CloudStorage/OneDrive-BertelsmannSE&Co.KGaA/Masterarbeit/20_data/613010/ps2400dpi150lpi/FC_FS23_S_ES0108_T_D_41L.p1.4c.Y.tif\n",
      "/Users/frederic.birwe/Library/CloudStorage/OneDrive-BertelsmannSE&Co.KGaA/Masterarbeit/20_data/613010/ps2400dpi150lpi/FC_FS23_S_ES0114_T_WCH_41L.p1.4c.M.tif\n",
      "/Users/frederic.birwe/Library/CloudStorage/OneDrive-BertelsmannSE&Co.KGaA/Masterarbeit/20_data/613010/ps2400dpi150lpi/FC_FS23_S_ES0064_T_D_41L.p1.4c.M.tif\n",
      "/Users/frederic.birwe/Library/CloudStorage/OneDrive-BertelsmannSE&Co.KGaA/Masterarbeit/20_data/613010/ps2400dpi150lpi/FC_FS23_S_ES0055_T_CH_41L.p1.4c.Y.tif\n",
      "/Users/frederic.birwe/Library/CloudStorage/OneDrive-BertelsmannSE&Co.KGaA/Masterarbeit/20_data/613010/ps2400dpi150lpi/FC_FS23_S_ES0042_T_D_Suffix_90_41L.p1.4c.Y.tif\n",
      "/Users/frederic.birwe/Library/CloudStorage/OneDrive-BertelsmannSE&Co.KGaA/Masterarbeit/20_data/613010/ps2400dpi150lpi/FC_FS23_S_ES0005_T_A_41L.p1.4c.Y.tif\n",
      "/Users/frederic.birwe/Library/CloudStorage/OneDrive-BertelsmannSE&Co.KGaA/Masterarbeit/20_data/613010/ps2400dpi150lpi/FC_FS23_S_ES0032_T_NL_41L.p1.4c.C.tif\n",
      "/Users/frederic.birwe/Library/CloudStorage/OneDrive-BertelsmannSE&Co.KGaA/Masterarbeit/20_data/613010/ps2400dpi150lpi/FC_FS23_S_ES0054_T_A_41L.p1.4c.Y.tif\n",
      "/Users/frederic.birwe/Library/CloudStorage/OneDrive-BertelsmannSE&Co.KGaA/Masterarbeit/20_data/613010/ps2400dpi150lpi/FC_FS23_S_ES0023_T_NL_41L.p1 2.4c.C.tif\n",
      "/Users/frederic.birwe/Library/CloudStorage/OneDrive-BertelsmannSE&Co.KGaA/Masterarbeit/20_data/613010/ps2400dpi150lpi/FC_FS23_S_ES0064_T_F_41L.p1 2.4c.M.tif\n"
     ]
    },
    {
     "name": "stderr",
     "output_type": "stream",
     "text": [
      " 58%|████████████████████▏              | 6594/11457 [00:13<00:21, 227.23it/s]"
     ]
    },
    {
     "name": "stdout",
     "output_type": "stream",
     "text": [
      "/Users/frederic.birwe/Library/CloudStorage/OneDrive-BertelsmannSE&Co.KGaA/Masterarbeit/20_data/613010/ps2400dpi150lpi/FC_FS23_S_ES0042_T_NL_41L.p1.4c.M.tif\n",
      "/Users/frederic.birwe/Library/CloudStorage/OneDrive-BertelsmannSE&Co.KGaA/Masterarbeit/20_data/613010/ps2400dpi150lpi/FC_FS23_S_ES0102_T_CH_41L.p1 2.4c.M.tif\n",
      "/Users/frederic.birwe/Library/CloudStorage/OneDrive-BertelsmannSE&Co.KGaA/Masterarbeit/20_data/613010/ps2400dpi150lpi/FC_FS23_S_ES0007_T_D_Suffix_90_41L.p1.4c.Y.tif\n",
      "/Users/frederic.birwe/Library/CloudStorage/OneDrive-BertelsmannSE&Co.KGaA/Masterarbeit/20_data/613010/ps2400dpi150lpi/FC_FS23_S_ES0093_T_D_Suffix_90_41L.p1.4c.Y.tif\n",
      "/Users/frederic.birwe/Library/CloudStorage/OneDrive-BertelsmannSE&Co.KGaA/Masterarbeit/20_data/613010/ps2400dpi150lpi/FC_FS23_S_ES0019_T_D_Suffix_90_41L.p1.4c.Y.tif\n",
      "/Users/frederic.birwe/Library/CloudStorage/OneDrive-BertelsmannSE&Co.KGaA/Masterarbeit/20_data/613010/ps2400dpi150lpi/FC_FS23_S_ES0055_T_D_41L.p1.4c.C.tif\n",
      "/Users/frederic.birwe/Library/CloudStorage/OneDrive-BertelsmannSE&Co.KGaA/Masterarbeit/20_data/613010/ps2400dpi150lpi/FC_FS23_S_ES0062_T_F_41L.p1.4c.C.tif\n",
      "/Users/frederic.birwe/Library/CloudStorage/OneDrive-BertelsmannSE&Co.KGaA/Masterarbeit/20_data/613010/ps2400dpi150lpi/FC_FS23_S_ES0067_T_D_41L.p1.4c.M.tif\n",
      "/Users/frederic.birwe/Library/CloudStorage/OneDrive-BertelsmannSE&Co.KGaA/Masterarbeit/20_data/613010/ps2400dpi150lpi/FC_FS23_S_ES0070_T_NL_41L.p1.4c.Y.tif\n",
      "/Users/frederic.birwe/Library/CloudStorage/OneDrive-BertelsmannSE&Co.KGaA/Masterarbeit/20_data/613010/ps2400dpi150lpi/FC_FS23_S_ES0083_T_NL_41L.p1.4c.Y.tif\n",
      "/Users/frederic.birwe/Library/CloudStorage/OneDrive-BertelsmannSE&Co.KGaA/Masterarbeit/20_data/613010/ps2400dpi150lpi/FC_FS23_S_ES0004_T_D_41L.p1.4c.C.tif\n",
      "/Users/frederic.birwe/Library/CloudStorage/OneDrive-BertelsmannSE&Co.KGaA/Masterarbeit/20_data/613010/ps2400dpi150lpi/FC_FS23_S_ES0093_T_WCH_41L.p1.4c.M.tif\n",
      "/Users/frederic.birwe/Library/CloudStorage/OneDrive-BertelsmannSE&Co.KGaA/Masterarbeit/20_data/613010/ps2400dpi150lpi/FC_FS23_S_ES0109_T_F_41L.p1 2.4c.M.tif\n",
      "/Users/frederic.birwe/Library/CloudStorage/OneDrive-BertelsmannSE&Co.KGaA/Masterarbeit/20_data/613010/ps2400dpi150lpi/FC_FS23_S_ES0009_T_NL_41L.p1.4c.Y.tif\n",
      "/Users/frederic.birwe/Library/CloudStorage/OneDrive-BertelsmannSE&Co.KGaA/Masterarbeit/20_data/613010/ps2400dpi150lpi/FC_FS23_S_ES0023_T_WCH_41L.p1 2.4c.C.tif\n",
      "/Users/frederic.birwe/Library/CloudStorage/OneDrive-BertelsmannSE&Co.KGaA/Masterarbeit/20_data/613010/ps2400dpi150lpi/FC_FS23_S_ES0036_T_D_41L.p1.4c.M.tif\n",
      "/Users/frederic.birwe/Library/CloudStorage/OneDrive-BertelsmannSE&Co.KGaA/Masterarbeit/20_data/613010/ps2400dpi150lpi/FC_FS23_S_ES0033_T_F_41L.p1.4c.C.tif\n",
      "/Users/frederic.birwe/Library/CloudStorage/OneDrive-BertelsmannSE&Co.KGaA/Masterarbeit/20_data/613010/ps2400dpi150lpi/FC_FS23_S_ES0110_T_D_41L.p1.4c.M.tif\n",
      "/Users/frederic.birwe/Library/CloudStorage/OneDrive-BertelsmannSE&Co.KGaA/Masterarbeit/20_data/613010/ps2400dpi150lpi/FC_FS23_S_ES0055_T_WCH_41L.p1.4c.Y.tif\n",
      "/Users/frederic.birwe/Library/CloudStorage/OneDrive-BertelsmannSE&Co.KGaA/Masterarbeit/20_data/613010/ps2400dpi150lpi/FC_FS23_S_ES0094_T_WCH_41L.p1.4c.C.tif\n",
      "/Users/frederic.birwe/Library/CloudStorage/OneDrive-BertelsmannSE&Co.KGaA/Masterarbeit/20_data/613010/ps2400dpi150lpi/FC_FS23_S_ES0094_T_D_41L.p1.4c.M.tif\n",
      "/Users/frederic.birwe/Library/CloudStorage/OneDrive-BertelsmannSE&Co.KGaA/Masterarbeit/20_data/613010/ps2400dpi150lpi/FC_FS23_S_ES0091_T_F_41L.p1.4c.C.tif\n",
      "/Users/frederic.birwe/Library/CloudStorage/OneDrive-BertelsmannSE&Co.KGaA/Masterarbeit/20_data/613010/ps2400dpi150lpi/FC_FS23_S_ES0025_T_WCH_41L.p1.4c.M.tif\n",
      "/Users/frederic.birwe/Library/CloudStorage/OneDrive-BertelsmannSE&Co.KGaA/Masterarbeit/20_data/613010/ps2400dpi150lpi/FC_FS23_S_ES0108_T_WCH_41L.p1 2.4c.C.tif\n",
      "/Users/frederic.birwe/Library/CloudStorage/OneDrive-BertelsmannSE&Co.KGaA/Masterarbeit/20_data/613010/ps2400dpi150lpi/FC_FS23_S_ES0113_T_NL_41L.p1.4c.C.tif\n",
      "/Users/frederic.birwe/Library/CloudStorage/OneDrive-BertelsmannSE&Co.KGaA/Masterarbeit/20_data/613010/ps2400dpi150lpi/FC_FS23_S_ES0094_T_CH_41L.p1.4c.M.tif\n",
      "/Users/frederic.birwe/Library/CloudStorage/OneDrive-BertelsmannSE&Co.KGaA/Masterarbeit/20_data/613010/ps2400dpi150lpi/FC_FS23_S_ES0047_T_WCH_41L.p1 2.4c.Y.tif\n"
     ]
    },
    {
     "name": "stderr",
     "output_type": "stream",
     "text": [
      " 58%|████████████████████▎              | 6651/11457 [00:14<00:18, 254.32it/s]"
     ]
    },
    {
     "name": "stdout",
     "output_type": "stream",
     "text": [
      "/Users/frederic.birwe/Library/CloudStorage/OneDrive-BertelsmannSE&Co.KGaA/Masterarbeit/20_data/613010/ps2400dpi150lpi/FC_FS23_S_ES0067_T_CH_41L.p1.4c.M.tif\n",
      "/Users/frederic.birwe/Library/CloudStorage/OneDrive-BertelsmannSE&Co.KGaA/Masterarbeit/20_data/613010/ps2400dpi150lpi/FC_FS23_S_ES0073_T_NL_41L.p1.4c.C.tif\n",
      "/Users/frederic.birwe/Library/CloudStorage/OneDrive-BertelsmannSE&Co.KGaA/Masterarbeit/20_data/613010/ps2400dpi150lpi/FC_FS23_S_ES0033_T_WCH_41L.p1.4c.M.tif\n",
      "/Users/frederic.birwe/Library/CloudStorage/OneDrive-BertelsmannSE&Co.KGaA/Masterarbeit/20_data/613010/ps2400dpi150lpi/FC_FS23_S_ES0052_T_F_41L.p1.4c.Y.tif\n",
      "/Users/frederic.birwe/Library/CloudStorage/OneDrive-BertelsmannSE&Co.KGaA/Masterarbeit/20_data/613010/ps2400dpi150lpi/FC_FS23_S_ES0080_T_NL_41L.p1.4c.C.tif\n",
      "/Users/frederic.birwe/Library/CloudStorage/OneDrive-BertelsmannSE&Co.KGaA/Masterarbeit/20_data/613010/ps2400dpi150lpi/FC_FS23_S_ES0107_T_CH_41L.p1.4c.M.tif\n",
      "/Users/frederic.birwe/Library/CloudStorage/OneDrive-BertelsmannSE&Co.KGaA/Masterarbeit/20_data/613010/ps2400dpi150lpi/FC_FS23_S_ES0109_T_D_41L.p1.4c.M.tif\n",
      "/Users/frederic.birwe/Library/CloudStorage/OneDrive-BertelsmannSE&Co.KGaA/Masterarbeit/20_data/613010/ps2400dpi150lpi/FC_FS23_S_ES0100_T_D_Suffix_90_41L.p1.4c.C.tif\n",
      "/Users/frederic.birwe/Library/CloudStorage/OneDrive-BertelsmannSE&Co.KGaA/Masterarbeit/20_data/613010/ps2400dpi150lpi/FC_FS23_S_ES0065_T_D_41L.p1.4c.Y.tif\n",
      "/Users/frederic.birwe/Library/CloudStorage/OneDrive-BertelsmannSE&Co.KGaA/Masterarbeit/20_data/613010/ps2400dpi150lpi/FC_FS23_S_ES0082_T_WCH_41L.p1.4c.C.tif\n",
      "/Users/frederic.birwe/Library/CloudStorage/OneDrive-BertelsmannSE&Co.KGaA/Masterarbeit/20_data/613010/ps2400dpi150lpi/FC_FS23_S_ES0088_T_F_41L.p1.4c.C.tif\n",
      "/Users/frederic.birwe/Library/CloudStorage/OneDrive-BertelsmannSE&Co.KGaA/Masterarbeit/20_data/613010/ps2400dpi150lpi/FC_FS23_S_ES0003_T_F_41L.p1.4c.Y.tif\n",
      "/Users/frederic.birwe/Library/CloudStorage/OneDrive-BertelsmannSE&Co.KGaA/Masterarbeit/20_data/613010/ps2400dpi150lpi/FC_FS23_S_ES0007_T_NL_41L.p1 2.4c.M.tif\n",
      "/Users/frederic.birwe/Library/CloudStorage/OneDrive-BertelsmannSE&Co.KGaA/Masterarbeit/20_data/613010/ps2400dpi150lpi/FC_FS23_S_ES0034_T_D_41L.p1.4c.Y.tif\n",
      "/Users/frederic.birwe/Library/CloudStorage/OneDrive-BertelsmannSE&Co.KGaA/Masterarbeit/20_data/613010/ps2400dpi150lpi/FC_FS23_S_ES0112_T_D_41L.p1.4c.Y.tif\n",
      "/Users/frederic.birwe/Library/CloudStorage/OneDrive-BertelsmannSE&Co.KGaA/Masterarbeit/20_data/613010/ps2400dpi150lpi/FC_FS23_S_ES0101_T_F_41L.p1 2.4c.Y.tif\n",
      "/Users/frederic.birwe/Library/CloudStorage/OneDrive-BertelsmannSE&Co.KGaA/Masterarbeit/20_data/613010/ps2400dpi150lpi/FC_FS23_S_ES0089_T_NL_41L.p1.4c.M.tif\n",
      "/Users/frederic.birwe/Library/CloudStorage/OneDrive-BertelsmannSE&Co.KGaA/Masterarbeit/20_data/613010/ps2400dpi150lpi/FC_FS23_S_ES0110_T_NL_41L.p1.4c.Y.tif\n",
      "/Users/frederic.birwe/Library/CloudStorage/OneDrive-BertelsmannSE&Co.KGaA/Masterarbeit/20_data/613010/ps2400dpi150lpi/FC_FS23_S_ES0018_T_F_41L.p1.4c.M.tif\n",
      "/Users/frederic.birwe/Library/CloudStorage/OneDrive-BertelsmannSE&Co.KGaA/Masterarbeit/20_data/613010/ps2400dpi150lpi/FC_FS23_S_ES0008_T_D_Suffix_90_41L.p1.4c.M.tif\n",
      "/Users/frederic.birwe/Library/CloudStorage/OneDrive-BertelsmannSE&Co.KGaA/Masterarbeit/20_data/613010/ps2400dpi150lpi/FC_FS23_S_ES0096_T_D_41L.p1.4c.Y.tif\n",
      "/Users/frederic.birwe/Library/CloudStorage/OneDrive-BertelsmannSE&Co.KGaA/Masterarbeit/20_data/613010/ps2400dpi150lpi/FC_FS23_S_ES0003_T_NL_41L.p1.4c.M.tif\n",
      "/Users/frederic.birwe/Library/CloudStorage/OneDrive-BertelsmannSE&Co.KGaA/Masterarbeit/20_data/613010/ps2400dpi150lpi/FC_FS23_S_ES0007_T_A_41L.p1.4c.M.tif\n",
      "/Users/frederic.birwe/Library/CloudStorage/OneDrive-BertelsmannSE&Co.KGaA/Masterarbeit/20_data/613010/ps2400dpi150lpi/FC_FS23_S_ES0075_T_D_Suffix_90_41L.p1.4c.C.tif\n",
      "/Users/frederic.birwe/Library/CloudStorage/OneDrive-BertelsmannSE&Co.KGaA/Masterarbeit/20_data/613010/ps2400dpi150lpi/FC_FS23_S_ES0031_T_NL_41L.p1.4c.Y.tif\n",
      "/Users/frederic.birwe/Library/CloudStorage/OneDrive-BertelsmannSE&Co.KGaA/Masterarbeit/20_data/613010/ps2400dpi150lpi/FC_FS23_S_ES0029_T_NL_41L.p1 2.4c.C.tif\n",
      "/Users/frederic.birwe/Library/CloudStorage/OneDrive-BertelsmannSE&Co.KGaA/Masterarbeit/20_data/613010/ps2400dpi150lpi/FC_FS23_S_ES0056_T_CH_41L.p1.4c.C.tif\n",
      "/Users/frederic.birwe/Library/CloudStorage/OneDrive-BertelsmannSE&Co.KGaA/Masterarbeit/20_data/613010/ps2400dpi150lpi/FC_FS23_S_ES0035_T_A_41L.p1.4c.C.tif\n",
      "/Users/frederic.birwe/Library/CloudStorage/OneDrive-BertelsmannSE&Co.KGaA/Masterarbeit/20_data/613010/ps2400dpi150lpi/FC_FS23_S_ES0016_T_D_Suffix_90_41L.p1.4c.M.tif\n",
      "/Users/frederic.birwe/Library/CloudStorage/OneDrive-BertelsmannSE&Co.KGaA/Masterarbeit/20_data/613010/ps2400dpi150lpi/FC_FS23_S_ES0082_T_D_Suffix_90_41L.p1.4c.M.tif\n",
      "/Users/frederic.birwe/Library/CloudStorage/OneDrive-BertelsmannSE&Co.KGaA/Masterarbeit/20_data/613010/ps2400dpi150lpi/FC_FS23_S_ES0056_T_A_41L.p1.4c.M.tif\n"
     ]
    },
    {
     "name": "stderr",
     "output_type": "stream",
     "text": [
      " 59%|████████████████████▍              | 6708/11457 [00:14<00:18, 260.06it/s]"
     ]
    },
    {
     "name": "stdout",
     "output_type": "stream",
     "text": [
      "/Users/frederic.birwe/Library/CloudStorage/OneDrive-BertelsmannSE&Co.KGaA/Masterarbeit/20_data/613010/ps2400dpi150lpi/FC_FS23_S_ES0064_T_A_41L.p1.4c.C.tif\n",
      "/Users/frederic.birwe/Library/CloudStorage/OneDrive-BertelsmannSE&Co.KGaA/Masterarbeit/20_data/613010/ps2400dpi150lpi/FC_FS23_S_ES0072_T_F_41L.p1 2.4c.M.tif\n",
      "/Users/frederic.birwe/Library/CloudStorage/OneDrive-BertelsmannSE&Co.KGaA/Masterarbeit/20_data/613010/ps2400dpi150lpi/FC_FS23_S_ES0048_T_NL_41L.p1.4c.Y.tif\n",
      "/Users/frederic.birwe/Library/CloudStorage/OneDrive-BertelsmannSE&Co.KGaA/Masterarbeit/20_data/613010/ps2400dpi150lpi/FC_FS23_S_ES0075_T_F_41L.p1 2.4c.C.tif\n",
      "/Users/frederic.birwe/Library/CloudStorage/OneDrive-BertelsmannSE&Co.KGaA/Masterarbeit/20_data/613010/ps2400dpi150lpi/FC_FS23_S_ES0097_T_A_41L.p1.4c.C.tif\n",
      "/Users/frederic.birwe/Library/CloudStorage/OneDrive-BertelsmannSE&Co.KGaA/Masterarbeit/20_data/613010/ps2400dpi150lpi/FC_FS23_S_ES0108_T_CH_41L.p1 2.4c.M.tif\n",
      "/Users/frederic.birwe/Library/CloudStorage/OneDrive-BertelsmannSE&Co.KGaA/Masterarbeit/20_data/613010/ps2400dpi150lpi/FC_FS23_S_ES0026_T_CH_41L.p1.4c.M.tif\n",
      "/Users/frederic.birwe/Library/CloudStorage/OneDrive-BertelsmannSE&Co.KGaA/Masterarbeit/20_data/613010/ps2400dpi150lpi/FC_FS23_S_ES0053_T_D_Suffix_90_41L.p1.4c.M.tif\n",
      "/Users/frederic.birwe/Library/CloudStorage/OneDrive-BertelsmannSE&Co.KGaA/Masterarbeit/20_data/613010/ps2400dpi150lpi/FC_FS23_S_ES0113_T_A_41L.p1.4c.C.tif\n",
      "/Users/frederic.birwe/Library/CloudStorage/OneDrive-BertelsmannSE&Co.KGaA/Masterarbeit/20_data/613010/ps2400dpi150lpi/FC_FS23_S_ES0030_T_D_Suffix_90_41L.p1.4c.C.tif\n",
      "/Users/frederic.birwe/Library/CloudStorage/OneDrive-BertelsmannSE&Co.KGaA/Masterarbeit/20_data/613010/ps2400dpi150lpi/FC_FS23_S_ES0072_T_NL_41L.p1 2.4c.M.tif\n",
      "/Users/frederic.birwe/Library/CloudStorage/OneDrive-BertelsmannSE&Co.KGaA/Masterarbeit/20_data/613010/ps2400dpi150lpi/FC_FS23_S_ES0091_T_CH_41L.p1.4c.M.tif\n",
      "/Users/frederic.birwe/Library/CloudStorage/OneDrive-BertelsmannSE&Co.KGaA/Masterarbeit/20_data/613010/ps2400dpi150lpi/FC_FS23_S_ES0062_T_CH_41L.p1.4c.M.tif\n",
      "/Users/frederic.birwe/Library/CloudStorage/OneDrive-BertelsmannSE&Co.KGaA/Masterarbeit/20_data/613010/ps2400dpi150lpi/FC_FS23_S_ES0112_T_WCH_41L.p1 2.4c.Y.tif\n",
      "/Users/frederic.birwe/Library/CloudStorage/OneDrive-BertelsmannSE&Co.KGaA/Masterarbeit/20_data/613010/ps2400dpi150lpi/FC_FS23_S_ES0111_T_D_41L.p1.4c.M.tif\n",
      "/Users/frederic.birwe/Library/CloudStorage/OneDrive-BertelsmannSE&Co.KGaA/Masterarbeit/20_data/613010/ps2400dpi150lpi/FC_FS23_S_ES0018_T_NL_41L.p1 2.4c.C.tif\n",
      "/Users/frederic.birwe/Library/CloudStorage/OneDrive-BertelsmannSE&Co.KGaA/Masterarbeit/20_data/613010/ps2400dpi150lpi/FC_FS23_S_ES0102_T_WCH_41L.p1.4c.Y.tif\n",
      "/Users/frederic.birwe/Library/CloudStorage/OneDrive-BertelsmannSE&Co.KGaA/Masterarbeit/20_data/613010/ps2400dpi150lpi/FC_FS23_S_ES0011_T_CH_41L.p1 2.4c.C.tif\n",
      "/Users/frederic.birwe/Library/CloudStorage/OneDrive-BertelsmannSE&Co.KGaA/Masterarbeit/20_data/613010/ps2400dpi150lpi/FC_FS23_S_ES0112_T_D_Suffix_90_41L.p1.4c.Y.tif\n",
      "/Users/frederic.birwe/Library/CloudStorage/OneDrive-BertelsmannSE&Co.KGaA/Masterarbeit/20_data/613010/ps2400dpi150lpi/FC_FS23_S_ES0095_T_D_41L.p1.4c.M.tif\n",
      "/Users/frederic.birwe/Library/CloudStorage/OneDrive-BertelsmannSE&Co.KGaA/Masterarbeit/20_data/613010/ps2400dpi150lpi/FC_FS23_S_ES0063_T_F_41L.p1.4c.C.tif\n",
      "/Users/frederic.birwe/Library/CloudStorage/OneDrive-BertelsmannSE&Co.KGaA/Masterarbeit/20_data/613010/ps2400dpi150lpi/FC_FS23_S_ES0066_T_D_41L.p1.4c.M.tif\n",
      "/Users/frederic.birwe/Library/CloudStorage/OneDrive-BertelsmannSE&Co.KGaA/Masterarbeit/20_data/613010/ps2400dpi150lpi/FC_FS23_S_ES0051_T_F_41L.p1.4c.M.tif\n",
      "/Users/frederic.birwe/Library/CloudStorage/OneDrive-BertelsmannSE&Co.KGaA/Masterarbeit/20_data/613010/ps2400dpi150lpi/FC_FS23_S_ES0044_T_NL_41L.p1 2.4c.Y.tif\n",
      "/Users/frederic.birwe/Library/CloudStorage/OneDrive-BertelsmannSE&Co.KGaA/Masterarbeit/20_data/613010/ps2400dpi150lpi/FC_FS23_S_ES0054_T_D_41L.p1.4c.C.tif\n",
      "/Users/frederic.birwe/Library/CloudStorage/OneDrive-BertelsmannSE&Co.KGaA/Masterarbeit/20_data/613010/ps2400dpi150lpi/FC_FS23_S_ES0079_T_D_Suffix_90_41L.p1.4c.Y.tif\n"
     ]
    },
    {
     "name": "stderr",
     "output_type": "stream",
     "text": [
      " 59%|████████████████████▋              | 6760/11457 [00:14<00:20, 228.29it/s]"
     ]
    },
    {
     "name": "stdout",
     "output_type": "stream",
     "text": [
      "/Users/frederic.birwe/Library/CloudStorage/OneDrive-BertelsmannSE&Co.KGaA/Masterarbeit/20_data/613010/ps2400dpi150lpi/FC_FS23_S_ES0075_T_NL_41L.p1.4c.Y.tif\n",
      "/Users/frederic.birwe/Library/CloudStorage/OneDrive-BertelsmannSE&Co.KGaA/Masterarbeit/20_data/613010/ps2400dpi150lpi/FC_FS23_S_ES0037_T_D_41L.p1.4c.M.tif\n",
      "/Users/frederic.birwe/Library/CloudStorage/OneDrive-BertelsmannSE&Co.KGaA/Masterarbeit/20_data/613010/ps2400dpi150lpi/FC_FS23_S_ES0032_T_F_41L.p1.4c.C.tif\n",
      "/Users/frederic.birwe/Library/CloudStorage/OneDrive-BertelsmannSE&Co.KGaA/Masterarbeit/20_data/613010/ps2400dpi150lpi/FC_FS23_S_ES0043_T_NL_41L.p1 2.4c.M.tif\n",
      "/Users/frederic.birwe/Library/CloudStorage/OneDrive-BertelsmannSE&Co.KGaA/Masterarbeit/20_data/613010/ps2400dpi150lpi/FC_FS23_S_ES0086_T_NL_41L.p1.4c.Y.tif\n",
      "/Users/frederic.birwe/Library/CloudStorage/OneDrive-BertelsmannSE&Co.KGaA/Masterarbeit/20_data/613010/ps2400dpi150lpi/FC_FS23_S_ES0005_T_D_41L.p1.4c.C.tif\n",
      "/Users/frederic.birwe/Library/CloudStorage/OneDrive-BertelsmannSE&Co.KGaA/Masterarbeit/20_data/613010/ps2400dpi150lpi/FC_FS23_S_ES0012_T_CH_41L.p1.4c.C.tif\n",
      "/Users/frederic.birwe/Library/CloudStorage/OneDrive-BertelsmannSE&Co.KGaA/Masterarbeit/20_data/613010/ps2400dpi150lpi/FC_FS23_S_ES0047_T_NL_41L.p1.4c.M.tif\n",
      "/Users/frederic.birwe/Library/CloudStorage/OneDrive-BertelsmannSE&Co.KGaA/Masterarbeit/20_data/613010/ps2400dpi150lpi/FC_FS23_S_ES0031_T_NL_41L.p1 2.4c.Y.tif\n",
      "/Users/frederic.birwe/Library/CloudStorage/OneDrive-BertelsmannSE&Co.KGaA/Masterarbeit/20_data/613010/ps2400dpi150lpi/FC_FS23_S_ES0036_T_NL_41L.p1 2.4c.M.tif\n",
      "/Users/frederic.birwe/Library/CloudStorage/OneDrive-BertelsmannSE&Co.KGaA/Masterarbeit/20_data/613010/ps2400dpi150lpi/FC_FS23_S_ES0067_T_D_Suffix_90_41L.p1.4c.Y.tif\n",
      "/Users/frederic.birwe/Library/CloudStorage/OneDrive-BertelsmannSE&Co.KGaA/Masterarbeit/20_data/613010/ps2400dpi150lpi/FC_FS23_S_ES0076_T_WCH_41L.p1.4c.C.tif\n",
      "/Users/frederic.birwe/Library/CloudStorage/OneDrive-BertelsmannSE&Co.KGaA/Masterarbeit/20_data/613010/ps2400dpi150lpi/FC_FS23_S_ES0029_T_CH_41L.p1.4c.Y.tif\n",
      "/Users/frederic.birwe/Library/CloudStorage/OneDrive-BertelsmannSE&Co.KGaA/Masterarbeit/20_data/613010/ps2400dpi150lpi/FC_FS23_S_ES0071_T_WCH_41L.p1.4c.M.tif\n",
      "/Users/frederic.birwe/Library/CloudStorage/OneDrive-BertelsmannSE&Co.KGaA/Masterarbeit/20_data/613010/ps2400dpi150lpi/FC_FS23_S_ES0004_T_A_41L.p1.4c.Y.tif\n",
      "/Users/frederic.birwe/Library/CloudStorage/OneDrive-BertelsmannSE&Co.KGaA/Masterarbeit/20_data/613010/ps2400dpi150lpi/FC_FS23_S_ES0022_T_D_Suffix_90_41L.p1.4c.Y.tif\n",
      "/Users/frederic.birwe/Library/CloudStorage/OneDrive-BertelsmannSE&Co.KGaA/Masterarbeit/20_data/613010/ps2400dpi150lpi/FC_FS23_S_ES0037_T_NL_41L.p1.4c.C.tif\n"
     ]
    },
    {
     "name": "stderr",
     "output_type": "stream",
     "text": [
      " 59%|████████████████████▊              | 6807/11457 [00:14<00:23, 199.75it/s]"
     ]
    },
    {
     "name": "stdout",
     "output_type": "stream",
     "text": [
      "/Users/frederic.birwe/Library/CloudStorage/OneDrive-BertelsmannSE&Co.KGaA/Masterarbeit/20_data/613010/ps2400dpi150lpi/FC_FS23_S_ES0055_T_A_41L.p1.4c.Y.tif\n",
      "/Users/frederic.birwe/Library/CloudStorage/OneDrive-BertelsmannSE&Co.KGaA/Masterarbeit/20_data/613010/ps2400dpi150lpi/FC_FS23_S_ES0017_T_WCH_41L.p1.4c.Y.tif\n",
      "/Users/frederic.birwe/Library/CloudStorage/OneDrive-BertelsmannSE&Co.KGaA/Masterarbeit/20_data/613010/ps2400dpi150lpi/FC_FS23_S_ES0096_T_A_41L.p1.4c.C.tif\n",
      "/Users/frederic.birwe/Library/CloudStorage/OneDrive-BertelsmannSE&Co.KGaA/Masterarbeit/20_data/613010/ps2400dpi150lpi/FC_FS23_S_ES0009_T_WCH_41L.p1.4c.M.tif\n",
      "/Users/frederic.birwe/Library/CloudStorage/OneDrive-BertelsmannSE&Co.KGaA/Masterarbeit/20_data/613010/ps2400dpi150lpi/FC_FS23_S_ES0079_T_WCH_41L.p1.4c.Y.tif\n",
      "/Users/frederic.birwe/Library/CloudStorage/OneDrive-BertelsmannSE&Co.KGaA/Masterarbeit/20_data/613010/ps2400dpi150lpi/FC_FS23_S_ES0050_T_D_Suffix_90_41L.p1.4c.C.tif\n",
      "/Users/frederic.birwe/Library/CloudStorage/OneDrive-BertelsmannSE&Co.KGaA/Masterarbeit/20_data/613010/ps2400dpi150lpi/FC_FS23_S_ES0112_T_A_41L.p1.4c.C.tif\n",
      "/Users/frederic.birwe/Library/CloudStorage/OneDrive-BertelsmannSE&Co.KGaA/Masterarbeit/20_data/613010/ps2400dpi150lpi/FC_FS23_S_ES0033_T_D_Suffix_90_41L.p1.4c.M.tif\n",
      "/Users/frederic.birwe/Library/CloudStorage/OneDrive-BertelsmannSE&Co.KGaA/Masterarbeit/20_data/613010/ps2400dpi150lpi/FC_FS23_S_ES0067_T_WCH_41L.p1.4c.M.tif\n",
      "/Users/frederic.birwe/Library/CloudStorage/OneDrive-BertelsmannSE&Co.KGaA/Masterarbeit/20_data/613010/ps2400dpi150lpi/FC_FS23_S_ES0034_T_A_41L.p1.4c.C.tif\n",
      "/Users/frederic.birwe/Library/CloudStorage/OneDrive-BertelsmannSE&Co.KGaA/Masterarbeit/20_data/613010/ps2400dpi150lpi/FC_FS23_S_ES0060_T_WCH_41L.p1.4c.C.tif\n",
      "/Users/frederic.birwe/Library/CloudStorage/OneDrive-BertelsmannSE&Co.KGaA/Masterarbeit/20_data/613010/ps2400dpi150lpi/FC_FS23_S_ES0076_T_D_Suffix_90_41L.p1.4c.M.tif\n",
      "/Users/frederic.birwe/Library/CloudStorage/OneDrive-BertelsmannSE&Co.KGaA/Masterarbeit/20_data/613010/ps2400dpi150lpi/FC_FS23_S_ES0015_T_D_Suffix_90_41L.p1.4c.C.tif\n",
      "/Users/frederic.birwe/Library/CloudStorage/OneDrive-BertelsmannSE&Co.KGaA/Masterarbeit/20_data/613010/ps2400dpi150lpi/FC_FS23_S_ES0006_T_A_41L.p1.4c.M.tif\n",
      "/Users/frederic.birwe/Library/CloudStorage/OneDrive-BertelsmannSE&Co.KGaA/Masterarbeit/20_data/613010/ps2400dpi150lpi/FC_FS23_S_ES0081_T_D_Suffix_90_41L.p1.4c.C.tif\n"
     ]
    },
    {
     "name": "stderr",
     "output_type": "stream",
     "text": [
      " 60%|████████████████████▊              | 6828/11457 [00:15<00:24, 192.56it/s]"
     ]
    },
    {
     "name": "stdout",
     "output_type": "stream",
     "text": [
      "/Users/frederic.birwe/Library/CloudStorage/OneDrive-BertelsmannSE&Co.KGaA/Masterarbeit/20_data/613010/ps2400dpi150lpi/FC_FS23_S_ES0053_T_CH_41L.p1.4c.C.tif\n",
      "/Users/frederic.birwe/Library/CloudStorage/OneDrive-BertelsmannSE&Co.KGaA/Masterarbeit/20_data/613010/ps2400dpi150lpi/FC_FS23_S_ES0065_T_A_41L.p1.4c.C.tif\n",
      "/Users/frederic.birwe/Library/CloudStorage/OneDrive-BertelsmannSE&Co.KGaA/Masterarbeit/20_data/613010/ps2400dpi150lpi/FC_FS23_S_ES0057_T_A_41L.p1.4c.M.tif\n",
      "/Users/frederic.birwe/Library/CloudStorage/OneDrive-BertelsmannSE&Co.KGaA/Masterarbeit/20_data/613010/ps2400dpi150lpi/FC_FS23_S_ES0034_T_NL_41L.p1.4c.Y.tif\n",
      "/Users/frederic.birwe/Library/CloudStorage/OneDrive-BertelsmannSE&Co.KGaA/Masterarbeit/20_data/613010/ps2400dpi150lpi/FC_FS23_S_ES0006_T_NL_41L.p1.4c.M.tif\n",
      "/Users/frederic.birwe/Library/CloudStorage/OneDrive-BertelsmannSE&Co.KGaA/Masterarbeit/20_data/613010/ps2400dpi150lpi/FC_FS23_S_ES0026_T_F_41L.p1 2.4c.M.tif\n",
      "/Users/frederic.birwe/Library/CloudStorage/OneDrive-BertelsmannSE&Co.KGaA/Masterarbeit/20_data/613010/ps2400dpi150lpi/FC_FS23_S_ES0086_T_CH_41L.p1 2.4c.Y.tif\n",
      "/Users/frederic.birwe/Library/CloudStorage/OneDrive-BertelsmannSE&Co.KGaA/Masterarbeit/20_data/613010/ps2400dpi150lpi/FC_FS23_S_ES0054_T_WCH_41L.p1 2.4c.M.tif\n",
      "/Users/frederic.birwe/Library/CloudStorage/OneDrive-BertelsmannSE&Co.KGaA/Masterarbeit/20_data/613010/ps2400dpi150lpi/FC_FS23_S_ES0113_T_D_41L.p1.4c.Y.tif\n",
      "/Users/frederic.birwe/Library/CloudStorage/OneDrive-BertelsmannSE&Co.KGaA/Masterarbeit/20_data/613010/ps2400dpi150lpi/FC_FS23_S_ES0048_T_F_41L.p1 2.4c.M.tif\n",
      "/Users/frederic.birwe/Library/CloudStorage/OneDrive-BertelsmannSE&Co.KGaA/Masterarbeit/20_data/613010/ps2400dpi150lpi/FC_FS23_S_ES0081_T_CH_41L.p1 2.4c.M.tif\n",
      "/Users/frederic.birwe/Library/CloudStorage/OneDrive-BertelsmannSE&Co.KGaA/Masterarbeit/20_data/613010/ps2400dpi150lpi/FC_FS23_S_ES0056_T_F_41L.p1 2.4c.Y.tif\n",
      "/Users/frederic.birwe/Library/CloudStorage/OneDrive-BertelsmannSE&Co.KGaA/Masterarbeit/20_data/613010/ps2400dpi150lpi/FC_FS23_S_ES0097_T_D_41L.p1.4c.Y.tif\n",
      "/Users/frederic.birwe/Library/CloudStorage/OneDrive-BertelsmannSE&Co.KGaA/Masterarbeit/20_data/613010/ps2400dpi150lpi/FC_FS23_S_ES0068_T_D_Suffix_90_41L.p1.4c.M.tif\n",
      "/Users/frederic.birwe/Library/CloudStorage/OneDrive-BertelsmannSE&Co.KGaA/Masterarbeit/20_data/613010/ps2400dpi150lpi/FC_FS23_S_ES0012_T_NL_41L.p1 2.4c.C.tif\n",
      "/Users/frederic.birwe/Library/CloudStorage/OneDrive-BertelsmannSE&Co.KGaA/Masterarbeit/20_data/613010/ps2400dpi150lpi/FC_FS23_S_ES0019_T_F_41L.p1.4c.M.tif\n",
      "/Users/frederic.birwe/Library/CloudStorage/OneDrive-BertelsmannSE&Co.KGaA/Masterarbeit/20_data/613010/ps2400dpi150lpi/FC_FS23_S_ES0064_T_D_41L.p1.4c.Y.tif\n",
      "/Users/frederic.birwe/Library/CloudStorage/OneDrive-BertelsmannSE&Co.KGaA/Masterarbeit/20_data/613010/ps2400dpi150lpi/FC_FS23_S_ES0114_T_WCH_41L.p1.4c.Y.tif\n"
     ]
    },
    {
     "name": "stderr",
     "output_type": "stream",
     "text": [
      " 60%|████████████████████▉              | 6869/11457 [00:15<00:24, 191.14it/s]"
     ]
    },
    {
     "name": "stdout",
     "output_type": "stream",
     "text": [
      "/Users/frederic.birwe/Library/CloudStorage/OneDrive-BertelsmannSE&Co.KGaA/Masterarbeit/20_data/613010/ps2400dpi150lpi/FC_FS23_S_ES0108_T_D_41L.p1.4c.M.tif\n",
      "/Users/frederic.birwe/Library/CloudStorage/OneDrive-BertelsmannSE&Co.KGaA/Masterarbeit/20_data/613010/ps2400dpi150lpi/FC_FS23_S_ES0103_T_D_Suffix_90_41L.p1.4c.M.tif\n",
      "/Users/frederic.birwe/Library/CloudStorage/OneDrive-BertelsmannSE&Co.KGaA/Masterarbeit/20_data/613010/ps2400dpi150lpi/FC_FS23_S_ES0068_T_CH_41L.p1.4c.Y.tif\n",
      "/Users/frederic.birwe/Library/CloudStorage/OneDrive-BertelsmannSE&Co.KGaA/Masterarbeit/20_data/613010/ps2400dpi150lpi/FC_FS23_S_ES0090_T_F_41L.p1 2.4c.M.tif\n",
      "/Users/frederic.birwe/Library/CloudStorage/OneDrive-BertelsmannSE&Co.KGaA/Masterarbeit/20_data/613010/ps2400dpi150lpi/FC_FS23_S_ES0053_T_F_41L.p1.4c.Y.tif\n",
      "/Users/frederic.birwe/Library/CloudStorage/OneDrive-BertelsmannSE&Co.KGaA/Masterarbeit/20_data/613010/ps2400dpi150lpi/FC_FS23_S_ES0035_T_D_41L.p1.4c.Y.tif\n",
      "/Users/frederic.birwe/Library/CloudStorage/OneDrive-BertelsmannSE&Co.KGaA/Masterarbeit/20_data/613010/ps2400dpi150lpi/FC_FS23_S_ES0089_T_F_41L.p1.4c.C.tif\n",
      "/Users/frederic.birwe/Library/CloudStorage/OneDrive-BertelsmannSE&Co.KGaA/Masterarbeit/20_data/613010/ps2400dpi150lpi/FC_FS23_S_ES0085_T_NL_41L.p1.4c.C.tif\n",
      "/Users/frederic.birwe/Library/CloudStorage/OneDrive-BertelsmannSE&Co.KGaA/Masterarbeit/20_data/613010/ps2400dpi150lpi/FC_FS23_S_ES0023_T_CH_41L.p1 2.4c.C.tif\n",
      "/Users/frederic.birwe/Library/CloudStorage/OneDrive-BertelsmannSE&Co.KGaA/Masterarbeit/20_data/613010/ps2400dpi150lpi/FC_FS23_S_ES0089_T_A_41L.p1.4c.C.tif\n",
      "/Users/frederic.birwe/Library/CloudStorage/OneDrive-BertelsmannSE&Co.KGaA/Masterarbeit/20_data/613010/ps2400dpi150lpi/FC_FS23_S_ES0107_T_WCH_41L.p1.4c.C.tif\n",
      "/Users/frederic.birwe/Library/CloudStorage/OneDrive-BertelsmannSE&Co.KGaA/Masterarbeit/20_data/613010/ps2400dpi150lpi/FC_FS23_S_ES0053_T_A_41L.p1.4c.Y.tif\n",
      "/Users/frederic.birwe/Library/CloudStorage/OneDrive-BertelsmannSE&Co.KGaA/Masterarbeit/20_data/613010/ps2400dpi150lpi/FC_FS23_S_ES0021_T_WCH_41L.p1 2.4c.Y.tif\n",
      "/Users/frederic.birwe/Library/CloudStorage/OneDrive-BertelsmannSE&Co.KGaA/Masterarbeit/20_data/613010/ps2400dpi150lpi/FC_FS23_S_ES0019_T_A_41L.p1.4c.M.tif\n",
      "/Users/frederic.birwe/Library/CloudStorage/OneDrive-BertelsmannSE&Co.KGaA/Masterarbeit/20_data/613010/ps2400dpi150lpi/FC_FS23_S_ES0025_T_NL_41L.p1.4c.C.tif\n",
      "/Users/frederic.birwe/Library/CloudStorage/OneDrive-BertelsmannSE&Co.KGaA/Masterarbeit/20_data/613010/ps2400dpi150lpi/FC_FS23_S_ES0042_T_CH_41L.p1.4c.Y.tif\n",
      "/Users/frederic.birwe/Library/CloudStorage/OneDrive-BertelsmannSE&Co.KGaA/Masterarbeit/20_data/613010/ps2400dpi150lpi/FC_FS23_S_ES0045_T_F_41L.p1 2.4c.C.tif\n",
      "/Users/frederic.birwe/Library/CloudStorage/OneDrive-BertelsmannSE&Co.KGaA/Masterarbeit/20_data/613010/ps2400dpi150lpi/FC_FS23_S_ES0076_T_NL_41L.p1 2.4c.Y.tif\n",
      "/Users/frederic.birwe/Library/CloudStorage/OneDrive-BertelsmannSE&Co.KGaA/Masterarbeit/20_data/613010/ps2400dpi150lpi/FC_FS23_S_ES0100_T_WCH_41L.p1.4c.M.tif\n",
      "/Users/frederic.birwe/Library/CloudStorage/OneDrive-BertelsmannSE&Co.KGaA/Masterarbeit/20_data/613010/ps2400dpi150lpi/FC_FS23_S_ES0048_T_A_41L.p1.4c.M.tif\n",
      "/Users/frederic.birwe/Library/CloudStorage/OneDrive-BertelsmannSE&Co.KGaA/Masterarbeit/20_data/613010/ps2400dpi150lpi/FC_FS23_S_ES0078_T_CH_41L.p1 2.4c.M.tif\n",
      "/Users/frederic.birwe/Library/CloudStorage/OneDrive-BertelsmannSE&Co.KGaA/Masterarbeit/20_data/613010/ps2400dpi150lpi/FC_FS23_S_ES0045_T_WCH_41L.p1 2.4c.C.tif\n"
     ]
    },
    {
     "name": "stderr",
     "output_type": "stream",
     "text": [
      " 60%|█████████████████████              | 6908/11457 [00:15<00:26, 172.06it/s]"
     ]
    },
    {
     "name": "stdout",
     "output_type": "stream",
     "text": [
      "/Users/frederic.birwe/Library/CloudStorage/OneDrive-BertelsmannSE&Co.KGaA/Masterarbeit/20_data/613010/ps2400dpi150lpi/FC_FS23_S_ES0097_T_CH_41L.p1 2.4c.C.tif\n",
      "/Users/frederic.birwe/Library/CloudStorage/OneDrive-BertelsmannSE&Co.KGaA/Masterarbeit/20_data/613010/ps2400dpi150lpi/FC_FS23_S_ES0052_T_D_41L.p1.4c.C.tif\n",
      "/Users/frederic.birwe/Library/CloudStorage/OneDrive-BertelsmannSE&Co.KGaA/Masterarbeit/20_data/613010/ps2400dpi150lpi/FC_FS23_S_ES0057_T_F_41L.p1.4c.M.tif\n",
      "/Users/frederic.birwe/Library/CloudStorage/OneDrive-BertelsmannSE&Co.KGaA/Masterarbeit/20_data/613010/ps2400dpi150lpi/FC_FS23_S_ES0009_T_CH_41L.p1.4c.M.tif\n",
      "/Users/frederic.birwe/Library/CloudStorage/OneDrive-BertelsmannSE&Co.KGaA/Masterarbeit/20_data/613010/ps2400dpi150lpi/FC_FS23_S_ES0004_T_NL_41L.p1 2.4c.M.tif\n",
      "/Users/frederic.birwe/Library/CloudStorage/OneDrive-BertelsmannSE&Co.KGaA/Masterarbeit/20_data/613010/ps2400dpi150lpi/FC_FS23_S_ES0060_T_D_41L.p1.4c.M.tif\n",
      "/Users/frederic.birwe/Library/CloudStorage/OneDrive-BertelsmannSE&Co.KGaA/Masterarbeit/20_data/613010/ps2400dpi150lpi/FC_FS23_S_ES0065_T_F_41L.p1.4c.C.tif\n",
      "/Users/frederic.birwe/Library/CloudStorage/OneDrive-BertelsmannSE&Co.KGaA/Masterarbeit/20_data/613010/ps2400dpi150lpi/FC_FS23_S_ES0073_T_WCH_41L.p1.4c.Y.tif\n",
      "/Users/frederic.birwe/Library/CloudStorage/OneDrive-BertelsmannSE&Co.KGaA/Masterarbeit/20_data/613010/ps2400dpi150lpi/FC_FS23_S_ES0070_T_CH_41L.p1.4c.M.tif\n",
      "/Users/frederic.birwe/Library/CloudStorage/OneDrive-BertelsmannSE&Co.KGaA/Masterarbeit/20_data/613010/ps2400dpi150lpi/FC_FS23_S_ES0003_T_WCH_41L.p1.4c.M.tif\n",
      "/Users/frederic.birwe/Library/CloudStorage/OneDrive-BertelsmannSE&Co.KGaA/Masterarbeit/20_data/613010/ps2400dpi150lpi/FC_FS23_S_ES0006_T_F_41L.p1.4c.M.tif\n",
      "/Users/frederic.birwe/Library/CloudStorage/OneDrive-BertelsmannSE&Co.KGaA/Masterarbeit/20_data/613010/ps2400dpi150lpi/FC_FS23_S_ES0003_T_D_41L.p1.4c.C.tif\n",
      "/Users/frederic.birwe/Library/CloudStorage/OneDrive-BertelsmannSE&Co.KGaA/Masterarbeit/20_data/613010/ps2400dpi150lpi/FC_FS23_S_ES0083_T_CH_41L.p1.4c.M.tif\n",
      "/Users/frederic.birwe/Library/CloudStorage/OneDrive-BertelsmannSE&Co.KGaA/Masterarbeit/20_data/613010/ps2400dpi150lpi/FC_FS23_S_ES0003_T_NL_41L.p1 2.4c.Y.tif\n",
      "/Users/frederic.birwe/Library/CloudStorage/OneDrive-BertelsmannSE&Co.KGaA/Masterarbeit/20_data/613010/ps2400dpi150lpi/FC_FS23_S_ES0088_T_D_41L.p1.4c.Y.tif\n",
      "/Users/frederic.birwe/Library/CloudStorage/OneDrive-BertelsmannSE&Co.KGaA/Masterarbeit/20_data/613010/ps2400dpi150lpi/FC_FS23_S_ES0031_T_D_41L.p1.4c.M.tif\n",
      "/Users/frederic.birwe/Library/CloudStorage/OneDrive-BertelsmannSE&Co.KGaA/Masterarbeit/20_data/613010/ps2400dpi150lpi/FC_FS23_S_ES0085_T_D_Suffix_90_41L.p1.4c.Y.tif\n",
      "/Users/frederic.birwe/Library/CloudStorage/OneDrive-BertelsmannSE&Co.KGaA/Masterarbeit/20_data/613010/ps2400dpi150lpi/FC_FS23_S_ES0011_T_D_Suffix_90_41L.p1.4c.Y.tif\n",
      "/Users/frederic.birwe/Library/CloudStorage/OneDrive-BertelsmannSE&Co.KGaA/Masterarbeit/20_data/613010/ps2400dpi150lpi/FC_FS23_S_ES0094_T_NL_41L.p1.4c.Y.tif\n",
      "/Users/frederic.birwe/Library/CloudStorage/OneDrive-BertelsmannSE&Co.KGaA/Masterarbeit/20_data/613010/ps2400dpi150lpi/FC_FS23_S_ES0054_T_D_Suffix_90_41L.p1.4c.Y.tif\n",
      "/Users/frederic.birwe/Library/CloudStorage/OneDrive-BertelsmannSE&Co.KGaA/Masterarbeit/20_data/613010/ps2400dpi150lpi/FC_FS23_S_ES0067_T_NL_41L.p1.4c.Y.tif\n",
      "/Users/frederic.birwe/Library/CloudStorage/OneDrive-BertelsmannSE&Co.KGaA/Masterarbeit/20_data/613010/ps2400dpi150lpi/FC_FS23_S_ES0004_T_WCH_41L.p1.4c.C.tif\n"
     ]
    },
    {
     "name": "stderr",
     "output_type": "stream",
     "text": [
      " 61%|█████████████████████▏             | 6947/11457 [00:15<00:25, 174.94it/s]"
     ]
    },
    {
     "name": "stdout",
     "output_type": "stream",
     "text": [
      "/Users/frederic.birwe/Library/CloudStorage/OneDrive-BertelsmannSE&Co.KGaA/Masterarbeit/20_data/613010/ps2400dpi150lpi/FC_FS23_S_ES0096_T_F_41L.p1.4c.C.tif\n",
      "/Users/frederic.birwe/Library/CloudStorage/OneDrive-BertelsmannSE&Co.KGaA/Masterarbeit/20_data/613010/ps2400dpi150lpi/FC_FS23_S_ES0093_T_D_41L.p1.4c.M.tif\n",
      "/Users/frederic.birwe/Library/CloudStorage/OneDrive-BertelsmannSE&Co.KGaA/Masterarbeit/20_data/613010/ps2400dpi150lpi/FC_FS23_S_ES0055_T_F_41L.p1.4c.Y.tif\n",
      "/Users/frederic.birwe/Library/CloudStorage/OneDrive-BertelsmannSE&Co.KGaA/Masterarbeit/20_data/613010/ps2400dpi150lpi/FC_FS23_S_ES0009_T_NL_41L.p1 2.4c.Y.tif\n",
      "/Users/frederic.birwe/Library/CloudStorage/OneDrive-BertelsmannSE&Co.KGaA/Masterarbeit/20_data/613010/ps2400dpi150lpi/FC_FS23_S_ES0034_T_WCH_41L.p1 2.4c.C.tif\n",
      "/Users/frederic.birwe/Library/CloudStorage/OneDrive-BertelsmannSE&Co.KGaA/Masterarbeit/20_data/613010/ps2400dpi150lpi/FC_FS23_S_ES0062_T_D_41L.p1.4c.Y.tif\n",
      "/Users/frederic.birwe/Library/CloudStorage/OneDrive-BertelsmannSE&Co.KGaA/Masterarbeit/20_data/613010/ps2400dpi150lpi/FC_FS23_S_ES0045_T_D_Suffix_90_41L.p1.4c.M.tif\n",
      "/Users/frederic.birwe/Library/CloudStorage/OneDrive-BertelsmannSE&Co.KGaA/Masterarbeit/20_data/613010/ps2400dpi150lpi/FC_FS23_S_ES0108_T_D_Suffix_90_41L.p1.4c.C.tif\n",
      "/Users/frederic.birwe/Library/CloudStorage/OneDrive-BertelsmannSE&Co.KGaA/Masterarbeit/20_data/613010/ps2400dpi150lpi/FC_FS23_S_ES0012_T_WCH_41L.p1.4c.C.tif\n",
      "/Users/frederic.birwe/Library/CloudStorage/OneDrive-BertelsmannSE&Co.KGaA/Masterarbeit/20_data/613010/ps2400dpi150lpi/FC_FS23_S_ES0014_T_NL_41L.p1.4c.M.tif\n",
      "/Users/frederic.birwe/Library/CloudStorage/OneDrive-BertelsmannSE&Co.KGaA/Masterarbeit/20_data/613010/ps2400dpi150lpi/FC_FS23_S_ES0004_T_F_41L.p1.4c.Y.tif\n",
      "/Users/frederic.birwe/Library/CloudStorage/OneDrive-BertelsmannSE&Co.KGaA/Masterarbeit/20_data/613010/ps2400dpi150lpi/FC_FS23_S_ES0033_T_D_41L.p1.4c.Y.tif\n",
      "/Users/frederic.birwe/Library/CloudStorage/OneDrive-BertelsmannSE&Co.KGaA/Masterarbeit/20_data/613010/ps2400dpi150lpi/FC_FS23_S_ES0026_T_D_Suffix_90_41L.p1.4c.C.tif\n",
      "/Users/frederic.birwe/Library/CloudStorage/OneDrive-BertelsmannSE&Co.KGaA/Masterarbeit/20_data/613010/ps2400dpi150lpi/FC_FS23_S_ES0107_T_NL_41L.p1.4c.Y.tif\n",
      "/Users/frederic.birwe/Library/CloudStorage/OneDrive-BertelsmannSE&Co.KGaA/Masterarbeit/20_data/613010/ps2400dpi150lpi/FC_FS23_S_ES0003_T_CH_41L.p1.4c.Y.tif\n",
      "/Users/frederic.birwe/Library/CloudStorage/OneDrive-BertelsmannSE&Co.KGaA/Masterarbeit/20_data/613010/ps2400dpi150lpi/FC_FS23_S_ES0055_T_NL_41L.p1 2.4c.C.tif\n",
      "/Users/frederic.birwe/Library/CloudStorage/OneDrive-BertelsmannSE&Co.KGaA/Masterarbeit/20_data/613010/ps2400dpi150lpi/FC_FS23_S_ES0063_T_D_Suffix_90_41L.p1.4c.C.tif\n"
     ]
    },
    {
     "name": "stderr",
     "output_type": "stream",
     "text": [
      " 61%|█████████████████████▎             | 6987/11457 [00:15<00:24, 181.96it/s]"
     ]
    },
    {
     "name": "stdout",
     "output_type": "stream",
     "text": [
      "/Users/frederic.birwe/Library/CloudStorage/OneDrive-BertelsmannSE&Co.KGaA/Masterarbeit/20_data/613010/ps2400dpi150lpi/FC_FS23_S_ES0079_T_D_41L.p1.4c.M.tif\n",
      "/Users/frederic.birwe/Library/CloudStorage/OneDrive-BertelsmannSE&Co.KGaA/Masterarbeit/20_data/613010/ps2400dpi150lpi/FC_FS23_S_ES0015_T_WCH_41L.p1.4c.M.tif\n",
      "/Users/frederic.birwe/Library/CloudStorage/OneDrive-BertelsmannSE&Co.KGaA/Masterarbeit/20_data/613010/ps2400dpi150lpi/FC_FS23_S_ES0110_T_CH_41L.p1.4c.M.tif\n",
      "/Users/frederic.birwe/Library/CloudStorage/OneDrive-BertelsmannSE&Co.KGaA/Masterarbeit/20_data/613010/ps2400dpi150lpi/FC_FS23_S_ES0097_T_NL_41L.p1.4c.C.tif\n",
      "/Users/frederic.birwe/Library/CloudStorage/OneDrive-BertelsmannSE&Co.KGaA/Masterarbeit/20_data/613010/ps2400dpi150lpi/FC_FS23_S_ES0094_T_D_Suffix_90_41L.p1.4c.M.tif\n",
      "/Users/frederic.birwe/Library/CloudStorage/OneDrive-BertelsmannSE&Co.KGaA/Masterarbeit/20_data/613010/ps2400dpi150lpi/FC_FS23_S_ES0064_T_NL_41L.p1.4c.C.tif\n",
      "/Users/frederic.birwe/Library/CloudStorage/OneDrive-BertelsmannSE&Co.KGaA/Masterarbeit/20_data/613010/ps2400dpi150lpi/FC_FS23_S_ES0065_T_WCH_41L.p1.4c.Y.tif\n",
      "/Users/frederic.birwe/Library/CloudStorage/OneDrive-BertelsmannSE&Co.KGaA/Masterarbeit/20_data/613010/ps2400dpi150lpi/FC_FS23_S_ES0091_T_D_41L.p1.4c.Y.tif\n",
      "/Users/frederic.birwe/Library/CloudStorage/OneDrive-BertelsmannSE&Co.KGaA/Masterarbeit/20_data/613010/ps2400dpi150lpi/FC_FS23_S_ES0028_T_D_41L.p1.4c.M.tif\n",
      "/Users/frederic.birwe/Library/CloudStorage/OneDrive-BertelsmannSE&Co.KGaA/Masterarbeit/20_data/613010/ps2400dpi150lpi/FC_FS23_S_ES0020_T_NL_41L.p1 2.4c.C.tif\n",
      "/Users/frederic.birwe/Library/CloudStorage/OneDrive-BertelsmannSE&Co.KGaA/Masterarbeit/20_data/613010/ps2400dpi150lpi/FC_FS23_S_ES0048_T_CH_41L.p1.4c.M.tif\n",
      "/Users/frederic.birwe/Library/CloudStorage/OneDrive-BertelsmannSE&Co.KGaA/Masterarbeit/20_data/613010/ps2400dpi150lpi/FC_FS23_S_ES0032_T_A_41L.p1.4c.C.tif\n",
      "/Users/frederic.birwe/Library/CloudStorage/OneDrive-BertelsmannSE&Co.KGaA/Masterarbeit/20_data/613010/ps2400dpi150lpi/FC_FS23_S_ES0096_T_WCH_41L.p1 2.4c.C.tif\n",
      "/Users/frederic.birwe/Library/CloudStorage/OneDrive-BertelsmannSE&Co.KGaA/Masterarbeit/20_data/613010/ps2400dpi150lpi/FC_FS23_S_ES0051_T_A_41L.p1.4c.M.tif\n",
      "/Users/frederic.birwe/Library/CloudStorage/OneDrive-BertelsmannSE&Co.KGaA/Masterarbeit/20_data/613010/ps2400dpi150lpi/FC_FS23_S_ES0063_T_A_41L.p1.4c.C.tif\n",
      "/Users/frederic.birwe/Library/CloudStorage/OneDrive-BertelsmannSE&Co.KGaA/Masterarbeit/20_data/613010/ps2400dpi150lpi/FC_FS23_S_ES0031_T_CH_41L.p1.4c.M.tif\n",
      "/Users/frederic.birwe/Library/CloudStorage/OneDrive-BertelsmannSE&Co.KGaA/Masterarbeit/20_data/613010/ps2400dpi150lpi/FC_FS23_S_ES0038_T_D_Suffix_90_41L.p1.4c.C.tif\n",
      "/Users/frederic.birwe/Library/CloudStorage/OneDrive-BertelsmannSE&Co.KGaA/Masterarbeit/20_data/613010/ps2400dpi150lpi/FC_FS23_S_ES0090_T_A_41L.p1.4c.C.tif\n",
      "/Users/frederic.birwe/Library/CloudStorage/OneDrive-BertelsmannSE&Co.KGaA/Masterarbeit/20_data/613010/ps2400dpi150lpi/FC_FS23_S_ES0041_T_CH_41L.p1.4c.C.tif\n"
     ]
    },
    {
     "name": "stderr",
     "output_type": "stream",
     "text": [
      " 61%|█████████████████████▍             | 7025/11457 [00:16<00:24, 179.32it/s]"
     ]
    },
    {
     "name": "stdout",
     "output_type": "stream",
     "text": [
      "/Users/frederic.birwe/Library/CloudStorage/OneDrive-BertelsmannSE&Co.KGaA/Masterarbeit/20_data/613010/ps2400dpi150lpi/FC_FS23_S_ES0026_T_NL_41L.p1.4c.Y.tif\n",
      "/Users/frederic.birwe/Library/CloudStorage/OneDrive-BertelsmannSE&Co.KGaA/Masterarbeit/20_data/613010/ps2400dpi150lpi/FC_FS23_S_ES0054_T_F_41L.p1 2.4c.M.tif\n",
      "/Users/frederic.birwe/Library/CloudStorage/OneDrive-BertelsmannSE&Co.KGaA/Masterarbeit/20_data/613010/ps2400dpi150lpi/FC_FS23_S_ES0111_T_WCH_41L.p1.4c.C.tif\n",
      "/Users/frederic.birwe/Library/CloudStorage/OneDrive-BertelsmannSE&Co.KGaA/Masterarbeit/20_data/613010/ps2400dpi150lpi/FC_FS23_S_ES0114_T_A_41L.p1.4c.C.tif\n",
      "/Users/frederic.birwe/Library/CloudStorage/OneDrive-BertelsmannSE&Co.KGaA/Masterarbeit/20_data/613010/ps2400dpi150lpi/FC_FS23_S_ES0038_T_CH_41L.p1.4c.C.tif\n",
      "/Users/frederic.birwe/Library/CloudStorage/OneDrive-BertelsmannSE&Co.KGaA/Masterarbeit/20_data/613010/ps2400dpi150lpi/FC_FS23_S_ES0034_T_D_Suffix_90_41L.p1.4c.Y.tif\n",
      "/Users/frederic.birwe/Library/CloudStorage/OneDrive-BertelsmannSE&Co.KGaA/Masterarbeit/20_data/613010/ps2400dpi150lpi/FC_FS23_S_ES0108_T_NL_41L.p1.4c.M.tif\n",
      "/Users/frederic.birwe/Library/CloudStorage/OneDrive-BertelsmannSE&Co.KGaA/Masterarbeit/20_data/613010/ps2400dpi150lpi/FC_FS23_S_ES0011_T_NL_41L.p1 2.4c.C.tif\n",
      "/Users/frederic.birwe/Library/CloudStorage/OneDrive-BertelsmannSE&Co.KGaA/Masterarbeit/20_data/613010/ps2400dpi150lpi/FC_FS23_S_ES0005_T_CH_41L.p1.4c.C.tif\n",
      "/Users/frederic.birwe/Library/CloudStorage/OneDrive-BertelsmannSE&Co.KGaA/Masterarbeit/20_data/613010/ps2400dpi150lpi/FC_FS23_S_ES0008_T_F_41L.p1 2.4c.Y.tif\n",
      "/Users/frederic.birwe/Library/CloudStorage/OneDrive-BertelsmannSE&Co.KGaA/Masterarbeit/20_data/613010/ps2400dpi150lpi/FC_FS23_S_ES0043_T_WCH_41L.p1 2.4c.M.tif\n",
      "/Users/frederic.birwe/Library/CloudStorage/OneDrive-BertelsmannSE&Co.KGaA/Masterarbeit/20_data/613010/ps2400dpi150lpi/FC_FS23_S_ES0091_T_NL_41L.p1.4c.Y.tif\n",
      "/Users/frederic.birwe/Library/CloudStorage/OneDrive-BertelsmannSE&Co.KGaA/Masterarbeit/20_data/613010/ps2400dpi150lpi/FC_FS23_S_ES0097_T_F_41L.p1.4c.C.tif\n",
      "/Users/frederic.birwe/Library/CloudStorage/OneDrive-BertelsmannSE&Co.KGaA/Masterarbeit/20_data/613010/ps2400dpi150lpi/FC_FS23_S_ES0092_T_D_41L.p1.4c.M.tif\n",
      "/Users/frederic.birwe/Library/CloudStorage/OneDrive-BertelsmannSE&Co.KGaA/Masterarbeit/20_data/613010/ps2400dpi150lpi/FC_FS23_S_ES0062_T_NL_41L.p1.4c.Y.tif\n",
      "/Users/frederic.birwe/Library/CloudStorage/OneDrive-BertelsmannSE&Co.KGaA/Masterarbeit/20_data/613010/ps2400dpi150lpi/FC_FS23_S_ES0061_T_D_41L.p1.4c.M.tif\n"
     ]
    },
    {
     "name": "stderr",
     "output_type": "stream",
     "text": [
      " 62%|█████████████████████▌             | 7063/11457 [00:16<00:25, 173.97it/s]"
     ]
    },
    {
     "name": "stdout",
     "output_type": "stream",
     "text": [
      "/Users/frederic.birwe/Library/CloudStorage/OneDrive-BertelsmannSE&Co.KGaA/Masterarbeit/20_data/613010/ps2400dpi150lpi/FC_FS23_S_ES0053_T_D_41L.p1.4c.C.tif\n",
      "/Users/frederic.birwe/Library/CloudStorage/OneDrive-BertelsmannSE&Co.KGaA/Masterarbeit/20_data/613010/ps2400dpi150lpi/FC_FS23_S_ES0075_T_CH_41L.p1.4c.M.tif\n",
      "/Users/frederic.birwe/Library/CloudStorage/OneDrive-BertelsmannSE&Co.KGaA/Masterarbeit/20_data/613010/ps2400dpi150lpi/FC_FS23_S_ES0101_T_NL_41L.p1.4c.C.tif\n",
      "/Users/frederic.birwe/Library/CloudStorage/OneDrive-BertelsmannSE&Co.KGaA/Masterarbeit/20_data/613010/ps2400dpi150lpi/FC_FS23_S_ES0035_T_F_41L.p1.4c.C.tif\n",
      "/Users/frederic.birwe/Library/CloudStorage/OneDrive-BertelsmannSE&Co.KGaA/Masterarbeit/20_data/613010/ps2400dpi150lpi/FC_FS23_S_ES0030_T_D_41L.p1.4c.M.tif\n",
      "/Users/frederic.birwe/Library/CloudStorage/OneDrive-BertelsmannSE&Co.KGaA/Masterarbeit/20_data/613010/ps2400dpi150lpi/FC_FS23_S_ES0071_T_D_Suffix_90_41L.p1.4c.Y.tif\n",
      "/Users/frederic.birwe/Library/CloudStorage/OneDrive-BertelsmannSE&Co.KGaA/Masterarbeit/20_data/613010/ps2400dpi150lpi/FC_FS23_S_ES0089_T_D_41L.p1.4c.Y.tif\n",
      "/Users/frederic.birwe/Library/CloudStorage/OneDrive-BertelsmannSE&Co.KGaA/Masterarbeit/20_data/613010/ps2400dpi150lpi/FC_FS23_S_ES0007_T_F_41L.p1.4c.M.tif\n",
      "/Users/frederic.birwe/Library/CloudStorage/OneDrive-BertelsmannSE&Co.KGaA/Masterarbeit/20_data/613010/ps2400dpi150lpi/FC_FS23_S_ES0059_T_NL_41L.p1.4c.C.tif\n",
      "/Users/frederic.birwe/Library/CloudStorage/OneDrive-BertelsmannSE&Co.KGaA/Masterarbeit/20_data/613010/ps2400dpi150lpi/FC_FS23_S_ES0036_T_CH_41L.p1 2.4c.M.tif\n",
      "/Users/frederic.birwe/Library/CloudStorage/OneDrive-BertelsmannSE&Co.KGaA/Masterarbeit/20_data/613010/ps2400dpi150lpi/FC_FS23_S_ES0018_T_A_41L.p1.4c.M.tif\n",
      "/Users/frederic.birwe/Library/CloudStorage/OneDrive-BertelsmannSE&Co.KGaA/Masterarbeit/20_data/613010/ps2400dpi150lpi/FC_FS23_S_ES0057_T_WCH_41L.p1.4c.M.tif\n",
      "/Users/frederic.birwe/Library/CloudStorage/OneDrive-BertelsmannSE&Co.KGaA/Masterarbeit/20_data/613010/ps2400dpi150lpi/FC_FS23_S_ES0088_T_WCH_41L.p1.4c.C.tif\n",
      "/Users/frederic.birwe/Library/CloudStorage/OneDrive-BertelsmannSE&Co.KGaA/Masterarbeit/20_data/613010/ps2400dpi150lpi/FC_FS23_S_ES0038_T_NL_41L.p1 2.4c.Y.tif\n",
      "/Users/frederic.birwe/Library/CloudStorage/OneDrive-BertelsmannSE&Co.KGaA/Masterarbeit/20_data/613010/ps2400dpi150lpi/FC_FS23_S_ES0112_T_F_41L.p1 2.4c.C.tif\n",
      "/Users/frederic.birwe/Library/CloudStorage/OneDrive-BertelsmannSE&Co.KGaA/Masterarbeit/20_data/613010/ps2400dpi150lpi/FC_FS23_S_ES0027_T_WCH_41L.p1.4c.Y.tif\n",
      "/Users/frederic.birwe/Library/CloudStorage/OneDrive-BertelsmannSE&Co.KGaA/Masterarbeit/20_data/613010/ps2400dpi150lpi/FC_FS23_S_ES0047_T_CH_41L.p1.4c.Y.tif\n",
      "/Users/frederic.birwe/Library/CloudStorage/OneDrive-BertelsmannSE&Co.KGaA/Masterarbeit/20_data/613010/ps2400dpi150lpi/FC_FS23_S_ES0020_T_NL_41L.p1.4c.C.tif\n",
      "/Users/frederic.birwe/Library/CloudStorage/OneDrive-BertelsmannSE&Co.KGaA/Masterarbeit/20_data/613010/ps2400dpi150lpi/FC_FS23_S_ES0049_T_A_41L.p1.4c.M.tif\n"
     ]
    },
    {
     "name": "stderr",
     "output_type": "stream",
     "text": [
      " 62%|█████████████████████▋             | 7104/11457 [00:16<00:23, 187.24it/s]"
     ]
    },
    {
     "name": "stdout",
     "output_type": "stream",
     "text": [
      "/Users/frederic.birwe/Library/CloudStorage/OneDrive-BertelsmannSE&Co.KGaA/Masterarbeit/20_data/613010/ps2400dpi150lpi/FC_FS23_S_ES0039_T_WCH_41L.p1.4c.M.tif\n",
      "/Users/frederic.birwe/Library/CloudStorage/OneDrive-BertelsmannSE&Co.KGaA/Masterarbeit/20_data/613010/ps2400dpi150lpi/FC_FS23_S_ES0050_T_NL_41L.p1.4c.M.tif\n",
      "/Users/frederic.birwe/Library/CloudStorage/OneDrive-BertelsmannSE&Co.KGaA/Masterarbeit/20_data/613010/ps2400dpi150lpi/FC_FS23_S_ES0003_T_A_41L.p1.4c.Y.tif\n",
      "/Users/frederic.birwe/Library/CloudStorage/OneDrive-BertelsmannSE&Co.KGaA/Masterarbeit/20_data/613010/ps2400dpi150lpi/FC_FS23_S_ES0088_T_A_41L.p1.4c.C.tif\n",
      "/Users/frederic.birwe/Library/CloudStorage/OneDrive-BertelsmannSE&Co.KGaA/Masterarbeit/20_data/613010/ps2400dpi150lpi/FC_FS23_S_ES0050_T_WCH_41L.p1.4c.C.tif\n",
      "/Users/frederic.birwe/Library/CloudStorage/OneDrive-BertelsmannSE&Co.KGaA/Masterarbeit/20_data/613010/ps2400dpi150lpi/FC_FS23_S_ES0029_T_NL_41L.p1.4c.M.tif\n",
      "/Users/frederic.birwe/Library/CloudStorage/OneDrive-BertelsmannSE&Co.KGaA/Masterarbeit/20_data/613010/ps2400dpi150lpi/FC_FS23_S_ES0052_T_A_41L.p1.4c.Y.tif\n",
      "/Users/frederic.birwe/Library/CloudStorage/OneDrive-BertelsmannSE&Co.KGaA/Masterarbeit/20_data/613010/ps2400dpi150lpi/FC_FS23_S_ES0087_T_WCH_41L.p1.4c.Y.tif\n",
      "/Users/frederic.birwe/Library/CloudStorage/OneDrive-BertelsmannSE&Co.KGaA/Masterarbeit/20_data/613010/ps2400dpi150lpi/FC_FS23_S_ES0035_T_NL_41L.p1 2.4c.M.tif\n",
      "/Users/frederic.birwe/Library/CloudStorage/OneDrive-BertelsmannSE&Co.KGaA/Masterarbeit/20_data/613010/ps2400dpi150lpi/FC_FS23_S_ES0058_T_D_Suffix_90_41L.p1.4c.C.tif\n",
      "/Users/frederic.birwe/Library/CloudStorage/OneDrive-BertelsmannSE&Co.KGaA/Masterarbeit/20_data/613010/ps2400dpi150lpi/FC_FS23_S_ES0046_T_WCH_41L.p1.4c.C.tif\n",
      "/Users/frederic.birwe/Library/CloudStorage/OneDrive-BertelsmannSE&Co.KGaA/Masterarbeit/20_data/613010/ps2400dpi150lpi/FC_FS23_S_ES0091_T_A_41L.p1.4c.C.tif\n",
      "/Users/frederic.birwe/Library/CloudStorage/OneDrive-BertelsmannSE&Co.KGaA/Masterarbeit/20_data/613010/ps2400dpi150lpi/FC_FS23_S_ES0099_T_WCH_41L.p1.4c.M.tif\n",
      "/Users/frederic.birwe/Library/CloudStorage/OneDrive-BertelsmannSE&Co.KGaA/Masterarbeit/20_data/613010/ps2400dpi150lpi/FC_FS23_S_ES0023_T_NL_41L.p1.4c.Y.tif\n"
     ]
    },
    {
     "name": "stderr",
     "output_type": "stream",
     "text": [
      " 62%|█████████████████████▊             | 7142/11457 [00:16<00:25, 170.35it/s]"
     ]
    },
    {
     "name": "stdout",
     "output_type": "stream",
     "text": [
      "/Users/frederic.birwe/Library/CloudStorage/OneDrive-BertelsmannSE&Co.KGaA/Masterarbeit/20_data/613010/ps2400dpi150lpi/FC_FS23_S_ES0032_T_NL_41L.p1 2.4c.Y.tif\n",
      "/Users/frederic.birwe/Library/CloudStorage/OneDrive-BertelsmannSE&Co.KGaA/Masterarbeit/20_data/613010/ps2400dpi150lpi/FC_FS23_S_ES0044_T_CH_41L.p1.4c.C.tif\n",
      "/Users/frederic.birwe/Library/CloudStorage/OneDrive-BertelsmannSE&Co.KGaA/Masterarbeit/20_data/613010/ps2400dpi150lpi/FC_FS23_S_ES0033_T_A_41L.p1.4c.C.tif\n",
      "/Users/frederic.birwe/Library/CloudStorage/OneDrive-BertelsmannSE&Co.KGaA/Masterarbeit/20_data/613010/ps2400dpi150lpi/FC_FS23_S_ES0034_T_CH_41L.p1.4c.M.tif\n",
      "/Users/frederic.birwe/Library/CloudStorage/OneDrive-BertelsmannSE&Co.KGaA/Masterarbeit/20_data/613010/ps2400dpi150lpi/FC_FS23_S_ES0031_T_WCH_41L.p1.4c.Y.tif\n",
      "/Users/frederic.birwe/Library/CloudStorage/OneDrive-BertelsmannSE&Co.KGaA/Masterarbeit/20_data/613010/ps2400dpi150lpi/FC_FS23_S_ES0032_T_WCH_41L.p1 2.4c.M.tif\n",
      "/Users/frederic.birwe/Library/CloudStorage/OneDrive-BertelsmannSE&Co.KGaA/Masterarbeit/20_data/613010/ps2400dpi150lpi/FC_FS23_S_ES0114_T_CH_41L.p1 2.4c.C.tif\n",
      "/Users/frederic.birwe/Library/CloudStorage/OneDrive-BertelsmannSE&Co.KGaA/Masterarbeit/20_data/613010/ps2400dpi150lpi/FC_FS23_S_ES0089_T_D_Suffix_90_41L.p1.4c.C.tif\n",
      "/Users/frederic.birwe/Library/CloudStorage/OneDrive-BertelsmannSE&Co.KGaA/Masterarbeit/20_data/613010/ps2400dpi150lpi/FC_FS23_S_ES0062_T_A_41L.p1.4c.C.tif\n",
      "/Users/frederic.birwe/Library/CloudStorage/OneDrive-BertelsmannSE&Co.KGaA/Masterarbeit/20_data/613010/ps2400dpi150lpi/FC_FS23_S_ES0041_T_WCH_41L.p1.4c.M.tif\n",
      "/Users/frederic.birwe/Library/CloudStorage/OneDrive-BertelsmannSE&Co.KGaA/Masterarbeit/20_data/613010/ps2400dpi150lpi/FC_FS23_S_ES0050_T_A_41L.p1.4c.M.tif\n",
      "/Users/frederic.birwe/Library/CloudStorage/OneDrive-BertelsmannSE&Co.KGaA/Masterarbeit/20_data/613010/ps2400dpi150lpi/FC_FS23_S_ES0081_T_NL_41L.p1 2.4c.M.tif\n",
      "/Users/frederic.birwe/Library/CloudStorage/OneDrive-BertelsmannSE&Co.KGaA/Masterarbeit/20_data/613010/ps2400dpi150lpi/FC_FS23_S_ES0060_T_D_Suffix_90_41L.p1.4c.M.tif\n",
      "/Users/frederic.birwe/Library/CloudStorage/OneDrive-BertelsmannSE&Co.KGaA/Masterarbeit/20_data/613010/ps2400dpi150lpi/FC_FS23_S_ES0078_T_D_41L.p1.4c.M.tif\n",
      "/Users/frederic.birwe/Library/CloudStorage/OneDrive-BertelsmannSE&Co.KGaA/Masterarbeit/20_data/613010/ps2400dpi150lpi/FC_FS23_S_ES0069_T_F_41L.p1 2.4c.C.tif\n",
      "/Users/frederic.birwe/Library/CloudStorage/OneDrive-BertelsmannSE&Co.KGaA/Masterarbeit/20_data/613010/ps2400dpi150lpi/FC_FS23_S_ES0018_T_NL_41L.p1.4c.C.tif\n",
      "/Users/frederic.birwe/Library/CloudStorage/OneDrive-BertelsmannSE&Co.KGaA/Masterarbeit/20_data/613010/ps2400dpi150lpi/FC_FS23_S_ES0097_T_D_Suffix_90_41L.p1.4c.C.tif\n",
      "/Users/frederic.birwe/Library/CloudStorage/OneDrive-BertelsmannSE&Co.KGaA/Masterarbeit/20_data/613010/ps2400dpi150lpi/FC_FS23_S_ES0114_T_D_41L.p1.4c.Y.tif\n",
      "/Users/frederic.birwe/Library/CloudStorage/OneDrive-BertelsmannSE&Co.KGaA/Masterarbeit/20_data/613010/ps2400dpi150lpi/FC_FS23_S_ES0003_T_D_Suffix_90_41L.p1.4c.C.tif\n"
     ]
    },
    {
     "name": "stderr",
     "output_type": "stream",
     "text": [
      " 63%|█████████████████████▉             | 7190/11457 [00:17<00:21, 200.76it/s]"
     ]
    },
    {
     "name": "stdout",
     "output_type": "stream",
     "text": [
      "/Users/frederic.birwe/Library/CloudStorage/OneDrive-BertelsmannSE&Co.KGaA/Masterarbeit/20_data/613010/ps2400dpi150lpi/FC_FS23_S_ES0029_T_D_41L.p1.4c.M.tif\n",
      "/Users/frederic.birwe/Library/CloudStorage/OneDrive-BertelsmannSE&Co.KGaA/Masterarbeit/20_data/613010/ps2400dpi150lpi/FC_FS23_S_ES0061_T_NL_41L.p1.4c.C.tif\n",
      "/Users/frederic.birwe/Library/CloudStorage/OneDrive-BertelsmannSE&Co.KGaA/Masterarbeit/20_data/613010/ps2400dpi150lpi/FC_FS23_S_ES0090_T_D_41L.p1.4c.Y.tif\n",
      "/Users/frederic.birwe/Library/CloudStorage/OneDrive-BertelsmannSE&Co.KGaA/Masterarbeit/20_data/613010/ps2400dpi150lpi/FC_FS23_S_ES0006_T_CH_41L.p1.4c.Y.tif\n",
      "/Users/frederic.birwe/Library/CloudStorage/OneDrive-BertelsmannSE&Co.KGaA/Masterarbeit/20_data/613010/ps2400dpi150lpi/FC_FS23_S_ES0063_T_D_41L.p1.4c.Y.tif\n",
      "/Users/frederic.birwe/Library/CloudStorage/OneDrive-BertelsmannSE&Co.KGaA/Masterarbeit/20_data/613010/ps2400dpi150lpi/FC_FS23_S_ES0102_T_NL_41L.p1.4c.Y.tif\n",
      "/Users/frederic.birwe/Library/CloudStorage/OneDrive-BertelsmannSE&Co.KGaA/Masterarbeit/20_data/613010/ps2400dpi150lpi/FC_FS23_S_ES0040_T_NL_41L.p1 2.4c.M.tif\n",
      "/Users/frederic.birwe/Library/CloudStorage/OneDrive-BertelsmannSE&Co.KGaA/Masterarbeit/20_data/613010/ps2400dpi150lpi/FC_FS23_S_ES0011_T_NL_41L.p1.4c.M.tif\n",
      "/Users/frederic.birwe/Library/CloudStorage/OneDrive-BertelsmannSE&Co.KGaA/Masterarbeit/20_data/613010/ps2400dpi150lpi/FC_FS23_S_ES0090_T_WCH_41L.p1 2.4c.M.tif\n",
      "/Users/frederic.birwe/Library/CloudStorage/OneDrive-BertelsmannSE&Co.KGaA/Masterarbeit/20_data/613010/ps2400dpi150lpi/FC_FS23_S_ES0046_T_D_Suffix_90_41L.p1.4c.C.tif\n",
      "/Users/frederic.birwe/Library/CloudStorage/OneDrive-BertelsmannSE&Co.KGaA/Masterarbeit/20_data/613010/ps2400dpi150lpi/FC_FS23_S_ES0032_T_D_41L.p1.4c.Y.tif\n",
      "/Users/frederic.birwe/Library/CloudStorage/OneDrive-BertelsmannSE&Co.KGaA/Masterarbeit/20_data/613010/ps2400dpi150lpi/FC_FS23_S_ES0047_T_NL_41L.p1 2.4c.Y.tif\n",
      "/Users/frederic.birwe/Library/CloudStorage/OneDrive-BertelsmannSE&Co.KGaA/Masterarbeit/20_data/613010/ps2400dpi150lpi/FC_FS23_S_ES0025_T_D_Suffix_90_41L.p1.4c.M.tif\n",
      "/Users/frederic.birwe/Library/CloudStorage/OneDrive-BertelsmannSE&Co.KGaA/Masterarbeit/20_data/613010/ps2400dpi150lpi/FC_FS23_S_ES0005_T_F_41L.p1.4c.Y.tif\n",
      "/Users/frederic.birwe/Library/CloudStorage/OneDrive-BertelsmannSE&Co.KGaA/Masterarbeit/20_data/613010/ps2400dpi150lpi/FC_FS23_S_ES0061_T_A_41L.p1.4c.C.tif\n",
      "/Users/frederic.birwe/Library/CloudStorage/OneDrive-BertelsmannSE&Co.KGaA/Masterarbeit/20_data/613010/ps2400dpi150lpi/FC_FS23_S_ES0021_T_WCH_41L.p1 2.4c.M.tif\n",
      "/Users/frederic.birwe/Library/CloudStorage/OneDrive-BertelsmannSE&Co.KGaA/Masterarbeit/20_data/613010/ps2400dpi150lpi/FC_FS23_S_ES0107_T_D_Suffix_90_41L.p1.4c.C.tif\n",
      "/Users/frederic.birwe/Library/CloudStorage/OneDrive-BertelsmannSE&Co.KGaA/Masterarbeit/20_data/613010/ps2400dpi150lpi/FC_FS23_S_ES0032_T_CH_41L.p1.4c.C.tif\n",
      "/Users/frederic.birwe/Library/CloudStorage/OneDrive-BertelsmannSE&Co.KGaA/Masterarbeit/20_data/613010/ps2400dpi150lpi/FC_FS23_S_ES0029_T_D_Suffix_90_41L.p1.4c.C.tif\n",
      "/Users/frederic.birwe/Library/CloudStorage/OneDrive-BertelsmannSE&Co.KGaA/Masterarbeit/20_data/613010/ps2400dpi150lpi/FC_FS23_S_ES0053_T_A_41L.p1.4c.M.tif\n",
      "/Users/frederic.birwe/Library/CloudStorage/OneDrive-BertelsmannSE&Co.KGaA/Masterarbeit/20_data/613010/ps2400dpi150lpi/FC_FS23_S_ES0030_T_A_41L.p1.4c.C.tif\n",
      "/Users/frederic.birwe/Library/CloudStorage/OneDrive-BertelsmannSE&Co.KGaA/Masterarbeit/20_data/613010/ps2400dpi150lpi/FC_FS23_S_ES0083_T_F_41L.p1 2.4c.C.tif\n",
      "/Users/frederic.birwe/Library/CloudStorage/OneDrive-BertelsmannSE&Co.KGaA/Masterarbeit/20_data/613010/ps2400dpi150lpi/FC_FS23_S_ES0078_T_CH_41L.p1 2.4c.Y.tif\n"
     ]
    },
    {
     "name": "stderr",
     "output_type": "stream",
     "text": [
      " 63%|██████████████████████             | 7236/11457 [00:17<00:19, 213.98it/s]"
     ]
    },
    {
     "name": "stdout",
     "output_type": "stream",
     "text": [
      "/Users/frederic.birwe/Library/CloudStorage/OneDrive-BertelsmannSE&Co.KGaA/Masterarbeit/20_data/613010/ps2400dpi150lpi/FC_FS23_S_ES0048_T_A_41L.p1.4c.Y.tif\n",
      "/Users/frederic.birwe/Library/CloudStorage/OneDrive-BertelsmannSE&Co.KGaA/Masterarbeit/20_data/613010/ps2400dpi150lpi/FC_FS23_S_ES0100_T_WCH_41L.p1.4c.Y.tif\n",
      "/Users/frederic.birwe/Library/CloudStorage/OneDrive-BertelsmannSE&Co.KGaA/Masterarbeit/20_data/613010/ps2400dpi150lpi/FC_FS23_S_ES0076_T_NL_41L.p1 2.4c.M.tif\n",
      "/Users/frederic.birwe/Library/CloudStorage/OneDrive-BertelsmannSE&Co.KGaA/Masterarbeit/20_data/613010/ps2400dpi150lpi/FC_FS23_S_ES0042_T_CH_41L.p1.4c.M.tif\n",
      "/Users/frederic.birwe/Library/CloudStorage/OneDrive-BertelsmannSE&Co.KGaA/Masterarbeit/20_data/613010/ps2400dpi150lpi/FC_FS23_S_ES0092_T_A_41L.p1.4c.C.tif\n",
      "/Users/frederic.birwe/Library/CloudStorage/OneDrive-BertelsmannSE&Co.KGaA/Masterarbeit/20_data/613010/ps2400dpi150lpi/FC_FS23_S_ES0019_T_A_41L.p1.4c.Y.tif\n",
      "/Users/frederic.birwe/Library/CloudStorage/OneDrive-BertelsmannSE&Co.KGaA/Masterarbeit/20_data/613010/ps2400dpi150lpi/FC_FS23_S_ES0011_T_D_Suffix_90_41L.p1.4c.M.tif\n",
      "/Users/frederic.birwe/Library/CloudStorage/OneDrive-BertelsmannSE&Co.KGaA/Masterarbeit/20_data/613010/ps2400dpi150lpi/FC_FS23_S_ES0085_T_D_Suffix_90_41L.p1.4c.M.tif\n",
      "/Users/frederic.birwe/Library/CloudStorage/OneDrive-BertelsmannSE&Co.KGaA/Masterarbeit/20_data/613010/ps2400dpi150lpi/FC_FS23_S_ES0017_T_NL_41L.p1.4c.C.tif\n",
      "/Users/frederic.birwe/Library/CloudStorage/OneDrive-BertelsmannSE&Co.KGaA/Masterarbeit/20_data/613010/ps2400dpi150lpi/FC_FS23_S_ES0031_T_D_41L.p1.4c.Y.tif\n",
      "/Users/frederic.birwe/Library/CloudStorage/OneDrive-BertelsmannSE&Co.KGaA/Masterarbeit/20_data/613010/ps2400dpi150lpi/FC_FS23_S_ES0088_T_D_41L.p1.4c.M.tif\n",
      "/Users/frederic.birwe/Library/CloudStorage/OneDrive-BertelsmannSE&Co.KGaA/Masterarbeit/20_data/613010/ps2400dpi150lpi/FC_FS23_S_ES0072_T_D_Suffix_90_41L.p1.4c.C.tif\n",
      "/Users/frederic.birwe/Library/CloudStorage/OneDrive-BertelsmannSE&Co.KGaA/Masterarbeit/20_data/613010/ps2400dpi150lpi/FC_FS23_S_ES0083_T_CH_41L.p1.4c.Y.tif\n",
      "/Users/frederic.birwe/Library/CloudStorage/OneDrive-BertelsmannSE&Co.KGaA/Masterarbeit/20_data/613010/ps2400dpi150lpi/FC_FS23_S_ES0003_T_NL_41L.p1 2.4c.M.tif\n",
      "/Users/frederic.birwe/Library/CloudStorage/OneDrive-BertelsmannSE&Co.KGaA/Masterarbeit/20_data/613010/ps2400dpi150lpi/FC_FS23_S_ES0006_T_F_41L.p1.4c.Y.tif\n",
      "/Users/frederic.birwe/Library/CloudStorage/OneDrive-BertelsmannSE&Co.KGaA/Masterarbeit/20_data/613010/ps2400dpi150lpi/FC_FS23_S_ES0003_T_WCH_41L.p1.4c.Y.tif\n",
      "/Users/frederic.birwe/Library/CloudStorage/OneDrive-BertelsmannSE&Co.KGaA/Masterarbeit/20_data/613010/ps2400dpi150lpi/FC_FS23_S_ES0070_T_CH_41L.p1.4c.Y.tif\n",
      "/Users/frederic.birwe/Library/CloudStorage/OneDrive-BertelsmannSE&Co.KGaA/Masterarbeit/20_data/613010/ps2400dpi150lpi/FC_FS23_S_ES0073_T_WCH_41L.p1.4c.M.tif\n",
      "/Users/frederic.birwe/Library/CloudStorage/OneDrive-BertelsmannSE&Co.KGaA/Masterarbeit/20_data/613010/ps2400dpi150lpi/FC_FS23_S_ES0060_T_D_41L.p1.4c.Y.tif\n",
      "/Users/frederic.birwe/Library/CloudStorage/OneDrive-BertelsmannSE&Co.KGaA/Masterarbeit/20_data/613010/ps2400dpi150lpi/FC_FS23_S_ES0004_T_NL_41L.p1 2.4c.Y.tif\n",
      "/Users/frederic.birwe/Library/CloudStorage/OneDrive-BertelsmannSE&Co.KGaA/Masterarbeit/20_data/613010/ps2400dpi150lpi/FC_FS23_S_ES0009_T_CH_41L.p1.4c.Y.tif\n",
      "/Users/frederic.birwe/Library/CloudStorage/OneDrive-BertelsmannSE&Co.KGaA/Masterarbeit/20_data/613010/ps2400dpi150lpi/FC_FS23_S_ES0057_T_F_41L.p1.4c.Y.tif\n",
      "/Users/frederic.birwe/Library/CloudStorage/OneDrive-BertelsmannSE&Co.KGaA/Masterarbeit/20_data/613010/ps2400dpi150lpi/FC_FS23_S_ES0051_T_CH_41L.p1 2.4c.C.tif\n",
      "/Users/frederic.birwe/Library/CloudStorage/OneDrive-BertelsmannSE&Co.KGaA/Masterarbeit/20_data/613010/ps2400dpi150lpi/FC_FS23_S_ES0074_T_WCH_41L.p1.4c.C.tif\n",
      "/Users/frederic.birwe/Library/CloudStorage/OneDrive-BertelsmannSE&Co.KGaA/Masterarbeit/20_data/613010/ps2400dpi150lpi/FC_FS23_S_ES0018_T_D_41L.p1.4c.C.tif\n"
     ]
    },
    {
     "name": "stderr",
     "output_type": "stream",
     "text": [
      " 64%|██████████████████████▏            | 7280/11457 [00:17<00:19, 213.63it/s]"
     ]
    },
    {
     "name": "stdout",
     "output_type": "stream",
     "text": [
      "/Users/frederic.birwe/Library/CloudStorage/OneDrive-BertelsmannSE&Co.KGaA/Masterarbeit/20_data/613010/ps2400dpi150lpi/FC_FS23_S_ES0093_T_D_41L.p1.4c.Y.tif\n",
      "/Users/frederic.birwe/Library/CloudStorage/OneDrive-BertelsmannSE&Co.KGaA/Masterarbeit/20_data/613010/ps2400dpi150lpi/FC_FS23_S_ES0037_T_D_Suffix_90_41L.p1.4c.C.tif\n",
      "/Users/frederic.birwe/Library/CloudStorage/OneDrive-BertelsmannSE&Co.KGaA/Masterarbeit/20_data/613010/ps2400dpi150lpi/FC_FS23_S_ES0067_T_NL_41L.p1.4c.M.tif\n",
      "/Users/frederic.birwe/Library/CloudStorage/OneDrive-BertelsmannSE&Co.KGaA/Masterarbeit/20_data/613010/ps2400dpi150lpi/FC_FS23_S_ES0049_T_D_41L.p1.4c.C.tif\n",
      "/Users/frederic.birwe/Library/CloudStorage/OneDrive-BertelsmannSE&Co.KGaA/Masterarbeit/20_data/613010/ps2400dpi150lpi/FC_FS23_S_ES0054_T_D_Suffix_90_41L.p1.4c.M.tif\n",
      "/Users/frederic.birwe/Library/CloudStorage/OneDrive-BertelsmannSE&Co.KGaA/Masterarbeit/20_data/613010/ps2400dpi150lpi/FC_FS23_S_ES0113_T_CH_41L.p1.4c.C.tif\n",
      "/Users/frederic.birwe/Library/CloudStorage/OneDrive-BertelsmannSE&Co.KGaA/Masterarbeit/20_data/613010/ps2400dpi150lpi/FC_FS23_S_ES0094_T_NL_41L.p1.4c.M.tif\n",
      "/Users/frederic.birwe/Library/CloudStorage/OneDrive-BertelsmannSE&Co.KGaA/Masterarbeit/20_data/613010/ps2400dpi150lpi/FC_FS23_S_ES0080_T_CH_41L.p1.4c.C.tif\n",
      "/Users/frederic.birwe/Library/CloudStorage/OneDrive-BertelsmannSE&Co.KGaA/Masterarbeit/20_data/613010/ps2400dpi150lpi/FC_FS23_S_ES0107_T_NL_41L.p1.4c.M.tif\n",
      "/Users/frederic.birwe/Library/CloudStorage/OneDrive-BertelsmannSE&Co.KGaA/Masterarbeit/20_data/613010/ps2400dpi150lpi/FC_FS23_S_ES0073_T_CH_41L.p1.4c.C.tif\n",
      "/Users/frederic.birwe/Library/CloudStorage/OneDrive-BertelsmannSE&Co.KGaA/Masterarbeit/20_data/613010/ps2400dpi150lpi/FC_FS23_S_ES0093_T_NL_41L.p1 2.4c.C.tif\n",
      "/Users/frederic.birwe/Library/CloudStorage/OneDrive-BertelsmannSE&Co.KGaA/Masterarbeit/20_data/613010/ps2400dpi150lpi/FC_FS23_S_ES0033_T_D_41L.p1.4c.M.tif\n",
      "/Users/frederic.birwe/Library/CloudStorage/OneDrive-BertelsmannSE&Co.KGaA/Masterarbeit/20_data/613010/ps2400dpi150lpi/FC_FS23_S_ES0004_T_F_41L.p1.4c.M.tif\n",
      "/Users/frederic.birwe/Library/CloudStorage/OneDrive-BertelsmannSE&Co.KGaA/Masterarbeit/20_data/613010/ps2400dpi150lpi/FC_FS23_S_ES0014_T_NL_41L.p1.4c.Y.tif\n",
      "/Users/frederic.birwe/Library/CloudStorage/OneDrive-BertelsmannSE&Co.KGaA/Masterarbeit/20_data/613010/ps2400dpi150lpi/FC_FS23_S_ES0045_T_D_Suffix_90_41L.p1.4c.Y.tif\n",
      "/Users/frederic.birwe/Library/CloudStorage/OneDrive-BertelsmannSE&Co.KGaA/Masterarbeit/20_data/613010/ps2400dpi150lpi/FC_FS23_S_ES0062_T_D_41L.p1.4c.M.tif\n",
      "/Users/frederic.birwe/Library/CloudStorage/OneDrive-BertelsmannSE&Co.KGaA/Masterarbeit/20_data/613010/ps2400dpi150lpi/FC_FS23_S_ES0062_T_WCH_41L.p1.4c.C.tif\n",
      "/Users/frederic.birwe/Library/CloudStorage/OneDrive-BertelsmannSE&Co.KGaA/Masterarbeit/20_data/613010/ps2400dpi150lpi/FC_FS23_S_ES0009_T_NL_41L.p1 2.4c.M.tif\n",
      "/Users/frederic.birwe/Library/CloudStorage/OneDrive-BertelsmannSE&Co.KGaA/Masterarbeit/20_data/613010/ps2400dpi150lpi/FC_FS23_S_ES0050_T_D_41L.p1.4c.C.tif\n",
      "/Users/frederic.birwe/Library/CloudStorage/OneDrive-BertelsmannSE&Co.KGaA/Masterarbeit/20_data/613010/ps2400dpi150lpi/FC_FS23_S_ES0055_T_F_41L.p1.4c.M.tif\n",
      "/Users/frederic.birwe/Library/CloudStorage/OneDrive-BertelsmannSE&Co.KGaA/Masterarbeit/20_data/613010/ps2400dpi150lpi/FC_FS23_S_ES0028_T_D_41L.p1.4c.Y.tif\n",
      "/Users/frederic.birwe/Library/CloudStorage/OneDrive-BertelsmannSE&Co.KGaA/Masterarbeit/20_data/613010/ps2400dpi150lpi/FC_FS23_S_ES0094_T_F_41L.p1.4c.C.tif\n"
     ]
    },
    {
     "name": "stderr",
     "output_type": "stream",
     "text": [
      " 64%|██████████████████████▎            | 7322/11457 [00:17<00:21, 190.50it/s]"
     ]
    },
    {
     "name": "stdout",
     "output_type": "stream",
     "text": [
      "/Users/frederic.birwe/Library/CloudStorage/OneDrive-BertelsmannSE&Co.KGaA/Masterarbeit/20_data/613010/ps2400dpi150lpi/FC_FS23_S_ES0065_T_WCH_41L.p1.4c.M.tif\n",
      "/Users/frederic.birwe/Library/CloudStorage/OneDrive-BertelsmannSE&Co.KGaA/Masterarbeit/20_data/613010/ps2400dpi150lpi/FC_FS23_S_ES0091_T_D_41L.p1.4c.M.tif\n",
      "/Users/frederic.birwe/Library/CloudStorage/OneDrive-BertelsmannSE&Co.KGaA/Masterarbeit/20_data/613010/ps2400dpi150lpi/FC_FS23_S_ES0094_T_D_Suffix_90_41L.p1.4c.Y.tif\n",
      "/Users/frederic.birwe/Library/CloudStorage/OneDrive-BertelsmannSE&Co.KGaA/Masterarbeit/20_data/613010/ps2400dpi150lpi/FC_FS23_S_ES0110_T_CH_41L.p1.4c.Y.tif\n",
      "/Users/frederic.birwe/Library/CloudStorage/OneDrive-BertelsmannSE&Co.KGaA/Masterarbeit/20_data/613010/ps2400dpi150lpi/FC_FS23_S_ES0015_T_WCH_41L.p1.4c.Y.tif\n",
      "/Users/frederic.birwe/Library/CloudStorage/OneDrive-BertelsmannSE&Co.KGaA/Masterarbeit/20_data/613010/ps2400dpi150lpi/FC_FS23_S_ES0079_T_D_41L.p1.4c.Y.tif\n",
      "/Users/frederic.birwe/Library/CloudStorage/OneDrive-BertelsmannSE&Co.KGaA/Masterarbeit/20_data/613010/ps2400dpi150lpi/FC_FS23_S_ES0110_T_F_41L.p1.4c.C.tif\n",
      "/Users/frederic.birwe/Library/CloudStorage/OneDrive-BertelsmannSE&Co.KGaA/Masterarbeit/20_data/613010/ps2400dpi150lpi/FC_FS23_S_ES0003_T_CH_41L.p1.4c.M.tif\n",
      "/Users/frederic.birwe/Library/CloudStorage/OneDrive-BertelsmannSE&Co.KGaA/Masterarbeit/20_data/613010/ps2400dpi150lpi/FC_FS23_S_ES0031_T_CH_41L.p1.4c.Y.tif\n",
      "/Users/frederic.birwe/Library/CloudStorage/OneDrive-BertelsmannSE&Co.KGaA/Masterarbeit/20_data/613010/ps2400dpi150lpi/FC_FS23_S_ES0027_T_NL_41L.p1 2.4c.C.tif\n",
      "/Users/frederic.birwe/Library/CloudStorage/OneDrive-BertelsmannSE&Co.KGaA/Masterarbeit/20_data/613010/ps2400dpi150lpi/FC_FS23_S_ES0051_T_A_41L.p1.4c.Y.tif\n",
      "/Users/frederic.birwe/Library/CloudStorage/OneDrive-BertelsmannSE&Co.KGaA/Masterarbeit/20_data/613010/ps2400dpi150lpi/FC_FS23_S_ES0028_T_WCH_41L.p1 2.4c.C.tif\n",
      "/Users/frederic.birwe/Library/CloudStorage/OneDrive-BertelsmannSE&Co.KGaA/Masterarbeit/20_data/613010/ps2400dpi150lpi/FC_FS23_S_ES0056_T_NL_41L.p1.4c.C.tif\n",
      "/Users/frederic.birwe/Library/CloudStorage/OneDrive-BertelsmannSE&Co.KGaA/Masterarbeit/20_data/613010/ps2400dpi150lpi/FC_FS23_S_ES0048_T_CH_41L.p1.4c.Y.tif\n"
     ]
    },
    {
     "name": "stderr",
     "output_type": "stream",
     "text": [
      " 64%|██████████████████████▍            | 7363/11457 [00:17<00:21, 193.07it/s]"
     ]
    },
    {
     "name": "stdout",
     "output_type": "stream",
     "text": [
      "/Users/frederic.birwe/Library/CloudStorage/OneDrive-BertelsmannSE&Co.KGaA/Masterarbeit/20_data/613010/ps2400dpi150lpi/FC_FS23_S_ES0078_T_A_41L.p1.4c.C.tif\n",
      "/Users/frederic.birwe/Library/CloudStorage/OneDrive-BertelsmannSE&Co.KGaA/Masterarbeit/20_data/613010/ps2400dpi150lpi/FC_FS23_S_ES0095_T_F_41L.p1 2.4c.C.tif\n",
      "/Users/frederic.birwe/Library/CloudStorage/OneDrive-BertelsmannSE&Co.KGaA/Masterarbeit/20_data/613010/ps2400dpi150lpi/FC_FS23_S_ES0054_T_F_41L.p1 2.4c.Y.tif\n",
      "/Users/frederic.birwe/Library/CloudStorage/OneDrive-BertelsmannSE&Co.KGaA/Masterarbeit/20_data/613010/ps2400dpi150lpi/FC_FS23_S_ES0029_T_A_41L.p1.4c.C.tif\n",
      "/Users/frederic.birwe/Library/CloudStorage/OneDrive-BertelsmannSE&Co.KGaA/Masterarbeit/20_data/613010/ps2400dpi150lpi/FC_FS23_S_ES0026_T_NL_41L.p1.4c.M.tif\n",
      "/Users/frederic.birwe/Library/CloudStorage/OneDrive-BertelsmannSE&Co.KGaA/Masterarbeit/20_data/613010/ps2400dpi150lpi/FC_FS23_S_ES0062_T_NL_41L.p1.4c.M.tif\n",
      "/Users/frederic.birwe/Library/CloudStorage/OneDrive-BertelsmannSE&Co.KGaA/Masterarbeit/20_data/613010/ps2400dpi150lpi/FC_FS23_S_ES0092_T_D_41L.p1.4c.Y.tif\n",
      "/Users/frederic.birwe/Library/CloudStorage/OneDrive-BertelsmannSE&Co.KGaA/Masterarbeit/20_data/613010/ps2400dpi150lpi/FC_FS23_S_ES0091_T_NL_41L.p1.4c.M.tif\n",
      "/Users/frederic.birwe/Library/CloudStorage/OneDrive-BertelsmannSE&Co.KGaA/Masterarbeit/20_data/613010/ps2400dpi150lpi/FC_FS23_S_ES0043_T_WCH_41L.p1 2.4c.Y.tif\n",
      "/Users/frederic.birwe/Library/CloudStorage/OneDrive-BertelsmannSE&Co.KGaA/Masterarbeit/20_data/613010/ps2400dpi150lpi/FC_FS23_S_ES0008_T_F_41L.p1 2.4c.M.tif\n",
      "/Users/frederic.birwe/Library/CloudStorage/OneDrive-BertelsmannSE&Co.KGaA/Masterarbeit/20_data/613010/ps2400dpi150lpi/FC_FS23_S_ES0019_T_D_41L.p1.4c.C.tif\n",
      "/Users/frederic.birwe/Library/CloudStorage/OneDrive-BertelsmannSE&Co.KGaA/Masterarbeit/20_data/613010/ps2400dpi150lpi/FC_FS23_S_ES0016_T_NL_41L.p1 2.4c.C.tif\n",
      "/Users/frederic.birwe/Library/CloudStorage/OneDrive-BertelsmannSE&Co.KGaA/Masterarbeit/20_data/613010/ps2400dpi150lpi/FC_FS23_S_ES0048_T_D_41L.p1.4c.C.tif\n",
      "/Users/frederic.birwe/Library/CloudStorage/OneDrive-BertelsmannSE&Co.KGaA/Masterarbeit/20_data/613010/ps2400dpi150lpi/FC_FS23_S_ES0108_T_NL_41L.p1.4c.Y.tif\n",
      "/Users/frederic.birwe/Library/CloudStorage/OneDrive-BertelsmannSE&Co.KGaA/Masterarbeit/20_data/613010/ps2400dpi150lpi/FC_FS23_S_ES0034_T_D_Suffix_90_41L.p1.4c.M.tif\n",
      "/Users/frederic.birwe/Library/CloudStorage/OneDrive-BertelsmannSE&Co.KGaA/Masterarbeit/20_data/613010/ps2400dpi150lpi/FC_FS23_S_ES0057_T_D_Suffix_90_41L.p1.4c.C.tif\n",
      "/Users/frederic.birwe/Library/CloudStorage/OneDrive-BertelsmannSE&Co.KGaA/Masterarbeit/20_data/613010/ps2400dpi150lpi/FC_FS23_S_ES0007_T_F_41L.p1.4c.Y.tif\n",
      "/Users/frederic.birwe/Library/CloudStorage/OneDrive-BertelsmannSE&Co.KGaA/Masterarbeit/20_data/613010/ps2400dpi150lpi/FC_FS23_S_ES0012_T_D_Suffix_90_41L.p1.4c.C.tif\n"
     ]
    },
    {
     "name": "stderr",
     "output_type": "stream",
     "text": [
      " 64%|██████████████████████▌            | 7383/11457 [00:17<00:21, 187.73it/s]"
     ]
    },
    {
     "name": "stdout",
     "output_type": "stream",
     "text": [
      "/Users/frederic.birwe/Library/CloudStorage/OneDrive-BertelsmannSE&Co.KGaA/Masterarbeit/20_data/613010/ps2400dpi150lpi/FC_FS23_S_ES0086_T_D_Suffix_90_41L.p1.4c.C.tif\n",
      "/Users/frederic.birwe/Library/CloudStorage/OneDrive-BertelsmannSE&Co.KGaA/Masterarbeit/20_data/613010/ps2400dpi150lpi/FC_FS23_S_ES0089_T_D_41L.p1.4c.M.tif\n",
      "/Users/frederic.birwe/Library/CloudStorage/OneDrive-BertelsmannSE&Co.KGaA/Masterarbeit/20_data/613010/ps2400dpi150lpi/FC_FS23_S_ES0098_T_NL_41L.p1.4c.C.tif\n",
      "/Users/frederic.birwe/Library/CloudStorage/OneDrive-BertelsmannSE&Co.KGaA/Masterarbeit/20_data/613010/ps2400dpi150lpi/FC_FS23_S_ES0071_T_D_Suffix_90_41L.p1.4c.M.tif\n",
      "/Users/frederic.birwe/Library/CloudStorage/OneDrive-BertelsmannSE&Co.KGaA/Masterarbeit/20_data/613010/ps2400dpi150lpi/FC_FS23_S_ES0061_T_F_41L.p1 2.4c.C.tif\n",
      "/Users/frederic.birwe/Library/CloudStorage/OneDrive-BertelsmannSE&Co.KGaA/Masterarbeit/20_data/613010/ps2400dpi150lpi/FC_FS23_S_ES0030_T_D_41L.p1.4c.Y.tif\n",
      "/Users/frederic.birwe/Library/CloudStorage/OneDrive-BertelsmannSE&Co.KGaA/Masterarbeit/20_data/613010/ps2400dpi150lpi/FC_FS23_S_ES0075_T_CH_41L.p1.4c.Y.tif\n",
      "/Users/frederic.birwe/Library/CloudStorage/OneDrive-BertelsmannSE&Co.KGaA/Masterarbeit/20_data/613010/ps2400dpi150lpi/FC_FS23_S_ES0061_T_D_41L.p1.4c.Y.tif\n",
      "/Users/frederic.birwe/Library/CloudStorage/OneDrive-BertelsmannSE&Co.KGaA/Masterarbeit/20_data/613010/ps2400dpi150lpi/FC_FS23_S_ES0012_T_NL_41L.p1.4c.C.tif\n",
      "/Users/frederic.birwe/Library/CloudStorage/OneDrive-BertelsmannSE&Co.KGaA/Masterarbeit/20_data/613010/ps2400dpi150lpi/FC_FS23_S_ES0039_T_WCH_41L.p1.4c.Y.tif\n",
      "/Users/frederic.birwe/Library/CloudStorage/OneDrive-BertelsmannSE&Co.KGaA/Masterarbeit/20_data/613010/ps2400dpi150lpi/FC_FS23_S_ES0019_T_WCH_41L.p1 2.4c.C.tif\n",
      "/Users/frederic.birwe/Library/CloudStorage/OneDrive-BertelsmannSE&Co.KGaA/Masterarbeit/20_data/613010/ps2400dpi150lpi/FC_FS23_S_ES0049_T_A_41L.p1.4c.Y.tif\n"
     ]
    },
    {
     "name": "stderr",
     "output_type": "stream",
     "text": [
      " 65%|██████████████████████▋            | 7419/11457 [00:18<00:27, 144.92it/s]"
     ]
    },
    {
     "name": "stdout",
     "output_type": "stream",
     "text": [
      "/Users/frederic.birwe/Library/CloudStorage/OneDrive-BertelsmannSE&Co.KGaA/Masterarbeit/20_data/613010/ps2400dpi150lpi/FC_FS23_S_ES0047_T_CH_41L.p1.4c.M.tif\n",
      "/Users/frederic.birwe/Library/CloudStorage/OneDrive-BertelsmannSE&Co.KGaA/Masterarbeit/20_data/613010/ps2400dpi150lpi/FC_FS23_S_ES0027_T_WCH_41L.p1.4c.M.tif\n",
      "/Users/frederic.birwe/Library/CloudStorage/OneDrive-BertelsmannSE&Co.KGaA/Masterarbeit/20_data/613010/ps2400dpi150lpi/FC_FS23_S_ES0038_T_NL_41L.p1 2.4c.M.tif\n",
      "/Users/frederic.birwe/Library/CloudStorage/OneDrive-BertelsmannSE&Co.KGaA/Masterarbeit/20_data/613010/ps2400dpi150lpi/FC_FS23_S_ES0018_T_A_41L.p1.4c.Y.tif\n",
      "/Users/frederic.birwe/Library/CloudStorage/OneDrive-BertelsmannSE&Co.KGaA/Masterarbeit/20_data/613010/ps2400dpi150lpi/FC_FS23_S_ES0057_T_WCH_41L.p1.4c.Y.tif\n",
      "/Users/frederic.birwe/Library/CloudStorage/OneDrive-BertelsmannSE&Co.KGaA/Masterarbeit/20_data/613010/ps2400dpi150lpi/FC_FS23_S_ES0093_T_A_41L.p1.4c.C.tif\n",
      "/Users/frederic.birwe/Library/CloudStorage/OneDrive-BertelsmannSE&Co.KGaA/Masterarbeit/20_data/613010/ps2400dpi150lpi/FC_FS23_S_ES0036_T_CH_41L.p1 2.4c.Y.tif\n",
      "/Users/frederic.birwe/Library/CloudStorage/OneDrive-BertelsmannSE&Co.KGaA/Masterarbeit/20_data/613010/ps2400dpi150lpi/FC_FS23_S_ES0098_T_D_Suffix_90_41L.p1.4c.C.tif\n",
      "/Users/frederic.birwe/Library/CloudStorage/OneDrive-BertelsmannSE&Co.KGaA/Masterarbeit/20_data/613010/ps2400dpi150lpi/FC_FS23_S_ES0052_T_A_41L.p1.4c.M.tif\n",
      "/Users/frederic.birwe/Library/CloudStorage/OneDrive-BertelsmannSE&Co.KGaA/Masterarbeit/20_data/613010/ps2400dpi150lpi/FC_FS23_S_ES0049_T_D_Suffix_90_41L.p1.4c.C.tif\n",
      "/Users/frederic.birwe/Library/CloudStorage/OneDrive-BertelsmannSE&Co.KGaA/Masterarbeit/20_data/613010/ps2400dpi150lpi/FC_FS23_S_ES0029_T_NL_41L.p1.4c.Y.tif\n",
      "/Users/frederic.birwe/Library/CloudStorage/OneDrive-BertelsmannSE&Co.KGaA/Masterarbeit/20_data/613010/ps2400dpi150lpi/FC_FS23_S_ES0063_T_NL_41L.p1 2.4c.C.tif\n",
      "/Users/frederic.birwe/Library/CloudStorage/OneDrive-BertelsmannSE&Co.KGaA/Masterarbeit/20_data/613010/ps2400dpi150lpi/FC_FS23_S_ES0060_T_A_41L.p1.4c.C.tif\n",
      "/Users/frederic.birwe/Library/CloudStorage/OneDrive-BertelsmannSE&Co.KGaA/Masterarbeit/20_data/613010/ps2400dpi150lpi/FC_FS23_S_ES0003_T_A_41L.p1.4c.M.tif\n",
      "/Users/frederic.birwe/Library/CloudStorage/OneDrive-BertelsmannSE&Co.KGaA/Masterarbeit/20_data/613010/ps2400dpi150lpi/FC_FS23_S_ES0020_T_WCH_41L.p1.4c.C.tif\n"
     ]
    },
    {
     "name": "stderr",
     "output_type": "stream",
     "text": [
      " 65%|██████████████████████▋            | 7439/11457 [00:18<00:26, 153.41it/s]"
     ]
    },
    {
     "name": "stdout",
     "output_type": "stream",
     "text": [
      "/Users/frederic.birwe/Library/CloudStorage/OneDrive-BertelsmannSE&Co.KGaA/Masterarbeit/20_data/613010/ps2400dpi150lpi/FC_FS23_S_ES0031_T_A_41L.p1.4c.C.tif\n",
      "/Users/frederic.birwe/Library/CloudStorage/OneDrive-BertelsmannSE&Co.KGaA/Masterarbeit/20_data/613010/ps2400dpi150lpi/FC_FS23_S_ES0085_T_WCH_41L.p1 2.4c.C.tif\n",
      "/Users/frederic.birwe/Library/CloudStorage/OneDrive-BertelsmannSE&Co.KGaA/Masterarbeit/20_data/613010/ps2400dpi150lpi/FC_FS23_S_ES0050_T_NL_41L.p1.4c.Y.tif\n",
      "/Users/frederic.birwe/Library/CloudStorage/OneDrive-BertelsmannSE&Co.KGaA/Masterarbeit/20_data/613010/ps2400dpi150lpi/FC_FS23_S_ES0032_T_NL_41L.p1 2.4c.M.tif\n",
      "/Users/frederic.birwe/Library/CloudStorage/OneDrive-BertelsmannSE&Co.KGaA/Masterarbeit/20_data/613010/ps2400dpi150lpi/FC_FS23_S_ES0036_T_WCH_41L.p1.4c.C.tif\n",
      "/Users/frederic.birwe/Library/CloudStorage/OneDrive-BertelsmannSE&Co.KGaA/Masterarbeit/20_data/613010/ps2400dpi150lpi/FC_FS23_S_ES0023_T_NL_41L.p1.4c.M.tif\n",
      "/Users/frederic.birwe/Library/CloudStorage/OneDrive-BertelsmannSE&Co.KGaA/Masterarbeit/20_data/613010/ps2400dpi150lpi/FC_FS23_S_ES0079_T_A_41L.p1.4c.C.tif\n",
      "/Users/frederic.birwe/Library/CloudStorage/OneDrive-BertelsmannSE&Co.KGaA/Masterarbeit/20_data/613010/ps2400dpi150lpi/FC_FS23_S_ES0099_T_WCH_41L.p1.4c.Y.tif\n",
      "/Users/frederic.birwe/Library/CloudStorage/OneDrive-BertelsmannSE&Co.KGaA/Masterarbeit/20_data/613010/ps2400dpi150lpi/FC_FS23_S_ES0056_T_WCH_41L.p1 2.4c.C.tif\n",
      "/Users/frederic.birwe/Library/CloudStorage/OneDrive-BertelsmannSE&Co.KGaA/Masterarbeit/20_data/613010/ps2400dpi150lpi/FC_FS23_S_ES0028_T_A_41L.p1.4c.C.tif\n",
      "/Users/frederic.birwe/Library/CloudStorage/OneDrive-BertelsmannSE&Co.KGaA/Masterarbeit/20_data/613010/ps2400dpi150lpi/FC_FS23_S_ES0035_T_NL_41L.p1 2.4c.Y.tif\n",
      "/Users/frederic.birwe/Library/CloudStorage/OneDrive-BertelsmannSE&Co.KGaA/Masterarbeit/20_data/613010/ps2400dpi150lpi/FC_FS23_S_ES0087_T_WCH_41L.p1.4c.M.tif\n"
     ]
    },
    {
     "name": "stderr",
     "output_type": "stream",
     "text": [
      " 65%|██████████████████████▊            | 7471/11457 [00:18<00:28, 140.41it/s]"
     ]
    },
    {
     "name": "stdout",
     "output_type": "stream",
     "text": [
      "/Users/frederic.birwe/Library/CloudStorage/OneDrive-BertelsmannSE&Co.KGaA/Masterarbeit/20_data/613010/ps2400dpi150lpi/FC_FS23_S_ES0080_T_WCH_41L.p1.4c.C.tif\n",
      "/Users/frederic.birwe/Library/CloudStorage/OneDrive-BertelsmannSE&Co.KGaA/Masterarbeit/20_data/613010/ps2400dpi150lpi/FC_FS23_S_ES0050_T_A_41L.p1.4c.Y.tif\n",
      "/Users/frederic.birwe/Library/CloudStorage/OneDrive-BertelsmannSE&Co.KGaA/Masterarbeit/20_data/613010/ps2400dpi150lpi/FC_FS23_S_ES0041_T_WCH_41L.p1.4c.Y.tif\n",
      "/Users/frederic.birwe/Library/CloudStorage/OneDrive-BertelsmannSE&Co.KGaA/Masterarbeit/20_data/613010/ps2400dpi150lpi/FC_FS23_S_ES0053_T_NL_41L.p1.4c.C.tif\n",
      "/Users/frederic.birwe/Library/CloudStorage/OneDrive-BertelsmannSE&Co.KGaA/Masterarbeit/20_data/613010/ps2400dpi150lpi/FC_FS23_S_ES0031_T_WCH_41L.p1.4c.M.tif\n",
      "/Users/frederic.birwe/Library/CloudStorage/OneDrive-BertelsmannSE&Co.KGaA/Masterarbeit/20_data/613010/ps2400dpi150lpi/FC_FS23_S_ES0032_T_WCH_41L.p1 2.4c.Y.tif\n",
      "/Users/frederic.birwe/Library/CloudStorage/OneDrive-BertelsmannSE&Co.KGaA/Masterarbeit/20_data/613010/ps2400dpi150lpi/FC_FS23_S_ES0034_T_CH_41L.p1.4c.Y.tif\n",
      "/Users/frederic.birwe/Library/CloudStorage/OneDrive-BertelsmannSE&Co.KGaA/Masterarbeit/20_data/613010/ps2400dpi150lpi/FC_FS23_S_ES0006_T_CH_41L.p1.4c.M.tif\n",
      "/Users/frederic.birwe/Library/CloudStorage/OneDrive-BertelsmannSE&Co.KGaA/Masterarbeit/20_data/613010/ps2400dpi150lpi/FC_FS23_S_ES0090_T_D_41L.p1.4c.M.tif\n",
      "/Users/frederic.birwe/Library/CloudStorage/OneDrive-BertelsmannSE&Co.KGaA/Masterarbeit/20_data/613010/ps2400dpi150lpi/FC_FS23_S_ES0015_T_CH_41L.p1 2.4c.C.tif\n",
      "/Users/frederic.birwe/Library/CloudStorage/OneDrive-BertelsmannSE&Co.KGaA/Masterarbeit/20_data/613010/ps2400dpi150lpi/FC_FS23_S_ES0029_T_D_41L.p1.4c.Y.tif\n"
     ]
    },
    {
     "name": "stderr",
     "output_type": "stream",
     "text": [
      " 65%|██████████████████████▉            | 7504/11457 [00:18<00:27, 143.89it/s]"
     ]
    },
    {
     "name": "stdout",
     "output_type": "stream",
     "text": [
      "/Users/frederic.birwe/Library/CloudStorage/OneDrive-BertelsmannSE&Co.KGaA/Masterarbeit/20_data/613010/ps2400dpi150lpi/FC_FS23_S_ES0114_T_D_41L.p1.4c.M.tif\n",
      "/Users/frederic.birwe/Library/CloudStorage/OneDrive-BertelsmannSE&Co.KGaA/Masterarbeit/20_data/613010/ps2400dpi150lpi/FC_FS23_S_ES0077_T_F_41L.p1 2.4c.C.tif\n",
      "/Users/frederic.birwe/Library/CloudStorage/OneDrive-BertelsmannSE&Co.KGaA/Masterarbeit/20_data/613010/ps2400dpi150lpi/FC_FS23_S_ES0060_T_D_Suffix_90_41L.p1.4c.Y.tif\n",
      "/Users/frederic.birwe/Library/CloudStorage/OneDrive-BertelsmannSE&Co.KGaA/Masterarbeit/20_data/613010/ps2400dpi150lpi/FC_FS23_S_ES0078_T_D_41L.p1.4c.Y.tif\n",
      "/Users/frederic.birwe/Library/CloudStorage/OneDrive-BertelsmannSE&Co.KGaA/Masterarbeit/20_data/613010/ps2400dpi150lpi/FC_FS23_S_ES0081_T_NL_41L.p1 2.4c.Y.tif\n",
      "/Users/frederic.birwe/Library/CloudStorage/OneDrive-BertelsmannSE&Co.KGaA/Masterarbeit/20_data/613010/ps2400dpi150lpi/FC_FS23_S_ES0005_T_F_41L.p1.4c.M.tif\n",
      "/Users/frederic.birwe/Library/CloudStorage/OneDrive-BertelsmannSE&Co.KGaA/Masterarbeit/20_data/613010/ps2400dpi150lpi/FC_FS23_S_ES0047_T_NL_41L.p1 2.4c.M.tif\n",
      "/Users/frederic.birwe/Library/CloudStorage/OneDrive-BertelsmannSE&Co.KGaA/Masterarbeit/20_data/613010/ps2400dpi150lpi/FC_FS23_S_ES0025_T_D_Suffix_90_41L.p1.4c.Y.tif\n",
      "/Users/frederic.birwe/Library/CloudStorage/OneDrive-BertelsmannSE&Co.KGaA/Masterarbeit/20_data/613010/ps2400dpi150lpi/FC_FS23_S_ES0037_T_F_41L.p1.4c.C.tif\n",
      "/Users/frederic.birwe/Library/CloudStorage/OneDrive-BertelsmannSE&Co.KGaA/Masterarbeit/20_data/613010/ps2400dpi150lpi/FC_FS23_S_ES0032_T_D_41L.p1.4c.M.tif\n",
      "/Users/frederic.birwe/Library/CloudStorage/OneDrive-BertelsmannSE&Co.KGaA/Masterarbeit/20_data/613010/ps2400dpi150lpi/FC_FS23_S_ES0090_T_WCH_41L.p1 2.4c.Y.tif\n",
      "/Users/frederic.birwe/Library/CloudStorage/OneDrive-BertelsmannSE&Co.KGaA/Masterarbeit/20_data/613010/ps2400dpi150lpi/FC_FS23_S_ES0011_T_NL_41L.p1.4c.Y.tif\n",
      "/Users/frederic.birwe/Library/CloudStorage/OneDrive-BertelsmannSE&Co.KGaA/Masterarbeit/20_data/613010/ps2400dpi150lpi/FC_FS23_S_ES0051_T_D_41L.p1.4c.C.tif\n",
      "/Users/frederic.birwe/Library/CloudStorage/OneDrive-BertelsmannSE&Co.KGaA/Masterarbeit/20_data/613010/ps2400dpi150lpi/FC_FS23_S_ES0068_T_WCH_41L.p1 2.4c.C.tif\n",
      "/Users/frederic.birwe/Library/CloudStorage/OneDrive-BertelsmannSE&Co.KGaA/Masterarbeit/20_data/613010/ps2400dpi150lpi/FC_FS23_S_ES0040_T_NL_41L.p1 2.4c.Y.tif\n",
      "/Users/frederic.birwe/Library/CloudStorage/OneDrive-BertelsmannSE&Co.KGaA/Masterarbeit/20_data/613010/ps2400dpi150lpi/FC_FS23_S_ES0102_T_NL_41L.p1.4c.M.tif\n",
      "/Users/frederic.birwe/Library/CloudStorage/OneDrive-BertelsmannSE&Co.KGaA/Masterarbeit/20_data/613010/ps2400dpi150lpi/FC_FS23_S_ES0085_T_CH_41L.p1.4c.C.tif\n",
      "/Users/frederic.birwe/Library/CloudStorage/OneDrive-BertelsmannSE&Co.KGaA/Masterarbeit/20_data/613010/ps2400dpi150lpi/FC_FS23_S_ES0063_T_D_41L.p1.4c.M.tif\n",
      "/Users/frederic.birwe/Library/CloudStorage/OneDrive-BertelsmannSE&Co.KGaA/Masterarbeit/20_data/613010/ps2400dpi150lpi/FC_FS23_S_ES0066_T_F_41L.p1.4c.C.tif\n"
     ]
    },
    {
     "name": "stderr",
     "output_type": "stream",
     "text": [
      " 66%|███████████████████████            | 7540/11457 [00:19<00:25, 153.09it/s]"
     ]
    },
    {
     "name": "stdout",
     "output_type": "stream",
     "text": [
      "/Users/frederic.birwe/Library/CloudStorage/OneDrive-BertelsmannSE&Co.KGaA/Masterarbeit/20_data/613010/ps2400dpi150lpi/FC_FS23_S_ES0076_T_CH_41L.p1.4c.C.tif\n",
      "/Users/frederic.birwe/Library/CloudStorage/OneDrive-BertelsmannSE&Co.KGaA/Masterarbeit/20_data/613010/ps2400dpi150lpi/FC_FS23_S_ES0087_T_A_41L.p1.4c.C.tif\n",
      "/Users/frederic.birwe/Library/CloudStorage/OneDrive-BertelsmannSE&Co.KGaA/Masterarbeit/20_data/613010/ps2400dpi150lpi/FC_FS23_S_ES0051_T_WCH_41L.p1.4c.Y.tif\n",
      "/Users/frederic.birwe/Library/CloudStorage/OneDrive-BertelsmannSE&Co.KGaA/Masterarbeit/20_data/613010/ps2400dpi150lpi/FC_FS23_S_ES0032_T_D_Suffix_90_41L.p1.4c.M.tif\n",
      "/Users/frederic.birwe/Library/CloudStorage/OneDrive-BertelsmannSE&Co.KGaA/Masterarbeit/20_data/613010/ps2400dpi150lpi/FC_FS23_S_ES0103_T_A_41L.p1.4c.C.tif\n",
      "/Users/frederic.birwe/Library/CloudStorage/OneDrive-BertelsmannSE&Co.KGaA/Masterarbeit/20_data/613010/ps2400dpi150lpi/FC_FS23_S_ES0027_T_CH_41L.p1.4c.M.tif\n",
      "/Users/frederic.birwe/Library/CloudStorage/OneDrive-BertelsmannSE&Co.KGaA/Masterarbeit/20_data/613010/ps2400dpi150lpi/FC_FS23_S_ES0051_T_D_Suffix_90_41L.p1.4c.C.tif\n",
      "/Users/frederic.birwe/Library/CloudStorage/OneDrive-BertelsmannSE&Co.KGaA/Masterarbeit/20_data/613010/ps2400dpi150lpi/FC_FS23_S_ES0068_T_NL_41L.p1 2.4c.C.tif\n",
      "/Users/frederic.birwe/Library/CloudStorage/OneDrive-BertelsmannSE&Co.KGaA/Masterarbeit/20_data/613010/ps2400dpi150lpi/FC_FS23_S_ES0030_T_NL_41L.p1.4c.Y.tif\n",
      "/Users/frederic.birwe/Library/CloudStorage/OneDrive-BertelsmannSE&Co.KGaA/Masterarbeit/20_data/613010/ps2400dpi150lpi/FC_FS23_S_ES0033_T_NL_41L.p1 2.4c.M.tif\n",
      "/Users/frederic.birwe/Library/CloudStorage/OneDrive-BertelsmannSE&Co.KGaA/Masterarbeit/20_data/613010/ps2400dpi150lpi/FC_FS23_S_ES0014_T_D_Suffix_90_41L.p1.4c.C.tif\n",
      "/Users/frederic.birwe/Library/CloudStorage/OneDrive-BertelsmannSE&Co.KGaA/Masterarbeit/20_data/613010/ps2400dpi150lpi/FC_FS23_S_ES0017_T_A_41L.p1.4c.M.tif\n",
      "/Users/frederic.birwe/Library/CloudStorage/OneDrive-BertelsmannSE&Co.KGaA/Masterarbeit/20_data/613010/ps2400dpi150lpi/FC_FS23_S_ES0080_T_D_Suffix_90_41L.p1.4c.C.tif\n",
      "/Users/frederic.birwe/Library/CloudStorage/OneDrive-BertelsmannSE&Co.KGaA/Masterarbeit/20_data/613010/ps2400dpi150lpi/FC_FS23_S_ES0025_T_A_41L.p1.4c.C.tif\n",
      "/Users/frederic.birwe/Library/CloudStorage/OneDrive-BertelsmannSE&Co.KGaA/Masterarbeit/20_data/613010/ps2400dpi150lpi/FC_FS23_S_ES0057_T_CH_41L.p1.4c.C.tif\n",
      "/Users/frederic.birwe/Library/CloudStorage/OneDrive-BertelsmannSE&Co.KGaA/Masterarbeit/20_data/613010/ps2400dpi150lpi/FC_FS23_S_ES0077_T_D_Suffix_90_41L.p1.4c.M.tif\n",
      "/Users/frederic.birwe/Library/CloudStorage/OneDrive-BertelsmannSE&Co.KGaA/Masterarbeit/20_data/613010/ps2400dpi150lpi/FC_FS23_S_ES0046_T_A_41L.p1.4c.M.tif\n",
      "/Users/frederic.birwe/Library/CloudStorage/OneDrive-BertelsmannSE&Co.KGaA/Masterarbeit/20_data/613010/ps2400dpi150lpi/FC_FS23_S_ES0089_T_WCH_41L.p1.4c.Y.tif\n"
     ]
    },
    {
     "name": "stderr",
     "output_type": "stream",
     "text": [
      " 66%|███████████████████████▏           | 7581/11457 [00:19<00:21, 176.71it/s]"
     ]
    },
    {
     "name": "stdout",
     "output_type": "stream",
     "text": [
      "/Users/frederic.birwe/Library/CloudStorage/OneDrive-BertelsmannSE&Co.KGaA/Masterarbeit/20_data/613010/ps2400dpi150lpi/FC_FS23_S_ES0113_T_F_41L.p1 2.4c.Y.tif\n",
      "/Users/frederic.birwe/Library/CloudStorage/OneDrive-BertelsmannSE&Co.KGaA/Masterarbeit/20_data/613010/ps2400dpi150lpi/FC_FS23_S_ES0049_T_NL_41L.p1.4c.Y.tif\n",
      "/Users/frederic.birwe/Library/CloudStorage/OneDrive-BertelsmannSE&Co.KGaA/Masterarbeit/20_data/613010/ps2400dpi150lpi/FC_FS23_S_ES0034_T_NL_41L.p1 2.4c.Y.tif\n",
      "/Users/frederic.birwe/Library/CloudStorage/OneDrive-BertelsmannSE&Co.KGaA/Masterarbeit/20_data/613010/ps2400dpi150lpi/FC_FS23_S_ES0048_T_WCH_41L.p1.4c.C.tif\n",
      "/Users/frederic.birwe/Library/CloudStorage/OneDrive-BertelsmannSE&Co.KGaA/Masterarbeit/20_data/613010/ps2400dpi150lpi/FC_FS23_S_ES0074_T_A_41L.p1.4c.C.tif\n",
      "/Users/frederic.birwe/Library/CloudStorage/OneDrive-BertelsmannSE&Co.KGaA/Masterarbeit/20_data/613010/ps2400dpi150lpi/FC_FS23_S_ES0088_T_NL_41L.p1.4c.M.tif\n",
      "/Users/frederic.birwe/Library/CloudStorage/OneDrive-BertelsmannSE&Co.KGaA/Masterarbeit/20_data/613010/ps2400dpi150lpi/FC_FS23_S_ES0046_T_NL_41L.p1 2.4c.M.tif\n",
      "/Users/frederic.birwe/Library/CloudStorage/OneDrive-BertelsmannSE&Co.KGaA/Masterarbeit/20_data/613010/ps2400dpi150lpi/FC_FS23_S_ES0059_T_F_41L.p1.4c.M.tif\n",
      "/Users/frederic.birwe/Library/CloudStorage/OneDrive-BertelsmannSE&Co.KGaA/Masterarbeit/20_data/613010/ps2400dpi150lpi/FC_FS23_S_ES0102_T_D_41L.p1.4c.Y.tif\n",
      "/Users/frederic.birwe/Library/CloudStorage/OneDrive-BertelsmannSE&Co.KGaA/Masterarbeit/20_data/613010/ps2400dpi150lpi/FC_FS23_S_ES0086_T_D_41L.p1.4c.Y.tif\n",
      "/Users/frederic.birwe/Library/CloudStorage/OneDrive-BertelsmannSE&Co.KGaA/Masterarbeit/20_data/613010/ps2400dpi150lpi/FC_FS23_S_ES0010_T_F_41L.p1 2.4c.Y.tif\n",
      "/Users/frederic.birwe/Library/CloudStorage/OneDrive-BertelsmannSE&Co.KGaA/Masterarbeit/20_data/613010/ps2400dpi150lpi/FC_FS23_S_ES0111_T_NL_41L.p1.4c.Y.tif\n",
      "/Users/frederic.birwe/Library/CloudStorage/OneDrive-BertelsmannSE&Co.KGaA/Masterarbeit/20_data/613010/ps2400dpi150lpi/FC_FS23_S_ES0069_T_D_Suffix_90_41L.p1.4c.M.tif\n",
      "/Users/frederic.birwe/Library/CloudStorage/OneDrive-BertelsmannSE&Co.KGaA/Masterarbeit/20_data/613010/ps2400dpi150lpi/FC_FS23_S_ES0041_T_NL_41L.p1 2.4c.Y.tif\n",
      "/Users/frederic.birwe/Library/CloudStorage/OneDrive-BertelsmannSE&Co.KGaA/Masterarbeit/20_data/613010/ps2400dpi150lpi/FC_FS23_S_ES0102_T_D_Suffix_90_41L.p1.4c.M.tif\n",
      "/Users/frederic.birwe/Library/CloudStorage/OneDrive-BertelsmannSE&Co.KGaA/Masterarbeit/20_data/613010/ps2400dpi150lpi/FC_FS23_S_ES0106_T_CH_41L.p1.4c.M.tif\n",
      "/Users/frederic.birwe/Library/CloudStorage/OneDrive-BertelsmannSE&Co.KGaA/Masterarbeit/20_data/613010/ps2400dpi150lpi/FC_FS23_S_ES0042_T_F_41L.p1.4c.Y.tif\n"
     ]
    },
    {
     "name": "stderr",
     "output_type": "stream",
     "text": [
      " 66%|███████████████████████▎           | 7617/11457 [00:19<00:22, 173.81it/s]"
     ]
    },
    {
     "name": "stdout",
     "output_type": "stream",
     "text": [
      "/Users/frederic.birwe/Library/CloudStorage/OneDrive-BertelsmannSE&Co.KGaA/Masterarbeit/20_data/613010/ps2400dpi150lpi/FC_FS23_S_ES0022_T_WCH_41L.p1 2.4c.M.tif\n",
      "/Users/frederic.birwe/Library/CloudStorage/OneDrive-BertelsmannSE&Co.KGaA/Masterarbeit/20_data/613010/ps2400dpi150lpi/FC_FS23_S_ES0075_T_D_41L.p1.4c.Y.tif\n",
      "/Users/frederic.birwe/Library/CloudStorage/OneDrive-BertelsmannSE&Co.KGaA/Masterarbeit/20_data/613010/ps2400dpi150lpi/FC_FS23_S_ES0089_T_CH_41L.p1 2.4c.Y.tif\n",
      "/Users/frederic.birwe/Library/CloudStorage/OneDrive-BertelsmannSE&Co.KGaA/Masterarbeit/20_data/613010/ps2400dpi150lpi/FC_FS23_S_ES0014_T_CH_41L.p1 2.4c.C.tif\n",
      "/Users/frederic.birwe/Library/CloudStorage/OneDrive-BertelsmannSE&Co.KGaA/Masterarbeit/20_data/613010/ps2400dpi150lpi/FC_FS23_S_ES0067_T_F_41L.p1 2.4c.C.tif\n",
      "/Users/frederic.birwe/Library/CloudStorage/OneDrive-BertelsmannSE&Co.KGaA/Masterarbeit/20_data/613010/ps2400dpi150lpi/FC_FS23_S_ES0013_T_F_41L.p1.4c.Y.tif\n",
      "/Users/frederic.birwe/Library/CloudStorage/OneDrive-BertelsmannSE&Co.KGaA/Masterarbeit/20_data/613010/ps2400dpi150lpi/FC_FS23_S_ES0098_T_F_41L.p1.4c.C.tif\n",
      "/Users/frederic.birwe/Library/CloudStorage/OneDrive-BertelsmannSE&Co.KGaA/Masterarbeit/20_data/613010/ps2400dpi150lpi/FC_FS23_S_ES0024_T_D_41L.p1.4c.Y.tif\n",
      "/Users/frederic.birwe/Library/CloudStorage/OneDrive-BertelsmannSE&Co.KGaA/Masterarbeit/20_data/613010/ps2400dpi150lpi/FC_FS23_S_ES0105_T_F_41L.p1.4c.C.tif\n",
      "/Users/frederic.birwe/Library/CloudStorage/OneDrive-BertelsmannSE&Co.KGaA/Masterarbeit/20_data/613010/ps2400dpi150lpi/FC_FS23_S_ES0100_T_D_41L.p1.4c.M.tif\n",
      "/Users/frederic.birwe/Library/CloudStorage/OneDrive-BertelsmannSE&Co.KGaA/Masterarbeit/20_data/613010/ps2400dpi150lpi/FC_FS23_S_ES0045_T_CH_41L.p1 2.4c.M.tif\n",
      "/Users/frederic.birwe/Library/CloudStorage/OneDrive-BertelsmannSE&Co.KGaA/Masterarbeit/20_data/613010/ps2400dpi150lpi/FC_FS23_S_ES0113_T_D_Suffix_90_41L.p1.4c.Y.tif\n",
      "/Users/frederic.birwe/Library/CloudStorage/OneDrive-BertelsmannSE&Co.KGaA/Masterarbeit/20_data/613010/ps2400dpi150lpi/FC_FS23_S_ES0084_T_D_41L.p1.4c.M.tif\n",
      "/Users/frederic.birwe/Library/CloudStorage/OneDrive-BertelsmannSE&Co.KGaA/Masterarbeit/20_data/613010/ps2400dpi150lpi/FC_FS23_S_ES0081_T_F_41L.p1.4c.C.tif\n"
     ]
    },
    {
     "name": "stderr",
     "output_type": "stream",
     "text": [
      " 67%|███████████████████████▍           | 7655/11457 [00:19<00:21, 180.56it/s]"
     ]
    },
    {
     "name": "stdout",
     "output_type": "stream",
     "text": [
      "/Users/frederic.birwe/Library/CloudStorage/OneDrive-BertelsmannSE&Co.KGaA/Masterarbeit/20_data/613010/ps2400dpi150lpi/FC_FS23_S_ES0066_T_CH_41L.p1.4c.M.tif\n",
      "/Users/frederic.birwe/Library/CloudStorage/OneDrive-BertelsmannSE&Co.KGaA/Masterarbeit/20_data/613010/ps2400dpi150lpi/FC_FS23_S_ES0112_T_NL_41L.p1.4c.C.tif\n",
      "/Users/frederic.birwe/Library/CloudStorage/OneDrive-BertelsmannSE&Co.KGaA/Masterarbeit/20_data/613010/ps2400dpi150lpi/FC_FS23_S_ES0040_T_F_41L.p1.4c.M.tif\n",
      "/Users/frederic.birwe/Library/CloudStorage/OneDrive-BertelsmannSE&Co.KGaA/Masterarbeit/20_data/613010/ps2400dpi150lpi/FC_FS23_S_ES0045_T_D_41L.p1.4c.C.tif\n",
      "/Users/frederic.birwe/Library/CloudStorage/OneDrive-BertelsmannSE&Co.KGaA/Masterarbeit/20_data/613010/ps2400dpi150lpi/FC_FS23_S_ES0016_T_CH_41L.p1.4c.C.tif\n",
      "/Users/frederic.birwe/Library/CloudStorage/OneDrive-BertelsmannSE&Co.KGaA/Masterarbeit/20_data/613010/ps2400dpi150lpi/FC_FS23_S_ES0078_T_D_Suffix_90_41L.p1.4c.Y.tif\n",
      "/Users/frederic.birwe/Library/CloudStorage/OneDrive-BertelsmannSE&Co.KGaA/Masterarbeit/20_data/613010/ps2400dpi150lpi/FC_FS23_S_ES0017_T_NL_41L.p1 2.4c.C.tif\n",
      "/Users/frederic.birwe/Library/CloudStorage/OneDrive-BertelsmannSE&Co.KGaA/Masterarbeit/20_data/613010/ps2400dpi150lpi/FC_FS23_S_ES0082_T_NL_41L.p1.4c.Y.tif\n",
      "/Users/frederic.birwe/Library/CloudStorage/OneDrive-BertelsmannSE&Co.KGaA/Masterarbeit/20_data/613010/ps2400dpi150lpi/FC_FS23_S_ES0071_T_NL_41L.p1.4c.Y.tif\n",
      "/Users/frederic.birwe/Library/CloudStorage/OneDrive-BertelsmannSE&Co.KGaA/Masterarbeit/20_data/613010/ps2400dpi150lpi/FC_FS23_S_ES0077_T_D_41L.p1.4c.M.tif\n",
      "/Users/frederic.birwe/Library/CloudStorage/OneDrive-BertelsmannSE&Co.KGaA/Masterarbeit/20_data/613010/ps2400dpi150lpi/FC_FS23_S_ES0008_T_NL_41L.p1.4c.Y.tif\n",
      "/Users/frederic.birwe/Library/CloudStorage/OneDrive-BertelsmannSE&Co.KGaA/Masterarbeit/20_data/613010/ps2400dpi150lpi/FC_FS23_S_ES0014_T_D_41L.p1.4c.C.tif\n",
      "/Users/frederic.birwe/Library/CloudStorage/OneDrive-BertelsmannSE&Co.KGaA/Masterarbeit/20_data/613010/ps2400dpi150lpi/FC_FS23_S_ES0011_T_F_41L.p1.4c.M.tif\n",
      "/Users/frederic.birwe/Library/CloudStorage/OneDrive-BertelsmannSE&Co.KGaA/Masterarbeit/20_data/613010/ps2400dpi150lpi/FC_FS23_S_ES0026_T_D_41L.p1.4c.M.tif\n",
      "/Users/frederic.birwe/Library/CloudStorage/OneDrive-BertelsmannSE&Co.KGaA/Masterarbeit/20_data/613010/ps2400dpi150lpi/FC_FS23_S_ES0023_T_F_41L.p1.4c.C.tif\n",
      "/Users/frederic.birwe/Library/CloudStorage/OneDrive-BertelsmannSE&Co.KGaA/Masterarbeit/20_data/613010/ps2400dpi150lpi/FC_FS23_S_ES0068_T_F_41L.p1 2.4c.Y.tif\n",
      "/Users/frederic.birwe/Library/CloudStorage/OneDrive-BertelsmannSE&Co.KGaA/Masterarbeit/20_data/613010/ps2400dpi150lpi/FC_FS23_S_ES0081_T_WCH_41L.p1.4c.M.tif\n",
      "/Users/frederic.birwe/Library/CloudStorage/OneDrive-BertelsmannSE&Co.KGaA/Masterarbeit/20_data/613010/ps2400dpi150lpi/FC_FS23_S_ES0030_T_WCH_41L.p1.4c.C.tif\n",
      "/Users/frederic.birwe/Library/CloudStorage/OneDrive-BertelsmannSE&Co.KGaA/Masterarbeit/20_data/613010/ps2400dpi150lpi/FC_FS23_S_ES0043_T_NL_41L.p1.4c.M.tif\n"
     ]
    },
    {
     "name": "stderr",
     "output_type": "stream",
     "text": [
      " 67%|███████████████████████▌           | 7695/11457 [00:19<00:21, 176.81it/s]"
     ]
    },
    {
     "name": "stdout",
     "output_type": "stream",
     "text": [
      "/Users/frederic.birwe/Library/CloudStorage/OneDrive-BertelsmannSE&Co.KGaA/Masterarbeit/20_data/613010/ps2400dpi150lpi/FC_FS23_S_ES0066_T_D_Suffix_90_41L.p1.4c.Y.tif\n",
      "/Users/frederic.birwe/Library/CloudStorage/OneDrive-BertelsmannSE&Co.KGaA/Masterarbeit/20_data/613010/ps2400dpi150lpi/FC_FS23_S_ES0030_T_CH_41L.p1 2.4c.M.tif\n",
      "/Users/frederic.birwe/Library/CloudStorage/OneDrive-BertelsmannSE&Co.KGaA/Masterarbeit/20_data/613010/ps2400dpi150lpi/FC_FS23_S_ES0015_T_A_41L.p1.4c.Y.tif\n",
      "/Users/frederic.birwe/Library/CloudStorage/OneDrive-BertelsmannSE&Co.KGaA/Masterarbeit/20_data/613010/ps2400dpi150lpi/FC_FS23_S_ES0023_T_D_Suffix_90_41L.p1.4c.Y.tif\n",
      "/Users/frederic.birwe/Library/CloudStorage/OneDrive-BertelsmannSE&Co.KGaA/Masterarbeit/20_data/613010/ps2400dpi150lpi/FC_FS23_S_ES0054_T_CH_41L.p1.4c.Y.tif\n",
      "/Users/frederic.birwe/Library/CloudStorage/OneDrive-BertelsmannSE&Co.KGaA/Masterarbeit/20_data/613010/ps2400dpi150lpi/FC_FS23_S_ES0033_T_NL_41L.p1.4c.C.tif\n",
      "/Users/frederic.birwe/Library/CloudStorage/OneDrive-BertelsmannSE&Co.KGaA/Masterarbeit/20_data/613010/ps2400dpi150lpi/FC_FS23_S_ES0037_T_WCH_41L.p1.4c.M.tif\n",
      "/Users/frederic.birwe/Library/CloudStorage/OneDrive-BertelsmannSE&Co.KGaA/Masterarbeit/20_data/613010/ps2400dpi150lpi/FC_FS23_S_ES0044_T_A_41L.p1.4c.Y.tif\n",
      "/Users/frederic.birwe/Library/CloudStorage/OneDrive-BertelsmannSE&Co.KGaA/Masterarbeit/20_data/613010/ps2400dpi150lpi/FC_FS23_S_ES0039_T_NL_41L.p1 2.4c.M.tif\n",
      "/Users/frederic.birwe/Library/CloudStorage/OneDrive-BertelsmannSE&Co.KGaA/Masterarbeit/20_data/613010/ps2400dpi150lpi/FC_FS23_S_ES0086_T_WCH_41L.p1.4c.C.tif\n",
      "/Users/frederic.birwe/Library/CloudStorage/OneDrive-BertelsmannSE&Co.KGaA/Masterarbeit/20_data/613010/ps2400dpi150lpi/FC_FS23_S_ES0059_T_WCH_41L.p1.4c.M.tif\n",
      "/Users/frederic.birwe/Library/CloudStorage/OneDrive-BertelsmannSE&Co.KGaA/Masterarbeit/20_data/613010/ps2400dpi150lpi/FC_FS23_S_ES0037_T_CH_41L.p1 2.4c.Y.tif\n",
      "/Users/frederic.birwe/Library/CloudStorage/OneDrive-BertelsmannSE&Co.KGaA/Masterarbeit/20_data/613010/ps2400dpi150lpi/FC_FS23_S_ES0101_T_D_Suffix_90_41L.p1.4c.C.tif\n",
      "/Users/frederic.birwe/Library/CloudStorage/OneDrive-BertelsmannSE&Co.KGaA/Masterarbeit/20_data/613010/ps2400dpi150lpi/FC_FS23_S_ES0074_T_D_41L.p1.4c.Y.tif\n",
      "/Users/frederic.birwe/Library/CloudStorage/OneDrive-BertelsmannSE&Co.KGaA/Masterarbeit/20_data/613010/ps2400dpi150lpi/FC_FS23_S_ES0069_T_CH_41L.p1.4c.Y.tif\n"
     ]
    },
    {
     "name": "stderr",
     "output_type": "stream",
     "text": [
      " 67%|███████████████████████▌           | 7733/11457 [00:20<00:20, 179.78it/s]"
     ]
    },
    {
     "name": "stdout",
     "output_type": "stream",
     "text": [
      "/Users/frederic.birwe/Library/CloudStorage/OneDrive-BertelsmannSE&Co.KGaA/Masterarbeit/20_data/613010/ps2400dpi150lpi/FC_FS23_S_ES0075_T_WCH_41L.p1.4c.M.tif\n",
      "/Users/frederic.birwe/Library/CloudStorage/OneDrive-BertelsmannSE&Co.KGaA/Masterarbeit/20_data/613010/ps2400dpi150lpi/FC_FS23_S_ES0025_T_D_41L.p1.4c.Y.tif\n",
      "/Users/frederic.birwe/Library/CloudStorage/OneDrive-BertelsmannSE&Co.KGaA/Masterarbeit/20_data/613010/ps2400dpi150lpi/FC_FS23_S_ES0005_T_WCH_41L.p1.4c.Y.tif\n",
      "/Users/frederic.birwe/Library/CloudStorage/OneDrive-BertelsmannSE&Co.KGaA/Masterarbeit/20_data/613010/ps2400dpi150lpi/FC_FS23_S_ES0010_T_CH_41L.p1.4c.Y.tif\n",
      "/Users/frederic.birwe/Library/CloudStorage/OneDrive-BertelsmannSE&Co.KGaA/Masterarbeit/20_data/613010/ps2400dpi150lpi/FC_FS23_S_ES0103_T_CH_41L.p1.4c.M.tif\n",
      "/Users/frederic.birwe/Library/CloudStorage/OneDrive-BertelsmannSE&Co.KGaA/Masterarbeit/20_data/613010/ps2400dpi150lpi/FC_FS23_S_ES0084_T_NL_41L.p1.4c.C.tif\n",
      "/Users/frederic.birwe/Library/CloudStorage/OneDrive-BertelsmannSE&Co.KGaA/Masterarbeit/20_data/613010/ps2400dpi150lpi/FC_FS23_S_ES0099_T_F_41L.p1.4c.C.tif\n",
      "/Users/frederic.birwe/Library/CloudStorage/OneDrive-BertelsmannSE&Co.KGaA/Masterarbeit/20_data/613010/ps2400dpi150lpi/FC_FS23_S_ES0077_T_NL_41L.p1.4c.C.tif\n",
      "/Users/frederic.birwe/Library/CloudStorage/OneDrive-BertelsmannSE&Co.KGaA/Masterarbeit/20_data/613010/ps2400dpi150lpi/FC_FS23_S_ES0012_T_F_41L.p1.4c.Y.tif\n",
      "/Users/frederic.birwe/Library/CloudStorage/OneDrive-BertelsmannSE&Co.KGaA/Masterarbeit/20_data/613010/ps2400dpi150lpi/FC_FS23_S_ES0092_T_NL_41L.p1 2.4c.C.tif\n",
      "/Users/frederic.birwe/Library/CloudStorage/OneDrive-BertelsmannSE&Co.KGaA/Masterarbeit/20_data/613010/ps2400dpi150lpi/FC_FS23_S_ES0007_T_NL_41L.p1.4c.M.tif\n",
      "/Users/frederic.birwe/Library/CloudStorage/OneDrive-BertelsmannSE&Co.KGaA/Masterarbeit/20_data/613010/ps2400dpi150lpi/FC_FS23_S_ES0103_T_D_41L.p1.4c.Y.tif\n",
      "/Users/frederic.birwe/Library/CloudStorage/OneDrive-BertelsmannSE&Co.KGaA/Masterarbeit/20_data/613010/ps2400dpi150lpi/FC_FS23_S_ES0114_T_NL_41L.p1.4c.Y.tif\n",
      "/Users/frederic.birwe/Library/CloudStorage/OneDrive-BertelsmannSE&Co.KGaA/Masterarbeit/20_data/613010/ps2400dpi150lpi/FC_FS23_S_ES0058_T_F_41L.p1.4c.M.tif\n",
      "/Users/frederic.birwe/Library/CloudStorage/OneDrive-BertelsmannSE&Co.KGaA/Masterarbeit/20_data/613010/ps2400dpi150lpi/FC_FS23_S_ES0072_T_WCH_41L.p1.4c.C.tif\n",
      "/Users/frederic.birwe/Library/CloudStorage/OneDrive-BertelsmannSE&Co.KGaA/Masterarbeit/20_data/613010/ps2400dpi150lpi/FC_FS23_S_ES0009_T_F_41L.p1.4c.M.tif\n"
     ]
    },
    {
     "name": "stderr",
     "output_type": "stream",
     "text": [
      " 68%|███████████████████████▋           | 7752/11457 [00:20<00:21, 176.18it/s]"
     ]
    },
    {
     "name": "stdout",
     "output_type": "stream",
     "text": [
      "/Users/frederic.birwe/Library/CloudStorage/OneDrive-BertelsmannSE&Co.KGaA/Masterarbeit/20_data/613010/ps2400dpi150lpi/FC_FS23_S_ES0087_T_D_41L.p1.4c.Y.tif\n",
      "/Users/frederic.birwe/Library/CloudStorage/OneDrive-BertelsmannSE&Co.KGaA/Masterarbeit/20_data/613010/ps2400dpi150lpi/FC_FS23_S_ES0009_T_D_Suffix_90_41L.p1.4c.M.tif\n",
      "/Users/frederic.birwe/Library/CloudStorage/OneDrive-BertelsmannSE&Co.KGaA/Masterarbeit/20_data/613010/ps2400dpi150lpi/FC_FS23_S_ES0008_T_NL_41L.p1 2.4c.M.tif\n",
      "/Users/frederic.birwe/Library/CloudStorage/OneDrive-BertelsmannSE&Co.KGaA/Masterarbeit/20_data/613010/ps2400dpi150lpi/FC_FS23_S_ES0017_T_D_Suffix_90_41L.p1.4c.M.tif\n",
      "/Users/frederic.birwe/Library/CloudStorage/OneDrive-BertelsmannSE&Co.KGaA/Masterarbeit/20_data/613010/ps2400dpi150lpi/FC_FS23_S_ES0024_T_A_41L.p1.4c.C.tif\n",
      "/Users/frederic.birwe/Library/CloudStorage/OneDrive-BertelsmannSE&Co.KGaA/Masterarbeit/20_data/613010/ps2400dpi150lpi/FC_FS23_S_ES0085_T_F_41L.p1 2.4c.C.tif\n",
      "/Users/frederic.birwe/Library/CloudStorage/OneDrive-BertelsmannSE&Co.KGaA/Masterarbeit/20_data/613010/ps2400dpi150lpi/FC_FS23_S_ES0083_T_D_Suffix_90_41L.p1.4c.M.tif\n",
      "/Users/frederic.birwe/Library/CloudStorage/OneDrive-BertelsmannSE&Co.KGaA/Masterarbeit/20_data/613010/ps2400dpi150lpi/FC_FS23_S_ES0024_T_WCH_41L.p1 2.4c.C.tif\n",
      "/Users/frederic.birwe/Library/CloudStorage/OneDrive-BertelsmannSE&Co.KGaA/Masterarbeit/20_data/613010/ps2400dpi150lpi/FC_FS23_S_ES0016_T_A_41L.p1.4c.M.tif\n",
      "/Users/frederic.birwe/Library/CloudStorage/OneDrive-BertelsmannSE&Co.KGaA/Masterarbeit/20_data/613010/ps2400dpi150lpi/FC_FS23_S_ES0074_T_CH_41L.p1 2.4c.M.tif\n",
      "/Users/frederic.birwe/Library/CloudStorage/OneDrive-BertelsmannSE&Co.KGaA/Masterarbeit/20_data/613010/ps2400dpi150lpi/FC_FS23_S_ES0074_T_D_Suffix_90_41L.p1.4c.C.tif\n",
      "/Users/frederic.birwe/Library/CloudStorage/OneDrive-BertelsmannSE&Co.KGaA/Masterarbeit/20_data/613010/ps2400dpi150lpi/FC_FS23_S_ES0075_T_A_41L.p1.4c.C.tif\n",
      "/Users/frederic.birwe/Library/CloudStorage/OneDrive-BertelsmannSE&Co.KGaA/Masterarbeit/20_data/613010/ps2400dpi150lpi/FC_FS23_S_ES0034_T_F_41L.p1 2.4c.M.tif\n",
      "/Users/frederic.birwe/Library/CloudStorage/OneDrive-BertelsmannSE&Co.KGaA/Masterarbeit/20_data/613010/ps2400dpi150lpi/FC_FS23_S_ES0052_T_CH_41L.p1.4c.C.tif\n",
      "/Users/frederic.birwe/Library/CloudStorage/OneDrive-BertelsmannSE&Co.KGaA/Masterarbeit/20_data/613010/ps2400dpi150lpi/FC_FS23_S_ES0035_T_NL_41L.p1.4c.Y.tif\n",
      "/Users/frederic.birwe/Library/CloudStorage/OneDrive-BertelsmannSE&Co.KGaA/Masterarbeit/20_data/613010/ps2400dpi150lpi/FC_FS23_S_ES0047_T_A_41L.p1.4c.M.tif\n",
      "/Users/frederic.birwe/Library/CloudStorage/OneDrive-BertelsmannSE&Co.KGaA/Masterarbeit/20_data/613010/ps2400dpi150lpi/FC_FS23_S_ES0026_T_NL_41L.p1 2.4c.C.tif\n",
      "/Users/frederic.birwe/Library/CloudStorage/OneDrive-BertelsmannSE&Co.KGaA/Masterarbeit/20_data/613010/ps2400dpi150lpi/FC_FS23_S_ES0086_T_A_41L.p1.4c.C.tif\n",
      "/Users/frederic.birwe/Library/CloudStorage/OneDrive-BertelsmannSE&Co.KGaA/Masterarbeit/20_data/613010/ps2400dpi150lpi/FC_FS23_S_ES0022_T_CH_41L.p1.4c.M.tif\n"
     ]
    },
    {
     "name": "stderr",
     "output_type": "stream",
     "text": [
      " 68%|███████████████████████▊           | 7790/11457 [00:20<00:20, 178.73it/s]"
     ]
    },
    {
     "name": "stdout",
     "output_type": "stream",
     "text": [
      "/Users/frederic.birwe/Library/CloudStorage/OneDrive-BertelsmannSE&Co.KGaA/Masterarbeit/20_data/613010/ps2400dpi150lpi/FC_FS23_S_ES0106_T_WCH_41L.p1.4c.Y.tif\n",
      "/Users/frederic.birwe/Library/CloudStorage/OneDrive-BertelsmannSE&Co.KGaA/Masterarbeit/20_data/613010/ps2400dpi150lpi/FC_FS23_S_ES0031_T_D_Suffix_90_41L.p1.4c.C.tif\n",
      "/Users/frederic.birwe/Library/CloudStorage/OneDrive-BertelsmannSE&Co.KGaA/Masterarbeit/20_data/613010/ps2400dpi150lpi/FC_FS23_S_ES0052_T_D_Suffix_90_41L.p1.4c.M.tif\n",
      "/Users/frederic.birwe/Library/CloudStorage/OneDrive-BertelsmannSE&Co.KGaA/Masterarbeit/20_data/613010/ps2400dpi150lpi/FC_FS23_S_ES0102_T_A_41L.p1.4c.C.tif\n",
      "/Users/frederic.birwe/Library/CloudStorage/OneDrive-BertelsmannSE&Co.KGaA/Masterarbeit/20_data/613010/ps2400dpi150lpi/FC_FS23_S_ES0079_T_CH_41L.p1 2.4c.Y.tif\n",
      "/Users/frederic.birwe/Library/CloudStorage/OneDrive-BertelsmannSE&Co.KGaA/Masterarbeit/20_data/613010/ps2400dpi150lpi/FC_FS23_S_ES0028_T_CH_41L.p1.4c.Y.tif\n",
      "/Users/frederic.birwe/Library/CloudStorage/OneDrive-BertelsmannSE&Co.KGaA/Masterarbeit/20_data/613010/ps2400dpi150lpi/FC_FS23_S_ES0043_T_D_Suffix_90_41L.p1.4c.Y.tif\n",
      "/Users/frederic.birwe/Library/CloudStorage/OneDrive-BertelsmannSE&Co.KGaA/Masterarbeit/20_data/613010/ps2400dpi150lpi/FC_FS23_S_ES0110_T_WCH_41L.p1.4c.Y.tif\n",
      "/Users/frederic.birwe/Library/CloudStorage/OneDrive-BertelsmannSE&Co.KGaA/Masterarbeit/20_data/613010/ps2400dpi150lpi/FC_FS23_S_ES0014_T_A_41L.p1.4c.Y.tif\n",
      "/Users/frederic.birwe/Library/CloudStorage/OneDrive-BertelsmannSE&Co.KGaA/Masterarbeit/20_data/613010/ps2400dpi150lpi/FC_FS23_S_ES0036_T_NL_41L.p1.4c.C.tif\n",
      "/Users/frederic.birwe/Library/CloudStorage/OneDrive-BertelsmannSE&Co.KGaA/Masterarbeit/20_data/613010/ps2400dpi150lpi/FC_FS23_S_ES0045_T_A_41L.p1.4c.Y.tif\n",
      "/Users/frederic.birwe/Library/CloudStorage/OneDrive-BertelsmannSE&Co.KGaA/Masterarbeit/20_data/613010/ps2400dpi150lpi/FC_FS23_S_ES0046_T_NL_41L.p1.4c.M.tif\n",
      "/Users/frederic.birwe/Library/CloudStorage/OneDrive-BertelsmannSE&Co.KGaA/Masterarbeit/20_data/613010/ps2400dpi150lpi/FC_FS23_S_ES0006_T_D_Suffix_90_41L.p1.4c.Y.tif\n",
      "/Users/frederic.birwe/Library/CloudStorage/OneDrive-BertelsmannSE&Co.KGaA/Masterarbeit/20_data/613010/ps2400dpi150lpi/FC_FS23_S_ES0092_T_D_Suffix_90_41L.p1.4c.Y.tif\n"
     ]
    },
    {
     "name": "stderr",
     "output_type": "stream",
     "text": [
      " 68%|███████████████████████▉           | 7829/11457 [00:20<00:20, 178.29it/s]"
     ]
    },
    {
     "name": "stdout",
     "output_type": "stream",
     "text": [
      "/Users/frederic.birwe/Library/CloudStorage/OneDrive-BertelsmannSE&Co.KGaA/Masterarbeit/20_data/613010/ps2400dpi150lpi/FC_FS23_S_ES0109_T_WCH_41L.p1.4c.C.tif\n",
      "/Users/frederic.birwe/Library/CloudStorage/OneDrive-BertelsmannSE&Co.KGaA/Masterarbeit/20_data/613010/ps2400dpi150lpi/FC_FS23_S_ES0050_T_CH_41L.p1 2.4c.C.tif\n",
      "/Users/frederic.birwe/Library/CloudStorage/OneDrive-BertelsmannSE&Co.KGaA/Masterarbeit/20_data/613010/ps2400dpi150lpi/FC_FS23_S_ES0073_T_F_41L.p1.4c.C.tif\n",
      "/Users/frederic.birwe/Library/CloudStorage/OneDrive-BertelsmannSE&Co.KGaA/Masterarbeit/20_data/613010/ps2400dpi150lpi/FC_FS23_S_ES0076_T_D_41L.p1.4c.M.tif\n",
      "/Users/frederic.birwe/Library/CloudStorage/OneDrive-BertelsmannSE&Co.KGaA/Masterarbeit/20_data/613010/ps2400dpi150lpi/FC_FS23_S_ES0099_T_CH_41L.p1.4c.C.tif\n",
      "/Users/frederic.birwe/Library/CloudStorage/OneDrive-BertelsmannSE&Co.KGaA/Masterarbeit/20_data/613010/ps2400dpi150lpi/FC_FS23_S_ES0018_T_D_Suffix_90_41L.p1.4c.Y.tif\n",
      "/Users/frederic.birwe/Library/CloudStorage/OneDrive-BertelsmannSE&Co.KGaA/Masterarbeit/20_data/613010/ps2400dpi150lpi/FC_FS23_S_ES0044_T_D_41L.p1.4c.C.tif\n",
      "/Users/frederic.birwe/Library/CloudStorage/OneDrive-BertelsmannSE&Co.KGaA/Masterarbeit/20_data/613010/ps2400dpi150lpi/FC_FS23_S_ES0064_T_WCH_41L.p1.4c.C.tif\n",
      "/Users/frederic.birwe/Library/CloudStorage/OneDrive-BertelsmannSE&Co.KGaA/Masterarbeit/20_data/613010/ps2400dpi150lpi/FC_FS23_S_ES0087_T_NL_41L.p1.4c.Y.tif\n",
      "/Users/frederic.birwe/Library/CloudStorage/OneDrive-BertelsmannSE&Co.KGaA/Masterarbeit/20_data/613010/ps2400dpi150lpi/FC_FS23_S_ES0027_T_D_41L.p1.4c.M.tif\n",
      "/Users/frederic.birwe/Library/CloudStorage/OneDrive-BertelsmannSE&Co.KGaA/Masterarbeit/20_data/613010/ps2400dpi150lpi/FC_FS23_S_ES0022_T_F_41L.p1.4c.C.tif\n",
      "/Users/frederic.birwe/Library/CloudStorage/OneDrive-BertelsmannSE&Co.KGaA/Masterarbeit/20_data/613010/ps2400dpi150lpi/FC_FS23_S_ES0074_T_NL_41L.p1.4c.Y.tif\n",
      "/Users/frederic.birwe/Library/CloudStorage/OneDrive-BertelsmannSE&Co.KGaA/Masterarbeit/20_data/613010/ps2400dpi150lpi/FC_FS23_S_ES0013_T_CH_41L.p1.4c.C.tif\n",
      "/Users/frederic.birwe/Library/CloudStorage/OneDrive-BertelsmannSE&Co.KGaA/Masterarbeit/20_data/613010/ps2400dpi150lpi/FC_FS23_S_ES0015_T_D_41L.p1.4c.C.tif\n",
      "/Users/frederic.birwe/Library/CloudStorage/OneDrive-BertelsmannSE&Co.KGaA/Masterarbeit/20_data/613010/ps2400dpi150lpi/FC_FS23_S_ES0063_T_CH_41L.p1.4c.M.tif\n",
      "/Users/frederic.birwe/Library/CloudStorage/OneDrive-BertelsmannSE&Co.KGaA/Masterarbeit/20_data/613010/ps2400dpi150lpi/FC_FS23_S_ES0090_T_CH_41L.p1.4c.M.tif\n",
      "/Users/frederic.birwe/Library/CloudStorage/OneDrive-BertelsmannSE&Co.KGaA/Masterarbeit/20_data/613010/ps2400dpi150lpi/FC_FS23_S_ES0013_T_WCH_41L.p1.4c.Y.tif\n"
     ]
    },
    {
     "name": "stderr",
     "output_type": "stream",
     "text": [
      " 69%|████████████████████████           | 7864/11457 [00:21<00:24, 147.73it/s]"
     ]
    },
    {
     "name": "stdout",
     "output_type": "stream",
     "text": [
      "/Users/frederic.birwe/Library/CloudStorage/OneDrive-BertelsmannSE&Co.KGaA/Masterarbeit/20_data/613010/ps2400dpi150lpi/FC_FS23_S_ES0101_T_D_41L.p1.4c.M.tif\n",
      "/Users/frederic.birwe/Library/CloudStorage/OneDrive-BertelsmannSE&Co.KGaA/Masterarbeit/20_data/613010/ps2400dpi150lpi/FC_FS23_S_ES0109_T_CH_41L.p1.4c.Y.tif\n",
      "/Users/frederic.birwe/Library/CloudStorage/OneDrive-BertelsmannSE&Co.KGaA/Masterarbeit/20_data/613010/ps2400dpi150lpi/FC_FS23_S_ES0005_T_NL_41L.p1 2.4c.Y.tif\n",
      "/Users/frederic.birwe/Library/CloudStorage/OneDrive-BertelsmannSE&Co.KGaA/Masterarbeit/20_data/613010/ps2400dpi150lpi/FC_FS23_S_ES0063_T_WCH_41L.p1.4c.M.tif\n",
      "/Users/frederic.birwe/Library/CloudStorage/OneDrive-BertelsmannSE&Co.KGaA/Masterarbeit/20_data/613010/ps2400dpi150lpi/FC_FS23_S_ES0085_T_D_41L.p1.4c.M.tif\n",
      "/Users/frederic.birwe/Library/CloudStorage/OneDrive-BertelsmannSE&Co.KGaA/Masterarbeit/20_data/613010/ps2400dpi150lpi/FC_FS23_S_ES0080_T_F_41L.p1.4c.C.tif\n",
      "/Users/frederic.birwe/Library/CloudStorage/OneDrive-BertelsmannSE&Co.KGaA/Masterarbeit/20_data/613010/ps2400dpi150lpi/FC_FS23_S_ES0040_T_NL_41L.p1.4c.C.tif\n",
      "/Users/frederic.birwe/Library/CloudStorage/OneDrive-BertelsmannSE&Co.KGaA/Masterarbeit/20_data/613010/ps2400dpi150lpi/FC_FS23_S_ES0027_T_CH_41L.p1.4c.Y.tif\n",
      "/Users/frederic.birwe/Library/CloudStorage/OneDrive-BertelsmannSE&Co.KGaA/Masterarbeit/20_data/613010/ps2400dpi150lpi/FC_FS23_S_ES0032_T_D_Suffix_90_41L.p1.4c.Y.tif\n",
      "/Users/frederic.birwe/Library/CloudStorage/OneDrive-BertelsmannSE&Co.KGaA/Masterarbeit/20_data/613010/ps2400dpi150lpi/FC_FS23_S_ES0051_T_WCH_41L.p1.4c.M.tif\n",
      "/Users/frederic.birwe/Library/CloudStorage/OneDrive-BertelsmannSE&Co.KGaA/Masterarbeit/20_data/613010/ps2400dpi150lpi/FC_FS23_S_ES0114_T_F_41L.p1 2.4c.C.tif\n",
      "/Users/frederic.birwe/Library/CloudStorage/OneDrive-BertelsmannSE&Co.KGaA/Masterarbeit/20_data/613010/ps2400dpi150lpi/FC_FS23_S_ES0039_T_NL_41L.p1.4c.C.tif\n"
     ]
    },
    {
     "name": "stderr",
     "output_type": "stream",
     "text": [
      " 69%|████████████████████████           | 7883/11457 [00:21<00:23, 155.17it/s]"
     ]
    },
    {
     "name": "stdout",
     "output_type": "stream",
     "text": [
      "/Users/frederic.birwe/Library/CloudStorage/OneDrive-BertelsmannSE&Co.KGaA/Masterarbeit/20_data/613010/ps2400dpi150lpi/FC_FS23_S_ES0034_T_NL_41L.p1 2.4c.M.tif\n",
      "/Users/frederic.birwe/Library/CloudStorage/OneDrive-BertelsmannSE&Co.KGaA/Masterarbeit/20_data/613010/ps2400dpi150lpi/FC_FS23_S_ES0049_T_NL_41L.p1.4c.M.tif\n",
      "/Users/frederic.birwe/Library/CloudStorage/OneDrive-BertelsmannSE&Co.KGaA/Masterarbeit/20_data/613010/ps2400dpi150lpi/FC_FS23_S_ES0113_T_F_41L.p1 2.4c.M.tif\n",
      "/Users/frederic.birwe/Library/CloudStorage/OneDrive-BertelsmannSE&Co.KGaA/Masterarbeit/20_data/613010/ps2400dpi150lpi/FC_FS23_S_ES0089_T_WCH_41L.p1.4c.M.tif\n",
      "/Users/frederic.birwe/Library/CloudStorage/OneDrive-BertelsmannSE&Co.KGaA/Masterarbeit/20_data/613010/ps2400dpi150lpi/FC_FS23_S_ES0046_T_A_41L.p1.4c.Y.tif\n",
      "/Users/frederic.birwe/Library/CloudStorage/OneDrive-BertelsmannSE&Co.KGaA/Masterarbeit/20_data/613010/ps2400dpi150lpi/FC_FS23_S_ES0077_T_D_Suffix_90_41L.p1.4c.Y.tif\n",
      "/Users/frederic.birwe/Library/CloudStorage/OneDrive-BertelsmannSE&Co.KGaA/Masterarbeit/20_data/613010/ps2400dpi150lpi/FC_FS23_S_ES0017_T_A_41L.p1.4c.Y.tif\n",
      "/Users/frederic.birwe/Library/CloudStorage/OneDrive-BertelsmannSE&Co.KGaA/Masterarbeit/20_data/613010/ps2400dpi150lpi/FC_FS23_S_ES0033_T_NL_41L.p1 2.4c.Y.tif\n",
      "/Users/frederic.birwe/Library/CloudStorage/OneDrive-BertelsmannSE&Co.KGaA/Masterarbeit/20_data/613010/ps2400dpi150lpi/FC_FS23_S_ES0030_T_NL_41L.p1.4c.M.tif\n",
      "/Users/frederic.birwe/Library/CloudStorage/OneDrive-BertelsmannSE&Co.KGaA/Masterarbeit/20_data/613010/ps2400dpi150lpi/FC_FS23_S_ES0041_T_NL_41L.p1 2.4c.M.tif\n",
      "/Users/frederic.birwe/Library/CloudStorage/OneDrive-BertelsmannSE&Co.KGaA/Masterarbeit/20_data/613010/ps2400dpi150lpi/FC_FS23_S_ES0111_T_NL_41L.p1.4c.M.tif\n",
      "/Users/frederic.birwe/Library/CloudStorage/OneDrive-BertelsmannSE&Co.KGaA/Masterarbeit/20_data/613010/ps2400dpi150lpi/FC_FS23_S_ES0069_T_D_Suffix_90_41L.p1.4c.Y.tif\n"
     ]
    },
    {
     "name": "stderr",
     "output_type": "stream",
     "text": [
      " 69%|████████████████████████▏          | 7918/11457 [00:21<00:26, 134.33it/s]"
     ]
    },
    {
     "name": "stdout",
     "output_type": "stream",
     "text": [
      "/Users/frederic.birwe/Library/CloudStorage/OneDrive-BertelsmannSE&Co.KGaA/Masterarbeit/20_data/613010/ps2400dpi150lpi/FC_FS23_S_ES0010_T_F_41L.p1 2.4c.M.tif\n",
      "/Users/frederic.birwe/Library/CloudStorage/OneDrive-BertelsmannSE&Co.KGaA/Masterarbeit/20_data/613010/ps2400dpi150lpi/FC_FS23_S_ES0065_T_CH_41L.p1.4c.C.tif\n",
      "/Users/frederic.birwe/Library/CloudStorage/OneDrive-BertelsmannSE&Co.KGaA/Masterarbeit/20_data/613010/ps2400dpi150lpi/FC_FS23_S_ES0086_T_D_41L.p1.4c.M.tif\n",
      "/Users/frederic.birwe/Library/CloudStorage/OneDrive-BertelsmannSE&Co.KGaA/Masterarbeit/20_data/613010/ps2400dpi150lpi/FC_FS23_S_ES0107_T_F_41L.p1.4c.C.tif\n",
      "/Users/frederic.birwe/Library/CloudStorage/OneDrive-BertelsmannSE&Co.KGaA/Masterarbeit/20_data/613010/ps2400dpi150lpi/FC_FS23_S_ES0102_T_D_41L.p1.4c.M.tif\n",
      "/Users/frederic.birwe/Library/CloudStorage/OneDrive-BertelsmannSE&Co.KGaA/Masterarbeit/20_data/613010/ps2400dpi150lpi/FC_FS23_S_ES0059_T_F_41L.p1.4c.Y.tif\n",
      "/Users/frederic.birwe/Library/CloudStorage/OneDrive-BertelsmannSE&Co.KGaA/Masterarbeit/20_data/613010/ps2400dpi150lpi/FC_FS23_S_ES0088_T_NL_41L.p1.4c.Y.tif\n",
      "/Users/frederic.birwe/Library/CloudStorage/OneDrive-BertelsmannSE&Co.KGaA/Masterarbeit/20_data/613010/ps2400dpi150lpi/FC_FS23_S_ES0046_T_NL_41L.p1 2.4c.Y.tif\n",
      "/Users/frederic.birwe/Library/CloudStorage/OneDrive-BertelsmannSE&Co.KGaA/Masterarbeit/20_data/613010/ps2400dpi150lpi/FC_FS23_S_ES0024_T_D_41L.p1.4c.M.tif\n",
      "/Users/frederic.birwe/Library/CloudStorage/OneDrive-BertelsmannSE&Co.KGaA/Masterarbeit/20_data/613010/ps2400dpi150lpi/FC_FS23_S_ES0021_T_F_41L.p1.4c.C.tif\n",
      "/Users/frederic.birwe/Library/CloudStorage/OneDrive-BertelsmannSE&Co.KGaA/Masterarbeit/20_data/613010/ps2400dpi150lpi/FC_FS23_S_ES0016_T_D_41L.p1.4c.C.tif\n",
      "/Users/frederic.birwe/Library/CloudStorage/OneDrive-BertelsmannSE&Co.KGaA/Masterarbeit/20_data/613010/ps2400dpi150lpi/FC_FS23_S_ES0013_T_F_41L.p1.4c.M.tif\n"
     ]
    },
    {
     "name": "stderr",
     "output_type": "stream",
     "text": [
      " 69%|████████████████████████▎          | 7957/11457 [00:21<00:21, 161.66it/s]"
     ]
    },
    {
     "name": "stdout",
     "output_type": "stream",
     "text": [
      "/Users/frederic.birwe/Library/CloudStorage/OneDrive-BertelsmannSE&Co.KGaA/Masterarbeit/20_data/613010/ps2400dpi150lpi/FC_FS23_S_ES0089_T_CH_41L.p1 2.4c.M.tif\n",
      "/Users/frederic.birwe/Library/CloudStorage/OneDrive-BertelsmannSE&Co.KGaA/Masterarbeit/20_data/613010/ps2400dpi150lpi/FC_FS23_S_ES0070_T_F_41L.p1.4c.C.tif\n",
      "/Users/frederic.birwe/Library/CloudStorage/OneDrive-BertelsmannSE&Co.KGaA/Masterarbeit/20_data/613010/ps2400dpi150lpi/FC_FS23_S_ES0075_T_D_41L.p1.4c.M.tif\n",
      "/Users/frederic.birwe/Library/CloudStorage/OneDrive-BertelsmannSE&Co.KGaA/Masterarbeit/20_data/613010/ps2400dpi150lpi/FC_FS23_S_ES0022_T_WCH_41L.p1 2.4c.Y.tif\n",
      "/Users/frederic.birwe/Library/CloudStorage/OneDrive-BertelsmannSE&Co.KGaA/Masterarbeit/20_data/613010/ps2400dpi150lpi/FC_FS23_S_ES0042_T_F_41L.p1.4c.M.tif\n",
      "/Users/frederic.birwe/Library/CloudStorage/OneDrive-BertelsmannSE&Co.KGaA/Masterarbeit/20_data/613010/ps2400dpi150lpi/FC_FS23_S_ES0047_T_D_41L.p1.4c.C.tif\n",
      "/Users/frederic.birwe/Library/CloudStorage/OneDrive-BertelsmannSE&Co.KGaA/Masterarbeit/20_data/613010/ps2400dpi150lpi/FC_FS23_S_ES0106_T_CH_41L.p1.4c.Y.tif\n",
      "/Users/frederic.birwe/Library/CloudStorage/OneDrive-BertelsmannSE&Co.KGaA/Masterarbeit/20_data/613010/ps2400dpi150lpi/FC_FS23_S_ES0102_T_D_Suffix_90_41L.p1.4c.Y.tif\n",
      "/Users/frederic.birwe/Library/CloudStorage/OneDrive-BertelsmannSE&Co.KGaA/Masterarbeit/20_data/613010/ps2400dpi150lpi/FC_FS23_S_ES0038_T_F_41L.p1.4c.C.tif\n",
      "/Users/frederic.birwe/Library/CloudStorage/OneDrive-BertelsmannSE&Co.KGaA/Masterarbeit/20_data/613010/ps2400dpi150lpi/FC_FS23_S_ES0066_T_CH_41L.p1.4c.Y.tif\n",
      "/Users/frederic.birwe/Library/CloudStorage/OneDrive-BertelsmannSE&Co.KGaA/Masterarbeit/20_data/613010/ps2400dpi150lpi/FC_FS23_S_ES0084_T_D_41L.p1.4c.Y.tif\n",
      "/Users/frederic.birwe/Library/CloudStorage/OneDrive-BertelsmannSE&Co.KGaA/Masterarbeit/20_data/613010/ps2400dpi150lpi/FC_FS23_S_ES0113_T_D_Suffix_90_41L.p1.4c.M.tif\n",
      "/Users/frederic.birwe/Library/CloudStorage/OneDrive-BertelsmannSE&Co.KGaA/Masterarbeit/20_data/613010/ps2400dpi150lpi/FC_FS23_S_ES0078_T_NL_41L.p1.4c.C.tif\n",
      "/Users/frederic.birwe/Library/CloudStorage/OneDrive-BertelsmannSE&Co.KGaA/Masterarbeit/20_data/613010/ps2400dpi150lpi/FC_FS23_S_ES0045_T_CH_41L.p1 2.4c.Y.tif\n",
      "/Users/frederic.birwe/Library/CloudStorage/OneDrive-BertelsmannSE&Co.KGaA/Masterarbeit/20_data/613010/ps2400dpi150lpi/FC_FS23_S_ES0100_T_D_41L.p1.4c.Y.tif\n",
      "/Users/frederic.birwe/Library/CloudStorage/OneDrive-BertelsmannSE&Co.KGaA/Masterarbeit/20_data/613010/ps2400dpi150lpi/FC_FS23_S_ES0068_T_F_41L.p1 2.4c.M.tif\n",
      "/Users/frederic.birwe/Library/CloudStorage/OneDrive-BertelsmannSE&Co.KGaA/Masterarbeit/20_data/613010/ps2400dpi150lpi/FC_FS23_S_ES0026_T_D_41L.p1.4c.Y.tif\n",
      "/Users/frederic.birwe/Library/CloudStorage/OneDrive-BertelsmannSE&Co.KGaA/Masterarbeit/20_data/613010/ps2400dpi150lpi/FC_FS23_S_ES0011_T_F_41L.p1.4c.Y.tif\n",
      "/Users/frederic.birwe/Library/CloudStorage/OneDrive-BertelsmannSE&Co.KGaA/Masterarbeit/20_data/613010/ps2400dpi150lpi/FC_FS23_S_ES0010_T_NL_41L.p1 2.4c.C.tif\n",
      "/Users/frederic.birwe/Library/CloudStorage/OneDrive-BertelsmannSE&Co.KGaA/Masterarbeit/20_data/613010/ps2400dpi150lpi/FC_FS23_S_ES0008_T_NL_41L.p1.4c.M.tif\n"
     ]
    },
    {
     "name": "stderr",
     "output_type": "stream",
     "text": [
      " 70%|████████████████████████▍          | 8002/11457 [00:21<00:18, 187.37it/s]"
     ]
    },
    {
     "name": "stdout",
     "output_type": "stream",
     "text": [
      "/Users/frederic.birwe/Library/CloudStorage/OneDrive-BertelsmannSE&Co.KGaA/Masterarbeit/20_data/613010/ps2400dpi150lpi/FC_FS23_S_ES0077_T_D_41L.p1.4c.Y.tif\n",
      "/Users/frederic.birwe/Library/CloudStorage/OneDrive-BertelsmannSE&Co.KGaA/Masterarbeit/20_data/613010/ps2400dpi150lpi/FC_FS23_S_ES0071_T_NL_41L.p1.4c.M.tif\n",
      "/Users/frederic.birwe/Library/CloudStorage/OneDrive-BertelsmannSE&Co.KGaA/Masterarbeit/20_data/613010/ps2400dpi150lpi/FC_FS23_S_ES0082_T_NL_41L.p1.4c.M.tif\n",
      "/Users/frederic.birwe/Library/CloudStorage/OneDrive-BertelsmannSE&Co.KGaA/Masterarbeit/20_data/613010/ps2400dpi150lpi/FC_FS23_S_ES0105_T_CH_41L.p1.4c.C.tif\n",
      "/Users/frederic.birwe/Library/CloudStorage/OneDrive-BertelsmannSE&Co.KGaA/Masterarbeit/20_data/613010/ps2400dpi150lpi/FC_FS23_S_ES0078_T_D_Suffix_90_41L.p1.4c.M.tif\n",
      "/Users/frederic.birwe/Library/CloudStorage/OneDrive-BertelsmannSE&Co.KGaA/Masterarbeit/20_data/613010/ps2400dpi150lpi/FC_FS23_S_ES0040_T_F_41L.p1.4c.Y.tif\n",
      "/Users/frederic.birwe/Library/CloudStorage/OneDrive-BertelsmannSE&Co.KGaA/Masterarbeit/20_data/613010/ps2400dpi150lpi/FC_FS23_S_ES0066_T_D_Suffix_90_41L.p1.4c.M.tif\n",
      "/Users/frederic.birwe/Library/CloudStorage/OneDrive-BertelsmannSE&Co.KGaA/Masterarbeit/20_data/613010/ps2400dpi150lpi/FC_FS23_S_ES0024_T_CH_41L.p1.4c.C.tif\n",
      "/Users/frederic.birwe/Library/CloudStorage/OneDrive-BertelsmannSE&Co.KGaA/Masterarbeit/20_data/613010/ps2400dpi150lpi/FC_FS23_S_ES0101_T_A_41L.p1.4c.C.tif\n",
      "/Users/frederic.birwe/Library/CloudStorage/OneDrive-BertelsmannSE&Co.KGaA/Masterarbeit/20_data/613010/ps2400dpi150lpi/FC_FS23_S_ES0091_T_D_Suffix_90_41L.p1.4c.C.tif\n",
      "/Users/frederic.birwe/Library/CloudStorage/OneDrive-BertelsmannSE&Co.KGaA/Masterarbeit/20_data/613010/ps2400dpi150lpi/FC_FS23_S_ES0005_T_D_Suffix_90_41L.p1.4c.C.tif\n",
      "/Users/frederic.birwe/Library/CloudStorage/OneDrive-BertelsmannSE&Co.KGaA/Masterarbeit/20_data/613010/ps2400dpi150lpi/FC_FS23_S_ES0043_T_NL_41L.p1.4c.Y.tif\n",
      "/Users/frederic.birwe/Library/CloudStorage/OneDrive-BertelsmannSE&Co.KGaA/Masterarbeit/20_data/613010/ps2400dpi150lpi/FC_FS23_S_ES0040_T_WCH_41L.p1.4c.C.tif\n",
      "/Users/frederic.birwe/Library/CloudStorage/OneDrive-BertelsmannSE&Co.KGaA/Masterarbeit/20_data/613010/ps2400dpi150lpi/FC_FS23_S_ES0081_T_WCH_41L.p1.4c.Y.tif\n",
      "/Users/frederic.birwe/Library/CloudStorage/OneDrive-BertelsmannSE&Co.KGaA/Masterarbeit/20_data/613010/ps2400dpi150lpi/FC_FS23_S_ES0085_T_A_41L.p1.4c.C.tif\n",
      "/Users/frederic.birwe/Library/CloudStorage/OneDrive-BertelsmannSE&Co.KGaA/Masterarbeit/20_data/613010/ps2400dpi150lpi/FC_FS23_S_ES0037_T_CH_41L.p1 2.4c.M.tif\n",
      "/Users/frederic.birwe/Library/CloudStorage/OneDrive-BertelsmannSE&Co.KGaA/Masterarbeit/20_data/613010/ps2400dpi150lpi/FC_FS23_S_ES0059_T_WCH_41L.p1.4c.Y.tif\n",
      "/Users/frederic.birwe/Library/CloudStorage/OneDrive-BertelsmannSE&Co.KGaA/Masterarbeit/20_data/613010/ps2400dpi150lpi/FC_FS23_S_ES0076_T_A_41L.p1.4c.C.tif\n",
      "/Users/frederic.birwe/Library/CloudStorage/OneDrive-BertelsmannSE&Co.KGaA/Masterarbeit/20_data/613010/ps2400dpi150lpi/FC_FS23_S_ES0102_T_F_41L.p1 2.4c.C.tif\n",
      "/Users/frederic.birwe/Library/CloudStorage/OneDrive-BertelsmannSE&Co.KGaA/Masterarbeit/20_data/613010/ps2400dpi150lpi/FC_FS23_S_ES0039_T_NL_41L.p1 2.4c.Y.tif\n",
      "/Users/frederic.birwe/Library/CloudStorage/OneDrive-BertelsmannSE&Co.KGaA/Masterarbeit/20_data/613010/ps2400dpi150lpi/FC_FS23_S_ES0044_T_A_41L.p1.4c.M.tif\n",
      "/Users/frederic.birwe/Library/CloudStorage/OneDrive-BertelsmannSE&Co.KGaA/Masterarbeit/20_data/613010/ps2400dpi150lpi/FC_FS23_S_ES0027_T_A_41L.p1.4c.C.tif\n"
     ]
    },
    {
     "name": "stderr",
     "output_type": "stream",
     "text": [
      " 70%|████████████████████████▌          | 8044/11457 [00:22<00:19, 178.22it/s]"
     ]
    },
    {
     "name": "stdout",
     "output_type": "stream",
     "text": [
      "/Users/frederic.birwe/Library/CloudStorage/OneDrive-BertelsmannSE&Co.KGaA/Masterarbeit/20_data/613010/ps2400dpi150lpi/FC_FS23_S_ES0037_T_WCH_41L.p1.4c.Y.tif\n",
      "/Users/frederic.birwe/Library/CloudStorage/OneDrive-BertelsmannSE&Co.KGaA/Masterarbeit/20_data/613010/ps2400dpi150lpi/FC_FS23_S_ES0040_T_D_Suffix_90_41L.p1.4c.C.tif\n",
      "/Users/frederic.birwe/Library/CloudStorage/OneDrive-BertelsmannSE&Co.KGaA/Masterarbeit/20_data/613010/ps2400dpi150lpi/FC_FS23_S_ES0054_T_CH_41L.p1.4c.M.tif\n",
      "/Users/frederic.birwe/Library/CloudStorage/OneDrive-BertelsmannSE&Co.KGaA/Masterarbeit/20_data/613010/ps2400dpi150lpi/FC_FS23_S_ES0023_T_D_Suffix_90_41L.p1.4c.M.tif\n",
      "/Users/frederic.birwe/Library/CloudStorage/OneDrive-BertelsmannSE&Co.KGaA/Masterarbeit/20_data/613010/ps2400dpi150lpi/FC_FS23_S_ES0015_T_A_41L.p1.4c.M.tif\n",
      "/Users/frederic.birwe/Library/CloudStorage/OneDrive-BertelsmannSE&Co.KGaA/Masterarbeit/20_data/613010/ps2400dpi150lpi/FC_FS23_S_ES0030_T_CH_41L.p1 2.4c.Y.tif\n",
      "/Users/frederic.birwe/Library/CloudStorage/OneDrive-BertelsmannSE&Co.KGaA/Masterarbeit/20_data/613010/ps2400dpi150lpi/FC_FS23_S_ES0017_T_D_41L.p1.4c.C.tif\n",
      "/Users/frederic.birwe/Library/CloudStorage/OneDrive-BertelsmannSE&Co.KGaA/Masterarbeit/20_data/613010/ps2400dpi150lpi/FC_FS23_S_ES0012_T_F_41L.p1.4c.M.tif\n",
      "/Users/frederic.birwe/Library/CloudStorage/OneDrive-BertelsmannSE&Co.KGaA/Masterarbeit/20_data/613010/ps2400dpi150lpi/FC_FS23_S_ES0054_T_NL_41L.p1 2.4c.C.tif\n",
      "/Users/frederic.birwe/Library/CloudStorage/OneDrive-BertelsmannSE&Co.KGaA/Masterarbeit/20_data/613010/ps2400dpi150lpi/FC_FS23_S_ES0103_T_CH_41L.p1.4c.Y.tif\n",
      "/Users/frederic.birwe/Library/CloudStorage/OneDrive-BertelsmannSE&Co.KGaA/Masterarbeit/20_data/613010/ps2400dpi150lpi/FC_FS23_S_ES0038_T_WCH_41L.p1 2.4c.C.tif\n",
      "/Users/frederic.birwe/Library/CloudStorage/OneDrive-BertelsmannSE&Co.KGaA/Masterarbeit/20_data/613010/ps2400dpi150lpi/FC_FS23_S_ES0010_T_CH_41L.p1.4c.M.tif\n",
      "/Users/frederic.birwe/Library/CloudStorage/OneDrive-BertelsmannSE&Co.KGaA/Masterarbeit/20_data/613010/ps2400dpi150lpi/FC_FS23_S_ES0005_T_WCH_41L.p1.4c.M.tif\n",
      "/Users/frederic.birwe/Library/CloudStorage/OneDrive-BertelsmannSE&Co.KGaA/Masterarbeit/20_data/613010/ps2400dpi150lpi/FC_FS23_S_ES0025_T_D_41L.p1.4c.M.tif\n",
      "/Users/frederic.birwe/Library/CloudStorage/OneDrive-BertelsmannSE&Co.KGaA/Masterarbeit/20_data/613010/ps2400dpi150lpi/FC_FS23_S_ES0020_T_F_41L.p1.4c.C.tif\n",
      "/Users/frederic.birwe/Library/CloudStorage/OneDrive-BertelsmannSE&Co.KGaA/Masterarbeit/20_data/613010/ps2400dpi150lpi/FC_FS23_S_ES0075_T_WCH_41L.p1.4c.Y.tif\n",
      "/Users/frederic.birwe/Library/CloudStorage/OneDrive-BertelsmannSE&Co.KGaA/Masterarbeit/20_data/613010/ps2400dpi150lpi/FC_FS23_S_ES0069_T_CH_41L.p1.4c.M.tif\n",
      "/Users/frederic.birwe/Library/CloudStorage/OneDrive-BertelsmannSE&Co.KGaA/Masterarbeit/20_data/613010/ps2400dpi150lpi/FC_FS23_S_ES0046_T_D_41L.p1.4c.C.tif\n"
     ]
    },
    {
     "name": "stderr",
     "output_type": "stream",
     "text": [
      " 71%|████████████████████████▋          | 8083/11457 [00:22<00:18, 178.40it/s]"
     ]
    },
    {
     "name": "stdout",
     "output_type": "stream",
     "text": [
      "/Users/frederic.birwe/Library/CloudStorage/OneDrive-BertelsmannSE&Co.KGaA/Masterarbeit/20_data/613010/ps2400dpi150lpi/FC_FS23_S_ES0071_T_F_41L.p1.4c.C.tif\n",
      "/Users/frederic.birwe/Library/CloudStorage/OneDrive-BertelsmannSE&Co.KGaA/Masterarbeit/20_data/613010/ps2400dpi150lpi/FC_FS23_S_ES0074_T_D_41L.p1.4c.M.tif\n",
      "/Users/frederic.birwe/Library/CloudStorage/OneDrive-BertelsmannSE&Co.KGaA/Masterarbeit/20_data/613010/ps2400dpi150lpi/FC_FS23_S_ES0008_T_NL_41L.p1 2.4c.Y.tif\n",
      "/Users/frederic.birwe/Library/CloudStorage/OneDrive-BertelsmannSE&Co.KGaA/Masterarbeit/20_data/613010/ps2400dpi150lpi/FC_FS23_S_ES0009_T_D_Suffix_90_41L.p1.4c.Y.tif\n",
      "/Users/frederic.birwe/Library/CloudStorage/OneDrive-BertelsmannSE&Co.KGaA/Masterarbeit/20_data/613010/ps2400dpi150lpi/FC_FS23_S_ES0087_T_D_41L.p1.4c.M.tif\n",
      "/Users/frederic.birwe/Library/CloudStorage/OneDrive-BertelsmannSE&Co.KGaA/Masterarbeit/20_data/613010/ps2400dpi150lpi/FC_FS23_S_ES0082_T_F_41L.p1.4c.C.tif\n",
      "/Users/frederic.birwe/Library/CloudStorage/OneDrive-BertelsmannSE&Co.KGaA/Masterarbeit/20_data/613010/ps2400dpi150lpi/FC_FS23_S_ES0009_T_F_41L.p1.4c.Y.tif\n",
      "/Users/frederic.birwe/Library/CloudStorage/OneDrive-BertelsmannSE&Co.KGaA/Masterarbeit/20_data/613010/ps2400dpi150lpi/FC_FS23_S_ES0019_T_CH_41L.p1.4c.C.tif\n",
      "/Users/frederic.birwe/Library/CloudStorage/OneDrive-BertelsmannSE&Co.KGaA/Masterarbeit/20_data/613010/ps2400dpi150lpi/FC_FS23_S_ES0058_T_F_41L.p1.4c.Y.tif\n",
      "/Users/frederic.birwe/Library/CloudStorage/OneDrive-BertelsmannSE&Co.KGaA/Masterarbeit/20_data/613010/ps2400dpi150lpi/FC_FS23_S_ES0093_T_CH_41L.p1.4c.C.tif\n",
      "/Users/frederic.birwe/Library/CloudStorage/OneDrive-BertelsmannSE&Co.KGaA/Masterarbeit/20_data/613010/ps2400dpi150lpi/FC_FS23_S_ES0114_T_NL_41L.p1.4c.M.tif\n",
      "/Users/frederic.birwe/Library/CloudStorage/OneDrive-BertelsmannSE&Co.KGaA/Masterarbeit/20_data/613010/ps2400dpi150lpi/FC_FS23_S_ES0106_T_F_41L.p1.4c.C.tif\n",
      "/Users/frederic.birwe/Library/CloudStorage/OneDrive-BertelsmannSE&Co.KGaA/Masterarbeit/20_data/613010/ps2400dpi150lpi/FC_FS23_S_ES0103_T_D_41L.p1.4c.M.tif\n",
      "/Users/frederic.birwe/Library/CloudStorage/OneDrive-BertelsmannSE&Co.KGaA/Masterarbeit/20_data/613010/ps2400dpi150lpi/FC_FS23_S_ES0060_T_CH_41L.p1.4c.C.tif\n",
      "/Users/frederic.birwe/Library/CloudStorage/OneDrive-BertelsmannSE&Co.KGaA/Masterarbeit/20_data/613010/ps2400dpi150lpi/FC_FS23_S_ES0007_T_NL_41L.p1.4c.Y.tif\n",
      "/Users/frederic.birwe/Library/CloudStorage/OneDrive-BertelsmannSE&Co.KGaA/Masterarbeit/20_data/613010/ps2400dpi150lpi/FC_FS23_S_ES0047_T_A_41L.p1.4c.Y.tif\n",
      "/Users/frederic.birwe/Library/CloudStorage/OneDrive-BertelsmannSE&Co.KGaA/Masterarbeit/20_data/613010/ps2400dpi150lpi/FC_FS23_S_ES0035_T_NL_41L.p1.4c.M.tif\n",
      "/Users/frederic.birwe/Library/CloudStorage/OneDrive-BertelsmannSE&Co.KGaA/Masterarbeit/20_data/613010/ps2400dpi150lpi/FC_FS23_S_ES0034_T_F_41L.p1 2.4c.Y.tif\n"
     ]
    },
    {
     "name": "stderr",
     "output_type": "stream",
     "text": [
      " 71%|████████████████████████▊          | 8122/11457 [00:22<00:18, 181.80it/s]"
     ]
    },
    {
     "name": "stdout",
     "output_type": "stream",
     "text": [
      "/Users/frederic.birwe/Library/CloudStorage/OneDrive-BertelsmannSE&Co.KGaA/Masterarbeit/20_data/613010/ps2400dpi150lpi/FC_FS23_S_ES0074_T_CH_41L.p1 2.4c.Y.tif\n",
      "/Users/frederic.birwe/Library/CloudStorage/OneDrive-BertelsmannSE&Co.KGaA/Masterarbeit/20_data/613010/ps2400dpi150lpi/FC_FS23_S_ES0101_T_WCH_41L.p1.4c.C.tif\n",
      "/Users/frederic.birwe/Library/CloudStorage/OneDrive-BertelsmannSE&Co.KGaA/Masterarbeit/20_data/613010/ps2400dpi150lpi/FC_FS23_S_ES0016_T_A_41L.p1.4c.Y.tif\n",
      "/Users/frederic.birwe/Library/CloudStorage/OneDrive-BertelsmannSE&Co.KGaA/Masterarbeit/20_data/613010/ps2400dpi150lpi/FC_FS23_S_ES0083_T_D_Suffix_90_41L.p1.4c.Y.tif\n",
      "/Users/frederic.birwe/Library/CloudStorage/OneDrive-BertelsmannSE&Co.KGaA/Masterarbeit/20_data/613010/ps2400dpi150lpi/FC_FS23_S_ES0017_T_D_Suffix_90_41L.p1.4c.Y.tif\n",
      "/Users/frederic.birwe/Library/CloudStorage/OneDrive-BertelsmannSE&Co.KGaA/Masterarbeit/20_data/613010/ps2400dpi150lpi/FC_FS23_S_ES0021_T_NL_41L.p1 2.4c.C.tif\n",
      "/Users/frederic.birwe/Library/CloudStorage/OneDrive-BertelsmannSE&Co.KGaA/Masterarbeit/20_data/613010/ps2400dpi150lpi/FC_FS23_S_ES0052_T_D_Suffix_90_41L.p1.4c.Y.tif\n",
      "/Users/frederic.birwe/Library/CloudStorage/OneDrive-BertelsmannSE&Co.KGaA/Masterarbeit/20_data/613010/ps2400dpi150lpi/FC_FS23_S_ES0043_T_F_41L.p1 2.4c.C.tif\n",
      "/Users/frederic.birwe/Library/CloudStorage/OneDrive-BertelsmannSE&Co.KGaA/Masterarbeit/20_data/613010/ps2400dpi150lpi/FC_FS23_S_ES0106_T_WCH_41L.p1.4c.M.tif\n",
      "/Users/frederic.birwe/Library/CloudStorage/OneDrive-BertelsmannSE&Co.KGaA/Masterarbeit/20_data/613010/ps2400dpi150lpi/FC_FS23_S_ES0022_T_CH_41L.p1.4c.Y.tif\n",
      "/Users/frederic.birwe/Library/CloudStorage/OneDrive-BertelsmannSE&Co.KGaA/Masterarbeit/20_data/613010/ps2400dpi150lpi/FC_FS23_S_ES0045_T_NL_41L.p1.4c.C.tif\n",
      "/Users/frederic.birwe/Library/CloudStorage/OneDrive-BertelsmannSE&Co.KGaA/Masterarbeit/20_data/613010/ps2400dpi150lpi/FC_FS23_S_ES0045_T_A_41L.p1.4c.M.tif\n",
      "/Users/frederic.birwe/Library/CloudStorage/OneDrive-BertelsmannSE&Co.KGaA/Masterarbeit/20_data/613010/ps2400dpi150lpi/FC_FS23_S_ES0077_T_A_41L.p1.4c.C.tif\n",
      "/Users/frederic.birwe/Library/CloudStorage/OneDrive-BertelsmannSE&Co.KGaA/Masterarbeit/20_data/613010/ps2400dpi150lpi/FC_FS23_S_ES0014_T_A_41L.p1.4c.M.tif\n",
      "/Users/frederic.birwe/Library/CloudStorage/OneDrive-BertelsmannSE&Co.KGaA/Masterarbeit/20_data/613010/ps2400dpi150lpi/FC_FS23_S_ES0043_T_D_Suffix_90_41L.p1.4c.M.tif\n",
      "/Users/frederic.birwe/Library/CloudStorage/OneDrive-BertelsmannSE&Co.KGaA/Masterarbeit/20_data/613010/ps2400dpi150lpi/FC_FS23_S_ES0110_T_WCH_41L.p1.4c.M.tif\n",
      "/Users/frederic.birwe/Library/CloudStorage/OneDrive-BertelsmannSE&Co.KGaA/Masterarbeit/20_data/613010/ps2400dpi150lpi/FC_FS23_S_ES0028_T_CH_41L.p1.4c.M.tif\n"
     ]
    },
    {
     "name": "stderr",
     "output_type": "stream",
     "text": [
      " 71%|████████████████████████▊          | 8141/11457 [00:22<00:18, 177.64it/s]"
     ]
    },
    {
     "name": "stdout",
     "output_type": "stream",
     "text": [
      "/Users/frederic.birwe/Library/CloudStorage/OneDrive-BertelsmannSE&Co.KGaA/Masterarbeit/20_data/613010/ps2400dpi150lpi/FC_FS23_S_ES0026_T_A_41L.p1.4c.C.tif\n",
      "/Users/frederic.birwe/Library/CloudStorage/OneDrive-BertelsmannSE&Co.KGaA/Masterarbeit/20_data/613010/ps2400dpi150lpi/FC_FS23_S_ES0020_T_D_Suffix_90_41L.p1.4c.C.tif\n",
      "/Users/frederic.birwe/Library/CloudStorage/OneDrive-BertelsmannSE&Co.KGaA/Masterarbeit/20_data/613010/ps2400dpi150lpi/FC_FS23_S_ES0079_T_CH_41L.p1 2.4c.M.tif\n",
      "/Users/frederic.birwe/Library/CloudStorage/OneDrive-BertelsmannSE&Co.KGaA/Masterarbeit/20_data/613010/ps2400dpi150lpi/FC_FS23_S_ES0058_T_CH_41L.p1.4c.C.tif\n",
      "/Users/frederic.birwe/Library/CloudStorage/OneDrive-BertelsmannSE&Co.KGaA/Masterarbeit/20_data/613010/ps2400dpi150lpi/FC_FS23_S_ES0065_T_D_Suffix_90_41L.p1.4c.C.tif\n",
      "/Users/frederic.birwe/Library/CloudStorage/OneDrive-BertelsmannSE&Co.KGaA/Masterarbeit/20_data/613010/ps2400dpi150lpi/FC_FS23_S_ES0100_T_A_41L.p1.4c.C.tif\n",
      "/Users/frederic.birwe/Library/CloudStorage/OneDrive-BertelsmannSE&Co.KGaA/Masterarbeit/20_data/613010/ps2400dpi150lpi/FC_FS23_S_ES0092_T_D_Suffix_90_41L.p1.4c.M.tif\n",
      "/Users/frederic.birwe/Library/CloudStorage/OneDrive-BertelsmannSE&Co.KGaA/Masterarbeit/20_data/613010/ps2400dpi150lpi/FC_FS23_S_ES0006_T_D_Suffix_90_41L.p1.4c.M.tif\n",
      "/Users/frederic.birwe/Library/CloudStorage/OneDrive-BertelsmannSE&Co.KGaA/Masterarbeit/20_data/613010/ps2400dpi150lpi/FC_FS23_S_ES0084_T_A_41L.p1.4c.C.tif\n",
      "/Users/frederic.birwe/Library/CloudStorage/OneDrive-BertelsmannSE&Co.KGaA/Masterarbeit/20_data/613010/ps2400dpi150lpi/FC_FS23_S_ES0046_T_NL_41L.p1.4c.Y.tif\n",
      "/Users/frederic.birwe/Library/CloudStorage/OneDrive-BertelsmannSE&Co.KGaA/Masterarbeit/20_data/613010/ps2400dpi150lpi/FC_FS23_S_ES0049_T_WCH_41L.p1 2.4c.C.tif\n",
      "/Users/frederic.birwe/Library/CloudStorage/OneDrive-BertelsmannSE&Co.KGaA/Masterarbeit/20_data/613010/ps2400dpi150lpi/FC_FS23_S_ES0074_T_NL_41L.p1.4c.M.tif\n",
      "/Users/frederic.birwe/Library/CloudStorage/OneDrive-BertelsmannSE&Co.KGaA/Masterarbeit/20_data/613010/ps2400dpi150lpi/FC_FS23_S_ES0027_T_D_41L.p1.4c.Y.tif\n",
      "/Users/frederic.birwe/Library/CloudStorage/OneDrive-BertelsmannSE&Co.KGaA/Masterarbeit/20_data/613010/ps2400dpi150lpi/FC_FS23_S_ES0100_T_CH_41L.p1.4c.C.tif\n",
      "/Users/frederic.birwe/Library/CloudStorage/OneDrive-BertelsmannSE&Co.KGaA/Masterarbeit/20_data/613010/ps2400dpi150lpi/FC_FS23_S_ES0087_T_NL_41L.p1.4c.M.tif\n",
      "/Users/frederic.birwe/Library/CloudStorage/OneDrive-BertelsmannSE&Co.KGaA/Masterarbeit/20_data/613010/ps2400dpi150lpi/FC_FS23_S_ES0014_T_WCH_41L.p1.4c.C.tif\n",
      "/Users/frederic.birwe/Library/CloudStorage/OneDrive-BertelsmannSE&Co.KGaA/Masterarbeit/20_data/613010/ps2400dpi150lpi/FC_FS23_S_ES0018_T_D_Suffix_90_41L.p1.4c.M.tif\n"
     ]
    },
    {
     "name": "stderr",
     "output_type": "stream",
     "text": [
      " 71%|████████████████████████▉          | 8177/11457 [00:22<00:20, 157.11it/s]"
     ]
    },
    {
     "name": "stdout",
     "output_type": "stream",
     "text": [
      "/Users/frederic.birwe/Library/CloudStorage/OneDrive-BertelsmannSE&Co.KGaA/Masterarbeit/20_data/613010/ps2400dpi150lpi/FC_FS23_S_ES0076_T_D_41L.p1.4c.Y.tif\n",
      "/Users/frederic.birwe/Library/CloudStorage/OneDrive-BertelsmannSE&Co.KGaA/Masterarbeit/20_data/613010/ps2400dpi150lpi/FC_FS23_S_ES0096_T_CH_41L.p1 2.4c.C.tif\n",
      "/Users/frederic.birwe/Library/CloudStorage/OneDrive-BertelsmannSE&Co.KGaA/Masterarbeit/20_data/613010/ps2400dpi150lpi/FC_FS23_S_ES0085_T_D_41L.p1.4c.Y.tif\n",
      "/Users/frederic.birwe/Library/CloudStorage/OneDrive-BertelsmannSE&Co.KGaA/Masterarbeit/20_data/613010/ps2400dpi150lpi/FC_FS23_S_ES0063_T_WCH_41L.p1.4c.Y.tif\n",
      "/Users/frederic.birwe/Library/CloudStorage/OneDrive-BertelsmannSE&Co.KGaA/Masterarbeit/20_data/613010/ps2400dpi150lpi/FC_FS23_S_ES0039_T_F_41L.p1.4c.C.tif\n",
      "/Users/frederic.birwe/Library/CloudStorage/OneDrive-BertelsmannSE&Co.KGaA/Masterarbeit/20_data/613010/ps2400dpi150lpi/FC_FS23_S_ES0005_T_NL_41L.p1 2.4c.M.tif\n",
      "/Users/frederic.birwe/Library/CloudStorage/OneDrive-BertelsmannSE&Co.KGaA/Masterarbeit/20_data/613010/ps2400dpi150lpi/FC_FS23_S_ES0110_T_D_Suffix_90_41L.p1.4c.C.tif\n",
      "/Users/frederic.birwe/Library/CloudStorage/OneDrive-BertelsmannSE&Co.KGaA/Masterarbeit/20_data/613010/ps2400dpi150lpi/FC_FS23_S_ES0109_T_CH_41L.p1.4c.M.tif\n",
      "/Users/frederic.birwe/Library/CloudStorage/OneDrive-BertelsmannSE&Co.KGaA/Masterarbeit/20_data/613010/ps2400dpi150lpi/FC_FS23_S_ES0101_T_D_41L.p1.4c.Y.tif\n",
      "/Users/frederic.birwe/Library/CloudStorage/OneDrive-BertelsmannSE&Co.KGaA/Masterarbeit/20_data/613010/ps2400dpi150lpi/FC_FS23_S_ES0004_T_NL_41L.p1.4c.C.tif\n",
      "/Users/frederic.birwe/Library/CloudStorage/OneDrive-BertelsmannSE&Co.KGaA/Masterarbeit/20_data/613010/ps2400dpi150lpi/FC_FS23_S_ES0013_T_WCH_41L.p1.4c.M.tif\n",
      "/Users/frederic.birwe/Library/CloudStorage/OneDrive-BertelsmannSE&Co.KGaA/Masterarbeit/20_data/613010/ps2400dpi150lpi/FC_FS23_S_ES0090_T_CH_41L.p1.4c.Y.tif\n",
      "/Users/frederic.birwe/Library/CloudStorage/OneDrive-BertelsmannSE&Co.KGaA/Masterarbeit/20_data/613010/ps2400dpi150lpi/FC_FS23_S_ES0063_T_CH_41L.p1.4c.Y.tif\n",
      "/Users/frederic.birwe/Library/CloudStorage/OneDrive-BertelsmannSE&Co.KGaA/Masterarbeit/20_data/613010/ps2400dpi150lpi/FC_FS23_S_ES0070_T_WCH_41L.p1.4c.C.tif\n",
      "/Users/frederic.birwe/Library/CloudStorage/OneDrive-BertelsmannSE&Co.KGaA/Masterarbeit/20_data/613010/ps2400dpi150lpi/FC_FS23_S_ES0068_T_A_41L.p1.4c.C.tif\n",
      "/Users/frederic.birwe/Library/CloudStorage/OneDrive-BertelsmannSE&Co.KGaA/Masterarbeit/20_data/613010/ps2400dpi150lpi/FC_FS23_S_ES0027_T_NL_41L.p1.4c.M.tif\n"
     ]
    },
    {
     "name": "stderr",
     "output_type": "stream",
     "text": [
      " 72%|█████████████████████████          | 8211/11457 [00:23<00:21, 153.67it/s]"
     ]
    },
    {
     "name": "stdout",
     "output_type": "stream",
     "text": [
      "/Users/frederic.birwe/Library/CloudStorage/OneDrive-BertelsmannSE&Co.KGaA/Masterarbeit/20_data/613010/ps2400dpi150lpi/FC_FS23_S_ES0039_T_A_41L.p1.4c.C.tif\n",
      "/Users/frederic.birwe/Library/CloudStorage/OneDrive-BertelsmannSE&Co.KGaA/Masterarbeit/20_data/613010/ps2400dpi150lpi/FC_FS23_S_ES0114_T_D_Suffix_90_41L.p1.4c.Y.tif\n",
      "/Users/frederic.birwe/Library/CloudStorage/OneDrive-BertelsmannSE&Co.KGaA/Masterarbeit/20_data/613010/ps2400dpi150lpi/FC_FS23_S_ES0007_T_WCH_41L.p1.4c.Y.tif\n",
      "/Users/frederic.birwe/Library/CloudStorage/OneDrive-BertelsmannSE&Co.KGaA/Masterarbeit/20_data/613010/ps2400dpi150lpi/FC_FS23_S_ES0057_T_NL_41L.p1.4c.C.tif\n",
      "/Users/frederic.birwe/Library/CloudStorage/OneDrive-BertelsmannSE&Co.KGaA/Masterarbeit/20_data/613010/ps2400dpi150lpi/FC_FS23_S_ES0041_T_A_41L.p1.4c.Y.tif\n",
      "/Users/frederic.birwe/Library/CloudStorage/OneDrive-BertelsmannSE&Co.KGaA/Masterarbeit/20_data/613010/ps2400dpi150lpi/FC_FS23_S_ES0077_T_WCH_41L.p1.4c.M.tif\n",
      "/Users/frederic.birwe/Library/CloudStorage/OneDrive-BertelsmannSE&Co.KGaA/Masterarbeit/20_data/613010/ps2400dpi150lpi/FC_FS23_S_ES0010_T_A_41L.p1.4c.Y.tif\n",
      "/Users/frederic.birwe/Library/CloudStorage/OneDrive-BertelsmannSE&Co.KGaA/Masterarbeit/20_data/613010/ps2400dpi150lpi/FC_FS23_S_ES0049_T_CH_41L.p1.4c.Y.tif\n",
      "/Users/frederic.birwe/Library/CloudStorage/OneDrive-BertelsmannSE&Co.KGaA/Masterarbeit/20_data/613010/ps2400dpi150lpi/FC_FS23_S_ES0088_T_CH_41L.p1.4c.M.tif\n",
      "/Users/frederic.birwe/Library/CloudStorage/OneDrive-BertelsmannSE&Co.KGaA/Masterarbeit/20_data/613010/ps2400dpi150lpi/FC_FS23_S_ES0038_T_D_41L.p1.4c.Y.tif\n",
      "/Users/frederic.birwe/Library/CloudStorage/OneDrive-BertelsmannSE&Co.KGaA/Masterarbeit/20_data/613010/ps2400dpi150lpi/FC_FS23_S_ES0058_T_WCH_41L.p1 2.4c.M.tif\n",
      "/Users/frederic.birwe/Library/CloudStorage/OneDrive-BertelsmannSE&Co.KGaA/Masterarbeit/20_data/613010/ps2400dpi150lpi/FC_FS23_S_ES0084_T_F_41L.p1.4c.C.tif\n",
      "/Users/frederic.birwe/Library/CloudStorage/OneDrive-BertelsmannSE&Co.KGaA/Masterarbeit/20_data/613010/ps2400dpi150lpi/FC_FS23_S_ES0081_T_D_41L.p1.4c.M.tif\n",
      "/Users/frederic.birwe/Library/CloudStorage/OneDrive-BertelsmannSE&Co.KGaA/Masterarbeit/20_data/613010/ps2400dpi150lpi/FC_FS23_S_ES0069_T_D_41L.p1.4c.Y.tif\n"
     ]
    },
    {
     "name": "stderr",
     "output_type": "stream",
     "text": [
      " 72%|█████████████████████████▏         | 8263/11457 [00:23<00:15, 205.32it/s]"
     ]
    },
    {
     "name": "stdout",
     "output_type": "stream",
     "text": [
      "/Users/frederic.birwe/Library/CloudStorage/OneDrive-BertelsmannSE&Co.KGaA/Masterarbeit/20_data/613010/ps2400dpi150lpi/FC_FS23_S_ES0061_T_D_Suffix_90_41L.p1.4c.Y.tif\n",
      "/Users/frederic.birwe/Library/CloudStorage/OneDrive-BertelsmannSE&Co.KGaA/Masterarbeit/20_data/613010/ps2400dpi150lpi/FC_FS23_S_ES0111_T_CH_41L.p1.4c.Y.tif\n",
      "/Users/frederic.birwe/Library/CloudStorage/OneDrive-BertelsmannSE&Co.KGaA/Masterarbeit/20_data/613010/ps2400dpi150lpi/FC_FS23_S_ES0031_T_F_41L.p1 2.4c.C.tif\n",
      "/Users/frederic.birwe/Library/CloudStorage/OneDrive-BertelsmannSE&Co.KGaA/Masterarbeit/20_data/613010/ps2400dpi150lpi/FC_FS23_S_ES0105_T_D_41L.p1.4c.M.tif\n",
      "/Users/frederic.birwe/Library/CloudStorage/OneDrive-BertelsmannSE&Co.KGaA/Masterarbeit/20_data/613010/ps2400dpi150lpi/FC_FS23_S_ES0100_T_F_41L.p1.4c.C.tif\n",
      "/Users/frederic.birwe/Library/CloudStorage/OneDrive-BertelsmannSE&Co.KGaA/Masterarbeit/20_data/613010/ps2400dpi150lpi/FC_FS23_S_ES0023_T_D_41L.p1.4c.M.tif\n",
      "/Users/frederic.birwe/Library/CloudStorage/OneDrive-BertelsmannSE&Co.KGaA/Masterarbeit/20_data/613010/ps2400dpi150lpi/FC_FS23_S_ES0036_T_F_41L.p1 2.4c.M.tif\n",
      "/Users/frederic.birwe/Library/CloudStorage/OneDrive-BertelsmannSE&Co.KGaA/Masterarbeit/20_data/613010/ps2400dpi150lpi/FC_FS23_S_ES0072_T_CH_41L.p1.4c.C.tif\n",
      "/Users/frederic.birwe/Library/CloudStorage/OneDrive-BertelsmannSE&Co.KGaA/Masterarbeit/20_data/613010/ps2400dpi150lpi/FC_FS23_S_ES0106_T_NL_41L.p1.4c.M.tif\n",
      "/Users/frederic.birwe/Library/CloudStorage/OneDrive-BertelsmannSE&Co.KGaA/Masterarbeit/20_data/613010/ps2400dpi150lpi/FC_FS23_S_ES0024_T_D_Suffix_90_41L.p1.4c.Y.tif\n",
      "/Users/frederic.birwe/Library/CloudStorage/OneDrive-BertelsmannSE&Co.KGaA/Masterarbeit/20_data/613010/ps2400dpi150lpi/FC_FS23_S_ES0015_T_NL_41L.p1.4c.Y.tif\n",
      "/Users/frederic.birwe/Library/CloudStorage/OneDrive-BertelsmannSE&Co.KGaA/Masterarbeit/20_data/613010/ps2400dpi150lpi/FC_FS23_S_ES0014_T_F_41L.p1.4c.M.tif\n",
      "/Users/frederic.birwe/Library/CloudStorage/OneDrive-BertelsmannSE&Co.KGaA/Masterarbeit/20_data/613010/ps2400dpi150lpi/FC_FS23_S_ES0011_T_D_41L.p1.4c.C.tif\n",
      "/Users/frederic.birwe/Library/CloudStorage/OneDrive-BertelsmannSE&Co.KGaA/Masterarbeit/20_data/613010/ps2400dpi150lpi/FC_FS23_S_ES0072_T_D_41L.p1.4c.M.tif\n",
      "/Users/frederic.birwe/Library/CloudStorage/OneDrive-BertelsmannSE&Co.KGaA/Masterarbeit/20_data/613010/ps2400dpi150lpi/FC_FS23_S_ES0040_T_D_41L.p1.4c.C.tif\n",
      "/Users/frederic.birwe/Library/CloudStorage/OneDrive-BertelsmannSE&Co.KGaA/Masterarbeit/20_data/613010/ps2400dpi150lpi/FC_FS23_S_ES0013_T_NL_41L.p1 2.4c.C.tif\n",
      "/Users/frederic.birwe/Library/CloudStorage/OneDrive-BertelsmannSE&Co.KGaA/Masterarbeit/20_data/613010/ps2400dpi150lpi/FC_FS23_S_ES0050_T_F_41L.p1 2.4c.Y.tif\n",
      "/Users/frederic.birwe/Library/CloudStorage/OneDrive-BertelsmannSE&Co.KGaA/Masterarbeit/20_data/613010/ps2400dpi150lpi/FC_FS23_S_ES0083_T_D_41L.p1.4c.Y.tif\n",
      "/Users/frederic.birwe/Library/CloudStorage/OneDrive-BertelsmannSE&Co.KGaA/Masterarbeit/20_data/613010/ps2400dpi150lpi/FC_FS23_S_ES0008_T_D_41L.p1.4c.C.tif\n",
      "/Users/frederic.birwe/Library/CloudStorage/OneDrive-BertelsmannSE&Co.KGaA/Masterarbeit/20_data/613010/ps2400dpi150lpi/FC_FS23_S_ES0042_T_NL_41L.p1 2.4c.M.tif\n",
      "/Users/frederic.birwe/Library/CloudStorage/OneDrive-BertelsmannSE&Co.KGaA/Masterarbeit/20_data/613010/ps2400dpi150lpi/FC_FS23_S_ES0056_T_D_Suffix_90_41L.p1.4c.C.tif\n",
      "/Users/frederic.birwe/Library/CloudStorage/OneDrive-BertelsmannSE&Co.KGaA/Masterarbeit/20_data/613010/ps2400dpi150lpi/FC_FS23_S_ES0112_T_CH_41L.p1.4c.C.tif\n",
      "/Users/frederic.birwe/Library/CloudStorage/OneDrive-BertelsmannSE&Co.KGaA/Masterarbeit/20_data/613010/ps2400dpi150lpi/FC_FS23_S_ES0095_T_NL_41L.p1.4c.M.tif\n",
      "/Users/frederic.birwe/Library/CloudStorage/OneDrive-BertelsmannSE&Co.KGaA/Masterarbeit/20_data/613010/ps2400dpi150lpi/FC_FS23_S_ES0059_T_D_41L.p1.4c.C.tif\n"
     ]
    },
    {
     "name": "stderr",
     "output_type": "stream",
     "text": [
      " 73%|█████████████████████████▍         | 8309/11457 [00:23<00:15, 208.64it/s]"
     ]
    },
    {
     "name": "stdout",
     "output_type": "stream",
     "text": [
      "/Users/frederic.birwe/Library/CloudStorage/OneDrive-BertelsmannSE&Co.KGaA/Masterarbeit/20_data/613010/ps2400dpi150lpi/FC_FS23_S_ES0066_T_NL_41L.p1.4c.M.tif\n",
      "/Users/frederic.birwe/Library/CloudStorage/OneDrive-BertelsmannSE&Co.KGaA/Masterarbeit/20_data/613010/ps2400dpi150lpi/FC_FS23_S_ES0107_T_D_41L.p1.4c.Y.tif\n",
      "/Users/frederic.birwe/Library/CloudStorage/OneDrive-BertelsmannSE&Co.KGaA/Masterarbeit/20_data/613010/ps2400dpi150lpi/FC_FS23_S_ES0035_T_D_Suffix_90_41L.p1.4c.M.tif\n",
      "/Users/frederic.birwe/Library/CloudStorage/OneDrive-BertelsmannSE&Co.KGaA/Masterarbeit/20_data/613010/ps2400dpi150lpi/FC_FS23_S_ES0027_T_F_41L.p1 2.4c.C.tif\n",
      "/Users/frederic.birwe/Library/CloudStorage/OneDrive-BertelsmannSE&Co.KGaA/Masterarbeit/20_data/613010/ps2400dpi150lpi/FC_FS23_S_ES0070_T_D_Suffix_90_41L.p1.4c.M.tif\n",
      "/Users/frederic.birwe/Library/CloudStorage/OneDrive-BertelsmannSE&Co.KGaA/Masterarbeit/20_data/613010/ps2400dpi150lpi/FC_FS23_S_ES0021_T_D_41L.p1.4c.Y.tif\n",
      "/Users/frederic.birwe/Library/CloudStorage/OneDrive-BertelsmannSE&Co.KGaA/Masterarbeit/20_data/613010/ps2400dpi150lpi/FC_FS23_S_ES0016_T_NL_41L.p1.4c.C.tif\n",
      "/Users/frederic.birwe/Library/CloudStorage/OneDrive-BertelsmannSE&Co.KGaA/Masterarbeit/20_data/613010/ps2400dpi150lpi/FC_FS23_S_ES0013_T_D_Suffix_90_41L.p1.4c.C.tif\n",
      "/Users/frederic.birwe/Library/CloudStorage/OneDrive-BertelsmannSE&Co.KGaA/Masterarbeit/20_data/613010/ps2400dpi150lpi/FC_FS23_S_ES0071_T_CH_41L.p1.4c.Y.tif\n",
      "/Users/frederic.birwe/Library/CloudStorage/OneDrive-BertelsmannSE&Co.KGaA/Masterarbeit/20_data/613010/ps2400dpi150lpi/FC_FS23_S_ES0087_T_D_Suffix_90_41L.p1.4c.C.tif\n",
      "/Users/frederic.birwe/Library/CloudStorage/OneDrive-BertelsmannSE&Co.KGaA/Masterarbeit/20_data/613010/ps2400dpi150lpi/FC_FS23_S_ES0019_T_NL_41L.p1 2.4c.C.tif\n",
      "/Users/frederic.birwe/Library/CloudStorage/OneDrive-BertelsmannSE&Co.KGaA/Masterarbeit/20_data/613010/ps2400dpi150lpi/FC_FS23_S_ES0016_T_F_41L.p1.4c.Y.tif\n",
      "/Users/frederic.birwe/Library/CloudStorage/OneDrive-BertelsmannSE&Co.KGaA/Masterarbeit/20_data/613010/ps2400dpi150lpi/FC_FS23_S_ES0082_T_CH_41L.p1.4c.Y.tif\n",
      "/Users/frederic.birwe/Library/CloudStorage/OneDrive-BertelsmannSE&Co.KGaA/Masterarbeit/20_data/613010/ps2400dpi150lpi/FC_FS23_S_ES0098_T_D_41L.p1.4c.M.tif\n",
      "/Users/frederic.birwe/Library/CloudStorage/OneDrive-BertelsmannSE&Co.KGaA/Masterarbeit/20_data/613010/ps2400dpi150lpi/FC_FS23_S_ES0008_T_CH_41L.p1.4c.Y.tif\n",
      "/Users/frederic.birwe/Library/CloudStorage/OneDrive-BertelsmannSE&Co.KGaA/Masterarbeit/20_data/613010/ps2400dpi150lpi/FC_FS23_S_ES0070_T_D_41L.p1.4c.Y.tif\n",
      "/Users/frederic.birwe/Library/CloudStorage/OneDrive-BertelsmannSE&Co.KGaA/Masterarbeit/20_data/613010/ps2400dpi150lpi/FC_FS23_S_ES0049_T_F_41L.p1 2.4c.C.tif\n",
      "/Users/frederic.birwe/Library/CloudStorage/OneDrive-BertelsmannSE&Co.KGaA/Masterarbeit/20_data/613010/ps2400dpi150lpi/FC_FS23_S_ES0047_T_F_41L.p1.4c.Y.tif\n",
      "/Users/frederic.birwe/Library/CloudStorage/OneDrive-BertelsmannSE&Co.KGaA/Masterarbeit/20_data/613010/ps2400dpi150lpi/FC_FS23_S_ES0061_T_WCH_41L.p1.4c.M.tif\n",
      "/Users/frederic.birwe/Library/CloudStorage/OneDrive-BertelsmannSE&Co.KGaA/Masterarbeit/20_data/613010/ps2400dpi150lpi/FC_FS23_S_ES0106_T_A_41L.p1.4c.C.tif\n",
      "/Users/frederic.birwe/Library/CloudStorage/OneDrive-BertelsmannSE&Co.KGaA/Masterarbeit/20_data/613010/ps2400dpi150lpi/FC_FS23_S_ES0058_T_A_41L.p1.4c.Y.tif\n",
      "/Users/frederic.birwe/Library/CloudStorage/OneDrive-BertelsmannSE&Co.KGaA/Masterarbeit/20_data/613010/ps2400dpi150lpi/FC_FS23_S_ES0099_T_D_Suffix_90_41L.p1.4c.C.tif\n",
      "/Users/frederic.birwe/Library/CloudStorage/OneDrive-BertelsmannSE&Co.KGaA/Masterarbeit/20_data/613010/ps2400dpi150lpi/FC_FS23_S_ES0043_T_CH_41L.p1.4c.M.tif\n",
      "/Users/frederic.birwe/Library/CloudStorage/OneDrive-BertelsmannSE&Co.KGaA/Masterarbeit/20_data/613010/ps2400dpi150lpi/FC_FS23_S_ES0009_T_A_41L.p1.4c.Y.tif\n"
     ]
    },
    {
     "name": "stderr",
     "output_type": "stream",
     "text": [
      " 73%|█████████████████████████▍         | 8331/11457 [00:23<00:14, 209.66it/s]"
     ]
    },
    {
     "name": "stdout",
     "output_type": "stream",
     "text": [
      "/Users/frederic.birwe/Library/CloudStorage/OneDrive-BertelsmannSE&Co.KGaA/Masterarbeit/20_data/613010/ps2400dpi150lpi/FC_FS23_S_ES0011_T_WCH_41L.p1.4c.Y.tif\n",
      "/Users/frederic.birwe/Library/CloudStorage/OneDrive-BertelsmannSE&Co.KGaA/Masterarbeit/20_data/613010/ps2400dpi150lpi/FC_FS23_S_ES0082_T_A_41L.p1.4c.C.tif\n",
      "/Users/frederic.birwe/Library/CloudStorage/OneDrive-BertelsmannSE&Co.KGaA/Masterarbeit/20_data/613010/ps2400dpi150lpi/FC_FS23_S_ES0071_T_A_41L.p1.4c.C.tif\n",
      "/Users/frederic.birwe/Library/CloudStorage/OneDrive-BertelsmannSE&Co.KGaA/Masterarbeit/20_data/613010/ps2400dpi150lpi/FC_FS23_S_ES0008_T_WCH_41L.p1.4c.C.tif\n",
      "/Users/frederic.birwe/Library/CloudStorage/OneDrive-BertelsmannSE&Co.KGaA/Masterarbeit/20_data/613010/ps2400dpi150lpi/FC_FS23_S_ES0043_T_A_41L.p1.4c.M.tif\n",
      "/Users/frederic.birwe/Library/CloudStorage/OneDrive-BertelsmannSE&Co.KGaA/Masterarbeit/20_data/613010/ps2400dpi150lpi/FC_FS23_S_ES0030_T_NL_41L.p1 2.4c.Y.tif\n",
      "/Users/frederic.birwe/Library/CloudStorage/OneDrive-BertelsmannSE&Co.KGaA/Masterarbeit/20_data/613010/ps2400dpi150lpi/FC_FS23_S_ES0033_T_CH_41L.p1.4c.C.tif\n",
      "/Users/frederic.birwe/Library/CloudStorage/OneDrive-BertelsmannSE&Co.KGaA/Masterarbeit/20_data/613010/ps2400dpi150lpi/FC_FS23_S_ES0105_T_D_Suffix_90_41L.p1.4c.M.tif\n",
      "/Users/frederic.birwe/Library/CloudStorage/OneDrive-BertelsmannSE&Co.KGaA/Masterarbeit/20_data/613010/ps2400dpi150lpi/FC_FS23_S_ES0048_T_D_Suffix_90_41L.p1.4c.C.tif\n",
      "/Users/frederic.birwe/Library/CloudStorage/OneDrive-BertelsmannSE&Co.KGaA/Masterarbeit/20_data/613010/ps2400dpi150lpi/FC_FS23_S_ES0020_T_A_41L.p1.4c.C.tif\n",
      "/Users/frederic.birwe/Library/CloudStorage/OneDrive-BertelsmannSE&Co.KGaA/Masterarbeit/20_data/613010/ps2400dpi150lpi/FC_FS23_S_ES0037_T_NL_41L.p1 2.4c.M.tif\n",
      "/Users/frederic.birwe/Library/CloudStorage/OneDrive-BertelsmannSE&Co.KGaA/Masterarbeit/20_data/613010/ps2400dpi150lpi/FC_FS23_S_ES0066_T_WCH_41L.p1.4c.C.tif\n",
      "/Users/frederic.birwe/Library/CloudStorage/OneDrive-BertelsmannSE&Co.KGaA/Masterarbeit/20_data/613010/ps2400dpi150lpi/FC_FS23_S_ES0029_T_WCH_41L.p1 2.4c.M.tif\n",
      "/Users/frederic.birwe/Library/CloudStorage/OneDrive-BertelsmannSE&Co.KGaA/Masterarbeit/20_data/613010/ps2400dpi150lpi/FC_FS23_S_ES0097_T_WCH_41L.p1 2.4c.Y.tif\n",
      "/Users/frederic.birwe/Library/CloudStorage/OneDrive-BertelsmannSE&Co.KGaA/Masterarbeit/20_data/613010/ps2400dpi150lpi/FC_FS23_S_ES0012_T_A_41L.p1.4c.M.tif\n",
      "/Users/frederic.birwe/Library/CloudStorage/OneDrive-BertelsmannSE&Co.KGaA/Masterarbeit/20_data/613010/ps2400dpi150lpi/FC_FS23_S_ES0039_T_CH_41L.p1 2.4c.Y.tif\n",
      "/Users/frederic.birwe/Library/CloudStorage/OneDrive-BertelsmannSE&Co.KGaA/Masterarbeit/20_data/613010/ps2400dpi150lpi/FC_FS23_S_ES0015_T_F_41L.p1.4c.M.tif\n"
     ]
    },
    {
     "name": "stderr",
     "output_type": "stream",
     "text": [
      " 73%|█████████████████████████▌         | 8373/11457 [00:23<00:16, 181.94it/s]"
     ]
    },
    {
     "name": "stdout",
     "output_type": "stream",
     "text": [
      "/Users/frederic.birwe/Library/CloudStorage/OneDrive-BertelsmannSE&Co.KGaA/Masterarbeit/20_data/613010/ps2400dpi150lpi/FC_FS23_S_ES0111_T_F_41L.p1 2.4c.Y.tif\n",
      "/Users/frederic.birwe/Library/CloudStorage/OneDrive-BertelsmannSE&Co.KGaA/Masterarbeit/20_data/613010/ps2400dpi150lpi/FC_FS23_S_ES0010_T_D_41L.p1.4c.C.tif\n",
      "/Users/frederic.birwe/Library/CloudStorage/OneDrive-BertelsmannSE&Co.KGaA/Masterarbeit/20_data/613010/ps2400dpi150lpi/FC_FS23_S_ES0044_T_D_Suffix_90_41L.p1.4c.Y.tif\n",
      "/Users/frederic.birwe/Library/CloudStorage/OneDrive-BertelsmannSE&Co.KGaA/Masterarbeit/20_data/613010/ps2400dpi150lpi/FC_FS23_S_ES0095_T_WCH_41L.p1.4c.M.tif\n",
      "/Users/frederic.birwe/Library/CloudStorage/OneDrive-BertelsmannSE&Co.KGaA/Masterarbeit/20_data/613010/ps2400dpi150lpi/FC_FS23_S_ES0022_T_D_41L.p1.4c.M.tif\n",
      "/Users/frederic.birwe/Library/CloudStorage/OneDrive-BertelsmannSE&Co.KGaA/Masterarbeit/20_data/613010/ps2400dpi150lpi/FC_FS23_S_ES0069_T_NL_41L.p1.4c.Y.tif\n",
      "/Users/frederic.birwe/Library/CloudStorage/OneDrive-BertelsmannSE&Co.KGaA/Masterarbeit/20_data/613010/ps2400dpi150lpi/FC_FS23_S_ES0098_T_WCH_41L.p1 2.4c.Y.tif\n",
      "/Users/frederic.birwe/Library/CloudStorage/OneDrive-BertelsmannSE&Co.KGaA/Masterarbeit/20_data/613010/ps2400dpi150lpi/FC_FS23_S_ES0041_T_D_41L.p1.4c.C.tif\n",
      "/Users/frederic.birwe/Library/CloudStorage/OneDrive-BertelsmannSE&Co.KGaA/Masterarbeit/20_data/613010/ps2400dpi150lpi/FC_FS23_S_ES0044_T_F_41L.p1.4c.M.tif\n",
      "/Users/frederic.birwe/Library/CloudStorage/OneDrive-BertelsmannSE&Co.KGaA/Masterarbeit/20_data/613010/ps2400dpi150lpi/FC_FS23_S_ES0026_T_WCH_41L.p1 2.4c.M.tif\n",
      "/Users/frederic.birwe/Library/CloudStorage/OneDrive-BertelsmannSE&Co.KGaA/Masterarbeit/20_data/613010/ps2400dpi150lpi/FC_FS23_S_ES0010_T_NL_41L.p1.4c.Y.tif\n",
      "/Users/frederic.birwe/Library/CloudStorage/OneDrive-BertelsmannSE&Co.KGaA/Masterarbeit/20_data/613010/ps2400dpi150lpi/FC_FS23_S_ES0077_T_CH_41L.p1.4c.C.tif\n",
      "/Users/frederic.birwe/Library/CloudStorage/OneDrive-BertelsmannSE&Co.KGaA/Masterarbeit/20_data/613010/ps2400dpi150lpi/FC_FS23_S_ES0073_T_D_41L.p1.4c.M.tif\n",
      "/Users/frederic.birwe/Library/CloudStorage/OneDrive-BertelsmannSE&Co.KGaA/Masterarbeit/20_data/613010/ps2400dpi150lpi/FC_FS23_S_ES0076_T_F_41L.p1.4c.C.tif\n",
      "/Users/frederic.birwe/Library/CloudStorage/OneDrive-BertelsmannSE&Co.KGaA/Masterarbeit/20_data/613010/ps2400dpi150lpi/FC_FS23_S_ES0103_T_NL_41L.p1.4c.M.tif\n",
      "/Users/frederic.birwe/Library/CloudStorage/OneDrive-BertelsmannSE&Co.KGaA/Masterarbeit/20_data/613010/ps2400dpi150lpi/FC_FS23_S_ES0084_T_CH_41L.p1.4c.C.tif\n",
      "/Users/frederic.birwe/Library/CloudStorage/OneDrive-BertelsmannSE&Co.KGaA/Masterarbeit/20_data/613010/ps2400dpi150lpi/FC_FS23_S_ES0080_T_D_41L.p1.4c.M.tif\n",
      "/Users/frederic.birwe/Library/CloudStorage/OneDrive-BertelsmannSE&Co.KGaA/Masterarbeit/20_data/613010/ps2400dpi150lpi/FC_FS23_S_ES0007_T_CH_41L.p1.4c.M.tif\n",
      "/Users/frederic.birwe/Library/CloudStorage/OneDrive-BertelsmannSE&Co.KGaA/Masterarbeit/20_data/613010/ps2400dpi150lpi/FC_FS23_S_ES0039_T_D_41L.p1.4c.Y.tif\n"
     ]
    },
    {
     "name": "stderr",
     "output_type": "stream",
     "text": [
      " 73%|█████████████████████████▋         | 8412/11457 [00:24<00:16, 179.27it/s]"
     ]
    },
    {
     "name": "stdout",
     "output_type": "stream",
     "text": [
      "/Users/frederic.birwe/Library/CloudStorage/OneDrive-BertelsmannSE&Co.KGaA/Masterarbeit/20_data/613010/ps2400dpi150lpi/FC_FS23_S_ES0108_T_F_41L.p1 2.4c.C.tif\n",
      "/Users/frederic.birwe/Library/CloudStorage/OneDrive-BertelsmannSE&Co.KGaA/Masterarbeit/20_data/613010/ps2400dpi150lpi/FC_FS23_S_ES0095_T_CH_41L.p1 2.4c.C.tif\n",
      "/Users/frederic.birwe/Library/CloudStorage/OneDrive-BertelsmannSE&Co.KGaA/Masterarbeit/20_data/613010/ps2400dpi150lpi/FC_FS23_S_ES0092_T_WCH_41L.p1.4c.C.tif\n",
      "/Users/frederic.birwe/Library/CloudStorage/OneDrive-BertelsmannSE&Co.KGaA/Masterarbeit/20_data/613010/ps2400dpi150lpi/FC_FS23_S_ES0095_T_D_Suffix_90_41L.p1.4c.Y.tif\n",
      "/Users/frederic.birwe/Library/CloudStorage/OneDrive-BertelsmannSE&Co.KGaA/Masterarbeit/20_data/613010/ps2400dpi150lpi/FC_FS23_S_ES0053_T_WCH_41L.p1.4c.Y.tif\n",
      "/Users/frederic.birwe/Library/CloudStorage/OneDrive-BertelsmannSE&Co.KGaA/Masterarbeit/20_data/613010/ps2400dpi150lpi/FC_FS23_S_ES0068_T_D_41L.p1.4c.Y.tif\n",
      "/Users/frederic.birwe/Library/CloudStorage/OneDrive-BertelsmannSE&Co.KGaA/Masterarbeit/20_data/613010/ps2400dpi150lpi/FC_FS23_S_ES0006_T_NL_41L.p1 2.4c.M.tif\n",
      "/Users/frederic.birwe/Library/CloudStorage/OneDrive-BertelsmannSE&Co.KGaA/Masterarbeit/20_data/613010/ps2400dpi150lpi/FC_FS23_S_ES0040_T_A_41L.p1.4c.Y.tif\n",
      "/Users/frederic.birwe/Library/CloudStorage/OneDrive-BertelsmannSE&Co.KGaA/Masterarbeit/20_data/613010/ps2400dpi150lpi/FC_FS23_S_ES0052_T_NL_41L.p1.4c.C.tif\n",
      "/Users/frederic.birwe/Library/CloudStorage/OneDrive-BertelsmannSE&Co.KGaA/Masterarbeit/20_data/613010/ps2400dpi150lpi/FC_FS23_S_ES0011_T_A_41L.p1.4c.Y.tif\n",
      "/Users/frederic.birwe/Library/CloudStorage/OneDrive-BertelsmannSE&Co.KGaA/Masterarbeit/20_data/613010/ps2400dpi150lpi/FC_FS23_S_ES0035_T_CH_41L.p1.4c.Y.tif\n",
      "/Users/frederic.birwe/Library/CloudStorage/OneDrive-BertelsmannSE&Co.KGaA/Masterarbeit/20_data/613010/ps2400dpi150lpi/FC_FS23_S_ES0028_T_NL_41L.p1 2.4c.C.tif\n",
      "/Users/frederic.birwe/Library/CloudStorage/OneDrive-BertelsmannSE&Co.KGaA/Masterarbeit/20_data/613010/ps2400dpi150lpi/FC_FS23_S_ES0069_T_A_41L.p1.4c.C.tif\n",
      "/Users/frederic.birwe/Library/CloudStorage/OneDrive-BertelsmannSE&Co.KGaA/Masterarbeit/20_data/613010/ps2400dpi150lpi/FC_FS23_S_ES0022_T_NL_41L.p1.4c.M.tif\n",
      "/Users/frederic.birwe/Library/CloudStorage/OneDrive-BertelsmannSE&Co.KGaA/Masterarbeit/20_data/613010/ps2400dpi150lpi/FC_FS23_S_ES0018_T_WCH_41L.p1 2.4c.M.tif\n",
      "/Users/frederic.birwe/Library/CloudStorage/OneDrive-BertelsmannSE&Co.KGaA/Masterarbeit/20_data/613010/ps2400dpi150lpi/FC_FS23_S_ES0021_T_CH_41L.p1 2.4c.C.tif\n",
      "/Users/frederic.birwe/Library/CloudStorage/OneDrive-BertelsmannSE&Co.KGaA/Masterarbeit/20_data/613010/ps2400dpi150lpi/FC_FS23_S_ES0038_T_A_41L.p1.4c.C.tif\n",
      "/Users/frederic.birwe/Library/CloudStorage/OneDrive-BertelsmannSE&Co.KGaA/Masterarbeit/20_data/613010/ps2400dpi150lpi/FC_FS23_S_ES0028_T_NL_41L.p1.4c.Y.tif\n",
      "/Users/frederic.birwe/Library/CloudStorage/OneDrive-BertelsmannSE&Co.KGaA/Masterarbeit/20_data/613010/ps2400dpi150lpi/FC_FS23_S_ES0042_T_A_41L.p1.4c.M.tif\n",
      "/Users/frederic.birwe/Library/CloudStorage/OneDrive-BertelsmannSE&Co.KGaA/Masterarbeit/20_data/613010/ps2400dpi150lpi/FC_FS23_S_ES0028_T_D_Suffix_90_41L.p1.4c.C.tif\n"
     ]
    },
    {
     "name": "stderr",
     "output_type": "stream",
     "text": [
      " 74%|█████████████████████████▊         | 8450/11457 [00:24<00:18, 165.63it/s]"
     ]
    },
    {
     "name": "stdout",
     "output_type": "stream",
     "text": [
      "/Users/frederic.birwe/Library/CloudStorage/OneDrive-BertelsmannSE&Co.KGaA/Masterarbeit/20_data/613010/ps2400dpi150lpi/FC_FS23_S_ES0079_T_NL_41L.p1 2.4c.M.tif\n",
      "/Users/frederic.birwe/Library/CloudStorage/OneDrive-BertelsmannSE&Co.KGaA/Masterarbeit/20_data/613010/ps2400dpi150lpi/FC_FS23_S_ES0070_T_A_41L.p1.4c.C.tif\n",
      "/Users/frederic.birwe/Library/CloudStorage/OneDrive-BertelsmannSE&Co.KGaA/Masterarbeit/20_data/613010/ps2400dpi150lpi/FC_FS23_S_ES0106_T_D_Suffix_90_41L.p1.4c.C.tif\n",
      "/Users/frederic.birwe/Library/CloudStorage/OneDrive-BertelsmannSE&Co.KGaA/Masterarbeit/20_data/613010/ps2400dpi150lpi/FC_FS23_S_ES0013_T_A_41L.p1.4c.M.tif\n",
      "/Users/frederic.birwe/Library/CloudStorage/OneDrive-BertelsmannSE&Co.KGaA/Masterarbeit/20_data/613010/ps2400dpi150lpi/FC_FS23_S_ES0051_T_NL_41L.p1.4c.Y.tif\n",
      "/Users/frederic.birwe/Library/CloudStorage/OneDrive-BertelsmannSE&Co.KGaA/Masterarbeit/20_data/613010/ps2400dpi150lpi/FC_FS23_S_ES0021_T_A_41L.p1.4c.C.tif\n",
      "/Users/frederic.birwe/Library/CloudStorage/OneDrive-BertelsmannSE&Co.KGaA/Masterarbeit/20_data/613010/ps2400dpi150lpi/FC_FS23_S_ES0059_T_A_41L.p1.4c.Y.tif\n",
      "/Users/frederic.birwe/Library/CloudStorage/OneDrive-BertelsmannSE&Co.KGaA/Masterarbeit/20_data/613010/ps2400dpi150lpi/FC_FS23_S_ES0107_T_A_41L.p1.4c.C.tif\n",
      "/Users/frederic.birwe/Library/CloudStorage/OneDrive-BertelsmannSE&Co.KGaA/Masterarbeit/20_data/613010/ps2400dpi150lpi/FC_FS23_S_ES0046_T_CH_41L.p1.4c.M.tif\n",
      "/Users/frederic.birwe/Library/CloudStorage/OneDrive-BertelsmannSE&Co.KGaA/Masterarbeit/20_data/613010/ps2400dpi150lpi/FC_FS23_S_ES0083_T_A_41L.p1.4c.C.tif\n",
      "/Users/frederic.birwe/Library/CloudStorage/OneDrive-BertelsmannSE&Co.KGaA/Masterarbeit/20_data/613010/ps2400dpi150lpi/FC_FS23_S_ES0022_T_NL_41L.p1 2.4c.C.tif\n",
      "/Users/frederic.birwe/Library/CloudStorage/OneDrive-BertelsmannSE&Co.KGaA/Masterarbeit/20_data/613010/ps2400dpi150lpi/FC_FS23_S_ES0008_T_A_41L.p1.4c.Y.tif\n"
     ]
    },
    {
     "name": "stderr",
     "output_type": "stream",
     "text": [
      " 74%|█████████████████████████▉         | 8490/11457 [00:24<00:17, 173.19it/s]"
     ]
    },
    {
     "name": "stdout",
     "output_type": "stream",
     "text": [
      "/Users/frederic.birwe/Library/CloudStorage/OneDrive-BertelsmannSE&Co.KGaA/Masterarbeit/20_data/613010/ps2400dpi150lpi/FC_FS23_S_ES0099_T_NL_41L.p1.4c.C.tif\n",
      "/Users/frederic.birwe/Library/CloudStorage/OneDrive-BertelsmannSE&Co.KGaA/Masterarbeit/20_data/613010/ps2400dpi150lpi/FC_FS23_S_ES0073_T_D_Suffix_90_41L.p1.4c.C.tif\n",
      "/Users/frederic.birwe/Library/CloudStorage/OneDrive-BertelsmannSE&Co.KGaA/Masterarbeit/20_data/613010/ps2400dpi150lpi/FC_FS23_S_ES0099_T_D_41L.p1.4c.M.tif\n",
      "/Users/frederic.birwe/Library/CloudStorage/OneDrive-BertelsmannSE&Co.KGaA/Masterarbeit/20_data/613010/ps2400dpi150lpi/FC_FS23_S_ES0017_T_F_41L.p1.4c.Y.tif\n",
      "/Users/frederic.birwe/Library/CloudStorage/OneDrive-BertelsmannSE&Co.KGaA/Masterarbeit/20_data/613010/ps2400dpi150lpi/FC_FS23_S_ES0069_T_WCH_41L.p1 2.4c.M.tif\n",
      "/Users/frederic.birwe/Library/CloudStorage/OneDrive-BertelsmannSE&Co.KGaA/Masterarbeit/20_data/613010/ps2400dpi150lpi/FC_FS23_S_ES0020_T_D_41L.p1.4c.Y.tif\n",
      "/Users/frederic.birwe/Library/CloudStorage/OneDrive-BertelsmannSE&Co.KGaA/Masterarbeit/20_data/613010/ps2400dpi150lpi/FC_FS23_S_ES0010_T_D_Suffix_90_41L.p1.4c.M.tif\n",
      "/Users/frederic.birwe/Library/CloudStorage/OneDrive-BertelsmannSE&Co.KGaA/Masterarbeit/20_data/613010/ps2400dpi150lpi/FC_FS23_S_ES0084_T_D_Suffix_90_41L.p1.4c.M.tif\n",
      "/Users/frederic.birwe/Library/CloudStorage/OneDrive-BertelsmannSE&Co.KGaA/Masterarbeit/20_data/613010/ps2400dpi150lpi/FC_FS23_S_ES0084_T_WCH_41L.p1.4c.C.tif\n",
      "/Users/frederic.birwe/Library/CloudStorage/OneDrive-BertelsmannSE&Co.KGaA/Masterarbeit/20_data/613010/ps2400dpi150lpi/FC_FS23_S_ES0046_T_F_41L.p1.4c.Y.tif\n",
      "/Users/frederic.birwe/Library/CloudStorage/OneDrive-BertelsmannSE&Co.KGaA/Masterarbeit/20_data/613010/ps2400dpi150lpi/FC_FS23_S_ES0087_T_CH_41L.p1.4c.Y.tif\n",
      "/Users/frederic.birwe/Library/CloudStorage/OneDrive-BertelsmannSE&Co.KGaA/Masterarbeit/20_data/613010/ps2400dpi150lpi/FC_FS23_S_ES0013_T_NL_41L.p1.4c.C.tif\n",
      "/Users/frederic.birwe/Library/CloudStorage/OneDrive-BertelsmannSE&Co.KGaA/Masterarbeit/20_data/613010/ps2400dpi150lpi/FC_FS23_S_ES0071_T_D_41L.p1.4c.Y.tif\n",
      "/Users/frederic.birwe/Library/CloudStorage/OneDrive-BertelsmannSE&Co.KGaA/Masterarbeit/20_data/613010/ps2400dpi150lpi/FC_FS23_S_ES0035_T_WCH_41L.p1.4c.M.tif\n",
      "/Users/frederic.birwe/Library/CloudStorage/OneDrive-BertelsmannSE&Co.KGaA/Masterarbeit/20_data/613010/ps2400dpi150lpi/FC_FS23_S_ES0009_T_D_41L.p1.4c.C.tif\n",
      "/Users/frederic.birwe/Library/CloudStorage/OneDrive-BertelsmannSE&Co.KGaA/Masterarbeit/20_data/613010/ps2400dpi150lpi/FC_FS23_S_ES0090_T_NL_41L.p1.4c.M.tif\n",
      "/Users/frederic.birwe/Library/CloudStorage/OneDrive-BertelsmannSE&Co.KGaA/Masterarbeit/20_data/613010/ps2400dpi150lpi/FC_FS23_S_ES0082_T_D_41L.p1.4c.Y.tif\n",
      "/Users/frederic.birwe/Library/CloudStorage/OneDrive-BertelsmannSE&Co.KGaA/Masterarbeit/20_data/613010/ps2400dpi150lpi/FC_FS23_S_ES0106_T_D_41L.p1.4c.Y.tif\n",
      "/Users/frederic.birwe/Library/CloudStorage/OneDrive-BertelsmannSE&Co.KGaA/Masterarbeit/20_data/613010/ps2400dpi150lpi/FC_FS23_S_ES0109_T_NL_41L.p1.4c.Y.tif\n",
      "/Users/frederic.birwe/Library/CloudStorage/OneDrive-BertelsmannSE&Co.KGaA/Masterarbeit/20_data/613010/ps2400dpi150lpi/FC_FS23_S_ES0058_T_D_41L.p1.4c.C.tif\n",
      "/Users/frederic.birwe/Library/CloudStorage/OneDrive-BertelsmannSE&Co.KGaA/Masterarbeit/20_data/613010/ps2400dpi150lpi/FC_FS23_S_ES0083_T_WCH_41L.p1.4c.M.tif\n",
      "/Users/frederic.birwe/Library/CloudStorage/OneDrive-BertelsmannSE&Co.KGaA/Masterarbeit/20_data/613010/ps2400dpi150lpi/FC_FS23_S_ES0055_T_D_Suffix_90_41L.p1.4c.M.tif\n"
     ]
    },
    {
     "name": "stderr",
     "output_type": "stream",
     "text": [
      " 75%|██████████████████████████         | 8546/11457 [00:24<00:13, 222.58it/s]"
     ]
    },
    {
     "name": "stdout",
     "output_type": "stream",
     "text": [
      "/Users/frederic.birwe/Library/CloudStorage/OneDrive-BertelsmannSE&Co.KGaA/Masterarbeit/20_data/613010/ps2400dpi150lpi/FC_FS23_S_ES0036_T_D_Suffix_90_41L.p1.4c.C.tif\n",
      "/Users/frederic.birwe/Library/CloudStorage/OneDrive-BertelsmannSE&Co.KGaA/Masterarbeit/20_data/613010/ps2400dpi150lpi/FC_FS23_S_ES0059_T_D_Suffix_90_41L.p1.4c.C.tif\n",
      "/Users/frederic.birwe/Library/CloudStorage/OneDrive-BertelsmannSE&Co.KGaA/Masterarbeit/20_data/613010/ps2400dpi150lpi/FC_FS23_S_ES0114_T_D_Suffix_90_41L.p1.4c.M.tif\n",
      "/Users/frederic.birwe/Library/CloudStorage/OneDrive-BertelsmannSE&Co.KGaA/Masterarbeit/20_data/613010/ps2400dpi150lpi/FC_FS23_S_ES0040_T_CH_41L.p1.4c.C.tif\n",
      "/Users/frederic.birwe/Library/CloudStorage/OneDrive-BertelsmannSE&Co.KGaA/Masterarbeit/20_data/613010/ps2400dpi150lpi/FC_FS23_S_ES0080_T_A_41L.p1.4c.C.tif\n",
      "/Users/frederic.birwe/Library/CloudStorage/OneDrive-BertelsmannSE&Co.KGaA/Masterarbeit/20_data/613010/ps2400dpi150lpi/FC_FS23_S_ES0027_T_NL_41L.p1.4c.Y.tif\n",
      "/Users/frederic.birwe/Library/CloudStorage/OneDrive-BertelsmannSE&Co.KGaA/Masterarbeit/20_data/613010/ps2400dpi150lpi/FC_FS23_S_ES0049_T_CH_41L.p1.4c.M.tif\n",
      "/Users/frederic.birwe/Library/CloudStorage/OneDrive-BertelsmannSE&Co.KGaA/Masterarbeit/20_data/613010/ps2400dpi150lpi/FC_FS23_S_ES0010_T_A_41L.p1.4c.M.tif\n",
      "/Users/frederic.birwe/Library/CloudStorage/OneDrive-BertelsmannSE&Co.KGaA/Masterarbeit/20_data/613010/ps2400dpi150lpi/FC_FS23_S_ES0077_T_WCH_41L.p1.4c.Y.tif\n",
      "/Users/frederic.birwe/Library/CloudStorage/OneDrive-BertelsmannSE&Co.KGaA/Masterarbeit/20_data/613010/ps2400dpi150lpi/FC_FS23_S_ES0022_T_A_41L.p1.4c.C.tif\n",
      "/Users/frederic.birwe/Library/CloudStorage/OneDrive-BertelsmannSE&Co.KGaA/Masterarbeit/20_data/613010/ps2400dpi150lpi/FC_FS23_S_ES0041_T_A_41L.p1.4c.M.tif\n",
      "/Users/frederic.birwe/Library/CloudStorage/OneDrive-BertelsmannSE&Co.KGaA/Masterarbeit/20_data/613010/ps2400dpi150lpi/FC_FS23_S_ES0007_T_WCH_41L.p1.4c.M.tif\n",
      "/Users/frederic.birwe/Library/CloudStorage/OneDrive-BertelsmannSE&Co.KGaA/Masterarbeit/20_data/613010/ps2400dpi150lpi/FC_FS23_S_ES0073_T_A_41L.p1.4c.C.tif\n",
      "/Users/frederic.birwe/Library/CloudStorage/OneDrive-BertelsmannSE&Co.KGaA/Masterarbeit/20_data/613010/ps2400dpi150lpi/FC_FS23_S_ES0088_T_D_Suffix_90_41L.p1.4c.C.tif\n",
      "/Users/frederic.birwe/Library/CloudStorage/OneDrive-BertelsmannSE&Co.KGaA/Masterarbeit/20_data/613010/ps2400dpi150lpi/FC_FS23_S_ES0096_T_D_Suffix_90_41L.p1.4c.C.tif\n",
      "/Users/frederic.birwe/Library/CloudStorage/OneDrive-BertelsmannSE&Co.KGaA/Masterarbeit/20_data/613010/ps2400dpi150lpi/FC_FS23_S_ES0105_T_D_41L.p1.4c.Y.tif\n",
      "/Users/frederic.birwe/Library/CloudStorage/OneDrive-BertelsmannSE&Co.KGaA/Masterarbeit/20_data/613010/ps2400dpi150lpi/FC_FS23_S_ES0065_T_NL_41L.p1.4c.C.tif\n",
      "/Users/frederic.birwe/Library/CloudStorage/OneDrive-BertelsmannSE&Co.KGaA/Masterarbeit/20_data/613010/ps2400dpi150lpi/FC_FS23_S_ES0111_T_CH_41L.p1.4c.M.tif\n",
      "/Users/frederic.birwe/Library/CloudStorage/OneDrive-BertelsmannSE&Co.KGaA/Masterarbeit/20_data/613010/ps2400dpi150lpi/FC_FS23_S_ES0096_T_NL_41L.p1.4c.C.tif\n",
      "/Users/frederic.birwe/Library/CloudStorage/OneDrive-BertelsmannSE&Co.KGaA/Masterarbeit/20_data/613010/ps2400dpi150lpi/FC_FS23_S_ES0069_T_D_41L.p1.4c.M.tif\n",
      "/Users/frederic.birwe/Library/CloudStorage/OneDrive-BertelsmannSE&Co.KGaA/Masterarbeit/20_data/613010/ps2400dpi150lpi/FC_FS23_S_ES0061_T_D_Suffix_90_41L.p1.4c.M.tif\n",
      "/Users/frederic.birwe/Library/CloudStorage/OneDrive-BertelsmannSE&Co.KGaA/Masterarbeit/20_data/613010/ps2400dpi150lpi/FC_FS23_S_ES0081_T_D_41L.p1.4c.Y.tif\n"
     ]
    },
    {
     "name": "stderr",
     "output_type": "stream",
     "text": [
      " 75%|██████████████████████████▎        | 8597/11457 [00:25<00:12, 230.58it/s]"
     ]
    },
    {
     "name": "stdout",
     "output_type": "stream",
     "text": [
      "/Users/frederic.birwe/Library/CloudStorage/OneDrive-BertelsmannSE&Co.KGaA/Masterarbeit/20_data/613010/ps2400dpi150lpi/FC_FS23_S_ES0058_T_WCH_41L.p1 2.4c.Y.tif\n",
      "/Users/frederic.birwe/Library/CloudStorage/OneDrive-BertelsmannSE&Co.KGaA/Masterarbeit/20_data/613010/ps2400dpi150lpi/FC_FS23_S_ES0041_T_F_41L.p1 2.4c.C.tif\n",
      "/Users/frederic.birwe/Library/CloudStorage/OneDrive-BertelsmannSE&Co.KGaA/Masterarbeit/20_data/613010/ps2400dpi150lpi/FC_FS23_S_ES0038_T_D_41L.p1.4c.M.tif\n",
      "/Users/frederic.birwe/Library/CloudStorage/OneDrive-BertelsmannSE&Co.KGaA/Masterarbeit/20_data/613010/ps2400dpi150lpi/FC_FS23_S_ES0088_T_CH_41L.p1.4c.Y.tif\n",
      "/Users/frederic.birwe/Library/CloudStorage/OneDrive-BertelsmannSE&Co.KGaA/Masterarbeit/20_data/613010/ps2400dpi150lpi/FC_FS23_S_ES0103_T_WCH_41L.p1.4c.C.tif\n",
      "/Users/frederic.birwe/Library/CloudStorage/OneDrive-BertelsmannSE&Co.KGaA/Masterarbeit/20_data/613010/ps2400dpi150lpi/FC_FS23_S_ES0072_T_D_41L.p1.4c.Y.tif\n",
      "/Users/frederic.birwe/Library/CloudStorage/OneDrive-BertelsmannSE&Co.KGaA/Masterarbeit/20_data/613010/ps2400dpi150lpi/FC_FS23_S_ES0014_T_F_41L.p1.4c.Y.tif\n",
      "/Users/frederic.birwe/Library/CloudStorage/OneDrive-BertelsmannSE&Co.KGaA/Masterarbeit/20_data/613010/ps2400dpi150lpi/FC_FS23_S_ES0024_T_D_Suffix_90_41L.p1.4c.M.tif\n",
      "/Users/frederic.birwe/Library/CloudStorage/OneDrive-BertelsmannSE&Co.KGaA/Masterarbeit/20_data/613010/ps2400dpi150lpi/FC_FS23_S_ES0015_T_NL_41L.p1.4c.M.tif\n",
      "/Users/frederic.birwe/Library/CloudStorage/OneDrive-BertelsmannSE&Co.KGaA/Masterarbeit/20_data/613010/ps2400dpi150lpi/FC_FS23_S_ES0047_T_D_Suffix_90_41L.p1.4c.C.tif\n",
      "/Users/frederic.birwe/Library/CloudStorage/OneDrive-BertelsmannSE&Co.KGaA/Masterarbeit/20_data/613010/ps2400dpi150lpi/FC_FS23_S_ES0106_T_NL_41L.p1.4c.Y.tif\n",
      "/Users/frederic.birwe/Library/CloudStorage/OneDrive-BertelsmannSE&Co.KGaA/Masterarbeit/20_data/613010/ps2400dpi150lpi/FC_FS23_S_ES0014_T_NL_41L.p1 2.4c.C.tif\n",
      "/Users/frederic.birwe/Library/CloudStorage/OneDrive-BertelsmannSE&Co.KGaA/Masterarbeit/20_data/613010/ps2400dpi150lpi/FC_FS23_S_ES0036_T_F_41L.p1 2.4c.Y.tif\n",
      "/Users/frederic.birwe/Library/CloudStorage/OneDrive-BertelsmannSE&Co.KGaA/Masterarbeit/20_data/613010/ps2400dpi150lpi/FC_FS23_S_ES0023_T_D_41L.p1.4c.Y.tif\n",
      "/Users/frederic.birwe/Library/CloudStorage/OneDrive-BertelsmannSE&Co.KGaA/Masterarbeit/20_data/613010/ps2400dpi150lpi/FC_FS23_S_ES0107_T_D_41L.p1.4c.M.tif\n",
      "/Users/frederic.birwe/Library/CloudStorage/OneDrive-BertelsmannSE&Co.KGaA/Masterarbeit/20_data/613010/ps2400dpi150lpi/FC_FS23_S_ES0035_T_D_Suffix_90_41L.p1.4c.Y.tif\n",
      "/Users/frederic.birwe/Library/CloudStorage/OneDrive-BertelsmannSE&Co.KGaA/Masterarbeit/20_data/613010/ps2400dpi150lpi/FC_FS23_S_ES0066_T_NL_41L.p1.4c.Y.tif\n",
      "/Users/frederic.birwe/Library/CloudStorage/OneDrive-BertelsmannSE&Co.KGaA/Masterarbeit/20_data/613010/ps2400dpi150lpi/FC_FS23_S_ES0095_T_NL_41L.p1.4c.Y.tif\n",
      "/Users/frederic.birwe/Library/CloudStorage/OneDrive-BertelsmannSE&Co.KGaA/Masterarbeit/20_data/613010/ps2400dpi150lpi/FC_FS23_S_ES0042_T_NL_41L.p1 2.4c.Y.tif\n",
      "/Users/frederic.birwe/Library/CloudStorage/OneDrive-BertelsmannSE&Co.KGaA/Masterarbeit/20_data/613010/ps2400dpi150lpi/FC_FS23_S_ES0086_T_F_41L.p1.4c.C.tif\n",
      "/Users/frederic.birwe/Library/CloudStorage/OneDrive-BertelsmannSE&Co.KGaA/Masterarbeit/20_data/613010/ps2400dpi150lpi/FC_FS23_S_ES0083_T_D_41L.p1.4c.M.tif\n",
      "/Users/frederic.birwe/Library/CloudStorage/OneDrive-BertelsmannSE&Co.KGaA/Masterarbeit/20_data/613010/ps2400dpi150lpi/FC_FS23_S_ES0050_T_F_41L.p1 2.4c.M.tif\n",
      "/Users/frederic.birwe/Library/CloudStorage/OneDrive-BertelsmannSE&Co.KGaA/Masterarbeit/20_data/613010/ps2400dpi150lpi/FC_FS23_S_ES0042_T_D_41L.p1.4c.C.tif\n"
     ]
    },
    {
     "name": "stderr",
     "output_type": "stream",
     "text": [
      " 76%|██████████████████████████▍        | 8651/11457 [00:25<00:11, 248.02it/s]"
     ]
    },
    {
     "name": "stdout",
     "output_type": "stream",
     "text": [
      "/Users/frederic.birwe/Library/CloudStorage/OneDrive-BertelsmannSE&Co.KGaA/Masterarbeit/20_data/613010/ps2400dpi150lpi/FC_FS23_S_ES0047_T_F_41L.p1.4c.M.tif\n",
      "/Users/frederic.birwe/Library/CloudStorage/OneDrive-BertelsmannSE&Co.KGaA/Masterarbeit/20_data/613010/ps2400dpi150lpi/FC_FS23_S_ES0070_T_D_41L.p1.4c.M.tif\n",
      "/Users/frederic.birwe/Library/CloudStorage/OneDrive-BertelsmannSE&Co.KGaA/Masterarbeit/20_data/613010/ps2400dpi150lpi/FC_FS23_S_ES0008_T_CH_41L.p1.4c.M.tif\n",
      "/Users/frederic.birwe/Library/CloudStorage/OneDrive-BertelsmannSE&Co.KGaA/Masterarbeit/20_data/613010/ps2400dpi150lpi/FC_FS23_S_ES0098_T_D_41L.p1.4c.Y.tif\n",
      "/Users/frederic.birwe/Library/CloudStorage/OneDrive-BertelsmannSE&Co.KGaA/Masterarbeit/20_data/613010/ps2400dpi150lpi/FC_FS23_S_ES0082_T_CH_41L.p1.4c.M.tif\n",
      "/Users/frederic.birwe/Library/CloudStorage/OneDrive-BertelsmannSE&Co.KGaA/Masterarbeit/20_data/613010/ps2400dpi150lpi/FC_FS23_S_ES0105_T_NL_41L.p1.4c.C.tif\n",
      "/Users/frederic.birwe/Library/CloudStorage/OneDrive-BertelsmannSE&Co.KGaA/Masterarbeit/20_data/613010/ps2400dpi150lpi/FC_FS23_S_ES0016_T_F_41L.p1.4c.M.tif\n",
      "/Users/frederic.birwe/Library/CloudStorage/OneDrive-BertelsmannSE&Co.KGaA/Masterarbeit/20_data/613010/ps2400dpi150lpi/FC_FS23_S_ES0013_T_D_41L.p1.4c.C.tif\n",
      "/Users/frederic.birwe/Library/CloudStorage/OneDrive-BertelsmannSE&Co.KGaA/Masterarbeit/20_data/613010/ps2400dpi150lpi/FC_FS23_S_ES0071_T_CH_41L.p1.4c.M.tif\n",
      "/Users/frederic.birwe/Library/CloudStorage/OneDrive-BertelsmannSE&Co.KGaA/Masterarbeit/20_data/613010/ps2400dpi150lpi/FC_FS23_S_ES0024_T_F_41L.p1.4c.C.tif\n",
      "/Users/frederic.birwe/Library/CloudStorage/OneDrive-BertelsmannSE&Co.KGaA/Masterarbeit/20_data/613010/ps2400dpi150lpi/FC_FS23_S_ES0021_T_D_41L.p1.4c.M.tif\n",
      "/Users/frederic.birwe/Library/CloudStorage/OneDrive-BertelsmannSE&Co.KGaA/Masterarbeit/20_data/613010/ps2400dpi150lpi/FC_FS23_S_ES0070_T_D_Suffix_90_41L.p1.4c.Y.tif\n",
      "/Users/frederic.birwe/Library/CloudStorage/OneDrive-BertelsmannSE&Co.KGaA/Masterarbeit/20_data/613010/ps2400dpi150lpi/FC_FS23_S_ES0017_T_CH_41L.p1 2.4c.C.tif\n",
      "/Users/frederic.birwe/Library/CloudStorage/OneDrive-BertelsmannSE&Co.KGaA/Masterarbeit/20_data/613010/ps2400dpi150lpi/FC_FS23_S_ES0011_T_WCH_41L.p1.4c.M.tif\n",
      "/Users/frederic.birwe/Library/CloudStorage/OneDrive-BertelsmannSE&Co.KGaA/Masterarbeit/20_data/613010/ps2400dpi150lpi/FC_FS23_S_ES0024_T_NL_41L.p1.4c.C.tif\n",
      "/Users/frederic.birwe/Library/CloudStorage/OneDrive-BertelsmannSE&Co.KGaA/Masterarbeit/20_data/613010/ps2400dpi150lpi/FC_FS23_S_ES0009_T_A_41L.p1.4c.M.tif\n",
      "/Users/frederic.birwe/Library/CloudStorage/OneDrive-BertelsmannSE&Co.KGaA/Masterarbeit/20_data/613010/ps2400dpi150lpi/FC_FS23_S_ES0043_T_CH_41L.p1.4c.Y.tif\n",
      "/Users/frederic.birwe/Library/CloudStorage/OneDrive-BertelsmannSE&Co.KGaA/Masterarbeit/20_data/613010/ps2400dpi150lpi/FC_FS23_S_ES0058_T_A_41L.p1.4c.M.tif\n",
      "/Users/frederic.birwe/Library/CloudStorage/OneDrive-BertelsmannSE&Co.KGaA/Masterarbeit/20_data/613010/ps2400dpi150lpi/FC_FS23_S_ES0061_T_WCH_41L.p1.4c.Y.tif\n",
      "/Users/frederic.birwe/Library/CloudStorage/OneDrive-BertelsmannSE&Co.KGaA/Masterarbeit/20_data/613010/ps2400dpi150lpi/FC_FS23_S_ES0039_T_CH_41L.p1 2.4c.M.tif\n",
      "/Users/frederic.birwe/Library/CloudStorage/OneDrive-BertelsmannSE&Co.KGaA/Masterarbeit/20_data/613010/ps2400dpi150lpi/FC_FS23_S_ES0012_T_A_41L.p1.4c.Y.tif\n",
      "/Users/frederic.birwe/Library/CloudStorage/OneDrive-BertelsmannSE&Co.KGaA/Masterarbeit/20_data/613010/ps2400dpi150lpi/FC_FS23_S_ES0097_T_WCH_41L.p1 2.4c.M.tif\n",
      "/Users/frederic.birwe/Library/CloudStorage/OneDrive-BertelsmannSE&Co.KGaA/Masterarbeit/20_data/613010/ps2400dpi150lpi/FC_FS23_S_ES0029_T_WCH_41L.p1 2.4c.Y.tif\n",
      "/Users/frederic.birwe/Library/CloudStorage/OneDrive-BertelsmannSE&Co.KGaA/Masterarbeit/20_data/613010/ps2400dpi150lpi/FC_FS23_S_ES0099_T_A_41L.p1.4c.C.tif\n",
      "/Users/frederic.birwe/Library/CloudStorage/OneDrive-BertelsmannSE&Co.KGaA/Masterarbeit/20_data/613010/ps2400dpi150lpi/FC_FS23_S_ES0037_T_NL_41L.p1 2.4c.Y.tif\n",
      "/Users/frederic.birwe/Library/CloudStorage/OneDrive-BertelsmannSE&Co.KGaA/Masterarbeit/20_data/613010/ps2400dpi150lpi/FC_FS23_S_ES0078_T_WCH_41L.p1.4c.C.tif\n",
      "/Users/frederic.birwe/Library/CloudStorage/OneDrive-BertelsmannSE&Co.KGaA/Masterarbeit/20_data/613010/ps2400dpi150lpi/FC_FS23_S_ES0105_T_D_Suffix_90_41L.p1.4c.Y.tif\n",
      "/Users/frederic.birwe/Library/CloudStorage/OneDrive-BertelsmannSE&Co.KGaA/Masterarbeit/20_data/613010/ps2400dpi150lpi/FC_FS23_S_ES0043_T_A_41L.p1.4c.Y.tif\n",
      "/Users/frederic.birwe/Library/CloudStorage/OneDrive-BertelsmannSE&Co.KGaA/Masterarbeit/20_data/613010/ps2400dpi150lpi/FC_FS23_S_ES0030_T_NL_41L.p1 2.4c.M.tif\n",
      "/Users/frederic.birwe/Library/CloudStorage/OneDrive-BertelsmannSE&Co.KGaA/Masterarbeit/20_data/613010/ps2400dpi150lpi/FC_FS23_S_ES0016_T_WCH_41L.p1.4c.C.tif\n"
     ]
    },
    {
     "name": "stderr",
     "output_type": "stream",
     "text": [
      " 76%|██████████████████████████▌        | 8708/11457 [00:25<00:10, 265.42it/s]"
     ]
    },
    {
     "name": "stdout",
     "output_type": "stream",
     "text": [
      "/Users/frederic.birwe/Library/CloudStorage/OneDrive-BertelsmannSE&Co.KGaA/Masterarbeit/20_data/613010/ps2400dpi150lpi/FC_FS23_S_ES0103_T_NL_41L.p1.4c.Y.tif\n",
      "/Users/frederic.birwe/Library/CloudStorage/OneDrive-BertelsmannSE&Co.KGaA/Masterarbeit/20_data/613010/ps2400dpi150lpi/FC_FS23_S_ES0073_T_D_41L.p1.4c.Y.tif\n",
      "/Users/frederic.birwe/Library/CloudStorage/OneDrive-BertelsmannSE&Co.KGaA/Masterarbeit/20_data/613010/ps2400dpi150lpi/FC_FS23_S_ES0026_T_WCH_41L.p1 2.4c.Y.tif\n",
      "/Users/frederic.birwe/Library/CloudStorage/OneDrive-BertelsmannSE&Co.KGaA/Masterarbeit/20_data/613010/ps2400dpi150lpi/FC_FS23_S_ES0010_T_NL_41L.p1.4c.M.tif\n",
      "/Users/frederic.birwe/Library/CloudStorage/OneDrive-BertelsmannSE&Co.KGaA/Masterarbeit/20_data/613010/ps2400dpi150lpi/FC_FS23_S_ES0044_T_F_41L.p1.4c.Y.tif\n",
      "/Users/frederic.birwe/Library/CloudStorage/OneDrive-BertelsmannSE&Co.KGaA/Masterarbeit/20_data/613010/ps2400dpi150lpi/FC_FS23_S_ES0098_T_WCH_41L.p1 2.4c.M.tif\n",
      "/Users/frederic.birwe/Library/CloudStorage/OneDrive-BertelsmannSE&Co.KGaA/Masterarbeit/20_data/613010/ps2400dpi150lpi/FC_FS23_S_ES0027_T_D_Suffix_90_41L.p1.4c.C.tif\n",
      "/Users/frederic.birwe/Library/CloudStorage/OneDrive-BertelsmannSE&Co.KGaA/Masterarbeit/20_data/613010/ps2400dpi150lpi/FC_FS23_S_ES0069_T_NL_41L.p1.4c.M.tif\n",
      "/Users/frederic.birwe/Library/CloudStorage/OneDrive-BertelsmannSE&Co.KGaA/Masterarbeit/20_data/613010/ps2400dpi150lpi/FC_FS23_S_ES0022_T_D_41L.p1.4c.Y.tif\n",
      "/Users/frederic.birwe/Library/CloudStorage/OneDrive-BertelsmannSE&Co.KGaA/Masterarbeit/20_data/613010/ps2400dpi150lpi/FC_FS23_S_ES0095_T_WCH_41L.p1.4c.Y.tif\n",
      "/Users/frederic.birwe/Library/CloudStorage/OneDrive-BertelsmannSE&Co.KGaA/Masterarbeit/20_data/613010/ps2400dpi150lpi/FC_FS23_S_ES0109_T_D_Suffix_90_41L.p1.4c.C.tif\n",
      "/Users/frederic.birwe/Library/CloudStorage/OneDrive-BertelsmannSE&Co.KGaA/Masterarbeit/20_data/613010/ps2400dpi150lpi/FC_FS23_S_ES0044_T_D_Suffix_90_41L.p1.4c.M.tif\n",
      "/Users/frederic.birwe/Library/CloudStorage/OneDrive-BertelsmannSE&Co.KGaA/Masterarbeit/20_data/613010/ps2400dpi150lpi/FC_FS23_S_ES0015_T_F_41L.p1.4c.Y.tif\n",
      "/Users/frederic.birwe/Library/CloudStorage/OneDrive-BertelsmannSE&Co.KGaA/Masterarbeit/20_data/613010/ps2400dpi150lpi/FC_FS23_S_ES0111_T_F_41L.p1 2.4c.M.tif\n",
      "/Users/frederic.birwe/Library/CloudStorage/OneDrive-BertelsmannSE&Co.KGaA/Masterarbeit/20_data/613010/ps2400dpi150lpi/FC_FS23_S_ES0006_T_NL_41L.p1 2.4c.Y.tif\n",
      "/Users/frederic.birwe/Library/CloudStorage/OneDrive-BertelsmannSE&Co.KGaA/Masterarbeit/20_data/613010/ps2400dpi150lpi/FC_FS23_S_ES0068_T_D_41L.p1.4c.M.tif\n",
      "/Users/frederic.birwe/Library/CloudStorage/OneDrive-BertelsmannSE&Co.KGaA/Masterarbeit/20_data/613010/ps2400dpi150lpi/FC_FS23_S_ES0053_T_WCH_41L.p1.4c.M.tif\n",
      "/Users/frederic.birwe/Library/CloudStorage/OneDrive-BertelsmannSE&Co.KGaA/Masterarbeit/20_data/613010/ps2400dpi150lpi/FC_FS23_S_ES0095_T_D_Suffix_90_41L.p1.4c.M.tif\n",
      "/Users/frederic.birwe/Library/CloudStorage/OneDrive-BertelsmannSE&Co.KGaA/Masterarbeit/20_data/613010/ps2400dpi150lpi/FC_FS23_S_ES0019_T_NL_41L.p1.4c.C.tif\n",
      "/Users/frederic.birwe/Library/CloudStorage/OneDrive-BertelsmannSE&Co.KGaA/Masterarbeit/20_data/613010/ps2400dpi150lpi/FC_FS23_S_ES0042_T_WCH_41L.p1 2.4c.C.tif\n",
      "/Users/frederic.birwe/Library/CloudStorage/OneDrive-BertelsmannSE&Co.KGaA/Masterarbeit/20_data/613010/ps2400dpi150lpi/FC_FS23_S_ES0062_T_D_Suffix_90_41L.p1.4c.C.tif\n",
      "/Users/frederic.birwe/Library/CloudStorage/OneDrive-BertelsmannSE&Co.KGaA/Masterarbeit/20_data/613010/ps2400dpi150lpi/FC_FS23_S_ES0060_T_NL_41L.p1.4c.C.tif\n",
      "/Users/frederic.birwe/Library/CloudStorage/OneDrive-BertelsmannSE&Co.KGaA/Masterarbeit/20_data/613010/ps2400dpi150lpi/FC_FS23_S_ES0039_T_D_41L.p1.4c.M.tif\n",
      "/Users/frederic.birwe/Library/CloudStorage/OneDrive-BertelsmannSE&Co.KGaA/Masterarbeit/20_data/613010/ps2400dpi150lpi/FC_FS23_S_ES0092_T_CH_41L.p1 2.4c.C.tif\n",
      "/Users/frederic.birwe/Library/CloudStorage/OneDrive-BertelsmannSE&Co.KGaA/Masterarbeit/20_data/613010/ps2400dpi150lpi/FC_FS23_S_ES0007_T_CH_41L.p1.4c.Y.tif\n",
      "/Users/frederic.birwe/Library/CloudStorage/OneDrive-BertelsmannSE&Co.KGaA/Masterarbeit/20_data/613010/ps2400dpi150lpi/FC_FS23_S_ES0080_T_D_41L.p1.4c.Y.tif\n",
      "/Users/frederic.birwe/Library/CloudStorage/OneDrive-BertelsmannSE&Co.KGaA/Masterarbeit/20_data/613010/ps2400dpi150lpi/FC_FS23_S_ES0035_T_CH_41L.p1.4c.M.tif\n",
      "/Users/frederic.birwe/Library/CloudStorage/OneDrive-BertelsmannSE&Co.KGaA/Masterarbeit/20_data/613010/ps2400dpi150lpi/FC_FS23_S_ES0023_T_A_41L.p1.4c.C.tif\n",
      "/Users/frederic.birwe/Library/CloudStorage/OneDrive-BertelsmannSE&Co.KGaA/Masterarbeit/20_data/613010/ps2400dpi150lpi/FC_FS23_S_ES0011_T_A_41L.p1.4c.M.tif\n",
      "/Users/frederic.birwe/Library/CloudStorage/OneDrive-BertelsmannSE&Co.KGaA/Masterarbeit/20_data/613010/ps2400dpi150lpi/FC_FS23_S_ES0072_T_A_41L.p1.4c.C.tif\n"
     ]
    },
    {
     "name": "stderr",
     "output_type": "stream",
     "text": [
      " 77%|██████████████████████████▊        | 8765/11457 [00:25<00:10, 263.04it/s]"
     ]
    },
    {
     "name": "stdout",
     "output_type": "stream",
     "text": [
      "/Users/frederic.birwe/Library/CloudStorage/OneDrive-BertelsmannSE&Co.KGaA/Masterarbeit/20_data/613010/ps2400dpi150lpi/FC_FS23_S_ES0040_T_A_41L.p1.4c.M.tif\n",
      "/Users/frederic.birwe/Library/CloudStorage/OneDrive-BertelsmannSE&Co.KGaA/Masterarbeit/20_data/613010/ps2400dpi150lpi/FC_FS23_S_ES0018_T_WCH_41L.p1 2.4c.Y.tif\n",
      "/Users/frederic.birwe/Library/CloudStorage/OneDrive-BertelsmannSE&Co.KGaA/Masterarbeit/20_data/613010/ps2400dpi150lpi/FC_FS23_S_ES0081_T_A_41L.p1.4c.C.tif\n",
      "/Users/frederic.birwe/Library/CloudStorage/OneDrive-BertelsmannSE&Co.KGaA/Masterarbeit/20_data/613010/ps2400dpi150lpi/FC_FS23_S_ES0039_T_D_Suffix_90_41L.p1.4c.C.tif\n",
      "/Users/frederic.birwe/Library/CloudStorage/OneDrive-BertelsmannSE&Co.KGaA/Masterarbeit/20_data/613010/ps2400dpi150lpi/FC_FS23_S_ES0022_T_NL_41L.p1.4c.Y.tif\n",
      "/Users/frederic.birwe/Library/CloudStorage/OneDrive-BertelsmannSE&Co.KGaA/Masterarbeit/20_data/613010/ps2400dpi150lpi/FC_FS23_S_ES0105_T_A_41L.p1.4c.C.tif\n",
      "/Users/frederic.birwe/Library/CloudStorage/OneDrive-BertelsmannSE&Co.KGaA/Masterarbeit/20_data/613010/ps2400dpi150lpi/FC_FS23_S_ES0051_T_NL_41L.p1.4c.M.tif\n",
      "/Users/frederic.birwe/Library/CloudStorage/OneDrive-BertelsmannSE&Co.KGaA/Masterarbeit/20_data/613010/ps2400dpi150lpi/FC_FS23_S_ES0098_T_A_41L.p1.4c.C.tif\n",
      "/Users/frederic.birwe/Library/CloudStorage/OneDrive-BertelsmannSE&Co.KGaA/Masterarbeit/20_data/613010/ps2400dpi150lpi/FC_FS23_S_ES0013_T_A_41L.p1.4c.Y.tif\n",
      "/Users/frederic.birwe/Library/CloudStorage/OneDrive-BertelsmannSE&Co.KGaA/Masterarbeit/20_data/613010/ps2400dpi150lpi/FC_FS23_S_ES0079_T_NL_41L.p1 2.4c.Y.tif\n",
      "/Users/frederic.birwe/Library/CloudStorage/OneDrive-BertelsmannSE&Co.KGaA/Masterarbeit/20_data/613010/ps2400dpi150lpi/FC_FS23_S_ES0042_T_A_41L.p1.4c.Y.tif\n",
      "/Users/frederic.birwe/Library/CloudStorage/OneDrive-BertelsmannSE&Co.KGaA/Masterarbeit/20_data/613010/ps2400dpi150lpi/FC_FS23_S_ES0028_T_NL_41L.p1.4c.M.tif\n",
      "/Users/frederic.birwe/Library/CloudStorage/OneDrive-BertelsmannSE&Co.KGaA/Masterarbeit/20_data/613010/ps2400dpi150lpi/FC_FS23_S_ES0058_T_NL_41L.p1.4c.C.tif\n",
      "/Users/frederic.birwe/Library/CloudStorage/OneDrive-BertelsmannSE&Co.KGaA/Masterarbeit/20_data/613010/ps2400dpi150lpi/FC_FS23_S_ES0008_T_A_41L.p1.4c.M.tif\n",
      "/Users/frederic.birwe/Library/CloudStorage/OneDrive-BertelsmannSE&Co.KGaA/Masterarbeit/20_data/613010/ps2400dpi150lpi/FC_FS23_S_ES0025_T_NL_41L.p1 2.4c.C.tif\n",
      "/Users/frederic.birwe/Library/CloudStorage/OneDrive-BertelsmannSE&Co.KGaA/Masterarbeit/20_data/613010/ps2400dpi150lpi/FC_FS23_S_ES0046_T_CH_41L.p1.4c.Y.tif\n",
      "/Users/frederic.birwe/Library/CloudStorage/OneDrive-BertelsmannSE&Co.KGaA/Masterarbeit/20_data/613010/ps2400dpi150lpi/FC_FS23_S_ES0059_T_A_41L.p1.4c.M.tif\n"
     ]
    },
    {
     "name": "stderr",
     "output_type": "stream",
     "text": [
      " 77%|██████████████████████████▊        | 8792/11457 [00:25<00:11, 224.60it/s]"
     ]
    },
    {
     "name": "stdout",
     "output_type": "stream",
     "text": [
      "/Users/frederic.birwe/Library/CloudStorage/OneDrive-BertelsmannSE&Co.KGaA/Masterarbeit/20_data/613010/ps2400dpi150lpi/FC_FS23_S_ES0021_T_NL_41L.p1.4c.C.tif\n",
      "/Users/frederic.birwe/Library/CloudStorage/OneDrive-BertelsmannSE&Co.KGaA/Masterarbeit/20_data/613010/ps2400dpi150lpi/FC_FS23_S_ES0071_T_D_41L.p1.4c.M.tif\n",
      "/Users/frederic.birwe/Library/CloudStorage/OneDrive-BertelsmannSE&Co.KGaA/Masterarbeit/20_data/613010/ps2400dpi150lpi/FC_FS23_S_ES0074_T_F_41L.p1.4c.C.tif\n",
      "/Users/frederic.birwe/Library/CloudStorage/OneDrive-BertelsmannSE&Co.KGaA/Masterarbeit/20_data/613010/ps2400dpi150lpi/FC_FS23_S_ES0035_T_WCH_41L.p1.4c.Y.tif\n",
      "/Users/frederic.birwe/Library/CloudStorage/OneDrive-BertelsmannSE&Co.KGaA/Masterarbeit/20_data/613010/ps2400dpi150lpi/FC_FS23_S_ES0091_T_WCH_41L.p1 2.4c.C.tif\n",
      "/Users/frederic.birwe/Library/CloudStorage/OneDrive-BertelsmannSE&Co.KGaA/Masterarbeit/20_data/613010/ps2400dpi150lpi/FC_FS23_S_ES0100_T_NL_41L.p1.4c.C.tif\n",
      "/Users/frederic.birwe/Library/CloudStorage/OneDrive-BertelsmannSE&Co.KGaA/Masterarbeit/20_data/613010/ps2400dpi150lpi/FC_FS23_S_ES0087_T_CH_41L.p1.4c.M.tif\n",
      "/Users/frederic.birwe/Library/CloudStorage/OneDrive-BertelsmannSE&Co.KGaA/Masterarbeit/20_data/613010/ps2400dpi150lpi/FC_FS23_S_ES0043_T_D_41L.p1.4c.C.tif\n",
      "/Users/frederic.birwe/Library/CloudStorage/OneDrive-BertelsmannSE&Co.KGaA/Masterarbeit/20_data/613010/ps2400dpi150lpi/FC_FS23_S_ES0046_T_F_41L.p1.4c.M.tif\n",
      "/Users/frederic.birwe/Library/CloudStorage/OneDrive-BertelsmannSE&Co.KGaA/Masterarbeit/20_data/613010/ps2400dpi150lpi/FC_FS23_S_ES0084_T_D_Suffix_90_41L.p1.4c.Y.tif\n",
      "/Users/frederic.birwe/Library/CloudStorage/OneDrive-BertelsmannSE&Co.KGaA/Masterarbeit/20_data/613010/ps2400dpi150lpi/FC_FS23_S_ES0010_T_D_Suffix_90_41L.p1.4c.Y.tif\n",
      "/Users/frederic.birwe/Library/CloudStorage/OneDrive-BertelsmannSE&Co.KGaA/Masterarbeit/20_data/613010/ps2400dpi150lpi/FC_FS23_S_ES0025_T_F_41L.p1.4c.C.tif\n",
      "/Users/frederic.birwe/Library/CloudStorage/OneDrive-BertelsmannSE&Co.KGaA/Masterarbeit/20_data/613010/ps2400dpi150lpi/FC_FS23_S_ES0020_T_D_41L.p1.4c.M.tif\n",
      "/Users/frederic.birwe/Library/CloudStorage/OneDrive-BertelsmannSE&Co.KGaA/Masterarbeit/20_data/613010/ps2400dpi150lpi/FC_FS23_S_ES0017_T_F_41L.p1.4c.M.tif\n",
      "/Users/frederic.birwe/Library/CloudStorage/OneDrive-BertelsmannSE&Co.KGaA/Masterarbeit/20_data/613010/ps2400dpi150lpi/FC_FS23_S_ES0069_T_WCH_41L.p1 2.4c.Y.tif\n",
      "/Users/frederic.birwe/Library/CloudStorage/OneDrive-BertelsmannSE&Co.KGaA/Masterarbeit/20_data/613010/ps2400dpi150lpi/FC_FS23_S_ES0012_T_D_41L.p1.4c.C.tif\n",
      "/Users/frederic.birwe/Library/CloudStorage/OneDrive-BertelsmannSE&Co.KGaA/Masterarbeit/20_data/613010/ps2400dpi150lpi/FC_FS23_S_ES0099_T_D_41L.p1.4c.Y.tif\n"
     ]
    },
    {
     "name": "stderr",
     "output_type": "stream",
     "text": [
      " 77%|██████████████████████████▉        | 8838/11457 [00:26<00:13, 199.15it/s]"
     ]
    },
    {
     "name": "stdout",
     "output_type": "stream",
     "text": [
      "/Users/frederic.birwe/Library/CloudStorage/OneDrive-BertelsmannSE&Co.KGaA/Masterarbeit/20_data/613010/ps2400dpi150lpi/FC_FS23_S_ES0098_T_CH_41L.p1 2.4c.C.tif\n",
      "/Users/frederic.birwe/Library/CloudStorage/OneDrive-BertelsmannSE&Co.KGaA/Masterarbeit/20_data/613010/ps2400dpi150lpi/FC_FS23_S_ES0083_T_WCH_41L.p1.4c.Y.tif\n",
      "/Users/frederic.birwe/Library/CloudStorage/OneDrive-BertelsmannSE&Co.KGaA/Masterarbeit/20_data/613010/ps2400dpi150lpi/FC_FS23_S_ES0055_T_D_Suffix_90_41L.p1.4c.Y.tif\n",
      "/Users/frederic.birwe/Library/CloudStorage/OneDrive-BertelsmannSE&Co.KGaA/Masterarbeit/20_data/613010/ps2400dpi150lpi/FC_FS23_S_ES0109_T_NL_41L.p1.4c.M.tif\n",
      "/Users/frederic.birwe/Library/CloudStorage/OneDrive-BertelsmannSE&Co.KGaA/Masterarbeit/20_data/613010/ps2400dpi150lpi/FC_FS23_S_ES0106_T_D_41L.p1.4c.M.tif\n",
      "/Users/frederic.birwe/Library/CloudStorage/OneDrive-BertelsmannSE&Co.KGaA/Masterarbeit/20_data/613010/ps2400dpi150lpi/FC_FS23_S_ES0103_T_F_41L.p1.4c.C.tif\n",
      "/Users/frederic.birwe/Library/CloudStorage/OneDrive-BertelsmannSE&Co.KGaA/Masterarbeit/20_data/613010/ps2400dpi150lpi/FC_FS23_S_ES0004_T_CH_41L.p1.4c.C.tif\n",
      "/Users/frederic.birwe/Library/CloudStorage/OneDrive-BertelsmannSE&Co.KGaA/Masterarbeit/20_data/613010/ps2400dpi150lpi/FC_FS23_S_ES0087_T_F_41L.p1.4c.C.tif\n",
      "/Users/frederic.birwe/Library/CloudStorage/OneDrive-BertelsmannSE&Co.KGaA/Masterarbeit/20_data/613010/ps2400dpi150lpi/FC_FS23_S_ES0082_T_D_41L.p1.4c.M.tif\n",
      "/Users/frederic.birwe/Library/CloudStorage/OneDrive-BertelsmannSE&Co.KGaA/Masterarbeit/20_data/613010/ps2400dpi150lpi/FC_FS23_S_ES0090_T_NL_41L.p1.4c.Y.tif\n",
      "/Users/frederic.birwe/Library/CloudStorage/OneDrive-BertelsmannSE&Co.KGaA/Masterarbeit/20_data/613010/ps2400dpi150lpi/FC_FS23_S_ES0036_T_D_Suffix_90_41L.p1.4c.M.tif\n",
      "/Users/frederic.birwe/Library/CloudStorage/OneDrive-BertelsmannSE&Co.KGaA/Masterarbeit/20_data/613010/ps2400dpi150lpi/FC_FS23_S_ES0098_T_CH_41L.p1 2.4c.Y.tif\n",
      "/Users/frederic.birwe/Library/CloudStorage/OneDrive-BertelsmannSE&Co.KGaA/Masterarbeit/20_data/613010/ps2400dpi150lpi/FC_FS23_S_ES0083_T_WCH_41L.p1.4c.C.tif\n",
      "/Users/frederic.birwe/Library/CloudStorage/OneDrive-BertelsmannSE&Co.KGaA/Masterarbeit/20_data/613010/ps2400dpi150lpi/FC_FS23_S_ES0055_T_D_Suffix_90_41L.p1.4c.C.tif\n",
      "/Users/frederic.birwe/Library/CloudStorage/OneDrive-BertelsmannSE&Co.KGaA/Masterarbeit/20_data/613010/ps2400dpi150lpi/FC_FS23_S_ES0058_T_D_41L.p1.4c.M.tif\n",
      "/Users/frederic.birwe/Library/CloudStorage/OneDrive-BertelsmannSE&Co.KGaA/Masterarbeit/20_data/613010/ps2400dpi150lpi/FC_FS23_S_ES0103_T_F_41L.p1.4c.Y.tif\n",
      "/Users/frederic.birwe/Library/CloudStorage/OneDrive-BertelsmannSE&Co.KGaA/Masterarbeit/20_data/613010/ps2400dpi150lpi/FC_FS23_S_ES0004_T_CH_41L.p1.4c.Y.tif\n",
      "/Users/frederic.birwe/Library/CloudStorage/OneDrive-BertelsmannSE&Co.KGaA/Masterarbeit/20_data/613010/ps2400dpi150lpi/FC_FS23_S_ES0087_T_F_41L.p1.4c.Y.tif\n",
      "/Users/frederic.birwe/Library/CloudStorage/OneDrive-BertelsmannSE&Co.KGaA/Masterarbeit/20_data/613010/ps2400dpi150lpi/FC_FS23_S_ES0009_T_D_41L.p1.4c.M.tif\n",
      "/Users/frederic.birwe/Library/CloudStorage/OneDrive-BertelsmannSE&Co.KGaA/Masterarbeit/20_data/613010/ps2400dpi150lpi/FC_FS23_S_ES0090_T_NL_41L.p1.4c.C.tif\n"
     ]
    },
    {
     "name": "stderr",
     "output_type": "stream",
     "text": [
      " 77%|███████████████████████████        | 8879/11457 [00:26<00:13, 188.43it/s]"
     ]
    },
    {
     "name": "stdout",
     "output_type": "stream",
     "text": [
      "/Users/frederic.birwe/Library/CloudStorage/OneDrive-BertelsmannSE&Co.KGaA/Masterarbeit/20_data/613010/ps2400dpi150lpi/FC_FS23_S_ES0013_T_NL_41L.p1.4c.M.tif\n",
      "/Users/frederic.birwe/Library/CloudStorage/OneDrive-BertelsmannSE&Co.KGaA/Masterarbeit/20_data/613010/ps2400dpi150lpi/FC_FS23_S_ES0091_T_WCH_41L.p1 2.4c.Y.tif\n",
      "/Users/frederic.birwe/Library/CloudStorage/OneDrive-BertelsmannSE&Co.KGaA/Masterarbeit/20_data/613010/ps2400dpi150lpi/FC_FS23_S_ES0035_T_WCH_41L.p1.4c.C.tif\n",
      "/Users/frederic.birwe/Library/CloudStorage/OneDrive-BertelsmannSE&Co.KGaA/Masterarbeit/20_data/613010/ps2400dpi150lpi/FC_FS23_S_ES0074_T_F_41L.p1.4c.Y.tif\n",
      "/Users/frederic.birwe/Library/CloudStorage/OneDrive-BertelsmannSE&Co.KGaA/Masterarbeit/20_data/613010/ps2400dpi150lpi/FC_FS23_S_ES0100_T_NL_41L.p1.4c.Y.tif\n",
      "/Users/frederic.birwe/Library/CloudStorage/OneDrive-BertelsmannSE&Co.KGaA/Masterarbeit/20_data/613010/ps2400dpi150lpi/FC_FS23_S_ES0043_T_D_41L.p1.4c.Y.tif\n",
      "/Users/frederic.birwe/Library/CloudStorage/OneDrive-BertelsmannSE&Co.KGaA/Masterarbeit/20_data/613010/ps2400dpi150lpi/FC_FS23_S_ES0084_T_WCH_41L.p1.4c.M.tif\n",
      "/Users/frederic.birwe/Library/CloudStorage/OneDrive-BertelsmannSE&Co.KGaA/Masterarbeit/20_data/613010/ps2400dpi150lpi/FC_FS23_S_ES0025_T_F_41L.p1.4c.Y.tif\n",
      "/Users/frederic.birwe/Library/CloudStorage/OneDrive-BertelsmannSE&Co.KGaA/Masterarbeit/20_data/613010/ps2400dpi150lpi/FC_FS23_S_ES0084_T_D_Suffix_90_41L.p1.4c.C.tif\n",
      "/Users/frederic.birwe/Library/CloudStorage/OneDrive-BertelsmannSE&Co.KGaA/Masterarbeit/20_data/613010/ps2400dpi150lpi/FC_FS23_S_ES0010_T_D_Suffix_90_41L.p1.4c.C.tif\n",
      "/Users/frederic.birwe/Library/CloudStorage/OneDrive-BertelsmannSE&Co.KGaA/Masterarbeit/20_data/613010/ps2400dpi150lpi/FC_FS23_S_ES0069_T_WCH_41L.p1 2.4c.C.tif\n",
      "/Users/frederic.birwe/Library/CloudStorage/OneDrive-BertelsmannSE&Co.KGaA/Masterarbeit/20_data/613010/ps2400dpi150lpi/FC_FS23_S_ES0012_T_D_41L.p1.4c.Y.tif\n",
      "/Users/frederic.birwe/Library/CloudStorage/OneDrive-BertelsmannSE&Co.KGaA/Masterarbeit/20_data/613010/ps2400dpi150lpi/FC_FS23_S_ES0099_T_NL_41L.p1.4c.M.tif\n",
      "/Users/frederic.birwe/Library/CloudStorage/OneDrive-BertelsmannSE&Co.KGaA/Masterarbeit/20_data/613010/ps2400dpi150lpi/FC_FS23_S_ES0073_T_D_Suffix_90_41L.p1.4c.M.tif\n",
      "/Users/frederic.birwe/Library/CloudStorage/OneDrive-BertelsmannSE&Co.KGaA/Masterarbeit/20_data/613010/ps2400dpi150lpi/FC_FS23_S_ES0099_T_D_41L.p1.4c.C.tif\n",
      "/Users/frederic.birwe/Library/CloudStorage/OneDrive-BertelsmannSE&Co.KGaA/Masterarbeit/20_data/613010/ps2400dpi150lpi/FC_FS23_S_ES0058_T_NL_41L.p1.4c.Y.tif\n",
      "/Users/frederic.birwe/Library/CloudStorage/OneDrive-BertelsmannSE&Co.KGaA/Masterarbeit/20_data/613010/ps2400dpi150lpi/FC_FS23_S_ES0083_T_A_41L.p1.4c.M.tif\n",
      "/Users/frederic.birwe/Library/CloudStorage/OneDrive-BertelsmannSE&Co.KGaA/Masterarbeit/20_data/613010/ps2400dpi150lpi/FC_FS23_S_ES0022_T_NL_41L.p1 2.4c.M.tif\n",
      "/Users/frederic.birwe/Library/CloudStorage/OneDrive-BertelsmannSE&Co.KGaA/Masterarbeit/20_data/613010/ps2400dpi150lpi/FC_FS23_S_ES0025_T_NL_41L.p1 2.4c.Y.tif\n"
     ]
    },
    {
     "name": "stderr",
     "output_type": "stream",
     "text": [
      " 78%|███████████████████████████▏       | 8899/11457 [00:26<00:13, 184.09it/s]"
     ]
    },
    {
     "name": "stdout",
     "output_type": "stream",
     "text": [
      "/Users/frederic.birwe/Library/CloudStorage/OneDrive-BertelsmannSE&Co.KGaA/Masterarbeit/20_data/613010/ps2400dpi150lpi/FC_FS23_S_ES0046_T_CH_41L.p1.4c.C.tif\n",
      "/Users/frederic.birwe/Library/CloudStorage/OneDrive-BertelsmannSE&Co.KGaA/Masterarbeit/20_data/613010/ps2400dpi150lpi/FC_FS23_S_ES0107_T_A_41L.p1.4c.M.tif\n",
      "/Users/frederic.birwe/Library/CloudStorage/OneDrive-BertelsmannSE&Co.KGaA/Masterarbeit/20_data/613010/ps2400dpi150lpi/FC_FS23_S_ES0021_T_NL_41L.p1.4c.Y.tif\n",
      "/Users/frederic.birwe/Library/CloudStorage/OneDrive-BertelsmannSE&Co.KGaA/Masterarbeit/20_data/613010/ps2400dpi150lpi/FC_FS23_S_ES0021_T_A_41L.p1.4c.M.tif\n",
      "/Users/frederic.birwe/Library/CloudStorage/OneDrive-BertelsmannSE&Co.KGaA/Masterarbeit/20_data/613010/ps2400dpi150lpi/FC_FS23_S_ES0098_T_A_41L.p1.4c.Y.tif\n",
      "/Users/frederic.birwe/Library/CloudStorage/OneDrive-BertelsmannSE&Co.KGaA/Masterarbeit/20_data/613010/ps2400dpi150lpi/FC_FS23_S_ES0013_T_A_41L.p1.4c.C.tif\n",
      "/Users/frederic.birwe/Library/CloudStorage/OneDrive-BertelsmannSE&Co.KGaA/Masterarbeit/20_data/613010/ps2400dpi150lpi/FC_FS23_S_ES0106_T_D_Suffix_90_41L.p1.4c.M.tif\n",
      "/Users/frederic.birwe/Library/CloudStorage/OneDrive-BertelsmannSE&Co.KGaA/Masterarbeit/20_data/613010/ps2400dpi150lpi/FC_FS23_S_ES0079_T_NL_41L.p1 2.4c.C.tif\n",
      "/Users/frederic.birwe/Library/CloudStorage/OneDrive-BertelsmannSE&Co.KGaA/Masterarbeit/20_data/613010/ps2400dpi150lpi/FC_FS23_S_ES0070_T_A_41L.p1.4c.M.tif\n",
      "/Users/frederic.birwe/Library/CloudStorage/OneDrive-BertelsmannSE&Co.KGaA/Masterarbeit/20_data/613010/ps2400dpi150lpi/FC_FS23_S_ES0042_T_A_41L.p1.4c.C.tif\n",
      "/Users/frederic.birwe/Library/CloudStorage/OneDrive-BertelsmannSE&Co.KGaA/Masterarbeit/20_data/613010/ps2400dpi150lpi/FC_FS23_S_ES0028_T_D_Suffix_90_41L.p1.4c.M.tif\n",
      "/Users/frederic.birwe/Library/CloudStorage/OneDrive-BertelsmannSE&Co.KGaA/Masterarbeit/20_data/613010/ps2400dpi150lpi/FC_FS23_S_ES0038_T_A_41L.p1.4c.M.tif\n",
      "/Users/frederic.birwe/Library/CloudStorage/OneDrive-BertelsmannSE&Co.KGaA/Masterarbeit/20_data/613010/ps2400dpi150lpi/FC_FS23_S_ES0081_T_A_41L.p1.4c.Y.tif\n",
      "/Users/frederic.birwe/Library/CloudStorage/OneDrive-BertelsmannSE&Co.KGaA/Masterarbeit/20_data/613010/ps2400dpi150lpi/FC_FS23_S_ES0039_T_D_Suffix_90_41L.p1.4c.Y.tif\n",
      "/Users/frederic.birwe/Library/CloudStorage/OneDrive-BertelsmannSE&Co.KGaA/Masterarbeit/20_data/613010/ps2400dpi150lpi/FC_FS23_S_ES0018_T_WCH_41L.p1 2.4c.C.tif\n",
      "/Users/frederic.birwe/Library/CloudStorage/OneDrive-BertelsmannSE&Co.KGaA/Masterarbeit/20_data/613010/ps2400dpi150lpi/FC_FS23_S_ES0021_T_CH_41L.p1 2.4c.M.tif\n"
     ]
    },
    {
     "name": "stderr",
     "output_type": "stream",
     "text": [
      " 78%|███████████████████████████▎       | 8938/11457 [00:26<00:14, 179.79it/s]"
     ]
    },
    {
     "name": "stdout",
     "output_type": "stream",
     "text": [
      "/Users/frederic.birwe/Library/CloudStorage/OneDrive-BertelsmannSE&Co.KGaA/Masterarbeit/20_data/613010/ps2400dpi150lpi/FC_FS23_S_ES0022_T_NL_41L.p1.4c.C.tif\n",
      "/Users/frederic.birwe/Library/CloudStorage/OneDrive-BertelsmannSE&Co.KGaA/Masterarbeit/20_data/613010/ps2400dpi150lpi/FC_FS23_S_ES0069_T_A_41L.p1.4c.M.tif\n",
      "/Users/frederic.birwe/Library/CloudStorage/OneDrive-BertelsmannSE&Co.KGaA/Masterarbeit/20_data/613010/ps2400dpi150lpi/FC_FS23_S_ES0028_T_NL_41L.p1 2.4c.M.tif\n",
      "/Users/frederic.birwe/Library/CloudStorage/OneDrive-BertelsmannSE&Co.KGaA/Masterarbeit/20_data/613010/ps2400dpi150lpi/FC_FS23_S_ES0105_T_A_41L.p1.4c.Y.tif\n",
      "/Users/frederic.birwe/Library/CloudStorage/OneDrive-BertelsmannSE&Co.KGaA/Masterarbeit/20_data/613010/ps2400dpi150lpi/FC_FS23_S_ES0023_T_A_41L.p1.4c.Y.tif\n",
      "/Users/frederic.birwe/Library/CloudStorage/OneDrive-BertelsmannSE&Co.KGaA/Masterarbeit/20_data/613010/ps2400dpi150lpi/FC_FS23_S_ES0052_T_NL_41L.p1.4c.M.tif\n",
      "/Users/frederic.birwe/Library/CloudStorage/OneDrive-BertelsmannSE&Co.KGaA/Masterarbeit/20_data/613010/ps2400dpi150lpi/FC_FS23_S_ES0072_T_A_41L.p1.4c.Y.tif\n",
      "/Users/frederic.birwe/Library/CloudStorage/OneDrive-BertelsmannSE&Co.KGaA/Masterarbeit/20_data/613010/ps2400dpi150lpi/FC_FS23_S_ES0006_T_NL_41L.p1 2.4c.C.tif\n",
      "/Users/frederic.birwe/Library/CloudStorage/OneDrive-BertelsmannSE&Co.KGaA/Masterarbeit/20_data/613010/ps2400dpi150lpi/FC_FS23_S_ES0019_T_NL_41L.p1.4c.Y.tif\n",
      "/Users/frederic.birwe/Library/CloudStorage/OneDrive-BertelsmannSE&Co.KGaA/Masterarbeit/20_data/613010/ps2400dpi150lpi/FC_FS23_S_ES0042_T_WCH_41L.p1 2.4c.Y.tif\n",
      "/Users/frederic.birwe/Library/CloudStorage/OneDrive-BertelsmannSE&Co.KGaA/Masterarbeit/20_data/613010/ps2400dpi150lpi/FC_FS23_S_ES0095_T_CH_41L.p1 2.4c.M.tif\n",
      "/Users/frederic.birwe/Library/CloudStorage/OneDrive-BertelsmannSE&Co.KGaA/Masterarbeit/20_data/613010/ps2400dpi150lpi/FC_FS23_S_ES0092_T_WCH_41L.p1.4c.M.tif\n",
      "/Users/frederic.birwe/Library/CloudStorage/OneDrive-BertelsmannSE&Co.KGaA/Masterarbeit/20_data/613010/ps2400dpi150lpi/FC_FS23_S_ES0108_T_F_41L.p1 2.4c.M.tif\n",
      "/Users/frederic.birwe/Library/CloudStorage/OneDrive-BertelsmannSE&Co.KGaA/Masterarbeit/20_data/613010/ps2400dpi150lpi/FC_FS23_S_ES0062_T_D_Suffix_90_41L.p1.4c.Y.tif\n"
     ]
    },
    {
     "name": "stderr",
     "output_type": "stream",
     "text": [
      " 78%|███████████████████████████▍       | 8980/11457 [00:26<00:13, 177.16it/s]"
     ]
    },
    {
     "name": "stdout",
     "output_type": "stream",
     "text": [
      "/Users/frederic.birwe/Library/CloudStorage/OneDrive-BertelsmannSE&Co.KGaA/Masterarbeit/20_data/613010/ps2400dpi150lpi/FC_FS23_S_ES0060_T_NL_41L.p1.4c.Y.tif\n",
      "/Users/frederic.birwe/Library/CloudStorage/OneDrive-BertelsmannSE&Co.KGaA/Masterarbeit/20_data/613010/ps2400dpi150lpi/FC_FS23_S_ES0092_T_CH_41L.p1 2.4c.Y.tif\n",
      "/Users/frederic.birwe/Library/CloudStorage/OneDrive-BertelsmannSE&Co.KGaA/Masterarbeit/20_data/613010/ps2400dpi150lpi/FC_FS23_S_ES0080_T_D_41L.p1.4c.C.tif\n",
      "/Users/frederic.birwe/Library/CloudStorage/OneDrive-BertelsmannSE&Co.KGaA/Masterarbeit/20_data/613010/ps2400dpi150lpi/FC_FS23_S_ES0007_T_CH_41L.p1.4c.C.tif\n",
      "/Users/frederic.birwe/Library/CloudStorage/OneDrive-BertelsmannSE&Co.KGaA/Masterarbeit/20_data/613010/ps2400dpi150lpi/FC_FS23_S_ES0103_T_NL_41L.p1.4c.C.tif\n",
      "/Users/frederic.birwe/Library/CloudStorage/OneDrive-BertelsmannSE&Co.KGaA/Masterarbeit/20_data/613010/ps2400dpi150lpi/FC_FS23_S_ES0084_T_CH_41L.p1.4c.M.tif\n",
      "/Users/frederic.birwe/Library/CloudStorage/OneDrive-BertelsmannSE&Co.KGaA/Masterarbeit/20_data/613010/ps2400dpi150lpi/FC_FS23_S_ES0077_T_CH_41L.p1.4c.M.tif\n",
      "/Users/frederic.birwe/Library/CloudStorage/OneDrive-BertelsmannSE&Co.KGaA/Masterarbeit/20_data/613010/ps2400dpi150lpi/FC_FS23_S_ES0073_T_D_41L.p1.4c.C.tif\n",
      "/Users/frederic.birwe/Library/CloudStorage/OneDrive-BertelsmannSE&Co.KGaA/Masterarbeit/20_data/613010/ps2400dpi150lpi/FC_FS23_S_ES0076_T_F_41L.p1.4c.M.tif\n",
      "/Users/frederic.birwe/Library/CloudStorage/OneDrive-BertelsmannSE&Co.KGaA/Masterarbeit/20_data/613010/ps2400dpi150lpi/FC_FS23_S_ES0041_T_D_41L.p1.4c.M.tif\n",
      "/Users/frederic.birwe/Library/CloudStorage/OneDrive-BertelsmannSE&Co.KGaA/Masterarbeit/20_data/613010/ps2400dpi150lpi/FC_FS23_S_ES0044_T_F_41L.p1.4c.C.tif\n",
      "/Users/frederic.birwe/Library/CloudStorage/OneDrive-BertelsmannSE&Co.KGaA/Masterarbeit/20_data/613010/ps2400dpi150lpi/FC_FS23_S_ES0026_T_WCH_41L.p1 2.4c.C.tif\n",
      "/Users/frederic.birwe/Library/CloudStorage/OneDrive-BertelsmannSE&Co.KGaA/Masterarbeit/20_data/613010/ps2400dpi150lpi/FC_FS23_S_ES0022_T_D_41L.p1.4c.C.tif\n",
      "/Users/frederic.birwe/Library/CloudStorage/OneDrive-BertelsmannSE&Co.KGaA/Masterarbeit/20_data/613010/ps2400dpi150lpi/FC_FS23_S_ES0095_T_WCH_41L.p1.4c.C.tif\n",
      "/Users/frederic.birwe/Library/CloudStorage/OneDrive-BertelsmannSE&Co.KGaA/Masterarbeit/20_data/613010/ps2400dpi150lpi/FC_FS23_S_ES0027_T_D_Suffix_90_41L.p1.4c.Y.tif\n",
      "/Users/frederic.birwe/Library/CloudStorage/OneDrive-BertelsmannSE&Co.KGaA/Masterarbeit/20_data/613010/ps2400dpi150lpi/FC_FS23_S_ES0109_T_D_Suffix_90_41L.p1.4c.Y.tif\n",
      "/Users/frederic.birwe/Library/CloudStorage/OneDrive-BertelsmannSE&Co.KGaA/Masterarbeit/20_data/613010/ps2400dpi150lpi/FC_FS23_S_ES0015_T_F_41L.p1.4c.C.tif\n",
      "/Users/frederic.birwe/Library/CloudStorage/OneDrive-BertelsmannSE&Co.KGaA/Masterarbeit/20_data/613010/ps2400dpi150lpi/FC_FS23_S_ES0010_T_D_41L.p1.4c.M.tif\n",
      "/Users/frederic.birwe/Library/CloudStorage/OneDrive-BertelsmannSE&Co.KGaA/Masterarbeit/20_data/613010/ps2400dpi150lpi/FC_FS23_S_ES0012_T_A_41L.p1.4c.C.tif\n",
      "/Users/frederic.birwe/Library/CloudStorage/OneDrive-BertelsmannSE&Co.KGaA/Masterarbeit/20_data/613010/ps2400dpi150lpi/FC_FS23_S_ES0066_T_WCH_41L.p1.4c.M.tif\n"
     ]
    },
    {
     "name": "stderr",
     "output_type": "stream",
     "text": [
      " 79%|███████████████████████████▌       | 9020/11457 [00:27<00:13, 185.25it/s]"
     ]
    },
    {
     "name": "stdout",
     "output_type": "stream",
     "text": [
      "/Users/frederic.birwe/Library/CloudStorage/OneDrive-BertelsmannSE&Co.KGaA/Masterarbeit/20_data/613010/ps2400dpi150lpi/FC_FS23_S_ES0099_T_A_41L.p1.4c.Y.tif\n",
      "/Users/frederic.birwe/Library/CloudStorage/OneDrive-BertelsmannSE&Co.KGaA/Masterarbeit/20_data/613010/ps2400dpi150lpi/FC_FS23_S_ES0029_T_WCH_41L.p1 2.4c.C.tif\n",
      "/Users/frederic.birwe/Library/CloudStorage/OneDrive-BertelsmannSE&Co.KGaA/Masterarbeit/20_data/613010/ps2400dpi150lpi/FC_FS23_S_ES0078_T_WCH_41L.p1.4c.Y.tif\n",
      "/Users/frederic.birwe/Library/CloudStorage/OneDrive-BertelsmannSE&Co.KGaA/Masterarbeit/20_data/613010/ps2400dpi150lpi/FC_FS23_S_ES0037_T_NL_41L.p1 2.4c.C.tif\n",
      "/Users/frederic.birwe/Library/CloudStorage/OneDrive-BertelsmannSE&Co.KGaA/Masterarbeit/20_data/613010/ps2400dpi150lpi/FC_FS23_S_ES0020_T_A_41L.p1.4c.M.tif\n",
      "/Users/frederic.birwe/Library/CloudStorage/OneDrive-BertelsmannSE&Co.KGaA/Masterarbeit/20_data/613010/ps2400dpi150lpi/FC_FS23_S_ES0033_T_CH_41L.p1.4c.M.tif\n",
      "/Users/frederic.birwe/Library/CloudStorage/OneDrive-BertelsmannSE&Co.KGaA/Masterarbeit/20_data/613010/ps2400dpi150lpi/FC_FS23_S_ES0105_T_D_Suffix_90_41L.p1.4c.C.tif\n",
      "/Users/frederic.birwe/Library/CloudStorage/OneDrive-BertelsmannSE&Co.KGaA/Masterarbeit/20_data/613010/ps2400dpi150lpi/FC_FS23_S_ES0048_T_D_Suffix_90_41L.p1.4c.M.tif\n",
      "/Users/frederic.birwe/Library/CloudStorage/OneDrive-BertelsmannSE&Co.KGaA/Masterarbeit/20_data/613010/ps2400dpi150lpi/FC_FS23_S_ES0008_T_WCH_41L.p1.4c.M.tif\n",
      "/Users/frederic.birwe/Library/CloudStorage/OneDrive-BertelsmannSE&Co.KGaA/Masterarbeit/20_data/613010/ps2400dpi150lpi/FC_FS23_S_ES0043_T_A_41L.p1.4c.C.tif\n",
      "/Users/frederic.birwe/Library/CloudStorage/OneDrive-BertelsmannSE&Co.KGaA/Masterarbeit/20_data/613010/ps2400dpi150lpi/FC_FS23_S_ES0071_T_A_41L.p1.4c.M.tif\n",
      "/Users/frederic.birwe/Library/CloudStorage/OneDrive-BertelsmannSE&Co.KGaA/Masterarbeit/20_data/613010/ps2400dpi150lpi/FC_FS23_S_ES0016_T_WCH_41L.p1.4c.Y.tif\n",
      "/Users/frederic.birwe/Library/CloudStorage/OneDrive-BertelsmannSE&Co.KGaA/Masterarbeit/20_data/613010/ps2400dpi150lpi/FC_FS23_S_ES0082_T_A_41L.p1.4c.M.tif\n",
      "/Users/frederic.birwe/Library/CloudStorage/OneDrive-BertelsmannSE&Co.KGaA/Masterarbeit/20_data/613010/ps2400dpi150lpi/FC_FS23_S_ES0024_T_NL_41L.p1.4c.Y.tif\n",
      "/Users/frederic.birwe/Library/CloudStorage/OneDrive-BertelsmannSE&Co.KGaA/Masterarbeit/20_data/613010/ps2400dpi150lpi/FC_FS23_S_ES0043_T_CH_41L.p1.4c.C.tif\n",
      "/Users/frederic.birwe/Library/CloudStorage/OneDrive-BertelsmannSE&Co.KGaA/Masterarbeit/20_data/613010/ps2400dpi150lpi/FC_FS23_S_ES0099_T_D_Suffix_90_41L.p1.4c.M.tif\n",
      "/Users/frederic.birwe/Library/CloudStorage/OneDrive-BertelsmannSE&Co.KGaA/Masterarbeit/20_data/613010/ps2400dpi150lpi/FC_FS23_S_ES0106_T_A_41L.p1.4c.M.tif\n",
      "/Users/frederic.birwe/Library/CloudStorage/OneDrive-BertelsmannSE&Co.KGaA/Masterarbeit/20_data/613010/ps2400dpi150lpi/FC_FS23_S_ES0061_T_WCH_41L.p1.4c.C.tif\n",
      "/Users/frederic.birwe/Library/CloudStorage/OneDrive-BertelsmannSE&Co.KGaA/Masterarbeit/20_data/613010/ps2400dpi150lpi/FC_FS23_S_ES0042_T_D_41L.p1.4c.Y.tif\n"
     ]
    },
    {
     "name": "stderr",
     "output_type": "stream",
     "text": [
      " 79%|███████████████████████████▋       | 9058/11457 [00:27<00:14, 169.28it/s]"
     ]
    },
    {
     "name": "stdout",
     "output_type": "stream",
     "text": [
      "/Users/frederic.birwe/Library/CloudStorage/OneDrive-BertelsmannSE&Co.KGaA/Masterarbeit/20_data/613010/ps2400dpi150lpi/FC_FS23_S_ES0049_T_F_41L.p1 2.4c.M.tif\n",
      "/Users/frederic.birwe/Library/CloudStorage/OneDrive-BertelsmannSE&Co.KGaA/Masterarbeit/20_data/613010/ps2400dpi150lpi/FC_FS23_S_ES0105_T_NL_41L.p1.4c.Y.tif\n",
      "/Users/frederic.birwe/Library/CloudStorage/OneDrive-BertelsmannSE&Co.KGaA/Masterarbeit/20_data/613010/ps2400dpi150lpi/FC_FS23_S_ES0098_T_D_41L.p1.4c.C.tif\n",
      "/Users/frederic.birwe/Library/CloudStorage/OneDrive-BertelsmannSE&Co.KGaA/Masterarbeit/20_data/613010/ps2400dpi150lpi/FC_FS23_S_ES0087_T_D_Suffix_90_41L.p1.4c.M.tif\n",
      "/Users/frederic.birwe/Library/CloudStorage/OneDrive-BertelsmannSE&Co.KGaA/Masterarbeit/20_data/613010/ps2400dpi150lpi/FC_FS23_S_ES0019_T_NL_41L.p1 2.4c.M.tif\n",
      "/Users/frederic.birwe/Library/CloudStorage/OneDrive-BertelsmannSE&Co.KGaA/Masterarbeit/20_data/613010/ps2400dpi150lpi/FC_FS23_S_ES0013_T_D_Suffix_90_41L.p1.4c.M.tif\n",
      "/Users/frederic.birwe/Library/CloudStorage/OneDrive-BertelsmannSE&Co.KGaA/Masterarbeit/20_data/613010/ps2400dpi150lpi/FC_FS23_S_ES0013_T_D_41L.p1.4c.Y.tif\n",
      "/Users/frederic.birwe/Library/CloudStorage/OneDrive-BertelsmannSE&Co.KGaA/Masterarbeit/20_data/613010/ps2400dpi150lpi/FC_FS23_S_ES0024_T_F_41L.p1.4c.Y.tif\n",
      "/Users/frederic.birwe/Library/CloudStorage/OneDrive-BertelsmannSE&Co.KGaA/Masterarbeit/20_data/613010/ps2400dpi150lpi/FC_FS23_S_ES0016_T_NL_41L.p1.4c.M.tif\n",
      "/Users/frederic.birwe/Library/CloudStorage/OneDrive-BertelsmannSE&Co.KGaA/Masterarbeit/20_data/613010/ps2400dpi150lpi/FC_FS23_S_ES0017_T_CH_41L.p1 2.4c.Y.tif\n",
      "/Users/frederic.birwe/Library/CloudStorage/OneDrive-BertelsmannSE&Co.KGaA/Masterarbeit/20_data/613010/ps2400dpi150lpi/FC_FS23_S_ES0027_T_F_41L.p1 2.4c.M.tif\n",
      "/Users/frederic.birwe/Library/CloudStorage/OneDrive-BertelsmannSE&Co.KGaA/Masterarbeit/20_data/613010/ps2400dpi150lpi/FC_FS23_S_ES0070_T_D_Suffix_90_41L.p1.4c.C.tif\n",
      "/Users/frederic.birwe/Library/CloudStorage/OneDrive-BertelsmannSE&Co.KGaA/Masterarbeit/20_data/613010/ps2400dpi150lpi/FC_FS23_S_ES0066_T_NL_41L.p1.4c.C.tif\n",
      "/Users/frederic.birwe/Library/CloudStorage/OneDrive-BertelsmannSE&Co.KGaA/Masterarbeit/20_data/613010/ps2400dpi150lpi/FC_FS23_S_ES0035_T_D_Suffix_90_41L.p1.4c.C.tif\n",
      "/Users/frederic.birwe/Library/CloudStorage/OneDrive-BertelsmannSE&Co.KGaA/Masterarbeit/20_data/613010/ps2400dpi150lpi/FC_FS23_S_ES0112_T_CH_41L.p1.4c.M.tif\n",
      "/Users/frederic.birwe/Library/CloudStorage/OneDrive-BertelsmannSE&Co.KGaA/Masterarbeit/20_data/613010/ps2400dpi150lpi/FC_FS23_S_ES0095_T_NL_41L.p1.4c.C.tif\n",
      "/Users/frederic.birwe/Library/CloudStorage/OneDrive-BertelsmannSE&Co.KGaA/Masterarbeit/20_data/613010/ps2400dpi150lpi/FC_FS23_S_ES0059_T_D_41L.p1.4c.M.tif\n",
      "/Users/frederic.birwe/Library/CloudStorage/OneDrive-BertelsmannSE&Co.KGaA/Masterarbeit/20_data/613010/ps2400dpi150lpi/FC_FS23_S_ES0056_T_D_Suffix_90_41L.p1.4c.M.tif\n",
      "/Users/frederic.birwe/Library/CloudStorage/OneDrive-BertelsmannSE&Co.KGaA/Masterarbeit/20_data/613010/ps2400dpi150lpi/FC_FS23_S_ES0042_T_NL_41L.p1 2.4c.C.tif\n",
      "/Users/frederic.birwe/Library/CloudStorage/OneDrive-BertelsmannSE&Co.KGaA/Masterarbeit/20_data/613010/ps2400dpi150lpi/FC_FS23_S_ES0008_T_D_41L.p1.4c.M.tif\n",
      "/Users/frederic.birwe/Library/CloudStorage/OneDrive-BertelsmannSE&Co.KGaA/Masterarbeit/20_data/613010/ps2400dpi150lpi/FC_FS23_S_ES0086_T_F_41L.p1.4c.Y.tif\n"
     ]
    },
    {
     "name": "stderr",
     "output_type": "stream",
     "text": [
      " 79%|███████████████████████████▊       | 9107/11457 [00:27<00:11, 205.74it/s]"
     ]
    },
    {
     "name": "stdout",
     "output_type": "stream",
     "text": [
      "/Users/frederic.birwe/Library/CloudStorage/OneDrive-BertelsmannSE&Co.KGaA/Masterarbeit/20_data/613010/ps2400dpi150lpi/FC_FS23_S_ES0103_T_WCH_41L.p1.4c.Y.tif\n",
      "/Users/frederic.birwe/Library/CloudStorage/OneDrive-BertelsmannSE&Co.KGaA/Masterarbeit/20_data/613010/ps2400dpi150lpi/FC_FS23_S_ES0040_T_D_41L.p1.4c.M.tif\n",
      "/Users/frederic.birwe/Library/CloudStorage/OneDrive-BertelsmannSE&Co.KGaA/Masterarbeit/20_data/613010/ps2400dpi150lpi/FC_FS23_S_ES0013_T_NL_41L.p1 2.4c.M.tif\n",
      "/Users/frederic.birwe/Library/CloudStorage/OneDrive-BertelsmannSE&Co.KGaA/Masterarbeit/20_data/613010/ps2400dpi150lpi/FC_FS23_S_ES0072_T_D_41L.p1.4c.C.tif\n",
      "/Users/frederic.birwe/Library/CloudStorage/OneDrive-BertelsmannSE&Co.KGaA/Masterarbeit/20_data/613010/ps2400dpi150lpi/FC_FS23_S_ES0014_T_F_41L.p1.4c.C.tif\n",
      "/Users/frederic.birwe/Library/CloudStorage/OneDrive-BertelsmannSE&Co.KGaA/Masterarbeit/20_data/613010/ps2400dpi150lpi/FC_FS23_S_ES0011_T_D_41L.p1.4c.M.tif\n",
      "/Users/frederic.birwe/Library/CloudStorage/OneDrive-BertelsmannSE&Co.KGaA/Masterarbeit/20_data/613010/ps2400dpi150lpi/FC_FS23_S_ES0014_T_NL_41L.p1 2.4c.Y.tif\n",
      "/Users/frederic.birwe/Library/CloudStorage/OneDrive-BertelsmannSE&Co.KGaA/Masterarbeit/20_data/613010/ps2400dpi150lpi/FC_FS23_S_ES0047_T_D_Suffix_90_41L.p1.4c.Y.tif\n",
      "/Users/frederic.birwe/Library/CloudStorage/OneDrive-BertelsmannSE&Co.KGaA/Masterarbeit/20_data/613010/ps2400dpi150lpi/FC_FS23_S_ES0106_T_NL_41L.p1.4c.C.tif\n",
      "/Users/frederic.birwe/Library/CloudStorage/OneDrive-BertelsmannSE&Co.KGaA/Masterarbeit/20_data/613010/ps2400dpi150lpi/FC_FS23_S_ES0023_T_D_41L.p1.4c.C.tif\n",
      "/Users/frederic.birwe/Library/CloudStorage/OneDrive-BertelsmannSE&Co.KGaA/Masterarbeit/20_data/613010/ps2400dpi150lpi/FC_FS23_S_ES0072_T_CH_41L.p1.4c.M.tif\n",
      "/Users/frederic.birwe/Library/CloudStorage/OneDrive-BertelsmannSE&Co.KGaA/Masterarbeit/20_data/613010/ps2400dpi150lpi/FC_FS23_S_ES0036_T_F_41L.p1 2.4c.C.tif\n",
      "/Users/frederic.birwe/Library/CloudStorage/OneDrive-BertelsmannSE&Co.KGaA/Masterarbeit/20_data/613010/ps2400dpi150lpi/FC_FS23_S_ES0031_T_F_41L.p1 2.4c.M.tif\n",
      "/Users/frederic.birwe/Library/CloudStorage/OneDrive-BertelsmannSE&Co.KGaA/Masterarbeit/20_data/613010/ps2400dpi150lpi/FC_FS23_S_ES0096_T_D_Suffix_90_41L.p1.4c.Y.tif\n",
      "/Users/frederic.birwe/Library/CloudStorage/OneDrive-BertelsmannSE&Co.KGaA/Masterarbeit/20_data/613010/ps2400dpi150lpi/FC_FS23_S_ES0105_T_D_41L.p1.4c.C.tif\n",
      "/Users/frederic.birwe/Library/CloudStorage/OneDrive-BertelsmannSE&Co.KGaA/Masterarbeit/20_data/613010/ps2400dpi150lpi/FC_FS23_S_ES0100_T_F_41L.p1.4c.M.tif\n",
      "/Users/frederic.birwe/Library/CloudStorage/OneDrive-BertelsmannSE&Co.KGaA/Masterarbeit/20_data/613010/ps2400dpi150lpi/FC_FS23_S_ES0065_T_NL_41L.p1.4c.Y.tif\n",
      "/Users/frederic.birwe/Library/CloudStorage/OneDrive-BertelsmannSE&Co.KGaA/Masterarbeit/20_data/613010/ps2400dpi150lpi/FC_FS23_S_ES0096_T_NL_41L.p1.4c.Y.tif\n",
      "/Users/frederic.birwe/Library/CloudStorage/OneDrive-BertelsmannSE&Co.KGaA/Masterarbeit/20_data/613010/ps2400dpi150lpi/FC_FS23_S_ES0084_T_F_41L.p1.4c.M.tif\n",
      "/Users/frederic.birwe/Library/CloudStorage/OneDrive-BertelsmannSE&Co.KGaA/Masterarbeit/20_data/613010/ps2400dpi150lpi/FC_FS23_S_ES0081_T_D_41L.p1.4c.C.tif\n",
      "/Users/frederic.birwe/Library/CloudStorage/OneDrive-BertelsmannSE&Co.KGaA/Masterarbeit/20_data/613010/ps2400dpi150lpi/FC_FS23_S_ES0058_T_WCH_41L.p1 2.4c.C.tif\n",
      "/Users/frederic.birwe/Library/CloudStorage/OneDrive-BertelsmannSE&Co.KGaA/Masterarbeit/20_data/613010/ps2400dpi150lpi/FC_FS23_S_ES0088_T_CH_41L.p1.4c.C.tif\n",
      "/Users/frederic.birwe/Library/CloudStorage/OneDrive-BertelsmannSE&Co.KGaA/Masterarbeit/20_data/613010/ps2400dpi150lpi/FC_FS23_S_ES0041_T_F_41L.p1 2.4c.Y.tif\n",
      "/Users/frederic.birwe/Library/CloudStorage/OneDrive-BertelsmannSE&Co.KGaA/Masterarbeit/20_data/613010/ps2400dpi150lpi/FC_FS23_S_ES0077_T_WCH_41L.p1.4c.C.tif\n",
      "/Users/frederic.birwe/Library/CloudStorage/OneDrive-BertelsmannSE&Co.KGaA/Masterarbeit/20_data/613010/ps2400dpi150lpi/FC_FS23_S_ES0022_T_A_41L.p1.4c.Y.tif\n",
      "/Users/frederic.birwe/Library/CloudStorage/OneDrive-BertelsmannSE&Co.KGaA/Masterarbeit/20_data/613010/ps2400dpi150lpi/FC_FS23_S_ES0057_T_NL_41L.p1.4c.M.tif\n",
      "/Users/frederic.birwe/Library/CloudStorage/OneDrive-BertelsmannSE&Co.KGaA/Masterarbeit/20_data/613010/ps2400dpi150lpi/FC_FS23_S_ES0088_T_D_Suffix_90_41L.p1.4c.Y.tif\n"
     ]
    },
    {
     "name": "stderr",
     "output_type": "stream",
     "text": [
      " 80%|███████████████████████████▉       | 9161/11457 [00:27<00:09, 231.07it/s]"
     ]
    },
    {
     "name": "stdout",
     "output_type": "stream",
     "text": [
      "/Users/frederic.birwe/Library/CloudStorage/OneDrive-BertelsmannSE&Co.KGaA/Masterarbeit/20_data/613010/ps2400dpi150lpi/FC_FS23_S_ES0073_T_A_41L.p1.4c.Y.tif\n",
      "/Users/frederic.birwe/Library/CloudStorage/OneDrive-BertelsmannSE&Co.KGaA/Masterarbeit/20_data/613010/ps2400dpi150lpi/FC_FS23_S_ES0059_T_D_Suffix_90_41L.p1.4c.Y.tif\n",
      "/Users/frederic.birwe/Library/CloudStorage/OneDrive-BertelsmannSE&Co.KGaA/Masterarbeit/20_data/613010/ps2400dpi150lpi/FC_FS23_S_ES0040_T_CH_41L.p1.4c.Y.tif\n",
      "/Users/frederic.birwe/Library/CloudStorage/OneDrive-BertelsmannSE&Co.KGaA/Masterarbeit/20_data/613010/ps2400dpi150lpi/FC_FS23_S_ES0080_T_A_41L.p1.4c.Y.tif\n",
      "/Users/frederic.birwe/Library/CloudStorage/OneDrive-BertelsmannSE&Co.KGaA/Masterarbeit/20_data/613010/ps2400dpi150lpi/FC_FS23_S_ES0039_T_A_41L.p1.4c.M.tif\n",
      "/Users/frederic.birwe/Library/CloudStorage/OneDrive-BertelsmannSE&Co.KGaA/Masterarbeit/20_data/613010/ps2400dpi150lpi/FC_FS23_S_ES0027_T_NL_41L.p1.4c.C.tif\n",
      "/Users/frederic.birwe/Library/CloudStorage/OneDrive-BertelsmannSE&Co.KGaA/Masterarbeit/20_data/613010/ps2400dpi150lpi/FC_FS23_S_ES0068_T_A_41L.p1.4c.M.tif\n",
      "/Users/frederic.birwe/Library/CloudStorage/OneDrive-BertelsmannSE&Co.KGaA/Masterarbeit/20_data/613010/ps2400dpi150lpi/FC_FS23_S_ES0070_T_WCH_41L.p1.4c.M.tif\n",
      "/Users/frederic.birwe/Library/CloudStorage/OneDrive-BertelsmannSE&Co.KGaA/Masterarbeit/20_data/613010/ps2400dpi150lpi/FC_FS23_S_ES0009_T_D_41L.p1.4c.Y.tif\n",
      "/Users/frederic.birwe/Library/CloudStorage/OneDrive-BertelsmannSE&Co.KGaA/Masterarbeit/20_data/613010/ps2400dpi150lpi/FC_FS23_S_ES0087_T_F_41L.p1.4c.M.tif\n",
      "/Users/frederic.birwe/Library/CloudStorage/OneDrive-BertelsmannSE&Co.KGaA/Masterarbeit/20_data/613010/ps2400dpi150lpi/FC_FS23_S_ES0082_T_D_41L.p1.4c.C.tif\n",
      "/Users/frederic.birwe/Library/CloudStorage/OneDrive-BertelsmannSE&Co.KGaA/Masterarbeit/20_data/613010/ps2400dpi150lpi/FC_FS23_S_ES0004_T_CH_41L.p1.4c.M.tif\n",
      "/Users/frederic.birwe/Library/CloudStorage/OneDrive-BertelsmannSE&Co.KGaA/Masterarbeit/20_data/613010/ps2400dpi150lpi/FC_FS23_S_ES0106_T_D_41L.p1.4c.C.tif\n",
      "/Users/frederic.birwe/Library/CloudStorage/OneDrive-BertelsmannSE&Co.KGaA/Masterarbeit/20_data/613010/ps2400dpi150lpi/FC_FS23_S_ES0103_T_F_41L.p1.4c.M.tif\n"
     ]
    },
    {
     "name": "stderr",
     "output_type": "stream",
     "text": [
      " 80%|████████████████████████████       | 9185/11457 [00:27<00:12, 180.67it/s]"
     ]
    },
    {
     "name": "stdout",
     "output_type": "stream",
     "text": [
      "/Users/frederic.birwe/Library/CloudStorage/OneDrive-BertelsmannSE&Co.KGaA/Masterarbeit/20_data/613010/ps2400dpi150lpi/FC_FS23_S_ES0058_T_D_41L.p1.4c.Y.tif\n",
      "/Users/frederic.birwe/Library/CloudStorage/OneDrive-BertelsmannSE&Co.KGaA/Masterarbeit/20_data/613010/ps2400dpi150lpi/FC_FS23_S_ES0109_T_NL_41L.p1.4c.C.tif\n",
      "/Users/frederic.birwe/Library/CloudStorage/OneDrive-BertelsmannSE&Co.KGaA/Masterarbeit/20_data/613010/ps2400dpi150lpi/FC_FS23_S_ES0098_T_CH_41L.p1 2.4c.M.tif\n",
      "/Users/frederic.birwe/Library/CloudStorage/OneDrive-BertelsmannSE&Co.KGaA/Masterarbeit/20_data/613010/ps2400dpi150lpi/FC_FS23_S_ES0036_T_D_Suffix_90_41L.p1.4c.Y.tif\n",
      "/Users/frederic.birwe/Library/CloudStorage/OneDrive-BertelsmannSE&Co.KGaA/Masterarbeit/20_data/613010/ps2400dpi150lpi/FC_FS23_S_ES0099_T_NL_41L.p1.4c.Y.tif\n",
      "/Users/frederic.birwe/Library/CloudStorage/OneDrive-BertelsmannSE&Co.KGaA/Masterarbeit/20_data/613010/ps2400dpi150lpi/FC_FS23_S_ES0073_T_D_Suffix_90_41L.p1.4c.Y.tif\n",
      "/Users/frederic.birwe/Library/CloudStorage/OneDrive-BertelsmannSE&Co.KGaA/Masterarbeit/20_data/613010/ps2400dpi150lpi/FC_FS23_S_ES0017_T_F_41L.p1.4c.C.tif\n",
      "/Users/frederic.birwe/Library/CloudStorage/OneDrive-BertelsmannSE&Co.KGaA/Masterarbeit/20_data/613010/ps2400dpi150lpi/FC_FS23_S_ES0012_T_D_41L.p1.4c.M.tif\n",
      "/Users/frederic.birwe/Library/CloudStorage/OneDrive-BertelsmannSE&Co.KGaA/Masterarbeit/20_data/613010/ps2400dpi150lpi/FC_FS23_S_ES0025_T_F_41L.p1.4c.M.tif\n",
      "/Users/frederic.birwe/Library/CloudStorage/OneDrive-BertelsmannSE&Co.KGaA/Masterarbeit/20_data/613010/ps2400dpi150lpi/FC_FS23_S_ES0020_T_D_41L.p1.4c.C.tif\n",
      "/Users/frederic.birwe/Library/CloudStorage/OneDrive-BertelsmannSE&Co.KGaA/Masterarbeit/20_data/613010/ps2400dpi150lpi/FC_FS23_S_ES0084_T_WCH_41L.p1.4c.Y.tif\n",
      "/Users/frederic.birwe/Library/CloudStorage/OneDrive-BertelsmannSE&Co.KGaA/Masterarbeit/20_data/613010/ps2400dpi150lpi/FC_FS23_S_ES0043_T_D_41L.p1.4c.M.tif\n",
      "/Users/frederic.birwe/Library/CloudStorage/OneDrive-BertelsmannSE&Co.KGaA/Masterarbeit/20_data/613010/ps2400dpi150lpi/FC_FS23_S_ES0046_T_F_41L.p1.4c.C.tif\n",
      "/Users/frederic.birwe/Library/CloudStorage/OneDrive-BertelsmannSE&Co.KGaA/Masterarbeit/20_data/613010/ps2400dpi150lpi/FC_FS23_S_ES0100_T_NL_41L.p1.4c.M.tif\n",
      "/Users/frederic.birwe/Library/CloudStorage/OneDrive-BertelsmannSE&Co.KGaA/Masterarbeit/20_data/613010/ps2400dpi150lpi/FC_FS23_S_ES0087_T_CH_41L.p1.4c.C.tif\n",
      "/Users/frederic.birwe/Library/CloudStorage/OneDrive-BertelsmannSE&Co.KGaA/Masterarbeit/20_data/613010/ps2400dpi150lpi/FC_FS23_S_ES0071_T_D_41L.p1.4c.C.tif\n",
      "/Users/frederic.birwe/Library/CloudStorage/OneDrive-BertelsmannSE&Co.KGaA/Masterarbeit/20_data/613010/ps2400dpi150lpi/FC_FS23_S_ES0074_T_F_41L.p1.4c.M.tif\n",
      "/Users/frederic.birwe/Library/CloudStorage/OneDrive-BertelsmannSE&Co.KGaA/Masterarbeit/20_data/613010/ps2400dpi150lpi/FC_FS23_S_ES0091_T_WCH_41L.p1 2.4c.M.tif\n",
      "/Users/frederic.birwe/Library/CloudStorage/OneDrive-BertelsmannSE&Co.KGaA/Masterarbeit/20_data/613010/ps2400dpi150lpi/FC_FS23_S_ES0013_T_NL_41L.p1.4c.Y.tif\n",
      "/Users/frederic.birwe/Library/CloudStorage/OneDrive-BertelsmannSE&Co.KGaA/Masterarbeit/20_data/613010/ps2400dpi150lpi/FC_FS23_S_ES0021_T_NL_41L.p1.4c.M.tif\n",
      "/Users/frederic.birwe/Library/CloudStorage/OneDrive-BertelsmannSE&Co.KGaA/Masterarbeit/20_data/613010/ps2400dpi150lpi/FC_FS23_S_ES0059_T_A_41L.p1.4c.C.tif\n",
      "/Users/frederic.birwe/Library/CloudStorage/OneDrive-BertelsmannSE&Co.KGaA/Masterarbeit/20_data/613010/ps2400dpi150lpi/FC_FS23_S_ES0107_T_A_41L.p1.4c.Y.tif\n"
     ]
    },
    {
     "name": "stderr",
     "output_type": "stream",
     "text": [
      " 81%|████████████████████████████▏      | 9225/11457 [00:28<00:12, 172.81it/s]"
     ]
    },
    {
     "name": "stdout",
     "output_type": "stream",
     "text": [
      "/Users/frederic.birwe/Library/CloudStorage/OneDrive-BertelsmannSE&Co.KGaA/Masterarbeit/20_data/613010/ps2400dpi150lpi/FC_FS23_S_ES0025_T_NL_41L.p1 2.4c.M.tif\n",
      "/Users/frederic.birwe/Library/CloudStorage/OneDrive-BertelsmannSE&Co.KGaA/Masterarbeit/20_data/613010/ps2400dpi150lpi/FC_FS23_S_ES0022_T_NL_41L.p1 2.4c.Y.tif\n",
      "/Users/frederic.birwe/Library/CloudStorage/OneDrive-BertelsmannSE&Co.KGaA/Masterarbeit/20_data/613010/ps2400dpi150lpi/FC_FS23_S_ES0083_T_A_41L.p1.4c.Y.tif\n",
      "/Users/frederic.birwe/Library/CloudStorage/OneDrive-BertelsmannSE&Co.KGaA/Masterarbeit/20_data/613010/ps2400dpi150lpi/FC_FS23_S_ES0008_T_A_41L.p1.4c.C.tif\n",
      "/Users/frederic.birwe/Library/CloudStorage/OneDrive-BertelsmannSE&Co.KGaA/Masterarbeit/20_data/613010/ps2400dpi150lpi/FC_FS23_S_ES0058_T_NL_41L.p1.4c.M.tif\n",
      "/Users/frederic.birwe/Library/CloudStorage/OneDrive-BertelsmannSE&Co.KGaA/Masterarbeit/20_data/613010/ps2400dpi150lpi/FC_FS23_S_ES0028_T_NL_41L.p1.4c.C.tif\n",
      "/Users/frederic.birwe/Library/CloudStorage/OneDrive-BertelsmannSE&Co.KGaA/Masterarbeit/20_data/613010/ps2400dpi150lpi/FC_FS23_S_ES0028_T_D_Suffix_90_41L.p1.4c.Y.tif\n",
      "/Users/frederic.birwe/Library/CloudStorage/OneDrive-BertelsmannSE&Co.KGaA/Masterarbeit/20_data/613010/ps2400dpi150lpi/FC_FS23_S_ES0070_T_A_41L.p1.4c.Y.tif\n",
      "/Users/frederic.birwe/Library/CloudStorage/OneDrive-BertelsmannSE&Co.KGaA/Masterarbeit/20_data/613010/ps2400dpi150lpi/FC_FS23_S_ES0106_T_D_Suffix_90_41L.p1.4c.Y.tif\n",
      "/Users/frederic.birwe/Library/CloudStorage/OneDrive-BertelsmannSE&Co.KGaA/Masterarbeit/20_data/613010/ps2400dpi150lpi/FC_FS23_S_ES0098_T_A_41L.p1.4c.M.tif\n",
      "/Users/frederic.birwe/Library/CloudStorage/OneDrive-BertelsmannSE&Co.KGaA/Masterarbeit/20_data/613010/ps2400dpi150lpi/FC_FS23_S_ES0051_T_NL_41L.p1.4c.C.tif\n",
      "/Users/frederic.birwe/Library/CloudStorage/OneDrive-BertelsmannSE&Co.KGaA/Masterarbeit/20_data/613010/ps2400dpi150lpi/FC_FS23_S_ES0021_T_A_41L.p1.4c.Y.tif\n",
      "/Users/frederic.birwe/Library/CloudStorage/OneDrive-BertelsmannSE&Co.KGaA/Masterarbeit/20_data/613010/ps2400dpi150lpi/FC_FS23_S_ES0105_T_A_41L.p1.4c.M.tif\n",
      "/Users/frederic.birwe/Library/CloudStorage/OneDrive-BertelsmannSE&Co.KGaA/Masterarbeit/20_data/613010/ps2400dpi150lpi/FC_FS23_S_ES0028_T_NL_41L.p1 2.4c.Y.tif\n",
      "/Users/frederic.birwe/Library/CloudStorage/OneDrive-BertelsmannSE&Co.KGaA/Masterarbeit/20_data/613010/ps2400dpi150lpi/FC_FS23_S_ES0069_T_A_41L.p1.4c.Y.tif\n"
     ]
    },
    {
     "name": "stderr",
     "output_type": "stream",
     "text": [
      " 81%|████████████████████████████▎      | 9264/11457 [00:28<00:12, 182.59it/s]"
     ]
    },
    {
     "name": "stdout",
     "output_type": "stream",
     "text": [
      "/Users/frederic.birwe/Library/CloudStorage/OneDrive-BertelsmannSE&Co.KGaA/Masterarbeit/20_data/613010/ps2400dpi150lpi/FC_FS23_S_ES0021_T_CH_41L.p1 2.4c.Y.tif\n",
      "/Users/frederic.birwe/Library/CloudStorage/OneDrive-BertelsmannSE&Co.KGaA/Masterarbeit/20_data/613010/ps2400dpi150lpi/FC_FS23_S_ES0081_T_A_41L.p1.4c.M.tif\n",
      "/Users/frederic.birwe/Library/CloudStorage/OneDrive-BertelsmannSE&Co.KGaA/Masterarbeit/20_data/613010/ps2400dpi150lpi/FC_FS23_S_ES0039_T_D_Suffix_90_41L.p1.4c.M.tif\n",
      "/Users/frederic.birwe/Library/CloudStorage/OneDrive-BertelsmannSE&Co.KGaA/Masterarbeit/20_data/613010/ps2400dpi150lpi/FC_FS23_S_ES0038_T_A_41L.p1.4c.Y.tif\n",
      "/Users/frederic.birwe/Library/CloudStorage/OneDrive-BertelsmannSE&Co.KGaA/Masterarbeit/20_data/613010/ps2400dpi150lpi/FC_FS23_S_ES0040_T_A_41L.p1.4c.C.tif\n",
      "/Users/frederic.birwe/Library/CloudStorage/OneDrive-BertelsmannSE&Co.KGaA/Masterarbeit/20_data/613010/ps2400dpi150lpi/FC_FS23_S_ES0072_T_A_41L.p1.4c.M.tif\n",
      "/Users/frederic.birwe/Library/CloudStorage/OneDrive-BertelsmannSE&Co.KGaA/Masterarbeit/20_data/613010/ps2400dpi150lpi/FC_FS23_S_ES0052_T_NL_41L.p1.4c.Y.tif\n",
      "/Users/frederic.birwe/Library/CloudStorage/OneDrive-BertelsmannSE&Co.KGaA/Masterarbeit/20_data/613010/ps2400dpi150lpi/FC_FS23_S_ES0011_T_A_41L.p1.4c.C.tif\n",
      "/Users/frederic.birwe/Library/CloudStorage/OneDrive-BertelsmannSE&Co.KGaA/Masterarbeit/20_data/613010/ps2400dpi150lpi/FC_FS23_S_ES0023_T_A_41L.p1.4c.M.tif\n",
      "/Users/frederic.birwe/Library/CloudStorage/OneDrive-BertelsmannSE&Co.KGaA/Masterarbeit/20_data/613010/ps2400dpi150lpi/FC_FS23_S_ES0035_T_CH_41L.p1.4c.C.tif\n",
      "/Users/frederic.birwe/Library/CloudStorage/OneDrive-BertelsmannSE&Co.KGaA/Masterarbeit/20_data/613010/ps2400dpi150lpi/FC_FS23_S_ES0039_T_D_41L.p1.4c.C.tif\n",
      "/Users/frederic.birwe/Library/CloudStorage/OneDrive-BertelsmannSE&Co.KGaA/Masterarbeit/20_data/613010/ps2400dpi150lpi/FC_FS23_S_ES0092_T_CH_41L.p1 2.4c.M.tif\n",
      "/Users/frederic.birwe/Library/CloudStorage/OneDrive-BertelsmannSE&Co.KGaA/Masterarbeit/20_data/613010/ps2400dpi150lpi/FC_FS23_S_ES0060_T_NL_41L.p1.4c.M.tif\n",
      "/Users/frederic.birwe/Library/CloudStorage/OneDrive-BertelsmannSE&Co.KGaA/Masterarbeit/20_data/613010/ps2400dpi150lpi/FC_FS23_S_ES0062_T_D_Suffix_90_41L.p1.4c.M.tif\n",
      "/Users/frederic.birwe/Library/CloudStorage/OneDrive-BertelsmannSE&Co.KGaA/Masterarbeit/20_data/613010/ps2400dpi150lpi/FC_FS23_S_ES0108_T_F_41L.p1 2.4c.Y.tif\n",
      "/Users/frederic.birwe/Library/CloudStorage/OneDrive-BertelsmannSE&Co.KGaA/Masterarbeit/20_data/613010/ps2400dpi150lpi/FC_FS23_S_ES0095_T_CH_41L.p1 2.4c.Y.tif\n",
      "/Users/frederic.birwe/Library/CloudStorage/OneDrive-BertelsmannSE&Co.KGaA/Masterarbeit/20_data/613010/ps2400dpi150lpi/FC_FS23_S_ES0092_T_WCH_41L.p1.4c.Y.tif\n",
      "/Users/frederic.birwe/Library/CloudStorage/OneDrive-BertelsmannSE&Co.KGaA/Masterarbeit/20_data/613010/ps2400dpi150lpi/FC_FS23_S_ES0042_T_WCH_41L.p1 2.4c.M.tif\n"
     ]
    },
    {
     "name": "stderr",
     "output_type": "stream",
     "text": [
      " 81%|████████████████████████████▍      | 9305/11457 [00:28<00:11, 182.84it/s]"
     ]
    },
    {
     "name": "stdout",
     "output_type": "stream",
     "text": [
      "/Users/frederic.birwe/Library/CloudStorage/OneDrive-BertelsmannSE&Co.KGaA/Masterarbeit/20_data/613010/ps2400dpi150lpi/FC_FS23_S_ES0019_T_NL_41L.p1.4c.M.tif\n",
      "/Users/frederic.birwe/Library/CloudStorage/OneDrive-BertelsmannSE&Co.KGaA/Masterarbeit/20_data/613010/ps2400dpi150lpi/FC_FS23_S_ES0053_T_WCH_41L.p1.4c.C.tif\n",
      "/Users/frederic.birwe/Library/CloudStorage/OneDrive-BertelsmannSE&Co.KGaA/Masterarbeit/20_data/613010/ps2400dpi150lpi/FC_FS23_S_ES0095_T_D_Suffix_90_41L.p1.4c.C.tif\n",
      "/Users/frederic.birwe/Library/CloudStorage/OneDrive-BertelsmannSE&Co.KGaA/Masterarbeit/20_data/613010/ps2400dpi150lpi/FC_FS23_S_ES0068_T_D_41L.p1.4c.C.tif\n",
      "/Users/frederic.birwe/Library/CloudStorage/OneDrive-BertelsmannSE&Co.KGaA/Masterarbeit/20_data/613010/ps2400dpi150lpi/FC_FS23_S_ES0111_T_F_41L.p1 2.4c.C.tif\n",
      "/Users/frederic.birwe/Library/CloudStorage/OneDrive-BertelsmannSE&Co.KGaA/Masterarbeit/20_data/613010/ps2400dpi150lpi/FC_FS23_S_ES0010_T_D_41L.p1.4c.Y.tif\n",
      "/Users/frederic.birwe/Library/CloudStorage/OneDrive-BertelsmannSE&Co.KGaA/Masterarbeit/20_data/613010/ps2400dpi150lpi/FC_FS23_S_ES0109_T_D_Suffix_90_41L.p1.4c.M.tif\n",
      "/Users/frederic.birwe/Library/CloudStorage/OneDrive-BertelsmannSE&Co.KGaA/Masterarbeit/20_data/613010/ps2400dpi150lpi/FC_FS23_S_ES0044_T_D_Suffix_90_41L.p1.4c.C.tif\n",
      "/Users/frederic.birwe/Library/CloudStorage/OneDrive-BertelsmannSE&Co.KGaA/Masterarbeit/20_data/613010/ps2400dpi150lpi/FC_FS23_S_ES0069_T_NL_41L.p1.4c.C.tif\n",
      "/Users/frederic.birwe/Library/CloudStorage/OneDrive-BertelsmannSE&Co.KGaA/Masterarbeit/20_data/613010/ps2400dpi150lpi/FC_FS23_S_ES0027_T_D_Suffix_90_41L.p1.4c.M.tif\n",
      "/Users/frederic.birwe/Library/CloudStorage/OneDrive-BertelsmannSE&Co.KGaA/Masterarbeit/20_data/613010/ps2400dpi150lpi/FC_FS23_S_ES0098_T_WCH_41L.p1 2.4c.C.tif\n",
      "/Users/frederic.birwe/Library/CloudStorage/OneDrive-BertelsmannSE&Co.KGaA/Masterarbeit/20_data/613010/ps2400dpi150lpi/FC_FS23_S_ES0010_T_NL_41L.p1.4c.C.tif\n",
      "/Users/frederic.birwe/Library/CloudStorage/OneDrive-BertelsmannSE&Co.KGaA/Masterarbeit/20_data/613010/ps2400dpi150lpi/FC_FS23_S_ES0041_T_D_41L.p1.4c.Y.tif\n",
      "/Users/frederic.birwe/Library/CloudStorage/OneDrive-BertelsmannSE&Co.KGaA/Masterarbeit/20_data/613010/ps2400dpi150lpi/FC_FS23_S_ES0076_T_F_41L.p1.4c.Y.tif\n",
      "/Users/frederic.birwe/Library/CloudStorage/OneDrive-BertelsmannSE&Co.KGaA/Masterarbeit/20_data/613010/ps2400dpi150lpi/FC_FS23_S_ES0077_T_CH_41L.p1.4c.Y.tif\n",
      "/Users/frederic.birwe/Library/CloudStorage/OneDrive-BertelsmannSE&Co.KGaA/Masterarbeit/20_data/613010/ps2400dpi150lpi/FC_FS23_S_ES0084_T_CH_41L.p1.4c.Y.tif\n"
     ]
    },
    {
     "name": "stderr",
     "output_type": "stream",
     "text": [
      " 82%|████████████████████████████▌      | 9343/11457 [00:28<00:12, 167.56it/s]"
     ]
    },
    {
     "name": "stdout",
     "output_type": "stream",
     "text": [
      "/Users/frederic.birwe/Library/CloudStorage/OneDrive-BertelsmannSE&Co.KGaA/Masterarbeit/20_data/613010/ps2400dpi150lpi/FC_FS23_S_ES0071_T_A_41L.p1.4c.Y.tif\n",
      "/Users/frederic.birwe/Library/CloudStorage/OneDrive-BertelsmannSE&Co.KGaA/Masterarbeit/20_data/613010/ps2400dpi150lpi/FC_FS23_S_ES0016_T_WCH_41L.p1.4c.M.tif\n",
      "/Users/frederic.birwe/Library/CloudStorage/OneDrive-BertelsmannSE&Co.KGaA/Masterarbeit/20_data/613010/ps2400dpi150lpi/FC_FS23_S_ES0030_T_NL_41L.p1 2.4c.C.tif\n",
      "/Users/frederic.birwe/Library/CloudStorage/OneDrive-BertelsmannSE&Co.KGaA/Masterarbeit/20_data/613010/ps2400dpi150lpi/FC_FS23_S_ES0008_T_WCH_41L.p1.4c.Y.tif\n",
      "/Users/frederic.birwe/Library/CloudStorage/OneDrive-BertelsmannSE&Co.KGaA/Masterarbeit/20_data/613010/ps2400dpi150lpi/FC_FS23_S_ES0048_T_D_Suffix_90_41L.p1.4c.Y.tif\n",
      "/Users/frederic.birwe/Library/CloudStorage/OneDrive-BertelsmannSE&Co.KGaA/Masterarbeit/20_data/613010/ps2400dpi150lpi/FC_FS23_S_ES0033_T_CH_41L.p1.4c.Y.tif\n",
      "/Users/frederic.birwe/Library/CloudStorage/OneDrive-BertelsmannSE&Co.KGaA/Masterarbeit/20_data/613010/ps2400dpi150lpi/FC_FS23_S_ES0020_T_A_41L.p1.4c.Y.tif\n",
      "/Users/frederic.birwe/Library/CloudStorage/OneDrive-BertelsmannSE&Co.KGaA/Masterarbeit/20_data/613010/ps2400dpi150lpi/FC_FS23_S_ES0078_T_WCH_41L.p1.4c.M.tif\n",
      "/Users/frederic.birwe/Library/CloudStorage/OneDrive-BertelsmannSE&Co.KGaA/Masterarbeit/20_data/613010/ps2400dpi150lpi/FC_FS23_S_ES0099_T_A_41L.p1.4c.M.tif\n",
      "/Users/frederic.birwe/Library/CloudStorage/OneDrive-BertelsmannSE&Co.KGaA/Masterarbeit/20_data/613010/ps2400dpi150lpi/FC_FS23_S_ES0066_T_WCH_41L.p1.4c.Y.tif\n",
      "/Users/frederic.birwe/Library/CloudStorage/OneDrive-BertelsmannSE&Co.KGaA/Masterarbeit/20_data/613010/ps2400dpi150lpi/FC_FS23_S_ES0039_T_CH_41L.p1 2.4c.C.tif\n",
      "/Users/frederic.birwe/Library/CloudStorage/OneDrive-BertelsmannSE&Co.KGaA/Masterarbeit/20_data/613010/ps2400dpi150lpi/FC_FS23_S_ES0097_T_WCH_41L.p1 2.4c.C.tif\n",
      "/Users/frederic.birwe/Library/CloudStorage/OneDrive-BertelsmannSE&Co.KGaA/Masterarbeit/20_data/613010/ps2400dpi150lpi/FC_FS23_S_ES0106_T_A_41L.p1.4c.Y.tif\n",
      "/Users/frederic.birwe/Library/CloudStorage/OneDrive-BertelsmannSE&Co.KGaA/Masterarbeit/20_data/613010/ps2400dpi150lpi/FC_FS23_S_ES0058_T_A_41L.p1.4c.C.tif\n",
      "/Users/frederic.birwe/Library/CloudStorage/OneDrive-BertelsmannSE&Co.KGaA/Masterarbeit/20_data/613010/ps2400dpi150lpi/FC_FS23_S_ES0099_T_D_Suffix_90_41L.p1.4c.Y.tif\n",
      "/Users/frederic.birwe/Library/CloudStorage/OneDrive-BertelsmannSE&Co.KGaA/Masterarbeit/20_data/613010/ps2400dpi150lpi/FC_FS23_S_ES0009_T_A_41L.p1.4c.C.tif\n",
      "/Users/frederic.birwe/Library/CloudStorage/OneDrive-BertelsmannSE&Co.KGaA/Masterarbeit/20_data/613010/ps2400dpi150lpi/FC_FS23_S_ES0024_T_NL_41L.p1.4c.M.tif\n",
      "/Users/frederic.birwe/Library/CloudStorage/OneDrive-BertelsmannSE&Co.KGaA/Masterarbeit/20_data/613010/ps2400dpi150lpi/FC_FS23_S_ES0011_T_WCH_41L.p1.4c.C.tif\n",
      "/Users/frederic.birwe/Library/CloudStorage/OneDrive-BertelsmannSE&Co.KGaA/Masterarbeit/20_data/613010/ps2400dpi150lpi/FC_FS23_S_ES0082_T_A_41L.p1.4c.Y.tif\n"
     ]
    },
    {
     "name": "stderr",
     "output_type": "stream",
     "text": [
      " 82%|████████████████████████████▋      | 9379/11457 [00:29<00:12, 169.16it/s]"
     ]
    },
    {
     "name": "stdout",
     "output_type": "stream",
     "text": [
      "/Users/frederic.birwe/Library/CloudStorage/OneDrive-BertelsmannSE&Co.KGaA/Masterarbeit/20_data/613010/ps2400dpi150lpi/FC_FS23_S_ES0027_T_F_41L.p1 2.4c.Y.tif\n",
      "/Users/frederic.birwe/Library/CloudStorage/OneDrive-BertelsmannSE&Co.KGaA/Masterarbeit/20_data/613010/ps2400dpi150lpi/FC_FS23_S_ES0017_T_CH_41L.p1 2.4c.M.tif\n",
      "/Users/frederic.birwe/Library/CloudStorage/OneDrive-BertelsmannSE&Co.KGaA/Masterarbeit/20_data/613010/ps2400dpi150lpi/FC_FS23_S_ES0016_T_NL_41L.p1.4c.Y.tif\n",
      "/Users/frederic.birwe/Library/CloudStorage/OneDrive-BertelsmannSE&Co.KGaA/Masterarbeit/20_data/613010/ps2400dpi150lpi/FC_FS23_S_ES0024_T_F_41L.p1.4c.M.tif\n",
      "/Users/frederic.birwe/Library/CloudStorage/OneDrive-BertelsmannSE&Co.KGaA/Masterarbeit/20_data/613010/ps2400dpi150lpi/FC_FS23_S_ES0021_T_D_41L.p1.4c.C.tif\n",
      "/Users/frederic.birwe/Library/CloudStorage/OneDrive-BertelsmannSE&Co.KGaA/Masterarbeit/20_data/613010/ps2400dpi150lpi/FC_FS23_S_ES0016_T_F_41L.p1.4c.C.tif\n",
      "/Users/frederic.birwe/Library/CloudStorage/OneDrive-BertelsmannSE&Co.KGaA/Masterarbeit/20_data/613010/ps2400dpi150lpi/FC_FS23_S_ES0013_T_D_41L.p1.4c.M.tif\n",
      "/Users/frederic.birwe/Library/CloudStorage/OneDrive-BertelsmannSE&Co.KGaA/Masterarbeit/20_data/613010/ps2400dpi150lpi/FC_FS23_S_ES0071_T_CH_41L.p1.4c.C.tif\n",
      "/Users/frederic.birwe/Library/CloudStorage/OneDrive-BertelsmannSE&Co.KGaA/Masterarbeit/20_data/613010/ps2400dpi150lpi/FC_FS23_S_ES0013_T_D_Suffix_90_41L.p1.4c.Y.tif\n",
      "/Users/frederic.birwe/Library/CloudStorage/OneDrive-BertelsmannSE&Co.KGaA/Masterarbeit/20_data/613010/ps2400dpi150lpi/FC_FS23_S_ES0087_T_D_Suffix_90_41L.p1.4c.Y.tif\n",
      "/Users/frederic.birwe/Library/CloudStorage/OneDrive-BertelsmannSE&Co.KGaA/Masterarbeit/20_data/613010/ps2400dpi150lpi/FC_FS23_S_ES0019_T_NL_41L.p1 2.4c.Y.tif\n",
      "/Users/frederic.birwe/Library/CloudStorage/OneDrive-BertelsmannSE&Co.KGaA/Masterarbeit/20_data/613010/ps2400dpi150lpi/FC_FS23_S_ES0082_T_CH_41L.p1.4c.C.tif\n",
      "/Users/frederic.birwe/Library/CloudStorage/OneDrive-BertelsmannSE&Co.KGaA/Masterarbeit/20_data/613010/ps2400dpi150lpi/FC_FS23_S_ES0105_T_NL_41L.p1.4c.M.tif\n",
      "/Users/frederic.birwe/Library/CloudStorage/OneDrive-BertelsmannSE&Co.KGaA/Masterarbeit/20_data/613010/ps2400dpi150lpi/FC_FS23_S_ES0070_T_D_41L.p1.4c.C.tif\n",
      "/Users/frederic.birwe/Library/CloudStorage/OneDrive-BertelsmannSE&Co.KGaA/Masterarbeit/20_data/613010/ps2400dpi150lpi/FC_FS23_S_ES0049_T_F_41L.p1 2.4c.Y.tif\n",
      "/Users/frederic.birwe/Library/CloudStorage/OneDrive-BertelsmannSE&Co.KGaA/Masterarbeit/20_data/613010/ps2400dpi150lpi/FC_FS23_S_ES0008_T_CH_41L.p1.4c.C.tif\n",
      "/Users/frederic.birwe/Library/CloudStorage/OneDrive-BertelsmannSE&Co.KGaA/Masterarbeit/20_data/613010/ps2400dpi150lpi/FC_FS23_S_ES0042_T_D_41L.p1.4c.M.tif\n",
      "/Users/frederic.birwe/Library/CloudStorage/OneDrive-BertelsmannSE&Co.KGaA/Masterarbeit/20_data/613010/ps2400dpi150lpi/FC_FS23_S_ES0047_T_F_41L.p1.4c.C.tif\n",
      "/Users/frederic.birwe/Library/CloudStorage/OneDrive-BertelsmannSE&Co.KGaA/Masterarbeit/20_data/613010/ps2400dpi150lpi/FC_FS23_S_ES0050_T_F_41L.p1 2.4c.C.tif\n",
      "/Users/frederic.birwe/Library/CloudStorage/OneDrive-BertelsmannSE&Co.KGaA/Masterarbeit/20_data/613010/ps2400dpi150lpi/FC_FS23_S_ES0086_T_F_41L.p1.4c.M.tif\n",
      "/Users/frederic.birwe/Library/CloudStorage/OneDrive-BertelsmannSE&Co.KGaA/Masterarbeit/20_data/613010/ps2400dpi150lpi/FC_FS23_S_ES0083_T_D_41L.p1.4c.C.tif\n",
      "/Users/frederic.birwe/Library/CloudStorage/OneDrive-BertelsmannSE&Co.KGaA/Masterarbeit/20_data/613010/ps2400dpi150lpi/FC_FS23_S_ES0008_T_D_41L.p1.4c.Y.tif\n"
     ]
    },
    {
     "name": "stderr",
     "output_type": "stream",
     "text": [
      " 82%|████████████████████████████▊      | 9415/11457 [00:29<00:11, 172.88it/s]"
     ]
    },
    {
     "name": "stdout",
     "output_type": "stream",
     "text": [
      "/Users/frederic.birwe/Library/CloudStorage/OneDrive-BertelsmannSE&Co.KGaA/Masterarbeit/20_data/613010/ps2400dpi150lpi/FC_FS23_S_ES0056_T_D_Suffix_90_41L.p1.4c.Y.tif\n",
      "/Users/frederic.birwe/Library/CloudStorage/OneDrive-BertelsmannSE&Co.KGaA/Masterarbeit/20_data/613010/ps2400dpi150lpi/FC_FS23_S_ES0059_T_D_41L.p1.4c.Y.tif\n",
      "/Users/frederic.birwe/Library/CloudStorage/OneDrive-BertelsmannSE&Co.KGaA/Masterarbeit/20_data/613010/ps2400dpi150lpi/FC_FS23_S_ES0112_T_CH_41L.p1.4c.Y.tif\n",
      "/Users/frederic.birwe/Library/CloudStorage/OneDrive-BertelsmannSE&Co.KGaA/Masterarbeit/20_data/613010/ps2400dpi150lpi/FC_FS23_S_ES0107_T_D_41L.p1.4c.C.tif\n",
      "/Users/frederic.birwe/Library/CloudStorage/OneDrive-BertelsmannSE&Co.KGaA/Masterarbeit/20_data/613010/ps2400dpi150lpi/FC_FS23_S_ES0072_T_CH_41L.p1.4c.Y.tif\n",
      "/Users/frederic.birwe/Library/CloudStorage/OneDrive-BertelsmannSE&Co.KGaA/Masterarbeit/20_data/613010/ps2400dpi150lpi/FC_FS23_S_ES0047_T_D_Suffix_90_41L.p1.4c.M.tif\n",
      "/Users/frederic.birwe/Library/CloudStorage/OneDrive-BertelsmannSE&Co.KGaA/Masterarbeit/20_data/613010/ps2400dpi150lpi/FC_FS23_S_ES0014_T_NL_41L.p1 2.4c.M.tif\n",
      "/Users/frederic.birwe/Library/CloudStorage/OneDrive-BertelsmannSE&Co.KGaA/Masterarbeit/20_data/613010/ps2400dpi150lpi/FC_FS23_S_ES0011_T_D_41L.p1.4c.Y.tif\n",
      "/Users/frederic.birwe/Library/CloudStorage/OneDrive-BertelsmannSE&Co.KGaA/Masterarbeit/20_data/613010/ps2400dpi150lpi/FC_FS23_S_ES0015_T_NL_41L.p1.4c.C.tif\n",
      "/Users/frederic.birwe/Library/CloudStorage/OneDrive-BertelsmannSE&Co.KGaA/Masterarbeit/20_data/613010/ps2400dpi150lpi/FC_FS23_S_ES0024_T_D_Suffix_90_41L.p1.4c.C.tif\n",
      "/Users/frederic.birwe/Library/CloudStorage/OneDrive-BertelsmannSE&Co.KGaA/Masterarbeit/20_data/613010/ps2400dpi150lpi/FC_FS23_S_ES0013_T_NL_41L.p1 2.4c.Y.tif\n",
      "/Users/frederic.birwe/Library/CloudStorage/OneDrive-BertelsmannSE&Co.KGaA/Masterarbeit/20_data/613010/ps2400dpi150lpi/FC_FS23_S_ES0040_T_D_41L.p1.4c.Y.tif\n",
      "/Users/frederic.birwe/Library/CloudStorage/OneDrive-BertelsmannSE&Co.KGaA/Masterarbeit/20_data/613010/ps2400dpi150lpi/FC_FS23_S_ES0103_T_WCH_41L.p1.4c.M.tif\n",
      "/Users/frederic.birwe/Library/CloudStorage/OneDrive-BertelsmannSE&Co.KGaA/Masterarbeit/20_data/613010/ps2400dpi150lpi/FC_FS23_S_ES0038_T_D_41L.p1.4c.C.tif\n",
      "/Users/frederic.birwe/Library/CloudStorage/OneDrive-BertelsmannSE&Co.KGaA/Masterarbeit/20_data/613010/ps2400dpi150lpi/FC_FS23_S_ES0041_T_F_41L.p1 2.4c.M.tif\n",
      "/Users/frederic.birwe/Library/CloudStorage/OneDrive-BertelsmannSE&Co.KGaA/Masterarbeit/20_data/613010/ps2400dpi150lpi/FC_FS23_S_ES0084_T_F_41L.p1.4c.Y.tif\n",
      "/Users/frederic.birwe/Library/CloudStorage/OneDrive-BertelsmannSE&Co.KGaA/Masterarbeit/20_data/613010/ps2400dpi150lpi/FC_FS23_S_ES0111_T_CH_41L.p1.4c.C.tif\n",
      "/Users/frederic.birwe/Library/CloudStorage/OneDrive-BertelsmannSE&Co.KGaA/Masterarbeit/20_data/613010/ps2400dpi150lpi/FC_FS23_S_ES0096_T_NL_41L.p1.4c.M.tif\n",
      "/Users/frederic.birwe/Library/CloudStorage/OneDrive-BertelsmannSE&Co.KGaA/Masterarbeit/20_data/613010/ps2400dpi150lpi/FC_FS23_S_ES0069_T_D_41L.p1.4c.C.tif\n",
      "/Users/frederic.birwe/Library/CloudStorage/OneDrive-BertelsmannSE&Co.KGaA/Masterarbeit/20_data/613010/ps2400dpi150lpi/FC_FS23_S_ES0061_T_D_Suffix_90_41L.p1.4c.C.tif\n"
     ]
    },
    {
     "name": "stderr",
     "output_type": "stream",
     "text": [
      " 83%|████████████████████████████▉      | 9455/11457 [00:29<00:10, 185.45it/s]"
     ]
    },
    {
     "name": "stdout",
     "output_type": "stream",
     "text": [
      "/Users/frederic.birwe/Library/CloudStorage/OneDrive-BertelsmannSE&Co.KGaA/Masterarbeit/20_data/613010/ps2400dpi150lpi/FC_FS23_S_ES0065_T_NL_41L.p1.4c.M.tif\n",
      "/Users/frederic.birwe/Library/CloudStorage/OneDrive-BertelsmannSE&Co.KGaA/Masterarbeit/20_data/613010/ps2400dpi150lpi/FC_FS23_S_ES0100_T_F_41L.p1.4c.Y.tif\n",
      "/Users/frederic.birwe/Library/CloudStorage/OneDrive-BertelsmannSE&Co.KGaA/Masterarbeit/20_data/613010/ps2400dpi150lpi/FC_FS23_S_ES0096_T_D_Suffix_90_41L.p1.4c.M.tif\n",
      "/Users/frederic.birwe/Library/CloudStorage/OneDrive-BertelsmannSE&Co.KGaA/Masterarbeit/20_data/613010/ps2400dpi150lpi/FC_FS23_S_ES0031_T_F_41L.p1 2.4c.Y.tif\n",
      "/Users/frederic.birwe/Library/CloudStorage/OneDrive-BertelsmannSE&Co.KGaA/Masterarbeit/20_data/613010/ps2400dpi150lpi/FC_FS23_S_ES0073_T_A_41L.p1.4c.M.tif\n",
      "/Users/frederic.birwe/Library/CloudStorage/OneDrive-BertelsmannSE&Co.KGaA/Masterarbeit/20_data/613010/ps2400dpi150lpi/FC_FS23_S_ES0088_T_D_Suffix_90_41L.p1.4c.M.tif\n",
      "/Users/frederic.birwe/Library/CloudStorage/OneDrive-BertelsmannSE&Co.KGaA/Masterarbeit/20_data/613010/ps2400dpi150lpi/FC_FS23_S_ES0007_T_WCH_41L.p1.4c.C.tif\n",
      "/Users/frederic.birwe/Library/CloudStorage/OneDrive-BertelsmannSE&Co.KGaA/Masterarbeit/20_data/613010/ps2400dpi150lpi/FC_FS23_S_ES0057_T_NL_41L.p1.4c.Y.tif\n",
      "/Users/frederic.birwe/Library/CloudStorage/OneDrive-BertelsmannSE&Co.KGaA/Masterarbeit/20_data/613010/ps2400dpi150lpi/FC_FS23_S_ES0041_T_A_41L.p1.4c.C.tif\n",
      "/Users/frederic.birwe/Library/CloudStorage/OneDrive-BertelsmannSE&Co.KGaA/Masterarbeit/20_data/613010/ps2400dpi150lpi/FC_FS23_S_ES0022_T_A_41L.p1.4c.M.tif\n",
      "/Users/frederic.birwe/Library/CloudStorage/OneDrive-BertelsmannSE&Co.KGaA/Masterarbeit/20_data/613010/ps2400dpi150lpi/FC_FS23_S_ES0010_T_A_41L.p1.4c.C.tif\n",
      "/Users/frederic.birwe/Library/CloudStorage/OneDrive-BertelsmannSE&Co.KGaA/Masterarbeit/20_data/613010/ps2400dpi150lpi/FC_FS23_S_ES0049_T_CH_41L.p1.4c.C.tif\n",
      "/Users/frederic.birwe/Library/CloudStorage/OneDrive-BertelsmannSE&Co.KGaA/Masterarbeit/20_data/613010/ps2400dpi150lpi/FC_FS23_S_ES0070_T_WCH_41L.p1.4c.Y.tif\n",
      "/Users/frederic.birwe/Library/CloudStorage/OneDrive-BertelsmannSE&Co.KGaA/Masterarbeit/20_data/613010/ps2400dpi150lpi/FC_FS23_S_ES0068_T_A_41L.p1.4c.Y.tif\n",
      "/Users/frederic.birwe/Library/CloudStorage/OneDrive-BertelsmannSE&Co.KGaA/Masterarbeit/20_data/613010/ps2400dpi150lpi/FC_FS23_S_ES0039_T_A_41L.p1.4c.Y.tif\n"
     ]
    },
    {
     "name": "stderr",
     "output_type": "stream",
     "text": [
      " 83%|█████████████████████████████      | 9493/11457 [00:29<00:11, 167.89it/s]"
     ]
    },
    {
     "name": "stdout",
     "output_type": "stream",
     "text": [
      "/Users/frederic.birwe/Library/CloudStorage/OneDrive-BertelsmannSE&Co.KGaA/Masterarbeit/20_data/613010/ps2400dpi150lpi/FC_FS23_S_ES0080_T_A_41L.p1.4c.M.tif\n",
      "/Users/frederic.birwe/Library/CloudStorage/OneDrive-BertelsmannSE&Co.KGaA/Masterarbeit/20_data/613010/ps2400dpi150lpi/FC_FS23_S_ES0040_T_CH_41L.p1.4c.M.tif\n",
      "/Users/frederic.birwe/Library/CloudStorage/OneDrive-BertelsmannSE&Co.KGaA/Masterarbeit/20_data/613010/ps2400dpi150lpi/FC_FS23_S_ES0059_T_D_Suffix_90_41L.p1.4c.M.tif\n",
      "/Users/frederic.birwe/Library/CloudStorage/OneDrive-BertelsmannSE&Co.KGaA/Masterarbeit/20_data/613010/ps2400dpi150lpi/FC_FS23_S_ES0114_T_D_Suffix_90_41L.p1.4c.C.tif\n",
      "/Users/frederic.birwe/Library/CloudStorage/OneDrive-BertelsmannSE&Co.KGaA/Masterarbeit/20_data/613010/ps2400dpi150lpi/FC_FS23_S_ES0085_T_D_41L.p1.4c.C.tif\n",
      "/Users/frederic.birwe/Library/CloudStorage/OneDrive-BertelsmannSE&Co.KGaA/Masterarbeit/20_data/613010/ps2400dpi150lpi/FC_FS23_S_ES0080_T_F_41L.p1.4c.M.tif\n",
      "/Users/frederic.birwe/Library/CloudStorage/OneDrive-BertelsmannSE&Co.KGaA/Masterarbeit/20_data/613010/ps2400dpi150lpi/FC_FS23_S_ES0096_T_CH_41L.p1 2.4c.Y.tif\n",
      "/Users/frederic.birwe/Library/CloudStorage/OneDrive-BertelsmannSE&Co.KGaA/Masterarbeit/20_data/613010/ps2400dpi150lpi/FC_FS23_S_ES0063_T_WCH_41L.p1.4c.C.tif\n",
      "/Users/frederic.birwe/Library/CloudStorage/OneDrive-BertelsmannSE&Co.KGaA/Masterarbeit/20_data/613010/ps2400dpi150lpi/FC_FS23_S_ES0110_T_D_Suffix_90_41L.p1.4c.Y.tif\n",
      "/Users/frederic.birwe/Library/CloudStorage/OneDrive-BertelsmannSE&Co.KGaA/Masterarbeit/20_data/613010/ps2400dpi150lpi/FC_FS23_S_ES0039_T_F_41L.p1.4c.Y.tif\n",
      "/Users/frederic.birwe/Library/CloudStorage/OneDrive-BertelsmannSE&Co.KGaA/Masterarbeit/20_data/613010/ps2400dpi150lpi/FC_FS23_S_ES0004_T_NL_41L.p1.4c.Y.tif\n",
      "/Users/frederic.birwe/Library/CloudStorage/OneDrive-BertelsmannSE&Co.KGaA/Masterarbeit/20_data/613010/ps2400dpi150lpi/FC_FS23_S_ES0101_T_D_41L.p1.4c.C.tif\n",
      "/Users/frederic.birwe/Library/CloudStorage/OneDrive-BertelsmannSE&Co.KGaA/Masterarbeit/20_data/613010/ps2400dpi150lpi/FC_FS23_S_ES0090_T_CH_41L.p1.4c.C.tif\n"
     ]
    },
    {
     "name": "stderr",
     "output_type": "stream",
     "text": [
      " 83%|█████████████████████████████      | 9532/11457 [00:29<00:10, 179.33it/s]"
     ]
    },
    {
     "name": "stdout",
     "output_type": "stream",
     "text": [
      "/Users/frederic.birwe/Library/CloudStorage/OneDrive-BertelsmannSE&Co.KGaA/Masterarbeit/20_data/613010/ps2400dpi150lpi/FC_FS23_S_ES0063_T_CH_41L.p1.4c.C.tif\n",
      "/Users/frederic.birwe/Library/CloudStorage/OneDrive-BertelsmannSE&Co.KGaA/Masterarbeit/20_data/613010/ps2400dpi150lpi/FC_FS23_S_ES0013_T_CH_41L.p1.4c.M.tif\n",
      "/Users/frederic.birwe/Library/CloudStorage/OneDrive-BertelsmannSE&Co.KGaA/Masterarbeit/20_data/613010/ps2400dpi150lpi/FC_FS23_S_ES0015_T_D_41L.p1.4c.M.tif\n",
      "/Users/frederic.birwe/Library/CloudStorage/OneDrive-BertelsmannSE&Co.KGaA/Masterarbeit/20_data/613010/ps2400dpi150lpi/FC_FS23_S_ES0027_T_D_41L.p1.4c.C.tif\n",
      "/Users/frederic.birwe/Library/CloudStorage/OneDrive-BertelsmannSE&Co.KGaA/Masterarbeit/20_data/613010/ps2400dpi150lpi/FC_FS23_S_ES0022_T_F_41L.p1.4c.M.tif\n",
      "/Users/frederic.birwe/Library/CloudStorage/OneDrive-BertelsmannSE&Co.KGaA/Masterarbeit/20_data/613010/ps2400dpi150lpi/FC_FS23_S_ES0100_T_CH_41L.p1.4c.Y.tif\n",
      "/Users/frederic.birwe/Library/CloudStorage/OneDrive-BertelsmannSE&Co.KGaA/Masterarbeit/20_data/613010/ps2400dpi150lpi/FC_FS23_S_ES0014_T_WCH_41L.p1.4c.Y.tif\n",
      "/Users/frederic.birwe/Library/CloudStorage/OneDrive-BertelsmannSE&Co.KGaA/Masterarbeit/20_data/613010/ps2400dpi150lpi/FC_FS23_S_ES0064_T_WCH_41L.p1.4c.M.tif\n",
      "/Users/frederic.birwe/Library/CloudStorage/OneDrive-BertelsmannSE&Co.KGaA/Masterarbeit/20_data/613010/ps2400dpi150lpi/FC_FS23_S_ES0044_T_D_41L.p1.4c.M.tif\n",
      "/Users/frederic.birwe/Library/CloudStorage/OneDrive-BertelsmannSE&Co.KGaA/Masterarbeit/20_data/613010/ps2400dpi150lpi/FC_FS23_S_ES0099_T_CH_41L.p1.4c.M.tif\n",
      "/Users/frederic.birwe/Library/CloudStorage/OneDrive-BertelsmannSE&Co.KGaA/Masterarbeit/20_data/613010/ps2400dpi150lpi/FC_FS23_S_ES0050_T_CH_41L.p1 2.4c.M.tif\n",
      "/Users/frederic.birwe/Library/CloudStorage/OneDrive-BertelsmannSE&Co.KGaA/Masterarbeit/20_data/613010/ps2400dpi150lpi/FC_FS23_S_ES0073_T_F_41L.p1.4c.M.tif\n",
      "/Users/frederic.birwe/Library/CloudStorage/OneDrive-BertelsmannSE&Co.KGaA/Masterarbeit/20_data/613010/ps2400dpi150lpi/FC_FS23_S_ES0076_T_D_41L.p1.4c.C.tif\n",
      "/Users/frederic.birwe/Library/CloudStorage/OneDrive-BertelsmannSE&Co.KGaA/Masterarbeit/20_data/613010/ps2400dpi150lpi/FC_FS23_S_ES0065_T_D_Suffix_90_41L.p1.4c.Y.tif\n",
      "/Users/frederic.birwe/Library/CloudStorage/OneDrive-BertelsmannSE&Co.KGaA/Masterarbeit/20_data/613010/ps2400dpi150lpi/FC_FS23_S_ES0058_T_CH_41L.p1.4c.Y.tif\n",
      "/Users/frederic.birwe/Library/CloudStorage/OneDrive-BertelsmannSE&Co.KGaA/Masterarbeit/20_data/613010/ps2400dpi150lpi/FC_FS23_S_ES0109_T_WCH_41L.p1.4c.M.tif\n",
      "/Users/frederic.birwe/Library/CloudStorage/OneDrive-BertelsmannSE&Co.KGaA/Masterarbeit/20_data/613010/ps2400dpi150lpi/FC_FS23_S_ES0100_T_A_41L.p1.4c.Y.tif\n",
      "/Users/frederic.birwe/Library/CloudStorage/OneDrive-BertelsmannSE&Co.KGaA/Masterarbeit/20_data/613010/ps2400dpi150lpi/FC_FS23_S_ES0084_T_A_41L.p1.4c.Y.tif\n",
      "/Users/frederic.birwe/Library/CloudStorage/OneDrive-BertelsmannSE&Co.KGaA/Masterarbeit/20_data/613010/ps2400dpi150lpi/FC_FS23_S_ES0046_T_NL_41L.p1.4c.C.tif\n"
     ]
    },
    {
     "name": "stderr",
     "output_type": "stream",
     "text": [
      " 84%|█████████████████████████████▏     | 9571/11457 [00:30<00:10, 174.03it/s]"
     ]
    },
    {
     "name": "stdout",
     "output_type": "stream",
     "text": [
      "/Users/frederic.birwe/Library/CloudStorage/OneDrive-BertelsmannSE&Co.KGaA/Masterarbeit/20_data/613010/ps2400dpi150lpi/FC_FS23_S_ES0049_T_WCH_41L.p1 2.4c.Y.tif\n",
      "/Users/frederic.birwe/Library/CloudStorage/OneDrive-BertelsmannSE&Co.KGaA/Masterarbeit/20_data/613010/ps2400dpi150lpi/FC_FS23_S_ES0077_T_A_41L.p1.4c.Y.tif\n",
      "/Users/frederic.birwe/Library/CloudStorage/OneDrive-BertelsmannSE&Co.KGaA/Masterarbeit/20_data/613010/ps2400dpi150lpi/FC_FS23_S_ES0036_T_NL_41L.p1.4c.M.tif\n",
      "/Users/frederic.birwe/Library/CloudStorage/OneDrive-BertelsmannSE&Co.KGaA/Masterarbeit/20_data/613010/ps2400dpi150lpi/FC_FS23_S_ES0020_T_D_Suffix_90_41L.p1.4c.Y.tif\n",
      "/Users/frederic.birwe/Library/CloudStorage/OneDrive-BertelsmannSE&Co.KGaA/Masterarbeit/20_data/613010/ps2400dpi150lpi/FC_FS23_S_ES0026_T_A_41L.p1.4c.Y.tif\n",
      "/Users/frederic.birwe/Library/CloudStorage/OneDrive-BertelsmannSE&Co.KGaA/Masterarbeit/20_data/613010/ps2400dpi150lpi/FC_FS23_S_ES0021_T_NL_41L.p1 2.4c.Y.tif\n",
      "/Users/frederic.birwe/Library/CloudStorage/OneDrive-BertelsmannSE&Co.KGaA/Masterarbeit/20_data/613010/ps2400dpi150lpi/FC_FS23_S_ES0102_T_A_41L.p1.4c.M.tif\n",
      "/Users/frederic.birwe/Library/CloudStorage/OneDrive-BertelsmannSE&Co.KGaA/Masterarbeit/20_data/613010/ps2400dpi150lpi/FC_FS23_S_ES0052_T_D_Suffix_90_41L.p1.4c.C.tif\n",
      "/Users/frederic.birwe/Library/CloudStorage/OneDrive-BertelsmannSE&Co.KGaA/Masterarbeit/20_data/613010/ps2400dpi150lpi/FC_FS23_S_ES0031_T_D_Suffix_90_41L.p1.4c.M.tif\n",
      "/Users/frederic.birwe/Library/CloudStorage/OneDrive-BertelsmannSE&Co.KGaA/Masterarbeit/20_data/613010/ps2400dpi150lpi/FC_FS23_S_ES0043_T_F_41L.p1 2.4c.Y.tif\n",
      "/Users/frederic.birwe/Library/CloudStorage/OneDrive-BertelsmannSE&Co.KGaA/Masterarbeit/20_data/613010/ps2400dpi150lpi/FC_FS23_S_ES0022_T_CH_41L.p1.4c.C.tif\n",
      "/Users/frederic.birwe/Library/CloudStorage/OneDrive-BertelsmannSE&Co.KGaA/Masterarbeit/20_data/613010/ps2400dpi150lpi/FC_FS23_S_ES0086_T_A_41L.p1.4c.M.tif\n"
     ]
    },
    {
     "name": "stderr",
     "output_type": "stream",
     "text": [
      " 84%|█████████████████████████████▎     | 9606/11457 [00:30<00:11, 162.72it/s]"
     ]
    },
    {
     "name": "stdout",
     "output_type": "stream",
     "text": [
      "/Users/frederic.birwe/Library/CloudStorage/OneDrive-BertelsmannSE&Co.KGaA/Masterarbeit/20_data/613010/ps2400dpi150lpi/FC_FS23_S_ES0026_T_NL_41L.p1 2.4c.M.tif\n",
      "/Users/frederic.birwe/Library/CloudStorage/OneDrive-BertelsmannSE&Co.KGaA/Masterarbeit/20_data/613010/ps2400dpi150lpi/FC_FS23_S_ES0045_T_NL_41L.p1.4c.Y.tif\n",
      "/Users/frederic.birwe/Library/CloudStorage/OneDrive-BertelsmannSE&Co.KGaA/Masterarbeit/20_data/613010/ps2400dpi150lpi/FC_FS23_S_ES0047_T_A_41L.p1.4c.C.tif\n",
      "/Users/frederic.birwe/Library/CloudStorage/OneDrive-BertelsmannSE&Co.KGaA/Masterarbeit/20_data/613010/ps2400dpi150lpi/FC_FS23_S_ES0052_T_CH_41L.p1.4c.M.tif\n",
      "/Users/frederic.birwe/Library/CloudStorage/OneDrive-BertelsmannSE&Co.KGaA/Masterarbeit/20_data/613010/ps2400dpi150lpi/FC_FS23_S_ES0034_T_F_41L.p1 2.4c.C.tif\n",
      "/Users/frederic.birwe/Library/CloudStorage/OneDrive-BertelsmannSE&Co.KGaA/Masterarbeit/20_data/613010/ps2400dpi150lpi/FC_FS23_S_ES0075_T_A_41L.p1.4c.M.tif\n",
      "/Users/frederic.birwe/Library/CloudStorage/OneDrive-BertelsmannSE&Co.KGaA/Masterarbeit/20_data/613010/ps2400dpi150lpi/FC_FS23_S_ES0074_T_CH_41L.p1 2.4c.C.tif\n",
      "/Users/frederic.birwe/Library/CloudStorage/OneDrive-BertelsmannSE&Co.KGaA/Masterarbeit/20_data/613010/ps2400dpi150lpi/FC_FS23_S_ES0074_T_D_Suffix_90_41L.p1.4c.M.tif\n",
      "/Users/frederic.birwe/Library/CloudStorage/OneDrive-BertelsmannSE&Co.KGaA/Masterarbeit/20_data/613010/ps2400dpi150lpi/FC_FS23_S_ES0024_T_WCH_41L.p1 2.4c.M.tif\n",
      "/Users/frederic.birwe/Library/CloudStorage/OneDrive-BertelsmannSE&Co.KGaA/Masterarbeit/20_data/613010/ps2400dpi150lpi/FC_FS23_S_ES0101_T_WCH_41L.p1.4c.Y.tif\n",
      "/Users/frederic.birwe/Library/CloudStorage/OneDrive-BertelsmannSE&Co.KGaA/Masterarbeit/20_data/613010/ps2400dpi150lpi/FC_FS23_S_ES0016_T_A_41L.p1.4c.C.tif\n",
      "/Users/frederic.birwe/Library/CloudStorage/OneDrive-BertelsmannSE&Co.KGaA/Masterarbeit/20_data/613010/ps2400dpi150lpi/FC_FS23_S_ES0083_T_D_Suffix_90_41L.p1.4c.C.tif\n",
      "/Users/frederic.birwe/Library/CloudStorage/OneDrive-BertelsmannSE&Co.KGaA/Masterarbeit/20_data/613010/ps2400dpi150lpi/FC_FS23_S_ES0017_T_D_Suffix_90_41L.p1.4c.C.tif\n",
      "/Users/frederic.birwe/Library/CloudStorage/OneDrive-BertelsmannSE&Co.KGaA/Masterarbeit/20_data/613010/ps2400dpi150lpi/FC_FS23_S_ES0024_T_A_41L.p1.4c.M.tif\n",
      "/Users/frederic.birwe/Library/CloudStorage/OneDrive-BertelsmannSE&Co.KGaA/Masterarbeit/20_data/613010/ps2400dpi150lpi/FC_FS23_S_ES0085_T_F_41L.p1 2.4c.M.tif\n",
      "/Users/frederic.birwe/Library/CloudStorage/OneDrive-BertelsmannSE&Co.KGaA/Masterarbeit/20_data/613010/ps2400dpi150lpi/FC_FS23_S_ES0082_T_F_41L.p1.4c.Y.tif\n",
      "/Users/frederic.birwe/Library/CloudStorage/OneDrive-BertelsmannSE&Co.KGaA/Masterarbeit/20_data/613010/ps2400dpi150lpi/FC_FS23_S_ES0008_T_NL_41L.p1 2.4c.C.tif\n",
      "/Users/frederic.birwe/Library/CloudStorage/OneDrive-BertelsmannSE&Co.KGaA/Masterarbeit/20_data/613010/ps2400dpi150lpi/FC_FS23_S_ES0009_T_D_Suffix_90_41L.p1.4c.C.tif\n",
      "/Users/frederic.birwe/Library/CloudStorage/OneDrive-BertelsmannSE&Co.KGaA/Masterarbeit/20_data/613010/ps2400dpi150lpi/FC_FS23_S_ES0009_T_F_41L.p1.4c.C.tif\n",
      "/Users/frederic.birwe/Library/CloudStorage/OneDrive-BertelsmannSE&Co.KGaA/Masterarbeit/20_data/613010/ps2400dpi150lpi/FC_FS23_S_ES0072_T_WCH_41L.p1.4c.M.tif\n",
      "/Users/frederic.birwe/Library/CloudStorage/OneDrive-BertelsmannSE&Co.KGaA/Masterarbeit/20_data/613010/ps2400dpi150lpi/FC_FS23_S_ES0019_T_CH_41L.p1.4c.Y.tif\n",
      "/Users/frederic.birwe/Library/CloudStorage/OneDrive-BertelsmannSE&Co.KGaA/Masterarbeit/20_data/613010/ps2400dpi150lpi/FC_FS23_S_ES0093_T_CH_41L.p1.4c.Y.tif\n",
      "/Users/frederic.birwe/Library/CloudStorage/OneDrive-BertelsmannSE&Co.KGaA/Masterarbeit/20_data/613010/ps2400dpi150lpi/FC_FS23_S_ES0058_T_F_41L.p1.4c.C.tif\n"
     ]
    },
    {
     "name": "stderr",
     "output_type": "stream",
     "text": [
      " 84%|█████████████████████████████▍     | 9643/11457 [00:30<00:10, 172.06it/s]"
     ]
    },
    {
     "name": "stdout",
     "output_type": "stream",
     "text": [
      "/Users/frederic.birwe/Library/CloudStorage/OneDrive-BertelsmannSE&Co.KGaA/Masterarbeit/20_data/613010/ps2400dpi150lpi/FC_FS23_S_ES0060_T_CH_41L.p1.4c.Y.tif\n",
      "/Users/frederic.birwe/Library/CloudStorage/OneDrive-BertelsmannSE&Co.KGaA/Masterarbeit/20_data/613010/ps2400dpi150lpi/FC_FS23_S_ES0106_T_F_41L.p1.4c.Y.tif\n",
      "/Users/frederic.birwe/Library/CloudStorage/OneDrive-BertelsmannSE&Co.KGaA/Masterarbeit/20_data/613010/ps2400dpi150lpi/FC_FS23_S_ES0007_T_NL_41L.p1.4c.C.tif\n",
      "/Users/frederic.birwe/Library/CloudStorage/OneDrive-BertelsmannSE&Co.KGaA/Masterarbeit/20_data/613010/ps2400dpi150lpi/FC_FS23_S_ES0092_T_NL_41L.p1 2.4c.M.tif\n",
      "/Users/frederic.birwe/Library/CloudStorage/OneDrive-BertelsmannSE&Co.KGaA/Masterarbeit/20_data/613010/ps2400dpi150lpi/FC_FS23_S_ES0077_T_NL_41L.p1.4c.M.tif\n",
      "/Users/frederic.birwe/Library/CloudStorage/OneDrive-BertelsmannSE&Co.KGaA/Masterarbeit/20_data/613010/ps2400dpi150lpi/FC_FS23_S_ES0017_T_D_41L.p1.4c.Y.tif\n",
      "/Users/frederic.birwe/Library/CloudStorage/OneDrive-BertelsmannSE&Co.KGaA/Masterarbeit/20_data/613010/ps2400dpi150lpi/FC_FS23_S_ES0103_T_CH_41L.p1.4c.C.tif\n",
      "/Users/frederic.birwe/Library/CloudStorage/OneDrive-BertelsmannSE&Co.KGaA/Masterarbeit/20_data/613010/ps2400dpi150lpi/FC_FS23_S_ES0084_T_NL_41L.p1.4c.M.tif\n",
      "/Users/frederic.birwe/Library/CloudStorage/OneDrive-BertelsmannSE&Co.KGaA/Masterarbeit/20_data/613010/ps2400dpi150lpi/FC_FS23_S_ES0054_T_NL_41L.p1 2.4c.Y.tif\n",
      "/Users/frederic.birwe/Library/CloudStorage/OneDrive-BertelsmannSE&Co.KGaA/Masterarbeit/20_data/613010/ps2400dpi150lpi/FC_FS23_S_ES0099_T_F_41L.p1.4c.M.tif\n",
      "/Users/frederic.birwe/Library/CloudStorage/OneDrive-BertelsmannSE&Co.KGaA/Masterarbeit/20_data/613010/ps2400dpi150lpi/FC_FS23_S_ES0038_T_WCH_41L.p1 2.4c.Y.tif\n",
      "/Users/frederic.birwe/Library/CloudStorage/OneDrive-BertelsmannSE&Co.KGaA/Masterarbeit/20_data/613010/ps2400dpi150lpi/FC_FS23_S_ES0020_T_F_41L.p1.4c.Y.tif\n",
      "/Users/frederic.birwe/Library/CloudStorage/OneDrive-BertelsmannSE&Co.KGaA/Masterarbeit/20_data/613010/ps2400dpi150lpi/FC_FS23_S_ES0075_T_WCH_41L.p1.4c.C.tif\n",
      "/Users/frederic.birwe/Library/CloudStorage/OneDrive-BertelsmannSE&Co.KGaA/Masterarbeit/20_data/613010/ps2400dpi150lpi/FC_FS23_S_ES0046_T_D_41L.p1.4c.Y.tif\n",
      "/Users/frederic.birwe/Library/CloudStorage/OneDrive-BertelsmannSE&Co.KGaA/Masterarbeit/20_data/613010/ps2400dpi150lpi/FC_FS23_S_ES0071_T_F_41L.p1.4c.Y.tif\n",
      "/Users/frederic.birwe/Library/CloudStorage/OneDrive-BertelsmannSE&Co.KGaA/Masterarbeit/20_data/613010/ps2400dpi150lpi/FC_FS23_S_ES0101_T_D_Suffix_90_41L.p1.4c.M.tif\n",
      "/Users/frederic.birwe/Library/CloudStorage/OneDrive-BertelsmannSE&Co.KGaA/Masterarbeit/20_data/613010/ps2400dpi150lpi/FC_FS23_S_ES0086_T_WCH_41L.p1.4c.M.tif\n",
      "/Users/frederic.birwe/Library/CloudStorage/OneDrive-BertelsmannSE&Co.KGaA/Masterarbeit/20_data/613010/ps2400dpi150lpi/FC_FS23_S_ES0059_T_WCH_41L.p1.4c.C.tif\n"
     ]
    },
    {
     "name": "stderr",
     "output_type": "stream",
     "text": [
      " 85%|█████████████████████████████▌     | 9686/11457 [00:30<00:09, 194.17it/s]"
     ]
    },
    {
     "name": "stdout",
     "output_type": "stream",
     "text": [
      "/Users/frederic.birwe/Library/CloudStorage/OneDrive-BertelsmannSE&Co.KGaA/Masterarbeit/20_data/613010/ps2400dpi150lpi/FC_FS23_S_ES0076_T_A_41L.p1.4c.Y.tif\n",
      "/Users/frederic.birwe/Library/CloudStorage/OneDrive-BertelsmannSE&Co.KGaA/Masterarbeit/20_data/613010/ps2400dpi150lpi/FC_FS23_S_ES0102_T_F_41L.p1 2.4c.Y.tif\n",
      "/Users/frederic.birwe/Library/CloudStorage/OneDrive-BertelsmannSE&Co.KGaA/Masterarbeit/20_data/613010/ps2400dpi150lpi/FC_FS23_S_ES0039_T_NL_41L.p1 2.4c.C.tif\n",
      "/Users/frederic.birwe/Library/CloudStorage/OneDrive-BertelsmannSE&Co.KGaA/Masterarbeit/20_data/613010/ps2400dpi150lpi/FC_FS23_S_ES0027_T_A_41L.p1.4c.Y.tif\n",
      "/Users/frederic.birwe/Library/CloudStorage/OneDrive-BertelsmannSE&Co.KGaA/Masterarbeit/20_data/613010/ps2400dpi150lpi/FC_FS23_S_ES0040_T_D_Suffix_90_41L.p1.4c.Y.tif\n",
      "/Users/frederic.birwe/Library/CloudStorage/OneDrive-BertelsmannSE&Co.KGaA/Masterarbeit/20_data/613010/ps2400dpi150lpi/FC_FS23_S_ES0033_T_NL_41L.p1.4c.M.tif\n",
      "/Users/frederic.birwe/Library/CloudStorage/OneDrive-BertelsmannSE&Co.KGaA/Masterarbeit/20_data/613010/ps2400dpi150lpi/FC_FS23_S_ES0037_T_WCH_41L.p1.4c.C.tif\n",
      "/Users/frederic.birwe/Library/CloudStorage/OneDrive-BertelsmannSE&Co.KGaA/Masterarbeit/20_data/613010/ps2400dpi150lpi/FC_FS23_S_ES0030_T_CH_41L.p1 2.4c.C.tif\n",
      "/Users/frederic.birwe/Library/CloudStorage/OneDrive-BertelsmannSE&Co.KGaA/Masterarbeit/20_data/613010/ps2400dpi150lpi/FC_FS23_S_ES0024_T_CH_41L.p1.4c.Y.tif\n",
      "/Users/frederic.birwe/Library/CloudStorage/OneDrive-BertelsmannSE&Co.KGaA/Masterarbeit/20_data/613010/ps2400dpi150lpi/FC_FS23_S_ES0091_T_D_Suffix_90_41L.p1.4c.Y.tif\n",
      "/Users/frederic.birwe/Library/CloudStorage/OneDrive-BertelsmannSE&Co.KGaA/Masterarbeit/20_data/613010/ps2400dpi150lpi/FC_FS23_S_ES0005_T_D_Suffix_90_41L.p1.4c.Y.tif\n",
      "/Users/frederic.birwe/Library/CloudStorage/OneDrive-BertelsmannSE&Co.KGaA/Masterarbeit/20_data/613010/ps2400dpi150lpi/FC_FS23_S_ES0101_T_A_41L.p1.4c.Y.tif\n",
      "/Users/frederic.birwe/Library/CloudStorage/OneDrive-BertelsmannSE&Co.KGaA/Masterarbeit/20_data/613010/ps2400dpi150lpi/FC_FS23_S_ES0030_T_WCH_41L.p1.4c.M.tif\n",
      "/Users/frederic.birwe/Library/CloudStorage/OneDrive-BertelsmannSE&Co.KGaA/Masterarbeit/20_data/613010/ps2400dpi150lpi/FC_FS23_S_ES0043_T_NL_41L.p1.4c.C.tif\n",
      "/Users/frederic.birwe/Library/CloudStorage/OneDrive-BertelsmannSE&Co.KGaA/Masterarbeit/20_data/613010/ps2400dpi150lpi/FC_FS23_S_ES0040_T_WCH_41L.p1.4c.Y.tif\n",
      "/Users/frederic.birwe/Library/CloudStorage/OneDrive-BertelsmannSE&Co.KGaA/Masterarbeit/20_data/613010/ps2400dpi150lpi/FC_FS23_S_ES0085_T_A_41L.p1.4c.Y.tif\n",
      "/Users/frederic.birwe/Library/CloudStorage/OneDrive-BertelsmannSE&Co.KGaA/Masterarbeit/20_data/613010/ps2400dpi150lpi/FC_FS23_S_ES0081_T_WCH_41L.p1.4c.C.tif\n",
      "/Users/frederic.birwe/Library/CloudStorage/OneDrive-BertelsmannSE&Co.KGaA/Masterarbeit/20_data/613010/ps2400dpi150lpi/FC_FS23_S_ES0026_T_D_41L.p1.4c.C.tif\n",
      "/Users/frederic.birwe/Library/CloudStorage/OneDrive-BertelsmannSE&Co.KGaA/Masterarbeit/20_data/613010/ps2400dpi150lpi/FC_FS23_S_ES0023_T_F_41L.p1.4c.M.tif\n"
     ]
    },
    {
     "name": "stderr",
     "output_type": "stream",
     "text": [
      " 85%|█████████████████████████████▋     | 9727/11457 [00:30<00:08, 197.53it/s]"
     ]
    },
    {
     "name": "stdout",
     "output_type": "stream",
     "text": [
      "/Users/frederic.birwe/Library/CloudStorage/OneDrive-BertelsmannSE&Co.KGaA/Masterarbeit/20_data/613010/ps2400dpi150lpi/FC_FS23_S_ES0014_T_D_41L.p1.4c.M.tif\n",
      "/Users/frederic.birwe/Library/CloudStorage/OneDrive-BertelsmannSE&Co.KGaA/Masterarbeit/20_data/613010/ps2400dpi150lpi/FC_FS23_S_ES0010_T_NL_41L.p1 2.4c.Y.tif\n",
      "/Users/frederic.birwe/Library/CloudStorage/OneDrive-BertelsmannSE&Co.KGaA/Masterarbeit/20_data/613010/ps2400dpi150lpi/FC_FS23_S_ES0011_T_F_41L.p1.4c.C.tif\n",
      "/Users/frederic.birwe/Library/CloudStorage/OneDrive-BertelsmannSE&Co.KGaA/Masterarbeit/20_data/613010/ps2400dpi150lpi/FC_FS23_S_ES0077_T_D_41L.p1.4c.C.tif\n",
      "/Users/frederic.birwe/Library/CloudStorage/OneDrive-BertelsmannSE&Co.KGaA/Masterarbeit/20_data/613010/ps2400dpi150lpi/FC_FS23_S_ES0017_T_NL_41L.p1 2.4c.M.tif\n",
      "/Users/frederic.birwe/Library/CloudStorage/OneDrive-BertelsmannSE&Co.KGaA/Masterarbeit/20_data/613010/ps2400dpi150lpi/FC_FS23_S_ES0105_T_CH_41L.p1.4c.Y.tif\n",
      "/Users/frederic.birwe/Library/CloudStorage/OneDrive-BertelsmannSE&Co.KGaA/Masterarbeit/20_data/613010/ps2400dpi150lpi/FC_FS23_S_ES0040_T_F_41L.p1.4c.C.tif\n",
      "/Users/frederic.birwe/Library/CloudStorage/OneDrive-BertelsmannSE&Co.KGaA/Masterarbeit/20_data/613010/ps2400dpi150lpi/FC_FS23_S_ES0045_T_D_41L.p1.4c.M.tif\n",
      "/Users/frederic.birwe/Library/CloudStorage/OneDrive-BertelsmannSE&Co.KGaA/Masterarbeit/20_data/613010/ps2400dpi150lpi/FC_FS23_S_ES0016_T_CH_41L.p1.4c.M.tif\n",
      "/Users/frederic.birwe/Library/CloudStorage/OneDrive-BertelsmannSE&Co.KGaA/Masterarbeit/20_data/613010/ps2400dpi150lpi/FC_FS23_S_ES0112_T_NL_41L.p1.4c.M.tif\n",
      "/Users/frederic.birwe/Library/CloudStorage/OneDrive-BertelsmannSE&Co.KGaA/Masterarbeit/20_data/613010/ps2400dpi150lpi/FC_FS23_S_ES0038_T_F_41L.p1.4c.Y.tif\n",
      "/Users/frederic.birwe/Library/CloudStorage/OneDrive-BertelsmannSE&Co.KGaA/Masterarbeit/20_data/613010/ps2400dpi150lpi/FC_FS23_S_ES0066_T_CH_41L.p1.4c.C.tif\n",
      "/Users/frederic.birwe/Library/CloudStorage/OneDrive-BertelsmannSE&Co.KGaA/Masterarbeit/20_data/613010/ps2400dpi150lpi/FC_FS23_S_ES0084_T_D_41L.p1.4c.C.tif\n",
      "/Users/frederic.birwe/Library/CloudStorage/OneDrive-BertelsmannSE&Co.KGaA/Masterarbeit/20_data/613010/ps2400dpi150lpi/FC_FS23_S_ES0081_T_F_41L.p1.4c.M.tif\n",
      "/Users/frederic.birwe/Library/CloudStorage/OneDrive-BertelsmannSE&Co.KGaA/Masterarbeit/20_data/613010/ps2400dpi150lpi/FC_FS23_S_ES0078_T_NL_41L.p1.4c.Y.tif\n",
      "/Users/frederic.birwe/Library/CloudStorage/OneDrive-BertelsmannSE&Co.KGaA/Masterarbeit/20_data/613010/ps2400dpi150lpi/FC_FS23_S_ES0045_T_CH_41L.p1 2.4c.C.tif\n"
     ]
    },
    {
     "name": "stderr",
     "output_type": "stream",
     "text": [
      " 85%|█████████████████████████████▊     | 9767/11457 [00:31<00:09, 182.32it/s]"
     ]
    },
    {
     "name": "stdout",
     "output_type": "stream",
     "text": [
      "/Users/frederic.birwe/Library/CloudStorage/OneDrive-BertelsmannSE&Co.KGaA/Masterarbeit/20_data/613010/ps2400dpi150lpi/FC_FS23_S_ES0105_T_F_41L.p1.4c.M.tif\n",
      "/Users/frederic.birwe/Library/CloudStorage/OneDrive-BertelsmannSE&Co.KGaA/Masterarbeit/20_data/613010/ps2400dpi150lpi/FC_FS23_S_ES0100_T_D_41L.p1.4c.C.tif\n",
      "/Users/frederic.birwe/Library/CloudStorage/OneDrive-BertelsmannSE&Co.KGaA/Masterarbeit/20_data/613010/ps2400dpi150lpi/FC_FS23_S_ES0021_T_F_41L.p1.4c.Y.tif\n",
      "/Users/frederic.birwe/Library/CloudStorage/OneDrive-BertelsmannSE&Co.KGaA/Masterarbeit/20_data/613010/ps2400dpi150lpi/FC_FS23_S_ES0098_T_F_41L.p1.4c.M.tif\n",
      "/Users/frederic.birwe/Library/CloudStorage/OneDrive-BertelsmannSE&Co.KGaA/Masterarbeit/20_data/613010/ps2400dpi150lpi/FC_FS23_S_ES0067_T_F_41L.p1 2.4c.M.tif\n",
      "/Users/frederic.birwe/Library/CloudStorage/OneDrive-BertelsmannSE&Co.KGaA/Masterarbeit/20_data/613010/ps2400dpi150lpi/FC_FS23_S_ES0016_T_D_41L.p1.4c.Y.tif\n",
      "/Users/frederic.birwe/Library/CloudStorage/OneDrive-BertelsmannSE&Co.KGaA/Masterarbeit/20_data/613010/ps2400dpi150lpi/FC_FS23_S_ES0014_T_CH_41L.p1 2.4c.M.tif\n",
      "/Users/frederic.birwe/Library/CloudStorage/OneDrive-BertelsmannSE&Co.KGaA/Masterarbeit/20_data/613010/ps2400dpi150lpi/FC_FS23_S_ES0022_T_WCH_41L.p1 2.4c.C.tif\n",
      "/Users/frederic.birwe/Library/CloudStorage/OneDrive-BertelsmannSE&Co.KGaA/Masterarbeit/20_data/613010/ps2400dpi150lpi/FC_FS23_S_ES0070_T_F_41L.p1.4c.Y.tif\n",
      "/Users/frederic.birwe/Library/CloudStorage/OneDrive-BertelsmannSE&Co.KGaA/Masterarbeit/20_data/613010/ps2400dpi150lpi/FC_FS23_S_ES0047_T_D_41L.p1.4c.Y.tif\n",
      "/Users/frederic.birwe/Library/CloudStorage/OneDrive-BertelsmannSE&Co.KGaA/Masterarbeit/20_data/613010/ps2400dpi150lpi/FC_FS23_S_ES0102_T_D_Suffix_90_41L.p1.4c.C.tif\n",
      "/Users/frederic.birwe/Library/CloudStorage/OneDrive-BertelsmannSE&Co.KGaA/Masterarbeit/20_data/613010/ps2400dpi150lpi/FC_FS23_S_ES0106_T_CH_41L.p1.4c.C.tif\n",
      "/Users/frederic.birwe/Library/CloudStorage/OneDrive-BertelsmannSE&Co.KGaA/Masterarbeit/20_data/613010/ps2400dpi150lpi/FC_FS23_S_ES0069_T_D_Suffix_90_41L.p1.4c.C.tif\n",
      "/Users/frederic.birwe/Library/CloudStorage/OneDrive-BertelsmannSE&Co.KGaA/Masterarbeit/20_data/613010/ps2400dpi150lpi/FC_FS23_S_ES0065_T_CH_41L.p1.4c.Y.tif\n",
      "/Users/frederic.birwe/Library/CloudStorage/OneDrive-BertelsmannSE&Co.KGaA/Masterarbeit/20_data/613010/ps2400dpi150lpi/FC_FS23_S_ES0107_T_F_41L.p1.4c.Y.tif\n",
      "/Users/frederic.birwe/Library/CloudStorage/OneDrive-BertelsmannSE&Co.KGaA/Masterarbeit/20_data/613010/ps2400dpi150lpi/FC_FS23_S_ES0088_T_NL_41L.p1.4c.C.tif\n",
      "/Users/frederic.birwe/Library/CloudStorage/OneDrive-BertelsmannSE&Co.KGaA/Masterarbeit/20_data/613010/ps2400dpi150lpi/FC_FS23_S_ES0046_T_NL_41L.p1 2.4c.C.tif\n",
      "/Users/frederic.birwe/Library/CloudStorage/OneDrive-BertelsmannSE&Co.KGaA/Masterarbeit/20_data/613010/ps2400dpi150lpi/FC_FS23_S_ES0059_T_F_41L.p1.4c.C.tif\n",
      "/Users/frederic.birwe/Library/CloudStorage/OneDrive-BertelsmannSE&Co.KGaA/Masterarbeit/20_data/613010/ps2400dpi150lpi/FC_FS23_S_ES0074_T_A_41L.p1.4c.M.tif\n",
      "/Users/frederic.birwe/Library/CloudStorage/OneDrive-BertelsmannSE&Co.KGaA/Masterarbeit/20_data/613010/ps2400dpi150lpi/FC_FS23_S_ES0048_T_WCH_41L.p1.4c.M.tif\n"
     ]
    },
    {
     "name": "stderr",
     "output_type": "stream",
     "text": [
      " 86%|█████████████████████████████▉     | 9810/11457 [00:31<00:08, 196.08it/s]"
     ]
    },
    {
     "name": "stdout",
     "output_type": "stream",
     "text": [
      "/Users/frederic.birwe/Library/CloudStorage/OneDrive-BertelsmannSE&Co.KGaA/Masterarbeit/20_data/613010/ps2400dpi150lpi/FC_FS23_S_ES0046_T_A_41L.p1.4c.C.tif\n",
      "/Users/frederic.birwe/Library/CloudStorage/OneDrive-BertelsmannSE&Co.KGaA/Masterarbeit/20_data/613010/ps2400dpi150lpi/FC_FS23_S_ES0077_T_D_Suffix_90_41L.p1.4c.C.tif\n",
      "/Users/frederic.birwe/Library/CloudStorage/OneDrive-BertelsmannSE&Co.KGaA/Masterarbeit/20_data/613010/ps2400dpi150lpi/FC_FS23_S_ES0057_T_CH_41L.p1.4c.M.tif\n",
      "/Users/frederic.birwe/Library/CloudStorage/OneDrive-BertelsmannSE&Co.KGaA/Masterarbeit/20_data/613010/ps2400dpi150lpi/FC_FS23_S_ES0025_T_A_41L.p1.4c.M.tif\n",
      "/Users/frederic.birwe/Library/CloudStorage/OneDrive-BertelsmannSE&Co.KGaA/Masterarbeit/20_data/613010/ps2400dpi150lpi/FC_FS23_S_ES0033_T_NL_41L.p1 2.4c.C.tif\n",
      "/Users/frederic.birwe/Library/CloudStorage/OneDrive-BertelsmannSE&Co.KGaA/Masterarbeit/20_data/613010/ps2400dpi150lpi/FC_FS23_S_ES0017_T_A_41L.p1.4c.C.tif\n",
      "/Users/frederic.birwe/Library/CloudStorage/OneDrive-BertelsmannSE&Co.KGaA/Masterarbeit/20_data/613010/ps2400dpi150lpi/FC_FS23_S_ES0080_T_D_Suffix_90_41L.p1.4c.M.tif\n",
      "/Users/frederic.birwe/Library/CloudStorage/OneDrive-BertelsmannSE&Co.KGaA/Masterarbeit/20_data/613010/ps2400dpi150lpi/FC_FS23_S_ES0014_T_D_Suffix_90_41L.p1.4c.M.tif\n",
      "/Users/frederic.birwe/Library/CloudStorage/OneDrive-BertelsmannSE&Co.KGaA/Masterarbeit/20_data/613010/ps2400dpi150lpi/FC_FS23_S_ES0068_T_NL_41L.p1 2.4c.M.tif\n",
      "/Users/frederic.birwe/Library/CloudStorage/OneDrive-BertelsmannSE&Co.KGaA/Masterarbeit/20_data/613010/ps2400dpi150lpi/FC_FS23_S_ES0040_T_NL_41L.p1.4c.Y.tif\n",
      "/Users/frederic.birwe/Library/CloudStorage/OneDrive-BertelsmannSE&Co.KGaA/Masterarbeit/20_data/613010/ps2400dpi150lpi/FC_FS23_S_ES0051_T_D_Suffix_90_41L.p1.4c.M.tif\n",
      "/Users/frederic.birwe/Library/CloudStorage/OneDrive-BertelsmannSE&Co.KGaA/Masterarbeit/20_data/613010/ps2400dpi150lpi/FC_FS23_S_ES0027_T_CH_41L.p1.4c.C.tif\n",
      "/Users/frederic.birwe/Library/CloudStorage/OneDrive-BertelsmannSE&Co.KGaA/Masterarbeit/20_data/613010/ps2400dpi150lpi/FC_FS23_S_ES0032_T_D_Suffix_90_41L.p1.4c.C.tif\n",
      "/Users/frederic.birwe/Library/CloudStorage/OneDrive-BertelsmannSE&Co.KGaA/Masterarbeit/20_data/613010/ps2400dpi150lpi/FC_FS23_S_ES0103_T_A_41L.p1.4c.M.tif\n",
      "/Users/frederic.birwe/Library/CloudStorage/OneDrive-BertelsmannSE&Co.KGaA/Masterarbeit/20_data/613010/ps2400dpi150lpi/FC_FS23_S_ES0114_T_F_41L.p1 2.4c.Y.tif\n",
      "/Users/frederic.birwe/Library/CloudStorage/OneDrive-BertelsmannSE&Co.KGaA/Masterarbeit/20_data/613010/ps2400dpi150lpi/FC_FS23_S_ES0087_T_A_41L.p1.4c.M.tif\n",
      "/Users/frederic.birwe/Library/CloudStorage/OneDrive-BertelsmannSE&Co.KGaA/Masterarbeit/20_data/613010/ps2400dpi150lpi/FC_FS23_S_ES0039_T_NL_41L.p1.4c.Y.tif\n",
      "/Users/frederic.birwe/Library/CloudStorage/OneDrive-BertelsmannSE&Co.KGaA/Masterarbeit/20_data/613010/ps2400dpi150lpi/FC_FS23_S_ES0013_T_WCH_41L.p1.4c.C.tif\n",
      "/Users/frederic.birwe/Library/CloudStorage/OneDrive-BertelsmannSE&Co.KGaA/Masterarbeit/20_data/613010/ps2400dpi150lpi/FC_FS23_S_ES0004_T_NL_41L.p1.4c.M.tif\n",
      "/Users/frederic.birwe/Library/CloudStorage/OneDrive-BertelsmannSE&Co.KGaA/Masterarbeit/20_data/613010/ps2400dpi150lpi/FC_FS23_S_ES0005_T_NL_41L.p1 2.4c.C.tif\n",
      "/Users/frederic.birwe/Library/CloudStorage/OneDrive-BertelsmannSE&Co.KGaA/Masterarbeit/20_data/613010/ps2400dpi150lpi/FC_FS23_S_ES0039_T_F_41L.p1.4c.M.tif\n"
     ]
    },
    {
     "name": "stderr",
     "output_type": "stream",
     "text": [
      " 86%|██████████████████████████████▏    | 9872/11457 [00:31<00:06, 251.55it/s]"
     ]
    },
    {
     "name": "stdout",
     "output_type": "stream",
     "text": [
      "/Users/frederic.birwe/Library/CloudStorage/OneDrive-BertelsmannSE&Co.KGaA/Masterarbeit/20_data/613010/ps2400dpi150lpi/FC_FS23_S_ES0109_T_CH_41L.p1.4c.C.tif\n",
      "/Users/frederic.birwe/Library/CloudStorage/OneDrive-BertelsmannSE&Co.KGaA/Masterarbeit/20_data/613010/ps2400dpi150lpi/FC_FS23_S_ES0110_T_D_Suffix_90_41L.p1.4c.M.tif\n",
      "/Users/frederic.birwe/Library/CloudStorage/OneDrive-BertelsmannSE&Co.KGaA/Masterarbeit/20_data/613010/ps2400dpi150lpi/FC_FS23_S_ES0096_T_CH_41L.p1 2.4c.M.tif\n",
      "/Users/frederic.birwe/Library/CloudStorage/OneDrive-BertelsmannSE&Co.KGaA/Masterarbeit/20_data/613010/ps2400dpi150lpi/FC_FS23_S_ES0080_T_F_41L.p1.4c.Y.tif\n",
      "/Users/frederic.birwe/Library/CloudStorage/OneDrive-BertelsmannSE&Co.KGaA/Masterarbeit/20_data/613010/ps2400dpi150lpi/FC_FS23_S_ES0073_T_F_41L.p1.4c.Y.tif\n",
      "/Users/frederic.birwe/Library/CloudStorage/OneDrive-BertelsmannSE&Co.KGaA/Masterarbeit/20_data/613010/ps2400dpi150lpi/FC_FS23_S_ES0050_T_CH_41L.p1 2.4c.Y.tif\n",
      "/Users/frederic.birwe/Library/CloudStorage/OneDrive-BertelsmannSE&Co.KGaA/Masterarbeit/20_data/613010/ps2400dpi150lpi/FC_FS23_S_ES0099_T_CH_41L.p1.4c.Y.tif\n",
      "/Users/frederic.birwe/Library/CloudStorage/OneDrive-BertelsmannSE&Co.KGaA/Masterarbeit/20_data/613010/ps2400dpi150lpi/FC_FS23_S_ES0044_T_D_41L.p1.4c.Y.tif\n",
      "/Users/frederic.birwe/Library/CloudStorage/OneDrive-BertelsmannSE&Co.KGaA/Masterarbeit/20_data/613010/ps2400dpi150lpi/FC_FS23_S_ES0018_T_D_Suffix_90_41L.p1.4c.C.tif\n",
      "/Users/frederic.birwe/Library/CloudStorage/OneDrive-BertelsmannSE&Co.KGaA/Masterarbeit/20_data/613010/ps2400dpi150lpi/FC_FS23_S_ES0064_T_WCH_41L.p1.4c.Y.tif\n",
      "/Users/frederic.birwe/Library/CloudStorage/OneDrive-BertelsmannSE&Co.KGaA/Masterarbeit/20_data/613010/ps2400dpi150lpi/FC_FS23_S_ES0014_T_WCH_41L.p1.4c.M.tif\n",
      "/Users/frederic.birwe/Library/CloudStorage/OneDrive-BertelsmannSE&Co.KGaA/Masterarbeit/20_data/613010/ps2400dpi150lpi/FC_FS23_S_ES0100_T_CH_41L.p1.4c.M.tif\n",
      "/Users/frederic.birwe/Library/CloudStorage/OneDrive-BertelsmannSE&Co.KGaA/Masterarbeit/20_data/613010/ps2400dpi150lpi/FC_FS23_S_ES0087_T_NL_41L.p1.4c.C.tif\n",
      "/Users/frederic.birwe/Library/CloudStorage/OneDrive-BertelsmannSE&Co.KGaA/Masterarbeit/20_data/613010/ps2400dpi150lpi/FC_FS23_S_ES0074_T_NL_41L.p1.4c.C.tif\n",
      "/Users/frederic.birwe/Library/CloudStorage/OneDrive-BertelsmannSE&Co.KGaA/Masterarbeit/20_data/613010/ps2400dpi150lpi/FC_FS23_S_ES0022_T_F_41L.p1.4c.Y.tif\n",
      "/Users/frederic.birwe/Library/CloudStorage/OneDrive-BertelsmannSE&Co.KGaA/Masterarbeit/20_data/613010/ps2400dpi150lpi/FC_FS23_S_ES0015_T_D_41L.p1.4c.Y.tif\n",
      "/Users/frederic.birwe/Library/CloudStorage/OneDrive-BertelsmannSE&Co.KGaA/Masterarbeit/20_data/613010/ps2400dpi150lpi/FC_FS23_S_ES0013_T_CH_41L.p1.4c.Y.tif\n",
      "/Users/frederic.birwe/Library/CloudStorage/OneDrive-BertelsmannSE&Co.KGaA/Masterarbeit/20_data/613010/ps2400dpi150lpi/FC_FS23_S_ES0049_T_WCH_41L.p1 2.4c.M.tif\n",
      "/Users/frederic.birwe/Library/CloudStorage/OneDrive-BertelsmannSE&Co.KGaA/Masterarbeit/20_data/613010/ps2400dpi150lpi/FC_FS23_S_ES0084_T_A_41L.p1.4c.M.tif\n",
      "/Users/frederic.birwe/Library/CloudStorage/OneDrive-BertelsmannSE&Co.KGaA/Masterarbeit/20_data/613010/ps2400dpi150lpi/FC_FS23_S_ES0006_T_D_Suffix_90_41L.p1.4c.C.tif\n",
      "/Users/frederic.birwe/Library/CloudStorage/OneDrive-BertelsmannSE&Co.KGaA/Masterarbeit/20_data/613010/ps2400dpi150lpi/FC_FS23_S_ES0092_T_D_Suffix_90_41L.p1.4c.C.tif\n",
      "/Users/frederic.birwe/Library/CloudStorage/OneDrive-BertelsmannSE&Co.KGaA/Masterarbeit/20_data/613010/ps2400dpi150lpi/FC_FS23_S_ES0100_T_A_41L.p1.4c.M.tif\n",
      "/Users/frederic.birwe/Library/CloudStorage/OneDrive-BertelsmannSE&Co.KGaA/Masterarbeit/20_data/613010/ps2400dpi150lpi/FC_FS23_S_ES0109_T_WCH_41L.p1.4c.Y.tif\n",
      "/Users/frederic.birwe/Library/CloudStorage/OneDrive-BertelsmannSE&Co.KGaA/Masterarbeit/20_data/613010/ps2400dpi150lpi/FC_FS23_S_ES0058_T_CH_41L.p1.4c.M.tif\n",
      "/Users/frederic.birwe/Library/CloudStorage/OneDrive-BertelsmannSE&Co.KGaA/Masterarbeit/20_data/613010/ps2400dpi150lpi/FC_FS23_S_ES0065_T_D_Suffix_90_41L.p1.4c.M.tif\n",
      "/Users/frederic.birwe/Library/CloudStorage/OneDrive-BertelsmannSE&Co.KGaA/Masterarbeit/20_data/613010/ps2400dpi150lpi/FC_FS23_S_ES0020_T_D_Suffix_90_41L.p1.4c.M.tif\n",
      "/Users/frederic.birwe/Library/CloudStorage/OneDrive-BertelsmannSE&Co.KGaA/Masterarbeit/20_data/613010/ps2400dpi150lpi/FC_FS23_S_ES0026_T_A_41L.p1.4c.M.tif\n",
      "/Users/frederic.birwe/Library/CloudStorage/OneDrive-BertelsmannSE&Co.KGaA/Masterarbeit/20_data/613010/ps2400dpi150lpi/FC_FS23_S_ES0079_T_CH_41L.p1 2.4c.C.tif\n",
      "/Users/frederic.birwe/Library/CloudStorage/OneDrive-BertelsmannSE&Co.KGaA/Masterarbeit/20_data/613010/ps2400dpi150lpi/FC_FS23_S_ES0028_T_CH_41L.p1.4c.C.tif\n"
     ]
    },
    {
     "name": "stderr",
     "output_type": "stream",
     "text": [
      " 87%|██████████████████████████████▎    | 9936/11457 [00:31<00:05, 280.92it/s]"
     ]
    },
    {
     "name": "stdout",
     "output_type": "stream",
     "text": [
      "/Users/frederic.birwe/Library/CloudStorage/OneDrive-BertelsmannSE&Co.KGaA/Masterarbeit/20_data/613010/ps2400dpi150lpi/FC_FS23_S_ES0043_T_D_Suffix_90_41L.p1.4c.C.tif\n",
      "/Users/frederic.birwe/Library/CloudStorage/OneDrive-BertelsmannSE&Co.KGaA/Masterarbeit/20_data/613010/ps2400dpi150lpi/FC_FS23_S_ES0110_T_WCH_41L.p1.4c.C.tif\n",
      "/Users/frederic.birwe/Library/CloudStorage/OneDrive-BertelsmannSE&Co.KGaA/Masterarbeit/20_data/613010/ps2400dpi150lpi/FC_FS23_S_ES0014_T_A_41L.p1.4c.C.tif\n",
      "/Users/frederic.birwe/Library/CloudStorage/OneDrive-BertelsmannSE&Co.KGaA/Masterarbeit/20_data/613010/ps2400dpi150lpi/FC_FS23_S_ES0036_T_NL_41L.p1.4c.Y.tif\n",
      "/Users/frederic.birwe/Library/CloudStorage/OneDrive-BertelsmannSE&Co.KGaA/Masterarbeit/20_data/613010/ps2400dpi150lpi/FC_FS23_S_ES0077_T_A_41L.p1.4c.M.tif\n",
      "/Users/frederic.birwe/Library/CloudStorage/OneDrive-BertelsmannSE&Co.KGaA/Masterarbeit/20_data/613010/ps2400dpi150lpi/FC_FS23_S_ES0045_T_A_41L.p1.4c.C.tif\n",
      "/Users/frederic.birwe/Library/CloudStorage/OneDrive-BertelsmannSE&Co.KGaA/Masterarbeit/20_data/613010/ps2400dpi150lpi/FC_FS23_S_ES0045_T_NL_41L.p1.4c.M.tif\n",
      "/Users/frederic.birwe/Library/CloudStorage/OneDrive-BertelsmannSE&Co.KGaA/Masterarbeit/20_data/613010/ps2400dpi150lpi/FC_FS23_S_ES0026_T_NL_41L.p1 2.4c.Y.tif\n",
      "/Users/frederic.birwe/Library/CloudStorage/OneDrive-BertelsmannSE&Co.KGaA/Masterarbeit/20_data/613010/ps2400dpi150lpi/FC_FS23_S_ES0086_T_A_41L.p1.4c.Y.tif\n",
      "/Users/frederic.birwe/Library/CloudStorage/OneDrive-BertelsmannSE&Co.KGaA/Masterarbeit/20_data/613010/ps2400dpi150lpi/FC_FS23_S_ES0043_T_F_41L.p1 2.4c.M.tif\n",
      "/Users/frederic.birwe/Library/CloudStorage/OneDrive-BertelsmannSE&Co.KGaA/Masterarbeit/20_data/613010/ps2400dpi150lpi/FC_FS23_S_ES0031_T_D_Suffix_90_41L.p1.4c.Y.tif\n",
      "/Users/frederic.birwe/Library/CloudStorage/OneDrive-BertelsmannSE&Co.KGaA/Masterarbeit/20_data/613010/ps2400dpi150lpi/FC_FS23_S_ES0106_T_WCH_41L.p1.4c.C.tif\n",
      "/Users/frederic.birwe/Library/CloudStorage/OneDrive-BertelsmannSE&Co.KGaA/Masterarbeit/20_data/613010/ps2400dpi150lpi/FC_FS23_S_ES0021_T_NL_41L.p1 2.4c.M.tif\n",
      "/Users/frederic.birwe/Library/CloudStorage/OneDrive-BertelsmannSE&Co.KGaA/Masterarbeit/20_data/613010/ps2400dpi150lpi/FC_FS23_S_ES0102_T_A_41L.p1.4c.Y.tif\n",
      "/Users/frederic.birwe/Library/CloudStorage/OneDrive-BertelsmannSE&Co.KGaA/Masterarbeit/20_data/613010/ps2400dpi150lpi/FC_FS23_S_ES0024_T_A_41L.p1.4c.Y.tif\n",
      "/Users/frederic.birwe/Library/CloudStorage/OneDrive-BertelsmannSE&Co.KGaA/Masterarbeit/20_data/613010/ps2400dpi150lpi/FC_FS23_S_ES0085_T_F_41L.p1 2.4c.Y.tif\n",
      "/Users/frederic.birwe/Library/CloudStorage/OneDrive-BertelsmannSE&Co.KGaA/Masterarbeit/20_data/613010/ps2400dpi150lpi/FC_FS23_S_ES0101_T_WCH_41L.p1.4c.M.tif\n",
      "/Users/frederic.birwe/Library/CloudStorage/OneDrive-BertelsmannSE&Co.KGaA/Masterarbeit/20_data/613010/ps2400dpi150lpi/FC_FS23_S_ES0024_T_WCH_41L.p1 2.4c.Y.tif\n",
      "/Users/frederic.birwe/Library/CloudStorage/OneDrive-BertelsmannSE&Co.KGaA/Masterarbeit/20_data/613010/ps2400dpi150lpi/FC_FS23_S_ES0074_T_D_Suffix_90_41L.p1.4c.Y.tif\n",
      "/Users/frederic.birwe/Library/CloudStorage/OneDrive-BertelsmannSE&Co.KGaA/Masterarbeit/20_data/613010/ps2400dpi150lpi/FC_FS23_S_ES0075_T_A_41L.p1.4c.Y.tif\n",
      "/Users/frederic.birwe/Library/CloudStorage/OneDrive-BertelsmannSE&Co.KGaA/Masterarbeit/20_data/613010/ps2400dpi150lpi/FC_FS23_S_ES0052_T_CH_41L.p1.4c.Y.tif\n",
      "/Users/frederic.birwe/Library/CloudStorage/OneDrive-BertelsmannSE&Co.KGaA/Masterarbeit/20_data/613010/ps2400dpi150lpi/FC_FS23_S_ES0035_T_NL_41L.p1.4c.C.tif\n",
      "/Users/frederic.birwe/Library/CloudStorage/OneDrive-BertelsmannSE&Co.KGaA/Masterarbeit/20_data/613010/ps2400dpi150lpi/FC_FS23_S_ES0092_T_NL_41L.p1 2.4c.Y.tif\n",
      "/Users/frederic.birwe/Library/CloudStorage/OneDrive-BertelsmannSE&Co.KGaA/Masterarbeit/20_data/613010/ps2400dpi150lpi/FC_FS23_S_ES0106_T_F_41L.p1.4c.M.tif\n",
      "/Users/frederic.birwe/Library/CloudStorage/OneDrive-BertelsmannSE&Co.KGaA/Masterarbeit/20_data/613010/ps2400dpi150lpi/FC_FS23_S_ES0103_T_D_41L.p1.4c.C.tif\n",
      "/Users/frederic.birwe/Library/CloudStorage/OneDrive-BertelsmannSE&Co.KGaA/Masterarbeit/20_data/613010/ps2400dpi150lpi/FC_FS23_S_ES0060_T_CH_41L.p1.4c.M.tif\n",
      "/Users/frederic.birwe/Library/CloudStorage/OneDrive-BertelsmannSE&Co.KGaA/Masterarbeit/20_data/613010/ps2400dpi150lpi/FC_FS23_S_ES0093_T_CH_41L.p1.4c.M.tif\n"
     ]
    },
    {
     "name": "stderr",
     "output_type": "stream",
     "text": [
      " 87%|█████████████████████████████▋    | 10002/11457 [00:32<00:04, 302.02it/s]"
     ]
    },
    {
     "name": "stdout",
     "output_type": "stream",
     "text": [
      "/Users/frederic.birwe/Library/CloudStorage/OneDrive-BertelsmannSE&Co.KGaA/Masterarbeit/20_data/613010/ps2400dpi150lpi/FC_FS23_S_ES0114_T_NL_41L.p1.4c.C.tif\n",
      "/Users/frederic.birwe/Library/CloudStorage/OneDrive-BertelsmannSE&Co.KGaA/Masterarbeit/20_data/613010/ps2400dpi150lpi/FC_FS23_S_ES0019_T_CH_41L.p1.4c.M.tif\n",
      "/Users/frederic.birwe/Library/CloudStorage/OneDrive-BertelsmannSE&Co.KGaA/Masterarbeit/20_data/613010/ps2400dpi150lpi/FC_FS23_S_ES0072_T_WCH_41L.p1.4c.Y.tif\n",
      "/Users/frederic.birwe/Library/CloudStorage/OneDrive-BertelsmannSE&Co.KGaA/Masterarbeit/20_data/613010/ps2400dpi150lpi/FC_FS23_S_ES0087_T_D_41L.p1.4c.C.tif\n",
      "/Users/frederic.birwe/Library/CloudStorage/OneDrive-BertelsmannSE&Co.KGaA/Masterarbeit/20_data/613010/ps2400dpi150lpi/FC_FS23_S_ES0082_T_F_41L.p1.4c.M.tif\n",
      "/Users/frederic.birwe/Library/CloudStorage/OneDrive-BertelsmannSE&Co.KGaA/Masterarbeit/20_data/613010/ps2400dpi150lpi/FC_FS23_S_ES0101_T_D_Suffix_90_41L.p1.4c.Y.tif\n",
      "/Users/frederic.birwe/Library/CloudStorage/OneDrive-BertelsmannSE&Co.KGaA/Masterarbeit/20_data/613010/ps2400dpi150lpi/FC_FS23_S_ES0071_T_F_41L.p1.4c.M.tif\n",
      "/Users/frederic.birwe/Library/CloudStorage/OneDrive-BertelsmannSE&Co.KGaA/Masterarbeit/20_data/613010/ps2400dpi150lpi/FC_FS23_S_ES0074_T_D_41L.p1.4c.C.tif\n",
      "/Users/frederic.birwe/Library/CloudStorage/OneDrive-BertelsmannSE&Co.KGaA/Masterarbeit/20_data/613010/ps2400dpi150lpi/FC_FS23_S_ES0069_T_CH_41L.p1.4c.C.tif\n",
      "/Users/frederic.birwe/Library/CloudStorage/OneDrive-BertelsmannSE&Co.KGaA/Masterarbeit/20_data/613010/ps2400dpi150lpi/FC_FS23_S_ES0046_T_D_41L.p1.4c.M.tif\n",
      "/Users/frederic.birwe/Library/CloudStorage/OneDrive-BertelsmannSE&Co.KGaA/Masterarbeit/20_data/613010/ps2400dpi150lpi/FC_FS23_S_ES0005_T_WCH_41L.p1.4c.C.tif\n",
      "/Users/frederic.birwe/Library/CloudStorage/OneDrive-BertelsmannSE&Co.KGaA/Masterarbeit/20_data/613010/ps2400dpi150lpi/FC_FS23_S_ES0010_T_CH_41L.p1.4c.C.tif\n",
      "/Users/frederic.birwe/Library/CloudStorage/OneDrive-BertelsmannSE&Co.KGaA/Masterarbeit/20_data/613010/ps2400dpi150lpi/FC_FS23_S_ES0025_T_D_41L.p1.4c.C.tif\n",
      "/Users/frederic.birwe/Library/CloudStorage/OneDrive-BertelsmannSE&Co.KGaA/Masterarbeit/20_data/613010/ps2400dpi150lpi/FC_FS23_S_ES0020_T_F_41L.p1.4c.M.tif\n",
      "/Users/frederic.birwe/Library/CloudStorage/OneDrive-BertelsmannSE&Co.KGaA/Masterarbeit/20_data/613010/ps2400dpi150lpi/FC_FS23_S_ES0038_T_WCH_41L.p1 2.4c.M.tif\n",
      "/Users/frederic.birwe/Library/CloudStorage/OneDrive-BertelsmannSE&Co.KGaA/Masterarbeit/20_data/613010/ps2400dpi150lpi/FC_FS23_S_ES0054_T_NL_41L.p1 2.4c.M.tif\n",
      "/Users/frederic.birwe/Library/CloudStorage/OneDrive-BertelsmannSE&Co.KGaA/Masterarbeit/20_data/613010/ps2400dpi150lpi/FC_FS23_S_ES0099_T_F_41L.p1.4c.Y.tif\n",
      "/Users/frederic.birwe/Library/CloudStorage/OneDrive-BertelsmannSE&Co.KGaA/Masterarbeit/20_data/613010/ps2400dpi150lpi/FC_FS23_S_ES0084_T_NL_41L.p1.4c.Y.tif\n",
      "/Users/frederic.birwe/Library/CloudStorage/OneDrive-BertelsmannSE&Co.KGaA/Masterarbeit/20_data/613010/ps2400dpi150lpi/FC_FS23_S_ES0017_T_D_41L.p1.4c.M.tif\n",
      "/Users/frederic.birwe/Library/CloudStorage/OneDrive-BertelsmannSE&Co.KGaA/Masterarbeit/20_data/613010/ps2400dpi150lpi/FC_FS23_S_ES0012_T_F_41L.p1.4c.C.tif\n",
      "/Users/frederic.birwe/Library/CloudStorage/OneDrive-BertelsmannSE&Co.KGaA/Masterarbeit/20_data/613010/ps2400dpi150lpi/FC_FS23_S_ES0077_T_NL_41L.p1.4c.Y.tif\n",
      "/Users/frederic.birwe/Library/CloudStorage/OneDrive-BertelsmannSE&Co.KGaA/Masterarbeit/20_data/613010/ps2400dpi150lpi/FC_FS23_S_ES0015_T_A_41L.p1.4c.C.tif\n",
      "/Users/frederic.birwe/Library/CloudStorage/OneDrive-BertelsmannSE&Co.KGaA/Masterarbeit/20_data/613010/ps2400dpi150lpi/FC_FS23_S_ES0023_T_D_Suffix_90_41L.p1.4c.C.tif\n",
      "/Users/frederic.birwe/Library/CloudStorage/OneDrive-BertelsmannSE&Co.KGaA/Masterarbeit/20_data/613010/ps2400dpi150lpi/FC_FS23_S_ES0054_T_CH_41L.p1.4c.C.tif\n",
      "/Users/frederic.birwe/Library/CloudStorage/OneDrive-BertelsmannSE&Co.KGaA/Masterarbeit/20_data/613010/ps2400dpi150lpi/FC_FS23_S_ES0040_T_D_Suffix_90_41L.p1.4c.M.tif\n",
      "/Users/frederic.birwe/Library/CloudStorage/OneDrive-BertelsmannSE&Co.KGaA/Masterarbeit/20_data/613010/ps2400dpi150lpi/FC_FS23_S_ES0033_T_NL_41L.p1.4c.Y.tif\n",
      "/Users/frederic.birwe/Library/CloudStorage/OneDrive-BertelsmannSE&Co.KGaA/Masterarbeit/20_data/613010/ps2400dpi150lpi/FC_FS23_S_ES0027_T_A_41L.p1.4c.M.tif\n",
      "/Users/frederic.birwe/Library/CloudStorage/OneDrive-BertelsmannSE&Co.KGaA/Masterarbeit/20_data/613010/ps2400dpi150lpi/FC_FS23_S_ES0102_T_F_41L.p1 2.4c.M.tif\n",
      "/Users/frederic.birwe/Library/CloudStorage/OneDrive-BertelsmannSE&Co.KGaA/Masterarbeit/20_data/613010/ps2400dpi150lpi/FC_FS23_S_ES0044_T_A_41L.p1.4c.C.tif\n",
      "/Users/frederic.birwe/Library/CloudStorage/OneDrive-BertelsmannSE&Co.KGaA/Masterarbeit/20_data/613010/ps2400dpi150lpi/FC_FS23_S_ES0076_T_A_41L.p1.4c.M.tif\n",
      "/Users/frederic.birwe/Library/CloudStorage/OneDrive-BertelsmannSE&Co.KGaA/Masterarbeit/20_data/613010/ps2400dpi150lpi/FC_FS23_S_ES0086_T_WCH_41L.p1.4c.Y.tif\n",
      "/Users/frederic.birwe/Library/CloudStorage/OneDrive-BertelsmannSE&Co.KGaA/Masterarbeit/20_data/613010/ps2400dpi150lpi/FC_FS23_S_ES0037_T_CH_41L.p1 2.4c.C.tif\n"
     ]
    },
    {
     "name": "stderr",
     "output_type": "stream",
     "text": [
      " 88%|█████████████████████████████▊    | 10033/11457 [00:32<00:04, 296.74it/s]"
     ]
    },
    {
     "name": "stdout",
     "output_type": "stream",
     "text": [
      "/Users/frederic.birwe/Library/CloudStorage/OneDrive-BertelsmannSE&Co.KGaA/Masterarbeit/20_data/613010/ps2400dpi150lpi/FC_FS23_S_ES0085_T_A_41L.p1.4c.M.tif\n",
      "/Users/frederic.birwe/Library/CloudStorage/OneDrive-BertelsmannSE&Co.KGaA/Masterarbeit/20_data/613010/ps2400dpi150lpi/FC_FS23_S_ES0040_T_WCH_41L.p1.4c.M.tif\n",
      "/Users/frederic.birwe/Library/CloudStorage/OneDrive-BertelsmannSE&Co.KGaA/Masterarbeit/20_data/613010/ps2400dpi150lpi/FC_FS23_S_ES0030_T_WCH_41L.p1.4c.Y.tif\n",
      "/Users/frederic.birwe/Library/CloudStorage/OneDrive-BertelsmannSE&Co.KGaA/Masterarbeit/20_data/613010/ps2400dpi150lpi/FC_FS23_S_ES0101_T_A_41L.p1.4c.M.tif\n",
      "/Users/frederic.birwe/Library/CloudStorage/OneDrive-BertelsmannSE&Co.KGaA/Masterarbeit/20_data/613010/ps2400dpi150lpi/FC_FS23_S_ES0005_T_D_Suffix_90_41L.p1.4c.M.tif\n",
      "/Users/frederic.birwe/Library/CloudStorage/OneDrive-BertelsmannSE&Co.KGaA/Masterarbeit/20_data/613010/ps2400dpi150lpi/FC_FS23_S_ES0091_T_D_Suffix_90_41L.p1.4c.M.tif\n",
      "/Users/frederic.birwe/Library/CloudStorage/OneDrive-BertelsmannSE&Co.KGaA/Masterarbeit/20_data/613010/ps2400dpi150lpi/FC_FS23_S_ES0066_T_D_Suffix_90_41L.p1.4c.C.tif\n",
      "/Users/frederic.birwe/Library/CloudStorage/OneDrive-BertelsmannSE&Co.KGaA/Masterarbeit/20_data/613010/ps2400dpi150lpi/FC_FS23_S_ES0024_T_CH_41L.p1.4c.M.tif\n",
      "/Users/frederic.birwe/Library/CloudStorage/OneDrive-BertelsmannSE&Co.KGaA/Masterarbeit/20_data/613010/ps2400dpi150lpi/FC_FS23_S_ES0016_T_CH_41L.p1.4c.Y.tif\n",
      "/Users/frederic.birwe/Library/CloudStorage/OneDrive-BertelsmannSE&Co.KGaA/Masterarbeit/20_data/613010/ps2400dpi150lpi/FC_FS23_S_ES0045_T_D_41L.p1.4c.Y.tif\n",
      "/Users/frederic.birwe/Library/CloudStorage/OneDrive-BertelsmannSE&Co.KGaA/Masterarbeit/20_data/613010/ps2400dpi150lpi/FC_FS23_S_ES0078_T_D_Suffix_90_41L.p1.4c.C.tif\n",
      "/Users/frederic.birwe/Library/CloudStorage/OneDrive-BertelsmannSE&Co.KGaA/Masterarbeit/20_data/613010/ps2400dpi150lpi/FC_FS23_S_ES0082_T_NL_41L.p1.4c.C.tif\n",
      "/Users/frederic.birwe/Library/CloudStorage/OneDrive-BertelsmannSE&Co.KGaA/Masterarbeit/20_data/613010/ps2400dpi150lpi/FC_FS23_S_ES0017_T_NL_41L.p1 2.4c.Y.tif\n",
      "/Users/frederic.birwe/Library/CloudStorage/OneDrive-BertelsmannSE&Co.KGaA/Masterarbeit/20_data/613010/ps2400dpi150lpi/FC_FS23_S_ES0105_T_CH_41L.p1.4c.M.tif\n",
      "/Users/frederic.birwe/Library/CloudStorage/OneDrive-BertelsmannSE&Co.KGaA/Masterarbeit/20_data/613010/ps2400dpi150lpi/FC_FS23_S_ES0071_T_NL_41L.p1.4c.C.tif\n",
      "/Users/frederic.birwe/Library/CloudStorage/OneDrive-BertelsmannSE&Co.KGaA/Masterarbeit/20_data/613010/ps2400dpi150lpi/FC_FS23_S_ES0014_T_D_41L.p1.4c.Y.tif\n",
      "/Users/frederic.birwe/Library/CloudStorage/OneDrive-BertelsmannSE&Co.KGaA/Masterarbeit/20_data/613010/ps2400dpi150lpi/FC_FS23_S_ES0010_T_NL_41L.p1 2.4c.M.tif\n",
      "/Users/frederic.birwe/Library/CloudStorage/OneDrive-BertelsmannSE&Co.KGaA/Masterarbeit/20_data/613010/ps2400dpi150lpi/FC_FS23_S_ES0008_T_NL_41L.p1.4c.C.tif\n",
      "/Users/frederic.birwe/Library/CloudStorage/OneDrive-BertelsmannSE&Co.KGaA/Masterarbeit/20_data/613010/ps2400dpi150lpi/FC_FS23_S_ES0023_T_F_41L.p1.4c.Y.tif\n",
      "/Users/frederic.birwe/Library/CloudStorage/OneDrive-BertelsmannSE&Co.KGaA/Masterarbeit/20_data/613010/ps2400dpi150lpi/FC_FS23_S_ES0068_T_F_41L.p1 2.4c.C.tif\n",
      "/Users/frederic.birwe/Library/CloudStorage/OneDrive-BertelsmannSE&Co.KGaA/Masterarbeit/20_data/613010/ps2400dpi150lpi/FC_FS23_S_ES0105_T_F_41L.p1.4c.Y.tif\n",
      "/Users/frederic.birwe/Library/CloudStorage/OneDrive-BertelsmannSE&Co.KGaA/Masterarbeit/20_data/613010/ps2400dpi150lpi/FC_FS23_S_ES0078_T_NL_41L.p1.4c.M.tif\n"
     ]
    },
    {
     "name": "stderr",
     "output_type": "stream",
     "text": [
      " 88%|█████████████████████████████▉    | 10090/11457 [00:32<00:05, 242.29it/s]"
     ]
    },
    {
     "name": "stdout",
     "output_type": "stream",
     "text": [
      "/Users/frederic.birwe/Library/CloudStorage/OneDrive-BertelsmannSE&Co.KGaA/Masterarbeit/20_data/613010/ps2400dpi150lpi/FC_FS23_S_ES0113_T_D_Suffix_90_41L.p1.4c.C.tif\n",
      "/Users/frederic.birwe/Library/CloudStorage/OneDrive-BertelsmannSE&Co.KGaA/Masterarbeit/20_data/613010/ps2400dpi150lpi/FC_FS23_S_ES0081_T_F_41L.p1.4c.Y.tif\n",
      "/Users/frederic.birwe/Library/CloudStorage/OneDrive-BertelsmannSE&Co.KGaA/Masterarbeit/20_data/613010/ps2400dpi150lpi/FC_FS23_S_ES0038_T_F_41L.p1.4c.M.tif\n",
      "/Users/frederic.birwe/Library/CloudStorage/OneDrive-BertelsmannSE&Co.KGaA/Masterarbeit/20_data/613010/ps2400dpi150lpi/FC_FS23_S_ES0112_T_NL_41L.p1.4c.Y.tif\n",
      "/Users/frederic.birwe/Library/CloudStorage/OneDrive-BertelsmannSE&Co.KGaA/Masterarbeit/20_data/613010/ps2400dpi150lpi/FC_FS23_S_ES0042_T_F_41L.p1.4c.C.tif\n",
      "/Users/frederic.birwe/Library/CloudStorage/OneDrive-BertelsmannSE&Co.KGaA/Masterarbeit/20_data/613010/ps2400dpi150lpi/FC_FS23_S_ES0047_T_D_41L.p1.4c.M.tif\n",
      "/Users/frederic.birwe/Library/CloudStorage/OneDrive-BertelsmannSE&Co.KGaA/Masterarbeit/20_data/613010/ps2400dpi150lpi/FC_FS23_S_ES0070_T_F_41L.p1.4c.M.tif\n",
      "/Users/frederic.birwe/Library/CloudStorage/OneDrive-BertelsmannSE&Co.KGaA/Masterarbeit/20_data/613010/ps2400dpi150lpi/FC_FS23_S_ES0075_T_D_41L.p1.4c.C.tif\n",
      "/Users/frederic.birwe/Library/CloudStorage/OneDrive-BertelsmannSE&Co.KGaA/Masterarbeit/20_data/613010/ps2400dpi150lpi/FC_FS23_S_ES0089_T_CH_41L.p1 2.4c.C.tif\n",
      "/Users/frederic.birwe/Library/CloudStorage/OneDrive-BertelsmannSE&Co.KGaA/Masterarbeit/20_data/613010/ps2400dpi150lpi/FC_FS23_S_ES0014_T_CH_41L.p1 2.4c.Y.tif\n",
      "/Users/frederic.birwe/Library/CloudStorage/OneDrive-BertelsmannSE&Co.KGaA/Masterarbeit/20_data/613010/ps2400dpi150lpi/FC_FS23_S_ES0016_T_D_41L.p1.4c.M.tif\n",
      "/Users/frederic.birwe/Library/CloudStorage/OneDrive-BertelsmannSE&Co.KGaA/Masterarbeit/20_data/613010/ps2400dpi150lpi/FC_FS23_S_ES0013_T_F_41L.p1.4c.C.tif\n",
      "/Users/frederic.birwe/Library/CloudStorage/OneDrive-BertelsmannSE&Co.KGaA/Masterarbeit/20_data/613010/ps2400dpi150lpi/FC_FS23_S_ES0067_T_F_41L.p1 2.4c.Y.tif\n",
      "/Users/frederic.birwe/Library/CloudStorage/OneDrive-BertelsmannSE&Co.KGaA/Masterarbeit/20_data/613010/ps2400dpi150lpi/FC_FS23_S_ES0098_T_F_41L.p1.4c.Y.tif\n",
      "/Users/frederic.birwe/Library/CloudStorage/OneDrive-BertelsmannSE&Co.KGaA/Masterarbeit/20_data/613010/ps2400dpi150lpi/FC_FS23_S_ES0024_T_D_41L.p1.4c.C.tif\n",
      "/Users/frederic.birwe/Library/CloudStorage/OneDrive-BertelsmannSE&Co.KGaA/Masterarbeit/20_data/613010/ps2400dpi150lpi/FC_FS23_S_ES0021_T_F_41L.p1.4c.M.tif\n",
      "/Users/frederic.birwe/Library/CloudStorage/OneDrive-BertelsmannSE&Co.KGaA/Masterarbeit/20_data/613010/ps2400dpi150lpi/FC_FS23_S_ES0107_T_F_41L.p1.4c.M.tif\n",
      "/Users/frederic.birwe/Library/CloudStorage/OneDrive-BertelsmannSE&Co.KGaA/Masterarbeit/20_data/613010/ps2400dpi150lpi/FC_FS23_S_ES0102_T_D_41L.p1.4c.C.tif\n",
      "/Users/frederic.birwe/Library/CloudStorage/OneDrive-BertelsmannSE&Co.KGaA/Masterarbeit/20_data/613010/ps2400dpi150lpi/FC_FS23_S_ES0065_T_CH_41L.p1.4c.M.tif\n",
      "/Users/frederic.birwe/Library/CloudStorage/OneDrive-BertelsmannSE&Co.KGaA/Masterarbeit/20_data/613010/ps2400dpi150lpi/FC_FS23_S_ES0086_T_D_41L.p1.4c.C.tif\n",
      "/Users/frederic.birwe/Library/CloudStorage/OneDrive-BertelsmannSE&Co.KGaA/Masterarbeit/20_data/613010/ps2400dpi150lpi/FC_FS23_S_ES0111_T_NL_41L.p1.4c.C.tif\n"
     ]
    },
    {
     "name": "stderr",
     "output_type": "stream",
     "text": [
      " 89%|██████████████████████████████    | 10142/11457 [00:32<00:05, 235.55it/s]"
     ]
    },
    {
     "name": "stdout",
     "output_type": "stream",
     "text": [
      "/Users/frederic.birwe/Library/CloudStorage/OneDrive-BertelsmannSE&Co.KGaA/Masterarbeit/20_data/613010/ps2400dpi150lpi/FC_FS23_S_ES0010_T_F_41L.p1 2.4c.C.tif\n",
      "/Users/frederic.birwe/Library/CloudStorage/OneDrive-BertelsmannSE&Co.KGaA/Masterarbeit/20_data/613010/ps2400dpi150lpi/FC_FS23_S_ES0041_T_NL_41L.p1 2.4c.C.tif\n",
      "/Users/frederic.birwe/Library/CloudStorage/OneDrive-BertelsmannSE&Co.KGaA/Masterarbeit/20_data/613010/ps2400dpi150lpi/FC_FS23_S_ES0030_T_NL_41L.p1.4c.C.tif\n",
      "/Users/frederic.birwe/Library/CloudStorage/OneDrive-BertelsmannSE&Co.KGaA/Masterarbeit/20_data/613010/ps2400dpi150lpi/FC_FS23_S_ES0014_T_D_Suffix_90_41L.p1.4c.Y.tif\n",
      "/Users/frederic.birwe/Library/CloudStorage/OneDrive-BertelsmannSE&Co.KGaA/Masterarbeit/20_data/613010/ps2400dpi150lpi/FC_FS23_S_ES0080_T_D_Suffix_90_41L.p1.4c.Y.tif\n",
      "/Users/frederic.birwe/Library/CloudStorage/OneDrive-BertelsmannSE&Co.KGaA/Masterarbeit/20_data/613010/ps2400dpi150lpi/FC_FS23_S_ES0025_T_A_41L.p1.4c.Y.tif\n",
      "/Users/frederic.birwe/Library/CloudStorage/OneDrive-BertelsmannSE&Co.KGaA/Masterarbeit/20_data/613010/ps2400dpi150lpi/FC_FS23_S_ES0057_T_CH_41L.p1.4c.Y.tif\n",
      "/Users/frederic.birwe/Library/CloudStorage/OneDrive-BertelsmannSE&Co.KGaA/Masterarbeit/20_data/613010/ps2400dpi150lpi/FC_FS23_S_ES0089_T_WCH_41L.p1.4c.C.tif\n",
      "/Users/frederic.birwe/Library/CloudStorage/OneDrive-BertelsmannSE&Co.KGaA/Masterarbeit/20_data/613010/ps2400dpi150lpi/FC_FS23_S_ES0113_T_F_41L.p1 2.4c.C.tif\n",
      "/Users/frederic.birwe/Library/CloudStorage/OneDrive-BertelsmannSE&Co.KGaA/Masterarbeit/20_data/613010/ps2400dpi150lpi/FC_FS23_S_ES0049_T_NL_41L.p1.4c.C.tif\n",
      "/Users/frederic.birwe/Library/CloudStorage/OneDrive-BertelsmannSE&Co.KGaA/Masterarbeit/20_data/613010/ps2400dpi150lpi/FC_FS23_S_ES0048_T_WCH_41L.p1.4c.Y.tif\n",
      "/Users/frederic.birwe/Library/CloudStorage/OneDrive-BertelsmannSE&Co.KGaA/Masterarbeit/20_data/613010/ps2400dpi150lpi/FC_FS23_S_ES0034_T_NL_41L.p1 2.4c.C.tif\n",
      "/Users/frederic.birwe/Library/CloudStorage/OneDrive-BertelsmannSE&Co.KGaA/Masterarbeit/20_data/613010/ps2400dpi150lpi/FC_FS23_S_ES0074_T_A_41L.p1.4c.Y.tif\n",
      "/Users/frederic.birwe/Library/CloudStorage/OneDrive-BertelsmannSE&Co.KGaA/Masterarbeit/20_data/613010/ps2400dpi150lpi/FC_FS23_S_ES0039_T_NL_41L.p1.4c.M.tif\n",
      "/Users/frederic.birwe/Library/CloudStorage/OneDrive-BertelsmannSE&Co.KGaA/Masterarbeit/20_data/613010/ps2400dpi150lpi/FC_FS23_S_ES0087_T_A_41L.p1.4c.Y.tif\n",
      "/Users/frederic.birwe/Library/CloudStorage/OneDrive-BertelsmannSE&Co.KGaA/Masterarbeit/20_data/613010/ps2400dpi150lpi/FC_FS23_S_ES0051_T_WCH_41L.p1.4c.C.tif\n",
      "/Users/frederic.birwe/Library/CloudStorage/OneDrive-BertelsmannSE&Co.KGaA/Masterarbeit/20_data/613010/ps2400dpi150lpi/FC_FS23_S_ES0114_T_F_41L.p1 2.4c.M.tif\n",
      "/Users/frederic.birwe/Library/CloudStorage/OneDrive-BertelsmannSE&Co.KGaA/Masterarbeit/20_data/613010/ps2400dpi150lpi/FC_FS23_S_ES0103_T_A_41L.p1.4c.Y.tif\n",
      "/Users/frederic.birwe/Library/CloudStorage/OneDrive-BertelsmannSE&Co.KGaA/Masterarbeit/20_data/613010/ps2400dpi150lpi/FC_FS23_S_ES0051_T_D_Suffix_90_41L.p1.4c.Y.tif\n",
      "/Users/frederic.birwe/Library/CloudStorage/OneDrive-BertelsmannSE&Co.KGaA/Masterarbeit/20_data/613010/ps2400dpi150lpi/FC_FS23_S_ES0040_T_NL_41L.p1.4c.M.tif\n",
      "/Users/frederic.birwe/Library/CloudStorage/OneDrive-BertelsmannSE&Co.KGaA/Masterarbeit/20_data/613010/ps2400dpi150lpi/FC_FS23_S_ES0068_T_NL_41L.p1 2.4c.Y.tif\n"
     ]
    },
    {
     "name": "stderr",
     "output_type": "stream",
     "text": [
      " 89%|██████████████████████████████▏   | 10166/11457 [00:32<00:05, 220.04it/s]"
     ]
    },
    {
     "name": "stdout",
     "output_type": "stream",
     "text": [
      "/Users/frederic.birwe/Library/CloudStorage/OneDrive-BertelsmannSE&Co.KGaA/Masterarbeit/20_data/613010/ps2400dpi150lpi/FC_FS23_S_ES0025_T_D_Suffix_90_41L.p1.4c.C.tif\n",
      "/Users/frederic.birwe/Library/CloudStorage/OneDrive-BertelsmannSE&Co.KGaA/Masterarbeit/20_data/613010/ps2400dpi150lpi/FC_FS23_S_ES0037_T_F_41L.p1.4c.Y.tif\n",
      "/Users/frederic.birwe/Library/CloudStorage/OneDrive-BertelsmannSE&Co.KGaA/Masterarbeit/20_data/613010/ps2400dpi150lpi/FC_FS23_S_ES0090_T_WCH_41L.p1 2.4c.C.tif\n",
      "/Users/frederic.birwe/Library/CloudStorage/OneDrive-BertelsmannSE&Co.KGaA/Masterarbeit/20_data/613010/ps2400dpi150lpi/FC_FS23_S_ES0046_T_D_Suffix_90_41L.p1.4c.M.tif\n",
      "/Users/frederic.birwe/Library/CloudStorage/OneDrive-BertelsmannSE&Co.KGaA/Masterarbeit/20_data/613010/ps2400dpi150lpi/FC_FS23_S_ES0051_T_D_41L.p1.4c.Y.tif\n",
      "/Users/frederic.birwe/Library/CloudStorage/OneDrive-BertelsmannSE&Co.KGaA/Masterarbeit/20_data/613010/ps2400dpi150lpi/FC_FS23_S_ES0011_T_NL_41L.p1.4c.C.tif\n",
      "/Users/frederic.birwe/Library/CloudStorage/OneDrive-BertelsmannSE&Co.KGaA/Masterarbeit/20_data/613010/ps2400dpi150lpi/FC_FS23_S_ES0068_T_WCH_41L.p1 2.4c.Y.tif\n",
      "/Users/frederic.birwe/Library/CloudStorage/OneDrive-BertelsmannSE&Co.KGaA/Masterarbeit/20_data/613010/ps2400dpi150lpi/FC_FS23_S_ES0085_T_CH_41L.p1.4c.Y.tif\n",
      "/Users/frederic.birwe/Library/CloudStorage/OneDrive-BertelsmannSE&Co.KGaA/Masterarbeit/20_data/613010/ps2400dpi150lpi/FC_FS23_S_ES0040_T_NL_41L.p1 2.4c.C.tif\n",
      "/Users/frederic.birwe/Library/CloudStorage/OneDrive-BertelsmannSE&Co.KGaA/Masterarbeit/20_data/613010/ps2400dpi150lpi/FC_FS23_S_ES0076_T_CH_41L.p1.4c.Y.tif\n",
      "/Users/frederic.birwe/Library/CloudStorage/OneDrive-BertelsmannSE&Co.KGaA/Masterarbeit/20_data/613010/ps2400dpi150lpi/FC_FS23_S_ES0066_T_F_41L.p1.4c.Y.tif\n",
      "/Users/frederic.birwe/Library/CloudStorage/OneDrive-BertelsmannSE&Co.KGaA/Masterarbeit/20_data/613010/ps2400dpi150lpi/FC_FS23_S_ES0015_T_CH_41L.p1 2.4c.Y.tif\n",
      "/Users/frederic.birwe/Library/CloudStorage/OneDrive-BertelsmannSE&Co.KGaA/Masterarbeit/20_data/613010/ps2400dpi150lpi/FC_FS23_S_ES0061_T_NL_41L.p1.4c.M.tif\n",
      "/Users/frederic.birwe/Library/CloudStorage/OneDrive-BertelsmannSE&Co.KGaA/Masterarbeit/20_data/613010/ps2400dpi150lpi/FC_FS23_S_ES0029_T_D_41L.p1.4c.C.tif\n",
      "/Users/frederic.birwe/Library/CloudStorage/OneDrive-BertelsmannSE&Co.KGaA/Masterarbeit/20_data/613010/ps2400dpi150lpi/FC_FS23_S_ES0018_T_NL_41L.p1.4c.M.tif\n",
      "/Users/frederic.birwe/Library/CloudStorage/OneDrive-BertelsmannSE&Co.KGaA/Masterarbeit/20_data/613010/ps2400dpi150lpi/FC_FS23_S_ES0003_T_D_Suffix_90_41L.p1.4c.M.tif\n",
      "/Users/frederic.birwe/Library/CloudStorage/OneDrive-BertelsmannSE&Co.KGaA/Masterarbeit/20_data/613010/ps2400dpi150lpi/FC_FS23_S_ES0097_T_D_Suffix_90_41L.p1.4c.M.tif\n",
      "/Users/frederic.birwe/Library/CloudStorage/OneDrive-BertelsmannSE&Co.KGaA/Masterarbeit/20_data/613010/ps2400dpi150lpi/FC_FS23_S_ES0077_T_F_41L.p1 2.4c.Y.tif\n",
      "/Users/frederic.birwe/Library/CloudStorage/OneDrive-BertelsmannSE&Co.KGaA/Masterarbeit/20_data/613010/ps2400dpi150lpi/FC_FS23_S_ES0078_T_D_41L.p1.4c.C.tif\n",
      "/Users/frederic.birwe/Library/CloudStorage/OneDrive-BertelsmannSE&Co.KGaA/Masterarbeit/20_data/613010/ps2400dpi150lpi/FC_FS23_S_ES0060_T_D_Suffix_90_41L.p1.4c.C.tif\n",
      "/Users/frederic.birwe/Library/CloudStorage/OneDrive-BertelsmannSE&Co.KGaA/Masterarbeit/20_data/613010/ps2400dpi150lpi/FC_FS23_S_ES0069_T_F_41L.p1 2.4c.M.tif\n",
      "/Users/frederic.birwe/Library/CloudStorage/OneDrive-BertelsmannSE&Co.KGaA/Masterarbeit/20_data/613010/ps2400dpi150lpi/FC_FS23_S_ES0081_T_NL_41L.p1 2.4c.C.tif\n"
     ]
    },
    {
     "name": "stderr",
     "output_type": "stream",
     "text": [
      " 89%|██████████████████████████████▎   | 10212/11457 [00:32<00:05, 213.43it/s]"
     ]
    },
    {
     "name": "stdout",
     "output_type": "stream",
     "text": [
      "/Users/frederic.birwe/Library/CloudStorage/OneDrive-BertelsmannSE&Co.KGaA/Masterarbeit/20_data/613010/ps2400dpi150lpi/FC_FS23_S_ES0050_T_A_41L.p1.4c.C.tif\n",
      "/Users/frederic.birwe/Library/CloudStorage/OneDrive-BertelsmannSE&Co.KGaA/Masterarbeit/20_data/613010/ps2400dpi150lpi/FC_FS23_S_ES0080_T_WCH_41L.p1.4c.Y.tif\n",
      "/Users/frederic.birwe/Library/CloudStorage/OneDrive-BertelsmannSE&Co.KGaA/Masterarbeit/20_data/613010/ps2400dpi150lpi/FC_FS23_S_ES0089_T_D_Suffix_90_41L.p1.4c.M.tif\n",
      "/Users/frederic.birwe/Library/CloudStorage/OneDrive-BertelsmannSE&Co.KGaA/Masterarbeit/20_data/613010/ps2400dpi150lpi/FC_FS23_S_ES0062_T_A_41L.p1.4c.M.tif\n",
      "/Users/frederic.birwe/Library/CloudStorage/OneDrive-BertelsmannSE&Co.KGaA/Masterarbeit/20_data/613010/ps2400dpi150lpi/FC_FS23_S_ES0041_T_WCH_41L.p1.4c.C.tif\n",
      "/Users/frederic.birwe/Library/CloudStorage/OneDrive-BertelsmannSE&Co.KGaA/Masterarbeit/20_data/613010/ps2400dpi150lpi/FC_FS23_S_ES0114_T_CH_41L.p1 2.4c.M.tif\n",
      "/Users/frederic.birwe/Library/CloudStorage/OneDrive-BertelsmannSE&Co.KGaA/Masterarbeit/20_data/613010/ps2400dpi150lpi/FC_FS23_S_ES0032_T_WCH_41L.p1 2.4c.C.tif\n",
      "/Users/frederic.birwe/Library/CloudStorage/OneDrive-BertelsmannSE&Co.KGaA/Masterarbeit/20_data/613010/ps2400dpi150lpi/FC_FS23_S_ES0053_T_NL_41L.p1.4c.Y.tif\n",
      "/Users/frederic.birwe/Library/CloudStorage/OneDrive-BertelsmannSE&Co.KGaA/Masterarbeit/20_data/613010/ps2400dpi150lpi/FC_FS23_S_ES0034_T_CH_41L.p1.4c.C.tif\n",
      "/Users/frederic.birwe/Library/CloudStorage/OneDrive-BertelsmannSE&Co.KGaA/Masterarbeit/20_data/613010/ps2400dpi150lpi/FC_FS23_S_ES0033_T_A_41L.p1.4c.M.tif\n",
      "/Users/frederic.birwe/Library/CloudStorage/OneDrive-BertelsmannSE&Co.KGaA/Masterarbeit/20_data/613010/ps2400dpi150lpi/FC_FS23_S_ES0044_T_CH_41L.p1.4c.M.tif\n",
      "/Users/frederic.birwe/Library/CloudStorage/OneDrive-BertelsmannSE&Co.KGaA/Masterarbeit/20_data/613010/ps2400dpi150lpi/FC_FS23_S_ES0079_T_A_41L.p1.4c.Y.tif\n",
      "/Users/frederic.birwe/Library/CloudStorage/OneDrive-BertelsmannSE&Co.KGaA/Masterarbeit/20_data/613010/ps2400dpi150lpi/FC_FS23_S_ES0036_T_WCH_41L.p1.4c.Y.tif\n",
      "/Users/frederic.birwe/Library/CloudStorage/OneDrive-BertelsmannSE&Co.KGaA/Masterarbeit/20_data/613010/ps2400dpi150lpi/FC_FS23_S_ES0046_T_WCH_41L.p1.4c.M.tif\n",
      "/Users/frederic.birwe/Library/CloudStorage/OneDrive-BertelsmannSE&Co.KGaA/Masterarbeit/20_data/613010/ps2400dpi150lpi/FC_FS23_S_ES0091_T_A_41L.p1.4c.M.tif\n",
      "/Users/frederic.birwe/Library/CloudStorage/OneDrive-BertelsmannSE&Co.KGaA/Masterarbeit/20_data/613010/ps2400dpi150lpi/FC_FS23_S_ES0099_T_WCH_41L.p1.4c.C.tif\n",
      "/Users/frederic.birwe/Library/CloudStorage/OneDrive-BertelsmannSE&Co.KGaA/Masterarbeit/20_data/613010/ps2400dpi150lpi/FC_FS23_S_ES0058_T_D_Suffix_90_41L.p1.4c.M.tif\n",
      "/Users/frederic.birwe/Library/CloudStorage/OneDrive-BertelsmannSE&Co.KGaA/Masterarbeit/20_data/613010/ps2400dpi150lpi/FC_FS23_S_ES0056_T_WCH_41L.p1 2.4c.Y.tif\n",
      "/Users/frederic.birwe/Library/CloudStorage/OneDrive-BertelsmannSE&Co.KGaA/Masterarbeit/20_data/613010/ps2400dpi150lpi/FC_FS23_S_ES0028_T_A_41L.p1.4c.Y.tif\n",
      "/Users/frederic.birwe/Library/CloudStorage/OneDrive-BertelsmannSE&Co.KGaA/Masterarbeit/20_data/613010/ps2400dpi150lpi/FC_FS23_S_ES0035_T_NL_41L.p1 2.4c.C.tif\n",
      "/Users/frederic.birwe/Library/CloudStorage/OneDrive-BertelsmannSE&Co.KGaA/Masterarbeit/20_data/613010/ps2400dpi150lpi/FC_FS23_S_ES0029_T_NL_41L.p1.4c.C.tif\n",
      "/Users/frederic.birwe/Library/CloudStorage/OneDrive-BertelsmannSE&Co.KGaA/Masterarbeit/20_data/613010/ps2400dpi150lpi/FC_FS23_S_ES0049_T_D_Suffix_90_41L.p1.4c.Y.tif\n",
      "/Users/frederic.birwe/Library/CloudStorage/OneDrive-BertelsmannSE&Co.KGaA/Masterarbeit/20_data/613010/ps2400dpi150lpi/FC_FS23_S_ES0063_T_NL_41L.p1 2.4c.Y.tif\n",
      "/Users/frederic.birwe/Library/CloudStorage/OneDrive-BertelsmannSE&Co.KGaA/Masterarbeit/20_data/613010/ps2400dpi150lpi/FC_FS23_S_ES0050_T_WCH_41L.p1.4c.M.tif\n",
      "/Users/frederic.birwe/Library/CloudStorage/OneDrive-BertelsmannSE&Co.KGaA/Masterarbeit/20_data/613010/ps2400dpi150lpi/FC_FS23_S_ES0060_T_A_41L.p1.4c.Y.tif\n"
     ]
    },
    {
     "name": "stderr",
     "output_type": "stream",
     "text": [
      " 90%|██████████████████████████████▍   | 10255/11457 [00:33<00:05, 201.30it/s]"
     ]
    },
    {
     "name": "stdout",
     "output_type": "stream",
     "text": [
      "/Users/frederic.birwe/Library/CloudStorage/OneDrive-BertelsmannSE&Co.KGaA/Masterarbeit/20_data/613010/ps2400dpi150lpi/FC_FS23_S_ES0088_T_A_41L.p1.4c.M.tif\n",
      "/Users/frederic.birwe/Library/CloudStorage/OneDrive-BertelsmannSE&Co.KGaA/Masterarbeit/20_data/613010/ps2400dpi150lpi/FC_FS23_S_ES0020_T_WCH_41L.p1.4c.Y.tif\n",
      "/Users/frederic.birwe/Library/CloudStorage/OneDrive-BertelsmannSE&Co.KGaA/Masterarbeit/20_data/613010/ps2400dpi150lpi/FC_FS23_S_ES0031_T_A_41L.p1.4c.Y.tif\n",
      "/Users/frederic.birwe/Library/CloudStorage/OneDrive-BertelsmannSE&Co.KGaA/Masterarbeit/20_data/613010/ps2400dpi150lpi/FC_FS23_S_ES0050_T_NL_41L.p1.4c.C.tif\n",
      "/Users/frederic.birwe/Library/CloudStorage/OneDrive-BertelsmannSE&Co.KGaA/Masterarbeit/20_data/613010/ps2400dpi150lpi/FC_FS23_S_ES0085_T_WCH_41L.p1 2.4c.Y.tif\n",
      "/Users/frederic.birwe/Library/CloudStorage/OneDrive-BertelsmannSE&Co.KGaA/Masterarbeit/20_data/613010/ps2400dpi150lpi/FC_FS23_S_ES0039_T_WCH_41L.p1.4c.C.tif\n",
      "/Users/frederic.birwe/Library/CloudStorage/OneDrive-BertelsmannSE&Co.KGaA/Masterarbeit/20_data/613010/ps2400dpi150lpi/FC_FS23_S_ES0049_T_A_41L.p1.4c.C.tif\n",
      "/Users/frederic.birwe/Library/CloudStorage/OneDrive-BertelsmannSE&Co.KGaA/Masterarbeit/20_data/613010/ps2400dpi150lpi/FC_FS23_S_ES0019_T_WCH_41L.p1 2.4c.Y.tif\n",
      "/Users/frederic.birwe/Library/CloudStorage/OneDrive-BertelsmannSE&Co.KGaA/Masterarbeit/20_data/613010/ps2400dpi150lpi/FC_FS23_S_ES0020_T_NL_41L.p1.4c.M.tif\n",
      "/Users/frederic.birwe/Library/CloudStorage/OneDrive-BertelsmannSE&Co.KGaA/Masterarbeit/20_data/613010/ps2400dpi150lpi/FC_FS23_S_ES0018_T_A_41L.p1.4c.C.tif\n",
      "/Users/frederic.birwe/Library/CloudStorage/OneDrive-BertelsmannSE&Co.KGaA/Masterarbeit/20_data/613010/ps2400dpi150lpi/FC_FS23_S_ES0057_T_WCH_41L.p1.4c.C.tif\n",
      "/Users/frederic.birwe/Library/CloudStorage/OneDrive-BertelsmannSE&Co.KGaA/Masterarbeit/20_data/613010/ps2400dpi150lpi/FC_FS23_S_ES0112_T_F_41L.p1 2.4c.M.tif\n",
      "/Users/frederic.birwe/Library/CloudStorage/OneDrive-BertelsmannSE&Co.KGaA/Masterarbeit/20_data/613010/ps2400dpi150lpi/FC_FS23_S_ES0088_T_WCH_41L.p1.4c.M.tif\n",
      "/Users/frederic.birwe/Library/CloudStorage/OneDrive-BertelsmannSE&Co.KGaA/Masterarbeit/20_data/613010/ps2400dpi150lpi/FC_FS23_S_ES0093_T_A_41L.p1.4c.Y.tif\n",
      "/Users/frederic.birwe/Library/CloudStorage/OneDrive-BertelsmannSE&Co.KGaA/Masterarbeit/20_data/613010/ps2400dpi150lpi/FC_FS23_S_ES0036_T_CH_41L.p1 2.4c.C.tif\n",
      "/Users/frederic.birwe/Library/CloudStorage/OneDrive-BertelsmannSE&Co.KGaA/Masterarbeit/20_data/613010/ps2400dpi150lpi/FC_FS23_S_ES0098_T_D_Suffix_90_41L.p1.4c.Y.tif\n",
      "/Users/frederic.birwe/Library/CloudStorage/OneDrive-BertelsmannSE&Co.KGaA/Masterarbeit/20_data/613010/ps2400dpi150lpi/FC_FS23_S_ES0059_T_NL_41L.p1.4c.M.tif\n",
      "/Users/frederic.birwe/Library/CloudStorage/OneDrive-BertelsmannSE&Co.KGaA/Masterarbeit/20_data/613010/ps2400dpi150lpi/FC_FS23_S_ES0012_T_D_Suffix_90_41L.p1.4c.Y.tif\n"
     ]
    },
    {
     "name": "stderr",
     "output_type": "stream",
     "text": [
      " 90%|██████████████████████████████▌   | 10302/11457 [00:33<00:05, 215.69it/s]"
     ]
    },
    {
     "name": "stdout",
     "output_type": "stream",
     "text": [
      "/Users/frederic.birwe/Library/CloudStorage/OneDrive-BertelsmannSE&Co.KGaA/Masterarbeit/20_data/613010/ps2400dpi150lpi/FC_FS23_S_ES0086_T_D_Suffix_90_41L.p1.4c.Y.tif\n",
      "/Users/frederic.birwe/Library/CloudStorage/OneDrive-BertelsmannSE&Co.KGaA/Masterarbeit/20_data/613010/ps2400dpi150lpi/FC_FS23_S_ES0007_T_F_41L.p1.4c.C.tif\n",
      "/Users/frederic.birwe/Library/CloudStorage/OneDrive-BertelsmannSE&Co.KGaA/Masterarbeit/20_data/613010/ps2400dpi150lpi/FC_FS23_S_ES0098_T_NL_41L.p1.4c.Y.tif\n",
      "/Users/frederic.birwe/Library/CloudStorage/OneDrive-BertelsmannSE&Co.KGaA/Masterarbeit/20_data/613010/ps2400dpi150lpi/FC_FS23_S_ES0035_T_F_41L.p1.4c.M.tif\n",
      "/Users/frederic.birwe/Library/CloudStorage/OneDrive-BertelsmannSE&Co.KGaA/Masterarbeit/20_data/613010/ps2400dpi150lpi/FC_FS23_S_ES0030_T_D_41L.p1.4c.C.tif\n",
      "/Users/frederic.birwe/Library/CloudStorage/OneDrive-BertelsmannSE&Co.KGaA/Masterarbeit/20_data/613010/ps2400dpi150lpi/FC_FS23_S_ES0061_T_F_41L.p1 2.4c.Y.tif\n",
      "/Users/frederic.birwe/Library/CloudStorage/OneDrive-BertelsmannSE&Co.KGaA/Masterarbeit/20_data/613010/ps2400dpi150lpi/FC_FS23_S_ES0101_T_NL_41L.p1.4c.M.tif\n",
      "/Users/frederic.birwe/Library/CloudStorage/OneDrive-BertelsmannSE&Co.KGaA/Masterarbeit/20_data/613010/ps2400dpi150lpi/FC_FS23_S_ES0053_T_D_41L.p1.4c.M.tif\n",
      "/Users/frederic.birwe/Library/CloudStorage/OneDrive-BertelsmannSE&Co.KGaA/Masterarbeit/20_data/613010/ps2400dpi150lpi/FC_FS23_S_ES0075_T_CH_41L.p1.4c.C.tif\n",
      "/Users/frederic.birwe/Library/CloudStorage/OneDrive-BertelsmannSE&Co.KGaA/Masterarbeit/20_data/613010/ps2400dpi150lpi/FC_FS23_S_ES0012_T_NL_41L.p1.4c.Y.tif\n",
      "/Users/frederic.birwe/Library/CloudStorage/OneDrive-BertelsmannSE&Co.KGaA/Masterarbeit/20_data/613010/ps2400dpi150lpi/FC_FS23_S_ES0061_T_D_41L.p1.4c.C.tif\n",
      "/Users/frederic.birwe/Library/CloudStorage/OneDrive-BertelsmannSE&Co.KGaA/Masterarbeit/20_data/613010/ps2400dpi150lpi/FC_FS23_S_ES0097_T_F_41L.p1.4c.M.tif\n",
      "/Users/frederic.birwe/Library/CloudStorage/OneDrive-BertelsmannSE&Co.KGaA/Masterarbeit/20_data/613010/ps2400dpi150lpi/FC_FS23_S_ES0092_T_D_41L.p1.4c.C.tif\n",
      "/Users/frederic.birwe/Library/CloudStorage/OneDrive-BertelsmannSE&Co.KGaA/Masterarbeit/20_data/613010/ps2400dpi150lpi/FC_FS23_S_ES0019_T_D_41L.p1.4c.Y.tif\n",
      "/Users/frederic.birwe/Library/CloudStorage/OneDrive-BertelsmannSE&Co.KGaA/Masterarbeit/20_data/613010/ps2400dpi150lpi/FC_FS23_S_ES0043_T_WCH_41L.p1 2.4c.C.tif\n",
      "/Users/frederic.birwe/Library/CloudStorage/OneDrive-BertelsmannSE&Co.KGaA/Masterarbeit/20_data/613010/ps2400dpi150lpi/FC_FS23_S_ES0005_T_CH_41L.p1.4c.M.tif\n",
      "/Users/frederic.birwe/Library/CloudStorage/OneDrive-BertelsmannSE&Co.KGaA/Masterarbeit/20_data/613010/ps2400dpi150lpi/FC_FS23_S_ES0016_T_NL_41L.p1 2.4c.Y.tif\n",
      "/Users/frederic.birwe/Library/CloudStorage/OneDrive-BertelsmannSE&Co.KGaA/Masterarbeit/20_data/613010/ps2400dpi150lpi/FC_FS23_S_ES0108_T_NL_41L.p1.4c.C.tif\n",
      "/Users/frederic.birwe/Library/CloudStorage/OneDrive-BertelsmannSE&Co.KGaA/Masterarbeit/20_data/613010/ps2400dpi150lpi/FC_FS23_S_ES0011_T_NL_41L.p1 2.4c.M.tif\n",
      "/Users/frederic.birwe/Library/CloudStorage/OneDrive-BertelsmannSE&Co.KGaA/Masterarbeit/20_data/613010/ps2400dpi150lpi/FC_FS23_S_ES0048_T_D_41L.p1.4c.Y.tif\n"
     ]
    },
    {
     "name": "stderr",
     "output_type": "stream",
     "text": [
      " 90%|██████████████████████████████▋   | 10345/11457 [00:33<00:06, 184.75it/s]"
     ]
    },
    {
     "name": "stdout",
     "output_type": "stream",
     "text": [
      "/Users/frederic.birwe/Library/CloudStorage/OneDrive-BertelsmannSE&Co.KGaA/Masterarbeit/20_data/613010/ps2400dpi150lpi/FC_FS23_S_ES0057_T_D_Suffix_90_41L.p1.4c.Y.tif\n",
      "/Users/frederic.birwe/Library/CloudStorage/OneDrive-BertelsmannSE&Co.KGaA/Masterarbeit/20_data/613010/ps2400dpi150lpi/FC_FS23_S_ES0078_T_A_41L.p1.4c.Y.tif\n",
      "/Users/frederic.birwe/Library/CloudStorage/OneDrive-BertelsmannSE&Co.KGaA/Masterarbeit/20_data/613010/ps2400dpi150lpi/FC_FS23_S_ES0095_T_F_41L.p1 2.4c.Y.tif\n",
      "/Users/frederic.birwe/Library/CloudStorage/OneDrive-BertelsmannSE&Co.KGaA/Masterarbeit/20_data/613010/ps2400dpi150lpi/FC_FS23_S_ES0038_T_CH_41L.p1.4c.M.tif\n",
      "/Users/frederic.birwe/Library/CloudStorage/OneDrive-BertelsmannSE&Co.KGaA/Masterarbeit/20_data/613010/ps2400dpi150lpi/FC_FS23_S_ES0114_T_A_41L.p1.4c.M.tif\n",
      "/Users/frederic.birwe/Library/CloudStorage/OneDrive-BertelsmannSE&Co.KGaA/Masterarbeit/20_data/613010/ps2400dpi150lpi/FC_FS23_S_ES0054_T_F_41L.p1 2.4c.C.tif\n",
      "/Users/frederic.birwe/Library/CloudStorage/OneDrive-BertelsmannSE&Co.KGaA/Masterarbeit/20_data/613010/ps2400dpi150lpi/FC_FS23_S_ES0111_T_WCH_41L.p1.4c.M.tif\n",
      "/Users/frederic.birwe/Library/CloudStorage/OneDrive-BertelsmannSE&Co.KGaA/Masterarbeit/20_data/613010/ps2400dpi150lpi/FC_FS23_S_ES0029_T_A_41L.p1.4c.Y.tif\n",
      "/Users/frederic.birwe/Library/CloudStorage/OneDrive-BertelsmannSE&Co.KGaA/Masterarbeit/20_data/613010/ps2400dpi150lpi/FC_FS23_S_ES0041_T_CH_41L.p1.4c.M.tif\n",
      "/Users/frederic.birwe/Library/CloudStorage/OneDrive-BertelsmannSE&Co.KGaA/Masterarbeit/20_data/613010/ps2400dpi150lpi/FC_FS23_S_ES0038_T_D_Suffix_90_41L.p1.4c.M.tif\n",
      "/Users/frederic.birwe/Library/CloudStorage/OneDrive-BertelsmannSE&Co.KGaA/Masterarbeit/20_data/613010/ps2400dpi150lpi/FC_FS23_S_ES0090_T_A_41L.p1.4c.M.tif\n",
      "/Users/frederic.birwe/Library/CloudStorage/OneDrive-BertelsmannSE&Co.KGaA/Masterarbeit/20_data/613010/ps2400dpi150lpi/FC_FS23_S_ES0031_T_CH_41L.p1.4c.C.tif\n",
      "/Users/frederic.birwe/Library/CloudStorage/OneDrive-BertelsmannSE&Co.KGaA/Masterarbeit/20_data/613010/ps2400dpi150lpi/FC_FS23_S_ES0027_T_NL_41L.p1 2.4c.Y.tif\n",
      "/Users/frederic.birwe/Library/CloudStorage/OneDrive-BertelsmannSE&Co.KGaA/Masterarbeit/20_data/613010/ps2400dpi150lpi/FC_FS23_S_ES0063_T_A_41L.p1.4c.M.tif\n",
      "/Users/frederic.birwe/Library/CloudStorage/OneDrive-BertelsmannSE&Co.KGaA/Masterarbeit/20_data/613010/ps2400dpi150lpi/FC_FS23_S_ES0051_T_A_41L.p1.4c.C.tif\n",
      "/Users/frederic.birwe/Library/CloudStorage/OneDrive-BertelsmannSE&Co.KGaA/Masterarbeit/20_data/613010/ps2400dpi150lpi/FC_FS23_S_ES0028_T_WCH_41L.p1 2.4c.Y.tif\n",
      "/Users/frederic.birwe/Library/CloudStorage/OneDrive-BertelsmannSE&Co.KGaA/Masterarbeit/20_data/613010/ps2400dpi150lpi/FC_FS23_S_ES0056_T_NL_41L.p1.4c.Y.tif\n",
      "/Users/frederic.birwe/Library/CloudStorage/OneDrive-BertelsmannSE&Co.KGaA/Masterarbeit/20_data/613010/ps2400dpi150lpi/FC_FS23_S_ES0096_T_WCH_41L.p1 2.4c.M.tif\n",
      "/Users/frederic.birwe/Library/CloudStorage/OneDrive-BertelsmannSE&Co.KGaA/Masterarbeit/20_data/613010/ps2400dpi150lpi/FC_FS23_S_ES0032_T_A_41L.p1.4c.M.tif\n"
     ]
    },
    {
     "name": "stderr",
     "output_type": "stream",
     "text": [
      " 91%|██████████████████████████████▊   | 10383/11457 [00:33<00:05, 181.26it/s]"
     ]
    },
    {
     "name": "stdout",
     "output_type": "stream",
     "text": [
      "/Users/frederic.birwe/Library/CloudStorage/OneDrive-BertelsmannSE&Co.KGaA/Masterarbeit/20_data/613010/ps2400dpi150lpi/FC_FS23_S_ES0048_T_CH_41L.p1.4c.C.tif\n",
      "/Users/frederic.birwe/Library/CloudStorage/OneDrive-BertelsmannSE&Co.KGaA/Masterarbeit/20_data/613010/ps2400dpi150lpi/FC_FS23_S_ES0020_T_NL_41L.p1 2.4c.M.tif\n",
      "/Users/frederic.birwe/Library/CloudStorage/OneDrive-BertelsmannSE&Co.KGaA/Masterarbeit/20_data/613010/ps2400dpi150lpi/FC_FS23_S_ES0028_T_D_41L.p1.4c.C.tif\n",
      "/Users/frederic.birwe/Library/CloudStorage/OneDrive-BertelsmannSE&Co.KGaA/Masterarbeit/20_data/613010/ps2400dpi150lpi/FC_FS23_S_ES0094_T_F_41L.p1.4c.Y.tif\n",
      "/Users/frederic.birwe/Library/CloudStorage/OneDrive-BertelsmannSE&Co.KGaA/Masterarbeit/20_data/613010/ps2400dpi150lpi/FC_FS23_S_ES0094_T_D_Suffix_90_41L.p1.4c.C.tif\n",
      "/Users/frederic.birwe/Library/CloudStorage/OneDrive-BertelsmannSE&Co.KGaA/Masterarbeit/20_data/613010/ps2400dpi150lpi/FC_FS23_S_ES0064_T_NL_41L.p1.4c.M.tif\n",
      "/Users/frederic.birwe/Library/CloudStorage/OneDrive-BertelsmannSE&Co.KGaA/Masterarbeit/20_data/613010/ps2400dpi150lpi/FC_FS23_S_ES0079_T_D_41L.p1.4c.C.tif\n",
      "/Users/frederic.birwe/Library/CloudStorage/OneDrive-BertelsmannSE&Co.KGaA/Masterarbeit/20_data/613010/ps2400dpi150lpi/FC_FS23_S_ES0110_T_CH_41L.p1.4c.C.tif\n",
      "/Users/frederic.birwe/Library/CloudStorage/OneDrive-BertelsmannSE&Co.KGaA/Masterarbeit/20_data/613010/ps2400dpi150lpi/FC_FS23_S_ES0097_T_NL_41L.p1.4c.M.tif\n",
      "/Users/frederic.birwe/Library/CloudStorage/OneDrive-BertelsmannSE&Co.KGaA/Masterarbeit/20_data/613010/ps2400dpi150lpi/FC_FS23_S_ES0015_T_WCH_41L.p1.4c.C.tif\n",
      "/Users/frederic.birwe/Library/CloudStorage/OneDrive-BertelsmannSE&Co.KGaA/Masterarbeit/20_data/613010/ps2400dpi150lpi/FC_FS23_S_ES0063_T_D_Suffix_90_41L.p1.4c.M.tif\n",
      "/Users/frederic.birwe/Library/CloudStorage/OneDrive-BertelsmannSE&Co.KGaA/Masterarbeit/20_data/613010/ps2400dpi150lpi/FC_FS23_S_ES0110_T_F_41L.p1.4c.Y.tif\n",
      "/Users/frederic.birwe/Library/CloudStorage/OneDrive-BertelsmannSE&Co.KGaA/Masterarbeit/20_data/613010/ps2400dpi150lpi/FC_FS23_S_ES0055_T_NL_41L.p1 2.4c.M.tif\n",
      "/Users/frederic.birwe/Library/CloudStorage/OneDrive-BertelsmannSE&Co.KGaA/Masterarbeit/20_data/613010/ps2400dpi150lpi/FC_FS23_S_ES0080_T_CH_41L.p1.4c.Y.tif\n",
      "/Users/frederic.birwe/Library/CloudStorage/OneDrive-BertelsmannSE&Co.KGaA/Masterarbeit/20_data/613010/ps2400dpi150lpi/FC_FS23_S_ES0093_T_NL_41L.p1 2.4c.Y.tif\n",
      "/Users/frederic.birwe/Library/CloudStorage/OneDrive-BertelsmannSE&Co.KGaA/Masterarbeit/20_data/613010/ps2400dpi150lpi/FC_FS23_S_ES0073_T_CH_41L.p1.4c.Y.tif\n",
      "/Users/frederic.birwe/Library/CloudStorage/OneDrive-BertelsmannSE&Co.KGaA/Masterarbeit/20_data/613010/ps2400dpi150lpi/FC_FS23_S_ES0026_T_D_Suffix_90_41L.p1.4c.M.tif\n",
      "/Users/frederic.birwe/Library/CloudStorage/OneDrive-BertelsmannSE&Co.KGaA/Masterarbeit/20_data/613010/ps2400dpi150lpi/FC_FS23_S_ES0014_T_NL_41L.p1.4c.C.tif\n",
      "/Users/frederic.birwe/Library/CloudStorage/OneDrive-BertelsmannSE&Co.KGaA/Masterarbeit/20_data/613010/ps2400dpi150lpi/FC_FS23_S_ES0012_T_WCH_41L.p1.4c.M.tif\n",
      "/Users/frederic.birwe/Library/CloudStorage/OneDrive-BertelsmannSE&Co.KGaA/Masterarbeit/20_data/613010/ps2400dpi150lpi/FC_FS23_S_ES0045_T_D_Suffix_90_41L.p1.4c.C.tif\n",
      "/Users/frederic.birwe/Library/CloudStorage/OneDrive-BertelsmannSE&Co.KGaA/Masterarbeit/20_data/613010/ps2400dpi150lpi/FC_FS23_S_ES0108_T_D_Suffix_90_41L.p1.4c.M.tif\n"
     ]
    },
    {
     "name": "stderr",
     "output_type": "stream",
     "text": [
      " 91%|██████████████████████████████▉   | 10421/11457 [00:34<00:05, 178.89it/s]"
     ]
    },
    {
     "name": "stdout",
     "output_type": "stream",
     "text": [
      "/Users/frederic.birwe/Library/CloudStorage/OneDrive-BertelsmannSE&Co.KGaA/Masterarbeit/20_data/613010/ps2400dpi150lpi/FC_FS23_S_ES0062_T_WCH_41L.p1.4c.Y.tif\n",
      "/Users/frederic.birwe/Library/CloudStorage/OneDrive-BertelsmannSE&Co.KGaA/Masterarbeit/20_data/613010/ps2400dpi150lpi/FC_FS23_S_ES0034_T_WCH_41L.p1 2.4c.M.tif\n",
      "/Users/frederic.birwe/Library/CloudStorage/OneDrive-BertelsmannSE&Co.KGaA/Masterarbeit/20_data/613010/ps2400dpi150lpi/FC_FS23_S_ES0050_T_D_41L.p1.4c.Y.tif\n",
      "/Users/frederic.birwe/Library/CloudStorage/OneDrive-BertelsmannSE&Co.KGaA/Masterarbeit/20_data/613010/ps2400dpi150lpi/FC_FS23_S_ES0051_T_CH_41L.p1 2.4c.Y.tif\n",
      "/Users/frederic.birwe/Library/CloudStorage/OneDrive-BertelsmannSE&Co.KGaA/Masterarbeit/20_data/613010/ps2400dpi150lpi/FC_FS23_S_ES0018_T_D_41L.p1.4c.Y.tif\n",
      "/Users/frederic.birwe/Library/CloudStorage/OneDrive-BertelsmannSE&Co.KGaA/Masterarbeit/20_data/613010/ps2400dpi150lpi/FC_FS23_S_ES0074_T_WCH_41L.p1.4c.Y.tif\n",
      "/Users/frederic.birwe/Library/CloudStorage/OneDrive-BertelsmannSE&Co.KGaA/Masterarbeit/20_data/613010/ps2400dpi150lpi/FC_FS23_S_ES0096_T_F_41L.p1.4c.M.tif\n",
      "/Users/frederic.birwe/Library/CloudStorage/OneDrive-BertelsmannSE&Co.KGaA/Masterarbeit/20_data/613010/ps2400dpi150lpi/FC_FS23_S_ES0093_T_D_41L.p1.4c.C.tif\n",
      "/Users/frederic.birwe/Library/CloudStorage/OneDrive-BertelsmannSE&Co.KGaA/Masterarbeit/20_data/613010/ps2400dpi150lpi/FC_FS23_S_ES0037_T_D_Suffix_90_41L.p1.4c.Y.tif\n",
      "/Users/frederic.birwe/Library/CloudStorage/OneDrive-BertelsmannSE&Co.KGaA/Masterarbeit/20_data/613010/ps2400dpi150lpi/FC_FS23_S_ES0004_T_WCH_41L.p1.4c.M.tif\n",
      "/Users/frederic.birwe/Library/CloudStorage/OneDrive-BertelsmannSE&Co.KGaA/Masterarbeit/20_data/613010/ps2400dpi150lpi/FC_FS23_S_ES0113_T_CH_41L.p1.4c.Y.tif\n",
      "/Users/frederic.birwe/Library/CloudStorage/OneDrive-BertelsmannSE&Co.KGaA/Masterarbeit/20_data/613010/ps2400dpi150lpi/FC_FS23_S_ES0049_T_D_41L.p1.4c.Y.tif\n",
      "/Users/frederic.birwe/Library/CloudStorage/OneDrive-BertelsmannSE&Co.KGaA/Masterarbeit/20_data/613010/ps2400dpi150lpi/FC_FS23_S_ES0031_T_D_41L.p1.4c.C.tif\n",
      "/Users/frederic.birwe/Library/CloudStorage/OneDrive-BertelsmannSE&Co.KGaA/Masterarbeit/20_data/613010/ps2400dpi150lpi/FC_FS23_S_ES0017_T_NL_41L.p1.4c.Y.tif\n",
      "/Users/frederic.birwe/Library/CloudStorage/OneDrive-BertelsmannSE&Co.KGaA/Masterarbeit/20_data/613010/ps2400dpi150lpi/FC_FS23_S_ES0083_T_CH_41L.p1.4c.C.tif\n",
      "/Users/frederic.birwe/Library/CloudStorage/OneDrive-BertelsmannSE&Co.KGaA/Masterarbeit/20_data/613010/ps2400dpi150lpi/FC_FS23_S_ES0072_T_D_Suffix_90_41L.p1.4c.Y.tif\n"
     ]
    },
    {
     "name": "stderr",
     "output_type": "stream",
     "text": [
      " 91%|███████████████████████████████   | 10459/11457 [00:34<00:05, 179.12it/s]"
     ]
    },
    {
     "name": "stdout",
     "output_type": "stream",
     "text": [
      "/Users/frederic.birwe/Library/CloudStorage/OneDrive-BertelsmannSE&Co.KGaA/Masterarbeit/20_data/613010/ps2400dpi150lpi/FC_FS23_S_ES0003_T_WCH_41L.p1.4c.C.tif\n",
      "/Users/frederic.birwe/Library/CloudStorage/OneDrive-BertelsmannSE&Co.KGaA/Masterarbeit/20_data/613010/ps2400dpi150lpi/FC_FS23_S_ES0070_T_CH_41L.p1.4c.C.tif\n",
      "/Users/frederic.birwe/Library/CloudStorage/OneDrive-BertelsmannSE&Co.KGaA/Masterarbeit/20_data/613010/ps2400dpi150lpi/FC_FS23_S_ES0006_T_F_41L.p1.4c.C.tif\n",
      "/Users/frederic.birwe/Library/CloudStorage/OneDrive-BertelsmannSE&Co.KGaA/Masterarbeit/20_data/613010/ps2400dpi150lpi/FC_FS23_S_ES0003_T_D_41L.p1.4c.M.tif\n",
      "/Users/frederic.birwe/Library/CloudStorage/OneDrive-BertelsmannSE&Co.KGaA/Masterarbeit/20_data/613010/ps2400dpi150lpi/FC_FS23_S_ES0009_T_CH_41L.p1.4c.C.tif\n",
      "/Users/frederic.birwe/Library/CloudStorage/OneDrive-BertelsmannSE&Co.KGaA/Masterarbeit/20_data/613010/ps2400dpi150lpi/FC_FS23_S_ES0060_T_D_41L.p1.4c.C.tif\n",
      "/Users/frederic.birwe/Library/CloudStorage/OneDrive-BertelsmannSE&Co.KGaA/Masterarbeit/20_data/613010/ps2400dpi150lpi/FC_FS23_S_ES0065_T_F_41L.p1.4c.M.tif\n",
      "/Users/frederic.birwe/Library/CloudStorage/OneDrive-BertelsmannSE&Co.KGaA/Masterarbeit/20_data/613010/ps2400dpi150lpi/FC_FS23_S_ES0004_T_NL_41L.p1 2.4c.C.tif\n",
      "/Users/frederic.birwe/Library/CloudStorage/OneDrive-BertelsmannSE&Co.KGaA/Masterarbeit/20_data/613010/ps2400dpi150lpi/FC_FS23_S_ES0052_T_D_41L.p1.4c.M.tif\n",
      "/Users/frederic.birwe/Library/CloudStorage/OneDrive-BertelsmannSE&Co.KGaA/Masterarbeit/20_data/613010/ps2400dpi150lpi/FC_FS23_S_ES0057_T_F_41L.p1.4c.C.tif\n",
      "/Users/frederic.birwe/Library/CloudStorage/OneDrive-BertelsmannSE&Co.KGaA/Masterarbeit/20_data/613010/ps2400dpi150lpi/FC_FS23_S_ES0097_T_CH_41L.p1 2.4c.M.tif\n",
      "/Users/frederic.birwe/Library/CloudStorage/OneDrive-BertelsmannSE&Co.KGaA/Masterarbeit/20_data/613010/ps2400dpi150lpi/FC_FS23_S_ES0078_T_CH_41L.p1 2.4c.C.tif\n",
      "/Users/frederic.birwe/Library/CloudStorage/OneDrive-BertelsmannSE&Co.KGaA/Masterarbeit/20_data/613010/ps2400dpi150lpi/FC_FS23_S_ES0045_T_WCH_41L.p1 2.4c.M.tif\n",
      "/Users/frederic.birwe/Library/CloudStorage/OneDrive-BertelsmannSE&Co.KGaA/Masterarbeit/20_data/613010/ps2400dpi150lpi/FC_FS23_S_ES0048_T_A_41L.p1.4c.C.tif\n",
      "/Users/frederic.birwe/Library/CloudStorage/OneDrive-BertelsmannSE&Co.KGaA/Masterarbeit/20_data/613010/ps2400dpi150lpi/FC_FS23_S_ES0045_T_F_41L.p1 2.4c.M.tif\n",
      "/Users/frederic.birwe/Library/CloudStorage/OneDrive-BertelsmannSE&Co.KGaA/Masterarbeit/20_data/613010/ps2400dpi150lpi/FC_FS23_S_ES0100_T_WCH_41L.p1.4c.C.tif\n"
     ]
    },
    {
     "name": "stderr",
     "output_type": "stream",
     "text": [
      " 92%|███████████████████████████████▏  | 10499/11457 [00:34<00:05, 187.05it/s]"
     ]
    },
    {
     "name": "stdout",
     "output_type": "stream",
     "text": [
      "/Users/frederic.birwe/Library/CloudStorage/OneDrive-BertelsmannSE&Co.KGaA/Masterarbeit/20_data/613010/ps2400dpi150lpi/FC_FS23_S_ES0092_T_A_41L.p1.4c.Y.tif\n",
      "/Users/frederic.birwe/Library/CloudStorage/OneDrive-BertelsmannSE&Co.KGaA/Masterarbeit/20_data/613010/ps2400dpi150lpi/FC_FS23_S_ES0025_T_NL_41L.p1.4c.M.tif\n",
      "/Users/frederic.birwe/Library/CloudStorage/OneDrive-BertelsmannSE&Co.KGaA/Masterarbeit/20_data/613010/ps2400dpi150lpi/FC_FS23_S_ES0019_T_A_41L.p1.4c.C.tif\n",
      "/Users/frederic.birwe/Library/CloudStorage/OneDrive-BertelsmannSE&Co.KGaA/Masterarbeit/20_data/613010/ps2400dpi150lpi/FC_FS23_S_ES0061_T_A_41L.p1.4c.Y.tif\n",
      "/Users/frederic.birwe/Library/CloudStorage/OneDrive-BertelsmannSE&Co.KGaA/Masterarbeit/20_data/613010/ps2400dpi150lpi/FC_FS23_S_ES0107_T_D_Suffix_90_41L.p1.4c.Y.tif\n",
      "/Users/frederic.birwe/Library/CloudStorage/OneDrive-BertelsmannSE&Co.KGaA/Masterarbeit/20_data/613010/ps2400dpi150lpi/FC_FS23_S_ES0032_T_CH_41L.p1.4c.Y.tif\n",
      "/Users/frederic.birwe/Library/CloudStorage/OneDrive-BertelsmannSE&Co.KGaA/Masterarbeit/20_data/613010/ps2400dpi150lpi/FC_FS23_S_ES0029_T_D_Suffix_90_41L.p1.4c.Y.tif\n",
      "/Users/frederic.birwe/Library/CloudStorage/OneDrive-BertelsmannSE&Co.KGaA/Masterarbeit/20_data/613010/ps2400dpi150lpi/FC_FS23_S_ES0030_T_A_41L.p1.4c.Y.tif\n",
      "/Users/frederic.birwe/Library/CloudStorage/OneDrive-BertelsmannSE&Co.KGaA/Masterarbeit/20_data/613010/ps2400dpi150lpi/FC_FS23_S_ES0107_T_WCH_41L.p1.4c.M.tif\n",
      "/Users/frederic.birwe/Library/CloudStorage/OneDrive-BertelsmannSE&Co.KGaA/Masterarbeit/20_data/613010/ps2400dpi150lpi/FC_FS23_S_ES0083_T_F_41L.p1 2.4c.Y.tif\n",
      "/Users/frederic.birwe/Library/CloudStorage/OneDrive-BertelsmannSE&Co.KGaA/Masterarbeit/20_data/613010/ps2400dpi150lpi/FC_FS23_S_ES0023_T_CH_41L.p1 2.4c.M.tif\n",
      "/Users/frederic.birwe/Library/CloudStorage/OneDrive-BertelsmannSE&Co.KGaA/Masterarbeit/20_data/613010/ps2400dpi150lpi/FC_FS23_S_ES0089_T_A_41L.p1.4c.M.tif\n",
      "/Users/frederic.birwe/Library/CloudStorage/OneDrive-BertelsmannSE&Co.KGaA/Masterarbeit/20_data/613010/ps2400dpi150lpi/FC_FS23_S_ES0063_T_D_41L.p1.4c.C.tif\n",
      "/Users/frederic.birwe/Library/CloudStorage/OneDrive-BertelsmannSE&Co.KGaA/Masterarbeit/20_data/613010/ps2400dpi150lpi/FC_FS23_S_ES0066_T_F_41L.p1.4c.M.tif\n",
      "/Users/frederic.birwe/Library/CloudStorage/OneDrive-BertelsmannSE&Co.KGaA/Masterarbeit/20_data/613010/ps2400dpi150lpi/FC_FS23_S_ES0076_T_CH_41L.p1.4c.M.tif\n",
      "/Users/frederic.birwe/Library/CloudStorage/OneDrive-BertelsmannSE&Co.KGaA/Masterarbeit/20_data/613010/ps2400dpi150lpi/FC_FS23_S_ES0102_T_NL_41L.p1.4c.C.tif\n",
      "/Users/frederic.birwe/Library/CloudStorage/OneDrive-BertelsmannSE&Co.KGaA/Masterarbeit/20_data/613010/ps2400dpi150lpi/FC_FS23_S_ES0085_T_CH_41L.p1.4c.M.tif\n",
      "/Users/frederic.birwe/Library/CloudStorage/OneDrive-BertelsmannSE&Co.KGaA/Masterarbeit/20_data/613010/ps2400dpi150lpi/FC_FS23_S_ES0068_T_WCH_41L.p1 2.4c.M.tif\n",
      "/Users/frederic.birwe/Library/CloudStorage/OneDrive-BertelsmannSE&Co.KGaA/Masterarbeit/20_data/613010/ps2400dpi150lpi/FC_FS23_S_ES0051_T_D_41L.p1.4c.M.tif\n",
      "/Users/frederic.birwe/Library/CloudStorage/OneDrive-BertelsmannSE&Co.KGaA/Masterarbeit/20_data/613010/ps2400dpi150lpi/FC_FS23_S_ES0046_T_D_Suffix_90_41L.p1.4c.Y.tif\n",
      "/Users/frederic.birwe/Library/CloudStorage/OneDrive-BertelsmannSE&Co.KGaA/Masterarbeit/20_data/613010/ps2400dpi150lpi/FC_FS23_S_ES0037_T_F_41L.p1.4c.M.tif\n",
      "/Users/frederic.birwe/Library/CloudStorage/OneDrive-BertelsmannSE&Co.KGaA/Masterarbeit/20_data/613010/ps2400dpi150lpi/FC_FS23_S_ES0032_T_D_41L.p1.4c.C.tif\n"
     ]
    },
    {
     "name": "stderr",
     "output_type": "stream",
     "text": [
      " 92%|███████████████████████████████▏  | 10518/11457 [00:34<00:05, 177.51it/s]"
     ]
    },
    {
     "name": "stdout",
     "output_type": "stream",
     "text": [
      "/Users/frederic.birwe/Library/CloudStorage/OneDrive-BertelsmannSE&Co.KGaA/Masterarbeit/20_data/613010/ps2400dpi150lpi/FC_FS23_S_ES0005_T_F_41L.p1.4c.C.tif\n",
      "/Users/frederic.birwe/Library/CloudStorage/OneDrive-BertelsmannSE&Co.KGaA/Masterarbeit/20_data/613010/ps2400dpi150lpi/FC_FS23_S_ES0047_T_NL_41L.p1 2.4c.C.tif\n",
      "/Users/frederic.birwe/Library/CloudStorage/OneDrive-BertelsmannSE&Co.KGaA/Masterarbeit/20_data/613010/ps2400dpi150lpi/FC_FS23_S_ES0069_T_F_41L.p1 2.4c.Y.tif\n",
      "/Users/frederic.birwe/Library/CloudStorage/OneDrive-BertelsmannSE&Co.KGaA/Masterarbeit/20_data/613010/ps2400dpi150lpi/FC_FS23_S_ES0077_T_F_41L.p1 2.4c.M.tif\n",
      "/Users/frederic.birwe/Library/CloudStorage/OneDrive-BertelsmannSE&Co.KGaA/Masterarbeit/20_data/613010/ps2400dpi150lpi/FC_FS23_S_ES0097_T_D_Suffix_90_41L.p1.4c.Y.tif\n",
      "/Users/frederic.birwe/Library/CloudStorage/OneDrive-BertelsmannSE&Co.KGaA/Masterarbeit/20_data/613010/ps2400dpi150lpi/FC_FS23_S_ES0003_T_D_Suffix_90_41L.p1.4c.Y.tif\n",
      "/Users/frederic.birwe/Library/CloudStorage/OneDrive-BertelsmannSE&Co.KGaA/Masterarbeit/20_data/613010/ps2400dpi150lpi/FC_FS23_S_ES0114_T_D_41L.p1.4c.C.tif\n",
      "/Users/frederic.birwe/Library/CloudStorage/OneDrive-BertelsmannSE&Co.KGaA/Masterarbeit/20_data/613010/ps2400dpi150lpi/FC_FS23_S_ES0018_T_NL_41L.p1.4c.Y.tif\n",
      "/Users/frederic.birwe/Library/CloudStorage/OneDrive-BertelsmannSE&Co.KGaA/Masterarbeit/20_data/613010/ps2400dpi150lpi/FC_FS23_S_ES0061_T_NL_41L.p1.4c.Y.tif\n",
      "/Users/frederic.birwe/Library/CloudStorage/OneDrive-BertelsmannSE&Co.KGaA/Masterarbeit/20_data/613010/ps2400dpi150lpi/FC_FS23_S_ES0015_T_CH_41L.p1 2.4c.M.tif\n",
      "/Users/frederic.birwe/Library/CloudStorage/OneDrive-BertelsmannSE&Co.KGaA/Masterarbeit/20_data/613010/ps2400dpi150lpi/FC_FS23_S_ES0006_T_CH_41L.p1.4c.C.tif\n",
      "/Users/frederic.birwe/Library/CloudStorage/OneDrive-BertelsmannSE&Co.KGaA/Masterarbeit/20_data/613010/ps2400dpi150lpi/FC_FS23_S_ES0090_T_D_41L.p1.4c.C.tif\n",
      "/Users/frederic.birwe/Library/CloudStorage/OneDrive-BertelsmannSE&Co.KGaA/Masterarbeit/20_data/613010/ps2400dpi150lpi/FC_FS23_S_ES0033_T_A_41L.p1.4c.Y.tif\n",
      "/Users/frederic.birwe/Library/CloudStorage/OneDrive-BertelsmannSE&Co.KGaA/Masterarbeit/20_data/613010/ps2400dpi150lpi/FC_FS23_S_ES0053_T_NL_41L.p1.4c.M.tif\n",
      "/Users/frederic.birwe/Library/CloudStorage/OneDrive-BertelsmannSE&Co.KGaA/Masterarbeit/20_data/613010/ps2400dpi150lpi/FC_FS23_S_ES0031_T_WCH_41L.p1.4c.C.tif\n",
      "/Users/frederic.birwe/Library/CloudStorage/OneDrive-BertelsmannSE&Co.KGaA/Masterarbeit/20_data/613010/ps2400dpi150lpi/FC_FS23_S_ES0114_T_CH_41L.p1 2.4c.Y.tif\n",
      "/Users/frederic.birwe/Library/CloudStorage/OneDrive-BertelsmannSE&Co.KGaA/Masterarbeit/20_data/613010/ps2400dpi150lpi/FC_FS23_S_ES0062_T_A_41L.p1.4c.Y.tif\n",
      "/Users/frederic.birwe/Library/CloudStorage/OneDrive-BertelsmannSE&Co.KGaA/Masterarbeit/20_data/613010/ps2400dpi150lpi/FC_FS23_S_ES0089_T_D_Suffix_90_41L.p1.4c.Y.tif\n",
      "/Users/frederic.birwe/Library/CloudStorage/OneDrive-BertelsmannSE&Co.KGaA/Masterarbeit/20_data/613010/ps2400dpi150lpi/FC_FS23_S_ES0080_T_WCH_41L.p1.4c.M.tif\n",
      "/Users/frederic.birwe/Library/CloudStorage/OneDrive-BertelsmannSE&Co.KGaA/Masterarbeit/20_data/613010/ps2400dpi150lpi/FC_FS23_S_ES0087_T_WCH_41L.p1.4c.C.tif\n"
     ]
    },
    {
     "name": "stderr",
     "output_type": "stream",
     "text": [
      " 92%|███████████████████████████████▍  | 10581/11457 [00:34<00:03, 243.65it/s]"
     ]
    },
    {
     "name": "stdout",
     "output_type": "stream",
     "text": [
      "/Users/frederic.birwe/Library/CloudStorage/OneDrive-BertelsmannSE&Co.KGaA/Masterarbeit/20_data/613010/ps2400dpi150lpi/FC_FS23_S_ES0028_T_A_41L.p1.4c.M.tif\n",
      "/Users/frederic.birwe/Library/CloudStorage/OneDrive-BertelsmannSE&Co.KGaA/Masterarbeit/20_data/613010/ps2400dpi150lpi/FC_FS23_S_ES0056_T_WCH_41L.p1 2.4c.M.tif\n",
      "/Users/frederic.birwe/Library/CloudStorage/OneDrive-BertelsmannSE&Co.KGaA/Masterarbeit/20_data/613010/ps2400dpi150lpi/FC_FS23_S_ES0058_T_D_Suffix_90_41L.p1.4c.Y.tif\n",
      "/Users/frederic.birwe/Library/CloudStorage/OneDrive-BertelsmannSE&Co.KGaA/Masterarbeit/20_data/613010/ps2400dpi150lpi/FC_FS23_S_ES0046_T_WCH_41L.p1.4c.Y.tif\n",
      "/Users/frederic.birwe/Library/CloudStorage/OneDrive-BertelsmannSE&Co.KGaA/Masterarbeit/20_data/613010/ps2400dpi150lpi/FC_FS23_S_ES0091_T_A_41L.p1.4c.Y.tif\n",
      "/Users/frederic.birwe/Library/CloudStorage/OneDrive-BertelsmannSE&Co.KGaA/Masterarbeit/20_data/613010/ps2400dpi150lpi/FC_FS23_S_ES0036_T_WCH_41L.p1.4c.M.tif\n",
      "/Users/frederic.birwe/Library/CloudStorage/OneDrive-BertelsmannSE&Co.KGaA/Masterarbeit/20_data/613010/ps2400dpi150lpi/FC_FS23_S_ES0079_T_A_41L.p1.4c.M.tif\n",
      "/Users/frederic.birwe/Library/CloudStorage/OneDrive-BertelsmannSE&Co.KGaA/Masterarbeit/20_data/613010/ps2400dpi150lpi/FC_FS23_S_ES0023_T_NL_41L.p1.4c.C.tif\n",
      "/Users/frederic.birwe/Library/CloudStorage/OneDrive-BertelsmannSE&Co.KGaA/Masterarbeit/20_data/613010/ps2400dpi150lpi/FC_FS23_S_ES0044_T_CH_41L.p1.4c.Y.tif\n",
      "/Users/frederic.birwe/Library/CloudStorage/OneDrive-BertelsmannSE&Co.KGaA/Masterarbeit/20_data/613010/ps2400dpi150lpi/FC_FS23_S_ES0032_T_NL_41L.p1 2.4c.C.tif\n",
      "/Users/frederic.birwe/Library/CloudStorage/OneDrive-BertelsmannSE&Co.KGaA/Masterarbeit/20_data/613010/ps2400dpi150lpi/FC_FS23_S_ES0085_T_WCH_41L.p1 2.4c.M.tif\n",
      "/Users/frederic.birwe/Library/CloudStorage/OneDrive-BertelsmannSE&Co.KGaA/Masterarbeit/20_data/613010/ps2400dpi150lpi/FC_FS23_S_ES0031_T_A_41L.p1.4c.M.tif\n",
      "/Users/frederic.birwe/Library/CloudStorage/OneDrive-BertelsmannSE&Co.KGaA/Masterarbeit/20_data/613010/ps2400dpi150lpi/FC_FS23_S_ES0003_T_A_41L.p1.4c.C.tif\n",
      "/Users/frederic.birwe/Library/CloudStorage/OneDrive-BertelsmannSE&Co.KGaA/Masterarbeit/20_data/613010/ps2400dpi150lpi/FC_FS23_S_ES0020_T_WCH_41L.p1.4c.M.tif\n",
      "/Users/frederic.birwe/Library/CloudStorage/OneDrive-BertelsmannSE&Co.KGaA/Masterarbeit/20_data/613010/ps2400dpi150lpi/FC_FS23_S_ES0088_T_A_41L.p1.4c.Y.tif\n",
      "/Users/frederic.birwe/Library/CloudStorage/OneDrive-BertelsmannSE&Co.KGaA/Masterarbeit/20_data/613010/ps2400dpi150lpi/FC_FS23_S_ES0060_T_A_41L.p1.4c.M.tif\n",
      "/Users/frederic.birwe/Library/CloudStorage/OneDrive-BertelsmannSE&Co.KGaA/Masterarbeit/20_data/613010/ps2400dpi150lpi/FC_FS23_S_ES0050_T_WCH_41L.p1.4c.Y.tif\n",
      "/Users/frederic.birwe/Library/CloudStorage/OneDrive-BertelsmannSE&Co.KGaA/Masterarbeit/20_data/613010/ps2400dpi150lpi/FC_FS23_S_ES0063_T_NL_41L.p1 2.4c.M.tif\n",
      "/Users/frederic.birwe/Library/CloudStorage/OneDrive-BertelsmannSE&Co.KGaA/Masterarbeit/20_data/613010/ps2400dpi150lpi/FC_FS23_S_ES0049_T_D_Suffix_90_41L.p1.4c.M.tif\n",
      "/Users/frederic.birwe/Library/CloudStorage/OneDrive-BertelsmannSE&Co.KGaA/Masterarbeit/20_data/613010/ps2400dpi150lpi/FC_FS23_S_ES0052_T_A_41L.p1.4c.C.tif\n",
      "/Users/frederic.birwe/Library/CloudStorage/OneDrive-BertelsmannSE&Co.KGaA/Masterarbeit/20_data/613010/ps2400dpi150lpi/FC_FS23_S_ES0059_T_NL_41L.p1.4c.Y.tif\n",
      "/Users/frederic.birwe/Library/CloudStorage/OneDrive-BertelsmannSE&Co.KGaA/Masterarbeit/20_data/613010/ps2400dpi150lpi/FC_FS23_S_ES0098_T_D_Suffix_90_41L.p1.4c.M.tif\n",
      "/Users/frederic.birwe/Library/CloudStorage/OneDrive-BertelsmannSE&Co.KGaA/Masterarbeit/20_data/613010/ps2400dpi150lpi/FC_FS23_S_ES0093_T_A_41L.p1.4c.M.tif\n",
      "/Users/frederic.birwe/Library/CloudStorage/OneDrive-BertelsmannSE&Co.KGaA/Masterarbeit/20_data/613010/ps2400dpi150lpi/FC_FS23_S_ES0038_T_NL_41L.p1 2.4c.C.tif\n",
      "/Users/frederic.birwe/Library/CloudStorage/OneDrive-BertelsmannSE&Co.KGaA/Masterarbeit/20_data/613010/ps2400dpi150lpi/FC_FS23_S_ES0088_T_WCH_41L.p1.4c.Y.tif\n",
      "/Users/frederic.birwe/Library/CloudStorage/OneDrive-BertelsmannSE&Co.KGaA/Masterarbeit/20_data/613010/ps2400dpi150lpi/FC_FS23_S_ES0112_T_F_41L.p1 2.4c.Y.tif\n",
      "/Users/frederic.birwe/Library/CloudStorage/OneDrive-BertelsmannSE&Co.KGaA/Masterarbeit/20_data/613010/ps2400dpi150lpi/FC_FS23_S_ES0027_T_WCH_41L.p1.4c.C.tif\n"
     ]
    },
    {
     "name": "stderr",
     "output_type": "stream",
     "text": [
      " 93%|███████████████████████████████▌  | 10630/11457 [00:35<00:03, 216.73it/s]"
     ]
    },
    {
     "name": "stdout",
     "output_type": "stream",
     "text": [
      "/Users/frederic.birwe/Library/CloudStorage/OneDrive-BertelsmannSE&Co.KGaA/Masterarbeit/20_data/613010/ps2400dpi150lpi/FC_FS23_S_ES0047_T_CH_41L.p1.4c.C.tif\n",
      "/Users/frederic.birwe/Library/CloudStorage/OneDrive-BertelsmannSE&Co.KGaA/Masterarbeit/20_data/613010/ps2400dpi150lpi/FC_FS23_S_ES0020_T_NL_41L.p1.4c.Y.tif\n",
      "/Users/frederic.birwe/Library/CloudStorage/OneDrive-BertelsmannSE&Co.KGaA/Masterarbeit/20_data/613010/ps2400dpi150lpi/FC_FS23_S_ES0019_T_WCH_41L.p1 2.4c.M.tif\n",
      "/Users/frederic.birwe/Library/CloudStorage/OneDrive-BertelsmannSE&Co.KGaA/Masterarbeit/20_data/613010/ps2400dpi150lpi/FC_FS23_S_ES0012_T_NL_41L.p1.4c.M.tif\n",
      "/Users/frederic.birwe/Library/CloudStorage/OneDrive-BertelsmannSE&Co.KGaA/Masterarbeit/20_data/613010/ps2400dpi150lpi/FC_FS23_S_ES0053_T_D_41L.p1.4c.Y.tif\n",
      "/Users/frederic.birwe/Library/CloudStorage/OneDrive-BertelsmannSE&Co.KGaA/Masterarbeit/20_data/613010/ps2400dpi150lpi/FC_FS23_S_ES0101_T_NL_41L.p1.4c.Y.tif\n",
      "/Users/frederic.birwe/Library/CloudStorage/OneDrive-BertelsmannSE&Co.KGaA/Masterarbeit/20_data/613010/ps2400dpi150lpi/FC_FS23_S_ES0061_T_F_41L.p1 2.4c.M.tif\n",
      "/Users/frederic.birwe/Library/CloudStorage/OneDrive-BertelsmannSE&Co.KGaA/Masterarbeit/20_data/613010/ps2400dpi150lpi/FC_FS23_S_ES0035_T_F_41L.p1.4c.Y.tif\n",
      "/Users/frederic.birwe/Library/CloudStorage/OneDrive-BertelsmannSE&Co.KGaA/Masterarbeit/20_data/613010/ps2400dpi150lpi/FC_FS23_S_ES0071_T_D_Suffix_90_41L.p1.4c.C.tif\n",
      "/Users/frederic.birwe/Library/CloudStorage/OneDrive-BertelsmannSE&Co.KGaA/Masterarbeit/20_data/613010/ps2400dpi150lpi/FC_FS23_S_ES0089_T_D_41L.p1.4c.C.tif\n",
      "/Users/frederic.birwe/Library/CloudStorage/OneDrive-BertelsmannSE&Co.KGaA/Masterarbeit/20_data/613010/ps2400dpi150lpi/FC_FS23_S_ES0098_T_NL_41L.p1.4c.M.tif\n",
      "/Users/frederic.birwe/Library/CloudStorage/OneDrive-BertelsmannSE&Co.KGaA/Masterarbeit/20_data/613010/ps2400dpi150lpi/FC_FS23_S_ES0086_T_D_Suffix_90_41L.p1.4c.M.tif\n",
      "/Users/frederic.birwe/Library/CloudStorage/OneDrive-BertelsmannSE&Co.KGaA/Masterarbeit/20_data/613010/ps2400dpi150lpi/FC_FS23_S_ES0012_T_D_Suffix_90_41L.p1.4c.M.tif\n",
      "/Users/frederic.birwe/Library/CloudStorage/OneDrive-BertelsmannSE&Co.KGaA/Masterarbeit/20_data/613010/ps2400dpi150lpi/FC_FS23_S_ES0057_T_D_Suffix_90_41L.p1.4c.M.tif\n",
      "/Users/frederic.birwe/Library/CloudStorage/OneDrive-BertelsmannSE&Co.KGaA/Masterarbeit/20_data/613010/ps2400dpi150lpi/FC_FS23_S_ES0034_T_D_Suffix_90_41L.p1.4c.C.tif\n"
     ]
    },
    {
     "name": "stderr",
     "output_type": "stream",
     "text": [
      " 93%|███████████████████████████████▋  | 10674/11457 [00:35<00:04, 195.53it/s]"
     ]
    },
    {
     "name": "stdout",
     "output_type": "stream",
     "text": [
      "/Users/frederic.birwe/Library/CloudStorage/OneDrive-BertelsmannSE&Co.KGaA/Masterarbeit/20_data/613010/ps2400dpi150lpi/FC_FS23_S_ES0048_T_D_41L.p1.4c.M.tif\n",
      "/Users/frederic.birwe/Library/CloudStorage/OneDrive-BertelsmannSE&Co.KGaA/Masterarbeit/20_data/613010/ps2400dpi150lpi/FC_FS23_S_ES0011_T_NL_41L.p1 2.4c.Y.tif\n",
      "/Users/frederic.birwe/Library/CloudStorage/OneDrive-BertelsmannSE&Co.KGaA/Masterarbeit/20_data/613010/ps2400dpi150lpi/FC_FS23_S_ES0005_T_CH_41L.p1.4c.Y.tif\n",
      "/Users/frederic.birwe/Library/CloudStorage/OneDrive-BertelsmannSE&Co.KGaA/Masterarbeit/20_data/613010/ps2400dpi150lpi/FC_FS23_S_ES0016_T_NL_41L.p1 2.4c.M.tif\n",
      "/Users/frederic.birwe/Library/CloudStorage/OneDrive-BertelsmannSE&Co.KGaA/Masterarbeit/20_data/613010/ps2400dpi150lpi/FC_FS23_S_ES0091_T_NL_41L.p1.4c.C.tif\n",
      "/Users/frederic.birwe/Library/CloudStorage/OneDrive-BertelsmannSE&Co.KGaA/Masterarbeit/20_data/613010/ps2400dpi150lpi/FC_FS23_S_ES0008_T_F_41L.p1 2.4c.C.tif\n",
      "/Users/frederic.birwe/Library/CloudStorage/OneDrive-BertelsmannSE&Co.KGaA/Masterarbeit/20_data/613010/ps2400dpi150lpi/FC_FS23_S_ES0019_T_D_41L.p1.4c.M.tif\n",
      "/Users/frederic.birwe/Library/CloudStorage/OneDrive-BertelsmannSE&Co.KGaA/Masterarbeit/20_data/613010/ps2400dpi150lpi/FC_FS23_S_ES0062_T_NL_41L.p1.4c.C.tif\n",
      "/Users/frederic.birwe/Library/CloudStorage/OneDrive-BertelsmannSE&Co.KGaA/Masterarbeit/20_data/613010/ps2400dpi150lpi/FC_FS23_S_ES0097_T_F_41L.p1.4c.Y.tif\n",
      "/Users/frederic.birwe/Library/CloudStorage/OneDrive-BertelsmannSE&Co.KGaA/Masterarbeit/20_data/613010/ps2400dpi150lpi/FC_FS23_S_ES0038_T_D_Suffix_90_41L.p1.4c.Y.tif\n",
      "/Users/frederic.birwe/Library/CloudStorage/OneDrive-BertelsmannSE&Co.KGaA/Masterarbeit/20_data/613010/ps2400dpi150lpi/FC_FS23_S_ES0090_T_A_41L.p1.4c.Y.tif\n",
      "/Users/frederic.birwe/Library/CloudStorage/OneDrive-BertelsmannSE&Co.KGaA/Masterarbeit/20_data/613010/ps2400dpi150lpi/FC_FS23_S_ES0041_T_CH_41L.p1.4c.Y.tif\n",
      "/Users/frederic.birwe/Library/CloudStorage/OneDrive-BertelsmannSE&Co.KGaA/Masterarbeit/20_data/613010/ps2400dpi150lpi/FC_FS23_S_ES0026_T_NL_41L.p1.4c.C.tif\n",
      "/Users/frederic.birwe/Library/CloudStorage/OneDrive-BertelsmannSE&Co.KGaA/Masterarbeit/20_data/613010/ps2400dpi150lpi/FC_FS23_S_ES0029_T_A_41L.p1.4c.M.tif\n",
      "/Users/frederic.birwe/Library/CloudStorage/OneDrive-BertelsmannSE&Co.KGaA/Masterarbeit/20_data/613010/ps2400dpi150lpi/FC_FS23_S_ES0111_T_WCH_41L.p1.4c.Y.tif\n",
      "/Users/frederic.birwe/Library/CloudStorage/OneDrive-BertelsmannSE&Co.KGaA/Masterarbeit/20_data/613010/ps2400dpi150lpi/FC_FS23_S_ES0114_T_A_41L.p1.4c.Y.tif\n",
      "/Users/frederic.birwe/Library/CloudStorage/OneDrive-BertelsmannSE&Co.KGaA/Masterarbeit/20_data/613010/ps2400dpi150lpi/FC_FS23_S_ES0095_T_F_41L.p1 2.4c.M.tif\n",
      "/Users/frederic.birwe/Library/CloudStorage/OneDrive-BertelsmannSE&Co.KGaA/Masterarbeit/20_data/613010/ps2400dpi150lpi/FC_FS23_S_ES0038_T_CH_41L.p1.4c.Y.tif\n",
      "/Users/frederic.birwe/Library/CloudStorage/OneDrive-BertelsmannSE&Co.KGaA/Masterarbeit/20_data/613010/ps2400dpi150lpi/FC_FS23_S_ES0078_T_A_41L.p1.4c.M.tif\n",
      "/Users/frederic.birwe/Library/CloudStorage/OneDrive-BertelsmannSE&Co.KGaA/Masterarbeit/20_data/613010/ps2400dpi150lpi/FC_FS23_S_ES0020_T_NL_41L.p1 2.4c.Y.tif\n",
      "/Users/frederic.birwe/Library/CloudStorage/OneDrive-BertelsmannSE&Co.KGaA/Masterarbeit/20_data/613010/ps2400dpi150lpi/FC_FS23_S_ES0032_T_A_41L.p1.4c.Y.tif\n",
      "/Users/frederic.birwe/Library/CloudStorage/OneDrive-BertelsmannSE&Co.KGaA/Masterarbeit/20_data/613010/ps2400dpi150lpi/FC_FS23_S_ES0096_T_WCH_41L.p1 2.4c.Y.tif\n"
     ]
    },
    {
     "name": "stderr",
     "output_type": "stream",
     "text": [
      " 94%|███████████████████████████████▊  | 10721/11457 [00:35<00:03, 211.65it/s]"
     ]
    },
    {
     "name": "stdout",
     "output_type": "stream",
     "text": [
      "/Users/frederic.birwe/Library/CloudStorage/OneDrive-BertelsmannSE&Co.KGaA/Masterarbeit/20_data/613010/ps2400dpi150lpi/FC_FS23_S_ES0056_T_NL_41L.p1.4c.M.tif\n",
      "/Users/frederic.birwe/Library/CloudStorage/OneDrive-BertelsmannSE&Co.KGaA/Masterarbeit/20_data/613010/ps2400dpi150lpi/FC_FS23_S_ES0028_T_WCH_41L.p1 2.4c.M.tif\n",
      "/Users/frederic.birwe/Library/CloudStorage/OneDrive-BertelsmannSE&Co.KGaA/Masterarbeit/20_data/613010/ps2400dpi150lpi/FC_FS23_S_ES0063_T_A_41L.p1.4c.Y.tif\n",
      "/Users/frederic.birwe/Library/CloudStorage/OneDrive-BertelsmannSE&Co.KGaA/Masterarbeit/20_data/613010/ps2400dpi150lpi/FC_FS23_S_ES0027_T_NL_41L.p1 2.4c.M.tif\n",
      "/Users/frederic.birwe/Library/CloudStorage/OneDrive-BertelsmannSE&Co.KGaA/Masterarbeit/20_data/613010/ps2400dpi150lpi/FC_FS23_S_ES0110_T_F_41L.p1.4c.M.tif\n",
      "/Users/frederic.birwe/Library/CloudStorage/OneDrive-BertelsmannSE&Co.KGaA/Masterarbeit/20_data/613010/ps2400dpi150lpi/FC_FS23_S_ES0055_T_NL_41L.p1 2.4c.Y.tif\n",
      "/Users/frederic.birwe/Library/CloudStorage/OneDrive-BertelsmannSE&Co.KGaA/Masterarbeit/20_data/613010/ps2400dpi150lpi/FC_FS23_S_ES0003_T_CH_41L.p1.4c.C.tif\n",
      "/Users/frederic.birwe/Library/CloudStorage/OneDrive-BertelsmannSE&Co.KGaA/Masterarbeit/20_data/613010/ps2400dpi150lpi/FC_FS23_S_ES0063_T_D_Suffix_90_41L.p1.4c.Y.tif\n",
      "/Users/frederic.birwe/Library/CloudStorage/OneDrive-BertelsmannSE&Co.KGaA/Masterarbeit/20_data/613010/ps2400dpi150lpi/FC_FS23_S_ES0097_T_NL_41L.p1.4c.Y.tif\n",
      "/Users/frederic.birwe/Library/CloudStorage/OneDrive-BertelsmannSE&Co.KGaA/Masterarbeit/20_data/613010/ps2400dpi150lpi/FC_FS23_S_ES0064_T_NL_41L.p1.4c.Y.tif\n",
      "/Users/frederic.birwe/Library/CloudStorage/OneDrive-BertelsmannSE&Co.KGaA/Masterarbeit/20_data/613010/ps2400dpi150lpi/FC_FS23_S_ES0094_T_F_41L.p1.4c.M.tif\n",
      "/Users/frederic.birwe/Library/CloudStorage/OneDrive-BertelsmannSE&Co.KGaA/Masterarbeit/20_data/613010/ps2400dpi150lpi/FC_FS23_S_ES0065_T_WCH_41L.p1.4c.C.tif\n",
      "/Users/frederic.birwe/Library/CloudStorage/OneDrive-BertelsmannSE&Co.KGaA/Masterarbeit/20_data/613010/ps2400dpi150lpi/FC_FS23_S_ES0091_T_D_41L.p1.4c.C.tif\n",
      "/Users/frederic.birwe/Library/CloudStorage/OneDrive-BertelsmannSE&Co.KGaA/Masterarbeit/20_data/613010/ps2400dpi150lpi/FC_FS23_S_ES0050_T_D_41L.p1.4c.M.tif\n",
      "/Users/frederic.birwe/Library/CloudStorage/OneDrive-BertelsmannSE&Co.KGaA/Masterarbeit/20_data/613010/ps2400dpi150lpi/FC_FS23_S_ES0055_T_F_41L.p1.4c.C.tif\n",
      "/Users/frederic.birwe/Library/CloudStorage/OneDrive-BertelsmannSE&Co.KGaA/Masterarbeit/20_data/613010/ps2400dpi150lpi/FC_FS23_S_ES0009_T_NL_41L.p1 2.4c.C.tif\n",
      "/Users/frederic.birwe/Library/CloudStorage/OneDrive-BertelsmannSE&Co.KGaA/Masterarbeit/20_data/613010/ps2400dpi150lpi/FC_FS23_S_ES0034_T_WCH_41L.p1 2.4c.Y.tif\n",
      "/Users/frederic.birwe/Library/CloudStorage/OneDrive-BertelsmannSE&Co.KGaA/Masterarbeit/20_data/613010/ps2400dpi150lpi/FC_FS23_S_ES0062_T_D_41L.p1.4c.C.tif\n",
      "/Users/frederic.birwe/Library/CloudStorage/OneDrive-BertelsmannSE&Co.KGaA/Masterarbeit/20_data/613010/ps2400dpi150lpi/FC_FS23_S_ES0062_T_WCH_41L.p1.4c.M.tif\n",
      "/Users/frederic.birwe/Library/CloudStorage/OneDrive-BertelsmannSE&Co.KGaA/Masterarbeit/20_data/613010/ps2400dpi150lpi/FC_FS23_S_ES0108_T_D_Suffix_90_41L.p1.4c.Y.tif\n",
      "/Users/frederic.birwe/Library/CloudStorage/OneDrive-BertelsmannSE&Co.KGaA/Masterarbeit/20_data/613010/ps2400dpi150lpi/FC_FS23_S_ES0012_T_WCH_41L.p1.4c.Y.tif\n",
      "/Users/frederic.birwe/Library/CloudStorage/OneDrive-BertelsmannSE&Co.KGaA/Masterarbeit/20_data/613010/ps2400dpi150lpi/FC_FS23_S_ES0004_T_F_41L.p1.4c.C.tif\n",
      "/Users/frederic.birwe/Library/CloudStorage/OneDrive-BertelsmannSE&Co.KGaA/Masterarbeit/20_data/613010/ps2400dpi150lpi/FC_FS23_S_ES0026_T_D_Suffix_90_41L.p1.4c.Y.tif\n",
      "/Users/frederic.birwe/Library/CloudStorage/OneDrive-BertelsmannSE&Co.KGaA/Masterarbeit/20_data/613010/ps2400dpi150lpi/FC_FS23_S_ES0073_T_CH_41L.p1.4c.M.tif\n"
     ]
    },
    {
     "name": "stderr",
     "output_type": "stream",
     "text": [
      " 94%|███████████████████████████████▉  | 10777/11457 [00:35<00:02, 238.85it/s]"
     ]
    },
    {
     "name": "stdout",
     "output_type": "stream",
     "text": [
      "/Users/frederic.birwe/Library/CloudStorage/OneDrive-BertelsmannSE&Co.KGaA/Masterarbeit/20_data/613010/ps2400dpi150lpi/FC_FS23_S_ES0033_T_D_41L.p1.4c.C.tif\n",
      "/Users/frederic.birwe/Library/CloudStorage/OneDrive-BertelsmannSE&Co.KGaA/Masterarbeit/20_data/613010/ps2400dpi150lpi/FC_FS23_S_ES0093_T_NL_41L.p1 2.4c.M.tif\n",
      "/Users/frederic.birwe/Library/CloudStorage/OneDrive-BertelsmannSE&Co.KGaA/Masterarbeit/20_data/613010/ps2400dpi150lpi/FC_FS23_S_ES0080_T_CH_41L.p1.4c.M.tif\n",
      "/Users/frederic.birwe/Library/CloudStorage/OneDrive-BertelsmannSE&Co.KGaA/Masterarbeit/20_data/613010/ps2400dpi150lpi/FC_FS23_S_ES0107_T_NL_41L.p1.4c.C.tif\n",
      "/Users/frederic.birwe/Library/CloudStorage/OneDrive-BertelsmannSE&Co.KGaA/Masterarbeit/20_data/613010/ps2400dpi150lpi/FC_FS23_S_ES0054_T_D_Suffix_90_41L.p1.4c.C.tif\n",
      "/Users/frederic.birwe/Library/CloudStorage/OneDrive-BertelsmannSE&Co.KGaA/Masterarbeit/20_data/613010/ps2400dpi150lpi/FC_FS23_S_ES0049_T_D_41L.p1.4c.M.tif\n",
      "/Users/frederic.birwe/Library/CloudStorage/OneDrive-BertelsmannSE&Co.KGaA/Masterarbeit/20_data/613010/ps2400dpi150lpi/FC_FS23_S_ES0113_T_CH_41L.p1.4c.M.tif\n",
      "/Users/frederic.birwe/Library/CloudStorage/OneDrive-BertelsmannSE&Co.KGaA/Masterarbeit/20_data/613010/ps2400dpi150lpi/FC_FS23_S_ES0094_T_NL_41L.p1.4c.C.tif\n",
      "/Users/frederic.birwe/Library/CloudStorage/OneDrive-BertelsmannSE&Co.KGaA/Masterarbeit/20_data/613010/ps2400dpi150lpi/FC_FS23_S_ES0067_T_NL_41L.p1.4c.C.tif\n",
      "/Users/frederic.birwe/Library/CloudStorage/OneDrive-BertelsmannSE&Co.KGaA/Masterarbeit/20_data/613010/ps2400dpi150lpi/FC_FS23_S_ES0004_T_WCH_41L.p1.4c.Y.tif\n",
      "/Users/frederic.birwe/Library/CloudStorage/OneDrive-BertelsmannSE&Co.KGaA/Masterarbeit/20_data/613010/ps2400dpi150lpi/FC_FS23_S_ES0037_T_D_Suffix_90_41L.p1.4c.M.tif\n",
      "/Users/frederic.birwe/Library/CloudStorage/OneDrive-BertelsmannSE&Co.KGaA/Masterarbeit/20_data/613010/ps2400dpi150lpi/FC_FS23_S_ES0096_T_F_41L.p1.4c.Y.tif\n",
      "/Users/frederic.birwe/Library/CloudStorage/OneDrive-BertelsmannSE&Co.KGaA/Masterarbeit/20_data/613010/ps2400dpi150lpi/FC_FS23_S_ES0074_T_WCH_41L.p1.4c.M.tif\n",
      "/Users/frederic.birwe/Library/CloudStorage/OneDrive-BertelsmannSE&Co.KGaA/Masterarbeit/20_data/613010/ps2400dpi150lpi/FC_FS23_S_ES0018_T_D_41L.p1.4c.M.tif\n",
      "/Users/frederic.birwe/Library/CloudStorage/OneDrive-BertelsmannSE&Co.KGaA/Masterarbeit/20_data/613010/ps2400dpi150lpi/FC_FS23_S_ES0051_T_CH_41L.p1 2.4c.M.tif\n",
      "/Users/frederic.birwe/Library/CloudStorage/OneDrive-BertelsmannSE&Co.KGaA/Masterarbeit/20_data/613010/ps2400dpi150lpi/FC_FS23_S_ES0097_T_CH_41L.p1 2.4c.Y.tif\n",
      "/Users/frederic.birwe/Library/CloudStorage/OneDrive-BertelsmannSE&Co.KGaA/Masterarbeit/20_data/613010/ps2400dpi150lpi/FC_FS23_S_ES0052_T_D_41L.p1.4c.Y.tif\n",
      "/Users/frederic.birwe/Library/CloudStorage/OneDrive-BertelsmannSE&Co.KGaA/Masterarbeit/20_data/613010/ps2400dpi150lpi/FC_FS23_S_ES0065_T_F_41L.p1.4c.Y.tif\n",
      "/Users/frederic.birwe/Library/CloudStorage/OneDrive-BertelsmannSE&Co.KGaA/Masterarbeit/20_data/613010/ps2400dpi150lpi/FC_FS23_S_ES0073_T_WCH_41L.p1.4c.C.tif\n",
      "/Users/frederic.birwe/Library/CloudStorage/OneDrive-BertelsmannSE&Co.KGaA/Masterarbeit/20_data/613010/ps2400dpi150lpi/FC_FS23_S_ES0003_T_D_41L.p1.4c.Y.tif\n",
      "/Users/frederic.birwe/Library/CloudStorage/OneDrive-BertelsmannSE&Co.KGaA/Masterarbeit/20_data/613010/ps2400dpi150lpi/FC_FS23_S_ES0088_T_D_41L.p1.4c.C.tif\n",
      "/Users/frederic.birwe/Library/CloudStorage/OneDrive-BertelsmannSE&Co.KGaA/Masterarbeit/20_data/613010/ps2400dpi150lpi/FC_FS23_S_ES0072_T_D_Suffix_90_41L.p1.4c.M.tif\n",
      "/Users/frederic.birwe/Library/CloudStorage/OneDrive-BertelsmannSE&Co.KGaA/Masterarbeit/20_data/613010/ps2400dpi150lpi/FC_FS23_S_ES0003_T_NL_41L.p1 2.4c.C.tif\n",
      "/Users/frederic.birwe/Library/CloudStorage/OneDrive-BertelsmannSE&Co.KGaA/Masterarbeit/20_data/613010/ps2400dpi150lpi/FC_FS23_S_ES0017_T_NL_41L.p1.4c.M.tif\n",
      "/Users/frederic.birwe/Library/CloudStorage/OneDrive-BertelsmannSE&Co.KGaA/Masterarbeit/20_data/613010/ps2400dpi150lpi/FC_FS23_S_ES0085_T_D_Suffix_90_41L.p1.4c.C.tif\n",
      "/Users/frederic.birwe/Library/CloudStorage/OneDrive-BertelsmannSE&Co.KGaA/Masterarbeit/20_data/613010/ps2400dpi150lpi/FC_FS23_S_ES0011_T_D_Suffix_90_41L.p1.4c.C.tif\n",
      "/Users/frederic.birwe/Library/CloudStorage/OneDrive-BertelsmannSE&Co.KGaA/Masterarbeit/20_data/613010/ps2400dpi150lpi/FC_FS23_S_ES0025_T_NL_41L.p1.4c.Y.tif\n",
      "/Users/frederic.birwe/Library/CloudStorage/OneDrive-BertelsmannSE&Co.KGaA/Masterarbeit/20_data/613010/ps2400dpi150lpi/FC_FS23_S_ES0092_T_A_41L.p1.4c.M.tif\n"
     ]
    },
    {
     "name": "stderr",
     "output_type": "stream",
     "text": [
      " 95%|████████████████████████████████▏ | 10836/11457 [00:35<00:02, 262.66it/s]"
     ]
    },
    {
     "name": "stdout",
     "output_type": "stream",
     "text": [
      "/Users/frederic.birwe/Library/CloudStorage/OneDrive-BertelsmannSE&Co.KGaA/Masterarbeit/20_data/613010/ps2400dpi150lpi/FC_FS23_S_ES0042_T_CH_41L.p1.4c.C.tif\n",
      "/Users/frederic.birwe/Library/CloudStorage/OneDrive-BertelsmannSE&Co.KGaA/Masterarbeit/20_data/613010/ps2400dpi150lpi/FC_FS23_S_ES0045_T_F_41L.p1 2.4c.Y.tif\n",
      "/Users/frederic.birwe/Library/CloudStorage/OneDrive-BertelsmannSE&Co.KGaA/Masterarbeit/20_data/613010/ps2400dpi150lpi/FC_FS23_S_ES0076_T_NL_41L.p1 2.4c.C.tif\n",
      "/Users/frederic.birwe/Library/CloudStorage/OneDrive-BertelsmannSE&Co.KGaA/Masterarbeit/20_data/613010/ps2400dpi150lpi/FC_FS23_S_ES0045_T_WCH_41L.p1 2.4c.Y.tif\n",
      "/Users/frederic.birwe/Library/CloudStorage/OneDrive-BertelsmannSE&Co.KGaA/Masterarbeit/20_data/613010/ps2400dpi150lpi/FC_FS23_S_ES0023_T_CH_41L.p1 2.4c.Y.tif\n",
      "/Users/frederic.birwe/Library/CloudStorage/OneDrive-BertelsmannSE&Co.KGaA/Masterarbeit/20_data/613010/ps2400dpi150lpi/FC_FS23_S_ES0089_T_A_41L.p1.4c.Y.tif\n",
      "/Users/frederic.birwe/Library/CloudStorage/OneDrive-BertelsmannSE&Co.KGaA/Masterarbeit/20_data/613010/ps2400dpi150lpi/FC_FS23_S_ES0083_T_F_41L.p1 2.4c.M.tif\n",
      "/Users/frederic.birwe/Library/CloudStorage/OneDrive-BertelsmannSE&Co.KGaA/Masterarbeit/20_data/613010/ps2400dpi150lpi/FC_FS23_S_ES0030_T_A_41L.p1.4c.M.tif\n",
      "/Users/frederic.birwe/Library/CloudStorage/OneDrive-BertelsmannSE&Co.KGaA/Masterarbeit/20_data/613010/ps2400dpi150lpi/FC_FS23_S_ES0107_T_WCH_41L.p1.4c.Y.tif\n",
      "/Users/frederic.birwe/Library/CloudStorage/OneDrive-BertelsmannSE&Co.KGaA/Masterarbeit/20_data/613010/ps2400dpi150lpi/FC_FS23_S_ES0029_T_D_Suffix_90_41L.p1.4c.M.tif\n",
      "/Users/frederic.birwe/Library/CloudStorage/OneDrive-BertelsmannSE&Co.KGaA/Masterarbeit/20_data/613010/ps2400dpi150lpi/FC_FS23_S_ES0053_T_A_41L.p1.4c.C.tif\n",
      "/Users/frederic.birwe/Library/CloudStorage/OneDrive-BertelsmannSE&Co.KGaA/Masterarbeit/20_data/613010/ps2400dpi150lpi/FC_FS23_S_ES0032_T_CH_41L.p1.4c.M.tif\n",
      "/Users/frederic.birwe/Library/CloudStorage/OneDrive-BertelsmannSE&Co.KGaA/Masterarbeit/20_data/613010/ps2400dpi150lpi/FC_FS23_S_ES0107_T_D_Suffix_90_41L.p1.4c.M.tif\n",
      "/Users/frederic.birwe/Library/CloudStorage/OneDrive-BertelsmannSE&Co.KGaA/Masterarbeit/20_data/613010/ps2400dpi150lpi/FC_FS23_S_ES0021_T_WCH_41L.p1 2.4c.C.tif\n",
      "/Users/frederic.birwe/Library/CloudStorage/OneDrive-BertelsmannSE&Co.KGaA/Masterarbeit/20_data/613010/ps2400dpi150lpi/FC_FS23_S_ES0061_T_A_41L.p1.4c.M.tif\n",
      "/Users/frederic.birwe/Library/CloudStorage/OneDrive-BertelsmannSE&Co.KGaA/Masterarbeit/20_data/613010/ps2400dpi150lpi/FC_FS23_S_ES0114_T_WCH_41L.p1.4c.C.tif\n",
      "/Users/frederic.birwe/Library/CloudStorage/OneDrive-BertelsmannSE&Co.KGaA/Masterarbeit/20_data/613010/ps2400dpi150lpi/FC_FS23_S_ES0064_T_D_41L.p1.4c.C.tif\n",
      "/Users/frederic.birwe/Library/CloudStorage/OneDrive-BertelsmannSE&Co.KGaA/Masterarbeit/20_data/613010/ps2400dpi150lpi/FC_FS23_S_ES0053_T_F_41L.p1.4c.C.tif\n",
      "/Users/frederic.birwe/Library/CloudStorage/OneDrive-BertelsmannSE&Co.KGaA/Masterarbeit/20_data/613010/ps2400dpi150lpi/FC_FS23_S_ES0056_T_D_41L.p1.4c.M.tif\n",
      "/Users/frederic.birwe/Library/CloudStorage/OneDrive-BertelsmannSE&Co.KGaA/Masterarbeit/20_data/613010/ps2400dpi150lpi/FC_FS23_S_ES0068_T_CH_41L.p1.4c.C.tif\n",
      "/Users/frederic.birwe/Library/CloudStorage/OneDrive-BertelsmannSE&Co.KGaA/Masterarbeit/20_data/613010/ps2400dpi150lpi/FC_FS23_S_ES0035_T_D_41L.p1.4c.C.tif\n",
      "/Users/frederic.birwe/Library/CloudStorage/OneDrive-BertelsmannSE&Co.KGaA/Masterarbeit/20_data/613010/ps2400dpi150lpi/FC_FS23_S_ES0030_T_F_41L.p1.4c.M.tif\n",
      "/Users/frederic.birwe/Library/CloudStorage/OneDrive-BertelsmannSE&Co.KGaA/Masterarbeit/20_data/613010/ps2400dpi150lpi/FC_FS23_S_ES0007_T_D_41L.p1.4c.M.tif\n",
      "/Users/frederic.birwe/Library/CloudStorage/OneDrive-BertelsmannSE&Co.KGaA/Masterarbeit/20_data/613010/ps2400dpi150lpi/FC_FS23_S_ES0085_T_NL_41L.p1.4c.Y.tif\n",
      "/Users/frederic.birwe/Library/CloudStorage/OneDrive-BertelsmannSE&Co.KGaA/Masterarbeit/20_data/613010/ps2400dpi150lpi/FC_FS23_S_ES0089_T_F_41L.p1.4c.Y.tif\n",
      "/Users/frederic.birwe/Library/CloudStorage/OneDrive-BertelsmannSE&Co.KGaA/Masterarbeit/20_data/613010/ps2400dpi150lpi/FC_FS23_S_ES0015_T_NL_41L.p1 2.4c.M.tif\n",
      "/Users/frederic.birwe/Library/CloudStorage/OneDrive-BertelsmannSE&Co.KGaA/Masterarbeit/20_data/613010/ps2400dpi150lpi/FC_FS23_S_ES0086_T_CH_41L.p1 2.4c.C.tif\n"
     ]
    },
    {
     "name": "stderr",
     "output_type": "stream",
     "text": [
      " 95%|████████████████████████████████▏ | 10863/11457 [00:36<00:02, 209.65it/s]"
     ]
    },
    {
     "name": "stdout",
     "output_type": "stream",
     "text": [
      "/Users/frederic.birwe/Library/CloudStorage/OneDrive-BertelsmannSE&Co.KGaA/Masterarbeit/20_data/613010/ps2400dpi150lpi/FC_FS23_S_ES0061_T_CH_41L.p1.4c.M.tif\n",
      "/Users/frederic.birwe/Library/CloudStorage/OneDrive-BertelsmannSE&Co.KGaA/Masterarbeit/20_data/613010/ps2400dpi150lpi/FC_FS23_S_ES0113_T_D_41L.p1.4c.C.tif\n",
      "/Users/frederic.birwe/Library/CloudStorage/OneDrive-BertelsmannSE&Co.KGaA/Masterarbeit/20_data/613010/ps2400dpi150lpi/FC_FS23_S_ES0018_T_CH_41L.p1.4c.M.tif\n",
      "/Users/frederic.birwe/Library/CloudStorage/OneDrive-BertelsmannSE&Co.KGaA/Masterarbeit/20_data/613010/ps2400dpi150lpi/FC_FS23_S_ES0056_T_F_41L.p1 2.4c.C.tif\n",
      "/Users/frederic.birwe/Library/CloudStorage/OneDrive-BertelsmannSE&Co.KGaA/Masterarbeit/20_data/613010/ps2400dpi150lpi/FC_FS23_S_ES0097_T_D_41L.p1.4c.C.tif\n",
      "/Users/frederic.birwe/Library/CloudStorage/OneDrive-BertelsmannSE&Co.KGaA/Masterarbeit/20_data/613010/ps2400dpi150lpi/FC_FS23_S_ES0092_T_F_41L.p1.4c.M.tif\n",
      "/Users/frederic.birwe/Library/CloudStorage/OneDrive-BertelsmannSE&Co.KGaA/Masterarbeit/20_data/613010/ps2400dpi150lpi/FC_FS23_S_ES0113_T_WCH_41L.p1.4c.M.tif\n",
      "/Users/frederic.birwe/Library/CloudStorage/OneDrive-BertelsmannSE&Co.KGaA/Masterarbeit/20_data/613010/ps2400dpi150lpi/FC_FS23_S_ES0012_T_NL_41L.p1 2.4c.Y.tif\n",
      "/Users/frederic.birwe/Library/CloudStorage/OneDrive-BertelsmannSE&Co.KGaA/Masterarbeit/20_data/613010/ps2400dpi150lpi/FC_FS23_S_ES0034_T_A_41L.p1.4c.Y.tif\n",
      "/Users/frederic.birwe/Library/CloudStorage/OneDrive-BertelsmannSE&Co.KGaA/Masterarbeit/20_data/613010/ps2400dpi150lpi/FC_FS23_S_ES0060_T_WCH_41L.p1.4c.Y.tif\n",
      "/Users/frederic.birwe/Library/CloudStorage/OneDrive-BertelsmannSE&Co.KGaA/Masterarbeit/20_data/613010/ps2400dpi150lpi/FC_FS23_S_ES0015_T_D_Suffix_90_41L.p1.4c.Y.tif\n",
      "/Users/frederic.birwe/Library/CloudStorage/OneDrive-BertelsmannSE&Co.KGaA/Masterarbeit/20_data/613010/ps2400dpi150lpi/FC_FS23_S_ES0081_T_D_Suffix_90_41L.p1.4c.Y.tif\n"
     ]
    },
    {
     "name": "stderr",
     "output_type": "stream",
     "text": [
      " 95%|████████████████████████████████▎ | 10886/11457 [00:36<00:03, 163.42it/s]"
     ]
    },
    {
     "name": "stdout",
     "output_type": "stream",
     "text": [
      "/Users/frederic.birwe/Library/CloudStorage/OneDrive-BertelsmannSE&Co.KGaA/Masterarbeit/20_data/613010/ps2400dpi150lpi/FC_FS23_S_ES0053_T_CH_41L.p1.4c.Y.tif\n",
      "/Users/frederic.birwe/Library/CloudStorage/OneDrive-BertelsmannSE&Co.KGaA/Masterarbeit/20_data/613010/ps2400dpi150lpi/FC_FS23_S_ES0065_T_A_41L.p1.4c.Y.tif\n",
      "/Users/frederic.birwe/Library/CloudStorage/OneDrive-BertelsmannSE&Co.KGaA/Masterarbeit/20_data/613010/ps2400dpi150lpi/FC_FS23_S_ES0010_T_WCH_41L.p1.4c.M.tif\n",
      "/Users/frederic.birwe/Library/CloudStorage/OneDrive-BertelsmannSE&Co.KGaA/Masterarbeit/20_data/613010/ps2400dpi150lpi/FC_FS23_S_ES0034_T_NL_41L.p1.4c.C.tif\n",
      "/Users/frederic.birwe/Library/CloudStorage/OneDrive-BertelsmannSE&Co.KGaA/Masterarbeit/20_data/613010/ps2400dpi150lpi/FC_FS23_S_ES0109_T_A_41L.p1.4c.M.tif\n",
      "/Users/frederic.birwe/Library/CloudStorage/OneDrive-BertelsmannSE&Co.KGaA/Masterarbeit/20_data/613010/ps2400dpi150lpi/FC_FS23_S_ES0017_T_WCH_41L.p1.4c.C.tif\n",
      "/Users/frederic.birwe/Library/CloudStorage/OneDrive-BertelsmannSE&Co.KGaA/Masterarbeit/20_data/613010/ps2400dpi150lpi/FC_FS23_S_ES0044_T_NL_41L.p1.4c.M.tif\n",
      "/Users/frederic.birwe/Library/CloudStorage/OneDrive-BertelsmannSE&Co.KGaA/Masterarbeit/20_data/613010/ps2400dpi150lpi/FC_FS23_S_ES0096_T_A_41L.p1.4c.Y.tif\n",
      "/Users/frederic.birwe/Library/CloudStorage/OneDrive-BertelsmannSE&Co.KGaA/Masterarbeit/20_data/613010/ps2400dpi150lpi/FC_FS23_S_ES0079_T_WCH_41L.p1.4c.C.tif\n",
      "/Users/frederic.birwe/Library/CloudStorage/OneDrive-BertelsmannSE&Co.KGaA/Masterarbeit/20_data/613010/ps2400dpi150lpi/FC_FS23_S_ES0050_T_D_Suffix_90_41L.p1.4c.Y.tif\n",
      "/Users/frederic.birwe/Library/CloudStorage/OneDrive-BertelsmannSE&Co.KGaA/Masterarbeit/20_data/613010/ps2400dpi150lpi/FC_FS23_S_ES0112_T_A_41L.p1.4c.Y.tif\n",
      "/Users/frederic.birwe/Library/CloudStorage/OneDrive-BertelsmannSE&Co.KGaA/Masterarbeit/20_data/613010/ps2400dpi150lpi/FC_FS23_S_ES0041_T_D_Suffix_90_41L.p1.4c.M.tif\n",
      "/Users/frederic.birwe/Library/CloudStorage/OneDrive-BertelsmannSE&Co.KGaA/Masterarbeit/20_data/613010/ps2400dpi150lpi/FC_FS23_S_ES0029_T_CH_41L.p1.4c.C.tif\n"
     ]
    },
    {
     "name": "stderr",
     "output_type": "stream",
     "text": [
      " 95%|████████████████████████████████▍ | 10924/11457 [00:36<00:03, 164.44it/s]"
     ]
    },
    {
     "name": "stdout",
     "output_type": "stream",
     "text": [
      "/Users/frederic.birwe/Library/CloudStorage/OneDrive-BertelsmannSE&Co.KGaA/Masterarbeit/20_data/613010/ps2400dpi150lpi/FC_FS23_S_ES0036_T_A_41L.p1.4c.M.tif\n",
      "/Users/frederic.birwe/Library/CloudStorage/OneDrive-BertelsmannSE&Co.KGaA/Masterarbeit/20_data/613010/ps2400dpi150lpi/FC_FS23_S_ES0004_T_A_41L.p1.4c.C.tif\n",
      "/Users/frederic.birwe/Library/CloudStorage/OneDrive-BertelsmannSE&Co.KGaA/Masterarbeit/20_data/613010/ps2400dpi150lpi/FC_FS23_S_ES0022_T_D_Suffix_90_41L.p1.4c.C.tif\n",
      "/Users/frederic.birwe/Library/CloudStorage/OneDrive-BertelsmannSE&Co.KGaA/Masterarbeit/20_data/613010/ps2400dpi150lpi/FC_FS23_S_ES0067_T_A_41L.p1.4c.M.tif\n",
      "/Users/frederic.birwe/Library/CloudStorage/OneDrive-BertelsmannSE&Co.KGaA/Masterarbeit/20_data/613010/ps2400dpi150lpi/FC_FS23_S_ES0037_T_NL_41L.p1.4c.Y.tif\n",
      "/Users/frederic.birwe/Library/CloudStorage/OneDrive-BertelsmannSE&Co.KGaA/Masterarbeit/20_data/613010/ps2400dpi150lpi/FC_FS23_S_ES0055_T_A_41L.p1.4c.C.tif\n",
      "/Users/frederic.birwe/Library/CloudStorage/OneDrive-BertelsmannSE&Co.KGaA/Masterarbeit/20_data/613010/ps2400dpi150lpi/FC_FS23_S_ES0020_T_CH_41L.p1.4c.M.tif\n",
      "/Users/frederic.birwe/Library/CloudStorage/OneDrive-BertelsmannSE&Co.KGaA/Masterarbeit/20_data/613010/ps2400dpi150lpi/FC_FS23_S_ES0006_T_WCH_41L.p1.4c.M.tif\n",
      "/Users/frederic.birwe/Library/CloudStorage/OneDrive-BertelsmannSE&Co.KGaA/Masterarbeit/20_data/613010/ps2400dpi150lpi/FC_FS23_S_ES0094_T_A_41L.p1.4c.M.tif\n",
      "/Users/frederic.birwe/Library/CloudStorage/OneDrive-BertelsmannSE&Co.KGaA/Masterarbeit/20_data/613010/ps2400dpi150lpi/FC_FS23_S_ES0031_T_NL_41L.p1 2.4c.C.tif\n",
      "/Users/frederic.birwe/Library/CloudStorage/OneDrive-BertelsmannSE&Co.KGaA/Masterarbeit/20_data/613010/ps2400dpi150lpi/FC_FS23_S_ES0067_T_D_Suffix_90_41L.p1.4c.C.tif\n",
      "/Users/frederic.birwe/Library/CloudStorage/OneDrive-BertelsmannSE&Co.KGaA/Masterarbeit/20_data/613010/ps2400dpi150lpi/FC_FS23_S_ES0059_T_CH_41L.p1.4c.M.tif\n",
      "/Users/frederic.birwe/Library/CloudStorage/OneDrive-BertelsmannSE&Co.KGaA/Masterarbeit/20_data/613010/ps2400dpi150lpi/FC_FS23_S_ES0004_T_D_Suffix_90_41L.p1.4c.M.tif\n",
      "/Users/frederic.birwe/Library/CloudStorage/OneDrive-BertelsmannSE&Co.KGaA/Masterarbeit/20_data/613010/ps2400dpi150lpi/FC_FS23_S_ES0076_T_WCH_41L.p1.4c.Y.tif\n",
      "/Users/frederic.birwe/Library/CloudStorage/OneDrive-BertelsmannSE&Co.KGaA/Masterarbeit/20_data/613010/ps2400dpi150lpi/FC_FS23_S_ES0090_T_D_Suffix_90_41L.p1.4c.M.tif\n",
      "/Users/frederic.birwe/Library/CloudStorage/OneDrive-BertelsmannSE&Co.KGaA/Masterarbeit/20_data/613010/ps2400dpi150lpi/FC_FS23_S_ES0110_T_A_41L.p1.4c.M.tif\n"
     ]
    },
    {
     "name": "stderr",
     "output_type": "stream",
     "text": [
      " 96%|████████████████████████████████▌ | 10961/11457 [00:36<00:02, 167.55it/s]"
     ]
    },
    {
     "name": "stdout",
     "output_type": "stream",
     "text": [
      "/Users/frederic.birwe/Library/CloudStorage/OneDrive-BertelsmannSE&Co.KGaA/Masterarbeit/20_data/613010/ps2400dpi150lpi/FC_FS23_S_ES0105_T_WCH_41L.p1.4c.M.tif\n",
      "/Users/frederic.birwe/Library/CloudStorage/OneDrive-BertelsmannSE&Co.KGaA/Masterarbeit/20_data/613010/ps2400dpi150lpi/FC_FS23_S_ES0063_T_F_41L.p1.4c.Y.tif\n",
      "/Users/frederic.birwe/Library/CloudStorage/OneDrive-BertelsmannSE&Co.KGaA/Masterarbeit/20_data/613010/ps2400dpi150lpi/FC_FS23_S_ES0054_T_D_41L.p1.4c.Y.tif\n",
      "/Users/frederic.birwe/Library/CloudStorage/OneDrive-BertelsmannSE&Co.KGaA/Masterarbeit/20_data/613010/ps2400dpi150lpi/FC_FS23_S_ES0044_T_NL_41L.p1 2.4c.C.tif\n",
      "/Users/frederic.birwe/Library/CloudStorage/OneDrive-BertelsmannSE&Co.KGaA/Masterarbeit/20_data/613010/ps2400dpi150lpi/FC_FS23_S_ES0079_T_D_Suffix_90_41L.p1.4c.C.tif\n",
      "/Users/frederic.birwe/Library/CloudStorage/OneDrive-BertelsmannSE&Co.KGaA/Masterarbeit/20_data/613010/ps2400dpi150lpi/FC_FS23_S_ES0032_T_F_41L.p1.4c.Y.tif\n",
      "/Users/frederic.birwe/Library/CloudStorage/OneDrive-BertelsmannSE&Co.KGaA/Masterarbeit/20_data/613010/ps2400dpi150lpi/FC_FS23_S_ES0075_T_NL_41L.p1.4c.C.tif\n",
      "/Users/frederic.birwe/Library/CloudStorage/OneDrive-BertelsmannSE&Co.KGaA/Masterarbeit/20_data/613010/ps2400dpi150lpi/FC_FS23_S_ES0101_T_CH_41L.p1.4c.M.tif\n",
      "/Users/frederic.birwe/Library/CloudStorage/OneDrive-BertelsmannSE&Co.KGaA/Masterarbeit/20_data/613010/ps2400dpi150lpi/FC_FS23_S_ES0086_T_NL_41L.p1.4c.C.tif\n",
      "/Users/frederic.birwe/Library/CloudStorage/OneDrive-BertelsmannSE&Co.KGaA/Masterarbeit/20_data/613010/ps2400dpi150lpi/FC_FS23_S_ES0012_T_CH_41L.p1.4c.Y.tif\n",
      "/Users/frederic.birwe/Library/CloudStorage/OneDrive-BertelsmannSE&Co.KGaA/Masterarbeit/20_data/613010/ps2400dpi150lpi/FC_FS23_S_ES0005_T_D_41L.p1.4c.Y.tif\n",
      "/Users/frederic.birwe/Library/CloudStorage/OneDrive-BertelsmannSE&Co.KGaA/Masterarbeit/20_data/613010/ps2400dpi150lpi/FC_FS23_S_ES0078_T_F_41L.p1.4c.M.tif\n",
      "/Users/frederic.birwe/Library/CloudStorage/OneDrive-BertelsmannSE&Co.KGaA/Masterarbeit/20_data/613010/ps2400dpi150lpi/FC_FS23_S_ES0112_T_WCH_41L.p1 2.4c.C.tif\n",
      "/Users/frederic.birwe/Library/CloudStorage/OneDrive-BertelsmannSE&Co.KGaA/Masterarbeit/20_data/613010/ps2400dpi150lpi/FC_FS23_S_ES0005_T_NL_41L.p1.4c.M.tif\n",
      "/Users/frederic.birwe/Library/CloudStorage/OneDrive-BertelsmannSE&Co.KGaA/Masterarbeit/20_data/613010/ps2400dpi150lpi/FC_FS23_S_ES0018_T_NL_41L.p1 2.4c.Y.tif\n",
      "/Users/frederic.birwe/Library/CloudStorage/OneDrive-BertelsmannSE&Co.KGaA/Masterarbeit/20_data/613010/ps2400dpi150lpi/FC_FS23_S_ES0029_T_F_41L.p1.4c.M.tif\n",
      "/Users/frederic.birwe/Library/CloudStorage/OneDrive-BertelsmannSE&Co.KGaA/Masterarbeit/20_data/613010/ps2400dpi150lpi/FC_FS23_S_ES0102_T_WCH_41L.p1.4c.C.tif\n",
      "/Users/frederic.birwe/Library/CloudStorage/OneDrive-BertelsmannSE&Co.KGaA/Masterarbeit/20_data/613010/ps2400dpi150lpi/FC_FS23_S_ES0011_T_CH_41L.p1 2.4c.Y.tif\n",
      "/Users/frederic.birwe/Library/CloudStorage/OneDrive-BertelsmannSE&Co.KGaA/Masterarbeit/20_data/613010/ps2400dpi150lpi/FC_FS23_S_ES0112_T_D_Suffix_90_41L.p1.4c.C.tif\n"
     ]
    },
    {
     "name": "stderr",
     "output_type": "stream",
     "text": [
      " 96%|████████████████████████████████▋ | 10997/11457 [00:37<00:02, 172.36it/s]"
     ]
    },
    {
     "name": "stdout",
     "output_type": "stream",
     "text": [
      "/Users/frederic.birwe/Library/CloudStorage/OneDrive-BertelsmannSE&Co.KGaA/Masterarbeit/20_data/613010/ps2400dpi150lpi/FC_FS23_S_ES0075_T_F_41L.p1 2.4c.Y.tif\n",
      "/Users/frederic.birwe/Library/CloudStorage/OneDrive-BertelsmannSE&Co.KGaA/Masterarbeit/20_data/613010/ps2400dpi150lpi/FC_FS23_S_ES0097_T_A_41L.p1.4c.Y.tif\n",
      "/Users/frederic.birwe/Library/CloudStorage/OneDrive-BertelsmannSE&Co.KGaA/Masterarbeit/20_data/613010/ps2400dpi150lpi/FC_FS23_S_ES0038_T_NL_41L.p1.4c.M.tif\n",
      "/Users/frederic.birwe/Library/CloudStorage/OneDrive-BertelsmannSE&Co.KGaA/Masterarbeit/20_data/613010/ps2400dpi150lpi/FC_FS23_S_ES0113_T_A_41L.p1.4c.Y.tif\n",
      "/Users/frederic.birwe/Library/CloudStorage/OneDrive-BertelsmannSE&Co.KGaA/Masterarbeit/20_data/613010/ps2400dpi150lpi/FC_FS23_S_ES0030_T_D_Suffix_90_41L.p1.4c.Y.tif\n",
      "/Users/frederic.birwe/Library/CloudStorage/OneDrive-BertelsmannSE&Co.KGaA/Masterarbeit/20_data/613010/ps2400dpi150lpi/FC_FS23_S_ES0041_T_NL_41L.p1.4c.M.tif\n",
      "/Users/frederic.birwe/Library/CloudStorage/OneDrive-BertelsmannSE&Co.KGaA/Masterarbeit/20_data/613010/ps2400dpi150lpi/FC_FS23_S_ES0029_T_NL_41L.p1 2.4c.Y.tif\n",
      "/Users/frederic.birwe/Library/CloudStorage/OneDrive-BertelsmannSE&Co.KGaA/Masterarbeit/20_data/613010/ps2400dpi150lpi/FC_FS23_S_ES0075_T_D_Suffix_90_41L.p1.4c.Y.tif\n",
      "/Users/frederic.birwe/Library/CloudStorage/OneDrive-BertelsmannSE&Co.KGaA/Masterarbeit/20_data/613010/ps2400dpi150lpi/FC_FS23_S_ES0031_T_NL_41L.p1.4c.C.tif\n",
      "/Users/frederic.birwe/Library/CloudStorage/OneDrive-BertelsmannSE&Co.KGaA/Masterarbeit/20_data/613010/ps2400dpi150lpi/FC_FS23_S_ES0056_T_CH_41L.p1.4c.Y.tif\n",
      "/Users/frederic.birwe/Library/CloudStorage/OneDrive-BertelsmannSE&Co.KGaA/Masterarbeit/20_data/613010/ps2400dpi150lpi/FC_FS23_S_ES0035_T_A_41L.p1.4c.Y.tif\n",
      "/Users/frederic.birwe/Library/CloudStorage/OneDrive-BertelsmannSE&Co.KGaA/Masterarbeit/20_data/613010/ps2400dpi150lpi/FC_FS23_S_ES0108_T_A_41L.p1.4c.M.tif\n",
      "/Users/frederic.birwe/Library/CloudStorage/OneDrive-BertelsmannSE&Co.KGaA/Masterarbeit/20_data/613010/ps2400dpi150lpi/FC_FS23_S_ES0064_T_A_41L.p1.4c.Y.tif\n",
      "/Users/frederic.birwe/Library/CloudStorage/OneDrive-BertelsmannSE&Co.KGaA/Masterarbeit/20_data/613010/ps2400dpi150lpi/FC_FS23_S_ES0048_T_NL_41L.p1.4c.C.tif\n"
     ]
    },
    {
     "name": "stderr",
     "output_type": "stream",
     "text": [
      " 96%|████████████████████████████████▋ | 11033/11457 [00:37<00:02, 170.73it/s]"
     ]
    },
    {
     "name": "stdout",
     "output_type": "stream",
     "text": [
      "/Users/frederic.birwe/Library/CloudStorage/OneDrive-BertelsmannSE&Co.KGaA/Masterarbeit/20_data/613010/ps2400dpi150lpi/FC_FS23_S_ES0112_T_D_41L.p1.4c.C.tif\n",
      "/Users/frederic.birwe/Library/CloudStorage/OneDrive-BertelsmannSE&Co.KGaA/Masterarbeit/20_data/613010/ps2400dpi150lpi/FC_FS23_S_ES0044_T_WCH_41L.p1.4c.M.tif\n",
      "/Users/frederic.birwe/Library/CloudStorage/OneDrive-BertelsmannSE&Co.KGaA/Masterarbeit/20_data/613010/ps2400dpi150lpi/FC_FS23_S_ES0101_T_F_41L.p1 2.4c.C.tif\n",
      "/Users/frederic.birwe/Library/CloudStorage/OneDrive-BertelsmannSE&Co.KGaA/Masterarbeit/20_data/613010/ps2400dpi150lpi/FC_FS23_S_ES0110_T_NL_41L.p1.4c.C.tif\n",
      "/Users/frederic.birwe/Library/CloudStorage/OneDrive-BertelsmannSE&Co.KGaA/Masterarbeit/20_data/613010/ps2400dpi150lpi/FC_FS23_S_ES0096_T_D_41L.p1.4c.C.tif\n",
      "/Users/frederic.birwe/Library/CloudStorage/OneDrive-BertelsmannSE&Co.KGaA/Masterarbeit/20_data/613010/ps2400dpi150lpi/FC_FS23_S_ES0093_T_F_41L.p1.4c.M.tif\n",
      "/Users/frederic.birwe/Library/CloudStorage/OneDrive-BertelsmannSE&Co.KGaA/Masterarbeit/20_data/613010/ps2400dpi150lpi/FC_FS23_S_ES0064_T_CH_41L.p1.4c.M.tif\n",
      "/Users/frederic.birwe/Library/CloudStorage/OneDrive-BertelsmannSE&Co.KGaA/Masterarbeit/20_data/613010/ps2400dpi150lpi/FC_FS23_S_ES0052_T_F_41L.p1.4c.C.tif\n",
      "/Users/frederic.birwe/Library/CloudStorage/OneDrive-BertelsmannSE&Co.KGaA/Masterarbeit/20_data/613010/ps2400dpi150lpi/FC_FS23_S_ES0057_T_D_41L.p1.4c.M.tif\n",
      "/Users/frederic.birwe/Library/CloudStorage/OneDrive-BertelsmannSE&Co.KGaA/Masterarbeit/20_data/613010/ps2400dpi150lpi/FC_FS23_S_ES0073_T_NL_41L.p1.4c.Y.tif\n",
      "/Users/frederic.birwe/Library/CloudStorage/OneDrive-BertelsmannSE&Co.KGaA/Masterarbeit/20_data/613010/ps2400dpi150lpi/FC_FS23_S_ES0080_T_NL_41L.p1.4c.Y.tif\n",
      "/Users/frederic.birwe/Library/CloudStorage/OneDrive-BertelsmannSE&Co.KGaA/Masterarbeit/20_data/613010/ps2400dpi150lpi/FC_FS23_S_ES0100_T_D_Suffix_90_41L.p1.4c.Y.tif\n",
      "/Users/frederic.birwe/Library/CloudStorage/OneDrive-BertelsmannSE&Co.KGaA/Masterarbeit/20_data/613010/ps2400dpi150lpi/FC_FS23_S_ES0060_T_F_41L.p1.4c.M.tif\n",
      "/Users/frederic.birwe/Library/CloudStorage/OneDrive-BertelsmannSE&Co.KGaA/Masterarbeit/20_data/613010/ps2400dpi150lpi/FC_FS23_S_ES0065_T_D_41L.p1.4c.C.tif\n",
      "/Users/frederic.birwe/Library/CloudStorage/OneDrive-BertelsmannSE&Co.KGaA/Masterarbeit/20_data/613010/ps2400dpi150lpi/FC_FS23_S_ES0082_T_WCH_41L.p1.4c.Y.tif\n",
      "/Users/frederic.birwe/Library/CloudStorage/OneDrive-BertelsmannSE&Co.KGaA/Masterarbeit/20_data/613010/ps2400dpi150lpi/FC_FS23_S_ES0088_T_F_41L.p1.4c.Y.tif\n",
      "/Users/frederic.birwe/Library/CloudStorage/OneDrive-BertelsmannSE&Co.KGaA/Masterarbeit/20_data/613010/ps2400dpi150lpi/FC_FS23_S_ES0006_T_D_41L.p1.4c.M.tif\n",
      "/Users/frederic.birwe/Library/CloudStorage/OneDrive-BertelsmannSE&Co.KGaA/Masterarbeit/20_data/613010/ps2400dpi150lpi/FC_FS23_S_ES0003_T_F_41L.p1.4c.C.tif\n",
      "/Users/frederic.birwe/Library/CloudStorage/OneDrive-BertelsmannSE&Co.KGaA/Masterarbeit/20_data/613010/ps2400dpi150lpi/FC_FS23_S_ES0034_T_D_41L.p1.4c.C.tif\n"
     ]
    },
    {
     "name": "stderr",
     "output_type": "stream",
     "text": [
      " 97%|████████████████████████████████▊ | 11069/11457 [00:37<00:02, 167.12it/s]"
     ]
    },
    {
     "name": "stdout",
     "output_type": "stream",
     "text": [
      "/Users/frederic.birwe/Library/CloudStorage/OneDrive-BertelsmannSE&Co.KGaA/Masterarbeit/20_data/613010/ps2400dpi150lpi/FC_FS23_S_ES0055_T_WCH_41L.p1.4c.C.tif\n",
      "/Users/frederic.birwe/Library/CloudStorage/OneDrive-BertelsmannSE&Co.KGaA/Masterarbeit/20_data/613010/ps2400dpi150lpi/FC_FS23_S_ES0094_T_WCH_41L.p1.4c.Y.tif\n",
      "/Users/frederic.birwe/Library/CloudStorage/OneDrive-BertelsmannSE&Co.KGaA/Masterarbeit/20_data/613010/ps2400dpi150lpi/FC_FS23_S_ES0079_T_F_41L.p1.4c.M.tif\n",
      "/Users/frederic.birwe/Library/CloudStorage/OneDrive-BertelsmannSE&Co.KGaA/Masterarbeit/20_data/613010/ps2400dpi150lpi/FC_FS23_S_ES0091_T_F_41L.p1.4c.Y.tif\n",
      "/Users/frederic.birwe/Library/CloudStorage/OneDrive-BertelsmannSE&Co.KGaA/Masterarbeit/20_data/613010/ps2400dpi150lpi/FC_FS23_S_ES0113_T_NL_41L.p1.4c.Y.tif\n",
      "/Users/frederic.birwe/Library/CloudStorage/OneDrive-BertelsmannSE&Co.KGaA/Masterarbeit/20_data/613010/ps2400dpi150lpi/FC_FS23_S_ES0111_T_D_Suffix_90_41L.p1.4c.M.tif\n",
      "/Users/frederic.birwe/Library/CloudStorage/OneDrive-BertelsmannSE&Co.KGaA/Masterarbeit/20_data/613010/ps2400dpi150lpi/FC_FS23_S_ES0047_T_WCH_41L.p1 2.4c.C.tif\n",
      "/Users/frederic.birwe/Library/CloudStorage/OneDrive-BertelsmannSE&Co.KGaA/Masterarbeit/20_data/613010/ps2400dpi150lpi/FC_FS23_S_ES0028_T_F_41L.p1.4c.M.tif\n",
      "/Users/frederic.birwe/Library/CloudStorage/OneDrive-BertelsmannSE&Co.KGaA/Masterarbeit/20_data/613010/ps2400dpi150lpi/FC_FS23_S_ES0108_T_WCH_41L.p1 2.4c.Y.tif\n",
      "/Users/frederic.birwe/Library/CloudStorage/OneDrive-BertelsmannSE&Co.KGaA/Masterarbeit/20_data/613010/ps2400dpi150lpi/FC_FS23_S_ES0019_T_D_Suffix_90_41L.p1.4c.C.tif\n",
      "/Users/frederic.birwe/Library/CloudStorage/OneDrive-BertelsmannSE&Co.KGaA/Masterarbeit/20_data/613010/ps2400dpi150lpi/FC_FS23_S_ES0055_T_D_41L.p1.4c.Y.tif\n",
      "/Users/frederic.birwe/Library/CloudStorage/OneDrive-BertelsmannSE&Co.KGaA/Masterarbeit/20_data/613010/ps2400dpi150lpi/FC_FS23_S_ES0070_T_NL_41L.p1.4c.C.tif\n",
      "/Users/frederic.birwe/Library/CloudStorage/OneDrive-BertelsmannSE&Co.KGaA/Masterarbeit/20_data/613010/ps2400dpi150lpi/FC_FS23_S_ES0062_T_F_41L.p1.4c.Y.tif\n",
      "/Users/frederic.birwe/Library/CloudStorage/OneDrive-BertelsmannSE&Co.KGaA/Masterarbeit/20_data/613010/ps2400dpi150lpi/FC_FS23_S_ES0083_T_NL_41L.p1.4c.C.tif\n",
      "/Users/frederic.birwe/Library/CloudStorage/OneDrive-BertelsmannSE&Co.KGaA/Masterarbeit/20_data/613010/ps2400dpi150lpi/FC_FS23_S_ES0009_T_NL_41L.p1.4c.C.tif\n",
      "/Users/frederic.birwe/Library/CloudStorage/OneDrive-BertelsmannSE&Co.KGaA/Masterarbeit/20_data/613010/ps2400dpi150lpi/FC_FS23_S_ES0004_T_D_41L.p1.4c.Y.tif\n",
      "/Users/frederic.birwe/Library/CloudStorage/OneDrive-BertelsmannSE&Co.KGaA/Masterarbeit/20_data/613010/ps2400dpi150lpi/FC_FS23_S_ES0023_T_WCH_41L.p1 2.4c.Y.tif\n",
      "/Users/frederic.birwe/Library/CloudStorage/OneDrive-BertelsmannSE&Co.KGaA/Masterarbeit/20_data/613010/ps2400dpi150lpi/FC_FS23_S_ES0033_T_F_41L.p1.4c.Y.tif\n",
      "/Users/frederic.birwe/Library/CloudStorage/OneDrive-BertelsmannSE&Co.KGaA/Masterarbeit/20_data/613010/ps2400dpi150lpi/FC_FS23_S_ES0052_T_WCH_41L.p1.4c.M.tif\n",
      "/Users/frederic.birwe/Library/CloudStorage/OneDrive-BertelsmannSE&Co.KGaA/Masterarbeit/20_data/613010/ps2400dpi150lpi/FC_FS23_S_ES0095_T_A_41L.p1.4c.M.tif\n"
     ]
    },
    {
     "name": "stderr",
     "output_type": "stream",
     "text": [
      " 97%|████████████████████████████████▉ | 11109/11457 [00:37<00:01, 181.25it/s]"
     ]
    },
    {
     "name": "stdout",
     "output_type": "stream",
     "text": [
      "/Users/frederic.birwe/Library/CloudStorage/OneDrive-BertelsmannSE&Co.KGaA/Masterarbeit/20_data/613010/ps2400dpi150lpi/FC_FS23_S_ES0111_T_A_41L.p1.4c.M.tif\n",
      "/Users/frederic.birwe/Library/CloudStorage/OneDrive-BertelsmannSE&Co.KGaA/Masterarbeit/20_data/613010/ps2400dpi150lpi/FC_FS23_S_ES0064_T_D_Suffix_90_41L.p1.4c.M.tif\n",
      "/Users/frederic.birwe/Library/CloudStorage/OneDrive-BertelsmannSE&Co.KGaA/Masterarbeit/20_data/613010/ps2400dpi150lpi/FC_FS23_S_ES0025_T_CH_41L.p1.4c.M.tif\n",
      "/Users/frederic.birwe/Library/CloudStorage/OneDrive-BertelsmannSE&Co.KGaA/Masterarbeit/20_data/613010/ps2400dpi150lpi/FC_FS23_S_ES0007_T_D_Suffix_90_41L.p1.4c.C.tif\n",
      "/Users/frederic.birwe/Library/CloudStorage/OneDrive-BertelsmannSE&Co.KGaA/Masterarbeit/20_data/613010/ps2400dpi150lpi/FC_FS23_S_ES0093_T_D_Suffix_90_41L.p1.4c.C.tif\n",
      "/Users/frederic.birwe/Library/CloudStorage/OneDrive-BertelsmannSE&Co.KGaA/Masterarbeit/20_data/613010/ps2400dpi150lpi/FC_FS23_S_ES0055_T_CH_41L.p1.4c.C.tif\n",
      "/Users/frederic.birwe/Library/CloudStorage/OneDrive-BertelsmannSE&Co.KGaA/Masterarbeit/20_data/613010/ps2400dpi150lpi/FC_FS23_S_ES0042_T_D_Suffix_90_41L.p1.4c.C.tif\n",
      "/Users/frederic.birwe/Library/CloudStorage/OneDrive-BertelsmannSE&Co.KGaA/Masterarbeit/20_data/613010/ps2400dpi150lpi/FC_FS23_S_ES0005_T_A_41L.p1.4c.C.tif\n",
      "/Users/frederic.birwe/Library/CloudStorage/OneDrive-BertelsmannSE&Co.KGaA/Masterarbeit/20_data/613010/ps2400dpi150lpi/FC_FS23_S_ES0024_T_NL_41L.p1 2.4c.M.tif\n",
      "/Users/frederic.birwe/Library/CloudStorage/OneDrive-BertelsmannSE&Co.KGaA/Masterarbeit/20_data/613010/ps2400dpi150lpi/FC_FS23_S_ES0037_T_A_41L.p1.4c.M.tif\n",
      "/Users/frederic.birwe/Library/CloudStorage/OneDrive-BertelsmannSE&Co.KGaA/Masterarbeit/20_data/613010/ps2400dpi150lpi/FC_FS23_S_ES0021_T_D_Suffix_90_41L.p1.4c.M.tif\n",
      "/Users/frederic.birwe/Library/CloudStorage/OneDrive-BertelsmannSE&Co.KGaA/Masterarbeit/20_data/613010/ps2400dpi150lpi/FC_FS23_S_ES0032_T_NL_41L.p1.4c.Y.tif\n",
      "/Users/frederic.birwe/Library/CloudStorage/OneDrive-BertelsmannSE&Co.KGaA/Masterarbeit/20_data/613010/ps2400dpi150lpi/FC_FS23_S_ES0054_T_A_41L.p1.4c.C.tif\n",
      "/Users/frederic.birwe/Library/CloudStorage/OneDrive-BertelsmannSE&Co.KGaA/Masterarbeit/20_data/613010/ps2400dpi150lpi/FC_FS23_S_ES0023_T_NL_41L.p1 2.4c.Y.tif\n",
      "/Users/frederic.birwe/Library/CloudStorage/OneDrive-BertelsmannSE&Co.KGaA/Masterarbeit/20_data/613010/ps2400dpi150lpi/FC_FS23_S_ES0066_T_A_41L.p1.4c.M.tif\n",
      "/Users/frederic.birwe/Library/CloudStorage/OneDrive-BertelsmannSE&Co.KGaA/Masterarbeit/20_data/613010/ps2400dpi150lpi/FC_FS23_S_ES0089_T_F_41L.p1.4c.M.tif\n",
      "/Users/frederic.birwe/Library/CloudStorage/OneDrive-BertelsmannSE&Co.KGaA/Masterarbeit/20_data/613010/ps2400dpi150lpi/FC_FS23_S_ES0085_T_NL_41L.p1.4c.M.tif\n",
      "/Users/frederic.birwe/Library/CloudStorage/OneDrive-BertelsmannSE&Co.KGaA/Masterarbeit/20_data/613010/ps2400dpi150lpi/FC_FS23_S_ES0007_T_D_41L.p1.4c.Y.tif\n",
      "/Users/frederic.birwe/Library/CloudStorage/OneDrive-BertelsmannSE&Co.KGaA/Masterarbeit/20_data/613010/ps2400dpi150lpi/FC_FS23_S_ES0030_T_F_41L.p1.4c.Y.tif\n"
     ]
    },
    {
     "name": "stderr",
     "output_type": "stream",
     "text": [
      " 97%|█████████████████████████████████ | 11151/11457 [00:37<00:01, 190.73it/s]"
     ]
    },
    {
     "name": "stdout",
     "output_type": "stream",
     "text": [
      "/Users/frederic.birwe/Library/CloudStorage/OneDrive-BertelsmannSE&Co.KGaA/Masterarbeit/20_data/613010/ps2400dpi150lpi/FC_FS23_S_ES0090_T_F_41L.p1 2.4c.C.tif\n",
      "/Users/frederic.birwe/Library/CloudStorage/OneDrive-BertelsmannSE&Co.KGaA/Masterarbeit/20_data/613010/ps2400dpi150lpi/FC_FS23_S_ES0056_T_D_41L.p1.4c.Y.tif\n",
      "/Users/frederic.birwe/Library/CloudStorage/OneDrive-BertelsmannSE&Co.KGaA/Masterarbeit/20_data/613010/ps2400dpi150lpi/FC_FS23_S_ES0103_T_D_Suffix_90_41L.p1.4c.C.tif\n",
      "/Users/frederic.birwe/Library/CloudStorage/OneDrive-BertelsmannSE&Co.KGaA/Masterarbeit/20_data/613010/ps2400dpi150lpi/FC_FS23_S_ES0108_T_D_41L.p1.4c.C.tif\n",
      "/Users/frederic.birwe/Library/CloudStorage/OneDrive-BertelsmannSE&Co.KGaA/Masterarbeit/20_data/613010/ps2400dpi150lpi/FC_FS23_S_ES0068_T_D_Suffix_90_41L.p1.4c.C.tif\n",
      "/Users/frederic.birwe/Library/CloudStorage/OneDrive-BertelsmannSE&Co.KGaA/Masterarbeit/20_data/613010/ps2400dpi150lpi/FC_FS23_S_ES0012_T_NL_41L.p1 2.4c.M.tif\n",
      "/Users/frederic.birwe/Library/CloudStorage/OneDrive-BertelsmannSE&Co.KGaA/Masterarbeit/20_data/613010/ps2400dpi150lpi/FC_FS23_S_ES0019_T_F_41L.p1.4c.C.tif\n",
      "/Users/frederic.birwe/Library/CloudStorage/OneDrive-BertelsmannSE&Co.KGaA/Masterarbeit/20_data/613010/ps2400dpi150lpi/FC_FS23_S_ES0113_T_WCH_41L.p1.4c.Y.tif\n",
      "/Users/frederic.birwe/Library/CloudStorage/OneDrive-BertelsmannSE&Co.KGaA/Masterarbeit/20_data/613010/ps2400dpi150lpi/FC_FS23_S_ES0092_T_F_41L.p1.4c.Y.tif\n",
      "/Users/frederic.birwe/Library/CloudStorage/OneDrive-BertelsmannSE&Co.KGaA/Masterarbeit/20_data/613010/ps2400dpi150lpi/FC_FS23_S_ES0081_T_CH_41L.p1 2.4c.C.tif\n",
      "/Users/frederic.birwe/Library/CloudStorage/OneDrive-BertelsmannSE&Co.KGaA/Masterarbeit/20_data/613010/ps2400dpi150lpi/FC_FS23_S_ES0048_T_F_41L.p1 2.4c.C.tif\n",
      "/Users/frederic.birwe/Library/CloudStorage/OneDrive-BertelsmannSE&Co.KGaA/Masterarbeit/20_data/613010/ps2400dpi150lpi/FC_FS23_S_ES0018_T_CH_41L.p1.4c.Y.tif\n",
      "/Users/frederic.birwe/Library/CloudStorage/OneDrive-BertelsmannSE&Co.KGaA/Masterarbeit/20_data/613010/ps2400dpi150lpi/FC_FS23_S_ES0061_T_CH_41L.p1.4c.Y.tif\n",
      "/Users/frederic.birwe/Library/CloudStorage/OneDrive-BertelsmannSE&Co.KGaA/Masterarbeit/20_data/613010/ps2400dpi150lpi/FC_FS23_S_ES0054_T_WCH_41L.p1 2.4c.C.tif\n",
      "/Users/frederic.birwe/Library/CloudStorage/OneDrive-BertelsmannSE&Co.KGaA/Masterarbeit/20_data/613010/ps2400dpi150lpi/FC_FS23_S_ES0026_T_F_41L.p1 2.4c.C.tif\n",
      "/Users/frederic.birwe/Library/CloudStorage/OneDrive-BertelsmannSE&Co.KGaA/Masterarbeit/20_data/613010/ps2400dpi150lpi/FC_FS23_S_ES0006_T_NL_41L.p1.4c.C.tif\n",
      "/Users/frederic.birwe/Library/CloudStorage/OneDrive-BertelsmannSE&Co.KGaA/Masterarbeit/20_data/613010/ps2400dpi150lpi/FC_FS23_S_ES0015_T_NL_41L.p1 2.4c.Y.tif\n"
     ]
    },
    {
     "name": "stderr",
     "output_type": "stream",
     "text": [
      " 98%|█████████████████████████████████▏| 11192/11457 [00:38<00:01, 192.88it/s]"
     ]
    },
    {
     "name": "stdout",
     "output_type": "stream",
     "text": [
      "/Users/frederic.birwe/Library/CloudStorage/OneDrive-BertelsmannSE&Co.KGaA/Masterarbeit/20_data/613010/ps2400dpi150lpi/FC_FS23_S_ES0109_T_A_41L.p1.4c.Y.tif\n",
      "/Users/frederic.birwe/Library/CloudStorage/OneDrive-BertelsmannSE&Co.KGaA/Masterarbeit/20_data/613010/ps2400dpi150lpi/FC_FS23_S_ES0057_T_A_41L.p1.4c.C.tif\n",
      "/Users/frederic.birwe/Library/CloudStorage/OneDrive-BertelsmannSE&Co.KGaA/Masterarbeit/20_data/613010/ps2400dpi150lpi/FC_FS23_S_ES0010_T_WCH_41L.p1.4c.Y.tif\n",
      "/Users/frederic.birwe/Library/CloudStorage/OneDrive-BertelsmannSE&Co.KGaA/Masterarbeit/20_data/613010/ps2400dpi150lpi/FC_FS23_S_ES0065_T_A_41L.p1.4c.M.tif\n",
      "/Users/frederic.birwe/Library/CloudStorage/OneDrive-BertelsmannSE&Co.KGaA/Masterarbeit/20_data/613010/ps2400dpi150lpi/FC_FS23_S_ES0053_T_CH_41L.p1.4c.M.tif\n",
      "/Users/frederic.birwe/Library/CloudStorage/OneDrive-BertelsmannSE&Co.KGaA/Masterarbeit/20_data/613010/ps2400dpi150lpi/FC_FS23_S_ES0081_T_D_Suffix_90_41L.p1.4c.M.tif\n",
      "/Users/frederic.birwe/Library/CloudStorage/OneDrive-BertelsmannSE&Co.KGaA/Masterarbeit/20_data/613010/ps2400dpi150lpi/FC_FS23_S_ES0006_T_A_41L.p1.4c.C.tif\n",
      "/Users/frederic.birwe/Library/CloudStorage/OneDrive-BertelsmannSE&Co.KGaA/Masterarbeit/20_data/613010/ps2400dpi150lpi/FC_FS23_S_ES0015_T_D_Suffix_90_41L.p1.4c.M.tif\n",
      "/Users/frederic.birwe/Library/CloudStorage/OneDrive-BertelsmannSE&Co.KGaA/Masterarbeit/20_data/613010/ps2400dpi150lpi/FC_FS23_S_ES0060_T_WCH_41L.p1.4c.M.tif\n",
      "/Users/frederic.birwe/Library/CloudStorage/OneDrive-BertelsmannSE&Co.KGaA/Masterarbeit/20_data/613010/ps2400dpi150lpi/FC_FS23_S_ES0076_T_D_Suffix_90_41L.p1.4c.C.tif\n",
      "/Users/frederic.birwe/Library/CloudStorage/OneDrive-BertelsmannSE&Co.KGaA/Masterarbeit/20_data/613010/ps2400dpi150lpi/FC_FS23_S_ES0034_T_A_41L.p1.4c.M.tif\n",
      "/Users/frederic.birwe/Library/CloudStorage/OneDrive-BertelsmannSE&Co.KGaA/Masterarbeit/20_data/613010/ps2400dpi150lpi/FC_FS23_S_ES0067_T_WCH_41L.p1.4c.C.tif\n",
      "/Users/frederic.birwe/Library/CloudStorage/OneDrive-BertelsmannSE&Co.KGaA/Masterarbeit/20_data/613010/ps2400dpi150lpi/FC_FS23_S_ES0112_T_A_41L.p1.4c.M.tif\n",
      "/Users/frederic.birwe/Library/CloudStorage/OneDrive-BertelsmannSE&Co.KGaA/Masterarbeit/20_data/613010/ps2400dpi150lpi/FC_FS23_S_ES0033_T_D_Suffix_90_41L.p1.4c.C.tif\n",
      "/Users/frederic.birwe/Library/CloudStorage/OneDrive-BertelsmannSE&Co.KGaA/Masterarbeit/20_data/613010/ps2400dpi150lpi/FC_FS23_S_ES0050_T_D_Suffix_90_41L.p1.4c.M.tif\n",
      "/Users/frederic.birwe/Library/CloudStorage/OneDrive-BertelsmannSE&Co.KGaA/Masterarbeit/20_data/613010/ps2400dpi150lpi/FC_FS23_S_ES0009_T_WCH_41L.p1.4c.C.tif\n",
      "/Users/frederic.birwe/Library/CloudStorage/OneDrive-BertelsmannSE&Co.KGaA/Masterarbeit/20_data/613010/ps2400dpi150lpi/FC_FS23_S_ES0096_T_A_41L.p1.4c.M.tif\n",
      "/Users/frederic.birwe/Library/CloudStorage/OneDrive-BertelsmannSE&Co.KGaA/Masterarbeit/20_data/613010/ps2400dpi150lpi/FC_FS23_S_ES0044_T_NL_41L.p1.4c.Y.tif\n"
     ]
    },
    {
     "name": "stderr",
     "output_type": "stream",
     "text": [
      " 98%|█████████████████████████████████▍| 11253/11457 [00:38<00:01, 191.36it/s]"
     ]
    },
    {
     "name": "stdout",
     "output_type": "stream",
     "text": [
      "/Users/frederic.birwe/Library/CloudStorage/OneDrive-BertelsmannSE&Co.KGaA/Masterarbeit/20_data/613010/ps2400dpi150lpi/FC_FS23_S_ES0037_T_NL_41L.p1.4c.M.tif\n",
      "/Users/frederic.birwe/Library/CloudStorage/OneDrive-BertelsmannSE&Co.KGaA/Masterarbeit/20_data/613010/ps2400dpi150lpi/FC_FS23_S_ES0067_T_A_41L.p1.4c.Y.tif\n",
      "/Users/frederic.birwe/Library/CloudStorage/OneDrive-BertelsmannSE&Co.KGaA/Masterarbeit/20_data/613010/ps2400dpi150lpi/FC_FS23_S_ES0071_T_WCH_41L.p1.4c.C.tif\n",
      "/Users/frederic.birwe/Library/CloudStorage/OneDrive-BertelsmannSE&Co.KGaA/Masterarbeit/20_data/613010/ps2400dpi150lpi/FC_FS23_S_ES0036_T_A_41L.p1.4c.Y.tif\n",
      "/Users/frederic.birwe/Library/CloudStorage/OneDrive-BertelsmannSE&Co.KGaA/Masterarbeit/20_data/613010/ps2400dpi150lpi/FC_FS23_S_ES0041_T_D_Suffix_90_41L.p1.4c.Y.tif\n",
      "/Users/frederic.birwe/Library/CloudStorage/OneDrive-BertelsmannSE&Co.KGaA/Masterarbeit/20_data/613010/ps2400dpi150lpi/FC_FS23_S_ES0110_T_A_41L.p1.4c.Y.tif\n",
      "/Users/frederic.birwe/Library/CloudStorage/OneDrive-BertelsmannSE&Co.KGaA/Masterarbeit/20_data/613010/ps2400dpi150lpi/FC_FS23_S_ES0090_T_D_Suffix_90_41L.p1.4c.Y.tif\n",
      "/Users/frederic.birwe/Library/CloudStorage/OneDrive-BertelsmannSE&Co.KGaA/Masterarbeit/20_data/613010/ps2400dpi150lpi/FC_FS23_S_ES0004_T_D_Suffix_90_41L.p1.4c.Y.tif\n",
      "/Users/frederic.birwe/Library/CloudStorage/OneDrive-BertelsmannSE&Co.KGaA/Masterarbeit/20_data/613010/ps2400dpi150lpi/FC_FS23_S_ES0076_T_WCH_41L.p1.4c.M.tif\n",
      "/Users/frederic.birwe/Library/CloudStorage/OneDrive-BertelsmannSE&Co.KGaA/Masterarbeit/20_data/613010/ps2400dpi150lpi/FC_FS23_S_ES0059_T_CH_41L.p1.4c.Y.tif\n",
      "/Users/frederic.birwe/Library/CloudStorage/OneDrive-BertelsmannSE&Co.KGaA/Masterarbeit/20_data/613010/ps2400dpi150lpi/FC_FS23_S_ES0036_T_NL_41L.p1 2.4c.C.tif\n",
      "/Users/frederic.birwe/Library/CloudStorage/OneDrive-BertelsmannSE&Co.KGaA/Masterarbeit/20_data/613010/ps2400dpi150lpi/FC_FS23_S_ES0047_T_NL_41L.p1.4c.C.tif\n",
      "/Users/frederic.birwe/Library/CloudStorage/OneDrive-BertelsmannSE&Co.KGaA/Masterarbeit/20_data/613010/ps2400dpi150lpi/FC_FS23_S_ES0094_T_A_41L.p1.4c.Y.tif\n",
      "/Users/frederic.birwe/Library/CloudStorage/OneDrive-BertelsmannSE&Co.KGaA/Masterarbeit/20_data/613010/ps2400dpi150lpi/FC_FS23_S_ES0006_T_WCH_41L.p1.4c.Y.tif\n",
      "/Users/frederic.birwe/Library/CloudStorage/OneDrive-BertelsmannSE&Co.KGaA/Masterarbeit/20_data/613010/ps2400dpi150lpi/FC_FS23_S_ES0020_T_CH_41L.p1.4c.Y.tif\n",
      "/Users/frederic.birwe/Library/CloudStorage/OneDrive-BertelsmannSE&Co.KGaA/Masterarbeit/20_data/613010/ps2400dpi150lpi/FC_FS23_S_ES0005_T_D_41L.p1.4c.M.tif\n",
      "/Users/frederic.birwe/Library/CloudStorage/OneDrive-BertelsmannSE&Co.KGaA/Masterarbeit/20_data/613010/ps2400dpi150lpi/FC_FS23_S_ES0012_T_CH_41L.p1.4c.M.tif\n"
     ]
    },
    {
     "name": "stderr",
     "output_type": "stream",
     "text": [
      " 99%|█████████████████████████████████▌| 11293/11457 [00:38<00:00, 188.17it/s]"
     ]
    },
    {
     "name": "stdout",
     "output_type": "stream",
     "text": [
      "/Users/frederic.birwe/Library/CloudStorage/OneDrive-BertelsmannSE&Co.KGaA/Masterarbeit/20_data/613010/ps2400dpi150lpi/FC_FS23_S_ES0043_T_NL_41L.p1 2.4c.C.tif\n",
      "/Users/frederic.birwe/Library/CloudStorage/OneDrive-BertelsmannSE&Co.KGaA/Masterarbeit/20_data/613010/ps2400dpi150lpi/FC_FS23_S_ES0101_T_CH_41L.p1.4c.Y.tif\n",
      "/Users/frederic.birwe/Library/CloudStorage/OneDrive-BertelsmannSE&Co.KGaA/Masterarbeit/20_data/613010/ps2400dpi150lpi/FC_FS23_S_ES0037_T_D_41L.p1.4c.C.tif\n",
      "/Users/frederic.birwe/Library/CloudStorage/OneDrive-BertelsmannSE&Co.KGaA/Masterarbeit/20_data/613010/ps2400dpi150lpi/FC_FS23_S_ES0032_T_F_41L.p1.4c.M.tif\n",
      "/Users/frederic.birwe/Library/CloudStorage/OneDrive-BertelsmannSE&Co.KGaA/Masterarbeit/20_data/613010/ps2400dpi150lpi/FC_FS23_S_ES0051_T_F_41L.p1.4c.C.tif\n",
      "/Users/frederic.birwe/Library/CloudStorage/OneDrive-BertelsmannSE&Co.KGaA/Masterarbeit/20_data/613010/ps2400dpi150lpi/FC_FS23_S_ES0054_T_D_41L.p1.4c.M.tif\n",
      "/Users/frederic.birwe/Library/CloudStorage/OneDrive-BertelsmannSE&Co.KGaA/Masterarbeit/20_data/613010/ps2400dpi150lpi/FC_FS23_S_ES0063_T_F_41L.p1.4c.M.tif\n",
      "/Users/frederic.birwe/Library/CloudStorage/OneDrive-BertelsmannSE&Co.KGaA/Masterarbeit/20_data/613010/ps2400dpi150lpi/FC_FS23_S_ES0066_T_D_41L.p1.4c.C.tif\n",
      "/Users/frederic.birwe/Library/CloudStorage/OneDrive-BertelsmannSE&Co.KGaA/Masterarbeit/20_data/613010/ps2400dpi150lpi/FC_FS23_S_ES0105_T_WCH_41L.p1.4c.Y.tif\n",
      "/Users/frederic.birwe/Library/CloudStorage/OneDrive-BertelsmannSE&Co.KGaA/Masterarbeit/20_data/613010/ps2400dpi150lpi/FC_FS23_S_ES0095_T_D_41L.p1.4c.C.tif\n",
      "/Users/frederic.birwe/Library/CloudStorage/OneDrive-BertelsmannSE&Co.KGaA/Masterarbeit/20_data/613010/ps2400dpi150lpi/FC_FS23_S_ES0011_T_CH_41L.p1 2.4c.M.tif\n",
      "/Users/frederic.birwe/Library/CloudStorage/OneDrive-BertelsmannSE&Co.KGaA/Masterarbeit/20_data/613010/ps2400dpi150lpi/FC_FS23_S_ES0029_T_F_41L.p1.4c.Y.tif\n",
      "/Users/frederic.birwe/Library/CloudStorage/OneDrive-BertelsmannSE&Co.KGaA/Masterarbeit/20_data/613010/ps2400dpi150lpi/FC_FS23_S_ES0018_T_NL_41L.p1 2.4c.M.tif\n",
      "/Users/frederic.birwe/Library/CloudStorage/OneDrive-BertelsmannSE&Co.KGaA/Masterarbeit/20_data/613010/ps2400dpi150lpi/FC_FS23_S_ES0111_T_D_41L.p1.4c.C.tif\n",
      "/Users/frederic.birwe/Library/CloudStorage/OneDrive-BertelsmannSE&Co.KGaA/Masterarbeit/20_data/613010/ps2400dpi150lpi/FC_FS23_S_ES0005_T_NL_41L.p1.4c.Y.tif\n",
      "/Users/frederic.birwe/Library/CloudStorage/OneDrive-BertelsmannSE&Co.KGaA/Masterarbeit/20_data/613010/ps2400dpi150lpi/FC_FS23_S_ES0062_T_CH_41L.p1.4c.C.tif\n",
      "/Users/frederic.birwe/Library/CloudStorage/OneDrive-BertelsmannSE&Co.KGaA/Masterarbeit/20_data/613010/ps2400dpi150lpi/FC_FS23_S_ES0091_T_CH_41L.p1.4c.C.tif\n",
      "/Users/frederic.birwe/Library/CloudStorage/OneDrive-BertelsmannSE&Co.KGaA/Masterarbeit/20_data/613010/ps2400dpi150lpi/FC_FS23_S_ES0078_T_F_41L.p1.4c.Y.tif\n",
      "/Users/frederic.birwe/Library/CloudStorage/OneDrive-BertelsmannSE&Co.KGaA/Masterarbeit/20_data/613010/ps2400dpi150lpi/FC_FS23_S_ES0072_T_NL_41L.p1 2.4c.C.tif\n",
      "/Users/frederic.birwe/Library/CloudStorage/OneDrive-BertelsmannSE&Co.KGaA/Masterarbeit/20_data/613010/ps2400dpi150lpi/FC_FS23_S_ES0041_T_NL_41L.p1.4c.Y.tif\n",
      "/Users/frederic.birwe/Library/CloudStorage/OneDrive-BertelsmannSE&Co.KGaA/Masterarbeit/20_data/613010/ps2400dpi150lpi/FC_FS23_S_ES0030_T_D_Suffix_90_41L.p1.4c.M.tif\n"
     ]
    },
    {
     "name": "stderr",
     "output_type": "stream",
     "text": [
      " 99%|█████████████████████████████████▋| 11331/11457 [00:38<00:00, 180.40it/s]"
     ]
    },
    {
     "name": "stdout",
     "output_type": "stream",
     "text": [
      "/Users/frederic.birwe/Library/CloudStorage/OneDrive-BertelsmannSE&Co.KGaA/Masterarbeit/20_data/613010/ps2400dpi150lpi/FC_FS23_S_ES0113_T_A_41L.p1.4c.M.tif\n",
      "/Users/frederic.birwe/Library/CloudStorage/OneDrive-BertelsmannSE&Co.KGaA/Masterarbeit/20_data/613010/ps2400dpi150lpi/FC_FS23_S_ES0026_T_CH_41L.p1.4c.C.tif\n",
      "/Users/frederic.birwe/Library/CloudStorage/OneDrive-BertelsmannSE&Co.KGaA/Masterarbeit/20_data/613010/ps2400dpi150lpi/FC_FS23_S_ES0053_T_D_Suffix_90_41L.p1.4c.C.tif\n",
      "/Users/frederic.birwe/Library/CloudStorage/OneDrive-BertelsmannSE&Co.KGaA/Masterarbeit/20_data/613010/ps2400dpi150lpi/FC_FS23_S_ES0108_T_CH_41L.p1 2.4c.C.tif\n",
      "/Users/frederic.birwe/Library/CloudStorage/OneDrive-BertelsmannSE&Co.KGaA/Masterarbeit/20_data/613010/ps2400dpi150lpi/FC_FS23_S_ES0038_T_NL_41L.p1.4c.Y.tif\n",
      "/Users/frederic.birwe/Library/CloudStorage/OneDrive-BertelsmannSE&Co.KGaA/Masterarbeit/20_data/613010/ps2400dpi150lpi/FC_FS23_S_ES0097_T_A_41L.p1.4c.M.tif\n",
      "/Users/frederic.birwe/Library/CloudStorage/OneDrive-BertelsmannSE&Co.KGaA/Masterarbeit/20_data/613010/ps2400dpi150lpi/FC_FS23_S_ES0075_T_F_41L.p1 2.4c.M.tif\n",
      "/Users/frederic.birwe/Library/CloudStorage/OneDrive-BertelsmannSE&Co.KGaA/Masterarbeit/20_data/613010/ps2400dpi150lpi/FC_FS23_S_ES0072_T_F_41L.p1 2.4c.C.tif\n",
      "/Users/frederic.birwe/Library/CloudStorage/OneDrive-BertelsmannSE&Co.KGaA/Masterarbeit/20_data/613010/ps2400dpi150lpi/FC_FS23_S_ES0064_T_A_41L.p1.4c.M.tif\n",
      "/Users/frederic.birwe/Library/CloudStorage/OneDrive-BertelsmannSE&Co.KGaA/Masterarbeit/20_data/613010/ps2400dpi150lpi/FC_FS23_S_ES0056_T_A_41L.p1.4c.C.tif\n",
      "/Users/frederic.birwe/Library/CloudStorage/OneDrive-BertelsmannSE&Co.KGaA/Masterarbeit/20_data/613010/ps2400dpi150lpi/FC_FS23_S_ES0108_T_A_41L.p1.4c.Y.tif\n",
      "/Users/frederic.birwe/Library/CloudStorage/OneDrive-BertelsmannSE&Co.KGaA/Masterarbeit/20_data/613010/ps2400dpi150lpi/FC_FS23_S_ES0082_T_D_Suffix_90_41L.p1.4c.C.tif\n",
      "/Users/frederic.birwe/Library/CloudStorage/OneDrive-BertelsmannSE&Co.KGaA/Masterarbeit/20_data/613010/ps2400dpi150lpi/FC_FS23_S_ES0035_T_A_41L.p1.4c.M.tif\n",
      "/Users/frederic.birwe/Library/CloudStorage/OneDrive-BertelsmannSE&Co.KGaA/Masterarbeit/20_data/613010/ps2400dpi150lpi/FC_FS23_S_ES0016_T_D_Suffix_90_41L.p1.4c.C.tif\n",
      "/Users/frederic.birwe/Library/CloudStorage/OneDrive-BertelsmannSE&Co.KGaA/Masterarbeit/20_data/613010/ps2400dpi150lpi/FC_FS23_S_ES0056_T_CH_41L.p1.4c.M.tif\n",
      "/Users/frederic.birwe/Library/CloudStorage/OneDrive-BertelsmannSE&Co.KGaA/Masterarbeit/20_data/613010/ps2400dpi150lpi/FC_FS23_S_ES0075_T_D_Suffix_90_41L.p1.4c.M.tif\n",
      "/Users/frederic.birwe/Library/CloudStorage/OneDrive-BertelsmannSE&Co.KGaA/Masterarbeit/20_data/613010/ps2400dpi150lpi/FC_FS23_S_ES0029_T_NL_41L.p1 2.4c.M.tif\n"
     ]
    },
    {
     "name": "stderr",
     "output_type": "stream",
     "text": [
      " 99%|█████████████████████████████████▋| 11355/11457 [00:38<00:00, 195.00it/s]"
     ]
    },
    {
     "name": "stdout",
     "output_type": "stream",
     "text": [
      "/Users/frederic.birwe/Library/CloudStorage/OneDrive-BertelsmannSE&Co.KGaA/Masterarbeit/20_data/613010/ps2400dpi150lpi/FC_FS23_S_ES0007_T_A_41L.p1.4c.C.tif\n",
      "/Users/frederic.birwe/Library/CloudStorage/OneDrive-BertelsmannSE&Co.KGaA/Masterarbeit/20_data/613010/ps2400dpi150lpi/FC_FS23_S_ES0003_T_NL_41L.p1.4c.C.tif\n",
      "/Users/frederic.birwe/Library/CloudStorage/OneDrive-BertelsmannSE&Co.KGaA/Masterarbeit/20_data/613010/ps2400dpi150lpi/FC_FS23_S_ES0008_T_D_Suffix_90_41L.p1.4c.C.tif\n",
      "/Users/frederic.birwe/Library/CloudStorage/OneDrive-BertelsmannSE&Co.KGaA/Masterarbeit/20_data/613010/ps2400dpi150lpi/FC_FS23_S_ES0064_T_CH_41L.p1.4c.Y.tif\n",
      "/Users/frederic.birwe/Library/CloudStorage/OneDrive-BertelsmannSE&Co.KGaA/Masterarbeit/20_data/613010/ps2400dpi150lpi/FC_FS23_S_ES0093_T_F_41L.p1.4c.Y.tif\n",
      "/Users/frederic.birwe/Library/CloudStorage/OneDrive-BertelsmannSE&Co.KGaA/Masterarbeit/20_data/613010/ps2400dpi150lpi/FC_FS23_S_ES0018_T_F_41L.p1.4c.C.tif\n",
      "/Users/frederic.birwe/Library/CloudStorage/OneDrive-BertelsmannSE&Co.KGaA/Masterarbeit/20_data/613010/ps2400dpi150lpi/FC_FS23_S_ES0089_T_NL_41L.p1.4c.C.tif\n",
      "/Users/frederic.birwe/Library/CloudStorage/OneDrive-BertelsmannSE&Co.KGaA/Masterarbeit/20_data/613010/ps2400dpi150lpi/FC_FS23_S_ES0044_T_WCH_41L.p1.4c.Y.tif\n",
      "/Users/frederic.birwe/Library/CloudStorage/OneDrive-BertelsmannSE&Co.KGaA/Masterarbeit/20_data/613010/ps2400dpi150lpi/FC_FS23_S_ES0007_T_NL_41L.p1 2.4c.C.tif\n",
      "/Users/frederic.birwe/Library/CloudStorage/OneDrive-BertelsmannSE&Co.KGaA/Masterarbeit/20_data/613010/ps2400dpi150lpi/FC_FS23_S_ES0006_T_D_41L.p1.4c.Y.tif\n",
      "/Users/frederic.birwe/Library/CloudStorage/OneDrive-BertelsmannSE&Co.KGaA/Masterarbeit/20_data/613010/ps2400dpi150lpi/FC_FS23_S_ES0082_T_WCH_41L.p1.4c.M.tif\n",
      "/Users/frederic.birwe/Library/CloudStorage/OneDrive-BertelsmannSE&Co.KGaA/Masterarbeit/20_data/613010/ps2400dpi150lpi/FC_FS23_S_ES0088_T_F_41L.p1.4c.M.tif\n",
      "/Users/frederic.birwe/Library/CloudStorage/OneDrive-BertelsmannSE&Co.KGaA/Masterarbeit/20_data/613010/ps2400dpi150lpi/FC_FS23_S_ES0060_T_F_41L.p1.4c.Y.tif\n",
      "/Users/frederic.birwe/Library/CloudStorage/OneDrive-BertelsmannSE&Co.KGaA/Masterarbeit/20_data/613010/ps2400dpi150lpi/FC_FS23_S_ES0100_T_D_Suffix_90_41L.p1.4c.M.tif\n",
      "/Users/frederic.birwe/Library/CloudStorage/OneDrive-BertelsmannSE&Co.KGaA/Masterarbeit/20_data/613010/ps2400dpi150lpi/FC_FS23_S_ES0080_T_NL_41L.p1.4c.M.tif\n",
      "/Users/frederic.birwe/Library/CloudStorage/OneDrive-BertelsmannSE&Co.KGaA/Masterarbeit/20_data/613010/ps2400dpi150lpi/FC_FS23_S_ES0107_T_CH_41L.p1.4c.C.tif\n",
      "/Users/frederic.birwe/Library/CloudStorage/OneDrive-BertelsmannSE&Co.KGaA/Masterarbeit/20_data/613010/ps2400dpi150lpi/FC_FS23_S_ES0109_T_D_41L.p1.4c.C.tif\n",
      "/Users/frederic.birwe/Library/CloudStorage/OneDrive-BertelsmannSE&Co.KGaA/Masterarbeit/20_data/613010/ps2400dpi150lpi/FC_FS23_S_ES0073_T_NL_41L.p1.4c.M.tif\n"
     ]
    },
    {
     "name": "stderr",
     "output_type": "stream",
     "text": [
      " 99%|█████████████████████████████████▊| 11397/11457 [00:39<00:00, 198.81it/s]"
     ]
    },
    {
     "name": "stdout",
     "output_type": "stream",
     "text": [
      "/Users/frederic.birwe/Library/CloudStorage/OneDrive-BertelsmannSE&Co.KGaA/Masterarbeit/20_data/613010/ps2400dpi150lpi/FC_FS23_S_ES0057_T_D_41L.p1.4c.Y.tif\n",
      "/Users/frederic.birwe/Library/CloudStorage/OneDrive-BertelsmannSE&Co.KGaA/Masterarbeit/20_data/613010/ps2400dpi150lpi/FC_FS23_S_ES0033_T_WCH_41L.p1.4c.C.tif\n",
      "/Users/frederic.birwe/Library/CloudStorage/OneDrive-BertelsmannSE&Co.KGaA/Masterarbeit/20_data/613010/ps2400dpi150lpi/FC_FS23_S_ES0067_T_CH_41L.p1.4c.C.tif\n",
      "/Users/frederic.birwe/Library/CloudStorage/OneDrive-BertelsmannSE&Co.KGaA/Masterarbeit/20_data/613010/ps2400dpi150lpi/FC_FS23_S_ES0025_T_WCH_41L.p1.4c.C.tif\n",
      "/Users/frederic.birwe/Library/CloudStorage/OneDrive-BertelsmannSE&Co.KGaA/Masterarbeit/20_data/613010/ps2400dpi150lpi/FC_FS23_S_ES0108_T_WCH_41L.p1 2.4c.M.tif\n",
      "/Users/frederic.birwe/Library/CloudStorage/OneDrive-BertelsmannSE&Co.KGaA/Masterarbeit/20_data/613010/ps2400dpi150lpi/FC_FS23_S_ES0028_T_F_41L.p1.4c.Y.tif\n",
      "/Users/frederic.birwe/Library/CloudStorage/OneDrive-BertelsmannSE&Co.KGaA/Masterarbeit/20_data/613010/ps2400dpi150lpi/FC_FS23_S_ES0111_T_D_Suffix_90_41L.p1.4c.Y.tif\n",
      "/Users/frederic.birwe/Library/CloudStorage/OneDrive-BertelsmannSE&Co.KGaA/Masterarbeit/20_data/613010/ps2400dpi150lpi/FC_FS23_S_ES0113_T_NL_41L.p1.4c.M.tif\n",
      "/Users/frederic.birwe/Library/CloudStorage/OneDrive-BertelsmannSE&Co.KGaA/Masterarbeit/20_data/613010/ps2400dpi150lpi/FC_FS23_S_ES0094_T_CH_41L.p1.4c.C.tif\n",
      "/Users/frederic.birwe/Library/CloudStorage/OneDrive-BertelsmannSE&Co.KGaA/Masterarbeit/20_data/613010/ps2400dpi150lpi/FC_FS23_S_ES0094_T_D_41L.p1.4c.C.tif\n",
      "/Users/frederic.birwe/Library/CloudStorage/OneDrive-BertelsmannSE&Co.KGaA/Masterarbeit/20_data/613010/ps2400dpi150lpi/FC_FS23_S_ES0091_T_F_41L.p1.4c.M.tif\n",
      "/Users/frederic.birwe/Library/CloudStorage/OneDrive-BertelsmannSE&Co.KGaA/Masterarbeit/20_data/613010/ps2400dpi150lpi/FC_FS23_S_ES0079_T_F_41L.p1.4c.Y.tif\n",
      "/Users/frederic.birwe/Library/CloudStorage/OneDrive-BertelsmannSE&Co.KGaA/Masterarbeit/20_data/613010/ps2400dpi150lpi/FC_FS23_S_ES0094_T_WCH_41L.p1.4c.M.tif\n",
      "/Users/frederic.birwe/Library/CloudStorage/OneDrive-BertelsmannSE&Co.KGaA/Masterarbeit/20_data/613010/ps2400dpi150lpi/FC_FS23_S_ES0110_T_D_41L.p1.4c.C.tif\n",
      "/Users/frederic.birwe/Library/CloudStorage/OneDrive-BertelsmannSE&Co.KGaA/Masterarbeit/20_data/613010/ps2400dpi150lpi/FC_FS23_S_ES0052_T_WCH_41L.p1.4c.Y.tif\n",
      "/Users/frederic.birwe/Library/CloudStorage/OneDrive-BertelsmannSE&Co.KGaA/Masterarbeit/20_data/613010/ps2400dpi150lpi/FC_FS23_S_ES0036_T_D_41L.p1.4c.C.tif\n",
      "/Users/frederic.birwe/Library/CloudStorage/OneDrive-BertelsmannSE&Co.KGaA/Masterarbeit/20_data/613010/ps2400dpi150lpi/FC_FS23_S_ES0033_T_F_41L.p1.4c.M.tif\n",
      "/Users/frederic.birwe/Library/CloudStorage/OneDrive-BertelsmannSE&Co.KGaA/Masterarbeit/20_data/613010/ps2400dpi150lpi/FC_FS23_S_ES0023_T_WCH_41L.p1 2.4c.M.tif\n",
      "/Users/frederic.birwe/Library/CloudStorage/OneDrive-BertelsmannSE&Co.KGaA/Masterarbeit/20_data/613010/ps2400dpi150lpi/FC_FS23_S_ES0109_T_F_41L.p1 2.4c.C.tif\n",
      "/Users/frederic.birwe/Library/CloudStorage/OneDrive-BertelsmannSE&Co.KGaA/Masterarbeit/20_data/613010/ps2400dpi150lpi/FC_FS23_S_ES0004_T_D_41L.p1.4c.M.tif\n",
      "/Users/frederic.birwe/Library/CloudStorage/OneDrive-BertelsmannSE&Co.KGaA/Masterarbeit/20_data/613010/ps2400dpi150lpi/FC_FS23_S_ES0093_T_WCH_41L.p1.4c.C.tif\n",
      "/Users/frederic.birwe/Library/CloudStorage/OneDrive-BertelsmannSE&Co.KGaA/Masterarbeit/20_data/613010/ps2400dpi150lpi/FC_FS23_S_ES0062_T_F_41L.p1.4c.M.tif\n",
      "/Users/frederic.birwe/Library/CloudStorage/OneDrive-BertelsmannSE&Co.KGaA/Masterarbeit/20_data/613010/ps2400dpi150lpi/FC_FS23_S_ES0067_T_D_41L.p1.4c.C.tif\n",
      "/Users/frederic.birwe/Library/CloudStorage/OneDrive-BertelsmannSE&Co.KGaA/Masterarbeit/20_data/613010/ps2400dpi150lpi/FC_FS23_S_ES0055_T_D_41L.p1.4c.M.tif\n"
     ]
    },
    {
     "name": "stderr",
     "output_type": "stream",
     "text": [
      "100%|██████████████████████████████████| 11457/11457 [00:39<00:00, 290.40it/s]"
     ]
    },
    {
     "name": "stdout",
     "output_type": "stream",
     "text": [
      "/Users/frederic.birwe/Library/CloudStorage/OneDrive-BertelsmannSE&Co.KGaA/Masterarbeit/20_data/613010/ps2400dpi150lpi/FC_FS23_S_ES0025_T_CH_41L.p1.4c.Y.tif\n",
      "/Users/frederic.birwe/Library/CloudStorage/OneDrive-BertelsmannSE&Co.KGaA/Masterarbeit/20_data/613010/ps2400dpi150lpi/FC_FS23_S_ES0102_T_CH_41L.p1 2.4c.C.tif\n",
      "/Users/frederic.birwe/Library/CloudStorage/OneDrive-BertelsmannSE&Co.KGaA/Masterarbeit/20_data/613010/ps2400dpi150lpi/FC_FS23_S_ES0042_T_NL_41L.p1.4c.C.tif\n",
      "/Users/frederic.birwe/Library/CloudStorage/OneDrive-BertelsmannSE&Co.KGaA/Masterarbeit/20_data/613010/ps2400dpi150lpi/FC_FS23_S_ES0064_T_D_Suffix_90_41L.p1.4c.Y.tif\n",
      "/Users/frederic.birwe/Library/CloudStorage/OneDrive-BertelsmannSE&Co.KGaA/Masterarbeit/20_data/613010/ps2400dpi150lpi/FC_FS23_S_ES0111_T_A_41L.p1.4c.Y.tif\n",
      "/Users/frederic.birwe/Library/CloudStorage/OneDrive-BertelsmannSE&Co.KGaA/Masterarbeit/20_data/613010/ps2400dpi150lpi/FC_FS23_S_ES0095_T_A_41L.p1.4c.Y.tif\n",
      "/Users/frederic.birwe/Library/CloudStorage/OneDrive-BertelsmannSE&Co.KGaA/Masterarbeit/20_data/613010/ps2400dpi150lpi/FC_FS23_S_ES0064_T_F_41L.p1 2.4c.C.tif\n",
      "/Users/frederic.birwe/Library/CloudStorage/OneDrive-BertelsmannSE&Co.KGaA/Masterarbeit/20_data/613010/ps2400dpi150lpi/FC_FS23_S_ES0066_T_A_41L.p1.4c.Y.tif\n",
      "/Users/frederic.birwe/Library/CloudStorage/OneDrive-BertelsmannSE&Co.KGaA/Masterarbeit/20_data/613010/ps2400dpi150lpi/FC_FS23_S_ES0023_T_NL_41L.p1 2.4c.M.tif\n",
      "/Users/frederic.birwe/Library/CloudStorage/OneDrive-BertelsmannSE&Co.KGaA/Masterarbeit/20_data/613010/ps2400dpi150lpi/FC_FS23_S_ES0032_T_NL_41L.p1.4c.M.tif\n",
      "/Users/frederic.birwe/Library/CloudStorage/OneDrive-BertelsmannSE&Co.KGaA/Masterarbeit/20_data/613010/ps2400dpi150lpi/FC_FS23_S_ES0037_T_A_41L.p1.4c.Y.tif\n",
      "/Users/frederic.birwe/Library/CloudStorage/OneDrive-BertelsmannSE&Co.KGaA/Masterarbeit/20_data/613010/ps2400dpi150lpi/FC_FS23_S_ES0021_T_D_Suffix_90_41L.p1.4c.Y.tif\n",
      "/Users/frederic.birwe/Library/CloudStorage/OneDrive-BertelsmannSE&Co.KGaA/Masterarbeit/20_data/613010/ps2400dpi150lpi/FC_FS23_S_ES0024_T_NL_41L.p1 2.4c.Y.tif\n"
     ]
    },
    {
     "name": "stderr",
     "output_type": "stream",
     "text": [
      "\n"
     ]
    }
   ],
   "source": [
    "for f in tqdm(relevant_files):\n",
    "    parts = re.match(r'(.+)\\.4c\\.(.+)',f.name.replace( f.suffix, '' )).groups()\n",
    "    new_filename = \".\".join(list(parts)) + f.suffix\n",
    "    out_path = f.parent / new_filename\n",
    "    check_paths = list(f.parent.parent.glob(f'./vps2400dpi*lpi/{ out_path.name.replace(out_path.suffix,\"\").replace(\"4c_600\",\"4c_300\") }*'))\n",
    "  \n",
    "    f.rename(out_path)\n",
    "\n",
    "    if len(check_paths) == 0:\n",
    "        print(f)"
   ]
  }
 ],
 "metadata": {
  "kernelspec": {
   "display_name": "Python 3 (ipykernel)",
   "language": "python",
   "name": "python3"
  },
  "language_info": {
   "codemirror_mode": {
    "name": "ipython",
    "version": 3
   },
   "file_extension": ".py",
   "mimetype": "text/x-python",
   "name": "python",
   "nbconvert_exporter": "python",
   "pygments_lexer": "ipython3",
   "version": "3.10.11"
  }
 },
 "nbformat": 4,
 "nbformat_minor": 5
}
