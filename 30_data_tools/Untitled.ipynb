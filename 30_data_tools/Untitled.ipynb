{
 "cells": [
  {
   "cell_type": "code",
   "execution_count": 1,
   "id": "8ceef9ca-992d-4b5f-85c3-eb2a984e89c5",
   "metadata": {},
   "outputs": [],
   "source": [
    "from helper import load_dotenv"
   ]
  },
  {
   "cell_type": "code",
   "execution_count": 11,
   "id": "2aa03966-75a3-484e-a5c6-973febb00a3b",
   "metadata": {},
   "outputs": [],
   "source": [
    "from pathlib import Path\n",
    "from collections import Counter\n",
    "import re"
   ]
  },
  {
   "cell_type": "code",
   "execution_count": 3,
   "id": "5d96da3b-6941-4d47-8611-9be9001ed884",
   "metadata": {},
   "outputs": [],
   "source": [
    "dotenv = load_dotenv()"
   ]
  },
  {
   "cell_type": "code",
   "execution_count": 8,
   "id": "55559516-1d1f-4d80-abed-e01e496cdc8b",
   "metadata": {},
   "outputs": [],
   "source": [
    "examples = list(dotenv['LABEL_STUDIO_DIR'].glob('./*.jpg'))"
   ]
  },
  {
   "cell_type": "code",
   "execution_count": 20,
   "id": "4e563240-4789-486b-bf64-fe9bb8e69def",
   "metadata": {},
   "outputs": [
    {
     "data": {
      "text/plain": [
       "Counter({'4c_300': 4055})"
      ]
     },
     "execution_count": 20,
     "metadata": {},
     "output_type": "execute_result"
    }
   ],
   "source": [
    "Counter(\n",
    "    [\n",
    "        re.match(r'.+(4c_\\d+)$', e.name.replace( e.suffix, '' )).groups()[0]\n",
    "        for e in examples\n",
    "    ]   \n",
    ")"
   ]
  }
 ],
 "metadata": {
  "kernelspec": {
   "display_name": "Python 3 (ipykernel)",
   "language": "python",
   "name": "python3"
  },
  "language_info": {
   "codemirror_mode": {
    "name": "ipython",
    "version": 3
   },
   "file_extension": ".py",
   "mimetype": "text/x-python",
   "name": "python",
   "nbconvert_exporter": "python",
   "pygments_lexer": "ipython3",
   "version": "3.10.11"
  }
 },
 "nbformat": 4,
 "nbformat_minor": 5
}
