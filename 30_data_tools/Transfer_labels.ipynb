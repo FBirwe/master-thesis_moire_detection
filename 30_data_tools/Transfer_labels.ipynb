{
 "cells": [
  {
   "cell_type": "code",
   "execution_count": 2,
   "id": "0ead7425-266c-4cef-a9b7-dca781c71c1e",
   "metadata": {},
   "outputs": [],
   "source": [
    "from get_labelstudio_data import get_results_of_project, get_tasks\n",
    "from helper import load_dotenv\n",
    "from azure.storage.blob import BlobClient, ContainerClient\n",
    "from datetime import datetime\n",
    "from PIL import Image\n",
    "import io\n",
    "import requests\n",
    "from tqdm.auto import tqdm"
   ]
  },
  {
   "cell_type": "code",
   "execution_count": 26,
   "id": "b7a084ee-d197-44c6-9e2d-9c7db4f9cf21",
   "metadata": {},
   "outputs": [],
   "source": [
    "from file_interaction import get_batch_files"
   ]
  },
  {
   "cell_type": "code",
   "execution_count": 29,
   "id": "3beea939-a1c2-4426-bbb0-224c03aca820",
   "metadata": {},
   "outputs": [],
   "source": [
    "missing_masks = pd.concat(\n",
    "    [pickle.loads( download_blob(bf).getbuffer() ) for bf in get_batch_files( batch_type='masks' )],\n",
    "    ignore_index=True\n",
    ")"
   ]
  },
  {
   "cell_type": "code",
   "execution_count": 30,
   "id": "ffff0a47-e8a2-4d15-9969-23687ac563f1",
   "metadata": {},
   "outputs": [
    {
     "data": {
      "text/html": [
       "<div>\n",
       "<style scoped>\n",
       "    .dataframe tbody tr th:only-of-type {\n",
       "        vertical-align: middle;\n",
       "    }\n",
       "\n",
       "    .dataframe tbody tr th {\n",
       "        vertical-align: top;\n",
       "    }\n",
       "\n",
       "    .dataframe thead th {\n",
       "        text-align: right;\n",
       "    }\n",
       "</style>\n",
       "<table border=\"1\" class=\"dataframe\">\n",
       "  <thead>\n",
       "    <tr style=\"text-align: right;\">\n",
       "      <th></th>\n",
       "      <th>filename</th>\n",
       "      <th>job</th>\n",
       "      <th>screen_ruling</th>\n",
       "      <th>import_timestamp</th>\n",
       "      <th>origin</th>\n",
       "      <th>file_available</th>\n",
       "    </tr>\n",
       "  </thead>\n",
       "  <tbody>\n",
       "    <tr>\n",
       "      <th>0</th>\n",
       "      <td>301297.F_Kalender_2013.p1</td>\n",
       "      <td>24-02-12_randomPages</td>\n",
       "      <td>NaN</td>\n",
       "      <td>2024-02-12 18:37:47.629565</td>\n",
       "      <td>None</td>\n",
       "      <td>False</td>\n",
       "    </tr>\n",
       "    <tr>\n",
       "      <th>1</th>\n",
       "      <td>147874.tg51_01-80_9783328300335_1.0_INH_Girod_...</td>\n",
       "      <td>24-02-12_randomPages</td>\n",
       "      <td>NaN</td>\n",
       "      <td>2024-02-12 18:37:47.629565</td>\n",
       "      <td>None</td>\n",
       "      <td>False</td>\n",
       "    </tr>\n",
       "    <tr>\n",
       "      <th>2</th>\n",
       "      <td>150104.tg39_huelsen_bildpreisliste_2024_image_...</td>\n",
       "      <td>24-02-12_randomPages</td>\n",
       "      <td>NaN</td>\n",
       "      <td>2024-02-12 18:37:47.629565</td>\n",
       "      <td>None</td>\n",
       "      <td>False</td>\n",
       "    </tr>\n",
       "    <tr>\n",
       "      <th>3</th>\n",
       "      <td>616350.tg39_pos1000_5347a_Flyer_RS_RZ.p1</td>\n",
       "      <td>24-02-12_randomPages</td>\n",
       "      <td>NaN</td>\n",
       "      <td>2024-02-12 18:37:47.629565</td>\n",
       "      <td>None</td>\n",
       "      <td>False</td>\n",
       "    </tr>\n",
       "    <tr>\n",
       "      <th>4</th>\n",
       "      <td>511155.tg42_441_tb_soest_2024_013_198_alpha.p124</td>\n",
       "      <td>24-02-12_randomPages</td>\n",
       "      <td>NaN</td>\n",
       "      <td>2024-02-12 18:37:47.629565</td>\n",
       "      <td>None</td>\n",
       "      <td>False</td>\n",
       "    </tr>\n",
       "    <tr>\n",
       "      <th>...</th>\n",
       "      <td>...</td>\n",
       "      <td>...</td>\n",
       "      <td>...</td>\n",
       "      <td>...</td>\n",
       "      <td>...</td>\n",
       "      <td>...</td>\n",
       "    </tr>\n",
       "    <tr>\n",
       "      <th>2049</th>\n",
       "      <td>510598.SportBild_XX_8_069_1.p1</td>\n",
       "      <td>24-03-05-01_randomTrainPages</td>\n",
       "      <td>NaN</td>\n",
       "      <td>2024-03-05 21:50:09.330758</td>\n",
       "      <td>None</td>\n",
       "      <td>False</td>\n",
       "    </tr>\n",
       "    <tr>\n",
       "      <th>2050</th>\n",
       "      <td>617141.tg40_2-28_Beilage_Weihnachten_2023_165x...</td>\n",
       "      <td>24-03-05-01_randomTrainPages</td>\n",
       "      <td>NaN</td>\n",
       "      <td>2024-03-05 21:50:09.330758</td>\n",
       "      <td>None</td>\n",
       "      <td>False</td>\n",
       "    </tr>\n",
       "    <tr>\n",
       "      <th>2051</th>\n",
       "      <td>510108.g41_ZM_2024_11_0002_V1.p1</td>\n",
       "      <td>24-03-05-01_randomTrainPages</td>\n",
       "      <td>NaN</td>\n",
       "      <td>2024-03-05 21:50:09.330758</td>\n",
       "      <td>None</td>\n",
       "      <td>False</td>\n",
       "    </tr>\n",
       "    <tr>\n",
       "      <th>2052</th>\n",
       "      <td>149645.IO43_gmg-konv43_9783064203778 Inhalt_S0...</td>\n",
       "      <td>24-03-05-01_randomTrainPages</td>\n",
       "      <td>NaN</td>\n",
       "      <td>2024-03-05 21:50:09.330758</td>\n",
       "      <td>None</td>\n",
       "      <td>False</td>\n",
       "    </tr>\n",
       "    <tr>\n",
       "      <th>2053</th>\n",
       "      <td>124260.IO_122-135_KiKue.p1</td>\n",
       "      <td>24-03-05-01_randomTrainPages</td>\n",
       "      <td>NaN</td>\n",
       "      <td>2024-03-06 19:30:47.775627</td>\n",
       "      <td>None</td>\n",
       "      <td>False</td>\n",
       "    </tr>\n",
       "  </tbody>\n",
       "</table>\n",
       "<p>2054 rows × 6 columns</p>\n",
       "</div>"
      ],
      "text/plain": [
       "                                               filename  \\\n",
       "0                             301297.F_Kalender_2013.p1   \n",
       "1     147874.tg51_01-80_9783328300335_1.0_INH_Girod_...   \n",
       "2     150104.tg39_huelsen_bildpreisliste_2024_image_...   \n",
       "3              616350.tg39_pos1000_5347a_Flyer_RS_RZ.p1   \n",
       "4      511155.tg42_441_tb_soest_2024_013_198_alpha.p124   \n",
       "...                                                 ...   \n",
       "2049                     510598.SportBild_XX_8_069_1.p1   \n",
       "2050  617141.tg40_2-28_Beilage_Weihnachten_2023_165x...   \n",
       "2051                   510108.g41_ZM_2024_11_0002_V1.p1   \n",
       "2052  149645.IO43_gmg-konv43_9783064203778 Inhalt_S0...   \n",
       "2053                         124260.IO_122-135_KiKue.p1   \n",
       "\n",
       "                               job  screen_ruling            import_timestamp  \\\n",
       "0             24-02-12_randomPages            NaN  2024-02-12 18:37:47.629565   \n",
       "1             24-02-12_randomPages            NaN  2024-02-12 18:37:47.629565   \n",
       "2             24-02-12_randomPages            NaN  2024-02-12 18:37:47.629565   \n",
       "3             24-02-12_randomPages            NaN  2024-02-12 18:37:47.629565   \n",
       "4             24-02-12_randomPages            NaN  2024-02-12 18:37:47.629565   \n",
       "...                            ...            ...                         ...   \n",
       "2049  24-03-05-01_randomTrainPages            NaN  2024-03-05 21:50:09.330758   \n",
       "2050  24-03-05-01_randomTrainPages            NaN  2024-03-05 21:50:09.330758   \n",
       "2051  24-03-05-01_randomTrainPages            NaN  2024-03-05 21:50:09.330758   \n",
       "2052  24-03-05-01_randomTrainPages            NaN  2024-03-05 21:50:09.330758   \n",
       "2053  24-03-05-01_randomTrainPages            NaN  2024-03-06 19:30:47.775627   \n",
       "\n",
       "     origin  file_available  \n",
       "0      None           False  \n",
       "1      None           False  \n",
       "2      None           False  \n",
       "3      None           False  \n",
       "4      None           False  \n",
       "...     ...             ...  \n",
       "2049   None           False  \n",
       "2050   None           False  \n",
       "2051   None           False  \n",
       "2052   None           False  \n",
       "2053   None           False  \n",
       "\n",
       "[2054 rows x 6 columns]"
      ]
     },
     "execution_count": 30,
     "metadata": {},
     "output_type": "execute_result"
    }
   ],
   "source": [
    "missing_masks"
   ]
  },
  {
   "cell_type": "code",
   "execution_count": 3,
   "id": "606974e5-2f39-4f15-9645-f7b1f15862af",
   "metadata": {},
   "outputs": [],
   "source": [
    "dotenv = load_dotenv()"
   ]
  },
  {
   "cell_type": "code",
   "execution_count": null,
   "id": "3e20eef3-6472-41f5-b5b5-ca39911541ce",
   "metadata": {},
   "outputs": [],
   "source": [
    "def create_annotation( target_task, results ):\n",
    "    with Image.open( download_blob(target_task['data_path']) ) as img:\n",
    "        img_size = img.size\n",
    "     \n",
    "    headers = {'Authorization': f'Token { dotenv[\"LABEL_STUDIO_TOKEN\"] }'}\n",
    "    json_data = {\n",
    "        \"completed_by\": 1,\n",
    "        \"result\": [\n",
    "            {\n",
    "                \"original_width\": img_size[0],\n",
    "                \"original_height\": img_size[1],\n",
    "                \"image_rotation\": 0,\n",
    "                \"value\": {\n",
    "                    \"x\": r['value']['x'] / img_size[0] * 100,\n",
    "                    \"y\": r['value']['y'] / img_size[1] * 100,\n",
    "                    \"width\": r['value']['width'] / img_size[0] * 100,\n",
    "                    \"height\": r['value']['height'] / img_size[1] * 100,\n",
    "                    \"rotation\": 0,\n",
    "                    \"rectanglelabels\": r['rectanglelabels']\n",
    "                },\n",
    "                \"from_name\": \"label\",\n",
    "                \"to_name\": \"image\",\n",
    "                \"type\": \"rectanglelabels\",\n",
    "                \"origin\": \"manual\"\n",
    "            }\n",
    "            for r in results\n",
    "        ],\n",
    "        \"was_cancelled\": False,\n",
    "        \"ground_truth\": False,\n",
    "        \"draft_created_at\": datetime.now().isoformat(),\n",
    "        \"task\": target_task[\"id\"],\n",
    "        \"project\": target_task[\"project_id\"],\n",
    "        \"updated_by\": 1,\n",
    "        \"parent_prediction\": None,\n",
    "        \"parent_annotation\": None\n",
    "    }\n",
    "\n",
    "    requests.post(\n",
    "        f'http://localhost:8080/api/tasks/{ target_task[\"id\"] }/annotations/',\n",
    "        headers=headers,\n",
    "        json=json_data\n",
    "    )"
   ]
  },
  {
   "cell_type": "code",
   "execution_count": null,
   "id": "465f7f08-2647-4576-9c65-61570187418c",
   "metadata": {},
   "outputs": [],
   "source": [
    "def upload_blob( filepath, prefix_path ):\n",
    "    blob = BlobClient.from_connection_string(conn_str=dotenv['AZURE_CONNECTION_STRING'], container_name=dotenv['AZURE_CONTAINER_NAME'], blob_name=f\"{ prefix_path }{ filepath.name }\")\n",
    "\n",
    "    with filepath.open(\"rb\") as data:\n",
    "         blob.upload_blob(\n",
    "             data,\n",
    "             connection_timeout=600\n",
    "         )"
   ]
  },
  {
   "cell_type": "code",
   "execution_count": null,
   "id": "d87d7513-595c-45df-bf15-a2087524883f",
   "metadata": {},
   "outputs": [],
   "source": [
    "def download_blob( blob_name ):\n",
    "    blob = BlobClient.from_connection_string(conn_str=dotenv['AZURE_CONNECTION_STRING'], container_name=dotenv['AZURE_CONTAINER_NAME'], blob_name=blob_name)\n",
    "    stream = io.BytesIO()\n",
    "\n",
    "    blob.download_blob().readinto(stream)\n",
    "    return stream"
   ]
  },
  {
   "cell_type": "code",
   "execution_count": null,
   "id": "f27e866e-2527-4dd7-915d-b9e6881b8c4a",
   "metadata": {},
   "outputs": [],
   "source": [
    "#Image.open(download_blob(relevant_blobs[505]))"
   ]
  },
  {
   "cell_type": "code",
   "execution_count": null,
   "id": "9c59225e-ae37-41d5-af16-72b12c51281d",
   "metadata": {},
   "outputs": [],
   "source": [
    "relevant_blobs = get_blobs(filter='labelstudio_moire_data/')\n",
    "results = get_results_of_project(1)\n",
    "tasks = get_tasks(1)\n",
    "for t in tasks:\n",
    "    t['img_name'] = t['data_path'].split('/')[-1]\n",
    "\n",
    "results_by_img = {}\n",
    "\n",
    "for r in results:\n",
    "    if r['img_name'] not in results_by_img:\n",
    "        results_by_img[r['img_name']] = {\n",
    "            'local' : [],\n",
    "            'azure' : []\n",
    "        }\n",
    "\n",
    "    results_by_img[r['img_name']][r['storage_type']].append(r)\n",
    "\n",
    "for key in results_by_img:\n",
    "    relevant_results = []\n",
    "\n",
    "    if len(results_by_img[key]['azure']) == 0:\n",
    "        relevant_results += results_by_img[key]['local']\n",
    "    elif len(results_by_img[key]['local']) > len(results_by_img[key]['azure']):\n",
    "        relevant_results += results_by_img[key]['local']\n",
    "\n",
    "    results_by_img[key]['relevant_results'] = relevant_results"
   ]
  },
  {
   "cell_type": "code",
   "execution_count": null,
   "id": "2e23744d-d35b-43ab-8ef7-ab5d108ffb6d",
   "metadata": {},
   "outputs": [],
   "source": [
    "from file_interaction import get_related_filepath, get_blobs"
   ]
  },
  {
   "cell_type": "code",
   "execution_count": null,
   "id": "a9fd8ed9-be8d-469a-a86e-a36e9a815139",
   "metadata": {},
   "outputs": [],
   "source": [
    "from helper import load_dotenv"
   ]
  },
  {
   "cell_type": "code",
   "execution_count": null,
   "id": "659c687a-74f1-4a83-95c8-7a242fb74dc0",
   "metadata": {},
   "outputs": [],
   "source": [
    "0 / 0"
   ]
  },
  {
   "cell_type": "code",
   "execution_count": null,
   "id": "869cea35-59ea-41e8-8e2b-07e37aab79da",
   "metadata": {},
   "outputs": [],
   "source": [
    "all_files = get_blobs( filter=\"data/\")"
   ]
  },
  {
   "cell_type": "code",
   "execution_count": null,
   "id": "48ac632e-16fd-44fb-9244-9f0b77054ea9",
   "metadata": {},
   "outputs": [],
   "source": [
    "len(get_blobs( filter=\"data/148903/vps2400dpi150lpi/\"))"
   ]
  },
  {
   "cell_type": "code",
   "execution_count": null,
   "id": "99036fb5-fd31-43d2-a2fe-ab90fe0cdebf",
   "metadata": {},
   "outputs": [],
   "source": [
    "len(get_blobs( filter=\"data/148903/ps2400dpi150lpi/\"))"
   ]
  },
  {
   "cell_type": "code",
   "execution_count": null,
   "id": "c0d87c20-e96a-4111-822d-aee7fe4a2666",
   "metadata": {},
   "outputs": [],
   "source": [
    "Image.open(download_blob(get_blobs( filter=\"data/148903/vps2400dpi150lpi/449.4c_300\")[0]))"
   ]
  },
  {
   "cell_type": "code",
   "execution_count": null,
   "id": "b2e93405-a7e6-4d7b-99fe-65ae5dee3d41",
   "metadata": {},
   "outputs": [],
   "source": [
    "Image.open(download_blob(get_blobs( filter=\"data/148903/ps2400dpi150lpi/449.4c_600\")[0]))"
   ]
  },
  {
   "cell_type": "code",
   "execution_count": null,
   "id": "085dc866-4de1-492f-ad82-71523e20e3f2",
   "metadata": {},
   "outputs": [],
   "source": [
    "get_blobs( filter=\"data/148903/ps2400dpi150lpi/449.4c_600\")"
   ]
  },
  {
   "cell_type": "code",
   "execution_count": null,
   "id": "977360fb-004c-449b-b023-cd10e8eabd00",
   "metadata": {},
   "outputs": [],
   "source": [
    "processed_keys = []\n",
    "relevant_keys = [key for key in results_by_img if len(results_by_img[key]['relevant_results']) > 0]\n",
    "\n",
    "for key in tqdm(relevant_keys):\n",
    "    relevant_tasks = [t for t in tasks if t['img_name'] == key and t['storage_type'] == 'azure']\n",
    "\n",
    "    if len(relevant_tasks) > 0 and len(results_by_img[key]['relevant_results']) > 0:\n",
    "        processed_keys.append(key)\n",
    "        create_annotation( relevant_tasks[0], results_by_img[key]['relevant_results'] )\n",
    "\n",
    "        if len(processed_keys) > 100:\n",
    "            break"
   ]
  },
  {
   "cell_type": "code",
   "execution_count": null,
   "id": "40842910-2b30-4db7-8a4d-95aab2eb6243",
   "metadata": {},
   "outputs": [],
   "source": [
    "processed_keys"
   ]
  },
  {
   "cell_type": "markdown",
   "id": "42c4fc75-545b-43b4-bd25-3e26b266f6df",
   "metadata": {},
   "source": [
    "# Datenbank updaten"
   ]
  },
  {
   "cell_type": "code",
   "execution_count": null,
   "id": "66533d95-f344-4e54-9f48-655edc0b60de",
   "metadata": {},
   "outputs": [],
   "source": [
    "import sqlite3"
   ]
  },
  {
   "cell_type": "code",
   "execution_count": null,
   "id": "a2145e78-4a91-4261-a4a0-576ce011e8d2",
   "metadata": {},
   "outputs": [],
   "source": [
    "con = sqlite3.connect(dotenv['DB_PATH'])"
   ]
  },
  {
   "cell_type": "code",
   "execution_count": null,
   "id": "2fc360f7-8580-4c2a-9b06-0f9b3acff6c4",
   "metadata": {},
   "outputs": [],
   "source": [
    "results = get_results_of_project(2)"
   ]
  },
  {
   "cell_type": "code",
   "execution_count": null,
   "id": "894fc4da-1423-4d9d-8f0d-eb8699d7496b",
   "metadata": {},
   "outputs": [],
   "source": [
    "local_results = [r for r in results if r['storage_type'] == 'local']\n",
    "azure_results = [r for r in results if r['storage_type'] == 'azure']"
   ]
  },
  {
   "cell_type": "code",
   "execution_count": null,
   "id": "1e7b0d28-2aa7-4bc4-a162-511674c8ccc3",
   "metadata": {},
   "outputs": [],
   "source": [
    "r = local_results[i]\n",
    "matching_azure_results = [\n",
    "    ra for ra in azure_results if (\n",
    "    ra['img_name'] == r['img_name'] and\n",
    "    ra['value']['x'] == r['value']['x'] and\n",
    "    ra['value']['y'] == r['value']['y'] and\n",
    "    ra['value']['width'] == r['value']['width'] and\n",
    "    ra['value']['height'] == r['value']['height']\n",
    ")]"
   ]
  },
  {
   "cell_type": "code",
   "execution_count": null,
   "id": "b7e88758-9c1c-4266-b06e-0e868a4ae042",
   "metadata": {},
   "outputs": [],
   "source": [
    "r['id'], matching_azure_results[0]"
   ]
  },
  {
   "cell_type": "code",
   "execution_count": null,
   "id": "f3d165ba-65ec-4aa1-90e2-fe84d6750b92",
   "metadata": {},
   "outputs": [],
   "source": [
    "for i in range(len(local_results)):\n",
    "    r = local_results[i]\n",
    "\n",
    "    if len([ra for ra in azure_results if ra['img_name'] == r['img_name']]):\n",
    "        print(i)\n",
    "        break"
   ]
  },
  {
   "cell_type": "code",
   "execution_count": null,
   "id": "8a45d702-3605-413d-a79f-5bf626bc16c7",
   "metadata": {},
   "outputs": [],
   "source": []
  },
  {
   "cell_type": "code",
   "execution_count": null,
   "id": "0fa0a5ab-6b66-4d37-87a2-072ad60f1c2c",
   "metadata": {},
   "outputs": [],
   "source": [
    "r"
   ]
  }
 ],
 "metadata": {
  "kernelspec": {
   "display_name": "Python 3 (ipykernel)",
   "language": "python",
   "name": "python3"
  },
  "language_info": {
   "codemirror_mode": {
    "name": "ipython",
    "version": 3
   },
   "file_extension": ".py",
   "mimetype": "text/x-python",
   "name": "python",
   "nbconvert_exporter": "python",
   "pygments_lexer": "ipython3",
   "version": "3.10.11"
  }
 },
 "nbformat": 4,
 "nbformat_minor": 5
}
