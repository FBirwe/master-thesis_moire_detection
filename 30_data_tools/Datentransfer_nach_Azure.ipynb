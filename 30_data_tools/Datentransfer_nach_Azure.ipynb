{
 "cells": [
  {
   "cell_type": "code",
   "execution_count": 1,
   "id": "1d0d2605-848b-4de0-ba19-fdbaf5e8d1e4",
   "metadata": {},
   "outputs": [],
   "source": [
    "from file_interaction import get_blobs"
   ]
  },
  {
   "cell_type": "code",
   "execution_count": 2,
   "id": "46c8a330-4fbc-4a36-85ef-fb4554cb2d2b",
   "metadata": {},
   "outputs": [],
   "source": [
    "from datetime import datetime, timedelta\n",
    "from azure.storage.blob import BlobClient, ContainerClient\n",
    "from pathlib import Path\n",
    "import logging\n",
    "from helper import load_dotenv\n",
    "from tqdm.auto import tqdm\n",
    "import random"
   ]
  },
  {
   "cell_type": "code",
   "execution_count": 3,
   "id": "9d488c5b-a09c-4e58-96c7-3f566af6d407",
   "metadata": {},
   "outputs": [],
   "source": [
    "dotenv = load_dotenv()"
   ]
  },
  {
   "cell_type": "code",
   "execution_count": 4,
   "id": "7c3c6b81-596c-42ce-9b37-f9adfeaea65b",
   "metadata": {},
   "outputs": [],
   "source": [
    "def get_completed_directories( files, available_blobs ):\n",
    "    directory_entries = {}\n",
    "\n",
    "    for f in files:\n",
    "        if f[1] not in directory_entries:\n",
    "            directory_entries[f[1]] = {\n",
    "                'files' : 0,\n",
    "                'azure' : 0\n",
    "            }\n",
    "    \n",
    "        directory_entries[f[1]]['files'] += 1\n",
    "    \n",
    "    for ab in available_blobs:\n",
    "        prefix = '/'.join(ab.split('/')[:-1]) + '/'\n",
    "    \n",
    "        if prefix not in directory_entries:\n",
    "            directory_entries[prefix] = {\n",
    "                'files' : 0,\n",
    "                'azure' : 0\n",
    "            }\n",
    "    \n",
    "        directory_entries[prefix]['azure'] += 1\n",
    "\n",
    "    all_entries = list(directory_entries.keys())\n",
    "    repeat_processing = True\n",
    "    \n",
    "    while repeat_processing:\n",
    "        length_before = len(all_entries)\n",
    "        all_entries = list(set(\n",
    "            all_entries + [\"/\".join(entry.split('/')[:-2]) + \"/\" for entry in all_entries]\n",
    "        ))\n",
    "        length_after = len(all_entries)\n",
    "        \n",
    "        if length_before == length_after:\n",
    "            repeat_processing = False\n",
    "    \n",
    "    completed_directories = { key : False for key in all_entries }\n",
    "    \n",
    "    for key in directory_entries:\n",
    "        completed_directories[key] = directory_entries[key]['files'] == directory_entries[key]['azure']\n",
    "    \n",
    "    dict_changed = True\n",
    "    \n",
    "    while dict_changed:\n",
    "        dict_changed = False\n",
    "        \n",
    "        for key in completed_directories:\n",
    "            if completed_directories[key] == False:\n",
    "                relevant_keys = [dir_path for dir_path in completed_directories if key in dir_path and key != dir_path]\n",
    "                \n",
    "                if len(relevant_keys) > 0 and False not in [completed_directories[rk] for rk in relevant_keys]:\n",
    "                    completed_directories[key] = True\n",
    "                    dict_changed = True\n",
    "    \n",
    "    return sorted([key for key in completed_directories if completed_directories[key] == True])"
   ]
  },
  {
   "cell_type": "code",
   "execution_count": 5,
   "id": "9a526344-7374-4f85-9484-94c359ad0c69",
   "metadata": {},
   "outputs": [],
   "source": [
    "def get_blobs( filter=None ):\n",
    "    container = ContainerClient.from_connection_string(conn_str=connection_string, container_name=container_name)\n",
    "    \n",
    "    if filter:\n",
    "        return list(container.list_blob_names( name_starts_with=filter ))\n",
    "\n",
    "    return list(container.list_blob_names())"
   ]
  },
  {
   "cell_type": "code",
   "execution_count": 6,
   "id": "86f5958d-30f6-482f-bb3d-d70a3f190937",
   "metadata": {},
   "outputs": [],
   "source": [
    "def download_blob( filepath, blob_name ):\n",
    "    pass"
   ]
  },
  {
   "cell_type": "code",
   "execution_count": 7,
   "id": "e83c9ba3-7658-410a-a756-862028462dac",
   "metadata": {},
   "outputs": [],
   "source": [
    "def upload_blob( filepath, prefix_path ):\n",
    "    blob = BlobClient.from_connection_string(conn_str=connection_string, container_name=container_name, blob_name=f\"{ prefix_path }{ filepath.name }\")\n",
    "\n",
    "    with filepath.open(\"rb\") as data:\n",
    "         blob.upload_blob(\n",
    "             data,\n",
    "             connection_timeout=600\n",
    "         )"
   ]
  },
  {
   "cell_type": "code",
   "execution_count": 8,
   "id": "f3647a96-b2cb-4beb-8280-82ff4ff1d282",
   "metadata": {},
   "outputs": [],
   "source": [
    "connection_string = f'DefaultEndpointsProtocol=https;AccountName={ dotenv[\"AZURE_ACCOUNT_NAME\"] };AccountKey={ dotenv[\"AZURE_ACCOUNT_KEY\"] };EndpointSuffix=core.windows.net'\n",
    "container_name = dotenv['AZURE_CONTAINER_NAME']"
   ]
  },
  {
   "cell_type": "code",
   "execution_count": 9,
   "id": "87142d9b-0046-46ce-8512-a7125c755c72",
   "metadata": {},
   "outputs": [],
   "source": [
    "BASE_DIRS = [\n",
    "    Path('/Users/frederic.birwe/Desktop/azure_transfer/'),\n",
    "    #Path('/Volumes/MAT-Share/Technologie_Entwicklung/aktuell/__frederic/masterarbeit/')\n",
    "]"
   ]
  },
  {
   "cell_type": "code",
   "execution_count": 10,
   "id": "3d1ea5c6-899f-4627-862f-58f263eede45",
   "metadata": {},
   "outputs": [],
   "source": [
    "def transform_filepath( f ):\n",
    "    out = str(f)\n",
    "\n",
    "    for bdir in BASE_DIRS:\n",
    "        out = out.replace(str(bdir) + '/', '')\n",
    "\n",
    "    return out.replace(f.name,'')"
   ]
  },
  {
   "cell_type": "code",
   "execution_count": 11,
   "id": "e996ac0d-d66e-4b76-9e1b-c0ab9662bce3",
   "metadata": {},
   "outputs": [
    {
     "name": "stdout",
     "output_type": "stream",
     "text": [
      "azure_transfer\n"
     ]
    },
    {
     "data": {
      "application/vnd.jupyter.widget-view+json": {
       "model_id": "f0f88d27be4842bd9ec117a19e220213",
       "version_major": 2,
       "version_minor": 0
      },
      "text/plain": [
       "0it [00:00, ?it/s]"
      ]
     },
     "metadata": {},
     "output_type": "display_data"
    },
    {
     "data": {
      "application/vnd.jupyter.widget-view+json": {
       "model_id": "2e07175d13a040b29cf3a45566c8fcfa",
       "version_major": 2,
       "version_minor": 0
      },
      "text/plain": [
       "0it [00:00, ?it/s]"
      ]
     },
     "metadata": {},
     "output_type": "display_data"
    },
    {
     "data": {
      "application/vnd.jupyter.widget-view+json": {
       "model_id": "f4edcf24d15a4da28135bd3942b12511",
       "version_major": 2,
       "version_minor": 0
      },
      "text/plain": [
       "0it [00:00, ?it/s]"
      ]
     },
     "metadata": {},
     "output_type": "display_data"
    },
    {
     "data": {
      "application/vnd.jupyter.widget-view+json": {
       "model_id": "053aaa2d257548a8970f120f711bbb3c",
       "version_major": 2,
       "version_minor": 0
      },
      "text/plain": [
       "0it [00:00, ?it/s]"
      ]
     },
     "metadata": {},
     "output_type": "display_data"
    }
   ],
   "source": [
    "files = []\n",
    "for bdir in BASE_DIRS:\n",
    "    print(bdir.name)\n",
    "\n",
    "    for dir_entry in bdir.iterdir():\n",
    "        if dir_entry.is_dir() and dir_entry.name != 'temp':\n",
    "            for f in tqdm(dir_entry.glob('./**/*')) :\n",
    "                if f.is_dir() == False and f.name.startswith('.') == False:\n",
    "                    files.append(f)\n",
    "\n",
    "files = [\n",
    "    (f, transform_filepath(f), f.name)\n",
    "    for f in files\n",
    "]"
   ]
  },
  {
   "cell_type": "code",
   "execution_count": 12,
   "id": "d823e9b8-1f00-49c6-aa20-15d580dd3196",
   "metadata": {},
   "outputs": [],
   "source": [
    "available_blobs = get_blobs()\n",
    "files_to_upload = [f for f in files if f[1]+f[2] not in available_blobs]\n",
    "#random.shuffle(files_to_upload)"
   ]
  },
  {
   "cell_type": "code",
   "execution_count": 13,
   "id": "cce05702-833f-4853-a366-21f288ff2b82",
   "metadata": {},
   "outputs": [
    {
     "data": {
      "text/plain": [
       "['data/141607/halftone600dpi/',\n",
       " 'data/145175/',\n",
       " 'data/145175/halftone600dpi/',\n",
       " 'data/145175/pdf/',\n",
       " 'data/145175/ps2400dpi150lpi/',\n",
       " 'data/145175/vps2400dpi150lpi/',\n",
       " 'data/23-10-03_Testformen/',\n",
       " 'data/23-10-03_Testformen/halftone600dpi/',\n",
       " 'data/23-10-03_Testformen/pdf/',\n",
       " 'data/23-10-03_Testformen/ps2400dpi150lpi/',\n",
       " 'data/23-10-03_Testformen/vps2400dpi150lpi/',\n",
       " 'data/23-10-18_farbe/',\n",
       " 'data/23-10-18_farbe/halftone600dpi/',\n",
       " 'data/23-10-18_farbe/pdf/',\n",
       " 'data/23-10-18_farbe/ps2400dpi150lpi/',\n",
       " 'data/23-10-18_farbe/vps2400dpi150lpi/',\n",
       " 'data/23-10-19_farbe/',\n",
       " 'data/23-10-19_farbe/halftone600dpi/',\n",
       " 'data/23-10-19_farbe/pdf/',\n",
       " 'data/23-10-19_farbe/ps2400dpi150lpi/',\n",
       " 'data/23-10-19_farbe/vps2400dpi150lpi/',\n",
       " 'data/24-01-02_randomPages/',\n",
       " 'data/24-01-02_randomPages/halftone600dpi/',\n",
       " 'data/24-01-02_randomPages/pdf/',\n",
       " 'data/24-01-02_randomPages/ps2400dpi150lpi/',\n",
       " 'data/24-01-02_randomPages/vps2400dpi175lpi/',\n",
       " 'data/508001/halftone600dpi/',\n",
       " 'data/508001/pdf/',\n",
       " 'data/508001/ps2400dpi150lpi/',\n",
       " 'data/508266/ps2400dpi150lpi/',\n",
       " 'data/510190/pdf/',\n",
       " 'data/606603/halftone600dpi/',\n",
       " 'data/606603/ps2400dpi150lpi/',\n",
       " 'data/606688/ps2400dpi150lpi/',\n",
       " 'data/612862/',\n",
       " 'data/612862/halftone600dpi/',\n",
       " 'data/612862/pdf/',\n",
       " 'data/612862/ps2400dpi150lpi/',\n",
       " 'data/613010/',\n",
       " 'data/613010/halftone600dpi/',\n",
       " 'data/613010/pdf/',\n",
       " 'data/613010/ps2400dpi150lpi/',\n",
       " 'data/613010/vps2400dpi150lpi/',\n",
       " 'data/613223/',\n",
       " 'data/613223/halftone600dpi/',\n",
       " 'data/613223/pdf/',\n",
       " 'data/613223/ps2400dpi150lpi/',\n",
       " 'data/613223/vps2400dpi150lpi/',\n",
       " 'data/613233/',\n",
       " 'data/613233/halftone600dpi/',\n",
       " 'data/613233/pdf/',\n",
       " 'data/613233/ps2400dpi150lpi/',\n",
       " 'data/613233/vps2400dpi150lpi/',\n",
       " 'data/613256/',\n",
       " 'data/613256/halftone600dpi/',\n",
       " 'data/613256/pdf/',\n",
       " 'data/613256/ps2400dpi150lpi/',\n",
       " 'data/613256/vps2400dpi150lpi/',\n",
       " 'data/613476/',\n",
       " 'data/613476/halftone600dpi/',\n",
       " 'data/613476/pdf/',\n",
       " 'data/613476/ps2400dpi150lpi/',\n",
       " 'data/613476/vps2400dpi150lpi/',\n",
       " 'data/613781/',\n",
       " 'data/613781/halftone600dpi/',\n",
       " 'data/613781/pdf/',\n",
       " 'data/613781/ps2400dpi150lpi/',\n",
       " 'data/613781/vps2400dpi150lpi/',\n",
       " 'data/613845/',\n",
       " 'data/613845/halftone600dpi/',\n",
       " 'data/613845/pdf/',\n",
       " 'data/613845/ps2400dpi150lpi/',\n",
       " 'data/613845/vps2400dpi150lpi/',\n",
       " 'data/615297/',\n",
       " 'data/615297/halftone600dpi/',\n",
       " 'data/615297/pdf/',\n",
       " 'data/615297/ps2400dpi150lpi/',\n",
       " 'data/615297/vps2400dpi150lpi/',\n",
       " 'data/615311/',\n",
       " 'data/615311/halftone600dpi/',\n",
       " 'data/615311/pdf/',\n",
       " 'data/615311/ps2400dpi150lpi/',\n",
       " 'data/615311/vps2400dpi150lpi/',\n",
       " 'data/615311/vps2400dpi175lpi/',\n",
       " 'data/615459/',\n",
       " 'data/615459/halftone600dpi/',\n",
       " 'data/615459/pdf/',\n",
       " 'data/615459/ps2400dpi150lpi/',\n",
       " 'data/615459/vps2400dpi150lpi/',\n",
       " 'data/615459/vps2400dpi175lpi/',\n",
       " 'data/616333/',\n",
       " 'data/616333/halftone600dpi/',\n",
       " 'data/616333/pdf/',\n",
       " 'data/616333/ps2400dpi150lpi/',\n",
       " 'data/616333/vps2400dpi175lpi/',\n",
       " 'data/616457/',\n",
       " 'data/616457/halftone600dpi/',\n",
       " 'data/616457/pdf/',\n",
       " 'data/616457/ps2400dpi150lpi/',\n",
       " 'data/616457/vps2400dpi150lpi/',\n",
       " 'data/616466/',\n",
       " 'data/616466/halftone600dpi/',\n",
       " 'data/616466/pdf/',\n",
       " 'data/616466/ps2400dpi150lpi/',\n",
       " 'data/616466/vps2400dpi150lpi/',\n",
       " 'data/617654/pdf/',\n",
       " 'generic_data/',\n",
       " 'labelstudio_generic_data/']"
      ]
     },
     "execution_count": 13,
     "metadata": {},
     "output_type": "execute_result"
    }
   ],
   "source": [
    "get_completed_directories( files, available_blobs )"
   ]
  },
  {
   "cell_type": "code",
   "execution_count": 14,
   "id": "38da81c9-2b84-4577-a8b5-8d14a4473956",
   "metadata": {},
   "outputs": [
    {
     "data": {
      "text/plain": [
       "'51414/51414, 100.0%'"
      ]
     },
     "execution_count": 14,
     "metadata": {},
     "output_type": "execute_result"
    }
   ],
   "source": [
    "f'{ (len(files) - len(files_to_upload)) }/{ len(files) }, { ((len(files) - len(files_to_upload)) / len(files)) * 100 }%'"
   ]
  },
  {
   "cell_type": "code",
   "execution_count": 15,
   "id": "66391a43-2c51-43ca-802c-e63443e0e126",
   "metadata": {},
   "outputs": [
    {
     "ename": "ZeroDivisionError",
     "evalue": "division by zero",
     "output_type": "error",
     "traceback": [
      "\u001b[0;31m---------------------------------------------------------------------------\u001b[0m",
      "\u001b[0;31mZeroDivisionError\u001b[0m                         Traceback (most recent call last)",
      "Cell \u001b[0;32mIn[15], line 1\u001b[0m\n\u001b[0;32m----> 1\u001b[0m \u001b[38;5;241;43m0\u001b[39;49m\u001b[43m \u001b[49m\u001b[38;5;241;43m/\u001b[39;49m\u001b[43m \u001b[49m\u001b[38;5;241;43m0\u001b[39;49m\n",
      "\u001b[0;31mZeroDivisionError\u001b[0m: division by zero"
     ]
    }
   ],
   "source": [
    "0 / 0"
   ]
  },
  {
   "cell_type": "code",
   "execution_count": null,
   "id": "b4aa7ff1-f7c7-4a6b-801a-019ae2f02720",
   "metadata": {},
   "outputs": [],
   "source": [
    "for f,prefix,filename in tqdm(files_to_upload):\n",
    "    upload_blob( f, prefix )"
   ]
  },
  {
   "cell_type": "code",
   "execution_count": 28,
   "id": "8e37a048-4a67-4ceb-b9bf-d53a6f17497c",
   "metadata": {},
   "outputs": [],
   "source": [
    "data_dir = dotenv['DATA_DIRS'][0]\n",
    "\n",
    "data_dirs = [entry for entry in data_dir.iterdir() if entry.is_dir()]"
   ]
  },
  {
   "cell_type": "code",
   "execution_count": 29,
   "id": "3d417851-1abd-4ee7-9149-ee04ae4557d0",
   "metadata": {},
   "outputs": [
    {
     "name": "stdout",
     "output_type": "stream",
     "text": [
      "00_to_sort True 0 0\n",
      "23-10-19_farbe True 3152 3152\n",
      "24-01-02_randomPages True 1147 1147\n",
      "23-10-18_farbe True 12896 12896\n",
      "23-10-03_Testformen True 315 315\n"
     ]
    }
   ],
   "source": [
    "for dd in data_dirs:\n",
    "    blobs = get_blobs(f'data/{ dd.name }')\n",
    "    entries = [entry for entry in dd.glob('./**/*') if entry.is_dir() == False and entry.name.startswith('.') == False]\n",
    "    ready_for_deletion = False not in [str(entry).replace(str(data_dir.parent) + '/','') in blobs for entry in entries]\n",
    "\n",
    "    print( dd.name, ready_for_deletion, len(blobs), len(entries) )"
   ]
  }
 ],
 "metadata": {
  "kernelspec": {
   "display_name": "Python 3 (ipykernel)",
   "language": "python",
   "name": "python3"
  },
  "language_info": {
   "codemirror_mode": {
    "name": "ipython",
    "version": 3
   },
   "file_extension": ".py",
   "mimetype": "text/x-python",
   "name": "python",
   "nbconvert_exporter": "python",
   "pygments_lexer": "ipython3",
   "version": "3.10.11"
  }
 },
 "nbformat": 4,
 "nbformat_minor": 5
}
