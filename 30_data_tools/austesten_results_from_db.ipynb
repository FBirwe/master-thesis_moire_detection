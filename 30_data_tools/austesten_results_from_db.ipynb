{
 "cells": [
  {
   "cell_type": "code",
   "execution_count": 3,
   "id": "6d65df8f-a37d-4901-9597-ff30c3609143",
   "metadata": {},
   "outputs": [],
   "source": [
    "import pandas as pd\n",
    "import sqlite3\n",
    "import json\n",
    "from pathlib import Path\n",
    "\n",
    "from helper import load_dotenv\n",
    "from get_labelstudio_data import get_moires_of_project, get_tasks, get_results_of_project"
   ]
  },
  {
   "cell_type": "code",
   "execution_count": 5,
   "id": "fbceecd9-3a33-421b-b755-32ae962ffc9f",
   "metadata": {},
   "outputs": [],
   "source": [
    "config = load_dotenv()"
   ]
  },
  {
   "cell_type": "code",
   "execution_count": null,
   "id": "d02b1e9a-1c3b-4e83-9874-c402af7a7032",
   "metadata": {},
   "outputs": [],
   "source": [
    "config"
   ]
  },
  {
   "cell_type": "code",
   "execution_count": null,
   "id": "03a64dbd-6a8c-4bff-990a-90504236de89",
   "metadata": {},
   "outputs": [],
   "source": [
    "moires = get_moires_of_project( config[\"LABEL_STUDIO_PROJECT_ID\"], config[\"LABEL_STUDIO_TOKEN\"] )"
   ]
  },
  {
   "cell_type": "code",
   "execution_count": null,
   "id": "4d1eb287-eccf-4f60-ae16-36fa8d8faf76",
   "metadata": {},
   "outputs": [],
   "source": [
    "len(moires)"
   ]
  },
  {
   "cell_type": "code",
   "execution_count": null,
   "id": "6b577703-6fc2-4a28-a619-d8996f1d44c4",
   "metadata": {},
   "outputs": [],
   "source": [
    "con = sqlite3.connect( config[\"LABEL_STUDIO_DB_PATH\"] )"
   ]
  },
  {
   "cell_type": "code",
   "execution_count": null,
   "id": "724dd65c-47b9-407c-a6ba-c7782dc8d2ef",
   "metadata": {},
   "outputs": [],
   "source": [
    "def get_results_of_project( project_id ):\n",
    "    # tasks by id\n",
    "    tasks = get_tasks( config[\"LABEL_STUDIO_PROJECT_ID\"] )\n",
    "\n",
    "    tasks_by_id = {}\n",
    "    \n",
    "    for t in tasks:\n",
    "        tasks_by_id[t['id']] = Path(t['data_path']).name\n",
    "\n",
    "    # results\n",
    "    c = con.cursor()\n",
    "    c.execute(\n",
    "        f\"\"\"\n",
    "            SELECT task_id,result FROM task_completion\n",
    "            WHERE result != \"[]\" AND task_id IN ({ ','.join([str(t['id']) for t in tasks]) })\n",
    "        \"\"\"\n",
    "    )\n",
    "    rows = c.fetchall()\n",
    "    c.close()\n",
    "    \n",
    "    results = []\n",
    "\n",
    "    for r in rows:\n",
    "        task_id = int(r[0])\n",
    "        res_task = json.loads(r[1])\n",
    "\n",
    "        for res in res_task:\n",
    "            res['task_id'] = task_id\n",
    "            res['img_name'] = tasks_by_id[task_id]\n",
    "            results.append(res)\n",
    "\n",
    "    return results"
   ]
  },
  {
   "cell_type": "code",
   "execution_count": 14,
   "id": "ba733c46-3d7c-4549-b54e-b4815093e83e",
   "metadata": {},
   "outputs": [],
   "source": [
    "m1 = get_results_of_project( config[\"LABEL_STUDIO_PROJECT_ID\"], labels=['potential_moire'] )"
   ]
  },
  {
   "cell_type": "code",
   "execution_count": 15,
   "id": "04a72798-4dcc-42dc-a252-d0a7cf951450",
   "metadata": {},
   "outputs": [
    {
     "data": {
      "text/plain": [
       "11"
      ]
     },
     "execution_count": 15,
     "metadata": {},
     "output_type": "execute_result"
    }
   ],
   "source": [
    "len(m1)"
   ]
  },
  {
   "cell_type": "code",
   "execution_count": null,
   "id": "3daa45c2-f2eb-46f4-9565-d5e1ca80679b",
   "metadata": {},
   "outputs": [],
   "source": [
    "assert len(m1) == len(moires)"
   ]
  },
  {
   "cell_type": "code",
   "execution_count": null,
   "id": "c21b5af1-fdbf-42a9-b950-a3b2c1434dd7",
   "metadata": {},
   "outputs": [],
   "source": [
    "for i in range(len(m1)):\n",
    "    assert m1[i] == moires[i], f'position {i} not equal'"
   ]
  }
 ],
 "metadata": {
  "kernelspec": {
   "display_name": "Python 3 (ipykernel)",
   "language": "python",
   "name": "python3"
  },
  "language_info": {
   "codemirror_mode": {
    "name": "ipython",
    "version": 3
   },
   "file_extension": ".py",
   "mimetype": "text/x-python",
   "name": "python",
   "nbconvert_exporter": "python",
   "pygments_lexer": "ipython3",
   "version": "3.10.11"
  }
 },
 "nbformat": 4,
 "nbformat_minor": 5
}
