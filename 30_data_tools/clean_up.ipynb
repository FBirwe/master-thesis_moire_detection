{
 "cells": [
  {
   "cell_type": "code",
   "execution_count": 1,
   "id": "ba833e38",
   "metadata": {},
   "outputs": [],
   "source": [
    "from pathlib import Path\n",
    "import sqlite3\n",
    "from helper import load_dotenv\n",
    "import re\n",
    "from tqdm import tqdm"
   ]
  },
  {
   "cell_type": "code",
   "execution_count": 2,
   "id": "d863f348",
   "metadata": {},
   "outputs": [],
   "source": [
    "config = load_dotenv()"
   ]
  },
  {
   "cell_type": "code",
   "execution_count": 3,
   "id": "2a8beebb",
   "metadata": {},
   "outputs": [
    {
     "data": {
      "text/plain": [
       "{'DATA_DIR': PosixPath('/Users/frederic.birwe/Library/CloudStorage/OneDrive-BertelsmannSE&Co.KGaA/Masterarbeit/20_data'),\n",
       " 'GENERIC_DATA_DIR': PosixPath('/Users/frederic.birwe/Library/CloudStorage/OneDrive-BertelsmannSE&Co.KGaA/Masterarbeit/21_generic_data'),\n",
       " 'SORT_DIR': PosixPath('/Users/frederic.birwe/Library/CloudStorage/OneDrive-BertelsmannSE&Co.KGaA/Masterarbeit/20_data/00_to_sort'),\n",
       " 'DB_PATH': PosixPath('/Users/frederic.birwe/Library/CloudStorage/OneDrive-BertelsmannSE&Co.KGaA/Masterarbeit/10_db/moire_testdata.db'),\n",
       " 'LABELING_JSON_PATH': PosixPath('/Users/frederic.birwe/Library/CloudStorage/OneDrive-BertelsmannSE&Co.KGaA/Masterarbeit/11_annotation_data'),\n",
       " 'MODEL_DIR': PosixPath('/Users/frederic.birwe/Library/CloudStorage/OneDrive-BertelsmannSE&Co.KGaA/Masterarbeit/22_andere_daten/models'),\n",
       " 'PATTERN_DIR': PosixPath('/Users/frederic.birwe/Library/CloudStorage/OneDrive-BertelsmannSE&Co.KGaA/Masterarbeit/22_andere_daten/patterns'),\n",
       " 'LOFI_DPI': 600,\n",
       " 'LOFI_SCREEN_DPI': 300,\n",
       " 'TRAIN_DATA_DPI': 300,\n",
       " 'LABEL_STUDIO_TOKEN': 'ab33ce91bcddbbd2d66ecc8ed0a4ce6327680873',\n",
       " 'LABEL_STUDIO_PROJECT_ID': '1',\n",
       " 'LABEL_STUDIO_DIR': PosixPath('/Users/frederic.birwe/Library/CloudStorage/OneDrive-BertelsmannSE&Co.KGaA/Masterarbeit/20_data/10_labelstudio_data'),\n",
       " 'LABEL_STUDIO_DB_PATH': PosixPath('/Users/frederic.birwe/Library/Application Support/label-studio/label_studio.sqlite3'),\n",
       " 'TESSDATA_PREFIX': '/Users/frederic.birwe/Documents/homebrew/Cellar/tesseract/5.3.3/share/tessdata',\n",
       " 'GENERIC_GENERATED_DATA_DIR': PosixPath('/Users/frederic.birwe/Library/CloudStorage/OneDrive-BertelsmannSE&Co.KGaA/Masterarbeit/21_generic_data/01_generated_data'),\n",
       " 'GENERIC_INFORMATION_DATA_DIR': PosixPath('/Users/frederic.birwe/Library/CloudStorage/OneDrive-BertelsmannSE&Co.KGaA/Masterarbeit/21_generic_data/02_information_data'),\n",
       " 'GENERIC_LABELSTUDIO_DATA_DIR': PosixPath('/Users/frederic.birwe/Library/CloudStorage/OneDrive-BertelsmannSE&Co.KGaA/Masterarbeit/20_data/11_labelstudio_generic_data')}"
      ]
     },
     "execution_count": 3,
     "metadata": {},
     "output_type": "execute_result"
    }
   ],
   "source": [
    "config"
   ]
  },
  {
   "cell_type": "markdown",
   "id": "895780a4",
   "metadata": {},
   "source": [
    "# Clean Up Files"
   ]
  },
  {
   "cell_type": "code",
   "execution_count": null,
   "id": "e1d4b8e5",
   "metadata": {},
   "outputs": [],
   "source": [
    "files = [\n",
    "    f for f in config['DATA_DIR'].glob('./**/*')\n",
    "    if f.is_file() and f.name != '.DS_Store' and f.parent.name != 'pdf'\n",
    "]"
   ]
  },
  {
   "cell_type": "code",
   "execution_count": null,
   "id": "78666b84",
   "metadata": {},
   "outputs": [],
   "source": [
    "for f in tqdm(files):\n",
    "    res = re.match(r'(.+\\.p\\d+)\\.p1(.+)', f.name)\n",
    "    \n",
    "    if res:\n",
    "        new_file_name = f.parent / f'{res.groups()[0]}{res.groups()[1]}'\n",
    "        f.rename( new_file_name )"
   ]
  },
  {
   "cell_type": "markdown",
   "id": "780cfd87",
   "metadata": {},
   "source": [
    "# Clean Up DB"
   ]
  },
  {
   "cell_type": "code",
   "execution_count": 4,
   "id": "88adb50a",
   "metadata": {},
   "outputs": [],
   "source": [
    "con = sqlite3.connect( config['DB_PATH'] )"
   ]
  },
  {
   "cell_type": "markdown",
   "id": "334c0c71",
   "metadata": {},
   "source": [
    "## Clean Up PDF Pages"
   ]
  },
  {
   "cell_type": "code",
   "execution_count": 5,
   "id": "9bb4a454",
   "metadata": {},
   "outputs": [],
   "source": [
    "c = con.cursor()\n",
    "c.execute('SELECT * FROM pdf_page')\n",
    "pdf_pages = c.fetchall()\n",
    "c.close()"
   ]
  },
  {
   "cell_type": "code",
   "execution_count": 6,
   "id": "0513a9be",
   "metadata": {},
   "outputs": [],
   "source": [
    "unused_rows = []\n",
    "\n",
    "for p in pdf_pages:\n",
    "    pdf_path = config['DATA_DIR'] / p[1] / 'pdf' / f'{ p[0] }.pdf'\n",
    "    \n",
    "    if pdf_path.exists() == False:\n",
    "        unused_rows.append(p)"
   ]
  },
  {
   "cell_type": "code",
   "execution_count": 8,
   "id": "02f07c39",
   "metadata": {},
   "outputs": [],
   "source": [
    "c = con.cursor()\n",
    "for p in unused_rows:\n",
    "    c.execute(f'''\n",
    "        DELETE FROM pdf_page\n",
    "        WHERE filename=\"{ p[0] }\" AND job=\"{ p[1] }\"\n",
    "    ''')\n",
    "    \n",
    "c.close()\n",
    "con.commit()"
   ]
  },
  {
   "cell_type": "markdown",
   "id": "9bf656f6",
   "metadata": {},
   "source": [
    "## Clean Up related_file"
   ]
  },
  {
   "cell_type": "code",
   "execution_count": 9,
   "id": "cbfa0320",
   "metadata": {},
   "outputs": [],
   "source": [
    "c = con.cursor()\n",
    "c.execute('''\n",
    "    SELECT rf.*, ifnull(pp.pdf_exists, 0) AS pdf_exists FROM related_file rf\n",
    "    LEFT JOIN (\n",
    "        SELECT filename, 1 AS pdf_exists \n",
    "        FROM pdf_page pp \n",
    "    ) pp\n",
    "    ON rf.pdf_filename = pp.filename \n",
    "''')\n",
    "related_files = c.fetchall()\n",
    "c.close()"
   ]
  },
  {
   "cell_type": "code",
   "execution_count": 10,
   "id": "ac9b4928",
   "metadata": {},
   "outputs": [],
   "source": [
    "file_not_available = []\n",
    "\n",
    "for rf in related_files:\n",
    "    rf_path = config['DATA_DIR'] / str(rf[2]) / rf[0] / rf[4]\n",
    "    \n",
    "    if rf_path.exists() == False:\n",
    "        file_not_available.append(rf)"
   ]
  },
  {
   "cell_type": "code",
   "execution_count": 12,
   "id": "2377a4c8",
   "metadata": {},
   "outputs": [],
   "source": [
    "c = con.cursor()\n",
    "for rf in file_not_available:\n",
    "    c.execute(f'''\n",
    "        DELETE FROM related_file\n",
    "        WHERE variant_name=\"{ rf[0] }\" AND pdf_filename=\"{ rf[1] }\" AND job=\"{ rf[2] }\"\n",
    "    ''')\n",
    "    \n",
    "c.close()\n",
    "con.commit()"
   ]
  },
  {
   "cell_type": "code",
   "execution_count": 13,
   "id": "94b25697",
   "metadata": {},
   "outputs": [],
   "source": [
    "pdf_not_available = [\n",
    "    rf for rf in related_files\n",
    "    if rf[5] == 0\n",
    "]"
   ]
  },
  {
   "cell_type": "code",
   "execution_count": 14,
   "id": "686c62c8",
   "metadata": {},
   "outputs": [],
   "source": [
    "c = con.cursor()\n",
    "for rf in pdf_not_available:\n",
    "    c.execute(f'''\n",
    "        DELETE FROM related_file\n",
    "        WHERE variant_name=\"{ rf[0] }\" AND pdf_filename=\"{ rf[1] }\" AND job=\"{ rf[2] }\"\n",
    "    ''')\n",
    "    \n",
    "c.close()\n",
    "con.commit()"
   ]
  }
 ],
 "metadata": {
  "kernelspec": {
   "display_name": "Python 3 (ipykernel)",
   "language": "python",
   "name": "python3"
  },
  "language_info": {
   "codemirror_mode": {
    "name": "ipython",
    "version": 3
   },
   "file_extension": ".py",
   "mimetype": "text/x-python",
   "name": "python",
   "nbconvert_exporter": "python",
   "pygments_lexer": "ipython3",
   "version": "3.10.11"
  }
 },
 "nbformat": 4,
 "nbformat_minor": 5
}
